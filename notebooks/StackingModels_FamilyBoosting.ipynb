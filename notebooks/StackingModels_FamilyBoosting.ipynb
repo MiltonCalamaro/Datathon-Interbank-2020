{
 "cells": [
  {
   "cell_type": "code",
   "execution_count": 1,
   "id": "nearby-massage",
   "metadata": {},
   "outputs": [],
   "source": [
    "import os\n",
    "import pandas as pd\n",
    "import numpy as np\n",
    "import matplotlib.pyplot as plt\n",
    "# import warnings\n",
    "# warnings.filterwarnings('ignore')"
   ]
  },
  {
   "cell_type": "code",
   "execution_count": 2,
   "id": "engaging-travel",
   "metadata": {},
   "outputs": [],
   "source": [
    "from sklearn.model_selection import cross_validate\n",
    "from sklearn.model_selection import learning_curve\n",
    "def cross_validate_learning_rate(estimator, x_train, y_train, cv = 5, scoring = 'roc_auc', return_train_score = True):\n",
    "    results = cross_validate(estimator,\n",
    "                            x_train,\n",
    "                            y_train,\n",
    "                            cv = cv,\n",
    "                            scoring=scoring,\n",
    "                            return_train_score = return_train_score ) \n",
    "    train_scores = results['train_score']\n",
    "    test_scores = results['test_score']\n",
    "    print(\"train_scores: {}\".format(np.mean(train_scores)))\n",
    "    print(\"test_scores: {}\".format(np.mean(test_scores)))\n",
    "\n",
    "    lc = learning_curve(estimator, \n",
    "                        x_train, \n",
    "                        y_train, \n",
    "                        cv=cv, \n",
    "                        scoring=scoring)\n",
    "    samples, train, test = lc[0],lc[1],lc[2]\n",
    "    plt.plot(samples, np.mean(train, axis=1))\n",
    "    plt.plot(samples, np.mean(test, axis=1))"
   ]
  },
  {
   "cell_type": "code",
   "execution_count": 3,
   "id": "dental-prefix",
   "metadata": {},
   "outputs": [],
   "source": [
    "from sklearn.model_selection import GridSearchCV\n",
    "def grid_search_param(X, y,nfolds, param_grid, model_sklearn, scoring = 'roc_auc'):\n",
    "    grid_search = GridSearchCV(model_sklearn, param_grid, cv=nfolds, return_train_score=True, scoring=scoring)\n",
    "    grid_search.fit(X, y)\n",
    "    return grid_search"
   ]
  },
  {
   "cell_type": "code",
   "execution_count": 4,
   "id": "proper-neighbor",
   "metadata": {},
   "outputs": [],
   "source": [
    "path = '../data'\n",
    "y_train = pd.read_csv(f'{path}/y_train.csv', index_col = 'key_value')"
   ]
  },
  {
   "cell_type": "code",
   "execution_count": 5,
   "id": "abroad-cylinder",
   "metadata": {},
   "outputs": [],
   "source": [
    "list_train_probs = []\n",
    "list_train_probs.append(pd.read_pickle('train_probs_lightgbm.pkl'))\n",
    "list_train_probs.append(pd.read_pickle('train_probs_catboost.pkl'))\n",
    "list_train_probs.append(pd.read_pickle('train_probs_gbc.pkl'))\n",
    "list_train_probs.append(pd.read_pickle('train_probs_lightgbm_cf.pkl'))\n",
    "# list_train_probs.append(pd.read_pickle('train_probs_lr.pkl'))\n",
    "list_train_probs.append(pd.read_pickle('train_probs_rf.pkl'))\n",
    "train = pd.concat(list_train_probs, axis=1)\n",
    "train.columns = ['probs_lightgbm', 'probs_catboost', 'probs_gbc', 'probs_lightgbm_cf', 'probs_rf']"
   ]
  },
  {
   "cell_type": "code",
   "execution_count": 6,
   "id": "executive-product",
   "metadata": {
    "scrolled": false
   },
   "outputs": [],
   "source": [
    "list_test_probs = []\n",
    "list_test_probs.append(pd.read_pickle('test_probs_lightgbm.pkl'))\n",
    "list_test_probs.append(pd.read_pickle('test_probs_catboost.pkl'))\n",
    "list_test_probs.append(pd.read_pickle('test_probs_gbc.pkl'))\n",
    "list_test_probs.append(pd.read_pickle('test_probs_lightgbm_cf.pkl'))\n",
    "# list_test_probs.append(pd.read_pickle('test_probs_lr.pkl'))\n",
    "list_test_probs.append(pd.read_pickle('test_probs_rf.pkl'))\n",
    "test = pd.concat(list_test_probs, axis=1)\n",
    "test.columns  = ['probs_lightgbm', 'probs_catboost', 'probs_gbc', 'probs_lightgbm_cf', 'probs_rf']"
   ]
  },
  {
   "cell_type": "code",
   "execution_count": 7,
   "id": "married-mileage",
   "metadata": {},
   "outputs": [],
   "source": [
    "# keep_columns = ['probs_lightgbm', 'probs_lightgbm_cf','probs_catboost', 'probs_gbc']\n",
    "keep_columns = ['probs_lightgbm', 'probs_lightgbm_cf', 'probs_gbc']\n",
    "train = train[keep_columns]\n",
    "test = test[keep_columns]"
   ]
  },
  {
   "cell_type": "code",
   "execution_count": 8,
   "id": "orange-plastic",
   "metadata": {
    "scrolled": true
   },
   "outputs": [
    {
     "data": {
      "text/html": [
       "<div>\n",
       "<style scoped>\n",
       "    .dataframe tbody tr th:only-of-type {\n",
       "        vertical-align: middle;\n",
       "    }\n",
       "\n",
       "    .dataframe tbody tr th {\n",
       "        vertical-align: top;\n",
       "    }\n",
       "\n",
       "    .dataframe thead th {\n",
       "        text-align: right;\n",
       "    }\n",
       "</style>\n",
       "<table border=\"1\" class=\"dataframe\">\n",
       "  <thead>\n",
       "    <tr style=\"text-align: right;\">\n",
       "      <th></th>\n",
       "      <th>probs_lightgbm</th>\n",
       "      <th>probs_lightgbm_cf</th>\n",
       "      <th>probs_gbc</th>\n",
       "    </tr>\n",
       "  </thead>\n",
       "  <tbody>\n",
       "    <tr>\n",
       "      <th>probs_lightgbm</th>\n",
       "      <td>1.000000</td>\n",
       "      <td>0.982945</td>\n",
       "      <td>0.949030</td>\n",
       "    </tr>\n",
       "    <tr>\n",
       "      <th>probs_lightgbm_cf</th>\n",
       "      <td>0.982945</td>\n",
       "      <td>1.000000</td>\n",
       "      <td>0.946052</td>\n",
       "    </tr>\n",
       "    <tr>\n",
       "      <th>probs_gbc</th>\n",
       "      <td>0.949030</td>\n",
       "      <td>0.946052</td>\n",
       "      <td>1.000000</td>\n",
       "    </tr>\n",
       "  </tbody>\n",
       "</table>\n",
       "</div>"
      ],
      "text/plain": [
       "                   probs_lightgbm  probs_lightgbm_cf  probs_gbc\n",
       "probs_lightgbm           1.000000           0.982945   0.949030\n",
       "probs_lightgbm_cf        0.982945           1.000000   0.946052\n",
       "probs_gbc                0.949030           0.946052   1.000000"
      ]
     },
     "execution_count": 8,
     "metadata": {},
     "output_type": "execute_result"
    }
   ],
   "source": [
    "train.corr()"
   ]
  },
  {
   "cell_type": "code",
   "execution_count": 9,
   "id": "fuzzy-haven",
   "metadata": {},
   "outputs": [
    {
     "data": {
      "text/html": [
       "<div>\n",
       "<style scoped>\n",
       "    .dataframe tbody tr th:only-of-type {\n",
       "        vertical-align: middle;\n",
       "    }\n",
       "\n",
       "    .dataframe tbody tr th {\n",
       "        vertical-align: top;\n",
       "    }\n",
       "\n",
       "    .dataframe thead th {\n",
       "        text-align: right;\n",
       "    }\n",
       "</style>\n",
       "<table border=\"1\" class=\"dataframe\">\n",
       "  <thead>\n",
       "    <tr style=\"text-align: right;\">\n",
       "      <th></th>\n",
       "      <th>probs_lightgbm</th>\n",
       "      <th>probs_lightgbm_cf</th>\n",
       "      <th>probs_gbc</th>\n",
       "    </tr>\n",
       "  </thead>\n",
       "  <tbody>\n",
       "    <tr>\n",
       "      <th>probs_lightgbm</th>\n",
       "      <td>1.000000</td>\n",
       "      <td>0.992691</td>\n",
       "      <td>0.972856</td>\n",
       "    </tr>\n",
       "    <tr>\n",
       "      <th>probs_lightgbm_cf</th>\n",
       "      <td>0.992691</td>\n",
       "      <td>1.000000</td>\n",
       "      <td>0.971039</td>\n",
       "    </tr>\n",
       "    <tr>\n",
       "      <th>probs_gbc</th>\n",
       "      <td>0.972856</td>\n",
       "      <td>0.971039</td>\n",
       "      <td>1.000000</td>\n",
       "    </tr>\n",
       "  </tbody>\n",
       "</table>\n",
       "</div>"
      ],
      "text/plain": [
       "                   probs_lightgbm  probs_lightgbm_cf  probs_gbc\n",
       "probs_lightgbm           1.000000           0.992691   0.972856\n",
       "probs_lightgbm_cf        0.992691           1.000000   0.971039\n",
       "probs_gbc                0.972856           0.971039   1.000000"
      ]
     },
     "execution_count": 9,
     "metadata": {},
     "output_type": "execute_result"
    }
   ],
   "source": [
    "test.corr()"
   ]
  },
  {
   "cell_type": "code",
   "execution_count": 10,
   "id": "automatic-spanish",
   "metadata": {
    "scrolled": true
   },
   "outputs": [
    {
     "data": {
      "image/png": "[encoded data removed]",
      "text/plain": [
       "<Figure size 432x288 with 1 Axes>"
      ]
     },
     "metadata": {
      "needs_background": "light"
     },
     "output_type": "display_data"
    }
   ],
   "source": [
    "plt.hist(np.std(train.values, axis=1));"
   ]
  },
  {
   "cell_type": "markdown",
   "id": "superior-welding",
   "metadata": {},
   "source": [
    "### Entrenando el modelo final"
   ]
  },
  {
   "cell_type": "code",
   "execution_count": 11,
   "id": "floating-rings",
   "metadata": {},
   "outputs": [
    {
     "name": "stdout",
     "output_type": "stream",
     "text": [
      "train_scores: 0.8548033944986309\n",
      "test_scores: 0.854759582575209\n"
     ]
    },
    {
     "data": {
      "image/png": "[encoded data removed]",
      "text/plain": [
       "<Figure size 432x288 with 1 Axes>"
      ]
     },
     "metadata": {
      "needs_background": "light"
     },
     "output_type": "display_data"
    }
   ],
   "source": [
    "from sklearn.linear_model import LogisticRegression\n",
    "### definir los parametros a tunear\n",
    "train = train\n",
    "Cs = [0.1, 0.3, 0.8, 0.9, 1.0]\n",
    "# https://neurtu.readthedocs.io/examples/logistic_regression_scaling.html\n",
    "solvers = ['lbfgs','saga','newton-cg','sag'] # newton-cg, sag, lbfgs, liblinear, saga\n",
    "param_grid = {'C': Cs,'solver':solvers}\n",
    "### encontrando los hiper_parámetros\n",
    "fitting=grid_search_param(train, y_train.target, 5,param_grid, LogisticRegression(penalty=\"l2\", tol=0.0001, random_state=42), scoring='roc_auc')\n",
    "### instanciar el estimador\n",
    "estimator = fitting.best_estimator_\n",
    "#     print(estimator)\n",
    "### aplicar cross_validate y learning_rate \n",
    "cross_validate_learning_rate(estimator, train, y_train.target, scoring='roc_auc')"
   ]
  },
  {
   "cell_type": "code",
   "execution_count": 12,
   "id": "monthly-gardening",
   "metadata": {
    "scrolled": true
   },
   "outputs": [
    {
     "name": "stdout",
     "output_type": "stream",
     "text": [
      "LogisticRegression(C=0.3, class_weight=None, dual=False, fit_intercept=True,\n",
      "                   intercept_scaling=1, l1_ratio=None, max_iter=100,\n",
      "                   multi_class='auto', n_jobs=None, penalty='l2',\n",
      "                   random_state=42, solver='newton-cg', tol=0.0001, verbose=0,\n",
      "                   warm_start=False)\n"
     ]
    }
   ],
   "source": [
    "print(estimator)"
   ]
  },
  {
   "cell_type": "code",
   "execution_count": 13,
   "id": "alpha-barrier",
   "metadata": {},
   "outputs": [
    {
     "data": {
      "text/plain": [
       "array([[ 4.10014634,  2.62920487, -0.14486534]])"
      ]
     },
     "execution_count": 13,
     "metadata": {},
     "output_type": "execute_result"
    }
   ],
   "source": [
    "estimator.coef_"
   ]
  },
  {
   "cell_type": "code",
   "execution_count": 14,
   "id": "coastal-nation",
   "metadata": {
    "scrolled": true
   },
   "outputs": [
    {
     "data": {
      "text/plain": [
       "key_value\n",
       "0         0.045273\n",
       "1         0.060139\n",
       "2         0.053343\n",
       "3         0.584437\n",
       "4         0.104742\n",
       "            ...   \n",
       "396661    0.068148\n",
       "396662    0.163139\n",
       "396663    0.188631\n",
       "396664    0.058015\n",
       "396665    0.053967\n",
       "Name: target, Length: 396666, dtype: float64"
      ]
     },
     "execution_count": 14,
     "metadata": {},
     "output_type": "execute_result"
    }
   ],
   "source": [
    "test_stacking = pd.Series(estimator.predict_proba(test)[:,-1], index=test.index, name = 'target')\n",
    "test_stacking"
   ]
  },
  {
   "cell_type": "code",
   "execution_count": 15,
   "id": "liberal-microwave",
   "metadata": {},
   "outputs": [],
   "source": [
    "# test_stacking.to_csv(\"../results/stacking_4models_LGBM2_GBC_0.85475.csv\")  ### score de 0.85704  en la tabla publica\n",
    "# test_stacking.to_csv(\"../results/stacking_4models_LGBM2_CB_GBC_0.85520.csv\")  ### score de *****  en la tabla publica\n",
    "# test_stacking.to_csv(\"../results/stacking_3models_LGBM2_CB_0.85510.csv\")  ### score de 0.85673  en la tabla publica\n",
    "# test_stacking.to_csv(\"../results/stacking_2models_LGBM2_0.85476.csv\")  ### score de 0.85700  en la tabla publica"
   ]
  },
  {
   "cell_type": "code",
   "execution_count": 16,
   "id": "apart-technical",
   "metadata": {},
   "outputs": [],
   "source": [
    "######## lightGBM y Catboost\n",
    "# train_scores: 0.8545746173524746\n",
    "# test_scores: 0.8545494390051485"
   ]
  },
  {
   "cell_type": "code",
   "execution_count": 17,
   "id": "failing-worse",
   "metadata": {},
   "outputs": [],
   "source": [
    "# test_stacking.to_csv(\"../results/stacking_5models_LGBM2_CB_GBC_RF_0.85404.csv\")  ### score de ******  en la tabla publica\n",
    "# test_stacking.to_csv(\"../results/stacking_5models_LGBM2_CB_GBC_LR_0.85509.csv\")  ### score de 0.85572  en la tabla publica\n",
    "# test_stacking.to_csv(\"../results/stacking_4models_LGBM2_CB_GBC_0.85520.csv\")  ### score de 0.85600 en la tabla publica\n",
    "# test_stacking.to_csv(\"../results/stacking_4models_LGBM2_CB_GBC_0.85583.csv\")  ### score de 0.85418 en la tabla publica"
   ]
  },
  {
   "cell_type": "code",
   "execution_count": 18,
   "id": "developmental-thought",
   "metadata": {},
   "outputs": [],
   "source": [
    "# test_stacking.to_csv(\"../results/stacking_4models_LGBM2_CB_GBC_0.85517.csv\")  ### score de 0.85601 en la tabla publica\n",
    "# test_stacking.to_csv(\"../results/stacking_3models_LGBM_CB_GBC_0.85473.csv\")  ### score de 0.85557 en la tabla publica\n",
    "# test_stacking.to_csv(\"../results/stacking_5models_LGBM2_CB_XGB_GBC_0.85523.csv\")  ### score de 0.85448 en la tabla publica\n",
    "# test_stacking.to_csv(\"../results/stacking_3models_LGBM2_CB_0.85512.csv\")  ### score de 0.85592 en la tabla publica"
   ]
  },
  {
   "cell_type": "code",
   "execution_count": 19,
   "id": "equal-bandwidth",
   "metadata": {},
   "outputs": [],
   "source": [
    "# test_stacking.to_csv(\"../results/stacking_4models_LGBM2_CB_XGB_0.85464.csv\")  ### score de 0.85596 en la tabla publica\n",
    "# test_stacking.to_csv(\"../results/stacking_2models_LGBM_CB_0.85419.csv\")  ### score de 0.85567 en la tabla publica"
   ]
  },
  {
   "cell_type": "code",
   "execution_count": 20,
   "id": "continent-heater",
   "metadata": {},
   "outputs": [],
   "source": [
    "# test_stacking.to_csv(\"../results/stacking_3models_LGBM2_GBC_0.84805.csv\")  ### score de 0.84996 en la tabla publica\n",
    "# test_stacking.to_csv(\"../results/stacking_3models_LGBM2_R_0.84729.csv\")  ### score de 0.84927 en la tabla publica\n",
    "# test_stacking.to_csv(\"../results/stacking_6models_0.84767.csv\")  ### score de 0.84910 en la tabla publica\n",
    "# test_stacking.to_csv(\"../results/stacking_3models_LGBM2_RNN_0.84830.csv\")  ### score de 0.84974 en la tabla publica\n",
    "# test_stacking.to_csv(\"../results/stacking_3models_LGBM2_RF_0.84694.csv\")  ### score de 0.84874  en la tabla publica\n",
    "# test_stacking.to_csv(\"../results/stacking_3models_LGBM2_XGB_0.84807.csv\")  ### score de 0.84977  en la tabla publica\n",
    "# test_stacking.to_csv(\"../results/stacking_3models_LGBM2_0.84811.csv\")  ### score de 0.84970  en la tabla publica\n",
    "# test_stacking.to_csv(\"../results/stacking_2models_LGBM2_0.84801.csv\")  ### score de 0.84992 en la tabla publica\n",
    "# test_stacking.to_csv(\"../results/stacking_3models_CB_LGBM2_0.84834.csv\")  ### score de 0.84991 en la tabla publica\n",
    "# test_stacking.to_csv(\"../results/stacking_3models_CB_LGBM2_0.84833.csv\") ### score de 0.84992 en la tabla publica\n",
    "# test_stacking.to_csv(\"../results/stacking_2models_CB_LGBM_0.84721.csv\") ### score de 0.84882 en la tabla publica"
   ]
  },
  {
   "cell_type": "code",
   "execution_count": 21,
   "id": "naked-microphone",
   "metadata": {},
   "outputs": [],
   "source": [
    "### Por lo que se puede concluir que los dos modelos de lightGBM (el normal, y el que toma en cuenta las categoricas).\n",
    "### Tienen mejor performance"
   ]
  }
 ],
 "metadata": {
  "kernelspec": {
   "display_name": "Python 3",
   "language": "python",
   "name": "python3"
  },
  "language_info": {
   "codemirror_mode": {
    "name": "ipython",
    "version": 3
   },
   "file_extension": ".py",
   "mimetype": "text/x-python",
   "name": "python",
   "nbconvert_exporter": "python",
   "pygments_lexer": "ipython3",
   "version": "3.8.5"
  }
 },
 "nbformat": 4,
 "nbformat_minor": 5
}
