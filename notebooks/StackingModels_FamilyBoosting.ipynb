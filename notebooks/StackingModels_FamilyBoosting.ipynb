{
 "cells": [
  {
   "cell_type": "code",
   "execution_count": 34,
   "id": "pediatric-school",
   "metadata": {},
   "outputs": [],
   "source": [
    "import os\n",
    "import pandas as pd\n",
    "import numpy as np\n",
    "import matplotlib.pyplot as plt"
   ]
  },
  {
   "cell_type": "code",
   "execution_count": 35,
   "id": "solar-myanmar",
   "metadata": {},
   "outputs": [],
   "source": [
    "from sklearn.model_selection import cross_validate\n",
    "from sklearn.model_selection import learning_curve\n",
    "def cross_validate_learning_rate(estimator, x_train, y_train, cv = 5, scoring = 'roc_auc', return_train_score = True):\n",
    "    results = cross_validate(estimator,\n",
    "                            x_train,\n",
    "                            y_train,\n",
    "                            cv = cv,\n",
    "                            scoring=scoring,\n",
    "                            return_train_score = return_train_score ) \n",
    "    train_scores = results['train_score']\n",
    "    test_scores = results['test_score']\n",
    "    print(\"train_scores: {}\".format(np.mean(train_scores)))\n",
    "    print(\"test_scores: {}\".format(np.mean(test_scores)))\n",
    "\n",
    "    lc = learning_curve(estimator, \n",
    "                        x_train, \n",
    "                        y_train, \n",
    "                        cv=cv, \n",
    "                        scoring=scoring)\n",
    "    samples, train, test = lc[0],lc[1],lc[2]\n",
    "    plt.plot(samples, np.mean(train, axis=1))\n",
    "    plt.plot(samples, np.mean(test, axis=1))"
   ]
  },
  {
   "cell_type": "code",
   "execution_count": 36,
   "id": "searching-maryland",
   "metadata": {},
   "outputs": [],
   "source": [
    "from sklearn.model_selection import GridSearchCV\n",
    "def grid_search_param(X, y,nfolds, param_grid, model_sklearn, scoring = 'roc_auc'):\n",
    "    grid_search = GridSearchCV(model_sklearn, param_grid, cv=nfolds, return_train_score=True, scoring=scoring)\n",
    "    grid_search.fit(X, y)\n",
    "    return grid_search"
   ]
  },
  {
   "cell_type": "code",
   "execution_count": 37,
   "id": "pharmaceutical-mills",
   "metadata": {},
   "outputs": [],
   "source": [
    "path = '../data'\n",
    "y_train = pd.read_csv(f'{path}/y_train.csv', index_col = 'key_value')"
   ]
  },
  {
   "cell_type": "code",
   "execution_count": 24,
   "id": "constitutional-syndication",
   "metadata": {},
   "outputs": [],
   "source": [
    "list_train_probs = []\n",
    "list_train_probs.append(pd.read_pickle('train_probs_lightgbm.pkl'))\n",
    "list_train_probs.append(pd.read_pickle('train_probs_catboost.pkl'))\n",
    "list_train_probs.append(pd.read_pickle('train_probs_xgb.pkl'))\n",
    "train = pd.concat(list_train_probs, axis=1)\n",
    "train.columns = ['probs_lightgbm', 'probs_catboost','probs_x']"
   ]
  },
  {
   "cell_type": "code",
   "execution_count": 38,
   "id": "fitting-process",
   "metadata": {
    "scrolled": false
   },
   "outputs": [],
   "source": [
    "list_test_probs = []\n",
    "list_test_probs.append(pd.read_pickle('test_probs_lightgbm.pkl'))\n",
    "list_test_probs.append(pd.read_pickle('test_probs_catboost.pkl'))\n",
    "list_test_probs.append(pd.read_pickle('test_probs_xgb.pkl'))\n",
    "test = pd.concat(list_test_probs, axis=1)\n",
    "test.columns  = ['probs_lightgbm', 'probs_catboost', 'probs_xgb']"
   ]
  },
  {
   "cell_type": "code",
   "execution_count": 26,
   "id": "viral-spiritual",
   "metadata": {
    "scrolled": true
   },
   "outputs": [
    {
     "data": {
      "text/html": [
       "<div>\n",
       "<style scoped>\n",
       "    .dataframe tbody tr th:only-of-type {\n",
       "        vertical-align: middle;\n",
       "    }\n",
       "\n",
       "    .dataframe tbody tr th {\n",
       "        vertical-align: top;\n",
       "    }\n",
       "\n",
       "    .dataframe thead th {\n",
       "        text-align: right;\n",
       "    }\n",
       "</style>\n",
       "<table border=\"1\" class=\"dataframe\">\n",
       "  <thead>\n",
       "    <tr style=\"text-align: right;\">\n",
       "      <th></th>\n",
       "      <th>probs_lightgbm</th>\n",
       "      <th>probs_catboost</th>\n",
       "    </tr>\n",
       "  </thead>\n",
       "  <tbody>\n",
       "    <tr>\n",
       "      <th>probs_lightgbm</th>\n",
       "      <td>1.000000</td>\n",
       "      <td>0.981097</td>\n",
       "    </tr>\n",
       "    <tr>\n",
       "      <th>probs_catboost</th>\n",
       "      <td>0.981097</td>\n",
       "      <td>1.000000</td>\n",
       "    </tr>\n",
       "  </tbody>\n",
       "</table>\n",
       "</div>"
      ],
      "text/plain": [
       "                probs_lightgbm  probs_catboost\n",
       "probs_lightgbm        1.000000        0.981097\n",
       "probs_catboost        0.981097        1.000000"
      ]
     },
     "execution_count": 26,
     "metadata": {},
     "output_type": "execute_result"
    }
   ],
   "source": [
    "train.corr()"
   ]
  },
  {
   "cell_type": "code",
   "execution_count": 27,
   "id": "further-hotel",
   "metadata": {},
   "outputs": [
    {
     "data": {
      "text/html": [
       "<div>\n",
       "<style scoped>\n",
       "    .dataframe tbody tr th:only-of-type {\n",
       "        vertical-align: middle;\n",
       "    }\n",
       "\n",
       "    .dataframe tbody tr th {\n",
       "        vertical-align: top;\n",
       "    }\n",
       "\n",
       "    .dataframe thead th {\n",
       "        text-align: right;\n",
       "    }\n",
       "</style>\n",
       "<table border=\"1\" class=\"dataframe\">\n",
       "  <thead>\n",
       "    <tr style=\"text-align: right;\">\n",
       "      <th></th>\n",
       "      <th>probs_lightgbm</th>\n",
       "      <th>probs_catboost</th>\n",
       "    </tr>\n",
       "  </thead>\n",
       "  <tbody>\n",
       "    <tr>\n",
       "      <th>probs_lightgbm</th>\n",
       "      <td>1.000000</td>\n",
       "      <td>0.990563</td>\n",
       "    </tr>\n",
       "    <tr>\n",
       "      <th>probs_catboost</th>\n",
       "      <td>0.990563</td>\n",
       "      <td>1.000000</td>\n",
       "    </tr>\n",
       "  </tbody>\n",
       "</table>\n",
       "</div>"
      ],
      "text/plain": [
       "                probs_lightgbm  probs_catboost\n",
       "probs_lightgbm        1.000000        0.990563\n",
       "probs_catboost        0.990563        1.000000"
      ]
     },
     "execution_count": 27,
     "metadata": {},
     "output_type": "execute_result"
    }
   ],
   "source": [
    "test.corr()"
   ]
  },
  {
   "cell_type": "code",
   "execution_count": 28,
   "id": "molecular-entity",
   "metadata": {
    "scrolled": true
   },
   "outputs": [
    {
     "data": {
      "image/png": "[encoded data removed]",
      "text/plain": [
       "<Figure size 432x288 with 1 Axes>"
      ]
     },
     "metadata": {
      "needs_background": "light"
     },
     "output_type": "display_data"
    }
   ],
   "source": [
    "plt.hist(np.std(train.values, axis=1));"
   ]
  },
  {
   "cell_type": "markdown",
   "id": "adjacent-words",
   "metadata": {},
   "source": [
    "### Entrenando el modelo final"
   ]
  },
  {
   "cell_type": "code",
   "execution_count": 29,
   "id": "abandoned-friendship",
   "metadata": {},
   "outputs": [
    {
     "name": "stdout",
     "output_type": "stream",
     "text": [
      "LogisticRegression(C=1.0, class_weight=None, dual=False, fit_intercept=True,\n",
      "                   intercept_scaling=1, l1_ratio=None, max_iter=100,\n",
      "                   multi_class='auto', n_jobs=None, penalty='l2',\n",
      "                   random_state=42, solver='saga', tol=0.0001, verbose=0,\n",
      "                   warm_start=False)\n"
     ]
    }
   ],
   "source": [
    "from sklearn.linear_model import LogisticRegression\n",
    "### definir los parametros a tunear\n",
    "Cs = [0.1, 0.3, 0.8, 0.9, 1.0]\n",
    "# https://neurtu.readthedocs.io/examples/logistic_regression_scaling.html\n",
    "solvers = ['lbfgs','saga','newton-cg'] # newton-cg, sag, lbfgs, liblinear, saga\n",
    "param_grid = {'C': Cs,'solver':solvers}\n",
    "### encontrando los hiper_parámetros\n",
    "fitting=grid_search_param(train, y_train.target, 5,param_grid, LogisticRegression(penalty=\"l2\", tol=0.0001, random_state=42), scoring='roc_auc')\n",
    "### instanciar el estimador\n",
    "estimator = fitting.best_estimator_\n",
    "print(estimator)\n",
    "### aplicar cross_validate y learning_rate \n",
    "# cross_validate_learning_rate(estimator, train, y_train, scoring='roc_auc')"
   ]
  },
  {
   "cell_type": "code",
   "execution_count": 30,
   "id": "selected-dancing",
   "metadata": {
    "scrolled": true
   },
   "outputs": [
    {
     "name": "stdout",
     "output_type": "stream",
     "text": [
      "train_scores: 0.8542015438696666\n",
      "test_scores: 0.8541920536095156\n"
     ]
    },
    {
     "data": {
      "image/png": "[encoded data removed]",
      "text/plain": [
       "<Figure size 432x288 with 1 Axes>"
      ]
     },
     "metadata": {
      "needs_background": "light"
     },
     "output_type": "display_data"
    }
   ],
   "source": [
    "### aplicar cross_validate y learning_rate \n",
    "cross_validate_learning_rate(estimator, train, y_train.target, scoring='roc_auc')"
   ]
  },
  {
   "cell_type": "code",
   "execution_count": 31,
   "id": "honest-chassis",
   "metadata": {},
   "outputs": [
    {
     "data": {
      "text/plain": [
       "LogisticRegression(C=1.0, class_weight=None, dual=False, fit_intercept=True,\n",
       "                   intercept_scaling=1, l1_ratio=None, max_iter=100,\n",
       "                   multi_class='auto', n_jobs=None, penalty='l2',\n",
       "                   random_state=42, solver='saga', tol=0.0001, verbose=0,\n",
       "                   warm_start=False)"
      ]
     },
     "execution_count": 31,
     "metadata": {},
     "output_type": "execute_result"
    }
   ],
   "source": [
    "estimator.fit(train, y_train.target)"
   ]
  },
  {
   "cell_type": "code",
   "execution_count": 32,
   "id": "efficient-hospital",
   "metadata": {
    "scrolled": true
   },
   "outputs": [
    {
     "data": {
      "text/plain": [
       "key_value\n",
       "0         0.045188\n",
       "1         0.069092\n",
       "2         0.053893\n",
       "3         0.587596\n",
       "4         0.116163\n",
       "            ...   \n",
       "396661    0.067533\n",
       "396662    0.135733\n",
       "396663    0.191513\n",
       "396664    0.055974\n",
       "396665    0.061461\n",
       "Name: target, Length: 396666, dtype: float64"
      ]
     },
     "execution_count": 32,
     "metadata": {},
     "output_type": "execute_result"
    }
   ],
   "source": [
    "test_stacking = pd.Series(estimator.predict_proba(test)[:,-1], index=test.index, name = 'target')\n",
    "test_stacking"
   ]
  },
  {
   "cell_type": "code",
   "execution_count": 33,
   "id": "comparative-fossil",
   "metadata": {},
   "outputs": [],
   "source": [
    "test_stacking.to_csv(\"../results/stacking_2models_LGBM_CB_0.85419.csv\")  ### score de 0.85567 en la tabla publica"
   ]
  },
  {
   "cell_type": "code",
   "execution_count": 17,
   "id": "suited-effects",
   "metadata": {},
   "outputs": [],
   "source": [
    "# test_stacking.to_csv(\"../results/stacking_3models_LGBM2_GBC_0.84805.csv\")  ### score de 0.84996 en la tabla publica\n",
    "# test_stacking.to_csv(\"../results/stacking_3models_LGBM2_R_0.84729.csv\")  ### score de 0.84927 en la tabla publica\n",
    "# test_stacking.to_csv(\"../results/stacking_6models_0.84767.csv\")  ### score de 0.84910 en la tabla publica\n",
    "# test_stacking.to_csv(\"../results/stacking_3models_LGBM2_RNN_0.84830.csv\")  ### score de 0.84974 en la tabla publica\n",
    "# test_stacking.to_csv(\"../results/stacking_3models_LGBM2_RF_0.84694.csv\")  ### score de 0.84874  en la tabla publica\n",
    "# test_stacking.to_csv(\"../results/stacking_3models_LGBM2_XGB_0.84807.csv\")  ### score de 0.84977  en la tabla publica\n",
    "# test_stacking.to_csv(\"../results/stacking_3models_LGBM2_0.84811.csv\")  ### score de 0.84970  en la tabla publica\n",
    "# test_stacking.to_csv(\"../results/stacking_2models_LGBM2_0.84801.csv\")  ### score de 0.84992 en la tabla publica\n",
    "# test_stacking.to_csv(\"../results/stacking_3models_CB_LGBM2_0.84834.csv\")  ### score de 0.84991 en la tabla publica\n",
    "# test_stacking.to_csv(\"../results/stacking_3models_CB_LGBM2_0.84833.csv\") ### score de 0.84992 en la tabla publica\n",
    "# test_stacking.to_csv(\"../results/stacking_2models_CB_LGBM_0.84721.csv\") ### score de 0.84882 en la tabla publica"
   ]
  },
  {
   "cell_type": "code",
   "execution_count": 18,
   "id": "suited-tunisia",
   "metadata": {},
   "outputs": [],
   "source": [
    "### Por lo que se puede concluir que los dos modelos de lightGBM (el normal, y el que toma en cuenta las categoricas).\n",
    "### Tienen mejor performance"
   ]
  }
 ],
 "metadata": {
  "kernelspec": {
   "display_name": "Python 3",
   "language": "python",
   "name": "python3"
  },
  "language_info": {
   "codemirror_mode": {
    "name": "ipython",
    "version": 3
   },
   "file_extension": ".py",
   "mimetype": "text/x-python",
   "name": "python",
   "nbconvert_exporter": "python",
   "pygments_lexer": "ipython3",
   "version": "3.8.5"
  }
 },
 "nbformat": 4,
 "nbformat_minor": 5
}
