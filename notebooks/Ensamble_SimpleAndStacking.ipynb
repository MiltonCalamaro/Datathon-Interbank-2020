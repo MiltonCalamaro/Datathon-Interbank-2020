{
 "cells": [
  {
   "cell_type": "code",
   "execution_count": 1,
   "id": "therapeutic-dressing",
   "metadata": {},
   "outputs": [],
   "source": [
    "import pandas as pd\n",
    "import numpy as np\n",
    "import matplotlib.pyplot as plt"
   ]
  },
  {
   "cell_type": "code",
   "execution_count": 2,
   "id": "attempted-dictionary",
   "metadata": {},
   "outputs": [],
   "source": [
    "path = '../data'\n",
    "y_train = pd.read_csv(f'{path}/y_train.csv', index_col = 'key_value')"
   ]
  },
  {
   "cell_type": "code",
   "execution_count": 3,
   "id": "polar-domestic",
   "metadata": {
    "scrolled": true
   },
   "outputs": [
    {
     "data": {
      "image/png": "[encoded data removed]",
      "text/plain": [
       "<Figure size 432x288 with 1 Axes>"
      ]
     },
     "metadata": {},
     "output_type": "display_data"
    }
   ],
   "source": [
    "y_train.value_counts().plot(kind='pie', autopct='%1.0f%%');"
   ]
  },
  {
   "cell_type": "markdown",
   "id": "exact-pollution",
   "metadata": {},
   "source": [
    "### Test ensamble CB and LGBM (Promedio Simple)"
   ]
  },
  {
   "cell_type": "code",
   "execution_count": 4,
   "id": "cooperative-marking",
   "metadata": {},
   "outputs": [
    {
     "data": {
      "text/plain": [
       "((358487, 680), (396666, 680))"
      ]
     },
     "execution_count": 4,
     "metadata": {},
     "output_type": "execute_result"
    }
   ],
   "source": [
    "train = pd.read_pickle('../data/train_features680_score_0.85558.pkl') \n",
    "test = pd.read_pickle('../data/test_features680_score_0.85558.pkl')\n",
    "train.shape, test.shape"
   ]
  },
  {
   "cell_type": "code",
   "execution_count": 5,
   "id": "emotional-radar",
   "metadata": {},
   "outputs": [
    {
     "data": {
      "text/plain": [
       "0.9385765410554683"
      ]
     },
     "execution_count": 5,
     "metadata": {},
     "output_type": "execute_result"
    }
   ],
   "source": [
    "### fi_lightgbm del cat features\n",
    "fi = pd.read_pickle('fi_lightgbm.pkl')\n",
    "fi.sort_values(ascending=False).head(500).sum()"
   ]
  },
  {
   "cell_type": "code",
   "execution_count": 8,
   "id": "pressed-guess",
   "metadata": {},
   "outputs": [
    {
     "data": {
      "text/plain": [
       "LGBMClassifier(boosting_type='gbdt', class_weight=None, colsample_bytree=1.0,\n",
       "               importance_type='split', learning_rate=0.1, max_depth=6,\n",
       "               min_child_samples=1000, min_child_weight=0.001,\n",
       "               min_split_gain=0.0, n_estimators=1000, n_jobs=-1, num_leaves=31,\n",
       "               objective=None, random_state=None, reg_alpha=0.0, reg_lambda=0.0,\n",
       "               silent=True, subsample=1.0, subsample_for_bin=200000,\n",
       "               subsample_freq=0)"
      ]
     },
     "execution_count": 8,
     "metadata": {},
     "output_type": "execute_result"
    }
   ],
   "source": [
    "from lightgbm import LGBMClassifier\n",
    "fi = pd.read_pickle('fi_lightgbm.pkl')\n",
    "features_importances_250_lightgbm = list(fi.sort_values(ascending=False).head(680).index)\n",
    "learner_lightgbm = LGBMClassifier(n_estimators=1000, max_depth=6, boosting_type='gbdt', min_child_samples=1000)\n",
    "learner_lightgbm.fit(train[features_importances_250_lightgbm], y_train.target, eval_metric=\"auc\", verbose=True)"
   ]
  },
  {
   "cell_type": "code",
   "execution_count": 9,
   "id": "expanded-worse",
   "metadata": {},
   "outputs": [
    {
     "data": {
      "text/plain": [
       "<catboost.core.CatBoostClassifier at 0x1b87e950df0>"
      ]
     },
     "execution_count": 9,
     "metadata": {},
     "output_type": "execute_result"
    }
   ],
   "source": [
    "from catboost import CatBoostClassifier\n",
    "fi = pd.read_pickle('fi_catboost.pkl')\n",
    "features_importances_250_catboost = list(fi.sort_values(ascending=False).head(680).index)\n",
    "learner_catboost = CatBoostClassifier(n_estimators=1000, eval_metric = 'AUC', max_depth = 6)\n",
    "learner_catboost.fit(train[features_importances_250_catboost], y_train,  early_stopping_rounds=10, verbose=False)"
   ]
  },
  {
   "cell_type": "code",
   "execution_count": 10,
   "id": "suitable-scottish",
   "metadata": {},
   "outputs": [
    {
     "data": {
      "text/plain": [
       "(396666,)"
      ]
     },
     "execution_count": 10,
     "metadata": {},
     "output_type": "execute_result"
    }
   ],
   "source": [
    "test_probs_catboost = pd.Series(learner_catboost.predict_proba(test[features_importances_250_catboost])[:, -1], index=test.index, name=\"target\")\n",
    "test_probs_lightgbm = pd.Series(learner_lightgbm.predict_proba(test[features_importances_250_lightgbm])[:, -1], index=test.index, name=\"target\")\n",
    "test_probs_mean = test_probs_catboost*0.4 + test_probs_lightgbm*0.6\n",
    "test_probs_mean.name = 'target'\n",
    "test_probs_mean.shape"
   ]
  },
  {
   "cell_type": "code",
   "execution_count": 11,
   "id": "minimal-partition",
   "metadata": {},
   "outputs": [],
   "source": [
    "# test_probs_mean.to_csv('../results/ensamble_simple.csv')  ### score de ****** en la tabla publica"
   ]
  },
  {
   "cell_type": "code",
   "execution_count": 12,
   "id": "universal-vietnam",
   "metadata": {
    "scrolled": true
   },
   "outputs": [
    {
     "data": {
      "text/plain": [
       "key_value\n",
       "0         0.045024\n",
       "1         0.067199\n",
       "2         0.052986\n",
       "3         0.587453\n",
       "4         0.127642\n",
       "            ...   \n",
       "396661    0.065888\n",
       "396662    0.149657\n",
       "396663    0.186598\n",
       "396664    0.057022\n",
       "396665    0.056621\n",
       "Name: target, Length: 396666, dtype: float64"
      ]
     },
     "execution_count": 12,
     "metadata": {},
     "output_type": "execute_result"
    }
   ],
   "source": [
    "test_stacking = pd.read_csv(\"../results/stacking_4models_LGBM2_CB_GBC_0.85517.csv\", index_col = 'key_value')\n",
    "test_stacking = pd.Series(test_stacking['target'], index=test_stacking.index)\n",
    "test_stacking"
   ]
  },
  {
   "cell_type": "code",
   "execution_count": 13,
   "id": "comparable-albert",
   "metadata": {
    "scrolled": true
   },
   "outputs": [
    {
     "data": {
      "text/plain": [
       "key_value\n",
       "0         0.028176\n",
       "1         0.061399\n",
       "2         0.042969\n",
       "3         0.550429\n",
       "4         0.148763\n",
       "            ...   \n",
       "396661    0.064849\n",
       "396662    0.172741\n",
       "396663    0.192980\n",
       "396664    0.051571\n",
       "396665    0.049153\n",
       "Name: target, Length: 396666, dtype: float64"
      ]
     },
     "execution_count": 13,
     "metadata": {},
     "output_type": "execute_result"
    }
   ],
   "source": [
    "test_probs_mean_total = test_probs_mean*0.4 + test_stacking*0.6\n",
    "test_probs_mean_total"
   ]
  },
  {
   "cell_type": "code",
   "execution_count": 14,
   "id": "injured-webmaster",
   "metadata": {},
   "outputs": [],
   "source": [
    "test_probs_mean_total.to_csv(\"../results/emsamble_simple_and_stacking_v4.csv\") ### score de 0.85615  en la tabla publica"
   ]
  },
  {
   "cell_type": "code",
   "execution_count": null,
   "id": "embedded-peripheral",
   "metadata": {},
   "outputs": [],
   "source": []
  },
  {
   "cell_type": "code",
   "execution_count": null,
   "id": "controversial-initial",
   "metadata": {},
   "outputs": [],
   "source": [
    "########### Probando"
   ]
  },
  {
   "cell_type": "code",
   "execution_count": 24,
   "id": "postal-adolescent",
   "metadata": {},
   "outputs": [],
   "source": [
    "test_probs_mean_total_v2 = pd.read_csv(\"../results/emsamble_simple_and_stacking_v3.csv\") ### score de 0.85605  en la tabla publica\n",
    "test_probs_mean_total_v3 = pd.read_csv(\"../results/emsamble_simple_and_stacking_v4.csv\") ### score de 0.85615  en la tabla publica"
   ]
  },
  {
   "cell_type": "code",
   "execution_count": 25,
   "id": "metallic-airport",
   "metadata": {},
   "outputs": [
    {
     "data": {
      "text/plain": [
       "key_value\n",
       "0         0.028038\n",
       "1         0.063374\n",
       "2         0.044073\n",
       "3         0.566206\n",
       "4         0.137851\n",
       "            ...   \n",
       "396661    0.065504\n",
       "396662    0.172110\n",
       "396663    0.190344\n",
       "396664    0.050897\n",
       "396665    0.048405\n",
       "Name: target, Length: 396666, dtype: float64"
      ]
     },
     "execution_count": 25,
     "metadata": {},
     "output_type": "execute_result"
    }
   ],
   "source": [
    "test_probs_mean_total_v2 = pd.Series(test_probs_mean_total_v2['target'], index=test_stacking.index)\n",
    "test_probs_mean_total_v3 = pd.Series(test_probs_mean_total_v3['target'], index=test_stacking.index)\n",
    "test_probs_mean_total_full = test_probs_mean_total_v2*0.5 + test_probs_mean_total_v3*0.5\n",
    "test_probs_mean_total_full"
   ]
  },
  {
   "cell_type": "code",
   "execution_count": 26,
   "id": "confidential-sauce",
   "metadata": {},
   "outputs": [],
   "source": [
    "test_probs_mean_total_full.to_csv(\"../results/emsamble_simple_and_stacking_v4_v3_avg.csv\") ### score de **** en la tabla publica"
   ]
  }
 ],
 "metadata": {
  "kernelspec": {
   "display_name": "Python 3",
   "language": "python",
   "name": "python3"
  },
  "language_info": {
   "codemirror_mode": {
    "name": "ipython",
    "version": 3
   },
   "file_extension": ".py",
   "mimetype": "text/x-python",
   "name": "python",
   "nbconvert_exporter": "python",
   "pygments_lexer": "ipython3",
   "version": "3.8.5"
  }
 },
 "nbformat": 4,
 "nbformat_minor": 5
}
