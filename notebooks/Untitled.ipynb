{
 "cells": [
  {
   "cell_type": "code",
   "execution_count": 1,
   "metadata": {},
   "outputs": [],
   "source": [
    "import pandas as pd\n",
    "import gc"
   ]
  },
  {
   "cell_type": "code",
   "execution_count": 2,
   "metadata": {},
   "outputs": [],
   "source": [
    "# sunat_train = pd.read_csv('../data/sunat_train.csv')\n",
    "rcc_train = pd.read_csv('../data/rcc_train.csv')\n",
    "se_train = pd.read_csv('../data/se_train.csv', index_col = 'key_value')\n",
    "censo_train = pd.read_csv('../data/censo_train.csv', index_col = 'key_value')\n",
    "y_train = pd.read_csv('../data/y_train.csv', index_col = 'key_value')\n",
    "\n",
    "# sunat_test = pd.read_csv('../data/sunat_test.csv')\n",
    "rcc_test = pd.read_csv('../data/rcc_test.csv')\n",
    "se_test = pd.read_csv('../data/se_test.csv', index_col = 'key_value')\n",
    "censo_test = pd.read_csv('../data/censo_test.csv', index_col = 'key_value')"
   ]
  },
  {
   "cell_type": "code",
   "execution_count": 3,
   "metadata": {},
   "outputs": [],
   "source": [
    "### se puede observar que en el rcc_train aquellos clientes que tienen un solo registro, es porque se refiere al ultimo\n",
    "### periodo de la data de train que es del febrero del 2018, cuyo RIESGO_DIRECTO es 1 y COD_CLASIFICACION_DEUDOR es 0 \n",
    "### su condicion (días de atraso) es 0 siendo estos cerca de 623 clientes. Pero OJO el 9% de los nuevos clientes tienen un target igual a 1\n",
    "\n",
    "### el target de la data train representa el score crediticio al febrero del 2018 \n",
    "### por lo que se sobre-entiende que lo que se quiere predecir es el score crediticio al febrero del 2019\n",
    "\n",
    "### La data train abarca desde 201703 hasta 201802\n",
    "### La data test comprende desde 201803 hasta 201902\n",
    "### Los primeros registros de los clientes tienen un RIESGO DIRECTO de 1 ***\n",
    "\n",
    "### La distribucion del target general es de 16% para 1 y 84% para los 0\n",
    "### A mayor COD_CLASIFICACION_DEUDOR y codmes mes cercano, el target se aproxima a 1. Ejm COD_CLASIFICACION_DEUDOR=5 y codmes=201802\n",
    "### el target esta representado por el 97% de 1 y 3% de cero "
   ]
  },
  {
   "cell_type": "code",
   "execution_count": 4,
   "metadata": {},
   "outputs": [],
   "source": [
    "### condicion, saldo   ..... son variables cuantitativas\n",
    "### tipo_credito en train no tiene la clase de 7 como en el test, pero este tiene solo 1 valor (8 clases) ### Frecuencia 11\n",
    "### cod_instit_financiera , 12 clases más se encuentran en el train que en el test (mas de 100 clases) ### Frecuencia 34 ----\n",
    "### PRODUCTO, el train tiene la clase 255 y el test no (42 clases) ### Frecuencia 1  ----\n",
    "### RIESGO_DIRECTO es lo mismo , es lo mismo en el test y en el train (5 clases) ### Frecuencia -1\n",
    "### COD_CLASIFICACION_DEUDOR , es lo mismo en el test y en el train (6 clases) ### Frecuencia 0\n",
    "### en el rcc_test, faltan valores en la columma de cod_instit_financiera y producto"
   ]
  },
  {
   "cell_type": "code",
   "execution_count": 5,
   "metadata": {},
   "outputs": [],
   "source": [
    "rcc_train = rcc_train.astype({'condicion':'int32',\n",
    "                  'tipo_credito':'int32',\n",
    "                  'RIESGO_DIRECTO':'int32',\n",
    "                  'COD_CLASIFICACION_DEUDOR':'int32'})\n",
    "rcc_test = rcc_test.astype({'condicion':'int32',\n",
    "                  'tipo_credito':'int32',\n",
    "                  'RIESGO_DIRECTO':'int32',\n",
    "                  'COD_CLASIFICACION_DEUDOR':'int32'})"
   ]
  },
  {
   "cell_type": "code",
   "execution_count": 6,
   "metadata": {},
   "outputs": [],
   "source": [
    "import statistics as stat\n",
    "import numpy as np\n",
    "def calculate_mode(x):\n",
    "    try:\n",
    "        moda=stat.mode(x)\n",
    "    except:\n",
    "        moda=-99\n",
    "    return moda"
   ]
  },
  {
   "cell_type": "code",
   "execution_count": 7,
   "metadata": {},
   "outputs": [
    {
     "data": {
      "application/vnd.jupyter.widget-view+json": {
       "model_id": "26fc14b1b490493aa2045c3847daac55",
       "version_major": 2,
       "version_minor": 0
      },
      "text/plain": [
       "HBox(children=(FloatProgress(value=0.0, max=12.0), HTML(value='')))"
      ]
     },
     "metadata": {},
     "output_type": "display_data"
    },
    {
     "name": "stdout",
     "output_type": "stream",
     "text": [
      "\n"
     ]
    }
   ],
   "source": [
    "from tqdm.notebook import tqdm \n",
    "moda=lambda x: calculate_mode(x)\n",
    "moda.__name__='mode'\n",
    "agg_rcc = {'saldo':['sum','std'],\n",
    "           'condicion':['sum','max','std'],\n",
    "           'tipo_credito':['nunique', moda],\n",
    "           'cod_instit_financiera':['nunique',moda],\n",
    "           'PRODUCTO':['nunique',moda],\n",
    "           'RIESGO_DIRECTO':['nunique',moda],\n",
    "            'COD_CLASIFICACION_DEUDOR':['nunique','max',moda]\n",
    "          }\n",
    "list_rcc_train_agg = []\n",
    "for n,i in enumerate(tqdm(sorted(set(rcc_train.codmes),reverse=True))):\n",
    "    rcc_train_agg = rcc_train[rcc_train.codmes>=i].groupby('key_value').agg(agg_rcc)\n",
    "    rcc_train_agg.columns = [i+'_'+j+f'_ult{n+1}mes' for i,j in rcc_train_agg.columns]\n",
    "    list_rcc_train_agg.append(rcc_train_agg)\n",
    "rcc_train_ = pd.concat(list_rcc_train_agg, axis=1)\n",
    "del rcc_train, list_rcc_train_agg"
   ]
  },
  {
   "cell_type": "code",
   "execution_count": 8,
   "metadata": {},
   "outputs": [
    {
     "data": {
      "application/vnd.jupyter.widget-view+json": {
       "model_id": "b7338973a0694969969af16ab5dbf32e",
       "version_major": 2,
       "version_minor": 0
      },
      "text/plain": [
       "HBox(children=(FloatProgress(value=0.0, max=12.0), HTML(value='')))"
      ]
     },
     "metadata": {},
     "output_type": "display_data"
    },
    {
     "name": "stdout",
     "output_type": "stream",
     "text": [
      "\n"
     ]
    }
   ],
   "source": [
    "list_rcc_test_agg = []\n",
    "for n,i in enumerate(tqdm(sorted(set(rcc_test.codmes),reverse=True))):\n",
    "    rcc_test_agg = rcc_test[rcc_test.codmes>=i].groupby('key_value').agg(agg_rcc)\n",
    "    rcc_test_agg.columns = [i+'_'+j+f'_ult{n+1}mes' for i,j in rcc_test_agg.columns]\n",
    "    list_rcc_test_agg.append(rcc_test_agg)\n",
    "rcc_test_ = pd.concat(list_rcc_test_agg, axis=1)\n",
    "del rcc_test, list_rcc_test_agg"
   ]
  },
  {
   "cell_type": "code",
   "execution_count": 9,
   "metadata": {},
   "outputs": [],
   "source": [
    "train = rcc_train_.join(censo_train).join(se_train)\n",
    "test = rcc_test_.join(censo_test).join(se_test)"
   ]
  },
  {
   "cell_type": "code",
   "execution_count": 10,
   "metadata": {},
   "outputs": [
    {
     "data": {
      "text/plain": [
       "(0, 0)"
      ]
     },
     "execution_count": 10,
     "metadata": {},
     "output_type": "execute_result"
    }
   ],
   "source": [
    "keep_cols = list(set(train.columns).intersection(set(test.columns)))\n",
    "train = train[keep_cols]\n",
    "test = test[keep_cols]\n",
    "len(set(train.columns) - set(test.columns)) , len(set(test.columns) - set(train.columns))"
   ]
  },
  {
   "cell_type": "code",
   "execution_count": 11,
   "metadata": {},
   "outputs": [],
   "source": [
    "import re\n",
    "test = test.rename(columns = lambda x:re.sub('[^A-Za-z0-9_-]+', '', x))\n",
    "train = train.rename(columns = lambda x:re.sub('[^A-Za-z0-9_-]+', '', x))"
   ]
  },
  {
   "cell_type": "code",
   "execution_count": 12,
   "metadata": {},
   "outputs": [],
   "source": [
    "#Función para obtener variables con alta correlación\n",
    "def get_correlated(data, cut=0.85):\n",
    "    correlated_features = set()\n",
    "    correlation_matrix = data.corr()\n",
    "    \n",
    "    for i in range(len(correlation_matrix .columns)):\n",
    "        for j in range(i):\n",
    "            if abs(correlation_matrix.iloc[i, j]) > cut:\n",
    "                colname = correlation_matrix.columns[i]\n",
    "                correlated_features.add(colname)\n",
    "            \n",
    "    return correlated_features "
   ]
  },
  {
   "cell_type": "code",
   "execution_count": 13,
   "metadata": {},
   "outputs": [
    {
     "data": {
      "text/plain": [
       "(358487, 461)"
      ]
     },
     "execution_count": 13,
     "metadata": {},
     "output_type": "execute_result"
    }
   ],
   "source": [
    "train.shape"
   ]
  },
  {
   "cell_type": "code",
   "execution_count": 14,
   "metadata": {},
   "outputs": [],
   "source": [
    "correlated=get_correlated(train,cut=0.9)\n",
    "train=train.drop(columns=correlated)\n",
    "test= test.drop(columns=correlated)"
   ]
  },
  {
   "cell_type": "code",
   "execution_count": 15,
   "metadata": {},
   "outputs": [
    {
     "data": {
      "text/plain": [
       "COD_CLASIFICACION_DEUDOR_max_ult11mes            0\n",
       "COD_CLASIFICACION_DEUDOR_nunique_ult1mes         0\n",
       "acteco15                                    205348\n",
       "saldo_std_ult12mes                             623\n",
       "adu                                         205348\n",
       "                                             ...  \n",
       "mattec7                                     205348\n",
       "matpar2                                     205348\n",
       "hig4                                        205348\n",
       "tipviv1                                     205348\n",
       "hig6                                        205348\n",
       "Length: 193, dtype: int64"
      ]
     },
     "execution_count": 15,
     "metadata": {},
     "output_type": "execute_result"
    }
   ],
   "source": [
    "train.isna().sum()"
   ]
  },
  {
   "cell_type": "markdown",
   "metadata": {},
   "source": [
    "### Probando con CatBoost"
   ]
  },
  {
   "cell_type": "code",
   "execution_count": 16,
   "metadata": {},
   "outputs": [
    {
     "name": "stdout",
     "output_type": "stream",
     "text": [
      "********** 0 **********\n",
      "Learning rate set to 0.128212\n",
      "0:\ttest: 0.7674718\ttest1: 0.7756717\tbest: 0.7756717 (0)\ttotal: 234ms\tremaining: 3m 53s\n",
      "50:\ttest: 0.8367936\ttest1: 0.8387051\tbest: 0.8387051 (50)\ttotal: 9.1s\tremaining: 2m 49s\n",
      "100:\ttest: 0.8455141\ttest1: 0.8457027\tbest: 0.8457027 (100)\ttotal: 17.7s\tremaining: 2m 37s\n",
      "150:\ttest: 0.8511525\ttest1: 0.8489618\tbest: 0.8489618 (150)\ttotal: 25.9s\tremaining: 2m 25s\n",
      "200:\ttest: 0.8548389\ttest1: 0.8506452\tbest: 0.8506452 (200)\ttotal: 33.9s\tremaining: 2m 14s\n",
      "250:\ttest: 0.8576717\ttest1: 0.8515234\tbest: 0.8515234 (250)\ttotal: 41.6s\tremaining: 2m 4s\n",
      "300:\ttest: 0.8602101\ttest1: 0.8521503\tbest: 0.8521503 (300)\ttotal: 49.4s\tremaining: 1m 54s\n",
      "350:\ttest: 0.8626540\ttest1: 0.8526497\tbest: 0.8526503 (347)\ttotal: 57.1s\tremaining: 1m 45s\n",
      "Stopped by overfitting detector  (10 iterations wait)\n",
      "\n",
      "bestTest = 0.852760389\n",
      "bestIteration = 369\n",
      "\n",
      "Shrink model to first 370 iterations.\n",
      "********** 1 **********\n",
      "Learning rate set to 0.128212\n",
      "0:\ttest: 0.7693328\ttest1: 0.7688910\tbest: 0.7688910 (0)\ttotal: 162ms\tremaining: 2m 41s\n",
      "50:\ttest: 0.8376269\ttest1: 0.8334746\tbest: 0.8334746 (50)\ttotal: 8.99s\tremaining: 2m 47s\n",
      "100:\ttest: 0.8461038\ttest1: 0.8408119\tbest: 0.8408119 (100)\ttotal: 17.5s\tremaining: 2m 35s\n",
      "150:\ttest: 0.8517064\ttest1: 0.8449086\tbest: 0.8449086 (150)\ttotal: 25.8s\tremaining: 2m 25s\n",
      "200:\ttest: 0.8547132\ttest1: 0.8464781\tbest: 0.8464781 (200)\ttotal: 33.6s\tremaining: 2m 13s\n",
      "250:\ttest: 0.8576547\ttest1: 0.8475428\tbest: 0.8475441 (249)\ttotal: 41.4s\tremaining: 2m 3s\n",
      "300:\ttest: 0.8602439\ttest1: 0.8485502\tbest: 0.8485562 (298)\ttotal: 49.1s\tremaining: 1m 54s\n",
      "350:\ttest: 0.8622844\ttest1: 0.8488554\tbest: 0.8488626 (346)\ttotal: 56.5s\tremaining: 1m 44s\n",
      "400:\ttest: 0.8643743\ttest1: 0.8492190\tbest: 0.8492247 (398)\ttotal: 1m 4s\tremaining: 1m 35s\n",
      "450:\ttest: 0.8664348\ttest1: 0.8495891\tbest: 0.8496133 (448)\ttotal: 1m 11s\tremaining: 1m 27s\n",
      "Stopped by overfitting detector  (10 iterations wait)\n",
      "\n",
      "bestTest = 0.849794065\n",
      "bestIteration = 488\n",
      "\n",
      "Shrink model to first 489 iterations.\n",
      "********** 2 **********\n",
      "Learning rate set to 0.128212\n",
      "0:\ttest: 0.7676067\ttest1: 0.7752429\tbest: 0.7752429 (0)\ttotal: 155ms\tremaining: 2m 35s\n",
      "50:\ttest: 0.8371770\ttest1: 0.8396181\tbest: 0.8396181 (50)\ttotal: 9.05s\tremaining: 2m 48s\n",
      "100:\ttest: 0.8455041\ttest1: 0.8458899\tbest: 0.8458899 (100)\ttotal: 17.5s\tremaining: 2m 35s\n",
      "150:\ttest: 0.8507055\ttest1: 0.8487698\tbest: 0.8487698 (150)\ttotal: 25.6s\tremaining: 2m 23s\n",
      "200:\ttest: 0.8546255\ttest1: 0.8507700\tbest: 0.8507723 (199)\ttotal: 33.6s\tremaining: 2m 13s\n",
      "250:\ttest: 0.8572752\ttest1: 0.8515651\tbest: 0.8515651 (250)\ttotal: 41.2s\tremaining: 2m 3s\n",
      "300:\ttest: 0.8598694\ttest1: 0.8521159\tbest: 0.8521159 (300)\ttotal: 48.9s\tremaining: 1m 53s\n",
      "350:\ttest: 0.8623304\ttest1: 0.8526702\tbest: 0.8526702 (350)\ttotal: 56.5s\tremaining: 1m 44s\n",
      "400:\ttest: 0.8644280\ttest1: 0.8530322\tbest: 0.8530552 (397)\ttotal: 1m 3s\tremaining: 1m 35s\n",
      "450:\ttest: 0.8665363\ttest1: 0.8533765\tbest: 0.8533765 (450)\ttotal: 1m 11s\tremaining: 1m 26s\n",
      "Stopped by overfitting detector  (10 iterations wait)\n",
      "\n",
      "bestTest = 0.8534201807\n",
      "bestIteration = 459\n",
      "\n",
      "Shrink model to first 460 iterations.\n",
      "********** 3 **********\n",
      "Learning rate set to 0.128212\n",
      "0:\ttest: 0.7773681\ttest1: 0.7761228\tbest: 0.7761228 (0)\ttotal: 162ms\tremaining: 2m 41s\n",
      "50:\ttest: 0.8369687\ttest1: 0.8355442\tbest: 0.8355442 (50)\ttotal: 8.98s\tremaining: 2m 47s\n",
      "100:\ttest: 0.8455838\ttest1: 0.8428408\tbest: 0.8428408 (100)\ttotal: 17.5s\tremaining: 2m 36s\n",
      "150:\ttest: 0.8511302\ttest1: 0.8464672\tbest: 0.8464707 (149)\ttotal: 25.9s\tremaining: 2m 25s\n",
      "200:\ttest: 0.8545180\ttest1: 0.8482200\tbest: 0.8482200 (200)\ttotal: 33.5s\tremaining: 2m 13s\n",
      "250:\ttest: 0.8574545\ttest1: 0.8491796\tbest: 0.8491841 (248)\ttotal: 41.3s\tremaining: 2m 3s\n",
      "300:\ttest: 0.8601528\ttest1: 0.8498216\tbest: 0.8498301 (299)\ttotal: 49s\tremaining: 1m 53s\n",
      "350:\ttest: 0.8624498\ttest1: 0.8505872\tbest: 0.8505872 (350)\ttotal: 56.4s\tremaining: 1m 44s\n",
      "Stopped by overfitting detector  (10 iterations wait)\n",
      "\n",
      "bestTest = 0.8508278731\n",
      "bestIteration = 371\n",
      "\n",
      "Shrink model to first 372 iterations.\n",
      "********** 4 **********\n",
      "Learning rate set to 0.128212\n",
      "0:\ttest: 0.7715507\ttest1: 0.7557908\tbest: 0.7557908 (0)\ttotal: 157ms\tremaining: 2m 37s\n",
      "50:\ttest: 0.8388420\ttest1: 0.8292040\tbest: 0.8292040 (50)\ttotal: 8.91s\tremaining: 2m 45s\n",
      "100:\ttest: 0.8479221\ttest1: 0.8365995\tbest: 0.8365995 (100)\ttotal: 17.5s\tremaining: 2m 35s\n",
      "150:\ttest: 0.8534162\ttest1: 0.8399571\tbest: 0.8399571 (150)\ttotal: 25.9s\tremaining: 2m 25s\n",
      "200:\ttest: 0.8569308\ttest1: 0.8415620\tbest: 0.8415629 (199)\ttotal: 33.7s\tremaining: 2m 14s\n",
      "250:\ttest: 0.8600222\ttest1: 0.8425135\tbest: 0.8425135 (250)\ttotal: 41.7s\tremaining: 2m 4s\n",
      "300:\ttest: 0.8627408\ttest1: 0.8431619\tbest: 0.8431740 (299)\ttotal: 49.4s\tremaining: 1m 54s\n",
      "Stopped by overfitting detector  (10 iterations wait)\n",
      "\n",
      "bestTest = 0.8433838746\n",
      "bestIteration = 323\n",
      "\n",
      "Shrink model to first 324 iterations.\n",
      "*********************\n",
      "roc auc estimado:  0.8500713785003561\n"
     ]
    }
   ],
   "source": [
    "# !pip install catboost\n",
    "from catboost import CatBoostClassifier\n",
    "from sklearn.metrics import roc_auc_score\n",
    "from sklearn.model_selection import KFold\n",
    "\n",
    "folds = [train.index[t] for t, v in KFold(5).split(train)]\n",
    "test_probs = []\n",
    "train_probs = []\n",
    "fi = []\n",
    "for i, idx in enumerate(folds):\n",
    "    print(\"*\"*10, i, \"*\"*10)\n",
    "    Xt = train.loc[idx]\n",
    "    yt = y_train.loc[Xt.index]\n",
    "\n",
    "    Xv = train.drop(Xt.index)\n",
    "    yv = y_train.loc[Xv.index]\n",
    "    \n",
    "    learner = CatBoostClassifier(n_estimators=1000, depth = 6, eval_metric = 'AUC' )\n",
    "    learner.fit(Xt, yt,  early_stopping_rounds=10,\n",
    "                eval_set=[(Xt, yt), (Xv, yv)], verbose=50)\n",
    "    test_probs.append(pd.Series(learner.predict_proba(test)[:, -1], index=test.index, name=\"fold_\" + str(i)))\n",
    "    train_probs.append(pd.Series(learner.predict_proba(Xv)[:, -1], index=Xv.index, name=\"probs\"))\n",
    "    fi.append(pd.Series(learner.feature_importances_ / learner.feature_importances_.sum(), index=Xt.columns))\n",
    "          \n",
    "test_probs = pd.concat(test_probs, axis=1).mean(axis=1)\n",
    "train_probs = pd.concat(train_probs)\n",
    "fi = pd.concat(fi, axis=1).mean(axis=1)\n",
    "\n",
    "print(\"*\" * 21)\n",
    "print(\"roc auc estimado: \", roc_auc_score(y_train, train_probs.loc[y_train.index]))"
   ]
  },
  {
   "cell_type": "code",
   "execution_count": 17,
   "metadata": {},
   "outputs": [
    {
     "data": {
      "text/plain": [
       "COD_CLASIFICACION_DEUDOR_nunique_ult1mes    0.106535\n",
       "cod_instit_financiera_nunique_ult7mes       0.056005\n",
       "saldo_sum_ult12mes                          0.050954\n",
       "PRODUCTO_mode_ult1mes                       0.031634\n",
       "cod_instit_financiera_mode_ult1mes          0.030985\n",
       "agundia4                                    0.029895\n",
       "PRODUCTO_nunique_ult7mes                    0.029384\n",
       "saldo_std_ult2mes                           0.029234\n",
       "COD_CLASIFICACION_DEUDOR_nunique_ult2mes    0.029217\n",
       "condicion_max_ult6mes                       0.027680\n",
       "acteco12                                    0.026442\n",
       "saldo_std_ult12mes                          0.022639\n",
       "edad                                        0.022363\n",
       "acteco2                                     0.020359\n",
       "tip_lvledu                                  0.016809\n",
       "COD_CLASIFICACION_DEUDOR_max_ult11mes       0.016758\n",
       "tipo_credito_mode_ult1mes                   0.015293\n",
       "cod_ubi                                     0.013419\n",
       "sexo                                        0.012525\n",
       "zon_der                                     0.012310\n",
       "prv                                         0.012294\n",
       "cod_instit_financiera_mode_ult12mes         0.012136\n",
       "PRODUCTO_mode_ult5mes                       0.011835\n",
       "PRODUCTO_mode_ult2mes                       0.011810\n",
       "cod_instit_financiera_mode_ult11mes         0.009855\n",
       "condicion_std_ult12mes                      0.009683\n",
       "PRODUCTO_mode_ult9mes                       0.009484\n",
       "cod_instit_financiera_mode_ult2mes          0.009372\n",
       "flg_sin_email                               0.009077\n",
       "sit_lab                                     0.008396\n",
       "dtype: float64"
      ]
     },
     "execution_count": 17,
     "metadata": {},
     "output_type": "execute_result"
    }
   ],
   "source": [
    "fi.sort_values(ascending=False).head(30)#.plot.bar()"
   ]
  },
  {
   "cell_type": "code",
   "execution_count": 19,
   "metadata": {},
   "outputs": [],
   "source": [
    "test_probs.name = \"target\"\n",
    "test_probs.to_csv(\"test3_v2.csv\")"
   ]
  }
 ],
 "metadata": {
  "kernelspec": {
   "display_name": "Python 3",
   "language": "python",
   "name": "python3"
  },
  "language_info": {
   "codemirror_mode": {
    "name": "ipython",
    "version": 3
   },
   "file_extension": ".py",
   "mimetype": "text/x-python",
   "name": "python",
   "nbconvert_exporter": "python",
   "pygments_lexer": "ipython3",
   "version": "3.7.6"
  }
 },
 "nbformat": 4,
 "nbformat_minor": 4
}
