{
 "cells": [
  {
   "cell_type": "markdown",
   "id": "stuffed-immunology",
   "metadata": {},
   "source": [
    "## Importar Librerías Estándares"
   ]
  },
  {
   "cell_type": "code",
   "execution_count": 1,
   "id": "primary-template",
   "metadata": {},
   "outputs": [],
   "source": [
    "import pandas as pd\n",
    "import numpy as np\n",
    "import statistics as stat\n",
    "import gc"
   ]
  },
  {
   "cell_type": "markdown",
   "id": "circular-means",
   "metadata": {},
   "source": [
    "## Declarar Funciones"
   ]
  },
  {
   "cell_type": "code",
   "execution_count": 2,
   "id": "bored-shield",
   "metadata": {},
   "outputs": [],
   "source": [
    "def get_rcc():\n",
    "    rcc_train = pd.read_csv(f'{path}/rcc_train.csv')\n",
    "    rcc_test = pd.read_csv(f'{path}/rcc_test.csv')\n",
    "    ##### inputar datos faltantes en la base de rcc_test\n",
    "    rcc_test['cod_instit_financiera'].fillna(rcc_test['cod_instit_financiera'].value_counts().index[0], inplace=True)\n",
    "    rcc_test['PRODUCTO'].fillna(rcc_test['PRODUCTO'].value_counts().index[0], inplace=True)\n",
    "\n",
    "    dict_ = {'codmes': 'int32',\n",
    "     'key_value': 'int32',\n",
    "     'condicion': 'int32',\n",
    "     'tipo_credito': 'int32',\n",
    "     'cod_instit_financiera': 'int32',\n",
    "     'PRODUCTO': 'int32',\n",
    "     'RIESGO_DIRECTO': 'int32',\n",
    "     'COD_CLASIFICACION_DEUDOR': 'int32'}\n",
    "    rcc_train = rcc_train.astype(dict_)\n",
    "    rcc_test = rcc_test.astype(dict_)\n",
    "    return rcc_train, rcc_test"
   ]
  },
  {
   "cell_type": "code",
   "execution_count": 3,
   "id": "clinical-smith",
   "metadata": {},
   "outputs": [],
   "source": [
    "def get_rcc_list(df, desde, n):\n",
    "    rcc_list=[]\n",
    "    for feature in ['cod_instit_financiera','PRODUCTO']:\n",
    "        rcc_list.append(get_unstack(df, feature, desde, n, 'Sum'))\n",
    "        rcc_list.append(get_unstack(df, feature, desde, n, 'Unique'))\n",
    "        rcc_list.append(get_unstack(df, feature, desde, n, 'Min'))\n",
    "        rcc_list.append(get_unstack(df, feature, desde, n, 'Max'))\n",
    "        rcc_list.append(get_unstack(df, feature, desde, n, 'Std'))\n",
    "        rcc_list.append(get_unstack(df, feature, desde, n, 'Mean'))\n",
    "        rcc_list.append(get_unstack(df, feature, desde, n, 'Median'))\n",
    "    return rcc_list"
   ]
  },
  {
   "cell_type": "code",
   "execution_count": 4,
   "id": "former-correspondence",
   "metadata": {},
   "outputs": [],
   "source": [
    "def calculate_mode(x):\n",
    "    try:\n",
    "        moda=stat.mode(x)\n",
    "    except:\n",
    "        moda=np.nan\n",
    "    return moda"
   ]
  },
  {
   "cell_type": "code",
   "execution_count": 5,
   "id": "cognitive-measure",
   "metadata": {},
   "outputs": [],
   "source": [
    "def get_keep_columns(train, test):\n",
    "    print(train.shape, test.shape)\n",
    "    keep_columns = list(set(train.columns).intersection(test.columns))\n",
    "    train = train[keep_columns]\n",
    "    test = test[keep_columns]\n",
    "    print(train.shape, test.shape)\n",
    "    return  train, test"
   ]
  },
  {
   "cell_type": "code",
   "execution_count": 6,
   "id": "moved-packet",
   "metadata": {},
   "outputs": [],
   "source": [
    "from lightgbm import LGBMClassifier\n",
    "from sklearn.metrics import roc_auc_score\n",
    "from sklearn.model_selection import KFold\n",
    "\n",
    "def cross_validation_lightgbm(train, y_train, test):\n",
    "    folds = [train.index[t] for t, v in KFold(5).split(train)]\n",
    "    test_probs = []\n",
    "    train_probs = []\n",
    "    fi = []\n",
    "    for i, idx in enumerate(folds):\n",
    "        print(\"*\"*10, i, \"*\"*10)\n",
    "        Xt = train.loc[idx]\n",
    "        yt = y_train.loc[Xt.index].target\n",
    "\n",
    "        Xv = train.drop(Xt.index)\n",
    "        yv = y_train.loc[Xv.index].target\n",
    "\n",
    "        learner = LGBMClassifier(n_estimators=1000, boosting_type='gbdt',min_child_samples=1500, \n",
    "                       colsample_bytree=0.8,subsample=0.8, max_bin=200, learning_rate=0.1, random_state=42)\n",
    "        learner.fit(Xt, yt,  early_stopping_rounds=10, eval_metric=\"auc\",\n",
    "                    eval_set=[(Xt, yt), (Xv, yv)], verbose=50)\n",
    "        test_probs.append(pd.Series(learner.predict_proba(test)[:, -1], index=test.index, name=\"fold_\" + str(i)))\n",
    "        train_probs.append(pd.Series(learner.predict_proba(Xv)[:, -1], index=Xv.index, name=\"probs\"))\n",
    "        fi.append(pd.Series(learner.feature_importances_ / learner.feature_importances_.sum(), index=Xt.columns))\n",
    "\n",
    "    test_probs = pd.concat(test_probs, axis=1).mean(axis=1)\n",
    "    train_probs = pd.concat(train_probs)\n",
    "    fi = pd.concat(fi, axis=1).mean(axis=1)\n",
    "    print(\"*\" * 21)\n",
    "    print(\"roc auc estimado: \", roc_auc_score(y_train, train_probs.loc[y_train.index]))\n",
    "    print(\"roc auc varianza: \", np.std([roc_auc_score(y_train.loc[folds[i]], train_probs.iloc[folds[i]]) for i in range(len(folds))])) \n",
    "    return test_probs, fi"
   ]
  },
  {
   "cell_type": "code",
   "execution_count": 7,
   "id": "pretty-equality",
   "metadata": {},
   "outputs": [],
   "source": [
    "def get_feature_selection(fi):\n",
    "    zero_importance = fi[fi==0]\n",
    "    aux = fi[fi>0].sort_values(ascending=False)\n",
    "    keep_columns = []\n",
    "    count = 0\n",
    "    for feature,values in zip(aux.index, aux.values):\n",
    "        count+=values\n",
    "        if count<=0.99:\n",
    "            keep_columns.append(feature)\n",
    "            \n",
    "    print(f'total de variables : {len(fi)}')\n",
    "    print(f'variables con importancia acumulada al 99% : {len(keep_columns)}')\n",
    "    print(f'variables con zero importancia : {len(zero_importance)}')\n",
    "    return keep_columns, zero_importance"
   ]
  },
  {
   "cell_type": "code",
   "execution_count": 8,
   "id": "martial-majority",
   "metadata": {},
   "outputs": [],
   "source": [
    "def get_one_hot(df, feature):\n",
    "    one_hot = pd.get_dummies(df[feature])\n",
    "    one_hot.columns = [feature+'_'+str(i) for i in one_hot.columns]\n",
    "    return one_hot"
   ]
  },
  {
   "cell_type": "code",
   "execution_count": 9,
   "id": "aquatic-doubt",
   "metadata": {},
   "outputs": [],
   "source": [
    "def get_crosstab(df, index, feature):\n",
    "    df = pd.crosstab(df[index], df[feature])\n",
    "    df.columns = [f'{df.columns.name}_{i}' for i in df.columns]\n",
    "    return df"
   ]
  },
  {
   "cell_type": "code",
   "execution_count": 10,
   "id": "forty-literacy",
   "metadata": {},
   "outputs": [],
   "source": [
    "global keep_columns_final\n",
    "keep_columns_final = ['edad', 'ubigeo_mode', 'sexo_0', 'PRODUCTO_1_saldoMean_ult1meses', 'PRODUCTO_1_saldoMax_ult1meses', 'PRODUCTO_3_saldoUnique_ult12meses', 'estadocontribuyente_0', 'PRODUCTO_1_saldoSum_ult1meses', 'RIESGO_DIRECTO_1_saldoStd_ult1meses', 'COD_CLASIFICACION_DEUDOR_0_saldoUnique_ult12meses', 'PRODUCTO_8_saldoUnique_ult12meses', 'RIESGO_DIRECTO_1_saldoSum_ult1meses', 'cod_instit_financiera_34_saldoUnique_ult12meses', 'PRODUCTO_0_saldoMin_ult12meses', 'ciiu_mode', 'PRODUCTO_6_saldoSum_ult12meses', 'PRODUCTO_4_saldoStd_ult12meses', 'RIESGO_DIRECTO_1_saldoUnique_ult12meses', 'PRODUCTO_1_saldoMedian_ult1meses', 'RIESGO_DIRECTO_1_saldoMax_ult12meses', 'condicion_0_saldoUnique_ult12meses', 'PRODUCTO_8_saldoSum_ult12meses', 'PRODUCTO_1_saldoMedian_ult2meses', 'PRODUCTO_1_saldoMax_ult3meses', 'PRODUCTO_0_saldoStd_ult1meses', 'PRODUCTO_1_saldoMedian_ult3meses', 'RIESGO_DIRECTO_-1_saldoMedian_ult1meses', 'RIESGO_DIRECTO_1_saldoMin_ult1meses', 'PRODUCTO_0_saldoStd_ult12meses', 'PRODUCTO_8_saldoMedian_ult12meses', 'PRODUCTO_0_saldoMax_ult1meses', 'ctd_veh', 'PRODUCTO_3_saldoMean_ult1meses', 'PRODUCTO_1_saldoSum_ult2meses', 'fecalta_mean', 'PRODUCTO_12_saldoMin_ult1meses', 'RIESGO_DIRECTO_-1_saldoMedian_ult2meses', 'PRODUCTO_1_saldoStd_ult2meses', 'PRODUCTO_6_saldoMax_ult1meses', 'PRODUCTO_2_saldoUnique_ult12meses', 'fecalta_min', 'PRODUCTO_8_saldoMin_ult12meses', 'cod_instit_financiera_10_saldoStd_ult1meses', 'PRODUCTO_1_saldoStd_ult1meses', 'PRODUCTO_6_saldoMin_ult12meses', 'PRODUCTO_1_saldoSum_ult12meses', 'PRODUCTO_1_saldoMin_ult1meses', 'PRODUCTO_0_saldoMin_ult1meses', 'RIESGO_DIRECTO_1_saldoStd_ult12meses', 'RIESGO_DIRECTO_-1_saldoUnique_ult12meses', 'cod_instit_financiera_max_ult1mes', 'PRODUCTO_3_saldoMedian_ult1meses', 'PRODUCTO_1_saldoMean_ult3meses', 'rgn_4', 'cod_instit_financiera_28_saldoMax_ult12meses', 'RIESGO_DIRECTO_1_saldoMedian_ult1meses', 'PRODUCTO_1_saldoStd_ult3meses', 'PRODUCTO_7_saldoMax_ult12meses', 'PRODUCTO_3_saldoMin_ult1meses', 'PRODUCTO_1_saldoMax_ult2meses', 'PRODUCTO_1_saldoSum_ult3meses', 'PRODUCTO_1_saldoMean_ult2meses', 'RIESGO_DIRECTO_1_saldoMedian_ult12meses', 'PRODUCTO_4_saldoStd_ult1meses', 'PRODUCTO_6_saldoMean_ult12meses', 'PRODUCTO_6_saldoMedian_ult12meses', 'PRODUCTO_7_saldoMin_ult12meses', 'PRODUCTO_8_saldoMax_ult12meses', 'estadocontribuyente_3', 'tipo_credito_12_saldoUnique_ult12meses', 'RIESGO_DIRECTO_1_saldoStd_ult2meses', 'rgn_3', 'PRODUCTO_12_saldoMax_ult1meses', 'PRODUCTO_3_saldoMedian_ult12meses', 'PRODUCTO_11_saldoMax_ult1meses', 'PRODUCTO_3_saldoMin_ult12meses', 'RIESGO_DIRECTO_1_saldoUnique_ult1meses', 'estadotributo_mode', 'PRODUCTO_6_saldoStd_ult12meses', 'PRODUCTO_6_saldoStd_ult1meses', 'PRODUCTO_0_saldoStd_ult2meses', 'PRODUCTO_1_saldoStd_ult12meses', 'cod_instit_financiera_55_saldoSum_ult12meses', 'PRODUCTO_3_saldoMax_ult1meses', 'cod_instit_financiera_33_saldoStd_ult12meses', 'cod_instit_financiera_10_saldoMin_ult1meses', 'cod_instit_financiera_61_saldoSum_ult12meses', 'cod_instit_financiera_32_saldoStd_ult1meses', 'PRODUCTO_4_saldoSum_ult1meses', 'PRODUCTO_3_saldoMedian_ult3meses', 'cod_instit_financiera_34_saldoSum_ult12meses', 'PRODUCTO_3_saldoMedian_ult2meses', 'PRODUCTO_15_saldoMin_ult12meses', 'PRODUCTO_15_saldoStd_ult12meses', 'PRODUCTO_7_saldoMean_ult12meses', 'PRODUCTO_11_saldoMin_ult12meses', 'cod_instit_financiera_mode_ult1mes', 'cod_instit_financiera_37_saldoMin_ult1meses', 'PRODUCTO_13_saldoMax_ult1meses', 'PRODUCTO_6_saldoMax_ult12meses', 'PRODUCTO_1_saldoMedian_ult12meses', 'cod_instit_financiera_32_saldoSum_ult12meses', 'RIESGO_DIRECTO_1_saldoMedian_ult2meses', 'cod_instit_financiera_8_saldoUnique_ult12meses', 'cod_instit_financiera_32_saldoUnique_ult12meses', 'PRODUCTO_2_saldoSum_ult12meses', 'PRODUCTO_15_saldoStd_ult2meses', 'PRODUCTO_3_saldoMin_ult2meses', 'cod_instit_financiera_61_saldoStd_ult1meses', 'PRODUCTO_3_saldoSum_ult1meses', 'PRODUCTO_11_saldoStd_ult1meses', 'RIESGO_DIRECTO_1_saldoMean_ult1meses', 'cod_instit_financiera_46_saldoUnique_ult12meses', 'rgn_2', 'cod_instit_financiera_15_saldoUnique_ult12meses', 'cod_instit_financiera_1_saldoUnique_ult12meses', 'cod_instit_financiera_10_saldoMedian_ult1meses', 'PRODUCTO_4_saldoStd_ult2meses', 'cod_instit_financiera_10_saldoStd_ult12meses', 'RIESGO_DIRECTO_1_saldoMin_ult12meses', 'fecalta_max', 'condicion_0_saldoMedian_ult1meses', 'est_cvl_0', 'rgn_6', 'PRODUCTO_6_saldoMean_ult1meses', 'PRODUCTO_6_saldoMean_ult3meses', 'codzona_mode', 'PRODUCTO_4_saldoMedian_ult12meses', 'PRODUCTO_4_saldoMax_ult12meses', 'PRODUCTO_0_saldoSum_ult1meses', 'RIESGO_DIRECTO_1_saldoMin_ult2meses', 'COD_CLASIFICACION_DEUDOR_0_saldoMedian_ult1meses', 'cod_instit_financiera_33_saldoSum_ult12meses', 'RIESGO_DIRECTO_-1_saldoSum_ult12meses', 'cod_instit_financiera_10_saldoUnique_ult12meses', 'codvia_mode', 'PRODUCTO_7_saldoUnique_ult12meses', 'PRODUCTO_0_saldoMedian_ult2meses', 'tipo_credito_11_saldoStd_ult1meses', 'PRODUCTO_11_saldoUnique_ult12meses', 'PRODUCTO_6_saldoMedian_ult3meses', 'cod_instit_financiera_min_ult1mes', 'PRODUCTO_3_saldoSum_ult12meses', 'PRODUCTO_8_saldoMean_ult12meses', 'cod_instit_financiera_10_saldoStd_ult2meses', 'RIESGO_DIRECTO_-1_saldoSum_ult1meses', 'PRODUCTO_0_saldoMean_ult1meses', 'PRODUCTO_6_saldoSum_ult1meses', 'PRODUCTO_13_saldoStd_ult12meses', 'PRODUCTO_6_saldoSum_ult2meses', 'PRODUCTO_6_saldoMean_ult2meses', 'RIESGO_DIRECTO_1_saldoMedian_ult4meses', 'PRODUCTO_3_saldoSum_ult3meses', 'tipo_credito_11_saldoMedian_ult12meses', 'RIESGO_DIRECTO_1_saldoMedian_ult11meses', 'PRODUCTO_11_saldoStd_ult3meses', 'cod_instit_financiera_37_saldoUnique_ult12meses', 'PRODUCTO_7_saldoMedian_ult12meses', 'PRODUCTO_9_saldoMax_ult12meses', 'RIESGO_DIRECTO_1_saldoMax_ult1meses', 'cod_instit_financiera_max_ult12mes', 'cod_instit_financiera_11_saldoUnique_ult12meses', 'PRODUCTO_1_saldoMax_ult12meses', 'PRODUCTO_1_saldoUnique_ult12meses', 'RIESGO_DIRECTO_1_saldoMean_ult12meses', 'cod_instit_financiera_13_saldoUnique_ult12meses', 'PRODUCTO_1_saldoMean_ult12meses', 'PRODUCTO_4_saldoMin_ult12meses', 'PRODUCTO_11_saldoStd_ult12meses', 'RIESGO_DIRECTO_1_saldoMedian_ult3meses', 'PRODUCTO_2_saldoStd_ult2meses', 'tipo_credito_11_saldoMedian_ult1meses', 'PRODUCTO_8_saldoMax_ult1meses', 'PRODUCTO_15_saldoSum_ult12meses', 'PRODUCTO_1_saldoMin_ult2meses', 'PRODUCTO_11_saldoStd_ult2meses', 'COD_CLASIFICACION_DEUDOR_0_saldoMin_ult1meses', 'cod_instit_financiera_46_saldoStd_ult1meses', 'PRODUCTO_8_saldoMedian_ult1meses', 'cod_instit_financiera_13_saldoMedian_ult12meses', 'PRODUCTO_20_saldoStd_ult3meses', 'PRODUCTO_3_saldoMean_ult2meses', 'RIESGO_DIRECTO_1_saldoMin_ult10meses', 'sexo_1', 'RIESGO_DIRECTO_1_saldoMin_ult11meses', 'PRODUCTO_4_saldoStd_ult3meses', 'PRODUCTO_8_saldoMin_ult2meses', 'cod_instit_financiera_32_saldoMin_ult12meses', 'tipo_credito_12_saldoMin_ult1meses', 'cod_instit_financiera_37_saldoMin_ult2meses', 'PRODUCTO_8_saldoSum_ult3meses', 'PRODUCTO_1_saldoUnique_ult1meses', 'RIESGO_DIRECTO_-1_saldoMedian_ult3meses', 'COD_CLASIFICACION_DEUDOR_4_saldoMin_ult1meses', 'tipo_credito_12_saldoSum_ult12meses', 'PRODUCTO_1_saldoMin_ult3meses', 'cod_instit_financiera_55_saldoMax_ult12meses', 'cod_instit_financiera_1_saldoMin_ult1meses', 'tipo_credito_10_saldoUnique_ult2meses', 'tipo_credito_12_saldoMedian_ult3meses', 'PRODUCTO_9_saldoUnique_ult12meses', 'PRODUCTO_8_saldoMin_ult3meses', 'PRODUCTO_0_saldoSum_ult12meses', 'tipo_credito_12_saldoMedian_ult12meses', 'COD_CLASIFICACION_DEUDOR_1_saldoUnique_ult12meses', 'condicion_0_saldoSum_ult12meses', 'condicion_1_saldoStd_ult7meses', 'COD_CLASIFICACION_DEUDOR_0_saldoSum_ult12meses', 'PRODUCTO_0_saldoMedian_ult12meses', 'PRODUCTO_0_saldoSum_ult3meses', 'tipo_credito_12_saldoSum_ult1meses', 'RIESGO_DIRECTO_1_saldoMin_ult3meses', 'PRODUCTO_11_saldoMedian_ult12meses', 'PRODUCTO_3_saldoSum_ult2meses', 'tipo_credito_12_saldoMin_ult12meses', 'PRODUCTO_3_saldoStd_ult1meses', 'PRODUCTO_4_saldoMean_ult12meses', 'condiciondomicilio_mode', 'PRODUCTO_8_saldoStd_ult3meses', 'cod_instit_financiera_34_saldoMin_ult12meses', 'RIESGO_DIRECTO_2_saldoSum_ult2meses', 'RIESGO_DIRECTO_1_saldoMax_ult11meses', 'PRODUCTO_0_saldoStd_ult3meses', 'PRODUCTO_0_saldoMedian_ult3meses', 'PRODUCTO_4_saldoMin_ult2meses', 'PRODUCTO_6_saldoStd_ult2meses', 'cod_instit_financiera_37_saldoMedian_ult1meses', 'PRODUCTO_0_saldoMin_ult2meses', 'tipo_credito_11_saldoUnique_ult12meses', 'tipo_credito_12_saldoMedian_ult1meses', 'PRODUCTO_3_saldoMean_ult12meses', 'RIESGO_DIRECTO_3_saldoMin_ult10meses', 'PRODUCTO_6_saldoMin_ult2meses', 'tipo_credito_12_saldoMedian_ult4meses', 'PRODUCTO_12_saldoUnique_ult3meses', 'COD_CLASIFICACION_DEUDOR_0_saldoSum_ult1meses', 'RIESGO_DIRECTO_1_saldoSum_ult2meses', 'PRODUCTO_4_saldoMin_ult1meses', 'tipo_credito_10_saldoSum_ult2meses', 'PRODUCTO_11_saldoSum_ult12meses', 'tipo_credito_11_saldoSum_ult1meses', 'codentidadtributo_mode', 'cod_instit_financiera_28_saldoMedian_ult12meses', 'RIESGO_DIRECTO_-1_saldoSum_ult2meses', 'tipo_credito_12_saldoMean_ult11meses', 'PRODUCTO_2_saldoMin_ult1meses', 'cod_instit_financiera_55_saldoMedian_ult12meses', 'cod_instit_financiera_32_saldoUnique_ult1meses', 'cod_instit_financiera_28_saldoStd_ult12meses', 'PRODUCTO_6_saldoMedian_ult1meses', 'PRODUCTO_2_saldoStd_ult12meses', 'PRODUCTO_6_saldoUnique_ult12meses', 'PRODUCTO_6_saldoMax_ult2meses', 'fecalta_std', 'COD_CLASIFICACION_DEUDOR_0_saldoMax_ult1meses', 'PRODUCTO_4_saldoUnique_ult1meses', 'tipo_credito_12_saldoMin_ult11meses', 'PRODUCTO_1_saldoMin_ult12meses', 'cod_instit_financiera_61_saldoUnique_ult12meses', 'condicion_1_saldoMax_ult3meses', 'RIESGO_DIRECTO_1_saldoMin_ult6meses', 'PRODUCTO_15_saldoMin_ult2meses', 'PRODUCTO_3_saldoStd_ult12meses', 'cod_instit_financiera_28_saldoMedian_ult2meses', 'cod_instit_financiera_28_saldoMean_ult12meses', 'tipo_credito_10_saldoSum_ult12meses', 'PRODUCTO_0_saldoMean_ult12meses', 'PRODUCTO_3_saldoStd_ult3meses', 'RIESGO_DIRECTO_-1_saldoMedian_ult12meses', 'cod_instit_financiera_55_saldoMedian_ult2meses', 'PRODUCTO_0_saldoMedian_ult1meses', 'cod_instit_financiera_46_saldoMedian_ult12meses',\n",
    " 'PRODUCTO_8_saldoMin_ult1meses', 'PRODUCTO_6_saldoMin_ult1meses', 'cod_instit_financiera_1_saldoUnique_ult1meses', 'cod_instit_financiera_33_saldoUnique_ult12meses', 'cod_instit_financiera_10_saldoMean_ult12meses', 'condicion_0_saldoMean_ult12meses', 'PRODUCTO_15_saldoUnique_ult12meses', 'PRODUCTO_6_saldoSum_ult3meses', 'tipo_credito_12_saldoMean_ult1meses', 'condicion_8_saldoMedian_ult12meses', 'PRODUCTO_0_saldoMax_ult12meses', 'cod_instit_financiera_13_saldoStd_ult1meses', 'cod_instit_financiera_34_saldoMin_ult1meses', 'PRODUCTO_5_saldoSum_ult12meses', 'condicion_1_saldoStd_ult12meses', 'RIESGO_DIRECTO_1_saldoStd_ult3meses', 'cod_instit_financiera_34_saldoUnique_ult1meses', 'tipo_credito_10_saldoMin_ult12meses', 'cod_instit_financiera_55_saldoStd_ult12meses', 'PRODUCTO_4_saldoSum_ult12meses', 'tipo_credito_12_saldoMedian_ult2meses', 'RIESGO_DIRECTO_-1_saldoMean_ult1meses', 'PRODUCTO_2_saldoMin_ult12meses', 'tipo_credito_11_saldoMin_ult1meses', 'COD_CLASIFICACION_DEUDOR_5_saldoMin_ult1meses', 'PRODUCTO_5_saldoUnique_ult12meses', 'cod_instit_financiera_45_saldoStd_ult12meses', 'condicion_1_saldoMax_ult8meses', 'cod_instit_financiera_mode_ult4mes', 'condicion_1_saldoMin_ult12meses', 'tipo_credito_12_saldoMax_ult1meses', 'cod_instit_financiera_28_saldoStd_ult1meses', 'tipo_credito_12_saldoMin_ult3meses', 'PRODUCTO_11_saldoMin_ult1meses', 'tipo_credito_12_saldoSum_ult3meses', 'RIESGO_DIRECTO_1_saldoStd_ult5meses', 'RIESGO_DIRECTO_1_saldoSum_ult12meses', 'condicion_1_saldoMax_ult2meses', 'PRODUCTO_0_saldoSum_ult2meses', 'PRODUCTO_15_saldoMedian_ult12meses', 'cod_instit_financiera_1_saldoMean_ult12meses', 'PRODUCTO_11_saldoMedian_ult1meses', 'cod_instit_financiera_19_saldoUnique_ult12meses', 'PRODUCTO_0_saldoUnique_ult2meses', 'PRODUCTO_6_saldoMin_ult3meses', 'PRODUCTO_1_saldoUnique_ult2meses', 'cod_instit_financiera_mode_ult2mes', 'RIESGO_DIRECTO_1_saldoMin_ult4meses', 'condicion_2_saldoMin_ult12meses', 'PRODUCTO_11_saldoSum_ult3meses', 'cod_instit_financiera_10_saldoSum_ult1meses', 'PRODUCTO_3_saldoMean_ult3meses', 'PRODUCTO_8_saldoStd_ult12meses', 'COD_CLASIFICACION_DEUDOR_0_saldoUnique_ult11meses', 'RIESGO_DIRECTO_1_saldoStd_ult11meses', 'PRODUCTO_3_saldoMin_ult3meses', 'cod_instit_financiera_20_saldoMax_ult12meses', 'COD_CLASIFICACION_DEUDOR_0_saldoMedian_ult2meses', 'condicion_1_saldoMax_ult12meses', 'cod_instit_financiera_0_saldoMin_ult1meses', 'condicion_5_saldoMin_ult12meses', 'PRODUCTO_9_saldoSum_ult2meses', 'PRODUCTO_9_saldoStd_ult12meses', 'cod_instit_financiera_61_saldoStd_ult3meses', 'cod_instit_financiera_33_saldoStd_ult1meses', 'cod_instit_financiera_37_saldoSum_ult1meses', 'cod_instit_financiera_15_saldoMax_ult12meses', 'condicion_1_saldoStd_ult9meses', 'contabilidad_mode', 'cod_instit_financiera_33_saldoMin_ult12meses', 'tipo_credito_11_saldoMean_ult1meses', 'cod_instit_financiera_21_saldoStd_ult12meses', 'cod_instit_financiera_32_saldoSum_ult1meses', 'tipo_credito_12_saldoSum_ult8meses', 'condicion_0_saldoStd_ult12meses', 'COD_CLASIFICACION_DEUDOR_0_saldoSum_ult2meses', 'cod_instit_financiera_10_saldoMedian_ult12meses', 'RIESGO_DIRECTO_-1_saldoMedian_ult4meses', 'PRODUCTO_3_saldoMax_ult12meses', 'cod_instit_financiera_33_saldoMax_ult12meses', 'PRODUCTO_10_saldoUnique_ult12meses', 'tipo_credito_10_saldoMedian_ult1meses', 'cod_instit_financiera_37_saldoSum_ult2meses', 'cod_instit_financiera_mode_ult12mes', 'tipo_credito_12_saldoUnique_ult11meses', 'condicion_2_saldoMin_ult8meses', 'tipo_credito_12_saldoMin_ult2meses', 'PRODUCTO_15_saldoMax_ult12meses', 'cod_instit_financiera_min_ult2mes', 'cod_instit_financiera_2_saldoMedian_ult1meses', 'PRODUCTO_13_saldoStd_ult2meses', 'cod_instit_financiera_33_saldoSum_ult1meses', 'RIESGO_DIRECTO_-1_saldoMedian_ult5meses', 'cod_instit_financiera_max_ult2mes', 'cod_instit_financiera_46_saldoMin_ult12meses', 'tipo_credito_12_saldoMean_ult10meses', 'RIESGO_DIRECTO_1_saldoMin_ult5meses', 'cod_instit_financiera_10_saldoStd_ult3meses', 'tipo_credito_12_saldoMedian_ult8meses', 'RIESGO_DIRECTO_1_saldoMin_ult9meses', 'PRODUCTO_0_saldoMin_ult3meses', 'RIESGO_DIRECTO_-1_saldoMin_ult3meses', 'PRODUCTO_6_saldoStd_ult3meses', 'PRODUCTO_11_saldoSum_ult1meses', 'tipo_credito_12_saldoUnique_ult1meses', 'tipo_credito_12_saldoMean_ult12meses', 'condicion_0_saldoStd_ult1meses', 'tipo_credito_11_saldoMean_ult12meses', 'PRODUCTO_11_saldoMin_ult3meses', 'RIESGO_DIRECTO_1_saldoStd_ult4meses', 'rgn_5', 'cod_instit_financiera_11_saldoMean_ult12meses', 'PRODUCTO_9_saldoMin_ult12meses', 'tipcontribuyente_mode', 'RIESGO_DIRECTO_2_saldoSum_ult1meses', 'PRODUCTO_11_saldoUnique_ult1meses', 'PRODUCTO_0_saldoUnique_ult12meses', 'PRODUCTO_7_saldoSum_ult12meses', 'tipo_credito_11_saldoUnique_ult11meses', 'PRODUCTO_8_saldoStd_ult2meses', 'condicion_0_saldoSum_ult1meses', 'RIESGO_DIRECTO_2_saldoSum_ult10meses', 'cod_instit_financiera_54_saldoStd_ult12meses', 'cod_instit_financiera_32_saldoMin_ult1meses', 'COD_CLASIFICACION_DEUDOR_0_saldoMean_ult2meses', 'PRODUCTO_15_saldoStd_ult3meses', 'PRODUCTO_8_saldoMedian_ult3meses', 'diff_fech_mean', 'PRODUCTO_3_saldoMax_ult3meses', 'RIESGO_DIRECTO_2_saldoStd_ult11meses', 'rgn_1', 'cod_instit_financiera_min_ult11mes', 'tipo_credito_10_saldoMedian_ult4meses', 'cod_instit_financiera_10_saldoMedian_ult3meses', 'COD_CLASIFICACION_DEUDOR_1_saldoSum_ult1meses', 'cod_instit_financiera_0_saldoMedian_ult12meses', 'PRODUCTO_2_saldoStd_ult3meses', 'RIESGO_DIRECTO_-1_saldoStd_ult12meses', 'RIESGO_DIRECTO_1_saldoMedian_ult9meses', 'cod_instit_financiera_32_saldoStd_ult12meses', 'PRODUCTO_2_saldoStd_ult1meses', 'cod_instit_financiera_22_saldoSum_ult12meses', 'tipo_credito_11_saldoUnique_ult1meses', 'cod_instit_financiera_2_saldoUnique_ult12meses', 'COD_CLASIFICACION_DEUDOR_0_saldoUnique_ult2meses', 'COD_CLASIFICACION_DEUDOR_0_saldoMin_ult2meses', 'PRODUCTO_8_saldoSum_ult2meses', 'cod_instit_financiera_1_saldoMedian_ult12meses', 'cod_instit_financiera_61_saldoMin_ult3meses', 'tipo_credito_12_saldoMin_ult4meses', 'condicion_3_saldoStd_ult8meses', 'tipo_credito_12_saldoStd_ult2meses', 'cod_instit_financiera_1_saldoSum_ult12meses', 'tipo_credito_10_saldoUnique_ult1meses', 'RIESGO_DIRECTO_1_saldoSum_ult4meses', 'condicion_0_saldoMedian_ult2meses', 'cod_instit_financiera_37_saldoSum_ult12meses', 'cod_instit_financiera_38_saldoMedian_ult12meses', 'cod_instit_financiera_57_saldoMedian_ult2meses', 'COD_CLASIFICACION_DEUDOR_1_saldoMedian_ult12meses', 'cod_instit_financiera_65_saldoUnique_ult12meses', 'cod_instit_financiera_11_saldoUnique_ult3meses', 'cod_instit_financiera_mode_ult5mes', 'cod_instit_financiera_33_saldoMax_ult1meses', 'COD_CLASIFICACION_DEUDOR_0_saldoStd_ult1meses', 'tipo_credito_12_saldoMedian_ult5meses', 'cod_instit_financiera_34_saldoMin_ult3meses', 'condicion_1_saldoSum_ult8meses', 'condicion_9_saldoSum_ult1meses', 'COD_CLASIFICACION_DEUDOR_1_saldoMin_ult10meses', 'tipo_credito_12_saldoSum_ult11meses', 'tipo_credito_11_saldoMin_ult12meses', 'cod_instit_financiera_28_saldoMedian_ult1meses', 'tipo_credito_12_saldoStd_ult1meses', 'cod_instit_financiera_46_saldoStd_ult12meses', 'COD_CLASIFICACION_DEUDOR_0_saldoUnique_ult1meses', 'PRODUCTO_2_saldoMin_ult2meses', 'PRODUCTO_2_saldoMin_ult3meses', 'PRODUCTO_11_saldoMean_ult1meses', 'tipo_credito_10_saldoMedian_ult2meses', 'PRODUCTO_6_saldoMax_ult3meses', 'tipo_credito_12_saldoMin_ult10meses', 'PRODUCTO_11_saldoMax_ult12meses', 'RIESGO_DIRECTO_-1_saldoMin_ult1meses', 'cod_instit_financiera_11_saldoMedian_ult3meses', 'PRODUCTO_6_saldoMedian_ult2meses', 'cod_instit_financiera_11_saldoMin_ult3meses', 'cod_instit_financiera_0_saldoSum_ult1meses', 'COD_CLASIFICACION_DEUDOR_1_saldoUnique_ult2meses', 'condicion_3_saldoMedian_ult6meses', 'condicion_1_saldoMin_ult1meses', 'RIESGO_DIRECTO_-1_saldoMax_ult12meses', 'PRODUCTO_5_saldoStd_ult2meses', 'condicion_2_saldoMin_ult1meses', 'cod_instit_financiera_0_saldoStd_ult1meses', 'RIESGO_DIRECTO_-1_saldoUnique_ult11meses', 'tipo_credito_10_saldoSum_ult3meses', 'cod_instit_financiera_10_saldoSum_ult3meses', 'PRODUCTO_3_saldoStd_ult2meses', 'PRODUCTO_8_saldoMax_ult2meses', 'condicion_1_saldoMedian_ult2meses', 'cod_instit_financiera_max_ult3mes', 'condicion_0_saldoMean_ult2meses', 'RIESGO_DIRECTO_-1_saldoStd_ult1meses', 'PRODUCTO_5_saldoSum_ult3meses', 'condicion_1_saldoUnique_ult4meses', 'cod_instit_financiera_33_saldoMedian_ult12meses', 'cod_instit_financiera_34_saldoUnique_ult3meses', 'condicion_9_saldoStd_ult12meses', 'PRODUCTO_2_saldoMedian_ult12meses', 'PRODUCTO_0_saldoUnique_ult1meses', 'tipo_credito_12_saldoMax_ult12meses', 'PRODUCTO_5_saldoMin_ult12meses', 'COD_CLASIFICACION_DEUDOR_0_saldoMedian_ult5meses', 'tipo_credito_12_saldoMedian_ult11meses', 'PRODUCTO_15_saldoMedian_ult2meses', 'cod_instit_financiera_1_saldoSum_ult1meses', 'cod_instit_financiera_34_saldoMean_ult12meses', 'RIESGO_DIRECTO_-1_saldoMedian_ult10meses', 'tipo_credito_12_saldoUnique_ult9meses', 'tipo_credito_11_saldoSum_ult12meses', 'condicion_0_saldoSum_ult2meses', 'tipo_credito_12_saldoStd_ult12meses', 'cod_instit_financiera_33_saldoSum_ult2meses', 'COD_CLASIFICACION_DEUDOR_1_saldoUnique_ult4meses', 'PRODUCTO_11_saldoMedian_ult2meses', 'RIESGO_DIRECTO_-1_saldoMedian_ult11meses', 'tipo_credito_10_saldoMedian_ult5meses', 'condicion_3_saldoUnique_ult12meses', 'PRODUCTO_8_saldoMax_ult3meses', 'RIESGO_DIRECTO_1_saldoMedian_ult8meses', 'cod_instit_financiera_34_saldoSum_ult1meses', 'cod_instit_financiera_17_saldoStd_ult12meses', 'PRODUCTO_21_saldoStd_ult3meses', 'PRODUCTO_29_saldoSum_ult3meses', 'diff_fech_min', 'tipo_credito_10_saldoMedian_ult10meses', 'cod_instit_financiera_57_saldoMin_ult1meses', 'condicion_3_saldoMax_ult11meses', 'PRODUCTO_13_saldoMean_ult12meses', 'tipo_credito_12_saldoSum_ult2meses', 'RIESGO_DIRECTO_1_saldoMedian_ult7meses', 'cod_instit_financiera_1_saldoMin_ult3meses', 'RIESGO_DIRECTO_1_saldoStd_ult10meses', 'cod_instit_financiera_min_ult12mes', 'COD_CLASIFICACION_DEUDOR_1_saldoMedian_ult11meses', 'PRODUCTO_4_saldoUnique_ult12meses', 'RIESGO_DIRECTO_1_saldoMean_ult3meses', 'COD_CLASIFICACION_DEUDOR_1_saldoMedian_ult2meses',\n",
    "'COD_CLASIFICACION_DEUDOR_0_saldoMean_ult12meses', 'cod_instit_financiera_0_saldoMin_ult3meses', 'cod_instit_financiera_61_saldoSum_ult3meses', 'condicion_1_saldoMax_ult1meses', 'tipo_credito_10_saldoUnique_ult4meses', 'cod_instit_financiera_8_saldoMedian_ult2meses', 'COD_CLASIFICACION_DEUDOR_1_saldoSum_ult10meses', 'PRODUCTO_8_saldoMedian_ult2meses', 'PRODUCTO_8_saldoSum_ult1meses', 'cod_instit_financiera_10_saldoSum_ult12meses', 'PRODUCTO_mode_ult9mes', 'tipo_credito_12_saldoMedian_ult10meses', 'PRODUCTO_7_saldoStd_ult12meses', 'condicion_3_saldoMin_ult12meses', 'tipo_credito_10_saldoUnique_ult9meses', 'cod_instit_financiera_62_saldoMax_ult12meses', 'cod_instit_financiera_19_saldoSum_ult3meses', 'condicion_1_saldoSum_ult12meses', 'COD_CLASIFICACION_DEUDOR_5_saldoUnique_ult9meses', 'tipo_credito_10_saldoSum_ult1meses', 'PRODUCTO_0_saldoMax_ult2meses', 'PRODUCTO_11_saldoMax_ult3meses', 'cod_instit_financiera_28_saldoMax_ult1meses', 'cod_instit_financiera_57_saldoMin_ult3meses', 'cod_instit_financiera_34_saldoStd_ult12meses', 'PRODUCTO_5_saldoStd_ult12meses', 'PRODUCTO_15_saldoMean_ult12meses', 'condicion_3_saldoMax_ult12meses', 'RIESGO_DIRECTO_1_saldoSum_ult3meses', 'COD_CLASIFICACION_DEUDOR_1_saldoSum_ult12meses', 'PRODUCTO_11_saldoSum_ult2meses', 'cod_instit_financiera_37_saldoStd_ult12meses', 'cod_instit_financiera_11_saldoMedian_ult12meses', 'tipo_credito_10_saldoUnique_ult12meses', 'cod_instit_financiera_nunique_ult1mes', 'COD_CLASIFICACION_DEUDOR_3_saldoStd_ult1meses', 'cod_instit_financiera_34_saldoMedian_ult1meses', 'RIESGO_DIRECTO_1_saldoUnique_ult11meses', 'COD_CLASIFICACION_DEUDOR_3_saldoSum_ult9meses', 'tipo_credito_12_saldoMean_ult7meses', 'tipo_credito_12_saldoUnique_ult2meses', 'COD_CLASIFICACION_DEUDOR_4_saldoMin_ult11meses', 'cod_instit_financiera_37_saldoMin_ult3meses', 'PRODUCTO_max_ult1mes', 'RIESGO_DIRECTO_3_saldoMin_ult12meses', 'COD_CLASIFICACION_DEUDOR_1_saldoMax_ult12meses', 'tipo_credito_12_saldoMean_ult2meses', 'PRODUCTO_4_saldoSum_ult2meses', 'RIESGO_DIRECTO_2_saldoStd_ult12meses', 'RIESGO_DIRECTO_1_saldoStd_ult6meses', 'COD_CLASIFICACION_DEUDOR_0_saldoMedian_ult7meses', 'condicion_1_saldoStd_ult8meses', 'cod_instit_financiera_62_saldoMin_ult3meses', 'tipo_credito_12_saldoSum_ult7meses', 'condicion_0_saldoMedian_ult12meses', 'PRODUCTO_13_saldoMean_ult1meses', 'PRODUCTO_11_saldoMean_ult12meses', 'cod_instit_financiera_10_saldoMin_ult12meses', 'PRODUCTO_8_saldoStd_ult1meses', 'COD_CLASIFICACION_DEUDOR_1_saldoMedian_ult7meses', 'cod_instit_financiera_1_saldoMin_ult2meses', 'PRODUCTO_mode_ult1mes', 'PRODUCTO_2_saldoMedian_ult2meses', 'RIESGO_DIRECTO_1_saldoMedian_ult10meses', 'RIESGO_DIRECTO_3_saldoMin_ult11meses', 'cod_instit_financiera_10_saldoSum_ult2meses', 'cod_instit_financiera_20_saldoStd_ult12meses', 'PRODUCTO_2_saldoSum_ult1meses', 'cod_instit_financiera_55_saldoMax_ult3meses', 'condicion_9_saldoMedian_ult12meses', 'COD_CLASIFICACION_DEUDOR_0_saldoMedian_ult6meses', 'tipo_credito_10_saldoSum_ult8meses', 'PRODUCTO_20_saldoSum_ult12meses', 'COD_CLASIFICACION_DEUDOR_5_saldoMean_ult9meses', 'tipo_credito_12_saldoMin_ult8meses', 'PRODUCTO_15_saldoMin_ult3meses', 'condicion_0_saldoMax_ult12meses', 'tipo_credito_10_saldoSum_ult5meses', 'tipo_credito_12_saldoSum_ult4meses', 'cod_instit_financiera_1_saldoMax_ult12meses', 'COD_CLASIFICACION_DEUDOR_1_saldoSum_ult2meses', 'PRODUCTO_11_saldoMedian_ult3meses', 'tipo_credito_11_saldoUnique_ult2meses', 'RIESGO_DIRECTO_-1_saldoUnique_ult1meses', 'COD_CLASIFICACION_DEUDOR_1_saldoMean_ult12meses', 'RIESGO_DIRECTO_1_saldoMean_ult4meses', 'COD_CLASIFICACION_DEUDOR_4_saldoMin_ult12meses', 'condicion_9_saldoMedian_ult10meses', 'tipo_credito_12_saldoStd_ult10meses', 'tipo_credito_12_saldoMin_ult7meses', 'estadotributo_nunique', 'condicion_8_saldoMin_ult11meses', 'cod_instit_financiera_38_saldoMedian_ult1meses', 'RIESGO_DIRECTO_-1_saldoUnique_ult2meses', 'cod_instit_financiera_37_saldoStd_ult1meses', 'cod_instit_financiera_8_saldoSum_ult12meses', 'condicion_3_saldoStd_ult7meses', 'PRODUCTO_5_saldoSum_ult2meses', 'cod_instit_financiera_57_saldoSum_ult2meses', 'PRODUCTO_13_saldoStd_ult3meses', 'cod_instit_financiera_46_saldoStd_ult3meses', 'RIESGO_DIRECTO_-1_saldoMin_ult2meses', 'tipo_credito_12_saldoMean_ult9meses', 'RIESGO_DIRECTO_1_saldoMin_ult7meses', 'condicion_1_saldoStd_ult10meses', 'cod_instit_financiera_nunique_ult3mes', 'PRODUCTO_4_saldoMedian_ult2meses', 'PRODUCTO_8_saldoMean_ult1meses', 'RIESGO_DIRECTO_-1_saldoMedian_ult8meses', 'PRODUCTO_13_saldoMax_ult12meses', 'condicion_1_saldoMedian_ult12meses', 'cod_instit_financiera_11_saldoSum_ult3meses', 'condicion_1_saldoStd_ult11meses', 'tipo_credito_11_saldoMin_ult5meses', 'COD_CLASIFICACION_DEUDOR_3_saldoMedian_ult9meses', 'COD_CLASIFICACION_DEUDOR_0_saldoMedian_ult12meses', 'PRODUCTO_4_saldoMedian_ult3meses', 'condicion_3_saldoMedian_ult12meses', 'cod_instit_financiera_13_saldoMax_ult12meses', 'condicion_2_saldoMax_ult12meses', 'condicion_5_saldoMean_ult12meses', 'condicion_0_saldoMax_ult1meses', 'condicion_0_saldoMedian_ult5meses', 'cod_instit_financiera_61_saldoMedian_ult1meses', 'PRODUCTO_2_saldoUnique_ult3meses', 'cod_instit_financiera_45_saldoMax_ult12meses', 'cod_instit_financiera_27_saldoSum_ult12meses', 'cod_instit_financiera_18_saldoUnique_ult12meses', 'PRODUCTO_11_saldoMean_ult3meses', 'cod_instit_financiera_nunique_ult5mes', 'cod_instit_financiera_11_saldoMedian_ult2meses', 'tipo_credito_12_saldoUnique_ult3meses', 'PRODUCTO_max_ult3mes', 'RIESGO_DIRECTO_1_saldoMean_ult2meses', 'tipo_credito_10_saldoMedian_ult3meses', 'cod_instit_financiera_28_saldoUnique_ult12meses', 'PRODUCTO_13_saldoSum_ult12meses', 'RIESGO_DIRECTO_-1_saldoMedian_ult6meses', 'RIESGO_DIRECTO_1_saldoSum_ult11meses', 'cod_instit_financiera_max_ult11mes', 'PRODUCTO_4_saldoMax_ult1meses', 'PRODUCTO_3_saldoMax_ult2meses', 'RIESGO_DIRECTO_1_saldoMax_ult10meses', 'RIESGO_DIRECTO_-1_saldoMean_ult12meses', 'tipo_credito_11_saldoSum_ult9meses', 'cod_instit_financiera_61_saldoMin_ult2meses', 'PRODUCTO_0_saldoMean_ult2meses', 'tipo_credito_11_saldoMedian_ult11meses', 'RIESGO_DIRECTO_-1_saldoStd_ult10meses', 'cod_instit_financiera_65_saldoMedian_ult12meses', 'COD_CLASIFICACION_DEUDOR_3_saldoStd_ult4meses', 'cod_instit_financiera_18_saldoMedian_ult12meses', 'tipo_credito_12_saldoSum_ult5meses', 'COD_CLASIFICACION_DEUDOR_0_saldoMean_ult1meses', 'tipo_credito_11_saldoMean_ult9meses', 'RIESGO_DIRECTO_1_saldoMean_ult7meses', 'COD_CLASIFICACION_DEUDOR_0_saldoMedian_ult3meses', 'PRODUCTO_11_saldoMax_ult2meses', 'cod_instit_financiera_55_saldoMean_ult3meses', 'cod_instit_financiera_max_ult9mes', 'RIESGO_DIRECTO_-1_saldoMedian_ult7meses', 'condicion_2_saldoMax_ult5meses', 'COD_CLASIFICACION_DEUDOR_1_saldoMedian_ult1meses', 'tipo_credito_12_saldoMedian_ult7meses', 'cod_instit_financiera_1_saldoMax_ult1meses', 'cod_instit_financiera_21_saldoStd_ult3meses', 'tipo_credito_10_saldoMin_ult1meses', 'COD_CLASIFICACION_DEUDOR_1_saldoMax_ult10meses', 'condicion_3_saldoSum_ult9meses', 'RIESGO_DIRECTO_2_saldoMean_ult1meses', 'condicion_1_saldoSum_ult11meses', 'condicion_0_saldoMin_ult1meses', 'cod_instit_financiera_15_saldoMedian_ult12meses', 'RIESGO_DIRECTO_-1_saldoMax_ult1meses', 'cod_instit_financiera_19_saldoMax_ult12meses', 'condicion_1_saldoMean_ult2meses', 'tipo_credito_12_saldoMin_ult5meses', 'condicion_0_saldoMin_ult2meses', 'PRODUCTO_12_saldoUnique_ult2meses', 'condicion_4_saldoMean_ult12meses', 'tipo_credito_10_saldoStd_ult6meses', 'tipo_credito_12_saldoMin_ult6meses', 'cod_instit_financiera_33_saldoMin_ult3meses', 'condicion_4_saldoMax_ult8meses', 'PRODUCTO_16_saldoMedian_ult12meses', 'RIESGO_DIRECTO_2_saldoMax_ult4meses', 'PRODUCTO_2_saldoSum_ult2meses', 'cod_instit_financiera_33_saldoMax_ult3meses', 'cod_instit_financiera_13_saldoMin_ult12meses', 'tipo_credito_12_saldoMax_ult10meses', 'cod_instit_financiera_34_saldoMax_ult12meses', 'RIESGO_DIRECTO_1_saldoMax_ult2meses', 'COD_CLASIFICACION_DEUDOR_0_saldoMean_ult3meses', 'cod_instit_financiera_32_saldoStd_ult2meses', 'tipo_credito_11_saldoMedian_ult4meses', 'condicion_2_saldoMean_ult5meses', 'PRODUCTO_2_saldoSum_ult3meses', 'RIESGO_DIRECTO_-1_saldoUnique_ult3meses', 'cod_instit_financiera_34_saldoStd_ult1meses', 'COD_CLASIFICACION_DEUDOR_4_saldoSum_ult1meses', 'condicion_1_saldoMean_ult1meses', 'condicion_1_saldoMax_ult4meses', 'condicion_1_saldoMax_ult11meses', 'cod_instit_financiera_37_saldoMedian_ult2meses', 'cod_instit_financiera_38_saldoMax_ult12meses', 'tipo_credito_12_saldoUnique_ult10meses', 'tipo_credito_11_saldoMin_ult2meses', 'RIESGO_DIRECTO_-1_saldoSum_ult3meses', 'RIESGO_DIRECTO_1_saldoStd_ult8meses', 'cod_instit_financiera_13_saldoMin_ult1meses', 'PRODUCTO_max_ult9mes', 'PRODUCTO_8_saldoMean_ult3meses', 'RIESGO_DIRECTO_1_saldoMedian_ult6meses', 'condicion_2_saldoMax_ult8meses', 'COD_CLASIFICACION_DEUDOR_0_saldoMedian_ult11meses', 'cod_instit_financiera_32_saldoSum_ult2meses', 'RIESGO_DIRECTO_1_saldoStd_ult9meses', 'PRODUCTO_9_saldoSum_ult12meses', 'tipo_credito_12_saldoUnique_ult8meses', 'tipo_credito_12_saldoSum_ult6meses', 'cod_instit_financiera_34_saldoMin_ult2meses', 'PRODUCTO_4_saldoMean_ult3meses', 'RIESGO_DIRECTO_-1_saldoMean_ult10meses', 'cod_instit_financiera_10_saldoMean_ult1meses', 'condicion_3_saldoMin_ult3meses', 'condicion_0_saldoMedian_ult3meses', 'tipo_credito_11_saldoMax_ult1meses', 'cod_instit_financiera_25_saldoSum_ult12meses', 'tipo_credito_9_saldoMedian_ult2meses', 'cod_instit_financiera_41_saldoUnique_ult12meses', 'cod_instit_financiera_37_saldoMean_ult1meses', 'condicion_0_saldoUnique_ult11meses', 'tipo_credito_9_saldoMedian_ult7meses', 'cod_instit_financiera_2_saldoMedian_ult12meses', 'cod_instit_financiera_46_saldoMin_ult1meses', 'cod_instit_financiera_61_saldoStd_ult12meses', 'cargorele_nunique', 'RIESGO_DIRECTO_2_saldoMin_ult1meses', 'tipo_credito_11_saldoStd_ult4meses', 'cod_instit_financiera_mode_ult7mes', 'COD_CLASIFICACION_DEUDOR_1_saldoStd_ult2meses', 'tipo_credito_12_saldoMax_ult9meses', 'cod_instit_financiera_13_saldoSum_ult1meses', 'RIESGO_DIRECTO_1_saldoMean_ult5meses',\n",
    "'cod_instit_financiera_nunique_ult6mes', 'condicion_1_saldoMedian_ult11meses', 'condicion_4_saldoMedian_ult9meses', 'condicion_1_saldoMax_ult7meses', 'condicion_6_saldoMin_ult11meses', 'cod_instit_financiera_37_saldoMax_ult1meses', 'cod_instit_financiera_min_ult10mes', 'tipo_credito_12_saldoMax_ult7meses', 'COD_CLASIFICACION_DEUDOR_0_saldoUnique_ult4meses', 'tipo_credito_12_saldoMean_ult6meses', 'cod_instit_financiera_38_saldoMedian_ult2meses', 'RIESGO_DIRECTO_1_saldoMedian_ult5meses', 'COD_CLASIFICACION_DEUDOR_0_saldoUnique_ult8meses', 'PRODUCTO_4_saldoSum_ult3meses', 'cod_instit_financiera_55_saldoMean_ult12meses', 'cod_instit_financiera_54_saldoMin_ult1meses', 'tipo_credito_99_saldoMin_ult1meses', 'COD_CLASIFICACION_DEUDOR_1_saldoUnique_ult5meses', 'COD_CLASIFICACION_DEUDOR_0_saldoMax_ult12meses', 'COD_CLASIFICACION_DEUDOR_0_saldoSum_ult11meses', 'tipo_credito_10_saldoStd_ult1meses', 'cod_instit_financiera_10_saldoMedian_ult2meses', 'tipo_credito_10_saldoMean_ult11meses', 'PRODUCTO_16_saldoMax_ult12meses', 'cod_instit_financiera_0_saldoSum_ult2meses', 'PRODUCTO_15_saldoSum_ult3meses', 'tipo_credito_12_saldoMin_ult9meses', 'cod_instit_financiera_8_saldoMedian_ult12meses', 'COD_CLASIFICACION_DEUDOR_0_saldoMax_ult11meses', 'condicion_1_saldoSum_ult5meses', 'cod_instit_financiera_10_saldoMax_ult2meses', 'cod_instit_financiera_13_saldoStd_ult12meses', 'cod_instit_financiera_nunique_ult9mes', 'condicion_0_saldoMin_ult12meses', 'cod_instit_financiera_15_saldoMin_ult12meses', 'cod_instit_financiera_20_saldoMin_ult12meses', 'facturacion_mode', 'PRODUCTO_mode_ult8mes', 'COD_CLASIFICACION_DEUDOR_1_saldoSum_ult4meses', 'condicion_1_saldoMean_ult12meses', 'PRODUCTO_13_saldoSum_ult2meses', 'cod_instit_financiera_45_saldoMin_ult12meses', 'COD_CLASIFICACION_DEUDOR_0_saldoUnique_ult7meses', 'cod_instit_financiera_32_saldoMax_ult1meses', 'PRODUCTO_4_saldoMin_ult3meses', 'tipo_credito_11_saldoMean_ult6meses', 'cod_instit_financiera_32_saldoUnique_ult2meses', 'tipo_credito_10_saldoUnique_ult7meses', 'PRODUCTO_mode_ult12mes', 'cod_instit_financiera_7_saldoUnique_ult12meses', 'cod_instit_financiera_15_saldoMedian_ult2meses', 'cod_instit_financiera_37_saldoMedian_ult12meses', 'PRODUCTO_7_saldoMin_ult3meses', 'RIESGO_DIRECTO_-1_saldoUnique_ult6meses', 'tipo_credito_11_saldoMedian_ult2meses', 'condicion_0_saldoSum_ult3meses', 'COD_CLASIFICACION_DEUDOR_0_saldoMedian_ult8meses', 'PRODUCTO_14_saldoStd_ult12meses', 'condicion_0_saldoSum_ult9meses', 'cod_instit_financiera_2_saldoSum_ult1meses', 'COD_CLASIFICACION_DEUDOR_5_saldoSum_ult11meses', 'RIESGO_DIRECTO_-1_saldoStd_ult3meses', 'PRODUCTO_13_saldoMedian_ult3meses', 'COD_CLASIFICACION_DEUDOR_1_saldoMedian_ult6meses', 'tipo_credito_11_saldoMedian_ult3meses', 'COD_CLASIFICACION_DEUDOR_1_saldoStd_ult4meses', 'PRODUCTO_11_saldoMin_ult2meses', 'PRODUCTO_6_saldoUnique_ult1meses', 'cod_instit_financiera_37_saldoMean_ult2meses', 'cod_instit_financiera_34_saldoSum_ult2meses', 'RIESGO_DIRECTO_1_saldoMean_ult11meses', 'condicion_1_saldoMin_ult8meses', 'condicion_4_saldoMedian_ult8meses', 'cod_instit_financiera_1_saldoMedian_ult3meses', 'condicion_2_saldoStd_ult4meses', 'cod_instit_financiera_32_saldoMedian_ult2meses', 'tipo_credito_11_saldoUnique_ult7meses', 'tipo_credito_10_saldoSum_ult7meses', 'condicion_1_saldoSum_ult4meses', 'RIESGO_DIRECTO_2_saldoStd_ult5meses', 'tipo_credito_12_saldoStd_ult7meses', 'COD_CLASIFICACION_DEUDOR_1_saldoMean_ult2meses', 'RIESGO_DIRECTO_1_saldoMin_ult8meses', 'COD_CLASIFICACION_DEUDOR_0_saldoStd_ult2meses', 'condicion_2_saldoSum_ult7meses', 'condicion_3_saldoMin_ult11meses', 'COD_CLASIFICACION_DEUDOR_1_saldoMedian_ult8meses', 'RIESGO_DIRECTO_1_saldoMean_ult9meses', 'RIESGO_DIRECTO_1_saldoSum_ult5meses', 'condicion_2_saldoMedian_ult11meses', 'RIESGO_DIRECTO_-1_saldoSum_ult11meses', 'COD_CLASIFICACION_DEUDOR_0_saldoSum_ult3meses', 'PRODUCTO_0_saldoMax_ult3meses', 'condicion_0_saldoMedian_ult10meses', 'PRODUCTO_13_saldoMin_ult12meses', 'condicion_3_saldoMax_ult8meses', 'COD_CLASIFICACION_DEUDOR_3_saldoStd_ult12meses', 'cod_instit_financiera_0_saldoMin_ult2meses', 'condicion_0_saldoSum_ult11meses', 'tipo_credito_10_saldoMean_ult12meses', 'PRODUCTO_15_saldoMin_ult1meses', 'cod_instit_financiera_55_saldoStd_ult1meses', 'tipo_credito_9_saldoUnique_ult1meses', 'condicion_2_saldoMean_ult11meses', 'condicion_1_saldoMean_ult5meses', 'tipo_credito_11_saldoStd_ult2meses', 'COD_CLASIFICACION_DEUDOR_1_saldoSum_ult5meses', 'cod_instit_financiera_33_saldoMean_ult2meses', 'tipo_credito_12_saldoMax_ult2meses', 'tipo_credito_11_saldoStd_ult8meses', 'cod_instit_financiera_25_saldoMin_ult12meses', 'cod_instit_financiera_max_ult4mes', 'cod_instit_financiera_20_saldoSum_ult1meses', 'tipo_credito_9_saldoMax_ult12meses', 'tipo_credito_10_saldoUnique_ult8meses', 'tipo_credito_11_saldoMax_ult12meses', 'cod_instit_financiera_41_saldoUnique_ult1meses', 'cod_instit_financiera_46_saldoMax_ult1meses', 'cod_instit_financiera_min_ult3mes', 'condicion_4_saldoMax_ult10meses', 'RIESGO_DIRECTO_-1_saldoStd_ult8meses', 'tipo_credito_11_saldoSum_ult4meses', 'PRODUCTO_mode_ult4mes', 'cod_instit_financiera_10_saldoMax_ult1meses', 'condicion_1_saldoMax_ult6meses', 'PRODUCTO_11_saldoUnique_ult2meses', 'cod_instit_financiera_3_saldoMean_ult1meses', 'RIESGO_DIRECTO_2_saldoSum_ult4meses', 'tipo_credito_9_saldoMax_ult11meses', 'cod_instit_financiera_21_saldoMean_ult12meses', 'tipo_credito_10_saldoUnique_ult6meses', 'tipo_credito_9_saldoSum_ult2meses', 'COD_CLASIFICACION_DEUDOR_1_saldoStd_ult10meses', 'PRODUCTO_10_saldoMin_ult2meses', 'condicion_3_saldoStd_ult12meses', 'tipo_credito_11_saldoMean_ult4meses', 'condicion_3_saldoMedian_ult1meses', 'RIESGO_DIRECTO_-1_saldoStd_ult6meses', 'cod_instit_financiera_28_saldoStd_ult3meses', 'condicion_9_saldoSum_ult12meses', 'RIESGO_DIRECTO_-1_saldoUnique_ult4meses', 'tipo_credito_12_saldoStd_ult6meses', 'COD_CLASIFICACION_DEUDOR_0_saldoUnique_ult6meses', 'cod_instit_financiera_3_saldoStd_ult12meses', 'RIESGO_DIRECTO_2_saldoMax_ult12meses', 'COD_CLASIFICACION_DEUDOR_0_saldoSum_ult6meses', 'PRODUCTO_21_saldoStd_ult12meses', 'PRODUCTO_13_saldoMedian_ult12meses', 'COD_CLASIFICACION_DEUDOR_1_saldoStd_ult7meses', 'condicion_3_saldoSum_ult12meses', 'diff_fech_max', 'PRODUCTO_21_saldoStd_ult2meses', 'COD_CLASIFICACION_DEUDOR_0_saldoStd_ult12meses', 'RIESGO_DIRECTO_-1_saldoMean_ult5meses', 'cod_instit_financiera_28_saldoSum_ult12meses', 'cod_instit_financiera_34_saldoStd_ult2meses', 'COD_CLASIFICACION_DEUDOR_0_saldoUnique_ult3meses', 'condicion_3_saldoMedian_ult7meses', 'condicion_0_saldoMean_ult6meses', 'tipo_credito_12_saldoMedian_ult9meses', 'cod_instit_financiera_nunique_ult12mes', 'RIESGO_DIRECTO_2_saldoMedian_ult12meses', 'tipo_credito_12_saldoSum_ult9meses', 'RIESGO_DIRECTO_1_saldoStd_ult7meses', 'condicion_0_saldoSum_ult4meses', 'tipo_credito_9_saldoStd_ult2meses', 'COD_CLASIFICACION_DEUDOR_2_saldoMedian_ult10meses', 'PRODUCTO_4_saldoMean_ult2meses', 'PRODUCTO_2_saldoMax_ult3meses', 'COD_CLASIFICACION_DEUDOR_3_saldoMean_ult1meses', 'cod_instit_financiera_mode_ult6mes', 'cod_instit_financiera_3_saldoStd_ult1meses', 'tipo_credito_12_saldoMean_ult4meses', 'PRODUCTO_5_saldoMean_ult12meses', 'condicion_1_saldoSum_ult9meses', 'cod_instit_financiera_min_ult6mes', 'condicion_0_saldoMedian_ult7meses', 'tipo_credito_12_saldoMax_ult11meses', 'RIESGO_DIRECTO_1_saldoUnique_ult2meses', 'cod_instit_financiera_34_saldoMax_ult1meses', 'cod_instit_financiera_37_saldoMin_ult12meses', 'cod_instit_financiera_0_saldoMin_ult12meses', 'PRODUCTO_nunique_ult2mes', 'cod_instit_financiera_34_saldoMedian_ult3meses', 'RIESGO_DIRECTO_1_saldoSum_ult6meses', 'cod_instit_financiera_65_saldoMax_ult12meses', 'tipo_credito_10_saldoUnique_ult5meses', 'RIESGO_DIRECTO_-1_saldoMean_ult2meses', 'PRODUCTO_13_saldoMin_ult1meses', 'PRODUCTO_12_saldoSum_ult12meses', 'condicion_2_saldoSum_ult11meses', 'RIESGO_DIRECTO_2_saldoMin_ult3meses', 'COD_CLASIFICACION_DEUDOR_5_saldoSum_ult6meses', 'PRODUCTO_15_saldoMean_ult3meses', 'condicion_0_saldoUnique_ult3meses', 'RIESGO_DIRECTO_1_saldoSum_ult9meses', 'tipo_credito_12_saldoStd_ult4meses', 'cod_instit_financiera_32_saldoMedian_ult1meses', 'PRODUCTO_2_saldoMax_ult1meses', 'cod_instit_financiera_11_saldoMean_ult1meses', 'PRODUCTO_mode_ult5mes', 'tipo_credito_12_saldoMax_ult4meses', 'condicion_2_saldoUnique_ult3meses', 'cod_instit_financiera_63_saldoSum_ult12meses', 'COD_CLASIFICACION_DEUDOR_0_saldoMin_ult3meses', 'condicion_2_saldoStd_ult8meses', 'condicion_0_saldoStd_ult3meses', 'cod_instit_financiera_11_saldoSum_ult2meses', 'cod_instit_financiera_mode_ult3mes', 'PRODUCTO_2_saldoMedian_ult3meses', 'RIESGO_DIRECTO_2_saldoMin_ult12meses', 'tipo_credito_12_saldoMean_ult8meses', 'tipo_credito_12_saldoStd_ult11meses', 'condicion_2_saldoMean_ult12meses', 'condicion_1_saldoMedian_ult5meses', 'cod_instit_financiera_10_saldoMin_ult2meses', 'tipo_credito_10_saldoStd_ult12meses', 'tipo_credito_12_saldoMedian_ult6meses', 'RIESGO_DIRECTO_-1_saldoSum_ult9meses', 'tipo_credito_10_saldoMean_ult10meses', 'condicion_2_saldoSum_ult6meses', 'COD_CLASIFICACION_DEUDOR_0_saldoMean_ult4meses', 'cod_instit_financiera_57_saldoMin_ult2meses', 'cod_instit_financiera_63_saldoMedian_ult12meses', 'cod_instit_financiera_20_saldoStd_ult1meses', 'cod_instit_financiera_13_saldoMedian_ult1meses', 'condicion_2_saldoSum_ult9meses', 'cod_instit_financiera_0_saldoUnique_ult2meses', 'tipo_credito_12_saldoMax_ult3meses', 'cod_instit_financiera_55_saldoMedian_ult1meses', 'fecbaja_mean', 'cod_instit_financiera_3_saldoSum_ult1meses', 'cod_instit_financiera_46_saldoUnique_ult3meses', 'PRODUCTO_15_saldoMax_ult1meses', 'RIESGO_DIRECTO_2_saldoMin_ult9meses', 'condicion_3_saldoStd_ult9meses', 'RIESGO_DIRECTO_2_saldoMedian_ult1meses', 'cod_instit_financiera_0_saldoSum_ult12meses', 'COD_CLASIFICACION_DEUDOR_5_saldoSum_ult8meses', 'COD_CLASIFICACION_DEUDOR_1_saldoUnique_ult3meses', 'condicion_4_saldoStd_ult10meses', 'condicion_2_saldoUnique_ult12meses', 'condicion_9_saldoUnique_ult9meses', 'cod_instit_financiera_1_saldoStd_ult2meses', \n",
    "'cod_instit_financiera_37_saldoStd_ult3meses', 'cod_instit_financiera_1_saldoSum_ult2meses', 'cod_instit_financiera_18_saldoMean_ult12meses', 'COD_CLASIFICACION_DEUDOR_0_saldoMedian_ult4meses', 'tipo_credito_10_saldoMean_ult1meses', 'PRODUCTO_mode_ult10mes', 'tipo_credito_10_saldoMax_ult1meses', 'condicion_1_saldoMedian_ult6meses', 'COD_CLASIFICACION_DEUDOR_3_saldoUnique_ult11meses', 'condicion_0_saldoMean_ult1meses', 'tipo_credito_10_saldoUnique_ult10meses', 'RIESGO_DIRECTO_-1_saldoMean_ult11meses', 'tipo_credito_10_saldoSum_ult4meses', 'tipo_credito_11_saldoMax_ult7meses', 'cod_instit_financiera_46_saldoMax_ult12meses', 'cod_instit_financiera_28_saldoSum_ult2meses', 'tipo_credito_10_saldoStd_ult11meses', 'cod_instit_financiera_57_saldoMin_ult12meses', 'cod_instit_financiera_33_saldoMin_ult2meses', 'COD_CLASIFICACION_DEUDOR_3_saldoMedian_ult1meses', 'tipo_credito_11_saldoMin_ult8meses', 'PRODUCTO_7_saldoMax_ult2meses', 'PRODUCTO_2_saldoMean_ult12meses', 'COD_CLASIFICACION_DEUDOR_2_saldoUnique_ult1meses', 'PRODUCTO_5_saldoMin_ult3meses', 'PRODUCTO_13_saldoMean_ult3meses', 'tipo_credito_11_saldoUnique_ult10meses', 'RIESGO_DIRECTO_-1_saldoMedian_ult9meses', 'tipo_credito_11_saldoMax_ult4meses', 'cod_instit_financiera_61_saldoMin_ult1meses', 'condicion_1_saldoStd_ult5meses', 'tipo_credito_10_saldoMedian_ult12meses', 'cod_instit_financiera_32_saldoMin_ult2meses', 'cod_instit_financiera_41_saldoMean_ult12meses', 'PRODUCTO_29_saldoSum_ult2meses', 'condicion_0_saldoUnique_ult10meses', 'cod_instit_financiera_3_saldoMin_ult3meses', 'cod_instit_financiera_max_ult6mes', 'RIESGO_DIRECTO_3_saldoMin_ult9meses', 'condicion_3_saldoMedian_ult11meses', 'COD_CLASIFICACION_DEUDOR_1_saldoUnique_ult1meses', 'cod_instit_financiera_10_saldoUnique_ult3meses', 'tipo_credito_10_saldoMedian_ult6meses', 'PRODUCTO_5_saldoSum_ult1meses', 'tipo_credito_11_saldoSum_ult2meses', 'COD_CLASIFICACION_DEUDOR_1_saldoMin_ult2meses', 'RIESGO_DIRECTO_-1_saldoUnique_ult8meses', 'RIESGO_DIRECTO_-1_saldoMax_ult9meses', 'condicion_1_saldoMin_ult7meses', 'tipo_credito_11_saldoMin_ult11meses', 'tipo_credito_10_saldoMedian_ult8meses', 'cod_instit_financiera_nunique_ult4mes', 'cod_instit_financiera_33_saldoSum_ult3meses', 'COD_CLASIFICACION_DEUDOR_2_saldoMean_ult12meses', 'cod_instit_financiera_0_saldoMax_ult2meses', 'cod_instit_financiera_2_saldoSum_ult2meses', 'cod_instit_financiera_8_saldoMin_ult12meses', 'tipo_credito_10_saldoStd_ult9meses', 'cod_instit_financiera_max_ult5mes', 'cod_instit_financiera_13_saldoMean_ult12meses', 'COD_CLASIFICACION_DEUDOR_1_saldoMedian_ult5meses', 'tipo_credito_11_saldoSum_ult11meses', 'COD_CLASIFICACION_DEUDOR_1_saldoMedian_ult4meses', 'cod_instit_financiera_32_saldoMedian_ult3meses', 'PRODUCTO_5_saldoMedian_ult12meses', 'cod_instit_financiera_34_saldoSum_ult3meses', 'cod_instit_financiera_34_saldoMedian_ult12meses', 'cod_instit_financiera_1_saldoMean_ult2meses', 'tipo_credito_11_saldoStd_ult12meses', 'cod_instit_financiera_mode_ult8mes', 'PRODUCTO_max_ult5mes', 'cod_instit_financiera_13_saldoSum_ult12meses', 'cod_instit_financiera_56_saldoMedian_ult3meses', 'RIESGO_DIRECTO_-1_saldoSum_ult4meses', 'condicion_0_saldoMax_ult8meses', 'RIESGO_DIRECTO_-1_saldoStd_ult9meses', 'condicion_2_saldoMedian_ult7meses', 'tipo_credito_12_saldoStd_ult9meses', 'condicion_0_saldoMedian_ult6meses', 'tipo_credito_11_saldoMedian_ult5meses', 'PRODUCTO_15_saldoMax_ult2meses', 'condicion_0_saldoMean_ult11meses', 'tipo_credito_10_saldoSum_ult11meses', 'COD_CLASIFICACION_DEUDOR_1_saldoStd_ult12meses', 'PRODUCTO_5_saldoMax_ult1meses', 'cod_instit_financiera_34_saldoUnique_ult2meses', 'cod_instit_financiera_61_saldoStd_ult2meses', 'cod_instit_financiera_7_saldoMin_ult2meses', 'COD_CLASIFICACION_DEUDOR_1_saldoMean_ult6meses', 'COD_CLASIFICACION_DEUDOR_2_saldoMin_ult3meses', 'RIESGO_DIRECTO_2_saldoMin_ult2meses', 'tipo_credito_11_saldoSum_ult3meses', 'tipo_credito_10_saldoMedian_ult11meses', 'PRODUCTO_5_saldoStd_ult3meses', 'tipo_credito_11_saldoMin_ult3meses', 'cod_instit_financiera_65_saldoSum_ult12meses', 'COD_CLASIFICACION_DEUDOR_0_saldoSum_ult9meses', 'COD_CLASIFICACION_DEUDOR_1_saldoMin_ult3meses', 'cod_instit_financiera_55_saldoMin_ult12meses', 'PRODUCTO_4_saldoMedian_ult1meses', 'cod_instit_financiera_61_saldoSum_ult1meses', 'cod_instit_financiera_13_saldoStd_ult2meses', 'PRODUCTO_15_saldoSum_ult1meses', 'tipo_credito_11_saldoSum_ult6meses', 'COD_CLASIFICACION_DEUDOR_1_saldoSum_ult6meses', 'cod_instit_financiera_0_saldoSum_ult3meses', 'cod_instit_financiera_28_saldoMedian_ult3meses', 'cod_instit_financiera_13_saldoSum_ult3meses', 'tipo_credito_9_saldoMean_ult12meses', 'PRODUCTO_max_ult2mes', 'tipo_credito_10_saldoUnique_ult3meses', 'tipo_credito_9_saldoMean_ult6meses', 'cod_instit_financiera_mode_ult11mes', 'PRODUCTO_11_saldoMean_ult2meses', 'tipo_credito_11_saldoMin_ult10meses', 'COD_CLASIFICACION_DEUDOR_3_saldoMax_ult1meses', 'RIESGO_DIRECTO_2_saldoMean_ult2meses', 'cod_instit_financiera_11_saldoStd_ult12meses', 'condicion_0_saldoMean_ult8meses', 'PRODUCTO_2_saldoMedian_ult1meses', 'cod_instit_financiera_0_saldoMax_ult12meses', 'RIESGO_DIRECTO_1_saldoMax_ult9meses', 'tipo_credito_12_saldoStd_ult3meses', 'PRODUCTO_0_saldoMean_ult3meses', 'tipo_credito_11_saldoMin_ult4meses', 'cod_instit_financiera_36_saldoSum_ult2meses', 'tipo_credito_11_saldoMean_ult11meses', 'condicion_2_saldoMin_ult9meses', 'PRODUCTO_mode_ult2mes', 'COD_CLASIFICACION_DEUDOR_0_saldoUnique_ult5meses', 'tipo_credito_11_saldoStd_ult7meses', 'cod_instit_financiera_17_saldoMedian_ult12meses', 'COD_CLASIFICACION_DEUDOR_4_saldoStd_ult11meses', 'COD_CLASIFICACION_DEUDOR_1_saldoMedian_ult3meses', 'cod_instit_financiera_25_saldoMedian_ult12meses', 'cod_instit_financiera_19_saldoStd_ult12meses', 'cod_instit_financiera_34_saldoMean_ult1meses', 'PRODUCTO_15_saldoMedian_ult3meses', 'tipo_credito_10_saldoMax_ult10meses', 'RIESGO_DIRECTO_2_saldoSum_ult8meses', 'rgn_0', 'PRODUCTO_7_saldoMin_ult2meses', 'PRODUCTO_9_saldoSum_ult3meses', 'cod_instit_financiera_13_saldoStd_ult3meses', 'cod_instit_financiera_65_saldoMedian_ult3meses', 'RIESGO_DIRECTO_2_saldoMax_ult5meses', 'PRODUCTO_15_saldoSum_ult2meses', 'condicion_3_saldoSum_ult4meses', 'PRODUCTO_7_saldoMin_ult1meses', 'condicion_0_saldoStd_ult10meses', 'cod_instit_financiera_8_saldoUnique_ult1meses', 'COD_CLASIFICACION_DEUDOR_0_saldoMedian_ult9meses', 'COD_CLASIFICACION_DEUDOR_0_saldoSum_ult4meses', 'cod_instit_financiera_45_saldoSum_ult12meses', 'cod_instit_financiera_37_saldoSum_ult3meses', 'cod_instit_financiera_32_saldoMean_ult12meses', 'cod_instit_financiera_28_saldoMean_ult3meses', 'PRODUCTO_15_saldoMax_ult3meses', 'condicion_0_saldoMedian_ult4meses', 'RIESGO_DIRECTO_-1_saldoMean_ult3meses', 'tipo_credito_11_saldoMedian_ult8meses', 'cod_instit_financiera_1_saldoUnique_ult3meses', 'cod_instit_financiera_32_saldoSum_ult3meses', 'tipo_credito_10_saldoSum_ult6meses', 'RIESGO_DIRECTO_-1_saldoStd_ult4meses', 'PRODUCTO_7_saldoMax_ult1meses', 'RIESGO_DIRECTO_-1_saldoSum_ult6meses', 'COD_CLASIFICACION_DEUDOR_1_saldoSum_ult11meses', 'cod_instit_financiera_36_saldoMin_ult12meses', 'RIESGO_DIRECTO_1_saldoMean_ult6meses', 'cod_instit_financiera_0_saldoStd_ult12meses', 'PRODUCTO_12_saldoUnique_ult1meses', 'cod_instit_financiera_max_ult7mes', 'RIESGO_DIRECTO_1_saldoSum_ult8meses', 'PRODUCTO_8_saldoMean_ult2meses', 'condicion_1_saldoUnique_ult12meses', 'PRODUCTO_13_saldoSum_ult3meses', 'tipo_credito_12_saldoStd_ult8meses', 'cod_instit_financiera_11_saldoMin_ult1meses', 'RIESGO_DIRECTO_-1_saldoMin_ult4meses', 'COD_CLASIFICACION_DEUDOR_2_saldoUnique_ult9meses', 'tipo_credito_11_saldoMedian_ult7meses', 'COD_CLASIFICACION_DEUDOR_2_saldoMean_ult10meses', 'tipo_credito_12_saldoStd_ult5meses', 'cod_instit_financiera_10_saldoMax_ult12meses', 'condicion_0_saldoStd_ult11meses', 'cod_instit_financiera_18_saldoSum_ult12meses', 'PRODUCTO_2_saldoMean_ult2meses', 'condicion_0_saldoUnique_ult1meses', 'condicion_2_saldoStd_ult12meses', 'cod_instit_financiera_20_saldoMin_ult1meses', 'tipo_credito_11_saldoStd_ult3meses', 'PRODUCTO_9_saldoMedian_ult1meses', 'PRODUCTO_1_saldoUnique_ult3meses', 'COD_CLASIFICACION_DEUDOR_1_saldoSum_ult3meses', 'condicion_2_saldoStd_ult10meses', 'PRODUCTO_2_saldoMean_ult3meses', 'cod_instit_financiera_33_saldoMean_ult12meses', 'condicion_1_saldoStd_ult6meses', 'PRODUCTO_21_saldoMedian_ult12meses', 'PRODUCTO_21_saldoMean_ult12meses', 'COD_CLASIFICACION_DEUDOR_2_saldoMedian_ult9meses', 'PRODUCTO_7_saldoSum_ult2meses', 'PRODUCTO_9_saldoSum_ult1meses', 'COD_CLASIFICACION_DEUDOR_0_saldoMean_ult5meses', 'cod_instit_financiera_8_saldoMedian_ult1meses', 'RIESGO_DIRECTO_-1_saldoUnique_ult5meses', 'condicion_3_saldoMedian_ult8meses', 'PRODUCTO_4_saldoMax_ult2meses', 'tipo_credito_12_saldoUnique_ult4meses', 'condicion_2_saldoSum_ult5meses', 'cod_instit_financiera_11_saldoSum_ult12meses', 'cod_instit_financiera_57_saldoStd_ult3meses', 'RIESGO_DIRECTO_-1_saldoMin_ult11meses', 'PRODUCTO_4_saldoUnique_ult2meses', 'tipo_credito_10_saldoStd_ult3meses', 'cod_instit_financiera_63_saldoMean_ult3meses', 'tipo_credito_11_saldoMax_ult11meses', 'tipo_credito_12_saldoSum_ult10meses', 'tipo_credito_10_saldoMax_ult5meses', 'PRODUCTO_4_saldoMax_ult3meses', 'COD_CLASIFICACION_DEUDOR_1_saldoStd_ult1meses', 'RIESGO_DIRECTO_-1_saldoSum_ult7meses', 'PRODUCTO_13_saldoMax_ult3meses', 'condicion_0_saldoUnique_ult4meses', 'COD_CLASIFICACION_DEUDOR_1_saldoMin_ult11meses', 'COD_CLASIFICACION_DEUDOR_1_saldoMin_ult12meses', 'cod_instit_financiera_13_saldoMax_ult3meses', 'cod_instit_financiera_10_saldoMean_ult3meses', 'tipo_credito_11_saldoMean_ult7meses', 'condicion_0_saldoMedian_ult9meses', 'cod_instit_financiera_55_saldoMin_ult1meses', 'tipo_credito_10_saldoMax_ult3meses', 'tipo_credito_11_saldoMedian_ult10meses', 'tipo_credito_10_saldoMax_ult11meses', 'COD_CLASIFICACION_DEUDOR_1_saldoUnique_ult6meses', 'cod_instit_financiera_2_saldoMedian_ult3meses', 'cod_instit_financiera_17_saldoMean_ult12meses', 'PRODUCTO_5_saldoMin_ult1meses', 'PRODUCTO_7_saldoMean_ult3meses', 'PRODUCTO_7_saldoMax_ult3meses',\n",
    "'PRODUCTO_9_saldoMin_ult3meses', 'cod_instit_financiera_18_saldoMean_ult1meses', 'COD_CLASIFICACION_DEUDOR_5_saldoUnique_ult7meses', 'cod_instit_financiera_20_saldoMin_ult2meses', 'RIESGO_DIRECTO_2_saldoMean_ult10meses', 'PRODUCTO_5_saldoMax_ult12meses', 'PRODUCTO_13_saldoStd_ult1meses', 'cod_instit_financiera_18_saldoSum_ult1meses', 'cod_instit_financiera_61_saldoMax_ult3meses', 'condicion_6_saldoMedian_ult1meses', 'cod_instit_financiera_55_saldoUnique_ult12meses', 'RIESGO_DIRECTO_-1_saldoMean_ult7meses', 'condicion_1_saldoUnique_ult5meses', 'cod_instit_financiera_34_saldoMean_ult2meses', 'condicion_1_saldoSum_ult6meses', 'condicion_2_saldoSum_ult10meses', 'condicion_0_saldoStd_ult2meses', 'PRODUCTO_7_saldoSum_ult3meses', 'cod_instit_financiera_55_saldoStd_ult2meses', 'cod_instit_financiera_20_saldoMean_ult12meses', 'tipo_credito_10_saldoMean_ult4meses', 'tipo_credito_10_saldoSum_ult10meses', 'cod_instit_financiera_33_saldoMedian_ult1meses', 'RIESGO_DIRECTO_-1_saldoMean_ult6meses', 'cod_instit_financiera_1_saldoStd_ult12meses', 'cod_instit_financiera_19_saldoMin_ult1meses', 'cod_instit_financiera_11_saldoSum_ult1meses', 'PRODUCTO_2_saldoMean_ult1meses', 'cod_instit_financiera_28_saldoMax_ult2meses', 'RIESGO_DIRECTO_1_saldoSum_ult10meses', 'cod_instit_financiera_1_saldoMax_ult2meses', 'cod_instit_financiera_16_saldoMax_ult12meses', 'COD_CLASIFICACION_DEUDOR_0_saldoMax_ult6meses', 'PRODUCTO_29_saldoMin_ult3meses', 'RIESGO_DIRECTO_2_saldoMax_ult6meses', 'cod_instit_financiera_8_saldoMedian_ult3meses', 'RIESGO_DIRECTO_-1_saldoSum_ult5meses', 'cod_instit_financiera_55_saldoMedian_ult3meses', 'PRODUCTO_29_saldoMin_ult12meses', 'COD_CLASIFICACION_DEUDOR_0_saldoStd_ult10meses', 'comercioexterior_mode', 'tipo_credito_11_saldoMax_ult6meses', 'cod_instit_financiera_1_saldoSum_ult3meses', 'COD_CLASIFICACION_DEUDOR_5_saldoSum_ult2meses', 'PRODUCTO_mode_ult6mes', 'COD_CLASIFICACION_DEUDOR_3_saldoMin_ult12meses', 'cod_instit_financiera_61_saldoMean_ult1meses', 'cod_instit_financiera_37_saldoUnique_ult2meses', 'tipo_credito_10_saldoMean_ult2meses', 'cod_instit_financiera_28_saldoUnique_ult2meses', 'cod_instit_financiera_15_saldoMin_ult3meses', 'PRODUCTO_12_saldoStd_ult2meses', 'COD_CLASIFICACION_DEUDOR_4_saldoSum_ult11meses', 'condicion_1_saldoSum_ult7meses', 'condicion_1_saldoMin_ult6meses', 'cod_instit_financiera_25_saldoMax_ult2meses', 'PRODUCTO_2_saldoMax_ult12meses', 'cod_instit_financiera_2_saldoStd_ult1meses', 'cod_instit_financiera_11_saldoMin_ult12meses', 'cod_instit_financiera_33_saldoMean_ult1meses', 'tipo_credito_9_saldoStd_ult3meses', 'PRODUCTO_9_saldoMean_ult1meses', 'cod_instit_financiera_33_saldoUnique_ult3meses', 'PRODUCTO_9_saldoStd_ult3meses', 'condicion_1_saldoMedian_ult1meses', 'tipo_credito_10_saldoStd_ult4meses', 'cod_instit_financiera_15_saldoMean_ult1meses', 'tipo_credito_9_saldoMin_ult1meses', 'cod_instit_financiera_11_saldoMedian_ult1meses', 'PRODUCTO_9_saldoMax_ult1meses', 'COD_CLASIFICACION_DEUDOR_3_saldoStd_ult5meses', 'tipo_credito_11_saldoSum_ult8meses', 'condicion_0_saldoStd_ult9meses', 'cod_instit_financiera_32_saldoMean_ult1meses', 'cod_instit_financiera_13_saldoMin_ult3meses', 'cod_instit_financiera_57_saldoMax_ult2meses', 'cod_instit_financiera_20_saldoStd_ult2meses', 'cod_instit_financiera_3_saldoStd_ult2meses', 'cod_instit_financiera_nunique_ult7mes', 'PRODUCTO_29_saldoSum_ult12meses', 'cod_instit_financiera_36_saldoMax_ult3meses', 'COD_CLASIFICACION_DEUDOR_1_saldoMean_ult8meses', 'PRODUCTO_nunique_ult12mes', 'condicion_1_saldoMin_ult5meses', 'tipo_credito_11_saldoMin_ult7meses', 'PRODUCTO_7_saldoMedian_ult2meses', 'cod_instit_financiera_11_saldoMax_ult3meses', 'condicion_1_saldoSum_ult10meses', 'cod_instit_financiera_18_saldoSum_ult2meses', 'condicion_1_saldoMin_ult2meses', 'cod_instit_financiera_28_saldoMean_ult1meses', 'condicion_1_saldoUnique_ult3meses', 'cod_instit_financiera_54_saldoMin_ult3meses', 'tipo_credito_11_saldoMedian_ult9meses', 'RIESGO_DIRECTO_-1_saldoMax_ult2meses', 'condicion_1_saldoStd_ult2meses', 'tipo_credito_10_saldoSum_ult9meses', 'tipo_credito_9_saldoMin_ult3meses', 'tipo_credito_12_saldoMean_ult5meses', 'COD_CLASIFICACION_DEUDOR_0_saldoUnique_ult10meses', 'PRODUCTO_7_saldoSum_ult1meses', 'cod_instit_financiera_32_saldoMin_ult3meses', 'cod_instit_financiera_28_saldoSum_ult1meses', 'COD_CLASIFICACION_DEUDOR_1_saldoMin_ult9meses', 'cod_instit_financiera_2_saldoUnique_ult1meses', 'RIESGO_DIRECTO_1_saldoUnique_ult5meses', 'cod_instit_financiera_28_saldoSum_ult3meses', 'cod_instit_financiera_19_saldoMax_ult2meses', 'RIESGO_DIRECTO_3_saldoMean_ult9meses', 'condicion_1_saldoSum_ult2meses', 'RIESGO_DIRECTO_-1_saldoStd_ult2meses', 'cod_instit_financiera_11_saldoMax_ult1meses', 'cod_instit_financiera_17_saldoMax_ult12meses', 'cod_instit_financiera_36_saldoSum_ult3meses', 'COD_CLASIFICACION_DEUDOR_3_saldoMedian_ult12meses', 'condicion_1_saldoMedian_ult4meses', 'cod_instit_financiera_11_saldoMean_ult2meses', 'cod_instit_financiera_32_saldoStd_ult3meses', 'cod_instit_financiera_16_saldoUnique_ult12meses', 'cod_instit_financiera_36_saldoStd_ult3meses', 'tipo_credito_11_saldoSum_ult7meses', 'cod_instit_financiera_2_saldoMax_ult12meses', 'tipo_credito_11_saldoSum_ult5meses', 'PRODUCTO_12_saldoUnique_ult12meses', 'condicion_0_saldoMean_ult4meses', 'RIESGO_DIRECTO_-1_saldoMax_ult7meses', 'PRODUCTO_13_saldoSum_ult1meses', 'RIESGO_DIRECTO_1_saldoMean_ult8meses', 'cod_instit_financiera_36_saldoMedian_ult1meses', 'PRODUCTO_7_saldoMedian_ult1meses', 'tipo_credito_9_saldoMedian_ult12meses', 'cod_instit_financiera_13_saldoMin_ult2meses', 'cod_instit_financiera_28_saldoMean_ult2meses', 'tipo_credito_12_saldoUnique_ult6meses', 'RIESGO_DIRECTO_2_saldoMax_ult2meses', 'cod_instit_financiera_34_saldoMax_ult3meses', 'tipo_credito_9_saldoStd_ult1meses', 'cod_instit_financiera_33_saldoMedian_ult3meses', 'RIESGO_DIRECTO_1_saldoUnique_ult4meses', 'RIESGO_DIRECTO_1_saldoMax_ult5meses', 'PRODUCTO_7_saldoStd_ult3meses', 'cod_instit_financiera_36_saldoMean_ult2meses', 'PRODUCTO_15_saldoStd_ult1meses', 'cod_instit_financiera_55_saldoMean_ult2meses', 'cod_instit_financiera_1_saldoUnique_ult2meses', 'tipo_credito_11_saldoUnique_ult5meses', 'cod_instit_financiera_1_saldoMean_ult1meses', 'cod_instit_financiera_1_saldoStd_ult1meses', 'cod_instit_financiera_37_saldoMedian_ult3meses', 'cod_instit_financiera_17_saldoMin_ult12meses', 'condicion_3_saldoMean_ult12meses', 'cod_instit_financiera_41_saldoSum_ult1meses', 'RIESGO_DIRECTO_-1_saldoSum_ult10meses', 'cod_instit_financiera_2_saldoMedian_ult2meses', 'COD_CLASIFICACION_DEUDOR_0_saldoUnique_ult9meses', 'tipo_credito_11_saldoUnique_ult4meses', 'COD_CLASIFICACION_DEUDOR_0_saldoSum_ult5meses', 'cod_instit_financiera_55_saldoUnique_ult3meses', 'condicion_0_saldoSum_ult8meses', 'PRODUCTO_mode_ult3mes', 'condicion_5_saldoStd_ult12meses', 'condicion_2_saldoMin_ult3meses', 'RIESGO_DIRECTO_1_saldoMax_ult6meses', 'RIESGO_DIRECTO_-1_saldoStd_ult7meses', 'cod_instit_financiera_3_saldoMax_ult2meses', 'condicion_1_saldoUnique_ult2meses', 'condicion_9_saldoUnique_ult12meses', 'cod_instit_financiera_33_saldoStd_ult3meses', 'condicion_1_saldoMean_ult10meses', 'tipo_credito_10_saldoMean_ult5meses', 'tipo_credito_10_saldoStd_ult2meses', 'PRODUCTO_9_saldoMean_ult12meses', 'condicion_1_saldoMax_ult10meses', 'PRODUCTO_20_saldoSum_ult3meses', 'cod_instit_financiera_17_saldoMedian_ult1meses', 'condicion_0_saldoUnique_ult6meses', 'cod_instit_financiera_11_saldoMax_ult12meses', 'cod_instit_financiera_46_saldoMean_ult3meses', 'COD_CLASIFICACION_DEUDOR_1_saldoStd_ult3meses', 'condicion_3_saldoSum_ult11meses', 'condicion_4_saldoStd_ult9meses', 'PRODUCTO_15_saldoMean_ult2meses', 'cod_instit_financiera_28_saldoUnique_ult3meses', 'cod_instit_financiera_61_saldoMean_ult12meses', 'COD_CLASIFICACION_DEUDOR_1_saldoMax_ult1meses', 'cod_instit_financiera_11_saldoStd_ult1meses', 'PRODUCTO_13_saldoMin_ult3meses', 'PRODUCTO_9_saldoUnique_ult3meses', 'PRODUCTO_29_saldoMax_ult3meses', 'cod_instit_financiera_8_saldoMin_ult3meses', 'PRODUCTO_0_saldoUnique_ult3meses', 'tipo_credito_11_saldoMean_ult3meses', 'cod_instit_financiera_36_saldoSum_ult12meses', 'tipo_credito_11_saldoStd_ult10meses', 'cod_instit_financiera_18_saldoMin_ult2meses', 'tipo_credito_11_saldoMean_ult2meses', 'cod_instit_financiera_8_saldoUnique_ult3meses', 'PRODUCTO_21_saldoMin_ult12meses', 'PRODUCTO_mode_ult7mes', 'cod_instit_financiera_20_saldoMean_ult3meses', 'cod_instit_financiera_46_saldoSum_ult3meses', 'tipo_credito_11_saldoMean_ult10meses', 'PRODUCTO_4_saldoMean_ult1meses', 'cod_instit_financiera_63_saldoSum_ult1meses', 'tipo_credito_11_saldoMedian_ult6meses', 'cod_instit_financiera_21_saldoMean_ult3meses', 'ciiu_nunique', 'PRODUCTO_5_saldoMedian_ult2meses', 'tipo_credito_10_saldoMedian_ult7meses', 'cod_instit_financiera_57_saldoMedian_ult1meses', 'condicion_0_saldoSum_ult5meses', 'cod_instit_financiera_37_saldoMax_ult3meses', 'condicion_2_saldoStd_ult3meses', 'COD_CLASIFICACION_DEUDOR_0_saldoMax_ult2meses', 'tipo_credito_13_saldoMedian_ult2meses', 'cod_instit_financiera_8_saldoMean_ult3meses', 'cod_instit_financiera_37_saldoStd_ult2meses', 'RIESGO_DIRECTO_2_saldoMedian_ult11meses', 'cod_instit_financiera_37_saldoUnique_ult3meses', 'cod_instit_financiera_18_saldoStd_ult3meses', 'cod_instit_financiera_0_saldoMedian_ult1meses', 'cod_instit_financiera_36_saldoMax_ult12meses', 'COD_CLASIFICACION_DEUDOR_3_saldoMedian_ult4meses', 'condicion_2_saldoMin_ult10meses', 'cod_instit_financiera_36_saldoMedian_ult12meses', 'PRODUCTO_11_saldoUnique_ult3meses', 'COD_CLASIFICACION_DEUDOR_0_saldoMean_ult7meses', 'condicion_7_saldoMin_ult12meses', 'tipo_credito_10_saldoMin_ult6meses', 'COD_CLASIFICACION_DEUDOR_2_saldoMax_ult12meses', 'tipo_credito_11_saldoMin_ult9meses', 'cod_instit_financiera_36_saldoMedian_ult3meses', 'cod_instit_financiera_36_saldoMax_ult2meses', 'PRODUCTO_12_saldoSum_ult1meses', 'condicion_1_saldoMin_ult11meses', 'COD_CLASIFICACION_DEUDOR_2_saldoStd_ult5meses', 'COD_CLASIFICACION_DEUDOR_0_saldoMean_ult11meses', 'condicion_4_saldoStd_ult11meses',\n",
    "'cod_instit_financiera_54_saldoMin_ult12meses', 'condicion_4_saldoMin_ult7meses', 'cod_instit_financiera_min_ult7mes', 'cod_instit_financiera_57_saldoMean_ult12meses', 'cod_instit_financiera_57_saldoMean_ult3meses', 'cod_instit_financiera_61_saldoMax_ult2meses', 'cod_instit_financiera_1_saldoStd_ult3meses', 'cod_instit_financiera_20_saldoUnique_ult3meses', 'condicion_3_saldoMedian_ult10meses', 'PRODUCTO_5_saldoMedian_ult3meses', 'cod_instit_financiera_10_saldoMean_ult2meses', 'cod_instit_financiera_46_saldoMin_ult3meses', 'cod_instit_financiera_mode_ult10mes', 'condicion_1_saldoUnique_ult8meses', 'tipo_credito_11_saldoUnique_ult3meses', 'tipo_credito_10_saldoMax_ult12meses', 'cod_instit_financiera_28_saldoMax_ult3meses', 'condicion_3_saldoMin_ult4meses', 'condicion_4_saldoMedian_ult12meses', 'COD_CLASIFICACION_DEUDOR_0_saldoStd_ult8meses', 'COD_CLASIFICACION_DEUDOR_0_saldoMax_ult4meses', 'tipo_credito_10_saldoMin_ult9meses', 'PRODUCTO_10_saldoMin_ult1meses', 'PRODUCTO_13_saldoMin_ult2meses', 'cod_instit_financiera_18_saldoMedian_ult1meses', 'tipo_credito_13_saldoMin_ult2meses', 'cod_instit_financiera_15_saldoMedian_ult3meses', 'cod_instit_financiera_19_saldoMean_ult3meses', 'cod_instit_financiera_61_saldoMax_ult1meses', 'PRODUCTO_9_saldoMax_ult3meses', 'cod_instit_financiera_55_saldoMin_ult2meses', 'cod_instit_financiera_63_saldoMax_ult3meses', 'cod_instit_financiera_41_saldoMax_ult3meses', 'cod_instit_financiera_22_saldoSum_ult3meses', 'cod_instit_financiera_62_saldoMin_ult2meses', 'cod_instit_financiera_7_saldoMedian_ult2meses', 'PRODUCTO_8_saldoUnique_ult3meses', 'cod_instit_financiera_29_saldoMin_ult3meses', 'cod_instit_financiera_61_saldoMin_ult12meses', 'cod_instit_financiera_3_saldoMin_ult1meses', 'cod_instit_financiera_13_saldoMean_ult2meses', 'cod_instit_financiera_2_saldoMax_ult1meses', 'condicion_0_saldoUnique_ult2meses', 'cod_instit_financiera_max_ult10mes', 'tipo_credito_9_saldoMedian_ult8meses', 'RIESGO_DIRECTO_-1_saldoStd_ult11meses', 'cod_instit_financiera_0_saldoMedian_ult2meses', 'PRODUCTO_10_saldoMean_ult2meses', 'cod_instit_financiera_3_saldoStd_ult3meses', 'COD_CLASIFICACION_DEUDOR_0_saldoSum_ult10meses', 'cod_instit_financiera_28_saldoStd_ult2meses', 'cod_instit_financiera_34_saldoStd_ult3meses', 'PRODUCTO_3_saldoUnique_ult3meses', 'cod_instit_financiera_11_saldoMax_ult2meses', 'cod_instit_financiera_57_saldoMax_ult1meses', 'PRODUCTO_16_saldoStd_ult3meses', 'tipo_credito_10_saldoStd_ult7meses', 'cod_instit_financiera_3_saldoMin_ult2meses', 'cod_instit_financiera_2_saldoMean_ult3meses', 'cod_instit_financiera_38_saldoStd_ult1meses', 'cod_instit_financiera_8_saldoMax_ult3meses', 'cod_instit_financiera_20_saldoMedian_ult1meses', 'cod_instit_financiera_55_saldoMean_ult1meses', 'PRODUCTO_7_saldoMean_ult2meses', 'cod_instit_financiera_55_saldoStd_ult3meses', 'PRODUCTO_5_saldoMax_ult2meses', 'PRODUCTO_9_saldoMin_ult1meses', 'PRODUCTO_12_saldoMin_ult3meses', 'cod_instit_financiera_0_saldoMedian_ult3meses', 'cod_instit_financiera_10_saldoMax_ult3meses', 'condicion_0_saldoSum_ult6meses', 'PRODUCTO_12_saldoMin_ult2meses', 'cod_instit_financiera_1_saldoMedian_ult1meses', 'RIESGO_DIRECTO_1_saldoMax_ult3meses', 'cod_instit_financiera_8_saldoMin_ult2meses', 'cod_instit_financiera_1_saldoMedian_ult2meses', 'condicion_0_saldoMean_ult7meses', 'RIESGO_DIRECTO_1_saldoMax_ult4meses', 'RIESGO_DIRECTO_2_saldoUnique_ult11meses', 'condicion_0_saldoUnique_ult9meses', 'cod_instit_financiera_15_saldoMin_ult2meses', 'cod_instit_financiera_10_saldoMin_ult3meses', 'cod_instit_financiera_0_saldoUnique_ult3meses', 'cod_instit_financiera_2_saldoStd_ult12meses', 'COD_CLASIFICACION_DEUDOR_1_saldoMax_ult5meses', 'cod_instit_financiera_20_saldoSum_ult2meses', 'cod_instit_financiera_0_saldoStd_ult3meses', 'cod_instit_financiera_20_saldoStd_ult3meses', 'cod_instit_financiera_38_saldoStd_ult12meses', 'PRODUCTO_9_saldoMean_ult2meses', 'cod_instit_financiera_34_saldoMean_ult3meses', 'cod_instit_financiera_29_saldoMedian_ult3meses', 'cod_instit_financiera_33_saldoStd_ult2meses', 'cod_instit_financiera_19_saldoSum_ult2meses', 'cod_instit_financiera_18_saldoMin_ult3meses', 'tipo_credito_11_saldoUnique_ult6meses', 'tipo_credito_10_saldoMax_ult4meses', 'condicion_5_saldoStd_ult10meses', 'cod_instit_financiera_33_saldoMax_ult2meses', 'cod_instit_financiera_21_saldoMax_ult12meses', 'cod_instit_financiera_0_saldoMean_ult2meses', 'cod_instit_financiera_36_saldoMin_ult3meses', 'condicion_2_saldoSum_ult12meses', 'cod_instit_financiera_41_saldoStd_ult2meses', 'COD_CLASIFICACION_DEUDOR_0_saldoMax_ult3meses', 'tipo_credito_9_saldoMedian_ult3meses', 'PRODUCTO_13_saldoUnique_ult3meses', 'cod_instit_financiera_17_saldoMean_ult3meses', 'PRODUCTO_7_saldoMean_ult1meses', 'cod_instit_financiera_10_saldoUnique_ult2meses', 'PRODUCTO_5_saldoUnique_ult3meses', 'PRODUCTO_16_saldoSum_ult3meses', 'cod_instit_financiera_15_saldoMean_ult3meses', 'cod_instit_financiera_19_saldoSum_ult1meses', 'COD_CLASIFICACION_DEUDOR_5_saldoUnique_ult2meses', 'COD_CLASIFICACION_DEUDOR_3_saldoMin_ult9meses', 'cod_instit_financiera_62_saldoMean_ult3meses', 'cod_instit_financiera_3_saldoMedian_ult3meses', 'cod_instit_financiera_55_saldoMin_ult3meses', 'condicion_1_saldoMean_ult7meses', 'cod_instit_financiera_61_saldoMedian_ult2meses', 'cod_instit_financiera_7_saldoMin_ult3meses', 'PRODUCTO_13_saldoMedian_ult2meses', 'cod_instit_financiera_20_saldoSum_ult3meses', 'cod_instit_financiera_37_saldoMean_ult12meses', 'COD_CLASIFICACION_DEUDOR_0_saldoMedian_ult10meses', 'PRODUCTO_13_saldoMax_ult2meses', 'cod_instit_financiera_19_saldoMax_ult3meses', 'cod_instit_financiera_37_saldoMax_ult2meses', 'cod_instit_financiera_2_saldoMin_ult3meses', 'cod_instit_financiera_55_saldoSum_ult3meses', 'PRODUCTO_13_saldoMedian_ult1meses', 'cod_instit_financiera_34_saldoMax_ult2meses', 'cod_instit_financiera_57_saldoUnique_ult3meses', 'cod_instit_financiera_55_saldoUnique_ult2meses', 'PRODUCTO_5_saldoMax_ult3meses', 'cod_instit_financiera_56_saldoMean_ult3meses', 'cod_instit_financiera_18_saldoMin_ult1meses', 'cod_instit_financiera_11_saldoStd_ult3meses', 'cod_instit_financiera_25_saldoMean_ult3meses']"
   ]
  },
  {
   "cell_type": "markdown",
   "id": "swedish-testament",
   "metadata": {},
   "source": [
    "## Cargar la variable Target"
   ]
  },
  {
   "cell_type": "code",
   "execution_count": 11,
   "id": "therapeutic-alaska",
   "metadata": {},
   "outputs": [],
   "source": [
    "path = '../data'\n",
    "y_train = pd.read_csv(f'{path}/y_train.csv', index_col = 'key_value')"
   ]
  },
  {
   "cell_type": "code",
   "execution_count": 12,
   "id": "incident-period",
   "metadata": {},
   "outputs": [
    {
     "data": {
      "image/png": "[encoded data removed]",
      "text/plain": [
       "<Figure size 432x288 with 1 Axes>"
      ]
     },
     "metadata": {},
     "output_type": "display_data"
    }
   ],
   "source": [
    "y_train.value_counts().plot(kind='pie', autopct='%1.0f%%');"
   ]
  },
  {
   "cell_type": "markdown",
   "id": "subtle-creature",
   "metadata": {},
   "source": [
    "## Procesar RCC"
   ]
  },
  {
   "cell_type": "code",
   "execution_count": 14,
   "id": "lesbian-innocent",
   "metadata": {},
   "outputs": [],
   "source": [
    "rcc_train = pd.read_csv(f'{path}/rcc_train.csv')\n",
    "rcc_test = pd.read_csv(f'{path}/rcc_test.csv')"
   ]
  },
  {
   "cell_type": "code",
   "execution_count": 15,
   "id": "skilled-nylon",
   "metadata": {},
   "outputs": [],
   "source": [
    "##### inputar datos faltantes en la base de rcc_test\n",
    "rcc_test['cod_instit_financiera'].fillna(rcc_test['cod_instit_financiera'].value_counts().index[0], inplace=True)\n",
    "rcc_test['PRODUCTO'].fillna(rcc_test['PRODUCTO'].value_counts().index[0], inplace=True)"
   ]
  },
  {
   "cell_type": "code",
   "execution_count": 16,
   "id": "interpreted-catalog",
   "metadata": {},
   "outputs": [],
   "source": [
    "dict_ = {'codmes': 'int32',\n",
    " 'key_value': 'int32',\n",
    " 'condicion': 'int32',\n",
    " 'tipo_credito': 'int32',\n",
    " 'cod_instit_financiera': 'int32',\n",
    " 'PRODUCTO': 'int32',\n",
    " 'RIESGO_DIRECTO': 'int32',\n",
    " 'COD_CLASIFICACION_DEUDOR': 'int32'}\n",
    "rcc_train = rcc_train.astype(dict_)\n",
    "rcc_test = rcc_test.astype(dict_)"
   ]
  },
  {
   "cell_type": "code",
   "execution_count": 17,
   "id": "studied-vermont",
   "metadata": {},
   "outputs": [],
   "source": [
    "##### categorizar la variable condicion\n",
    "bins = [-1, 0, 10, 20, 30, 60, 90, 180, 360, 720, float(\"inf\")]\n",
    "rcc_train[\"condicion\"] = pd.cut(rcc_train.condicion, bins)\n",
    "rcc_train[\"condicion\"] = rcc_train[\"condicion\"].cat.codes\n",
    "rcc_test[\"condicion\"] = pd.cut(rcc_test.condicion, bins)\n",
    "rcc_test[\"condicion\"] = rcc_test[\"condicion\"].cat.codes"
   ]
  },
  {
   "cell_type": "code",
   "execution_count": 18,
   "id": "varying-naples",
   "metadata": {},
   "outputs": [],
   "source": [
    "def get_filter_columns(df):\n",
    "    keep_columns = set(keep_columns_final).intersection(set(df.columns))\n",
    "    return df[keep_columns]"
   ]
  },
  {
   "cell_type": "code",
   "execution_count": 19,
   "id": "blind-florist",
   "metadata": {},
   "outputs": [],
   "source": [
    "### definir las variables que seran agregadas\n",
    "moda=lambda x: calculate_mode(x)\n",
    "moda.__name__='mode'\n",
    "agg_rcc = {'cod_instit_financiera':['nunique','min','max',moda],\n",
    "           'PRODUCTO':['nunique','min','max',moda],\n",
    "          }\n",
    "def get_aggregate(df, desde,n):\n",
    "    print(f'haciendo aggregate de cod_instit_financiera y Producto desde {desde}')\n",
    "    df_result = df[df.codmes>=desde].groupby('key_value').agg(agg_rcc)\n",
    "    df_result.columns = [feature+'_'+agg+f'_ult{n+1}mes' for feature, agg in df_result.columns]    \n",
    "    df_result = get_filter_columns(df_result)\n",
    "    gc.collect()  \n",
    "    return df_result"
   ]
  },
  {
   "cell_type": "code",
   "execution_count": 20,
   "id": "pharmaceutical-galaxy",
   "metadata": {},
   "outputs": [],
   "source": [
    "def get_unstack(df, feature, desde, n, func):\n",
    "    print(f'haciendo unstack de {feature} desde {desde} con la funcion de agregacion {func}')\n",
    "    if func =='Sum':\n",
    "        df_result = df[df.codmes>=desde].groupby(['key_value', feature]).saldo.sum().unstack(level = 1, fill_value=np.nan)\n",
    "    if func == 'Unique':\n",
    "        df_result = df[df.codmes>=desde].groupby(['key_value', feature]).saldo.size().unstack(level = 1, fill_value=np.nan)\n",
    "    if func == 'Min':\n",
    "        df_result = df[df.codmes>=desde].groupby(['key_value', feature]).saldo.min().unstack(level = 1, fill_value=np.nan)\n",
    "    if func == 'Max':\n",
    "        df_result = df[df.codmes>=desde].groupby(['key_value', feature]).saldo.max().unstack(level = 1, fill_value=np.nan)\n",
    "    if func == 'Std':\n",
    "        df_result = df[df.codmes>=desde].groupby(['key_value', feature]).saldo.std().unstack(level = 1, fill_value=np.nan)\n",
    "    if func == 'Mean':\n",
    "        df_result = df[df.codmes>=desde].groupby(['key_value', feature]).saldo.mean().unstack(level = 1, fill_value=np.nan)\n",
    "    if func == 'Median':\n",
    "        df_result = df[df.codmes>=desde].groupby(['key_value', feature]).saldo.median().unstack(level = 1, fill_value=np.nan)\n",
    "    df_result.columns = [f'{df_result.columns.name}_{value}_saldo{func}_ult{n+1}meses' for value in df_result.columns]\n",
    "    \n",
    "    df_result = get_filter_columns(df_result)\n",
    "    gc.collect()      \n",
    "    return df_result"
   ]
  },
  {
   "cell_type": "code",
   "execution_count": 21,
   "id": "aware-feature",
   "metadata": {
    "scrolled": true
   },
   "outputs": [
    {
     "name": "stdout",
     "output_type": "stream",
     "text": [
      "haciendo unstack de tipo_credito desde 201802 con la funcion de agregacion Sum\n",
      "haciendo unstack de tipo_credito desde 201802 con la funcion de agregacion Unique\n",
      "haciendo unstack de tipo_credito desde 201802 con la funcion de agregacion Min\n",
      "haciendo unstack de tipo_credito desde 201802 con la funcion de agregacion Max\n",
      "haciendo unstack de tipo_credito desde 201802 con la funcion de agregacion Std\n",
      "haciendo unstack de tipo_credito desde 201802 con la funcion de agregacion Mean\n",
      "haciendo unstack de tipo_credito desde 201802 con la funcion de agregacion Median\n",
      "haciendo unstack de RIESGO_DIRECTO desde 201802 con la funcion de agregacion Sum\n",
      "haciendo unstack de RIESGO_DIRECTO desde 201802 con la funcion de agregacion Unique\n",
      "haciendo unstack de RIESGO_DIRECTO desde 201802 con la funcion de agregacion Min\n",
      "haciendo unstack de RIESGO_DIRECTO desde 201802 con la funcion de agregacion Max\n",
      "haciendo unstack de RIESGO_DIRECTO desde 201802 con la funcion de agregacion Std\n",
      "haciendo unstack de RIESGO_DIRECTO desde 201802 con la funcion de agregacion Mean\n",
      "haciendo unstack de RIESGO_DIRECTO desde 201802 con la funcion de agregacion Median\n",
      "haciendo unstack de COD_CLASIFICACION_DEUDOR desde 201802 con la funcion de agregacion Sum\n",
      "haciendo unstack de COD_CLASIFICACION_DEUDOR desde 201802 con la funcion de agregacion Unique\n",
      "haciendo unstack de COD_CLASIFICACION_DEUDOR desde 201802 con la funcion de agregacion Min\n",
      "haciendo unstack de COD_CLASIFICACION_DEUDOR desde 201802 con la funcion de agregacion Max\n",
      "haciendo unstack de COD_CLASIFICACION_DEUDOR desde 201802 con la funcion de agregacion Std\n",
      "haciendo unstack de COD_CLASIFICACION_DEUDOR desde 201802 con la funcion de agregacion Mean\n",
      "haciendo unstack de COD_CLASIFICACION_DEUDOR desde 201802 con la funcion de agregacion Median\n",
      "haciendo unstack de condicion desde 201802 con la funcion de agregacion Sum\n",
      "haciendo unstack de condicion desde 201802 con la funcion de agregacion Unique\n",
      "haciendo unstack de condicion desde 201802 con la funcion de agregacion Min\n",
      "haciendo unstack de condicion desde 201802 con la funcion de agregacion Max\n",
      "haciendo unstack de condicion desde 201802 con la funcion de agregacion Std\n",
      "haciendo unstack de condicion desde 201802 con la funcion de agregacion Mean\n",
      "haciendo unstack de condicion desde 201802 con la funcion de agregacion Median\n",
      "haciendo aggregate de cod_instit_financiera y Producto desde 201802\n",
      "haciendo unstack de tipo_credito desde 201801 con la funcion de agregacion Sum\n",
      "haciendo unstack de tipo_credito desde 201801 con la funcion de agregacion Unique\n",
      "haciendo unstack de tipo_credito desde 201801 con la funcion de agregacion Min\n",
      "haciendo unstack de tipo_credito desde 201801 con la funcion de agregacion Max\n",
      "haciendo unstack de tipo_credito desde 201801 con la funcion de agregacion Std\n",
      "haciendo unstack de tipo_credito desde 201801 con la funcion de agregacion Mean\n",
      "haciendo unstack de tipo_credito desde 201801 con la funcion de agregacion Median\n",
      "haciendo unstack de RIESGO_DIRECTO desde 201801 con la funcion de agregacion Sum\n",
      "haciendo unstack de RIESGO_DIRECTO desde 201801 con la funcion de agregacion Unique\n",
      "haciendo unstack de RIESGO_DIRECTO desde 201801 con la funcion de agregacion Min\n",
      "haciendo unstack de RIESGO_DIRECTO desde 201801 con la funcion de agregacion Max\n",
      "haciendo unstack de RIESGO_DIRECTO desde 201801 con la funcion de agregacion Std\n",
      "haciendo unstack de RIESGO_DIRECTO desde 201801 con la funcion de agregacion Mean\n",
      "haciendo unstack de RIESGO_DIRECTO desde 201801 con la funcion de agregacion Median\n",
      "haciendo unstack de COD_CLASIFICACION_DEUDOR desde 201801 con la funcion de agregacion Sum\n",
      "haciendo unstack de COD_CLASIFICACION_DEUDOR desde 201801 con la funcion de agregacion Unique\n",
      "haciendo unstack de COD_CLASIFICACION_DEUDOR desde 201801 con la funcion de agregacion Min\n",
      "haciendo unstack de COD_CLASIFICACION_DEUDOR desde 201801 con la funcion de agregacion Max\n",
      "haciendo unstack de COD_CLASIFICACION_DEUDOR desde 201801 con la funcion de agregacion Std\n",
      "haciendo unstack de COD_CLASIFICACION_DEUDOR desde 201801 con la funcion de agregacion Mean\n",
      "haciendo unstack de COD_CLASIFICACION_DEUDOR desde 201801 con la funcion de agregacion Median\n",
      "haciendo unstack de condicion desde 201801 con la funcion de agregacion Sum\n",
      "haciendo unstack de condicion desde 201801 con la funcion de agregacion Unique\n",
      "haciendo unstack de condicion desde 201801 con la funcion de agregacion Min\n",
      "haciendo unstack de condicion desde 201801 con la funcion de agregacion Max\n",
      "haciendo unstack de condicion desde 201801 con la funcion de agregacion Std\n",
      "haciendo unstack de condicion desde 201801 con la funcion de agregacion Mean\n",
      "haciendo unstack de condicion desde 201801 con la funcion de agregacion Median\n",
      "haciendo aggregate de cod_instit_financiera y Producto desde 201801\n",
      "haciendo unstack de tipo_credito desde 201712 con la funcion de agregacion Sum\n",
      "haciendo unstack de tipo_credito desde 201712 con la funcion de agregacion Unique\n",
      "haciendo unstack de tipo_credito desde 201712 con la funcion de agregacion Min\n",
      "haciendo unstack de tipo_credito desde 201712 con la funcion de agregacion Max\n",
      "haciendo unstack de tipo_credito desde 201712 con la funcion de agregacion Std\n",
      "haciendo unstack de tipo_credito desde 201712 con la funcion de agregacion Mean\n",
      "haciendo unstack de tipo_credito desde 201712 con la funcion de agregacion Median\n",
      "haciendo unstack de RIESGO_DIRECTO desde 201712 con la funcion de agregacion Sum\n",
      "haciendo unstack de RIESGO_DIRECTO desde 201712 con la funcion de agregacion Unique\n",
      "haciendo unstack de RIESGO_DIRECTO desde 201712 con la funcion de agregacion Min\n",
      "haciendo unstack de RIESGO_DIRECTO desde 201712 con la funcion de agregacion Max\n",
      "haciendo unstack de RIESGO_DIRECTO desde 201712 con la funcion de agregacion Std\n",
      "haciendo unstack de RIESGO_DIRECTO desde 201712 con la funcion de agregacion Mean\n",
      "haciendo unstack de RIESGO_DIRECTO desde 201712 con la funcion de agregacion Median\n",
      "haciendo unstack de COD_CLASIFICACION_DEUDOR desde 201712 con la funcion de agregacion Sum\n",
      "haciendo unstack de COD_CLASIFICACION_DEUDOR desde 201712 con la funcion de agregacion Unique\n",
      "haciendo unstack de COD_CLASIFICACION_DEUDOR desde 201712 con la funcion de agregacion Min\n",
      "haciendo unstack de COD_CLASIFICACION_DEUDOR desde 201712 con la funcion de agregacion Max\n",
      "haciendo unstack de COD_CLASIFICACION_DEUDOR desde 201712 con la funcion de agregacion Std\n",
      "haciendo unstack de COD_CLASIFICACION_DEUDOR desde 201712 con la funcion de agregacion Mean\n",
      "haciendo unstack de COD_CLASIFICACION_DEUDOR desde 201712 con la funcion de agregacion Median\n",
      "haciendo unstack de condicion desde 201712 con la funcion de agregacion Sum\n",
      "haciendo unstack de condicion desde 201712 con la funcion de agregacion Unique\n",
      "haciendo unstack de condicion desde 201712 con la funcion de agregacion Min\n",
      "haciendo unstack de condicion desde 201712 con la funcion de agregacion Max\n",
      "haciendo unstack de condicion desde 201712 con la funcion de agregacion Std\n",
      "haciendo unstack de condicion desde 201712 con la funcion de agregacion Mean\n",
      "haciendo unstack de condicion desde 201712 con la funcion de agregacion Median\n",
      "haciendo aggregate de cod_instit_financiera y Producto desde 201712\n",
      "haciendo unstack de tipo_credito desde 201711 con la funcion de agregacion Sum\n",
      "haciendo unstack de tipo_credito desde 201711 con la funcion de agregacion Unique\n",
      "haciendo unstack de tipo_credito desde 201711 con la funcion de agregacion Min\n",
      "haciendo unstack de tipo_credito desde 201711 con la funcion de agregacion Max\n",
      "haciendo unstack de tipo_credito desde 201711 con la funcion de agregacion Std\n",
      "haciendo unstack de tipo_credito desde 201711 con la funcion de agregacion Mean\n",
      "haciendo unstack de tipo_credito desde 201711 con la funcion de agregacion Median\n",
      "haciendo unstack de RIESGO_DIRECTO desde 201711 con la funcion de agregacion Sum\n",
      "haciendo unstack de RIESGO_DIRECTO desde 201711 con la funcion de agregacion Unique\n",
      "haciendo unstack de RIESGO_DIRECTO desde 201711 con la funcion de agregacion Min\n",
      "haciendo unstack de RIESGO_DIRECTO desde 201711 con la funcion de agregacion Max\n",
      "haciendo unstack de RIESGO_DIRECTO desde 201711 con la funcion de agregacion Std\n",
      "haciendo unstack de RIESGO_DIRECTO desde 201711 con la funcion de agregacion Mean\n"
     ]
    },
    {
     "name": "stdout",
     "output_type": "stream",
     "text": [
      "haciendo unstack de RIESGO_DIRECTO desde 201711 con la funcion de agregacion Median\n",
      "haciendo unstack de COD_CLASIFICACION_DEUDOR desde 201711 con la funcion de agregacion Sum\n",
      "haciendo unstack de COD_CLASIFICACION_DEUDOR desde 201711 con la funcion de agregacion Unique\n",
      "haciendo unstack de COD_CLASIFICACION_DEUDOR desde 201711 con la funcion de agregacion Min\n",
      "haciendo unstack de COD_CLASIFICACION_DEUDOR desde 201711 con la funcion de agregacion Max\n",
      "haciendo unstack de COD_CLASIFICACION_DEUDOR desde 201711 con la funcion de agregacion Std\n",
      "haciendo unstack de COD_CLASIFICACION_DEUDOR desde 201711 con la funcion de agregacion Mean\n",
      "haciendo unstack de COD_CLASIFICACION_DEUDOR desde 201711 con la funcion de agregacion Median\n",
      "haciendo unstack de condicion desde 201711 con la funcion de agregacion Sum\n",
      "haciendo unstack de condicion desde 201711 con la funcion de agregacion Unique\n",
      "haciendo unstack de condicion desde 201711 con la funcion de agregacion Min\n",
      "haciendo unstack de condicion desde 201711 con la funcion de agregacion Max\n",
      "haciendo unstack de condicion desde 201711 con la funcion de agregacion Std\n",
      "haciendo unstack de condicion desde 201711 con la funcion de agregacion Mean\n",
      "haciendo unstack de condicion desde 201711 con la funcion de agregacion Median\n",
      "haciendo aggregate de cod_instit_financiera y Producto desde 201711\n",
      "haciendo unstack de tipo_credito desde 201710 con la funcion de agregacion Sum\n",
      "haciendo unstack de tipo_credito desde 201710 con la funcion de agregacion Unique\n",
      "haciendo unstack de tipo_credito desde 201710 con la funcion de agregacion Min\n",
      "haciendo unstack de tipo_credito desde 201710 con la funcion de agregacion Max\n",
      "haciendo unstack de tipo_credito desde 201710 con la funcion de agregacion Std\n",
      "haciendo unstack de tipo_credito desde 201710 con la funcion de agregacion Mean\n",
      "haciendo unstack de tipo_credito desde 201710 con la funcion de agregacion Median\n",
      "haciendo unstack de RIESGO_DIRECTO desde 201710 con la funcion de agregacion Sum\n",
      "haciendo unstack de RIESGO_DIRECTO desde 201710 con la funcion de agregacion Unique\n",
      "haciendo unstack de RIESGO_DIRECTO desde 201710 con la funcion de agregacion Min\n",
      "haciendo unstack de RIESGO_DIRECTO desde 201710 con la funcion de agregacion Max\n",
      "haciendo unstack de RIESGO_DIRECTO desde 201710 con la funcion de agregacion Std\n",
      "haciendo unstack de RIESGO_DIRECTO desde 201710 con la funcion de agregacion Mean\n",
      "haciendo unstack de RIESGO_DIRECTO desde 201710 con la funcion de agregacion Median\n",
      "haciendo unstack de COD_CLASIFICACION_DEUDOR desde 201710 con la funcion de agregacion Sum\n",
      "haciendo unstack de COD_CLASIFICACION_DEUDOR desde 201710 con la funcion de agregacion Unique\n",
      "haciendo unstack de COD_CLASIFICACION_DEUDOR desde 201710 con la funcion de agregacion Min\n",
      "haciendo unstack de COD_CLASIFICACION_DEUDOR desde 201710 con la funcion de agregacion Max\n",
      "haciendo unstack de COD_CLASIFICACION_DEUDOR desde 201710 con la funcion de agregacion Std\n",
      "haciendo unstack de COD_CLASIFICACION_DEUDOR desde 201710 con la funcion de agregacion Mean\n",
      "haciendo unstack de COD_CLASIFICACION_DEUDOR desde 201710 con la funcion de agregacion Median\n",
      "haciendo unstack de condicion desde 201710 con la funcion de agregacion Sum\n",
      "haciendo unstack de condicion desde 201710 con la funcion de agregacion Unique\n",
      "haciendo unstack de condicion desde 201710 con la funcion de agregacion Min\n",
      "haciendo unstack de condicion desde 201710 con la funcion de agregacion Max\n",
      "haciendo unstack de condicion desde 201710 con la funcion de agregacion Std\n",
      "haciendo unstack de condicion desde 201710 con la funcion de agregacion Mean\n",
      "haciendo unstack de condicion desde 201710 con la funcion de agregacion Median\n",
      "haciendo aggregate de cod_instit_financiera y Producto desde 201710\n",
      "haciendo unstack de tipo_credito desde 201709 con la funcion de agregacion Sum\n",
      "haciendo unstack de tipo_credito desde 201709 con la funcion de agregacion Unique\n",
      "haciendo unstack de tipo_credito desde 201709 con la funcion de agregacion Min\n",
      "haciendo unstack de tipo_credito desde 201709 con la funcion de agregacion Max\n",
      "haciendo unstack de tipo_credito desde 201709 con la funcion de agregacion Std\n",
      "haciendo unstack de tipo_credito desde 201709 con la funcion de agregacion Mean\n",
      "haciendo unstack de tipo_credito desde 201709 con la funcion de agregacion Median\n",
      "haciendo unstack de RIESGO_DIRECTO desde 201709 con la funcion de agregacion Sum\n",
      "haciendo unstack de RIESGO_DIRECTO desde 201709 con la funcion de agregacion Unique\n",
      "haciendo unstack de RIESGO_DIRECTO desde 201709 con la funcion de agregacion Min\n",
      "haciendo unstack de RIESGO_DIRECTO desde 201709 con la funcion de agregacion Max\n",
      "haciendo unstack de RIESGO_DIRECTO desde 201709 con la funcion de agregacion Std\n",
      "haciendo unstack de RIESGO_DIRECTO desde 201709 con la funcion de agregacion Mean\n",
      "haciendo unstack de RIESGO_DIRECTO desde 201709 con la funcion de agregacion Median\n",
      "haciendo unstack de COD_CLASIFICACION_DEUDOR desde 201709 con la funcion de agregacion Sum\n",
      "haciendo unstack de COD_CLASIFICACION_DEUDOR desde 201709 con la funcion de agregacion Unique\n",
      "haciendo unstack de COD_CLASIFICACION_DEUDOR desde 201709 con la funcion de agregacion Min\n",
      "haciendo unstack de COD_CLASIFICACION_DEUDOR desde 201709 con la funcion de agregacion Max\n",
      "haciendo unstack de COD_CLASIFICACION_DEUDOR desde 201709 con la funcion de agregacion Std\n",
      "haciendo unstack de COD_CLASIFICACION_DEUDOR desde 201709 con la funcion de agregacion Mean\n",
      "haciendo unstack de COD_CLASIFICACION_DEUDOR desde 201709 con la funcion de agregacion Median\n",
      "haciendo unstack de condicion desde 201709 con la funcion de agregacion Sum\n",
      "haciendo unstack de condicion desde 201709 con la funcion de agregacion Unique\n",
      "haciendo unstack de condicion desde 201709 con la funcion de agregacion Min\n",
      "haciendo unstack de condicion desde 201709 con la funcion de agregacion Max\n",
      "haciendo unstack de condicion desde 201709 con la funcion de agregacion Std\n",
      "haciendo unstack de condicion desde 201709 con la funcion de agregacion Mean\n",
      "haciendo unstack de condicion desde 201709 con la funcion de agregacion Median\n",
      "haciendo aggregate de cod_instit_financiera y Producto desde 201709\n",
      "haciendo unstack de tipo_credito desde 201708 con la funcion de agregacion Sum\n",
      "haciendo unstack de tipo_credito desde 201708 con la funcion de agregacion Unique\n",
      "haciendo unstack de tipo_credito desde 201708 con la funcion de agregacion Min\n",
      "haciendo unstack de tipo_credito desde 201708 con la funcion de agregacion Max\n",
      "haciendo unstack de tipo_credito desde 201708 con la funcion de agregacion Std\n",
      "haciendo unstack de tipo_credito desde 201708 con la funcion de agregacion Mean\n",
      "haciendo unstack de tipo_credito desde 201708 con la funcion de agregacion Median\n",
      "haciendo unstack de RIESGO_DIRECTO desde 201708 con la funcion de agregacion Sum\n",
      "haciendo unstack de RIESGO_DIRECTO desde 201708 con la funcion de agregacion Unique\n",
      "haciendo unstack de RIESGO_DIRECTO desde 201708 con la funcion de agregacion Min\n",
      "haciendo unstack de RIESGO_DIRECTO desde 201708 con la funcion de agregacion Max\n",
      "haciendo unstack de RIESGO_DIRECTO desde 201708 con la funcion de agregacion Std\n",
      "haciendo unstack de RIESGO_DIRECTO desde 201708 con la funcion de agregacion Mean\n",
      "haciendo unstack de RIESGO_DIRECTO desde 201708 con la funcion de agregacion Median\n",
      "haciendo unstack de COD_CLASIFICACION_DEUDOR desde 201708 con la funcion de agregacion Sum\n",
      "haciendo unstack de COD_CLASIFICACION_DEUDOR desde 201708 con la funcion de agregacion Unique\n",
      "haciendo unstack de COD_CLASIFICACION_DEUDOR desde 201708 con la funcion de agregacion Min\n",
      "haciendo unstack de COD_CLASIFICACION_DEUDOR desde 201708 con la funcion de agregacion Max\n",
      "haciendo unstack de COD_CLASIFICACION_DEUDOR desde 201708 con la funcion de agregacion Std\n",
      "haciendo unstack de COD_CLASIFICACION_DEUDOR desde 201708 con la funcion de agregacion Mean\n",
      "haciendo unstack de COD_CLASIFICACION_DEUDOR desde 201708 con la funcion de agregacion Median\n",
      "haciendo unstack de condicion desde 201708 con la funcion de agregacion Sum\n",
      "haciendo unstack de condicion desde 201708 con la funcion de agregacion Unique\n",
      "haciendo unstack de condicion desde 201708 con la funcion de agregacion Min\n",
      "haciendo unstack de condicion desde 201708 con la funcion de agregacion Max\n",
      "haciendo unstack de condicion desde 201708 con la funcion de agregacion Std\n"
     ]
    },
    {
     "name": "stdout",
     "output_type": "stream",
     "text": [
      "haciendo unstack de condicion desde 201708 con la funcion de agregacion Mean\n",
      "haciendo unstack de condicion desde 201708 con la funcion de agregacion Median\n",
      "haciendo aggregate de cod_instit_financiera y Producto desde 201708\n",
      "haciendo unstack de tipo_credito desde 201707 con la funcion de agregacion Sum\n",
      "haciendo unstack de tipo_credito desde 201707 con la funcion de agregacion Unique\n",
      "haciendo unstack de tipo_credito desde 201707 con la funcion de agregacion Min\n",
      "haciendo unstack de tipo_credito desde 201707 con la funcion de agregacion Max\n",
      "haciendo unstack de tipo_credito desde 201707 con la funcion de agregacion Std\n",
      "haciendo unstack de tipo_credito desde 201707 con la funcion de agregacion Mean\n",
      "haciendo unstack de tipo_credito desde 201707 con la funcion de agregacion Median\n",
      "haciendo unstack de RIESGO_DIRECTO desde 201707 con la funcion de agregacion Sum\n",
      "haciendo unstack de RIESGO_DIRECTO desde 201707 con la funcion de agregacion Unique\n",
      "haciendo unstack de RIESGO_DIRECTO desde 201707 con la funcion de agregacion Min\n",
      "haciendo unstack de RIESGO_DIRECTO desde 201707 con la funcion de agregacion Max\n",
      "haciendo unstack de RIESGO_DIRECTO desde 201707 con la funcion de agregacion Std\n",
      "haciendo unstack de RIESGO_DIRECTO desde 201707 con la funcion de agregacion Mean\n",
      "haciendo unstack de RIESGO_DIRECTO desde 201707 con la funcion de agregacion Median\n",
      "haciendo unstack de COD_CLASIFICACION_DEUDOR desde 201707 con la funcion de agregacion Sum\n",
      "haciendo unstack de COD_CLASIFICACION_DEUDOR desde 201707 con la funcion de agregacion Unique\n",
      "haciendo unstack de COD_CLASIFICACION_DEUDOR desde 201707 con la funcion de agregacion Min\n",
      "haciendo unstack de COD_CLASIFICACION_DEUDOR desde 201707 con la funcion de agregacion Max\n",
      "haciendo unstack de COD_CLASIFICACION_DEUDOR desde 201707 con la funcion de agregacion Std\n",
      "haciendo unstack de COD_CLASIFICACION_DEUDOR desde 201707 con la funcion de agregacion Mean\n",
      "haciendo unstack de COD_CLASIFICACION_DEUDOR desde 201707 con la funcion de agregacion Median\n",
      "haciendo unstack de condicion desde 201707 con la funcion de agregacion Sum\n",
      "haciendo unstack de condicion desde 201707 con la funcion de agregacion Unique\n",
      "haciendo unstack de condicion desde 201707 con la funcion de agregacion Min\n",
      "haciendo unstack de condicion desde 201707 con la funcion de agregacion Max\n",
      "haciendo unstack de condicion desde 201707 con la funcion de agregacion Std\n",
      "haciendo unstack de condicion desde 201707 con la funcion de agregacion Mean\n",
      "haciendo unstack de condicion desde 201707 con la funcion de agregacion Median\n",
      "haciendo aggregate de cod_instit_financiera y Producto desde 201707\n",
      "haciendo unstack de tipo_credito desde 201706 con la funcion de agregacion Sum\n",
      "haciendo unstack de tipo_credito desde 201706 con la funcion de agregacion Unique\n",
      "haciendo unstack de tipo_credito desde 201706 con la funcion de agregacion Min\n",
      "haciendo unstack de tipo_credito desde 201706 con la funcion de agregacion Max\n",
      "haciendo unstack de tipo_credito desde 201706 con la funcion de agregacion Std\n",
      "haciendo unstack de tipo_credito desde 201706 con la funcion de agregacion Mean\n",
      "haciendo unstack de tipo_credito desde 201706 con la funcion de agregacion Median\n",
      "haciendo unstack de RIESGO_DIRECTO desde 201706 con la funcion de agregacion Sum\n",
      "haciendo unstack de RIESGO_DIRECTO desde 201706 con la funcion de agregacion Unique\n",
      "haciendo unstack de RIESGO_DIRECTO desde 201706 con la funcion de agregacion Min\n",
      "haciendo unstack de RIESGO_DIRECTO desde 201706 con la funcion de agregacion Max\n",
      "haciendo unstack de RIESGO_DIRECTO desde 201706 con la funcion de agregacion Std\n",
      "haciendo unstack de RIESGO_DIRECTO desde 201706 con la funcion de agregacion Mean\n",
      "haciendo unstack de RIESGO_DIRECTO desde 201706 con la funcion de agregacion Median\n",
      "haciendo unstack de COD_CLASIFICACION_DEUDOR desde 201706 con la funcion de agregacion Sum\n",
      "haciendo unstack de COD_CLASIFICACION_DEUDOR desde 201706 con la funcion de agregacion Unique\n",
      "haciendo unstack de COD_CLASIFICACION_DEUDOR desde 201706 con la funcion de agregacion Min\n",
      "haciendo unstack de COD_CLASIFICACION_DEUDOR desde 201706 con la funcion de agregacion Max\n",
      "haciendo unstack de COD_CLASIFICACION_DEUDOR desde 201706 con la funcion de agregacion Std\n",
      "haciendo unstack de COD_CLASIFICACION_DEUDOR desde 201706 con la funcion de agregacion Mean\n",
      "haciendo unstack de COD_CLASIFICACION_DEUDOR desde 201706 con la funcion de agregacion Median\n",
      "haciendo unstack de condicion desde 201706 con la funcion de agregacion Sum\n",
      "haciendo unstack de condicion desde 201706 con la funcion de agregacion Unique\n",
      "haciendo unstack de condicion desde 201706 con la funcion de agregacion Min\n",
      "haciendo unstack de condicion desde 201706 con la funcion de agregacion Max\n",
      "haciendo unstack de condicion desde 201706 con la funcion de agregacion Std\n",
      "haciendo unstack de condicion desde 201706 con la funcion de agregacion Mean\n",
      "haciendo unstack de condicion desde 201706 con la funcion de agregacion Median\n",
      "haciendo aggregate de cod_instit_financiera y Producto desde 201706\n",
      "haciendo unstack de tipo_credito desde 201705 con la funcion de agregacion Sum\n",
      "haciendo unstack de tipo_credito desde 201705 con la funcion de agregacion Unique\n",
      "haciendo unstack de tipo_credito desde 201705 con la funcion de agregacion Min\n",
      "haciendo unstack de tipo_credito desde 201705 con la funcion de agregacion Max\n",
      "haciendo unstack de tipo_credito desde 201705 con la funcion de agregacion Std\n",
      "haciendo unstack de tipo_credito desde 201705 con la funcion de agregacion Mean\n",
      "haciendo unstack de tipo_credito desde 201705 con la funcion de agregacion Median\n",
      "haciendo unstack de RIESGO_DIRECTO desde 201705 con la funcion de agregacion Sum\n",
      "haciendo unstack de RIESGO_DIRECTO desde 201705 con la funcion de agregacion Unique\n",
      "haciendo unstack de RIESGO_DIRECTO desde 201705 con la funcion de agregacion Min\n",
      "haciendo unstack de RIESGO_DIRECTO desde 201705 con la funcion de agregacion Max\n",
      "haciendo unstack de RIESGO_DIRECTO desde 201705 con la funcion de agregacion Std\n",
      "haciendo unstack de RIESGO_DIRECTO desde 201705 con la funcion de agregacion Mean\n",
      "haciendo unstack de RIESGO_DIRECTO desde 201705 con la funcion de agregacion Median\n",
      "haciendo unstack de COD_CLASIFICACION_DEUDOR desde 201705 con la funcion de agregacion Sum\n",
      "haciendo unstack de COD_CLASIFICACION_DEUDOR desde 201705 con la funcion de agregacion Unique\n",
      "haciendo unstack de COD_CLASIFICACION_DEUDOR desde 201705 con la funcion de agregacion Min\n",
      "haciendo unstack de COD_CLASIFICACION_DEUDOR desde 201705 con la funcion de agregacion Max\n",
      "haciendo unstack de COD_CLASIFICACION_DEUDOR desde 201705 con la funcion de agregacion Std\n",
      "haciendo unstack de COD_CLASIFICACION_DEUDOR desde 201705 con la funcion de agregacion Mean\n",
      "haciendo unstack de COD_CLASIFICACION_DEUDOR desde 201705 con la funcion de agregacion Median\n",
      "haciendo unstack de condicion desde 201705 con la funcion de agregacion Sum\n",
      "haciendo unstack de condicion desde 201705 con la funcion de agregacion Unique\n",
      "haciendo unstack de condicion desde 201705 con la funcion de agregacion Min\n",
      "haciendo unstack de condicion desde 201705 con la funcion de agregacion Max\n",
      "haciendo unstack de condicion desde 201705 con la funcion de agregacion Std\n",
      "haciendo unstack de condicion desde 201705 con la funcion de agregacion Mean\n",
      "haciendo unstack de condicion desde 201705 con la funcion de agregacion Median\n",
      "haciendo aggregate de cod_instit_financiera y Producto desde 201705\n",
      "haciendo unstack de tipo_credito desde 201704 con la funcion de agregacion Sum\n",
      "haciendo unstack de tipo_credito desde 201704 con la funcion de agregacion Unique\n",
      "haciendo unstack de tipo_credito desde 201704 con la funcion de agregacion Min\n",
      "haciendo unstack de tipo_credito desde 201704 con la funcion de agregacion Max\n",
      "haciendo unstack de tipo_credito desde 201704 con la funcion de agregacion Std\n",
      "haciendo unstack de tipo_credito desde 201704 con la funcion de agregacion Mean\n",
      "haciendo unstack de tipo_credito desde 201704 con la funcion de agregacion Median\n",
      "haciendo unstack de RIESGO_DIRECTO desde 201704 con la funcion de agregacion Sum\n",
      "haciendo unstack de RIESGO_DIRECTO desde 201704 con la funcion de agregacion Unique\n",
      "haciendo unstack de RIESGO_DIRECTO desde 201704 con la funcion de agregacion Min\n",
      "haciendo unstack de RIESGO_DIRECTO desde 201704 con la funcion de agregacion Max\n"
     ]
    },
    {
     "name": "stdout",
     "output_type": "stream",
     "text": [
      "haciendo unstack de RIESGO_DIRECTO desde 201704 con la funcion de agregacion Std\n",
      "haciendo unstack de RIESGO_DIRECTO desde 201704 con la funcion de agregacion Mean\n",
      "haciendo unstack de RIESGO_DIRECTO desde 201704 con la funcion de agregacion Median\n",
      "haciendo unstack de COD_CLASIFICACION_DEUDOR desde 201704 con la funcion de agregacion Sum\n",
      "haciendo unstack de COD_CLASIFICACION_DEUDOR desde 201704 con la funcion de agregacion Unique\n",
      "haciendo unstack de COD_CLASIFICACION_DEUDOR desde 201704 con la funcion de agregacion Min\n",
      "haciendo unstack de COD_CLASIFICACION_DEUDOR desde 201704 con la funcion de agregacion Max\n",
      "haciendo unstack de COD_CLASIFICACION_DEUDOR desde 201704 con la funcion de agregacion Std\n",
      "haciendo unstack de COD_CLASIFICACION_DEUDOR desde 201704 con la funcion de agregacion Mean\n",
      "haciendo unstack de COD_CLASIFICACION_DEUDOR desde 201704 con la funcion de agregacion Median\n",
      "haciendo unstack de condicion desde 201704 con la funcion de agregacion Sum\n",
      "haciendo unstack de condicion desde 201704 con la funcion de agregacion Unique\n",
      "haciendo unstack de condicion desde 201704 con la funcion de agregacion Min\n",
      "haciendo unstack de condicion desde 201704 con la funcion de agregacion Max\n",
      "haciendo unstack de condicion desde 201704 con la funcion de agregacion Std\n",
      "haciendo unstack de condicion desde 201704 con la funcion de agregacion Mean\n",
      "haciendo unstack de condicion desde 201704 con la funcion de agregacion Median\n",
      "haciendo aggregate de cod_instit_financiera y Producto desde 201704\n",
      "haciendo unstack de tipo_credito desde 201703 con la funcion de agregacion Sum\n",
      "haciendo unstack de tipo_credito desde 201703 con la funcion de agregacion Unique\n",
      "haciendo unstack de tipo_credito desde 201703 con la funcion de agregacion Min\n",
      "haciendo unstack de tipo_credito desde 201703 con la funcion de agregacion Max\n",
      "haciendo unstack de tipo_credito desde 201703 con la funcion de agregacion Std\n",
      "haciendo unstack de tipo_credito desde 201703 con la funcion de agregacion Mean\n",
      "haciendo unstack de tipo_credito desde 201703 con la funcion de agregacion Median\n",
      "haciendo unstack de RIESGO_DIRECTO desde 201703 con la funcion de agregacion Sum\n",
      "haciendo unstack de RIESGO_DIRECTO desde 201703 con la funcion de agregacion Unique\n",
      "haciendo unstack de RIESGO_DIRECTO desde 201703 con la funcion de agregacion Min\n",
      "haciendo unstack de RIESGO_DIRECTO desde 201703 con la funcion de agregacion Max\n",
      "haciendo unstack de RIESGO_DIRECTO desde 201703 con la funcion de agregacion Std\n",
      "haciendo unstack de RIESGO_DIRECTO desde 201703 con la funcion de agregacion Mean\n",
      "haciendo unstack de RIESGO_DIRECTO desde 201703 con la funcion de agregacion Median\n",
      "haciendo unstack de COD_CLASIFICACION_DEUDOR desde 201703 con la funcion de agregacion Sum\n",
      "haciendo unstack de COD_CLASIFICACION_DEUDOR desde 201703 con la funcion de agregacion Unique\n",
      "haciendo unstack de COD_CLASIFICACION_DEUDOR desde 201703 con la funcion de agregacion Min\n",
      "haciendo unstack de COD_CLASIFICACION_DEUDOR desde 201703 con la funcion de agregacion Max\n",
      "haciendo unstack de COD_CLASIFICACION_DEUDOR desde 201703 con la funcion de agregacion Std\n",
      "haciendo unstack de COD_CLASIFICACION_DEUDOR desde 201703 con la funcion de agregacion Mean\n",
      "haciendo unstack de COD_CLASIFICACION_DEUDOR desde 201703 con la funcion de agregacion Median\n",
      "haciendo unstack de condicion desde 201703 con la funcion de agregacion Sum\n",
      "haciendo unstack de condicion desde 201703 con la funcion de agregacion Unique\n",
      "haciendo unstack de condicion desde 201703 con la funcion de agregacion Min\n",
      "haciendo unstack de condicion desde 201703 con la funcion de agregacion Max\n",
      "haciendo unstack de condicion desde 201703 con la funcion de agregacion Std\n",
      "haciendo unstack de condicion desde 201703 con la funcion de agregacion Mean\n",
      "haciendo unstack de condicion desde 201703 con la funcion de agregacion Median\n",
      "haciendo aggregate de cod_instit_financiera y Producto desde 201703\n"
     ]
    }
   ],
   "source": [
    "rcc_train_list=[]\n",
    "for n,desde in enumerate(sorted(set(rcc_train.codmes),reverse=True)):\n",
    "    for feature in ['tipo_credito','RIESGO_DIRECTO','COD_CLASIFICACION_DEUDOR','condicion']:\n",
    "        rcc_train_list.append(get_unstack(rcc_train, feature, desde, n, 'Sum'))\n",
    "        rcc_train_list.append(get_unstack(rcc_train, feature, desde, n, 'Unique'))\n",
    "        rcc_train_list.append(get_unstack(rcc_train, feature, desde, n, 'Min'))\n",
    "        rcc_train_list.append(get_unstack(rcc_train, feature, desde, n, 'Max'))\n",
    "        rcc_train_list.append(get_unstack(rcc_train, feature, desde, n, 'Std'))\n",
    "        rcc_train_list.append(get_unstack(rcc_train, feature, desde, n, 'Mean'))\n",
    "        rcc_train_list.append(get_unstack(rcc_train, feature, desde, n, 'Median'))\n",
    "    rcc_train_list.append(get_aggregate(rcc_train, desde,n))"
   ]
  },
  {
   "cell_type": "code",
   "execution_count": 22,
   "id": "governmental-pierce",
   "metadata": {},
   "outputs": [],
   "source": [
    "rcc_train = pd.concat(rcc_train_list, axis=1)\n",
    "del rcc_train_list"
   ]
  },
  {
   "cell_type": "code",
   "execution_count": 23,
   "id": "popular-horse",
   "metadata": {},
   "outputs": [
    {
     "data": {
      "text/plain": [
       "(358487, 774)"
      ]
     },
     "execution_count": 23,
     "metadata": {},
     "output_type": "execute_result"
    }
   ],
   "source": [
    "rcc_train.shape"
   ]
  },
  {
   "cell_type": "code",
   "execution_count": 29,
   "id": "czech-robin",
   "metadata": {
    "scrolled": true
   },
   "outputs": [
    {
     "name": "stdout",
     "output_type": "stream",
     "text": [
      "haciendo unstack de tipo_credito desde 201902 con la funcion de agregacion Sum\n",
      "haciendo unstack de tipo_credito desde 201902 con la funcion de agregacion Unique\n",
      "haciendo unstack de tipo_credito desde 201902 con la funcion de agregacion Min\n",
      "haciendo unstack de tipo_credito desde 201902 con la funcion de agregacion Max\n",
      "haciendo unstack de tipo_credito desde 201902 con la funcion de agregacion Std\n",
      "haciendo unstack de tipo_credito desde 201902 con la funcion de agregacion Mean\n",
      "haciendo unstack de tipo_credito desde 201902 con la funcion de agregacion Median\n",
      "haciendo unstack de RIESGO_DIRECTO desde 201902 con la funcion de agregacion Sum\n",
      "haciendo unstack de RIESGO_DIRECTO desde 201902 con la funcion de agregacion Unique\n",
      "haciendo unstack de RIESGO_DIRECTO desde 201902 con la funcion de agregacion Min\n",
      "haciendo unstack de RIESGO_DIRECTO desde 201902 con la funcion de agregacion Max\n",
      "haciendo unstack de RIESGO_DIRECTO desde 201902 con la funcion de agregacion Std\n",
      "haciendo unstack de RIESGO_DIRECTO desde 201902 con la funcion de agregacion Mean\n",
      "haciendo unstack de RIESGO_DIRECTO desde 201902 con la funcion de agregacion Median\n",
      "haciendo unstack de COD_CLASIFICACION_DEUDOR desde 201902 con la funcion de agregacion Sum\n",
      "haciendo unstack de COD_CLASIFICACION_DEUDOR desde 201902 con la funcion de agregacion Unique\n",
      "haciendo unstack de COD_CLASIFICACION_DEUDOR desde 201902 con la funcion de agregacion Min\n",
      "haciendo unstack de COD_CLASIFICACION_DEUDOR desde 201902 con la funcion de agregacion Max\n",
      "haciendo unstack de COD_CLASIFICACION_DEUDOR desde 201902 con la funcion de agregacion Std\n",
      "haciendo unstack de COD_CLASIFICACION_DEUDOR desde 201902 con la funcion de agregacion Mean\n",
      "haciendo unstack de COD_CLASIFICACION_DEUDOR desde 201902 con la funcion de agregacion Median\n",
      "haciendo unstack de condicion desde 201902 con la funcion de agregacion Sum\n",
      "haciendo unstack de condicion desde 201902 con la funcion de agregacion Unique\n",
      "haciendo unstack de condicion desde 201902 con la funcion de agregacion Min\n",
      "haciendo unstack de condicion desde 201902 con la funcion de agregacion Max\n",
      "haciendo unstack de condicion desde 201902 con la funcion de agregacion Std\n",
      "haciendo unstack de condicion desde 201902 con la funcion de agregacion Mean\n",
      "haciendo unstack de condicion desde 201902 con la funcion de agregacion Median\n",
      "haciendo aggregate de cod_instit_financiera y Producto desde 201902\n",
      "haciendo unstack de tipo_credito desde 201901 con la funcion de agregacion Sum\n",
      "haciendo unstack de tipo_credito desde 201901 con la funcion de agregacion Unique\n",
      "haciendo unstack de tipo_credito desde 201901 con la funcion de agregacion Min\n",
      "haciendo unstack de tipo_credito desde 201901 con la funcion de agregacion Max\n",
      "haciendo unstack de tipo_credito desde 201901 con la funcion de agregacion Std\n",
      "haciendo unstack de tipo_credito desde 201901 con la funcion de agregacion Mean\n",
      "haciendo unstack de tipo_credito desde 201901 con la funcion de agregacion Median\n",
      "haciendo unstack de RIESGO_DIRECTO desde 201901 con la funcion de agregacion Sum\n",
      "haciendo unstack de RIESGO_DIRECTO desde 201901 con la funcion de agregacion Unique\n",
      "haciendo unstack de RIESGO_DIRECTO desde 201901 con la funcion de agregacion Min\n",
      "haciendo unstack de RIESGO_DIRECTO desde 201901 con la funcion de agregacion Max\n",
      "haciendo unstack de RIESGO_DIRECTO desde 201901 con la funcion de agregacion Std\n",
      "haciendo unstack de RIESGO_DIRECTO desde 201901 con la funcion de agregacion Mean\n",
      "haciendo unstack de RIESGO_DIRECTO desde 201901 con la funcion de agregacion Median\n",
      "haciendo unstack de COD_CLASIFICACION_DEUDOR desde 201901 con la funcion de agregacion Sum\n",
      "haciendo unstack de COD_CLASIFICACION_DEUDOR desde 201901 con la funcion de agregacion Unique\n",
      "haciendo unstack de COD_CLASIFICACION_DEUDOR desde 201901 con la funcion de agregacion Min\n",
      "haciendo unstack de COD_CLASIFICACION_DEUDOR desde 201901 con la funcion de agregacion Max\n",
      "haciendo unstack de COD_CLASIFICACION_DEUDOR desde 201901 con la funcion de agregacion Std\n",
      "haciendo unstack de COD_CLASIFICACION_DEUDOR desde 201901 con la funcion de agregacion Mean\n",
      "haciendo unstack de COD_CLASIFICACION_DEUDOR desde 201901 con la funcion de agregacion Median\n",
      "haciendo unstack de condicion desde 201901 con la funcion de agregacion Sum\n",
      "haciendo unstack de condicion desde 201901 con la funcion de agregacion Unique\n",
      "haciendo unstack de condicion desde 201901 con la funcion de agregacion Min\n",
      "haciendo unstack de condicion desde 201901 con la funcion de agregacion Max\n",
      "haciendo unstack de condicion desde 201901 con la funcion de agregacion Std\n",
      "haciendo unstack de condicion desde 201901 con la funcion de agregacion Mean\n",
      "haciendo unstack de condicion desde 201901 con la funcion de agregacion Median\n",
      "haciendo aggregate de cod_instit_financiera y Producto desde 201901\n",
      "haciendo unstack de tipo_credito desde 201812 con la funcion de agregacion Sum\n",
      "haciendo unstack de tipo_credito desde 201812 con la funcion de agregacion Unique\n",
      "haciendo unstack de tipo_credito desde 201812 con la funcion de agregacion Min\n",
      "haciendo unstack de tipo_credito desde 201812 con la funcion de agregacion Max\n",
      "haciendo unstack de tipo_credito desde 201812 con la funcion de agregacion Std\n",
      "haciendo unstack de tipo_credito desde 201812 con la funcion de agregacion Mean\n",
      "haciendo unstack de tipo_credito desde 201812 con la funcion de agregacion Median\n",
      "haciendo unstack de RIESGO_DIRECTO desde 201812 con la funcion de agregacion Sum\n",
      "haciendo unstack de RIESGO_DIRECTO desde 201812 con la funcion de agregacion Unique\n",
      "haciendo unstack de RIESGO_DIRECTO desde 201812 con la funcion de agregacion Min\n",
      "haciendo unstack de RIESGO_DIRECTO desde 201812 con la funcion de agregacion Max\n",
      "haciendo unstack de RIESGO_DIRECTO desde 201812 con la funcion de agregacion Std\n",
      "haciendo unstack de RIESGO_DIRECTO desde 201812 con la funcion de agregacion Mean\n",
      "haciendo unstack de RIESGO_DIRECTO desde 201812 con la funcion de agregacion Median\n",
      "haciendo unstack de COD_CLASIFICACION_DEUDOR desde 201812 con la funcion de agregacion Sum\n",
      "haciendo unstack de COD_CLASIFICACION_DEUDOR desde 201812 con la funcion de agregacion Unique\n",
      "haciendo unstack de COD_CLASIFICACION_DEUDOR desde 201812 con la funcion de agregacion Min\n",
      "haciendo unstack de COD_CLASIFICACION_DEUDOR desde 201812 con la funcion de agregacion Max\n",
      "haciendo unstack de COD_CLASIFICACION_DEUDOR desde 201812 con la funcion de agregacion Std\n",
      "haciendo unstack de COD_CLASIFICACION_DEUDOR desde 201812 con la funcion de agregacion Mean\n",
      "haciendo unstack de COD_CLASIFICACION_DEUDOR desde 201812 con la funcion de agregacion Median\n",
      "haciendo unstack de condicion desde 201812 con la funcion de agregacion Sum\n",
      "haciendo unstack de condicion desde 201812 con la funcion de agregacion Unique\n",
      "haciendo unstack de condicion desde 201812 con la funcion de agregacion Min\n",
      "haciendo unstack de condicion desde 201812 con la funcion de agregacion Max\n",
      "haciendo unstack de condicion desde 201812 con la funcion de agregacion Std\n",
      "haciendo unstack de condicion desde 201812 con la funcion de agregacion Mean\n",
      "haciendo unstack de condicion desde 201812 con la funcion de agregacion Median\n",
      "haciendo aggregate de cod_instit_financiera y Producto desde 201812\n",
      "haciendo unstack de tipo_credito desde 201811 con la funcion de agregacion Sum\n",
      "haciendo unstack de tipo_credito desde 201811 con la funcion de agregacion Unique\n",
      "haciendo unstack de tipo_credito desde 201811 con la funcion de agregacion Min\n",
      "haciendo unstack de tipo_credito desde 201811 con la funcion de agregacion Max\n",
      "haciendo unstack de tipo_credito desde 201811 con la funcion de agregacion Std\n",
      "haciendo unstack de tipo_credito desde 201811 con la funcion de agregacion Mean\n",
      "haciendo unstack de tipo_credito desde 201811 con la funcion de agregacion Median\n",
      "haciendo unstack de RIESGO_DIRECTO desde 201811 con la funcion de agregacion Sum\n",
      "haciendo unstack de RIESGO_DIRECTO desde 201811 con la funcion de agregacion Unique\n",
      "haciendo unstack de RIESGO_DIRECTO desde 201811 con la funcion de agregacion Min\n",
      "haciendo unstack de RIESGO_DIRECTO desde 201811 con la funcion de agregacion Max\n",
      "haciendo unstack de RIESGO_DIRECTO desde 201811 con la funcion de agregacion Std\n",
      "haciendo unstack de RIESGO_DIRECTO desde 201811 con la funcion de agregacion Mean\n"
     ]
    },
    {
     "name": "stdout",
     "output_type": "stream",
     "text": [
      "haciendo unstack de RIESGO_DIRECTO desde 201811 con la funcion de agregacion Median\n",
      "haciendo unstack de COD_CLASIFICACION_DEUDOR desde 201811 con la funcion de agregacion Sum\n",
      "haciendo unstack de COD_CLASIFICACION_DEUDOR desde 201811 con la funcion de agregacion Unique\n",
      "haciendo unstack de COD_CLASIFICACION_DEUDOR desde 201811 con la funcion de agregacion Min\n",
      "haciendo unstack de COD_CLASIFICACION_DEUDOR desde 201811 con la funcion de agregacion Max\n",
      "haciendo unstack de COD_CLASIFICACION_DEUDOR desde 201811 con la funcion de agregacion Std\n",
      "haciendo unstack de COD_CLASIFICACION_DEUDOR desde 201811 con la funcion de agregacion Mean\n",
      "haciendo unstack de COD_CLASIFICACION_DEUDOR desde 201811 con la funcion de agregacion Median\n",
      "haciendo unstack de condicion desde 201811 con la funcion de agregacion Sum\n",
      "haciendo unstack de condicion desde 201811 con la funcion de agregacion Unique\n",
      "haciendo unstack de condicion desde 201811 con la funcion de agregacion Min\n",
      "haciendo unstack de condicion desde 201811 con la funcion de agregacion Max\n",
      "haciendo unstack de condicion desde 201811 con la funcion de agregacion Std\n",
      "haciendo unstack de condicion desde 201811 con la funcion de agregacion Mean\n",
      "haciendo unstack de condicion desde 201811 con la funcion de agregacion Median\n",
      "haciendo aggregate de cod_instit_financiera y Producto desde 201811\n",
      "haciendo unstack de tipo_credito desde 201810 con la funcion de agregacion Sum\n",
      "haciendo unstack de tipo_credito desde 201810 con la funcion de agregacion Unique\n",
      "haciendo unstack de tipo_credito desde 201810 con la funcion de agregacion Min\n",
      "haciendo unstack de tipo_credito desde 201810 con la funcion de agregacion Max\n",
      "haciendo unstack de tipo_credito desde 201810 con la funcion de agregacion Std\n",
      "haciendo unstack de tipo_credito desde 201810 con la funcion de agregacion Mean\n",
      "haciendo unstack de tipo_credito desde 201810 con la funcion de agregacion Median\n",
      "haciendo unstack de RIESGO_DIRECTO desde 201810 con la funcion de agregacion Sum\n",
      "haciendo unstack de RIESGO_DIRECTO desde 201810 con la funcion de agregacion Unique\n",
      "haciendo unstack de RIESGO_DIRECTO desde 201810 con la funcion de agregacion Min\n",
      "haciendo unstack de RIESGO_DIRECTO desde 201810 con la funcion de agregacion Max\n",
      "haciendo unstack de RIESGO_DIRECTO desde 201810 con la funcion de agregacion Std\n",
      "haciendo unstack de RIESGO_DIRECTO desde 201810 con la funcion de agregacion Mean\n",
      "haciendo unstack de RIESGO_DIRECTO desde 201810 con la funcion de agregacion Median\n",
      "haciendo unstack de COD_CLASIFICACION_DEUDOR desde 201810 con la funcion de agregacion Sum\n",
      "haciendo unstack de COD_CLASIFICACION_DEUDOR desde 201810 con la funcion de agregacion Unique\n",
      "haciendo unstack de COD_CLASIFICACION_DEUDOR desde 201810 con la funcion de agregacion Min\n",
      "haciendo unstack de COD_CLASIFICACION_DEUDOR desde 201810 con la funcion de agregacion Max\n",
      "haciendo unstack de COD_CLASIFICACION_DEUDOR desde 201810 con la funcion de agregacion Std\n",
      "haciendo unstack de COD_CLASIFICACION_DEUDOR desde 201810 con la funcion de agregacion Mean\n",
      "haciendo unstack de COD_CLASIFICACION_DEUDOR desde 201810 con la funcion de agregacion Median\n",
      "haciendo unstack de condicion desde 201810 con la funcion de agregacion Sum\n",
      "haciendo unstack de condicion desde 201810 con la funcion de agregacion Unique\n",
      "haciendo unstack de condicion desde 201810 con la funcion de agregacion Min\n",
      "haciendo unstack de condicion desde 201810 con la funcion de agregacion Max\n",
      "haciendo unstack de condicion desde 201810 con la funcion de agregacion Std\n",
      "haciendo unstack de condicion desde 201810 con la funcion de agregacion Mean\n",
      "haciendo unstack de condicion desde 201810 con la funcion de agregacion Median\n",
      "haciendo aggregate de cod_instit_financiera y Producto desde 201810\n",
      "haciendo unstack de tipo_credito desde 201809 con la funcion de agregacion Sum\n",
      "haciendo unstack de tipo_credito desde 201809 con la funcion de agregacion Unique\n",
      "haciendo unstack de tipo_credito desde 201809 con la funcion de agregacion Min\n",
      "haciendo unstack de tipo_credito desde 201809 con la funcion de agregacion Max\n",
      "haciendo unstack de tipo_credito desde 201809 con la funcion de agregacion Std\n",
      "haciendo unstack de tipo_credito desde 201809 con la funcion de agregacion Mean\n",
      "haciendo unstack de tipo_credito desde 201809 con la funcion de agregacion Median\n",
      "haciendo unstack de RIESGO_DIRECTO desde 201809 con la funcion de agregacion Sum\n",
      "haciendo unstack de RIESGO_DIRECTO desde 201809 con la funcion de agregacion Unique\n",
      "haciendo unstack de RIESGO_DIRECTO desde 201809 con la funcion de agregacion Min\n",
      "haciendo unstack de RIESGO_DIRECTO desde 201809 con la funcion de agregacion Max\n",
      "haciendo unstack de RIESGO_DIRECTO desde 201809 con la funcion de agregacion Std\n",
      "haciendo unstack de RIESGO_DIRECTO desde 201809 con la funcion de agregacion Mean\n",
      "haciendo unstack de RIESGO_DIRECTO desde 201809 con la funcion de agregacion Median\n",
      "haciendo unstack de COD_CLASIFICACION_DEUDOR desde 201809 con la funcion de agregacion Sum\n",
      "haciendo unstack de COD_CLASIFICACION_DEUDOR desde 201809 con la funcion de agregacion Unique\n",
      "haciendo unstack de COD_CLASIFICACION_DEUDOR desde 201809 con la funcion de agregacion Min\n",
      "haciendo unstack de COD_CLASIFICACION_DEUDOR desde 201809 con la funcion de agregacion Max\n",
      "haciendo unstack de COD_CLASIFICACION_DEUDOR desde 201809 con la funcion de agregacion Std\n",
      "haciendo unstack de COD_CLASIFICACION_DEUDOR desde 201809 con la funcion de agregacion Mean\n",
      "haciendo unstack de COD_CLASIFICACION_DEUDOR desde 201809 con la funcion de agregacion Median\n",
      "haciendo unstack de condicion desde 201809 con la funcion de agregacion Sum\n",
      "haciendo unstack de condicion desde 201809 con la funcion de agregacion Unique\n",
      "haciendo unstack de condicion desde 201809 con la funcion de agregacion Min\n",
      "haciendo unstack de condicion desde 201809 con la funcion de agregacion Max\n",
      "haciendo unstack de condicion desde 201809 con la funcion de agregacion Std\n",
      "haciendo unstack de condicion desde 201809 con la funcion de agregacion Mean\n",
      "haciendo unstack de condicion desde 201809 con la funcion de agregacion Median\n",
      "haciendo aggregate de cod_instit_financiera y Producto desde 201809\n",
      "haciendo unstack de tipo_credito desde 201808 con la funcion de agregacion Sum\n",
      "haciendo unstack de tipo_credito desde 201808 con la funcion de agregacion Unique\n",
      "haciendo unstack de tipo_credito desde 201808 con la funcion de agregacion Min\n",
      "haciendo unstack de tipo_credito desde 201808 con la funcion de agregacion Max\n",
      "haciendo unstack de tipo_credito desde 201808 con la funcion de agregacion Std\n",
      "haciendo unstack de tipo_credito desde 201808 con la funcion de agregacion Mean\n",
      "haciendo unstack de tipo_credito desde 201808 con la funcion de agregacion Median\n",
      "haciendo unstack de RIESGO_DIRECTO desde 201808 con la funcion de agregacion Sum\n",
      "haciendo unstack de RIESGO_DIRECTO desde 201808 con la funcion de agregacion Unique\n",
      "haciendo unstack de RIESGO_DIRECTO desde 201808 con la funcion de agregacion Min\n",
      "haciendo unstack de RIESGO_DIRECTO desde 201808 con la funcion de agregacion Max\n",
      "haciendo unstack de RIESGO_DIRECTO desde 201808 con la funcion de agregacion Std\n",
      "haciendo unstack de RIESGO_DIRECTO desde 201808 con la funcion de agregacion Mean\n",
      "haciendo unstack de RIESGO_DIRECTO desde 201808 con la funcion de agregacion Median\n",
      "haciendo unstack de COD_CLASIFICACION_DEUDOR desde 201808 con la funcion de agregacion Sum\n",
      "haciendo unstack de COD_CLASIFICACION_DEUDOR desde 201808 con la funcion de agregacion Unique\n",
      "haciendo unstack de COD_CLASIFICACION_DEUDOR desde 201808 con la funcion de agregacion Min\n",
      "haciendo unstack de COD_CLASIFICACION_DEUDOR desde 201808 con la funcion de agregacion Max\n",
      "haciendo unstack de COD_CLASIFICACION_DEUDOR desde 201808 con la funcion de agregacion Std\n",
      "haciendo unstack de COD_CLASIFICACION_DEUDOR desde 201808 con la funcion de agregacion Mean\n",
      "haciendo unstack de COD_CLASIFICACION_DEUDOR desde 201808 con la funcion de agregacion Median\n",
      "haciendo unstack de condicion desde 201808 con la funcion de agregacion Sum\n",
      "haciendo unstack de condicion desde 201808 con la funcion de agregacion Unique\n",
      "haciendo unstack de condicion desde 201808 con la funcion de agregacion Min\n",
      "haciendo unstack de condicion desde 201808 con la funcion de agregacion Max\n",
      "haciendo unstack de condicion desde 201808 con la funcion de agregacion Std\n"
     ]
    },
    {
     "name": "stdout",
     "output_type": "stream",
     "text": [
      "haciendo unstack de condicion desde 201808 con la funcion de agregacion Mean\n",
      "haciendo unstack de condicion desde 201808 con la funcion de agregacion Median\n",
      "haciendo aggregate de cod_instit_financiera y Producto desde 201808\n",
      "haciendo unstack de tipo_credito desde 201807 con la funcion de agregacion Sum\n",
      "haciendo unstack de tipo_credito desde 201807 con la funcion de agregacion Unique\n",
      "haciendo unstack de tipo_credito desde 201807 con la funcion de agregacion Min\n",
      "haciendo unstack de tipo_credito desde 201807 con la funcion de agregacion Max\n",
      "haciendo unstack de tipo_credito desde 201807 con la funcion de agregacion Std\n",
      "haciendo unstack de tipo_credito desde 201807 con la funcion de agregacion Mean\n",
      "haciendo unstack de tipo_credito desde 201807 con la funcion de agregacion Median\n",
      "haciendo unstack de RIESGO_DIRECTO desde 201807 con la funcion de agregacion Sum\n",
      "haciendo unstack de RIESGO_DIRECTO desde 201807 con la funcion de agregacion Unique\n",
      "haciendo unstack de RIESGO_DIRECTO desde 201807 con la funcion de agregacion Min\n",
      "haciendo unstack de RIESGO_DIRECTO desde 201807 con la funcion de agregacion Max\n",
      "haciendo unstack de RIESGO_DIRECTO desde 201807 con la funcion de agregacion Std\n",
      "haciendo unstack de RIESGO_DIRECTO desde 201807 con la funcion de agregacion Mean\n",
      "haciendo unstack de RIESGO_DIRECTO desde 201807 con la funcion de agregacion Median\n",
      "haciendo unstack de COD_CLASIFICACION_DEUDOR desde 201807 con la funcion de agregacion Sum\n",
      "haciendo unstack de COD_CLASIFICACION_DEUDOR desde 201807 con la funcion de agregacion Unique\n",
      "haciendo unstack de COD_CLASIFICACION_DEUDOR desde 201807 con la funcion de agregacion Min\n",
      "haciendo unstack de COD_CLASIFICACION_DEUDOR desde 201807 con la funcion de agregacion Max\n",
      "haciendo unstack de COD_CLASIFICACION_DEUDOR desde 201807 con la funcion de agregacion Std\n",
      "haciendo unstack de COD_CLASIFICACION_DEUDOR desde 201807 con la funcion de agregacion Mean\n",
      "haciendo unstack de COD_CLASIFICACION_DEUDOR desde 201807 con la funcion de agregacion Median\n",
      "haciendo unstack de condicion desde 201807 con la funcion de agregacion Sum\n",
      "haciendo unstack de condicion desde 201807 con la funcion de agregacion Unique\n",
      "haciendo unstack de condicion desde 201807 con la funcion de agregacion Min\n",
      "haciendo unstack de condicion desde 201807 con la funcion de agregacion Max\n",
      "haciendo unstack de condicion desde 201807 con la funcion de agregacion Std\n",
      "haciendo unstack de condicion desde 201807 con la funcion de agregacion Mean\n",
      "haciendo unstack de condicion desde 201807 con la funcion de agregacion Median\n",
      "haciendo aggregate de cod_instit_financiera y Producto desde 201807\n",
      "haciendo unstack de tipo_credito desde 201806 con la funcion de agregacion Sum\n",
      "haciendo unstack de tipo_credito desde 201806 con la funcion de agregacion Unique\n",
      "haciendo unstack de tipo_credito desde 201806 con la funcion de agregacion Min\n",
      "haciendo unstack de tipo_credito desde 201806 con la funcion de agregacion Max\n",
      "haciendo unstack de tipo_credito desde 201806 con la funcion de agregacion Std\n",
      "haciendo unstack de tipo_credito desde 201806 con la funcion de agregacion Mean\n",
      "haciendo unstack de tipo_credito desde 201806 con la funcion de agregacion Median\n",
      "haciendo unstack de RIESGO_DIRECTO desde 201806 con la funcion de agregacion Sum\n",
      "haciendo unstack de RIESGO_DIRECTO desde 201806 con la funcion de agregacion Unique\n",
      "haciendo unstack de RIESGO_DIRECTO desde 201806 con la funcion de agregacion Min\n",
      "haciendo unstack de RIESGO_DIRECTO desde 201806 con la funcion de agregacion Max\n",
      "haciendo unstack de RIESGO_DIRECTO desde 201806 con la funcion de agregacion Std\n",
      "haciendo unstack de RIESGO_DIRECTO desde 201806 con la funcion de agregacion Mean\n",
      "haciendo unstack de RIESGO_DIRECTO desde 201806 con la funcion de agregacion Median\n",
      "haciendo unstack de COD_CLASIFICACION_DEUDOR desde 201806 con la funcion de agregacion Sum\n",
      "haciendo unstack de COD_CLASIFICACION_DEUDOR desde 201806 con la funcion de agregacion Unique\n",
      "haciendo unstack de COD_CLASIFICACION_DEUDOR desde 201806 con la funcion de agregacion Min\n",
      "haciendo unstack de COD_CLASIFICACION_DEUDOR desde 201806 con la funcion de agregacion Max\n",
      "haciendo unstack de COD_CLASIFICACION_DEUDOR desde 201806 con la funcion de agregacion Std\n",
      "haciendo unstack de COD_CLASIFICACION_DEUDOR desde 201806 con la funcion de agregacion Mean\n",
      "haciendo unstack de COD_CLASIFICACION_DEUDOR desde 201806 con la funcion de agregacion Median\n",
      "haciendo unstack de condicion desde 201806 con la funcion de agregacion Sum\n",
      "haciendo unstack de condicion desde 201806 con la funcion de agregacion Unique\n",
      "haciendo unstack de condicion desde 201806 con la funcion de agregacion Min\n",
      "haciendo unstack de condicion desde 201806 con la funcion de agregacion Max\n",
      "haciendo unstack de condicion desde 201806 con la funcion de agregacion Std\n",
      "haciendo unstack de condicion desde 201806 con la funcion de agregacion Mean\n",
      "haciendo unstack de condicion desde 201806 con la funcion de agregacion Median\n",
      "haciendo aggregate de cod_instit_financiera y Producto desde 201806\n",
      "haciendo unstack de tipo_credito desde 201805 con la funcion de agregacion Sum\n",
      "haciendo unstack de tipo_credito desde 201805 con la funcion de agregacion Unique\n",
      "haciendo unstack de tipo_credito desde 201805 con la funcion de agregacion Min\n",
      "haciendo unstack de tipo_credito desde 201805 con la funcion de agregacion Max\n",
      "haciendo unstack de tipo_credito desde 201805 con la funcion de agregacion Std\n",
      "haciendo unstack de tipo_credito desde 201805 con la funcion de agregacion Mean\n",
      "haciendo unstack de tipo_credito desde 201805 con la funcion de agregacion Median\n",
      "haciendo unstack de RIESGO_DIRECTO desde 201805 con la funcion de agregacion Sum\n",
      "haciendo unstack de RIESGO_DIRECTO desde 201805 con la funcion de agregacion Unique\n",
      "haciendo unstack de RIESGO_DIRECTO desde 201805 con la funcion de agregacion Min\n",
      "haciendo unstack de RIESGO_DIRECTO desde 201805 con la funcion de agregacion Max\n",
      "haciendo unstack de RIESGO_DIRECTO desde 201805 con la funcion de agregacion Std\n",
      "haciendo unstack de RIESGO_DIRECTO desde 201805 con la funcion de agregacion Mean\n",
      "haciendo unstack de RIESGO_DIRECTO desde 201805 con la funcion de agregacion Median\n",
      "haciendo unstack de COD_CLASIFICACION_DEUDOR desde 201805 con la funcion de agregacion Sum\n",
      "haciendo unstack de COD_CLASIFICACION_DEUDOR desde 201805 con la funcion de agregacion Unique\n",
      "haciendo unstack de COD_CLASIFICACION_DEUDOR desde 201805 con la funcion de agregacion Min\n",
      "haciendo unstack de COD_CLASIFICACION_DEUDOR desde 201805 con la funcion de agregacion Max\n",
      "haciendo unstack de COD_CLASIFICACION_DEUDOR desde 201805 con la funcion de agregacion Std\n",
      "haciendo unstack de COD_CLASIFICACION_DEUDOR desde 201805 con la funcion de agregacion Mean\n",
      "haciendo unstack de COD_CLASIFICACION_DEUDOR desde 201805 con la funcion de agregacion Median\n",
      "haciendo unstack de condicion desde 201805 con la funcion de agregacion Sum\n",
      "haciendo unstack de condicion desde 201805 con la funcion de agregacion Unique\n",
      "haciendo unstack de condicion desde 201805 con la funcion de agregacion Min\n",
      "haciendo unstack de condicion desde 201805 con la funcion de agregacion Max\n",
      "haciendo unstack de condicion desde 201805 con la funcion de agregacion Std\n",
      "haciendo unstack de condicion desde 201805 con la funcion de agregacion Mean\n",
      "haciendo unstack de condicion desde 201805 con la funcion de agregacion Median\n",
      "haciendo aggregate de cod_instit_financiera y Producto desde 201805\n",
      "haciendo unstack de tipo_credito desde 201804 con la funcion de agregacion Sum\n",
      "haciendo unstack de tipo_credito desde 201804 con la funcion de agregacion Unique\n",
      "haciendo unstack de tipo_credito desde 201804 con la funcion de agregacion Min\n",
      "haciendo unstack de tipo_credito desde 201804 con la funcion de agregacion Max\n",
      "haciendo unstack de tipo_credito desde 201804 con la funcion de agregacion Std\n",
      "haciendo unstack de tipo_credito desde 201804 con la funcion de agregacion Mean\n",
      "haciendo unstack de tipo_credito desde 201804 con la funcion de agregacion Median\n",
      "haciendo unstack de RIESGO_DIRECTO desde 201804 con la funcion de agregacion Sum\n",
      "haciendo unstack de RIESGO_DIRECTO desde 201804 con la funcion de agregacion Unique\n",
      "haciendo unstack de RIESGO_DIRECTO desde 201804 con la funcion de agregacion Min\n",
      "haciendo unstack de RIESGO_DIRECTO desde 201804 con la funcion de agregacion Max\n"
     ]
    },
    {
     "name": "stdout",
     "output_type": "stream",
     "text": [
      "haciendo unstack de RIESGO_DIRECTO desde 201804 con la funcion de agregacion Std\n",
      "haciendo unstack de RIESGO_DIRECTO desde 201804 con la funcion de agregacion Mean\n",
      "haciendo unstack de RIESGO_DIRECTO desde 201804 con la funcion de agregacion Median\n",
      "haciendo unstack de COD_CLASIFICACION_DEUDOR desde 201804 con la funcion de agregacion Sum\n",
      "haciendo unstack de COD_CLASIFICACION_DEUDOR desde 201804 con la funcion de agregacion Unique\n",
      "haciendo unstack de COD_CLASIFICACION_DEUDOR desde 201804 con la funcion de agregacion Min\n",
      "haciendo unstack de COD_CLASIFICACION_DEUDOR desde 201804 con la funcion de agregacion Max\n",
      "haciendo unstack de COD_CLASIFICACION_DEUDOR desde 201804 con la funcion de agregacion Std\n",
      "haciendo unstack de COD_CLASIFICACION_DEUDOR desde 201804 con la funcion de agregacion Mean\n",
      "haciendo unstack de COD_CLASIFICACION_DEUDOR desde 201804 con la funcion de agregacion Median\n",
      "haciendo unstack de condicion desde 201804 con la funcion de agregacion Sum\n",
      "haciendo unstack de condicion desde 201804 con la funcion de agregacion Unique\n",
      "haciendo unstack de condicion desde 201804 con la funcion de agregacion Min\n",
      "haciendo unstack de condicion desde 201804 con la funcion de agregacion Max\n",
      "haciendo unstack de condicion desde 201804 con la funcion de agregacion Std\n",
      "haciendo unstack de condicion desde 201804 con la funcion de agregacion Mean\n",
      "haciendo unstack de condicion desde 201804 con la funcion de agregacion Median\n",
      "haciendo aggregate de cod_instit_financiera y Producto desde 201804\n",
      "haciendo unstack de tipo_credito desde 201803 con la funcion de agregacion Sum\n",
      "haciendo unstack de tipo_credito desde 201803 con la funcion de agregacion Unique\n",
      "haciendo unstack de tipo_credito desde 201803 con la funcion de agregacion Min\n",
      "haciendo unstack de tipo_credito desde 201803 con la funcion de agregacion Max\n",
      "haciendo unstack de tipo_credito desde 201803 con la funcion de agregacion Std\n",
      "haciendo unstack de tipo_credito desde 201803 con la funcion de agregacion Mean\n",
      "haciendo unstack de tipo_credito desde 201803 con la funcion de agregacion Median\n",
      "haciendo unstack de RIESGO_DIRECTO desde 201803 con la funcion de agregacion Sum\n",
      "haciendo unstack de RIESGO_DIRECTO desde 201803 con la funcion de agregacion Unique\n",
      "haciendo unstack de RIESGO_DIRECTO desde 201803 con la funcion de agregacion Min\n",
      "haciendo unstack de RIESGO_DIRECTO desde 201803 con la funcion de agregacion Max\n",
      "haciendo unstack de RIESGO_DIRECTO desde 201803 con la funcion de agregacion Std\n",
      "haciendo unstack de RIESGO_DIRECTO desde 201803 con la funcion de agregacion Mean\n",
      "haciendo unstack de RIESGO_DIRECTO desde 201803 con la funcion de agregacion Median\n",
      "haciendo unstack de COD_CLASIFICACION_DEUDOR desde 201803 con la funcion de agregacion Sum\n",
      "haciendo unstack de COD_CLASIFICACION_DEUDOR desde 201803 con la funcion de agregacion Unique\n",
      "haciendo unstack de COD_CLASIFICACION_DEUDOR desde 201803 con la funcion de agregacion Min\n",
      "haciendo unstack de COD_CLASIFICACION_DEUDOR desde 201803 con la funcion de agregacion Max\n",
      "haciendo unstack de COD_CLASIFICACION_DEUDOR desde 201803 con la funcion de agregacion Std\n",
      "haciendo unstack de COD_CLASIFICACION_DEUDOR desde 201803 con la funcion de agregacion Mean\n",
      "haciendo unstack de COD_CLASIFICACION_DEUDOR desde 201803 con la funcion de agregacion Median\n",
      "haciendo unstack de condicion desde 201803 con la funcion de agregacion Sum\n",
      "haciendo unstack de condicion desde 201803 con la funcion de agregacion Unique\n",
      "haciendo unstack de condicion desde 201803 con la funcion de agregacion Min\n",
      "haciendo unstack de condicion desde 201803 con la funcion de agregacion Max\n",
      "haciendo unstack de condicion desde 201803 con la funcion de agregacion Std\n",
      "haciendo unstack de condicion desde 201803 con la funcion de agregacion Mean\n",
      "haciendo unstack de condicion desde 201803 con la funcion de agregacion Median\n",
      "haciendo aggregate de cod_instit_financiera y Producto desde 201803\n"
     ]
    }
   ],
   "source": [
    "rcc_test_list=[]\n",
    "for n,desde in enumerate(sorted(set(rcc_test.codmes),reverse=True)):\n",
    "    for feature in ['tipo_credito','RIESGO_DIRECTO','COD_CLASIFICACION_DEUDOR','condicion']:\n",
    "        rcc_test_list.append(get_unstack(rcc_test, feature, desde, n, 'Sum'))\n",
    "        rcc_test_list.append(get_unstack(rcc_test, feature, desde, n, 'Unique'))\n",
    "        rcc_test_list.append(get_unstack(rcc_test, feature, desde, n, 'Min'))\n",
    "        rcc_test_list.append(get_unstack(rcc_test, feature, desde, n, 'Max'))\n",
    "        rcc_test_list.append(get_unstack(rcc_test, feature, desde, n, 'Std'))\n",
    "        rcc_test_list.append(get_unstack(rcc_test, feature, desde, n, 'Mean'))\n",
    "        rcc_test_list.append(get_unstack(rcc_test, feature, desde, n, 'Median'))\n",
    "    rcc_test_list.append(get_aggregate(rcc_test, desde,n))"
   ]
  },
  {
   "cell_type": "code",
   "execution_count": 30,
   "id": "answering-height",
   "metadata": {},
   "outputs": [],
   "source": [
    "rcc_test = pd.concat(rcc_test_list, axis=1)\n",
    "del rcc_test_list"
   ]
  },
  {
   "cell_type": "code",
   "execution_count": 31,
   "id": "daily-norfolk",
   "metadata": {},
   "outputs": [
    {
     "data": {
      "text/plain": [
       "(396666, 774)"
      ]
     },
     "execution_count": 31,
     "metadata": {},
     "output_type": "execute_result"
    }
   ],
   "source": [
    "rcc_test.shape"
   ]
  },
  {
   "cell_type": "code",
   "execution_count": 32,
   "id": "virgin-haven",
   "metadata": {},
   "outputs": [
    {
     "name": "stdout",
     "output_type": "stream",
     "text": [
      "(358487, 774) (396666, 774)\n",
      "(358487, 774) (396666, 774)\n"
     ]
    }
   ],
   "source": [
    "rcc_train, rcc_test = get_keep_columns(rcc_train, rcc_test)"
   ]
  },
  {
   "cell_type": "code",
   "execution_count": 33,
   "id": "assured-special",
   "metadata": {},
   "outputs": [],
   "source": [
    "### unir RCC en la base final\n",
    "train = rcc_train\n",
    "test = rcc_test\n",
    "del rcc_train, rcc_test"
   ]
  },
  {
   "cell_type": "markdown",
   "id": "broadband-content",
   "metadata": {},
   "source": [
    "## Procesar SE"
   ]
  },
  {
   "cell_type": "code",
   "execution_count": 34,
   "id": "decimal-service",
   "metadata": {},
   "outputs": [],
   "source": [
    "se_train = pd.read_csv(f'{path}/se_train.csv', index_col = 'key_value')\n",
    "se_test = pd.read_csv(f'{path}/se_test.csv', index_col = 'key_value')"
   ]
  },
  {
   "cell_type": "code",
   "execution_count": 35,
   "id": "stone-fever",
   "metadata": {},
   "outputs": [],
   "source": [
    "dict_ = {'sexo':'int32',\n",
    "         'est_cvl':'int32',\n",
    "         'sit_lab':'int32',\n",
    "         'cod_ocu':'int32',\n",
    "         'ctd_hijos':'int32',\n",
    "         'flg_sin_email':'int32',\n",
    "         'ctd_veh':'int32',\n",
    "         'lgr_vot':'int32',\n",
    "         'prv':'int32',\n",
    "         'dto':'int32',\n",
    "         'rgn':'int32',\n",
    "         'tip_lvledu':'int32'}\n",
    "se_train = se_train.astype(dict_)\n",
    "se_test = se_test.astype(dict_)"
   ]
  },
  {
   "cell_type": "code",
   "execution_count": 36,
   "id": "closing-attachment",
   "metadata": {},
   "outputs": [],
   "source": [
    "def get_one_hot(df, feature):\n",
    "    one_hot = pd.get_dummies(df[feature])\n",
    "    one_hot.columns = [feature+'_'+str(i) for i in one_hot.columns]\n",
    "    return one_hot\n",
    "one_hot_sexo_train = get_one_hot(se_train, 'sexo')\n",
    "one_hot_sexo_test = get_one_hot(se_test, 'sexo')\n",
    "one_hot_est_cvl_train = get_one_hot(se_train, 'est_cvl')\n",
    "one_hot_est_cvl_test = get_one_hot(se_test, 'est_cvl')\n",
    "one_hot_rgn_train = get_one_hot(se_train, 'rgn')\n",
    "one_hot_rgn_test = get_one_hot(se_test, 'rgn')"
   ]
  },
  {
   "cell_type": "code",
   "execution_count": 37,
   "id": "obvious-limit",
   "metadata": {},
   "outputs": [],
   "source": [
    "train = train.join(one_hot_sexo_train).join(one_hot_est_cvl_train).join(one_hot_rgn_train).join(se_train[['edad','ctd_veh']])\n",
    "test = test.join(one_hot_sexo_test).join(one_hot_est_cvl_test).join(one_hot_rgn_test).join(se_test[['edad','ctd_veh']])\n",
    "del se_train, se_test"
   ]
  },
  {
   "cell_type": "code",
   "execution_count": 62,
   "id": "seasonal-count",
   "metadata": {},
   "outputs": [],
   "source": [
    "del one_hot_sexo_train, one_hot_sexo_test\n",
    "del one_hot_est_cvl_train, one_hot_est_cvl_test\n",
    "del one_hot_rgn_train, one_hot_rgn_test"
   ]
  },
  {
   "cell_type": "markdown",
   "id": "prime-lunch",
   "metadata": {},
   "source": [
    "## Procesar SUNAT"
   ]
  },
  {
   "cell_type": "code",
   "execution_count": 38,
   "id": "behind-silence",
   "metadata": {},
   "outputs": [],
   "source": [
    "sunat_train = pd.read_csv(f'{path}/sunat_train.csv')\n",
    "sunat_test = pd.read_csv(f'{path}/sunat_test.csv')"
   ]
  },
  {
   "cell_type": "code",
   "execution_count": 39,
   "id": "latter-trace",
   "metadata": {},
   "outputs": [
    {
     "data": {
      "text/plain": [
       "((292479, 18), (318821, 18))"
      ]
     },
     "execution_count": 39,
     "metadata": {},
     "output_type": "execute_result"
    }
   ],
   "source": [
    "### eliminar registros duplicados\n",
    "sunat_train.drop_duplicates(inplace=True)\n",
    "sunat_test.drop_duplicates(inplace=True)\n",
    "sunat_train.shape, sunat_test.shape"
   ]
  },
  {
   "cell_type": "code",
   "execution_count": 40,
   "id": "imperial-custody",
   "metadata": {},
   "outputs": [],
   "source": [
    "dict_ = {'tipcontribuyente': 'int32',\n",
    "         'tippersona': 'int32',\n",
    "         'ciiu': 'int32',\n",
    "         'ubigeo': 'int32',\n",
    "         'condiciondomicilio': 'int32',\n",
    "         'estadocontribuyente': 'int32',\n",
    "         'codvia': 'int32',\n",
    "         'codzona': 'int32',\n",
    "         'contabilidad': 'int32',\n",
    "         'facturacion': 'int32',\n",
    "         'domiciliado': 'int32',\n",
    "         'comercioexterior': 'int32',\n",
    "         'cargorele': 'int32',\n",
    "         'codentidadtributo': 'int32',\n",
    "         'estadotributo': 'int32'}\n",
    "sunat_train = sunat_train.astype(dict_)\n",
    "sunat_test = sunat_test.astype(dict_)"
   ]
  },
  {
   "cell_type": "code",
   "execution_count": 41,
   "id": "mathematical-neighbor",
   "metadata": {},
   "outputs": [],
   "source": [
    "sunat_train['diff_fech'] = sunat_train['fecbaja'] - sunat_train['fecalta']\n",
    "sunat_test['diff_fech'] = sunat_test['fecbaja'] - sunat_test['fecalta']"
   ]
  },
  {
   "cell_type": "code",
   "execution_count": 42,
   "id": "threatened-isaac",
   "metadata": {},
   "outputs": [],
   "source": [
    "moda=lambda x: calculate_mode(x)\n",
    "moda.__name__='mode'\n",
    "agg_sunat = {\n",
    "            'tipcontribuyente':['nunique',moda],\n",
    "            'tippersona':['nunique',moda],\n",
    "            'ciiu':['nunique', moda],\n",
    "            'ubigeo':['nunique',moda],\n",
    "           'condiciondomicilio':['nunique',moda],  ####\n",
    "#            'estadocontribuyente':['nunique',moda],\n",
    "           'codvia':['nunique',moda],\n",
    "           'codzona':['nunique',moda],\n",
    "           'contabilidad':['nunique',moda],\n",
    "           'facturacion':['nunique',moda],\n",
    "           'domiciliado':['nunique',moda],\n",
    "           'comercioexterior':['nunique',moda],\n",
    "           'cargorele':['nunique',moda],\n",
    "           'codentidadtributo':['nunique',moda], ####\n",
    "           'estadotributo':['nunique',moda], ####\n",
    "           'fecalta':['mean','max', 'nunique','min','std'],\n",
    "           'fecbaja':['mean','max', 'nunique','min'], \n",
    "           'diff_fech':['mean','max', 'nunique','min'], \n",
    "            }\n",
    "sunat_train_agg = sunat_train.groupby('key_value').agg(agg_sunat)\n",
    "sunat_train_agg.columns = [i+'_'+j for i,j in sunat_train_agg.columns]\n",
    "sunat_test_agg = sunat_test.groupby('key_value').agg(agg_sunat)\n",
    "sunat_test_agg.columns = [i+'_'+j for i,j in sunat_test_agg.columns]\n",
    "# del sunat_train, sunat_test"
   ]
  },
  {
   "cell_type": "code",
   "execution_count": 43,
   "id": "stretch-empire",
   "metadata": {},
   "outputs": [],
   "source": [
    "crosstab_estadocontribuyente_train = get_crosstab(sunat_train, 'key_value', 'estadocontribuyente')\n",
    "crosstab_estadocontribuyente_test = get_crosstab(sunat_test, 'key_value', 'estadocontribuyente')"
   ]
  },
  {
   "cell_type": "code",
   "execution_count": 44,
   "id": "decent-logan",
   "metadata": {},
   "outputs": [
    {
     "name": "stdout",
     "output_type": "stream",
     "text": [
      "(358487, 847) (396666, 846)\n",
      "(358487, 846) (396666, 846)\n"
     ]
    }
   ],
   "source": [
    "train = train.join(crosstab_estadocontribuyente_train).join(sunat_train_agg)\n",
    "test = test.join(crosstab_estadocontribuyente_test).join(sunat_test_agg)\n",
    "train, test = get_keep_columns(train, test)\n",
    "del sunat_train_agg, sunat_test_agg, sunat_train, sunat_test, crosstab_estadocontribuyente_train, crosstab_estadocontribuyente_test"
   ]
  },
  {
   "cell_type": "code",
   "execution_count": 45,
   "id": "chinese-bumper",
   "metadata": {},
   "outputs": [
    {
     "data": {
      "text/plain": [
       "((358487, 810), (396666, 810))"
      ]
     },
     "execution_count": 45,
     "metadata": {},
     "output_type": "execute_result"
    }
   ],
   "source": [
    "train = get_filter_columns(train)\n",
    "test = get_filter_columns(test)\n",
    "train.shape, test.shape"
   ]
  },
  {
   "cell_type": "markdown",
   "id": "handed-bracelet",
   "metadata": {},
   "source": [
    "## Aggregate Unstack de cod_instit_financiera and PRODUCTO del ultimo primer, segundo, tercero y doceavo mes"
   ]
  },
  {
   "cell_type": "code",
   "execution_count": 47,
   "id": "pursuant-routine",
   "metadata": {
    "scrolled": true
   },
   "outputs": [
    {
     "name": "stdout",
     "output_type": "stream",
     "text": [
      "haciendo unstack de cod_instit_financiera desde 201802 con la funcion de agregacion Sum\n",
      "haciendo unstack de cod_instit_financiera desde 201802 con la funcion de agregacion Unique\n",
      "haciendo unstack de cod_instit_financiera desde 201802 con la funcion de agregacion Min\n",
      "haciendo unstack de cod_instit_financiera desde 201802 con la funcion de agregacion Max\n",
      "haciendo unstack de cod_instit_financiera desde 201802 con la funcion de agregacion Std\n",
      "haciendo unstack de cod_instit_financiera desde 201802 con la funcion de agregacion Mean\n",
      "haciendo unstack de cod_instit_financiera desde 201802 con la funcion de agregacion Median\n",
      "haciendo unstack de PRODUCTO desde 201802 con la funcion de agregacion Sum\n",
      "haciendo unstack de PRODUCTO desde 201802 con la funcion de agregacion Unique\n",
      "haciendo unstack de PRODUCTO desde 201802 con la funcion de agregacion Min\n",
      "haciendo unstack de PRODUCTO desde 201802 con la funcion de agregacion Max\n",
      "haciendo unstack de PRODUCTO desde 201802 con la funcion de agregacion Std\n",
      "haciendo unstack de PRODUCTO desde 201802 con la funcion de agregacion Mean\n",
      "haciendo unstack de PRODUCTO desde 201802 con la funcion de agregacion Median\n",
      "haciendo unstack de cod_instit_financiera desde 201902 con la funcion de agregacion Sum\n",
      "haciendo unstack de cod_instit_financiera desde 201902 con la funcion de agregacion Unique\n",
      "haciendo unstack de cod_instit_financiera desde 201902 con la funcion de agregacion Min\n",
      "haciendo unstack de cod_instit_financiera desde 201902 con la funcion de agregacion Max\n",
      "haciendo unstack de cod_instit_financiera desde 201902 con la funcion de agregacion Std\n",
      "haciendo unstack de cod_instit_financiera desde 201902 con la funcion de agregacion Mean\n",
      "haciendo unstack de cod_instit_financiera desde 201902 con la funcion de agregacion Median\n",
      "haciendo unstack de PRODUCTO desde 201902 con la funcion de agregacion Sum\n",
      "haciendo unstack de PRODUCTO desde 201902 con la funcion de agregacion Unique\n",
      "haciendo unstack de PRODUCTO desde 201902 con la funcion de agregacion Min\n",
      "haciendo unstack de PRODUCTO desde 201902 con la funcion de agregacion Max\n",
      "haciendo unstack de PRODUCTO desde 201902 con la funcion de agregacion Std\n",
      "haciendo unstack de PRODUCTO desde 201902 con la funcion de agregacion Mean\n",
      "haciendo unstack de PRODUCTO desde 201902 con la funcion de agregacion Median\n",
      "(358487, 184) (396666, 184)\n",
      "haciendo unstack de cod_instit_financiera desde 201801 con la funcion de agregacion Sum\n",
      "haciendo unstack de cod_instit_financiera desde 201801 con la funcion de agregacion Unique\n",
      "haciendo unstack de cod_instit_financiera desde 201801 con la funcion de agregacion Min\n",
      "haciendo unstack de cod_instit_financiera desde 201801 con la funcion de agregacion Max\n",
      "haciendo unstack de cod_instit_financiera desde 201801 con la funcion de agregacion Std\n",
      "haciendo unstack de cod_instit_financiera desde 201801 con la funcion de agregacion Mean\n",
      "haciendo unstack de cod_instit_financiera desde 201801 con la funcion de agregacion Median\n",
      "haciendo unstack de PRODUCTO desde 201801 con la funcion de agregacion Sum\n",
      "haciendo unstack de PRODUCTO desde 201801 con la funcion de agregacion Unique\n",
      "haciendo unstack de PRODUCTO desde 201801 con la funcion de agregacion Min\n",
      "haciendo unstack de PRODUCTO desde 201801 con la funcion de agregacion Max\n",
      "haciendo unstack de PRODUCTO desde 201801 con la funcion de agregacion Std\n",
      "haciendo unstack de PRODUCTO desde 201801 con la funcion de agregacion Mean\n",
      "haciendo unstack de PRODUCTO desde 201801 con la funcion de agregacion Median\n",
      "haciendo unstack de cod_instit_financiera desde 201901 con la funcion de agregacion Sum\n",
      "haciendo unstack de cod_instit_financiera desde 201901 con la funcion de agregacion Unique\n",
      "haciendo unstack de cod_instit_financiera desde 201901 con la funcion de agregacion Min\n",
      "haciendo unstack de cod_instit_financiera desde 201901 con la funcion de agregacion Max\n",
      "haciendo unstack de cod_instit_financiera desde 201901 con la funcion de agregacion Std\n",
      "haciendo unstack de cod_instit_financiera desde 201901 con la funcion de agregacion Mean\n",
      "haciendo unstack de cod_instit_financiera desde 201901 con la funcion de agregacion Median\n",
      "haciendo unstack de PRODUCTO desde 201901 con la funcion de agregacion Sum\n",
      "haciendo unstack de PRODUCTO desde 201901 con la funcion de agregacion Unique\n",
      "haciendo unstack de PRODUCTO desde 201901 con la funcion de agregacion Min\n",
      "haciendo unstack de PRODUCTO desde 201901 con la funcion de agregacion Max\n",
      "haciendo unstack de PRODUCTO desde 201901 con la funcion de agregacion Std\n",
      "haciendo unstack de PRODUCTO desde 201901 con la funcion de agregacion Mean\n",
      "haciendo unstack de PRODUCTO desde 201901 con la funcion de agregacion Median\n",
      "(358487, 174) (396666, 174)\n",
      "haciendo unstack de cod_instit_financiera desde 201712 con la funcion de agregacion Sum\n",
      "haciendo unstack de cod_instit_financiera desde 201712 con la funcion de agregacion Unique\n",
      "haciendo unstack de cod_instit_financiera desde 201712 con la funcion de agregacion Min\n",
      "haciendo unstack de cod_instit_financiera desde 201712 con la funcion de agregacion Max\n",
      "haciendo unstack de cod_instit_financiera desde 201712 con la funcion de agregacion Std\n",
      "haciendo unstack de cod_instit_financiera desde 201712 con la funcion de agregacion Mean\n",
      "haciendo unstack de cod_instit_financiera desde 201712 con la funcion de agregacion Median\n",
      "haciendo unstack de PRODUCTO desde 201712 con la funcion de agregacion Sum\n",
      "haciendo unstack de PRODUCTO desde 201712 con la funcion de agregacion Unique\n",
      "haciendo unstack de PRODUCTO desde 201712 con la funcion de agregacion Min\n",
      "haciendo unstack de PRODUCTO desde 201712 con la funcion de agregacion Max\n",
      "haciendo unstack de PRODUCTO desde 201712 con la funcion de agregacion Std\n",
      "haciendo unstack de PRODUCTO desde 201712 con la funcion de agregacion Mean\n",
      "haciendo unstack de PRODUCTO desde 201712 con la funcion de agregacion Median\n",
      "haciendo unstack de cod_instit_financiera desde 201812 con la funcion de agregacion Sum\n",
      "haciendo unstack de cod_instit_financiera desde 201812 con la funcion de agregacion Unique\n",
      "haciendo unstack de cod_instit_financiera desde 201812 con la funcion de agregacion Min\n",
      "haciendo unstack de cod_instit_financiera desde 201812 con la funcion de agregacion Max\n",
      "haciendo unstack de cod_instit_financiera desde 201812 con la funcion de agregacion Std\n",
      "haciendo unstack de cod_instit_financiera desde 201812 con la funcion de agregacion Mean\n",
      "haciendo unstack de cod_instit_financiera desde 201812 con la funcion de agregacion Median\n",
      "haciendo unstack de PRODUCTO desde 201812 con la funcion de agregacion Sum\n",
      "haciendo unstack de PRODUCTO desde 201812 con la funcion de agregacion Unique\n",
      "haciendo unstack de PRODUCTO desde 201812 con la funcion de agregacion Min\n",
      "haciendo unstack de PRODUCTO desde 201812 con la funcion de agregacion Max\n",
      "haciendo unstack de PRODUCTO desde 201812 con la funcion de agregacion Std\n",
      "haciendo unstack de PRODUCTO desde 201812 con la funcion de agregacion Mean\n",
      "haciendo unstack de PRODUCTO desde 201812 con la funcion de agregacion Median\n",
      "(358487, 214) (396666, 214)\n",
      "haciendo unstack de cod_instit_financiera desde 201703 con la funcion de agregacion Sum\n",
      "haciendo unstack de cod_instit_financiera desde 201703 con la funcion de agregacion Unique\n",
      "haciendo unstack de cod_instit_financiera desde 201703 con la funcion de agregacion Min\n",
      "haciendo unstack de cod_instit_financiera desde 201703 con la funcion de agregacion Max\n",
      "haciendo unstack de cod_instit_financiera desde 201703 con la funcion de agregacion Std\n",
      "haciendo unstack de cod_instit_financiera desde 201703 con la funcion de agregacion Mean\n",
      "haciendo unstack de cod_instit_financiera desde 201703 con la funcion de agregacion Median\n",
      "haciendo unstack de PRODUCTO desde 201703 con la funcion de agregacion Sum\n",
      "haciendo unstack de PRODUCTO desde 201703 con la funcion de agregacion Unique\n",
      "haciendo unstack de PRODUCTO desde 201703 con la funcion de agregacion Min\n",
      "haciendo unstack de PRODUCTO desde 201703 con la funcion de agregacion Max\n",
      "haciendo unstack de PRODUCTO desde 201703 con la funcion de agregacion Std\n",
      "haciendo unstack de PRODUCTO desde 201703 con la funcion de agregacion Mean\n",
      "haciendo unstack de PRODUCTO desde 201703 con la funcion de agregacion Median\n",
      "haciendo unstack de cod_instit_financiera desde 201803 con la funcion de agregacion Sum\n"
     ]
    },
    {
     "name": "stdout",
     "output_type": "stream",
     "text": [
      "haciendo unstack de cod_instit_financiera desde 201803 con la funcion de agregacion Unique\n",
      "haciendo unstack de cod_instit_financiera desde 201803 con la funcion de agregacion Min\n",
      "haciendo unstack de cod_instit_financiera desde 201803 con la funcion de agregacion Max\n",
      "haciendo unstack de cod_instit_financiera desde 201803 con la funcion de agregacion Std\n",
      "haciendo unstack de cod_instit_financiera desde 201803 con la funcion de agregacion Mean\n",
      "haciendo unstack de cod_instit_financiera desde 201803 con la funcion de agregacion Median\n",
      "haciendo unstack de PRODUCTO desde 201803 con la funcion de agregacion Sum\n",
      "haciendo unstack de PRODUCTO desde 201803 con la funcion de agregacion Unique\n",
      "haciendo unstack de PRODUCTO desde 201803 con la funcion de agregacion Min\n",
      "haciendo unstack de PRODUCTO desde 201803 con la funcion de agregacion Max\n",
      "haciendo unstack de PRODUCTO desde 201803 con la funcion de agregacion Std\n",
      "haciendo unstack de PRODUCTO desde 201803 con la funcion de agregacion Mean\n",
      "haciendo unstack de PRODUCTO desde 201803 con la funcion de agregacion Median\n",
      "(358487, 246) (396666, 246)\n"
     ]
    }
   ],
   "source": [
    "aux_meses =  [(0, 201802, 201902), (1, 201801, 201901), (2, 201712, 201812), (11, 201703, 201803)]\n",
    "list_rcc_train = []\n",
    "list_rcc_test = []\n",
    "for n,desde_train, desde_test in aux_meses:\n",
    "    rcc_train, rcc_test = get_rcc()\n",
    "\n",
    "    rcc_train_list = get_rcc_list(rcc_train,desde_train, n)\n",
    "    rcc_test_list = get_rcc_list(rcc_test,desde_test, n)\n",
    "\n",
    "    rcc_train = pd.concat(rcc_train_list, axis=1)\n",
    "    rcc_test = pd.concat(rcc_test_list, axis=1)\n",
    "    del rcc_train_list, rcc_test_list\n",
    "    \n",
    "    rcc_train = get_filter_columns(rcc_train)\n",
    "    rcc_test = get_filter_columns(rcc_test)\n",
    "    print(rcc_train.shape, rcc_test.shape)\n",
    "    \n",
    "    list_rcc_train.append(rcc_train)\n",
    "    list_rcc_test.append(rcc_test)"
   ]
  },
  {
   "cell_type": "code",
   "execution_count": 48,
   "id": "talented-projection",
   "metadata": {},
   "outputs": [
    {
     "data": {
      "text/plain": [
       "((358487, 818), (396666, 818))"
      ]
     },
     "execution_count": 48,
     "metadata": {},
     "output_type": "execute_result"
    }
   ],
   "source": [
    "rcc_train = pd.concat(list_rcc_train, axis=1)\n",
    "rcc_test = pd.concat(list_rcc_test, axis=1)\n",
    "del list_rcc_train, list_rcc_test\n",
    "rcc_train.shape, rcc_test.shape"
   ]
  },
  {
   "cell_type": "code",
   "execution_count": 49,
   "id": "norman-example",
   "metadata": {},
   "outputs": [
    {
     "data": {
      "text/plain": [
       "((358487, 1628), (396666, 1628))"
      ]
     },
     "execution_count": 49,
     "metadata": {},
     "output_type": "execute_result"
    }
   ],
   "source": [
    "train = train.join(rcc_train)\n",
    "test = test.join(rcc_test)\n",
    "del rcc_train, rcc_test \n",
    "train.shape, test.shape"
   ]
  },
  {
   "cell_type": "markdown",
   "id": "typical-liechtenstein",
   "metadata": {},
   "source": [
    "## Ensamble de modelos - Promedio Simple"
   ]
  },
  {
   "cell_type": "code",
   "execution_count": 50,
   "id": "focused-bottle",
   "metadata": {
    "scrolled": true
   },
   "outputs": [
    {
     "name": "stdout",
     "output_type": "stream",
     "text": [
      "[LightGBM] [Warning] Accuracy may be bad since you didn't explicitly set num_leaves OR 2^max_depth > num_leaves. (num_leaves=31).\n"
     ]
    },
    {
     "data": {
      "text/plain": [
       "LGBMClassifier(boosting_type='gbdt', class_weight=None, colsample_bytree=1.0,\n",
       "               importance_type='split', learning_rate=0.1, max_depth=6,\n",
       "               min_child_samples=1000, min_child_weight=0.001,\n",
       "               min_split_gain=0.0, n_estimators=1000, n_jobs=-1, num_leaves=31,\n",
       "               objective=None, random_state=None, reg_alpha=0.0, reg_lambda=0.0,\n",
       "               silent=True, subsample=1.0, subsample_for_bin=200000,\n",
       "               subsample_freq=0)"
      ]
     },
     "execution_count": 50,
     "metadata": {},
     "output_type": "execute_result"
    }
   ],
   "source": [
    "from lightgbm import LGBMClassifier\n",
    "learner_lightgbm = LGBMClassifier(n_estimators=1000, max_depth=6, boosting_type='gbdt', min_child_samples=1000)\n",
    "learner_lightgbm.fit(train, y_train.target, eval_metric=\"auc\", verbose=True)"
   ]
  },
  {
   "cell_type": "code",
   "execution_count": 51,
   "id": "pediatric-killer",
   "metadata": {},
   "outputs": [
    {
     "data": {
      "text/plain": [
       "<catboost.core.CatBoostClassifier at 0x26ab5140520>"
      ]
     },
     "execution_count": 51,
     "metadata": {},
     "output_type": "execute_result"
    }
   ],
   "source": [
    "from catboost import CatBoostClassifier\n",
    "learner_catboost = CatBoostClassifier(n_estimators=1000, eval_metric = 'AUC', max_depth = 6)\n",
    "learner_catboost.fit(train, y_train,  early_stopping_rounds=10, verbose=False)"
   ]
  },
  {
   "cell_type": "code",
   "execution_count": 53,
   "id": "metric-hospital",
   "metadata": {},
   "outputs": [
    {
     "data": {
      "text/plain": [
       "(396666,)"
      ]
     },
     "execution_count": 53,
     "metadata": {},
     "output_type": "execute_result"
    }
   ],
   "source": [
    "test_probs_catboost = pd.Series(learner_catboost.predict_proba(test)[:, -1], index=test.index, name=\"target\")\n",
    "test_probs_lightgbm = pd.Series(learner_lightgbm.predict_proba(test)[:, -1], index=test.index, name=\"target\")\n",
    "test_probs_mean = test_probs_catboost*0.4 + test_probs_lightgbm*0.6\n",
    "test_probs_mean.name = 'target'\n",
    "test_probs_mean.shape"
   ]
  },
  {
   "cell_type": "code",
   "execution_count": 60,
   "id": "macro-emphasis",
   "metadata": {},
   "outputs": [],
   "source": [
    "del learner_lightgbm, learner_catboost"
   ]
  },
  {
   "cell_type": "markdown",
   "id": "closed-singing",
   "metadata": {},
   "source": [
    "## Ensamble de modelos - Stacking"
   ]
  },
  {
   "cell_type": "code",
   "execution_count": null,
   "id": "treated-tenant",
   "metadata": {},
   "outputs": [],
   "source": [
    "from lightgbm import LGBMClassifier\n",
    "from sklearn.ensemble import GradientBoostingClassifier\n",
    "from sklearn.metrics import roc_auc_score\n",
    "from sklearn.model_selection import KFold"
   ]
  },
  {
   "cell_type": "code",
   "execution_count": 17,
   "id": "intense-equilibrium",
   "metadata": {
    "scrolled": true
   },
   "outputs": [],
   "source": [
    "def cross_validation_lightgbm(train, y_train, test):\n",
    "    folds = [train.index[t] for t, v in KFold(5).split(train)]\n",
    "    test_probs = []\n",
    "    train_probs = []\n",
    "    fi = []\n",
    "    for i, idx in enumerate(folds):\n",
    "        print(\"*\"*10, i, \"*\"*10)\n",
    "        Xt = train.loc[idx]\n",
    "        yt = y_train.loc[Xt.index].target\n",
    "\n",
    "        Xv = train.drop(Xt.index)\n",
    "        yv = y_train.loc[Xv.index].target\n",
    "\n",
    "        learner = LGBMClassifier(n_estimators=1000, boosting_type='gbdt',min_child_samples=1500, colsample_bytree=0.8,\n",
    "                       subsample=0.8, max_bin=200, learning_rate=0.1, random_state=42)\n",
    "\n",
    "        learner.fit(Xt, yt,  early_stopping_rounds=10, eval_metric=\"auc\",\n",
    "                    eval_set=[(Xt, yt), (Xv, yv)], verbose=100)\n",
    "        test_probs.append(pd.Series(learner.predict_proba(test)[:, -1], index=test.index, name=\"fold_\" + str(i)))\n",
    "        train_probs.append(pd.Series(learner.predict_proba(Xv)[:, -1], index=Xv.index, name=\"probs\"))\n",
    "        fi.append(pd.Series(learner.feature_importances_ / learner.feature_importances_.sum(), index=Xt.columns))\n",
    "\n",
    "    test_probs = pd.concat(test_probs, axis=1).mean(axis=1)\n",
    "    train_probs = pd.concat(train_probs)\n",
    "    fi = pd.concat(fi, axis=1).mean(axis=1)\n",
    "    print(\"*\" * 21)\n",
    "    print(\"roc auc estimado: \", roc_auc_score(y_train, train_probs.loc[y_train.index]))\n",
    "    print(\"roc auc varianza: \", np.std([roc_auc_score(y_train.loc[folds[i]], train_probs.iloc[folds[i]]) for i in range(len(folds))]))\n",
    "    return fi, train_probs, test_probs"
   ]
  },
  {
   "cell_type": "code",
   "execution_count": 39,
   "id": "rubber-sport",
   "metadata": {
    "scrolled": true
   },
   "outputs": [],
   "source": [
    "fi_lightgbm, train_probs_lightgbm, test_probs_lightgbm = cross_validation_lightgbm(train, y_train, test) ### score de 0.85642 en la tabla publica"
   ]
  },
  {
   "cell_type": "code",
   "execution_count": 41,
   "id": "color-wheel",
   "metadata": {},
   "outputs": [],
   "source": [
    "# https://scikit-learn.org/stable/modules/generated/sklearn.ensemble.GradientBoostingClassifier.html#sklearn.ensemble.GradientBoostingClassifier.fit\n",
    "def cross_validation_gbc(train, y_train, test):\n",
    "    folds = [train.index[t] for t, v in KFold(5).split(train)]\n",
    "    test_probs = []\n",
    "    train_probs = []\n",
    "    fi = []\n",
    "    for i, idx in enumerate(folds):\n",
    "        print(\"*\"*10, i, \"*\"*10)\n",
    "        Xt = train.loc[idx]\n",
    "        yt = y_train.loc[Xt.index].target\n",
    "\n",
    "        Xv = train.drop(Xt.index)\n",
    "        yv = y_train.loc[Xv.index].target\n",
    "\n",
    "        learner = GradientBoostingClassifier(n_estimators=500, learning_rate=0.3, subsample=0.8,\n",
    "                                             max_depth=5, verbose=1, max_features=0.82, random_state=42,\n",
    "                                             n_iter_no_change = 10, tol=0.01, validation_fraction = 0.2)\n",
    "\n",
    "        learner.fit(Xt, yt)        \n",
    "        test_probs.append(pd.Series(learner.predict_proba(test)[:, -1], index=test.index, name=\"fold_\" + str(i)))\n",
    "        train_probs.append(pd.Series(learner.predict_proba(Xv)[:, -1], index=Xv.index, name=\"probs\"))\n",
    "        fi.append(pd.Series(learner.feature_importances_ / learner.feature_importances_.sum(), index=Xt.columns))\n",
    "        print('roc_auc_estimado de : ' + str(roc_auc_score(yv, pd.Series(learner.predict_proba(Xv)[:, -1]))))    \n",
    "\n",
    "    test_probs = pd.concat(test_probs, axis=1).mean(axis=1)\n",
    "    train_probs = pd.concat(train_probs)\n",
    "    fi = pd.concat(fi, axis=1).mean(axis=1)\n",
    "    print(\"*\" * 21)\n",
    "    print(\"roc auc estimado: \", roc_auc_score(y_train, train_probs.loc[y_train.index]))\n",
    "    print(\"roc auc varianza: \", np.std([roc_auc_score(y_train.loc[folds[i]], train_probs.iloc[folds[i]]) for i in range(len(folds))]))  \n",
    "    return fi, train_probs, test_probs"
   ]
  },
  {
   "cell_type": "code",
   "execution_count": 42,
   "id": "manufactured-confidentiality",
   "metadata": {},
   "outputs": [],
   "source": [
    "fi_lightgbm, train_probs_lightgbm, test_probs_lightgbm = cross_validation_gbc(train, y_train, test)"
   ]
  },
  {
   "cell_type": "code",
   "execution_count": 18,
   "id": "seasonal-punch",
   "metadata": {},
   "outputs": [],
   "source": [
    "def cross_validation_lightgbm_cf(train, y_train, test):\n",
    "    var_categ = [c for c in train.columns if 'mode' in c]\n",
    "    for c in var_categ:\n",
    "        train[c] = train[c].astype('category')\n",
    "        test[c] = test[c].astype('category')\n",
    "\n",
    "    folds = [train.index[t] for t, v in KFold(5).split(train)]\n",
    "    test_probs = []\n",
    "    train_probs = []\n",
    "    fi = []\n",
    "    for i, idx in enumerate(folds):\n",
    "        print(\"*\"*10, i, \"*\"*10)\n",
    "        Xt = train.loc[idx]\n",
    "        yt = y_train.loc[Xt.index].target\n",
    "\n",
    "        Xv = train.drop(Xt.index)\n",
    "        yv = y_train.loc[Xv.index].target\n",
    "\n",
    "        learner = LGBMClassifier(n_estimators=1000, boosting_type='gbdt',min_child_samples=1500, colsample_bytree=0.8,\n",
    "                       subsample=0.8, max_bin=200, learning_rate=0.1, random_state = 42)\n",
    "\n",
    "        learner.fit(Xt, yt,  early_stopping_rounds=10, eval_metric=\"auc\",\n",
    "                    eval_set=[(Xt, yt), (Xv, yv)], verbose=100)\n",
    "        test_probs.append(pd.Series(learner.predict_proba(test)[:, -1], index=test.index, name=\"fold_\" + str(i)))\n",
    "        train_probs.append(pd.Series(learner.predict_proba(Xv)[:, -1], index=Xv.index, name=\"probs\"))\n",
    "        fi.append(pd.Series(learner.feature_importances_ / learner.feature_importances_.sum(), index=Xt.columns))\n",
    "\n",
    "    test_probs = pd.concat(test_probs, axis=1).mean(axis=1)\n",
    "    train_probs = pd.concat(train_probs)\n",
    "    fi = pd.concat(fi, axis=1).mean(axis=1)\n",
    "    print(\"*\" * 21)\n",
    "    print(\"roc auc estimado: \", roc_auc_score(y_train, train_probs.loc[y_train.index]))\n",
    "    print(\"roc auc varianza: \", np.std([roc_auc_score(y_train.loc[folds[i]], train_probs.iloc[folds[i]]) for i in range(len(folds))]))\n",
    "    return fi, train_probs, test_probs"
   ]
  },
  {
   "cell_type": "code",
   "execution_count": 43,
   "id": "mental-socket",
   "metadata": {
    "scrolled": true
   },
   "outputs": [],
   "source": [
    "fi_lightgbm_cf, train_probs_lightgbm_cf, test_probs_lightgbm_cf = cross_validation_lightgbm_cf(train, y_train, test)"
   ]
  },
  {
   "cell_type": "code",
   "execution_count": 19,
   "id": "selective-constraint",
   "metadata": {},
   "outputs": [],
   "source": [
    "from sklearn.model_selection import cross_validate\n",
    "from sklearn.model_selection import learning_curve\n",
    "def cross_validate_learning_rate(estimator, x_train, y_train, cv = 5, scoring = 'roc_auc', return_train_score = True):\n",
    "    results = cross_validate(estimator,\n",
    "                            x_train,\n",
    "                            y_train,\n",
    "                            cv = cv,\n",
    "                            scoring=scoring,\n",
    "                            return_train_score = return_train_score ) \n",
    "    train_scores = results['train_score']\n",
    "    test_scores = results['test_score']\n",
    "    print(\"train_scores: {}\".format(np.mean(train_scores)))\n",
    "    print(\"test_scores: {}\".format(np.mean(test_scores)))\n",
    "\n",
    "    lc = learning_curve(estimator, \n",
    "                        x_train, \n",
    "                        y_train, \n",
    "                        cv=cv, \n",
    "                        scoring=scoring)\n",
    "    samples, train, test = lc[0],lc[1],lc[2]\n",
    "    plt.plot(samples, np.mean(train, axis=1))\n",
    "    plt.plot(samples, np.mean(test, axis=1))"
   ]
  },
  {
   "cell_type": "code",
   "execution_count": 20,
   "id": "straight-proxy",
   "metadata": {},
   "outputs": [],
   "source": [
    "from sklearn.model_selection import GridSearchCV\n",
    "def grid_search_param(X, y,nfolds, param_grid, model_sklearn, scoring = 'roc_auc'):\n",
    "    grid_search = GridSearchCV(model_sklearn, param_grid, cv=nfolds, return_train_score=True, scoring=scoring)\n",
    "    grid_search.fit(X, y)\n",
    "    return grid_search"
   ]
  },
  {
   "cell_type": "code",
   "execution_count": 30,
   "id": "blind-holmes",
   "metadata": {},
   "outputs": [],
   "source": [
    "train_probs_lightgbm = pd.read_pickle('train_probs_lightgbm.pkl')\n",
    "train_probs_lightgbm_cf = pd.read_pickle('train_probs_lightgbm_cf.pkl')\n",
    "train_probs_gbc = pd.read_pickle('train_probs_gbc.pkl')\n",
    "test_probs_lightgbm = pd.read_pickle('test_probs_lightgbm.pkl')\n",
    "test_probs_lightgbm_cf = pd.read_pickle('test_probs_lightgbm_cf.pkl')\n",
    "test_probs_gbc = pd.read_pickle('test_probs_gbc.pkl')"
   ]
  },
  {
   "cell_type": "code",
   "execution_count": 32,
   "id": "overall-shark",
   "metadata": {},
   "outputs": [],
   "source": [
    "train_probs_total = pd.concat([train_probs_lightgbm,train_probs_lightgbm_cf, train_probs_gbc], axis=1)\n",
    "test_probs_total =  pd.concat([test_probs_lightgbm,test_probs_lightgbm_cf, test_probs_gbc], axis=1)\n",
    "train_probs_total.columns = ['probs_lightgbm', 'probs_lightgbm_cf', 'probs_gbc']\n",
    "test_probs_total.columns = ['probs_lightgbm', 'probs_lightgbm_cf', 'probs_gbc']"
   ]
  },
  {
   "cell_type": "code",
   "execution_count": 33,
   "id": "treated-nitrogen",
   "metadata": {},
   "outputs": [
    {
     "data": {
      "text/html": [
       "<div>\n",
       "<style scoped>\n",
       "    .dataframe tbody tr th:only-of-type {\n",
       "        vertical-align: middle;\n",
       "    }\n",
       "\n",
       "    .dataframe tbody tr th {\n",
       "        vertical-align: top;\n",
       "    }\n",
       "\n",
       "    .dataframe thead th {\n",
       "        text-align: right;\n",
       "    }\n",
       "</style>\n",
       "<table border=\"1\" class=\"dataframe\">\n",
       "  <thead>\n",
       "    <tr style=\"text-align: right;\">\n",
       "      <th></th>\n",
       "      <th>probs_lightgbm</th>\n",
       "      <th>probs_lightgbm_cf</th>\n",
       "      <th>probs_gbc</th>\n",
       "    </tr>\n",
       "  </thead>\n",
       "  <tbody>\n",
       "    <tr>\n",
       "      <th>probs_lightgbm</th>\n",
       "      <td>1.000000</td>\n",
       "      <td>0.982945</td>\n",
       "      <td>0.949030</td>\n",
       "    </tr>\n",
       "    <tr>\n",
       "      <th>probs_lightgbm_cf</th>\n",
       "      <td>0.982945</td>\n",
       "      <td>1.000000</td>\n",
       "      <td>0.946052</td>\n",
       "    </tr>\n",
       "    <tr>\n",
       "      <th>probs_gbc</th>\n",
       "      <td>0.949030</td>\n",
       "      <td>0.946052</td>\n",
       "      <td>1.000000</td>\n",
       "    </tr>\n",
       "  </tbody>\n",
       "</table>\n",
       "</div>"
      ],
      "text/plain": [
       "                   probs_lightgbm  probs_lightgbm_cf  probs_gbc\n",
       "probs_lightgbm           1.000000           0.982945   0.949030\n",
       "probs_lightgbm_cf        0.982945           1.000000   0.946052\n",
       "probs_gbc                0.949030           0.946052   1.000000"
      ]
     },
     "metadata": {},
     "output_type": "display_data"
    },
    {
     "data": {
      "text/html": [
       "<div>\n",
       "<style scoped>\n",
       "    .dataframe tbody tr th:only-of-type {\n",
       "        vertical-align: middle;\n",
       "    }\n",
       "\n",
       "    .dataframe tbody tr th {\n",
       "        vertical-align: top;\n",
       "    }\n",
       "\n",
       "    .dataframe thead th {\n",
       "        text-align: right;\n",
       "    }\n",
       "</style>\n",
       "<table border=\"1\" class=\"dataframe\">\n",
       "  <thead>\n",
       "    <tr style=\"text-align: right;\">\n",
       "      <th></th>\n",
       "      <th>probs_lightgbm</th>\n",
       "      <th>probs_lightgbm_cf</th>\n",
       "      <th>probs_gbc</th>\n",
       "    </tr>\n",
       "  </thead>\n",
       "  <tbody>\n",
       "    <tr>\n",
       "      <th>probs_lightgbm</th>\n",
       "      <td>1.000000</td>\n",
       "      <td>0.992691</td>\n",
       "      <td>0.972856</td>\n",
       "    </tr>\n",
       "    <tr>\n",
       "      <th>probs_lightgbm_cf</th>\n",
       "      <td>0.992691</td>\n",
       "      <td>1.000000</td>\n",
       "      <td>0.971039</td>\n",
       "    </tr>\n",
       "    <tr>\n",
       "      <th>probs_gbc</th>\n",
       "      <td>0.972856</td>\n",
       "      <td>0.971039</td>\n",
       "      <td>1.000000</td>\n",
       "    </tr>\n",
       "  </tbody>\n",
       "</table>\n",
       "</div>"
      ],
      "text/plain": [
       "                   probs_lightgbm  probs_lightgbm_cf  probs_gbc\n",
       "probs_lightgbm           1.000000           0.992691   0.972856\n",
       "probs_lightgbm_cf        0.992691           1.000000   0.971039\n",
       "probs_gbc                0.972856           0.971039   1.000000"
      ]
     },
     "metadata": {},
     "output_type": "display_data"
    }
   ],
   "source": [
    "display(train_probs_total.corr(), test_probs_total.corr())"
   ]
  },
  {
   "cell_type": "code",
   "execution_count": 34,
   "id": "verbal-million",
   "metadata": {},
   "outputs": [
    {
     "data": {
      "image/png": "[encoded data removed]",
      "text/plain": [
       "<Figure size 432x288 with 1 Axes>"
      ]
     },
     "metadata": {
      "needs_background": "light"
     },
     "output_type": "display_data"
    }
   ],
   "source": [
    "import matplotlib.pyplot as plt\n",
    "plt.hist(np.std(train_probs_total.values, axis=1));"
   ]
  },
  {
   "cell_type": "code",
   "execution_count": 35,
   "id": "structured-quantity",
   "metadata": {},
   "outputs": [
    {
     "name": "stdout",
     "output_type": "stream",
     "text": [
      "train_scores: 0.8548033944986309\n",
      "test_scores: 0.854759582575209\n"
     ]
    },
    {
     "data": {
      "image/png": "[encoded data removed]",
      "text/plain": [
       "<Figure size 432x288 with 1 Axes>"
      ]
     },
     "metadata": {
      "needs_background": "light"
     },
     "output_type": "display_data"
    }
   ],
   "source": [
    "from sklearn.linear_model import LogisticRegression\n",
    "### definir los parametros a tunear\n",
    "train = train\n",
    "Cs = [0.1, 0.3, 0.8, 0.9, 1.0]\n",
    "# https://neurtu.readthedocs.io/examples/logistic_regression_scaling.html\n",
    "solvers = ['lbfgs','saga','newton-cg','sag'] # newton-cg, sag, lbfgs, liblinear, saga\n",
    "param_grid = {'C': Cs,'solver':solvers}\n",
    "### encontrando los hiper_parámetros\n",
    "fitting=grid_search_param(train_probs_total, y_train.target, 5,param_grid, LogisticRegression(penalty=\"l2\", tol=0.0001, random_state=42), scoring='roc_auc')\n",
    "### instanciar el estimador\n",
    "estimator = fitting.best_estimator_\n",
    "#     print(estimator)\n",
    "### aplicar cross_validate y learning_rate \n",
    "cross_validate_learning_rate(estimator, train_probs_total, y_train.target, scoring='roc_auc')"
   ]
  },
  {
   "cell_type": "code",
   "execution_count": 36,
   "id": "hired-cleveland",
   "metadata": {},
   "outputs": [
    {
     "name": "stdout",
     "output_type": "stream",
     "text": [
      "LogisticRegression(C=0.3, class_weight=None, dual=False, fit_intercept=True,\n",
      "                   intercept_scaling=1, l1_ratio=None, max_iter=100,\n",
      "                   multi_class='auto', n_jobs=None, penalty='l2',\n",
      "                   random_state=42, solver='newton-cg', tol=0.0001, verbose=0,\n",
      "                   warm_start=False)\n"
     ]
    }
   ],
   "source": [
    "print(estimator)"
   ]
  },
  {
   "cell_type": "code",
   "execution_count": 37,
   "id": "surprising-framing",
   "metadata": {},
   "outputs": [
    {
     "data": {
      "text/plain": [
       "array([[ 4.10014634,  2.62920487, -0.14486534]])"
      ]
     },
     "execution_count": 37,
     "metadata": {},
     "output_type": "execute_result"
    }
   ],
   "source": [
    "estimator.coef_"
   ]
  },
  {
   "cell_type": "code",
   "execution_count": 38,
   "id": "diverse-pregnancy",
   "metadata": {
    "scrolled": true
   },
   "outputs": [
    {
     "data": {
      "text/plain": [
       "key_value\n",
       "0         0.045273\n",
       "1         0.060139\n",
       "2         0.053343\n",
       "3         0.584437\n",
       "4         0.104742\n",
       "            ...   \n",
       "396661    0.068148\n",
       "396662    0.163139\n",
       "396663    0.188631\n",
       "396664    0.058015\n",
       "396665    0.053967\n",
       "Name: target, Length: 396666, dtype: float64"
      ]
     },
     "execution_count": 38,
     "metadata": {},
     "output_type": "execute_result"
    }
   ],
   "source": [
    "test_stacking = pd.Series(estimator.predict_proba(test_probs_total)[:,-1], index=test.index, name = 'target')\n",
    "test_stacking"
   ]
  },
  {
   "cell_type": "code",
   "execution_count": 40,
   "id": "technical-commission",
   "metadata": {},
   "outputs": [],
   "source": [
    "test_stacking.to_csv('../results/stacking_2models_lgbm2_score_0.85488.csv') ### score de 0.85704 en la tabla publica"
   ]
  },
  {
   "cell_type": "markdown",
   "id": "leading-chaos",
   "metadata": {},
   "source": [
    "## Promedio Final"
   ]
  },
  {
   "cell_type": "code",
   "execution_count": 44,
   "id": "historic-statistics",
   "metadata": {},
   "outputs": [],
   "source": [
    "test_probs_mean_total = test_probs_mean*0.4 + test_stacking*0.6\n",
    "test_probs_mean_total"
   ]
  },
  {
   "cell_type": "code",
   "execution_count": 45,
   "id": "aquatic-mitchell",
   "metadata": {},
   "outputs": [],
   "source": [
    "test_probs_mean_total.to_csv(\"../results/emsamble_simple_and_stacking_v6.csv\") ### score de 0.85732  en la tabla publica"
   ]
  },
  {
   "cell_type": "code",
   "execution_count": null,
   "id": "young-train",
   "metadata": {},
   "outputs": [],
   "source": [
    "#### entrando all_training con las 1628 features y luego con 700 features, para obtener dos test_probs_mean. \n",
    "#### se promedian ambos resultados y se obtiene despues del promedio final\n",
    "#### se mejora el score de 0.85732 a 0.85747 en la tabla publica"
   ]
  }
 ],
 "metadata": {
  "kernelspec": {
   "display_name": "Python 3",
   "language": "python",
   "name": "python3"
  },
  "language_info": {
   "codemirror_mode": {
    "name": "ipython",
    "version": 3
   },
   "file_extension": ".py",
   "mimetype": "text/x-python",
   "name": "python",
   "nbconvert_exporter": "python",
   "pygments_lexer": "ipython3",
   "version": "3.8.5"
  }
 },
 "nbformat": 4,
 "nbformat_minor": 5
}
