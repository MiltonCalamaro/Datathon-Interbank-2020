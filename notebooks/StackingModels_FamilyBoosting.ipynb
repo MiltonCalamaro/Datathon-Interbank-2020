{
 "cells": [
  {
   "cell_type": "code",
   "execution_count": 16,
   "id": "funky-cooperation",
   "metadata": {},
   "outputs": [],
   "source": [
    "import os\n",
    "import pandas as pd\n",
    "import numpy as np\n",
    "import matplotlib.pyplot as plt\n",
    "import warnings\n",
    "warnings.filterwarnings('ignore')"
   ]
  },
  {
   "cell_type": "code",
   "execution_count": 17,
   "id": "based-compromise",
   "metadata": {},
   "outputs": [],
   "source": [
    "from sklearn.model_selection import cross_validate\n",
    "from sklearn.model_selection import learning_curve\n",
    "def cross_validate_learning_rate(estimator, x_train, y_train, cv = 5, scoring = 'roc_auc', return_train_score = True):\n",
    "    results = cross_validate(estimator,\n",
    "                            x_train,\n",
    "                            y_train,\n",
    "                            cv = cv,\n",
    "                            scoring=scoring,\n",
    "                            return_train_score = return_train_score ) \n",
    "    train_scores = results['train_score']\n",
    "    test_scores = results['test_score']\n",
    "    print(\"train_scores: {}\".format(np.mean(train_scores)))\n",
    "    print(\"test_scores: {}\".format(np.mean(test_scores)))\n",
    "\n",
    "#     lc = learning_curve(estimator, \n",
    "#                         x_train, \n",
    "#                         y_train, \n",
    "#                         cv=cv, \n",
    "#                         scoring=scoring)\n",
    "#     samples, train, test = lc[0],lc[1],lc[2]\n",
    "#     plt.plot(samples, np.mean(train, axis=1))\n",
    "#     plt.plot(samples, np.mean(test, axis=1))\n",
    "    return np.mean(train_scores), np.mean(test_scores)"
   ]
  },
  {
   "cell_type": "code",
   "execution_count": 18,
   "id": "impressed-guitar",
   "metadata": {},
   "outputs": [],
   "source": [
    "from sklearn.model_selection import GridSearchCV\n",
    "def grid_search_param(X, y,nfolds, param_grid, model_sklearn, scoring = 'roc_auc'):\n",
    "    grid_search = GridSearchCV(model_sklearn, param_grid, cv=nfolds, return_train_score=True, scoring=scoring)\n",
    "    grid_search.fit(X, y)\n",
    "    return grid_search"
   ]
  },
  {
   "cell_type": "code",
   "execution_count": 19,
   "id": "removable-audience",
   "metadata": {},
   "outputs": [],
   "source": [
    "path = '../data'\n",
    "y_train = pd.read_csv(f'{path}/y_train.csv', index_col = 'key_value')"
   ]
  },
  {
   "cell_type": "code",
   "execution_count": 20,
   "id": "neither-channel",
   "metadata": {},
   "outputs": [],
   "source": [
    "list_train_probs = []\n",
    "list_train_probs.append(pd.read_pickle('train_probs_lightgbm.pkl'))\n",
    "list_train_probs.append(pd.read_pickle('train_probs_catboost.pkl'))\n",
    "list_train_probs.append(pd.read_pickle('train_probs_xgb.pkl'))\n",
    "list_train_probs.append(pd.read_pickle('train_probs_gbc.pkl'))\n",
    "list_train_probs.append(pd.read_pickle('train_probs_lightgbm_v2.pkl'))\n",
    "train = pd.concat(list_train_probs, axis=1)\n",
    "train.columns = ['probs_lightgbm', 'probs_catboost','probs_xgb', 'probs_gbc', 'probs_lightgbm_v2']"
   ]
  },
  {
   "cell_type": "code",
   "execution_count": 21,
   "id": "floral-brisbane",
   "metadata": {
    "scrolled": false
   },
   "outputs": [],
   "source": [
    "list_test_probs = []\n",
    "list_test_probs.append(pd.read_pickle('test_probs_lightgbm.pkl'))\n",
    "list_test_probs.append(pd.read_pickle('test_probs_catboost.pkl'))\n",
    "list_test_probs.append(pd.read_pickle('test_probs_xgb.pkl'))\n",
    "list_test_probs.append(pd.read_pickle('test_probs_gbc.pkl'))\n",
    "list_test_probs.append(pd.read_pickle('test_probs_lightgbm_v2.pkl'))\n",
    "test = pd.concat(list_test_probs, axis=1)\n",
    "test.columns  = ['probs_lightgbm', 'probs_catboost', 'probs_xgb', 'probs_gbc', 'probs_lightgbm_v2']"
   ]
  },
  {
   "cell_type": "code",
   "execution_count": 22,
   "id": "wicked-toronto",
   "metadata": {
    "scrolled": true
   },
   "outputs": [
    {
     "data": {
      "text/html": [
       "<div>\n",
       "<style scoped>\n",
       "    .dataframe tbody tr th:only-of-type {\n",
       "        vertical-align: middle;\n",
       "    }\n",
       "\n",
       "    .dataframe tbody tr th {\n",
       "        vertical-align: top;\n",
       "    }\n",
       "\n",
       "    .dataframe thead th {\n",
       "        text-align: right;\n",
       "    }\n",
       "</style>\n",
       "<table border=\"1\" class=\"dataframe\">\n",
       "  <thead>\n",
       "    <tr style=\"text-align: right;\">\n",
       "      <th></th>\n",
       "      <th>probs_lightgbm</th>\n",
       "      <th>probs_catboost</th>\n",
       "      <th>probs_xgb</th>\n",
       "      <th>probs_gbc</th>\n",
       "      <th>probs_lightgbm_v2</th>\n",
       "    </tr>\n",
       "  </thead>\n",
       "  <tbody>\n",
       "    <tr>\n",
       "      <th>probs_lightgbm</th>\n",
       "      <td>1.000000</td>\n",
       "      <td>0.981173</td>\n",
       "      <td>0.975493</td>\n",
       "      <td>0.950469</td>\n",
       "      <td>0.983192</td>\n",
       "    </tr>\n",
       "    <tr>\n",
       "      <th>probs_catboost</th>\n",
       "      <td>0.981173</td>\n",
       "      <td>1.000000</td>\n",
       "      <td>0.974264</td>\n",
       "      <td>0.955481</td>\n",
       "      <td>0.976212</td>\n",
       "    </tr>\n",
       "    <tr>\n",
       "      <th>probs_xgb</th>\n",
       "      <td>0.975493</td>\n",
       "      <td>0.974264</td>\n",
       "      <td>1.000000</td>\n",
       "      <td>0.948469</td>\n",
       "      <td>0.969609</td>\n",
       "    </tr>\n",
       "    <tr>\n",
       "      <th>probs_gbc</th>\n",
       "      <td>0.950469</td>\n",
       "      <td>0.955481</td>\n",
       "      <td>0.948469</td>\n",
       "      <td>1.000000</td>\n",
       "      <td>0.948731</td>\n",
       "    </tr>\n",
       "    <tr>\n",
       "      <th>probs_lightgbm_v2</th>\n",
       "      <td>0.983192</td>\n",
       "      <td>0.976212</td>\n",
       "      <td>0.969609</td>\n",
       "      <td>0.948731</td>\n",
       "      <td>1.000000</td>\n",
       "    </tr>\n",
       "  </tbody>\n",
       "</table>\n",
       "</div>"
      ],
      "text/plain": [
       "                   probs_lightgbm  probs_catboost  probs_xgb  probs_gbc  \\\n",
       "probs_lightgbm           1.000000        0.981173   0.975493   0.950469   \n",
       "probs_catboost           0.981173        1.000000   0.974264   0.955481   \n",
       "probs_xgb                0.975493        0.974264   1.000000   0.948469   \n",
       "probs_gbc                0.950469        0.955481   0.948469   1.000000   \n",
       "probs_lightgbm_v2        0.983192        0.976212   0.969609   0.948731   \n",
       "\n",
       "                   probs_lightgbm_v2  \n",
       "probs_lightgbm              0.983192  \n",
       "probs_catboost              0.976212  \n",
       "probs_xgb                   0.969609  \n",
       "probs_gbc                   0.948731  \n",
       "probs_lightgbm_v2           1.000000  "
      ]
     },
     "execution_count": 22,
     "metadata": {},
     "output_type": "execute_result"
    }
   ],
   "source": [
    "train.corr()"
   ]
  },
  {
   "cell_type": "code",
   "execution_count": 24,
   "id": "transsexual-offense",
   "metadata": {},
   "outputs": [
    {
     "data": {
      "text/html": [
       "<div>\n",
       "<style scoped>\n",
       "    .dataframe tbody tr th:only-of-type {\n",
       "        vertical-align: middle;\n",
       "    }\n",
       "\n",
       "    .dataframe tbody tr th {\n",
       "        vertical-align: top;\n",
       "    }\n",
       "\n",
       "    .dataframe thead th {\n",
       "        text-align: right;\n",
       "    }\n",
       "</style>\n",
       "<table border=\"1\" class=\"dataframe\">\n",
       "  <thead>\n",
       "    <tr style=\"text-align: right;\">\n",
       "      <th></th>\n",
       "      <th>probs_lightgbm</th>\n",
       "      <th>probs_catboost</th>\n",
       "      <th>probs_xgb</th>\n",
       "      <th>probs_gbc</th>\n",
       "      <th>probs_lightgbm_v2</th>\n",
       "    </tr>\n",
       "  </thead>\n",
       "  <tbody>\n",
       "    <tr>\n",
       "      <th>probs_lightgbm</th>\n",
       "      <td>1.000000</td>\n",
       "      <td>0.990727</td>\n",
       "      <td>0.991912</td>\n",
       "      <td>0.972520</td>\n",
       "      <td>0.992269</td>\n",
       "    </tr>\n",
       "    <tr>\n",
       "      <th>probs_catboost</th>\n",
       "      <td>0.990727</td>\n",
       "      <td>1.000000</td>\n",
       "      <td>0.991327</td>\n",
       "      <td>0.975976</td>\n",
       "      <td>0.987053</td>\n",
       "    </tr>\n",
       "    <tr>\n",
       "      <th>probs_xgb</th>\n",
       "      <td>0.991912</td>\n",
       "      <td>0.991327</td>\n",
       "      <td>1.000000</td>\n",
       "      <td>0.976279</td>\n",
       "      <td>0.987711</td>\n",
       "    </tr>\n",
       "    <tr>\n",
       "      <th>probs_gbc</th>\n",
       "      <td>0.972520</td>\n",
       "      <td>0.975976</td>\n",
       "      <td>0.976279</td>\n",
       "      <td>1.000000</td>\n",
       "      <td>0.971856</td>\n",
       "    </tr>\n",
       "    <tr>\n",
       "      <th>probs_lightgbm_v2</th>\n",
       "      <td>0.992269</td>\n",
       "      <td>0.987053</td>\n",
       "      <td>0.987711</td>\n",
       "      <td>0.971856</td>\n",
       "      <td>1.000000</td>\n",
       "    </tr>\n",
       "  </tbody>\n",
       "</table>\n",
       "</div>"
      ],
      "text/plain": [
       "                   probs_lightgbm  probs_catboost  probs_xgb  probs_gbc  \\\n",
       "probs_lightgbm           1.000000        0.990727   0.991912   0.972520   \n",
       "probs_catboost           0.990727        1.000000   0.991327   0.975976   \n",
       "probs_xgb                0.991912        0.991327   1.000000   0.976279   \n",
       "probs_gbc                0.972520        0.975976   0.976279   1.000000   \n",
       "probs_lightgbm_v2        0.992269        0.987053   0.987711   0.971856   \n",
       "\n",
       "                   probs_lightgbm_v2  \n",
       "probs_lightgbm              0.992269  \n",
       "probs_catboost              0.987053  \n",
       "probs_xgb                   0.987711  \n",
       "probs_gbc                   0.971856  \n",
       "probs_lightgbm_v2           1.000000  "
      ]
     },
     "execution_count": 24,
     "metadata": {},
     "output_type": "execute_result"
    }
   ],
   "source": [
    "test.corr()"
   ]
  },
  {
   "cell_type": "code",
   "execution_count": 25,
   "id": "impressive-hacker",
   "metadata": {
    "scrolled": true
   },
   "outputs": [
    {
     "data": {
      "image/png": "[encoded data removed]",
      "text/plain": [
       "<Figure size 432x288 with 1 Axes>"
      ]
     },
     "metadata": {
      "needs_background": "light"
     },
     "output_type": "display_data"
    }
   ],
   "source": [
    "plt.hist(np.std(train.values, axis=1));"
   ]
  },
  {
   "cell_type": "markdown",
   "id": "dense-liberty",
   "metadata": {},
   "source": [
    "### Entrenando el modelo final"
   ]
  },
  {
   "cell_type": "code",
   "execution_count": 26,
   "id": "subsequent-diabetes",
   "metadata": {},
   "outputs": [],
   "source": [
    "from sklearn.linear_model import LogisticRegression\n",
    "### definir los parametros a tunear\n",
    "def get_roc_auc_estimado(train, y_train, columns):\n",
    "    train = train[columns]\n",
    "    Cs = [0.1, 0.3, 0.8, 0.9, 1.0]\n",
    "    # https://neurtu.readthedocs.io/examples/logistic_regression_scaling.html\n",
    "    solvers = ['lbfgs','saga','newton-cg'] # newton-cg, sag, lbfgs, liblinear, saga\n",
    "    param_grid = {'C': Cs,'solver':solvers}\n",
    "    ### encontrando los hiper_parámetros\n",
    "    fitting=grid_search_param(train, y_train.target, 5,param_grid, LogisticRegression(penalty=\"l2\", tol=0.0001, random_state=42), scoring='roc_auc')\n",
    "    ### instanciar el estimador\n",
    "    estimator = fitting.best_estimator_\n",
    "#     print(estimator)\n",
    "    ### aplicar cross_validate y learning_rate \n",
    "    train_scores, test_scores = cross_validate_learning_rate(estimator, train, y_train, scoring='roc_auc')\n",
    "    return estimator, train_scores, test_scores"
   ]
  },
  {
   "cell_type": "code",
   "execution_count": 12,
   "id": "streaming-wholesale",
   "metadata": {},
   "outputs": [],
   "source": [
    "# from itertools import combinations  \n",
    "# comb_5 = combinations(['probs_lightgbm', 'probs_catboost', 'probs_lightgbm_v2', 'probs_xgb','probs_gbc'], 2) \n",
    "# comb_4 = combinations(['probs_lightgbm', 'probs_catboost', 'probs_lightgbm_v2', 'probs_xgb','probs_gbc'], 3) \n",
    "# comb_3 = combinations(['probs_lightgbm', 'probs_catboost', 'probs_lightgbm_v2', 'probs_xgb','probs_gbc'], 4) \n",
    "# comb_2 = combinations(['probs_lightgbm', 'probs_catboost', 'probs_lightgbm_v2', 'probs_xgb','probs_gbc'], 5)\n",
    "# # Print the obtained combinations \n",
    "# list_of_combinations = []\n",
    "# for i in list(comb_2): \n",
    "#     list_of_combinations.append(list(i))\n",
    "# for i in list(comb_3): \n",
    "#     list_of_combinations.append(list(i))\n",
    "# for i in list(comb_4): \n",
    "#     list_of_combinations.append(list(i))\n",
    "# for i in list(comb_5): \n",
    "#     list_of_combinations.append(list(i))"
   ]
  },
  {
   "cell_type": "code",
   "execution_count": 12,
   "id": "undefined-orleans",
   "metadata": {
    "scrolled": true
   },
   "outputs": [
    {
     "name": "stdout",
     "output_type": "stream",
     "text": [
      "Analizando  probs_lightgbm, probs_catboost, probs_lightgbm_v2, probs_xgb, probs_gbc\n",
      "train_scores: 0.8552870042338394\n",
      "test_scores: 0.8552341208838141\n",
      " probs_lightgbm, probs_catboost, probs_lightgbm_v2, probs_xgb, probs_gbc, tienen un train_score de 0.85529 y test_score de 0.85523\n",
      "Analizando  probs_lightgbm, probs_catboost, probs_lightgbm_v2, probs_xgb\n",
      "train_scores: 0.8552244339953387\n",
      "test_scores: 0.8551692835222677\n",
      "Analizando  probs_lightgbm, probs_catboost, probs_lightgbm_v2, probs_gbc\n",
      "train_scores: 0.8552205678027164\n",
      "test_scores: 0.8551772676340477\n",
      "Analizando  probs_lightgbm, probs_catboost, probs_xgb, probs_gbc\n",
      "train_scores: 0.8548817014288936\n",
      "test_scores: 0.8548506572117478\n",
      "Analizando  probs_lightgbm, probs_lightgbm_v2, probs_xgb, probs_gbc\n",
      "train_scores: 0.8549247917576916\n",
      "test_scores: 0.8548869552006323\n",
      "Analizando  probs_catboost, probs_lightgbm_v2, probs_xgb, probs_gbc\n",
      "train_scores: 0.8543257337655719\n",
      "test_scores: 0.8542836881239253\n",
      "Analizando  probs_lightgbm, probs_catboost, probs_lightgbm_v2\n",
      "train_scores: 0.8551670113394334\n",
      "test_scores: 0.8551245237645666\n",
      "Analizando  probs_lightgbm, probs_catboost, probs_xgb\n",
      "train_scores: 0.8548413654626046\n",
      "test_scores: 0.8548096286017669\n",
      "Analizando  probs_lightgbm, probs_catboost, probs_gbc\n",
      "train_scores: 0.8547564660103092\n",
      "test_scores: 0.8547308903815027\n",
      "Analizando  probs_lightgbm, probs_lightgbm_v2, probs_xgb\n",
      "train_scores: 0.8549256422621838\n",
      "test_scores: 0.8548885539646462\n",
      "Analizando  probs_lightgbm, probs_lightgbm_v2, probs_gbc\n",
      "train_scores: 0.8547262556177173\n",
      "test_scores: 0.854697640117107\n",
      "Analizando  probs_lightgbm, probs_xgb, probs_gbc\n",
      "train_scores: 0.8543096455524569\n",
      "test_scores: 0.8542881293404893\n",
      "Analizando  probs_catboost, probs_lightgbm_v2, probs_xgb\n",
      "train_scores: 0.8542695411485207\n",
      "test_scores: 0.8542279319614756\n",
      "Analizando  probs_catboost, probs_lightgbm_v2, probs_gbc\n",
      "train_scores: 0.8539575681377821\n",
      "test_scores: 0.8539199018701573\n",
      "Analizando  probs_catboost, probs_xgb, probs_gbc\n",
      "train_scores: 0.852724511696757\n",
      "test_scores: 0.852702331261311\n",
      "Analizando  probs_lightgbm_v2, probs_xgb, probs_gbc\n",
      "train_scores: 0.8531818405541458\n",
      "test_scores: 0.8531606064150724\n",
      "Analizando  probs_lightgbm, probs_catboost\n",
      "train_scores: 0.8547314244349871\n",
      "test_scores: 0.8547053800248857\n",
      "Analizando  probs_lightgbm, probs_lightgbm_v2\n",
      "train_scores: 0.8547265239309345\n",
      "test_scores: 0.8546987114143004\n",
      "Analizando  probs_lightgbm, probs_xgb\n",
      "train_scores: 0.8543137707983611\n",
      "test_scores: 0.8542934488455292\n",
      "Analizando  probs_lightgbm, probs_gbc\n",
      "train_scores: 0.8539037676874957\n",
      "test_scores: 0.8538894865468108\n",
      "Analizando  probs_catboost, probs_lightgbm_v2\n",
      "train_scores: 0.8539359001961623\n",
      "test_scores: 0.8539054112460297\n",
      "Analizando  probs_catboost, probs_xgb\n",
      "train_scores: 0.8527117682418457\n",
      "test_scores: 0.8526920320847344\n",
      "Analizando  probs_catboost, probs_gbc\n",
      "train_scores: 0.8515287334129408\n",
      "test_scores: 0.8515060958824548\n",
      "Analizando  probs_lightgbm_v2, probs_xgb\n",
      "train_scores: 0.8531743349138697\n",
      "test_scores: 0.8531580982538213\n",
      "Analizando  probs_lightgbm_v2, probs_gbc\n",
      "train_scores: 0.8516258704300718\n",
      "test_scores: 0.8516252906197964\n",
      "Analizando  probs_xgb, probs_gbc\n",
      "train_scores: 0.8490215857126195\n",
      "test_scores: 0.8490221384739781\n"
     ]
    }
   ],
   "source": [
    "# best_score = 0\n",
    "# best_estimator = 0\n",
    "# for c in list_of_combinations:\n",
    "#     print('#####################################')\n",
    "#     print('Analizando ', ', '.join(c))\n",
    "#     estimator, train_score, test_score = get_roc_auc_estimado(train, y_train, c)\n",
    "#     if test_score > best_score:\n",
    "#         best_score = test_score\n",
    "#         best_estimator = estimator\n",
    "#         print(f\" {','.join(c)}, tienen un train_score de {round(train_score,5)} y test_score de {round(test_score,5)}\")"
   ]
  },
  {
   "cell_type": "code",
   "execution_count": 34,
   "id": "stable-participation",
   "metadata": {},
   "outputs": [
    {
     "name": "stdout",
     "output_type": "stream",
     "text": [
      "train_scores: 0.8552205678027164\n",
      "test_scores: 0.8551772676340477\n"
     ]
    }
   ],
   "source": [
    "keep_columns = ['probs_lightgbm', 'probs_lightgbm_v2','probs_catboost', 'probs_gbc']\n",
    "estimator, train_score, test_score = get_roc_auc_estimado(train, y_train, keep_columns)"
   ]
  },
  {
   "cell_type": "code",
   "execution_count": 35,
   "id": "metric-indication",
   "metadata": {},
   "outputs": [
    {
     "data": {
      "text/plain": [
       "array([[ 3.03739209,  1.71817256,  2.25519488, -0.39402787]])"
      ]
     },
     "execution_count": 35,
     "metadata": {},
     "output_type": "execute_result"
    }
   ],
   "source": [
    "estimator.coef_"
   ]
  },
  {
   "cell_type": "code",
   "execution_count": 36,
   "id": "proper-light",
   "metadata": {
    "scrolled": false
   },
   "outputs": [
    {
     "data": {
      "text/plain": [
       "key_value\n",
       "0         0.045024\n",
       "1         0.067199\n",
       "2         0.052986\n",
       "3         0.587453\n",
       "4         0.127642\n",
       "            ...   \n",
       "396661    0.065888\n",
       "396662    0.149657\n",
       "396663    0.186598\n",
       "396664    0.057022\n",
       "396665    0.056621\n",
       "Name: target, Length: 396666, dtype: float64"
      ]
     },
     "execution_count": 36,
     "metadata": {},
     "output_type": "execute_result"
    }
   ],
   "source": [
    "test_stacking = pd.Series(estimator.predict_proba(test[keep_columns])[:,-1], index=test.index, name = 'target')\n",
    "test_stacking"
   ]
  },
  {
   "cell_type": "code",
   "execution_count": 37,
   "id": "thick-innocent",
   "metadata": {},
   "outputs": [],
   "source": [
    "test_stacking.to_csv(\"../results/stacking_4models_LGBM2_CB_GBC_0.85517.csv\")  ### score de 0.85601 en la tabla publica\n",
    "# test_stacking.to_csv(\"../results/stacking_3models_LGBM_CB_GBC_0.85473.csv\")  ### score de 0.85557 en la tabla publica\n",
    "# test_stacking.to_csv(\"../results/stacking_5models_LGBM2_CB_XGB_GBC_0.85523.csv\")  ### score de 0.85448 en la tabla publica\n",
    "# test_stacking.to_csv(\"../results/stacking_3models_LGBM2_CB_0.85512.csv\")  ### score de 0.85592 en la tabla publica"
   ]
  },
  {
   "cell_type": "code",
   "execution_count": 23,
   "id": "damaged-center",
   "metadata": {},
   "outputs": [],
   "source": [
    "# test_stacking.to_csv(\"../results/stacking_4models_LGBM2_CB_XGB_0.85464.csv\")  ### score de 0.85596 en la tabla publica\n",
    "# test_stacking.to_csv(\"../results/stacking_2models_LGBM_CB_0.85419.csv\")  ### score de 0.85567 en la tabla publica"
   ]
  },
  {
   "cell_type": "code",
   "execution_count": 16,
   "id": "exceptional-found",
   "metadata": {},
   "outputs": [],
   "source": [
    "# test_stacking.to_csv(\"../results/stacking_3models_LGBM2_GBC_0.84805.csv\")  ### score de 0.84996 en la tabla publica\n",
    "# test_stacking.to_csv(\"../results/stacking_3models_LGBM2_R_0.84729.csv\")  ### score de 0.84927 en la tabla publica\n",
    "# test_stacking.to_csv(\"../results/stacking_6models_0.84767.csv\")  ### score de 0.84910 en la tabla publica\n",
    "# test_stacking.to_csv(\"../results/stacking_3models_LGBM2_RNN_0.84830.csv\")  ### score de 0.84974 en la tabla publica\n",
    "# test_stacking.to_csv(\"../results/stacking_3models_LGBM2_RF_0.84694.csv\")  ### score de 0.84874  en la tabla publica\n",
    "# test_stacking.to_csv(\"../results/stacking_3models_LGBM2_XGB_0.84807.csv\")  ### score de 0.84977  en la tabla publica\n",
    "# test_stacking.to_csv(\"../results/stacking_3models_LGBM2_0.84811.csv\")  ### score de 0.84970  en la tabla publica\n",
    "# test_stacking.to_csv(\"../results/stacking_2models_LGBM2_0.84801.csv\")  ### score de 0.84992 en la tabla publica\n",
    "# test_stacking.to_csv(\"../results/stacking_3models_CB_LGBM2_0.84834.csv\")  ### score de 0.84991 en la tabla publica\n",
    "# test_stacking.to_csv(\"../results/stacking_3models_CB_LGBM2_0.84833.csv\") ### score de 0.84992 en la tabla publica\n",
    "# test_stacking.to_csv(\"../results/stacking_2models_CB_LGBM_0.84721.csv\") ### score de 0.84882 en la tabla publica"
   ]
  },
  {
   "cell_type": "code",
   "execution_count": 17,
   "id": "complimentary-brake",
   "metadata": {},
   "outputs": [],
   "source": [
    "### Por lo que se puede concluir que los dos modelos de lightGBM (el normal, y el que toma en cuenta las categoricas).\n",
    "### Tienen mejor performance"
   ]
  }
 ],
 "metadata": {
  "kernelspec": {
   "display_name": "Python 3",
   "language": "python",
   "name": "python3"
  },
  "language_info": {
   "codemirror_mode": {
    "name": "ipython",
    "version": 3
   },
   "file_extension": ".py",
   "mimetype": "text/x-python",
   "name": "python",
   "nbconvert_exporter": "python",
   "pygments_lexer": "ipython3",
   "version": "3.8.5"
  }
 },
 "nbformat": 4,
 "nbformat_minor": 5
}
