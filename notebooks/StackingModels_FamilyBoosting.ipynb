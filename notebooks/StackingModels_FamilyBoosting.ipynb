{
 "cells": [
  {
   "cell_type": "code",
   "execution_count": 16,
   "id": "unexpected-mortality",
   "metadata": {},
   "outputs": [],
   "source": [
    "import os\n",
    "import pandas as pd\n",
    "import numpy as np\n",
    "import matplotlib.pyplot as plt"
   ]
  },
  {
   "cell_type": "code",
   "execution_count": 17,
   "id": "formed-reverse",
   "metadata": {},
   "outputs": [],
   "source": [
    "from sklearn.model_selection import cross_validate\n",
    "from sklearn.model_selection import learning_curve\n",
    "def cross_validate_learning_rate(estimator, x_train, y_train, cv = 5, scoring = 'roc_auc', return_train_score = True):\n",
    "    results = cross_validate(estimator,\n",
    "                            x_train,\n",
    "                            y_train,\n",
    "                            cv = cv,\n",
    "                            scoring=scoring,\n",
    "                            return_train_score = return_train_score ) \n",
    "    train_scores = results['train_score']\n",
    "    test_scores = results['test_score']\n",
    "    print(\"train_scores: {}\".format(np.mean(train_scores)))\n",
    "    print(\"test_scores: {}\".format(np.mean(test_scores)))\n",
    "\n",
    "    lc = learning_curve(estimator, \n",
    "                        x_train, \n",
    "                        y_train, \n",
    "                        cv=cv, \n",
    "                        scoring=scoring)\n",
    "    samples, train, test = lc[0],lc[1],lc[2]\n",
    "    plt.plot(samples, np.mean(train, axis=1))\n",
    "    plt.plot(samples, np.mean(test, axis=1))"
   ]
  },
  {
   "cell_type": "code",
   "execution_count": 18,
   "id": "critical-andrew",
   "metadata": {},
   "outputs": [],
   "source": [
    "from sklearn.model_selection import GridSearchCV\n",
    "def grid_search_param(X, y,nfolds, param_grid, model_sklearn, scoring = 'roc_auc'):\n",
    "    grid_search = GridSearchCV(model_sklearn, param_grid, cv=nfolds, return_train_score=True, scoring=scoring)\n",
    "    grid_search.fit(X, y)\n",
    "    return grid_search"
   ]
  },
  {
   "cell_type": "code",
   "execution_count": 19,
   "id": "czech-probe",
   "metadata": {},
   "outputs": [],
   "source": [
    "path = '../data'\n",
    "y_train = pd.read_csv(f'{path}/y_train.csv', index_col = 'key_value')"
   ]
  },
  {
   "cell_type": "code",
   "execution_count": 20,
   "id": "dense-albuquerque",
   "metadata": {},
   "outputs": [
    {
     "data": {
      "text/html": [
       "<div>\n",
       "<style scoped>\n",
       "    .dataframe tbody tr th:only-of-type {\n",
       "        vertical-align: middle;\n",
       "    }\n",
       "\n",
       "    .dataframe tbody tr th {\n",
       "        vertical-align: top;\n",
       "    }\n",
       "\n",
       "    .dataframe thead th {\n",
       "        text-align: right;\n",
       "    }\n",
       "</style>\n",
       "<table border=\"1\" class=\"dataframe\">\n",
       "  <thead>\n",
       "    <tr style=\"text-align: right;\">\n",
       "      <th></th>\n",
       "      <th>probs_catboost</th>\n",
       "      <th>probs_lightgbm</th>\n",
       "      <th>probs_lightgbm_cf</th>\n",
       "    </tr>\n",
       "    <tr>\n",
       "      <th>key_value</th>\n",
       "      <th></th>\n",
       "      <th></th>\n",
       "      <th></th>\n",
       "    </tr>\n",
       "  </thead>\n",
       "  <tbody>\n",
       "    <tr>\n",
       "      <th>0</th>\n",
       "      <td>0.113719</td>\n",
       "      <td>0.075889</td>\n",
       "      <td>0.052167</td>\n",
       "    </tr>\n",
       "    <tr>\n",
       "      <th>1</th>\n",
       "      <td>0.168120</td>\n",
       "      <td>0.180585</td>\n",
       "      <td>0.157569</td>\n",
       "    </tr>\n",
       "    <tr>\n",
       "      <th>2</th>\n",
       "      <td>0.020310</td>\n",
       "      <td>0.028284</td>\n",
       "      <td>0.029362</td>\n",
       "    </tr>\n",
       "    <tr>\n",
       "      <th>3</th>\n",
       "      <td>0.009902</td>\n",
       "      <td>0.006474</td>\n",
       "      <td>0.006416</td>\n",
       "    </tr>\n",
       "    <tr>\n",
       "      <th>4</th>\n",
       "      <td>0.977649</td>\n",
       "      <td>0.914879</td>\n",
       "      <td>0.934945</td>\n",
       "    </tr>\n",
       "    <tr>\n",
       "      <th>...</th>\n",
       "      <td>...</td>\n",
       "      <td>...</td>\n",
       "      <td>...</td>\n",
       "    </tr>\n",
       "    <tr>\n",
       "      <th>358482</th>\n",
       "      <td>0.057326</td>\n",
       "      <td>0.052474</td>\n",
       "      <td>0.030986</td>\n",
       "    </tr>\n",
       "    <tr>\n",
       "      <th>358483</th>\n",
       "      <td>0.074202</td>\n",
       "      <td>0.058666</td>\n",
       "      <td>0.067142</td>\n",
       "    </tr>\n",
       "    <tr>\n",
       "      <th>358484</th>\n",
       "      <td>0.276614</td>\n",
       "      <td>0.340211</td>\n",
       "      <td>0.328420</td>\n",
       "    </tr>\n",
       "    <tr>\n",
       "      <th>358485</th>\n",
       "      <td>0.308285</td>\n",
       "      <td>0.205680</td>\n",
       "      <td>0.296486</td>\n",
       "    </tr>\n",
       "    <tr>\n",
       "      <th>358486</th>\n",
       "      <td>0.044475</td>\n",
       "      <td>0.040402</td>\n",
       "      <td>0.030698</td>\n",
       "    </tr>\n",
       "  </tbody>\n",
       "</table>\n",
       "<p>358487 rows × 3 columns</p>\n",
       "</div>"
      ],
      "text/plain": [
       "           probs_catboost  probs_lightgbm  probs_lightgbm_cf\n",
       "key_value                                                   \n",
       "0                0.113719        0.075889           0.052167\n",
       "1                0.168120        0.180585           0.157569\n",
       "2                0.020310        0.028284           0.029362\n",
       "3                0.009902        0.006474           0.006416\n",
       "4                0.977649        0.914879           0.934945\n",
       "...                   ...             ...                ...\n",
       "358482           0.057326        0.052474           0.030986\n",
       "358483           0.074202        0.058666           0.067142\n",
       "358484           0.276614        0.340211           0.328420\n",
       "358485           0.308285        0.205680           0.296486\n",
       "358486           0.044475        0.040402           0.030698\n",
       "\n",
       "[358487 rows x 3 columns]"
      ]
     },
     "execution_count": 20,
     "metadata": {},
     "output_type": "execute_result"
    }
   ],
   "source": [
    "list_train_probs = []\n",
    "list_train_probs.append(pd.read_pickle('train_probs_catboost.pkl'))\n",
    "list_train_probs.append(pd.read_pickle('train_probs_lightgbm.pkl'))\n",
    "list_train_probs.append(pd.read_pickle('train_probs_lightgbm_cf.pkl'))\n",
    "# list_train_probs.append(pd.read_pickle('train_probs_lightgbm_cf_v2.pkl'))\n",
    "# list_train_probs.append(pd.read_pickle('train_probs_rnn.pkl'))\n",
    "# list_train_probs.append(pd.read_pickle('train_probs_randomforrest.pkl'))\n",
    "# list_train_probs.append(pd.read_pickle('train_probs_gbc.pkl'))\n",
    "train = pd.concat(list_train_probs, axis=1)\n",
    "train.columns = ['probs_catboost','probs_lightgbm','probs_lightgbm_cf']#,'probs_lightgbm_cf_v2','probs_randomforrest','probs_gbc']\n",
    "train"
   ]
  },
  {
   "cell_type": "code",
   "execution_count": 21,
   "id": "fifth-karaoke",
   "metadata": {
    "scrolled": false
   },
   "outputs": [
    {
     "data": {
      "text/html": [
       "<div>\n",
       "<style scoped>\n",
       "    .dataframe tbody tr th:only-of-type {\n",
       "        vertical-align: middle;\n",
       "    }\n",
       "\n",
       "    .dataframe tbody tr th {\n",
       "        vertical-align: top;\n",
       "    }\n",
       "\n",
       "    .dataframe thead th {\n",
       "        text-align: right;\n",
       "    }\n",
       "</style>\n",
       "<table border=\"1\" class=\"dataframe\">\n",
       "  <thead>\n",
       "    <tr style=\"text-align: right;\">\n",
       "      <th></th>\n",
       "      <th>probs_catboost</th>\n",
       "      <th>probs_lightgbm</th>\n",
       "      <th>probs_lightgbm_cf</th>\n",
       "    </tr>\n",
       "    <tr>\n",
       "      <th>key_value</th>\n",
       "      <th></th>\n",
       "      <th></th>\n",
       "      <th></th>\n",
       "    </tr>\n",
       "  </thead>\n",
       "  <tbody>\n",
       "    <tr>\n",
       "      <th>0</th>\n",
       "      <td>0.003797</td>\n",
       "      <td>0.003765</td>\n",
       "      <td>0.005564</td>\n",
       "    </tr>\n",
       "    <tr>\n",
       "      <th>1</th>\n",
       "      <td>0.086857</td>\n",
       "      <td>0.079557</td>\n",
       "      <td>0.126402</td>\n",
       "    </tr>\n",
       "    <tr>\n",
       "      <th>2</th>\n",
       "      <td>0.047736</td>\n",
       "      <td>0.028079</td>\n",
       "      <td>0.033458</td>\n",
       "    </tr>\n",
       "    <tr>\n",
       "      <th>3</th>\n",
       "      <td>0.511023</td>\n",
       "      <td>0.494312</td>\n",
       "      <td>0.541675</td>\n",
       "    </tr>\n",
       "    <tr>\n",
       "      <th>4</th>\n",
       "      <td>0.253204</td>\n",
       "      <td>0.171869</td>\n",
       "      <td>0.198475</td>\n",
       "    </tr>\n",
       "    <tr>\n",
       "      <th>...</th>\n",
       "      <td>...</td>\n",
       "      <td>...</td>\n",
       "      <td>...</td>\n",
       "    </tr>\n",
       "    <tr>\n",
       "      <th>396661</th>\n",
       "      <td>0.075533</td>\n",
       "      <td>0.082100</td>\n",
       "      <td>0.057302</td>\n",
       "    </tr>\n",
       "    <tr>\n",
       "      <th>396662</th>\n",
       "      <td>0.211804</td>\n",
       "      <td>0.189149</td>\n",
       "      <td>0.276789</td>\n",
       "    </tr>\n",
       "    <tr>\n",
       "      <th>396663</th>\n",
       "      <td>0.285524</td>\n",
       "      <td>0.238477</td>\n",
       "      <td>0.274746</td>\n",
       "    </tr>\n",
       "    <tr>\n",
       "      <th>396664</th>\n",
       "      <td>0.043063</td>\n",
       "      <td>0.041125</td>\n",
       "      <td>0.043957</td>\n",
       "    </tr>\n",
       "    <tr>\n",
       "      <th>396665</th>\n",
       "      <td>0.065615</td>\n",
       "      <td>0.105247</td>\n",
       "      <td>0.024241</td>\n",
       "    </tr>\n",
       "  </tbody>\n",
       "</table>\n",
       "<p>396666 rows × 3 columns</p>\n",
       "</div>"
      ],
      "text/plain": [
       "           probs_catboost  probs_lightgbm  probs_lightgbm_cf\n",
       "key_value                                                   \n",
       "0                0.003797        0.003765           0.005564\n",
       "1                0.086857        0.079557           0.126402\n",
       "2                0.047736        0.028079           0.033458\n",
       "3                0.511023        0.494312           0.541675\n",
       "4                0.253204        0.171869           0.198475\n",
       "...                   ...             ...                ...\n",
       "396661           0.075533        0.082100           0.057302\n",
       "396662           0.211804        0.189149           0.276789\n",
       "396663           0.285524        0.238477           0.274746\n",
       "396664           0.043063        0.041125           0.043957\n",
       "396665           0.065615        0.105247           0.024241\n",
       "\n",
       "[396666 rows x 3 columns]"
      ]
     },
     "execution_count": 21,
     "metadata": {},
     "output_type": "execute_result"
    }
   ],
   "source": [
    "list_test_probs = []\n",
    "list_test_probs.append(pd.read_pickle('test_probs_catboost.pkl'))\n",
    "list_test_probs.append(pd.read_pickle('test_probs_lightgbm.pkl'))\n",
    "list_test_probs.append(pd.read_pickle('test_probs_lightgbm_cf.pkl'))\n",
    "# list_test_probs.append(pd.read_pickle('test_probs_lightgbm_cf_v2.pkl'))\n",
    "# list_test_probs.append(pd.read_pickle('test_probs_rnn.pkl'))\n",
    "# list_test_probs.append(pd.read_pickle('test_probs_randomforrest.pkl'))\n",
    "# list_test_probs.append(pd.read_pickle('test_probs_gbc.pkl'))\n",
    "test = pd.concat(list_test_probs, axis=1)\n",
    "test.columns = ['probs_catboost','probs_lightgbm','probs_lightgbm_cf']#,'probs_lightgbm_cf_v2','probs_randomforrest','probs_gbc']\n",
    "test"
   ]
  },
  {
   "cell_type": "code",
   "execution_count": 22,
   "id": "joined-owner",
   "metadata": {
    "scrolled": true
   },
   "outputs": [
    {
     "data": {
      "text/html": [
       "<div>\n",
       "<style scoped>\n",
       "    .dataframe tbody tr th:only-of-type {\n",
       "        vertical-align: middle;\n",
       "    }\n",
       "\n",
       "    .dataframe tbody tr th {\n",
       "        vertical-align: top;\n",
       "    }\n",
       "\n",
       "    .dataframe thead th {\n",
       "        text-align: right;\n",
       "    }\n",
       "</style>\n",
       "<table border=\"1\" class=\"dataframe\">\n",
       "  <thead>\n",
       "    <tr style=\"text-align: right;\">\n",
       "      <th></th>\n",
       "      <th>probs_catboost</th>\n",
       "      <th>probs_lightgbm</th>\n",
       "      <th>probs_lightgbm_cf</th>\n",
       "    </tr>\n",
       "  </thead>\n",
       "  <tbody>\n",
       "    <tr>\n",
       "      <th>probs_catboost</th>\n",
       "      <td>1.000000</td>\n",
       "      <td>0.974255</td>\n",
       "      <td>0.966506</td>\n",
       "    </tr>\n",
       "    <tr>\n",
       "      <th>probs_lightgbm</th>\n",
       "      <td>0.974255</td>\n",
       "      <td>1.000000</td>\n",
       "      <td>0.979399</td>\n",
       "    </tr>\n",
       "    <tr>\n",
       "      <th>probs_lightgbm_cf</th>\n",
       "      <td>0.966506</td>\n",
       "      <td>0.979399</td>\n",
       "      <td>1.000000</td>\n",
       "    </tr>\n",
       "  </tbody>\n",
       "</table>\n",
       "</div>"
      ],
      "text/plain": [
       "                   probs_catboost  probs_lightgbm  probs_lightgbm_cf\n",
       "probs_catboost           1.000000        0.974255           0.966506\n",
       "probs_lightgbm           0.974255        1.000000           0.979399\n",
       "probs_lightgbm_cf        0.966506        0.979399           1.000000"
      ]
     },
     "execution_count": 22,
     "metadata": {},
     "output_type": "execute_result"
    }
   ],
   "source": [
    "train.corr()"
   ]
  },
  {
   "cell_type": "code",
   "execution_count": 23,
   "id": "medieval-registrar",
   "metadata": {
    "scrolled": false
   },
   "outputs": [
    {
     "data": {
      "text/html": [
       "<div>\n",
       "<style scoped>\n",
       "    .dataframe tbody tr th:only-of-type {\n",
       "        vertical-align: middle;\n",
       "    }\n",
       "\n",
       "    .dataframe tbody tr th {\n",
       "        vertical-align: top;\n",
       "    }\n",
       "\n",
       "    .dataframe thead th {\n",
       "        text-align: right;\n",
       "    }\n",
       "</style>\n",
       "<table border=\"1\" class=\"dataframe\">\n",
       "  <thead>\n",
       "    <tr style=\"text-align: right;\">\n",
       "      <th></th>\n",
       "      <th>probs_catboost</th>\n",
       "      <th>probs_lightgbm</th>\n",
       "      <th>probs_lightgbm_cf</th>\n",
       "    </tr>\n",
       "  </thead>\n",
       "  <tbody>\n",
       "    <tr>\n",
       "      <th>probs_catboost</th>\n",
       "      <td>1.000000</td>\n",
       "      <td>0.989564</td>\n",
       "      <td>0.983691</td>\n",
       "    </tr>\n",
       "    <tr>\n",
       "      <th>probs_lightgbm</th>\n",
       "      <td>0.989564</td>\n",
       "      <td>1.000000</td>\n",
       "      <td>0.989030</td>\n",
       "    </tr>\n",
       "    <tr>\n",
       "      <th>probs_lightgbm_cf</th>\n",
       "      <td>0.983691</td>\n",
       "      <td>0.989030</td>\n",
       "      <td>1.000000</td>\n",
       "    </tr>\n",
       "  </tbody>\n",
       "</table>\n",
       "</div>"
      ],
      "text/plain": [
       "                   probs_catboost  probs_lightgbm  probs_lightgbm_cf\n",
       "probs_catboost           1.000000        0.989564           0.983691\n",
       "probs_lightgbm           0.989564        1.000000           0.989030\n",
       "probs_lightgbm_cf        0.983691        0.989030           1.000000"
      ]
     },
     "execution_count": 23,
     "metadata": {},
     "output_type": "execute_result"
    }
   ],
   "source": [
    "test.corr()"
   ]
  },
  {
   "cell_type": "code",
   "execution_count": 24,
   "id": "recovered-vinyl",
   "metadata": {
    "scrolled": true
   },
   "outputs": [
    {
     "data": {
      "image/png": "[encoded data removed]",
      "text/plain": [
       "<Figure size 432x288 with 1 Axes>"
      ]
     },
     "metadata": {
      "needs_background": "light"
     },
     "output_type": "display_data"
    }
   ],
   "source": [
    "plt.hist(np.std(train.values, axis=1));"
   ]
  },
  {
   "cell_type": "markdown",
   "id": "offensive-topic",
   "metadata": {},
   "source": [
    "### Entrenando el modelo final"
   ]
  },
  {
   "cell_type": "code",
   "execution_count": 25,
   "id": "strong-wilderness",
   "metadata": {},
   "outputs": [
    {
     "name": "stdout",
     "output_type": "stream",
     "text": [
      "LogisticRegression(C=1.0, class_weight=None, dual=False, fit_intercept=True,\n",
      "                   intercept_scaling=1, l1_ratio=None, max_iter=100,\n",
      "                   multi_class='auto', n_jobs=None, penalty='l2',\n",
      "                   random_state=42, solver='newton-cg', tol=0.0001, verbose=0,\n",
      "                   warm_start=False)\n"
     ]
    }
   ],
   "source": [
    "from sklearn.linear_model import LogisticRegression\n",
    "### definir los parametros a tunear\n",
    "Cs = [0.1, 0.3, 0.8, 0.9, 1.0]\n",
    "# https://neurtu.readthedocs.io/examples/logistic_regression_scaling.html\n",
    "solvers = ['lbfgs','saga','newton-cg'] # newton-cg, sag, lbfgs, liblinear, saga\n",
    "param_grid = {'C': Cs,'solver':solvers}\n",
    "### encontrando los hiper_parámetros\n",
    "fitting=grid_search_param(train, y_train.target, 5,param_grid, LogisticRegression(penalty=\"l2\", tol=0.0001, random_state=42), scoring='roc_auc')\n",
    "### instanciar el estimador\n",
    "estimator = fitting.best_estimator_\n",
    "print(estimator)\n",
    "### aplicar cross_validate y learning_rate \n",
    "# cross_validate_learning_rate(estimator, train, y_train, scoring='roc_auc')"
   ]
  },
  {
   "cell_type": "code",
   "execution_count": 26,
   "id": "expanded-excellence",
   "metadata": {
    "scrolled": true
   },
   "outputs": [
    {
     "name": "stdout",
     "output_type": "stream",
     "text": [
      "train_scores: 0.8483484298562001\n",
      "test_scores: 0.8483317744442684\n"
     ]
    },
    {
     "data": {
      "image/png": "[encoded data removed]",
      "text/plain": [
       "<Figure size 432x288 with 1 Axes>"
      ]
     },
     "metadata": {
      "needs_background": "light"
     },
     "output_type": "display_data"
    }
   ],
   "source": [
    "### aplicar cross_validate y learning_rate \n",
    "cross_validate_learning_rate(estimator, train, y_train.target, scoring='roc_auc')"
   ]
  },
  {
   "cell_type": "code",
   "execution_count": 27,
   "id": "artistic-springer",
   "metadata": {},
   "outputs": [
    {
     "data": {
      "text/plain": [
       "LogisticRegression(C=1.0, class_weight=None, dual=False, fit_intercept=True,\n",
       "                   intercept_scaling=1, l1_ratio=None, max_iter=100,\n",
       "                   multi_class='auto', n_jobs=None, penalty='l2',\n",
       "                   random_state=42, solver='newton-cg', tol=0.0001, verbose=0,\n",
       "                   warm_start=False)"
      ]
     },
     "execution_count": 27,
     "metadata": {},
     "output_type": "execute_result"
    }
   ],
   "source": [
    "estimator.fit(train, y_train.target)"
   ]
  },
  {
   "cell_type": "code",
   "execution_count": 28,
   "id": "related-prevention",
   "metadata": {
    "scrolled": true
   },
   "outputs": [
    {
     "data": {
      "text/plain": [
       "key_value\n",
       "0         0.046014\n",
       "1         0.082324\n",
       "2         0.055641\n",
       "3         0.590789\n",
       "4         0.150503\n",
       "            ...   \n",
       "396661    0.070329\n",
       "396662    0.173205\n",
       "396663    0.211376\n",
       "396664    0.058551\n",
       "396665    0.068611\n",
       "Name: target, Length: 396666, dtype: float64"
      ]
     },
     "execution_count": 28,
     "metadata": {},
     "output_type": "execute_result"
    }
   ],
   "source": [
    "test_stacking = pd.Series(estimator.predict_proba(test)[:,-1], index=test.index, name = 'target')\n",
    "test_stacking"
   ]
  },
  {
   "cell_type": "code",
   "execution_count": 29,
   "id": "noted-strand",
   "metadata": {},
   "outputs": [],
   "source": [
    "test_stacking.to_csv(\"../results/stacking_3models_CB_LGBM2_0.84833.csv\") ### score de 0.84992 en la tabla publica\n",
    "# test_stacking.to_csv(\"../results/stacking_2models_CB_LGBM_0.84721.csv\") ### score de 0.84882 en la tabla publica"
   ]
  }
 ],
 "metadata": {
  "kernelspec": {
   "display_name": "Python 3",
   "language": "python",
   "name": "python3"
  },
  "language_info": {
   "codemirror_mode": {
    "name": "ipython",
    "version": 3
   },
   "file_extension": ".py",
   "mimetype": "text/x-python",
   "name": "python",
   "nbconvert_exporter": "python",
   "pygments_lexer": "ipython3",
   "version": "3.8.5"
  }
 },
 "nbformat": 4,
 "nbformat_minor": 5
}
