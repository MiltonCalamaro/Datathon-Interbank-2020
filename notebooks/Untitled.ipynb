{
 "cells": [
  {
   "cell_type": "code",
   "execution_count": 1,
   "metadata": {},
   "outputs": [],
   "source": [
    "import pandas as pd\n",
    "import gc"
   ]
  },
  {
   "cell_type": "code",
   "execution_count": 36,
   "metadata": {},
   "outputs": [],
   "source": [
    "# sunat_train = pd.read_csv('../data/sunat_train.csv')\n",
    "rcc_train = pd.read_csv('../data/rcc_train.csv')\n",
    "se_train = pd.read_csv('../data/se_train.csv', index_col = 'key_value')\n",
    "censo_train = pd.read_csv('../data/censo_train.csv', index_col = 'key_value')\n",
    "y_train = pd.read_csv('../data/y_train.csv', index_col = 'key_value')\n",
    "\n",
    "# sunat_test = pd.read_csv('../data/sunat_test.csv')\n",
    "rcc_test = pd.read_csv('../data/rcc_test.csv')\n",
    "se_test = pd.read_csv('../data/se_test.csv', index_col = 'key_value')\n",
    "censo_test = pd.read_csv('../data/censo_test.csv', index_col = 'key_value')\n",
    "sample_submision = pd.read_csv('../data/sample_submission.csv', index_col = 'key_value')"
   ]
  },
  {
   "cell_type": "code",
   "execution_count": 3,
   "metadata": {},
   "outputs": [],
   "source": [
    "### se puede observar que en el rcc_train aquellos clientes que tienen un solo registro, es porque se refiere al ultimo\n",
    "### periodo de la data de train que es del febrero del 2018, cuyo RIESGO_DIRECTO es 1 y COD_CLASIFICACION_DEUDOR es 0 \n",
    "### su condicion (días de atraso) es 0 siendo estos cerca de 623 clientes. Pero OJO el 9% de los nuevos clientes tienen un target igual a 1\n",
    "\n",
    "### el target de la data train representa el score crediticio al febrero del 2018 \n",
    "### por lo que se sobre-entiende que lo que se quiere predecir es el score crediticio al febrero del 2019\n",
    "\n",
    "### La data train abarca desde 201703 hasta 201802\n",
    "### La data test comprende desde 201803 hasta 201902\n",
    "### Los primeros registros de los clientes tienen un RIESGO DIRECTO de 1 ***\n",
    "\n",
    "### La distribucion del target general es de 16% para 1 y 84% para los 0\n",
    "### A mayor COD_CLASIFICACION_DEUDOR y codmes mes cercano, el target se aproxima a 1. Ejm COD_CLASIFICACION_DEUDOR=5 y codmes=201802\n",
    "### el target esta representado por el 97% de 1 y 3% de cero "
   ]
  },
  {
   "cell_type": "code",
   "execution_count": null,
   "metadata": {},
   "outputs": [],
   "source": [
    "### condicion, saldo   ..... son variables cuantitativas\n",
    "### tipo_credito en train no tiene la clase de 7 como en el test, pero este tiene solo 1 valor (8 clases) ### Frecuencia 11\n",
    "### cod_instit_financiera , 12 clases más se encuentran en el train que en el test (mas de 100 clases) ### Frecuencia 34 ----\n",
    "### PRODUCTO, el train tiene la clase 255 y el test no (42 clases) ### Frecuencia 1  ----\n",
    "### RIESGO_DIRECTO es lo mismo , es lo mismo en el test y en el train (5 clases) ### Frecuencia -1\n",
    "### COD_CLASIFICACION_DEUDOR , es lo mismo en el test y en el train (6 clases) ### Frecuencia 0\n",
    "### en el rcc_test, faltan valores en la columma de cod_instit_financiera y producto"
   ]
  },
  {
   "cell_type": "code",
   "execution_count": null,
   "metadata": {},
   "outputs": [],
   "source": [
    "# rcc_train_class_deudor =rcc_train.groupby(['key_value','codmes', \"COD_CLASIFICACION_DEUDOR\"]).saldo.sum().unstack(level = 2, fill_value=0).reset_index().set_index(\"key_value\")\n",
    "# rcc_train_class_deudor.columns = [\"class_deudor_\" + str(c) if c != \"codmes\" else c for c in rcc_train_class_deudor.columns ]\n",
    "# rcc_train_class_deudor"
   ]
  },
  {
   "cell_type": "code",
   "execution_count": 3,
   "metadata": {},
   "outputs": [],
   "source": [
    "import statistics as stat\n",
    "import numpy as np\n",
    "def calculate_mode(x):\n",
    "    try:\n",
    "        moda=stat.mode(x)\n",
    "    except:\n",
    "        moda=np.nan\n",
    "    return moda"
   ]
  },
  {
   "cell_type": "code",
   "execution_count": 4,
   "metadata": {},
   "outputs": [
    {
     "data": {
      "application/vnd.jupyter.widget-view+json": {
       "model_id": "2ce0d4bc8e0f4d76a026d34edd185906",
       "version_major": 2,
       "version_minor": 0
      },
      "text/plain": [
       "HBox(children=(FloatProgress(value=0.0, max=12.0), HTML(value='')))"
      ]
     },
     "metadata": {},
     "output_type": "display_data"
    },
    {
     "name": "stdout",
     "output_type": "stream",
     "text": [
      "\n"
     ]
    }
   ],
   "source": [
    "from tqdm.notebook import tqdm \n",
    "moda=lambda x: calculate_mode(x)\n",
    "moda.__name__='mode'\n",
    "agg_rcc = {'saldo':['sum','std'],\n",
    "           'condicion':['sum','max','std'],\n",
    "           'tipo_credito':['nunique', moda],\n",
    "           'cod_instit_financiera':['nunique',moda],\n",
    "           'PRODUCTO':['nunique',moda],\n",
    "           'RIESGO_DIRECTO':['nunique',moda],\n",
    "            'COD_CLASIFICACION_DEUDOR':['nunique','max',moda]\n",
    "          }\n",
    "list_rcc_train_agg = []\n",
    "for n,i in enumerate(tqdm(sorted(set(rcc_train.codmes),reverse=True))):\n",
    "    rcc_train_agg = rcc_train[rcc_train.codmes>=i].groupby('key_value').agg(agg_rcc)\n",
    "    rcc_train_agg.columns = [i+'_'+j+f'_ult{n+1}mes' for i,j in rcc_train_agg.columns]\n",
    "    list_rcc_train_agg.append(rcc_train_agg)\n",
    "del rcc_train, list_rcc_train_agg"
   ]
  },
  {
   "cell_type": "code",
   "execution_count": 5,
   "metadata": {},
   "outputs": [
    {
     "data": {
      "application/vnd.jupyter.widget-view+json": {
       "model_id": "46d27f3118b94e0893243488a1dff4ec",
       "version_major": 2,
       "version_minor": 0
      },
      "text/plain": [
       "HBox(children=(FloatProgress(value=0.0, max=12.0), HTML(value='')))"
      ]
     },
     "metadata": {},
     "output_type": "display_data"
    },
    {
     "name": "stdout",
     "output_type": "stream",
     "text": [
      "\n"
     ]
    }
   ],
   "source": [
    "list_rcc_test_agg = []\n",
    "for n,i in enumerate(tqdm(sorted(set(rcc_test.codmes),reverse=True))):\n",
    "    rcc_test_agg = rcc_test[rcc_test.codmes>=i].groupby('key_value').agg(agg_rcc)\n",
    "    rcc_test_agg.columns = [i+'_'+j+f'_ult{n+1}mes' for i,j in rcc_test_agg.columns]\n",
    "    list_rcc_test_agg.append(rcc_test_agg)\n",
    "del rcc_test, list_rcc_test_agg"
   ]
  },
  {
   "cell_type": "code",
   "execution_count": 37,
   "metadata": {},
   "outputs": [],
   "source": [
    "train = rcc_train_.join(censo_train).join(se_train)\n",
    "test = rcc_test_.join(censo_test).join(se_test)"
   ]
  },
  {
   "cell_type": "code",
   "execution_count": null,
   "metadata": {},
   "outputs": [],
   "source": [
    "# rcc_test_ = pd.concat(list_rcc_test_agg, axis=1)\n",
    "# for i in rcc_test_.columns:\n",
    "#     if 'RIESGO_DIRECTO_unique' in i:\n",
    "#         print(i)\n",
    "#         rcc_test_[i] = rcc_test_[i].apply(lambda x: len(x))\n",
    "# rcc_test_.rename(columns = dict_, inplace = True)"
   ]
  },
  {
   "cell_type": "code",
   "execution_count": 39,
   "metadata": {},
   "outputs": [
    {
     "data": {
      "text/plain": [
       "(0, 0)"
      ]
     },
     "execution_count": 39,
     "metadata": {},
     "output_type": "execute_result"
    }
   ],
   "source": [
    "keep_cols = list(set(train.columns).intersection(set(test.columns)))\n",
    "train = train[keep_cols]\n",
    "test = test[keep_cols]\n",
    "len(set(train.columns) - set(test.columns)) , len(set(test.columns) - set(train.columns))"
   ]
  },
  {
   "cell_type": "code",
   "execution_count": 42,
   "metadata": {},
   "outputs": [],
   "source": [
    "import re\n",
    "test = test.rename(columns = lambda x:re.sub('[^A-Za-z0-9_-]+', '', x))\n",
    "train = train.rename(columns = lambda x:re.sub('[^A-Za-z0-9_-]+', '', x))"
   ]
  },
  {
   "cell_type": "code",
   "execution_count": 43,
   "metadata": {},
   "outputs": [],
   "source": [
    "#Función para obtener variables con alta correlación\n",
    "def get_correlated(data, cut=0.85):\n",
    "    correlated_features = set()\n",
    "    correlation_matrix = data.corr()\n",
    "    \n",
    "    for i in range(len(correlation_matrix .columns)):\n",
    "        for j in range(i):\n",
    "            if abs(correlation_matrix.iloc[i, j]) > cut:\n",
    "                colname = correlation_matrix.columns[i]\n",
    "                correlated_features.add(colname)\n",
    "            \n",
    "    return correlated_features "
   ]
  },
  {
   "cell_type": "code",
   "execution_count": 44,
   "metadata": {},
   "outputs": [
    {
     "data": {
      "text/plain": [
       "(358487, 461)"
      ]
     },
     "execution_count": 44,
     "metadata": {},
     "output_type": "execute_result"
    }
   ],
   "source": [
    "train.shape"
   ]
  },
  {
   "cell_type": "code",
   "execution_count": 45,
   "metadata": {},
   "outputs": [],
   "source": [
    "correlated=get_correlated(train,cut=0.9)\n",
    "train=train.drop(columns=correlated)\n",
    "test= test.drop(columns=correlated)"
   ]
  },
  {
   "cell_type": "code",
   "execution_count": 48,
   "metadata": {},
   "outputs": [
    {
     "data": {
      "text/plain": [
       "tipo_credito_mode_ult7mes                   3598\n",
       "cod_instit_financiera_nunique_ult12mes         0\n",
       "condicion_max_ult12mes                         0\n",
       "mattec2                                   205348\n",
       "nhogares                                  205348\n",
       "                                           ...  \n",
       "lanten                                    205348\n",
       "ctd_veh                                       59\n",
       "pred                                      205348\n",
       "matpar8                                   205348\n",
       "lee_no                                    205348\n",
       "Length: 162, dtype: int64"
      ]
     },
     "execution_count": 48,
     "metadata": {},
     "output_type": "execute_result"
    }
   ],
   "source": [
    "train.isna().sum()"
   ]
  },
  {
   "cell_type": "code",
   "execution_count": 49,
   "metadata": {},
   "outputs": [
    {
     "data": {
      "text/html": [
       "<style type='text/css'>\n",
       ".datatable table.frame { margin-bottom: 0; }\n",
       ".datatable table.frame thead { border-bottom: none; }\n",
       ".datatable table.frame tr.coltypes td {  color: #FFFFFF;  line-height: 6px;  padding: 0 0.5em;}\n",
       ".datatable .bool    { background: #DDDD99; }\n",
       ".datatable .object  { background: #565656; }\n",
       ".datatable .int     { background: #5D9E5D; }\n",
       ".datatable .float   { background: #4040CC; }\n",
       ".datatable .str     { background: #CC4040; }\n",
       ".datatable .row_index {  background: var(--jp-border-color3);  border-right: 1px solid var(--jp-border-color0);  color: var(--jp-ui-font-color3);  font-size: 9px;}\n",
       ".datatable .frame tr.coltypes .row_index {  background: var(--jp-border-color0);}\n",
       ".datatable th:nth-child(2) { padding-left: 12px; }\n",
       ".datatable .hellipsis {  color: var(--jp-cell-editor-border-color);}\n",
       ".datatable .vellipsis {  background: var(--jp-layout-color0);  color: var(--jp-cell-editor-border-color);}\n",
       ".datatable .na {  color: var(--jp-cell-editor-border-color);  font-size: 80%;}\n",
       ".datatable .footer { font-size: 9px; }\n",
       ".datatable .frame_dimensions {  background: var(--jp-border-color3);  border-top: 1px solid var(--jp-border-color0);  color: var(--jp-ui-font-color3);  display: inline-block;  opacity: 0.6;  padding: 1px 10px 1px 5px;}\n",
       ".datatable .frame thead tr.colnames {  background-image: url('data:image/png;base64,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');  background-repeat: repeat-x;  background-size: 14px;  height: 28px;}\n",
       "</style>\n"
      ],
      "text/plain": [
       "<IPython.core.display.HTML object>"
      ]
     },
     "metadata": {},
     "output_type": "display_data"
    },
    {
     "name": "stdout",
     "output_type": "stream",
     "text": [
      "********** 0 **********\n"
     ]
    },
    {
     "name": "stderr",
     "output_type": "stream",
     "text": [
      "/opt/conda/lib/python3.7/site-packages/sklearn/utils/validation.py:72: DataConversionWarning: A column-vector y was passed when a 1d array was expected. Please change the shape of y to (n_samples, ), for example using ravel().\n",
      "  return f(**kwargs)\n"
     ]
    },
    {
     "name": "stdout",
     "output_type": "stream",
     "text": [
      "Training until validation scores don't improve for 10 rounds\n",
      "[50]\ttraining's auc: 0.845178\ttraining's binary_logloss: 0.300248\tvalid_1's auc: 0.842685\tvalid_1's binary_logloss: 0.304199\n",
      "[100]\ttraining's auc: 0.858044\ttraining's binary_logloss: 0.291546\tvalid_1's auc: 0.847195\tvalid_1's binary_logloss: 0.30023\n",
      "Early stopping, best iteration is:\n",
      "[105]\ttraining's auc: 0.859069\ttraining's binary_logloss: 0.2909\tvalid_1's auc: 0.847376\tvalid_1's binary_logloss: 0.300089\n",
      "********** 1 **********\n",
      "Training until validation scores don't improve for 10 rounds\n",
      "[50]\ttraining's auc: 0.846145\ttraining's binary_logloss: 0.300028\tvalid_1's auc: 0.839773\tvalid_1's binary_logloss: 0.3045\n",
      "[100]\ttraining's auc: 0.858301\ttraining's binary_logloss: 0.291538\tvalid_1's auc: 0.844217\tvalid_1's binary_logloss: 0.300659\n",
      "[150]\ttraining's auc: 0.867475\ttraining's binary_logloss: 0.285932\tvalid_1's auc: 0.844896\tvalid_1's binary_logloss: 0.299992\n",
      "Early stopping, best iteration is:\n",
      "[189]\ttraining's auc: 0.873351\ttraining's binary_logloss: 0.281945\tvalid_1's auc: 0.845601\tvalid_1's binary_logloss: 0.299414\n",
      "********** 2 **********\n",
      "Training until validation scores don't improve for 10 rounds\n",
      "[50]\ttraining's auc: 0.84524\ttraining's binary_logloss: 0.300665\tvalid_1's auc: 0.843744\tvalid_1's binary_logloss: 0.301981\n",
      "[100]\ttraining's auc: 0.85785\ttraining's binary_logloss: 0.292118\tvalid_1's auc: 0.847951\tvalid_1's binary_logloss: 0.298164\n",
      "[150]\ttraining's auc: 0.867034\ttraining's binary_logloss: 0.286373\tvalid_1's auc: 0.848576\tvalid_1's binary_logloss: 0.297484\n",
      "Early stopping, best iteration is:\n",
      "[143]\ttraining's auc: 0.865862\ttraining's binary_logloss: 0.287098\tvalid_1's auc: 0.848641\tvalid_1's binary_logloss: 0.29747\n",
      "********** 3 **********\n",
      "Training until validation scores don't improve for 10 rounds\n",
      "[50]\ttraining's auc: 0.845585\ttraining's binary_logloss: 0.300429\tvalid_1's auc: 0.841049\tvalid_1's binary_logloss: 0.303131\n",
      "[100]\ttraining's auc: 0.858485\ttraining's binary_logloss: 0.291695\tvalid_1's auc: 0.845684\tvalid_1's binary_logloss: 0.299266\n",
      "[150]\ttraining's auc: 0.86822\ttraining's binary_logloss: 0.28583\tvalid_1's auc: 0.846414\tvalid_1's binary_logloss: 0.298568\n",
      "[200]\ttraining's auc: 0.875294\ttraining's binary_logloss: 0.281194\tvalid_1's auc: 0.846877\tvalid_1's binary_logloss: 0.298178\n",
      "Early stopping, best iteration is:\n",
      "[199]\ttraining's auc: 0.875064\ttraining's binary_logloss: 0.281309\tvalid_1's auc: 0.846911\tvalid_1's binary_logloss: 0.298161\n",
      "********** 4 **********\n",
      "Training until validation scores don't improve for 10 rounds\n",
      "[50]\ttraining's auc: 0.847873\ttraining's binary_logloss: 0.29972\tvalid_1's auc: 0.8332\tvalid_1's binary_logloss: 0.305491\n",
      "[100]\ttraining's auc: 0.859958\ttraining's binary_logloss: 0.291071\tvalid_1's auc: 0.837677\tvalid_1's binary_logloss: 0.301651\n",
      "[150]\ttraining's auc: 0.869221\ttraining's binary_logloss: 0.28548\tvalid_1's auc: 0.838326\tvalid_1's binary_logloss: 0.301039\n",
      "Early stopping, best iteration is:\n",
      "[188]\ttraining's auc: 0.875143\ttraining's binary_logloss: 0.281575\tvalid_1's auc: 0.838965\tvalid_1's binary_logloss: 0.300566\n",
      "*********************\n",
      "roc auc estimado:  0.8455115202829488\n"
     ]
    }
   ],
   "source": [
    "from lightgbm import LGBMClassifier\n",
    "from sklearn.metrics import roc_auc_score\n",
    "from sklearn.model_selection import KFold\n",
    "\n",
    "folds = [train.index[t] for t, v in KFold(5).split(train)]\n",
    "test_probs = []\n",
    "train_probs = []\n",
    "fi = []\n",
    "for i, idx in enumerate(folds):\n",
    "    print(\"*\"*10, i, \"*\"*10)\n",
    "    Xt = train.loc[idx]\n",
    "    yt = y_train.loc[Xt.index]\n",
    "\n",
    "    Xv = train.drop(Xt.index)\n",
    "    yv = y_train.loc[Xv.index]\n",
    "    \n",
    "    learner = LGBMClassifier(n_estimators=1000)\n",
    "    learner.fit(Xt, yt,  early_stopping_rounds=10, eval_metric=\"auc\",\n",
    "                eval_set=[(Xt, yt), (Xv, yv)], verbose=50)\n",
    "    test_probs.append(pd.Series(learner.predict_proba(test)[:, -1], index=test.index, name=\"fold_\" + str(i)))\n",
    "    train_probs.append(pd.Series(learner.predict_proba(Xv)[:, -1], index=Xv.index, name=\"probs\"))\n",
    "    fi.append(pd.Series(learner.feature_importances_ / learner.feature_importances_.sum(), index=Xt.columns))\n",
    "          \n",
    "test_probs = pd.concat(test_probs, axis=1).mean(axis=1)\n",
    "train_probs = pd.concat(train_probs)\n",
    "fi = pd.concat(fi, axis=1).mean(axis=1)\n",
    "\n",
    "print(\"*\" * 21)\n",
    "print(\"roc auc estimado: \", roc_auc_score(y_train, train_probs.loc[y_train.index]))"
   ]
  },
  {
   "cell_type": "code",
   "execution_count": 50,
   "metadata": {},
   "outputs": [
    {
     "data": {
      "text/html": [
       "<div>\n",
       "<style scoped>\n",
       "    .dataframe tbody tr th:only-of-type {\n",
       "        vertical-align: middle;\n",
       "    }\n",
       "\n",
       "    .dataframe tbody tr th {\n",
       "        vertical-align: top;\n",
       "    }\n",
       "\n",
       "    .dataframe thead th {\n",
       "        text-align: right;\n",
       "    }\n",
       "</style>\n",
       "<table border=\"1\" class=\"dataframe\">\n",
       "  <thead>\n",
       "    <tr style=\"text-align: right;\">\n",
       "      <th></th>\n",
       "      <th>0</th>\n",
       "    </tr>\n",
       "  </thead>\n",
       "  <tbody>\n",
       "    <tr>\n",
       "      <th>cod_instit_financiera_mode_ult6mes</th>\n",
       "      <td>0.067213</td>\n",
       "    </tr>\n",
       "    <tr>\n",
       "      <th>saldo_sum_ult11mes</th>\n",
       "      <td>0.059623</td>\n",
       "    </tr>\n",
       "    <tr>\n",
       "      <th>saldo_std_ult1mes</th>\n",
       "      <td>0.047170</td>\n",
       "    </tr>\n",
       "    <tr>\n",
       "      <th>cod_instit_financiera_nunique_ult12mes</th>\n",
       "      <td>0.045086</td>\n",
       "    </tr>\n",
       "    <tr>\n",
       "      <th>edad</th>\n",
       "      <td>0.043799</td>\n",
       "    </tr>\n",
       "    <tr>\n",
       "      <th>...</th>\n",
       "      <td>...</td>\n",
       "    </tr>\n",
       "    <tr>\n",
       "      <th>pagagu3</th>\n",
       "      <td>0.000000</td>\n",
       "    </tr>\n",
       "    <tr>\n",
       "      <th>mattec8</th>\n",
       "      <td>0.000000</td>\n",
       "    </tr>\n",
       "    <tr>\n",
       "      <th>matpis7</th>\n",
       "      <td>0.000000</td>\n",
       "    </tr>\n",
       "    <tr>\n",
       "      <th>pagagu2</th>\n",
       "      <td>0.000000</td>\n",
       "    </tr>\n",
       "    <tr>\n",
       "      <th>abaagu6</th>\n",
       "      <td>0.000000</td>\n",
       "    </tr>\n",
       "  </tbody>\n",
       "</table>\n",
       "<p>162 rows × 1 columns</p>\n",
       "</div>"
      ],
      "text/plain": [
       "                                               0\n",
       "cod_instit_financiera_mode_ult6mes      0.067213\n",
       "saldo_sum_ult11mes                      0.059623\n",
       "saldo_std_ult1mes                       0.047170\n",
       "cod_instit_financiera_nunique_ult12mes  0.045086\n",
       "edad                                    0.043799\n",
       "...                                          ...\n",
       "pagagu3                                 0.000000\n",
       "mattec8                                 0.000000\n",
       "matpis7                                 0.000000\n",
       "pagagu2                                 0.000000\n",
       "abaagu6                                 0.000000\n",
       "\n",
       "[162 rows x 1 columns]"
      ]
     },
     "execution_count": 50,
     "metadata": {},
     "output_type": "execute_result"
    }
   ],
   "source": [
    "fi.sort_values(ascending=False).to_frame()"
   ]
  },
  {
   "cell_type": "code",
   "execution_count": 51,
   "metadata": {},
   "outputs": [],
   "source": [
    "test_probs.name = \"target\"\n",
    "test_probs.to_csv(\"test1.csv\")"
   ]
  },
  {
   "cell_type": "markdown",
   "metadata": {},
   "source": [
    "### Probando con CatBoost"
   ]
  },
  {
   "cell_type": "code",
   "execution_count": 59,
   "metadata": {},
   "outputs": [
    {
     "name": "stdout",
     "output_type": "stream",
     "text": [
      "********** 0 **********\n",
      "Learning rate set to 0.128212\n",
      "0:\ttest: 0.7550204\ttest1: 0.7637180\tbest: 0.7637180 (0)\ttotal: 134ms\tremaining: 2m 14s\n",
      "50:\ttest: 0.8348013\ttest1: 0.8365475\tbest: 0.8365475 (50)\ttotal: 8.51s\tremaining: 2m 38s\n",
      "100:\ttest: 0.8429696\ttest1: 0.8427612\tbest: 0.8427612 (100)\ttotal: 16.7s\tremaining: 2m 28s\n",
      "150:\ttest: 0.8478433\ttest1: 0.8458935\tbest: 0.8458935 (150)\ttotal: 24.5s\tremaining: 2m 17s\n",
      "200:\ttest: 0.8511124\ttest1: 0.8472869\tbest: 0.8472869 (200)\ttotal: 31.9s\tremaining: 2m 6s\n",
      "250:\ttest: 0.8539636\ttest1: 0.8482192\tbest: 0.8482192 (250)\ttotal: 39.4s\tremaining: 1m 57s\n",
      "300:\ttest: 0.8562315\ttest1: 0.8488041\tbest: 0.8488041 (300)\ttotal: 46.8s\tremaining: 1m 48s\n",
      "Stopped by overfitting detector  (10 iterations wait)\n",
      "\n",
      "bestTest = 0.8492821952\n",
      "bestIteration = 334\n",
      "\n",
      "Shrink model to first 335 iterations.\n",
      "********** 1 **********\n",
      "Learning rate set to 0.128212\n",
      "0:\ttest: 0.7572985\ttest1: 0.7561405\tbest: 0.7561405 (0)\ttotal: 131ms\tremaining: 2m 10s\n",
      "50:\ttest: 0.8360436\ttest1: 0.8327414\tbest: 0.8327414 (50)\ttotal: 8.5s\tremaining: 2m 38s\n",
      "100:\ttest: 0.8441332\ttest1: 0.8393231\tbest: 0.8393231 (100)\ttotal: 16.7s\tremaining: 2m 28s\n",
      "150:\ttest: 0.8487758\ttest1: 0.8427381\tbest: 0.8427381 (150)\ttotal: 24.4s\tremaining: 2m 17s\n",
      "200:\ttest: 0.8520444\ttest1: 0.8442956\tbest: 0.8442974 (199)\ttotal: 31.7s\tremaining: 2m 6s\n",
      "250:\ttest: 0.8545115\ttest1: 0.8451693\tbest: 0.8451841 (248)\ttotal: 39s\tremaining: 1m 56s\n",
      "300:\ttest: 0.8572494\ttest1: 0.8460973\tbest: 0.8461047 (299)\ttotal: 46.4s\tremaining: 1m 47s\n",
      "350:\ttest: 0.8593181\ttest1: 0.8464024\tbest: 0.8464313 (347)\ttotal: 53.6s\tremaining: 1m 39s\n",
      "400:\ttest: 0.8615378\ttest1: 0.8470997\tbest: 0.8470997 (400)\ttotal: 1m\tremaining: 1m 31s\n",
      "Stopped by overfitting detector  (10 iterations wait)\n",
      "\n",
      "bestTest = 0.8473817994\n",
      "bestIteration = 432\n",
      "\n",
      "Shrink model to first 433 iterations.\n",
      "********** 2 **********\n",
      "Learning rate set to 0.128212\n",
      "0:\ttest: 0.7594293\ttest1: 0.7687187\tbest: 0.7687187 (0)\ttotal: 136ms\tremaining: 2m 16s\n",
      "50:\ttest: 0.8349033\ttest1: 0.8372826\tbest: 0.8372826 (50)\ttotal: 8.49s\tremaining: 2m 38s\n",
      "100:\ttest: 0.8430015\ttest1: 0.8433041\tbest: 0.8433041 (100)\ttotal: 16.7s\tremaining: 2m 28s\n",
      "150:\ttest: 0.8477324\ttest1: 0.8461536\tbest: 0.8461536 (150)\ttotal: 24.3s\tremaining: 2m 16s\n",
      "200:\ttest: 0.8509542\ttest1: 0.8476622\tbest: 0.8476661 (195)\ttotal: 31.7s\tremaining: 2m 6s\n",
      "250:\ttest: 0.8539239\ttest1: 0.8487899\tbest: 0.8487899 (250)\ttotal: 39.4s\tremaining: 1m 57s\n",
      "300:\ttest: 0.8563121\ttest1: 0.8493845\tbest: 0.8494120 (298)\ttotal: 46.7s\tremaining: 1m 48s\n",
      "350:\ttest: 0.8586260\ttest1: 0.8497453\tbest: 0.8497453 (350)\ttotal: 54.1s\tremaining: 1m 39s\n",
      "Stopped by overfitting detector  (10 iterations wait)\n",
      "\n",
      "bestTest = 0.8499429501\n",
      "bestIteration = 355\n",
      "\n",
      "Shrink model to first 356 iterations.\n",
      "********** 3 **********\n",
      "Learning rate set to 0.128212\n",
      "0:\ttest: 0.7757861\ttest1: 0.7784900\tbest: 0.7784900 (0)\ttotal: 144ms\tremaining: 2m 23s\n",
      "50:\ttest: 0.8356162\ttest1: 0.8340078\tbest: 0.8340078 (50)\ttotal: 8.49s\tremaining: 2m 37s\n",
      "100:\ttest: 0.8432198\ttest1: 0.8400870\tbest: 0.8400870 (100)\ttotal: 16.6s\tremaining: 2m 27s\n",
      "150:\ttest: 0.8480178\ttest1: 0.8432092\tbest: 0.8432092 (150)\ttotal: 24.3s\tremaining: 2m 16s\n",
      "200:\ttest: 0.8513406\ttest1: 0.8447336\tbest: 0.8447336 (200)\ttotal: 31.9s\tremaining: 2m 6s\n",
      "250:\ttest: 0.8539463\ttest1: 0.8455954\tbest: 0.8456012 (248)\ttotal: 38.9s\tremaining: 1m 56s\n",
      "300:\ttest: 0.8568419\ttest1: 0.8465848\tbest: 0.8465871 (299)\ttotal: 46.4s\tremaining: 1m 47s\n",
      "350:\ttest: 0.8591012\ttest1: 0.8469832\tbest: 0.8469926 (349)\ttotal: 53.6s\tremaining: 1m 39s\n",
      "400:\ttest: 0.8612029\ttest1: 0.8472688\tbest: 0.8472688 (400)\ttotal: 1m\tremaining: 1m 30s\n",
      "Stopped by overfitting detector  (10 iterations wait)\n",
      "\n",
      "bestTest = 0.8472775751\n",
      "bestIteration = 402\n",
      "\n",
      "Shrink model to first 403 iterations.\n",
      "********** 4 **********\n",
      "Learning rate set to 0.128212\n",
      "0:\ttest: 0.7631891\ttest1: 0.7460296\tbest: 0.7460296 (0)\ttotal: 136ms\tremaining: 2m 15s\n",
      "50:\ttest: 0.8377291\ttest1: 0.8275701\tbest: 0.8275701 (50)\ttotal: 8.49s\tremaining: 2m 38s\n",
      "100:\ttest: 0.8456889\ttest1: 0.8340228\tbest: 0.8340228 (100)\ttotal: 16.7s\tremaining: 2m 28s\n",
      "150:\ttest: 0.8508170\ttest1: 0.8374491\tbest: 0.8374491 (150)\ttotal: 24.5s\tremaining: 2m 17s\n",
      "200:\ttest: 0.8538776\ttest1: 0.8389720\tbest: 0.8389720 (200)\ttotal: 31.9s\tremaining: 2m 6s\n",
      "250:\ttest: 0.8567172\ttest1: 0.8398233\tbest: 0.8398233 (250)\ttotal: 39.3s\tremaining: 1m 57s\n",
      "300:\ttest: 0.8592069\ttest1: 0.8403336\tbest: 0.8403495 (298)\ttotal: 46.6s\tremaining: 1m 48s\n",
      "350:\ttest: 0.8612261\ttest1: 0.8407608\tbest: 0.8407790 (349)\ttotal: 53.7s\tremaining: 1m 39s\n",
      "Stopped by overfitting detector  (10 iterations wait)\n",
      "\n",
      "bestTest = 0.8407934041\n",
      "bestIteration = 352\n",
      "\n",
      "Shrink model to first 353 iterations.\n",
      "*********************\n",
      "roc auc estimado:  0.8469613358805159\n"
     ]
    }
   ],
   "source": [
    "# !pip install catboost\n",
    "from catboost import CatBoostClassifier\n",
    "from sklearn.metrics import roc_auc_score\n",
    "from sklearn.model_selection import KFold\n",
    "\n",
    "folds = [train.index[t] for t, v in KFold(5).split(train)]\n",
    "test_probs = []\n",
    "train_probs = []\n",
    "fi = []\n",
    "for i, idx in enumerate(folds):\n",
    "    print(\"*\"*10, i, \"*\"*10)\n",
    "    Xt = train.loc[idx]\n",
    "    yt = y_train.loc[Xt.index]\n",
    "\n",
    "    Xv = train.drop(Xt.index)\n",
    "    yv = y_train.loc[Xv.index]\n",
    "    \n",
    "    learner = CatBoostClassifier(n_estimators=1000, depth = 6, eval_metric = 'AUC' )\n",
    "    learner.fit(Xt, yt,  early_stopping_rounds=10,\n",
    "                eval_set=[(Xt, yt), (Xv, yv)], verbose=50)\n",
    "    test_probs.append(pd.Series(learner.predict_proba(test)[:, -1], index=test.index, name=\"fold_\" + str(i)))\n",
    "    train_probs.append(pd.Series(learner.predict_proba(Xv)[:, -1], index=Xv.index, name=\"probs\"))\n",
    "    fi.append(pd.Series(learner.feature_importances_ / learner.feature_importances_.sum(), index=Xt.columns))\n",
    "          \n",
    "test_probs = pd.concat(test_probs, axis=1).mean(axis=1)\n",
    "train_probs = pd.concat(train_probs)\n",
    "fi = pd.concat(fi, axis=1).mean(axis=1)\n",
    "\n",
    "print(\"*\" * 21)\n",
    "print(\"roc auc estimado: \", roc_auc_score(y_train, train_probs.loc[y_train.index]))"
   ]
  },
  {
   "cell_type": "code",
   "execution_count": 72,
   "metadata": {},
   "outputs": [
    {
     "data": {
      "text/plain": [
       "COD_CLASIFICACION_DEUDOR_max_ult1mes        0.094128\n",
       "cod_instit_financiera_nunique_ult12mes      0.061666\n",
       "cod_instit_financiera_mode_ult6mes          0.059939\n",
       "saldo_sum_ult11mes                          0.053627\n",
       "PRODUCTO_mode_ult1mes                       0.038461\n",
       "condicion_sum_ult2mes                       0.037019\n",
       "saldo_std_ult1mes                           0.036627\n",
       "COD_CLASIFICACION_DEUDOR_nunique_ult1mes    0.029923\n",
       "edad                                        0.026519\n",
       "profe_1                                     0.026121\n",
       "tipo_credito_mode_ult1mes                   0.024416\n",
       "saldo_std_ult8mes                           0.023365\n",
       "matpar7                                     0.022033\n",
       "PRODUCTO_nunique_ult12mes                   0.021203\n",
       "condicion_max_ult12mes                      0.019920\n",
       "tvteno                                      0.019874\n",
       "tip_lvledu                                  0.019860\n",
       "cod_ubi                                     0.016282\n",
       "tipo_credito_mode_ult11mes                  0.015839\n",
       "PRODUCTO_mode_ult3mes                       0.015440\n",
       "PRODUCTO_mode_ult10mes                      0.015099\n",
       "prv                                         0.014426\n",
       "sexo                                        0.014026\n",
       "flag_censo                                  0.013835\n",
       "alupuno                                     0.013343\n",
       "tipo_credito_nunique_ult3mes                0.013025\n",
       "matpis7                                     0.011051\n",
       "tipo_credito_mode_ult4mes                   0.010390\n",
       "flg_sin_email                               0.009772\n",
       "lgr_vot                                     0.009754\n",
       "dtype: float64"
      ]
     },
     "execution_count": 72,
     "metadata": {},
     "output_type": "execute_result"
    }
   ],
   "source": [
    "fi.sort_values(ascending=False).head(30)#.plot.bar()"
   ]
  },
  {
   "cell_type": "code",
   "execution_count": 61,
   "metadata": {},
   "outputs": [],
   "source": [
    "test_probs.name = \"target\"\n",
    "test_probs.to_csv(\"test3.csv\")"
   ]
  }
 ],
 "metadata": {
  "kernelspec": {
   "display_name": "Python 3",
   "language": "python",
   "name": "python3"
  },
  "language_info": {
   "codemirror_mode": {
    "name": "ipython",
    "version": 3
   },
   "file_extension": ".py",
   "mimetype": "text/x-python",
   "name": "python",
   "nbconvert_exporter": "python",
   "pygments_lexer": "ipython3",
   "version": "3.7.6"
  }
 },
 "nbformat": 4,
 "nbformat_minor": 4
}
