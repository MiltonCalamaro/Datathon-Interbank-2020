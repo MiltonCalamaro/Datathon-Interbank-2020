{
 "cells": [
  {
   "cell_type": "code",
   "execution_count": 1,
   "metadata": {},
   "outputs": [],
   "source": [
    "import pandas as pd\n",
    "import gc"
   ]
  },
  {
   "cell_type": "code",
   "execution_count": 2,
   "metadata": {},
   "outputs": [],
   "source": [
    "sunat_train = pd.read_csv('../data/sunat_train.csv')\n",
    "# rcc_train = pd.read_csv('../data/rcc_train.csv')\n",
    "# se_train = pd.read_csv('../data/se_train.csv', index_col = 'key_value')\n",
    "# censo_train = pd.read_csv('../data/censo_train.csv', index_col = 'key_value')\n",
    "y_train = pd.read_csv('../data/y_train.csv', index_col = 'key_value')\n",
    "\n",
    "sunat_test = pd.read_csv('../data/sunat_test.csv')\n",
    "# rcc_test = pd.read_csv('../data/rcc_test.csv')\n",
    "# se_test = pd.read_csv('../data/se_test.csv', index_col = 'key_value')\n",
    "# censo_test = pd.read_csv('../data/censo_test.csv', index_col = 'key_value')"
   ]
  },
  {
   "cell_type": "code",
   "execution_count": 63,
   "metadata": {},
   "outputs": [],
   "source": [
    "rcc_train = pd.read_csv('../data/rcc_train.csv')"
   ]
  },
  {
   "cell_type": "code",
   "execution_count": null,
   "metadata": {},
   "outputs": [],
   "source": [
    "############################# sunat_train\n",
    "### consta de 1462036 registros con 17 features\n",
    "### fecalta y fecbaja tienen valores nulos de 1.5% y 49.5%\n",
    "### el 34% de key_value no existe en sunat_train\n",
    "\n",
    "### tipcontribuyente Tiene 50 clases ### freq 29 \n",
    "### tippersona Tiene 3 clases ### Freq 1 \n",
    "### ciiu ,codigo de actividad economica, Tiene 285 clases ### Freq 285\n",
    "### ubigeo Tiene 1655 clases ### Freq 442\n",
    "### condiciondomicilio tiene 16 clases ### Freq 4\n",
    "### condiciondomicilio tiene 13 clases ### Freq 3\n",
    "### codvia tiene 29 clases ### Freq 0\n",
    "### codzona tiene 36 clases ### Freq 0\n",
    "### contabilidad tiene 12 clases ### Freq 6\n",
    "### facturacion tiene 21 clases ### Freq 11\n",
    "### domiciliado tiene 3 clases ### Freq 1\n",
    "### comercioexterior tiene 14 clases ### Freq 2\n",
    "### cargorele tiene 656 clases ### Freq 635\n",
    "### codentidadtributo tiene 9 clases ### Freq 6\n",
    "### estadotributo tiene 3 clases ### Freq 1\n"
   ]
  },
  {
   "cell_type": "code",
   "execution_count": null,
   "metadata": {},
   "outputs": [],
   "source": [
    "### hay algunos clientes que tienen fecha de alta, pero no fecha de baja, siendo estos 723714 registros\n",
    "### los clientes que no tienen fecha de alta, tampoco tienen fecha de baja, por obvias razones. Aunque has un caso donde\n",
    "#un cliente no tiene fecha de alta pero si fecha de baja siendo esto cerca de 20897 registros\n",
    "### clientes que tienen fecha de alta , asi como fecha de baja son cerca de 738321 registros\n",
    "\n",
    "### cuando se trata de un cliente nuevo en el rcc, la proporcion de valores nulos de la fecha de alta se mantiene, \n",
    "# mientras que la fecha de baja aumenta de 49% as 86%"
   ]
  },
  {
   "cell_type": "code",
   "execution_count": 109,
   "metadata": {},
   "outputs": [
    {
     "data": {
      "text/html": [
       "<div>\n",
       "<style scoped>\n",
       "    .dataframe tbody tr th:only-of-type {\n",
       "        vertical-align: middle;\n",
       "    }\n",
       "\n",
       "    .dataframe tbody tr th {\n",
       "        vertical-align: top;\n",
       "    }\n",
       "\n",
       "    .dataframe thead tr th {\n",
       "        text-align: left;\n",
       "    }\n",
       "\n",
       "    .dataframe thead tr:last-of-type th {\n",
       "        text-align: right;\n",
       "    }\n",
       "</style>\n",
       "<table border=\"1\" class=\"dataframe\">\n",
       "  <thead>\n",
       "    <tr>\n",
       "      <th></th>\n",
       "      <th>fecbaja</th>\n",
       "      <th>fecalta</th>\n",
       "    </tr>\n",
       "    <tr>\n",
       "      <th></th>\n",
       "      <th>unique</th>\n",
       "      <th>unique</th>\n",
       "    </tr>\n",
       "    <tr>\n",
       "      <th>key_value</th>\n",
       "      <th></th>\n",
       "      <th></th>\n",
       "    </tr>\n",
       "  </thead>\n",
       "  <tbody>\n",
       "    <tr>\n",
       "      <th>0</th>\n",
       "      <td>[nan]</td>\n",
       "      <td>[0.9715844553529064]</td>\n",
       "    </tr>\n",
       "    <tr>\n",
       "      <th>1</th>\n",
       "      <td>[nan]</td>\n",
       "      <td>[0.5660267101778399]</td>\n",
       "    </tr>\n",
       "    <tr>\n",
       "      <th>2</th>\n",
       "      <td>[nan]</td>\n",
       "      <td>[0.7012126252361953]</td>\n",
       "    </tr>\n",
       "    <tr>\n",
       "      <th>3</th>\n",
       "      <td>[nan]</td>\n",
       "      <td>[1.5123281155863282]</td>\n",
       "    </tr>\n",
       "    <tr>\n",
       "      <th>5</th>\n",
       "      <td>[-2.55605078761138, nan]</td>\n",
       "      <td>[-0.515460610289004, -1.1913901855807814]</td>\n",
       "    </tr>\n",
       "    <tr>\n",
       "      <th>...</th>\n",
       "      <td>...</td>\n",
       "      <td>...</td>\n",
       "    </tr>\n",
       "    <tr>\n",
       "      <th>358481</th>\n",
       "      <td>[nan]</td>\n",
       "      <td>[1.917885860761395]</td>\n",
       "    </tr>\n",
       "    <tr>\n",
       "      <th>358482</th>\n",
       "      <td>[nan]</td>\n",
       "      <td>[0.4308407951194844]</td>\n",
       "    </tr>\n",
       "    <tr>\n",
       "      <th>358484</th>\n",
       "      <td>[nan]</td>\n",
       "      <td>[1.7826999457030392]</td>\n",
       "    </tr>\n",
       "    <tr>\n",
       "      <th>358485</th>\n",
       "      <td>[nan]</td>\n",
       "      <td>[0.0252830499444179]</td>\n",
       "    </tr>\n",
       "    <tr>\n",
       "      <th>358486</th>\n",
       "      <td>[nan]</td>\n",
       "      <td>[1.7826999457030392]</td>\n",
       "    </tr>\n",
       "  </tbody>\n",
       "</table>\n",
       "<p>233866 rows × 2 columns</p>\n",
       "</div>"
      ],
      "text/plain": [
       "                            fecbaja                                    fecalta\n",
       "                             unique                                     unique\n",
       "key_value                                                                     \n",
       "0                             [nan]                       [0.9715844553529064]\n",
       "1                             [nan]                       [0.5660267101778399]\n",
       "2                             [nan]                       [0.7012126252361953]\n",
       "3                             [nan]                       [1.5123281155863282]\n",
       "5          [-2.55605078761138, nan]  [-0.515460610289004, -1.1913901855807814]\n",
       "...                             ...                                        ...\n",
       "358481                        [nan]                        [1.917885860761395]\n",
       "358482                        [nan]                       [0.4308407951194844]\n",
       "358484                        [nan]                       [1.7826999457030392]\n",
       "358485                        [nan]                       [0.0252830499444179]\n",
       "358486                        [nan]                       [1.7826999457030392]\n",
       "\n",
       "[233866 rows x 2 columns]"
      ]
     },
     "execution_count": 109,
     "metadata": {},
     "output_type": "execute_result"
    }
   ],
   "source": [
    "agg_sunat = {'fecbaja':['unique'],\n",
    "             'fecalta':['unique']}\n",
    "sunat_train.groupby('key_value').agg(agg_sunat)"
   ]
  },
  {
   "cell_type": "code",
   "execution_count": 110,
   "metadata": {},
   "outputs": [
    {
     "data": {
      "text/html": [
       "<div>\n",
       "<style scoped>\n",
       "    .dataframe tbody tr th:only-of-type {\n",
       "        vertical-align: middle;\n",
       "    }\n",
       "\n",
       "    .dataframe tbody tr th {\n",
       "        vertical-align: top;\n",
       "    }\n",
       "\n",
       "    .dataframe thead th {\n",
       "        text-align: right;\n",
       "    }\n",
       "</style>\n",
       "<table border=\"1\" class=\"dataframe\">\n",
       "  <thead>\n",
       "    <tr style=\"text-align: right;\">\n",
       "      <th></th>\n",
       "      <th>key_value</th>\n",
       "      <th>tipcontribuyente</th>\n",
       "      <th>tippersona</th>\n",
       "      <th>ciiu</th>\n",
       "      <th>ubigeo</th>\n",
       "      <th>condiciondomicilio</th>\n",
       "      <th>estadocontribuyente</th>\n",
       "      <th>fecalta</th>\n",
       "      <th>fecbaja</th>\n",
       "      <th>codvia</th>\n",
       "      <th>codzona</th>\n",
       "      <th>contabilidad</th>\n",
       "      <th>facturacion</th>\n",
       "      <th>domiciliado</th>\n",
       "      <th>comercioexterior</th>\n",
       "      <th>cargorele</th>\n",
       "      <th>codentidadtributo</th>\n",
       "      <th>estadotributo</th>\n",
       "    </tr>\n",
       "  </thead>\n",
       "  <tbody>\n",
       "    <tr>\n",
       "      <th>352708</th>\n",
       "      <td>5</td>\n",
       "      <td>9</td>\n",
       "      <td>0</td>\n",
       "      <td>283</td>\n",
       "      <td>466</td>\n",
       "      <td>0</td>\n",
       "      <td>4</td>\n",
       "      <td>-0.515461</td>\n",
       "      <td>-2.556051</td>\n",
       "      <td>3</td>\n",
       "      <td>0</td>\n",
       "      <td>2</td>\n",
       "      <td>2</td>\n",
       "      <td>0</td>\n",
       "      <td>2</td>\n",
       "      <td>635</td>\n",
       "      <td>8</td>\n",
       "      <td>2</td>\n",
       "    </tr>\n",
       "    <tr>\n",
       "      <th>382676</th>\n",
       "      <td>5</td>\n",
       "      <td>9</td>\n",
       "      <td>0</td>\n",
       "      <td>283</td>\n",
       "      <td>1559</td>\n",
       "      <td>0</td>\n",
       "      <td>0</td>\n",
       "      <td>-1.191390</td>\n",
       "      <td>NaN</td>\n",
       "      <td>3</td>\n",
       "      <td>34</td>\n",
       "      <td>1</td>\n",
       "      <td>1</td>\n",
       "      <td>0</td>\n",
       "      <td>2</td>\n",
       "      <td>635</td>\n",
       "      <td>8</td>\n",
       "      <td>2</td>\n",
       "    </tr>\n",
       "  </tbody>\n",
       "</table>\n",
       "</div>"
      ],
      "text/plain": [
       "        key_value  tipcontribuyente  tippersona  ciiu  ubigeo  \\\n",
       "352708          5                 9           0   283     466   \n",
       "382676          5                 9           0   283    1559   \n",
       "\n",
       "        condiciondomicilio  estadocontribuyente   fecalta   fecbaja  codvia  \\\n",
       "352708                   0                    4 -0.515461 -2.556051       3   \n",
       "382676                   0                    0 -1.191390       NaN       3   \n",
       "\n",
       "        codzona  contabilidad  facturacion  domiciliado  comercioexterior  \\\n",
       "352708        0             2            2            0                 2   \n",
       "382676       34             1            1            0                 2   \n",
       "\n",
       "        cargorele  codentidadtributo  estadotributo  \n",
       "352708        635                  8              2  \n",
       "382676        635                  8              2  "
      ]
     },
     "execution_count": 110,
     "metadata": {},
     "output_type": "execute_result"
    }
   ],
   "source": [
    "sunat_train[sunat_train.key_value==5]"
   ]
  },
  {
   "cell_type": "code",
   "execution_count": 50,
   "metadata": {},
   "outputs": [
    {
     "data": {
      "text/plain": [
       "<matplotlib.axes._subplots.AxesSubplot at 0x7fccc847d250>"
      ]
     },
     "execution_count": 50,
     "metadata": {},
     "output_type": "execute_result"
    },
    {
     "data": {
      "image/png": "[encoded data removed]",
      "text/plain": [
       "<Figure size 432x288 with 1 Axes>"
      ]
     },
     "metadata": {
      "needs_background": "light"
     },
     "output_type": "display_data"
    }
   ],
   "source": [
    "(sunat_train['fecbaja']-sunat_train['fecalta']).hist()"
   ]
  },
  {
   "cell_type": "code",
   "execution_count": 39,
   "metadata": {},
   "outputs": [
    {
     "data": {
      "text/plain": [
       "<matplotlib.axes._subplots.AxesSubplot at 0x7fccc88b3a50>"
      ]
     },
     "execution_count": 39,
     "metadata": {},
     "output_type": "execute_result"
    },
    {
     "data": {
      "image/png": "[encoded data removed]",
      "text/plain": [
       "<Figure size 432x288 with 1 Axes>"
      ]
     },
     "metadata": {
      "needs_background": "light"
     },
     "output_type": "display_data"
    }
   ],
   "source": [
    "sunat_train['fecalta'].hist()"
   ]
  },
  {
   "cell_type": "code",
   "execution_count": 56,
   "metadata": {},
   "outputs": [
    {
     "data": {
      "text/plain": [
       "(2.1685081879240307, 2.188257690878105)"
      ]
     },
     "execution_count": 56,
     "metadata": {},
     "output_type": "execute_result"
    }
   ],
   "source": [
    "max(sunat_train['fecbaja'].fillna(0)), max(sunat_train['fecalta'].fillna(0))"
   ]
  }
 ],
 "metadata": {
  "kernelspec": {
   "display_name": "Python 3",
   "language": "python",
   "name": "python3"
  },
  "language_info": {
   "codemirror_mode": {
    "name": "ipython",
    "version": 3
   },
   "file_extension": ".py",
   "mimetype": "text/x-python",
   "name": "python",
   "nbconvert_exporter": "python",
   "pygments_lexer": "ipython3",
   "version": "3.7.6"
  }
 },
 "nbformat": 4,
 "nbformat_minor": 4
}
