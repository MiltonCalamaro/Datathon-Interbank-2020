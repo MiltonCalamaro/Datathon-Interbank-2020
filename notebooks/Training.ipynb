{
 "cells": [
  {
   "cell_type": "code",
   "execution_count": 1,
   "metadata": {},
   "outputs": [],
   "source": [
    "import pandas as pd\n",
    "import gc\n",
    "sunat_train=pd.read_csv('../data/intermediate/sunat_train.csv', index_col = 'key_value')\n",
    "sunat_test=pd.read_csv('../data/intermediate/sunat_test.csv', index_col = 'key_value')\n",
    "censo_train=pd.read_csv('../data/intermediate/censo_train.csv', index_col = 'key_value')\n",
    "censo_test=pd.read_csv('../data/intermediate/censo_test.csv', index_col = 'key_value')\n",
    "se_train=pd.read_csv('../data/intermediate/se_train.csv', index_col = 'key_value')\n",
    "se_test=pd.read_csv('../data/intermediate/se_test.csv', index_col = 'key_value')\n",
    "rcc_train=pd.read_csv('../data/intermediate/rcc_train.csv', index_col = 'key_value')\n",
    "rcc_test=pd.read_csv('../data/intermediate/rcc_test.csv', index_col = 'key_value')\n",
    "y_train = pd.read_csv('../data/y_train.csv', index_col = 'key_value')"
   ]
  },
  {
   "cell_type": "code",
   "execution_count": 2,
   "metadata": {},
   "outputs": [],
   "source": [
    "train = rcc_train.join(sunat_train).join(censo_train).join(se_train)\n",
    "test = rcc_test.join(sunat_test).join(censo_test).join(se_test)\n",
    "del rcc_train, sunat_train, censo_train, se_train, rcc_test, sunat_test, censo_test, se_test"
   ]
  },
  {
   "cell_type": "code",
   "execution_count": 4,
   "metadata": {},
   "outputs": [
    {
     "name": "stdout",
     "output_type": "stream",
     "text": [
      "********** 0 **********\n",
      "Learning rate set to 0.128212\n",
      "0:\ttest: 0.7801722\ttest1: 0.7869643\tbest: 0.7869643 (0)\ttotal: 714ms\tremaining: 11m 52s\n",
      "50:\ttest: 0.8471719\ttest1: 0.8468172\tbest: 0.8468172 (50)\ttotal: 33.3s\tremaining: 10m 20s\n",
      "100:\ttest: 0.8569771\ttest1: 0.8549128\tbest: 0.8549128 (100)\ttotal: 1m 6s\tremaining: 9m 48s\n",
      "150:\ttest: 0.8639222\ttest1: 0.8601417\tbest: 0.8601417 (150)\ttotal: 1m 36s\tremaining: 8m 59s\n",
      "200:\ttest: 0.8685928\ttest1: 0.8628305\tbest: 0.8628305 (200)\ttotal: 2m 5s\tremaining: 8m 20s\n",
      "250:\ttest: 0.8722389\ttest1: 0.8645643\tbest: 0.8645643 (250)\ttotal: 2m 35s\tremaining: 7m 43s\n",
      "300:\ttest: 0.8749598\ttest1: 0.8657718\tbest: 0.8657724 (299)\ttotal: 3m 3s\tremaining: 7m 6s\n",
      "350:\ttest: 0.8772226\ttest1: 0.8664093\tbest: 0.8664093 (350)\ttotal: 3m 31s\tremaining: 6m 30s\n",
      "400:\ttest: 0.8793934\ttest1: 0.8670013\tbest: 0.8670013 (400)\ttotal: 3m 58s\tremaining: 5m 55s\n",
      "450:\ttest: 0.8814293\ttest1: 0.8673978\tbest: 0.8673978 (450)\ttotal: 4m 25s\tremaining: 5m 22s\n",
      "500:\ttest: 0.8833965\ttest1: 0.8677715\tbest: 0.8677715 (500)\ttotal: 4m 53s\tremaining: 4m 52s\n",
      "550:\ttest: 0.8855115\ttest1: 0.8682911\tbest: 0.8683057 (547)\ttotal: 5m 21s\tremaining: 4m 22s\n",
      "600:\ttest: 0.8873638\ttest1: 0.8685066\tbest: 0.8685066 (600)\ttotal: 5m 49s\tremaining: 3m 51s\n",
      "650:\ttest: 0.8891801\ttest1: 0.8689382\tbest: 0.8689382 (650)\ttotal: 6m 16s\tremaining: 3m 21s\n",
      "Stopped by overfitting detector  (10 iterations wait)\n",
      "\n",
      "bestTest = 0.8691072356\n",
      "bestIteration = 677\n",
      "\n",
      "Shrink model to first 678 iterations.\n",
      "********** 1 **********\n",
      "Learning rate set to 0.128212\n",
      "0:\ttest: 0.7899384\ttest1: 0.7884089\tbest: 0.7884089 (0)\ttotal: 796ms\tremaining: 13m 15s\n",
      "50:\ttest: 0.8471136\ttest1: 0.8444617\tbest: 0.8444617 (50)\ttotal: 33.7s\tremaining: 10m 26s\n",
      "100:\ttest: 0.8573623\ttest1: 0.8536569\tbest: 0.8536569 (100)\ttotal: 1m 4s\tremaining: 9m 37s\n",
      "150:\ttest: 0.8646385\ttest1: 0.8593501\tbest: 0.8593501 (150)\ttotal: 1m 35s\tremaining: 8m 57s\n",
      "200:\ttest: 0.8688157\ttest1: 0.8618380\tbest: 0.8618380 (200)\ttotal: 2m 4s\tremaining: 8m 15s\n",
      "250:\ttest: 0.8723184\ttest1: 0.8635844\tbest: 0.8635844 (250)\ttotal: 2m 33s\tremaining: 7m 37s\n",
      "300:\ttest: 0.8750549\ttest1: 0.8648205\tbest: 0.8648205 (300)\ttotal: 3m 1s\tremaining: 7m 1s\n",
      "350:\ttest: 0.8775066\ttest1: 0.8655999\tbest: 0.8656017 (349)\ttotal: 3m 29s\tremaining: 6m 27s\n",
      "400:\ttest: 0.8794436\ttest1: 0.8660031\tbest: 0.8660138 (395)\ttotal: 3m 55s\tremaining: 5m 52s\n",
      "450:\ttest: 0.8816304\ttest1: 0.8664945\tbest: 0.8664945 (450)\ttotal: 4m 23s\tremaining: 5m 20s\n",
      "500:\ttest: 0.8836821\ttest1: 0.8667465\tbest: 0.8667465 (500)\ttotal: 4m 50s\tremaining: 4m 48s\n",
      "550:\ttest: 0.8854045\ttest1: 0.8671362\tbest: 0.8671362 (550)\ttotal: 5m 17s\tremaining: 4m 18s\n",
      "600:\ttest: 0.8871903\ttest1: 0.8674548\tbest: 0.8674561 (599)\ttotal: 5m 45s\tremaining: 3m 49s\n",
      "650:\ttest: 0.8889953\ttest1: 0.8677447\tbest: 0.8677447 (650)\ttotal: 6m 12s\tremaining: 3m 19s\n",
      "700:\ttest: 0.8907076\ttest1: 0.8679809\tbest: 0.8679809 (700)\ttotal: 6m 39s\tremaining: 2m 50s\n",
      "750:\ttest: 0.8923085\ttest1: 0.8681927\tbest: 0.8682102 (745)\ttotal: 7m 6s\tremaining: 2m 21s\n",
      "Stopped by overfitting detector  (10 iterations wait)\n",
      "\n",
      "bestTest = 0.8682101772\n",
      "bestIteration = 745\n",
      "\n",
      "Shrink model to first 746 iterations.\n",
      "********** 2 **********\n",
      "Learning rate set to 0.128212\n",
      "0:\ttest: 0.7791055\ttest1: 0.7853260\tbest: 0.7853260 (0)\ttotal: 630ms\tremaining: 10m 29s\n",
      "50:\ttest: 0.8465685\ttest1: 0.8504500\tbest: 0.8504500 (50)\ttotal: 33.4s\tremaining: 10m 21s\n",
      "100:\ttest: 0.8567931\ttest1: 0.8584262\tbest: 0.8584262 (100)\ttotal: 1m 3s\tremaining: 9m 27s\n",
      "150:\ttest: 0.8639620\ttest1: 0.8634362\tbest: 0.8634362 (150)\ttotal: 1m 33s\tremaining: 8m 47s\n",
      "200:\ttest: 0.8685379\ttest1: 0.8660204\tbest: 0.8660204 (200)\ttotal: 2m 3s\tremaining: 8m 11s\n",
      "250:\ttest: 0.8718311\ttest1: 0.8675108\tbest: 0.8675108 (250)\ttotal: 2m 32s\tremaining: 7m 34s\n",
      "300:\ttest: 0.8742550\ttest1: 0.8683925\tbest: 0.8684015 (297)\ttotal: 2m 53s\tremaining: 6m 42s\n",
      "350:\ttest: 0.8766252\ttest1: 0.8690945\tbest: 0.8690993 (348)\ttotal: 3m 6s\tremaining: 5m 45s\n",
      "400:\ttest: 0.8790053\ttest1: 0.8697005\tbest: 0.8697005 (400)\ttotal: 3m 20s\tremaining: 4m 59s\n",
      "450:\ttest: 0.8811602\ttest1: 0.8702371\tbest: 0.8702382 (448)\ttotal: 3m 34s\tremaining: 4m 21s\n",
      "Stopped by overfitting detector  (10 iterations wait)\n",
      "\n",
      "bestTest = 0.8702865145\n",
      "bestIteration = 470\n",
      "\n",
      "Shrink model to first 471 iterations.\n",
      "********** 3 **********\n",
      "Learning rate set to 0.128212\n",
      "0:\ttest: 0.7962305\ttest1: 0.7978117\tbest: 0.7978117 (0)\ttotal: 376ms\tremaining: 6m 15s\n",
      "50:\ttest: 0.8463494\ttest1: 0.8458819\tbest: 0.8458819 (50)\ttotal: 16.9s\tremaining: 5m 13s\n",
      "100:\ttest: 0.8567603\ttest1: 0.8549840\tbest: 0.8549840 (100)\ttotal: 32.3s\tremaining: 4m 47s\n",
      "150:\ttest: 0.8641215\ttest1: 0.8604439\tbest: 0.8604439 (150)\ttotal: 47.6s\tremaining: 4m 27s\n",
      "200:\ttest: 0.8686303\ttest1: 0.8629496\tbest: 0.8629496 (200)\ttotal: 1m 1s\tremaining: 4m 6s\n",
      "250:\ttest: 0.8719333\ttest1: 0.8645259\tbest: 0.8645259 (250)\ttotal: 1m 15s\tremaining: 3m 45s\n",
      "300:\ttest: 0.8747992\ttest1: 0.8658211\tbest: 0.8658211 (300)\ttotal: 1m 29s\tremaining: 3m 28s\n",
      "350:\ttest: 0.8773078\ttest1: 0.8665674\tbest: 0.8665674 (350)\ttotal: 1m 43s\tremaining: 3m 11s\n",
      "400:\ttest: 0.8793369\ttest1: 0.8670218\tbest: 0.8670218 (400)\ttotal: 1m 56s\tremaining: 2m 54s\n",
      "450:\ttest: 0.8815105\ttest1: 0.8675149\tbest: 0.8675330 (449)\ttotal: 2m 10s\tremaining: 2m 38s\n",
      "Stopped by overfitting detector  (10 iterations wait)\n",
      "\n",
      "bestTest = 0.8676503103\n",
      "bestIteration = 472\n",
      "\n",
      "Shrink model to first 473 iterations.\n",
      "********** 4 **********\n",
      "Learning rate set to 0.128212\n",
      "0:\ttest: 0.7886730\ttest1: 0.7749958\tbest: 0.7749958 (0)\ttotal: 389ms\tremaining: 6m 28s\n",
      "50:\ttest: 0.8489860\ttest1: 0.8390561\tbest: 0.8390561 (50)\ttotal: 16.8s\tremaining: 5m 12s\n",
      "100:\ttest: 0.8594549\ttest1: 0.8473641\tbest: 0.8473641 (100)\ttotal: 32.6s\tremaining: 4m 50s\n",
      "150:\ttest: 0.8664430\ttest1: 0.8519469\tbest: 0.8519469 (150)\ttotal: 48s\tremaining: 4m 30s\n",
      "200:\ttest: 0.8708185\ttest1: 0.8539909\tbest: 0.8539909 (200)\ttotal: 1m 2s\tremaining: 4m 7s\n",
      "250:\ttest: 0.8741269\ttest1: 0.8552872\tbest: 0.8552872 (250)\ttotal: 1m 16s\tremaining: 3m 47s\n",
      "300:\ttest: 0.8771268\ttest1: 0.8564765\tbest: 0.8564765 (300)\ttotal: 1m 30s\tremaining: 3m 29s\n",
      "350:\ttest: 0.8797236\ttest1: 0.8571672\tbest: 0.8571672 (350)\ttotal: 1m 44s\tremaining: 3m 12s\n",
      "400:\ttest: 0.8815640\ttest1: 0.8575631\tbest: 0.8575642 (399)\ttotal: 1m 57s\tremaining: 2m 55s\n",
      "450:\ttest: 0.8837461\ttest1: 0.8580857\tbest: 0.8580957 (449)\ttotal: 2m 11s\tremaining: 2m 39s\n",
      "500:\ttest: 0.8855780\ttest1: 0.8584743\tbest: 0.8584743 (500)\ttotal: 2m 24s\tremaining: 2m 24s\n",
      "Stopped by overfitting detector  (10 iterations wait)\n",
      "\n",
      "bestTest = 0.8586002035\n",
      "bestIteration = 524\n",
      "\n",
      "Shrink model to first 525 iterations.\n",
      "*********************\n",
      "roc auc estimado:  0.8667962454127744\n",
      "roc auc varianza:  0.0010135029657657424\n"
     ]
    }
   ],
   "source": [
    "# !pip install catboost\n",
    "from catboost import CatBoostClassifier\n",
    "from sklearn.metrics import roc_auc_score\n",
    "from sklearn.model_selection import KFold\n",
    "import numpy as np\n",
    "folds = [train.index[t] for t, v in KFold(5).split(train)]\n",
    "test_probs = []\n",
    "train_probs = []\n",
    "fi = []\n",
    "for i, idx in enumerate(folds):\n",
    "    print(\"*\"*10, i, \"*\"*10)\n",
    "    Xt = train.loc[idx]\n",
    "    yt = y_train.loc[Xt.index]\n",
    "\n",
    "    Xv = train.drop(Xt.index)\n",
    "    yv = y_train.loc[Xv.index]\n",
    "    \n",
    "    learner = CatBoostClassifier(n_estimators=1000,  eval_metric = 'AUC', max_depth = 6)\n",
    "    learner.fit(Xt, yt,  early_stopping_rounds=10, \n",
    "                eval_set=[(Xt, yt), (Xv, yv)], verbose=50) # cat_features = var_categ_index,\n",
    "    test_probs.append(pd.Series(learner.predict_proba(test)[:, -1], index=test.index, name=\"fold_\" + str(i)))\n",
    "    train_probs.append(pd.Series(learner.predict_proba(Xv)[:, -1], index=Xv.index, name=\"probs\"))\n",
    "    fi.append(pd.Series(learner.feature_importances_ / learner.feature_importances_.sum(), index=Xt.columns))\n",
    "    gc.collect()\n",
    "test_probs = pd.concat(test_probs, axis=1).mean(axis=1)\n",
    "train_probs = pd.concat(train_probs)\n",
    "fi = pd.concat(fi, axis=1).mean(axis=1)\n",
    "\n",
    "print(\"*\" * 21)\n",
    "print(\"roc auc estimado: \", roc_auc_score(y_train, train_probs.loc[y_train.index]))\n",
    "print(\"roc auc varianza: \", np.std([roc_auc_score(y_train.loc[folds[i]], train_probs.iloc[folds[i]]) for i in range(len(folds))]))"
   ]
  },
  {
   "cell_type": "code",
   "execution_count": 5,
   "metadata": {},
   "outputs": [
    {
     "data": {
      "text/plain": [
       "COD_CLASIFICACION_DEUDOR_nunique_ult1mes    0.128444\n",
       "PRODUCTO_1_ult1meses                        0.051593\n",
       "COD_CLASIFICACION_DEUDOR_nunique_ult2mes    0.032101\n",
       "COD_CLASIFICACION_DEUDOR_5_ult3meses        0.023801\n",
       "PRODUCTO_3_ult3meses                        0.022492\n",
       "RIESGO_DIRECTO_1_ult1meses                  0.021603\n",
       "cod_instit_financiera_32_ult1meses          0.019059\n",
       "tipo_credito_11_ult1meses                   0.018736\n",
       "tipo_credito_12_ult1meses                   0.018087\n",
       "PRODUCTO_0_ult6meses                        0.017963\n",
       "PRODUCTO_1_ult3meses                        0.017600\n",
       "PRODUCTO_1_ult12meses                       0.015989\n",
       "acteco18                                    0.014268\n",
       "tipo_credito_11_ult12meses                  0.012350\n",
       "edad                                        0.012240\n",
       "COD_CLASIFICACION_DEUDOR_max_ult6mes        0.011717\n",
       "tip_lvledu                                  0.011404\n",
       "cod_instit_financiera_33_ult1meses          0.010875\n",
       "acteco15                                    0.010355\n",
       "RIESGO_DIRECTO_1_ult12meses                 0.009972\n",
       "sexo                                        0.008932\n",
       "abaagu8                                     0.008343\n",
       "cod_instit_financiera_nunique_ult7mes       0.007644\n",
       "PRODUCTO_11_ult1meses                       0.007607\n",
       "cod_ubi                                     0.007292\n",
       "flg_sin_email                               0.007191\n",
       "COD_CLASIFICACION_DEUDOR_nunique_ult4mes    0.007169\n",
       "acteco6                                     0.006935\n",
       "lon_x                                       0.006879\n",
       "cod_instit_financiera_10_ult1meses          0.006865\n",
       "cod_instit_financiera_61_ult1meses          0.006725\n",
       "PRODUCTO_8_ult3meses                        0.006536\n",
       "cod_instit_financiera_46_ult1meses          0.006502\n",
       "condicion_1_ult1meses                       0.006306\n",
       "COD_CLASIFICACION_DEUDOR_max_ult9mes        0.006298\n",
       "pagagu3                                     0.006285\n",
       "cod_instit_financiera_8_ult3meses           0.006264\n",
       "dehogar8                                    0.006240\n",
       "COD_CLASIFICACION_DEUDOR_max_ult11mes       0.006220\n",
       "tipviv7                                     0.006170\n",
       "PRODUCTO_7_ult12meses                       0.005999\n",
       "prv                                         0.005639\n",
       "matpis2                                     0.005627\n",
       "cod_instit_financiera_1_ult3meses           0.005475\n",
       "PRODUCTO_2_ult6meses                        0.005387\n",
       "PRODUCTO_6_ult6meses                        0.005285\n",
       "cod_instit_financiera_55_ult12meses         0.005268\n",
       "PRODUCTO_7_ult1meses                        0.005144\n",
       "PRODUCTO_15_ult6meses                       0.005095\n",
       "sit_lab                                     0.004963\n",
       "dtype: float64"
      ]
     },
     "execution_count": 5,
     "metadata": {},
     "output_type": "execute_result"
    }
   ],
   "source": [
    "fi.sort_values(ascending=False).head(50)#.plot.bar(figsize=(15,10))"
   ]
  },
  {
   "cell_type": "code",
   "execution_count": 6,
   "metadata": {},
   "outputs": [],
   "source": [
    "test_probs.name = \"target\"\n",
    "test_probs.to_csv(\"../results/test8.csv\")"
   ]
  },
  {
   "cell_type": "code",
   "execution_count": 3,
   "metadata": {},
   "outputs": [],
   "source": [
    "from catboost import CatBoostClassifier\n",
    "from sklearn.metrics import roc_auc_score\n",
    "from sklearn.model_selection import KFold\n",
    "import numpy as np"
   ]
  },
  {
   "cell_type": "code",
   "execution_count": 4,
   "metadata": {},
   "outputs": [
    {
     "name": "stdout",
     "output_type": "stream",
     "text": [
      "Learning rate set to 0.126968\n",
      "0:\ttotal: 457ms\tremaining: 7m 36s\n",
      "50:\ttotal: 18.6s\tremaining: 5m 45s\n",
      "100:\ttotal: 36s\tremaining: 5m 20s\n",
      "150:\ttotal: 52.6s\tremaining: 4m 55s\n",
      "200:\ttotal: 1m 8s\tremaining: 4m 33s\n",
      "250:\ttotal: 1m 24s\tremaining: 4m 12s\n",
      "300:\ttotal: 1m 40s\tremaining: 3m 52s\n",
      "350:\ttotal: 1m 54s\tremaining: 3m 31s\n",
      "400:\ttotal: 2m 9s\tremaining: 3m 12s\n",
      "450:\ttotal: 2m 24s\tremaining: 2m 55s\n",
      "500:\ttotal: 2m 38s\tremaining: 2m 38s\n",
      "550:\ttotal: 2m 53s\tremaining: 2m 21s\n",
      "600:\ttotal: 3m 8s\tremaining: 2m 5s\n",
      "650:\ttotal: 3m 22s\tremaining: 1m 48s\n",
      "700:\ttotal: 3m 37s\tremaining: 1m 32s\n",
      "750:\ttotal: 3m 51s\tremaining: 1m 16s\n",
      "800:\ttotal: 4m 5s\tremaining: 1m 1s\n",
      "850:\ttotal: 4m 20s\tremaining: 45.5s\n",
      "900:\ttotal: 4m 34s\tremaining: 30.2s\n",
      "950:\ttotal: 4m 49s\tremaining: 14.9s\n",
      "999:\ttotal: 5m 3s\tremaining: 0us\n"
     ]
    },
    {
     "data": {
      "text/plain": [
       "<catboost.core.CatBoostClassifier at 0x7fd4d4245bd0>"
      ]
     },
     "execution_count": 4,
     "metadata": {},
     "output_type": "execute_result"
    }
   ],
   "source": [
    "learner_ = CatBoostClassifier(n_estimators=1000, eval_metric = 'AUC', max_depth = 6)\n",
    "learner_.fit(train, y_train,  early_stopping_rounds=10, verbose = 50)"
   ]
  },
  {
   "cell_type": "code",
   "execution_count": 5,
   "metadata": {},
   "outputs": [
    {
     "data": {
      "text/plain": [
       "COD_CLASIFICACION_DEUDOR_nunique_ult1mes    0.076290\n",
       "PRODUCTO_1_ult1meses                        0.051526\n",
       "COD_CLASIFICACION_DEUDOR_nunique_ult2mes    0.046709\n",
       "acteco4                                     0.030643\n",
       "PRODUCTO_3_ult3meses                        0.023702\n",
       "dehogar8                                    0.022259\n",
       "mattec6                                     0.021782\n",
       "tipo_credito_12_ult1meses                   0.020019\n",
       "RIESGO_DIRECTO_1_ult1meses                  0.019946\n",
       "COD_CLASIFICACION_DEUDOR_5_ult3meses        0.019235\n",
       "COD_CLASIFICACION_DEUDOR_max_ult6mes        0.019191\n",
       "PRODUCTO_0_ult6meses                        0.018268\n",
       "PRODUCTO_1_ult12meses                       0.018167\n",
       "dehogar2                                    0.016858\n",
       "cod_instit_financiera_32_ult1meses          0.014608\n",
       "PRODUCTO_1_ult3meses                        0.014428\n",
       "tipo_credito_11_ult1meses                   0.014054\n",
       "tipo_credito_11_ult12meses                  0.013649\n",
       "hig4                                        0.013159\n",
       "edad                                        0.013124\n",
       "tip_lvledu                                  0.012107\n",
       "cod_instit_financiera_33_ult1meses          0.011643\n",
       "RIESGO_DIRECTO_1_ult12meses                 0.010025\n",
       "cod_instit_financiera_46_ult1meses          0.008982\n",
       "COD_CLASIFICACION_DEUDOR_max_ult11mes       0.008977\n",
       "cod_instit_financiera_nunique_ult7mes       0.008823\n",
       "PRODUCTO_7_ult12meses                       0.008674\n",
       "PRODUCTO_8_ult3meses                        0.008524\n",
       "mattec7                                     0.008282\n",
       "cod_instit_financiera_10_ult1meses          0.008227\n",
       "sexo                                        0.007934\n",
       "PRODUCTO_11_ult1meses                       0.007528\n",
       "agundia6                                    0.007229\n",
       "flg_sin_email                               0.007068\n",
       "cod_ubi                                     0.006976\n",
       "cod_instit_financiera_8_ult3meses           0.006959\n",
       "cod_instit_financiera_55_ult12meses         0.006455\n",
       "prv                                         0.006432\n",
       "cod_instit_financiera_32_ult12meses         0.006316\n",
       "cod_instit_financiera_1_ult3meses           0.006216\n",
       "cod_instit_financiera_34_ult12meses         0.006050\n",
       "PRODUCTO_15_ult6meses                       0.005959\n",
       "PRODUCTO_6_ult12meses                       0.005935\n",
       "condicion_1_ult1meses                       0.005865\n",
       "PRODUCTO_7_ult1meses                        0.005817\n",
       "cod_instit_financiera_61_ult1meses          0.005416\n",
       "profe_1                                     0.005221\n",
       "PRODUCTO_6_ult6meses                        0.005130\n",
       "sit_lab                                     0.005048\n",
       "cod_instit_financiera_61_ult3meses          0.004955\n",
       "dtype: float64"
      ]
     },
     "execution_count": 5,
     "metadata": {},
     "output_type": "execute_result"
    }
   ],
   "source": [
    "fi_ = pd.Series(learner_.feature_importances_ / learner_.feature_importances_.sum(), index=train.columns)\n",
    "fi_.sort_values(ascending=False).head(50)"
   ]
  },
  {
   "cell_type": "code",
   "execution_count": 6,
   "metadata": {},
   "outputs": [
    {
     "data": {
      "text/plain": [
       "(396666,)"
      ]
     },
     "execution_count": 6,
     "metadata": {},
     "output_type": "execute_result"
    }
   ],
   "source": [
    "test_probs_ = pd.Series(learner_.predict_proba(test)[:, -1], index=test.index, name=\"target\")\n",
    "test_probs_.shape"
   ]
  },
  {
   "cell_type": "code",
   "execution_count": 8,
   "metadata": {},
   "outputs": [],
   "source": [
    "test_probs_.name = \"target\"\n",
    "test_probs_.to_csv(\"../results/test8_v2.csv\")"
   ]
  }
 ],
 "metadata": {
  "kernelspec": {
   "display_name": "Python 3",
   "language": "python",
   "name": "python3"
  },
  "language_info": {
   "codemirror_mode": {
    "name": "ipython",
    "version": 3
   },
   "file_extension": ".py",
   "mimetype": "text/x-python",
   "name": "python",
   "nbconvert_exporter": "python",
   "pygments_lexer": "ipython3",
   "version": "3.7.6"
  }
 },
 "nbformat": 4,
 "nbformat_minor": 4
}
