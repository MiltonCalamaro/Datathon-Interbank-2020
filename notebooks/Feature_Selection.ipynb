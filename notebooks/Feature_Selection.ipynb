{
 "cells": [
  {
   "cell_type": "code",
   "execution_count": 10,
   "id": "based-program",
   "metadata": {},
   "outputs": [],
   "source": [
    "import pandas as pd\n",
    "import numpy as np\n",
    "path = '../data'\n",
    "y_train = pd.read_csv(f'{path}/y_train.csv', index_col = 'key_value')"
   ]
  },
  {
   "cell_type": "code",
   "execution_count": 2,
   "id": "functioning-shell",
   "metadata": {},
   "outputs": [],
   "source": [
    "train = pd.read_pickle('../data/train_features1320_score_0.85577.pkl')\n",
    "test = pd.read_pickle('../data/test_features1320_score_0.85577.pkl')"
   ]
  },
  {
   "cell_type": "code",
   "execution_count": 24,
   "id": "hollywood-layout",
   "metadata": {},
   "outputs": [
    {
     "name": "stdout",
     "output_type": "stream",
     "text": [
      "feature sin missing values 124 representando el 0.094 de features totales\n",
      "features con porc de missing values de 0 a 0.1 : 321 representando el 0.243 de features totales\n",
      "features con porc de missing values de 0.1 a 0.2 : 11 representando el 0.008 de features totales\n",
      "features con porc de missing values de 0.2 a 0.3 : 1 representando el 0.001 de features totales\n",
      "features con porc de missing values de 0.3 a 0.4 : 29 representando el 0.022 de features totales\n",
      "features con porc de missing values de 0.4 a 0.5 : 190 representando el 0.144 de features totales\n",
      "features con porc de missing values de 0.5 a 0.6 : 84 representando el 0.064 de features totales\n",
      "features con porc de missing values de 0.6 a 0.7 : 26 representando el 0.02 de features totales\n",
      "features con porc de missing values de 0.7 a 0.8 : 53 representando el 0.04 de features totales\n",
      "features con porc de missing values de 0.8 a 0.9 : 186 representando el 0.141 de features totales\n",
      "features con porc de missing values de 0.9 a 1.1 : 419 representando el 0.317 de features totales\n"
     ]
    }
   ],
   "source": [
    "aux = (train.isna().sum()/len(train)).sort_values()\n",
    "features_without_na = aux[aux==0]\n",
    "print(f'feature sin missing values {len(features_without_na)} representando el {round(len(features_without_na)/len(train.columns), 3)} de features totales')\n",
    "list_prec_na = [(0,0.1), (0.1,0.2), (0.2,0.3), (0.3,0.4), (0.4,0.5), (0.5,0.6), (0.6,0.7), (0.7,0.8), (0.8,0.9),(0.9,1.1)]\n",
    "for i in list_prec_na:\n",
    "    features_with_na = aux[(aux>=i[0]) & (aux<i[1])]\n",
    "    print(f'features con porc de missing values de {i[0]} a {i[1]} : {len(features_with_na)} representando el {round(len(features_with_na)/len(train.columns), 3)} de features totales')"
   ]
  },
  {
   "cell_type": "code",
   "execution_count": 25,
   "id": "australian-accused",
   "metadata": {},
   "outputs": [
    {
     "data": {
      "text/plain": [
       "1.094"
      ]
     },
     "execution_count": 25,
     "metadata": {},
     "output_type": "execute_result"
    }
   ],
   "source": [
    "0.094 + 0.243 + 0.008 + 0.001 + 0.022 + 0.144 + 0.064 + 0.02 + 0.04 + 0.141 + 0.317"
   ]
  },
  {
   "cell_type": "code",
   "execution_count": 8,
   "id": "annoying-message",
   "metadata": {},
   "outputs": [],
   "source": [
    "from lightgbm import LGBMClassifier\n",
    "from sklearn.metrics import roc_auc_score\n",
    "from sklearn.model_selection import KFold\n",
    "\n",
    "def cross_validation_lightgbm(train, y_train, test):\n",
    "    folds = [train.index[t] for t, v in KFold(5).split(train)]\n",
    "    test_probs = []\n",
    "    train_probs = []\n",
    "    fi = []\n",
    "    for i, idx in enumerate(folds):\n",
    "        print(\"*\"*10, i, \"*\"*10)\n",
    "        Xt = train.loc[idx]\n",
    "        yt = y_train.loc[Xt.index].target\n",
    "\n",
    "        Xv = train.drop(Xt.index)\n",
    "        yv = y_train.loc[Xv.index].target\n",
    "\n",
    "        learner = LGBMClassifier(n_estimators=1000, boosting_type='gbdt',min_child_samples=1500, \n",
    "                       colsample_bytree=0.8,subsample=0.8, max_bin=200, learning_rate=0.1, random_state=42)\n",
    "        learner.fit(Xt, yt,  early_stopping_rounds=10, eval_metric=\"auc\",\n",
    "                    eval_set=[(Xt, yt), (Xv, yv)], verbose=50)\n",
    "        test_probs.append(pd.Series(learner.predict_proba(test)[:, -1], index=test.index, name=\"fold_\" + str(i)))\n",
    "        train_probs.append(pd.Series(learner.predict_proba(Xv)[:, -1], index=Xv.index, name=\"probs\"))\n",
    "        fi.append(pd.Series(learner.feature_importances_ / learner.feature_importances_.sum(), index=Xt.columns))\n",
    "\n",
    "    test_probs = pd.concat(test_probs, axis=1).mean(axis=1)\n",
    "    train_probs = pd.concat(train_probs)\n",
    "    fi = pd.concat(fi, axis=1).mean(axis=1)\n",
    "    print(\"*\" * 21)\n",
    "    print(\"roc auc estimado: \", roc_auc_score(y_train, train_probs.loc[y_train.index]))\n",
    "    print(\"roc auc varianza: \", np.std([roc_auc_score(y_train.loc[folds[i]], train_probs.iloc[folds[i]]) for i in range(len(folds))])) \n",
    "    return test_probs, fi"
   ]
  },
  {
   "cell_type": "code",
   "execution_count": 34,
   "id": "sensitive-intelligence",
   "metadata": {
    "scrolled": true
   },
   "outputs": [
    {
     "name": "stdout",
     "output_type": "stream",
     "text": [
      "********** 0 **********\n",
      "Training until validation scores don't improve for 10 rounds\n",
      "[50]\ttraining's auc: 0.852624\ttraining's binary_logloss: 0.296118\tvalid_1's auc: 0.843978\tvalid_1's binary_logloss: 0.302702\n",
      "[100]\ttraining's auc: 0.865395\ttraining's binary_logloss: 0.285035\tvalid_1's auc: 0.851313\tvalid_1's binary_logloss: 0.296541\n",
      "[150]\ttraining's auc: 0.8731\ttraining's binary_logloss: 0.278557\tvalid_1's auc: 0.853176\tvalid_1's binary_logloss: 0.29491\n",
      "[200]\ttraining's auc: 0.879572\ttraining's binary_logloss: 0.273373\tvalid_1's auc: 0.854061\tvalid_1's binary_logloss: 0.294174\n",
      "[250]\ttraining's auc: 0.885087\ttraining's binary_logloss: 0.26889\tvalid_1's auc: 0.854427\tvalid_1's binary_logloss: 0.293868\n",
      "[300]\ttraining's auc: 0.890454\ttraining's binary_logloss: 0.264554\tvalid_1's auc: 0.854846\tvalid_1's binary_logloss: 0.293555\n",
      "Early stopping, best iteration is:\n",
      "[291]\ttraining's auc: 0.889494\ttraining's binary_logloss: 0.265343\tvalid_1's auc: 0.854926\tvalid_1's binary_logloss: 0.293491\n",
      "********** 1 **********\n",
      "Training until validation scores don't improve for 10 rounds\n",
      "[50]\ttraining's auc: 0.852659\ttraining's binary_logloss: 0.296158\tvalid_1's auc: 0.844142\tvalid_1's binary_logloss: 0.302632\n",
      "[100]\ttraining's auc: 0.86531\ttraining's binary_logloss: 0.285038\tvalid_1's auc: 0.850946\tvalid_1's binary_logloss: 0.29654\n",
      "[150]\ttraining's auc: 0.873278\ttraining's binary_logloss: 0.278449\tvalid_1's auc: 0.853159\tvalid_1's binary_logloss: 0.294577\n",
      "[200]\ttraining's auc: 0.879731\ttraining's binary_logloss: 0.273176\tvalid_1's auc: 0.854224\tvalid_1's binary_logloss: 0.293661\n",
      "[250]\ttraining's auc: 0.885364\ttraining's binary_logloss: 0.268599\tvalid_1's auc: 0.85468\tvalid_1's binary_logloss: 0.293352\n",
      "Early stopping, best iteration is:\n",
      "[246]\ttraining's auc: 0.88495\ttraining's binary_logloss: 0.268955\tvalid_1's auc: 0.854689\tvalid_1's binary_logloss: 0.293367\n",
      "********** 2 **********\n",
      "Training until validation scores don't improve for 10 rounds\n",
      "[50]\ttraining's auc: 0.852365\ttraining's binary_logloss: 0.296868\tvalid_1's auc: 0.846925\tvalid_1's binary_logloss: 0.300017\n",
      "[100]\ttraining's auc: 0.865205\ttraining's binary_logloss: 0.285612\tvalid_1's auc: 0.853487\tvalid_1's binary_logloss: 0.293919\n",
      "[150]\ttraining's auc: 0.873288\ttraining's binary_logloss: 0.279052\tvalid_1's auc: 0.855313\tvalid_1's binary_logloss: 0.292151\n",
      "[200]\ttraining's auc: 0.879615\ttraining's binary_logloss: 0.273855\tvalid_1's auc: 0.856131\tvalid_1's binary_logloss: 0.291392\n",
      "Early stopping, best iteration is:\n",
      "[238]\ttraining's auc: 0.884015\ttraining's binary_logloss: 0.27029\tvalid_1's auc: 0.856444\tvalid_1's binary_logloss: 0.291099\n",
      "********** 3 **********\n",
      "Training until validation scores don't improve for 10 rounds\n",
      "[50]\ttraining's auc: 0.852519\ttraining's binary_logloss: 0.29653\tvalid_1's auc: 0.844945\tvalid_1's binary_logloss: 0.301238\n",
      "[100]\ttraining's auc: 0.865534\ttraining's binary_logloss: 0.285371\tvalid_1's auc: 0.851631\tvalid_1's binary_logloss: 0.29497\n",
      "[150]\ttraining's auc: 0.87351\ttraining's binary_logloss: 0.278788\tvalid_1's auc: 0.853735\tvalid_1's binary_logloss: 0.293072\n",
      "[200]\ttraining's auc: 0.879979\ttraining's binary_logloss: 0.273573\tvalid_1's auc: 0.854694\tvalid_1's binary_logloss: 0.292259\n",
      "Early stopping, best iteration is:\n",
      "[208]\ttraining's auc: 0.880909\ttraining's binary_logloss: 0.272813\tvalid_1's auc: 0.854777\tvalid_1's binary_logloss: 0.292181\n",
      "********** 4 **********\n",
      "Training until validation scores don't improve for 10 rounds\n",
      "[50]\ttraining's auc: 0.854389\ttraining's binary_logloss: 0.295787\tvalid_1's auc: 0.837151\tvalid_1's binary_logloss: 0.3042\n",
      "[100]\ttraining's auc: 0.867513\ttraining's binary_logloss: 0.284273\tvalid_1's auc: 0.843502\tvalid_1's binary_logloss: 0.298778\n",
      "[150]\ttraining's auc: 0.875496\ttraining's binary_logloss: 0.277558\tvalid_1's auc: 0.8452\tvalid_1's binary_logloss: 0.297335\n",
      "[200]\ttraining's auc: 0.881888\ttraining's binary_logloss: 0.27231\tvalid_1's auc: 0.845725\tvalid_1's binary_logloss: 0.296876\n",
      "Early stopping, best iteration is:\n",
      "[212]\ttraining's auc: 0.883288\ttraining's binary_logloss: 0.271145\tvalid_1's auc: 0.845919\tvalid_1's binary_logloss: 0.296719\n",
      "*********************\n",
      "roc auc estimado:  0.8533866148470572\n",
      "roc auc varianza:  0.0009191361445742085\n"
     ]
    }
   ],
   "source": [
    "[test_probs,fi] = cross_validation_lightgbm(train, y_train, test)"
   ]
  },
  {
   "cell_type": "code",
   "execution_count": 9,
   "id": "unexpected-investing",
   "metadata": {},
   "outputs": [],
   "source": [
    "def get_feature_selection(fi):\n",
    "    zero_importance = fi[fi==0]\n",
    "    aux = fi[fi>0].sort_values(ascending=False)\n",
    "    keep_columns = []\n",
    "    count = 0\n",
    "    for feature,values in zip(aux.index, aux.values):\n",
    "        count+=values\n",
    "        if count<=0.99:\n",
    "            keep_columns.append(feature)\n",
    "            \n",
    "    print(f'total de variables : {len(fi)}')\n",
    "    print(f'variables con importancia acumulada al 99% : {len(keep_columns)}')\n",
    "    print(f'variables con zero importancia : {len(zero_importance)}')\n",
    "    return keep_columns, zero_importance"
   ]
  },
  {
   "cell_type": "code",
   "execution_count": 37,
   "id": "stylish-strike",
   "metadata": {
    "scrolled": true
   },
   "outputs": [
    {
     "name": "stdout",
     "output_type": "stream",
     "text": [
      "total de variables : 1320\n",
      "variables con importancia acumulada al 99% : 1243\n",
      "variables con zero importancia : 0\n"
     ]
    }
   ],
   "source": [
    "keep_columns, zero_importance = get_feature_selection(fi)"
   ]
  },
  {
   "cell_type": "code",
   "execution_count": 40,
   "id": "healthy-scanner",
   "metadata": {},
   "outputs": [],
   "source": [
    "keep_columns_v2 = keep_columns"
   ]
  },
  {
   "cell_type": "code",
   "execution_count": 39,
   "id": "pursuant-bracket",
   "metadata": {
    "scrolled": true
   },
   "outputs": [
    {
     "name": "stdout",
     "output_type": "stream",
     "text": [
      "********** 0 **********\n",
      "Training until validation scores don't improve for 10 rounds\n",
      "[50]\ttraining's auc: 0.852378\ttraining's binary_logloss: 0.296174\tvalid_1's auc: 0.843472\tvalid_1's binary_logloss: 0.303029\n",
      "[100]\ttraining's auc: 0.865188\ttraining's binary_logloss: 0.285052\tvalid_1's auc: 0.851167\tvalid_1's binary_logloss: 0.296636\n",
      "[150]\ttraining's auc: 0.873043\ttraining's binary_logloss: 0.278564\tvalid_1's auc: 0.853217\tvalid_1's binary_logloss: 0.294906\n",
      "[200]\ttraining's auc: 0.879468\ttraining's binary_logloss: 0.273405\tvalid_1's auc: 0.854177\tvalid_1's binary_logloss: 0.294115\n",
      "[250]\ttraining's auc: 0.885122\ttraining's binary_logloss: 0.268884\tvalid_1's auc: 0.854652\tvalid_1's binary_logloss: 0.293749\n",
      "Early stopping, best iteration is:\n",
      "[262]\ttraining's auc: 0.886401\ttraining's binary_logloss: 0.267808\tvalid_1's auc: 0.854745\tvalid_1's binary_logloss: 0.293678\n",
      "********** 1 **********\n",
      "Training until validation scores don't improve for 10 rounds\n",
      "[50]\ttraining's auc: 0.852395\ttraining's binary_logloss: 0.296265\tvalid_1's auc: 0.843194\tvalid_1's binary_logloss: 0.303251\n",
      "[100]\ttraining's auc: 0.86548\ttraining's binary_logloss: 0.285055\tvalid_1's auc: 0.850624\tvalid_1's binary_logloss: 0.296855\n",
      "[150]\ttraining's auc: 0.873397\ttraining's binary_logloss: 0.278536\tvalid_1's auc: 0.852784\tvalid_1's binary_logloss: 0.295006\n",
      "[200]\ttraining's auc: 0.879784\ttraining's binary_logloss: 0.273286\tvalid_1's auc: 0.853838\tvalid_1's binary_logloss: 0.294241\n",
      "[250]\ttraining's auc: 0.8855\ttraining's binary_logloss: 0.268674\tvalid_1's auc: 0.854321\tvalid_1's binary_logloss: 0.293832\n",
      "[300]\ttraining's auc: 0.890715\ttraining's binary_logloss: 0.264364\tvalid_1's auc: 0.854556\tvalid_1's binary_logloss: 0.293664\n",
      "Early stopping, best iteration is:\n",
      "[310]\ttraining's auc: 0.891686\ttraining's binary_logloss: 0.263585\tvalid_1's auc: 0.854615\tvalid_1's binary_logloss: 0.29362\n",
      "********** 2 **********\n",
      "Training until validation scores don't improve for 10 rounds\n",
      "[50]\ttraining's auc: 0.85243\ttraining's binary_logloss: 0.296807\tvalid_1's auc: 0.846421\tvalid_1's binary_logloss: 0.300282\n",
      "[100]\ttraining's auc: 0.865377\ttraining's binary_logloss: 0.285526\tvalid_1's auc: 0.852709\tvalid_1's binary_logloss: 0.294243\n",
      "[150]\ttraining's auc: 0.873275\ttraining's binary_logloss: 0.279003\tvalid_1's auc: 0.854516\tvalid_1's binary_logloss: 0.292425\n",
      "[200]\ttraining's auc: 0.879582\ttraining's binary_logloss: 0.273825\tvalid_1's auc: 0.855105\tvalid_1's binary_logloss: 0.291767\n",
      "Early stopping, best iteration is:\n",
      "[214]\ttraining's auc: 0.881164\ttraining's binary_logloss: 0.272498\tvalid_1's auc: 0.855333\tvalid_1's binary_logloss: 0.291606\n",
      "********** 3 **********\n",
      "Training until validation scores don't improve for 10 rounds\n",
      "[50]\ttraining's auc: 0.85242\ttraining's binary_logloss: 0.296653\tvalid_1's auc: 0.845724\tvalid_1's binary_logloss: 0.300989\n",
      "[100]\ttraining's auc: 0.86546\ttraining's binary_logloss: 0.285518\tvalid_1's auc: 0.852134\tvalid_1's binary_logloss: 0.294824\n",
      "[150]\ttraining's auc: 0.873454\ttraining's binary_logloss: 0.278955\tvalid_1's auc: 0.854149\tvalid_1's binary_logloss: 0.292847\n",
      "[200]\ttraining's auc: 0.879836\ttraining's binary_logloss: 0.273688\tvalid_1's auc: 0.854794\tvalid_1's binary_logloss: 0.29211\n",
      "[250]\ttraining's auc: 0.885637\ttraining's binary_logloss: 0.268983\tvalid_1's auc: 0.855458\tvalid_1's binary_logloss: 0.291586\n",
      "Early stopping, best iteration is:\n",
      "[289]\ttraining's auc: 0.889551\ttraining's binary_logloss: 0.265688\tvalid_1's auc: 0.855717\tvalid_1's binary_logloss: 0.291314\n",
      "********** 4 **********\n",
      "Training until validation scores don't improve for 10 rounds\n",
      "[50]\ttraining's auc: 0.85454\ttraining's binary_logloss: 0.295694\tvalid_1's auc: 0.837538\tvalid_1's binary_logloss: 0.304023\n",
      "[100]\ttraining's auc: 0.867407\ttraining's binary_logloss: 0.28435\tvalid_1's auc: 0.843631\tvalid_1's binary_logloss: 0.298645\n",
      "[150]\ttraining's auc: 0.875538\ttraining's binary_logloss: 0.27762\tvalid_1's auc: 0.845347\tvalid_1's binary_logloss: 0.29721\n",
      "[200]\ttraining's auc: 0.881916\ttraining's binary_logloss: 0.272312\tvalid_1's auc: 0.846176\tvalid_1's binary_logloss: 0.296504\n",
      "Early stopping, best iteration is:\n",
      "[226]\ttraining's auc: 0.884941\ttraining's binary_logloss: 0.269856\tvalid_1's auc: 0.846438\tvalid_1's binary_logloss: 0.296241\n",
      "*********************\n",
      "roc auc estimado:  0.8534044787621642\n",
      "roc auc varianza:  0.0008527483550512755\n"
     ]
    }
   ],
   "source": [
    "[test_probs,fi] = cross_validation_lightgbm(train[keep_columns], y_train, test[keep_columns])"
   ]
  },
  {
   "cell_type": "code",
   "execution_count": 41,
   "id": "rotary-forward",
   "metadata": {
    "scrolled": true
   },
   "outputs": [
    {
     "name": "stdout",
     "output_type": "stream",
     "text": [
      "total de variables : 1243\n",
      "variables con importancia acumulada al 99% : 1185\n",
      "variables con zero importancia : 0\n"
     ]
    }
   ],
   "source": [
    "keep_columns, zero_importance = get_feature_selection(fi)"
   ]
  },
  {
   "cell_type": "code",
   "execution_count": 42,
   "id": "weird-registrar",
   "metadata": {},
   "outputs": [],
   "source": [
    "keep_columns_v3 = keep_columns"
   ]
  },
  {
   "cell_type": "code",
   "execution_count": 43,
   "id": "floating-lying",
   "metadata": {
    "scrolled": true
   },
   "outputs": [
    {
     "name": "stdout",
     "output_type": "stream",
     "text": [
      "********** 0 **********\n",
      "Training until validation scores don't improve for 10 rounds\n",
      "[50]\ttraining's auc: 0.852581\ttraining's binary_logloss: 0.296109\tvalid_1's auc: 0.843226\tvalid_1's binary_logloss: 0.303089\n",
      "[100]\ttraining's auc: 0.865371\ttraining's binary_logloss: 0.285\tvalid_1's auc: 0.850683\tvalid_1's binary_logloss: 0.296826\n",
      "[150]\ttraining's auc: 0.873179\ttraining's binary_logloss: 0.278537\tvalid_1's auc: 0.852967\tvalid_1's binary_logloss: 0.294983\n",
      "[200]\ttraining's auc: 0.879609\ttraining's binary_logloss: 0.273353\tvalid_1's auc: 0.853852\tvalid_1's binary_logloss: 0.294239\n",
      "[250]\ttraining's auc: 0.885055\ttraining's binary_logloss: 0.268861\tvalid_1's auc: 0.854434\tvalid_1's binary_logloss: 0.293741\n",
      "Early stopping, best iteration is:\n",
      "[272]\ttraining's auc: 0.88721\ttraining's binary_logloss: 0.267039\tvalid_1's auc: 0.854625\tvalid_1's binary_logloss: 0.293598\n",
      "********** 1 **********\n",
      "Training until validation scores don't improve for 10 rounds\n",
      "[50]\ttraining's auc: 0.85237\ttraining's binary_logloss: 0.29623\tvalid_1's auc: 0.843538\tvalid_1's binary_logloss: 0.303042\n",
      "[100]\ttraining's auc: 0.86522\ttraining's binary_logloss: 0.285113\tvalid_1's auc: 0.850542\tvalid_1's binary_logloss: 0.296826\n",
      "[150]\ttraining's auc: 0.873323\ttraining's binary_logloss: 0.278461\tvalid_1's auc: 0.85301\tvalid_1's binary_logloss: 0.294895\n",
      "Early stopping, best iteration is:\n",
      "[185]\ttraining's auc: 0.877783\ttraining's binary_logloss: 0.274809\tvalid_1's auc: 0.853732\tvalid_1's binary_logloss: 0.294254\n",
      "********** 2 **********\n",
      "Training until validation scores don't improve for 10 rounds\n",
      "[50]\ttraining's auc: 0.852497\ttraining's binary_logloss: 0.296776\tvalid_1's auc: 0.846755\tvalid_1's binary_logloss: 0.300143\n",
      "[100]\ttraining's auc: 0.865107\ttraining's binary_logloss: 0.28559\tvalid_1's auc: 0.853022\tvalid_1's binary_logloss: 0.294085\n",
      "[150]\ttraining's auc: 0.873029\ttraining's binary_logloss: 0.279075\tvalid_1's auc: 0.854839\tvalid_1's binary_logloss: 0.292435\n",
      "[200]\ttraining's auc: 0.879529\ttraining's binary_logloss: 0.273824\tvalid_1's auc: 0.855764\tvalid_1's binary_logloss: 0.291651\n",
      "Early stopping, best iteration is:\n",
      "[204]\ttraining's auc: 0.879988\ttraining's binary_logloss: 0.273459\tvalid_1's auc: 0.855835\tvalid_1's binary_logloss: 0.291611\n",
      "********** 3 **********\n",
      "Training until validation scores don't improve for 10 rounds\n",
      "[50]\ttraining's auc: 0.852141\ttraining's binary_logloss: 0.296719\tvalid_1's auc: 0.845045\tvalid_1's binary_logloss: 0.301255\n",
      "[100]\ttraining's auc: 0.865134\ttraining's binary_logloss: 0.285625\tvalid_1's auc: 0.851823\tvalid_1's binary_logloss: 0.294987\n",
      "[150]\ttraining's auc: 0.873219\ttraining's binary_logloss: 0.279029\tvalid_1's auc: 0.854067\tvalid_1's binary_logloss: 0.292933\n",
      "[200]\ttraining's auc: 0.879611\ttraining's binary_logloss: 0.273913\tvalid_1's auc: 0.854638\tvalid_1's binary_logloss: 0.292322\n",
      "[250]\ttraining's auc: 0.885306\ttraining's binary_logloss: 0.269206\tvalid_1's auc: 0.855208\tvalid_1's binary_logloss: 0.291898\n",
      "Early stopping, best iteration is:\n",
      "[245]\ttraining's auc: 0.884762\ttraining's binary_logloss: 0.269651\tvalid_1's auc: 0.855268\tvalid_1's binary_logloss: 0.291865\n",
      "********** 4 **********\n",
      "Training until validation scores don't improve for 10 rounds\n",
      "[50]\ttraining's auc: 0.854334\ttraining's binary_logloss: 0.295776\tvalid_1's auc: 0.837473\tvalid_1's binary_logloss: 0.304013\n",
      "[100]\ttraining's auc: 0.867268\ttraining's binary_logloss: 0.284384\tvalid_1's auc: 0.843606\tvalid_1's binary_logloss: 0.298585\n",
      "[150]\ttraining's auc: 0.875249\ttraining's binary_logloss: 0.277746\tvalid_1's auc: 0.845253\tvalid_1's binary_logloss: 0.297211\n",
      "[200]\ttraining's auc: 0.881738\ttraining's binary_logloss: 0.272438\tvalid_1's auc: 0.845895\tvalid_1's binary_logloss: 0.296615\n",
      "Early stopping, best iteration is:\n",
      "[227]\ttraining's auc: 0.884909\ttraining's binary_logloss: 0.269887\tvalid_1's auc: 0.846063\tvalid_1's binary_logloss: 0.296495\n",
      "*********************\n",
      "roc auc estimado:  0.8531313636333722\n",
      "roc auc varianza:  0.000876985212125003\n"
     ]
    }
   ],
   "source": [
    "[test_probs,fi] = cross_validation_lightgbm(train[keep_columns], y_train, test[keep_columns])"
   ]
  },
  {
   "cell_type": "code",
   "execution_count": 44,
   "id": "blind-fancy",
   "metadata": {},
   "outputs": [
    {
     "name": "stdout",
     "output_type": "stream",
     "text": [
      "total de variables : 1185\n",
      "variables con importancia acumulada al 99% : 1127\n",
      "variables con zero importancia : 0\n"
     ]
    }
   ],
   "source": [
    "keep_columns, zero_importance = get_feature_selection(fi)"
   ]
  },
  {
   "cell_type": "code",
   "execution_count": 45,
   "id": "advisory-gibraltar",
   "metadata": {},
   "outputs": [],
   "source": [
    "keep_columns_v4 = keep_columns"
   ]
  },
  {
   "cell_type": "code",
   "execution_count": 46,
   "id": "sunset-chile",
   "metadata": {
    "scrolled": true
   },
   "outputs": [
    {
     "name": "stdout",
     "output_type": "stream",
     "text": [
      "********** 0 **********\n",
      "Training until validation scores don't improve for 10 rounds\n",
      "[50]\ttraining's auc: 0.852748\ttraining's binary_logloss: 0.296059\tvalid_1's auc: 0.843539\tvalid_1's binary_logloss: 0.30304\n",
      "[100]\ttraining's auc: 0.865354\ttraining's binary_logloss: 0.284976\tvalid_1's auc: 0.851044\tvalid_1's binary_logloss: 0.296813\n",
      "[150]\ttraining's auc: 0.873158\ttraining's binary_logloss: 0.278522\tvalid_1's auc: 0.853108\tvalid_1's binary_logloss: 0.295065\n",
      "[200]\ttraining's auc: 0.879555\ttraining's binary_logloss: 0.273359\tvalid_1's auc: 0.854173\tvalid_1's binary_logloss: 0.294225\n",
      "[250]\ttraining's auc: 0.885139\ttraining's binary_logloss: 0.268794\tvalid_1's auc: 0.854656\tvalid_1's binary_logloss: 0.293835\n",
      "Early stopping, best iteration is:\n",
      "[265]\ttraining's auc: 0.886761\ttraining's binary_logloss: 0.2675\tvalid_1's auc: 0.854778\tvalid_1's binary_logloss: 0.293719\n",
      "********** 1 **********\n",
      "Training until validation scores don't improve for 10 rounds\n",
      "[50]\ttraining's auc: 0.852416\ttraining's binary_logloss: 0.296278\tvalid_1's auc: 0.843886\tvalid_1's binary_logloss: 0.302764\n",
      "[100]\ttraining's auc: 0.865214\ttraining's binary_logloss: 0.285096\tvalid_1's auc: 0.850916\tvalid_1's binary_logloss: 0.296577\n",
      "[150]\ttraining's auc: 0.873068\ttraining's binary_logloss: 0.278597\tvalid_1's auc: 0.853049\tvalid_1's binary_logloss: 0.294755\n",
      "[200]\ttraining's auc: 0.879347\ttraining's binary_logloss: 0.273416\tvalid_1's auc: 0.854028\tvalid_1's binary_logloss: 0.293876\n",
      "[250]\ttraining's auc: 0.884985\ttraining's binary_logloss: 0.268853\tvalid_1's auc: 0.854728\tvalid_1's binary_logloss: 0.29335\n",
      "Early stopping, best iteration is:\n",
      "[265]\ttraining's auc: 0.886674\ttraining's binary_logloss: 0.267549\tvalid_1's auc: 0.854851\tvalid_1's binary_logloss: 0.293276\n",
      "********** 2 **********\n",
      "Training until validation scores don't improve for 10 rounds\n",
      "[50]\ttraining's auc: 0.852417\ttraining's binary_logloss: 0.296798\tvalid_1's auc: 0.847126\tvalid_1's binary_logloss: 0.3\n",
      "[100]\ttraining's auc: 0.865079\ttraining's binary_logloss: 0.285684\tvalid_1's auc: 0.853634\tvalid_1's binary_logloss: 0.293866\n",
      "[150]\ttraining's auc: 0.873044\ttraining's binary_logloss: 0.279087\tvalid_1's auc: 0.855514\tvalid_1's binary_logloss: 0.292123\n",
      "[200]\ttraining's auc: 0.87952\ttraining's binary_logloss: 0.273907\tvalid_1's auc: 0.856286\tvalid_1's binary_logloss: 0.29146\n",
      "Early stopping, best iteration is:\n",
      "[205]\ttraining's auc: 0.88007\ttraining's binary_logloss: 0.273447\tvalid_1's auc: 0.856313\tvalid_1's binary_logloss: 0.291436\n",
      "********** 3 **********\n",
      "Training until validation scores don't improve for 10 rounds\n",
      "[50]\ttraining's auc: 0.852429\ttraining's binary_logloss: 0.296608\tvalid_1's auc: 0.845365\tvalid_1's binary_logloss: 0.300944\n",
      "[100]\ttraining's auc: 0.86538\ttraining's binary_logloss: 0.285473\tvalid_1's auc: 0.852141\tvalid_1's binary_logloss: 0.294665\n",
      "[150]\ttraining's auc: 0.87334\ttraining's binary_logloss: 0.278915\tvalid_1's auc: 0.85426\tvalid_1's binary_logloss: 0.292697\n",
      "[200]\ttraining's auc: 0.879909\ttraining's binary_logloss: 0.27356\tvalid_1's auc: 0.855089\tvalid_1's binary_logloss: 0.291916\n",
      "Early stopping, best iteration is:\n",
      "[239]\ttraining's auc: 0.884341\ttraining's binary_logloss: 0.269923\tvalid_1's auc: 0.855729\tvalid_1's binary_logloss: 0.291398\n",
      "********** 4 **********\n",
      "Training until validation scores don't improve for 10 rounds\n",
      "[50]\ttraining's auc: 0.854601\ttraining's binary_logloss: 0.295737\tvalid_1's auc: 0.837642\tvalid_1's binary_logloss: 0.303999\n",
      "[100]\ttraining's auc: 0.867381\ttraining's binary_logloss: 0.284326\tvalid_1's auc: 0.843573\tvalid_1's binary_logloss: 0.29864\n",
      "[150]\ttraining's auc: 0.875328\ttraining's binary_logloss: 0.277724\tvalid_1's auc: 0.845473\tvalid_1's binary_logloss: 0.297147\n",
      "[200]\ttraining's auc: 0.881659\ttraining's binary_logloss: 0.272503\tvalid_1's auc: 0.846268\tvalid_1's binary_logloss: 0.296515\n",
      "Early stopping, best iteration is:\n",
      "[239]\ttraining's auc: 0.886085\ttraining's binary_logloss: 0.268859\tvalid_1's auc: 0.846639\tvalid_1's binary_logloss: 0.296273\n",
      "*********************\n",
      "roc auc estimado:  0.8536974749532258\n",
      "roc auc varianza:  0.0008657984516051432\n"
     ]
    }
   ],
   "source": [
    "[test_probs,fi] = cross_validation_lightgbm(train[keep_columns], y_train, test[keep_columns])"
   ]
  },
  {
   "cell_type": "code",
   "execution_count": 47,
   "id": "starting-grill",
   "metadata": {
    "scrolled": true
   },
   "outputs": [
    {
     "name": "stdout",
     "output_type": "stream",
     "text": [
      "total de variables : 1127\n",
      "variables con importancia acumulada al 99% : 1079\n",
      "variables con zero importancia : 0\n"
     ]
    }
   ],
   "source": [
    "keep_columns, zero_importance = get_feature_selection(fi)"
   ]
  },
  {
   "cell_type": "code",
   "execution_count": 51,
   "id": "neural-character",
   "metadata": {},
   "outputs": [],
   "source": [
    "keep_columns_v5 = keep_columns"
   ]
  },
  {
   "cell_type": "code",
   "execution_count": 55,
   "id": "antique-medicare",
   "metadata": {
    "scrolled": true
   },
   "outputs": [
    {
     "name": "stdout",
     "output_type": "stream",
     "text": [
      "********** 0 **********\n",
      "Training until validation scores don't improve for 10 rounds\n",
      "[50]\ttraining's auc: 0.852639\ttraining's binary_logloss: 0.296128\tvalid_1's auc: 0.843327\tvalid_1's binary_logloss: 0.303022\n",
      "[100]\ttraining's auc: 0.865461\ttraining's binary_logloss: 0.285033\tvalid_1's auc: 0.850839\tvalid_1's binary_logloss: 0.296821\n",
      "[150]\ttraining's auc: 0.873425\ttraining's binary_logloss: 0.278506\tvalid_1's auc: 0.852953\tvalid_1's binary_logloss: 0.294951\n",
      "[200]\ttraining's auc: 0.879771\ttraining's binary_logloss: 0.273336\tvalid_1's auc: 0.85393\tvalid_1's binary_logloss: 0.29418\n",
      "[250]\ttraining's auc: 0.885369\ttraining's binary_logloss: 0.268747\tvalid_1's auc: 0.854595\tvalid_1's binary_logloss: 0.293587\n",
      "Early stopping, best iteration is:\n",
      "[247]\ttraining's auc: 0.885073\ttraining's binary_logloss: 0.268993\tvalid_1's auc: 0.854636\tvalid_1's binary_logloss: 0.293551\n",
      "********** 1 **********\n",
      "Training until validation scores don't improve for 10 rounds\n",
      "[50]\ttraining's auc: 0.852238\ttraining's binary_logloss: 0.296356\tvalid_1's auc: 0.843474\tvalid_1's binary_logloss: 0.303009\n",
      "[100]\ttraining's auc: 0.865278\ttraining's binary_logloss: 0.285115\tvalid_1's auc: 0.850833\tvalid_1's binary_logloss: 0.296742\n",
      "[150]\ttraining's auc: 0.873094\ttraining's binary_logloss: 0.278695\tvalid_1's auc: 0.852686\tvalid_1's binary_logloss: 0.295083\n",
      "[200]\ttraining's auc: 0.879565\ttraining's binary_logloss: 0.27344\tvalid_1's auc: 0.853914\tvalid_1's binary_logloss: 0.29409\n",
      "Early stopping, best iteration is:\n",
      "[223]\ttraining's auc: 0.882295\ttraining's binary_logloss: 0.271253\tvalid_1's auc: 0.854122\tvalid_1's binary_logloss: 0.293933\n",
      "********** 2 **********\n",
      "Training until validation scores don't improve for 10 rounds\n",
      "[50]\ttraining's auc: 0.852287\ttraining's binary_logloss: 0.29674\tvalid_1's auc: 0.847037\tvalid_1's binary_logloss: 0.299985\n",
      "[100]\ttraining's auc: 0.865123\ttraining's binary_logloss: 0.285565\tvalid_1's auc: 0.853375\tvalid_1's binary_logloss: 0.293909\n",
      "[150]\ttraining's auc: 0.87312\ttraining's binary_logloss: 0.278991\tvalid_1's auc: 0.855408\tvalid_1's binary_logloss: 0.291966\n",
      "[200]\ttraining's auc: 0.879628\ttraining's binary_logloss: 0.27381\tvalid_1's auc: 0.856067\tvalid_1's binary_logloss: 0.291313\n",
      "[250]\ttraining's auc: 0.885225\ttraining's binary_logloss: 0.269228\tvalid_1's auc: 0.8566\tvalid_1's binary_logloss: 0.290849\n",
      "Early stopping, best iteration is:\n",
      "[241]\ttraining's auc: 0.884316\ttraining's binary_logloss: 0.26998\tvalid_1's auc: 0.856607\tvalid_1's binary_logloss: 0.290844\n",
      "********** 3 **********\n",
      "Training until validation scores don't improve for 10 rounds\n",
      "[50]\ttraining's auc: 0.852071\ttraining's binary_logloss: 0.296761\tvalid_1's auc: 0.8449\tvalid_1's binary_logloss: 0.301141\n",
      "[100]\ttraining's auc: 0.86528\ttraining's binary_logloss: 0.285588\tvalid_1's auc: 0.851766\tvalid_1's binary_logloss: 0.294912\n",
      "[150]\ttraining's auc: 0.873396\ttraining's binary_logloss: 0.278958\tvalid_1's auc: 0.853652\tvalid_1's binary_logloss: 0.293117\n",
      "Early stopping, best iteration is:\n",
      "[184]\ttraining's auc: 0.877808\ttraining's binary_logloss: 0.275328\tvalid_1's auc: 0.854269\tvalid_1's binary_logloss: 0.292569\n",
      "********** 4 **********\n",
      "Training until validation scores don't improve for 10 rounds\n",
      "[50]\ttraining's auc: 0.854217\ttraining's binary_logloss: 0.295916\tvalid_1's auc: 0.837114\tvalid_1's binary_logloss: 0.304293\n",
      "[100]\ttraining's auc: 0.867138\ttraining's binary_logloss: 0.284459\tvalid_1's auc: 0.843491\tvalid_1's binary_logloss: 0.298635\n",
      "[150]\ttraining's auc: 0.875155\ttraining's binary_logloss: 0.277799\tvalid_1's auc: 0.845482\tvalid_1's binary_logloss: 0.296927\n",
      "[200]\ttraining's auc: 0.881391\ttraining's binary_logloss: 0.272608\tvalid_1's auc: 0.846223\tvalid_1's binary_logloss: 0.296264\n",
      "Early stopping, best iteration is:\n",
      "[238]\ttraining's auc: 0.885798\ttraining's binary_logloss: 0.268962\tvalid_1's auc: 0.846608\tvalid_1's binary_logloss: 0.295966\n",
      "*********************\n",
      "roc auc estimado:  0.8532825706698739\n",
      "roc auc varianza:  0.0008401341885455473\n"
     ]
    }
   ],
   "source": [
    "[test_probs,fi] = cross_validation_lightgbm(train[keep_columns], y_train, test[keep_columns])"
   ]
  },
  {
   "cell_type": "code",
   "execution_count": 56,
   "id": "emotional-barrel",
   "metadata": {},
   "outputs": [
    {
     "name": "stdout",
     "output_type": "stream",
     "text": [
      "total de variables : 1079\n",
      "variables con importancia acumulada al 99% : 1033\n",
      "variables con zero importancia : 0\n"
     ]
    }
   ],
   "source": [
    "keep_columns, zero_importance = get_feature_selection(fi)"
   ]
  },
  {
   "cell_type": "code",
   "execution_count": 57,
   "id": "greenhouse-paris",
   "metadata": {},
   "outputs": [],
   "source": [
    "keep_columns_v6 = keep_columns"
   ]
  },
  {
   "cell_type": "code",
   "execution_count": 58,
   "id": "advisory-calvin",
   "metadata": {
    "scrolled": true
   },
   "outputs": [
    {
     "name": "stdout",
     "output_type": "stream",
     "text": [
      "********** 0 **********\n",
      "Training until validation scores don't improve for 10 rounds\n",
      "[50]\ttraining's auc: 0.852468\ttraining's binary_logloss: 0.296145\tvalid_1's auc: 0.843745\tvalid_1's binary_logloss: 0.302847\n",
      "[100]\ttraining's auc: 0.865091\ttraining's binary_logloss: 0.285128\tvalid_1's auc: 0.850863\tvalid_1's binary_logloss: 0.296842\n",
      "[150]\ttraining's auc: 0.873151\ttraining's binary_logloss: 0.278585\tvalid_1's auc: 0.853074\tvalid_1's binary_logloss: 0.295076\n",
      "[200]\ttraining's auc: 0.879489\ttraining's binary_logloss: 0.273428\tvalid_1's auc: 0.854201\tvalid_1's binary_logloss: 0.294205\n",
      "[250]\ttraining's auc: 0.885268\ttraining's binary_logloss: 0.268801\tvalid_1's auc: 0.854445\tvalid_1's binary_logloss: 0.293948\n",
      "[300]\ttraining's auc: 0.890445\ttraining's binary_logloss: 0.26455\tvalid_1's auc: 0.854723\tvalid_1's binary_logloss: 0.293734\n",
      "Early stopping, best iteration is:\n",
      "[299]\ttraining's auc: 0.890356\ttraining's binary_logloss: 0.264623\tvalid_1's auc: 0.854743\tvalid_1's binary_logloss: 0.293721\n",
      "********** 1 **********\n",
      "Training until validation scores don't improve for 10 rounds\n",
      "[50]\ttraining's auc: 0.852371\ttraining's binary_logloss: 0.29622\tvalid_1's auc: 0.84374\tvalid_1's binary_logloss: 0.302811\n",
      "[100]\ttraining's auc: 0.865137\ttraining's binary_logloss: 0.285147\tvalid_1's auc: 0.850845\tvalid_1's binary_logloss: 0.296573\n",
      "[150]\ttraining's auc: 0.873089\ttraining's binary_logloss: 0.278715\tvalid_1's auc: 0.853259\tvalid_1's binary_logloss: 0.29469\n",
      "[200]\ttraining's auc: 0.879322\ttraining's binary_logloss: 0.273537\tvalid_1's auc: 0.854367\tvalid_1's binary_logloss: 0.293725\n",
      "[250]\ttraining's auc: 0.884967\ttraining's binary_logloss: 0.268961\tvalid_1's auc: 0.854879\tvalid_1's binary_logloss: 0.293331\n",
      "Early stopping, best iteration is:\n",
      "[269]\ttraining's auc: 0.886958\ttraining's binary_logloss: 0.267297\tvalid_1's auc: 0.855001\tvalid_1's binary_logloss: 0.293197\n",
      "********** 2 **********\n",
      "Training until validation scores don't improve for 10 rounds\n",
      "[50]\ttraining's auc: 0.852578\ttraining's binary_logloss: 0.296681\tvalid_1's auc: 0.846988\tvalid_1's binary_logloss: 0.29997\n",
      "[100]\ttraining's auc: 0.865459\ttraining's binary_logloss: 0.285476\tvalid_1's auc: 0.853571\tvalid_1's binary_logloss: 0.293818\n",
      "[150]\ttraining's auc: 0.873333\ttraining's binary_logloss: 0.278967\tvalid_1's auc: 0.85547\tvalid_1's binary_logloss: 0.292008\n",
      "[200]\ttraining's auc: 0.879705\ttraining's binary_logloss: 0.273791\tvalid_1's auc: 0.85603\tvalid_1's binary_logloss: 0.291329\n",
      "Early stopping, best iteration is:\n",
      "[216]\ttraining's auc: 0.881568\ttraining's binary_logloss: 0.272312\tvalid_1's auc: 0.8562\tvalid_1's binary_logloss: 0.291208\n",
      "********** 3 **********\n",
      "Training until validation scores don't improve for 10 rounds\n",
      "[50]\ttraining's auc: 0.852103\ttraining's binary_logloss: 0.296742\tvalid_1's auc: 0.845215\tvalid_1's binary_logloss: 0.301187\n",
      "[100]\ttraining's auc: 0.865079\ttraining's binary_logloss: 0.285626\tvalid_1's auc: 0.851762\tvalid_1's binary_logloss: 0.294983\n",
      "[150]\ttraining's auc: 0.873165\ttraining's binary_logloss: 0.279068\tvalid_1's auc: 0.853749\tvalid_1's binary_logloss: 0.293117\n",
      "[200]\ttraining's auc: 0.879581\ttraining's binary_logloss: 0.273894\tvalid_1's auc: 0.854729\tvalid_1's binary_logloss: 0.29228\n",
      "[250]\ttraining's auc: 0.885296\ttraining's binary_logloss: 0.269233\tvalid_1's auc: 0.855153\tvalid_1's binary_logloss: 0.291869\n",
      "Early stopping, best iteration is:\n",
      "[242]\ttraining's auc: 0.884417\ttraining's binary_logloss: 0.269948\tvalid_1's auc: 0.855182\tvalid_1's binary_logloss: 0.291866\n",
      "********** 4 **********\n",
      "Training until validation scores don't improve for 10 rounds\n",
      "[50]\ttraining's auc: 0.854527\ttraining's binary_logloss: 0.295809\tvalid_1's auc: 0.837897\tvalid_1's binary_logloss: 0.303801\n",
      "[100]\ttraining's auc: 0.867428\ttraining's binary_logloss: 0.284385\tvalid_1's auc: 0.843605\tvalid_1's binary_logloss: 0.298508\n",
      "[150]\ttraining's auc: 0.875448\ttraining's binary_logloss: 0.277696\tvalid_1's auc: 0.845257\tvalid_1's binary_logloss: 0.296979\n",
      "[200]\ttraining's auc: 0.881742\ttraining's binary_logloss: 0.272478\tvalid_1's auc: 0.846044\tvalid_1's binary_logloss: 0.296323\n",
      "Early stopping, best iteration is:\n",
      "[199]\ttraining's auc: 0.881626\ttraining's binary_logloss: 0.27258\tvalid_1's auc: 0.846075\tvalid_1's binary_logloss: 0.296302\n",
      "*********************\n",
      "roc auc estimado:  0.8534772105292192\n",
      "roc auc varianza:  0.0009031277004244342\n"
     ]
    }
   ],
   "source": [
    "[test_probs,fi] = cross_validation_lightgbm(train[keep_columns], y_train, test[keep_columns])"
   ]
  },
  {
   "cell_type": "code",
   "execution_count": 59,
   "id": "internal-disposal",
   "metadata": {
    "scrolled": true
   },
   "outputs": [
    {
     "name": "stdout",
     "output_type": "stream",
     "text": [
      "total de variables : 1033\n",
      "variables con importancia acumulada al 99% : 996\n",
      "variables con zero importancia : 0\n"
     ]
    }
   ],
   "source": [
    "keep_columns, zero_importance = get_feature_selection(fi)"
   ]
  },
  {
   "cell_type": "code",
   "execution_count": 60,
   "id": "existing-bridges",
   "metadata": {},
   "outputs": [],
   "source": [
    "keep_columns_v7 = keep_columns"
   ]
  },
  {
   "cell_type": "code",
   "execution_count": 61,
   "id": "thousand-intro",
   "metadata": {
    "scrolled": true
   },
   "outputs": [
    {
     "name": "stdout",
     "output_type": "stream",
     "text": [
      "********** 0 **********\n",
      "Training until validation scores don't improve for 10 rounds\n",
      "[50]\ttraining's auc: 0.852459\ttraining's binary_logloss: 0.296164\tvalid_1's auc: 0.843402\tvalid_1's binary_logloss: 0.303\n",
      "[100]\ttraining's auc: 0.865472\ttraining's binary_logloss: 0.285009\tvalid_1's auc: 0.850748\tvalid_1's binary_logloss: 0.29696\n",
      "[150]\ttraining's auc: 0.873124\ttraining's binary_logloss: 0.27857\tvalid_1's auc: 0.852916\tvalid_1's binary_logloss: 0.295064\n",
      "[200]\ttraining's auc: 0.879649\ttraining's binary_logloss: 0.273366\tvalid_1's auc: 0.85421\tvalid_1's binary_logloss: 0.294194\n",
      "Early stopping, best iteration is:\n",
      "[223]\ttraining's auc: 0.882207\ttraining's binary_logloss: 0.271223\tvalid_1's auc: 0.854436\tvalid_1's binary_logloss: 0.294009\n",
      "********** 1 **********\n",
      "Training until validation scores don't improve for 10 rounds\n",
      "[50]\ttraining's auc: 0.852466\ttraining's binary_logloss: 0.296253\tvalid_1's auc: 0.844005\tvalid_1's binary_logloss: 0.302816\n",
      "[100]\ttraining's auc: 0.865123\ttraining's binary_logloss: 0.285164\tvalid_1's auc: 0.85085\tvalid_1's binary_logloss: 0.296672\n",
      "[150]\ttraining's auc: 0.873152\ttraining's binary_logloss: 0.278628\tvalid_1's auc: 0.852992\tvalid_1's binary_logloss: 0.294869\n",
      "[200]\ttraining's auc: 0.879583\ttraining's binary_logloss: 0.273436\tvalid_1's auc: 0.853958\tvalid_1's binary_logloss: 0.294093\n",
      "[250]\ttraining's auc: 0.885218\ttraining's binary_logloss: 0.26885\tvalid_1's auc: 0.854574\tvalid_1's binary_logloss: 0.293622\n",
      "Early stopping, best iteration is:\n",
      "[261]\ttraining's auc: 0.886318\ttraining's binary_logloss: 0.267907\tvalid_1's auc: 0.85477\tvalid_1's binary_logloss: 0.293486\n",
      "********** 2 **********\n",
      "Training until validation scores don't improve for 10 rounds\n",
      "[50]\ttraining's auc: 0.852446\ttraining's binary_logloss: 0.296746\tvalid_1's auc: 0.847217\tvalid_1's binary_logloss: 0.299867\n",
      "[100]\ttraining's auc: 0.865169\ttraining's binary_logloss: 0.285532\tvalid_1's auc: 0.853462\tvalid_1's binary_logloss: 0.293847\n",
      "[150]\ttraining's auc: 0.873165\ttraining's binary_logloss: 0.278984\tvalid_1's auc: 0.855502\tvalid_1's binary_logloss: 0.292041\n",
      "Early stopping, best iteration is:\n",
      "[177]\ttraining's auc: 0.876764\ttraining's binary_logloss: 0.276138\tvalid_1's auc: 0.85587\tvalid_1's binary_logloss: 0.291652\n",
      "********** 3 **********\n",
      "Training until validation scores don't improve for 10 rounds\n",
      "[50]\ttraining's auc: 0.852596\ttraining's binary_logloss: 0.296496\tvalid_1's auc: 0.845234\tvalid_1's binary_logloss: 0.301216\n",
      "[100]\ttraining's auc: 0.865608\ttraining's binary_logloss: 0.285338\tvalid_1's auc: 0.851964\tvalid_1's binary_logloss: 0.294885\n",
      "[150]\ttraining's auc: 0.873511\ttraining's binary_logloss: 0.278763\tvalid_1's auc: 0.853693\tvalid_1's binary_logloss: 0.293112\n",
      "[200]\ttraining's auc: 0.879962\ttraining's binary_logloss: 0.273623\tvalid_1's auc: 0.854458\tvalid_1's binary_logloss: 0.292406\n",
      "Early stopping, best iteration is:\n",
      "[230]\ttraining's auc: 0.883275\ttraining's binary_logloss: 0.27083\tvalid_1's auc: 0.854883\tvalid_1's binary_logloss: 0.292021\n",
      "********** 4 **********\n",
      "Training until validation scores don't improve for 10 rounds\n",
      "[50]\ttraining's auc: 0.854183\ttraining's binary_logloss: 0.295866\tvalid_1's auc: 0.83699\tvalid_1's binary_logloss: 0.304216\n",
      "[100]\ttraining's auc: 0.867314\ttraining's binary_logloss: 0.284424\tvalid_1's auc: 0.842916\tvalid_1's binary_logloss: 0.29901\n",
      "[150]\ttraining's auc: 0.875214\ttraining's binary_logloss: 0.277804\tvalid_1's auc: 0.844658\tvalid_1's binary_logloss: 0.297464\n",
      "[200]\ttraining's auc: 0.881629\ttraining's binary_logloss: 0.27255\tvalid_1's auc: 0.845516\tvalid_1's binary_logloss: 0.29671\n",
      "Early stopping, best iteration is:\n",
      "[213]\ttraining's auc: 0.883142\ttraining's binary_logloss: 0.271323\tvalid_1's auc: 0.84568\tvalid_1's binary_logloss: 0.296604\n",
      "*********************\n",
      "roc auc estimado:  0.8531663338282304\n",
      "roc auc varianza:  0.0009129885083284233\n"
     ]
    }
   ],
   "source": [
    "[test_probs,fi] = cross_validation_lightgbm(train[keep_columns], y_train, test[keep_columns])"
   ]
  },
  {
   "cell_type": "code",
   "execution_count": 62,
   "id": "intelligent-syndicate",
   "metadata": {
    "scrolled": true
   },
   "outputs": [
    {
     "name": "stdout",
     "output_type": "stream",
     "text": [
      "total de variables : 996\n",
      "variables con importancia acumulada al 99% : 959\n",
      "variables con zero importancia : 0\n"
     ]
    }
   ],
   "source": [
    "keep_columns, zero_importance = get_feature_selection(fi)"
   ]
  },
  {
   "cell_type": "code",
   "execution_count": 63,
   "id": "stylish-terminology",
   "metadata": {},
   "outputs": [],
   "source": [
    "keep_columns_v8 = keep_columns  #####"
   ]
  },
  {
   "cell_type": "code",
   "execution_count": 64,
   "id": "seasonal-ethiopia",
   "metadata": {
    "scrolled": true
   },
   "outputs": [
    {
     "name": "stdout",
     "output_type": "stream",
     "text": [
      "********** 0 **********\n",
      "Training until validation scores don't improve for 10 rounds\n",
      "[50]\ttraining's auc: 0.852298\ttraining's binary_logloss: 0.296264\tvalid_1's auc: 0.843309\tvalid_1's binary_logloss: 0.303084\n",
      "[100]\ttraining's auc: 0.864997\ttraining's binary_logloss: 0.285311\tvalid_1's auc: 0.850747\tvalid_1's binary_logloss: 0.296884\n",
      "[150]\ttraining's auc: 0.872949\ttraining's binary_logloss: 0.278786\tvalid_1's auc: 0.853096\tvalid_1's binary_logloss: 0.29497\n",
      "[200]\ttraining's auc: 0.879372\ttraining's binary_logloss: 0.273608\tvalid_1's auc: 0.853989\tvalid_1's binary_logloss: 0.294218\n",
      "[250]\ttraining's auc: 0.885086\ttraining's binary_logloss: 0.268984\tvalid_1's auc: 0.854757\tvalid_1's binary_logloss: 0.293682\n",
      "Early stopping, best iteration is:\n",
      "[245]\ttraining's auc: 0.884554\ttraining's binary_logloss: 0.269439\tvalid_1's auc: 0.854769\tvalid_1's binary_logloss: 0.293692\n",
      "********** 1 **********\n",
      "Training until validation scores don't improve for 10 rounds\n",
      "[50]\ttraining's auc: 0.852452\ttraining's binary_logloss: 0.296146\tvalid_1's auc: 0.844032\tvalid_1's binary_logloss: 0.302681\n",
      "[100]\ttraining's auc: 0.865394\ttraining's binary_logloss: 0.285145\tvalid_1's auc: 0.850911\tvalid_1's binary_logloss: 0.296712\n",
      "[150]\ttraining's auc: 0.873383\ttraining's binary_logloss: 0.278629\tvalid_1's auc: 0.853279\tvalid_1's binary_logloss: 0.294685\n",
      "[200]\ttraining's auc: 0.879718\ttraining's binary_logloss: 0.273336\tvalid_1's auc: 0.85409\tvalid_1's binary_logloss: 0.293923\n",
      "[250]\ttraining's auc: 0.885229\ttraining's binary_logloss: 0.268818\tvalid_1's auc: 0.854689\tvalid_1's binary_logloss: 0.293449\n",
      "Early stopping, best iteration is:\n",
      "[282]\ttraining's auc: 0.888488\ttraining's binary_logloss: 0.266145\tvalid_1's auc: 0.854916\tvalid_1's binary_logloss: 0.293257\n",
      "********** 2 **********\n",
      "Training until validation scores don't improve for 10 rounds\n",
      "[50]\ttraining's auc: 0.852385\ttraining's binary_logloss: 0.296815\tvalid_1's auc: 0.846984\tvalid_1's binary_logloss: 0.300093\n",
      "[100]\ttraining's auc: 0.865325\ttraining's binary_logloss: 0.285568\tvalid_1's auc: 0.853371\tvalid_1's binary_logloss: 0.294033\n",
      "[150]\ttraining's auc: 0.873243\ttraining's binary_logloss: 0.279007\tvalid_1's auc: 0.855142\tvalid_1's binary_logloss: 0.292323\n",
      "[200]\ttraining's auc: 0.879471\ttraining's binary_logloss: 0.273861\tvalid_1's auc: 0.856054\tvalid_1's binary_logloss: 0.291484\n",
      "[250]\ttraining's auc: 0.885157\ttraining's binary_logloss: 0.269315\tvalid_1's auc: 0.856452\tvalid_1's binary_logloss: 0.291145\n",
      "Early stopping, best iteration is:\n",
      "[271]\ttraining's auc: 0.887391\ttraining's binary_logloss: 0.267467\tvalid_1's auc: 0.856683\tvalid_1's binary_logloss: 0.290989\n",
      "********** 3 **********\n",
      "Training until validation scores don't improve for 10 rounds\n",
      "[50]\ttraining's auc: 0.852677\ttraining's binary_logloss: 0.296404\tvalid_1's auc: 0.845339\tvalid_1's binary_logloss: 0.301043\n",
      "[100]\ttraining's auc: 0.865551\ttraining's binary_logloss: 0.285302\tvalid_1's auc: 0.85219\tvalid_1's binary_logloss: 0.294683\n",
      "[150]\ttraining's auc: 0.873498\ttraining's binary_logloss: 0.278805\tvalid_1's auc: 0.854264\tvalid_1's binary_logloss: 0.292646\n",
      "[200]\ttraining's auc: 0.879691\ttraining's binary_logloss: 0.273671\tvalid_1's auc: 0.855051\tvalid_1's binary_logloss: 0.291869\n",
      "Early stopping, best iteration is:\n",
      "[214]\ttraining's auc: 0.881319\ttraining's binary_logloss: 0.272343\tvalid_1's auc: 0.855204\tvalid_1's binary_logloss: 0.291756\n",
      "********** 4 **********\n",
      "Training until validation scores don't improve for 10 rounds\n",
      "[50]\ttraining's auc: 0.854374\ttraining's binary_logloss: 0.295909\tvalid_1's auc: 0.837297\tvalid_1's binary_logloss: 0.304273\n",
      "[100]\ttraining's auc: 0.867297\ttraining's binary_logloss: 0.284447\tvalid_1's auc: 0.843259\tvalid_1's binary_logloss: 0.298839\n",
      "[150]\ttraining's auc: 0.875316\ttraining's binary_logloss: 0.277772\tvalid_1's auc: 0.844947\tvalid_1's binary_logloss: 0.297426\n",
      "[200]\ttraining's auc: 0.881637\ttraining's binary_logloss: 0.272537\tvalid_1's auc: 0.845675\tvalid_1's binary_logloss: 0.296765\n",
      "[250]\ttraining's auc: 0.8872\ttraining's binary_logloss: 0.267894\tvalid_1's auc: 0.846165\tvalid_1's binary_logloss: 0.296399\n",
      "Early stopping, best iteration is:\n",
      "[254]\ttraining's auc: 0.887638\ttraining's binary_logloss: 0.267543\tvalid_1's auc: 0.846257\tvalid_1's binary_logloss: 0.296342\n",
      "*********************\n",
      "roc auc estimado:  0.8536131713958797\n",
      "roc auc varianza:  0.0009045559162230279\n"
     ]
    }
   ],
   "source": [
    "[test_probs,fi] = cross_validation_lightgbm(train[keep_columns], y_train, test[keep_columns])"
   ]
  },
  {
   "cell_type": "code",
   "execution_count": 65,
   "id": "mighty-haven",
   "metadata": {
    "scrolled": false
   },
   "outputs": [
    {
     "name": "stdout",
     "output_type": "stream",
     "text": [
      "total de variables : 959\n",
      "variables con importancia acumulada al 99% : 925\n",
      "variables con zero importancia : 0\n"
     ]
    }
   ],
   "source": [
    "keep_columns, zero_importance = get_feature_selection(fi)"
   ]
  },
  {
   "cell_type": "code",
   "execution_count": 66,
   "id": "square-anthropology",
   "metadata": {},
   "outputs": [],
   "source": [
    "keep_columns_v9 = keep_columns"
   ]
  },
  {
   "cell_type": "code",
   "execution_count": 67,
   "id": "vocal-delight",
   "metadata": {
    "scrolled": true
   },
   "outputs": [
    {
     "name": "stdout",
     "output_type": "stream",
     "text": [
      "********** 0 **********\n",
      "Training until validation scores don't improve for 10 rounds\n",
      "[50]\ttraining's auc: 0.852516\ttraining's binary_logloss: 0.296254\tvalid_1's auc: 0.843516\tvalid_1's binary_logloss: 0.302977\n",
      "[100]\ttraining's auc: 0.865232\ttraining's binary_logloss: 0.285187\tvalid_1's auc: 0.850954\tvalid_1's binary_logloss: 0.296829\n",
      "[150]\ttraining's auc: 0.873078\ttraining's binary_logloss: 0.278686\tvalid_1's auc: 0.852975\tvalid_1's binary_logloss: 0.295036\n",
      "[200]\ttraining's auc: 0.87934\ttraining's binary_logloss: 0.273548\tvalid_1's auc: 0.854086\tvalid_1's binary_logloss: 0.294182\n",
      "[250]\ttraining's auc: 0.884858\ttraining's binary_logloss: 0.269041\tvalid_1's auc: 0.854628\tvalid_1's binary_logloss: 0.293779\n",
      "Early stopping, best iteration is:\n",
      "[243]\ttraining's auc: 0.884094\ttraining's binary_logloss: 0.269646\tvalid_1's auc: 0.854675\tvalid_1's binary_logloss: 0.29375\n",
      "********** 1 **********\n",
      "Training until validation scores don't improve for 10 rounds\n",
      "[50]\ttraining's auc: 0.852593\ttraining's binary_logloss: 0.296296\tvalid_1's auc: 0.844219\tvalid_1's binary_logloss: 0.302669\n",
      "[100]\ttraining's auc: 0.865379\ttraining's binary_logloss: 0.285145\tvalid_1's auc: 0.851247\tvalid_1's binary_logloss: 0.296384\n",
      "[150]\ttraining's auc: 0.873227\ttraining's binary_logloss: 0.278613\tvalid_1's auc: 0.853242\tvalid_1's binary_logloss: 0.29456\n",
      "[200]\ttraining's auc: 0.879566\ttraining's binary_logloss: 0.273386\tvalid_1's auc: 0.854194\tvalid_1's binary_logloss: 0.293783\n",
      "[250]\ttraining's auc: 0.885178\ttraining's binary_logloss: 0.268816\tvalid_1's auc: 0.854955\tvalid_1's binary_logloss: 0.293256\n",
      "Early stopping, best iteration is:\n",
      "[262]\ttraining's auc: 0.886501\ttraining's binary_logloss: 0.267711\tvalid_1's auc: 0.855148\tvalid_1's binary_logloss: 0.293121\n",
      "********** 2 **********\n",
      "Training until validation scores don't improve for 10 rounds\n",
      "[50]\ttraining's auc: 0.852285\ttraining's binary_logloss: 0.296874\tvalid_1's auc: 0.846935\tvalid_1's binary_logloss: 0.299922\n",
      "[100]\ttraining's auc: 0.864939\ttraining's binary_logloss: 0.285736\tvalid_1's auc: 0.853304\tvalid_1's binary_logloss: 0.293858\n",
      "[150]\ttraining's auc: 0.873001\ttraining's binary_logloss: 0.279145\tvalid_1's auc: 0.855192\tvalid_1's binary_logloss: 0.292065\n",
      "[200]\ttraining's auc: 0.879239\ttraining's binary_logloss: 0.274011\tvalid_1's auc: 0.855912\tvalid_1's binary_logloss: 0.291332\n",
      "Early stopping, best iteration is:\n",
      "[228]\ttraining's auc: 0.882403\ttraining's binary_logloss: 0.271448\tvalid_1's auc: 0.856266\tvalid_1's binary_logloss: 0.291087\n",
      "********** 3 **********\n",
      "Training until validation scores don't improve for 10 rounds\n",
      "[50]\ttraining's auc: 0.851943\ttraining's binary_logloss: 0.29678\tvalid_1's auc: 0.84502\tvalid_1's binary_logloss: 0.301246\n",
      "[100]\ttraining's auc: 0.865202\ttraining's binary_logloss: 0.285596\tvalid_1's auc: 0.851716\tvalid_1's binary_logloss: 0.294933\n",
      "[150]\ttraining's auc: 0.87323\ttraining's binary_logloss: 0.279095\tvalid_1's auc: 0.853547\tvalid_1's binary_logloss: 0.293165\n",
      "[200]\ttraining's auc: 0.879629\ttraining's binary_logloss: 0.273905\tvalid_1's auc: 0.854544\tvalid_1's binary_logloss: 0.292258\n",
      "Early stopping, best iteration is:\n",
      "[207]\ttraining's auc: 0.88037\ttraining's binary_logloss: 0.273268\tvalid_1's auc: 0.854602\tvalid_1's binary_logloss: 0.292159\n",
      "********** 4 **********\n",
      "Training until validation scores don't improve for 10 rounds\n",
      "[50]\ttraining's auc: 0.854398\ttraining's binary_logloss: 0.295907\tvalid_1's auc: 0.837551\tvalid_1's binary_logloss: 0.304109\n",
      "[100]\ttraining's auc: 0.867255\ttraining's binary_logloss: 0.284445\tvalid_1's auc: 0.843664\tvalid_1's binary_logloss: 0.298668\n",
      "[150]\ttraining's auc: 0.87537\ttraining's binary_logloss: 0.27778\tvalid_1's auc: 0.845834\tvalid_1's binary_logloss: 0.296899\n",
      "[200]\ttraining's auc: 0.881683\ttraining's binary_logloss: 0.272572\tvalid_1's auc: 0.846471\tvalid_1's binary_logloss: 0.296342\n",
      "Early stopping, best iteration is:\n",
      "[191]\ttraining's auc: 0.880611\ttraining's binary_logloss: 0.273428\tvalid_1's auc: 0.846595\tvalid_1's binary_logloss: 0.2963\n",
      "*********************\n",
      "roc auc estimado:  0.8534897761973266\n",
      "roc auc varianza:  0.0008506576905194657\n"
     ]
    }
   ],
   "source": [
    "[test_probs,fi] = cross_validation_lightgbm(train[keep_columns], y_train, test[keep_columns])"
   ]
  },
  {
   "cell_type": "code",
   "execution_count": 68,
   "id": "interesting-inflation",
   "metadata": {
    "scrolled": true
   },
   "outputs": [
    {
     "name": "stdout",
     "output_type": "stream",
     "text": [
      "total de variables : 925\n",
      "variables con importancia acumulada al 99% : 893\n",
      "variables con zero importancia : 0\n"
     ]
    }
   ],
   "source": [
    "keep_columns, zero_importance = get_feature_selection(fi)"
   ]
  },
  {
   "cell_type": "code",
   "execution_count": 69,
   "id": "valid-pasta",
   "metadata": {},
   "outputs": [],
   "source": [
    "keep_columns_v10 = keep_columns"
   ]
  },
  {
   "cell_type": "code",
   "execution_count": 70,
   "id": "short-somewhere",
   "metadata": {
    "scrolled": true
   },
   "outputs": [
    {
     "name": "stdout",
     "output_type": "stream",
     "text": [
      "********** 0 **********\n",
      "Training until validation scores don't improve for 10 rounds\n",
      "[50]\ttraining's auc: 0.852424\ttraining's binary_logloss: 0.296169\tvalid_1's auc: 0.843096\tvalid_1's binary_logloss: 0.303116\n",
      "[100]\ttraining's auc: 0.864997\ttraining's binary_logloss: 0.285205\tvalid_1's auc: 0.850686\tvalid_1's binary_logloss: 0.296831\n",
      "[150]\ttraining's auc: 0.873035\ttraining's binary_logloss: 0.278697\tvalid_1's auc: 0.852976\tvalid_1's binary_logloss: 0.294935\n",
      "[200]\ttraining's auc: 0.879225\ttraining's binary_logloss: 0.273581\tvalid_1's auc: 0.854006\tvalid_1's binary_logloss: 0.294105\n",
      "[250]\ttraining's auc: 0.884822\ttraining's binary_logloss: 0.269046\tvalid_1's auc: 0.854531\tvalid_1's binary_logloss: 0.293644\n",
      "Early stopping, best iteration is:\n",
      "[246]\ttraining's auc: 0.884357\ttraining's binary_logloss: 0.269387\tvalid_1's auc: 0.854534\tvalid_1's binary_logloss: 0.293652\n",
      "********** 1 **********\n",
      "Training until validation scores don't improve for 10 rounds\n",
      "[50]\ttraining's auc: 0.852476\ttraining's binary_logloss: 0.296265\tvalid_1's auc: 0.843726\tvalid_1's binary_logloss: 0.302903\n",
      "[100]\ttraining's auc: 0.865184\ttraining's binary_logloss: 0.285238\tvalid_1's auc: 0.85083\tvalid_1's binary_logloss: 0.296665\n",
      "[150]\ttraining's auc: 0.872941\ttraining's binary_logloss: 0.278715\tvalid_1's auc: 0.853171\tvalid_1's binary_logloss: 0.294723\n",
      "[200]\ttraining's auc: 0.879235\ttraining's binary_logloss: 0.273533\tvalid_1's auc: 0.854099\tvalid_1's binary_logloss: 0.293871\n",
      "[250]\ttraining's auc: 0.884958\ttraining's binary_logloss: 0.268958\tvalid_1's auc: 0.854535\tvalid_1's binary_logloss: 0.293497\n",
      "Early stopping, best iteration is:\n",
      "[262]\ttraining's auc: 0.886179\ttraining's binary_logloss: 0.267967\tvalid_1's auc: 0.854684\tvalid_1's binary_logloss: 0.293403\n",
      "********** 2 **********\n",
      "Training until validation scores don't improve for 10 rounds\n",
      "[50]\ttraining's auc: 0.852445\ttraining's binary_logloss: 0.296814\tvalid_1's auc: 0.84638\tvalid_1's binary_logloss: 0.30025\n",
      "[100]\ttraining's auc: 0.865297\ttraining's binary_logloss: 0.28564\tvalid_1's auc: 0.852908\tvalid_1's binary_logloss: 0.294187\n",
      "[150]\ttraining's auc: 0.87304\ttraining's binary_logloss: 0.279157\tvalid_1's auc: 0.855018\tvalid_1's binary_logloss: 0.292229\n",
      "[200]\ttraining's auc: 0.879408\ttraining's binary_logloss: 0.274024\tvalid_1's auc: 0.855565\tvalid_1's binary_logloss: 0.291584\n",
      "[250]\ttraining's auc: 0.885071\ttraining's binary_logloss: 0.269423\tvalid_1's auc: 0.855991\tvalid_1's binary_logloss: 0.291294\n",
      "Early stopping, best iteration is:\n",
      "[282]\ttraining's auc: 0.888403\ttraining's binary_logloss: 0.266663\tvalid_1's auc: 0.856298\tvalid_1's binary_logloss: 0.291112\n",
      "********** 3 **********\n",
      "Training until validation scores don't improve for 10 rounds\n",
      "[50]\ttraining's auc: 0.852459\ttraining's binary_logloss: 0.296706\tvalid_1's auc: 0.845299\tvalid_1's binary_logloss: 0.301246\n",
      "[100]\ttraining's auc: 0.865306\ttraining's binary_logloss: 0.285581\tvalid_1's auc: 0.851847\tvalid_1's binary_logloss: 0.294918\n",
      "[150]\ttraining's auc: 0.873371\ttraining's binary_logloss: 0.278991\tvalid_1's auc: 0.853864\tvalid_1's binary_logloss: 0.293027\n",
      "[200]\ttraining's auc: 0.879812\ttraining's binary_logloss: 0.273795\tvalid_1's auc: 0.854763\tvalid_1's binary_logloss: 0.292241\n",
      "[250]\ttraining's auc: 0.885324\ttraining's binary_logloss: 0.269288\tvalid_1's auc: 0.855118\tvalid_1's binary_logloss: 0.291881\n",
      "Early stopping, best iteration is:\n",
      "[257]\ttraining's auc: 0.886111\ttraining's binary_logloss: 0.26866\tvalid_1's auc: 0.85523\tvalid_1's binary_logloss: 0.291791\n",
      "********** 4 **********\n",
      "Training until validation scores don't improve for 10 rounds\n",
      "[50]\ttraining's auc: 0.854342\ttraining's binary_logloss: 0.295821\tvalid_1's auc: 0.837386\tvalid_1's binary_logloss: 0.304194\n",
      "[100]\ttraining's auc: 0.867347\ttraining's binary_logloss: 0.284383\tvalid_1's auc: 0.843524\tvalid_1's binary_logloss: 0.29868\n",
      "[150]\ttraining's auc: 0.875373\ttraining's binary_logloss: 0.277695\tvalid_1's auc: 0.845483\tvalid_1's binary_logloss: 0.29699\n",
      "[200]\ttraining's auc: 0.881642\ttraining's binary_logloss: 0.27245\tvalid_1's auc: 0.846078\tvalid_1's binary_logloss: 0.296422\n",
      "Early stopping, best iteration is:\n",
      "[226]\ttraining's auc: 0.884499\ttraining's binary_logloss: 0.270056\tvalid_1's auc: 0.846399\tvalid_1's binary_logloss: 0.296207\n",
      "*********************\n",
      "roc auc estimado:  0.853469430158708\n",
      "roc auc varianza:  0.0008705265678342126\n"
     ]
    }
   ],
   "source": [
    "[test_probs,fi] = cross_validation_lightgbm(train[keep_columns], y_train, test[keep_columns])"
   ]
  },
  {
   "cell_type": "code",
   "execution_count": 71,
   "id": "religious-astrology",
   "metadata": {
    "scrolled": true
   },
   "outputs": [
    {
     "name": "stdout",
     "output_type": "stream",
     "text": [
      "total de variables : 893\n",
      "variables con importancia acumulada al 99% : 865\n",
      "variables con zero importancia : 0\n"
     ]
    }
   ],
   "source": [
    "keep_columns, zero_importance = get_feature_selection(fi)"
   ]
  },
  {
   "cell_type": "code",
   "execution_count": 72,
   "id": "premium-dressing",
   "metadata": {},
   "outputs": [],
   "source": [
    "keep_columns_v11 = keep_columns"
   ]
  },
  {
   "cell_type": "code",
   "execution_count": 73,
   "id": "exotic-chicken",
   "metadata": {
    "scrolled": true
   },
   "outputs": [
    {
     "name": "stdout",
     "output_type": "stream",
     "text": [
      "********** 0 **********\n",
      "Training until validation scores don't improve for 10 rounds\n",
      "[50]\ttraining's auc: 0.852459\ttraining's binary_logloss: 0.29622\tvalid_1's auc: 0.84364\tvalid_1's binary_logloss: 0.302825\n",
      "[100]\ttraining's auc: 0.865101\ttraining's binary_logloss: 0.285226\tvalid_1's auc: 0.851059\tvalid_1's binary_logloss: 0.29658\n",
      "[150]\ttraining's auc: 0.873016\ttraining's binary_logloss: 0.278746\tvalid_1's auc: 0.853326\tvalid_1's binary_logloss: 0.294692\n",
      "[200]\ttraining's auc: 0.879333\ttraining's binary_logloss: 0.273557\tvalid_1's auc: 0.85455\tvalid_1's binary_logloss: 0.293729\n",
      "Early stopping, best iteration is:\n",
      "[222]\ttraining's auc: 0.881816\ttraining's binary_logloss: 0.27154\tvalid_1's auc: 0.85479\tvalid_1's binary_logloss: 0.293545\n",
      "********** 1 **********\n",
      "Training until validation scores don't improve for 10 rounds\n",
      "[50]\ttraining's auc: 0.852111\ttraining's binary_logloss: 0.296389\tvalid_1's auc: 0.844089\tvalid_1's binary_logloss: 0.30262\n",
      "[100]\ttraining's auc: 0.864938\ttraining's binary_logloss: 0.285325\tvalid_1's auc: 0.851173\tvalid_1's binary_logloss: 0.296413\n",
      "[150]\ttraining's auc: 0.872802\ttraining's binary_logloss: 0.278859\tvalid_1's auc: 0.853198\tvalid_1's binary_logloss: 0.294672\n",
      "[200]\ttraining's auc: 0.879201\ttraining's binary_logloss: 0.273639\tvalid_1's auc: 0.854165\tvalid_1's binary_logloss: 0.293808\n",
      "[250]\ttraining's auc: 0.88483\ttraining's binary_logloss: 0.269092\tvalid_1's auc: 0.854528\tvalid_1's binary_logloss: 0.29345\n",
      "Early stopping, best iteration is:\n",
      "[270]\ttraining's auc: 0.886926\ttraining's binary_logloss: 0.267366\tvalid_1's auc: 0.854651\tvalid_1's binary_logloss: 0.293357\n",
      "********** 2 **********\n",
      "Training until validation scores don't improve for 10 rounds\n",
      "[50]\ttraining's auc: 0.852453\ttraining's binary_logloss: 0.296662\tvalid_1's auc: 0.846837\tvalid_1's binary_logloss: 0.300085\n",
      "[100]\ttraining's auc: 0.865174\ttraining's binary_logloss: 0.285619\tvalid_1's auc: 0.853426\tvalid_1's binary_logloss: 0.294012\n",
      "[150]\ttraining's auc: 0.873258\ttraining's binary_logloss: 0.278997\tvalid_1's auc: 0.855432\tvalid_1's binary_logloss: 0.29219\n",
      "[200]\ttraining's auc: 0.879568\ttraining's binary_logloss: 0.273859\tvalid_1's auc: 0.85603\tvalid_1's binary_logloss: 0.291514\n",
      "Early stopping, best iteration is:\n",
      "[214]\ttraining's auc: 0.881207\ttraining's binary_logloss: 0.272535\tvalid_1's auc: 0.856219\tvalid_1's binary_logloss: 0.291404\n",
      "********** 3 **********\n",
      "Training until validation scores don't improve for 10 rounds\n",
      "[50]\ttraining's auc: 0.852281\ttraining's binary_logloss: 0.296663\tvalid_1's auc: 0.84513\tvalid_1's binary_logloss: 0.30114\n",
      "[100]\ttraining's auc: 0.865419\ttraining's binary_logloss: 0.285477\tvalid_1's auc: 0.852079\tvalid_1's binary_logloss: 0.294757\n",
      "[150]\ttraining's auc: 0.873326\ttraining's binary_logloss: 0.27901\tvalid_1's auc: 0.853818\tvalid_1's binary_logloss: 0.293031\n",
      "[200]\ttraining's auc: 0.879554\ttraining's binary_logloss: 0.273873\tvalid_1's auc: 0.854799\tvalid_1's binary_logloss: 0.292097\n",
      "[250]\ttraining's auc: 0.885164\ttraining's binary_logloss: 0.269306\tvalid_1's auc: 0.855318\tvalid_1's binary_logloss: 0.291642\n",
      "Early stopping, best iteration is:\n",
      "[240]\ttraining's auc: 0.884095\ttraining's binary_logloss: 0.270183\tvalid_1's auc: 0.855328\tvalid_1's binary_logloss: 0.291674\n",
      "********** 4 **********\n",
      "Training until validation scores don't improve for 10 rounds\n",
      "[50]\ttraining's auc: 0.853996\ttraining's binary_logloss: 0.295899\tvalid_1's auc: 0.837238\tvalid_1's binary_logloss: 0.303927\n",
      "[100]\ttraining's auc: 0.867101\ttraining's binary_logloss: 0.284573\tvalid_1's auc: 0.843602\tvalid_1's binary_logloss: 0.298543\n",
      "[150]\ttraining's auc: 0.875178\ttraining's binary_logloss: 0.277889\tvalid_1's auc: 0.845386\tvalid_1's binary_logloss: 0.297056\n",
      "[200]\ttraining's auc: 0.881343\ttraining's binary_logloss: 0.272712\tvalid_1's auc: 0.846063\tvalid_1's binary_logloss: 0.296442\n",
      "[250]\ttraining's auc: 0.886979\ttraining's binary_logloss: 0.26805\tvalid_1's auc: 0.84655\tvalid_1's binary_logloss: 0.296113\n",
      "Early stopping, best iteration is:\n",
      "[244]\ttraining's auc: 0.886315\ttraining's binary_logloss: 0.268631\tvalid_1's auc: 0.84659\tvalid_1's binary_logloss: 0.296111\n",
      "*********************\n",
      "roc auc estimado:  0.8535569210025669\n",
      "roc auc varianza:  0.0008552792422805875\n"
     ]
    }
   ],
   "source": [
    "[test_probs,fi] = cross_validation_lightgbm(train[keep_columns], y_train, test[keep_columns])"
   ]
  },
  {
   "cell_type": "code",
   "execution_count": 74,
   "id": "important-listing",
   "metadata": {
    "scrolled": true
   },
   "outputs": [
    {
     "name": "stdout",
     "output_type": "stream",
     "text": [
      "total de variables : 865\n",
      "variables con importancia acumulada al 99% : 836\n",
      "variables con zero importancia : 0\n"
     ]
    }
   ],
   "source": [
    "keep_columns, zero_importance = get_feature_selection(fi)"
   ]
  },
  {
   "cell_type": "code",
   "execution_count": 75,
   "id": "appointed-hindu",
   "metadata": {},
   "outputs": [],
   "source": [
    "keep_columns_v12 = keep_columns"
   ]
  },
  {
   "cell_type": "code",
   "execution_count": 76,
   "id": "coordinated-bulgaria",
   "metadata": {
    "scrolled": true
   },
   "outputs": [
    {
     "name": "stdout",
     "output_type": "stream",
     "text": [
      "********** 0 **********\n",
      "Training until validation scores don't improve for 10 rounds\n",
      "[50]\ttraining's auc: 0.852689\ttraining's binary_logloss: 0.29612\tvalid_1's auc: 0.843463\tvalid_1's binary_logloss: 0.303065\n",
      "[100]\ttraining's auc: 0.865251\ttraining's binary_logloss: 0.285103\tvalid_1's auc: 0.85076\tvalid_1's binary_logloss: 0.296818\n",
      "[150]\ttraining's auc: 0.873026\ttraining's binary_logloss: 0.278704\tvalid_1's auc: 0.852905\tvalid_1's binary_logloss: 0.295086\n",
      "[200]\ttraining's auc: 0.879429\ttraining's binary_logloss: 0.273537\tvalid_1's auc: 0.853971\tvalid_1's binary_logloss: 0.294201\n",
      "[250]\ttraining's auc: 0.885144\ttraining's binary_logloss: 0.268918\tvalid_1's auc: 0.854477\tvalid_1's binary_logloss: 0.293818\n",
      "Early stopping, best iteration is:\n",
      "[263]\ttraining's auc: 0.886458\ttraining's binary_logloss: 0.267826\tvalid_1's auc: 0.854597\tvalid_1's binary_logloss: 0.293717\n",
      "********** 1 **********\n",
      "Training until validation scores don't improve for 10 rounds\n",
      "[50]\ttraining's auc: 0.852371\ttraining's binary_logloss: 0.296218\tvalid_1's auc: 0.84359\tvalid_1's binary_logloss: 0.302857\n",
      "[100]\ttraining's auc: 0.86511\ttraining's binary_logloss: 0.285189\tvalid_1's auc: 0.85053\tvalid_1's binary_logloss: 0.296816\n",
      "[150]\ttraining's auc: 0.872882\ttraining's binary_logloss: 0.278761\tvalid_1's auc: 0.852908\tvalid_1's binary_logloss: 0.294892\n",
      "[200]\ttraining's auc: 0.879267\ttraining's binary_logloss: 0.273597\tvalid_1's auc: 0.85386\tvalid_1's binary_logloss: 0.294089\n",
      "[250]\ttraining's auc: 0.884857\ttraining's binary_logloss: 0.269064\tvalid_1's auc: 0.854363\tvalid_1's binary_logloss: 0.293738\n",
      "Early stopping, best iteration is:\n",
      "[276]\ttraining's auc: 0.887659\ttraining's binary_logloss: 0.266756\tvalid_1's auc: 0.854472\tvalid_1's binary_logloss: 0.293675\n",
      "********** 2 **********\n",
      "Training until validation scores don't improve for 10 rounds\n",
      "[50]\ttraining's auc: 0.851956\ttraining's binary_logloss: 0.297048\tvalid_1's auc: 0.846772\tvalid_1's binary_logloss: 0.300066\n",
      "[100]\ttraining's auc: 0.86479\ttraining's binary_logloss: 0.285867\tvalid_1's auc: 0.853428\tvalid_1's binary_logloss: 0.293824\n",
      "[150]\ttraining's auc: 0.872747\ttraining's binary_logloss: 0.279299\tvalid_1's auc: 0.855399\tvalid_1's binary_logloss: 0.291949\n",
      "[200]\ttraining's auc: 0.879138\ttraining's binary_logloss: 0.274157\tvalid_1's auc: 0.856342\tvalid_1's binary_logloss: 0.291096\n",
      "[250]\ttraining's auc: 0.884809\ttraining's binary_logloss: 0.269546\tvalid_1's auc: 0.856812\tvalid_1's binary_logloss: 0.290763\n",
      "Early stopping, best iteration is:\n",
      "[262]\ttraining's auc: 0.886154\ttraining's binary_logloss: 0.268481\tvalid_1's auc: 0.856943\tvalid_1's binary_logloss: 0.290705\n",
      "********** 3 **********\n",
      "Training until validation scores don't improve for 10 rounds\n",
      "[50]\ttraining's auc: 0.852094\ttraining's binary_logloss: 0.296822\tvalid_1's auc: 0.845395\tvalid_1's binary_logloss: 0.301093\n",
      "[100]\ttraining's auc: 0.865139\ttraining's binary_logloss: 0.285683\tvalid_1's auc: 0.852241\tvalid_1's binary_logloss: 0.294666\n",
      "[150]\ttraining's auc: 0.873248\ttraining's binary_logloss: 0.279061\tvalid_1's auc: 0.854481\tvalid_1's binary_logloss: 0.292666\n",
      "[200]\ttraining's auc: 0.87947\ttraining's binary_logloss: 0.273965\tvalid_1's auc: 0.855211\tvalid_1's binary_logloss: 0.291932\n",
      "[250]\ttraining's auc: 0.885132\ttraining's binary_logloss: 0.26936\tvalid_1's auc: 0.855839\tvalid_1's binary_logloss: 0.291453\n",
      "Early stopping, best iteration is:\n",
      "[267]\ttraining's auc: 0.886851\ttraining's binary_logloss: 0.267919\tvalid_1's auc: 0.856028\tvalid_1's binary_logloss: 0.291328\n",
      "********** 4 **********\n",
      "Training until validation scores don't improve for 10 rounds\n",
      "[50]\ttraining's auc: 0.85421\ttraining's binary_logloss: 0.296002\tvalid_1's auc: 0.837314\tvalid_1's binary_logloss: 0.304207\n",
      "[100]\ttraining's auc: 0.867216\ttraining's binary_logloss: 0.284534\tvalid_1's auc: 0.843341\tvalid_1's binary_logloss: 0.298663\n",
      "[150]\ttraining's auc: 0.875258\ttraining's binary_logloss: 0.277847\tvalid_1's auc: 0.845481\tvalid_1's binary_logloss: 0.296938\n",
      "Early stopping, best iteration is:\n",
      "[176]\ttraining's auc: 0.878506\ttraining's binary_logloss: 0.275101\tvalid_1's auc: 0.846131\tvalid_1's binary_logloss: 0.296418\n",
      "*********************\n",
      "roc auc estimado:  0.8536762440425567\n",
      "roc auc varianza:  0.0009437455472118474\n"
     ]
    }
   ],
   "source": [
    "[test_probs,fi] = cross_validation_lightgbm(train[keep_columns], y_train, test[keep_columns])"
   ]
  },
  {
   "cell_type": "code",
   "execution_count": 77,
   "id": "choice-piano",
   "metadata": {},
   "outputs": [
    {
     "name": "stdout",
     "output_type": "stream",
     "text": [
      "total de variables : 836\n",
      "variables con importancia acumulada al 99% : 810\n",
      "variables con zero importancia : 0\n"
     ]
    }
   ],
   "source": [
    "keep_columns, zero_importance = get_feature_selection(fi)"
   ]
  },
  {
   "cell_type": "code",
   "execution_count": 78,
   "id": "dying-resource",
   "metadata": {},
   "outputs": [],
   "source": [
    "keep_columns_v13 = keep_columns"
   ]
  },
  {
   "cell_type": "code",
   "execution_count": 79,
   "id": "ordinary-administrator",
   "metadata": {
    "scrolled": true
   },
   "outputs": [
    {
     "name": "stdout",
     "output_type": "stream",
     "text": [
      "********** 0 **********\n",
      "Training until validation scores don't improve for 10 rounds\n",
      "[50]\ttraining's auc: 0.852495\ttraining's binary_logloss: 0.296307\tvalid_1's auc: 0.843528\tvalid_1's binary_logloss: 0.302985\n",
      "[100]\ttraining's auc: 0.86515\ttraining's binary_logloss: 0.285211\tvalid_1's auc: 0.850721\tvalid_1's binary_logloss: 0.296789\n",
      "[150]\ttraining's auc: 0.873016\ttraining's binary_logloss: 0.27873\tvalid_1's auc: 0.853013\tvalid_1's binary_logloss: 0.294861\n",
      "[200]\ttraining's auc: 0.879316\ttraining's binary_logloss: 0.273632\tvalid_1's auc: 0.853924\tvalid_1's binary_logloss: 0.294134\n",
      "Early stopping, best iteration is:\n",
      "[219]\ttraining's auc: 0.881481\ttraining's binary_logloss: 0.271884\tvalid_1's auc: 0.854336\tvalid_1's binary_logloss: 0.293875\n",
      "********** 1 **********\n",
      "Training until validation scores don't improve for 10 rounds\n",
      "[50]\ttraining's auc: 0.85208\ttraining's binary_logloss: 0.296415\tvalid_1's auc: 0.843778\tvalid_1's binary_logloss: 0.302842\n",
      "[100]\ttraining's auc: 0.865026\ttraining's binary_logloss: 0.28523\tvalid_1's auc: 0.850935\tvalid_1's binary_logloss: 0.29664\n",
      "[150]\ttraining's auc: 0.873002\ttraining's binary_logloss: 0.278722\tvalid_1's auc: 0.853366\tvalid_1's binary_logloss: 0.29467\n",
      "[200]\ttraining's auc: 0.879262\ttraining's binary_logloss: 0.273641\tvalid_1's auc: 0.854437\tvalid_1's binary_logloss: 0.293811\n",
      "[250]\ttraining's auc: 0.884954\ttraining's binary_logloss: 0.269069\tvalid_1's auc: 0.855135\tvalid_1's binary_logloss: 0.293277\n",
      "Early stopping, best iteration is:\n",
      "[260]\ttraining's auc: 0.886069\ttraining's binary_logloss: 0.268175\tvalid_1's auc: 0.855206\tvalid_1's binary_logloss: 0.293242\n",
      "********** 2 **********\n",
      "Training until validation scores don't improve for 10 rounds\n",
      "[50]\ttraining's auc: 0.852088\ttraining's binary_logloss: 0.296894\tvalid_1's auc: 0.846987\tvalid_1's binary_logloss: 0.300161\n",
      "[100]\ttraining's auc: 0.864936\ttraining's binary_logloss: 0.285788\tvalid_1's auc: 0.853154\tvalid_1's binary_logloss: 0.294145\n",
      "[150]\ttraining's auc: 0.873038\ttraining's binary_logloss: 0.279235\tvalid_1's auc: 0.855216\tvalid_1's binary_logloss: 0.292248\n",
      "[200]\ttraining's auc: 0.879324\ttraining's binary_logloss: 0.274098\tvalid_1's auc: 0.856052\tvalid_1's binary_logloss: 0.291442\n",
      "Early stopping, best iteration is:\n",
      "[203]\ttraining's auc: 0.879688\ttraining's binary_logloss: 0.273812\tvalid_1's auc: 0.856118\tvalid_1's binary_logloss: 0.291403\n",
      "********** 3 **********\n",
      "Training until validation scores don't improve for 10 rounds\n",
      "[50]\ttraining's auc: 0.852345\ttraining's binary_logloss: 0.296592\tvalid_1's auc: 0.844749\tvalid_1's binary_logloss: 0.301378\n",
      "[100]\ttraining's auc: 0.865376\ttraining's binary_logloss: 0.285534\tvalid_1's auc: 0.851687\tvalid_1's binary_logloss: 0.294999\n",
      "[150]\ttraining's auc: 0.873114\ttraining's binary_logloss: 0.279002\tvalid_1's auc: 0.853771\tvalid_1's binary_logloss: 0.293049\n",
      "[200]\ttraining's auc: 0.879609\ttraining's binary_logloss: 0.273854\tvalid_1's auc: 0.854829\tvalid_1's binary_logloss: 0.29215\n",
      "Early stopping, best iteration is:\n",
      "[237]\ttraining's auc: 0.883844\ttraining's binary_logloss: 0.270411\tvalid_1's auc: 0.855239\tvalid_1's binary_logloss: 0.291771\n",
      "********** 4 **********\n",
      "Training until validation scores don't improve for 10 rounds\n",
      "[50]\ttraining's auc: 0.85424\ttraining's binary_logloss: 0.295858\tvalid_1's auc: 0.837007\tvalid_1's binary_logloss: 0.304152\n",
      "[100]\ttraining's auc: 0.867278\ttraining's binary_logloss: 0.284494\tvalid_1's auc: 0.843278\tvalid_1's binary_logloss: 0.298785\n",
      "[150]\ttraining's auc: 0.875251\ttraining's binary_logloss: 0.277865\tvalid_1's auc: 0.845115\tvalid_1's binary_logloss: 0.297194\n",
      "[200]\ttraining's auc: 0.881472\ttraining's binary_logloss: 0.27266\tvalid_1's auc: 0.845819\tvalid_1's binary_logloss: 0.296575\n",
      "Early stopping, best iteration is:\n",
      "[196]\ttraining's auc: 0.881052\ttraining's binary_logloss: 0.273034\tvalid_1's auc: 0.845866\tvalid_1's binary_logloss: 0.296571\n",
      "*********************\n",
      "roc auc estimado:  0.8534009594331627\n",
      "roc auc varianza:  0.000921512071842003\n"
     ]
    }
   ],
   "source": [
    "[test_probs,fi] = cross_validation_lightgbm(train[keep_columns], y_train, test[keep_columns])"
   ]
  },
  {
   "cell_type": "code",
   "execution_count": 80,
   "id": "attractive-lancaster",
   "metadata": {
    "scrolled": true
   },
   "outputs": [
    {
     "name": "stdout",
     "output_type": "stream",
     "text": [
      "total de variables : 810\n",
      "variables con importancia acumulada al 99% : 784\n",
      "variables con zero importancia : 0\n"
     ]
    }
   ],
   "source": [
    "keep_columns, zero_importance = get_feature_selection(fi)"
   ]
  },
  {
   "cell_type": "code",
   "execution_count": 81,
   "id": "stable-inspiration",
   "metadata": {},
   "outputs": [],
   "source": [
    "keep_columns_v14 = keep_columns"
   ]
  },
  {
   "cell_type": "code",
   "execution_count": 82,
   "id": "impressive-street",
   "metadata": {
    "scrolled": true
   },
   "outputs": [
    {
     "name": "stdout",
     "output_type": "stream",
     "text": [
      "********** 0 **********\n",
      "Training until validation scores don't improve for 10 rounds\n",
      "[50]\ttraining's auc: 0.852209\ttraining's binary_logloss: 0.296339\tvalid_1's auc: 0.843274\tvalid_1's binary_logloss: 0.302992\n",
      "[100]\ttraining's auc: 0.864976\ttraining's binary_logloss: 0.285315\tvalid_1's auc: 0.851218\tvalid_1's binary_logloss: 0.296533\n",
      "[150]\ttraining's auc: 0.872673\ttraining's binary_logloss: 0.278866\tvalid_1's auc: 0.853562\tvalid_1's binary_logloss: 0.294612\n",
      "[200]\ttraining's auc: 0.879054\ttraining's binary_logloss: 0.273741\tvalid_1's auc: 0.854508\tvalid_1's binary_logloss: 0.293846\n",
      "[250]\ttraining's auc: 0.884683\ttraining's binary_logloss: 0.269167\tvalid_1's auc: 0.855069\tvalid_1's binary_logloss: 0.293426\n",
      "Early stopping, best iteration is:\n",
      "[242]\ttraining's auc: 0.883778\ttraining's binary_logloss: 0.269884\tvalid_1's auc: 0.855135\tvalid_1's binary_logloss: 0.29338\n",
      "********** 1 **********\n",
      "Training until validation scores don't improve for 10 rounds\n",
      "[50]\ttraining's auc: 0.852174\ttraining's binary_logloss: 0.296364\tvalid_1's auc: 0.843914\tvalid_1's binary_logloss: 0.30287\n",
      "[100]\ttraining's auc: 0.865146\ttraining's binary_logloss: 0.285251\tvalid_1's auc: 0.851189\tvalid_1's binary_logloss: 0.296578\n",
      "[150]\ttraining's auc: 0.873002\ttraining's binary_logloss: 0.278725\tvalid_1's auc: 0.853587\tvalid_1's binary_logloss: 0.294607\n",
      "[200]\ttraining's auc: 0.879288\ttraining's binary_logloss: 0.273558\tvalid_1's auc: 0.854596\tvalid_1's binary_logloss: 0.293694\n",
      "Early stopping, best iteration is:\n",
      "[217]\ttraining's auc: 0.881181\ttraining's binary_logloss: 0.271951\tvalid_1's auc: 0.854911\tvalid_1's binary_logloss: 0.293478\n",
      "********** 2 **********\n",
      "Training until validation scores don't improve for 10 rounds\n",
      "[50]\ttraining's auc: 0.852102\ttraining's binary_logloss: 0.296896\tvalid_1's auc: 0.846709\tvalid_1's binary_logloss: 0.300192\n",
      "[100]\ttraining's auc: 0.865115\ttraining's binary_logloss: 0.285689\tvalid_1's auc: 0.853121\tvalid_1's binary_logloss: 0.294072\n",
      "[150]\ttraining's auc: 0.872967\ttraining's binary_logloss: 0.279204\tvalid_1's auc: 0.855176\tvalid_1's binary_logloss: 0.292075\n",
      "[200]\ttraining's auc: 0.879362\ttraining's binary_logloss: 0.274063\tvalid_1's auc: 0.855705\tvalid_1's binary_logloss: 0.291499\n",
      "[250]\ttraining's auc: 0.884827\ttraining's binary_logloss: 0.269609\tvalid_1's auc: 0.856078\tvalid_1's binary_logloss: 0.291138\n",
      "[300]\ttraining's auc: 0.889991\ttraining's binary_logloss: 0.265346\tvalid_1's auc: 0.856349\tvalid_1's binary_logloss: 0.290904\n",
      "Early stopping, best iteration is:\n",
      "[315]\ttraining's auc: 0.891409\ttraining's binary_logloss: 0.2642\tvalid_1's auc: 0.856393\tvalid_1's binary_logloss: 0.290874\n",
      "********** 3 **********\n",
      "Training until validation scores don't improve for 10 rounds\n",
      "[50]\ttraining's auc: 0.851968\ttraining's binary_logloss: 0.296793\tvalid_1's auc: 0.844969\tvalid_1's binary_logloss: 0.301245\n",
      "[100]\ttraining's auc: 0.864905\ttraining's binary_logloss: 0.285691\tvalid_1's auc: 0.8518\tvalid_1's binary_logloss: 0.294859\n",
      "[150]\ttraining's auc: 0.87286\ttraining's binary_logloss: 0.279145\tvalid_1's auc: 0.85388\tvalid_1's binary_logloss: 0.292945\n",
      "[200]\ttraining's auc: 0.879193\ttraining's binary_logloss: 0.274075\tvalid_1's auc: 0.854713\tvalid_1's binary_logloss: 0.292172\n",
      "Early stopping, best iteration is:\n",
      "[232]\ttraining's auc: 0.883108\ttraining's binary_logloss: 0.271021\tvalid_1's auc: 0.855161\tvalid_1's binary_logloss: 0.291782\n",
      "********** 4 **********\n",
      "Training until validation scores don't improve for 10 rounds\n",
      "[50]\ttraining's auc: 0.854447\ttraining's binary_logloss: 0.295826\tvalid_1's auc: 0.837363\tvalid_1's binary_logloss: 0.304133\n",
      "[100]\ttraining's auc: 0.867255\ttraining's binary_logloss: 0.284497\tvalid_1's auc: 0.843443\tvalid_1's binary_logloss: 0.298742\n",
      "[150]\ttraining's auc: 0.875209\ttraining's binary_logloss: 0.277881\tvalid_1's auc: 0.845305\tvalid_1's binary_logloss: 0.297108\n",
      "[200]\ttraining's auc: 0.881562\ttraining's binary_logloss: 0.272597\tvalid_1's auc: 0.846196\tvalid_1's binary_logloss: 0.296311\n",
      "Early stopping, best iteration is:\n",
      "[222]\ttraining's auc: 0.884189\ttraining's binary_logloss: 0.270513\tvalid_1's auc: 0.846533\tvalid_1's binary_logloss: 0.29609\n",
      "*********************\n",
      "roc auc estimado:  0.8536655495573116\n",
      "roc auc varianza:  0.0008727403791740581\n"
     ]
    }
   ],
   "source": [
    "[test_probs,fi] = cross_validation_lightgbm(train[keep_columns], y_train, test[keep_columns])"
   ]
  },
  {
   "cell_type": "code",
   "execution_count": 83,
   "id": "separated-martial",
   "metadata": {
    "scrolled": true
   },
   "outputs": [
    {
     "name": "stdout",
     "output_type": "stream",
     "text": [
      "total de variables : 784\n",
      "variables con importancia acumulada al 99% : 761\n",
      "variables con zero importancia : 0\n"
     ]
    }
   ],
   "source": [
    "keep_columns, zero_importance = get_feature_selection(fi)"
   ]
  },
  {
   "cell_type": "code",
   "execution_count": 84,
   "id": "arbitrary-package",
   "metadata": {},
   "outputs": [],
   "source": [
    "keep_columns_v15 = keep_columns"
   ]
  },
  {
   "cell_type": "code",
   "execution_count": 85,
   "id": "danish-speed",
   "metadata": {
    "scrolled": true
   },
   "outputs": [
    {
     "name": "stdout",
     "output_type": "stream",
     "text": [
      "********** 0 **********\n",
      "Training until validation scores don't improve for 10 rounds\n",
      "[50]\ttraining's auc: 0.852436\ttraining's binary_logloss: 0.296252\tvalid_1's auc: 0.843297\tvalid_1's binary_logloss: 0.303046\n",
      "[100]\ttraining's auc: 0.865049\ttraining's binary_logloss: 0.285197\tvalid_1's auc: 0.8508\tvalid_1's binary_logloss: 0.296703\n",
      "[150]\ttraining's auc: 0.872947\ttraining's binary_logloss: 0.278809\tvalid_1's auc: 0.853304\tvalid_1's binary_logloss: 0.294743\n",
      "[200]\ttraining's auc: 0.879232\ttraining's binary_logloss: 0.273675\tvalid_1's auc: 0.854285\tvalid_1's binary_logloss: 0.293859\n",
      "[250]\ttraining's auc: 0.884921\ttraining's binary_logloss: 0.269126\tvalid_1's auc: 0.854885\tvalid_1's binary_logloss: 0.293467\n",
      "Early stopping, best iteration is:\n",
      "[273]\ttraining's auc: 0.887172\ttraining's binary_logloss: 0.267174\tvalid_1's auc: 0.855028\tvalid_1's binary_logloss: 0.29334\n",
      "********** 1 **********\n",
      "Training until validation scores don't improve for 10 rounds\n",
      "[50]\ttraining's auc: 0.852297\ttraining's binary_logloss: 0.296377\tvalid_1's auc: 0.843228\tvalid_1's binary_logloss: 0.303196\n",
      "[100]\ttraining's auc: 0.865278\ttraining's binary_logloss: 0.285234\tvalid_1's auc: 0.850291\tvalid_1's binary_logloss: 0.297055\n",
      "[150]\ttraining's auc: 0.873121\ttraining's binary_logloss: 0.278781\tvalid_1's auc: 0.852551\tvalid_1's binary_logloss: 0.295155\n",
      "[200]\ttraining's auc: 0.879457\ttraining's binary_logloss: 0.273671\tvalid_1's auc: 0.853404\tvalid_1's binary_logloss: 0.294319\n",
      "[250]\ttraining's auc: 0.884876\ttraining's binary_logloss: 0.269129\tvalid_1's auc: 0.853821\tvalid_1's binary_logloss: 0.293973\n",
      "[300]\ttraining's auc: 0.890021\ttraining's binary_logloss: 0.264968\tvalid_1's auc: 0.854359\tvalid_1's binary_logloss: 0.293684\n",
      "Early stopping, best iteration is:\n",
      "[333]\ttraining's auc: 0.893173\ttraining's binary_logloss: 0.262352\tvalid_1's auc: 0.854595\tvalid_1's binary_logloss: 0.293564\n",
      "********** 2 **********\n",
      "Training until validation scores don't improve for 10 rounds\n",
      "[50]\ttraining's auc: 0.851926\ttraining's binary_logloss: 0.297117\tvalid_1's auc: 0.846632\tvalid_1's binary_logloss: 0.300173\n",
      "[100]\ttraining's auc: 0.864802\ttraining's binary_logloss: 0.285927\tvalid_1's auc: 0.853534\tvalid_1's binary_logloss: 0.293779\n",
      "[150]\ttraining's auc: 0.872797\ttraining's binary_logloss: 0.279381\tvalid_1's auc: 0.85551\tvalid_1's binary_logloss: 0.291886\n",
      "[200]\ttraining's auc: 0.879156\ttraining's binary_logloss: 0.274268\tvalid_1's auc: 0.856545\tvalid_1's binary_logloss: 0.29111\n",
      "[250]\ttraining's auc: 0.884671\ttraining's binary_logloss: 0.269753\tvalid_1's auc: 0.856699\tvalid_1's binary_logloss: 0.290857\n",
      "Early stopping, best iteration is:\n",
      "[240]\ttraining's auc: 0.8836\ttraining's binary_logloss: 0.270639\tvalid_1's auc: 0.856775\tvalid_1's binary_logloss: 0.290817\n",
      "********** 3 **********\n",
      "Training until validation scores don't improve for 10 rounds\n",
      "[50]\ttraining's auc: 0.852357\ttraining's binary_logloss: 0.296731\tvalid_1's auc: 0.845103\tvalid_1's binary_logloss: 0.301257\n",
      "[100]\ttraining's auc: 0.865155\ttraining's binary_logloss: 0.285677\tvalid_1's auc: 0.851683\tvalid_1's binary_logloss: 0.295058\n",
      "[150]\ttraining's auc: 0.873045\ttraining's binary_logloss: 0.279185\tvalid_1's auc: 0.853832\tvalid_1's binary_logloss: 0.293083\n",
      "[200]\ttraining's auc: 0.879439\ttraining's binary_logloss: 0.274036\tvalid_1's auc: 0.854499\tvalid_1's binary_logloss: 0.292418\n",
      "[250]\ttraining's auc: 0.885114\ttraining's binary_logloss: 0.269477\tvalid_1's auc: 0.854909\tvalid_1's binary_logloss: 0.292045\n",
      "[300]\ttraining's auc: 0.890435\ttraining's binary_logloss: 0.265152\tvalid_1's auc: 0.8551\tvalid_1's binary_logloss: 0.291865\n",
      "Early stopping, best iteration is:\n",
      "[294]\ttraining's auc: 0.889837\ttraining's binary_logloss: 0.26565\tvalid_1's auc: 0.855162\tvalid_1's binary_logloss: 0.291856\n",
      "********** 4 **********\n",
      "Training until validation scores don't improve for 10 rounds\n",
      "[50]\ttraining's auc: 0.854262\ttraining's binary_logloss: 0.295882\tvalid_1's auc: 0.837496\tvalid_1's binary_logloss: 0.30407\n",
      "[100]\ttraining's auc: 0.867046\ttraining's binary_logloss: 0.284539\tvalid_1's auc: 0.843448\tvalid_1's binary_logloss: 0.29859\n",
      "[150]\ttraining's auc: 0.874941\ttraining's binary_logloss: 0.277982\tvalid_1's auc: 0.845306\tvalid_1's binary_logloss: 0.297053\n",
      "[200]\ttraining's auc: 0.881273\ttraining's binary_logloss: 0.272824\tvalid_1's auc: 0.846113\tvalid_1's binary_logloss: 0.296375\n",
      "Early stopping, best iteration is:\n",
      "[215]\ttraining's auc: 0.882855\ttraining's binary_logloss: 0.271417\tvalid_1's auc: 0.84622\tvalid_1's binary_logloss: 0.296261\n",
      "*********************\n",
      "roc auc estimado:  0.8535861876336244\n",
      "roc auc varianza:  0.0009127572640560095\n"
     ]
    }
   ],
   "source": [
    "[test_probs,fi] = cross_validation_lightgbm(train[keep_columns], y_train, test[keep_columns])"
   ]
  },
  {
   "cell_type": "code",
   "execution_count": 86,
   "id": "restricted-solid",
   "metadata": {
    "scrolled": false
   },
   "outputs": [
    {
     "name": "stdout",
     "output_type": "stream",
     "text": [
      "total de variables : 761\n",
      "variables con importancia acumulada al 99% : 740\n",
      "variables con zero importancia : 0\n"
     ]
    }
   ],
   "source": [
    "keep_columns, zero_importance = get_feature_selection(fi)"
   ]
  },
  {
   "cell_type": "code",
   "execution_count": 87,
   "id": "accomplished-virgin",
   "metadata": {},
   "outputs": [],
   "source": [
    "keep_columns_v16 = keep_columns"
   ]
  },
  {
   "cell_type": "code",
   "execution_count": 88,
   "id": "abandoned-vitamin",
   "metadata": {
    "scrolled": true
   },
   "outputs": [
    {
     "name": "stdout",
     "output_type": "stream",
     "text": [
      "********** 0 **********\n",
      "Training until validation scores don't improve for 10 rounds\n",
      "[50]\ttraining's auc: 0.852459\ttraining's binary_logloss: 0.296232\tvalid_1's auc: 0.843486\tvalid_1's binary_logloss: 0.302772\n",
      "[100]\ttraining's auc: 0.864891\ttraining's binary_logloss: 0.285336\tvalid_1's auc: 0.850996\tvalid_1's binary_logloss: 0.296538\n",
      "[150]\ttraining's auc: 0.872772\ttraining's binary_logloss: 0.278911\tvalid_1's auc: 0.853248\tvalid_1's binary_logloss: 0.294721\n",
      "[200]\ttraining's auc: 0.879191\ttraining's binary_logloss: 0.27375\tvalid_1's auc: 0.854096\tvalid_1's binary_logloss: 0.29402\n",
      "[250]\ttraining's auc: 0.884959\ttraining's binary_logloss: 0.269095\tvalid_1's auc: 0.854514\tvalid_1's binary_logloss: 0.29362\n",
      "Early stopping, best iteration is:\n",
      "[249]\ttraining's auc: 0.884846\ttraining's binary_logloss: 0.269184\tvalid_1's auc: 0.854555\tvalid_1's binary_logloss: 0.293599\n",
      "********** 1 **********\n",
      "Training until validation scores don't improve for 10 rounds\n",
      "[50]\ttraining's auc: 0.852554\ttraining's binary_logloss: 0.296178\tvalid_1's auc: 0.843838\tvalid_1's binary_logloss: 0.302718\n",
      "[100]\ttraining's auc: 0.865318\ttraining's binary_logloss: 0.285153\tvalid_1's auc: 0.850909\tvalid_1's binary_logloss: 0.296466\n",
      "[150]\ttraining's auc: 0.873186\ttraining's binary_logloss: 0.27867\tvalid_1's auc: 0.853434\tvalid_1's binary_logloss: 0.294366\n",
      "[200]\ttraining's auc: 0.879505\ttraining's binary_logloss: 0.273513\tvalid_1's auc: 0.854416\tvalid_1's binary_logloss: 0.293633\n",
      "Early stopping, best iteration is:\n",
      "[209]\ttraining's auc: 0.880609\ttraining's binary_logloss: 0.272623\tvalid_1's auc: 0.854582\tvalid_1's binary_logloss: 0.293517\n",
      "********** 2 **********\n",
      "Training until validation scores don't improve for 10 rounds\n",
      "[50]\ttraining's auc: 0.852378\ttraining's binary_logloss: 0.296848\tvalid_1's auc: 0.847305\tvalid_1's binary_logloss: 0.299963\n",
      "[100]\ttraining's auc: 0.865095\ttraining's binary_logloss: 0.2857\tvalid_1's auc: 0.853517\tvalid_1's binary_logloss: 0.293822\n",
      "[150]\ttraining's auc: 0.872867\ttraining's binary_logloss: 0.279179\tvalid_1's auc: 0.855355\tvalid_1's binary_logloss: 0.292062\n",
      "[200]\ttraining's auc: 0.87933\ttraining's binary_logloss: 0.274021\tvalid_1's auc: 0.856337\tvalid_1's binary_logloss: 0.291222\n",
      "Early stopping, best iteration is:\n",
      "[199]\ttraining's auc: 0.879228\ttraining's binary_logloss: 0.274112\tvalid_1's auc: 0.856338\tvalid_1's binary_logloss: 0.291238\n",
      "********** 3 **********\n",
      "Training until validation scores don't improve for 10 rounds\n",
      "[50]\ttraining's auc: 0.852106\ttraining's binary_logloss: 0.296906\tvalid_1's auc: 0.845269\tvalid_1's binary_logloss: 0.30132\n",
      "[100]\ttraining's auc: 0.865128\ttraining's binary_logloss: 0.285717\tvalid_1's auc: 0.852287\tvalid_1's binary_logloss: 0.294798\n",
      "[150]\ttraining's auc: 0.873105\ttraining's binary_logloss: 0.279203\tvalid_1's auc: 0.854329\tvalid_1's binary_logloss: 0.292893\n",
      "[200]\ttraining's auc: 0.879583\ttraining's binary_logloss: 0.274035\tvalid_1's auc: 0.85554\tvalid_1's binary_logloss: 0.291913\n",
      "[250]\ttraining's auc: 0.885142\ttraining's binary_logloss: 0.269475\tvalid_1's auc: 0.856035\tvalid_1's binary_logloss: 0.291407\n",
      "Early stopping, best iteration is:\n",
      "[250]\ttraining's auc: 0.885142\ttraining's binary_logloss: 0.269475\tvalid_1's auc: 0.856035\tvalid_1's binary_logloss: 0.291407\n",
      "********** 4 **********\n",
      "Training until validation scores don't improve for 10 rounds\n",
      "[50]\ttraining's auc: 0.853954\ttraining's binary_logloss: 0.295984\tvalid_1's auc: 0.837412\tvalid_1's binary_logloss: 0.303974\n",
      "[100]\ttraining's auc: 0.866908\ttraining's binary_logloss: 0.284687\tvalid_1's auc: 0.843238\tvalid_1's binary_logloss: 0.298803\n",
      "[150]\ttraining's auc: 0.874952\ttraining's binary_logloss: 0.278029\tvalid_1's auc: 0.844878\tvalid_1's binary_logloss: 0.297386\n",
      "[200]\ttraining's auc: 0.881336\ttraining's binary_logloss: 0.272768\tvalid_1's auc: 0.845811\tvalid_1's binary_logloss: 0.296691\n",
      "Early stopping, best iteration is:\n",
      "[237]\ttraining's auc: 0.885437\ttraining's binary_logloss: 0.269323\tvalid_1's auc: 0.846039\tvalid_1's binary_logloss: 0.296471\n",
      "*********************\n",
      "roc auc estimado:  0.8535543916656226\n",
      "roc auc varianza:  0.0009268842851444881\n"
     ]
    }
   ],
   "source": [
    "[test_probs,fi] = cross_validation_lightgbm(train[keep_columns], y_train, test[keep_columns])"
   ]
  },
  {
   "cell_type": "code",
   "execution_count": 89,
   "id": "least-pottery",
   "metadata": {
    "scrolled": false
   },
   "outputs": [
    {
     "name": "stdout",
     "output_type": "stream",
     "text": [
      "total de variables : 740\n",
      "variables con importancia acumulada al 99% : 718\n",
      "variables con zero importancia : 0\n"
     ]
    }
   ],
   "source": [
    "keep_columns, zero_importance = get_feature_selection(fi)"
   ]
  },
  {
   "cell_type": "code",
   "execution_count": 90,
   "id": "varying-relaxation",
   "metadata": {},
   "outputs": [],
   "source": [
    "keep_columns_v17 = keep_columns"
   ]
  },
  {
   "cell_type": "code",
   "execution_count": 91,
   "id": "blank-disaster",
   "metadata": {
    "scrolled": true
   },
   "outputs": [
    {
     "name": "stdout",
     "output_type": "stream",
     "text": [
      "********** 0 **********\n",
      "Training until validation scores don't improve for 10 rounds\n",
      "[50]\ttraining's auc: 0.852534\ttraining's binary_logloss: 0.296244\tvalid_1's auc: 0.843267\tvalid_1's binary_logloss: 0.303074\n",
      "[100]\ttraining's auc: 0.864944\ttraining's binary_logloss: 0.285314\tvalid_1's auc: 0.850627\tvalid_1's binary_logloss: 0.296959\n",
      "[150]\ttraining's auc: 0.872867\ttraining's binary_logloss: 0.278882\tvalid_1's auc: 0.852918\tvalid_1's binary_logloss: 0.295083\n",
      "[200]\ttraining's auc: 0.879226\ttraining's binary_logloss: 0.273722\tvalid_1's auc: 0.854088\tvalid_1's binary_logloss: 0.294165\n",
      "[250]\ttraining's auc: 0.884852\ttraining's binary_logloss: 0.269179\tvalid_1's auc: 0.854818\tvalid_1's binary_logloss: 0.293647\n",
      "Early stopping, best iteration is:\n",
      "[252]\ttraining's auc: 0.885093\ttraining's binary_logloss: 0.269005\tvalid_1's auc: 0.854877\tvalid_1's binary_logloss: 0.293591\n",
      "********** 1 **********\n",
      "Training until validation scores don't improve for 10 rounds\n",
      "[50]\ttraining's auc: 0.852053\ttraining's binary_logloss: 0.296445\tvalid_1's auc: 0.843792\tvalid_1's binary_logloss: 0.302776\n",
      "[100]\ttraining's auc: 0.865025\ttraining's binary_logloss: 0.285371\tvalid_1's auc: 0.851057\tvalid_1's binary_logloss: 0.296447\n",
      "[150]\ttraining's auc: 0.872843\ttraining's binary_logloss: 0.278955\tvalid_1's auc: 0.853257\tvalid_1's binary_logloss: 0.294626\n",
      "[200]\ttraining's auc: 0.879013\ttraining's binary_logloss: 0.273824\tvalid_1's auc: 0.854213\tvalid_1's binary_logloss: 0.293821\n",
      "[250]\ttraining's auc: 0.884802\ttraining's binary_logloss: 0.269168\tvalid_1's auc: 0.854969\tvalid_1's binary_logloss: 0.293259\n",
      "Early stopping, best iteration is:\n",
      "[270]\ttraining's auc: 0.886919\ttraining's binary_logloss: 0.267469\tvalid_1's auc: 0.855193\tvalid_1's binary_logloss: 0.29309\n",
      "********** 2 **********\n",
      "Training until validation scores don't improve for 10 rounds\n",
      "[50]\ttraining's auc: 0.852279\ttraining's binary_logloss: 0.296763\tvalid_1's auc: 0.846859\tvalid_1's binary_logloss: 0.300041\n",
      "[100]\ttraining's auc: 0.8649\ttraining's binary_logloss: 0.28577\tvalid_1's auc: 0.853195\tvalid_1's binary_logloss: 0.294021\n",
      "[150]\ttraining's auc: 0.872671\ttraining's binary_logloss: 0.279347\tvalid_1's auc: 0.85513\tvalid_1's binary_logloss: 0.292162\n",
      "[200]\ttraining's auc: 0.87913\ttraining's binary_logloss: 0.274194\tvalid_1's auc: 0.855696\tvalid_1's binary_logloss: 0.291582\n",
      "Early stopping, best iteration is:\n",
      "[213]\ttraining's auc: 0.88058\ttraining's binary_logloss: 0.272987\tvalid_1's auc: 0.85583\tvalid_1's binary_logloss: 0.291475\n",
      "********** 3 **********\n",
      "Training until validation scores don't improve for 10 rounds\n",
      "[50]\ttraining's auc: 0.852101\ttraining's binary_logloss: 0.296889\tvalid_1's auc: 0.844587\tvalid_1's binary_logloss: 0.301463\n",
      "[100]\ttraining's auc: 0.865038\ttraining's binary_logloss: 0.285773\tvalid_1's auc: 0.851422\tvalid_1's binary_logloss: 0.295002\n",
      "[150]\ttraining's auc: 0.873029\ttraining's binary_logloss: 0.279203\tvalid_1's auc: 0.853413\tvalid_1's binary_logloss: 0.293168\n",
      "[200]\ttraining's auc: 0.879298\ttraining's binary_logloss: 0.274102\tvalid_1's auc: 0.854281\tvalid_1's binary_logloss: 0.292322\n",
      "Early stopping, best iteration is:\n",
      "[236]\ttraining's auc: 0.883367\ttraining's binary_logloss: 0.270774\tvalid_1's auc: 0.854614\tvalid_1's binary_logloss: 0.291965\n",
      "********** 4 **********\n",
      "Training until validation scores don't improve for 10 rounds\n",
      "[50]\ttraining's auc: 0.854189\ttraining's binary_logloss: 0.295928\tvalid_1's auc: 0.836934\tvalid_1's binary_logloss: 0.304289\n",
      "[100]\ttraining's auc: 0.866978\ttraining's binary_logloss: 0.284626\tvalid_1's auc: 0.843086\tvalid_1's binary_logloss: 0.298833\n",
      "[150]\ttraining's auc: 0.875065\ttraining's binary_logloss: 0.277977\tvalid_1's auc: 0.845034\tvalid_1's binary_logloss: 0.297256\n",
      "[200]\ttraining's auc: 0.881282\ttraining's binary_logloss: 0.272845\tvalid_1's auc: 0.845823\tvalid_1's binary_logloss: 0.296598\n",
      "Early stopping, best iteration is:\n",
      "[239]\ttraining's auc: 0.885827\ttraining's binary_logloss: 0.26915\tvalid_1's auc: 0.846565\tvalid_1's binary_logloss: 0.296118\n",
      "*********************\n",
      "roc auc estimado:  0.8534485620844371\n",
      "roc auc varianza:  0.0008403878692409569\n"
     ]
    }
   ],
   "source": [
    "[test_probs,fi] = cross_validation_lightgbm(train[keep_columns], y_train, test[keep_columns])"
   ]
  },
  {
   "cell_type": "code",
   "execution_count": 92,
   "id": "ahead-exemption",
   "metadata": {
    "scrolled": false
   },
   "outputs": [
    {
     "name": "stdout",
     "output_type": "stream",
     "text": [
      "total de variables : 718\n",
      "variables con importancia acumulada al 99% : 699\n",
      "variables con zero importancia : 0\n"
     ]
    }
   ],
   "source": [
    "keep_columns, zero_importance = get_feature_selection(fi)"
   ]
  },
  {
   "cell_type": "code",
   "execution_count": 93,
   "id": "determined-bangkok",
   "metadata": {},
   "outputs": [],
   "source": [
    "keep_columns_v18 = keep_columns"
   ]
  },
  {
   "cell_type": "code",
   "execution_count": 94,
   "id": "micro-listing",
   "metadata": {
    "scrolled": true
   },
   "outputs": [
    {
     "name": "stdout",
     "output_type": "stream",
     "text": [
      "********** 0 **********\n",
      "Training until validation scores don't improve for 10 rounds\n",
      "[50]\ttraining's auc: 0.85225\ttraining's binary_logloss: 0.296336\tvalid_1's auc: 0.843297\tvalid_1's binary_logloss: 0.303101\n",
      "[100]\ttraining's auc: 0.865063\ttraining's binary_logloss: 0.285307\tvalid_1's auc: 0.851073\tvalid_1's binary_logloss: 0.296803\n",
      "[150]\ttraining's auc: 0.872816\ttraining's binary_logloss: 0.278824\tvalid_1's auc: 0.853287\tvalid_1's binary_logloss: 0.294872\n",
      "[200]\ttraining's auc: 0.879366\ttraining's binary_logloss: 0.27362\tvalid_1's auc: 0.854257\tvalid_1's binary_logloss: 0.294067\n",
      "[250]\ttraining's auc: 0.884813\ttraining's binary_logloss: 0.269178\tvalid_1's auc: 0.854639\tvalid_1's binary_logloss: 0.293767\n",
      "Early stopping, best iteration is:\n",
      "[258]\ttraining's auc: 0.885667\ttraining's binary_logloss: 0.268462\tvalid_1's auc: 0.854674\tvalid_1's binary_logloss: 0.293727\n",
      "********** 1 **********\n",
      "Training until validation scores don't improve for 10 rounds\n",
      "[50]\ttraining's auc: 0.852184\ttraining's binary_logloss: 0.296476\tvalid_1's auc: 0.843407\tvalid_1's binary_logloss: 0.303129\n",
      "[100]\ttraining's auc: 0.864834\ttraining's binary_logloss: 0.285435\tvalid_1's auc: 0.850608\tvalid_1's binary_logloss: 0.296777\n",
      "[150]\ttraining's auc: 0.872856\ttraining's binary_logloss: 0.278877\tvalid_1's auc: 0.853012\tvalid_1's binary_logloss: 0.294738\n",
      "[200]\ttraining's auc: 0.879064\ttraining's binary_logloss: 0.273737\tvalid_1's auc: 0.854121\tvalid_1's binary_logloss: 0.293809\n",
      "[250]\ttraining's auc: 0.884628\ttraining's binary_logloss: 0.269205\tvalid_1's auc: 0.854627\tvalid_1's binary_logloss: 0.293427\n",
      "Early stopping, best iteration is:\n",
      "[251]\ttraining's auc: 0.884721\ttraining's binary_logloss: 0.269125\tvalid_1's auc: 0.854644\tvalid_1's binary_logloss: 0.293414\n",
      "********** 2 **********\n",
      "Training until validation scores don't improve for 10 rounds\n",
      "[50]\ttraining's auc: 0.852184\ttraining's binary_logloss: 0.296824\tvalid_1's auc: 0.846787\tvalid_1's binary_logloss: 0.300097\n",
      "[100]\ttraining's auc: 0.864954\ttraining's binary_logloss: 0.285735\tvalid_1's auc: 0.853029\tvalid_1's binary_logloss: 0.294017\n",
      "[150]\ttraining's auc: 0.87286\ttraining's binary_logloss: 0.279191\tvalid_1's auc: 0.854985\tvalid_1's binary_logloss: 0.292175\n",
      "[200]\ttraining's auc: 0.879171\ttraining's binary_logloss: 0.274083\tvalid_1's auc: 0.855622\tvalid_1's binary_logloss: 0.291499\n",
      "[250]\ttraining's auc: 0.884745\ttraining's binary_logloss: 0.269559\tvalid_1's auc: 0.85587\tvalid_1's binary_logloss: 0.291239\n",
      "Early stopping, best iteration is:\n",
      "[244]\ttraining's auc: 0.88408\ttraining's binary_logloss: 0.270098\tvalid_1's auc: 0.855914\tvalid_1's binary_logloss: 0.291225\n",
      "********** 3 **********\n",
      "Training until validation scores don't improve for 10 rounds\n",
      "[50]\ttraining's auc: 0.852128\ttraining's binary_logloss: 0.296845\tvalid_1's auc: 0.845593\tvalid_1's binary_logloss: 0.301\n",
      "[100]\ttraining's auc: 0.864983\ttraining's binary_logloss: 0.285787\tvalid_1's auc: 0.852217\tvalid_1's binary_logloss: 0.294802\n",
      "[150]\ttraining's auc: 0.873022\ttraining's binary_logloss: 0.279263\tvalid_1's auc: 0.854312\tvalid_1's binary_logloss: 0.292817\n",
      "[200]\ttraining's auc: 0.879188\ttraining's binary_logloss: 0.274141\tvalid_1's auc: 0.855112\tvalid_1's binary_logloss: 0.292024\n",
      "Early stopping, best iteration is:\n",
      "[224]\ttraining's auc: 0.881961\ttraining's binary_logloss: 0.271885\tvalid_1's auc: 0.855309\tvalid_1's binary_logloss: 0.291827\n",
      "********** 4 **********\n",
      "Training until validation scores don't improve for 10 rounds\n",
      "[50]\ttraining's auc: 0.853959\ttraining's binary_logloss: 0.296081\tvalid_1's auc: 0.837391\tvalid_1's binary_logloss: 0.304255\n",
      "[100]\ttraining's auc: 0.866916\ttraining's binary_logloss: 0.284672\tvalid_1's auc: 0.843334\tvalid_1's binary_logloss: 0.298706\n",
      "[150]\ttraining's auc: 0.875094\ttraining's binary_logloss: 0.278037\tvalid_1's auc: 0.84528\tvalid_1's binary_logloss: 0.297124\n",
      "[200]\ttraining's auc: 0.881416\ttraining's binary_logloss: 0.27281\tvalid_1's auc: 0.845848\tvalid_1's binary_logloss: 0.296601\n",
      "Early stopping, best iteration is:\n",
      "[217]\ttraining's auc: 0.883318\ttraining's binary_logloss: 0.271212\tvalid_1's auc: 0.8461\tvalid_1's binary_logloss: 0.296403\n",
      "*********************\n",
      "roc auc estimado:  0.85336818878241\n",
      "roc auc varianza:  0.0008897274738724763\n"
     ]
    }
   ],
   "source": [
    "[test_probs,fi] = cross_validation_lightgbm(train[keep_columns], y_train, test[keep_columns])"
   ]
  },
  {
   "cell_type": "code",
   "execution_count": 95,
   "id": "dress-shirt",
   "metadata": {
    "scrolled": true
   },
   "outputs": [
    {
     "name": "stdout",
     "output_type": "stream",
     "text": [
      "total de variables : 699\n",
      "variables con importancia acumulada al 99% : 680\n",
      "variables con zero importancia : 0\n"
     ]
    }
   ],
   "source": [
    "keep_columns, zero_importance = get_feature_selection(fi)"
   ]
  },
  {
   "cell_type": "code",
   "execution_count": 96,
   "id": "atomic-screw",
   "metadata": {},
   "outputs": [],
   "source": [
    "keep_columns_v19 = keep_columns"
   ]
  },
  {
   "cell_type": "code",
   "execution_count": 97,
   "id": "regional-stable",
   "metadata": {
    "scrolled": true
   },
   "outputs": [
    {
     "name": "stdout",
     "output_type": "stream",
     "text": [
      "********** 0 **********\n",
      "Training until validation scores don't improve for 10 rounds\n",
      "[50]\ttraining's auc: 0.852396\ttraining's binary_logloss: 0.296242\tvalid_1's auc: 0.843327\tvalid_1's binary_logloss: 0.302942\n",
      "[100]\ttraining's auc: 0.86488\ttraining's binary_logloss: 0.285336\tvalid_1's auc: 0.850616\tvalid_1's binary_logloss: 0.296876\n",
      "[150]\ttraining's auc: 0.872806\ttraining's binary_logloss: 0.278903\tvalid_1's auc: 0.853093\tvalid_1's binary_logloss: 0.294848\n",
      "[200]\ttraining's auc: 0.879241\ttraining's binary_logloss: 0.273759\tvalid_1's auc: 0.853946\tvalid_1's binary_logloss: 0.294102\n",
      "[250]\ttraining's auc: 0.8848\ttraining's binary_logloss: 0.26919\tvalid_1's auc: 0.854604\tvalid_1's binary_logloss: 0.293589\n",
      "[300]\ttraining's auc: 0.889931\ttraining's binary_logloss: 0.264967\tvalid_1's auc: 0.854985\tvalid_1's binary_logloss: 0.293313\n",
      "Early stopping, best iteration is:\n",
      "[293]\ttraining's auc: 0.889199\ttraining's binary_logloss: 0.265553\tvalid_1's auc: 0.855023\tvalid_1's binary_logloss: 0.293297\n",
      "********** 1 **********\n",
      "Training until validation scores don't improve for 10 rounds\n",
      "[50]\ttraining's auc: 0.852509\ttraining's binary_logloss: 0.296159\tvalid_1's auc: 0.844339\tvalid_1's binary_logloss: 0.302406\n",
      "[100]\ttraining's auc: 0.865167\ttraining's binary_logloss: 0.28516\tvalid_1's auc: 0.851203\tvalid_1's binary_logloss: 0.296356\n",
      "[150]\ttraining's auc: 0.873043\ttraining's binary_logloss: 0.278726\tvalid_1's auc: 0.853558\tvalid_1's binary_logloss: 0.294383\n",
      "[200]\ttraining's auc: 0.879416\ttraining's binary_logloss: 0.273579\tvalid_1's auc: 0.854522\tvalid_1's binary_logloss: 0.293548\n",
      "Early stopping, best iteration is:\n",
      "[237]\ttraining's auc: 0.883678\ttraining's binary_logloss: 0.270109\tvalid_1's auc: 0.855119\tvalid_1's binary_logloss: 0.293118\n",
      "********** 2 **********\n",
      "Training until validation scores don't improve for 10 rounds\n",
      "[50]\ttraining's auc: 0.852275\ttraining's binary_logloss: 0.296864\tvalid_1's auc: 0.846808\tvalid_1's binary_logloss: 0.300197\n",
      "[100]\ttraining's auc: 0.864952\ttraining's binary_logloss: 0.285776\tvalid_1's auc: 0.853098\tvalid_1's binary_logloss: 0.294155\n",
      "[150]\ttraining's auc: 0.872761\ttraining's binary_logloss: 0.279352\tvalid_1's auc: 0.855138\tvalid_1's binary_logloss: 0.292341\n",
      "[200]\ttraining's auc: 0.879086\ttraining's binary_logloss: 0.274255\tvalid_1's auc: 0.855879\tvalid_1's binary_logloss: 0.291548\n",
      "[250]\ttraining's auc: 0.88471\ttraining's binary_logloss: 0.26966\tvalid_1's auc: 0.856281\tvalid_1's binary_logloss: 0.291164\n",
      "Early stopping, best iteration is:\n",
      "[251]\ttraining's auc: 0.884811\ttraining's binary_logloss: 0.269574\tvalid_1's auc: 0.856303\tvalid_1's binary_logloss: 0.291143\n",
      "********** 3 **********\n",
      "Training until validation scores don't improve for 10 rounds\n",
      "[50]\ttraining's auc: 0.852213\ttraining's binary_logloss: 0.296706\tvalid_1's auc: 0.845469\tvalid_1's binary_logloss: 0.30104\n",
      "[100]\ttraining's auc: 0.864952\ttraining's binary_logloss: 0.285676\tvalid_1's auc: 0.852091\tvalid_1's binary_logloss: 0.294639\n",
      "[150]\ttraining's auc: 0.87307\ttraining's binary_logloss: 0.279159\tvalid_1's auc: 0.854215\tvalid_1's binary_logloss: 0.292789\n",
      "[200]\ttraining's auc: 0.879338\ttraining's binary_logloss: 0.274119\tvalid_1's auc: 0.855387\tvalid_1's binary_logloss: 0.291814\n",
      "[250]\ttraining's auc: 0.884844\ttraining's binary_logloss: 0.269594\tvalid_1's auc: 0.855922\tvalid_1's binary_logloss: 0.291374\n",
      "[300]\ttraining's auc: 0.889884\ttraining's binary_logloss: 0.265378\tvalid_1's auc: 0.856317\tvalid_1's binary_logloss: 0.291012\n",
      "Early stopping, best iteration is:\n",
      "[302]\ttraining's auc: 0.890067\ttraining's binary_logloss: 0.265224\tvalid_1's auc: 0.856352\tvalid_1's binary_logloss: 0.290998\n",
      "********** 4 **********\n",
      "Training until validation scores don't improve for 10 rounds\n",
      "[50]\ttraining's auc: 0.854275\ttraining's binary_logloss: 0.295964\tvalid_1's auc: 0.837257\tvalid_1's binary_logloss: 0.304005\n",
      "[100]\ttraining's auc: 0.866972\ttraining's binary_logloss: 0.284722\tvalid_1's auc: 0.843435\tvalid_1's binary_logloss: 0.298562\n",
      "[150]\ttraining's auc: 0.875184\ttraining's binary_logloss: 0.278031\tvalid_1's auc: 0.845579\tvalid_1's binary_logloss: 0.296851\n",
      "[200]\ttraining's auc: 0.881432\ttraining's binary_logloss: 0.272785\tvalid_1's auc: 0.846269\tvalid_1's binary_logloss: 0.296178\n",
      "Early stopping, best iteration is:\n",
      "[209]\ttraining's auc: 0.882439\ttraining's binary_logloss: 0.271946\tvalid_1's auc: 0.846299\tvalid_1's binary_logloss: 0.296139\n",
      "*********************\n",
      "roc auc estimado:  0.8538613987349759\n",
      "roc auc varianza:  0.0009267652208404322\n"
     ]
    }
   ],
   "source": [
    "[test_probs,fi] = cross_validation_lightgbm(train[keep_columns], y_train, test[keep_columns])"
   ]
  },
  {
   "cell_type": "code",
   "execution_count": 98,
   "id": "stainless-stadium",
   "metadata": {
    "scrolled": true
   },
   "outputs": [
    {
     "name": "stdout",
     "output_type": "stream",
     "text": [
      "total de variables : 680\n",
      "variables con importancia acumulada al 99% : 662\n",
      "variables con zero importancia : 0\n"
     ]
    }
   ],
   "source": [
    "keep_columns, zero_importance = get_feature_selection(fi)"
   ]
  },
  {
   "cell_type": "code",
   "execution_count": 99,
   "id": "asian-destiny",
   "metadata": {},
   "outputs": [],
   "source": [
    "keep_columns_v20 = keep_columns"
   ]
  },
  {
   "cell_type": "code",
   "execution_count": 100,
   "id": "geographic-reynolds",
   "metadata": {
    "scrolled": true
   },
   "outputs": [
    {
     "name": "stdout",
     "output_type": "stream",
     "text": [
      "********** 0 **********\n",
      "Training until validation scores don't improve for 10 rounds\n",
      "[50]\ttraining's auc: 0.852173\ttraining's binary_logloss: 0.296362\tvalid_1's auc: 0.843336\tvalid_1's binary_logloss: 0.303077\n",
      "[100]\ttraining's auc: 0.864872\ttraining's binary_logloss: 0.285383\tvalid_1's auc: 0.850833\tvalid_1's binary_logloss: 0.296829\n",
      "[150]\ttraining's auc: 0.872657\ttraining's binary_logloss: 0.278982\tvalid_1's auc: 0.853023\tvalid_1's binary_logloss: 0.295018\n",
      "[200]\ttraining's auc: 0.878913\ttraining's binary_logloss: 0.273893\tvalid_1's auc: 0.853784\tvalid_1's binary_logloss: 0.294285\n",
      "Early stopping, best iteration is:\n",
      "[196]\ttraining's auc: 0.878485\ttraining's binary_logloss: 0.274254\tvalid_1's auc: 0.853793\tvalid_1's binary_logloss: 0.294302\n",
      "********** 1 **********\n",
      "Training until validation scores don't improve for 10 rounds\n",
      "[50]\ttraining's auc: 0.852351\ttraining's binary_logloss: 0.296352\tvalid_1's auc: 0.844038\tvalid_1's binary_logloss: 0.302649\n",
      "[100]\ttraining's auc: 0.865086\ttraining's binary_logloss: 0.285352\tvalid_1's auc: 0.8514\tvalid_1's binary_logloss: 0.296301\n",
      "[150]\ttraining's auc: 0.872907\ttraining's binary_logloss: 0.278966\tvalid_1's auc: 0.85372\tvalid_1's binary_logloss: 0.294347\n",
      "[200]\ttraining's auc: 0.879192\ttraining's binary_logloss: 0.273876\tvalid_1's auc: 0.854551\tvalid_1's binary_logloss: 0.293598\n",
      "[250]\ttraining's auc: 0.884593\ttraining's binary_logloss: 0.26939\tvalid_1's auc: 0.855131\tvalid_1's binary_logloss: 0.29317\n",
      "Early stopping, best iteration is:\n",
      "[275]\ttraining's auc: 0.887225\ttraining's binary_logloss: 0.26726\tvalid_1's auc: 0.855345\tvalid_1's binary_logloss: 0.293009\n",
      "********** 2 **********\n",
      "Training until validation scores don't improve for 10 rounds\n",
      "[50]\ttraining's auc: 0.852219\ttraining's binary_logloss: 0.296905\tvalid_1's auc: 0.846316\tvalid_1's binary_logloss: 0.300429\n",
      "[100]\ttraining's auc: 0.864961\ttraining's binary_logloss: 0.285753\tvalid_1's auc: 0.853144\tvalid_1's binary_logloss: 0.294031\n",
      "[150]\ttraining's auc: 0.872631\ttraining's binary_logloss: 0.279351\tvalid_1's auc: 0.855308\tvalid_1's binary_logloss: 0.29208\n",
      "[200]\ttraining's auc: 0.879074\ttraining's binary_logloss: 0.274171\tvalid_1's auc: 0.856063\tvalid_1's binary_logloss: 0.291301\n",
      "[250]\ttraining's auc: 0.88462\ttraining's binary_logloss: 0.2697\tvalid_1's auc: 0.856372\tvalid_1's binary_logloss: 0.290966\n",
      "Early stopping, best iteration is:\n",
      "[279]\ttraining's auc: 0.88765\ttraining's binary_logloss: 0.267211\tvalid_1's auc: 0.856541\tvalid_1's binary_logloss: 0.290808\n",
      "********** 3 **********\n",
      "Training until validation scores don't improve for 10 rounds\n",
      "[50]\ttraining's auc: 0.852216\ttraining's binary_logloss: 0.296725\tvalid_1's auc: 0.845431\tvalid_1's binary_logloss: 0.301065\n",
      "[100]\ttraining's auc: 0.865001\ttraining's binary_logloss: 0.285778\tvalid_1's auc: 0.852136\tvalid_1's binary_logloss: 0.294765\n",
      "[150]\ttraining's auc: 0.872988\ttraining's binary_logloss: 0.279209\tvalid_1's auc: 0.854205\tvalid_1's binary_logloss: 0.292789\n",
      "[200]\ttraining's auc: 0.879316\ttraining's binary_logloss: 0.27401\tvalid_1's auc: 0.854976\tvalid_1's binary_logloss: 0.292048\n",
      "[250]\ttraining's auc: 0.885151\ttraining's binary_logloss: 0.269385\tvalid_1's auc: 0.855605\tvalid_1's binary_logloss: 0.291526\n",
      "Early stopping, best iteration is:\n",
      "[252]\ttraining's auc: 0.885353\ttraining's binary_logloss: 0.269208\tvalid_1's auc: 0.855637\tvalid_1's binary_logloss: 0.29149\n",
      "********** 4 **********\n",
      "Training until validation scores don't improve for 10 rounds\n",
      "[50]\ttraining's auc: 0.854115\ttraining's binary_logloss: 0.2958\tvalid_1's auc: 0.837546\tvalid_1's binary_logloss: 0.303996\n",
      "[100]\ttraining's auc: 0.867097\ttraining's binary_logloss: 0.284584\tvalid_1's auc: 0.843679\tvalid_1's binary_logloss: 0.298613\n",
      "[150]\ttraining's auc: 0.874914\ttraining's binary_logloss: 0.278038\tvalid_1's auc: 0.84544\tvalid_1's binary_logloss: 0.297138\n",
      "[200]\ttraining's auc: 0.881298\ttraining's binary_logloss: 0.272798\tvalid_1's auc: 0.846142\tvalid_1's binary_logloss: 0.296464\n",
      "Early stopping, best iteration is:\n",
      "[217]\ttraining's auc: 0.883293\ttraining's binary_logloss: 0.271203\tvalid_1's auc: 0.846352\tvalid_1's binary_logloss: 0.29636\n",
      "*********************\n",
      "roc auc estimado:  0.8535739160561191\n",
      "roc auc varianza:  0.0009035634587197159\n"
     ]
    }
   ],
   "source": [
    "[test_probs,fi] = cross_validation_lightgbm(train[keep_columns], y_train, test[keep_columns])"
   ]
  },
  {
   "cell_type": "code",
   "execution_count": 101,
   "id": "scheduled-preliminary",
   "metadata": {
    "scrolled": true
   },
   "outputs": [
    {
     "name": "stdout",
     "output_type": "stream",
     "text": [
      "total de variables : 662\n",
      "variables con importancia acumulada al 99% : 645\n",
      "variables con zero importancia : 0\n"
     ]
    }
   ],
   "source": [
    "keep_columns, zero_importance = get_feature_selection(fi)"
   ]
  },
  {
   "cell_type": "code",
   "execution_count": 102,
   "id": "sublime-criticism",
   "metadata": {},
   "outputs": [],
   "source": [
    "keep_columns_v21 = keep_columns"
   ]
  },
  {
   "cell_type": "code",
   "execution_count": 103,
   "id": "parliamentary-vessel",
   "metadata": {
    "scrolled": true
   },
   "outputs": [
    {
     "name": "stdout",
     "output_type": "stream",
     "text": [
      "********** 0 **********\n",
      "Training until validation scores don't improve for 10 rounds\n",
      "[50]\ttraining's auc: 0.852173\ttraining's binary_logloss: 0.296387\tvalid_1's auc: 0.842979\tvalid_1's binary_logloss: 0.303156\n",
      "[100]\ttraining's auc: 0.864977\ttraining's binary_logloss: 0.285363\tvalid_1's auc: 0.850453\tvalid_1's binary_logloss: 0.296973\n",
      "[150]\ttraining's auc: 0.872672\ttraining's binary_logloss: 0.278924\tvalid_1's auc: 0.852512\tvalid_1's binary_logloss: 0.29516\n",
      "[200]\ttraining's auc: 0.878963\ttraining's binary_logloss: 0.273786\tvalid_1's auc: 0.853322\tvalid_1's binary_logloss: 0.294467\n",
      "Early stopping, best iteration is:\n",
      "[200]\ttraining's auc: 0.878963\ttraining's binary_logloss: 0.273786\tvalid_1's auc: 0.853322\tvalid_1's binary_logloss: 0.294467\n",
      "********** 1 **********\n",
      "Training until validation scores don't improve for 10 rounds\n",
      "[50]\ttraining's auc: 0.852271\ttraining's binary_logloss: 0.296162\tvalid_1's auc: 0.844037\tvalid_1's binary_logloss: 0.302531\n",
      "[100]\ttraining's auc: 0.865101\ttraining's binary_logloss: 0.28527\tvalid_1's auc: 0.850997\tvalid_1's binary_logloss: 0.296453\n",
      "[150]\ttraining's auc: 0.872867\ttraining's binary_logloss: 0.278862\tvalid_1's auc: 0.85317\tvalid_1's binary_logloss: 0.294656\n",
      "[200]\ttraining's auc: 0.879357\ttraining's binary_logloss: 0.273604\tvalid_1's auc: 0.854317\tvalid_1's binary_logloss: 0.29366\n",
      "[250]\ttraining's auc: 0.884954\ttraining's binary_logloss: 0.269088\tvalid_1's auc: 0.854747\tvalid_1's binary_logloss: 0.293318\n",
      "[300]\ttraining's auc: 0.889976\ttraining's binary_logloss: 0.264911\tvalid_1's auc: 0.855129\tvalid_1's binary_logloss: 0.293073\n",
      "Early stopping, best iteration is:\n",
      "[318]\ttraining's auc: 0.891607\ttraining's binary_logloss: 0.263497\tvalid_1's auc: 0.855328\tvalid_1's binary_logloss: 0.292917\n",
      "********** 2 **********\n",
      "Training until validation scores don't improve for 10 rounds\n",
      "[50]\ttraining's auc: 0.852313\ttraining's binary_logloss: 0.296766\tvalid_1's auc: 0.846452\tvalid_1's binary_logloss: 0.300228\n",
      "[100]\ttraining's auc: 0.864838\ttraining's binary_logloss: 0.285761\tvalid_1's auc: 0.853089\tvalid_1's binary_logloss: 0.293957\n",
      "[150]\ttraining's auc: 0.872614\ttraining's binary_logloss: 0.279351\tvalid_1's auc: 0.855256\tvalid_1's binary_logloss: 0.291999\n",
      "[200]\ttraining's auc: 0.878999\ttraining's binary_logloss: 0.2742\tvalid_1's auc: 0.855917\tvalid_1's binary_logloss: 0.29135\n",
      "Early stopping, best iteration is:\n",
      "[233]\ttraining's auc: 0.882882\ttraining's binary_logloss: 0.271111\tvalid_1's auc: 0.856275\tvalid_1's binary_logloss: 0.29104\n",
      "********** 3 **********\n",
      "Training until validation scores don't improve for 10 rounds\n",
      "[50]\ttraining's auc: 0.852269\ttraining's binary_logloss: 0.296683\tvalid_1's auc: 0.845309\tvalid_1's binary_logloss: 0.301262\n",
      "[100]\ttraining's auc: 0.865137\ttraining's binary_logloss: 0.285604\tvalid_1's auc: 0.852171\tvalid_1's binary_logloss: 0.294821\n",
      "[150]\ttraining's auc: 0.872947\ttraining's binary_logloss: 0.279197\tvalid_1's auc: 0.854396\tvalid_1's binary_logloss: 0.292804\n",
      "Early stopping, best iteration is:\n",
      "[185]\ttraining's auc: 0.877364\ttraining's binary_logloss: 0.275565\tvalid_1's auc: 0.855196\tvalid_1's binary_logloss: 0.292093\n",
      "********** 4 **********\n",
      "Training until validation scores don't improve for 10 rounds\n",
      "[50]\ttraining's auc: 0.853936\ttraining's binary_logloss: 0.295954\tvalid_1's auc: 0.83702\tvalid_1's binary_logloss: 0.304124\n",
      "[100]\ttraining's auc: 0.866858\ttraining's binary_logloss: 0.284682\tvalid_1's auc: 0.843298\tvalid_1's binary_logloss: 0.298682\n",
      "[150]\ttraining's auc: 0.874864\ttraining's binary_logloss: 0.278099\tvalid_1's auc: 0.845066\tvalid_1's binary_logloss: 0.29708\n",
      "[200]\ttraining's auc: 0.881302\ttraining's binary_logloss: 0.272869\tvalid_1's auc: 0.845682\tvalid_1's binary_logloss: 0.2965\n",
      "Early stopping, best iteration is:\n",
      "[226]\ttraining's auc: 0.884271\ttraining's binary_logloss: 0.270436\tvalid_1's auc: 0.845975\tvalid_1's binary_logloss: 0.296285\n",
      "*********************\n",
      "roc auc estimado:  0.8532558417023871\n",
      "roc auc varianza:  0.0009127087601031045\n"
     ]
    }
   ],
   "source": [
    "[test_probs,fi] = cross_validation_lightgbm(train[keep_columns], y_train, test[keep_columns])"
   ]
  },
  {
   "cell_type": "code",
   "execution_count": 104,
   "id": "clinical-entertainment",
   "metadata": {},
   "outputs": [
    {
     "name": "stdout",
     "output_type": "stream",
     "text": [
      "total de variables : 645\n",
      "variables con importancia acumulada al 99% : 627\n",
      "variables con zero importancia : 0\n"
     ]
    }
   ],
   "source": [
    "keep_columns, zero_importance = get_feature_selection(fi)"
   ]
  },
  {
   "cell_type": "code",
   "execution_count": 105,
   "id": "robust-carroll",
   "metadata": {},
   "outputs": [],
   "source": [
    "keep_columns_v22 = keep_columns"
   ]
  },
  {
   "cell_type": "code",
   "execution_count": 106,
   "id": "exotic-publisher",
   "metadata": {
    "scrolled": true
   },
   "outputs": [
    {
     "name": "stdout",
     "output_type": "stream",
     "text": [
      "********** 0 **********\n",
      "Training until validation scores don't improve for 10 rounds\n",
      "[50]\ttraining's auc: 0.8519\ttraining's binary_logloss: 0.296416\tvalid_1's auc: 0.843723\tvalid_1's binary_logloss: 0.302862\n",
      "[100]\ttraining's auc: 0.864673\ttraining's binary_logloss: 0.285408\tvalid_1's auc: 0.85124\tvalid_1's binary_logloss: 0.296563\n",
      "[150]\ttraining's auc: 0.872491\ttraining's binary_logloss: 0.279024\tvalid_1's auc: 0.853743\tvalid_1's binary_logloss: 0.294559\n",
      "[200]\ttraining's auc: 0.878773\ttraining's binary_logloss: 0.27396\tvalid_1's auc: 0.854514\tvalid_1's binary_logloss: 0.29381\n",
      "[250]\ttraining's auc: 0.88443\ttraining's binary_logloss: 0.26935\tvalid_1's auc: 0.855221\tvalid_1's binary_logloss: 0.293327\n",
      "Early stopping, best iteration is:\n",
      "[260]\ttraining's auc: 0.885449\ttraining's binary_logloss: 0.268475\tvalid_1's auc: 0.855249\tvalid_1's binary_logloss: 0.293319\n",
      "********** 1 **********\n",
      "Training until validation scores don't improve for 10 rounds\n",
      "[50]\ttraining's auc: 0.852139\ttraining's binary_logloss: 0.296415\tvalid_1's auc: 0.843508\tvalid_1's binary_logloss: 0.302932\n",
      "[100]\ttraining's auc: 0.864861\ttraining's binary_logloss: 0.285377\tvalid_1's auc: 0.850627\tvalid_1's binary_logloss: 0.296719\n",
      "[150]\ttraining's auc: 0.872816\ttraining's binary_logloss: 0.278924\tvalid_1's auc: 0.852854\tvalid_1's binary_logloss: 0.294899\n",
      "[200]\ttraining's auc: 0.879116\ttraining's binary_logloss: 0.273787\tvalid_1's auc: 0.854104\tvalid_1's binary_logloss: 0.293918\n",
      "[250]\ttraining's auc: 0.884767\ttraining's binary_logloss: 0.269272\tvalid_1's auc: 0.854559\tvalid_1's binary_logloss: 0.293519\n",
      "Early stopping, best iteration is:\n",
      "[240]\ttraining's auc: 0.883657\ttraining's binary_logloss: 0.270117\tvalid_1's auc: 0.854568\tvalid_1's binary_logloss: 0.293514\n",
      "********** 2 **********\n",
      "Training until validation scores don't improve for 10 rounds\n",
      "[50]\ttraining's auc: 0.852258\ttraining's binary_logloss: 0.296781\tvalid_1's auc: 0.846598\tvalid_1's binary_logloss: 0.300156\n",
      "[100]\ttraining's auc: 0.865073\ttraining's binary_logloss: 0.28573\tvalid_1's auc: 0.853257\tvalid_1's binary_logloss: 0.293971\n",
      "[150]\ttraining's auc: 0.87298\ttraining's binary_logloss: 0.279202\tvalid_1's auc: 0.855403\tvalid_1's binary_logloss: 0.292097\n",
      "[200]\ttraining's auc: 0.879386\ttraining's binary_logloss: 0.274064\tvalid_1's auc: 0.855906\tvalid_1's binary_logloss: 0.291586\n",
      "Early stopping, best iteration is:\n",
      "[206]\ttraining's auc: 0.880099\ttraining's binary_logloss: 0.273495\tvalid_1's auc: 0.855974\tvalid_1's binary_logloss: 0.291531\n",
      "********** 3 **********\n",
      "Training until validation scores don't improve for 10 rounds\n",
      "[50]\ttraining's auc: 0.852122\ttraining's binary_logloss: 0.296786\tvalid_1's auc: 0.844989\tvalid_1's binary_logloss: 0.301321\n",
      "[100]\ttraining's auc: 0.864961\ttraining's binary_logloss: 0.285747\tvalid_1's auc: 0.851796\tvalid_1's binary_logloss: 0.294911\n",
      "[150]\ttraining's auc: 0.872831\ttraining's binary_logloss: 0.279229\tvalid_1's auc: 0.853925\tvalid_1's binary_logloss: 0.292844\n",
      "[200]\ttraining's auc: 0.879168\ttraining's binary_logloss: 0.27413\tvalid_1's auc: 0.854967\tvalid_1's binary_logloss: 0.291924\n",
      "[250]\ttraining's auc: 0.884737\ttraining's binary_logloss: 0.269647\tvalid_1's auc: 0.855264\tvalid_1's binary_logloss: 0.291589\n",
      "Early stopping, best iteration is:\n",
      "[242]\ttraining's auc: 0.883874\ttraining's binary_logloss: 0.270328\tvalid_1's auc: 0.855338\tvalid_1's binary_logloss: 0.291569\n",
      "********** 4 **********\n",
      "Training until validation scores don't improve for 10 rounds\n",
      "[50]\ttraining's auc: 0.85421\ttraining's binary_logloss: 0.295944\tvalid_1's auc: 0.837112\tvalid_1's binary_logloss: 0.304361\n",
      "[100]\ttraining's auc: 0.867056\ttraining's binary_logloss: 0.284648\tvalid_1's auc: 0.843427\tvalid_1's binary_logloss: 0.298772\n",
      "[150]\ttraining's auc: 0.874867\ttraining's binary_logloss: 0.27816\tvalid_1's auc: 0.845274\tvalid_1's binary_logloss: 0.297261\n",
      "[200]\ttraining's auc: 0.881217\ttraining's binary_logloss: 0.272937\tvalid_1's auc: 0.846027\tvalid_1's binary_logloss: 0.296631\n",
      "[250]\ttraining's auc: 0.886787\ttraining's binary_logloss: 0.26836\tvalid_1's auc: 0.846509\tvalid_1's binary_logloss: 0.296317\n",
      "Early stopping, best iteration is:\n",
      "[263]\ttraining's auc: 0.888185\ttraining's binary_logloss: 0.267201\tvalid_1's auc: 0.846588\tvalid_1's binary_logloss: 0.296243\n",
      "*********************\n",
      "roc auc estimado:  0.8535836877174268\n",
      "roc auc varianza:  0.000853827520426117\n"
     ]
    }
   ],
   "source": [
    "[test_probs,fi] = cross_validation_lightgbm(train[keep_columns], y_train, test[keep_columns])"
   ]
  },
  {
   "cell_type": "code",
   "execution_count": 107,
   "id": "unlike-census",
   "metadata": {
    "scrolled": true
   },
   "outputs": [
    {
     "name": "stdout",
     "output_type": "stream",
     "text": [
      "total de variables : 627\n",
      "variables con importancia acumulada al 99% : 610\n",
      "variables con zero importancia : 0\n"
     ]
    }
   ],
   "source": [
    "keep_columns, zero_importance = get_feature_selection(fi)"
   ]
  },
  {
   "cell_type": "code",
   "execution_count": 108,
   "id": "pending-fleet",
   "metadata": {},
   "outputs": [],
   "source": [
    "keep_columns_v23 = keep_columns"
   ]
  },
  {
   "cell_type": "code",
   "execution_count": 109,
   "id": "conventional-intervention",
   "metadata": {
    "scrolled": true
   },
   "outputs": [
    {
     "name": "stdout",
     "output_type": "stream",
     "text": [
      "********** 0 **********\n",
      "Training until validation scores don't improve for 10 rounds\n",
      "[50]\ttraining's auc: 0.852391\ttraining's binary_logloss: 0.29627\tvalid_1's auc: 0.843754\tvalid_1's binary_logloss: 0.302814\n",
      "[100]\ttraining's auc: 0.86502\ttraining's binary_logloss: 0.285229\tvalid_1's auc: 0.851056\tvalid_1's binary_logloss: 0.296668\n",
      "[150]\ttraining's auc: 0.872872\ttraining's binary_logloss: 0.278855\tvalid_1's auc: 0.853305\tvalid_1's binary_logloss: 0.294764\n",
      "[200]\ttraining's auc: 0.87912\ttraining's binary_logloss: 0.273815\tvalid_1's auc: 0.854326\tvalid_1's binary_logloss: 0.293945\n",
      "Early stopping, best iteration is:\n",
      "[194]\ttraining's auc: 0.878385\ttraining's binary_logloss: 0.274382\tvalid_1's auc: 0.854356\tvalid_1's binary_logloss: 0.293933\n",
      "********** 1 **********\n",
      "Training until validation scores don't improve for 10 rounds\n",
      "[50]\ttraining's auc: 0.852108\ttraining's binary_logloss: 0.296367\tvalid_1's auc: 0.843991\tvalid_1's binary_logloss: 0.302774\n",
      "[100]\ttraining's auc: 0.864924\ttraining's binary_logloss: 0.28541\tvalid_1's auc: 0.850952\tvalid_1's binary_logloss: 0.29655\n",
      "[150]\ttraining's auc: 0.872623\ttraining's binary_logloss: 0.278996\tvalid_1's auc: 0.853238\tvalid_1's binary_logloss: 0.294694\n",
      "[200]\ttraining's auc: 0.878934\ttraining's binary_logloss: 0.273921\tvalid_1's auc: 0.854003\tvalid_1's binary_logloss: 0.294072\n",
      "[250]\ttraining's auc: 0.884403\ttraining's binary_logloss: 0.269485\tvalid_1's auc: 0.854454\tvalid_1's binary_logloss: 0.293676\n",
      "Early stopping, best iteration is:\n",
      "[278]\ttraining's auc: 0.887264\ttraining's binary_logloss: 0.267141\tvalid_1's auc: 0.854676\tvalid_1's binary_logloss: 0.293487\n",
      "********** 2 **********\n",
      "Training until validation scores don't improve for 10 rounds\n",
      "[50]\ttraining's auc: 0.852121\ttraining's binary_logloss: 0.29688\tvalid_1's auc: 0.846575\tvalid_1's binary_logloss: 0.300225\n",
      "[100]\ttraining's auc: 0.864902\ttraining's binary_logloss: 0.285794\tvalid_1's auc: 0.853286\tvalid_1's binary_logloss: 0.293906\n",
      "[150]\ttraining's auc: 0.872729\ttraining's binary_logloss: 0.27937\tvalid_1's auc: 0.85528\tvalid_1's binary_logloss: 0.292096\n",
      "[200]\ttraining's auc: 0.879178\ttraining's binary_logloss: 0.274204\tvalid_1's auc: 0.856055\tvalid_1's binary_logloss: 0.291323\n",
      "Early stopping, best iteration is:\n",
      "[199]\ttraining's auc: 0.879056\ttraining's binary_logloss: 0.274291\tvalid_1's auc: 0.856046\tvalid_1's binary_logloss: 0.291321\n",
      "********** 3 **********\n",
      "Training until validation scores don't improve for 10 rounds\n",
      "[50]\ttraining's auc: 0.851943\ttraining's binary_logloss: 0.2969\tvalid_1's auc: 0.844995\tvalid_1's binary_logloss: 0.301427\n",
      "[100]\ttraining's auc: 0.864768\ttraining's binary_logloss: 0.285857\tvalid_1's auc: 0.85171\tvalid_1's binary_logloss: 0.294967\n",
      "[150]\ttraining's auc: 0.872684\ttraining's binary_logloss: 0.279324\tvalid_1's auc: 0.853651\tvalid_1's binary_logloss: 0.293114\n",
      "[200]\ttraining's auc: 0.878869\ttraining's binary_logloss: 0.274281\tvalid_1's auc: 0.854529\tvalid_1's binary_logloss: 0.292214\n",
      "[250]\ttraining's auc: 0.884565\ttraining's binary_logloss: 0.269736\tvalid_1's auc: 0.855048\tvalid_1's binary_logloss: 0.291806\n",
      "Early stopping, best iteration is:\n",
      "[254]\ttraining's auc: 0.884914\ttraining's binary_logloss: 0.269416\tvalid_1's auc: 0.855108\tvalid_1's binary_logloss: 0.291747\n",
      "********** 4 **********\n",
      "Training until validation scores don't improve for 10 rounds\n",
      "[50]\ttraining's auc: 0.854472\ttraining's binary_logloss: 0.295835\tvalid_1's auc: 0.837744\tvalid_1's binary_logloss: 0.304016\n",
      "[100]\ttraining's auc: 0.867162\ttraining's binary_logloss: 0.284612\tvalid_1's auc: 0.843316\tvalid_1's binary_logloss: 0.298707\n",
      "[150]\ttraining's auc: 0.874927\ttraining's binary_logloss: 0.278086\tvalid_1's auc: 0.845093\tvalid_1's binary_logloss: 0.29712\n",
      "[200]\ttraining's auc: 0.881191\ttraining's binary_logloss: 0.272949\tvalid_1's auc: 0.845802\tvalid_1's binary_logloss: 0.296533\n",
      "Early stopping, best iteration is:\n",
      "[230]\ttraining's auc: 0.884411\ttraining's binary_logloss: 0.270176\tvalid_1's auc: 0.846219\tvalid_1's binary_logloss: 0.296189\n",
      "*********************\n",
      "roc auc estimado:  0.8533248481367814\n",
      "roc auc varianza:  0.0008703758967928931\n"
     ]
    }
   ],
   "source": [
    "[test_probs,fi] = cross_validation_lightgbm(train[keep_columns], y_train, test[keep_columns])"
   ]
  },
  {
   "cell_type": "code",
   "execution_count": 110,
   "id": "located-camel",
   "metadata": {},
   "outputs": [
    {
     "name": "stdout",
     "output_type": "stream",
     "text": [
      "total de variables : 610\n",
      "variables con importancia acumulada al 99% : 594\n",
      "variables con zero importancia : 0\n"
     ]
    }
   ],
   "source": [
    "keep_columns, zero_importance = get_feature_selection(fi)"
   ]
  },
  {
   "cell_type": "code",
   "execution_count": 111,
   "id": "supreme-audience",
   "metadata": {},
   "outputs": [],
   "source": [
    "keep_columns_v24 = keep_columns"
   ]
  },
  {
   "cell_type": "code",
   "execution_count": 112,
   "id": "utility-triple",
   "metadata": {
    "scrolled": true
   },
   "outputs": [
    {
     "name": "stdout",
     "output_type": "stream",
     "text": [
      "********** 0 **********\n",
      "Training until validation scores don't improve for 10 rounds\n",
      "[50]\ttraining's auc: 0.852212\ttraining's binary_logloss: 0.296347\tvalid_1's auc: 0.843445\tvalid_1's binary_logloss: 0.302907\n",
      "[100]\ttraining's auc: 0.864867\ttraining's binary_logloss: 0.285371\tvalid_1's auc: 0.850742\tvalid_1's binary_logloss: 0.296836\n",
      "[150]\ttraining's auc: 0.872572\ttraining's binary_logloss: 0.279042\tvalid_1's auc: 0.852914\tvalid_1's binary_logloss: 0.295029\n",
      "[200]\ttraining's auc: 0.878825\ttraining's binary_logloss: 0.273939\tvalid_1's auc: 0.85391\tvalid_1's binary_logloss: 0.294256\n",
      "[250]\ttraining's auc: 0.88454\ttraining's binary_logloss: 0.269393\tvalid_1's auc: 0.854597\tvalid_1's binary_logloss: 0.293759\n",
      "Early stopping, best iteration is:\n",
      "[255]\ttraining's auc: 0.885033\ttraining's binary_logloss: 0.268968\tvalid_1's auc: 0.854671\tvalid_1's binary_logloss: 0.29371\n",
      "********** 1 **********\n",
      "Training until validation scores don't improve for 10 rounds\n",
      "[50]\ttraining's auc: 0.852216\ttraining's binary_logloss: 0.296393\tvalid_1's auc: 0.844034\tvalid_1's binary_logloss: 0.302625\n",
      "[100]\ttraining's auc: 0.864943\ttraining's binary_logloss: 0.285428\tvalid_1's auc: 0.851031\tvalid_1's binary_logloss: 0.296482\n",
      "[150]\ttraining's auc: 0.872839\ttraining's binary_logloss: 0.278991\tvalid_1's auc: 0.853431\tvalid_1's binary_logloss: 0.294518\n",
      "[200]\ttraining's auc: 0.878937\ttraining's binary_logloss: 0.273903\tvalid_1's auc: 0.854488\tvalid_1's binary_logloss: 0.293631\n",
      "[250]\ttraining's auc: 0.884611\ttraining's binary_logloss: 0.269382\tvalid_1's auc: 0.855166\tvalid_1's binary_logloss: 0.293124\n",
      "Early stopping, best iteration is:\n",
      "[270]\ttraining's auc: 0.886799\ttraining's binary_logloss: 0.267589\tvalid_1's auc: 0.855412\tvalid_1's binary_logloss: 0.292944\n",
      "********** 2 **********\n",
      "Training until validation scores don't improve for 10 rounds\n",
      "[50]\ttraining's auc: 0.852285\ttraining's binary_logloss: 0.296777\tvalid_1's auc: 0.8469\tvalid_1's binary_logloss: 0.300047\n",
      "[100]\ttraining's auc: 0.864903\ttraining's binary_logloss: 0.285863\tvalid_1's auc: 0.853332\tvalid_1's binary_logloss: 0.293994\n",
      "[150]\ttraining's auc: 0.872665\ttraining's binary_logloss: 0.279496\tvalid_1's auc: 0.855432\tvalid_1's binary_logloss: 0.292115\n",
      "[200]\ttraining's auc: 0.878983\ttraining's binary_logloss: 0.274354\tvalid_1's auc: 0.855888\tvalid_1's binary_logloss: 0.291439\n",
      "[250]\ttraining's auc: 0.884663\ttraining's binary_logloss: 0.26982\tvalid_1's auc: 0.856444\tvalid_1's binary_logloss: 0.291008\n",
      "Early stopping, best iteration is:\n",
      "[282]\ttraining's auc: 0.887899\ttraining's binary_logloss: 0.267145\tvalid_1's auc: 0.85664\tvalid_1's binary_logloss: 0.290833\n",
      "********** 3 **********\n",
      "Training until validation scores don't improve for 10 rounds\n",
      "[50]\ttraining's auc: 0.852285\ttraining's binary_logloss: 0.296606\tvalid_1's auc: 0.845339\tvalid_1's binary_logloss: 0.300987\n",
      "[100]\ttraining's auc: 0.865133\ttraining's binary_logloss: 0.285709\tvalid_1's auc: 0.852285\tvalid_1's binary_logloss: 0.294564\n",
      "[150]\ttraining's auc: 0.873065\ttraining's binary_logloss: 0.279191\tvalid_1's auc: 0.854209\tvalid_1's binary_logloss: 0.292621\n",
      "[200]\ttraining's auc: 0.87909\ttraining's binary_logloss: 0.274151\tvalid_1's auc: 0.855131\tvalid_1's binary_logloss: 0.291681\n",
      "[250]\ttraining's auc: 0.88475\ttraining's binary_logloss: 0.269629\tvalid_1's auc: 0.855583\tvalid_1's binary_logloss: 0.29129\n",
      "Early stopping, best iteration is:\n",
      "[287]\ttraining's auc: 0.888606\ttraining's binary_logloss: 0.266456\tvalid_1's auc: 0.8558\tvalid_1's binary_logloss: 0.291062\n",
      "********** 4 **********\n",
      "Training until validation scores don't improve for 10 rounds\n",
      "[50]\ttraining's auc: 0.853991\ttraining's binary_logloss: 0.296003\tvalid_1's auc: 0.837322\tvalid_1's binary_logloss: 0.304117\n",
      "[100]\ttraining's auc: 0.866979\ttraining's binary_logloss: 0.284649\tvalid_1's auc: 0.843396\tvalid_1's binary_logloss: 0.298654\n",
      "[150]\ttraining's auc: 0.874963\ttraining's binary_logloss: 0.27811\tvalid_1's auc: 0.845076\tvalid_1's binary_logloss: 0.297172\n",
      "[200]\ttraining's auc: 0.881052\ttraining's binary_logloss: 0.273036\tvalid_1's auc: 0.845636\tvalid_1's binary_logloss: 0.296544\n",
      "Early stopping, best iteration is:\n",
      "[239]\ttraining's auc: 0.88549\ttraining's binary_logloss: 0.269467\tvalid_1's auc: 0.845967\tvalid_1's binary_logloss: 0.296398\n",
      "*********************\n",
      "roc auc estimado:  0.85374944645391\n",
      "roc auc varianza:  0.0009522681394500013\n"
     ]
    }
   ],
   "source": [
    "[test_probs,fi] = cross_validation_lightgbm(train[keep_columns], y_train, test[keep_columns])"
   ]
  },
  {
   "cell_type": "code",
   "execution_count": 113,
   "id": "collective-explosion",
   "metadata": {
    "scrolled": true
   },
   "outputs": [
    {
     "name": "stdout",
     "output_type": "stream",
     "text": [
      "total de variables : 594\n",
      "variables con importancia acumulada al 99% : 579\n",
      "variables con zero importancia : 0\n"
     ]
    }
   ],
   "source": [
    "keep_columns, zero_importance = get_feature_selection(fi)"
   ]
  },
  {
   "cell_type": "code",
   "execution_count": 114,
   "id": "activated-wallace",
   "metadata": {},
   "outputs": [],
   "source": [
    "keep_columns_v25 = keep_columns"
   ]
  },
  {
   "cell_type": "code",
   "execution_count": 115,
   "id": "occupational-extension",
   "metadata": {
    "scrolled": true
   },
   "outputs": [
    {
     "name": "stdout",
     "output_type": "stream",
     "text": [
      "********** 0 **********\n",
      "Training until validation scores don't improve for 10 rounds\n",
      "[50]\ttraining's auc: 0.852535\ttraining's binary_logloss: 0.296277\tvalid_1's auc: 0.84366\tvalid_1's binary_logloss: 0.302988\n",
      "[100]\ttraining's auc: 0.865026\ttraining's binary_logloss: 0.285317\tvalid_1's auc: 0.851069\tvalid_1's binary_logloss: 0.296814\n",
      "[150]\ttraining's auc: 0.872734\ttraining's binary_logloss: 0.278921\tvalid_1's auc: 0.852978\tvalid_1's binary_logloss: 0.295059\n",
      "[200]\ttraining's auc: 0.879065\ttraining's binary_logloss: 0.273797\tvalid_1's auc: 0.853861\tvalid_1's binary_logloss: 0.294272\n",
      "[250]\ttraining's auc: 0.884581\ttraining's binary_logloss: 0.269286\tvalid_1's auc: 0.854469\tvalid_1's binary_logloss: 0.293821\n",
      "Early stopping, best iteration is:\n",
      "[261]\ttraining's auc: 0.885789\ttraining's binary_logloss: 0.268329\tvalid_1's auc: 0.854555\tvalid_1's binary_logloss: 0.293789\n",
      "********** 1 **********\n",
      "Training until validation scores don't improve for 10 rounds\n",
      "[50]\ttraining's auc: 0.851925\ttraining's binary_logloss: 0.296554\tvalid_1's auc: 0.843702\tvalid_1's binary_logloss: 0.302726\n",
      "[100]\ttraining's auc: 0.864605\ttraining's binary_logloss: 0.285635\tvalid_1's auc: 0.850896\tvalid_1's binary_logloss: 0.296541\n",
      "[150]\ttraining's auc: 0.872509\ttraining's binary_logloss: 0.27919\tvalid_1's auc: 0.853158\tvalid_1's binary_logloss: 0.294642\n",
      "[200]\ttraining's auc: 0.878811\ttraining's binary_logloss: 0.274123\tvalid_1's auc: 0.854131\tvalid_1's binary_logloss: 0.293911\n",
      "[250]\ttraining's auc: 0.884287\ttraining's binary_logloss: 0.26957\tvalid_1's auc: 0.854614\tvalid_1's binary_logloss: 0.293485\n",
      "Early stopping, best iteration is:\n",
      "[272]\ttraining's auc: 0.886598\ttraining's binary_logloss: 0.267709\tvalid_1's auc: 0.854832\tvalid_1's binary_logloss: 0.293308\n",
      "********** 2 **********\n",
      "Training until validation scores don't improve for 10 rounds\n",
      "[50]\ttraining's auc: 0.85172\ttraining's binary_logloss: 0.2971\tvalid_1's auc: 0.846615\tvalid_1's binary_logloss: 0.300134\n",
      "[100]\ttraining's auc: 0.864798\ttraining's binary_logloss: 0.285946\tvalid_1's auc: 0.853345\tvalid_1's binary_logloss: 0.293804\n",
      "[150]\ttraining's auc: 0.872786\ttraining's binary_logloss: 0.279429\tvalid_1's auc: 0.855335\tvalid_1's binary_logloss: 0.292103\n",
      "[200]\ttraining's auc: 0.878971\ttraining's binary_logloss: 0.274341\tvalid_1's auc: 0.856297\tvalid_1's binary_logloss: 0.291249\n",
      "Early stopping, best iteration is:\n",
      "[231]\ttraining's auc: 0.882531\ttraining's binary_logloss: 0.271483\tvalid_1's auc: 0.856505\tvalid_1's binary_logloss: 0.291043\n",
      "********** 3 **********\n",
      "Training until validation scores don't improve for 10 rounds\n",
      "[50]\ttraining's auc: 0.851948\ttraining's binary_logloss: 0.296864\tvalid_1's auc: 0.845004\tvalid_1's binary_logloss: 0.301161\n",
      "[100]\ttraining's auc: 0.864931\ttraining's binary_logloss: 0.285834\tvalid_1's auc: 0.852146\tvalid_1's binary_logloss: 0.294696\n",
      "[150]\ttraining's auc: 0.872863\ttraining's binary_logloss: 0.279405\tvalid_1's auc: 0.85398\tvalid_1's binary_logloss: 0.292929\n",
      "[200]\ttraining's auc: 0.879038\ttraining's binary_logloss: 0.274327\tvalid_1's auc: 0.854789\tvalid_1's binary_logloss: 0.29211\n",
      "Early stopping, best iteration is:\n",
      "[228]\ttraining's auc: 0.882157\ttraining's binary_logloss: 0.271764\tvalid_1's auc: 0.855005\tvalid_1's binary_logloss: 0.291873\n",
      "********** 4 **********\n",
      "Training until validation scores don't improve for 10 rounds\n",
      "[50]\ttraining's auc: 0.853968\ttraining's binary_logloss: 0.296152\tvalid_1's auc: 0.83736\tvalid_1's binary_logloss: 0.30397\n",
      "[100]\ttraining's auc: 0.866863\ttraining's binary_logloss: 0.284817\tvalid_1's auc: 0.84354\tvalid_1's binary_logloss: 0.298471\n",
      "[150]\ttraining's auc: 0.874772\ttraining's binary_logloss: 0.27823\tvalid_1's auc: 0.845244\tvalid_1's binary_logloss: 0.296952\n",
      "[200]\ttraining's auc: 0.881029\ttraining's binary_logloss: 0.273106\tvalid_1's auc: 0.846035\tvalid_1's binary_logloss: 0.296302\n",
      "Early stopping, best iteration is:\n",
      "[239]\ttraining's auc: 0.885487\ttraining's binary_logloss: 0.269499\tvalid_1's auc: 0.84639\tvalid_1's binary_logloss: 0.296085\n",
      "*********************\n",
      "roc auc estimado:  0.8534973893049037\n",
      "roc auc varianza:  0.0008762056104513943\n"
     ]
    }
   ],
   "source": [
    "[test_probs,fi] = cross_validation_lightgbm(train[keep_columns], y_train, test[keep_columns])"
   ]
  },
  {
   "cell_type": "code",
   "execution_count": 116,
   "id": "logical-swift",
   "metadata": {},
   "outputs": [
    {
     "name": "stdout",
     "output_type": "stream",
     "text": [
      "total de variables : 579\n",
      "variables con importancia acumulada al 99% : 564\n",
      "variables con zero importancia : 0\n"
     ]
    }
   ],
   "source": [
    "keep_columns, zero_importance = get_feature_selection(fi)"
   ]
  },
  {
   "cell_type": "code",
   "execution_count": 117,
   "id": "scheduled-listing",
   "metadata": {},
   "outputs": [],
   "source": [
    "keep_columns_v26 = keep_columns"
   ]
  },
  {
   "cell_type": "code",
   "execution_count": 118,
   "id": "developed-cardiff",
   "metadata": {
    "scrolled": true
   },
   "outputs": [
    {
     "name": "stdout",
     "output_type": "stream",
     "text": [
      "********** 0 **********\n",
      "Training until validation scores don't improve for 10 rounds\n",
      "[50]\ttraining's auc: 0.852376\ttraining's binary_logloss: 0.296294\tvalid_1's auc: 0.843722\tvalid_1's binary_logloss: 0.30285\n",
      "[100]\ttraining's auc: 0.864971\ttraining's binary_logloss: 0.285357\tvalid_1's auc: 0.851312\tvalid_1's binary_logloss: 0.296543\n",
      "[150]\ttraining's auc: 0.872737\ttraining's binary_logloss: 0.27897\tvalid_1's auc: 0.853446\tvalid_1's binary_logloss: 0.294749\n",
      "[200]\ttraining's auc: 0.879097\ttraining's binary_logloss: 0.273915\tvalid_1's auc: 0.854241\tvalid_1's binary_logloss: 0.294052\n",
      "Early stopping, best iteration is:\n",
      "[222]\ttraining's auc: 0.881537\ttraining's binary_logloss: 0.271868\tvalid_1's auc: 0.854611\tvalid_1's binary_logloss: 0.293761\n",
      "********** 1 **********\n",
      "Training until validation scores don't improve for 10 rounds\n",
      "[50]\ttraining's auc: 0.851819\ttraining's binary_logloss: 0.296593\tvalid_1's auc: 0.8435\tvalid_1's binary_logloss: 0.302975\n",
      "[100]\ttraining's auc: 0.864932\ttraining's binary_logloss: 0.285448\tvalid_1's auc: 0.850953\tvalid_1's binary_logloss: 0.296567\n",
      "[150]\ttraining's auc: 0.872694\ttraining's binary_logloss: 0.279017\tvalid_1's auc: 0.853136\tvalid_1's binary_logloss: 0.294698\n",
      "[200]\ttraining's auc: 0.878871\ttraining's binary_logloss: 0.27398\tvalid_1's auc: 0.854282\tvalid_1's binary_logloss: 0.293751\n",
      "[250]\ttraining's auc: 0.884486\ttraining's binary_logloss: 0.269486\tvalid_1's auc: 0.854726\tvalid_1's binary_logloss: 0.293447\n",
      "Early stopping, best iteration is:\n",
      "[246]\ttraining's auc: 0.884068\ttraining's binary_logloss: 0.269812\tvalid_1's auc: 0.854767\tvalid_1's binary_logloss: 0.293401\n",
      "********** 2 **********\n",
      "Training until validation scores don't improve for 10 rounds\n",
      "[50]\ttraining's auc: 0.852108\ttraining's binary_logloss: 0.296912\tvalid_1's auc: 0.846754\tvalid_1's binary_logloss: 0.300194\n",
      "[100]\ttraining's auc: 0.865155\ttraining's binary_logloss: 0.285629\tvalid_1's auc: 0.853683\tvalid_1's binary_logloss: 0.293731\n",
      "[150]\ttraining's auc: 0.872934\ttraining's binary_logloss: 0.279209\tvalid_1's auc: 0.855561\tvalid_1's binary_logloss: 0.291898\n",
      "[200]\ttraining's auc: 0.879129\ttraining's binary_logloss: 0.274143\tvalid_1's auc: 0.856291\tvalid_1's binary_logloss: 0.291182\n",
      "Early stopping, best iteration is:\n",
      "[233]\ttraining's auc: 0.883008\ttraining's binary_logloss: 0.271068\tvalid_1's auc: 0.856506\tvalid_1's binary_logloss: 0.290986\n",
      "********** 3 **********\n",
      "Training until validation scores don't improve for 10 rounds\n",
      "[50]\ttraining's auc: 0.852128\ttraining's binary_logloss: 0.296684\tvalid_1's auc: 0.844721\tvalid_1's binary_logloss: 0.301453\n",
      "[100]\ttraining's auc: 0.865047\ttraining's binary_logloss: 0.285647\tvalid_1's auc: 0.851621\tvalid_1's binary_logloss: 0.295038\n",
      "[150]\ttraining's auc: 0.87289\ttraining's binary_logloss: 0.27921\tvalid_1's auc: 0.853636\tvalid_1's binary_logloss: 0.293092\n",
      "[200]\ttraining's auc: 0.879231\ttraining's binary_logloss: 0.274144\tvalid_1's auc: 0.854457\tvalid_1's binary_logloss: 0.29231\n",
      "[250]\ttraining's auc: 0.88478\ttraining's binary_logloss: 0.269652\tvalid_1's auc: 0.8549\tvalid_1's binary_logloss: 0.291907\n",
      "Early stopping, best iteration is:\n",
      "[247]\ttraining's auc: 0.884486\ttraining's binary_logloss: 0.269898\tvalid_1's auc: 0.854949\tvalid_1's binary_logloss: 0.291892\n",
      "********** 4 **********\n",
      "Training until validation scores don't improve for 10 rounds\n",
      "[50]\ttraining's auc: 0.853974\ttraining's binary_logloss: 0.29609\tvalid_1's auc: 0.837661\tvalid_1's binary_logloss: 0.304057\n",
      "[100]\ttraining's auc: 0.866945\ttraining's binary_logloss: 0.284723\tvalid_1's auc: 0.843589\tvalid_1's binary_logloss: 0.298599\n",
      "[150]\ttraining's auc: 0.8748\ttraining's binary_logloss: 0.278261\tvalid_1's auc: 0.845289\tvalid_1's binary_logloss: 0.297099\n",
      "[200]\ttraining's auc: 0.881081\ttraining's binary_logloss: 0.27311\tvalid_1's auc: 0.845955\tvalid_1's binary_logloss: 0.296545\n",
      "[250]\ttraining's auc: 0.886528\ttraining's binary_logloss: 0.268535\tvalid_1's auc: 0.846354\tvalid_1's binary_logloss: 0.296134\n",
      "Early stopping, best iteration is:\n",
      "[245]\ttraining's auc: 0.886033\ttraining's binary_logloss: 0.268965\tvalid_1's auc: 0.846388\tvalid_1's binary_logloss: 0.296146\n",
      "*********************\n",
      "roc auc estimado:  0.8534876428864213\n",
      "roc auc varianza:  0.0008754061861383158\n"
     ]
    }
   ],
   "source": [
    "[test_probs,fi] = cross_validation_lightgbm(train[keep_columns], y_train, test[keep_columns])"
   ]
  },
  {
   "cell_type": "markdown",
   "id": "authorized-pitch",
   "metadata": {},
   "source": [
    "### elegimos la mejor combinacion de variables que es 680"
   ]
  },
  {
   "cell_type": "code",
   "execution_count": 119,
   "id": "hazardous-jordan",
   "metadata": {},
   "outputs": [
    {
     "data": {
      "text/plain": [
       "680"
      ]
     },
     "execution_count": 119,
     "metadata": {},
     "output_type": "execute_result"
    }
   ],
   "source": [
    "len(keep_columns_v19)"
   ]
  },
  {
   "cell_type": "code",
   "execution_count": 120,
   "id": "major-delivery",
   "metadata": {
    "scrolled": true
   },
   "outputs": [
    {
     "name": "stdout",
     "output_type": "stream",
     "text": [
      "********** 0 **********\n",
      "Training until validation scores don't improve for 10 rounds\n",
      "[50]\ttraining's auc: 0.852396\ttraining's binary_logloss: 0.296242\tvalid_1's auc: 0.843327\tvalid_1's binary_logloss: 0.302942\n",
      "[100]\ttraining's auc: 0.86488\ttraining's binary_logloss: 0.285336\tvalid_1's auc: 0.850616\tvalid_1's binary_logloss: 0.296876\n",
      "[150]\ttraining's auc: 0.872806\ttraining's binary_logloss: 0.278903\tvalid_1's auc: 0.853093\tvalid_1's binary_logloss: 0.294848\n",
      "[200]\ttraining's auc: 0.879241\ttraining's binary_logloss: 0.273759\tvalid_1's auc: 0.853946\tvalid_1's binary_logloss: 0.294102\n",
      "[250]\ttraining's auc: 0.8848\ttraining's binary_logloss: 0.26919\tvalid_1's auc: 0.854604\tvalid_1's binary_logloss: 0.293589\n",
      "[300]\ttraining's auc: 0.889931\ttraining's binary_logloss: 0.264967\tvalid_1's auc: 0.854985\tvalid_1's binary_logloss: 0.293313\n",
      "Early stopping, best iteration is:\n",
      "[293]\ttraining's auc: 0.889199\ttraining's binary_logloss: 0.265553\tvalid_1's auc: 0.855023\tvalid_1's binary_logloss: 0.293297\n",
      "********** 1 **********\n",
      "Training until validation scores don't improve for 10 rounds\n",
      "[50]\ttraining's auc: 0.852509\ttraining's binary_logloss: 0.296159\tvalid_1's auc: 0.844339\tvalid_1's binary_logloss: 0.302406\n",
      "[100]\ttraining's auc: 0.865167\ttraining's binary_logloss: 0.28516\tvalid_1's auc: 0.851203\tvalid_1's binary_logloss: 0.296356\n",
      "[150]\ttraining's auc: 0.873043\ttraining's binary_logloss: 0.278726\tvalid_1's auc: 0.853558\tvalid_1's binary_logloss: 0.294383\n",
      "[200]\ttraining's auc: 0.879416\ttraining's binary_logloss: 0.273579\tvalid_1's auc: 0.854522\tvalid_1's binary_logloss: 0.293548\n",
      "Early stopping, best iteration is:\n",
      "[237]\ttraining's auc: 0.883678\ttraining's binary_logloss: 0.270109\tvalid_1's auc: 0.855119\tvalid_1's binary_logloss: 0.293118\n",
      "********** 2 **********\n",
      "Training until validation scores don't improve for 10 rounds\n",
      "[50]\ttraining's auc: 0.852275\ttraining's binary_logloss: 0.296864\tvalid_1's auc: 0.846808\tvalid_1's binary_logloss: 0.300197\n",
      "[100]\ttraining's auc: 0.864952\ttraining's binary_logloss: 0.285776\tvalid_1's auc: 0.853098\tvalid_1's binary_logloss: 0.294155\n",
      "[150]\ttraining's auc: 0.872761\ttraining's binary_logloss: 0.279352\tvalid_1's auc: 0.855138\tvalid_1's binary_logloss: 0.292341\n",
      "[200]\ttraining's auc: 0.879086\ttraining's binary_logloss: 0.274255\tvalid_1's auc: 0.855879\tvalid_1's binary_logloss: 0.291548\n",
      "[250]\ttraining's auc: 0.88471\ttraining's binary_logloss: 0.26966\tvalid_1's auc: 0.856281\tvalid_1's binary_logloss: 0.291164\n",
      "Early stopping, best iteration is:\n",
      "[251]\ttraining's auc: 0.884811\ttraining's binary_logloss: 0.269574\tvalid_1's auc: 0.856303\tvalid_1's binary_logloss: 0.291143\n",
      "********** 3 **********\n",
      "Training until validation scores don't improve for 10 rounds\n",
      "[50]\ttraining's auc: 0.852213\ttraining's binary_logloss: 0.296706\tvalid_1's auc: 0.845469\tvalid_1's binary_logloss: 0.30104\n",
      "[100]\ttraining's auc: 0.864952\ttraining's binary_logloss: 0.285676\tvalid_1's auc: 0.852091\tvalid_1's binary_logloss: 0.294639\n",
      "[150]\ttraining's auc: 0.87307\ttraining's binary_logloss: 0.279159\tvalid_1's auc: 0.854215\tvalid_1's binary_logloss: 0.292789\n",
      "[200]\ttraining's auc: 0.879338\ttraining's binary_logloss: 0.274119\tvalid_1's auc: 0.855387\tvalid_1's binary_logloss: 0.291814\n",
      "[250]\ttraining's auc: 0.884844\ttraining's binary_logloss: 0.269594\tvalid_1's auc: 0.855922\tvalid_1's binary_logloss: 0.291374\n",
      "[300]\ttraining's auc: 0.889884\ttraining's binary_logloss: 0.265378\tvalid_1's auc: 0.856317\tvalid_1's binary_logloss: 0.291012\n",
      "Early stopping, best iteration is:\n",
      "[302]\ttraining's auc: 0.890067\ttraining's binary_logloss: 0.265224\tvalid_1's auc: 0.856352\tvalid_1's binary_logloss: 0.290998\n",
      "********** 4 **********\n",
      "Training until validation scores don't improve for 10 rounds\n",
      "[50]\ttraining's auc: 0.854275\ttraining's binary_logloss: 0.295964\tvalid_1's auc: 0.837257\tvalid_1's binary_logloss: 0.304005\n",
      "[100]\ttraining's auc: 0.866972\ttraining's binary_logloss: 0.284722\tvalid_1's auc: 0.843435\tvalid_1's binary_logloss: 0.298562\n",
      "[150]\ttraining's auc: 0.875184\ttraining's binary_logloss: 0.278031\tvalid_1's auc: 0.845579\tvalid_1's binary_logloss: 0.296851\n",
      "[200]\ttraining's auc: 0.881432\ttraining's binary_logloss: 0.272785\tvalid_1's auc: 0.846269\tvalid_1's binary_logloss: 0.296178\n",
      "Early stopping, best iteration is:\n",
      "[209]\ttraining's auc: 0.882439\ttraining's binary_logloss: 0.271946\tvalid_1's auc: 0.846299\tvalid_1's binary_logloss: 0.296139\n",
      "*********************\n",
      "roc auc estimado:  0.8538613987349759\n",
      "roc auc varianza:  0.0009267652208404322\n"
     ]
    }
   ],
   "source": [
    "[test_probs,fi] = cross_validation_lightgbm(train[keep_columns_v19], y_train, test[keep_columns_v19])"
   ]
  },
  {
   "cell_type": "code",
   "execution_count": 121,
   "id": "economic-sperm",
   "metadata": {},
   "outputs": [],
   "source": [
    "test_probs.name='target'\n",
    "test_probs.to_csv('../results/lightgbm_with_680features_score_0.85386.csv') ### score de 0.85558 en la tabla publica"
   ]
  },
  {
   "cell_type": "code",
   "execution_count": 128,
   "id": "helpful-repository",
   "metadata": {},
   "outputs": [
    {
     "name": "stderr",
     "output_type": "stream",
     "text": [
      "<ipython-input-128-f1f198724c3d>:6: VisibleDeprecationWarning: Creating an ndarray from ragged nested sequences (which is a list-or-tuple of lists-or-tuples-or ndarrays with different lengths or shapes) is deprecated. If you meant to do this, you must specify 'dtype=object' when creating the ndarray\n",
      "  np.save('keep_columns_list.npy', np.array(keep_columns_list))\n"
     ]
    }
   ],
   "source": [
    "keep_columns_list = [keep_columns_v2, keep_columns_v4, keep_columns_v5, keep_columns_v6, keep_columns_v7,\n",
    "keep_columns_v8, keep_columns_v9, keep_columns_v10, keep_columns_v11, keep_columns_v12, keep_columns_v13,\n",
    "keep_columns_v14, keep_columns_v15, keep_columns_v16, keep_columns_v17, keep_columns_v18, keep_columns_v19,\n",
    "keep_columns_v20, keep_columns_v21, keep_columns_v22, keep_columns_v23, keep_columns_v24, keep_columns_v25,\n",
    "keep_columns_v26]\n",
    "np.save('keep_columns_list.npy', np.array(keep_columns_list))"
   ]
  },
  {
   "cell_type": "code",
   "execution_count": 132,
   "id": "internal-assurance",
   "metadata": {},
   "outputs": [],
   "source": [
    "train = train[keep_columns_v19]\n",
    "test = test[keep_columns_v19]"
   ]
  },
  {
   "cell_type": "code",
   "execution_count": 134,
   "id": "viral-sodium",
   "metadata": {},
   "outputs": [
    {
     "data": {
      "text/plain": [
       "((358487, 680), (396666, 680))"
      ]
     },
     "execution_count": 134,
     "metadata": {},
     "output_type": "execute_result"
    }
   ],
   "source": [
    "train.shape, test.shape"
   ]
  },
  {
   "cell_type": "code",
   "execution_count": 135,
   "id": "protecting-section",
   "metadata": {},
   "outputs": [],
   "source": [
    "# train.to_pickle('../data/train_features680_score_0.85558.pkl')\n",
    "# test.to_pickle('../data/test_features680_score_0.85558.pkl')"
   ]
  },
  {
   "cell_type": "code",
   "execution_count": 133,
   "id": "prerequisite-yemen",
   "metadata": {
    "scrolled": true
   },
   "outputs": [
    {
     "name": "stdout",
     "output_type": "stream",
     "text": [
      "feature sin missing values 68 representando el 0.1 de features totales\n",
      "features con porc de missing values de 0 a 0.1 : 171 representando el 0.251 de features totales\n",
      "features con porc de missing values de 0.1 a 0.2 : 8 representando el 0.012 de features totales\n",
      "features con porc de missing values de 0.2 a 0.3 : 1 representando el 0.001 de features totales\n",
      "features con porc de missing values de 0.3 a 0.4 : 23 representando el 0.034 de features totales\n",
      "features con porc de missing values de 0.4 a 0.5 : 103 representando el 0.151 de features totales\n",
      "features con porc de missing values de 0.5 a 0.6 : 58 representando el 0.085 de features totales\n",
      "features con porc de missing values de 0.6 a 0.7 : 19 representando el 0.028 de features totales\n",
      "features con porc de missing values de 0.7 a 0.8 : 44 representando el 0.065 de features totales\n",
      "features con porc de missing values de 0.8 a 0.9 : 96 representando el 0.141 de features totales\n",
      "features con porc de missing values de 0.9 a 1.1 : 157 representando el 0.231 de features totales\n"
     ]
    }
   ],
   "source": [
    "aux = (train.isna().sum()/len(train)).sort_values()\n",
    "features_without_na = aux[aux==0]\n",
    "print(f'feature sin missing values {len(features_without_na)} representando el {round(len(features_without_na)/len(train.columns), 3)} de features totales')\n",
    "list_prec_na = [(0,0.1), (0.1,0.2), (0.2,0.3), (0.3,0.4), (0.4,0.5), (0.5,0.6), (0.6,0.7), (0.7,0.8), (0.8,0.9),(0.9,1.1)]\n",
    "for i in list_prec_na:\n",
    "    features_with_na = aux[(aux>=i[0]) & (aux<i[1])]\n",
    "    print(f'features con porc de missing values de {i[0]} a {i[1]} : {len(features_with_na)} representando el {round(len(features_with_na)/len(train.columns), 3)} de features totales')"
   ]
  },
  {
   "cell_type": "markdown",
   "id": "combined-franklin",
   "metadata": {},
   "source": [
    "### Continuando con la reduccion de variables"
   ]
  },
  {
   "cell_type": "code",
   "execution_count": 11,
   "id": "intelligent-juice",
   "metadata": {},
   "outputs": [],
   "source": [
    "train = pd.read_pickle('../data/train_features680_score_0.85558.pkl')\n",
    "test = pd.read_pickle('../data/test_features680_score_0.85558.pkl')"
   ]
  },
  {
   "cell_type": "code",
   "execution_count": 12,
   "id": "fatty-infrastructure",
   "metadata": {},
   "outputs": [],
   "source": [
    "import numpy as np\n",
    "keep_columns_list = list(np.load('keep_columns_list.npy', allow_pickle=True))"
   ]
  },
  {
   "cell_type": "code",
   "execution_count": 6,
   "id": "historical-laundry",
   "metadata": {},
   "outputs": [
    {
     "data": {
      "text/plain": [
       "564"
      ]
     },
     "execution_count": 6,
     "metadata": {},
     "output_type": "execute_result"
    }
   ],
   "source": [
    "len(keep_columns_list[-1])"
   ]
  },
  {
   "cell_type": "code",
   "execution_count": 13,
   "id": "italian-intranet",
   "metadata": {},
   "outputs": [],
   "source": [
    "keep_columns = keep_columns_list[-1]"
   ]
  },
  {
   "cell_type": "code",
   "execution_count": 14,
   "id": "approximate-pathology",
   "metadata": {
    "scrolled": true
   },
   "outputs": [
    {
     "name": "stdout",
     "output_type": "stream",
     "text": [
      "********** 0 **********\n",
      "Training until validation scores don't improve for 10 rounds\n",
      "[50]\ttraining's auc: 0.852376\ttraining's binary_logloss: 0.296294\tvalid_1's auc: 0.843722\tvalid_1's binary_logloss: 0.30285\n",
      "[100]\ttraining's auc: 0.864971\ttraining's binary_logloss: 0.285357\tvalid_1's auc: 0.851312\tvalid_1's binary_logloss: 0.296543\n",
      "[150]\ttraining's auc: 0.872737\ttraining's binary_logloss: 0.27897\tvalid_1's auc: 0.853446\tvalid_1's binary_logloss: 0.294749\n",
      "[200]\ttraining's auc: 0.879097\ttraining's binary_logloss: 0.273915\tvalid_1's auc: 0.854241\tvalid_1's binary_logloss: 0.294052\n",
      "Early stopping, best iteration is:\n",
      "[222]\ttraining's auc: 0.881537\ttraining's binary_logloss: 0.271868\tvalid_1's auc: 0.854611\tvalid_1's binary_logloss: 0.293761\n",
      "********** 1 **********\n",
      "Training until validation scores don't improve for 10 rounds\n",
      "[50]\ttraining's auc: 0.851819\ttraining's binary_logloss: 0.296593\tvalid_1's auc: 0.8435\tvalid_1's binary_logloss: 0.302975\n",
      "[100]\ttraining's auc: 0.864932\ttraining's binary_logloss: 0.285448\tvalid_1's auc: 0.850953\tvalid_1's binary_logloss: 0.296567\n",
      "[150]\ttraining's auc: 0.872694\ttraining's binary_logloss: 0.279017\tvalid_1's auc: 0.853136\tvalid_1's binary_logloss: 0.294698\n",
      "[200]\ttraining's auc: 0.878871\ttraining's binary_logloss: 0.27398\tvalid_1's auc: 0.854282\tvalid_1's binary_logloss: 0.293751\n",
      "[250]\ttraining's auc: 0.884486\ttraining's binary_logloss: 0.269486\tvalid_1's auc: 0.854726\tvalid_1's binary_logloss: 0.293447\n",
      "Early stopping, best iteration is:\n",
      "[246]\ttraining's auc: 0.884068\ttraining's binary_logloss: 0.269812\tvalid_1's auc: 0.854767\tvalid_1's binary_logloss: 0.293401\n",
      "********** 2 **********\n",
      "Training until validation scores don't improve for 10 rounds\n",
      "[50]\ttraining's auc: 0.852108\ttraining's binary_logloss: 0.296912\tvalid_1's auc: 0.846754\tvalid_1's binary_logloss: 0.300194\n",
      "[100]\ttraining's auc: 0.865155\ttraining's binary_logloss: 0.285629\tvalid_1's auc: 0.853683\tvalid_1's binary_logloss: 0.293731\n",
      "[150]\ttraining's auc: 0.872934\ttraining's binary_logloss: 0.279209\tvalid_1's auc: 0.855561\tvalid_1's binary_logloss: 0.291898\n",
      "[200]\ttraining's auc: 0.879129\ttraining's binary_logloss: 0.274143\tvalid_1's auc: 0.856291\tvalid_1's binary_logloss: 0.291182\n",
      "Early stopping, best iteration is:\n",
      "[233]\ttraining's auc: 0.883008\ttraining's binary_logloss: 0.271068\tvalid_1's auc: 0.856506\tvalid_1's binary_logloss: 0.290986\n",
      "********** 3 **********\n",
      "Training until validation scores don't improve for 10 rounds\n",
      "[50]\ttraining's auc: 0.852128\ttraining's binary_logloss: 0.296684\tvalid_1's auc: 0.844721\tvalid_1's binary_logloss: 0.301453\n",
      "[100]\ttraining's auc: 0.865047\ttraining's binary_logloss: 0.285647\tvalid_1's auc: 0.851621\tvalid_1's binary_logloss: 0.295038\n",
      "[150]\ttraining's auc: 0.87289\ttraining's binary_logloss: 0.27921\tvalid_1's auc: 0.853636\tvalid_1's binary_logloss: 0.293092\n",
      "[200]\ttraining's auc: 0.879231\ttraining's binary_logloss: 0.274144\tvalid_1's auc: 0.854457\tvalid_1's binary_logloss: 0.29231\n",
      "[250]\ttraining's auc: 0.88478\ttraining's binary_logloss: 0.269652\tvalid_1's auc: 0.8549\tvalid_1's binary_logloss: 0.291907\n",
      "Early stopping, best iteration is:\n",
      "[247]\ttraining's auc: 0.884486\ttraining's binary_logloss: 0.269898\tvalid_1's auc: 0.854949\tvalid_1's binary_logloss: 0.291892\n",
      "********** 4 **********\n",
      "Training until validation scores don't improve for 10 rounds\n",
      "[50]\ttraining's auc: 0.853974\ttraining's binary_logloss: 0.29609\tvalid_1's auc: 0.837661\tvalid_1's binary_logloss: 0.304057\n",
      "[100]\ttraining's auc: 0.866945\ttraining's binary_logloss: 0.284723\tvalid_1's auc: 0.843589\tvalid_1's binary_logloss: 0.298599\n",
      "[150]\ttraining's auc: 0.8748\ttraining's binary_logloss: 0.278261\tvalid_1's auc: 0.845289\tvalid_1's binary_logloss: 0.297099\n",
      "[200]\ttraining's auc: 0.881081\ttraining's binary_logloss: 0.27311\tvalid_1's auc: 0.845955\tvalid_1's binary_logloss: 0.296545\n",
      "[250]\ttraining's auc: 0.886528\ttraining's binary_logloss: 0.268535\tvalid_1's auc: 0.846354\tvalid_1's binary_logloss: 0.296134\n",
      "Early stopping, best iteration is:\n",
      "[245]\ttraining's auc: 0.886033\ttraining's binary_logloss: 0.268965\tvalid_1's auc: 0.846388\tvalid_1's binary_logloss: 0.296146\n",
      "*********************\n",
      "roc auc estimado:  0.8534876428864213\n",
      "roc auc varianza:  0.0008754061861383158\n"
     ]
    }
   ],
   "source": [
    "[test_probs,fi] = cross_validation_lightgbm(train[keep_columns], y_train, test[keep_columns])"
   ]
  },
  {
   "cell_type": "code",
   "execution_count": 15,
   "id": "thermal-instruction",
   "metadata": {},
   "outputs": [
    {
     "name": "stdout",
     "output_type": "stream",
     "text": [
      "total de variables : 564\n",
      "variables con importancia acumulada al 99% : 551\n",
      "variables con zero importancia : 0\n"
     ]
    }
   ],
   "source": [
    "keep_columns, zero_importance = get_feature_selection(fi)"
   ]
  },
  {
   "cell_type": "code",
   "execution_count": 16,
   "id": "macro-front",
   "metadata": {},
   "outputs": [],
   "source": [
    "keep_columns_v27 = keep_columns"
   ]
  },
  {
   "cell_type": "code",
   "execution_count": 17,
   "id": "burning-birth",
   "metadata": {
    "scrolled": true
   },
   "outputs": [
    {
     "name": "stdout",
     "output_type": "stream",
     "text": [
      "********** 0 **********\n",
      "Training until validation scores don't improve for 10 rounds\n",
      "[50]\ttraining's auc: 0.852351\ttraining's binary_logloss: 0.296361\tvalid_1's auc: 0.843354\tvalid_1's binary_logloss: 0.303014\n",
      "[100]\ttraining's auc: 0.864996\ttraining's binary_logloss: 0.285391\tvalid_1's auc: 0.850832\tvalid_1's binary_logloss: 0.296821\n",
      "[150]\ttraining's auc: 0.872745\ttraining's binary_logloss: 0.279039\tvalid_1's auc: 0.852868\tvalid_1's binary_logloss: 0.295108\n",
      "Early stopping, best iteration is:\n",
      "[188]\ttraining's auc: 0.877445\ttraining's binary_logloss: 0.275177\tvalid_1's auc: 0.853664\tvalid_1's binary_logloss: 0.29445\n",
      "********** 1 **********\n",
      "Training until validation scores don't improve for 10 rounds\n",
      "[50]\ttraining's auc: 0.85247\ttraining's binary_logloss: 0.296238\tvalid_1's auc: 0.844365\tvalid_1's binary_logloss: 0.302404\n",
      "[100]\ttraining's auc: 0.865094\ttraining's binary_logloss: 0.285401\tvalid_1's auc: 0.851237\tvalid_1's binary_logloss: 0.296397\n",
      "[150]\ttraining's auc: 0.872691\ttraining's binary_logloss: 0.279008\tvalid_1's auc: 0.853358\tvalid_1's binary_logloss: 0.294507\n",
      "[200]\ttraining's auc: 0.878905\ttraining's binary_logloss: 0.273957\tvalid_1's auc: 0.854449\tvalid_1's binary_logloss: 0.293656\n",
      "[250]\ttraining's auc: 0.884475\ttraining's binary_logloss: 0.269436\tvalid_1's auc: 0.854913\tvalid_1's binary_logloss: 0.293262\n",
      "[300]\ttraining's auc: 0.889468\ttraining's binary_logloss: 0.265368\tvalid_1's auc: 0.855164\tvalid_1's binary_logloss: 0.292983\n",
      "Early stopping, best iteration is:\n",
      "[291]\ttraining's auc: 0.888637\ttraining's binary_logloss: 0.266092\tvalid_1's auc: 0.855241\tvalid_1's binary_logloss: 0.292973\n",
      "********** 2 **********\n",
      "Training until validation scores don't improve for 10 rounds\n",
      "[50]\ttraining's auc: 0.851955\ttraining's binary_logloss: 0.297118\tvalid_1's auc: 0.846487\tvalid_1's binary_logloss: 0.300316\n",
      "[100]\ttraining's auc: 0.864795\ttraining's binary_logloss: 0.285951\tvalid_1's auc: 0.853124\tvalid_1's binary_logloss: 0.294016\n",
      "[150]\ttraining's auc: 0.872716\ttraining's binary_logloss: 0.27951\tvalid_1's auc: 0.855275\tvalid_1's binary_logloss: 0.292147\n",
      "[200]\ttraining's auc: 0.878907\ttraining's binary_logloss: 0.274488\tvalid_1's auc: 0.855903\tvalid_1's binary_logloss: 0.291431\n",
      "[250]\ttraining's auc: 0.884428\ttraining's binary_logloss: 0.270014\tvalid_1's auc: 0.856247\tvalid_1's binary_logloss: 0.291058\n",
      "Early stopping, best iteration is:\n",
      "[266]\ttraining's auc: 0.886065\ttraining's binary_logloss: 0.268685\tvalid_1's auc: 0.856367\tvalid_1's binary_logloss: 0.290983\n",
      "********** 3 **********\n",
      "Training until validation scores don't improve for 10 rounds\n",
      "[50]\ttraining's auc: 0.851902\ttraining's binary_logloss: 0.29688\tvalid_1's auc: 0.844641\tvalid_1's binary_logloss: 0.30147\n",
      "[100]\ttraining's auc: 0.864864\ttraining's binary_logloss: 0.285926\tvalid_1's auc: 0.851813\tvalid_1's binary_logloss: 0.295067\n",
      "[150]\ttraining's auc: 0.872787\ttraining's binary_logloss: 0.279415\tvalid_1's auc: 0.853787\tvalid_1's binary_logloss: 0.293211\n",
      "[200]\ttraining's auc: 0.87918\ttraining's binary_logloss: 0.274274\tvalid_1's auc: 0.854716\tvalid_1's binary_logloss: 0.292365\n",
      "[250]\ttraining's auc: 0.88472\ttraining's binary_logloss: 0.269766\tvalid_1's auc: 0.855118\tvalid_1's binary_logloss: 0.29193\n",
      "Early stopping, best iteration is:\n",
      "[282]\ttraining's auc: 0.887921\ttraining's binary_logloss: 0.267058\tvalid_1's auc: 0.855299\tvalid_1's binary_logloss: 0.291741\n",
      "********** 4 **********\n",
      "Training until validation scores don't improve for 10 rounds\n",
      "[50]\ttraining's auc: 0.854438\ttraining's binary_logloss: 0.295868\tvalid_1's auc: 0.837799\tvalid_1's binary_logloss: 0.303902\n",
      "[100]\ttraining's auc: 0.867201\ttraining's binary_logloss: 0.284561\tvalid_1's auc: 0.843736\tvalid_1's binary_logloss: 0.298487\n",
      "[150]\ttraining's auc: 0.875051\ttraining's binary_logloss: 0.278062\tvalid_1's auc: 0.845568\tvalid_1's binary_logloss: 0.296924\n",
      "[200]\ttraining's auc: 0.88121\ttraining's binary_logloss: 0.272974\tvalid_1's auc: 0.846416\tvalid_1's binary_logloss: 0.296242\n",
      "Early stopping, best iteration is:\n",
      "[215]\ttraining's auc: 0.882888\ttraining's binary_logloss: 0.271587\tvalid_1's auc: 0.846658\tvalid_1's binary_logloss: 0.296096\n",
      "*********************\n",
      "roc auc estimado:  0.8534867591830202\n",
      "roc auc varianza:  0.0008579002579047968\n"
     ]
    }
   ],
   "source": [
    "[test_probs,fi] = cross_validation_lightgbm(train[keep_columns], y_train, test[keep_columns])"
   ]
  },
  {
   "cell_type": "code",
   "execution_count": 18,
   "id": "crazy-folks",
   "metadata": {
    "scrolled": true
   },
   "outputs": [
    {
     "name": "stdout",
     "output_type": "stream",
     "text": [
      "total de variables : 551\n",
      "variables con importancia acumulada al 99% : 538\n",
      "variables con zero importancia : 0\n"
     ]
    }
   ],
   "source": [
    "keep_columns, zero_importance = get_feature_selection(fi)"
   ]
  },
  {
   "cell_type": "code",
   "execution_count": 19,
   "id": "finite-diameter",
   "metadata": {},
   "outputs": [],
   "source": [
    "keep_columns_v28 = keep_columns"
   ]
  },
  {
   "cell_type": "code",
   "execution_count": 20,
   "id": "elegant-michigan",
   "metadata": {
    "scrolled": true
   },
   "outputs": [
    {
     "name": "stdout",
     "output_type": "stream",
     "text": [
      "********** 0 **********\n",
      "Training until validation scores don't improve for 10 rounds\n",
      "[50]\ttraining's auc: 0.852243\ttraining's binary_logloss: 0.296377\tvalid_1's auc: 0.843327\tvalid_1's binary_logloss: 0.302992\n",
      "[100]\ttraining's auc: 0.8649\ttraining's binary_logloss: 0.285367\tvalid_1's auc: 0.850938\tvalid_1's binary_logloss: 0.296734\n",
      "[150]\ttraining's auc: 0.872737\ttraining's binary_logloss: 0.279009\tvalid_1's auc: 0.853442\tvalid_1's binary_logloss: 0.294783\n",
      "[200]\ttraining's auc: 0.878916\ttraining's binary_logloss: 0.273986\tvalid_1's auc: 0.854195\tvalid_1's binary_logloss: 0.294148\n",
      "[250]\ttraining's auc: 0.884613\ttraining's binary_logloss: 0.269425\tvalid_1's auc: 0.854624\tvalid_1's binary_logloss: 0.293848\n",
      "Early stopping, best iteration is:\n",
      "[276]\ttraining's auc: 0.887253\ttraining's binary_logloss: 0.267213\tvalid_1's auc: 0.854815\tvalid_1's binary_logloss: 0.293658\n",
      "********** 1 **********\n",
      "Training until validation scores don't improve for 10 rounds\n",
      "[50]\ttraining's auc: 0.852403\ttraining's binary_logloss: 0.296322\tvalid_1's auc: 0.843507\tvalid_1's binary_logloss: 0.302987\n",
      "[100]\ttraining's auc: 0.865087\ttraining's binary_logloss: 0.28538\tvalid_1's auc: 0.850654\tvalid_1's binary_logloss: 0.29674\n",
      "[150]\ttraining's auc: 0.872907\ttraining's binary_logloss: 0.27894\tvalid_1's auc: 0.852846\tvalid_1's binary_logloss: 0.294864\n",
      "[200]\ttraining's auc: 0.879206\ttraining's binary_logloss: 0.273882\tvalid_1's auc: 0.853645\tvalid_1's binary_logloss: 0.294166\n",
      "[250]\ttraining's auc: 0.884765\ttraining's binary_logloss: 0.26932\tvalid_1's auc: 0.854095\tvalid_1's binary_logloss: 0.293818\n",
      "[300]\ttraining's auc: 0.889699\ttraining's binary_logloss: 0.265243\tvalid_1's auc: 0.854659\tvalid_1's binary_logloss: 0.293414\n",
      "Early stopping, best iteration is:\n",
      "[302]\ttraining's auc: 0.889863\ttraining's binary_logloss: 0.265091\tvalid_1's auc: 0.854677\tvalid_1's binary_logloss: 0.293404\n",
      "********** 2 **********\n",
      "Training until validation scores don't improve for 10 rounds\n",
      "[50]\ttraining's auc: 0.852123\ttraining's binary_logloss: 0.296906\tvalid_1's auc: 0.847175\tvalid_1's binary_logloss: 0.299994\n",
      "[100]\ttraining's auc: 0.864882\ttraining's binary_logloss: 0.285862\tvalid_1's auc: 0.853469\tvalid_1's binary_logloss: 0.293863\n",
      "[150]\ttraining's auc: 0.872841\ttraining's binary_logloss: 0.279444\tvalid_1's auc: 0.855257\tvalid_1's binary_logloss: 0.292249\n",
      "[200]\ttraining's auc: 0.879095\ttraining's binary_logloss: 0.274286\tvalid_1's auc: 0.855944\tvalid_1's binary_logloss: 0.291529\n",
      "[250]\ttraining's auc: 0.884642\ttraining's binary_logloss: 0.269775\tvalid_1's auc: 0.85637\tvalid_1's binary_logloss: 0.291226\n",
      "Early stopping, best iteration is:\n",
      "[244]\ttraining's auc: 0.884013\ttraining's binary_logloss: 0.270292\tvalid_1's auc: 0.856412\tvalid_1's binary_logloss: 0.291187\n",
      "********** 3 **********\n",
      "Training until validation scores don't improve for 10 rounds\n",
      "[50]\ttraining's auc: 0.851916\ttraining's binary_logloss: 0.296994\tvalid_1's auc: 0.845085\tvalid_1's binary_logloss: 0.301478\n",
      "[100]\ttraining's auc: 0.86483\ttraining's binary_logloss: 0.285926\tvalid_1's auc: 0.851936\tvalid_1's binary_logloss: 0.295002\n",
      "[150]\ttraining's auc: 0.872755\ttraining's binary_logloss: 0.279456\tvalid_1's auc: 0.854045\tvalid_1's binary_logloss: 0.292978\n",
      "[200]\ttraining's auc: 0.87905\ttraining's binary_logloss: 0.274368\tvalid_1's auc: 0.85474\tvalid_1's binary_logloss: 0.292262\n",
      "[250]\ttraining's auc: 0.88448\ttraining's binary_logloss: 0.269872\tvalid_1's auc: 0.855164\tvalid_1's binary_logloss: 0.291794\n",
      "Early stopping, best iteration is:\n",
      "[265]\ttraining's auc: 0.886174\ttraining's binary_logloss: 0.268559\tvalid_1's auc: 0.855281\tvalid_1's binary_logloss: 0.291702\n",
      "********** 4 **********\n",
      "Training until validation scores don't improve for 10 rounds\n",
      "[50]\ttraining's auc: 0.854159\ttraining's binary_logloss: 0.296021\tvalid_1's auc: 0.837309\tvalid_1's binary_logloss: 0.304213\n",
      "[100]\ttraining's auc: 0.866999\ttraining's binary_logloss: 0.284735\tvalid_1's auc: 0.843079\tvalid_1's binary_logloss: 0.298828\n",
      "[150]\ttraining's auc: 0.874927\ttraining's binary_logloss: 0.278192\tvalid_1's auc: 0.844762\tvalid_1's binary_logloss: 0.297369\n",
      "[200]\ttraining's auc: 0.881095\ttraining's binary_logloss: 0.273076\tvalid_1's auc: 0.845674\tvalid_1's binary_logloss: 0.29655\n",
      "[250]\ttraining's auc: 0.886525\ttraining's binary_logloss: 0.268583\tvalid_1's auc: 0.846002\tvalid_1's binary_logloss: 0.296323\n",
      "Early stopping, best iteration is:\n",
      "[241]\ttraining's auc: 0.885536\ttraining's binary_logloss: 0.269376\tvalid_1's auc: 0.846048\tvalid_1's binary_logloss: 0.296302\n",
      "*********************\n",
      "roc auc estimado:  0.8534886469899189\n",
      "roc auc varianza:  0.0009122196874586897\n"
     ]
    }
   ],
   "source": [
    "[test_probs,fi] = cross_validation_lightgbm(train[keep_columns], y_train, test[keep_columns])"
   ]
  },
  {
   "cell_type": "code",
   "execution_count": 21,
   "id": "advance-aviation",
   "metadata": {
    "scrolled": true
   },
   "outputs": [
    {
     "name": "stdout",
     "output_type": "stream",
     "text": [
      "total de variables : 538\n",
      "variables con importancia acumulada al 99% : 525\n",
      "variables con zero importancia : 0\n"
     ]
    }
   ],
   "source": [
    "keep_columns, zero_importance = get_feature_selection(fi)"
   ]
  },
  {
   "cell_type": "code",
   "execution_count": 22,
   "id": "religious-dodge",
   "metadata": {},
   "outputs": [],
   "source": [
    "keep_columns_v29 = keep_columns"
   ]
  },
  {
   "cell_type": "code",
   "execution_count": 23,
   "id": "impressed-massage",
   "metadata": {
    "scrolled": true
   },
   "outputs": [
    {
     "name": "stdout",
     "output_type": "stream",
     "text": [
      "********** 0 **********\n",
      "Training until validation scores don't improve for 10 rounds\n",
      "[50]\ttraining's auc: 0.852335\ttraining's binary_logloss: 0.296445\tvalid_1's auc: 0.843197\tvalid_1's binary_logloss: 0.303147\n",
      "[100]\ttraining's auc: 0.864892\ttraining's binary_logloss: 0.285432\tvalid_1's auc: 0.850853\tvalid_1's binary_logloss: 0.296788\n",
      "[150]\ttraining's auc: 0.872787\ttraining's binary_logloss: 0.279066\tvalid_1's auc: 0.853087\tvalid_1's binary_logloss: 0.295026\n",
      "[200]\ttraining's auc: 0.879007\ttraining's binary_logloss: 0.273987\tvalid_1's auc: 0.853864\tvalid_1's binary_logloss: 0.294324\n",
      "[250]\ttraining's auc: 0.88452\ttraining's binary_logloss: 0.269532\tvalid_1's auc: 0.854341\tvalid_1's binary_logloss: 0.294028\n",
      "Early stopping, best iteration is:\n",
      "[262]\ttraining's auc: 0.885758\ttraining's binary_logloss: 0.268538\tvalid_1's auc: 0.854463\tvalid_1's binary_logloss: 0.293932\n",
      "********** 1 **********\n",
      "Training until validation scores don't improve for 10 rounds\n",
      "[50]\ttraining's auc: 0.851883\ttraining's binary_logloss: 0.296586\tvalid_1's auc: 0.843694\tvalid_1's binary_logloss: 0.302922\n",
      "[100]\ttraining's auc: 0.86466\ttraining's binary_logloss: 0.285604\tvalid_1's auc: 0.851206\tvalid_1's binary_logloss: 0.296498\n",
      "[150]\ttraining's auc: 0.872589\ttraining's binary_logloss: 0.279123\tvalid_1's auc: 0.853503\tvalid_1's binary_logloss: 0.294494\n",
      "[200]\ttraining's auc: 0.878942\ttraining's binary_logloss: 0.274008\tvalid_1's auc: 0.85471\tvalid_1's binary_logloss: 0.293544\n",
      "Early stopping, best iteration is:\n",
      "[207]\ttraining's auc: 0.879783\ttraining's binary_logloss: 0.273353\tvalid_1's auc: 0.854738\tvalid_1's binary_logloss: 0.293517\n",
      "********** 2 **********\n",
      "Training until validation scores don't improve for 10 rounds\n",
      "[50]\ttraining's auc: 0.852473\ttraining's binary_logloss: 0.29667\tvalid_1's auc: 0.847506\tvalid_1's binary_logloss: 0.299684\n",
      "[100]\ttraining's auc: 0.864954\ttraining's binary_logloss: 0.285791\tvalid_1's auc: 0.853726\tvalid_1's binary_logloss: 0.293596\n",
      "[150]\ttraining's auc: 0.87269\ttraining's binary_logloss: 0.279424\tvalid_1's auc: 0.855559\tvalid_1's binary_logloss: 0.291891\n",
      "[200]\ttraining's auc: 0.879022\ttraining's binary_logloss: 0.274327\tvalid_1's auc: 0.856126\tvalid_1's binary_logloss: 0.29125\n",
      "Early stopping, best iteration is:\n",
      "[231]\ttraining's auc: 0.88247\ttraining's binary_logloss: 0.271525\tvalid_1's auc: 0.856538\tvalid_1's binary_logloss: 0.290881\n",
      "********** 3 **********\n",
      "Training until validation scores don't improve for 10 rounds\n",
      "[50]\ttraining's auc: 0.852076\ttraining's binary_logloss: 0.296901\tvalid_1's auc: 0.84472\tvalid_1's binary_logloss: 0.301609\n",
      "[100]\ttraining's auc: 0.864939\ttraining's binary_logloss: 0.285938\tvalid_1's auc: 0.851909\tvalid_1's binary_logloss: 0.295111\n",
      "[150]\ttraining's auc: 0.872881\ttraining's binary_logloss: 0.27949\tvalid_1's auc: 0.853705\tvalid_1's binary_logloss: 0.29333\n",
      "[200]\ttraining's auc: 0.879022\ttraining's binary_logloss: 0.27444\tvalid_1's auc: 0.854703\tvalid_1's binary_logloss: 0.292397\n",
      "[250]\ttraining's auc: 0.884513\ttraining's binary_logloss: 0.269952\tvalid_1's auc: 0.85521\tvalid_1's binary_logloss: 0.29191\n",
      "Early stopping, best iteration is:\n",
      "[288]\ttraining's auc: 0.888539\ttraining's binary_logloss: 0.266648\tvalid_1's auc: 0.85544\tvalid_1's binary_logloss: 0.291667\n",
      "********** 4 **********\n",
      "Training until validation scores don't improve for 10 rounds\n",
      "[50]\ttraining's auc: 0.854173\ttraining's binary_logloss: 0.296075\tvalid_1's auc: 0.837585\tvalid_1's binary_logloss: 0.304034\n",
      "[100]\ttraining's auc: 0.866827\ttraining's binary_logloss: 0.284899\tvalid_1's auc: 0.843352\tvalid_1's binary_logloss: 0.298758\n",
      "[150]\ttraining's auc: 0.875022\ttraining's binary_logloss: 0.278246\tvalid_1's auc: 0.845115\tvalid_1's binary_logloss: 0.297274\n",
      "[200]\ttraining's auc: 0.881033\ttraining's binary_logloss: 0.273181\tvalid_1's auc: 0.845962\tvalid_1's binary_logloss: 0.296579\n",
      "[250]\ttraining's auc: 0.886597\ttraining's binary_logloss: 0.268622\tvalid_1's auc: 0.846419\tvalid_1's binary_logloss: 0.296218\n",
      "Early stopping, best iteration is:\n",
      "[250]\ttraining's auc: 0.886597\ttraining's binary_logloss: 0.268622\tvalid_1's auc: 0.846419\tvalid_1's binary_logloss: 0.296218\n",
      "*********************\n",
      "roc auc estimado:  0.8535560500666595\n",
      "roc auc varianza:  0.0008838567095615909\n"
     ]
    }
   ],
   "source": [
    "[test_probs,fi] = cross_validation_lightgbm(train[keep_columns], y_train, test[keep_columns])"
   ]
  },
  {
   "cell_type": "code",
   "execution_count": 24,
   "id": "numerous-constraint",
   "metadata": {
    "scrolled": true
   },
   "outputs": [
    {
     "name": "stdout",
     "output_type": "stream",
     "text": [
      "total de variables : 525\n",
      "variables con importancia acumulada al 99% : 513\n",
      "variables con zero importancia : 0\n"
     ]
    }
   ],
   "source": [
    "keep_columns, zero_importance = get_feature_selection(fi)"
   ]
  },
  {
   "cell_type": "code",
   "execution_count": 25,
   "id": "latin-meeting",
   "metadata": {},
   "outputs": [],
   "source": [
    "keep_columns_v30 = keep_columns"
   ]
  },
  {
   "cell_type": "code",
   "execution_count": 26,
   "id": "earned-native",
   "metadata": {
    "scrolled": true
   },
   "outputs": [
    {
     "name": "stdout",
     "output_type": "stream",
     "text": [
      "********** 0 **********\n",
      "Training until validation scores don't improve for 10 rounds\n",
      "[50]\ttraining's auc: 0.852408\ttraining's binary_logloss: 0.296248\tvalid_1's auc: 0.843762\tvalid_1's binary_logloss: 0.302859\n",
      "[100]\ttraining's auc: 0.864966\ttraining's binary_logloss: 0.285348\tvalid_1's auc: 0.851114\tvalid_1's binary_logloss: 0.296757\n",
      "[150]\ttraining's auc: 0.872684\ttraining's binary_logloss: 0.278992\tvalid_1's auc: 0.853305\tvalid_1's binary_logloss: 0.29487\n",
      "[200]\ttraining's auc: 0.878874\ttraining's binary_logloss: 0.273995\tvalid_1's auc: 0.854171\tvalid_1's binary_logloss: 0.294161\n",
      "Early stopping, best iteration is:\n",
      "[199]\ttraining's auc: 0.878762\ttraining's binary_logloss: 0.274084\tvalid_1's auc: 0.85421\tvalid_1's binary_logloss: 0.294141\n",
      "********** 1 **********\n",
      "Training until validation scores don't improve for 10 rounds\n",
      "[50]\ttraining's auc: 0.85182\ttraining's binary_logloss: 0.296635\tvalid_1's auc: 0.843308\tvalid_1's binary_logloss: 0.303052\n",
      "[100]\ttraining's auc: 0.864651\ttraining's binary_logloss: 0.285675\tvalid_1's auc: 0.850503\tvalid_1's binary_logloss: 0.29691\n",
      "[150]\ttraining's auc: 0.872589\ttraining's binary_logloss: 0.279211\tvalid_1's auc: 0.852803\tvalid_1's binary_logloss: 0.294984\n",
      "[200]\ttraining's auc: 0.878809\ttraining's binary_logloss: 0.274134\tvalid_1's auc: 0.853562\tvalid_1's binary_logloss: 0.294227\n",
      "[250]\ttraining's auc: 0.884192\ttraining's binary_logloss: 0.269706\tvalid_1's auc: 0.854341\tvalid_1's binary_logloss: 0.293733\n",
      "Early stopping, best iteration is:\n",
      "[272]\ttraining's auc: 0.886445\ttraining's binary_logloss: 0.267846\tvalid_1's auc: 0.854553\tvalid_1's binary_logloss: 0.293586\n",
      "********** 2 **********\n",
      "Training until validation scores don't improve for 10 rounds\n",
      "[50]\ttraining's auc: 0.851946\ttraining's binary_logloss: 0.297053\tvalid_1's auc: 0.846546\tvalid_1's binary_logloss: 0.300144\n",
      "[100]\ttraining's auc: 0.864615\ttraining's binary_logloss: 0.286059\tvalid_1's auc: 0.853126\tvalid_1's binary_logloss: 0.293967\n",
      "[150]\ttraining's auc: 0.872505\ttraining's binary_logloss: 0.279626\tvalid_1's auc: 0.854986\tvalid_1's binary_logloss: 0.292241\n",
      "[200]\ttraining's auc: 0.878926\ttraining's binary_logloss: 0.274505\tvalid_1's auc: 0.855644\tvalid_1's binary_logloss: 0.291626\n",
      "[250]\ttraining's auc: 0.884515\ttraining's binary_logloss: 0.269902\tvalid_1's auc: 0.856231\tvalid_1's binary_logloss: 0.291093\n",
      "Early stopping, best iteration is:\n",
      "[260]\ttraining's auc: 0.885539\ttraining's binary_logloss: 0.269062\tvalid_1's auc: 0.856344\tvalid_1's binary_logloss: 0.291022\n",
      "********** 3 **********\n",
      "Training until validation scores don't improve for 10 rounds\n",
      "[50]\ttraining's auc: 0.851984\ttraining's binary_logloss: 0.296942\tvalid_1's auc: 0.84509\tvalid_1's binary_logloss: 0.301193\n",
      "[100]\ttraining's auc: 0.864953\ttraining's binary_logloss: 0.285927\tvalid_1's auc: 0.851947\tvalid_1's binary_logloss: 0.294917\n",
      "[150]\ttraining's auc: 0.872766\ttraining's binary_logloss: 0.279549\tvalid_1's auc: 0.854039\tvalid_1's binary_logloss: 0.293069\n",
      "[200]\ttraining's auc: 0.878961\ttraining's binary_logloss: 0.274439\tvalid_1's auc: 0.854751\tvalid_1's binary_logloss: 0.292312\n",
      "Early stopping, best iteration is:\n",
      "[194]\ttraining's auc: 0.87828\ttraining's binary_logloss: 0.274993\tvalid_1's auc: 0.854801\tvalid_1's binary_logloss: 0.292284\n",
      "********** 4 **********\n",
      "Training until validation scores don't improve for 10 rounds\n",
      "[50]\ttraining's auc: 0.854305\ttraining's binary_logloss: 0.295977\tvalid_1's auc: 0.837389\tvalid_1's binary_logloss: 0.304138\n",
      "[100]\ttraining's auc: 0.867087\ttraining's binary_logloss: 0.284747\tvalid_1's auc: 0.843277\tvalid_1's binary_logloss: 0.2988\n",
      "[150]\ttraining's auc: 0.874892\ttraining's binary_logloss: 0.27821\tvalid_1's auc: 0.845199\tvalid_1's binary_logloss: 0.297168\n",
      "[200]\ttraining's auc: 0.881133\ttraining's binary_logloss: 0.273067\tvalid_1's auc: 0.845926\tvalid_1's binary_logloss: 0.296547\n",
      "[250]\ttraining's auc: 0.886736\ttraining's binary_logloss: 0.268503\tvalid_1's auc: 0.846313\tvalid_1's binary_logloss: 0.296242\n",
      "Early stopping, best iteration is:\n",
      "[265]\ttraining's auc: 0.888152\ttraining's binary_logloss: 0.267243\tvalid_1's auc: 0.846407\tvalid_1's binary_logloss: 0.296159\n",
      "*********************\n",
      "roc auc estimado:  0.8533010266227273\n",
      "roc auc varianza:  0.0008558628462180686\n"
     ]
    }
   ],
   "source": [
    "[test_probs,fi] = cross_validation_lightgbm(train[keep_columns], y_train, test[keep_columns])"
   ]
  },
  {
   "cell_type": "code",
   "execution_count": 27,
   "id": "pharmaceutical-douglas",
   "metadata": {
    "scrolled": true
   },
   "outputs": [
    {
     "name": "stdout",
     "output_type": "stream",
     "text": [
      "total de variables : 513\n",
      "variables con importancia acumulada al 99% : 501\n",
      "variables con zero importancia : 0\n"
     ]
    }
   ],
   "source": [
    "keep_columns, zero_importance = get_feature_selection(fi)"
   ]
  },
  {
   "cell_type": "code",
   "execution_count": 28,
   "id": "sexual-candle",
   "metadata": {},
   "outputs": [],
   "source": [
    "keep_columns_v31 = keep_columns"
   ]
  },
  {
   "cell_type": "code",
   "execution_count": 29,
   "id": "adolescent-thesis",
   "metadata": {
    "scrolled": true
   },
   "outputs": [
    {
     "name": "stdout",
     "output_type": "stream",
     "text": [
      "********** 0 **********\n",
      "Training until validation scores don't improve for 10 rounds\n",
      "[50]\ttraining's auc: 0.85212\ttraining's binary_logloss: 0.296487\tvalid_1's auc: 0.843427\tvalid_1's binary_logloss: 0.303171\n",
      "[100]\ttraining's auc: 0.864716\ttraining's binary_logloss: 0.285503\tvalid_1's auc: 0.850749\tvalid_1's binary_logloss: 0.296966\n",
      "[150]\ttraining's auc: 0.872612\ttraining's binary_logloss: 0.279096\tvalid_1's auc: 0.853132\tvalid_1's binary_logloss: 0.295032\n",
      "[200]\ttraining's auc: 0.878876\ttraining's binary_logloss: 0.274001\tvalid_1's auc: 0.853842\tvalid_1's binary_logloss: 0.294393\n",
      "Early stopping, best iteration is:\n",
      "[237]\ttraining's auc: 0.883034\ttraining's binary_logloss: 0.27065\tvalid_1's auc: 0.854348\tvalid_1's binary_logloss: 0.294009\n",
      "********** 1 **********\n",
      "Training until validation scores don't improve for 10 rounds\n",
      "[50]\ttraining's auc: 0.852119\ttraining's binary_logloss: 0.296397\tvalid_1's auc: 0.843293\tvalid_1's binary_logloss: 0.302948\n",
      "[100]\ttraining's auc: 0.86501\ttraining's binary_logloss: 0.285383\tvalid_1's auc: 0.850494\tvalid_1's binary_logloss: 0.296681\n",
      "[150]\ttraining's auc: 0.872717\ttraining's binary_logloss: 0.278952\tvalid_1's auc: 0.853015\tvalid_1's binary_logloss: 0.294672\n",
      "[200]\ttraining's auc: 0.87897\ttraining's binary_logloss: 0.273865\tvalid_1's auc: 0.853998\tvalid_1's binary_logloss: 0.293836\n",
      "[250]\ttraining's auc: 0.884446\ttraining's binary_logloss: 0.269443\tvalid_1's auc: 0.854609\tvalid_1's binary_logloss: 0.293366\n",
      "Early stopping, best iteration is:\n",
      "[263]\ttraining's auc: 0.885908\ttraining's binary_logloss: 0.268333\tvalid_1's auc: 0.854717\tvalid_1's binary_logloss: 0.293326\n",
      "********** 2 **********\n",
      "Training until validation scores don't improve for 10 rounds\n",
      "[50]\ttraining's auc: 0.852228\ttraining's binary_logloss: 0.296747\tvalid_1's auc: 0.846946\tvalid_1's binary_logloss: 0.299881\n",
      "[100]\ttraining's auc: 0.864821\ttraining's binary_logloss: 0.28593\tvalid_1's auc: 0.853639\tvalid_1's binary_logloss: 0.293943\n",
      "[150]\ttraining's auc: 0.872608\ttraining's binary_logloss: 0.279488\tvalid_1's auc: 0.855412\tvalid_1's binary_logloss: 0.292117\n",
      "[200]\ttraining's auc: 0.878835\ttraining's binary_logloss: 0.274483\tvalid_1's auc: 0.856342\tvalid_1's binary_logloss: 0.291315\n",
      "Early stopping, best iteration is:\n",
      "[221]\ttraining's auc: 0.881194\ttraining's binary_logloss: 0.272574\tvalid_1's auc: 0.856624\tvalid_1's binary_logloss: 0.291138\n",
      "********** 3 **********\n",
      "Training until validation scores don't improve for 10 rounds\n",
      "[50]\ttraining's auc: 0.851894\ttraining's binary_logloss: 0.29693\tvalid_1's auc: 0.845408\tvalid_1's binary_logloss: 0.300928\n",
      "[100]\ttraining's auc: 0.864867\ttraining's binary_logloss: 0.285977\tvalid_1's auc: 0.852274\tvalid_1's binary_logloss: 0.294599\n",
      "[150]\ttraining's auc: 0.872524\ttraining's binary_logloss: 0.279583\tvalid_1's auc: 0.854376\tvalid_1's binary_logloss: 0.292626\n",
      "[200]\ttraining's auc: 0.878817\ttraining's binary_logloss: 0.274499\tvalid_1's auc: 0.855305\tvalid_1's binary_logloss: 0.291763\n",
      "Early stopping, best iteration is:\n",
      "[221]\ttraining's auc: 0.881177\ttraining's binary_logloss: 0.272567\tvalid_1's auc: 0.855504\tvalid_1's binary_logloss: 0.291544\n",
      "********** 4 **********\n",
      "Training until validation scores don't improve for 10 rounds\n",
      "[50]\ttraining's auc: 0.853991\ttraining's binary_logloss: 0.296142\tvalid_1's auc: 0.837243\tvalid_1's binary_logloss: 0.304157\n",
      "[100]\ttraining's auc: 0.866741\ttraining's binary_logloss: 0.284937\tvalid_1's auc: 0.84308\tvalid_1's binary_logloss: 0.298812\n",
      "[150]\ttraining's auc: 0.874724\ttraining's binary_logloss: 0.278388\tvalid_1's auc: 0.844961\tvalid_1's binary_logloss: 0.29725\n",
      "[200]\ttraining's auc: 0.880793\ttraining's binary_logloss: 0.27328\tvalid_1's auc: 0.845881\tvalid_1's binary_logloss: 0.296538\n",
      "Early stopping, best iteration is:\n",
      "[211]\ttraining's auc: 0.882078\ttraining's binary_logloss: 0.272251\tvalid_1's auc: 0.846026\tvalid_1's binary_logloss: 0.296427\n",
      "*********************\n",
      "roc auc estimado:  0.8534805170471791\n",
      "roc auc varianza:  0.0009245116798973424\n"
     ]
    }
   ],
   "source": [
    "[test_probs,fi] = cross_validation_lightgbm(train[keep_columns], y_train, test[keep_columns])"
   ]
  },
  {
   "cell_type": "code",
   "execution_count": 30,
   "id": "determined-offense",
   "metadata": {
    "scrolled": true
   },
   "outputs": [
    {
     "name": "stdout",
     "output_type": "stream",
     "text": [
      "total de variables : 501\n",
      "variables con importancia acumulada al 99% : 489\n",
      "variables con zero importancia : 0\n"
     ]
    }
   ],
   "source": [
    "keep_columns, zero_importance = get_feature_selection(fi)"
   ]
  },
  {
   "cell_type": "code",
   "execution_count": 31,
   "id": "consistent-language",
   "metadata": {},
   "outputs": [],
   "source": [
    "keep_columns_v32 = keep_columns"
   ]
  },
  {
   "cell_type": "code",
   "execution_count": 32,
   "id": "civic-ambassador",
   "metadata": {
    "scrolled": true
   },
   "outputs": [
    {
     "name": "stdout",
     "output_type": "stream",
     "text": [
      "********** 0 **********\n",
      "Training until validation scores don't improve for 10 rounds\n",
      "[50]\ttraining's auc: 0.85226\ttraining's binary_logloss: 0.296502\tvalid_1's auc: 0.843597\tvalid_1's binary_logloss: 0.302991\n",
      "[100]\ttraining's auc: 0.864594\ttraining's binary_logloss: 0.285677\tvalid_1's auc: 0.850831\tvalid_1's binary_logloss: 0.296908\n",
      "[150]\ttraining's auc: 0.872446\ttraining's binary_logloss: 0.27928\tvalid_1's auc: 0.853053\tvalid_1's binary_logloss: 0.295\n",
      "[200]\ttraining's auc: 0.878845\ttraining's binary_logloss: 0.274167\tvalid_1's auc: 0.854139\tvalid_1's binary_logloss: 0.294137\n",
      "[250]\ttraining's auc: 0.884202\ttraining's binary_logloss: 0.269737\tvalid_1's auc: 0.854652\tvalid_1's binary_logloss: 0.293716\n",
      "[300]\ttraining's auc: 0.889429\ttraining's binary_logloss: 0.265511\tvalid_1's auc: 0.855156\tvalid_1's binary_logloss: 0.293362\n",
      "Early stopping, best iteration is:\n",
      "[299]\ttraining's auc: 0.88933\ttraining's binary_logloss: 0.2656\tvalid_1's auc: 0.855165\tvalid_1's binary_logloss: 0.29335\n",
      "********** 1 **********\n",
      "Training until validation scores don't improve for 10 rounds\n",
      "[50]\ttraining's auc: 0.852226\ttraining's binary_logloss: 0.296319\tvalid_1's auc: 0.843403\tvalid_1's binary_logloss: 0.302962\n",
      "[100]\ttraining's auc: 0.864916\ttraining's binary_logloss: 0.28542\tvalid_1's auc: 0.85057\tvalid_1's binary_logloss: 0.296812\n",
      "[150]\ttraining's auc: 0.872731\ttraining's binary_logloss: 0.279057\tvalid_1's auc: 0.852951\tvalid_1's binary_logloss: 0.294845\n",
      "[200]\ttraining's auc: 0.87904\ttraining's binary_logloss: 0.273974\tvalid_1's auc: 0.853773\tvalid_1's binary_logloss: 0.294128\n",
      "[250]\ttraining's auc: 0.884587\ttraining's binary_logloss: 0.26958\tvalid_1's auc: 0.854108\tvalid_1's binary_logloss: 0.293858\n",
      "Early stopping, best iteration is:\n",
      "[244]\ttraining's auc: 0.883913\ttraining's binary_logloss: 0.27011\tvalid_1's auc: 0.854114\tvalid_1's binary_logloss: 0.29385\n",
      "********** 2 **********\n",
      "Training until validation scores don't improve for 10 rounds\n",
      "[50]\ttraining's auc: 0.851966\ttraining's binary_logloss: 0.29704\tvalid_1's auc: 0.847147\tvalid_1's binary_logloss: 0.299941\n",
      "[100]\ttraining's auc: 0.864691\ttraining's binary_logloss: 0.286003\tvalid_1's auc: 0.853984\tvalid_1's binary_logloss: 0.293585\n",
      "[150]\ttraining's auc: 0.872333\ttraining's binary_logloss: 0.279677\tvalid_1's auc: 0.855671\tvalid_1's binary_logloss: 0.291899\n",
      "[200]\ttraining's auc: 0.878766\ttraining's binary_logloss: 0.274573\tvalid_1's auc: 0.85623\tvalid_1's binary_logloss: 0.291322\n",
      "Early stopping, best iteration is:\n",
      "[205]\ttraining's auc: 0.879403\ttraining's binary_logloss: 0.274071\tvalid_1's auc: 0.856286\tvalid_1's binary_logloss: 0.291291\n",
      "********** 3 **********\n",
      "Training until validation scores don't improve for 10 rounds\n",
      "[50]\ttraining's auc: 0.852092\ttraining's binary_logloss: 0.296792\tvalid_1's auc: 0.84557\tvalid_1's binary_logloss: 0.301124\n",
      "[100]\ttraining's auc: 0.864905\ttraining's binary_logloss: 0.285872\tvalid_1's auc: 0.852161\tvalid_1's binary_logloss: 0.294949\n",
      "[150]\ttraining's auc: 0.872751\ttraining's binary_logloss: 0.279434\tvalid_1's auc: 0.854299\tvalid_1's binary_logloss: 0.292816\n",
      "[200]\ttraining's auc: 0.878974\ttraining's binary_logloss: 0.274436\tvalid_1's auc: 0.855205\tvalid_1's binary_logloss: 0.292004\n",
      "Early stopping, best iteration is:\n",
      "[214]\ttraining's auc: 0.880647\ttraining's binary_logloss: 0.273107\tvalid_1's auc: 0.855338\tvalid_1's binary_logloss: 0.291849\n",
      "********** 4 **********\n",
      "Training until validation scores don't improve for 10 rounds\n",
      "[50]\ttraining's auc: 0.853974\ttraining's binary_logloss: 0.296115\tvalid_1's auc: 0.837404\tvalid_1's binary_logloss: 0.304196\n",
      "[100]\ttraining's auc: 0.866697\ttraining's binary_logloss: 0.28492\tvalid_1's auc: 0.843187\tvalid_1's binary_logloss: 0.298847\n",
      "[150]\ttraining's auc: 0.87469\ttraining's binary_logloss: 0.278364\tvalid_1's auc: 0.845088\tvalid_1's binary_logloss: 0.297197\n",
      "[200]\ttraining's auc: 0.880862\ttraining's binary_logloss: 0.273205\tvalid_1's auc: 0.845957\tvalid_1's binary_logloss: 0.296474\n",
      "[250]\ttraining's auc: 0.88649\ttraining's binary_logloss: 0.26865\tvalid_1's auc: 0.846475\tvalid_1's binary_logloss: 0.296148\n",
      "Early stopping, best iteration is:\n",
      "[261]\ttraining's auc: 0.887649\ttraining's binary_logloss: 0.267725\tvalid_1's auc: 0.84655\tvalid_1's binary_logloss: 0.296096\n",
      "*********************\n",
      "roc auc estimado:  0.8535212301308879\n",
      "roc auc varianza:  0.0008608123959129744\n"
     ]
    }
   ],
   "source": [
    "[test_probs,fi] = cross_validation_lightgbm(train[keep_columns], y_train, test[keep_columns])"
   ]
  },
  {
   "cell_type": "code",
   "execution_count": 36,
   "id": "analyzed-basement",
   "metadata": {},
   "outputs": [
    {
     "name": "stdout",
     "output_type": "stream",
     "text": [
      "total de variables : 489\n",
      "variables con importancia acumulada al 99% : 478\n",
      "variables con zero importancia : 0\n"
     ]
    }
   ],
   "source": [
    "keep_columns, zero_importance = get_feature_selection(fi)"
   ]
  },
  {
   "cell_type": "code",
   "execution_count": 37,
   "id": "speaking-infrastructure",
   "metadata": {},
   "outputs": [],
   "source": [
    "keep_columns_v33 = keep_columns"
   ]
  },
  {
   "cell_type": "code",
   "execution_count": 38,
   "id": "automatic-moses",
   "metadata": {
    "scrolled": true
   },
   "outputs": [
    {
     "name": "stdout",
     "output_type": "stream",
     "text": [
      "********** 0 **********\n",
      "Training until validation scores don't improve for 10 rounds\n",
      "[50]\ttraining's auc: 0.852039\ttraining's binary_logloss: 0.296505\tvalid_1's auc: 0.843018\tvalid_1's binary_logloss: 0.303322\n",
      "[100]\ttraining's auc: 0.86475\ttraining's binary_logloss: 0.285623\tvalid_1's auc: 0.850604\tvalid_1's binary_logloss: 0.297274\n",
      "[150]\ttraining's auc: 0.87243\ttraining's binary_logloss: 0.279334\tvalid_1's auc: 0.852848\tvalid_1's binary_logloss: 0.295454\n",
      "[200]\ttraining's auc: 0.87863\ttraining's binary_logloss: 0.274274\tvalid_1's auc: 0.853781\tvalid_1's binary_logloss: 0.294744\n",
      "Early stopping, best iteration is:\n",
      "[235]\ttraining's auc: 0.882405\ttraining's binary_logloss: 0.271138\tvalid_1's auc: 0.854135\tvalid_1's binary_logloss: 0.294443\n",
      "********** 1 **********\n",
      "Training until validation scores don't improve for 10 rounds\n",
      "[50]\ttraining's auc: 0.852006\ttraining's binary_logloss: 0.296448\tvalid_1's auc: 0.844155\tvalid_1's binary_logloss: 0.302612\n",
      "[100]\ttraining's auc: 0.864672\ttraining's binary_logloss: 0.285618\tvalid_1's auc: 0.851139\tvalid_1's binary_logloss: 0.296433\n",
      "[150]\ttraining's auc: 0.872553\ttraining's binary_logloss: 0.279179\tvalid_1's auc: 0.853282\tvalid_1's binary_logloss: 0.294584\n",
      "[200]\ttraining's auc: 0.878857\ttraining's binary_logloss: 0.274141\tvalid_1's auc: 0.854413\tvalid_1's binary_logloss: 0.293662\n",
      "[250]\ttraining's auc: 0.884205\ttraining's binary_logloss: 0.26977\tvalid_1's auc: 0.854882\tvalid_1's binary_logloss: 0.293266\n",
      "[300]\ttraining's auc: 0.889259\ttraining's binary_logloss: 0.265627\tvalid_1's auc: 0.855368\tvalid_1's binary_logloss: 0.292981\n",
      "[350]\ttraining's auc: 0.893789\ttraining's binary_logloss: 0.261817\tvalid_1's auc: 0.855513\tvalid_1's binary_logloss: 0.292914\n",
      "Early stopping, best iteration is:\n",
      "[342]\ttraining's auc: 0.893057\ttraining's binary_logloss: 0.262428\tvalid_1's auc: 0.855565\tvalid_1's binary_logloss: 0.292872\n",
      "********** 2 **********\n",
      "Training until validation scores don't improve for 10 rounds\n",
      "[50]\ttraining's auc: 0.851902\ttraining's binary_logloss: 0.297013\tvalid_1's auc: 0.846824\tvalid_1's binary_logloss: 0.300028\n",
      "[100]\ttraining's auc: 0.864622\ttraining's binary_logloss: 0.286101\tvalid_1's auc: 0.853484\tvalid_1's binary_logloss: 0.293844\n",
      "[150]\ttraining's auc: 0.872524\ttraining's binary_logloss: 0.279695\tvalid_1's auc: 0.855331\tvalid_1's binary_logloss: 0.292043\n",
      "[200]\ttraining's auc: 0.878791\ttraining's binary_logloss: 0.274631\tvalid_1's auc: 0.856091\tvalid_1's binary_logloss: 0.291366\n",
      "[250]\ttraining's auc: 0.88421\ttraining's binary_logloss: 0.270242\tvalid_1's auc: 0.856548\tvalid_1's binary_logloss: 0.291027\n",
      "Early stopping, best iteration is:\n",
      "[266]\ttraining's auc: 0.88581\ttraining's binary_logloss: 0.268905\tvalid_1's auc: 0.856583\tvalid_1's binary_logloss: 0.29099\n",
      "********** 3 **********\n",
      "Training until validation scores don't improve for 10 rounds\n",
      "[50]\ttraining's auc: 0.851925\ttraining's binary_logloss: 0.296927\tvalid_1's auc: 0.845072\tvalid_1's binary_logloss: 0.301231\n",
      "[100]\ttraining's auc: 0.864759\ttraining's binary_logloss: 0.285977\tvalid_1's auc: 0.852112\tvalid_1's binary_logloss: 0.294828\n",
      "[150]\ttraining's auc: 0.872619\ttraining's binary_logloss: 0.279535\tvalid_1's auc: 0.854453\tvalid_1's binary_logloss: 0.29277\n",
      "[200]\ttraining's auc: 0.878981\ttraining's binary_logloss: 0.274478\tvalid_1's auc: 0.855127\tvalid_1's binary_logloss: 0.292125\n",
      "[250]\ttraining's auc: 0.884467\ttraining's binary_logloss: 0.270007\tvalid_1's auc: 0.85561\tvalid_1's binary_logloss: 0.291649\n",
      "Early stopping, best iteration is:\n",
      "[257]\ttraining's auc: 0.885249\ttraining's binary_logloss: 0.269383\tvalid_1's auc: 0.85571\tvalid_1's binary_logloss: 0.291575\n",
      "********** 4 **********\n",
      "Training until validation scores don't improve for 10 rounds\n",
      "[50]\ttraining's auc: 0.854003\ttraining's binary_logloss: 0.295981\tvalid_1's auc: 0.837543\tvalid_1's binary_logloss: 0.3039\n",
      "[100]\ttraining's auc: 0.866947\ttraining's binary_logloss: 0.284825\tvalid_1's auc: 0.843508\tvalid_1's binary_logloss: 0.298639\n",
      "[150]\ttraining's auc: 0.874731\ttraining's binary_logloss: 0.278286\tvalid_1's auc: 0.845138\tvalid_1's binary_logloss: 0.297125\n",
      "[200]\ttraining's auc: 0.880907\ttraining's binary_logloss: 0.273243\tvalid_1's auc: 0.84577\tvalid_1's binary_logloss: 0.296643\n",
      "Early stopping, best iteration is:\n",
      "[205]\ttraining's auc: 0.881467\ttraining's binary_logloss: 0.272765\tvalid_1's auc: 0.845911\tvalid_1's binary_logloss: 0.29657\n",
      "*********************\n",
      "roc auc estimado:  0.8536302395484467\n",
      "roc auc varianza:  0.0009537655224800656\n"
     ]
    }
   ],
   "source": [
    "[test_probs,fi] = cross_validation_lightgbm(train[keep_columns], y_train, test[keep_columns])"
   ]
  },
  {
   "cell_type": "code",
   "execution_count": 39,
   "id": "beautiful-measure",
   "metadata": {},
   "outputs": [
    {
     "name": "stdout",
     "output_type": "stream",
     "text": [
      "total de variables : 478\n",
      "variables con importancia acumulada al 99% : 467\n",
      "variables con zero importancia : 0\n"
     ]
    }
   ],
   "source": [
    "keep_columns, zero_importance = get_feature_selection(fi)"
   ]
  },
  {
   "cell_type": "code",
   "execution_count": 40,
   "id": "existing-maine",
   "metadata": {},
   "outputs": [],
   "source": [
    "keep_columns_v34 = keep_columns"
   ]
  },
  {
   "cell_type": "code",
   "execution_count": 41,
   "id": "asian-league",
   "metadata": {
    "scrolled": true
   },
   "outputs": [
    {
     "name": "stdout",
     "output_type": "stream",
     "text": [
      "********** 0 **********\n",
      "Training until validation scores don't improve for 10 rounds\n",
      "[50]\ttraining's auc: 0.85204\ttraining's binary_logloss: 0.296496\tvalid_1's auc: 0.842684\tvalid_1's binary_logloss: 0.303361\n",
      "[100]\ttraining's auc: 0.864977\ttraining's binary_logloss: 0.285558\tvalid_1's auc: 0.850629\tvalid_1's binary_logloss: 0.297157\n",
      "[150]\ttraining's auc: 0.872634\ttraining's binary_logloss: 0.279233\tvalid_1's auc: 0.852911\tvalid_1's binary_logloss: 0.295227\n",
      "[200]\ttraining's auc: 0.878926\ttraining's binary_logloss: 0.27413\tvalid_1's auc: 0.853775\tvalid_1's binary_logloss: 0.294498\n",
      "Early stopping, best iteration is:\n",
      "[231]\ttraining's auc: 0.882463\ttraining's binary_logloss: 0.27124\tvalid_1's auc: 0.85402\tvalid_1's binary_logloss: 0.294316\n",
      "********** 1 **********\n",
      "Training until validation scores don't improve for 10 rounds\n",
      "[50]\ttraining's auc: 0.852132\ttraining's binary_logloss: 0.296434\tvalid_1's auc: 0.843704\tvalid_1's binary_logloss: 0.3027\n",
      "[100]\ttraining's auc: 0.86484\ttraining's binary_logloss: 0.28554\tvalid_1's auc: 0.850543\tvalid_1's binary_logloss: 0.296606\n",
      "[150]\ttraining's auc: 0.87257\ttraining's binary_logloss: 0.279115\tvalid_1's auc: 0.852849\tvalid_1's binary_logloss: 0.294678\n",
      "[200]\ttraining's auc: 0.878927\ttraining's binary_logloss: 0.274008\tvalid_1's auc: 0.853835\tvalid_1's binary_logloss: 0.29386\n",
      "[250]\ttraining's auc: 0.884425\ttraining's binary_logloss: 0.269559\tvalid_1's auc: 0.854443\tvalid_1's binary_logloss: 0.293358\n",
      "[300]\ttraining's auc: 0.889424\ttraining's binary_logloss: 0.265457\tvalid_1's auc: 0.854765\tvalid_1's binary_logloss: 0.293118\n",
      "Early stopping, best iteration is:\n",
      "[293]\ttraining's auc: 0.888714\ttraining's binary_logloss: 0.26605\tvalid_1's auc: 0.854791\tvalid_1's binary_logloss: 0.293116\n",
      "********** 2 **********\n",
      "Training until validation scores don't improve for 10 rounds\n",
      "[50]\ttraining's auc: 0.852361\ttraining's binary_logloss: 0.296916\tvalid_1's auc: 0.847024\tvalid_1's binary_logloss: 0.299883\n",
      "[100]\ttraining's auc: 0.864965\ttraining's binary_logloss: 0.285907\tvalid_1's auc: 0.85364\tvalid_1's binary_logloss: 0.29368\n",
      "[150]\ttraining's auc: 0.872741\ttraining's binary_logloss: 0.279505\tvalid_1's auc: 0.855245\tvalid_1's binary_logloss: 0.292118\n",
      "[200]\ttraining's auc: 0.878852\ttraining's binary_logloss: 0.274527\tvalid_1's auc: 0.855868\tvalid_1's binary_logloss: 0.29144\n",
      "[250]\ttraining's auc: 0.884437\ttraining's binary_logloss: 0.270053\tvalid_1's auc: 0.856263\tvalid_1's binary_logloss: 0.291089\n",
      "Early stopping, best iteration is:\n",
      "[242]\ttraining's auc: 0.883586\ttraining's binary_logloss: 0.27072\tvalid_1's auc: 0.856329\tvalid_1's binary_logloss: 0.291057\n",
      "********** 3 **********\n",
      "Training until validation scores don't improve for 10 rounds\n",
      "[50]\ttraining's auc: 0.852011\ttraining's binary_logloss: 0.296908\tvalid_1's auc: 0.845307\tvalid_1's binary_logloss: 0.301313\n",
      "[100]\ttraining's auc: 0.864923\ttraining's binary_logloss: 0.285902\tvalid_1's auc: 0.852083\tvalid_1's binary_logloss: 0.29492\n",
      "[150]\ttraining's auc: 0.872921\ttraining's binary_logloss: 0.279423\tvalid_1's auc: 0.854119\tvalid_1's binary_logloss: 0.293038\n",
      "[200]\ttraining's auc: 0.879049\ttraining's binary_logloss: 0.274435\tvalid_1's auc: 0.854974\tvalid_1's binary_logloss: 0.292203\n",
      "[250]\ttraining's auc: 0.884469\ttraining's binary_logloss: 0.269994\tvalid_1's auc: 0.855707\tvalid_1's binary_logloss: 0.291721\n",
      "Early stopping, best iteration is:\n",
      "[287]\ttraining's auc: 0.888211\ttraining's binary_logloss: 0.2669\tvalid_1's auc: 0.855917\tvalid_1's binary_logloss: 0.29149\n",
      "********** 4 **********\n",
      "Training until validation scores don't improve for 10 rounds\n",
      "[50]\ttraining's auc: 0.854111\ttraining's binary_logloss: 0.296071\tvalid_1's auc: 0.837166\tvalid_1's binary_logloss: 0.304238\n",
      "[100]\ttraining's auc: 0.866773\ttraining's binary_logloss: 0.284885\tvalid_1's auc: 0.843118\tvalid_1's binary_logloss: 0.298814\n",
      "[150]\ttraining's auc: 0.874744\ttraining's binary_logloss: 0.278347\tvalid_1's auc: 0.845022\tvalid_1's binary_logloss: 0.297201\n",
      "[200]\ttraining's auc: 0.880952\ttraining's binary_logloss: 0.273231\tvalid_1's auc: 0.845636\tvalid_1's binary_logloss: 0.296697\n",
      "Early stopping, best iteration is:\n",
      "[215]\ttraining's auc: 0.88262\ttraining's binary_logloss: 0.271855\tvalid_1's auc: 0.845953\tvalid_1's binary_logloss: 0.296472\n",
      "*********************\n",
      "roc auc estimado:  0.8534484047842383\n",
      "roc auc varianza:  0.0009301396019239487\n"
     ]
    }
   ],
   "source": [
    "[test_probs,fi] = cross_validation_lightgbm(train[keep_columns], y_train, test[keep_columns])"
   ]
  },
  {
   "cell_type": "code",
   "execution_count": 42,
   "id": "baking-cooperation",
   "metadata": {
    "scrolled": true
   },
   "outputs": [
    {
     "name": "stdout",
     "output_type": "stream",
     "text": [
      "total de variables : 467\n",
      "variables con importancia acumulada al 99% : 456\n",
      "variables con zero importancia : 0\n"
     ]
    }
   ],
   "source": [
    "keep_columns, zero_importance = get_feature_selection(fi)"
   ]
  },
  {
   "cell_type": "code",
   "execution_count": 43,
   "id": "cardiovascular-importance",
   "metadata": {},
   "outputs": [],
   "source": [
    "keep_columns_v35 = keep_columns"
   ]
  },
  {
   "cell_type": "code",
   "execution_count": 44,
   "id": "coupled-philip",
   "metadata": {
    "scrolled": true
   },
   "outputs": [
    {
     "name": "stdout",
     "output_type": "stream",
     "text": [
      "********** 0 **********\n",
      "Training until validation scores don't improve for 10 rounds\n",
      "[50]\ttraining's auc: 0.852127\ttraining's binary_logloss: 0.296523\tvalid_1's auc: 0.842965\tvalid_1's binary_logloss: 0.303334\n",
      "[100]\ttraining's auc: 0.864775\ttraining's binary_logloss: 0.285588\tvalid_1's auc: 0.850368\tvalid_1's binary_logloss: 0.297222\n",
      "[150]\ttraining's auc: 0.872378\ttraining's binary_logloss: 0.279293\tvalid_1's auc: 0.852519\tvalid_1's binary_logloss: 0.295383\n",
      "[200]\ttraining's auc: 0.878611\ttraining's binary_logloss: 0.27427\tvalid_1's auc: 0.853516\tvalid_1's binary_logloss: 0.294621\n",
      "[250]\ttraining's auc: 0.88412\ttraining's binary_logloss: 0.269826\tvalid_1's auc: 0.854\tvalid_1's binary_logloss: 0.29422\n",
      "[300]\ttraining's auc: 0.889144\ttraining's binary_logloss: 0.265695\tvalid_1's auc: 0.854351\tvalid_1's binary_logloss: 0.293954\n",
      "Early stopping, best iteration is:\n",
      "[303]\ttraining's auc: 0.88946\ttraining's binary_logloss: 0.26544\tvalid_1's auc: 0.854374\tvalid_1's binary_logloss: 0.293939\n",
      "********** 1 **********\n",
      "Training until validation scores don't improve for 10 rounds\n",
      "[50]\ttraining's auc: 0.852055\ttraining's binary_logloss: 0.296512\tvalid_1's auc: 0.843942\tvalid_1's binary_logloss: 0.302622\n",
      "[100]\ttraining's auc: 0.86466\ttraining's binary_logloss: 0.285611\tvalid_1's auc: 0.850858\tvalid_1's binary_logloss: 0.296475\n",
      "[150]\ttraining's auc: 0.872358\ttraining's binary_logloss: 0.279277\tvalid_1's auc: 0.853171\tvalid_1's binary_logloss: 0.294503\n",
      "[200]\ttraining's auc: 0.878564\ttraining's binary_logloss: 0.274246\tvalid_1's auc: 0.854194\tvalid_1's binary_logloss: 0.293613\n",
      "Early stopping, best iteration is:\n",
      "[198]\ttraining's auc: 0.878338\ttraining's binary_logloss: 0.27443\tvalid_1's auc: 0.854207\tvalid_1's binary_logloss: 0.293622\n",
      "********** 2 **********\n",
      "Training until validation scores don't improve for 10 rounds\n",
      "[50]\ttraining's auc: 0.851686\ttraining's binary_logloss: 0.297258\tvalid_1's auc: 0.846473\tvalid_1's binary_logloss: 0.300432\n",
      "[100]\ttraining's auc: 0.864617\ttraining's binary_logloss: 0.286037\tvalid_1's auc: 0.853421\tvalid_1's binary_logloss: 0.293877\n",
      "[150]\ttraining's auc: 0.872357\ttraining's binary_logloss: 0.279615\tvalid_1's auc: 0.855467\tvalid_1's binary_logloss: 0.292011\n",
      "[200]\ttraining's auc: 0.878649\ttraining's binary_logloss: 0.274588\tvalid_1's auc: 0.856064\tvalid_1's binary_logloss: 0.291477\n",
      "[250]\ttraining's auc: 0.884361\ttraining's binary_logloss: 0.27005\tvalid_1's auc: 0.856589\tvalid_1's binary_logloss: 0.291078\n",
      "Early stopping, best iteration is:\n",
      "[253]\ttraining's auc: 0.884728\ttraining's binary_logloss: 0.269761\tvalid_1's auc: 0.856621\tvalid_1's binary_logloss: 0.291055\n",
      "********** 3 **********\n",
      "Training until validation scores don't improve for 10 rounds\n",
      "[50]\ttraining's auc: 0.852031\ttraining's binary_logloss: 0.296911\tvalid_1's auc: 0.84456\tvalid_1's binary_logloss: 0.30165\n",
      "[100]\ttraining's auc: 0.864828\ttraining's binary_logloss: 0.285891\tvalid_1's auc: 0.851754\tvalid_1's binary_logloss: 0.295145\n",
      "[150]\ttraining's auc: 0.872684\ttraining's binary_logloss: 0.279525\tvalid_1's auc: 0.853828\tvalid_1's binary_logloss: 0.29319\n",
      "[200]\ttraining's auc: 0.87887\ttraining's binary_logloss: 0.274518\tvalid_1's auc: 0.854862\tvalid_1's binary_logloss: 0.292216\n",
      "[250]\ttraining's auc: 0.884446\ttraining's binary_logloss: 0.270003\tvalid_1's auc: 0.855556\tvalid_1's binary_logloss: 0.29165\n",
      "Early stopping, best iteration is:\n",
      "[273]\ttraining's auc: 0.886764\ttraining's binary_logloss: 0.268093\tvalid_1's auc: 0.855649\tvalid_1's binary_logloss: 0.291564\n",
      "********** 4 **********\n",
      "Training until validation scores don't improve for 10 rounds\n",
      "[50]\ttraining's auc: 0.854078\ttraining's binary_logloss: 0.296121\tvalid_1's auc: 0.837374\tvalid_1's binary_logloss: 0.30425\n",
      "[100]\ttraining's auc: 0.866834\ttraining's binary_logloss: 0.284898\tvalid_1's auc: 0.843353\tvalid_1's binary_logloss: 0.298811\n",
      "[150]\ttraining's auc: 0.874718\ttraining's binary_logloss: 0.278377\tvalid_1's auc: 0.845426\tvalid_1's binary_logloss: 0.297123\n",
      "[200]\ttraining's auc: 0.880872\ttraining's binary_logloss: 0.273305\tvalid_1's auc: 0.846082\tvalid_1's binary_logloss: 0.29656\n",
      "Early stopping, best iteration is:\n",
      "[204]\ttraining's auc: 0.881316\ttraining's binary_logloss: 0.272918\tvalid_1's auc: 0.846194\tvalid_1's binary_logloss: 0.296488\n",
      "*********************\n",
      "roc auc estimado:  0.8534418817051003\n",
      "roc auc varianza:  0.0009092982127909594\n"
     ]
    }
   ],
   "source": [
    "[test_probs,fi] = cross_validation_lightgbm(train[keep_columns], y_train, test[keep_columns])"
   ]
  },
  {
   "cell_type": "code",
   "execution_count": 45,
   "id": "comprehensive-impact",
   "metadata": {},
   "outputs": [
    {
     "name": "stdout",
     "output_type": "stream",
     "text": [
      "total de variables : 456\n",
      "variables con importancia acumulada al 99% : 446\n",
      "variables con zero importancia : 0\n"
     ]
    }
   ],
   "source": [
    "keep_columns, zero_importance = get_feature_selection(fi)"
   ]
  },
  {
   "cell_type": "code",
   "execution_count": 46,
   "id": "curious-doctrine",
   "metadata": {},
   "outputs": [],
   "source": [
    "keep_columns_v36 = keep_columns"
   ]
  },
  {
   "cell_type": "code",
   "execution_count": 47,
   "id": "congressional-frequency",
   "metadata": {
    "scrolled": true
   },
   "outputs": [
    {
     "name": "stdout",
     "output_type": "stream",
     "text": [
      "********** 0 **********\n",
      "Training until validation scores don't improve for 10 rounds\n",
      "[50]\ttraining's auc: 0.852174\ttraining's binary_logloss: 0.296512\tvalid_1's auc: 0.843288\tvalid_1's binary_logloss: 0.303265\n",
      "[100]\ttraining's auc: 0.86475\ttraining's binary_logloss: 0.285608\tvalid_1's auc: 0.85052\tvalid_1's binary_logloss: 0.297134\n",
      "[150]\ttraining's auc: 0.872556\ttraining's binary_logloss: 0.279247\tvalid_1's auc: 0.852648\tvalid_1's binary_logloss: 0.295422\n",
      "[200]\ttraining's auc: 0.878714\ttraining's binary_logloss: 0.274285\tvalid_1's auc: 0.85388\tvalid_1's binary_logloss: 0.294479\n",
      "Early stopping, best iteration is:\n",
      "[220]\ttraining's auc: 0.880966\ttraining's binary_logloss: 0.272442\tvalid_1's auc: 0.854263\tvalid_1's binary_logloss: 0.294151\n",
      "********** 1 **********\n",
      "Training until validation scores don't improve for 10 rounds\n",
      "[50]\ttraining's auc: 0.852035\ttraining's binary_logloss: 0.296623\tvalid_1's auc: 0.844094\tvalid_1's binary_logloss: 0.302775\n",
      "[100]\ttraining's auc: 0.864676\ttraining's binary_logloss: 0.285742\tvalid_1's auc: 0.851158\tvalid_1's binary_logloss: 0.296537\n",
      "[150]\ttraining's auc: 0.872403\ttraining's binary_logloss: 0.279375\tvalid_1's auc: 0.853224\tvalid_1's binary_logloss: 0.294704\n",
      "[200]\ttraining's auc: 0.878675\ttraining's binary_logloss: 0.274322\tvalid_1's auc: 0.854341\tvalid_1's binary_logloss: 0.293846\n",
      "[250]\ttraining's auc: 0.884019\ttraining's binary_logloss: 0.269949\tvalid_1's auc: 0.854864\tvalid_1's binary_logloss: 0.293408\n",
      "Early stopping, best iteration is:\n",
      "[258]\ttraining's auc: 0.884869\ttraining's binary_logloss: 0.269258\tvalid_1's auc: 0.854939\tvalid_1's binary_logloss: 0.293369\n",
      "********** 2 **********\n",
      "Training until validation scores don't improve for 10 rounds\n",
      "[50]\ttraining's auc: 0.851935\ttraining's binary_logloss: 0.296976\tvalid_1's auc: 0.847066\tvalid_1's binary_logloss: 0.299771\n",
      "[100]\ttraining's auc: 0.864675\ttraining's binary_logloss: 0.28602\tvalid_1's auc: 0.853777\tvalid_1's binary_logloss: 0.293583\n",
      "[150]\ttraining's auc: 0.872423\ttraining's binary_logloss: 0.279661\tvalid_1's auc: 0.855735\tvalid_1's binary_logloss: 0.291751\n",
      "[200]\ttraining's auc: 0.878702\ttraining's binary_logloss: 0.274626\tvalid_1's auc: 0.856574\tvalid_1's binary_logloss: 0.290967\n",
      "Early stopping, best iteration is:\n",
      "[234]\ttraining's auc: 0.882395\ttraining's binary_logloss: 0.271598\tvalid_1's auc: 0.856887\tvalid_1's binary_logloss: 0.29066\n",
      "********** 3 **********\n",
      "Training until validation scores don't improve for 10 rounds\n",
      "[50]\ttraining's auc: 0.851982\ttraining's binary_logloss: 0.296915\tvalid_1's auc: 0.845007\tvalid_1's binary_logloss: 0.301403\n",
      "[100]\ttraining's auc: 0.864795\ttraining's binary_logloss: 0.285937\tvalid_1's auc: 0.851849\tvalid_1's binary_logloss: 0.29504\n",
      "[150]\ttraining's auc: 0.872594\ttraining's binary_logloss: 0.279647\tvalid_1's auc: 0.854033\tvalid_1's binary_logloss: 0.292992\n",
      "[200]\ttraining's auc: 0.87876\ttraining's binary_logloss: 0.274638\tvalid_1's auc: 0.854934\tvalid_1's binary_logloss: 0.292182\n",
      "[250]\ttraining's auc: 0.88415\ttraining's binary_logloss: 0.270163\tvalid_1's auc: 0.855326\tvalid_1's binary_logloss: 0.291749\n",
      "Early stopping, best iteration is:\n",
      "[246]\ttraining's auc: 0.883729\ttraining's binary_logloss: 0.270521\tvalid_1's auc: 0.85535\tvalid_1's binary_logloss: 0.291739\n",
      "********** 4 **********\n",
      "Training until validation scores don't improve for 10 rounds\n",
      "[50]\ttraining's auc: 0.854254\ttraining's binary_logloss: 0.296021\tvalid_1's auc: 0.83785\tvalid_1's binary_logloss: 0.303845\n",
      "[100]\ttraining's auc: 0.866979\ttraining's binary_logloss: 0.284885\tvalid_1's auc: 0.843674\tvalid_1's binary_logloss: 0.298596\n",
      "[150]\ttraining's auc: 0.874779\ttraining's binary_logloss: 0.278403\tvalid_1's auc: 0.845433\tvalid_1's binary_logloss: 0.29693\n",
      "[200]\ttraining's auc: 0.881061\ttraining's binary_logloss: 0.273322\tvalid_1's auc: 0.84645\tvalid_1's binary_logloss: 0.296255\n",
      "Early stopping, best iteration is:\n",
      "[225]\ttraining's auc: 0.883755\ttraining's binary_logloss: 0.271054\tvalid_1's auc: 0.846633\tvalid_1's binary_logloss: 0.296113\n",
      "*********************\n",
      "roc auc estimado:  0.8536549642823458\n",
      "roc auc varianza:  0.0008781160798612431\n"
     ]
    }
   ],
   "source": [
    "[test_probs,fi] = cross_validation_lightgbm(train[keep_columns], y_train, test[keep_columns])"
   ]
  },
  {
   "cell_type": "code",
   "execution_count": 48,
   "id": "offshore-denial",
   "metadata": {},
   "outputs": [
    {
     "name": "stdout",
     "output_type": "stream",
     "text": [
      "total de variables : 446\n",
      "variables con importancia acumulada al 99% : 436\n",
      "variables con zero importancia : 0\n"
     ]
    }
   ],
   "source": [
    "keep_columns, zero_importance = get_feature_selection(fi)"
   ]
  },
  {
   "cell_type": "code",
   "execution_count": 49,
   "id": "exterior-replacement",
   "metadata": {},
   "outputs": [],
   "source": [
    "keep_columns_v37 = keep_columns"
   ]
  },
  {
   "cell_type": "code",
   "execution_count": 50,
   "id": "dedicated-outreach",
   "metadata": {
    "scrolled": true
   },
   "outputs": [
    {
     "name": "stdout",
     "output_type": "stream",
     "text": [
      "********** 0 **********\n",
      "Training until validation scores don't improve for 10 rounds\n",
      "[50]\ttraining's auc: 0.852155\ttraining's binary_logloss: 0.296587\tvalid_1's auc: 0.843199\tvalid_1's binary_logloss: 0.303299\n",
      "[100]\ttraining's auc: 0.864718\ttraining's binary_logloss: 0.285683\tvalid_1's auc: 0.850722\tvalid_1's binary_logloss: 0.297097\n",
      "[150]\ttraining's auc: 0.872231\ttraining's binary_logloss: 0.279426\tvalid_1's auc: 0.852717\tvalid_1's binary_logloss: 0.295291\n",
      "[200]\ttraining's auc: 0.878518\ttraining's binary_logloss: 0.274435\tvalid_1's auc: 0.853614\tvalid_1's binary_logloss: 0.294552\n",
      "Early stopping, best iteration is:\n",
      "[238]\ttraining's auc: 0.882774\ttraining's binary_logloss: 0.270964\tvalid_1's auc: 0.853998\tvalid_1's binary_logloss: 0.29426\n",
      "********** 1 **********\n",
      "Training until validation scores don't improve for 10 rounds\n",
      "[50]\ttraining's auc: 0.852044\ttraining's binary_logloss: 0.296433\tvalid_1's auc: 0.843532\tvalid_1's binary_logloss: 0.302859\n",
      "[100]\ttraining's auc: 0.864653\ttraining's binary_logloss: 0.285604\tvalid_1's auc: 0.850324\tvalid_1's binary_logloss: 0.296851\n",
      "[150]\ttraining's auc: 0.872343\ttraining's binary_logloss: 0.279242\tvalid_1's auc: 0.85256\tvalid_1's binary_logloss: 0.29497\n",
      "[200]\ttraining's auc: 0.878517\ttraining's binary_logloss: 0.274171\tvalid_1's auc: 0.853724\tvalid_1's binary_logloss: 0.294089\n",
      "Early stopping, best iteration is:\n",
      "[208]\ttraining's auc: 0.879374\ttraining's binary_logloss: 0.273467\tvalid_1's auc: 0.853846\tvalid_1's binary_logloss: 0.293999\n",
      "********** 2 **********\n",
      "Training until validation scores don't improve for 10 rounds\n",
      "[50]\ttraining's auc: 0.851936\ttraining's binary_logloss: 0.297066\tvalid_1's auc: 0.846599\tvalid_1's binary_logloss: 0.300107\n",
      "[100]\ttraining's auc: 0.864561\ttraining's binary_logloss: 0.28611\tvalid_1's auc: 0.853353\tvalid_1's binary_logloss: 0.293874\n",
      "[150]\ttraining's auc: 0.872346\ttraining's binary_logloss: 0.279752\tvalid_1's auc: 0.855389\tvalid_1's binary_logloss: 0.292029\n",
      "[200]\ttraining's auc: 0.87844\ttraining's binary_logloss: 0.274826\tvalid_1's auc: 0.855999\tvalid_1's binary_logloss: 0.29141\n",
      "[250]\ttraining's auc: 0.884121\ttraining's binary_logloss: 0.270368\tvalid_1's auc: 0.856243\tvalid_1's binary_logloss: 0.291148\n",
      "Early stopping, best iteration is:\n",
      "[243]\ttraining's auc: 0.883366\ttraining's binary_logloss: 0.270954\tvalid_1's auc: 0.856331\tvalid_1's binary_logloss: 0.2911\n",
      "********** 3 **********\n",
      "Training until validation scores don't improve for 10 rounds\n",
      "[50]\ttraining's auc: 0.851945\ttraining's binary_logloss: 0.296938\tvalid_1's auc: 0.845028\tvalid_1's binary_logloss: 0.301411\n",
      "[100]\ttraining's auc: 0.864711\ttraining's binary_logloss: 0.285981\tvalid_1's auc: 0.851971\tvalid_1's binary_logloss: 0.2949\n",
      "[150]\ttraining's auc: 0.8724\ttraining's binary_logloss: 0.279595\tvalid_1's auc: 0.854029\tvalid_1's binary_logloss: 0.292978\n",
      "[200]\ttraining's auc: 0.878673\ttraining's binary_logloss: 0.274642\tvalid_1's auc: 0.855045\tvalid_1's binary_logloss: 0.292046\n",
      "Early stopping, best iteration is:\n",
      "[207]\ttraining's auc: 0.879477\ttraining's binary_logloss: 0.273984\tvalid_1's auc: 0.855101\tvalid_1's binary_logloss: 0.291964\n",
      "********** 4 **********\n",
      "Training until validation scores don't improve for 10 rounds\n",
      "[50]\ttraining's auc: 0.853718\ttraining's binary_logloss: 0.296265\tvalid_1's auc: 0.837806\tvalid_1's binary_logloss: 0.303995\n",
      "[100]\ttraining's auc: 0.866621\ttraining's binary_logloss: 0.285021\tvalid_1's auc: 0.843689\tvalid_1's binary_logloss: 0.298642\n",
      "[150]\ttraining's auc: 0.87452\ttraining's binary_logloss: 0.278516\tvalid_1's auc: 0.845506\tvalid_1's binary_logloss: 0.297089\n",
      "[200]\ttraining's auc: 0.880724\ttraining's binary_logloss: 0.273439\tvalid_1's auc: 0.846139\tvalid_1's binary_logloss: 0.296546\n",
      "Early stopping, best iteration is:\n",
      "[190]\ttraining's auc: 0.879504\ttraining's binary_logloss: 0.274414\tvalid_1's auc: 0.846151\tvalid_1's binary_logloss: 0.296546\n",
      "*********************\n",
      "roc auc estimado:  0.8531203951582935\n",
      "roc auc varianza:  0.000874119960729706\n"
     ]
    }
   ],
   "source": [
    "[test_probs,fi] = cross_validation_lightgbm(train[keep_columns], y_train, test[keep_columns])"
   ]
  },
  {
   "cell_type": "code",
   "execution_count": 51,
   "id": "accessible-steel",
   "metadata": {},
   "outputs": [
    {
     "name": "stdout",
     "output_type": "stream",
     "text": [
      "total de variables : 436\n",
      "variables con importancia acumulada al 99% : 425\n",
      "variables con zero importancia : 0\n"
     ]
    }
   ],
   "source": [
    "keep_columns, zero_importance = get_feature_selection(fi)"
   ]
  },
  {
   "cell_type": "code",
   "execution_count": 52,
   "id": "domestic-stability",
   "metadata": {},
   "outputs": [],
   "source": [
    "keep_columns_v38 = keep_columns"
   ]
  },
  {
   "cell_type": "code",
   "execution_count": 53,
   "id": "pretty-defendant",
   "metadata": {
    "scrolled": true
   },
   "outputs": [
    {
     "name": "stdout",
     "output_type": "stream",
     "text": [
      "********** 0 **********\n",
      "Training until validation scores don't improve for 10 rounds\n",
      "[50]\ttraining's auc: 0.851901\ttraining's binary_logloss: 0.296688\tvalid_1's auc: 0.843041\tvalid_1's binary_logloss: 0.303307\n",
      "[100]\ttraining's auc: 0.864393\ttraining's binary_logloss: 0.285864\tvalid_1's auc: 0.85085\tvalid_1's binary_logloss: 0.297022\n",
      "[150]\ttraining's auc: 0.872057\ttraining's binary_logloss: 0.279588\tvalid_1's auc: 0.852909\tvalid_1's binary_logloss: 0.295286\n",
      "[200]\ttraining's auc: 0.878477\ttraining's binary_logloss: 0.274451\tvalid_1's auc: 0.85362\tvalid_1's binary_logloss: 0.294695\n",
      "Early stopping, best iteration is:\n",
      "[228]\ttraining's auc: 0.881647\ttraining's binary_logloss: 0.271906\tvalid_1's auc: 0.853982\tvalid_1's binary_logloss: 0.29446\n",
      "********** 1 **********\n",
      "Training until validation scores don't improve for 10 rounds\n",
      "[50]\ttraining's auc: 0.851948\ttraining's binary_logloss: 0.296672\tvalid_1's auc: 0.843397\tvalid_1's binary_logloss: 0.303271\n",
      "[100]\ttraining's auc: 0.864449\ttraining's binary_logloss: 0.285671\tvalid_1's auc: 0.850816\tvalid_1's binary_logloss: 0.296799\n",
      "[150]\ttraining's auc: 0.872252\ttraining's binary_logloss: 0.2793\tvalid_1's auc: 0.853081\tvalid_1's binary_logloss: 0.294904\n",
      "[200]\ttraining's auc: 0.87846\ttraining's binary_logloss: 0.274333\tvalid_1's auc: 0.853604\tvalid_1's binary_logloss: 0.294376\n",
      "Early stopping, best iteration is:\n",
      "[195]\ttraining's auc: 0.877827\ttraining's binary_logloss: 0.274803\tvalid_1's auc: 0.853646\tvalid_1's binary_logloss: 0.294355\n",
      "********** 2 **********\n",
      "Training until validation scores don't improve for 10 rounds\n",
      "[50]\ttraining's auc: 0.852056\ttraining's binary_logloss: 0.297181\tvalid_1's auc: 0.846822\tvalid_1's binary_logloss: 0.300275\n",
      "[100]\ttraining's auc: 0.864413\ttraining's binary_logloss: 0.286245\tvalid_1's auc: 0.853482\tvalid_1's binary_logloss: 0.293906\n",
      "[150]\ttraining's auc: 0.872062\ttraining's binary_logloss: 0.279874\tvalid_1's auc: 0.85548\tvalid_1's binary_logloss: 0.292103\n",
      "[200]\ttraining's auc: 0.878406\ttraining's binary_logloss: 0.274806\tvalid_1's auc: 0.855962\tvalid_1's binary_logloss: 0.291514\n",
      "[250]\ttraining's auc: 0.884042\ttraining's binary_logloss: 0.270324\tvalid_1's auc: 0.856363\tvalid_1's binary_logloss: 0.291115\n",
      "Early stopping, best iteration is:\n",
      "[242]\ttraining's auc: 0.88321\ttraining's binary_logloss: 0.270987\tvalid_1's auc: 0.856412\tvalid_1's binary_logloss: 0.291147\n",
      "********** 3 **********\n",
      "Training until validation scores don't improve for 10 rounds\n",
      "[50]\ttraining's auc: 0.852148\ttraining's binary_logloss: 0.29692\tvalid_1's auc: 0.845005\tvalid_1's binary_logloss: 0.301302\n",
      "[100]\ttraining's auc: 0.864697\ttraining's binary_logloss: 0.286021\tvalid_1's auc: 0.851838\tvalid_1's binary_logloss: 0.294909\n",
      "[150]\ttraining's auc: 0.872504\ttraining's binary_logloss: 0.279663\tvalid_1's auc: 0.853971\tvalid_1's binary_logloss: 0.292958\n",
      "[200]\ttraining's auc: 0.87859\ttraining's binary_logloss: 0.274632\tvalid_1's auc: 0.855056\tvalid_1's binary_logloss: 0.292038\n",
      "[250]\ttraining's auc: 0.88412\ttraining's binary_logloss: 0.270191\tvalid_1's auc: 0.855868\tvalid_1's binary_logloss: 0.291445\n",
      "Early stopping, best iteration is:\n",
      "[274]\ttraining's auc: 0.886514\ttraining's binary_logloss: 0.268191\tvalid_1's auc: 0.856149\tvalid_1's binary_logloss: 0.291266\n",
      "********** 4 **********\n",
      "Training until validation scores don't improve for 10 rounds\n",
      "[50]\ttraining's auc: 0.854009\ttraining's binary_logloss: 0.296122\tvalid_1's auc: 0.836819\tvalid_1's binary_logloss: 0.30442\n",
      "[100]\ttraining's auc: 0.866867\ttraining's binary_logloss: 0.284908\tvalid_1's auc: 0.843404\tvalid_1's binary_logloss: 0.298753\n",
      "[150]\ttraining's auc: 0.874704\ttraining's binary_logloss: 0.278447\tvalid_1's auc: 0.845126\tvalid_1's binary_logloss: 0.297193\n",
      "[200]\ttraining's auc: 0.880762\ttraining's binary_logloss: 0.273334\tvalid_1's auc: 0.845893\tvalid_1's binary_logloss: 0.296462\n",
      "[250]\ttraining's auc: 0.885986\ttraining's binary_logloss: 0.268993\tvalid_1's auc: 0.84645\tvalid_1's binary_logloss: 0.296056\n",
      "Early stopping, best iteration is:\n",
      "[259]\ttraining's auc: 0.886939\ttraining's binary_logloss: 0.268208\tvalid_1's auc: 0.84648\tvalid_1's binary_logloss: 0.295993\n",
      "*********************\n",
      "roc auc estimado:  0.8533776392404516\n",
      "roc auc varianza:  0.0008799628587676816\n"
     ]
    }
   ],
   "source": [
    "[test_probs,fi] = cross_validation_lightgbm(train[keep_columns], y_train, test[keep_columns])"
   ]
  },
  {
   "cell_type": "code",
   "execution_count": 54,
   "id": "formed-macro",
   "metadata": {
    "scrolled": true
   },
   "outputs": [
    {
     "name": "stdout",
     "output_type": "stream",
     "text": [
      "total de variables : 425\n",
      "variables con importancia acumulada al 99% : 415\n",
      "variables con zero importancia : 0\n"
     ]
    }
   ],
   "source": [
    "keep_columns, zero_importance = get_feature_selection(fi)"
   ]
  },
  {
   "cell_type": "code",
   "execution_count": 55,
   "id": "undefined-cabin",
   "metadata": {},
   "outputs": [],
   "source": [
    "keep_columns_v39 = keep_columns"
   ]
  },
  {
   "cell_type": "code",
   "execution_count": 56,
   "id": "ecological-lingerie",
   "metadata": {
    "scrolled": true
   },
   "outputs": [
    {
     "name": "stdout",
     "output_type": "stream",
     "text": [
      "********** 0 **********\n",
      "Training until validation scores don't improve for 10 rounds\n",
      "[50]\ttraining's auc: 0.852036\ttraining's binary_logloss: 0.296527\tvalid_1's auc: 0.843216\tvalid_1's binary_logloss: 0.303153\n",
      "[100]\ttraining's auc: 0.864527\ttraining's binary_logloss: 0.285813\tvalid_1's auc: 0.850582\tvalid_1's binary_logloss: 0.297146\n",
      "[150]\ttraining's auc: 0.87222\ttraining's binary_logloss: 0.279469\tvalid_1's auc: 0.852816\tvalid_1's binary_logloss: 0.29528\n",
      "[200]\ttraining's auc: 0.878394\ttraining's binary_logloss: 0.27452\tvalid_1's auc: 0.853759\tvalid_1's binary_logloss: 0.294518\n",
      "[250]\ttraining's auc: 0.883674\ttraining's binary_logloss: 0.270047\tvalid_1's auc: 0.854292\tvalid_1's binary_logloss: 0.29405\n",
      "Early stopping, best iteration is:\n",
      "[248]\ttraining's auc: 0.883468\ttraining's binary_logloss: 0.270213\tvalid_1's auc: 0.854315\tvalid_1's binary_logloss: 0.294045\n",
      "********** 1 **********\n",
      "Training until validation scores don't improve for 10 rounds\n",
      "[50]\ttraining's auc: 0.851942\ttraining's binary_logloss: 0.296723\tvalid_1's auc: 0.843902\tvalid_1's binary_logloss: 0.302864\n",
      "[100]\ttraining's auc: 0.864606\ttraining's binary_logloss: 0.285685\tvalid_1's auc: 0.850768\tvalid_1's binary_logloss: 0.296803\n",
      "[150]\ttraining's auc: 0.872186\ttraining's binary_logloss: 0.279406\tvalid_1's auc: 0.852938\tvalid_1's binary_logloss: 0.294915\n",
      "[200]\ttraining's auc: 0.878444\ttraining's binary_logloss: 0.27441\tvalid_1's auc: 0.853805\tvalid_1's binary_logloss: 0.294127\n",
      "[250]\ttraining's auc: 0.884013\ttraining's binary_logloss: 0.269904\tvalid_1's auc: 0.854595\tvalid_1's binary_logloss: 0.293562\n",
      "Early stopping, best iteration is:\n",
      "[285]\ttraining's auc: 0.887578\ttraining's binary_logloss: 0.267004\tvalid_1's auc: 0.854829\tvalid_1's binary_logloss: 0.29336\n",
      "********** 2 **********\n",
      "Training until validation scores don't improve for 10 rounds\n",
      "[50]\ttraining's auc: 0.851749\ttraining's binary_logloss: 0.297173\tvalid_1's auc: 0.845926\tvalid_1's binary_logloss: 0.300652\n",
      "[100]\ttraining's auc: 0.864243\ttraining's binary_logloss: 0.286332\tvalid_1's auc: 0.852461\tvalid_1's binary_logloss: 0.294517\n",
      "[150]\ttraining's auc: 0.872078\ttraining's binary_logloss: 0.279994\tvalid_1's auc: 0.854606\tvalid_1's binary_logloss: 0.292607\n",
      "[200]\ttraining's auc: 0.878292\ttraining's binary_logloss: 0.274908\tvalid_1's auc: 0.855352\tvalid_1's binary_logloss: 0.291877\n",
      "Early stopping, best iteration is:\n",
      "[228]\ttraining's auc: 0.881504\ttraining's binary_logloss: 0.272403\tvalid_1's auc: 0.855541\tvalid_1's binary_logloss: 0.291733\n",
      "********** 3 **********\n",
      "Training until validation scores don't improve for 10 rounds\n",
      "[50]\ttraining's auc: 0.852141\ttraining's binary_logloss: 0.29689\tvalid_1's auc: 0.844861\tvalid_1's binary_logloss: 0.301391\n",
      "[100]\ttraining's auc: 0.864839\ttraining's binary_logloss: 0.286067\tvalid_1's auc: 0.85161\tvalid_1's binary_logloss: 0.295034\n",
      "[150]\ttraining's auc: 0.872558\ttraining's binary_logloss: 0.279703\tvalid_1's auc: 0.854078\tvalid_1's binary_logloss: 0.292825\n",
      "[200]\ttraining's auc: 0.878558\ttraining's binary_logloss: 0.274789\tvalid_1's auc: 0.85468\tvalid_1's binary_logloss: 0.292129\n",
      "[250]\ttraining's auc: 0.884209\ttraining's binary_logloss: 0.270287\tvalid_1's auc: 0.855127\tvalid_1's binary_logloss: 0.291778\n",
      "Early stopping, best iteration is:\n",
      "[289]\ttraining's auc: 0.888191\ttraining's binary_logloss: 0.267015\tvalid_1's auc: 0.855379\tvalid_1's binary_logloss: 0.291552\n",
      "********** 4 **********\n",
      "Training until validation scores don't improve for 10 rounds\n",
      "[50]\ttraining's auc: 0.854013\ttraining's binary_logloss: 0.296132\tvalid_1's auc: 0.837665\tvalid_1's binary_logloss: 0.304076\n",
      "[100]\ttraining's auc: 0.866821\ttraining's binary_logloss: 0.284891\tvalid_1's auc: 0.843805\tvalid_1's binary_logloss: 0.298545\n",
      "[150]\ttraining's auc: 0.874543\ttraining's binary_logloss: 0.278456\tvalid_1's auc: 0.84568\tvalid_1's binary_logloss: 0.296909\n",
      "[200]\ttraining's auc: 0.880635\ttraining's binary_logloss: 0.273444\tvalid_1's auc: 0.846184\tvalid_1's binary_logloss: 0.296475\n",
      "Early stopping, best iteration is:\n",
      "[209]\ttraining's auc: 0.881713\ttraining's binary_logloss: 0.272602\tvalid_1's auc: 0.846351\tvalid_1's binary_logloss: 0.29637\n",
      "*********************\n",
      "roc auc estimado:  0.8533187322150674\n",
      "roc auc varianza:  0.0008528604041274272\n"
     ]
    }
   ],
   "source": [
    "[test_probs,fi] = cross_validation_lightgbm(train[keep_columns], y_train, test[keep_columns])"
   ]
  },
  {
   "cell_type": "code",
   "execution_count": 57,
   "id": "handy-synthesis",
   "metadata": {},
   "outputs": [
    {
     "name": "stdout",
     "output_type": "stream",
     "text": [
      "total de variables : 415\n",
      "variables con importancia acumulada al 99% : 406\n",
      "variables con zero importancia : 0\n"
     ]
    }
   ],
   "source": [
    "keep_columns, zero_importance = get_feature_selection(fi)"
   ]
  },
  {
   "cell_type": "code",
   "execution_count": 58,
   "id": "compound-heating",
   "metadata": {},
   "outputs": [],
   "source": [
    "keep_columns_v40 = keep_columns"
   ]
  },
  {
   "cell_type": "code",
   "execution_count": 59,
   "id": "natural-ferry",
   "metadata": {
    "scrolled": true
   },
   "outputs": [
    {
     "name": "stdout",
     "output_type": "stream",
     "text": [
      "********** 0 **********\n",
      "Training until validation scores don't improve for 10 rounds\n",
      "[50]\ttraining's auc: 0.851808\ttraining's binary_logloss: 0.296684\tvalid_1's auc: 0.843328\tvalid_1's binary_logloss: 0.303263\n",
      "[100]\ttraining's auc: 0.864198\ttraining's binary_logloss: 0.285961\tvalid_1's auc: 0.850433\tvalid_1's binary_logloss: 0.297282\n",
      "[150]\ttraining's auc: 0.871966\ttraining's binary_logloss: 0.279653\tvalid_1's auc: 0.852838\tvalid_1's binary_logloss: 0.295413\n",
      "Early stopping, best iteration is:\n",
      "[184]\ttraining's auc: 0.876072\ttraining's binary_logloss: 0.276213\tvalid_1's auc: 0.853529\tvalid_1's binary_logloss: 0.294813\n",
      "********** 1 **********\n",
      "Training until validation scores don't improve for 10 rounds\n",
      "[50]\ttraining's auc: 0.851921\ttraining's binary_logloss: 0.296774\tvalid_1's auc: 0.843595\tvalid_1's binary_logloss: 0.302979\n",
      "[100]\ttraining's auc: 0.864622\ttraining's binary_logloss: 0.285786\tvalid_1's auc: 0.850926\tvalid_1's binary_logloss: 0.296608\n",
      "[150]\ttraining's auc: 0.87225\ttraining's binary_logloss: 0.279436\tvalid_1's auc: 0.852962\tvalid_1's binary_logloss: 0.294722\n",
      "[200]\ttraining's auc: 0.87829\ttraining's binary_logloss: 0.274473\tvalid_1's auc: 0.853868\tvalid_1's binary_logloss: 0.293914\n",
      "[250]\ttraining's auc: 0.883679\ttraining's binary_logloss: 0.270053\tvalid_1's auc: 0.854277\tvalid_1's binary_logloss: 0.293546\n",
      "Early stopping, best iteration is:\n",
      "[257]\ttraining's auc: 0.88444\ttraining's binary_logloss: 0.269477\tvalid_1's auc: 0.854335\tvalid_1's binary_logloss: 0.29352\n",
      "********** 2 **********\n",
      "Training until validation scores don't improve for 10 rounds\n",
      "[50]\ttraining's auc: 0.851727\ttraining's binary_logloss: 0.297312\tvalid_1's auc: 0.846753\tvalid_1's binary_logloss: 0.300234\n",
      "[100]\ttraining's auc: 0.864311\ttraining's binary_logloss: 0.286383\tvalid_1's auc: 0.85329\tvalid_1's binary_logloss: 0.294053\n",
      "[150]\ttraining's auc: 0.872149\ttraining's binary_logloss: 0.279941\tvalid_1's auc: 0.855387\tvalid_1's binary_logloss: 0.292144\n",
      "[200]\ttraining's auc: 0.878386\ttraining's binary_logloss: 0.274964\tvalid_1's auc: 0.856159\tvalid_1's binary_logloss: 0.291398\n",
      "[250]\ttraining's auc: 0.883873\ttraining's binary_logloss: 0.270598\tvalid_1's auc: 0.85641\tvalid_1's binary_logloss: 0.291143\n",
      "Early stopping, best iteration is:\n",
      "[243]\ttraining's auc: 0.883119\ttraining's binary_logloss: 0.27118\tvalid_1's auc: 0.85647\tvalid_1's binary_logloss: 0.291123\n",
      "********** 3 **********\n",
      "Training until validation scores don't improve for 10 rounds\n",
      "[50]\ttraining's auc: 0.852005\ttraining's binary_logloss: 0.296954\tvalid_1's auc: 0.844751\tvalid_1's binary_logloss: 0.301503\n",
      "[100]\ttraining's auc: 0.864639\ttraining's binary_logloss: 0.286125\tvalid_1's auc: 0.851497\tvalid_1's binary_logloss: 0.295268\n",
      "[150]\ttraining's auc: 0.872541\ttraining's binary_logloss: 0.279674\tvalid_1's auc: 0.853755\tvalid_1's binary_logloss: 0.293197\n",
      "[200]\ttraining's auc: 0.87868\ttraining's binary_logloss: 0.274755\tvalid_1's auc: 0.854705\tvalid_1's binary_logloss: 0.29233\n",
      "Early stopping, best iteration is:\n",
      "[214]\ttraining's auc: 0.880209\ttraining's binary_logloss: 0.273521\tvalid_1's auc: 0.854794\tvalid_1's binary_logloss: 0.292215\n",
      "********** 4 **********\n",
      "Training until validation scores don't improve for 10 rounds\n",
      "[50]\ttraining's auc: 0.854261\ttraining's binary_logloss: 0.296095\tvalid_1's auc: 0.837903\tvalid_1's binary_logloss: 0.304048\n",
      "[100]\ttraining's auc: 0.866724\ttraining's binary_logloss: 0.285126\tvalid_1's auc: 0.843325\tvalid_1's binary_logloss: 0.298932\n",
      "[150]\ttraining's auc: 0.874304\ttraining's binary_logloss: 0.278745\tvalid_1's auc: 0.845441\tvalid_1's binary_logloss: 0.297182\n",
      "[200]\ttraining's auc: 0.880375\ttraining's binary_logloss: 0.273747\tvalid_1's auc: 0.846082\tvalid_1's binary_logloss: 0.296581\n",
      "[250]\ttraining's auc: 0.885857\ttraining's binary_logloss: 0.269256\tvalid_1's auc: 0.846464\tvalid_1's binary_logloss: 0.29628\n",
      "Early stopping, best iteration is:\n",
      "[240]\ttraining's auc: 0.884732\ttraining's binary_logloss: 0.270148\tvalid_1's auc: 0.846531\tvalid_1's binary_logloss: 0.296222\n",
      "*********************\n",
      "roc auc estimado:  0.8531728468569844\n",
      "roc auc varianza:  0.0008398157406794152\n"
     ]
    }
   ],
   "source": [
    "[test_probs,fi] = cross_validation_lightgbm(train[keep_columns], y_train, test[keep_columns])"
   ]
  },
  {
   "cell_type": "code",
   "execution_count": 60,
   "id": "floral-camping",
   "metadata": {},
   "outputs": [
    {
     "name": "stdout",
     "output_type": "stream",
     "text": [
      "total de variables : 406\n",
      "variables con importancia acumulada al 99% : 397\n",
      "variables con zero importancia : 0\n"
     ]
    }
   ],
   "source": [
    "keep_columns, zero_importance = get_feature_selection(fi)"
   ]
  },
  {
   "cell_type": "code",
   "execution_count": 61,
   "id": "front-jewelry",
   "metadata": {},
   "outputs": [],
   "source": [
    "keep_columns_v41 = keep_columns"
   ]
  },
  {
   "cell_type": "code",
   "execution_count": 62,
   "id": "operating-diesel",
   "metadata": {
    "scrolled": true
   },
   "outputs": [
    {
     "name": "stdout",
     "output_type": "stream",
     "text": [
      "********** 0 **********\n",
      "Training until validation scores don't improve for 10 rounds\n",
      "[50]\ttraining's auc: 0.85201\ttraining's binary_logloss: 0.29667\tvalid_1's auc: 0.843466\tvalid_1's binary_logloss: 0.303306\n",
      "[100]\ttraining's auc: 0.864574\ttraining's binary_logloss: 0.285876\tvalid_1's auc: 0.851106\tvalid_1's binary_logloss: 0.297129\n",
      "[150]\ttraining's auc: 0.872169\ttraining's binary_logloss: 0.279504\tvalid_1's auc: 0.853527\tvalid_1's binary_logloss: 0.294962\n",
      "Early stopping, best iteration is:\n",
      "[178]\ttraining's auc: 0.875734\ttraining's binary_logloss: 0.27664\tvalid_1's auc: 0.854082\tvalid_1's binary_logloss: 0.294555\n",
      "********** 1 **********\n",
      "Training until validation scores don't improve for 10 rounds\n",
      "[50]\ttraining's auc: 0.85159\ttraining's binary_logloss: 0.296848\tvalid_1's auc: 0.843391\tvalid_1's binary_logloss: 0.303083\n",
      "[100]\ttraining's auc: 0.864355\ttraining's binary_logloss: 0.285854\tvalid_1's auc: 0.850801\tvalid_1's binary_logloss: 0.296643\n",
      "[150]\ttraining's auc: 0.871927\ttraining's binary_logloss: 0.279588\tvalid_1's auc: 0.853162\tvalid_1's binary_logloss: 0.294665\n",
      "[200]\ttraining's auc: 0.878225\ttraining's binary_logloss: 0.274491\tvalid_1's auc: 0.854362\tvalid_1's binary_logloss: 0.293767\n",
      "[250]\ttraining's auc: 0.883649\ttraining's binary_logloss: 0.270047\tvalid_1's auc: 0.855091\tvalid_1's binary_logloss: 0.293182\n",
      "Early stopping, best iteration is:\n",
      "[282]\ttraining's auc: 0.886989\ttraining's binary_logloss: 0.267375\tvalid_1's auc: 0.855361\tvalid_1's binary_logloss: 0.292963\n",
      "********** 2 **********\n",
      "Training until validation scores don't improve for 10 rounds\n",
      "[50]\ttraining's auc: 0.851753\ttraining's binary_logloss: 0.297255\tvalid_1's auc: 0.846613\tvalid_1's binary_logloss: 0.300454\n",
      "[100]\ttraining's auc: 0.864358\ttraining's binary_logloss: 0.286261\tvalid_1's auc: 0.853581\tvalid_1's binary_logloss: 0.294028\n",
      "[150]\ttraining's auc: 0.872069\ttraining's binary_logloss: 0.279901\tvalid_1's auc: 0.855657\tvalid_1's binary_logloss: 0.292068\n",
      "[200]\ttraining's auc: 0.878442\ttraining's binary_logloss: 0.274887\tvalid_1's auc: 0.856359\tvalid_1's binary_logloss: 0.291444\n",
      "Early stopping, best iteration is:\n",
      "[192]\ttraining's auc: 0.877479\ttraining's binary_logloss: 0.275633\tvalid_1's auc: 0.856418\tvalid_1's binary_logloss: 0.291439\n",
      "********** 3 **********\n",
      "Training until validation scores don't improve for 10 rounds\n",
      "[50]\ttraining's auc: 0.851622\ttraining's binary_logloss: 0.297179\tvalid_1's auc: 0.844803\tvalid_1's binary_logloss: 0.301421\n",
      "[100]\ttraining's auc: 0.864637\ttraining's binary_logloss: 0.286218\tvalid_1's auc: 0.851787\tvalid_1's binary_logloss: 0.29498\n",
      "[150]\ttraining's auc: 0.872336\ttraining's binary_logloss: 0.279887\tvalid_1's auc: 0.853932\tvalid_1's binary_logloss: 0.292945\n",
      "Early stopping, best iteration is:\n",
      "[178]\ttraining's auc: 0.876016\ttraining's binary_logloss: 0.276986\tvalid_1's auc: 0.854543\tvalid_1's binary_logloss: 0.292391\n",
      "********** 4 **********\n",
      "Training until validation scores don't improve for 10 rounds\n",
      "[50]\ttraining's auc: 0.853729\ttraining's binary_logloss: 0.296238\tvalid_1's auc: 0.837465\tvalid_1's binary_logloss: 0.304118\n",
      "[100]\ttraining's auc: 0.8665\ttraining's binary_logloss: 0.285158\tvalid_1's auc: 0.843759\tvalid_1's binary_logloss: 0.298542\n",
      "[150]\ttraining's auc: 0.8744\ttraining's binary_logloss: 0.278719\tvalid_1's auc: 0.845639\tvalid_1's binary_logloss: 0.297072\n",
      "[200]\ttraining's auc: 0.880312\ttraining's binary_logloss: 0.273733\tvalid_1's auc: 0.846485\tvalid_1's binary_logloss: 0.296317\n",
      "[250]\ttraining's auc: 0.88578\ttraining's binary_logloss: 0.269275\tvalid_1's auc: 0.846741\tvalid_1's binary_logloss: 0.296044\n",
      "Early stopping, best iteration is:\n",
      "[257]\ttraining's auc: 0.886524\ttraining's binary_logloss: 0.268688\tvalid_1's auc: 0.846826\tvalid_1's binary_logloss: 0.295988\n",
      "*********************\n",
      "roc auc estimado:  0.8534781049841943\n",
      "roc auc varianza:  0.0008313421378837378\n"
     ]
    }
   ],
   "source": [
    "[test_probs,fi] = cross_validation_lightgbm(train[keep_columns], y_train, test[keep_columns])"
   ]
  },
  {
   "cell_type": "code",
   "execution_count": 63,
   "id": "norwegian-programmer",
   "metadata": {},
   "outputs": [
    {
     "name": "stdout",
     "output_type": "stream",
     "text": [
      "total de variables : 397\n",
      "variables con importancia acumulada al 99% : 388\n",
      "variables con zero importancia : 0\n"
     ]
    }
   ],
   "source": [
    "keep_columns, zero_importance = get_feature_selection(fi)"
   ]
  },
  {
   "cell_type": "code",
   "execution_count": 64,
   "id": "abstract-jumping",
   "metadata": {},
   "outputs": [],
   "source": [
    "keep_columns_v42 = keep_columns"
   ]
  },
  {
   "cell_type": "code",
   "execution_count": 65,
   "id": "bright-dominant",
   "metadata": {
    "scrolled": true
   },
   "outputs": [
    {
     "name": "stdout",
     "output_type": "stream",
     "text": [
      "********** 0 **********\n",
      "Training until validation scores don't improve for 10 rounds\n",
      "[50]\ttraining's auc: 0.851637\ttraining's binary_logloss: 0.296807\tvalid_1's auc: 0.843236\tvalid_1's binary_logloss: 0.303408\n",
      "[100]\ttraining's auc: 0.864402\ttraining's binary_logloss: 0.285949\tvalid_1's auc: 0.850404\tvalid_1's binary_logloss: 0.297494\n",
      "[150]\ttraining's auc: 0.872071\ttraining's binary_logloss: 0.279652\tvalid_1's auc: 0.85267\tvalid_1's binary_logloss: 0.295604\n",
      "[200]\ttraining's auc: 0.878337\ttraining's binary_logloss: 0.274612\tvalid_1's auc: 0.853543\tvalid_1's binary_logloss: 0.294899\n",
      "[250]\ttraining's auc: 0.8838\ttraining's binary_logloss: 0.270138\tvalid_1's auc: 0.854074\tvalid_1's binary_logloss: 0.294441\n",
      "Early stopping, best iteration is:\n",
      "[246]\ttraining's auc: 0.883329\ttraining's binary_logloss: 0.270486\tvalid_1's auc: 0.854107\tvalid_1's binary_logloss: 0.294422\n",
      "********** 1 **********\n",
      "Training until validation scores don't improve for 10 rounds\n",
      "[50]\ttraining's auc: 0.851991\ttraining's binary_logloss: 0.29663\tvalid_1's auc: 0.843555\tvalid_1's binary_logloss: 0.302969\n",
      "[100]\ttraining's auc: 0.86444\ttraining's binary_logloss: 0.285808\tvalid_1's auc: 0.850747\tvalid_1's binary_logloss: 0.296721\n",
      "[150]\ttraining's auc: 0.872094\ttraining's binary_logloss: 0.279505\tvalid_1's auc: 0.852786\tvalid_1's binary_logloss: 0.294837\n",
      "[200]\ttraining's auc: 0.878389\ttraining's binary_logloss: 0.274465\tvalid_1's auc: 0.853777\tvalid_1's binary_logloss: 0.294047\n",
      "[250]\ttraining's auc: 0.883755\ttraining's binary_logloss: 0.270066\tvalid_1's auc: 0.854407\tvalid_1's binary_logloss: 0.293587\n",
      "Early stopping, best iteration is:\n",
      "[279]\ttraining's auc: 0.886749\ttraining's binary_logloss: 0.267659\tvalid_1's auc: 0.854791\tvalid_1's binary_logloss: 0.293304\n",
      "********** 2 **********\n",
      "Training until validation scores don't improve for 10 rounds\n",
      "[50]\ttraining's auc: 0.851381\ttraining's binary_logloss: 0.297313\tvalid_1's auc: 0.846399\tvalid_1's binary_logloss: 0.300411\n",
      "[100]\ttraining's auc: 0.864133\ttraining's binary_logloss: 0.286443\tvalid_1's auc: 0.853286\tvalid_1's binary_logloss: 0.294089\n",
      "[150]\ttraining's auc: 0.871793\ttraining's binary_logloss: 0.280118\tvalid_1's auc: 0.855153\tvalid_1's binary_logloss: 0.292284\n",
      "[200]\ttraining's auc: 0.877906\ttraining's binary_logloss: 0.275165\tvalid_1's auc: 0.855881\tvalid_1's binary_logloss: 0.291615\n",
      "Early stopping, best iteration is:\n",
      "[215]\ttraining's auc: 0.879639\ttraining's binary_logloss: 0.273761\tvalid_1's auc: 0.856135\tvalid_1's binary_logloss: 0.291392\n",
      "********** 3 **********\n",
      "Training until validation scores don't improve for 10 rounds\n",
      "[50]\ttraining's auc: 0.851781\ttraining's binary_logloss: 0.297094\tvalid_1's auc: 0.844989\tvalid_1's binary_logloss: 0.301362\n",
      "[100]\ttraining's auc: 0.864598\ttraining's binary_logloss: 0.286163\tvalid_1's auc: 0.851581\tvalid_1's binary_logloss: 0.295096\n",
      "[150]\ttraining's auc: 0.872462\ttraining's binary_logloss: 0.279727\tvalid_1's auc: 0.853776\tvalid_1's binary_logloss: 0.29308\n",
      "[200]\ttraining's auc: 0.878742\ttraining's binary_logloss: 0.274696\tvalid_1's auc: 0.854824\tvalid_1's binary_logloss: 0.292122\n",
      "Early stopping, best iteration is:\n",
      "[206]\ttraining's auc: 0.87938\ttraining's binary_logloss: 0.274144\tvalid_1's auc: 0.854896\tvalid_1's binary_logloss: 0.292032\n",
      "********** 4 **********\n",
      "Training until validation scores don't improve for 10 rounds\n",
      "[50]\ttraining's auc: 0.853498\ttraining's binary_logloss: 0.296364\tvalid_1's auc: 0.83743\tvalid_1's binary_logloss: 0.304244\n",
      "[100]\ttraining's auc: 0.866393\ttraining's binary_logloss: 0.285209\tvalid_1's auc: 0.843288\tvalid_1's binary_logloss: 0.298978\n",
      "[150]\ttraining's auc: 0.874084\ttraining's binary_logloss: 0.278795\tvalid_1's auc: 0.845322\tvalid_1's binary_logloss: 0.297299\n",
      "[200]\ttraining's auc: 0.880201\ttraining's binary_logloss: 0.273741\tvalid_1's auc: 0.845859\tvalid_1's binary_logloss: 0.296828\n",
      "Early stopping, best iteration is:\n",
      "[200]\ttraining's auc: 0.880201\ttraining's binary_logloss: 0.273741\tvalid_1's auc: 0.845859\tvalid_1's binary_logloss: 0.296828\n",
      "*********************\n",
      "roc auc estimado:  0.8531901801468665\n",
      "roc auc varianza:  0.0009060062255638826\n"
     ]
    }
   ],
   "source": [
    "[test_probs,fi] = cross_validation_lightgbm(train[keep_columns], y_train, test[keep_columns])"
   ]
  },
  {
   "cell_type": "code",
   "execution_count": 66,
   "id": "amateur-walter",
   "metadata": {},
   "outputs": [
    {
     "name": "stdout",
     "output_type": "stream",
     "text": [
      "total de variables : 388\n",
      "variables con importancia acumulada al 99% : 380\n",
      "variables con zero importancia : 0\n"
     ]
    }
   ],
   "source": [
    "keep_columns, zero_importance = get_feature_selection(fi)"
   ]
  },
  {
   "cell_type": "code",
   "execution_count": 67,
   "id": "expanded-width",
   "metadata": {},
   "outputs": [],
   "source": [
    "keep_columns_v43 = keep_columns"
   ]
  },
  {
   "cell_type": "code",
   "execution_count": 68,
   "id": "cultural-decade",
   "metadata": {
    "scrolled": true
   },
   "outputs": [
    {
     "name": "stdout",
     "output_type": "stream",
     "text": [
      "********** 0 **********\n",
      "Training until validation scores don't improve for 10 rounds\n",
      "[50]\ttraining's auc: 0.851699\ttraining's binary_logloss: 0.296834\tvalid_1's auc: 0.843057\tvalid_1's binary_logloss: 0.303481\n",
      "[100]\ttraining's auc: 0.864267\ttraining's binary_logloss: 0.285966\tvalid_1's auc: 0.850581\tvalid_1's binary_logloss: 0.297328\n",
      "[150]\ttraining's auc: 0.871911\ttraining's binary_logloss: 0.279686\tvalid_1's auc: 0.852653\tvalid_1's binary_logloss: 0.29555\n",
      "[200]\ttraining's auc: 0.878044\ttraining's binary_logloss: 0.274715\tvalid_1's auc: 0.853376\tvalid_1's binary_logloss: 0.294912\n",
      "Early stopping, best iteration is:\n",
      "[220]\ttraining's auc: 0.880305\ttraining's binary_logloss: 0.272914\tvalid_1's auc: 0.853599\tvalid_1's binary_logloss: 0.294713\n",
      "********** 1 **********\n",
      "Training until validation scores don't improve for 10 rounds\n",
      "[50]\ttraining's auc: 0.851746\ttraining's binary_logloss: 0.296763\tvalid_1's auc: 0.843869\tvalid_1's binary_logloss: 0.302968\n",
      "[100]\ttraining's auc: 0.864329\ttraining's binary_logloss: 0.285889\tvalid_1's auc: 0.85092\tvalid_1's binary_logloss: 0.296754\n",
      "[150]\ttraining's auc: 0.871929\ttraining's binary_logloss: 0.279551\tvalid_1's auc: 0.853073\tvalid_1's binary_logloss: 0.294904\n",
      "[200]\ttraining's auc: 0.878026\ttraining's binary_logloss: 0.274594\tvalid_1's auc: 0.854059\tvalid_1's binary_logloss: 0.294099\n",
      "[250]\ttraining's auc: 0.883459\ttraining's binary_logloss: 0.270229\tvalid_1's auc: 0.854511\tvalid_1's binary_logloss: 0.293716\n",
      "[300]\ttraining's auc: 0.888546\ttraining's binary_logloss: 0.266114\tvalid_1's auc: 0.854859\tvalid_1's binary_logloss: 0.293452\n",
      "Early stopping, best iteration is:\n",
      "[315]\ttraining's auc: 0.889983\ttraining's binary_logloss: 0.264923\tvalid_1's auc: 0.854998\tvalid_1's binary_logloss: 0.293372\n",
      "********** 2 **********\n",
      "Training until validation scores don't improve for 10 rounds\n",
      "[50]\ttraining's auc: 0.851474\ttraining's binary_logloss: 0.297307\tvalid_1's auc: 0.846181\tvalid_1's binary_logloss: 0.300556\n",
      "[100]\ttraining's auc: 0.864185\ttraining's binary_logloss: 0.286392\tvalid_1's auc: 0.85292\tvalid_1's binary_logloss: 0.294428\n",
      "[150]\ttraining's auc: 0.87193\ttraining's binary_logloss: 0.280095\tvalid_1's auc: 0.854656\tvalid_1's binary_logloss: 0.292704\n",
      "[200]\ttraining's auc: 0.87812\ttraining's binary_logloss: 0.275109\tvalid_1's auc: 0.855346\tvalid_1's binary_logloss: 0.292023\n",
      "[250]\ttraining's auc: 0.883602\ttraining's binary_logloss: 0.270714\tvalid_1's auc: 0.855632\tvalid_1's binary_logloss: 0.291759\n",
      "Early stopping, best iteration is:\n",
      "[253]\ttraining's auc: 0.883885\ttraining's binary_logloss: 0.270463\tvalid_1's auc: 0.855683\tvalid_1's binary_logloss: 0.291715\n",
      "********** 3 **********\n",
      "Training until validation scores don't improve for 10 rounds\n",
      "[50]\ttraining's auc: 0.851589\ttraining's binary_logloss: 0.297228\tvalid_1's auc: 0.844714\tvalid_1's binary_logloss: 0.301549\n",
      "[100]\ttraining's auc: 0.86429\ttraining's binary_logloss: 0.286382\tvalid_1's auc: 0.851783\tvalid_1's binary_logloss: 0.295042\n",
      "[150]\ttraining's auc: 0.872185\ttraining's binary_logloss: 0.279999\tvalid_1's auc: 0.853772\tvalid_1's binary_logloss: 0.293169\n",
      "[200]\ttraining's auc: 0.878335\ttraining's binary_logloss: 0.275033\tvalid_1's auc: 0.854808\tvalid_1's binary_logloss: 0.292229\n",
      "Early stopping, best iteration is:\n",
      "[205]\ttraining's auc: 0.878856\ttraining's binary_logloss: 0.274551\tvalid_1's auc: 0.854897\tvalid_1's binary_logloss: 0.292135\n",
      "********** 4 **********\n",
      "Training until validation scores don't improve for 10 rounds\n",
      "[50]\ttraining's auc: 0.853569\ttraining's binary_logloss: 0.296437\tvalid_1's auc: 0.837367\tvalid_1's binary_logloss: 0.30429\n",
      "[100]\ttraining's auc: 0.86642\ttraining's binary_logloss: 0.285235\tvalid_1's auc: 0.843639\tvalid_1's binary_logloss: 0.298688\n",
      "[150]\ttraining's auc: 0.874084\ttraining's binary_logloss: 0.278858\tvalid_1's auc: 0.845242\tvalid_1's binary_logloss: 0.29729\n",
      "[200]\ttraining's auc: 0.880302\ttraining's binary_logloss: 0.273807\tvalid_1's auc: 0.845702\tvalid_1's binary_logloss: 0.296843\n",
      "Early stopping, best iteration is:\n",
      "[236]\ttraining's auc: 0.884326\ttraining's binary_logloss: 0.270539\tvalid_1's auc: 0.846155\tvalid_1's binary_logloss: 0.296507\n",
      "*********************\n",
      "roc auc estimado:  0.8531044445850733\n",
      "roc auc varianza:  0.0008593173956619887\n"
     ]
    }
   ],
   "source": [
    "[test_probs,fi] = cross_validation_lightgbm(train[keep_columns], y_train, test[keep_columns])"
   ]
  },
  {
   "cell_type": "code",
   "execution_count": 69,
   "id": "regular-clearance",
   "metadata": {
    "scrolled": true
   },
   "outputs": [
    {
     "name": "stdout",
     "output_type": "stream",
     "text": [
      "total de variables : 380\n",
      "variables con importancia acumulada al 99% : 372\n",
      "variables con zero importancia : 0\n"
     ]
    }
   ],
   "source": [
    "keep_columns, zero_importance = get_feature_selection(fi)"
   ]
  },
  {
   "cell_type": "code",
   "execution_count": 70,
   "id": "dominican-uniform",
   "metadata": {},
   "outputs": [],
   "source": [
    "keep_columns_v44 = keep_columns"
   ]
  },
  {
   "cell_type": "code",
   "execution_count": 71,
   "id": "august-action",
   "metadata": {
    "scrolled": true
   },
   "outputs": [
    {
     "name": "stdout",
     "output_type": "stream",
     "text": [
      "********** 0 **********\n",
      "Training until validation scores don't improve for 10 rounds\n",
      "[50]\ttraining's auc: 0.851912\ttraining's binary_logloss: 0.296731\tvalid_1's auc: 0.843247\tvalid_1's binary_logloss: 0.303201\n",
      "[100]\ttraining's auc: 0.864404\ttraining's binary_logloss: 0.285918\tvalid_1's auc: 0.850669\tvalid_1's binary_logloss: 0.297051\n",
      "[150]\ttraining's auc: 0.872021\ttraining's binary_logloss: 0.279689\tvalid_1's auc: 0.852599\tvalid_1's binary_logloss: 0.295379\n",
      "[200]\ttraining's auc: 0.878087\ttraining's binary_logloss: 0.274771\tvalid_1's auc: 0.853502\tvalid_1's binary_logloss: 0.294627\n",
      "Early stopping, best iteration is:\n",
      "[213]\ttraining's auc: 0.879597\ttraining's binary_logloss: 0.273571\tvalid_1's auc: 0.85368\tvalid_1's binary_logloss: 0.294479\n",
      "********** 1 **********\n",
      "Training until validation scores don't improve for 10 rounds\n",
      "[50]\ttraining's auc: 0.852032\ttraining's binary_logloss: 0.296658\tvalid_1's auc: 0.843977\tvalid_1's binary_logloss: 0.302616\n",
      "[100]\ttraining's auc: 0.86447\ttraining's binary_logloss: 0.285889\tvalid_1's auc: 0.850859\tvalid_1's binary_logloss: 0.296467\n",
      "[150]\ttraining's auc: 0.87202\ttraining's binary_logloss: 0.27961\tvalid_1's auc: 0.853017\tvalid_1's binary_logloss: 0.294598\n",
      "[200]\ttraining's auc: 0.878185\ttraining's binary_logloss: 0.274704\tvalid_1's auc: 0.853966\tvalid_1's binary_logloss: 0.293868\n",
      "Early stopping, best iteration is:\n",
      "[233]\ttraining's auc: 0.881794\ttraining's binary_logloss: 0.271749\tvalid_1's auc: 0.854305\tvalid_1's binary_logloss: 0.293504\n",
      "********** 2 **********\n",
      "Training until validation scores don't improve for 10 rounds\n",
      "[50]\ttraining's auc: 0.85176\ttraining's binary_logloss: 0.29719\tvalid_1's auc: 0.846129\tvalid_1's binary_logloss: 0.300652\n",
      "[100]\ttraining's auc: 0.864203\ttraining's binary_logloss: 0.286345\tvalid_1's auc: 0.852933\tvalid_1's binary_logloss: 0.294365\n",
      "[150]\ttraining's auc: 0.871862\ttraining's binary_logloss: 0.280056\tvalid_1's auc: 0.854884\tvalid_1's binary_logloss: 0.292568\n",
      "Early stopping, best iteration is:\n",
      "[169]\ttraining's auc: 0.874305\ttraining's binary_logloss: 0.278095\tvalid_1's auc: 0.855266\tvalid_1's binary_logloss: 0.29221\n",
      "********** 3 **********\n",
      "Training until validation scores don't improve for 10 rounds\n",
      "[50]\ttraining's auc: 0.851837\ttraining's binary_logloss: 0.297054\tvalid_1's auc: 0.844741\tvalid_1's binary_logloss: 0.301404\n",
      "[100]\ttraining's auc: 0.864387\ttraining's binary_logloss: 0.286367\tvalid_1's auc: 0.851399\tvalid_1's binary_logloss: 0.295203\n",
      "[150]\ttraining's auc: 0.872079\ttraining's binary_logloss: 0.280115\tvalid_1's auc: 0.853312\tvalid_1's binary_logloss: 0.293359\n",
      "[200]\ttraining's auc: 0.878334\ttraining's binary_logloss: 0.275119\tvalid_1's auc: 0.854203\tvalid_1's binary_logloss: 0.292443\n",
      "[250]\ttraining's auc: 0.883987\ttraining's binary_logloss: 0.27059\tvalid_1's auc: 0.854707\tvalid_1's binary_logloss: 0.292031\n",
      "Early stopping, best iteration is:\n",
      "[254]\ttraining's auc: 0.884377\ttraining's binary_logloss: 0.270254\tvalid_1's auc: 0.854743\tvalid_1's binary_logloss: 0.291998\n",
      "********** 4 **********\n",
      "Training until validation scores don't improve for 10 rounds\n",
      "[50]\ttraining's auc: 0.853537\ttraining's binary_logloss: 0.296409\tvalid_1's auc: 0.836805\tvalid_1's binary_logloss: 0.304439\n",
      "[100]\ttraining's auc: 0.866204\ttraining's binary_logloss: 0.285223\tvalid_1's auc: 0.842744\tvalid_1's binary_logloss: 0.299039\n",
      "[150]\ttraining's auc: 0.874082\ttraining's binary_logloss: 0.27876\tvalid_1's auc: 0.844791\tvalid_1's binary_logloss: 0.297414\n",
      "[200]\ttraining's auc: 0.880089\ttraining's binary_logloss: 0.273777\tvalid_1's auc: 0.845443\tvalid_1's binary_logloss: 0.296752\n",
      "Early stopping, best iteration is:\n",
      "[203]\ttraining's auc: 0.880465\ttraining's binary_logloss: 0.273479\tvalid_1's auc: 0.845515\tvalid_1's binary_logloss: 0.296716\n",
      "*********************\n",
      "roc auc estimado:  0.8527408172741133\n",
      "roc auc varianza:  0.0008832613336392253\n"
     ]
    }
   ],
   "source": [
    "[test_probs,fi] = cross_validation_lightgbm(train[keep_columns], y_train, test[keep_columns])"
   ]
  },
  {
   "cell_type": "code",
   "execution_count": 72,
   "id": "blocked-taste",
   "metadata": {
    "scrolled": true
   },
   "outputs": [
    {
     "name": "stdout",
     "output_type": "stream",
     "text": [
      "total de variables : 372\n",
      "variables con importancia acumulada al 99% : 364\n",
      "variables con zero importancia : 0\n"
     ]
    }
   ],
   "source": [
    "keep_columns, zero_importance = get_feature_selection(fi)"
   ]
  },
  {
   "cell_type": "code",
   "execution_count": 73,
   "id": "optimum-retirement",
   "metadata": {},
   "outputs": [],
   "source": [
    "keep_columns_v45 = keep_columns"
   ]
  },
  {
   "cell_type": "code",
   "execution_count": 74,
   "id": "reliable-batman",
   "metadata": {
    "scrolled": true
   },
   "outputs": [
    {
     "name": "stdout",
     "output_type": "stream",
     "text": [
      "********** 0 **********\n",
      "Training until validation scores don't improve for 10 rounds\n",
      "[50]\ttraining's auc: 0.851838\ttraining's binary_logloss: 0.296785\tvalid_1's auc: 0.84296\tvalid_1's binary_logloss: 0.303513\n",
      "[100]\ttraining's auc: 0.864326\ttraining's binary_logloss: 0.285975\tvalid_1's auc: 0.850665\tvalid_1's binary_logloss: 0.297237\n",
      "[150]\ttraining's auc: 0.871923\ttraining's binary_logloss: 0.279713\tvalid_1's auc: 0.85279\tvalid_1's binary_logloss: 0.295456\n",
      "[200]\ttraining's auc: 0.878074\ttraining's binary_logloss: 0.274762\tvalid_1's auc: 0.853709\tvalid_1's binary_logloss: 0.294749\n",
      "Early stopping, best iteration is:\n",
      "[221]\ttraining's auc: 0.880382\ttraining's binary_logloss: 0.272869\tvalid_1's auc: 0.853974\tvalid_1's binary_logloss: 0.294484\n",
      "********** 1 **********\n",
      "Training until validation scores don't improve for 10 rounds\n",
      "[50]\ttraining's auc: 0.851636\ttraining's binary_logloss: 0.296808\tvalid_1's auc: 0.843137\tvalid_1's binary_logloss: 0.30316\n",
      "[100]\ttraining's auc: 0.864274\ttraining's binary_logloss: 0.285936\tvalid_1's auc: 0.850607\tvalid_1's binary_logloss: 0.296869\n",
      "[150]\ttraining's auc: 0.871934\ttraining's binary_logloss: 0.279591\tvalid_1's auc: 0.853066\tvalid_1's binary_logloss: 0.294825\n",
      "[200]\ttraining's auc: 0.878146\ttraining's binary_logloss: 0.274654\tvalid_1's auc: 0.854166\tvalid_1's binary_logloss: 0.29389\n",
      "[250]\ttraining's auc: 0.883555\ttraining's binary_logloss: 0.270278\tvalid_1's auc: 0.854732\tvalid_1's binary_logloss: 0.293452\n",
      "Early stopping, best iteration is:\n",
      "[288]\ttraining's auc: 0.887353\ttraining's binary_logloss: 0.267203\tvalid_1's auc: 0.854902\tvalid_1's binary_logloss: 0.293319\n",
      "********** 2 **********\n",
      "Training until validation scores don't improve for 10 rounds\n",
      "[50]\ttraining's auc: 0.851825\ttraining's binary_logloss: 0.297199\tvalid_1's auc: 0.846162\tvalid_1's binary_logloss: 0.300562\n",
      "[100]\ttraining's auc: 0.86432\ttraining's binary_logloss: 0.286244\tvalid_1's auc: 0.853073\tvalid_1's binary_logloss: 0.294218\n",
      "[150]\ttraining's auc: 0.871952\ttraining's binary_logloss: 0.279983\tvalid_1's auc: 0.855026\tvalid_1's binary_logloss: 0.292449\n",
      "[200]\ttraining's auc: 0.878253\ttraining's binary_logloss: 0.275014\tvalid_1's auc: 0.855673\tvalid_1's binary_logloss: 0.291759\n",
      "Early stopping, best iteration is:\n",
      "[190]\ttraining's auc: 0.877114\ttraining's binary_logloss: 0.27592\tvalid_1's auc: 0.855707\tvalid_1's binary_logloss: 0.291764\n",
      "********** 3 **********\n",
      "Training until validation scores don't improve for 10 rounds\n",
      "[50]\ttraining's auc: 0.852068\ttraining's binary_logloss: 0.296963\tvalid_1's auc: 0.845627\tvalid_1's binary_logloss: 0.301026\n",
      "[100]\ttraining's auc: 0.864724\ttraining's binary_logloss: 0.286165\tvalid_1's auc: 0.852293\tvalid_1's binary_logloss: 0.294674\n",
      "[150]\ttraining's auc: 0.872338\ttraining's binary_logloss: 0.279828\tvalid_1's auc: 0.85453\tvalid_1's binary_logloss: 0.292545\n",
      "[200]\ttraining's auc: 0.87852\ttraining's binary_logloss: 0.27486\tvalid_1's auc: 0.855265\tvalid_1's binary_logloss: 0.291752\n",
      "[250]\ttraining's auc: 0.883987\ttraining's binary_logloss: 0.270444\tvalid_1's auc: 0.855793\tvalid_1's binary_logloss: 0.291292\n",
      "Early stopping, best iteration is:\n",
      "[245]\ttraining's auc: 0.883433\ttraining's binary_logloss: 0.270896\tvalid_1's auc: 0.855805\tvalid_1's binary_logloss: 0.291298\n",
      "********** 4 **********\n",
      "Training until validation scores don't improve for 10 rounds\n",
      "[50]\ttraining's auc: 0.853604\ttraining's binary_logloss: 0.296545\tvalid_1's auc: 0.837116\tvalid_1's binary_logloss: 0.304404\n",
      "[100]\ttraining's auc: 0.8663\ttraining's binary_logloss: 0.28534\tvalid_1's auc: 0.843223\tvalid_1's binary_logloss: 0.298837\n",
      "[150]\ttraining's auc: 0.874241\ttraining's binary_logloss: 0.278838\tvalid_1's auc: 0.844912\tvalid_1's binary_logloss: 0.297389\n",
      "[200]\ttraining's auc: 0.880337\ttraining's binary_logloss: 0.273761\tvalid_1's auc: 0.845757\tvalid_1's binary_logloss: 0.296684\n",
      "Early stopping, best iteration is:\n",
      "[202]\ttraining's auc: 0.880566\ttraining's binary_logloss: 0.273569\tvalid_1's auc: 0.845818\tvalid_1's binary_logloss: 0.296648\n",
      "*********************\n",
      "roc auc estimado:  0.8532825896312091\n",
      "roc auc varianza:  0.0009186604405803188\n"
     ]
    }
   ],
   "source": [
    "[test_probs,fi] = cross_validation_lightgbm(train[keep_columns], y_train, test[keep_columns])"
   ]
  },
  {
   "cell_type": "code",
   "execution_count": 75,
   "id": "awful-immune",
   "metadata": {
    "scrolled": false
   },
   "outputs": [
    {
     "name": "stdout",
     "output_type": "stream",
     "text": [
      "total de variables : 364\n",
      "variables con importancia acumulada al 99% : 356\n",
      "variables con zero importancia : 0\n"
     ]
    }
   ],
   "source": [
    "keep_columns, zero_importance = get_feature_selection(fi)"
   ]
  },
  {
   "cell_type": "code",
   "execution_count": null,
   "id": "comparative-gender",
   "metadata": {},
   "outputs": [],
   "source": [
    "keep_columns_v46 = keep_columns"
   ]
  },
  {
   "cell_type": "code",
   "execution_count": 76,
   "id": "electrical-thriller",
   "metadata": {
    "scrolled": true
   },
   "outputs": [
    {
     "name": "stdout",
     "output_type": "stream",
     "text": [
      "********** 0 **********\n",
      "Training until validation scores don't improve for 10 rounds\n",
      "[50]\ttraining's auc: 0.85178\ttraining's binary_logloss: 0.296832\tvalid_1's auc: 0.843617\tvalid_1's binary_logloss: 0.303226\n",
      "[100]\ttraining's auc: 0.864055\ttraining's binary_logloss: 0.286107\tvalid_1's auc: 0.850742\tvalid_1's binary_logloss: 0.297183\n",
      "[150]\ttraining's auc: 0.871666\ttraining's binary_logloss: 0.279818\tvalid_1's auc: 0.853121\tvalid_1's binary_logloss: 0.295246\n",
      "[200]\ttraining's auc: 0.877947\ttraining's binary_logloss: 0.274812\tvalid_1's auc: 0.853876\tvalid_1's binary_logloss: 0.294567\n",
      "[250]\ttraining's auc: 0.883329\ttraining's binary_logloss: 0.270481\tvalid_1's auc: 0.854343\tvalid_1's binary_logloss: 0.29419\n",
      "[300]\ttraining's auc: 0.888206\ttraining's binary_logloss: 0.266472\tvalid_1's auc: 0.854575\tvalid_1's binary_logloss: 0.293962\n",
      "Early stopping, best iteration is:\n",
      "[291]\ttraining's auc: 0.887341\ttraining's binary_logloss: 0.26719\tvalid_1's auc: 0.854626\tvalid_1's binary_logloss: 0.293979\n",
      "********** 1 **********\n",
      "Training until validation scores don't improve for 10 rounds\n",
      "[50]\ttraining's auc: 0.85188\ttraining's binary_logloss: 0.296715\tvalid_1's auc: 0.843726\tvalid_1's binary_logloss: 0.302791\n",
      "[100]\ttraining's auc: 0.864303\ttraining's binary_logloss: 0.285943\tvalid_1's auc: 0.850754\tvalid_1's binary_logloss: 0.296618\n",
      "[150]\ttraining's auc: 0.87191\ttraining's binary_logloss: 0.279686\tvalid_1's auc: 0.853029\tvalid_1's binary_logloss: 0.294701\n",
      "[200]\ttraining's auc: 0.878034\ttraining's binary_logloss: 0.274709\tvalid_1's auc: 0.853916\tvalid_1's binary_logloss: 0.293903\n",
      "Early stopping, best iteration is:\n",
      "[218]\ttraining's auc: 0.880028\ttraining's binary_logloss: 0.273107\tvalid_1's auc: 0.854003\tvalid_1's binary_logloss: 0.293798\n",
      "********** 2 **********\n",
      "Training until validation scores don't improve for 10 rounds\n",
      "[50]\ttraining's auc: 0.851609\ttraining's binary_logloss: 0.297317\tvalid_1's auc: 0.846113\tvalid_1's binary_logloss: 0.300579\n",
      "[100]\ttraining's auc: 0.864051\ttraining's binary_logloss: 0.286386\tvalid_1's auc: 0.852792\tvalid_1's binary_logloss: 0.294305\n",
      "[150]\ttraining's auc: 0.871849\ttraining's binary_logloss: 0.280054\tvalid_1's auc: 0.854793\tvalid_1's binary_logloss: 0.292497\n",
      "[200]\ttraining's auc: 0.878\ttraining's binary_logloss: 0.275105\tvalid_1's auc: 0.855531\tvalid_1's binary_logloss: 0.291767\n",
      "Early stopping, best iteration is:\n",
      "[234]\ttraining's auc: 0.881512\ttraining's binary_logloss: 0.272165\tvalid_1's auc: 0.855869\tvalid_1's binary_logloss: 0.291419\n",
      "********** 3 **********\n",
      "Training until validation scores don't improve for 10 rounds\n",
      "[50]\ttraining's auc: 0.851946\ttraining's binary_logloss: 0.29708\tvalid_1's auc: 0.845162\tvalid_1's binary_logloss: 0.30125\n",
      "[100]\ttraining's auc: 0.864406\ttraining's binary_logloss: 0.286277\tvalid_1's auc: 0.852086\tvalid_1's binary_logloss: 0.294758\n",
      "[150]\ttraining's auc: 0.872021\ttraining's binary_logloss: 0.280029\tvalid_1's auc: 0.854247\tvalid_1's binary_logloss: 0.292731\n",
      "[200]\ttraining's auc: 0.878131\ttraining's binary_logloss: 0.275072\tvalid_1's auc: 0.854993\tvalid_1's binary_logloss: 0.291915\n",
      "Early stopping, best iteration is:\n",
      "[230]\ttraining's auc: 0.881439\ttraining's binary_logloss: 0.272379\tvalid_1's auc: 0.855171\tvalid_1's binary_logloss: 0.291722\n",
      "********** 4 **********\n",
      "Training until validation scores don't improve for 10 rounds\n",
      "[50]\ttraining's auc: 0.853666\ttraining's binary_logloss: 0.296406\tvalid_1's auc: 0.837235\tvalid_1's binary_logloss: 0.304367\n",
      "[100]\ttraining's auc: 0.866253\ttraining's binary_logloss: 0.28526\tvalid_1's auc: 0.843407\tvalid_1's binary_logloss: 0.298783\n",
      "[150]\ttraining's auc: 0.874124\ttraining's binary_logloss: 0.278778\tvalid_1's auc: 0.845083\tvalid_1's binary_logloss: 0.2973\n",
      "[200]\ttraining's auc: 0.880277\ttraining's binary_logloss: 0.273726\tvalid_1's auc: 0.845893\tvalid_1's binary_logloss: 0.296643\n",
      "Early stopping, best iteration is:\n",
      "[211]\ttraining's auc: 0.881592\ttraining's binary_logloss: 0.272667\tvalid_1's auc: 0.846003\tvalid_1's binary_logloss: 0.296544\n",
      "*********************\n",
      "roc auc estimado:  0.8531673615384443\n",
      "roc auc varianza:  0.0008830423764452819\n"
     ]
    }
   ],
   "source": [
    "[test_probs,fi] = cross_validation_lightgbm(train[keep_columns], y_train, test[keep_columns])"
   ]
  },
  {
   "cell_type": "code",
   "execution_count": 77,
   "id": "sufficient-earth",
   "metadata": {
    "scrolled": true
   },
   "outputs": [
    {
     "name": "stdout",
     "output_type": "stream",
     "text": [
      "total de variables : 356\n",
      "variables con importancia acumulada al 99% : 349\n",
      "variables con zero importancia : 0\n"
     ]
    }
   ],
   "source": [
    "keep_columns, zero_importance = get_feature_selection(fi)"
   ]
  },
  {
   "cell_type": "code",
   "execution_count": 78,
   "id": "educational-danish",
   "metadata": {},
   "outputs": [],
   "source": [
    "keep_columns_v47 = keep_columns"
   ]
  },
  {
   "cell_type": "code",
   "execution_count": 79,
   "id": "intended-disney",
   "metadata": {
    "scrolled": true
   },
   "outputs": [
    {
     "name": "stdout",
     "output_type": "stream",
     "text": [
      "********** 0 **********\n",
      "Training until validation scores don't improve for 10 rounds\n",
      "[50]\ttraining's auc: 0.851663\ttraining's binary_logloss: 0.296874\tvalid_1's auc: 0.843589\tvalid_1's binary_logloss: 0.303179\n",
      "[100]\ttraining's auc: 0.86414\ttraining's binary_logloss: 0.286005\tvalid_1's auc: 0.851046\tvalid_1's binary_logloss: 0.296987\n",
      "[150]\ttraining's auc: 0.871855\ttraining's binary_logloss: 0.279737\tvalid_1's auc: 0.853118\tvalid_1's binary_logloss: 0.295259\n",
      "[200]\ttraining's auc: 0.878082\ttraining's binary_logloss: 0.274714\tvalid_1's auc: 0.854069\tvalid_1's binary_logloss: 0.294354\n",
      "[250]\ttraining's auc: 0.883311\ttraining's binary_logloss: 0.270432\tvalid_1's auc: 0.85456\tvalid_1's binary_logloss: 0.293943\n",
      "Early stopping, best iteration is:\n",
      "[263]\ttraining's auc: 0.884555\ttraining's binary_logloss: 0.269379\tvalid_1's auc: 0.854676\tvalid_1's binary_logloss: 0.293832\n",
      "********** 1 **********\n",
      "Training until validation scores don't improve for 10 rounds\n",
      "[50]\ttraining's auc: 0.851421\ttraining's binary_logloss: 0.296872\tvalid_1's auc: 0.84304\tvalid_1's binary_logloss: 0.303195\n",
      "[100]\ttraining's auc: 0.864094\ttraining's binary_logloss: 0.286031\tvalid_1's auc: 0.850185\tvalid_1's binary_logloss: 0.296953\n",
      "[150]\ttraining's auc: 0.871946\ttraining's binary_logloss: 0.279632\tvalid_1's auc: 0.852493\tvalid_1's binary_logloss: 0.295063\n",
      "[200]\ttraining's auc: 0.877877\ttraining's binary_logloss: 0.274761\tvalid_1's auc: 0.853501\tvalid_1's binary_logloss: 0.294216\n",
      "[250]\ttraining's auc: 0.883428\ttraining's binary_logloss: 0.270336\tvalid_1's auc: 0.853977\tvalid_1's binary_logloss: 0.293798\n",
      "Early stopping, best iteration is:\n",
      "[246]\ttraining's auc: 0.883005\ttraining's binary_logloss: 0.270688\tvalid_1's auc: 0.853968\tvalid_1's binary_logloss: 0.293795\n",
      "********** 2 **********\n",
      "Training until validation scores don't improve for 10 rounds\n",
      "[50]\ttraining's auc: 0.851409\ttraining's binary_logloss: 0.297537\tvalid_1's auc: 0.846137\tvalid_1's binary_logloss: 0.300819\n",
      "[100]\ttraining's auc: 0.864016\ttraining's binary_logloss: 0.286564\tvalid_1's auc: 0.85262\tvalid_1's binary_logloss: 0.29467\n",
      "[150]\ttraining's auc: 0.871655\ttraining's binary_logloss: 0.280254\tvalid_1's auc: 0.854716\tvalid_1's binary_logloss: 0.292764\n",
      "[200]\ttraining's auc: 0.877852\ttraining's binary_logloss: 0.27526\tvalid_1's auc: 0.855348\tvalid_1's binary_logloss: 0.292184\n",
      "Early stopping, best iteration is:\n",
      "[190]\ttraining's auc: 0.876751\ttraining's binary_logloss: 0.276202\tvalid_1's auc: 0.8554\tvalid_1's binary_logloss: 0.292213\n",
      "********** 3 **********\n",
      "Training until validation scores don't improve for 10 rounds\n",
      "[50]\ttraining's auc: 0.851663\ttraining's binary_logloss: 0.297121\tvalid_1's auc: 0.84458\tvalid_1's binary_logloss: 0.301571\n",
      "[100]\ttraining's auc: 0.864335\ttraining's binary_logloss: 0.286343\tvalid_1's auc: 0.851329\tvalid_1's binary_logloss: 0.295418\n",
      "[150]\ttraining's auc: 0.87208\ttraining's binary_logloss: 0.279987\tvalid_1's auc: 0.853505\tvalid_1's binary_logloss: 0.293368\n",
      "[200]\ttraining's auc: 0.878362\ttraining's binary_logloss: 0.274993\tvalid_1's auc: 0.854249\tvalid_1's binary_logloss: 0.292683\n",
      "Early stopping, best iteration is:\n",
      "[204]\ttraining's auc: 0.878828\ttraining's binary_logloss: 0.274627\tvalid_1's auc: 0.8543\tvalid_1's binary_logloss: 0.292621\n",
      "********** 4 **********\n",
      "Training until validation scores don't improve for 10 rounds\n",
      "[50]\ttraining's auc: 0.853662\ttraining's binary_logloss: 0.296368\tvalid_1's auc: 0.837243\tvalid_1's binary_logloss: 0.304305\n",
      "[100]\ttraining's auc: 0.86627\ttraining's binary_logloss: 0.285327\tvalid_1's auc: 0.843361\tvalid_1's binary_logloss: 0.298847\n",
      "[150]\ttraining's auc: 0.874066\ttraining's binary_logloss: 0.278844\tvalid_1's auc: 0.845262\tvalid_1's binary_logloss: 0.297207\n",
      "[200]\ttraining's auc: 0.880163\ttraining's binary_logloss: 0.273747\tvalid_1's auc: 0.84603\tvalid_1's binary_logloss: 0.296479\n",
      "[250]\ttraining's auc: 0.885547\ttraining's binary_logloss: 0.269315\tvalid_1's auc: 0.846325\tvalid_1's binary_logloss: 0.296209\n",
      "Early stopping, best iteration is:\n",
      "[241]\ttraining's auc: 0.884627\ttraining's binary_logloss: 0.270078\tvalid_1's auc: 0.84639\tvalid_1's binary_logloss: 0.296177\n",
      "*********************\n",
      "roc auc estimado:  0.8529787943900043\n",
      "roc auc varianza:  0.0008067891514408507\n"
     ]
    }
   ],
   "source": [
    "[test_probs,fi] = cross_validation_lightgbm(train[keep_columns], y_train, test[keep_columns])"
   ]
  },
  {
   "cell_type": "code",
   "execution_count": 80,
   "id": "thorough-jurisdiction",
   "metadata": {
    "scrolled": true
   },
   "outputs": [
    {
     "name": "stdout",
     "output_type": "stream",
     "text": [
      "total de variables : 349\n",
      "variables con importancia acumulada al 99% : 342\n",
      "variables con zero importancia : 0\n"
     ]
    }
   ],
   "source": [
    "keep_columns, zero_importance = get_feature_selection(fi)"
   ]
  },
  {
   "cell_type": "code",
   "execution_count": 81,
   "id": "numerical-direction",
   "metadata": {},
   "outputs": [],
   "source": [
    "keep_columns_v48 = keep_columns"
   ]
  },
  {
   "cell_type": "code",
   "execution_count": 82,
   "id": "balanced-determination",
   "metadata": {
    "scrolled": true
   },
   "outputs": [
    {
     "name": "stdout",
     "output_type": "stream",
     "text": [
      "********** 0 **********\n",
      "Training until validation scores don't improve for 10 rounds\n",
      "[50]\ttraining's auc: 0.85185\ttraining's binary_logloss: 0.296772\tvalid_1's auc: 0.843546\tvalid_1's binary_logloss: 0.303043\n",
      "[100]\ttraining's auc: 0.864071\ttraining's binary_logloss: 0.286117\tvalid_1's auc: 0.85054\tvalid_1's binary_logloss: 0.297163\n",
      "[150]\ttraining's auc: 0.871729\ttraining's binary_logloss: 0.279875\tvalid_1's auc: 0.852542\tvalid_1's binary_logloss: 0.295449\n",
      "[200]\ttraining's auc: 0.87782\ttraining's binary_logloss: 0.27498\tvalid_1's auc: 0.853555\tvalid_1's binary_logloss: 0.294577\n",
      "[250]\ttraining's auc: 0.883166\ttraining's binary_logloss: 0.270558\tvalid_1's auc: 0.854058\tvalid_1's binary_logloss: 0.294174\n",
      "Early stopping, best iteration is:\n",
      "[266]\ttraining's auc: 0.884745\ttraining's binary_logloss: 0.26928\tvalid_1's auc: 0.854235\tvalid_1's binary_logloss: 0.294047\n",
      "********** 1 **********\n",
      "Training until validation scores don't improve for 10 rounds\n",
      "[50]\ttraining's auc: 0.851763\ttraining's binary_logloss: 0.296789\tvalid_1's auc: 0.843423\tvalid_1's binary_logloss: 0.303001\n",
      "[100]\ttraining's auc: 0.864368\ttraining's binary_logloss: 0.285919\tvalid_1's auc: 0.850651\tvalid_1's binary_logloss: 0.296743\n",
      "[150]\ttraining's auc: 0.871862\ttraining's binary_logloss: 0.279651\tvalid_1's auc: 0.852833\tvalid_1's binary_logloss: 0.29478\n",
      "[200]\ttraining's auc: 0.877917\ttraining's binary_logloss: 0.274726\tvalid_1's auc: 0.853696\tvalid_1's binary_logloss: 0.293988\n",
      "[250]\ttraining's auc: 0.883359\ttraining's binary_logloss: 0.270331\tvalid_1's auc: 0.854361\tvalid_1's binary_logloss: 0.293597\n",
      "Early stopping, best iteration is:\n",
      "[262]\ttraining's auc: 0.884622\ttraining's binary_logloss: 0.269314\tvalid_1's auc: 0.854438\tvalid_1's binary_logloss: 0.293535\n",
      "********** 2 **********\n",
      "Training until validation scores don't improve for 10 rounds\n",
      "[50]\ttraining's auc: 0.851512\ttraining's binary_logloss: 0.297427\tvalid_1's auc: 0.846399\tvalid_1's binary_logloss: 0.300476\n",
      "[100]\ttraining's auc: 0.864031\ttraining's binary_logloss: 0.286591\tvalid_1's auc: 0.852842\tvalid_1's binary_logloss: 0.294423\n",
      "[150]\ttraining's auc: 0.871778\ttraining's binary_logloss: 0.280158\tvalid_1's auc: 0.854982\tvalid_1's binary_logloss: 0.292509\n",
      "[200]\ttraining's auc: 0.877855\ttraining's binary_logloss: 0.275205\tvalid_1's auc: 0.855601\tvalid_1's binary_logloss: 0.291855\n",
      "[250]\ttraining's auc: 0.883266\ttraining's binary_logloss: 0.270774\tvalid_1's auc: 0.856055\tvalid_1's binary_logloss: 0.291433\n",
      "Early stopping, best iteration is:\n",
      "[250]\ttraining's auc: 0.883266\ttraining's binary_logloss: 0.270774\tvalid_1's auc: 0.856055\tvalid_1's binary_logloss: 0.291433\n",
      "********** 3 **********\n",
      "Training until validation scores don't improve for 10 rounds\n",
      "[50]\ttraining's auc: 0.851512\ttraining's binary_logloss: 0.297242\tvalid_1's auc: 0.845069\tvalid_1's binary_logloss: 0.30129\n",
      "[100]\ttraining's auc: 0.864269\ttraining's binary_logloss: 0.286472\tvalid_1's auc: 0.851962\tvalid_1's binary_logloss: 0.294885\n",
      "[150]\ttraining's auc: 0.871965\ttraining's binary_logloss: 0.280109\tvalid_1's auc: 0.853853\tvalid_1's binary_logloss: 0.292951\n",
      "[200]\ttraining's auc: 0.87795\ttraining's binary_logloss: 0.275205\tvalid_1's auc: 0.854685\tvalid_1's binary_logloss: 0.29212\n",
      "[250]\ttraining's auc: 0.883467\ttraining's binary_logloss: 0.270783\tvalid_1's auc: 0.85516\tvalid_1's binary_logloss: 0.291688\n",
      "Early stopping, best iteration is:\n",
      "[268]\ttraining's auc: 0.885306\ttraining's binary_logloss: 0.269299\tvalid_1's auc: 0.855246\tvalid_1's binary_logloss: 0.291603\n",
      "********** 4 **********\n",
      "Training until validation scores don't improve for 10 rounds\n",
      "[50]\ttraining's auc: 0.853675\ttraining's binary_logloss: 0.296342\tvalid_1's auc: 0.836987\tvalid_1's binary_logloss: 0.30436\n",
      "[100]\ttraining's auc: 0.866186\ttraining's binary_logloss: 0.285331\tvalid_1's auc: 0.84264\tvalid_1's binary_logloss: 0.299006\n",
      "[150]\ttraining's auc: 0.873769\ttraining's binary_logloss: 0.278952\tvalid_1's auc: 0.844739\tvalid_1's binary_logloss: 0.297243\n",
      "[200]\ttraining's auc: 0.879943\ttraining's binary_logloss: 0.273883\tvalid_1's auc: 0.84559\tvalid_1's binary_logloss: 0.296536\n",
      "Early stopping, best iteration is:\n",
      "[227]\ttraining's auc: 0.882899\ttraining's binary_logloss: 0.271452\tvalid_1's auc: 0.845889\tvalid_1's binary_logloss: 0.296306\n",
      "*********************\n",
      "roc auc estimado:  0.8532155326207489\n",
      "roc auc varianza:  0.0009028443990097932\n"
     ]
    }
   ],
   "source": [
    "[test_probs,fi] = cross_validation_lightgbm(train[keep_columns], y_train, test[keep_columns])"
   ]
  },
  {
   "cell_type": "code",
   "execution_count": 83,
   "id": "senior-magic",
   "metadata": {
    "scrolled": true
   },
   "outputs": [
    {
     "name": "stdout",
     "output_type": "stream",
     "text": [
      "total de variables : 342\n",
      "variables con importancia acumulada al 99% : 335\n",
      "variables con zero importancia : 0\n"
     ]
    }
   ],
   "source": [
    "keep_columns, zero_importance = get_feature_selection(fi)"
   ]
  },
  {
   "cell_type": "code",
   "execution_count": 84,
   "id": "portuguese-source",
   "metadata": {},
   "outputs": [],
   "source": [
    "keep_columns_v49 = keep_columns"
   ]
  },
  {
   "cell_type": "code",
   "execution_count": 85,
   "id": "seventh-design",
   "metadata": {
    "scrolled": true
   },
   "outputs": [
    {
     "name": "stdout",
     "output_type": "stream",
     "text": [
      "********** 0 **********\n",
      "Training until validation scores don't improve for 10 rounds\n",
      "[50]\ttraining's auc: 0.85149\ttraining's binary_logloss: 0.296946\tvalid_1's auc: 0.843349\tvalid_1's binary_logloss: 0.303196\n",
      "[100]\ttraining's auc: 0.863845\ttraining's binary_logloss: 0.286294\tvalid_1's auc: 0.850732\tvalid_1's binary_logloss: 0.297104\n",
      "[150]\ttraining's auc: 0.871388\ttraining's binary_logloss: 0.280058\tvalid_1's auc: 0.852805\tvalid_1's binary_logloss: 0.295306\n",
      "[200]\ttraining's auc: 0.877529\ttraining's binary_logloss: 0.275098\tvalid_1's auc: 0.853701\tvalid_1's binary_logloss: 0.294526\n",
      "Early stopping, best iteration is:\n",
      "[228]\ttraining's auc: 0.880568\ttraining's binary_logloss: 0.272597\tvalid_1's auc: 0.854\tvalid_1's binary_logloss: 0.294251\n",
      "********** 1 **********\n",
      "Training until validation scores don't improve for 10 rounds\n",
      "[50]\ttraining's auc: 0.851685\ttraining's binary_logloss: 0.296829\tvalid_1's auc: 0.8435\tvalid_1's binary_logloss: 0.303055\n",
      "[100]\ttraining's auc: 0.864284\ttraining's binary_logloss: 0.285965\tvalid_1's auc: 0.850351\tvalid_1's binary_logloss: 0.29685\n",
      "[150]\ttraining's auc: 0.871939\ttraining's binary_logloss: 0.279649\tvalid_1's auc: 0.85272\tvalid_1's binary_logloss: 0.294826\n",
      "[200]\ttraining's auc: 0.877936\ttraining's binary_logloss: 0.274779\tvalid_1's auc: 0.853801\tvalid_1's binary_logloss: 0.293929\n",
      "[250]\ttraining's auc: 0.883358\ttraining's binary_logloss: 0.270399\tvalid_1's auc: 0.854239\tvalid_1's binary_logloss: 0.293618\n",
      "Early stopping, best iteration is:\n",
      "[264]\ttraining's auc: 0.884679\ttraining's binary_logloss: 0.269284\tvalid_1's auc: 0.854383\tvalid_1's binary_logloss: 0.293546\n",
      "********** 2 **********\n",
      "Training until validation scores don't improve for 10 rounds\n",
      "[50]\ttraining's auc: 0.851574\ttraining's binary_logloss: 0.297309\tvalid_1's auc: 0.846434\tvalid_1's binary_logloss: 0.300498\n",
      "[100]\ttraining's auc: 0.863969\ttraining's binary_logloss: 0.286489\tvalid_1's auc: 0.853025\tvalid_1's binary_logloss: 0.294248\n",
      "[150]\ttraining's auc: 0.871537\ttraining's binary_logloss: 0.280212\tvalid_1's auc: 0.854882\tvalid_1's binary_logloss: 0.292391\n",
      "[200]\ttraining's auc: 0.877609\ttraining's binary_logloss: 0.275217\tvalid_1's auc: 0.855738\tvalid_1's binary_logloss: 0.291597\n",
      "Early stopping, best iteration is:\n",
      "[216]\ttraining's auc: 0.879453\ttraining's binary_logloss: 0.273767\tvalid_1's auc: 0.855866\tvalid_1's binary_logloss: 0.291502\n",
      "********** 3 **********\n",
      "Training until validation scores don't improve for 10 rounds\n",
      "[50]\ttraining's auc: 0.851698\ttraining's binary_logloss: 0.297221\tvalid_1's auc: 0.845073\tvalid_1's binary_logloss: 0.301413\n",
      "[100]\ttraining's auc: 0.864321\ttraining's binary_logloss: 0.286444\tvalid_1's auc: 0.851918\tvalid_1's binary_logloss: 0.295112\n",
      "[150]\ttraining's auc: 0.871935\ttraining's binary_logloss: 0.280123\tvalid_1's auc: 0.853909\tvalid_1's binary_logloss: 0.293143\n",
      "[200]\ttraining's auc: 0.877924\ttraining's binary_logloss: 0.275256\tvalid_1's auc: 0.854648\tvalid_1's binary_logloss: 0.292341\n",
      "Early stopping, best iteration is:\n",
      "[199]\ttraining's auc: 0.877776\ttraining's binary_logloss: 0.275353\tvalid_1's auc: 0.854653\tvalid_1's binary_logloss: 0.292345\n",
      "********** 4 **********\n",
      "Training until validation scores don't improve for 10 rounds\n",
      "[50]\ttraining's auc: 0.853602\ttraining's binary_logloss: 0.296412\tvalid_1's auc: 0.836867\tvalid_1's binary_logloss: 0.304437\n",
      "[100]\ttraining's auc: 0.866221\ttraining's binary_logloss: 0.28529\tvalid_1's auc: 0.842934\tvalid_1's binary_logloss: 0.298952\n",
      "[150]\ttraining's auc: 0.87414\ttraining's binary_logloss: 0.278899\tvalid_1's auc: 0.844918\tvalid_1's binary_logloss: 0.297384\n",
      "Early stopping, best iteration is:\n",
      "[189]\ttraining's auc: 0.878893\ttraining's binary_logloss: 0.274949\tvalid_1's auc: 0.845656\tvalid_1's binary_logloss: 0.296804\n",
      "*********************\n",
      "roc auc estimado:  0.8529479768736477\n",
      "roc auc varianza:  0.0008974932663236442\n"
     ]
    }
   ],
   "source": [
    "[test_probs,fi] = cross_validation_lightgbm(train[keep_columns], y_train, test[keep_columns])"
   ]
  },
  {
   "cell_type": "code",
   "execution_count": 86,
   "id": "impressive-technical",
   "metadata": {
    "scrolled": true
   },
   "outputs": [
    {
     "name": "stdout",
     "output_type": "stream",
     "text": [
      "total de variables : 335\n",
      "variables con importancia acumulada al 99% : 328\n",
      "variables con zero importancia : 0\n"
     ]
    }
   ],
   "source": [
    "keep_columns, zero_importance = get_feature_selection(fi)"
   ]
  },
  {
   "cell_type": "code",
   "execution_count": 88,
   "id": "known-reflection",
   "metadata": {},
   "outputs": [],
   "source": [
    "keep_columns_v50 = keep_columns"
   ]
  },
  {
   "cell_type": "code",
   "execution_count": 87,
   "id": "authorized-maria",
   "metadata": {
    "scrolled": true
   },
   "outputs": [
    {
     "name": "stdout",
     "output_type": "stream",
     "text": [
      "********** 0 **********\n",
      "Training until validation scores don't improve for 10 rounds\n",
      "[50]\ttraining's auc: 0.851528\ttraining's binary_logloss: 0.296935\tvalid_1's auc: 0.842916\tvalid_1's binary_logloss: 0.303549\n",
      "[100]\ttraining's auc: 0.863998\ttraining's binary_logloss: 0.286102\tvalid_1's auc: 0.850036\tvalid_1's binary_logloss: 0.297601\n",
      "[150]\ttraining's auc: 0.871577\ttraining's binary_logloss: 0.279946\tvalid_1's auc: 0.852495\tvalid_1's binary_logloss: 0.295632\n",
      "[200]\ttraining's auc: 0.87781\ttraining's binary_logloss: 0.27495\tvalid_1's auc: 0.853364\tvalid_1's binary_logloss: 0.294892\n",
      "[250]\ttraining's auc: 0.883286\ttraining's binary_logloss: 0.270545\tvalid_1's auc: 0.853743\tvalid_1's binary_logloss: 0.29457\n",
      "Early stopping, best iteration is:\n",
      "[249]\ttraining's auc: 0.883185\ttraining's binary_logloss: 0.270622\tvalid_1's auc: 0.853769\tvalid_1's binary_logloss: 0.294549\n",
      "********** 1 **********\n",
      "Training until validation scores don't improve for 10 rounds\n",
      "[50]\ttraining's auc: 0.851661\ttraining's binary_logloss: 0.296825\tvalid_1's auc: 0.843079\tvalid_1's binary_logloss: 0.303132\n",
      "[100]\ttraining's auc: 0.864055\ttraining's binary_logloss: 0.286086\tvalid_1's auc: 0.850191\tvalid_1's binary_logloss: 0.296938\n",
      "[150]\ttraining's auc: 0.871696\ttraining's binary_logloss: 0.279854\tvalid_1's auc: 0.852442\tvalid_1's binary_logloss: 0.295069\n",
      "[200]\ttraining's auc: 0.877776\ttraining's binary_logloss: 0.274987\tvalid_1's auc: 0.853303\tvalid_1's binary_logloss: 0.29438\n",
      "Early stopping, best iteration is:\n",
      "[212]\ttraining's auc: 0.879158\ttraining's binary_logloss: 0.273907\tvalid_1's auc: 0.853512\tvalid_1's binary_logloss: 0.294252\n",
      "********** 2 **********\n",
      "Training until validation scores don't improve for 10 rounds\n",
      "[50]\ttraining's auc: 0.851593\ttraining's binary_logloss: 0.29741\tvalid_1's auc: 0.84629\tvalid_1's binary_logloss: 0.300622\n",
      "[100]\ttraining's auc: 0.864039\ttraining's binary_logloss: 0.286547\tvalid_1's auc: 0.852607\tvalid_1's binary_logloss: 0.294604\n",
      "[150]\ttraining's auc: 0.87161\ttraining's binary_logloss: 0.280349\tvalid_1's auc: 0.854645\tvalid_1's binary_logloss: 0.292842\n",
      "[200]\ttraining's auc: 0.877809\ttraining's binary_logloss: 0.275368\tvalid_1's auc: 0.855275\tvalid_1's binary_logloss: 0.29224\n",
      "[250]\ttraining's auc: 0.883252\ttraining's binary_logloss: 0.271059\tvalid_1's auc: 0.855567\tvalid_1's binary_logloss: 0.291992\n",
      "[300]\ttraining's auc: 0.888409\ttraining's binary_logloss: 0.266916\tvalid_1's auc: 0.855837\tvalid_1's binary_logloss: 0.291767\n",
      "Early stopping, best iteration is:\n",
      "[323]\ttraining's auc: 0.890562\ttraining's binary_logloss: 0.265164\tvalid_1's auc: 0.856015\tvalid_1's binary_logloss: 0.291627\n",
      "********** 3 **********\n",
      "Training until validation scores don't improve for 10 rounds\n",
      "[50]\ttraining's auc: 0.851434\ttraining's binary_logloss: 0.297283\tvalid_1's auc: 0.844252\tvalid_1's binary_logloss: 0.301772\n",
      "[100]\ttraining's auc: 0.864015\ttraining's binary_logloss: 0.286569\tvalid_1's auc: 0.851055\tvalid_1's binary_logloss: 0.295415\n",
      "[150]\ttraining's auc: 0.871859\ttraining's binary_logloss: 0.280257\tvalid_1's auc: 0.853159\tvalid_1's binary_logloss: 0.29362\n",
      "[200]\ttraining's auc: 0.877768\ttraining's binary_logloss: 0.275381\tvalid_1's auc: 0.853893\tvalid_1's binary_logloss: 0.292826\n",
      "Early stopping, best iteration is:\n",
      "[237]\ttraining's auc: 0.88201\ttraining's binary_logloss: 0.272082\tvalid_1's auc: 0.854148\tvalid_1's binary_logloss: 0.292547\n",
      "********** 4 **********\n",
      "Training until validation scores don't improve for 10 rounds\n",
      "[50]\ttraining's auc: 0.853507\ttraining's binary_logloss: 0.296474\tvalid_1's auc: 0.836634\tvalid_1's binary_logloss: 0.304727\n",
      "[100]\ttraining's auc: 0.866077\ttraining's binary_logloss: 0.28544\tvalid_1's auc: 0.842682\tvalid_1's binary_logloss: 0.299252\n",
      "[150]\ttraining's auc: 0.873838\ttraining's binary_logloss: 0.279088\tvalid_1's auc: 0.844629\tvalid_1's binary_logloss: 0.297673\n",
      "[200]\ttraining's auc: 0.879899\ttraining's binary_logloss: 0.274138\tvalid_1's auc: 0.845375\tvalid_1's binary_logloss: 0.297068\n",
      "[250]\ttraining's auc: 0.885233\ttraining's binary_logloss: 0.269721\tvalid_1's auc: 0.845811\tvalid_1's binary_logloss: 0.296784\n",
      "Early stopping, best iteration is:\n",
      "[283]\ttraining's auc: 0.888503\ttraining's binary_logloss: 0.26701\tvalid_1's auc: 0.845983\tvalid_1's binary_logloss: 0.296613\n",
      "*********************\n",
      "roc auc estimado:  0.8527207386224596\n",
      "roc auc varianza:  0.000848483539203204\n"
     ]
    }
   ],
   "source": [
    "[test_probs,fi] = cross_validation_lightgbm(train[keep_columns], y_train, test[keep_columns])"
   ]
  },
  {
   "cell_type": "code",
   "execution_count": 89,
   "id": "wrong-spring",
   "metadata": {
    "scrolled": true
   },
   "outputs": [
    {
     "name": "stdout",
     "output_type": "stream",
     "text": [
      "total de variables : 328\n",
      "variables con importancia acumulada al 99% : 321\n",
      "variables con zero importancia : 0\n"
     ]
    }
   ],
   "source": [
    "keep_columns, zero_importance = get_feature_selection(fi)"
   ]
  },
  {
   "cell_type": "code",
   "execution_count": 91,
   "id": "shared-aviation",
   "metadata": {},
   "outputs": [],
   "source": [
    "keep_columns_v51 = keep_columns"
   ]
  },
  {
   "cell_type": "code",
   "execution_count": 90,
   "id": "secondary-liverpool",
   "metadata": {
    "scrolled": true
   },
   "outputs": [
    {
     "name": "stdout",
     "output_type": "stream",
     "text": [
      "********** 0 **********\n",
      "Training until validation scores don't improve for 10 rounds\n",
      "[50]\ttraining's auc: 0.851706\ttraining's binary_logloss: 0.296777\tvalid_1's auc: 0.842972\tvalid_1's binary_logloss: 0.303483\n",
      "[100]\ttraining's auc: 0.864084\ttraining's binary_logloss: 0.286091\tvalid_1's auc: 0.850598\tvalid_1's binary_logloss: 0.2973\n",
      "[150]\ttraining's auc: 0.871564\ttraining's binary_logloss: 0.279897\tvalid_1's auc: 0.853184\tvalid_1's binary_logloss: 0.295278\n",
      "[200]\ttraining's auc: 0.877607\ttraining's binary_logloss: 0.275004\tvalid_1's auc: 0.854001\tvalid_1's binary_logloss: 0.294495\n",
      "Early stopping, best iteration is:\n",
      "[237]\ttraining's auc: 0.881587\ttraining's binary_logloss: 0.271829\tvalid_1's auc: 0.854244\tvalid_1's binary_logloss: 0.294229\n",
      "********** 1 **********\n",
      "Training until validation scores don't improve for 10 rounds\n",
      "[50]\ttraining's auc: 0.851533\ttraining's binary_logloss: 0.29688\tvalid_1's auc: 0.843212\tvalid_1's binary_logloss: 0.303049\n",
      "[100]\ttraining's auc: 0.864041\ttraining's binary_logloss: 0.286108\tvalid_1's auc: 0.85016\tvalid_1's binary_logloss: 0.297045\n",
      "[150]\ttraining's auc: 0.871545\ttraining's binary_logloss: 0.279918\tvalid_1's auc: 0.852305\tvalid_1's binary_logloss: 0.295223\n",
      "[200]\ttraining's auc: 0.877722\ttraining's binary_logloss: 0.275021\tvalid_1's auc: 0.853379\tvalid_1's binary_logloss: 0.294451\n",
      "Early stopping, best iteration is:\n",
      "[238]\ttraining's auc: 0.881822\ttraining's binary_logloss: 0.271753\tvalid_1's auc: 0.853842\tvalid_1's binary_logloss: 0.29406\n",
      "********** 2 **********\n",
      "Training until validation scores don't improve for 10 rounds\n",
      "[50]\ttraining's auc: 0.851464\ttraining's binary_logloss: 0.29737\tvalid_1's auc: 0.84583\tvalid_1's binary_logloss: 0.300605\n",
      "[100]\ttraining's auc: 0.863835\ttraining's binary_logloss: 0.286554\tvalid_1's auc: 0.852415\tvalid_1's binary_logloss: 0.294523\n",
      "[150]\ttraining's auc: 0.871493\ttraining's binary_logloss: 0.280316\tvalid_1's auc: 0.854554\tvalid_1's binary_logloss: 0.29271\n",
      "[200]\ttraining's auc: 0.877773\ttraining's binary_logloss: 0.275347\tvalid_1's auc: 0.855089\tvalid_1's binary_logloss: 0.292209\n",
      "[250]\ttraining's auc: 0.883147\ttraining's binary_logloss: 0.270996\tvalid_1's auc: 0.855485\tvalid_1's binary_logloss: 0.291905\n",
      "Early stopping, best iteration is:\n",
      "[268]\ttraining's auc: 0.885003\ttraining's binary_logloss: 0.269491\tvalid_1's auc: 0.855575\tvalid_1's binary_logloss: 0.29184\n",
      "********** 3 **********\n",
      "Training until validation scores don't improve for 10 rounds\n",
      "[50]\ttraining's auc: 0.851561\ttraining's binary_logloss: 0.297112\tvalid_1's auc: 0.845022\tvalid_1's binary_logloss: 0.301335\n",
      "[100]\ttraining's auc: 0.864112\ttraining's binary_logloss: 0.28635\tvalid_1's auc: 0.851703\tvalid_1's binary_logloss: 0.295038\n",
      "[150]\ttraining's auc: 0.87175\ttraining's binary_logloss: 0.280176\tvalid_1's auc: 0.853737\tvalid_1's binary_logloss: 0.29318\n",
      "[200]\ttraining's auc: 0.87788\ttraining's binary_logloss: 0.275272\tvalid_1's auc: 0.854484\tvalid_1's binary_logloss: 0.292434\n",
      "Early stopping, best iteration is:\n",
      "[238]\ttraining's auc: 0.881982\ttraining's binary_logloss: 0.271932\tvalid_1's auc: 0.854786\tvalid_1's binary_logloss: 0.292129\n",
      "********** 4 **********\n",
      "Training until validation scores don't improve for 10 rounds\n",
      "[50]\ttraining's auc: 0.853494\ttraining's binary_logloss: 0.296528\tvalid_1's auc: 0.837094\tvalid_1's binary_logloss: 0.3043\n",
      "[100]\ttraining's auc: 0.866106\ttraining's binary_logloss: 0.285498\tvalid_1's auc: 0.843201\tvalid_1's binary_logloss: 0.29876\n",
      "[150]\ttraining's auc: 0.87383\ttraining's binary_logloss: 0.279221\tvalid_1's auc: 0.84492\tvalid_1's binary_logloss: 0.297286\n",
      "[200]\ttraining's auc: 0.879874\ttraining's binary_logloss: 0.274194\tvalid_1's auc: 0.8457\tvalid_1's binary_logloss: 0.296675\n",
      "[250]\ttraining's auc: 0.88524\ttraining's binary_logloss: 0.269828\tvalid_1's auc: 0.846207\tvalid_1's binary_logloss: 0.296299\n",
      "Early stopping, best iteration is:\n",
      "[250]\ttraining's auc: 0.88524\ttraining's binary_logloss: 0.269828\tvalid_1's auc: 0.846207\tvalid_1's binary_logloss: 0.296299\n",
      "*********************\n",
      "roc auc estimado:  0.8529751679835089\n",
      "roc auc varianza:  0.0008318007199686117\n"
     ]
    }
   ],
   "source": [
    "[test_probs,fi] = cross_validation_lightgbm(train[keep_columns], y_train, test[keep_columns])"
   ]
  },
  {
   "cell_type": "code",
   "execution_count": 92,
   "id": "ecological-teens",
   "metadata": {
    "scrolled": true
   },
   "outputs": [
    {
     "name": "stdout",
     "output_type": "stream",
     "text": [
      "total de variables : 321\n",
      "variables con importancia acumulada al 99% : 315\n",
      "variables con zero importancia : 0\n"
     ]
    }
   ],
   "source": [
    "keep_columns, zero_importance = get_feature_selection(fi)"
   ]
  },
  {
   "cell_type": "code",
   "execution_count": 93,
   "id": "norman-black",
   "metadata": {},
   "outputs": [],
   "source": [
    "keep_columns_v52 = keep_columns"
   ]
  },
  {
   "cell_type": "code",
   "execution_count": 94,
   "id": "general-alberta",
   "metadata": {
    "scrolled": true
   },
   "outputs": [
    {
     "name": "stdout",
     "output_type": "stream",
     "text": [
      "********** 0 **********\n",
      "Training until validation scores don't improve for 10 rounds\n",
      "[50]\ttraining's auc: 0.851373\ttraining's binary_logloss: 0.296952\tvalid_1's auc: 0.843745\tvalid_1's binary_logloss: 0.303183\n",
      "[100]\ttraining's auc: 0.863703\ttraining's binary_logloss: 0.286261\tvalid_1's auc: 0.850617\tvalid_1's binary_logloss: 0.29727\n",
      "[150]\ttraining's auc: 0.87133\ttraining's binary_logloss: 0.280116\tvalid_1's auc: 0.85263\tvalid_1's binary_logloss: 0.295652\n",
      "[200]\ttraining's auc: 0.877351\ttraining's binary_logloss: 0.275288\tvalid_1's auc: 0.85359\tvalid_1's binary_logloss: 0.294945\n",
      "[250]\ttraining's auc: 0.882807\ttraining's binary_logloss: 0.270955\tvalid_1's auc: 0.854094\tvalid_1's binary_logloss: 0.294531\n",
      "Early stopping, best iteration is:\n",
      "[272]\ttraining's auc: 0.884995\ttraining's binary_logloss: 0.269168\tvalid_1's auc: 0.854289\tvalid_1's binary_logloss: 0.294395\n",
      "********** 1 **********\n",
      "Training until validation scores don't improve for 10 rounds\n",
      "[50]\ttraining's auc: 0.851504\ttraining's binary_logloss: 0.296919\tvalid_1's auc: 0.843585\tvalid_1's binary_logloss: 0.302959\n",
      "[100]\ttraining's auc: 0.863884\ttraining's binary_logloss: 0.286211\tvalid_1's auc: 0.850256\tvalid_1's binary_logloss: 0.29697\n",
      "[150]\ttraining's auc: 0.871689\ttraining's binary_logloss: 0.279987\tvalid_1's auc: 0.852488\tvalid_1's binary_logloss: 0.29521\n",
      "[200]\ttraining's auc: 0.877718\ttraining's binary_logloss: 0.275106\tvalid_1's auc: 0.853507\tvalid_1's binary_logloss: 0.294364\n",
      "Early stopping, best iteration is:\n",
      "[234]\ttraining's auc: 0.881413\ttraining's binary_logloss: 0.272141\tvalid_1's auc: 0.853869\tvalid_1's binary_logloss: 0.294096\n",
      "********** 2 **********\n",
      "Training until validation scores don't improve for 10 rounds\n",
      "[50]\ttraining's auc: 0.851139\ttraining's binary_logloss: 0.297592\tvalid_1's auc: 0.845976\tvalid_1's binary_logloss: 0.300636\n",
      "[100]\ttraining's auc: 0.86358\ttraining's binary_logloss: 0.286761\tvalid_1's auc: 0.852567\tvalid_1's binary_logloss: 0.294508\n",
      "[150]\ttraining's auc: 0.871257\ttraining's binary_logloss: 0.280537\tvalid_1's auc: 0.854712\tvalid_1's binary_logloss: 0.292639\n",
      "Early stopping, best iteration is:\n",
      "[182]\ttraining's auc: 0.875171\ttraining's binary_logloss: 0.277353\tvalid_1's auc: 0.855298\tvalid_1's binary_logloss: 0.292112\n",
      "********** 3 **********\n",
      "Training until validation scores don't improve for 10 rounds\n",
      "[50]\ttraining's auc: 0.851635\ttraining's binary_logloss: 0.297305\tvalid_1's auc: 0.844776\tvalid_1's binary_logloss: 0.301656\n",
      "[100]\ttraining's auc: 0.86417\ttraining's binary_logloss: 0.286591\tvalid_1's auc: 0.851683\tvalid_1's binary_logloss: 0.295228\n",
      "[150]\ttraining's auc: 0.871795\ttraining's binary_logloss: 0.280351\tvalid_1's auc: 0.853572\tvalid_1's binary_logloss: 0.293355\n",
      "[200]\ttraining's auc: 0.878013\ttraining's binary_logloss: 0.275392\tvalid_1's auc: 0.854403\tvalid_1's binary_logloss: 0.292559\n",
      "Early stopping, best iteration is:\n",
      "[220]\ttraining's auc: 0.880183\ttraining's binary_logloss: 0.273588\tvalid_1's auc: 0.854528\tvalid_1's binary_logloss: 0.292441\n",
      "********** 4 **********\n",
      "Training until validation scores don't improve for 10 rounds\n",
      "[50]\ttraining's auc: 0.853702\ttraining's binary_logloss: 0.296411\tvalid_1's auc: 0.836986\tvalid_1's binary_logloss: 0.304403\n",
      "[100]\ttraining's auc: 0.866157\ttraining's binary_logloss: 0.285454\tvalid_1's auc: 0.843052\tvalid_1's binary_logloss: 0.298896\n",
      "[150]\ttraining's auc: 0.873729\ttraining's binary_logloss: 0.279242\tvalid_1's auc: 0.844827\tvalid_1's binary_logloss: 0.297383\n",
      "Early stopping, best iteration is:\n",
      "[184]\ttraining's auc: 0.877875\ttraining's binary_logloss: 0.275842\tvalid_1's auc: 0.845475\tvalid_1's binary_logloss: 0.296885\n",
      "*********************\n",
      "roc auc estimado:  0.8527294344544174\n",
      "roc auc varianza:  0.0008855152813323997\n"
     ]
    }
   ],
   "source": [
    "[test_probs,fi] = cross_validation_lightgbm(train[keep_columns], y_train, test[keep_columns])"
   ]
  },
  {
   "cell_type": "code",
   "execution_count": 95,
   "id": "sublime-president",
   "metadata": {
    "scrolled": true
   },
   "outputs": [
    {
     "name": "stdout",
     "output_type": "stream",
     "text": [
      "total de variables : 315\n",
      "variables con importancia acumulada al 99% : 308\n",
      "variables con zero importancia : 0\n"
     ]
    }
   ],
   "source": [
    "keep_columns, zero_importance = get_feature_selection(fi)"
   ]
  },
  {
   "cell_type": "code",
   "execution_count": 96,
   "id": "aquatic-stranger",
   "metadata": {},
   "outputs": [],
   "source": [
    "keep_columns_v53 = keep_columns"
   ]
  },
  {
   "cell_type": "code",
   "execution_count": 97,
   "id": "serious-matthew",
   "metadata": {
    "scrolled": true
   },
   "outputs": [
    {
     "name": "stdout",
     "output_type": "stream",
     "text": [
      "********** 0 **********\n",
      "Training until validation scores don't improve for 10 rounds\n",
      "[50]\ttraining's auc: 0.851467\ttraining's binary_logloss: 0.297028\tvalid_1's auc: 0.843431\tvalid_1's binary_logloss: 0.303376\n",
      "[100]\ttraining's auc: 0.86375\ttraining's binary_logloss: 0.286322\tvalid_1's auc: 0.850711\tvalid_1's binary_logloss: 0.297298\n",
      "[150]\ttraining's auc: 0.8714\ttraining's binary_logloss: 0.280096\tvalid_1's auc: 0.852818\tvalid_1's binary_logloss: 0.295441\n",
      "[200]\ttraining's auc: 0.877539\ttraining's binary_logloss: 0.275203\tvalid_1's auc: 0.853316\tvalid_1's binary_logloss: 0.294929\n",
      "Early stopping, best iteration is:\n",
      "[217]\ttraining's auc: 0.879351\ttraining's binary_logloss: 0.273677\tvalid_1's auc: 0.853429\tvalid_1's binary_logloss: 0.294833\n",
      "********** 1 **********\n",
      "Training until validation scores don't improve for 10 rounds\n",
      "[50]\ttraining's auc: 0.851701\ttraining's binary_logloss: 0.29688\tvalid_1's auc: 0.843073\tvalid_1's binary_logloss: 0.303301\n",
      "[100]\ttraining's auc: 0.864059\ttraining's binary_logloss: 0.28614\tvalid_1's auc: 0.850282\tvalid_1's binary_logloss: 0.297111\n",
      "[150]\ttraining's auc: 0.871788\ttraining's binary_logloss: 0.279807\tvalid_1's auc: 0.852447\tvalid_1's binary_logloss: 0.295301\n",
      "[200]\ttraining's auc: 0.877849\ttraining's binary_logloss: 0.274917\tvalid_1's auc: 0.853306\tvalid_1's binary_logloss: 0.29458\n",
      "[250]\ttraining's auc: 0.883235\ttraining's binary_logloss: 0.270593\tvalid_1's auc: 0.853701\tvalid_1's binary_logloss: 0.29422\n",
      "Early stopping, best iteration is:\n",
      "[274]\ttraining's auc: 0.885643\ttraining's binary_logloss: 0.268626\tvalid_1's auc: 0.853921\tvalid_1's binary_logloss: 0.294065\n",
      "********** 2 **********\n",
      "Training until validation scores don't improve for 10 rounds\n",
      "[50]\ttraining's auc: 0.851504\ttraining's binary_logloss: 0.297331\tvalid_1's auc: 0.846473\tvalid_1's binary_logloss: 0.30049\n",
      "[100]\ttraining's auc: 0.863841\ttraining's binary_logloss: 0.286576\tvalid_1's auc: 0.852684\tvalid_1's binary_logloss: 0.294448\n",
      "[150]\ttraining's auc: 0.87146\ttraining's binary_logloss: 0.280316\tvalid_1's auc: 0.854717\tvalid_1's binary_logloss: 0.292618\n",
      "[200]\ttraining's auc: 0.877438\ttraining's binary_logloss: 0.275555\tvalid_1's auc: 0.855403\tvalid_1's binary_logloss: 0.292035\n",
      "Early stopping, best iteration is:\n",
      "[209]\ttraining's auc: 0.878468\ttraining's binary_logloss: 0.274707\tvalid_1's auc: 0.85552\tvalid_1's binary_logloss: 0.291958\n",
      "********** 3 **********\n",
      "Training until validation scores don't improve for 10 rounds\n",
      "[50]\ttraining's auc: 0.851546\ttraining's binary_logloss: 0.297303\tvalid_1's auc: 0.84496\tvalid_1's binary_logloss: 0.301578\n",
      "[100]\ttraining's auc: 0.86408\ttraining's binary_logloss: 0.286591\tvalid_1's auc: 0.851513\tvalid_1's binary_logloss: 0.295299\n",
      "[150]\ttraining's auc: 0.871905\ttraining's binary_logloss: 0.280381\tvalid_1's auc: 0.853481\tvalid_1's binary_logloss: 0.293502\n",
      "[200]\ttraining's auc: 0.87792\ttraining's binary_logloss: 0.275524\tvalid_1's auc: 0.854464\tvalid_1's binary_logloss: 0.292528\n",
      "[250]\ttraining's auc: 0.883241\ttraining's binary_logloss: 0.271157\tvalid_1's auc: 0.854832\tvalid_1's binary_logloss: 0.292079\n",
      "Early stopping, best iteration is:\n",
      "[268]\ttraining's auc: 0.885052\ttraining's binary_logloss: 0.2697\tvalid_1's auc: 0.854971\tvalid_1's binary_logloss: 0.291967\n",
      "********** 4 **********\n",
      "Training until validation scores don't improve for 10 rounds\n",
      "[50]\ttraining's auc: 0.853605\ttraining's binary_logloss: 0.296446\tvalid_1's auc: 0.837102\tvalid_1's binary_logloss: 0.304432\n",
      "[100]\ttraining's auc: 0.866235\ttraining's binary_logloss: 0.285435\tvalid_1's auc: 0.843302\tvalid_1's binary_logloss: 0.298913\n",
      "[150]\ttraining's auc: 0.873762\ttraining's binary_logloss: 0.27915\tvalid_1's auc: 0.845087\tvalid_1's binary_logloss: 0.297536\n",
      "Early stopping, best iteration is:\n",
      "[185]\ttraining's auc: 0.878048\ttraining's binary_logloss: 0.27563\tvalid_1's auc: 0.845636\tvalid_1's binary_logloss: 0.297061\n",
      "*********************\n",
      "roc auc estimado:  0.8527301810168206\n",
      "roc auc varianza:  0.0008841370912952045\n"
     ]
    }
   ],
   "source": [
    "[test_probs,fi] = cross_validation_lightgbm(train[keep_columns], y_train, test[keep_columns])"
   ]
  },
  {
   "cell_type": "code",
   "execution_count": 98,
   "id": "italic-juvenile",
   "metadata": {},
   "outputs": [
    {
     "name": "stdout",
     "output_type": "stream",
     "text": [
      "total de variables : 308\n",
      "variables con importancia acumulada al 99% : 302\n",
      "variables con zero importancia : 0\n"
     ]
    }
   ],
   "source": [
    "keep_columns, zero_importance = get_feature_selection(fi)"
   ]
  },
  {
   "cell_type": "code",
   "execution_count": 99,
   "id": "alike-integral",
   "metadata": {},
   "outputs": [],
   "source": [
    "keep_columns_v54 = keep_columns"
   ]
  },
  {
   "cell_type": "code",
   "execution_count": 100,
   "id": "fleet-samoa",
   "metadata": {
    "scrolled": true
   },
   "outputs": [
    {
     "name": "stdout",
     "output_type": "stream",
     "text": [
      "********** 0 **********\n",
      "Training until validation scores don't improve for 10 rounds\n",
      "[50]\ttraining's auc: 0.851437\ttraining's binary_logloss: 0.297094\tvalid_1's auc: 0.843122\tvalid_1's binary_logloss: 0.303533\n",
      "[100]\ttraining's auc: 0.863643\ttraining's binary_logloss: 0.286399\tvalid_1's auc: 0.850384\tvalid_1's binary_logloss: 0.297536\n",
      "[150]\ttraining's auc: 0.871476\ttraining's binary_logloss: 0.28014\tvalid_1's auc: 0.852443\tvalid_1's binary_logloss: 0.295921\n",
      "[200]\ttraining's auc: 0.877548\ttraining's binary_logloss: 0.275203\tvalid_1's auc: 0.853351\tvalid_1's binary_logloss: 0.295132\n",
      "[250]\ttraining's auc: 0.882956\ttraining's binary_logloss: 0.270923\tvalid_1's auc: 0.853745\tvalid_1's binary_logloss: 0.294882\n",
      "Early stopping, best iteration is:\n",
      "[248]\ttraining's auc: 0.882717\ttraining's binary_logloss: 0.271114\tvalid_1's auc: 0.853806\tvalid_1's binary_logloss: 0.294839\n",
      "********** 1 **********\n",
      "Training until validation scores don't improve for 10 rounds\n",
      "[50]\ttraining's auc: 0.851678\ttraining's binary_logloss: 0.296777\tvalid_1's auc: 0.843141\tvalid_1's binary_logloss: 0.303098\n",
      "[100]\ttraining's auc: 0.864053\ttraining's binary_logloss: 0.286104\tvalid_1's auc: 0.849966\tvalid_1's binary_logloss: 0.297212\n",
      "[150]\ttraining's auc: 0.871657\ttraining's binary_logloss: 0.27988\tvalid_1's auc: 0.85226\tvalid_1's binary_logloss: 0.295316\n",
      "[200]\ttraining's auc: 0.877884\ttraining's binary_logloss: 0.274957\tvalid_1's auc: 0.853167\tvalid_1's binary_logloss: 0.294585\n",
      "Early stopping, best iteration is:\n",
      "[235]\ttraining's auc: 0.881641\ttraining's binary_logloss: 0.271945\tvalid_1's auc: 0.853494\tvalid_1's binary_logloss: 0.294329\n",
      "********** 2 **********\n",
      "Training until validation scores don't improve for 10 rounds\n",
      "[50]\ttraining's auc: 0.851488\ttraining's binary_logloss: 0.297462\tvalid_1's auc: 0.845726\tvalid_1's binary_logloss: 0.300796\n",
      "[100]\ttraining's auc: 0.86411\ttraining's binary_logloss: 0.286543\tvalid_1's auc: 0.85276\tvalid_1's binary_logloss: 0.294476\n",
      "[150]\ttraining's auc: 0.871622\ttraining's binary_logloss: 0.280366\tvalid_1's auc: 0.854679\tvalid_1's binary_logloss: 0.292779\n",
      "[200]\ttraining's auc: 0.877647\ttraining's binary_logloss: 0.275532\tvalid_1's auc: 0.855534\tvalid_1's binary_logloss: 0.292048\n",
      "Early stopping, best iteration is:\n",
      "[237]\ttraining's auc: 0.881697\ttraining's binary_logloss: 0.272272\tvalid_1's auc: 0.855792\tvalid_1's binary_logloss: 0.291842\n",
      "********** 3 **********\n",
      "Training until validation scores don't improve for 10 rounds\n",
      "[50]\ttraining's auc: 0.851524\ttraining's binary_logloss: 0.297384\tvalid_1's auc: 0.844143\tvalid_1's binary_logloss: 0.301971\n",
      "[100]\ttraining's auc: 0.864112\ttraining's binary_logloss: 0.286654\tvalid_1's auc: 0.851164\tvalid_1's binary_logloss: 0.295634\n",
      "[150]\ttraining's auc: 0.871647\ttraining's binary_logloss: 0.280447\tvalid_1's auc: 0.852957\tvalid_1's binary_logloss: 0.293779\n",
      "[200]\ttraining's auc: 0.877656\ttraining's binary_logloss: 0.275628\tvalid_1's auc: 0.853776\tvalid_1's binary_logloss: 0.293068\n",
      "[250]\ttraining's auc: 0.883203\ttraining's binary_logloss: 0.271174\tvalid_1's auc: 0.854125\tvalid_1's binary_logloss: 0.292688\n",
      "Early stopping, best iteration is:\n",
      "[260]\ttraining's auc: 0.88411\ttraining's binary_logloss: 0.270422\tvalid_1's auc: 0.854218\tvalid_1's binary_logloss: 0.292611\n",
      "********** 4 **********\n",
      "Training until validation scores don't improve for 10 rounds\n",
      "[50]\ttraining's auc: 0.853448\ttraining's binary_logloss: 0.296474\tvalid_1's auc: 0.837201\tvalid_1's binary_logloss: 0.304174\n",
      "[100]\ttraining's auc: 0.865929\ttraining's binary_logloss: 0.285561\tvalid_1's auc: 0.842788\tvalid_1's binary_logloss: 0.299069\n",
      "[150]\ttraining's auc: 0.873735\ttraining's binary_logloss: 0.279171\tvalid_1's auc: 0.844858\tvalid_1's binary_logloss: 0.297426\n",
      "[200]\ttraining's auc: 0.879702\ttraining's binary_logloss: 0.274306\tvalid_1's auc: 0.845412\tvalid_1's binary_logloss: 0.296924\n",
      "Early stopping, best iteration is:\n",
      "[194]\ttraining's auc: 0.879041\ttraining's binary_logloss: 0.274853\tvalid_1's auc: 0.845465\tvalid_1's binary_logloss: 0.296937\n",
      "*********************\n",
      "roc auc estimado:  0.8526005246042266\n",
      "roc auc varianza:  0.0008858706924941331\n"
     ]
    }
   ],
   "source": [
    "[test_probs,fi] = cross_validation_lightgbm(train[keep_columns], y_train, test[keep_columns])"
   ]
  },
  {
   "cell_type": "code",
   "execution_count": 101,
   "id": "adverse-ranch",
   "metadata": {
    "scrolled": true
   },
   "outputs": [
    {
     "name": "stdout",
     "output_type": "stream",
     "text": [
      "total de variables : 302\n",
      "variables con importancia acumulada al 99% : 296\n",
      "variables con zero importancia : 0\n"
     ]
    }
   ],
   "source": [
    "keep_columns, zero_importance = get_feature_selection(fi)"
   ]
  },
  {
   "cell_type": "code",
   "execution_count": 102,
   "id": "auburn-bumper",
   "metadata": {},
   "outputs": [],
   "source": [
    "keep_columns_v55 = keep_columns"
   ]
  },
  {
   "cell_type": "code",
   "execution_count": 103,
   "id": "welcome-senior",
   "metadata": {
    "scrolled": true
   },
   "outputs": [
    {
     "name": "stdout",
     "output_type": "stream",
     "text": [
      "********** 0 **********\n",
      "Training until validation scores don't improve for 10 rounds\n",
      "[50]\ttraining's auc: 0.851471\ttraining's binary_logloss: 0.297066\tvalid_1's auc: 0.84318\tvalid_1's binary_logloss: 0.303527\n",
      "[100]\ttraining's auc: 0.863755\ttraining's binary_logloss: 0.286345\tvalid_1's auc: 0.850307\tvalid_1's binary_logloss: 0.297483\n",
      "[150]\ttraining's auc: 0.871491\ttraining's binary_logloss: 0.280129\tvalid_1's auc: 0.85248\tvalid_1's binary_logloss: 0.295651\n",
      "[200]\ttraining's auc: 0.877533\ttraining's binary_logloss: 0.275264\tvalid_1's auc: 0.853307\tvalid_1's binary_logloss: 0.294951\n",
      "[250]\ttraining's auc: 0.882775\ttraining's binary_logloss: 0.270927\tvalid_1's auc: 0.853637\tvalid_1's binary_logloss: 0.294604\n",
      "Early stopping, best iteration is:\n",
      "[244]\ttraining's auc: 0.882178\ttraining's binary_logloss: 0.271421\tvalid_1's auc: 0.853661\tvalid_1's binary_logloss: 0.294592\n",
      "********** 1 **********\n",
      "Training until validation scores don't improve for 10 rounds\n",
      "[50]\ttraining's auc: 0.851497\ttraining's binary_logloss: 0.296873\tvalid_1's auc: 0.843263\tvalid_1's binary_logloss: 0.303179\n",
      "[100]\ttraining's auc: 0.863929\ttraining's binary_logloss: 0.286159\tvalid_1's auc: 0.850048\tvalid_1's binary_logloss: 0.297177\n",
      "[150]\ttraining's auc: 0.871438\ttraining's binary_logloss: 0.279959\tvalid_1's auc: 0.852138\tvalid_1's binary_logloss: 0.295423\n",
      "[200]\ttraining's auc: 0.877457\ttraining's binary_logloss: 0.275141\tvalid_1's auc: 0.85306\tvalid_1's binary_logloss: 0.294659\n",
      "Early stopping, best iteration is:\n",
      "[215]\ttraining's auc: 0.879007\ttraining's binary_logloss: 0.273822\tvalid_1's auc: 0.853314\tvalid_1's binary_logloss: 0.294472\n",
      "********** 2 **********\n",
      "Training until validation scores don't improve for 10 rounds\n",
      "[50]\ttraining's auc: 0.851727\ttraining's binary_logloss: 0.297328\tvalid_1's auc: 0.84606\tvalid_1's binary_logloss: 0.300737\n",
      "[100]\ttraining's auc: 0.863944\ttraining's binary_logloss: 0.286624\tvalid_1's auc: 0.852531\tvalid_1's binary_logloss: 0.294663\n",
      "[150]\ttraining's auc: 0.871542\ttraining's binary_logloss: 0.280482\tvalid_1's auc: 0.854355\tvalid_1's binary_logloss: 0.293\n",
      "[200]\ttraining's auc: 0.877795\ttraining's binary_logloss: 0.27553\tvalid_1's auc: 0.855231\tvalid_1's binary_logloss: 0.292268\n",
      "Early stopping, best iteration is:\n",
      "[219]\ttraining's auc: 0.879939\ttraining's binary_logloss: 0.273828\tvalid_1's auc: 0.855412\tvalid_1's binary_logloss: 0.292127\n",
      "********** 3 **********\n",
      "Training until validation scores don't improve for 10 rounds\n",
      "[50]\ttraining's auc: 0.851416\ttraining's binary_logloss: 0.297444\tvalid_1's auc: 0.844633\tvalid_1's binary_logloss: 0.301753\n",
      "[100]\ttraining's auc: 0.863832\ttraining's binary_logloss: 0.286686\tvalid_1's auc: 0.851214\tvalid_1's binary_logloss: 0.295448\n",
      "[150]\ttraining's auc: 0.871573\ttraining's binary_logloss: 0.280451\tvalid_1's auc: 0.853353\tvalid_1's binary_logloss: 0.293573\n",
      "[200]\ttraining's auc: 0.87778\ttraining's binary_logloss: 0.27555\tvalid_1's auc: 0.854096\tvalid_1's binary_logloss: 0.292871\n",
      "[250]\ttraining's auc: 0.883108\ttraining's binary_logloss: 0.271294\tvalid_1's auc: 0.854558\tvalid_1's binary_logloss: 0.292433\n",
      "[300]\ttraining's auc: 0.888149\ttraining's binary_logloss: 0.267219\tvalid_1's auc: 0.854762\tvalid_1's binary_logloss: 0.292216\n",
      "Early stopping, best iteration is:\n",
      "[291]\ttraining's auc: 0.887287\ttraining's binary_logloss: 0.267937\tvalid_1's auc: 0.854821\tvalid_1's binary_logloss: 0.292162\n",
      "********** 4 **********\n",
      "Training until validation scores don't improve for 10 rounds\n",
      "[50]\ttraining's auc: 0.853402\ttraining's binary_logloss: 0.296566\tvalid_1's auc: 0.837049\tvalid_1's binary_logloss: 0.304453\n",
      "[100]\ttraining's auc: 0.865876\ttraining's binary_logloss: 0.285602\tvalid_1's auc: 0.842423\tvalid_1's binary_logloss: 0.29926\n",
      "[150]\ttraining's auc: 0.873392\ttraining's binary_logloss: 0.279414\tvalid_1's auc: 0.844472\tvalid_1's binary_logloss: 0.297648\n",
      "[200]\ttraining's auc: 0.879385\ttraining's binary_logloss: 0.274513\tvalid_1's auc: 0.845531\tvalid_1's binary_logloss: 0.29691\n",
      "Early stopping, best iteration is:\n",
      "[220]\ttraining's auc: 0.881507\ttraining's binary_logloss: 0.272701\tvalid_1's auc: 0.845785\tvalid_1's binary_logloss: 0.296706\n",
      "*********************\n",
      "roc auc estimado:  0.8526357282660033\n",
      "roc auc varianza:  0.0008538117995178368\n"
     ]
    }
   ],
   "source": [
    "[test_probs,fi] = cross_validation_lightgbm(train[keep_columns], y_train, test[keep_columns])"
   ]
  },
  {
   "cell_type": "markdown",
   "id": "handy-hotel",
   "metadata": {},
   "source": [
    "#### Utilizando 397 variables"
   ]
  },
  {
   "cell_type": "code",
   "execution_count": 105,
   "id": "saved-skill",
   "metadata": {},
   "outputs": [
    {
     "data": {
      "text/plain": [
       "(397, 342)"
      ]
     },
     "execution_count": 105,
     "metadata": {},
     "output_type": "execute_result"
    }
   ],
   "source": [
    "################# Utilizando 397 variables\n",
    "########## variables con importancia acumulada al 99% : 342\n",
    "len(keep_columns_v41), len(keep_columns_v48)"
   ]
  },
  {
   "cell_type": "code",
   "execution_count": 106,
   "id": "healthy-geometry",
   "metadata": {
    "scrolled": true
   },
   "outputs": [
    {
     "name": "stdout",
     "output_type": "stream",
     "text": [
      "********** 0 **********\n",
      "Training until validation scores don't improve for 10 rounds\n",
      "[50]\ttraining's auc: 0.85201\ttraining's binary_logloss: 0.29667\tvalid_1's auc: 0.843466\tvalid_1's binary_logloss: 0.303306\n",
      "[100]\ttraining's auc: 0.864574\ttraining's binary_logloss: 0.285876\tvalid_1's auc: 0.851106\tvalid_1's binary_logloss: 0.297129\n",
      "[150]\ttraining's auc: 0.872169\ttraining's binary_logloss: 0.279504\tvalid_1's auc: 0.853527\tvalid_1's binary_logloss: 0.294962\n",
      "Early stopping, best iteration is:\n",
      "[178]\ttraining's auc: 0.875734\ttraining's binary_logloss: 0.27664\tvalid_1's auc: 0.854082\tvalid_1's binary_logloss: 0.294555\n",
      "********** 1 **********\n",
      "Training until validation scores don't improve for 10 rounds\n",
      "[50]\ttraining's auc: 0.85159\ttraining's binary_logloss: 0.296848\tvalid_1's auc: 0.843391\tvalid_1's binary_logloss: 0.303083\n",
      "[100]\ttraining's auc: 0.864355\ttraining's binary_logloss: 0.285854\tvalid_1's auc: 0.850801\tvalid_1's binary_logloss: 0.296643\n",
      "[150]\ttraining's auc: 0.871927\ttraining's binary_logloss: 0.279588\tvalid_1's auc: 0.853162\tvalid_1's binary_logloss: 0.294665\n",
      "[200]\ttraining's auc: 0.878225\ttraining's binary_logloss: 0.274491\tvalid_1's auc: 0.854362\tvalid_1's binary_logloss: 0.293767\n",
      "[250]\ttraining's auc: 0.883649\ttraining's binary_logloss: 0.270047\tvalid_1's auc: 0.855091\tvalid_1's binary_logloss: 0.293182\n",
      "Early stopping, best iteration is:\n",
      "[282]\ttraining's auc: 0.886989\ttraining's binary_logloss: 0.267375\tvalid_1's auc: 0.855361\tvalid_1's binary_logloss: 0.292963\n",
      "********** 2 **********\n",
      "Training until validation scores don't improve for 10 rounds\n",
      "[50]\ttraining's auc: 0.851753\ttraining's binary_logloss: 0.297255\tvalid_1's auc: 0.846613\tvalid_1's binary_logloss: 0.300454\n",
      "[100]\ttraining's auc: 0.864358\ttraining's binary_logloss: 0.286261\tvalid_1's auc: 0.853581\tvalid_1's binary_logloss: 0.294028\n",
      "[150]\ttraining's auc: 0.872069\ttraining's binary_logloss: 0.279901\tvalid_1's auc: 0.855657\tvalid_1's binary_logloss: 0.292068\n",
      "[200]\ttraining's auc: 0.878442\ttraining's binary_logloss: 0.274887\tvalid_1's auc: 0.856359\tvalid_1's binary_logloss: 0.291444\n",
      "Early stopping, best iteration is:\n",
      "[192]\ttraining's auc: 0.877479\ttraining's binary_logloss: 0.275633\tvalid_1's auc: 0.856418\tvalid_1's binary_logloss: 0.291439\n",
      "********** 3 **********\n",
      "Training until validation scores don't improve for 10 rounds\n",
      "[50]\ttraining's auc: 0.851622\ttraining's binary_logloss: 0.297179\tvalid_1's auc: 0.844803\tvalid_1's binary_logloss: 0.301421\n",
      "[100]\ttraining's auc: 0.864637\ttraining's binary_logloss: 0.286218\tvalid_1's auc: 0.851787\tvalid_1's binary_logloss: 0.29498\n",
      "[150]\ttraining's auc: 0.872336\ttraining's binary_logloss: 0.279887\tvalid_1's auc: 0.853932\tvalid_1's binary_logloss: 0.292945\n",
      "Early stopping, best iteration is:\n",
      "[178]\ttraining's auc: 0.876016\ttraining's binary_logloss: 0.276986\tvalid_1's auc: 0.854543\tvalid_1's binary_logloss: 0.292391\n",
      "********** 4 **********\n",
      "Training until validation scores don't improve for 10 rounds\n",
      "[50]\ttraining's auc: 0.853729\ttraining's binary_logloss: 0.296238\tvalid_1's auc: 0.837465\tvalid_1's binary_logloss: 0.304118\n",
      "[100]\ttraining's auc: 0.8665\ttraining's binary_logloss: 0.285158\tvalid_1's auc: 0.843759\tvalid_1's binary_logloss: 0.298542\n",
      "[150]\ttraining's auc: 0.8744\ttraining's binary_logloss: 0.278719\tvalid_1's auc: 0.845639\tvalid_1's binary_logloss: 0.297072\n",
      "[200]\ttraining's auc: 0.880312\ttraining's binary_logloss: 0.273733\tvalid_1's auc: 0.846485\tvalid_1's binary_logloss: 0.296317\n",
      "[250]\ttraining's auc: 0.88578\ttraining's binary_logloss: 0.269275\tvalid_1's auc: 0.846741\tvalid_1's binary_logloss: 0.296044\n",
      "Early stopping, best iteration is:\n",
      "[257]\ttraining's auc: 0.886524\ttraining's binary_logloss: 0.268688\tvalid_1's auc: 0.846826\tvalid_1's binary_logloss: 0.295988\n",
      "*********************\n",
      "roc auc estimado:  0.8534781049841943\n",
      "roc auc varianza:  0.0008313421378837378\n"
     ]
    }
   ],
   "source": [
    "[test_probs,fi] = cross_validation_lightgbm(train[keep_columns_v41], y_train, test[keep_columns_v41])"
   ]
  },
  {
   "cell_type": "code",
   "execution_count": 107,
   "id": "bizarre-hamburg",
   "metadata": {},
   "outputs": [],
   "source": [
    "test_probs.name = 'target'\n",
    "test_probs.to_csv('../results/lightgbm_with_397features_score_0.85347.csv') ### score de 0.85487 en la tabla publica"
   ]
  },
  {
   "cell_type": "code",
   "execution_count": 108,
   "id": "standing-sarah",
   "metadata": {},
   "outputs": [],
   "source": [
    "train = train[keep_columns_v41]\n",
    "test = test[keep_columns_v41]"
   ]
  },
  {
   "cell_type": "code",
   "execution_count": 109,
   "id": "split-rainbow",
   "metadata": {},
   "outputs": [],
   "source": [
    "train.to_pickle('../data/train_features397_score_0.85487.pkl')\n",
    "test.to_pickle('../data/test_features397_score_0.85487.pkl')"
   ]
  },
  {
   "cell_type": "code",
   "execution_count": 110,
   "id": "meaning-ontario",
   "metadata": {},
   "outputs": [
    {
     "name": "stdout",
     "output_type": "stream",
     "text": [
      "feature sin missing values 37 representando el 0.093 de features totales\n",
      "features con porc de missing values de 0 a 0.1 : 100 representando el 0.252 de features totales\n",
      "features con porc de missing values de 0.1 a 0.2 : 6 representando el 0.015 de features totales\n",
      "features con porc de missing values de 0.2 a 0.3 : 1 representando el 0.003 de features totales\n",
      "features con porc de missing values de 0.3 a 0.4 : 17 representando el 0.043 de features totales\n",
      "features con porc de missing values de 0.4 a 0.5 : 61 representando el 0.154 de features totales\n",
      "features con porc de missing values de 0.5 a 0.6 : 44 representando el 0.111 de features totales\n",
      "features con porc de missing values de 0.6 a 0.7 : 15 representando el 0.038 de features totales\n",
      "features con porc de missing values de 0.7 a 0.8 : 30 representando el 0.076 de features totales\n",
      "features con porc de missing values de 0.8 a 0.9 : 52 representando el 0.131 de features totales\n",
      "features con porc de missing values de 0.9 a 1.1 : 71 representando el 0.179 de features totales\n"
     ]
    }
   ],
   "source": [
    "aux = (train.isna().sum()/len(train)).sort_values()\n",
    "features_without_na = aux[aux==0]\n",
    "print(f'feature sin missing values {len(features_without_na)} representando el {round(len(features_without_na)/len(train.columns), 3)} de features totales')\n",
    "list_prec_na = [(0,0.1), (0.1,0.2), (0.2,0.3), (0.3,0.4), (0.4,0.5), (0.5,0.6), (0.6,0.7), (0.7,0.8), (0.8,0.9),(0.9,1.1)]\n",
    "for i in list_prec_na:\n",
    "    features_with_na = aux[(aux>=i[0]) & (aux<i[1])]\n",
    "    print(f'features con porc de missing values de {i[0]} a {i[1]} : {len(features_with_na)} representando el {round(len(features_with_na)/len(train.columns), 3)} de features totales')"
   ]
  },
  {
   "cell_type": "code",
   "execution_count": 2,
   "id": "continuing-paris",
   "metadata": {},
   "outputs": [],
   "source": [
    "import pandas as pd\n",
    "train = pd.read_pickle('../data/train_features397_score_0.85487.pkl')\n",
    "test = pd.read_pickle('../data/test_features397_score_0.85487.pkl')"
   ]
  },
  {
   "cell_type": "code",
   "execution_count": 3,
   "id": "common-ordering",
   "metadata": {},
   "outputs": [],
   "source": [
    "train.to_csv('../data/train_features397_score_0.85487.csv')\n",
    "test.to_csv('../data/test_features397_score_0.85487.csv')"
   ]
  }
 ],
 "metadata": {
  "kernelspec": {
   "display_name": "Python 3",
   "language": "python",
   "name": "python3"
  },
  "language_info": {
   "codemirror_mode": {
    "name": "ipython",
    "version": 3
   },
   "file_extension": ".py",
   "mimetype": "text/x-python",
   "name": "python",
   "nbconvert_exporter": "python",
   "pygments_lexer": "ipython3",
   "version": "3.8.5"
  }
 },
 "nbformat": 4,
 "nbformat_minor": 5
}
