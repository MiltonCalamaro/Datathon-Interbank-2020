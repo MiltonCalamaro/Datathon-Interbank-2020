{
 "cells": [
  {
   "cell_type": "code",
   "execution_count": 1,
   "id": "tropical-element",
   "metadata": {},
   "outputs": [],
   "source": [
    "import pandas as pd\n",
    "from tqdm.notebook import tqdm \n",
    "import gc\n",
    "import numpy as np"
   ]
  },
  {
   "cell_type": "code",
   "execution_count": 2,
   "id": "alive-english",
   "metadata": {},
   "outputs": [],
   "source": [
    "import statistics as stat\n",
    "def calculate_mode(x):\n",
    "    try:\n",
    "        moda=stat.mode(x)\n",
    "    except:\n",
    "        moda=np.nan\n",
    "    return moda"
   ]
  },
  {
   "cell_type": "code",
   "execution_count": 3,
   "id": "decreased-classic",
   "metadata": {},
   "outputs": [],
   "source": [
    "path = '../data'\n",
    "y_train = pd.read_csv(f'{path}/y_train.csv', index_col = 'key_value')"
   ]
  },
  {
   "cell_type": "markdown",
   "id": "convinced-egypt",
   "metadata": {},
   "source": [
    "## Procesar RCC"
   ]
  },
  {
   "cell_type": "code",
   "execution_count": null,
   "id": "unique-bulgarian",
   "metadata": {},
   "outputs": [],
   "source": [
    "rcc_train = pd.read_csv(f'{path}/rcc_train.csv')\n",
    "rcc_test = pd.read_csv(f'{path}/rcc_test.csv')"
   ]
  },
  {
   "cell_type": "code",
   "execution_count": null,
   "id": "desperate-jungle",
   "metadata": {},
   "outputs": [],
   "source": [
    "rcc_test['cod_instit_financiera'].fillna(rcc_test['cod_instit_financiera'].value_counts().index[0], inplace=True)\n",
    "rcc_test['PRODUCTO'].fillna(rcc_test['PRODUCTO'].value_counts().index[0], inplace=True)"
   ]
  },
  {
   "cell_type": "code",
   "execution_count": null,
   "id": "together-fault",
   "metadata": {},
   "outputs": [],
   "source": [
    "dict_ = {'codmes': 'int32',\n",
    " 'key_value': 'int32',\n",
    " 'condicion': 'int32',\n",
    " 'tipo_credito': 'int32',\n",
    " 'cod_instit_financiera': 'int32',\n",
    " 'PRODUCTO': 'int32',\n",
    " 'RIESGO_DIRECTO': 'int32',\n",
    " 'COD_CLASIFICACION_DEUDOR': 'int32'}\n",
    "rcc_train = rcc_train.astype(dict_)\n",
    "rcc_test = rcc_test.astype(dict_)"
   ]
  },
  {
   "cell_type": "code",
   "execution_count": null,
   "id": "comparable-columbia",
   "metadata": {},
   "outputs": [],
   "source": [
    "bins = [-1, 0, 10, 20, 30, 60, 90, 180, 360, 720, float(\"inf\")]\n",
    "rcc_train[\"condicion\"] = pd.cut(rcc_train.condicion, bins)\n",
    "rcc_train[\"condicion\"] = rcc_train[\"condicion\"].cat.codes\n",
    "rcc_test[\"condicion\"] = pd.cut(rcc_test.condicion, bins)\n",
    "rcc_test[\"condicion\"] = rcc_test[\"condicion\"].cat.codes"
   ]
  },
  {
   "cell_type": "code",
   "execution_count": null,
   "id": "aware-vampire",
   "metadata": {},
   "outputs": [],
   "source": [
    "moda=lambda x: calculate_mode(x)\n",
    "moda.__name__='mode'\n",
    "agg_rcc = {'cod_instit_financiera':['nunique','min','max',moda],\n",
    "           'PRODUCTO':['nunique','min','max',moda],}"
   ]
  },
  {
   "cell_type": "code",
   "execution_count": null,
   "id": "considered-conducting",
   "metadata": {},
   "outputs": [],
   "source": [
    "list_rcc_train_agg = []\n",
    "for n,i in enumerate(sorted(set(rcc_train.codmes),reverse=True)):\n",
    "    for c in ['tipo_credito','RIESGO_DIRECTO','COD_CLASIFICACION_DEUDOR','condicion']:\n",
    "        print(f'haciendo {c} desde {i}')\n",
    "        rcc_train_agg = rcc_train[rcc_train.codmes>=i].groupby(['key_value', c]).saldo.sum().unstack(level = 1, fill_value=np.nan)\n",
    "        rcc_train_agg.columns = [f'{rcc_train_agg.columns.name}_{c}_saldoSum_ult{n+1}meses' for c in rcc_train_agg.columns]\n",
    "        list_rcc_train_agg.append(rcc_train_agg)\n",
    "        gc.collect()\n",
    "\n",
    "        rcc_train_agg = rcc_train[rcc_train.codmes>=i].groupby(['key_value', c]).saldo.size().unstack(level = 1, fill_value=np.nan)\n",
    "        rcc_train_agg.columns = [f'{rcc_train_agg.columns.name}_{c}_saldoUnique_ult{n+1}meses' for c in rcc_train_agg.columns]\n",
    "        list_rcc_train_agg.append(rcc_train_agg)\n",
    "        gc.collect()\n",
    "\n",
    "        rcc_train_agg = rcc_train[rcc_train.codmes>=i].groupby(['key_value', c]).saldo.min().unstack(level = 1, fill_value=np.nan)\n",
    "        rcc_train_agg.columns = [f'{rcc_train_agg.columns.name}_{c}_saldoMin_ult{n+1}meses' for c in rcc_train_agg.columns]\n",
    "        list_rcc_train_agg.append(rcc_train_agg)\n",
    "        gc.collect()\n",
    "\n",
    "        rcc_train_agg = rcc_train[rcc_train.codmes>=i].groupby(['key_value', c]).saldo.max().unstack(level = 1, fill_value=np.nan)\n",
    "        rcc_train_agg.columns = [f'{rcc_train_agg.columns.name}_{c}_saldoMax_ult{n+1}meses' for c in rcc_train_agg.columns]\n",
    "        list_rcc_train_agg.append(rcc_train_agg)\n",
    "        gc.collect()\n",
    "\n",
    "        rcc_train_agg = rcc_train[rcc_train.codmes>=i].groupby(['key_value', c]).saldo.std().unstack(level = 1, fill_value=np.nan)\n",
    "        rcc_train_agg.columns = [f'{rcc_train_agg.columns.name}_{c}_saldoStd_ult{n+1}meses' for c in rcc_train_agg.columns]\n",
    "        list_rcc_train_agg.append(rcc_train_agg)\n",
    "        gc.collect()\n",
    "\n",
    "        rcc_train_agg = rcc_train[rcc_train.codmes>=i].groupby(['key_value', c]).saldo.mean().unstack(level = 1, fill_value=np.nan)\n",
    "        rcc_train_agg.columns = [f'{rcc_train_agg.columns.name}_{c}_saldoMean_ult{n+1}meses' for c in rcc_train_agg.columns]\n",
    "        list_rcc_train_agg.append(rcc_train_agg)\n",
    "        gc.collect()\n",
    "        \n",
    "        rcc_train_agg = rcc_train[rcc_train.codmes>=i].groupby(['key_value', c]).saldo.median().unstack(level = 1, fill_value=np.nan)\n",
    "        rcc_train_agg.columns = [f'{rcc_train_agg.columns.name}_{c}_saldoMedian_ult{n+1}meses' for c in rcc_train_agg.columns]\n",
    "        list_rcc_train_agg.append(rcc_train_agg)\n",
    "        gc.collect()\n",
    "        \n",
    "    print(f'haciendo aggregate de {i}')\n",
    "    rcc_train_agg = rcc_train[rcc_train.codmes>=i].groupby('key_value').agg(agg_rcc)\n",
    "    rcc_train_agg.columns = [i+'_'+j+f'_ult{n+1}mes' for i,j in rcc_train_agg.columns]\n",
    "    list_rcc_train_agg.append(rcc_train_agg)\n",
    "    gc.collect()\n",
    "        \n",
    "rcc_train_ = pd.concat(list_rcc_train_agg, axis=1)\n",
    "del rcc_train, list_rcc_train_agg"
   ]
  },
  {
   "cell_type": "code",
   "execution_count": null,
   "id": "confidential-permit",
   "metadata": {},
   "outputs": [],
   "source": [
    "list_rcc_test_agg = []\n",
    "for n,i in enumerate(sorted(set(rcc_test.codmes),reverse=True)):\n",
    "    for c in ['tipo_credito','RIESGO_DIRECTO','COD_CLASIFICACION_DEUDOR','condicion']:\n",
    "        print(f'haciendo {c} desde {i}')\n",
    "        rcc_test_agg = rcc_test[rcc_test.codmes>=i].groupby(['key_value', c]).saldo.sum().unstack(level = 1, fill_value=np.nan)\n",
    "        rcc_test_agg.columns = [f'{rcc_test_agg.columns.name}_{c}_saldoSum_ult{n+1}meses' for c in rcc_test_agg.columns]\n",
    "        list_rcc_test_agg.append(rcc_test_agg)\n",
    "        gc.collect()\n",
    "\n",
    "        rcc_test_agg = rcc_test[rcc_test.codmes>=i].groupby(['key_value', c]).saldo.size().unstack(level = 1, fill_value=np.nan)\n",
    "        rcc_test_agg.columns = [f'{rcc_test_agg.columns.name}_{c}_saldoUnique_ult{n+1}meses' for c in rcc_test_agg.columns]\n",
    "        list_rcc_test_agg.append(rcc_test_agg)\n",
    "        gc.collect()\n",
    "\n",
    "        rcc_test_agg = rcc_test[rcc_test.codmes>=i].groupby(['key_value', c]).saldo.min().unstack(level = 1, fill_value=np.nan)\n",
    "        rcc_test_agg.columns = [f'{rcc_test_agg.columns.name}_{c}_saldoMin_ult{n+1}meses' for c in rcc_test_agg.columns]\n",
    "        list_rcc_test_agg.append(rcc_test_agg)\n",
    "        gc.collect()\n",
    "\n",
    "        rcc_test_agg = rcc_test[rcc_test.codmes>=i].groupby(['key_value', c]).saldo.max().unstack(level = 1, fill_value=np.nan)\n",
    "        rcc_test_agg.columns = [f'{rcc_test_agg.columns.name}_{c}_saldoMax_ult{n+1}meses' for c in rcc_test_agg.columns]\n",
    "        list_rcc_test_agg.append(rcc_test_agg)\n",
    "        gc.collect()\n",
    "\n",
    "        rcc_test_agg = rcc_test[rcc_test.codmes>=i].groupby(['key_value', c]).saldo.std().unstack(level = 1, fill_value=np.nan)\n",
    "        rcc_test_agg.columns = [f'{rcc_test_agg.columns.name}_{c}_saldoStd_ult{n+1}meses' for c in rcc_test_agg.columns]\n",
    "        list_rcc_test_agg.append(rcc_test_agg)\n",
    "        gc.collect()\n",
    "\n",
    "        rcc_test_agg = rcc_test[rcc_test.codmes>=i].groupby(['key_value', c]).saldo.mean().unstack(level = 1, fill_value=np.nan)\n",
    "        rcc_test_agg.columns = [f'{rcc_test_agg.columns.name}_{c}_saldoMean_ult{n+1}meses' for c in rcc_test_agg.columns]\n",
    "        list_rcc_test_agg.append(rcc_test_agg)\n",
    "        gc.collect()\n",
    "\n",
    "        rcc_test_agg = rcc_test[rcc_test.codmes>=i].groupby(['key_value', c]).saldo.median().unstack(level = 1, fill_value=np.nan)\n",
    "        rcc_test_agg.columns = [f'{rcc_test_agg.columns.name}_{c}_saldoMedian_ult{n+1}meses' for c in rcc_test_agg.columns]\n",
    "        list_rcc_test_agg.append(rcc_test_agg)\n",
    "        gc.collect()\n",
    "\n",
    "        \n",
    "    print(f'haciendo aggregate de {i}')\n",
    "    rcc_test_agg = rcc_test[rcc_test.codmes>=i].groupby('key_value').agg(agg_rcc)\n",
    "    rcc_test_agg.columns = [i+'_'+j+f'_ult{n+1}mes' for i,j in rcc_test_agg.columns]\n",
    "    list_rcc_test_agg.append(rcc_test_agg)\n",
    "    gc.collect()\n",
    "\n",
    "rcc_test_ = pd.concat(list_rcc_test_agg, axis=1)\n",
    "del rcc_test, list_rcc_test_agg"
   ]
  },
  {
   "cell_type": "code",
   "execution_count": null,
   "id": "collaborative-posting",
   "metadata": {},
   "outputs": [],
   "source": [
    "### asegurar que las columnas esten en ambas bases (train/test)\n",
    "print(rcc_train_.shape, rcc_test_.shape)\n",
    "keep_columns = list(set(rcc_train_.columns).intersection(rcc_test_.columns))\n",
    "rcc_train_ = rcc_train_[keep_columns].copy()\n",
    "rcc_test_ = rcc_test_[keep_columns].copy()\n",
    "print(rcc_train_.shape, rcc_test_.shape)"
   ]
  },
  {
   "cell_type": "code",
   "execution_count": null,
   "id": "genuine-shelter",
   "metadata": {},
   "outputs": [],
   "source": [
    "### unir RCC en la base final\n",
    "train = rcc_train_.copy()\n",
    "test = rcc_test_.copy()\n",
    "del rcc_train_, rcc_test_"
   ]
  },
  {
   "cell_type": "code",
   "execution_count": null,
   "id": "important-africa",
   "metadata": {},
   "outputs": [],
   "source": [
    "# train.to_pickle('train_2532features.pkl')\n",
    "# test.to_pickle('test_2532features.pkl')"
   ]
  },
  {
   "cell_type": "code",
   "execution_count": null,
   "id": "valid-garbage",
   "metadata": {},
   "outputs": [],
   "source": [
    "from lightgbm import LGBMClassifier\n",
    "from sklearn.metrics import roc_auc_score\n",
    "from sklearn.model_selection import KFold\n",
    "\n",
    "def cross_validation_lightgbm_fi(train, y_train, test):\n",
    "    folds = [train.index[t] for t, v in KFold(5).split(train)]\n",
    "    test_probs = []\n",
    "    train_probs = []\n",
    "    fi = []\n",
    "    for i, idx in enumerate(folds):\n",
    "        print(\"*\"*10, i, \"*\"*10)\n",
    "        Xt = train.loc[idx]\n",
    "        yt = y_train.loc[Xt.index].target\n",
    "\n",
    "        Xv = train.drop(Xt.index)\n",
    "        yv = y_train.loc[Xv.index].target\n",
    "\n",
    "        learner = LGBMClassifier(n_estimators=1000, boosting_type='gbdt',min_child_samples=1500, \n",
    "                       colsample_bytree=0.8,subsample=0.8, max_bin=200, learning_rate=0.1)\n",
    "        learner.fit(Xt, yt,  early_stopping_rounds=10, eval_metric=\"auc\",\n",
    "                    eval_set=[(Xt, yt), (Xv, yv)], verbose=50)\n",
    "        test_probs.append(pd.Series(learner.predict_proba(test)[:, -1], index=test.index, name=\"fold_\" + str(i)))\n",
    "        train_probs.append(pd.Series(learner.predict_proba(Xv)[:, -1], index=Xv.index, name=\"probs\"))\n",
    "        fi.append(pd.Series(learner.feature_importances_ / learner.feature_importances_.sum(), index=Xt.columns))\n",
    "\n",
    "    test_probs = pd.concat(test_probs, axis=1).mean(axis=1)\n",
    "    train_probs = pd.concat(train_probs)\n",
    "    fi = pd.concat(fi, axis=1).mean(axis=1)\n",
    "    print(\"*\" * 21)\n",
    "    print(\"roc auc estimado: \", roc_auc_score(y_train, train_probs.loc[y_train.index]))\n",
    "    print(\"roc auc varianza: \", np.std([roc_auc_score(y_train.loc[folds[i]], train_probs.iloc[folds[i]]) for i in range(len(folds))])) \n",
    "    return fi"
   ]
  },
  {
   "cell_type": "code",
   "execution_count": null,
   "id": "innovative-trance",
   "metadata": {},
   "outputs": [],
   "source": [
    "# eliminar variables con zero_importance\n",
    "while True:\n",
    "    fi = cross_validation_lightgbm_fi(train, y_train, test)\n",
    "    zero_importance = fi[fi==0]\n",
    "    aux = fi[fi>0].sort_values(ascending=False)\n",
    "    keep_columns = []\n",
    "    count = 0\n",
    "    for feature,values in zip(aux.index, aux.values):\n",
    "        count+=values\n",
    "        if count<=0.99:\n",
    "            keep_columns.append(feature)\n",
    "            \n",
    "    print(f'total de variables : {len(train.columns)}')\n",
    "    print(f'variables con importancia acumulada al 99% : {len(keep_columns)}')\n",
    "    print(f'variables con zero importancia : {len(zero_importance)}')\n",
    "    train = train[keep_columns]\n",
    "    test = test[keep_columns]\n",
    "    if len(zero_importance)==0:\n",
    "        break"
   ]
  },
  {
   "cell_type": "code",
   "execution_count": null,
   "id": "negative-spectacular",
   "metadata": {},
   "outputs": [],
   "source": [
    "from lightgbm import LGBMClassifier\n",
    "from sklearn.metrics import roc_auc_score\n",
    "from sklearn.model_selection import KFold\n",
    "\n",
    "folds = [train.index[t] for t, v in KFold(5).split(train)]\n",
    "test_probs = []\n",
    "train_probs = []\n",
    "fi = []\n",
    "for i, idx in enumerate(folds):\n",
    "    print(\"*\"*10, i, \"*\"*10)\n",
    "    Xt = train.loc[idx]\n",
    "    yt = y_train.loc[Xt.index].target\n",
    "\n",
    "    Xv = train.drop(Xt.index)\n",
    "    yv = y_train.loc[Xv.index].target\n",
    "\n",
    "    learner = LGBMClassifier(n_estimators=1000, boosting_type='gbdt',min_child_samples=1500, \n",
    "                   colsample_bytree=0.8,subsample=0.8, max_bin=200, learning_rate=0.1)\n",
    "    learner.fit(Xt, yt,  early_stopping_rounds=10, eval_metric=\"auc\",\n",
    "                eval_set=[(Xt, yt), (Xv, yv)], verbose=50)\n",
    "    test_probs.append(pd.Series(learner.predict_proba(test)[:, -1], index=test.index, name=\"fold_\" + str(i)))\n",
    "    train_probs.append(pd.Series(learner.predict_proba(Xv)[:, -1], index=Xv.index, name=\"probs\"))\n",
    "    fi.append(pd.Series(learner.feature_importances_ / learner.feature_importances_.sum(), index=Xt.columns))\n",
    "\n",
    "test_probs = pd.concat(test_probs, axis=1).mean(axis=1)\n",
    "train_probs = pd.concat(train_probs)\n",
    "fi = pd.concat(fi, axis=1).mean(axis=1)\n",
    "print(\"*\" * 21)\n",
    "print(\"roc auc estimado: \", roc_auc_score(y_train, train_probs.loc[y_train.index]))\n",
    "print(\"roc auc varianza: \", np.std([roc_auc_score(y_train.loc[folds[i]], train_probs.iloc[folds[i]]) for i in range(len(folds))])) "
   ]
  },
  {
   "cell_type": "code",
   "execution_count": null,
   "id": "catholic-coast",
   "metadata": {},
   "outputs": [],
   "source": [
    "test_probs.name = 'target'\n",
    "test_probs.to_csv('../results/lightgbm_with_1064features_0.83955.csv') ### score de 0.84242 en la tabla publica"
   ]
  },
  {
   "cell_type": "code",
   "execution_count": null,
   "id": "aquatic-jimmy",
   "metadata": {},
   "outputs": [],
   "source": [
    "# train.to_pickle('train_1064features.pkl')\n",
    "# test.to_pickle('test_1064features.pkl')"
   ]
  },
  {
   "cell_type": "markdown",
   "id": "close-lawyer",
   "metadata": {},
   "source": [
    "### Cargar dataset preprocesado del RCC"
   ]
  },
  {
   "cell_type": "code",
   "execution_count": 4,
   "id": "documented-board",
   "metadata": {},
   "outputs": [],
   "source": [
    "train = pd.read_pickle('train_1064features.pkl')\n",
    "test = pd.read_pickle('test_1064features.pkl')"
   ]
  },
  {
   "cell_type": "markdown",
   "id": "surrounded-lyric",
   "metadata": {},
   "source": [
    "## Procesar SE"
   ]
  },
  {
   "cell_type": "code",
   "execution_count": 5,
   "id": "continued-hepatitis",
   "metadata": {},
   "outputs": [],
   "source": [
    "se_train = pd.read_csv(f'{path}/se_train.csv', index_col = 'key_value')\n",
    "se_test = pd.read_csv(f'{path}/se_test.csv', index_col = 'key_value')"
   ]
  },
  {
   "cell_type": "code",
   "execution_count": 6,
   "id": "secondary-civilization",
   "metadata": {},
   "outputs": [],
   "source": [
    "dict_ = {'sexo':'int32',\n",
    "         'est_cvl':'int32',\n",
    "         'sit_lab':'int32',\n",
    "         'cod_ocu':'int32',\n",
    "         'ctd_hijos':'int32',\n",
    "         'flg_sin_email':'int32',\n",
    "         'ctd_veh':'int32',\n",
    "         'lgr_vot':'int32',\n",
    "         'prv':'int32',\n",
    "         'dto':'int32',\n",
    "         'rgn':'int32',\n",
    "         'tip_lvledu':'int32'}\n",
    "se_train = se_train.astype(dict_)\n",
    "se_test = se_test.astype(dict_)"
   ]
  },
  {
   "cell_type": "code",
   "execution_count": 7,
   "id": "reverse-trance",
   "metadata": {
    "scrolled": false
   },
   "outputs": [],
   "source": [
    "from lightgbm import LGBMClassifier\n",
    "from sklearn.metrics import roc_auc_score\n",
    "from sklearn.model_selection import KFold\n",
    "\n",
    "def cross_validation_lightgbm(train, test, y_train):\n",
    "    folds = [train.index[t] for t, v in KFold(5).split(train)]\n",
    "    test_probs = []\n",
    "    train_probs = []\n",
    "    fi = []\n",
    "    for i, idx in enumerate(folds):\n",
    "        print(\"*\"*10, i, \"*\"*10)\n",
    "        Xt = train.loc[idx]\n",
    "        yt = y_train.loc[Xt.index].target\n",
    "\n",
    "        Xv = train.drop(Xt.index)\n",
    "        yv = y_train.loc[Xv.index].target\n",
    "\n",
    "        learner = LGBMClassifier(n_estimators=1000, boosting_type='gbdt',min_child_samples=1500, \n",
    "                       colsample_bytree=0.8,subsample=0.8, max_bin=200, learning_rate=0.1)\n",
    "        learner.fit(Xt, yt,  early_stopping_rounds=10, eval_metric=\"auc\",\n",
    "                    eval_set=[(Xt, yt), (Xv, yv)], verbose=50)\n",
    "        test_probs.append(pd.Series(learner.predict_proba(test)[:, -1], index=test.index, name=\"fold_\" + str(i)))\n",
    "        train_probs.append(pd.Series(learner.predict_proba(Xv)[:, -1], index=Xv.index, name=\"probs\"))\n",
    "        fi.append(pd.Series(learner.feature_importances_ / learner.feature_importances_.sum(), index=Xt.columns))\n",
    "        gc.collect()\n",
    "    test_probs = pd.concat(test_probs, axis=1).mean(axis=1)\n",
    "    train_probs = pd.concat(train_probs)\n",
    "    fi = pd.concat(fi, axis=1).mean(axis=1)\n",
    "    print(\"*\" * 21)\n",
    "    print(\"roc auc estimado: \", roc_auc_score(y_train, train_probs.loc[y_train.index]))\n",
    "    print(\"roc auc varianza: \", np.std([roc_auc_score(y_train.loc[folds[i]], train_probs.iloc[folds[i]]) for i in range(len(folds))]))\n",
    "    return [test_probs, fi]"
   ]
  },
  {
   "cell_type": "code",
   "execution_count": 8,
   "id": "chubby-mistress",
   "metadata": {},
   "outputs": [],
   "source": [
    "def get_one_hot(df, feature):\n",
    "    one_hot = pd.get_dummies(df[feature])\n",
    "    one_hot.columns = [feature+'_'+str(i) for i in one_hot.columns]\n",
    "    return one_hot\n",
    "one_hot_sexo_train = get_one_hot(se_train, 'sexo')\n",
    "one_hot_sexo_test = get_one_hot(se_test, 'sexo')\n",
    "one_hot_est_cvl_train = get_one_hot(se_train, 'est_cvl')\n",
    "one_hot_est_cvl_test = get_one_hot(se_test, 'est_cvl')\n",
    "one_hot_rgn_train = get_one_hot(se_train, 'rgn')\n",
    "one_hot_rgn_test = get_one_hot(se_test, 'rgn')"
   ]
  },
  {
   "cell_type": "code",
   "execution_count": 9,
   "id": "bacterial-surge",
   "metadata": {},
   "outputs": [],
   "source": [
    "train = train.join(one_hot_sexo_train).join(one_hot_est_cvl_train).join(one_hot_rgn_train).join(se_train[['edad','ctd_veh']])\n",
    "test = test.join(one_hot_sexo_test).join(one_hot_est_cvl_test).join(one_hot_rgn_test).join(se_test[['edad','ctd_veh']])"
   ]
  },
  {
   "cell_type": "code",
   "execution_count": 11,
   "id": "dedicated-incentive",
   "metadata": {
    "scrolled": true
   },
   "outputs": [
    {
     "name": "stdout",
     "output_type": "stream",
     "text": [
      "********** 0 **********\n",
      "Training until validation scores don't improve for 10 rounds\n",
      "[50]\ttraining's auc: 0.841961\ttraining's binary_logloss: 0.303502\tvalid_1's auc: 0.833136\tvalid_1's binary_logloss: 0.309781\n",
      "[100]\ttraining's auc: 0.855334\ttraining's binary_logloss: 0.293031\tvalid_1's auc: 0.840443\tvalid_1's binary_logloss: 0.303984\n",
      "[150]\ttraining's auc: 0.86342\ttraining's binary_logloss: 0.286803\tvalid_1's auc: 0.842834\tvalid_1's binary_logloss: 0.302076\n",
      "[200]\ttraining's auc: 0.869938\ttraining's binary_logloss: 0.281867\tvalid_1's auc: 0.844005\tvalid_1's binary_logloss: 0.301129\n",
      "[250]\ttraining's auc: 0.875516\ttraining's binary_logloss: 0.277572\tvalid_1's auc: 0.844612\tvalid_1's binary_logloss: 0.300671\n",
      "[300]\ttraining's auc: 0.88052\ttraining's binary_logloss: 0.273588\tvalid_1's auc: 0.845113\tvalid_1's binary_logloss: 0.300427\n",
      "Early stopping, best iteration is:\n",
      "[308]\ttraining's auc: 0.881344\ttraining's binary_logloss: 0.272952\tvalid_1's auc: 0.845203\tvalid_1's binary_logloss: 0.300395\n",
      "********** 1 **********\n",
      "Training until validation scores don't improve for 10 rounds\n",
      "[50]\ttraining's auc: 0.841993\ttraining's binary_logloss: 0.303479\tvalid_1's auc: 0.833206\tvalid_1's binary_logloss: 0.30971\n",
      "[100]\ttraining's auc: 0.855416\ttraining's binary_logloss: 0.293\tvalid_1's auc: 0.84062\tvalid_1's binary_logloss: 0.303933\n",
      "[150]\ttraining's auc: 0.863642\ttraining's binary_logloss: 0.286721\tvalid_1's auc: 0.842894\tvalid_1's binary_logloss: 0.302066\n",
      "[200]\ttraining's auc: 0.869806\ttraining's binary_logloss: 0.28188\tvalid_1's auc: 0.844089\tvalid_1's binary_logloss: 0.30113\n",
      "[250]\ttraining's auc: 0.875637\ttraining's binary_logloss: 0.277477\tvalid_1's auc: 0.844564\tvalid_1's binary_logloss: 0.300746\n",
      "Early stopping, best iteration is:\n",
      "[265]\ttraining's auc: 0.877109\ttraining's binary_logloss: 0.276322\tvalid_1's auc: 0.844707\tvalid_1's binary_logloss: 0.30065\n",
      "********** 2 **********\n",
      "Training until validation scores don't improve for 10 rounds\n",
      "[50]\ttraining's auc: 0.842183\ttraining's binary_logloss: 0.303783\tvalid_1's auc: 0.836093\tvalid_1's binary_logloss: 0.3077\n",
      "[100]\ttraining's auc: 0.855578\ttraining's binary_logloss: 0.293394\tvalid_1's auc: 0.842793\tvalid_1's binary_logloss: 0.301952\n",
      "[150]\ttraining's auc: 0.863622\ttraining's binary_logloss: 0.287248\tvalid_1's auc: 0.844817\tvalid_1's binary_logloss: 0.30008\n",
      "[200]\ttraining's auc: 0.870204\ttraining's binary_logloss: 0.282241\tvalid_1's auc: 0.845404\tvalid_1's binary_logloss: 0.29932\n",
      "[250]\ttraining's auc: 0.875627\ttraining's binary_logloss: 0.278009\tvalid_1's auc: 0.845742\tvalid_1's binary_logloss: 0.298887\n",
      "[300]\ttraining's auc: 0.880715\ttraining's binary_logloss: 0.273997\tvalid_1's auc: 0.846196\tvalid_1's binary_logloss: 0.298447\n",
      "Early stopping, best iteration is:\n",
      "[304]\ttraining's auc: 0.881113\ttraining's binary_logloss: 0.273687\tvalid_1's auc: 0.846214\tvalid_1's binary_logloss: 0.298441\n",
      "********** 3 **********\n",
      "Training until validation scores don't improve for 10 rounds\n",
      "[50]\ttraining's auc: 0.842177\ttraining's binary_logloss: 0.303896\tvalid_1's auc: 0.835029\tvalid_1's binary_logloss: 0.307948\n",
      "[100]\ttraining's auc: 0.85546\ttraining's binary_logloss: 0.293577\tvalid_1's auc: 0.842041\tvalid_1's binary_logloss: 0.302045\n",
      "[150]\ttraining's auc: 0.863583\ttraining's binary_logloss: 0.28736\tvalid_1's auc: 0.844369\tvalid_1's binary_logloss: 0.299983\n",
      "[200]\ttraining's auc: 0.870049\ttraining's binary_logloss: 0.282432\tvalid_1's auc: 0.845313\tvalid_1's binary_logloss: 0.299152\n",
      "[250]\ttraining's auc: 0.875825\ttraining's binary_logloss: 0.278035\tvalid_1's auc: 0.845655\tvalid_1's binary_logloss: 0.298717\n",
      "Early stopping, best iteration is:\n",
      "[278]\ttraining's auc: 0.878704\ttraining's binary_logloss: 0.275792\tvalid_1's auc: 0.845895\tvalid_1's binary_logloss: 0.29845\n",
      "********** 4 **********\n",
      "Training until validation scores don't improve for 10 rounds\n",
      "[50]\ttraining's auc: 0.843671\ttraining's binary_logloss: 0.303145\tvalid_1's auc: 0.828772\tvalid_1's binary_logloss: 0.309908\n",
      "[100]\ttraining's auc: 0.857248\ttraining's binary_logloss: 0.292402\tvalid_1's auc: 0.835898\tvalid_1's binary_logloss: 0.304354\n",
      "[150]\ttraining's auc: 0.865435\ttraining's binary_logloss: 0.286149\tvalid_1's auc: 0.837903\tvalid_1's binary_logloss: 0.302697\n",
      "[200]\ttraining's auc: 0.871739\ttraining's binary_logloss: 0.281225\tvalid_1's auc: 0.838832\tvalid_1's binary_logloss: 0.301952\n",
      "Early stopping, best iteration is:\n",
      "[219]\ttraining's auc: 0.874088\ttraining's binary_logloss: 0.279506\tvalid_1's auc: 0.839055\tvalid_1's binary_logloss: 0.301776\n",
      "*********************\n",
      "roc auc estimado:  0.8442230003501033\n",
      "roc auc varianza:  0.000649148222718654\n"
     ]
    }
   ],
   "source": [
    "[test_probs,fi] = cross_validation_lightgbm(train, test, y_train)"
   ]
  },
  {
   "cell_type": "code",
   "execution_count": 12,
   "id": "anticipated-homework",
   "metadata": {},
   "outputs": [],
   "source": [
    "test_probs.name = 'target'\n",
    "test_probs.to_csv('../results/test_withRccSe_0.84422.csv') #### score de 0.84738 en la tabla publica"
   ]
  },
  {
   "cell_type": "markdown",
   "id": "noble-buddy",
   "metadata": {},
   "source": [
    "## Procesar SUNAT"
   ]
  },
  {
   "cell_type": "code",
   "execution_count": 10,
   "id": "medieval-twist",
   "metadata": {},
   "outputs": [],
   "source": [
    "sunat_train = pd.read_csv(f'{path}/sunat_train.csv')\n",
    "sunat_test = pd.read_csv(f'{path}/sunat_test.csv')"
   ]
  },
  {
   "cell_type": "code",
   "execution_count": 11,
   "id": "caroline-stereo",
   "metadata": {},
   "outputs": [
    {
     "data": {
      "text/plain": [
       "((292479, 18), (318821, 18))"
      ]
     },
     "execution_count": 11,
     "metadata": {},
     "output_type": "execute_result"
    }
   ],
   "source": [
    "### eliminar registros duplicados\n",
    "sunat_train.drop_duplicates(inplace=True)\n",
    "sunat_test.drop_duplicates(inplace=True)\n",
    "sunat_train.shape, sunat_test.shape"
   ]
  },
  {
   "cell_type": "code",
   "execution_count": 12,
   "id": "covered-experiment",
   "metadata": {},
   "outputs": [],
   "source": [
    "dict_ = {'tipcontribuyente': 'int32',\n",
    "         'tippersona': 'int32',\n",
    "         'ciiu': 'int32',\n",
    "         'ubigeo': 'int32',\n",
    "         'condiciondomicilio': 'int32',\n",
    "         'estadocontribuyente': 'int32',\n",
    "         'codvia': 'int32',\n",
    "         'codzona': 'int32',\n",
    "         'contabilidad': 'int32',\n",
    "         'facturacion': 'int32',\n",
    "         'domiciliado': 'int32',\n",
    "         'comercioexterior': 'int32',\n",
    "         'cargorele': 'int32',\n",
    "         'codentidadtributo': 'int32',\n",
    "         'estadotributo': 'int32'}\n",
    "sunat_train = sunat_train.astype(dict_)\n",
    "sunat_test = sunat_test.astype(dict_)"
   ]
  },
  {
   "cell_type": "code",
   "execution_count": 13,
   "id": "sapphire-slovakia",
   "metadata": {},
   "outputs": [],
   "source": [
    "sunat_train['diff_fech'] = sunat_train['fecbaja'] - sunat_train['fecalta']\n",
    "sunat_test['diff_fech'] = sunat_test['fecbaja'] - sunat_test['fecalta']"
   ]
  },
  {
   "cell_type": "code",
   "execution_count": 14,
   "id": "handmade-berkeley",
   "metadata": {},
   "outputs": [],
   "source": [
    "moda=lambda x: calculate_mode(x)\n",
    "moda.__name__='mode'\n",
    "agg_sunat = {\n",
    "            'tipcontribuyente':['nunique',moda],\n",
    "           'tippersona':['nunique',moda],\n",
    "           'ciiu':['nunique', moda],\n",
    "           'ubigeo':['nunique',moda],\n",
    "           'condiciondomicilio':['nunique',moda],\n",
    "#            'estadocontribuyente':['nunique',moda],\n",
    "           'codvia':['nunique',moda],\n",
    "           'codzona':['nunique',moda],\n",
    "           'contabilidad':['nunique',moda],\n",
    "           'facturacion':['nunique',moda],\n",
    "           'domiciliado':['nunique',moda],\n",
    "           'comercioexterior':['nunique',moda],\n",
    "           'cargorele':['nunique',moda],\n",
    "           'codentidadtributo':['nunique',moda],\n",
    "           'estadotributo':['nunique',moda],\n",
    "           'fecalta':['mean','max', 'nunique','min','std'],\n",
    "           'fecbaja':['mean','max', 'nunique','min'], \n",
    "           'diff_fech':['mean','max', 'nunique','min'], \n",
    "            }\n",
    "sunat_train_ = sunat_train.groupby('key_value').agg(agg_sunat)\n",
    "sunat_train_.columns = [i+'_'+j for i,j in sunat_train_.columns]\n",
    "sunat_test_ = sunat_test.groupby('key_value').agg(agg_sunat)\n",
    "sunat_test_.columns = [i+'_'+j for i,j in sunat_test_.columns]\n",
    "# del sunat_train, sunat_test"
   ]
  },
  {
   "cell_type": "code",
   "execution_count": 15,
   "id": "fundamental-frank",
   "metadata": {},
   "outputs": [],
   "source": [
    "def get_keep_columns(train, test):\n",
    "    print(train.shape, test.shape)\n",
    "    keep_columns = list(set(train.columns).intersection(test.columns))\n",
    "    train = train[keep_columns]\n",
    "    test = test[keep_columns]\n",
    "    print(train.shape, test.shape)\n",
    "    return  train, test\n",
    "def get_crosstab(df, index, feature):\n",
    "    df = pd.crosstab(df[index], df[feature])\n",
    "    df.columns = [f'{df.columns.name}_{i}' for i in df.columns]\n",
    "    return df\n",
    "\n",
    "import category_encoders as ce\n",
    "def get_binec(df, feature):\n",
    "    X_binenc = df[feature]\n",
    "    encoder = ce.BinaryEncoder(cols=feature)\n",
    "    X_binenc = encoder.fit_transform(X_binenc)\n",
    "    return X_binenc\n",
    "\n",
    "def get_one_hot(df, feature):\n",
    "    one_hot = pd.get_dummies(df[feature])\n",
    "    one_hot.columns = [feature+'_'+str(i) for i in one_hot.columns]\n",
    "    return one_hot"
   ]
  },
  {
   "cell_type": "code",
   "execution_count": 16,
   "id": "earned-ottawa",
   "metadata": {},
   "outputs": [],
   "source": [
    "crosstab_estadocontribuyente_train = get_crosstab(sunat_train, 'key_value', 'estadocontribuyente')\n",
    "crosstab_estadocontribuyente_test = get_crosstab(sunat_test, 'key_value', 'estadocontribuyente')"
   ]
  },
  {
   "cell_type": "code",
   "execution_count": 17,
   "id": "handy-graham",
   "metadata": {},
   "outputs": [
    {
     "name": "stdout",
     "output_type": "stream",
     "text": [
      "(358487, 1137) (396666, 1136)\n",
      "(358487, 1136) (396666, 1136)\n"
     ]
    }
   ],
   "source": [
    "train = train.join(crosstab_estadocontribuyente_train).join(sunat_train_)\n",
    "test = test.join(crosstab_estadocontribuyente_test).join(sunat_test_)\n",
    "train, test = get_keep_columns(train, test)"
   ]
  },
  {
   "cell_type": "code",
   "execution_count": 18,
   "id": "mighty-channels",
   "metadata": {
    "scrolled": true
   },
   "outputs": [
    {
     "name": "stdout",
     "output_type": "stream",
     "text": [
      "********** 0 **********\n",
      "Training until validation scores don't improve for 10 rounds\n",
      "[50]\ttraining's auc: 0.842656\ttraining's binary_logloss: 0.303229\tvalid_1's auc: 0.834396\tvalid_1's binary_logloss: 0.3093\n",
      "[100]\ttraining's auc: 0.856885\ttraining's binary_logloss: 0.292173\tvalid_1's auc: 0.842629\tvalid_1's binary_logloss: 0.302872\n",
      "[150]\ttraining's auc: 0.865332\ttraining's binary_logloss: 0.285703\tvalid_1's auc: 0.845335\tvalid_1's binary_logloss: 0.300704\n",
      "[200]\ttraining's auc: 0.872167\ttraining's binary_logloss: 0.280538\tvalid_1's auc: 0.846596\tvalid_1's binary_logloss: 0.299734\n",
      "[250]\ttraining's auc: 0.877745\ttraining's binary_logloss: 0.276136\tvalid_1's auc: 0.847317\tvalid_1's binary_logloss: 0.299193\n",
      "[300]\ttraining's auc: 0.88267\ttraining's binary_logloss: 0.272096\tvalid_1's auc: 0.847638\tvalid_1's binary_logloss: 0.298928\n",
      "Early stopping, best iteration is:\n",
      "[294]\ttraining's auc: 0.882096\ttraining's binary_logloss: 0.272538\tvalid_1's auc: 0.847688\tvalid_1's binary_logloss: 0.298904\n",
      "********** 1 **********\n",
      "Training until validation scores don't improve for 10 rounds\n",
      "[50]\ttraining's auc: 0.842628\ttraining's binary_logloss: 0.303218\tvalid_1's auc: 0.833647\tvalid_1's binary_logloss: 0.309514\n",
      "[100]\ttraining's auc: 0.856888\ttraining's binary_logloss: 0.292179\tvalid_1's auc: 0.842055\tvalid_1's binary_logloss: 0.303026\n",
      "[150]\ttraining's auc: 0.865446\ttraining's binary_logloss: 0.285634\tvalid_1's auc: 0.844886\tvalid_1's binary_logloss: 0.300892\n",
      "[200]\ttraining's auc: 0.872038\ttraining's binary_logloss: 0.280488\tvalid_1's auc: 0.846083\tvalid_1's binary_logloss: 0.299905\n",
      "[250]\ttraining's auc: 0.877797\ttraining's binary_logloss: 0.27602\tvalid_1's auc: 0.846767\tvalid_1's binary_logloss: 0.299367\n",
      "Early stopping, best iteration is:\n",
      "[262]\ttraining's auc: 0.879071\ttraining's binary_logloss: 0.275016\tvalid_1's auc: 0.846896\tvalid_1's binary_logloss: 0.299295\n",
      "********** 2 **********\n",
      "Training until validation scores don't improve for 10 rounds\n",
      "[50]\ttraining's auc: 0.842819\ttraining's binary_logloss: 0.303533\tvalid_1's auc: 0.837625\tvalid_1's binary_logloss: 0.306977\n",
      "[100]\ttraining's auc: 0.856862\ttraining's binary_logloss: 0.29263\tvalid_1's auc: 0.84468\tvalid_1's binary_logloss: 0.300859\n",
      "[150]\ttraining's auc: 0.865276\ttraining's binary_logloss: 0.286119\tvalid_1's auc: 0.846969\tvalid_1's binary_logloss: 0.298742\n",
      "[200]\ttraining's auc: 0.871866\ttraining's binary_logloss: 0.280984\tvalid_1's auc: 0.847842\tvalid_1's binary_logloss: 0.29784\n",
      "[250]\ttraining's auc: 0.877655\ttraining's binary_logloss: 0.276443\tvalid_1's auc: 0.848461\tvalid_1's binary_logloss: 0.297219\n",
      "Early stopping, best iteration is:\n",
      "[244]\ttraining's auc: 0.877009\ttraining's binary_logloss: 0.27695\tvalid_1's auc: 0.848496\tvalid_1's binary_logloss: 0.297215\n",
      "********** 3 **********\n",
      "Training until validation scores don't improve for 10 rounds\n",
      "[50]\ttraining's auc: 0.842749\ttraining's binary_logloss: 0.303519\tvalid_1's auc: 0.835859\tvalid_1's binary_logloss: 0.307644\n",
      "[100]\ttraining's auc: 0.856871\ttraining's binary_logloss: 0.292691\tvalid_1's auc: 0.843467\tvalid_1's binary_logloss: 0.301423\n",
      "[150]\ttraining's auc: 0.86555\ttraining's binary_logloss: 0.286006\tvalid_1's auc: 0.846384\tvalid_1's binary_logloss: 0.298894\n",
      "[200]\ttraining's auc: 0.8721\ttraining's binary_logloss: 0.280959\tvalid_1's auc: 0.847394\tvalid_1's binary_logloss: 0.297973\n",
      "[250]\ttraining's auc: 0.877752\ttraining's binary_logloss: 0.276578\tvalid_1's auc: 0.847917\tvalid_1's binary_logloss: 0.297516\n",
      "Early stopping, best iteration is:\n",
      "[261]\ttraining's auc: 0.878888\ttraining's binary_logloss: 0.275688\tvalid_1's auc: 0.848071\tvalid_1's binary_logloss: 0.297378\n",
      "********** 4 **********\n",
      "Training until validation scores don't improve for 10 rounds\n",
      "[50]\ttraining's auc: 0.844194\ttraining's binary_logloss: 0.30306\tvalid_1's auc: 0.829081\tvalid_1's binary_logloss: 0.309717\n",
      "[100]\ttraining's auc: 0.858601\ttraining's binary_logloss: 0.291727\tvalid_1's auc: 0.836565\tvalid_1's binary_logloss: 0.303783\n",
      "[150]\ttraining's auc: 0.867263\ttraining's binary_logloss: 0.285032\tvalid_1's auc: 0.838949\tvalid_1's binary_logloss: 0.301946\n",
      "[200]\ttraining's auc: 0.873987\ttraining's binary_logloss: 0.279886\tvalid_1's auc: 0.840421\tvalid_1's binary_logloss: 0.300945\n",
      "[250]\ttraining's auc: 0.879672\ttraining's binary_logloss: 0.275323\tvalid_1's auc: 0.841004\tvalid_1's binary_logloss: 0.300442\n",
      "Early stopping, best iteration is:\n",
      "[265]\ttraining's auc: 0.88131\ttraining's binary_logloss: 0.274026\tvalid_1's auc: 0.841073\tvalid_1's binary_logloss: 0.30038\n",
      "*********************\n",
      "roc auc estimado:  0.8464641998797686\n",
      "roc auc varianza:  0.0006693499357910698\n"
     ]
    }
   ],
   "source": [
    "[test_probs, fi] = cross_validation_lightgbm(train, test, y_train)"
   ]
  },
  {
   "cell_type": "code",
   "execution_count": 22,
   "id": "aging-british",
   "metadata": {
    "scrolled": true
   },
   "outputs": [
    {
     "data": {
      "text/plain": [
       "RIESGO_DIRECTO_1_saldoUnique_ult1meses               0.012741\n",
       "cod_instit_financiera_max_ult1mes                    0.011633\n",
       "edad                                                 0.010780\n",
       "ubigeo_mode                                          0.009118\n",
       "COD_CLASIFICACION_DEUDOR_0_saldoUnique_ult12meses    0.008692\n",
       "RIESGO_DIRECTO_-1_saldoUnique_ult12meses             0.008199\n",
       "RIESGO_DIRECTO_1_saldoStd_ult1meses                  0.008176\n",
       "RIESGO_DIRECTO_-1_saldoMedian_ult1meses              0.007871\n",
       "RIESGO_DIRECTO_-1_saldoMedian_ult2meses              0.006790\n",
       "cod_instit_financiera_min_ult1mes                    0.006697\n",
       "RIESGO_DIRECTO_1_saldoMin_ult1meses                  0.006585\n",
       "cod_instit_financiera_mode_ult1mes                   0.006355\n",
       "sexo_0                                               0.005697\n",
       "RIESGO_DIRECTO_1_saldoMax_ult12meses                 0.005697\n",
       "condicion_0_saldoUnique_ult12meses                   0.005648\n",
       "tipo_credito_11_saldoStd_ult1meses                   0.005628\n",
       "tipo_credito_11_saldoUnique_ult12meses               0.005397\n",
       "RIESGO_DIRECTO_1_saldoMedian_ult1meses               0.005311\n",
       "ciiu_mode                                            0.005107\n",
       "estadocontribuyente_0                                0.005097\n",
       "RIESGO_DIRECTO_1_saldoMedian_ult2meses               0.005080\n",
       "tipo_credito_11_saldoMin_ult1meses                   0.004777\n",
       "RIESGO_DIRECTO_1_saldoMax_ult1meses                  0.004654\n",
       "RIESGO_DIRECTO_1_saldoMin_ult2meses                  0.004296\n",
       "RIESGO_DIRECTO_-1_saldoSum_ult1meses                 0.004289\n",
       "tipo_credito_11_saldoSum_ult1meses                   0.004192\n",
       "RIESGO_DIRECTO_1_saldoStd_ult2meses                  0.004168\n",
       "RIESGO_DIRECTO_1_saldoSum_ult1meses                  0.004152\n",
       "tipo_credito_12_saldoMin_ult1meses                   0.004124\n",
       "fecalta_mean                                         0.004056\n",
       "RIESGO_DIRECTO_1_saldoMedian_ult3meses               0.004052\n",
       "RIESGO_DIRECTO_1_saldoUnique_ult12meses              0.004025\n",
       "fecalta_min                                          0.003974\n",
       "tipo_credito_12_saldoSum_ult1meses                   0.003895\n",
       "RIESGO_DIRECTO_1_saldoStd_ult12meses                 0.003864\n",
       "RIESGO_DIRECTO_1_saldoMean_ult1meses                 0.003857\n",
       "cod_instit_financiera_mode_ult12mes                  0.003808\n",
       "RIESGO_DIRECTO_-1_saldoSum_ult12meses                0.003778\n",
       "RIESGO_DIRECTO_-1_saldoMedian_ult3meses              0.003771\n",
       "RIESGO_DIRECTO_1_saldoMin_ult12meses                 0.003749\n",
       "tipo_credito_12_saldoUnique_ult12meses               0.003731\n",
       "RIESGO_DIRECTO_1_saldoMedian_ult12meses              0.003657\n",
       "cod_instit_financiera_max_ult12mes                   0.003180\n",
       "COD_CLASIFICACION_DEUDOR_0_saldoMin_ult1meses        0.003112\n",
       "RIESGO_DIRECTO_1_saldoUnique_ult2meses               0.003108\n",
       "codzona_mode                                         0.003015\n",
       "RIESGO_DIRECTO_1_saldoMedian_ult4meses               0.002966\n",
       "tipo_credito_12_saldoUnique_ult1meses                0.002927\n",
       "RIESGO_DIRECTO_1_saldoStd_ult3meses                  0.002924\n",
       "ctd_veh                                              0.002897\n",
       "dtype: float64"
      ]
     },
     "execution_count": 22,
     "metadata": {},
     "output_type": "execute_result"
    }
   ],
   "source": [
    "fi.sort_values(ascending=False).head(50)"
   ]
  },
  {
   "cell_type": "code",
   "execution_count": 21,
   "id": "skilled-approval",
   "metadata": {},
   "outputs": [],
   "source": [
    "test_probs.name = 'target'\n",
    "test_probs.to_csv('../results/lightgbm_with_1136features_0.84646.csv') ### score de  0.84862 en la tabla publica"
   ]
  },
  {
   "cell_type": "code",
   "execution_count": 45,
   "id": "grateful-universe",
   "metadata": {},
   "outputs": [],
   "source": [
    "train.to_pickle('../data/train_score_0.84862.pkl')\n",
    "test.to_pickle('../data/test_score_0.84862.pkl')"
   ]
  },
  {
   "cell_type": "code",
   "execution_count": null,
   "id": "automatic-mixture",
   "metadata": {},
   "outputs": [],
   "source": [
    "# test_probs.name = 'target'\n",
    "# test_probs.to_csv('../results/lightgbm_with_1136features_0.84646.csv') ### score de  0.84862 en la tabla publica\n",
    "\n",
    "# test_probs.name = 'target'\n",
    "# test_probs.to_csv('../results/test_withRccSe_0.84422.csv') #### score de 0.84738 en la tabla publica\n",
    "\n",
    "# test_probs.name = 'target'\n",
    "# test_probs.to_csv('../results/lightgbm_with_1064features_0.83955.csv') ### score de 0.84242 en la tabla publica\n",
    "\n",
    "#### Podemos  ver que agregando la base del SE, el modelo mejora en tan solo casi 0.00496\n",
    "#### Podemos  ver que agregando la base del SE, el modelo mejora en tan solo casi 0.00124\n",
    "#### Podemos la diferencia entre el test final y test validacion difiere en solo difiere 0.003 , evitando asi el overfitting "
   ]
  },
  {
   "cell_type": "code",
   "execution_count": null,
   "id": "exotic-alliance",
   "metadata": {},
   "outputs": [],
   "source": [
    "# binenc_ubigeo_mode   *********\n",
    "# roc auc estimado:  0.8451880633349523\n",
    "# roc auc varianza:  0.0006811048507579711\n",
    "\n",
    "# binenc_estadocontribuyente_mode **************\n",
    "# roc auc estimado:  0.8454404252384857\n",
    "# roc auc varianza:  0.0007407556976310795\n",
    "\n",
    "# binenc_ciiu_mode\n",
    "# roc auc estimado:  0.8452323957840445 *************\n",
    "# roc auc varianza:  0.0006930959347139597\n",
    "\n",
    "# binenc_codzona_mode *************************\n",
    "# roc auc estimado:  0.8452934126596989\n",
    "# roc auc varianza:  0.0006864251485789392\n",
    "\n",
    "# binenc_condiciondomicilio\n",
    "# roc auc estimado:  0.8449534357725325\n",
    "# roc auc varianza:  0.0006904443537461785\n",
    "\n",
    "# onehot_codentidadtributo_mode\n",
    "# roc auc estimado:  0.8448728908251362\n",
    "# roc auc varianza:  0.0006799673871728364\n",
    "\n",
    "# binenc_tipcontribuyente_mode_train\n",
    "# roc auc estimado:  0.8452350383631082\n",
    "# roc auc varianza:  0.000742731434028307\n",
    "\n",
    "# onehot_contabilidad_mode_train\n",
    "# roc auc estimado:  0.8450975852481284\n",
    "# roc auc varianza:  0.000563203090351886\n",
    "\n",
    "# onehot_domiciliado_mode\n",
    "# roc auc estimado:  0.8450611911417196\n",
    "# roc auc varianza:  0.0006969148526762507\n",
    "\n",
    "# onehot_tippersona_mode\n",
    "# roc auc estimado:  0.845083437988461\n",
    "# roc auc varianza:  0.0007284692072829943\n",
    "\n",
    "# binenc_facturacion_mode\n",
    "# roc auc estimado:  0.8450877054575421\n",
    "# roc auc varianza:  0.0007139054949380171\n",
    "\n",
    "# binenc_comercioexterior_mode\n",
    "# roc auc estimado:  0.8452255931055561\n",
    "# roc auc varianza:  0.0006762403588663643"
   ]
  },
  {
   "cell_type": "code",
   "execution_count": 25,
   "id": "arabic-postcard",
   "metadata": {},
   "outputs": [],
   "source": [
    "train_ = train.copy()\n",
    "test_ = test.copy()\n",
    "# del train, test"
   ]
  },
  {
   "cell_type": "markdown",
   "id": "stunning-advisory",
   "metadata": {},
   "source": [
    "### all_training_data"
   ]
  },
  {
   "cell_type": "code",
   "execution_count": 29,
   "id": "hispanic-attitude",
   "metadata": {},
   "outputs": [
    {
     "name": "stderr",
     "output_type": "stream",
     "text": [
      "C:\\Users\\usuario\\anaconda3\\envs\\venv_datathon\\lib\\site-packages\\sklearn\\preprocessing\\_label.py:235: DataConversionWarning: A column-vector y was passed when a 1d array was expected. Please change the shape of y to (n_samples, ), for example using ravel().\n",
      "  y = column_or_1d(y, warn=True)\n",
      "C:\\Users\\usuario\\anaconda3\\envs\\venv_datathon\\lib\\site-packages\\sklearn\\preprocessing\\_label.py:268: DataConversionWarning: A column-vector y was passed when a 1d array was expected. Please change the shape of y to (n_samples, ), for example using ravel().\n",
      "  y = column_or_1d(y, warn=True)\n"
     ]
    },
    {
     "data": {
      "text/plain": [
       "LGBMClassifier(boosting_type='gbdt', class_weight=None, colsample_bytree=0.8,\n",
       "               importance_type='split', learning_rate=0.1, max_bin=200,\n",
       "               max_depth=-1, min_child_samples=1500, min_child_weight=0.001,\n",
       "               min_split_gain=0.0, n_estimators=1000, n_jobs=-1, num_leaves=31,\n",
       "               objective=None, random_state=None, reg_alpha=0.0, reg_lambda=0.0,\n",
       "               silent=True, subsample=0.8, subsample_for_bin=200000,\n",
       "               subsample_freq=0)"
      ]
     },
     "execution_count": 29,
     "metadata": {},
     "output_type": "execute_result"
    }
   ],
   "source": [
    "learner = LGBMClassifier(n_estimators=1000, boosting_type='gbdt',min_child_samples=1500, \n",
    "               colsample_bytree=0.8,subsample=0.8, max_bin=200, learning_rate=0.1)\n",
    "learner.fit(train_, y_train, eval_metric=\"auc\")"
   ]
  },
  {
   "cell_type": "code",
   "execution_count": 33,
   "id": "identical-liechtenstein",
   "metadata": {},
   "outputs": [],
   "source": [
    "test_probs = pd.Series(learner.predict_proba(test_)[:,-1], index=test_.index, name='target')\n",
    "test_probs.to_csv('../results/lightgbm_training_allData_with_1136features.csv')  ### score de  0.84567 en la tabla publica  "
   ]
  },
  {
   "cell_type": "markdown",
   "id": "documented-warrant",
   "metadata": {},
   "source": [
    "### Probando con cat_features"
   ]
  },
  {
   "cell_type": "code",
   "execution_count": 19,
   "id": "practical-recruitment",
   "metadata": {},
   "outputs": [],
   "source": [
    "var_mode = [ i for i in train_.columns if 'mode' in i ]\n",
    "for i in var_mode:\n",
    "    train_[i] = train_[i].astype('category')\n",
    "    test_[i] = test_[i].astype('category')"
   ]
  },
  {
   "cell_type": "code",
   "execution_count": 20,
   "id": "nuclear-jamaica",
   "metadata": {
    "scrolled": true
   },
   "outputs": [
    {
     "name": "stdout",
     "output_type": "stream",
     "text": [
      "********** 0 **********\n"
     ]
    },
    {
     "name": "stderr",
     "output_type": "stream",
     "text": [
      "C:\\Users\\usuario\\anaconda3\\envs\\venv_datathon\\lib\\site-packages\\lightgbm\\basic.py:1286: UserWarning: Overriding the parameters from Reference Dataset.\n",
      "  warnings.warn('Overriding the parameters from Reference Dataset.')\n",
      "C:\\Users\\usuario\\anaconda3\\envs\\venv_datathon\\lib\\site-packages\\lightgbm\\basic.py:1098: UserWarning: categorical_column in param dict is overridden.\n",
      "  warnings.warn('{} in param dict is overridden.'.format(cat_alias))\n"
     ]
    },
    {
     "name": "stdout",
     "output_type": "stream",
     "text": [
      "Training until validation scores don't improve for 10 rounds\n",
      "[50]\ttraining's auc: 0.853018\ttraining's binary_logloss: 0.297856\tvalid_1's auc: 0.83479\tvalid_1's binary_logloss: 0.309108\n",
      "[100]\ttraining's auc: 0.86851\ttraining's binary_logloss: 0.284755\tvalid_1's auc: 0.841822\tvalid_1's binary_logloss: 0.303217\n",
      "[150]\ttraining's auc: 0.878911\ttraining's binary_logloss: 0.276473\tvalid_1's auc: 0.844192\tvalid_1's binary_logloss: 0.301272\n",
      "[200]\ttraining's auc: 0.887114\ttraining's binary_logloss: 0.269921\tvalid_1's auc: 0.84546\tvalid_1's binary_logloss: 0.300323\n",
      "Early stopping, best iteration is:\n",
      "[200]\ttraining's auc: 0.887114\ttraining's binary_logloss: 0.269921\tvalid_1's auc: 0.84546\tvalid_1's binary_logloss: 0.300323\n",
      "********** 1 **********\n",
      "Training until validation scores don't improve for 10 rounds\n",
      "[50]\ttraining's auc: 0.853105\ttraining's binary_logloss: 0.297583\tvalid_1's auc: 0.83342\tvalid_1's binary_logloss: 0.309619\n",
      "[100]\ttraining's auc: 0.868977\ttraining's binary_logloss: 0.284423\tvalid_1's auc: 0.840708\tvalid_1's binary_logloss: 0.303684\n",
      "[150]\ttraining's auc: 0.879226\ttraining's binary_logloss: 0.276143\tvalid_1's auc: 0.842828\tvalid_1's binary_logloss: 0.302094\n",
      "[200]\ttraining's auc: 0.887353\ttraining's binary_logloss: 0.269529\tvalid_1's auc: 0.843784\tvalid_1's binary_logloss: 0.301376\n",
      "Early stopping, best iteration is:\n",
      "[209]\ttraining's auc: 0.888642\ttraining's binary_logloss: 0.268481\tvalid_1's auc: 0.843867\tvalid_1's binary_logloss: 0.301294\n",
      "********** 2 **********\n",
      "Training until validation scores don't improve for 10 rounds\n",
      "[50]\ttraining's auc: 0.852586\ttraining's binary_logloss: 0.298265\tvalid_1's auc: 0.837541\tvalid_1's binary_logloss: 0.306826\n",
      "[100]\ttraining's auc: 0.868712\ttraining's binary_logloss: 0.285091\tvalid_1's auc: 0.844201\tvalid_1's binary_logloss: 0.30097\n",
      "[150]\ttraining's auc: 0.878917\ttraining's binary_logloss: 0.27691\tvalid_1's auc: 0.846163\tvalid_1's binary_logloss: 0.299236\n",
      "[200]\ttraining's auc: 0.886899\ttraining's binary_logloss: 0.270421\tvalid_1's auc: 0.846798\tvalid_1's binary_logloss: 0.298529\n",
      "Early stopping, best iteration is:\n",
      "[206]\ttraining's auc: 0.887798\ttraining's binary_logloss: 0.269726\tvalid_1's auc: 0.846869\tvalid_1's binary_logloss: 0.298466\n",
      "********** 3 **********\n",
      "Training until validation scores don't improve for 10 rounds\n",
      "[50]\ttraining's auc: 0.852695\ttraining's binary_logloss: 0.298272\tvalid_1's auc: 0.834694\tvalid_1's binary_logloss: 0.308175\n",
      "[100]\ttraining's auc: 0.869093\ttraining's binary_logloss: 0.28497\tvalid_1's auc: 0.842292\tvalid_1's binary_logloss: 0.301997\n",
      "[150]\ttraining's auc: 0.879372\ttraining's binary_logloss: 0.276697\tvalid_1's auc: 0.844623\tvalid_1's binary_logloss: 0.300001\n",
      "[200]\ttraining's auc: 0.887344\ttraining's binary_logloss: 0.270172\tvalid_1's auc: 0.845315\tvalid_1's binary_logloss: 0.299225\n",
      "Early stopping, best iteration is:\n",
      "[193]\ttraining's auc: 0.886405\ttraining's binary_logloss: 0.27101\tvalid_1's auc: 0.845389\tvalid_1's binary_logloss: 0.2992\n",
      "********** 4 **********\n",
      "Training until validation scores don't improve for 10 rounds\n",
      "[50]\ttraining's auc: 0.853841\ttraining's binary_logloss: 0.297929\tvalid_1's auc: 0.830913\tvalid_1's binary_logloss: 0.308849\n",
      "[100]\ttraining's auc: 0.869867\ttraining's binary_logloss: 0.284511\tvalid_1's auc: 0.837493\tvalid_1's binary_logloss: 0.303402\n",
      "[150]\ttraining's auc: 0.880271\ttraining's binary_logloss: 0.276167\tvalid_1's auc: 0.839663\tvalid_1's binary_logloss: 0.301673\n",
      "[200]\ttraining's auc: 0.888299\ttraining's binary_logloss: 0.269601\tvalid_1's auc: 0.840531\tvalid_1's binary_logloss: 0.300949\n",
      "Early stopping, best iteration is:\n",
      "[195]\ttraining's auc: 0.887494\ttraining's binary_logloss: 0.27023\tvalid_1's auc: 0.840631\tvalid_1's binary_logloss: 0.300929\n",
      "*********************\n",
      "roc auc estimado:  0.8444576207545462\n",
      "roc auc varianza:  0.0005225965817099837\n"
     ]
    }
   ],
   "source": [
    "[test_probs, fi] = cross_validation_lightgbm(train_,\n",
    "                                             test_, \n",
    "                                             y_train)"
   ]
  },
  {
   "cell_type": "code",
   "execution_count": 22,
   "id": "cutting-visibility",
   "metadata": {
    "scrolled": true
   },
   "outputs": [
    {
     "data": {
      "text/plain": [
       "ciiu_mode                                            0.113727\n",
       "cod_instit_financiera_mode_ult1mes                   0.048391\n",
       "ubigeo_mode                                          0.047601\n",
       "cod_instit_financiera_mode_ult12mes                  0.028814\n",
       "cod_instit_financiera_mode_ult2mes                   0.026436\n",
       "cod_instit_financiera_mode_ult3mes                   0.019045\n",
       "cod_instit_financiera_mode_ult11mes                  0.018853\n",
       "cod_instit_financiera_mode_ult4mes                   0.016344\n",
       "RIESGO_DIRECTO_1_saldoUnique_ult1meses               0.014236\n",
       "cod_instit_financiera_mode_ult10mes                  0.013086\n",
       "cod_instit_financiera_mode_ult5mes                   0.013068\n",
       "cod_instit_financiera_mode_ult8mes                   0.012467\n",
       "cod_instit_financiera_mode_ult6mes                   0.011805\n",
       "cod_instit_financiera_mode_ult9mes                   0.011791\n",
       "cod_instit_financiera_mode_ult7mes                   0.011316\n",
       "COD_CLASIFICACION_DEUDOR_0_saldoUnique_ult12meses    0.009576\n",
       "edad                                                 0.009022\n",
       "RIESGO_DIRECTO_-1_saldoMedian_ult1meses              0.007951\n",
       "RIESGO_DIRECTO_-1_saldoUnique_ult12meses             0.007287\n",
       "RIESGO_DIRECTO_1_saldoStd_ult1meses                  0.006941\n",
       "codzona_mode                                         0.006904\n",
       "condicion_0_saldoUnique_ult12meses                   0.006230\n",
       "sexo_0                                               0.006089\n",
       "RIESGO_DIRECTO_-1_saldoMedian_ult2meses              0.005087\n",
       "PRODUCTO_mode_ult1mes                                0.004944\n",
       "RIESGO_DIRECTO_1_saldoMin_ult1meses                  0.004633\n",
       "tipo_credito_11_saldoUnique_ult12meses               0.004587\n",
       "RIESGO_DIRECTO_1_saldoUnique_ult12meses              0.004584\n",
       "estadocontribuyente_0                                0.004457\n",
       "RIESGO_DIRECTO_1_saldoMedian_ult2meses               0.004409\n",
       "RIESGO_DIRECTO_1_saldoMax_ult12meses                 0.004382\n",
       "cod_instit_financiera_max_ult1mes                    0.004270\n",
       "RIESGO_DIRECTO_1_saldoMedian_ult3meses               0.003700\n",
       "RIESGO_DIRECTO_1_saldoMax_ult1meses                  0.003584\n",
       "tipo_credito_11_saldoStd_ult1meses                   0.003523\n",
       "ctd_veh                                              0.003358\n",
       "RIESGO_DIRECTO_-1_saldoSum_ult1meses                 0.003331\n",
       "COD_CLASIFICACION_DEUDOR_5_saldoMin_ult1meses        0.003260\n",
       "RIESGO_DIRECTO_1_saldoMedian_ult1meses               0.003184\n",
       "RIESGO_DIRECTO_1_saldoStd_ult12meses                 0.003102\n",
       "PRODUCTO_min_ult1mes                                 0.002994\n",
       "tipo_credito_12_saldoUnique_ult1meses                0.002970\n",
       "PRODUCTO_mode_ult12mes                               0.002957\n",
       "PRODUCTO_mode_ult4mes                                0.002938\n",
       "RIESGO_DIRECTO_1_saldoSum_ult1meses                  0.002824\n",
       "RIESGO_DIRECTO_1_saldoMin_ult2meses                  0.002711\n",
       "COD_CLASIFICACION_DEUDOR_5_saldoMax_ult1meses        0.002688\n",
       "RIESGO_DIRECTO_1_saldoStd_ult2meses                  0.002670\n",
       "RIESGO_DIRECTO_1_saldoMean_ult1meses                 0.002622\n",
       "RIESGO_DIRECTO_1_saldoMin_ult12meses                 0.002619\n",
       "dtype: float64"
      ]
     },
     "execution_count": 22,
     "metadata": {},
     "output_type": "execute_result"
    }
   ],
   "source": [
    "fi.sort_values(ascending=False).head(50)"
   ]
  },
  {
   "cell_type": "code",
   "execution_count": 21,
   "id": "superior-panama",
   "metadata": {},
   "outputs": [],
   "source": [
    "test_probs.name = 'target'\n",
    "test_probs.to_csv('../results/lightgbm_with_1136features_CategoricalEncoding_0.84445.csv') ### score de  0.84789 en la tabla publica"
   ]
  },
  {
   "cell_type": "markdown",
   "id": "rocky-champagne",
   "metadata": {},
   "source": [
    "### Probando con mean-encoding, pero no funciona"
   ]
  },
  {
   "cell_type": "code",
   "execution_count": 34,
   "id": "bearing-begin",
   "metadata": {},
   "outputs": [],
   "source": [
    "var_mode = ['tipcontribuyente_mode', 'contabilidad_mode', 'condiciondomicilio_mode', 'cargorele_mode', 'comercioexterior_mode',                 \n",
    "'codentidadtributo_mode', 'codvia_mode', 'domiciliado_mode', 'ciiu_mode', 'tippersona_mode', 'facturacion_mode',                       \n",
    "'ubigeo_mode', 'codzona_mode', 'estadotributo_mode']  \n",
    "train_['target'] = y_train.loc[train_.index]\n",
    "for i in var_mode:\n",
    "    me = train_.groupby([i])['target'].mean().to_dict() \n",
    "    train_[f'{i}_me'] = train_[i].map(me) \n",
    "    test_[f'{i}_me'] = test_[i].map(me)\n",
    "    ### imputar datos faltantes\n",
    "#     test_[f'{i}_me'] =  test_[f'{i}_me'].fillna(sunat_train_[f'{i}_me'].median())\n",
    "train_.drop('target', axis=1, inplace=True)\n",
    "train_.drop(var_mode, axis=1, inplace=True)\n",
    "test_.drop(var_mode, axis=1, inplace=True)"
   ]
  },
  {
   "cell_type": "code",
   "execution_count": 38,
   "id": "desperate-maldives",
   "metadata": {
    "scrolled": true
   },
   "outputs": [
    {
     "name": "stdout",
     "output_type": "stream",
     "text": [
      "********** 0 **********\n",
      "Training until validation scores don't improve for 10 rounds\n",
      "[50]\ttraining's auc: 0.844739\ttraining's binary_logloss: 0.302081\tvalid_1's auc: 0.836933\tvalid_1's binary_logloss: 0.308151\n",
      "[100]\ttraining's auc: 0.858633\ttraining's binary_logloss: 0.291064\tvalid_1's auc: 0.84481\tvalid_1's binary_logloss: 0.301901\n",
      "[150]\ttraining's auc: 0.867347\ttraining's binary_logloss: 0.28442\tvalid_1's auc: 0.847874\tvalid_1's binary_logloss: 0.299494\n",
      "[200]\ttraining's auc: 0.873678\ttraining's binary_logloss: 0.279384\tvalid_1's auc: 0.849272\tvalid_1's binary_logloss: 0.298374\n",
      "[250]\ttraining's auc: 0.879284\ttraining's binary_logloss: 0.274931\tvalid_1's auc: 0.850144\tvalid_1's binary_logloss: 0.297768\n",
      "Early stopping, best iteration is:\n",
      "[280]\ttraining's auc: 0.882243\ttraining's binary_logloss: 0.272459\tvalid_1's auc: 0.850424\tvalid_1's binary_logloss: 0.297529\n",
      "********** 1 **********\n",
      "Training until validation scores don't improve for 10 rounds\n",
      "[50]\ttraining's auc: 0.844802\ttraining's binary_logloss: 0.302173\tvalid_1's auc: 0.835753\tvalid_1's binary_logloss: 0.308445\n",
      "[100]\ttraining's auc: 0.858864\ttraining's binary_logloss: 0.290905\tvalid_1's auc: 0.844204\tvalid_1's binary_logloss: 0.301749\n",
      "[150]\ttraining's auc: 0.867238\ttraining's binary_logloss: 0.284345\tvalid_1's auc: 0.846691\tvalid_1's binary_logloss: 0.299724\n",
      "[200]\ttraining's auc: 0.873898\ttraining's binary_logloss: 0.2792\tvalid_1's auc: 0.847779\tvalid_1's binary_logloss: 0.298748\n",
      "[250]\ttraining's auc: 0.879325\ttraining's binary_logloss: 0.274784\tvalid_1's auc: 0.848507\tvalid_1's binary_logloss: 0.298155\n",
      "[300]\ttraining's auc: 0.884502\ttraining's binary_logloss: 0.270651\tvalid_1's auc: 0.849035\tvalid_1's binary_logloss: 0.297857\n",
      "Early stopping, best iteration is:\n",
      "[293]\ttraining's auc: 0.883833\ttraining's binary_logloss: 0.271214\tvalid_1's auc: 0.849023\tvalid_1's binary_logloss: 0.29785\n",
      "********** 2 **********\n",
      "Training until validation scores don't improve for 10 rounds\n",
      "[50]\ttraining's auc: 0.845004\ttraining's binary_logloss: 0.30248\tvalid_1's auc: 0.839563\tvalid_1's binary_logloss: 0.306054\n",
      "[100]\ttraining's auc: 0.858931\ttraining's binary_logloss: 0.291475\tvalid_1's auc: 0.847099\tvalid_1's binary_logloss: 0.299482\n",
      "[150]\ttraining's auc: 0.867345\ttraining's binary_logloss: 0.284823\tvalid_1's auc: 0.849607\tvalid_1's binary_logloss: 0.297192\n",
      "[200]\ttraining's auc: 0.873972\ttraining's binary_logloss: 0.279647\tvalid_1's auc: 0.85083\tvalid_1's binary_logloss: 0.296069\n",
      "Early stopping, best iteration is:\n",
      "[239]\ttraining's auc: 0.878454\ttraining's binary_logloss: 0.276143\tvalid_1's auc: 0.851337\tvalid_1's binary_logloss: 0.295652\n",
      "********** 3 **********\n",
      "Training until validation scores don't improve for 10 rounds\n",
      "[50]\ttraining's auc: 0.845116\ttraining's binary_logloss: 0.302402\tvalid_1's auc: 0.837429\tvalid_1's binary_logloss: 0.306773\n",
      "[100]\ttraining's auc: 0.859173\ttraining's binary_logloss: 0.291279\tvalid_1's auc: 0.845335\tvalid_1's binary_logloss: 0.300203\n",
      "[150]\ttraining's auc: 0.86763\ttraining's binary_logloss: 0.284708\tvalid_1's auc: 0.847978\tvalid_1's binary_logloss: 0.29791\n",
      "[200]\ttraining's auc: 0.874191\ttraining's binary_logloss: 0.279533\tvalid_1's auc: 0.848856\tvalid_1's binary_logloss: 0.297014\n",
      "[250]\ttraining's auc: 0.87986\ttraining's binary_logloss: 0.274997\tvalid_1's auc: 0.849395\tvalid_1's binary_logloss: 0.296432\n",
      "Early stopping, best iteration is:\n",
      "[278]\ttraining's auc: 0.882882\ttraining's binary_logloss: 0.272659\tvalid_1's auc: 0.849676\tvalid_1's binary_logloss: 0.296206\n",
      "********** 4 **********\n",
      "Training until validation scores don't improve for 10 rounds\n",
      "[50]\ttraining's auc: 0.846201\ttraining's binary_logloss: 0.302081\tvalid_1's auc: 0.831433\tvalid_1's binary_logloss: 0.308819\n",
      "[100]\ttraining's auc: 0.860593\ttraining's binary_logloss: 0.29065\tvalid_1's auc: 0.83938\tvalid_1's binary_logloss: 0.302617\n",
      "[150]\ttraining's auc: 0.869208\ttraining's binary_logloss: 0.283874\tvalid_1's auc: 0.841772\tvalid_1's binary_logloss: 0.300632\n",
      "[200]\ttraining's auc: 0.875802\ttraining's binary_logloss: 0.278573\tvalid_1's auc: 0.843186\tvalid_1's binary_logloss: 0.299526\n",
      "[250]\ttraining's auc: 0.881219\ttraining's binary_logloss: 0.274198\tvalid_1's auc: 0.84369\tvalid_1's binary_logloss: 0.299088\n",
      "Early stopping, best iteration is:\n",
      "[254]\ttraining's auc: 0.881715\ttraining's binary_logloss: 0.273812\tvalid_1's auc: 0.843814\tvalid_1's binary_logloss: 0.299024\n",
      "*********************\n",
      "roc auc estimado:  0.8488768618557989\n",
      "roc auc varianza:  0.0006468452788036085\n"
     ]
    }
   ],
   "source": [
    "[test_probs, fi] = cross_validation_lightgbm(train_,\n",
    "                                             test_, \n",
    "                                             y_train)"
   ]
  },
  {
   "cell_type": "code",
   "execution_count": 41,
   "id": "partial-albuquerque",
   "metadata": {
    "scrolled": true
   },
   "outputs": [
    {
     "data": {
      "text/plain": [
       "ubigeo_mode_me                                       0.018583\n",
       "RIESGO_DIRECTO_1_saldoUnique_ult1meses               0.011942\n",
       "cod_instit_financiera_max_ult1mes                    0.011176\n",
       "edad                                                 0.011128\n",
       "COD_CLASIFICACION_DEUDOR_0_saldoUnique_ult12meses    0.008531\n",
       "RIESGO_DIRECTO_-1_saldoUnique_ult12meses             0.008339\n",
       "RIESGO_DIRECTO_1_saldoStd_ult1meses                  0.008166\n",
       "RIESGO_DIRECTO_-1_saldoMedian_ult1meses              0.008096\n",
       "ciiu_mode_me                                         0.007292\n",
       "cod_instit_financiera_mode_ult1mes                   0.006379\n",
       "RIESGO_DIRECTO_1_saldoMin_ult1meses                  0.006263\n",
       "RIESGO_DIRECTO_-1_saldoMedian_ult2meses              0.006237\n",
       "cod_instit_financiera_min_ult1mes                    0.005938\n",
       "sexo_0                                               0.005311\n",
       "RIESGO_DIRECTO_1_saldoMax_ult12meses                 0.005276\n",
       "condicion_0_saldoUnique_ult12meses                   0.005157\n",
       "RIESGO_DIRECTO_1_saldoMedian_ult1meses               0.005096\n",
       "tipo_credito_11_saldoUnique_ult12meses               0.005060\n",
       "tipo_credito_11_saldoStd_ult1meses                   0.004941\n",
       "estadocontribuyente_0                                0.004583\n",
       "RIESGO_DIRECTO_1_saldoUnique_ult12meses              0.004562\n",
       "RIESGO_DIRECTO_1_saldoMedian_ult2meses               0.004552\n",
       "RIESGO_DIRECTO_1_saldoMax_ult1meses                  0.004485\n",
       "RIESGO_DIRECTO_1_saldoSum_ult1meses                  0.004462\n",
       "RIESGO_DIRECTO_1_saldoMin_ult2meses                  0.004330\n",
       "RIESGO_DIRECTO_1_saldoMedian_ult3meses               0.004304\n",
       "tipo_credito_11_saldoMin_ult1meses                   0.004252\n",
       "RIESGO_DIRECTO_1_saldoMedian_ult12meses              0.004182\n",
       "tipo_credito_12_saldoMin_ult1meses                   0.004141\n",
       "tipo_credito_11_saldoSum_ult1meses                   0.004049\n",
       "RIESGO_DIRECTO_1_saldoMean_ult1meses                 0.003830\n",
       "RIESGO_DIRECTO_-1_saldoMedian_ult3meses              0.003818\n",
       "RIESGO_DIRECTO_1_saldoStd_ult12meses                 0.003757\n",
       "RIESGO_DIRECTO_1_saldoStd_ult2meses                  0.003743\n",
       "tipo_credito_12_saldoSum_ult1meses                   0.003706\n",
       "fecalta_mean                                         0.003705\n",
       "cod_instit_financiera_max_ult12mes                   0.003680\n",
       "RIESGO_DIRECTO_1_saldoMin_ult12meses                 0.003551\n",
       "RIESGO_DIRECTO_-1_saldoSum_ult12meses                0.003350\n",
       "RIESGO_DIRECTO_1_saldoUnique_ult2meses               0.003304\n",
       "RIESGO_DIRECTO_-1_saldoSum_ult1meses                 0.003290\n",
       "fecalta_min                                          0.003270\n",
       "tipo_credito_12_saldoUnique_ult12meses               0.003137\n",
       "COD_CLASIFICACION_DEUDOR_0_saldoSum_ult1meses        0.003122\n",
       "cod_instit_financiera_mode_ult12mes                  0.003081\n",
       "COD_CLASIFICACION_DEUDOR_0_saldoMedian_ult1meses     0.003076\n",
       "tipo_credito_12_saldoMedian_ult1meses                0.003059\n",
       "RIESGO_DIRECTO_1_saldoMin_ult3meses                  0.003042\n",
       "fecalta_max                                          0.003028\n",
       "tipo_credito_11_saldoMedian_ult1meses                0.002882\n",
       "dtype: float64"
      ]
     },
     "execution_count": 41,
     "metadata": {},
     "output_type": "execute_result"
    }
   ],
   "source": [
    "fi.sort_values(ascending=False).head(50)"
   ]
  },
  {
   "cell_type": "code",
   "execution_count": 39,
   "id": "opponent-proposition",
   "metadata": {},
   "outputs": [],
   "source": [
    "test_probs.name = 'target'\n",
    "test_probs.to_csv('../results/lightgbm_with_1136features_me_0.84887.csv') ### score de  0.84649 en la tabla publica"
   ]
  },
  {
   "cell_type": "markdown",
   "id": "partial-minneapolis",
   "metadata": {},
   "source": [
    "### drop 5 features related in cod_instit_financiera_mode_ultxxmes"
   ]
  },
  {
   "cell_type": "code",
   "execution_count": 37,
   "id": "sexual-segment",
   "metadata": {},
   "outputs": [],
   "source": [
    "drop_columns = ['cod_instit_financiera_mode_ult11mes', 'cod_instit_financiera_mode_ult10mes',\n",
    "'cod_instit_financiera_mode_ult8mes', 'cod_instit_financiera_mode_ult9mes', 'cod_instit_financiera_mode_ult7mes']"
   ]
  },
  {
   "cell_type": "code",
   "execution_count": 38,
   "id": "accepted-committee",
   "metadata": {
    "scrolled": true
   },
   "outputs": [
    {
     "name": "stdout",
     "output_type": "stream",
     "text": [
      "********** 0 **********\n",
      "Training until validation scores don't improve for 10 rounds\n",
      "[50]\ttraining's auc: 0.842846\ttraining's binary_logloss: 0.303058\tvalid_1's auc: 0.834692\tvalid_1's binary_logloss: 0.309181\n",
      "[100]\ttraining's auc: 0.856809\ttraining's binary_logloss: 0.29212\tvalid_1's auc: 0.842807\tvalid_1's binary_logloss: 0.30278\n",
      "[150]\ttraining's auc: 0.865174\ttraining's binary_logloss: 0.28571\tvalid_1's auc: 0.84551\tvalid_1's binary_logloss: 0.300698\n",
      "[200]\ttraining's auc: 0.871963\ttraining's binary_logloss: 0.280493\tvalid_1's auc: 0.846676\tvalid_1's binary_logloss: 0.299735\n",
      "[250]\ttraining's auc: 0.877632\ttraining's binary_logloss: 0.276077\tvalid_1's auc: 0.847408\tvalid_1's binary_logloss: 0.299166\n",
      "[300]\ttraining's auc: 0.882612\ttraining's binary_logloss: 0.272098\tvalid_1's auc: 0.847794\tvalid_1's binary_logloss: 0.298804\n",
      "Early stopping, best iteration is:\n",
      "[298]\ttraining's auc: 0.882378\ttraining's binary_logloss: 0.272284\tvalid_1's auc: 0.847826\tvalid_1's binary_logloss: 0.298784\n",
      "********** 1 **********\n",
      "Training until validation scores don't improve for 10 rounds\n",
      "[50]\ttraining's auc: 0.84276\ttraining's binary_logloss: 0.303135\tvalid_1's auc: 0.833602\tvalid_1's binary_logloss: 0.30949\n",
      "[100]\ttraining's auc: 0.856697\ttraining's binary_logloss: 0.292217\tvalid_1's auc: 0.841926\tvalid_1's binary_logloss: 0.303124\n",
      "[150]\ttraining's auc: 0.865395\ttraining's binary_logloss: 0.285561\tvalid_1's auc: 0.845038\tvalid_1's binary_logloss: 0.300769\n",
      "[200]\ttraining's auc: 0.871997\ttraining's binary_logloss: 0.280435\tvalid_1's auc: 0.846044\tvalid_1's binary_logloss: 0.299902\n",
      "[250]\ttraining's auc: 0.87757\ttraining's binary_logloss: 0.276036\tvalid_1's auc: 0.84677\tvalid_1's binary_logloss: 0.29937\n",
      "Early stopping, best iteration is:\n",
      "[251]\ttraining's auc: 0.877687\ttraining's binary_logloss: 0.275946\tvalid_1's auc: 0.846784\tvalid_1's binary_logloss: 0.29936\n",
      "********** 2 **********\n",
      "Training until validation scores don't improve for 10 rounds\n",
      "[50]\ttraining's auc: 0.842776\ttraining's binary_logloss: 0.303546\tvalid_1's auc: 0.837307\tvalid_1's binary_logloss: 0.307246\n",
      "[100]\ttraining's auc: 0.857072\ttraining's binary_logloss: 0.292459\tvalid_1's auc: 0.845252\tvalid_1's binary_logloss: 0.300673\n",
      "[150]\ttraining's auc: 0.865364\ttraining's binary_logloss: 0.286021\tvalid_1's auc: 0.847496\tvalid_1's binary_logloss: 0.298557\n",
      "[200]\ttraining's auc: 0.872025\ttraining's binary_logloss: 0.280889\tvalid_1's auc: 0.848319\tvalid_1's binary_logloss: 0.297743\n",
      "[250]\ttraining's auc: 0.877764\ttraining's binary_logloss: 0.276499\tvalid_1's auc: 0.848712\tvalid_1's binary_logloss: 0.297301\n",
      "Early stopping, best iteration is:\n",
      "[271]\ttraining's auc: 0.87994\ttraining's binary_logloss: 0.274726\tvalid_1's auc: 0.848937\tvalid_1's binary_logloss: 0.297087\n",
      "********** 3 **********\n",
      "Training until validation scores don't improve for 10 rounds\n",
      "[50]\ttraining's auc: 0.842847\ttraining's binary_logloss: 0.303499\tvalid_1's auc: 0.835949\tvalid_1's binary_logloss: 0.307566\n",
      "[100]\ttraining's auc: 0.857036\ttraining's binary_logloss: 0.292603\tvalid_1's auc: 0.843958\tvalid_1's binary_logloss: 0.301229\n",
      "[150]\ttraining's auc: 0.865526\ttraining's binary_logloss: 0.286073\tvalid_1's auc: 0.846561\tvalid_1's binary_logloss: 0.298952\n",
      "[200]\ttraining's auc: 0.872087\ttraining's binary_logloss: 0.280977\tvalid_1's auc: 0.847481\tvalid_1's binary_logloss: 0.298008\n",
      "[250]\ttraining's auc: 0.877638\ttraining's binary_logloss: 0.27664\tvalid_1's auc: 0.847935\tvalid_1's binary_logloss: 0.297553\n",
      "Early stopping, best iteration is:\n",
      "[261]\ttraining's auc: 0.878774\ttraining's binary_logloss: 0.275699\tvalid_1's auc: 0.848126\tvalid_1's binary_logloss: 0.297376\n",
      "********** 4 **********\n",
      "Training until validation scores don't improve for 10 rounds\n",
      "[50]\ttraining's auc: 0.844057\ttraining's binary_logloss: 0.303113\tvalid_1's auc: 0.829081\tvalid_1's binary_logloss: 0.309758\n",
      "[100]\ttraining's auc: 0.858475\ttraining's binary_logloss: 0.291872\tvalid_1's auc: 0.836506\tvalid_1's binary_logloss: 0.303864\n",
      "[150]\ttraining's auc: 0.867062\ttraining's binary_logloss: 0.28517\tvalid_1's auc: 0.838812\tvalid_1's binary_logloss: 0.301976\n",
      "[200]\ttraining's auc: 0.873918\ttraining's binary_logloss: 0.279885\tvalid_1's auc: 0.839969\tvalid_1's binary_logloss: 0.301098\n",
      "[250]\ttraining's auc: 0.879791\ttraining's binary_logloss: 0.275325\tvalid_1's auc: 0.840528\tvalid_1's binary_logloss: 0.300589\n",
      "Early stopping, best iteration is:\n",
      "[262]\ttraining's auc: 0.881069\ttraining's binary_logloss: 0.274302\tvalid_1's auc: 0.840725\tvalid_1's binary_logloss: 0.300485\n",
      "*********************\n",
      "roc auc estimado:  0.8465066573186719\n",
      "roc auc varianza:  0.0007226039577836841\n"
     ]
    }
   ],
   "source": [
    "[test_probs, fi_] = cross_validation_lightgbm(train_.drop(drop_columns, axis=1),\n",
    "                                             test_.drop(drop_columns, axis=1), \n",
    "                                             y_train)"
   ]
  },
  {
   "cell_type": "code",
   "execution_count": 39,
   "id": "administrative-plane",
   "metadata": {},
   "outputs": [],
   "source": [
    "test_probs.name='target'\n",
    "test_probs.to_csv('../results/lightgbm_with_1136features_drop5features__0.84650.csv') ### score de  0.84812 en la tabla publica "
   ]
  }
 ],
 "metadata": {
  "kernelspec": {
   "display_name": "Python 3",
   "language": "python",
   "name": "python3"
  },
  "language_info": {
   "codemirror_mode": {
    "name": "ipython",
    "version": 3
   },
   "file_extension": ".py",
   "mimetype": "text/x-python",
   "name": "python",
   "nbconvert_exporter": "python",
   "pygments_lexer": "ipython3",
   "version": "3.8.5"
  }
 },
 "nbformat": 4,
 "nbformat_minor": 5
}
