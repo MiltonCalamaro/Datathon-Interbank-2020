{
 "cells": [
  {
   "cell_type": "code",
   "execution_count": 1,
   "id": "hybrid-estate",
   "metadata": {},
   "outputs": [],
   "source": [
    "import pandas as pd\n",
    "import numpy as np\n",
    "import matplotlib.pyplot as plt"
   ]
  },
  {
   "cell_type": "code",
   "execution_count": 2,
   "id": "capable-essence",
   "metadata": {},
   "outputs": [],
   "source": [
    "path = '../data'\n",
    "y_train = pd.read_csv(f'{path}/y_train.csv', index_col = 'key_value')"
   ]
  },
  {
   "cell_type": "code",
   "execution_count": 3,
   "id": "surrounded-ontario",
   "metadata": {},
   "outputs": [
    {
     "data": {
      "image/png": "[encoded data removed]",
      "text/plain": [
       "<Figure size 432x288 with 1 Axes>"
      ]
     },
     "metadata": {},
     "output_type": "display_data"
    }
   ],
   "source": [
    "y_train.value_counts().plot(kind='pie', autopct='%1.0f%%');"
   ]
  },
  {
   "cell_type": "markdown",
   "id": "electronic-father",
   "metadata": {},
   "source": [
    "## Entrenando LGBM con hiperparámetros"
   ]
  },
  {
   "cell_type": "code",
   "execution_count": 5,
   "id": "outstanding-seven",
   "metadata": {
    "scrolled": true
   },
   "outputs": [
    {
     "data": {
      "text/plain": [
       "((358487, 680), (396666, 680))"
      ]
     },
     "execution_count": 5,
     "metadata": {},
     "output_type": "execute_result"
    }
   ],
   "source": [
    "train = pd.read_pickle('../data/train_features680_score_0.85558.pkl') \n",
    "test = pd.read_pickle('../data/test_features680_score_0.85558.pkl')\n",
    "train.shape, test.shape"
   ]
  },
  {
   "cell_type": "code",
   "execution_count": 6,
   "id": "contrary-integrity",
   "metadata": {
    "scrolled": true
   },
   "outputs": [
    {
     "name": "stdout",
     "output_type": "stream",
     "text": [
      "********** 0 **********\n",
      "Training until validation scores don't improve for 10 rounds\n",
      "[100]\ttraining's auc: 0.86488\ttraining's binary_logloss: 0.285336\tvalid_1's auc: 0.850616\tvalid_1's binary_logloss: 0.296876\n",
      "[200]\ttraining's auc: 0.879241\ttraining's binary_logloss: 0.273759\tvalid_1's auc: 0.853946\tvalid_1's binary_logloss: 0.294102\n",
      "[300]\ttraining's auc: 0.889931\ttraining's binary_logloss: 0.264967\tvalid_1's auc: 0.854985\tvalid_1's binary_logloss: 0.293313\n",
      "Early stopping, best iteration is:\n",
      "[293]\ttraining's auc: 0.889199\ttraining's binary_logloss: 0.265553\tvalid_1's auc: 0.855023\tvalid_1's binary_logloss: 0.293297\n",
      "********** 1 **********\n",
      "Training until validation scores don't improve for 10 rounds\n",
      "[100]\ttraining's auc: 0.865167\ttraining's binary_logloss: 0.28516\tvalid_1's auc: 0.851203\tvalid_1's binary_logloss: 0.296356\n",
      "[200]\ttraining's auc: 0.879416\ttraining's binary_logloss: 0.273579\tvalid_1's auc: 0.854522\tvalid_1's binary_logloss: 0.293548\n",
      "Early stopping, best iteration is:\n",
      "[237]\ttraining's auc: 0.883678\ttraining's binary_logloss: 0.270109\tvalid_1's auc: 0.855119\tvalid_1's binary_logloss: 0.293118\n",
      "********** 2 **********\n",
      "Training until validation scores don't improve for 10 rounds\n",
      "[100]\ttraining's auc: 0.864952\ttraining's binary_logloss: 0.285776\tvalid_1's auc: 0.853098\tvalid_1's binary_logloss: 0.294155\n",
      "[200]\ttraining's auc: 0.879086\ttraining's binary_logloss: 0.274255\tvalid_1's auc: 0.855879\tvalid_1's binary_logloss: 0.291548\n",
      "Early stopping, best iteration is:\n",
      "[251]\ttraining's auc: 0.884811\ttraining's binary_logloss: 0.269574\tvalid_1's auc: 0.856303\tvalid_1's binary_logloss: 0.291143\n",
      "********** 3 **********\n",
      "Training until validation scores don't improve for 10 rounds\n",
      "[100]\ttraining's auc: 0.864952\ttraining's binary_logloss: 0.285676\tvalid_1's auc: 0.852091\tvalid_1's binary_logloss: 0.294639\n",
      "[200]\ttraining's auc: 0.879338\ttraining's binary_logloss: 0.274119\tvalid_1's auc: 0.855387\tvalid_1's binary_logloss: 0.291814\n",
      "[300]\ttraining's auc: 0.889884\ttraining's binary_logloss: 0.265378\tvalid_1's auc: 0.856317\tvalid_1's binary_logloss: 0.291012\n",
      "Early stopping, best iteration is:\n",
      "[302]\ttraining's auc: 0.890067\ttraining's binary_logloss: 0.265224\tvalid_1's auc: 0.856352\tvalid_1's binary_logloss: 0.290998\n",
      "********** 4 **********\n",
      "Training until validation scores don't improve for 10 rounds\n",
      "[100]\ttraining's auc: 0.866972\ttraining's binary_logloss: 0.284722\tvalid_1's auc: 0.843435\tvalid_1's binary_logloss: 0.298562\n",
      "[200]\ttraining's auc: 0.881432\ttraining's binary_logloss: 0.272785\tvalid_1's auc: 0.846269\tvalid_1's binary_logloss: 0.296178\n",
      "Early stopping, best iteration is:\n",
      "[209]\ttraining's auc: 0.882439\ttraining's binary_logloss: 0.271946\tvalid_1's auc: 0.846299\tvalid_1's binary_logloss: 0.296139\n",
      "*********************\n",
      "roc auc estimado:  0.8538613987349759\n",
      "roc auc varianza:  0.0009267652208404322\n"
     ]
    }
   ],
   "source": [
    "from lightgbm import LGBMClassifier\n",
    "from sklearn.metrics import roc_auc_score\n",
    "from sklearn.model_selection import KFold\n",
    "import numpy as np\n",
    "folds = [train.index[t] for t, v in KFold(5).split(train)]\n",
    "test_probs = []\n",
    "train_probs = []\n",
    "fi = []\n",
    "for i, idx in enumerate(folds):\n",
    "    print(\"*\"*10, i, \"*\"*10)\n",
    "    Xt = train.loc[idx]\n",
    "    yt = y_train.loc[Xt.index].target\n",
    "\n",
    "    Xv = train.drop(Xt.index)\n",
    "    yv = y_train.loc[Xv.index].target\n",
    "\n",
    "    learner = LGBMClassifier(n_estimators=1000, boosting_type='gbdt',min_child_samples=1500, colsample_bytree=0.8,\n",
    "                   subsample=0.8, max_bin=200, learning_rate=0.1, random_state=42)\n",
    "    \n",
    "    learner.fit(Xt, yt,  early_stopping_rounds=10, eval_metric=\"auc\",\n",
    "                eval_set=[(Xt, yt), (Xv, yv)], verbose=100)\n",
    "    test_probs.append(pd.Series(learner.predict_proba(test)[:, -1], index=test.index, name=\"fold_\" + str(i)))\n",
    "    train_probs.append(pd.Series(learner.predict_proba(Xv)[:, -1], index=Xv.index, name=\"probs\"))\n",
    "    fi.append(pd.Series(learner.feature_importances_ / learner.feature_importances_.sum(), index=Xt.columns))\n",
    "\n",
    "test_probs = pd.concat(test_probs, axis=1).mean(axis=1)\n",
    "train_probs = pd.concat(train_probs)\n",
    "fi = pd.concat(fi, axis=1).mean(axis=1)\n",
    "print(\"*\" * 21)\n",
    "print(\"roc auc estimado: \", roc_auc_score(y_train, train_probs.loc[y_train.index]))\n",
    "print(\"roc auc varianza: \", np.std([roc_auc_score(y_train.loc[folds[i]], train_probs.iloc[folds[i]]) for i in range(len(folds))]))  "
   ]
  },
  {
   "cell_type": "code",
   "execution_count": 7,
   "id": "faced-soldier",
   "metadata": {
    "scrolled": true
   },
   "outputs": [
    {
     "data": {
      "text/plain": [
       "edad                                                 0.009084\n",
       "PRODUCTO_1_saldoMean_ult1meses                       0.009043\n",
       "PRODUCTO_1_saldoMax_ult1meses                        0.008632\n",
       "ubigeo_mode                                          0.008070\n",
       "PRODUCTO_1_saldoSum_ult1meses                        0.005998\n",
       "sexo_0                                               0.005835\n",
       "PRODUCTO_1_saldoMedian_ult1meses                     0.005634\n",
       "PRODUCTO_0_saldoMin_ult12meses                       0.004803\n",
       "estadocontribuyente_0                                0.004794\n",
       "RIESGO_DIRECTO_1_saldoSum_ult1meses                  0.004652\n",
       "COD_CLASIFICACION_DEUDOR_0_saldoUnique_ult12meses    0.004635\n",
       "PRODUCTO_6_saldoSum_ult12meses                       0.004607\n",
       "PRODUCTO_3_saldoUnique_ult12meses                    0.004555\n",
       "PRODUCTO_0_saldoStd_ult12meses                       0.004490\n",
       "PRODUCTO_8_saldoSum_ult12meses                       0.004423\n",
       "PRODUCTO_3_saldoMedian_ult1meses                     0.004272\n",
       "cod_instit_financiera_10_saldoStd_ult1meses          0.004210\n",
       "PRODUCTO_0_saldoMin_ult1meses                        0.004186\n",
       "PRODUCTO_1_saldoStd_ult12meses                       0.004141\n",
       "PRODUCTO_8_saldoMin_ult12meses                       0.004130\n",
       "ciiu_mode                                            0.004009\n",
       "cod_instit_financiera_34_saldoUnique_ult12meses      0.003978\n",
       "RIESGO_DIRECTO_1_saldoStd_ult1meses                  0.003976\n",
       "PRODUCTO_0_saldoStd_ult1meses                        0.003873\n",
       "PRODUCTO_0_saldoMax_ult1meses                        0.003866\n",
       "PRODUCTO_12_saldoMin_ult1meses                       0.003860\n",
       "PRODUCTO_6_saldoMin_ult12meses                       0.003821\n",
       "RIESGO_DIRECTO_1_saldoUnique_ult12meses              0.003803\n",
       "PRODUCTO_3_saldoMin_ult1meses                        0.003772\n",
       "RIESGO_DIRECTO_1_saldoMin_ult1meses                  0.003763\n",
       "fecalta_min                                          0.003747\n",
       "PRODUCTO_8_saldoUnique_ult12meses                    0.003732\n",
       "PRODUCTO_3_saldoMean_ult1meses                       0.003715\n",
       "PRODUCTO_1_saldoMin_ult1meses                        0.003688\n",
       "PRODUCTO_3_saldoMedian_ult12meses                    0.003684\n",
       "PRODUCTO_3_saldoMin_ult12meses                       0.003672\n",
       "PRODUCTO_1_saldoStd_ult1meses                        0.003658\n",
       "PRODUCTO_4_saldoStd_ult12meses                       0.003600\n",
       "PRODUCTO_6_saldoMax_ult1meses                        0.003563\n",
       "PRODUCTO_2_saldoUnique_ult12meses                    0.003515\n",
       "PRODUCTO_1_saldoMedian_ult12meses                    0.003398\n",
       "RIESGO_DIRECTO_1_saldoStd_ult2meses                  0.003347\n",
       "RIESGO_DIRECTO_-1_saldoMedian_ult2meses              0.003346\n",
       "PRODUCTO_8_saldoMedian_ult12meses                    0.003319\n",
       "RIESGO_DIRECTO_-1_saldoMedian_ult1meses              0.003314\n",
       "fecalta_mean                                         0.003296\n",
       "PRODUCTO_6_saldoMean_ult12meses                      0.003286\n",
       "RIESGO_DIRECTO_1_saldoMax_ult12meses                 0.003170\n",
       "condicion_0_saldoUnique_ult12meses                   0.003144\n",
       "cod_instit_financiera_max_ult1mes                    0.003027\n",
       "dtype: float64"
      ]
     },
     "execution_count": 7,
     "metadata": {},
     "output_type": "execute_result"
    }
   ],
   "source": [
    "fi.sort_values(ascending=False).head(50)"
   ]
  },
  {
   "cell_type": "code",
   "execution_count": 8,
   "id": "gentle-western",
   "metadata": {},
   "outputs": [],
   "source": [
    "fi.to_pickle('fi_lightgbm.pkl')"
   ]
  },
  {
   "cell_type": "code",
   "execution_count": 9,
   "id": "dense-decade",
   "metadata": {},
   "outputs": [],
   "source": [
    "train_probs_lightgbm = train_probs\n",
    "test_probs_lightgbm = test_probs\n",
    "train_probs_lightgbm.to_pickle('train_probs_lightgbm.pkl')\n",
    "test_probs_lightgbm.to_pickle('test_probs_lightgbm.pkl')"
   ]
  },
  {
   "cell_type": "markdown",
   "id": "prepared-alberta",
   "metadata": {},
   "source": [
    "## Catboost con parametros casi estandar\n",
    "### CatBoostClassifier(n_estimators=1000, eval_metric = 'AUC', max_depth=6)"
   ]
  },
  {
   "cell_type": "code",
   "execution_count": 10,
   "id": "independent-welding",
   "metadata": {
    "scrolled": true
   },
   "outputs": [
    {
     "data": {
      "text/plain": [
       "((358487, 680), (396666, 680))"
      ]
     },
     "execution_count": 10,
     "metadata": {},
     "output_type": "execute_result"
    }
   ],
   "source": [
    "train = pd.read_pickle('../data/train_features680_score_0.85558.pkl') \n",
    "test = pd.read_pickle('../data/test_features680_score_0.85558.pkl')\n",
    "train.shape, test.shape"
   ]
  },
  {
   "cell_type": "code",
   "execution_count": 12,
   "id": "sustained-accused",
   "metadata": {
    "scrolled": true
   },
   "outputs": [
    {
     "name": "stdout",
     "output_type": "stream",
     "text": [
      "********** 0 **********\n",
      "Learning rate set to 0.128212\n",
      "0:\ttest: 0.7354041\ttest1: 0.7409218\tbest: 0.7409218 (0)\ttotal: 551ms\tremaining: 9m 9s\n",
      "100:\ttest: 0.8474995\ttest1: 0.8431231\tbest: 0.8431231 (100)\ttotal: 42.3s\tremaining: 6m 16s\n",
      "200:\ttest: 0.8580141\ttest1: 0.8488303\tbest: 0.8488303 (200)\ttotal: 1m 22s\tremaining: 5m 26s\n",
      "300:\ttest: 0.8651099\ttest1: 0.8507718\tbest: 0.8507819 (299)\ttotal: 2m 3s\tremaining: 4m 47s\n",
      "Stopped by overfitting detector  (10 iterations wait)\n",
      "\n",
      "bestTest = 0.851562118\n",
      "bestIteration = 360\n",
      "\n",
      "Shrink model to first 361 iterations.\n",
      "********** 1 **********\n",
      "Learning rate set to 0.128212\n",
      "0:\ttest: 0.7497525\ttest1: 0.7491437\tbest: 0.7491437 (0)\ttotal: 455ms\tremaining: 7m 34s\n",
      "100:\ttest: 0.8473951\ttest1: 0.8438024\tbest: 0.8438024 (100)\ttotal: 41.3s\tremaining: 6m 7s\n",
      "200:\ttest: 0.8576597\ttest1: 0.8488468\tbest: 0.8488468 (200)\ttotal: 1m 17s\tremaining: 5m 8s\n",
      "300:\ttest: 0.8650543\ttest1: 0.8511419\tbest: 0.8511419 (300)\ttotal: 1m 50s\tremaining: 4m 16s\n",
      "400:\ttest: 0.8708024\ttest1: 0.8523285\tbest: 0.8523285 (400)\ttotal: 2m 20s\tremaining: 3m 30s\n",
      "500:\ttest: 0.8761416\ttest1: 0.8531920\tbest: 0.8531920 (500)\ttotal: 2m 51s\tremaining: 2m 50s\n",
      "600:\ttest: 0.8810032\ttest1: 0.8536499\tbest: 0.8536596 (599)\ttotal: 3m 24s\tremaining: 2m 15s\n",
      "Stopped by overfitting detector  (10 iterations wait)\n",
      "\n",
      "bestTest = 0.8537507325\n",
      "bestIteration = 612\n",
      "\n",
      "Shrink model to first 613 iterations.\n",
      "********** 2 **********\n",
      "Learning rate set to 0.128212\n",
      "0:\ttest: 0.7296708\ttest1: 0.7361607\tbest: 0.7361607 (0)\ttotal: 333ms\tremaining: 5m 32s\n",
      "100:\ttest: 0.8464431\ttest1: 0.8464132\tbest: 0.8464132 (100)\ttotal: 37.1s\tremaining: 5m 30s\n",
      "200:\ttest: 0.8568477\ttest1: 0.8515254\tbest: 0.8515254 (200)\ttotal: 1m 10s\tremaining: 4m 39s\n",
      "300:\ttest: 0.8643985\ttest1: 0.8536244\tbest: 0.8536316 (299)\ttotal: 1m 44s\tremaining: 4m 2s\n",
      "400:\ttest: 0.8703922\ttest1: 0.8548027\tbest: 0.8548035 (399)\ttotal: 2m 17s\tremaining: 3m 25s\n",
      "Stopped by overfitting detector  (10 iterations wait)\n",
      "\n",
      "bestTest = 0.8550738062\n",
      "bestIteration = 434\n",
      "\n",
      "Shrink model to first 435 iterations.\n",
      "********** 3 **********\n",
      "Learning rate set to 0.128212\n",
      "0:\ttest: 0.7402793\ttest1: 0.7444051\tbest: 0.7444051 (0)\ttotal: 368ms\tremaining: 6m 8s\n",
      "100:\ttest: 0.8470010\ttest1: 0.8440945\tbest: 0.8440945 (100)\ttotal: 37.5s\tremaining: 5m 33s\n",
      "200:\ttest: 0.8575273\ttest1: 0.8495132\tbest: 0.8495132 (200)\ttotal: 1m 13s\tremaining: 4m 53s\n",
      "300:\ttest: 0.8651063\ttest1: 0.8517570\tbest: 0.8517570 (300)\ttotal: 1m 54s\tremaining: 4m 26s\n",
      "400:\ttest: 0.8710270\ttest1: 0.8528752\tbest: 0.8528752 (400)\ttotal: 2m 32s\tremaining: 3m 48s\n",
      "Stopped by overfitting detector  (10 iterations wait)\n",
      "\n",
      "bestTest = 0.8532668201\n",
      "bestIteration = 461\n",
      "\n",
      "Shrink model to first 462 iterations.\n",
      "********** 4 **********\n",
      "Learning rate set to 0.128212\n",
      "0:\ttest: 0.7105224\ttest1: 0.6878699\tbest: 0.6878699 (0)\ttotal: 388ms\tremaining: 6m 27s\n",
      "100:\ttest: 0.8491782\ttest1: 0.8356691\tbest: 0.8356691 (100)\ttotal: 40.6s\tremaining: 6m 1s\n",
      "200:\ttest: 0.8595340\ttest1: 0.8406751\tbest: 0.8406751 (200)\ttotal: 1m 17s\tremaining: 5m 7s\n",
      "300:\ttest: 0.8670499\ttest1: 0.8428616\tbest: 0.8428616 (300)\ttotal: 1m 54s\tremaining: 4m 26s\n",
      "400:\ttest: 0.8730463\ttest1: 0.8438054\tbest: 0.8438239 (399)\ttotal: 2m 33s\tremaining: 3m 49s\n",
      "Stopped by overfitting detector  (10 iterations wait)\n",
      "\n",
      "bestTest = 0.8438267766\n",
      "bestIteration = 407\n",
      "\n",
      "Shrink model to first 408 iterations.\n",
      "*********************\n",
      "roc auc estimado:  0.8515465549276486\n",
      "roc auc varianza:  0.000971455468309829\n"
     ]
    }
   ],
   "source": [
    "from catboost import CatBoostClassifier\n",
    "from sklearn.metrics import roc_auc_score\n",
    "from sklearn.model_selection import KFold\n",
    "import numpy as np\n",
    "folds = [train.index[t] for t, v in KFold(5).split(train)]\n",
    "test_probs = []\n",
    "train_probs = []\n",
    "fi = []\n",
    "for i, idx in enumerate(folds):\n",
    "    print(\"*\"*10, i, \"*\"*10)\n",
    "    Xt = train.loc[idx]\n",
    "    yt = y_train.loc[Xt.index]\n",
    "\n",
    "    Xv = train.drop(Xt.index)\n",
    "    yv = y_train.loc[Xv.index]\n",
    "\n",
    "    learner = CatBoostClassifier(n_estimators=1000, eval_metric = 'AUC', max_depth=6, random_state=42)\n",
    "    \n",
    "    learner.fit(Xt, yt,  early_stopping_rounds=10, \n",
    "                eval_set=[(Xt, yt), (Xv, yv)], verbose=100)\n",
    "    test_probs.append(pd.Series(learner.predict_proba(test)[:, -1], index=test.index, name=\"fold_\" + str(i)))\n",
    "    train_probs.append(pd.Series(learner.predict_proba(Xv)[:, -1], index=Xv.index, name=\"probs\"))\n",
    "    fi.append(pd.Series(learner.feature_importances_ / learner.feature_importances_.sum(), index=Xt.columns))\n",
    "\n",
    "test_probs = pd.concat(test_probs, axis=1).mean(axis=1)\n",
    "train_probs = pd.concat(train_probs)\n",
    "fi = pd.concat(fi, axis=1).mean(axis=1)\n",
    "print(\"*\" * 21)\n",
    "print(\"roc auc estimado: \", roc_auc_score(y_train, train_probs.loc[y_train.index]))\n",
    "print(\"roc auc varianza: \", np.std([roc_auc_score(y_train.loc[folds[i]], train_probs.iloc[folds[i]]) for i in range(len(folds))]))  "
   ]
  },
  {
   "cell_type": "code",
   "execution_count": 13,
   "id": "sharp-target",
   "metadata": {},
   "outputs": [],
   "source": [
    "fi.to_pickle('fi_catboost.pkl')"
   ]
  },
  {
   "cell_type": "code",
   "execution_count": 14,
   "id": "intense-publisher",
   "metadata": {},
   "outputs": [],
   "source": [
    "train_probs_catboost = train_probs\n",
    "test_probs_catboost = test_probs\n",
    "train_probs_catboost.to_pickle('train_probs_catboost.pkl')\n",
    "test_probs_catboost.to_pickle('test_probs_catboost.pkl')"
   ]
  },
  {
   "cell_type": "markdown",
   "id": "applied-geneva",
   "metadata": {},
   "source": [
    "## Entrenamiento de modelo XgBoost"
   ]
  },
  {
   "cell_type": "code",
   "execution_count": 14,
   "id": "wanted-accused",
   "metadata": {},
   "outputs": [
    {
     "data": {
      "text/plain": [
       "((358487, 1320), (396666, 1320))"
      ]
     },
     "execution_count": 14,
     "metadata": {},
     "output_type": "execute_result"
    }
   ],
   "source": [
    "train = pd.read_pickle('../data/train_features680_score_0.85558.pkl') \n",
    "test = pd.read_pickle('../data/test_features680_score_0.85558.pkl')\n",
    "train.shape, test.shape"
   ]
  },
  {
   "cell_type": "code",
   "execution_count": 15,
   "id": "joint-quarter",
   "metadata": {
    "scrolled": true
   },
   "outputs": [
    {
     "name": "stdout",
     "output_type": "stream",
     "text": [
      "********** 0 **********\n"
     ]
    },
    {
     "name": "stderr",
     "output_type": "stream",
     "text": [
      "C:\\Users\\usuario\\anaconda3\\envs\\venv_datathon\\lib\\site-packages\\xgboost\\sklearn.py:888: UserWarning: The use of label encoder in XGBClassifier is deprecated and will be removed in a future release. To remove this warning, do the following: 1) Pass option use_label_encoder=False when constructing XGBClassifier object; and 2) Encode your labels (y) as integers starting with 0, i.e. 0, 1, 2, ..., [num_class - 1].\n",
      "  warnings.warn(label_encoder_deprecation_msg, UserWarning)\n"
     ]
    },
    {
     "name": "stdout",
     "output_type": "stream",
     "text": [
      "[0]\tvalidation_0-auc:0.71867\tvalidation_1-auc:0.72320\n",
      "[100]\tvalidation_0-auc:0.86630\tvalidation_1-auc:0.84686\n",
      "[159]\tvalidation_0-auc:0.87726\tvalidation_1-auc:0.84776\n",
      "********** 1 **********\n",
      "[0]\tvalidation_0-auc:0.72019\tvalidation_1-auc:0.71819\n",
      "[100]\tvalidation_0-auc:0.86656\tvalidation_1-auc:0.84752\n",
      "[112]\tvalidation_0-auc:0.86884\tvalidation_1-auc:0.84768\n",
      "********** 2 **********\n",
      "[0]\tvalidation_0-auc:0.71867\tvalidation_1-auc:0.72510\n",
      "[100]\tvalidation_0-auc:0.86763\tvalidation_1-auc:0.85002\n",
      "[175]\tvalidation_0-auc:0.88030\tvalidation_1-auc:0.85072\n",
      "********** 3 **********\n",
      "[0]\tvalidation_0-auc:0.72175\tvalidation_1-auc:0.72340\n",
      "[100]\tvalidation_0-auc:0.86695\tvalidation_1-auc:0.84898\n",
      "[130]\tvalidation_0-auc:0.87246\tvalidation_1-auc:0.84919\n",
      "********** 4 **********\n",
      "[0]\tvalidation_0-auc:0.72201\tvalidation_1-auc:0.70930\n",
      "[100]\tvalidation_0-auc:0.86989\tvalidation_1-auc:0.84073\n",
      "[143]\tvalidation_0-auc:0.87738\tvalidation_1-auc:0.84112\n",
      "*********************\n",
      "roc auc estimado:  0.8475722843014554\n",
      "roc auc varianza:  0.0007953881946119579\n"
     ]
    }
   ],
   "source": [
    "from xgboost  import XGBClassifier\n",
    "from sklearn.metrics import roc_auc_score\n",
    "from sklearn.model_selection import KFold\n",
    "import numpy as np\n",
    "folds = [train.index[t] for t, v in KFold(5).split(train)]\n",
    "test_probs = []\n",
    "train_probs = []\n",
    "fi = []\n",
    "for i, idx in enumerate(folds):\n",
    "    print(\"*\"*10, i, \"*\"*10)\n",
    "    Xt = train.loc[idx]\n",
    "    yt = y_train.loc[Xt.index].target\n",
    "\n",
    "    Xv = train.drop(Xt.index)\n",
    "    yv = y_train.loc[Xv.index].target\n",
    "\n",
    "    learner = XGBClassifier(n_estimators=1000, booster='gbtree', colsample_bytree=0.8, \n",
    "                            subsample = 0.8, max_depth=4,  learning_rate=0.3)\n",
    "    learner.fit(Xt, yt,  early_stopping_rounds=10, eval_metric=\"auc\",\n",
    "                eval_set=[(Xt, yt), (Xv, yv)], verbose=100)\n",
    "    test_probs.append(pd.Series(learner.predict_proba(test)[:, -1], index=test.index, name=\"fold_\" + str(i)))\n",
    "    train_probs.append(pd.Series(learner.predict_proba(Xv)[:, -1], index=Xv.index, name=\"probs\"))\n",
    "    fi.append(pd.Series(learner.feature_importances_ / learner.feature_importances_.sum(), index=Xt.columns))\n",
    "\n",
    "test_probs = pd.concat(test_probs, axis=1).mean(axis=1)\n",
    "train_probs = pd.concat(train_probs)\n",
    "fi = pd.concat(fi, axis=1).mean(axis=1)\n",
    "print(\"*\" * 21)\n",
    "print(\"roc auc estimado: \", roc_auc_score(y_train, train_probs.loc[y_train.index]))\n",
    "print(\"roc auc varianza: \", np.std([roc_auc_score(y_train.loc[folds[i]], train_probs.iloc[folds[i]]) for i in range(len(folds))]))"
   ]
  },
  {
   "cell_type": "code",
   "execution_count": 16,
   "id": "independent-championship",
   "metadata": {
    "scrolled": true
   },
   "outputs": [
    {
     "data": {
      "text/plain": [
       "PRODUCTO_12_saldoMin_ult1meses                      0.075974\n",
       "RIESGO_DIRECTO_2_saldoMean_ult1meses                0.052980\n",
       "RIESGO_DIRECTO_2_saldoMin_ult2meses                 0.045184\n",
       "COD_CLASIFICACION_DEUDOR_1_saldoMedian_ult1meses    0.042137\n",
       "COD_CLASIFICACION_DEUDOR_5_saldoMin_ult1meses       0.022472\n",
       "COD_CLASIFICACION_DEUDOR_1_saldoStd_ult2meses       0.020933\n",
       "COD_CLASIFICACION_DEUDOR_3_saldoStd_ult4meses       0.020831\n",
       "PRODUCTO_12_saldoMax_ult1meses                      0.017672\n",
       "COD_CLASIFICACION_DEUDOR_1_saldoUnique_ult4meses    0.016055\n",
       "COD_CLASIFICACION_DEUDOR_1_saldoMedian_ult4meses    0.015935\n",
       "tipo_credito_11_saldoMean_ult1meses                 0.015827\n",
       "COD_CLASIFICACION_DEUDOR_1_saldoUnique_ult2meses    0.015041\n",
       "condicion_1_saldoMax_ult2meses                      0.013716\n",
       "RIESGO_DIRECTO_2_saldoMedian_ult1meses              0.012992\n",
       "RIESGO_DIRECTO_2_saldoMean_ult2meses                0.012878\n",
       "PRODUCTO_0_saldoMedian_ult1meses                    0.011044\n",
       "cod_instit_financiera_max_ult1mes                   0.009952\n",
       "cod_instit_financiera_46_saldoStd_ult1meses         0.009233\n",
       "RIESGO_DIRECTO_2_saldoMin_ult3meses                 0.007910\n",
       "cod_instit_financiera_32_saldoMin_ult1meses         0.007830\n",
       "cod_instit_financiera_55_saldoMax_ult12meses        0.007511\n",
       "COD_CLASIFICACION_DEUDOR_1_saldoStd_ult3meses       0.007428\n",
       "PRODUCTO_3_saldoMean_ult1meses                      0.006868\n",
       "RIESGO_DIRECTO_-1_saldoMedian_ult1meses             0.006712\n",
       "cod_instit_financiera_32_saldoUnique_ult12meses     0.006598\n",
       "cod_instit_financiera_32_saldoUnique_ult1meses      0.005916\n",
       "tipo_credito_12_saldoSum_ult1meses                  0.005893\n",
       "PRODUCTO_0_saldoSum_ult1meses                       0.005792\n",
       "PRODUCTO_2_saldoUnique_ult12meses                   0.005712\n",
       "cod_instit_financiera_max_ult3mes                   0.005619\n",
       "COD_CLASIFICACION_DEUDOR_3_saldoStd_ult5meses       0.005449\n",
       "PRODUCTO_0_saldoMin_ult1meses                       0.005286\n",
       "condicion_1_saldoMean_ult5meses                     0.005113\n",
       "COD_CLASIFICACION_DEUDOR_1_saldoMedian_ult6meses    0.004680\n",
       "RIESGO_DIRECTO_1_saldoSum_ult1meses                 0.004363\n",
       "cod_instit_financiera_46_saldoMin_ult1meses         0.004276\n",
       "cod_instit_financiera_32_saldoStd_ult1meses         0.004008\n",
       "condicion_1_saldoMean_ult1meses                     0.004004\n",
       "PRODUCTO_3_saldoMedian_ult1meses                    0.003703\n",
       "PRODUCTO_6_saldoMean_ult1meses                      0.003401\n",
       "COD_CLASIFICACION_DEUDOR_1_saldoMedian_ult7meses    0.003233\n",
       "PRODUCTO_3_saldoUnique_ult12meses                   0.003214\n",
       "PRODUCTO_nunique_ult2mes                            0.002794\n",
       "cod_instit_financiera_61_saldoUnique_ult12meses     0.002718\n",
       "PRODUCTO_6_saldoMin_ult12meses                      0.002563\n",
       "PRODUCTO_8_saldoMin_ult12meses                      0.002486\n",
       "PRODUCTO_6_saldoMax_ult1meses                       0.002484\n",
       "RIESGO_DIRECTO_1_saldoStd_ult1meses                 0.002482\n",
       "PRODUCTO_7_saldoMax_ult12meses                      0.002470\n",
       "condicion_1_saldoMax_ult3meses                      0.002427\n",
       "dtype: float32"
      ]
     },
     "execution_count": 16,
     "metadata": {},
     "output_type": "execute_result"
    }
   ],
   "source": [
    "fi.sort_values(ascending=False).head(50)"
   ]
  },
  {
   "cell_type": "code",
   "execution_count": 17,
   "id": "actual-hello",
   "metadata": {},
   "outputs": [],
   "source": [
    "fi.to_pickle('fi_xgb.pkl')"
   ]
  },
  {
   "cell_type": "code",
   "execution_count": 18,
   "id": "powerful-congress",
   "metadata": {},
   "outputs": [],
   "source": [
    "train_probs_lightgbm_cf = train_probs\n",
    "test_probs_lightgbm_cf= test_probs\n",
    "train_probs_lightgbm_cf.to_pickle('train_probs_xgb.pkl')\n",
    "test_probs_lightgbm_cf.to_pickle('test_probs_xgb.pkl')"
   ]
  },
  {
   "cell_type": "markdown",
   "id": "wooden-orchestra",
   "metadata": {},
   "source": [
    "## Entrenando GradientBosstingClassifier"
   ]
  },
  {
   "cell_type": "code",
   "execution_count": 15,
   "id": "neutral-samoa",
   "metadata": {
    "scrolled": true
   },
   "outputs": [
    {
     "data": {
      "text/plain": [
       "((358487, 680), (396666, 680))"
      ]
     },
     "execution_count": 15,
     "metadata": {},
     "output_type": "execute_result"
    }
   ],
   "source": [
    "train = pd.read_pickle('../data/train_features680_score_0.85558.pkl') \n",
    "test = pd.read_pickle('../data/test_features680_score_0.85558.pkl')\n",
    "train.shape, test.shape"
   ]
  },
  {
   "cell_type": "code",
   "execution_count": 16,
   "id": "increased-plane",
   "metadata": {},
   "outputs": [],
   "source": [
    "var_categ = [i for i in train.columns if 'mode' in i]\n",
    "var_cuanti = [i for i in train.columns if 'mode' not in i]"
   ]
  },
  {
   "cell_type": "code",
   "execution_count": 17,
   "id": "persistent-customer",
   "metadata": {},
   "outputs": [],
   "source": [
    "for i in var_cuanti:\n",
    "    train[i] = train[i].fillna(train[i].median())\n",
    "    test[i] = test[i].fillna(train[i].median())    \n",
    "\n",
    "for i in var_categ:\n",
    "    train[i] = train[i].fillna(train[i].value_counts().index[0])\n",
    "    test[i] = test[i].fillna(train[i].value_counts().index[0]) "
   ]
  },
  {
   "cell_type": "code",
   "execution_count": 19,
   "id": "civic-billion",
   "metadata": {
    "scrolled": true
   },
   "outputs": [
    {
     "name": "stdout",
     "output_type": "stream",
     "text": [
      "********** 0 **********\n",
      "      Iter       Train Loss      OOB Improve   Remaining Time \n",
      "         1           0.7717           0.0966          245.29m\n",
      "         2           0.7281           0.0420          244.48m\n",
      "         3           0.6984           0.0260          252.08m\n",
      "         4           0.6868           0.0136          263.77m\n",
      "         5           0.6726           0.0129          266.19m\n",
      "         6           0.6600           0.0102          266.89m\n",
      "         7           0.6536           0.0045          261.95m\n",
      "         8           0.6488           0.0068          258.47m\n",
      "         9           0.6449           0.0043          256.60m\n",
      "        10           0.6360           0.0054          256.92m\n",
      "        20           0.6071           0.0015          331.62m\n",
      "roc_auc_estimado de : 0.8347402903119385\n",
      "********** 1 **********\n",
      "      Iter       Train Loss      OOB Improve   Remaining Time \n",
      "         1           0.7708           0.1043          467.14m\n",
      "         2           0.7251           0.0422          406.82m\n",
      "         3           0.6987           0.0257          369.18m\n",
      "         4           0.6849           0.0141          350.21m\n",
      "         5           0.6702           0.0138          338.00m\n",
      "         6           0.6615           0.0086          325.10m\n",
      "         7           0.6546           0.0078          314.84m\n",
      "         8           0.6453           0.0049          307.64m\n",
      "         9           0.6441           0.0035          301.95m\n",
      "        10           0.6358           0.0041          298.05m\n",
      "        20           0.6064           0.0005          285.94m\n",
      "roc_auc_estimado de : 0.8343365053273858\n",
      "********** 2 **********\n",
      "      Iter       Train Loss      OOB Improve   Remaining Time \n",
      "         1           0.7735           0.1013          457.08m\n",
      "         2           0.7271           0.0433          477.03m\n",
      "         3           0.7030           0.0271          469.76m\n",
      "         4           0.6866           0.0141          480.56m\n",
      "         5           0.6713           0.0152          481.35m\n",
      "         6           0.6619           0.0090          478.53m\n",
      "         7           0.6553           0.0064          474.89m\n",
      "         8           0.6468           0.0064          468.35m\n",
      "         9           0.6405           0.0031          450.43m\n",
      "        10           0.6364           0.0033          450.93m\n",
      "        20           0.6059           0.0016          469.29m\n",
      "roc_auc_estimado de : 0.8392466947871365\n",
      "********** 3 **********\n",
      "      Iter       Train Loss      OOB Improve   Remaining Time \n",
      "         1           0.7713           0.1046          519.26m\n",
      "         2           0.7276           0.0427          509.58m\n",
      "         3           0.6998           0.0256          510.45m\n",
      "         4           0.6844           0.0137          500.37m\n",
      "         5           0.6713           0.0139          475.78m\n",
      "         6           0.6570           0.0099          437.52m\n",
      "         7           0.6536           0.0057          405.80m\n",
      "         8           0.6448           0.0048          380.84m\n",
      "         9           0.6404           0.0037          360.92m\n",
      "        10           0.6365           0.0051          346.37m\n",
      "        20           0.6059           0.0011          272.41m\n",
      "roc_auc_estimado de : 0.8375203965336208\n",
      "********** 4 **********\n",
      "      Iter       Train Loss      OOB Improve   Remaining Time \n",
      "         1           0.7723           0.1053          239.19m\n",
      "         2           0.7270           0.0435          252.45m\n",
      "         3           0.7041           0.0262          264.98m\n",
      "         4           0.6838           0.0178          275.10m\n",
      "         5           0.6731           0.0104          277.38m\n",
      "         6           0.6602           0.0102          271.51m\n",
      "         7           0.6512           0.0083          266.85m\n",
      "         8           0.6445           0.0052          269.03m\n",
      "         9           0.6395           0.0043          273.22m\n",
      "        10           0.6333           0.0047          274.09m\n",
      "        20           0.6043           0.0008          259.86m\n",
      "roc_auc_estimado de : 0.8284877206949721\n",
      "*********************\n",
      "roc auc estimado:  0.8348671586703296\n",
      "roc auc varianza:  0.0009020412242715802\n"
     ]
    }
   ],
   "source": [
    "# https://scikit-learn.org/stable/modules/generated/sklearn.ensemble.GradientBoostingClassifier.html#sklearn.ensemble.GradientBoostingClassifier.fit\n",
    "from sklearn.ensemble import GradientBoostingClassifier\n",
    "from sklearn.metrics import roc_auc_score\n",
    "from sklearn.model_selection import KFold\n",
    "import numpy as np\n",
    "folds = [train.index[t] for t, v in KFold(5).split(train)]\n",
    "test_probs = []\n",
    "train_probs = []\n",
    "fi = []\n",
    "for i, idx in enumerate(folds):\n",
    "    print(\"*\"*10, i, \"*\"*10)\n",
    "    Xt = train.loc[idx]\n",
    "    yt = y_train.loc[Xt.index].target\n",
    "\n",
    "    Xv = train.drop(Xt.index)\n",
    "    yv = y_train.loc[Xv.index].target\n",
    "\n",
    "    learner = GradientBoostingClassifier(n_estimators=500, learning_rate=0.3, subsample=0.8,\n",
    "                                         max_depth=5, verbose=1, max_features=0.82, random_state=42,\n",
    "                                         n_iter_no_change = 10, tol=0.01, validation_fraction = 0.2)\n",
    "   \n",
    "    learner.fit(Xt, yt)        \n",
    "    test_probs.append(pd.Series(learner.predict_proba(test)[:, -1], index=test.index, name=\"fold_\" + str(i)))\n",
    "    train_probs.append(pd.Series(learner.predict_proba(Xv)[:, -1], index=Xv.index, name=\"probs\"))\n",
    "    fi.append(pd.Series(learner.feature_importances_ / learner.feature_importances_.sum(), index=Xt.columns))\n",
    "    print('roc_auc_estimado de : ' + str(roc_auc_score(yv, pd.Series(learner.predict_proba(Xv)[:, -1]))))    \n",
    "        \n",
    "test_probs = pd.concat(test_probs, axis=1).mean(axis=1)\n",
    "train_probs = pd.concat(train_probs)\n",
    "fi = pd.concat(fi, axis=1).mean(axis=1)\n",
    "print(\"*\" * 21)\n",
    "print(\"roc auc estimado: \", roc_auc_score(y_train, train_probs.loc[y_train.index]))\n",
    "print(\"roc auc varianza: \", np.std([roc_auc_score(y_train.loc[folds[i]], train_probs.iloc[folds[i]]) for i in range(len(folds))]))  "
   ]
  },
  {
   "cell_type": "code",
   "execution_count": 20,
   "id": "norwegian-surge",
   "metadata": {
    "scrolled": true
   },
   "outputs": [
    {
     "data": {
      "text/plain": [
       "COD_CLASIFICACION_DEUDOR_5_saldoSum_ult6meses        0.135634\n",
       "COD_CLASIFICACION_DEUDOR_5_saldoSum_ult2meses        0.101147\n",
       "PRODUCTO_6_saldoMax_ult12meses                       0.064503\n",
       "COD_CLASIFICACION_DEUDOR_1_saldoMean_ult2meses       0.041642\n",
       "RIESGO_DIRECTO_2_saldoSum_ult2meses                  0.035671\n",
       "cod_instit_financiera_max_ult1mes                    0.033629\n",
       "PRODUCTO_12_saldoMax_ult1meses                       0.033293\n",
       "RIESGO_DIRECTO_1_saldoSum_ult1meses                  0.026404\n",
       "RIESGO_DIRECTO_2_saldoSum_ult4meses                  0.022858\n",
       "condicion_9_saldoSum_ult1meses                       0.017490\n",
       "tipo_credito_12_saldoSum_ult1meses                   0.016029\n",
       "PRODUCTO_6_saldoMax_ult1meses                        0.015940\n",
       "cod_instit_financiera_nunique_ult1mes                0.013738\n",
       "PRODUCTO_6_saldoMean_ult1meses                       0.013300\n",
       "tipo_credito_11_saldoMean_ult1meses                  0.013142\n",
       "COD_CLASIFICACION_DEUDOR_0_saldoUnique_ult1meses     0.012376\n",
       "COD_CLASIFICACION_DEUDOR_1_saldoSum_ult2meses        0.011762\n",
       "cod_instit_financiera_32_saldoSum_ult12meses         0.008577\n",
       "PRODUCTO_2_saldoUnique_ult12meses                    0.008232\n",
       "cod_instit_financiera_33_saldoSum_ult12meses         0.008068\n",
       "PRODUCTO_3_saldoMean_ult12meses                      0.007925\n",
       "cod_instit_financiera_32_saldoUnique_ult12meses      0.007228\n",
       "PRODUCTO_29_saldoMin_ult1meses                       0.007081\n",
       "PRODUCTO_3_saldoMedian_ult1meses                     0.006900\n",
       "PRODUCTO_2_saldoSum_ult12meses                       0.006806\n",
       "cod_instit_financiera_32_saldoSum_ult1meses          0.006517\n",
       "PRODUCTO_3_saldoMean_ult1meses                       0.006191\n",
       "PRODUCTO_6_saldoMin_ult12meses                       0.005870\n",
       "RIESGO_DIRECTO_-1_saldoMedian_ult1meses              0.005770\n",
       "PRODUCTO_0_saldoSum_ult1meses                        0.005512\n",
       "PRODUCTO_6_saldoStd_ult12meses                       0.005466\n",
       "edad                                                 0.005265\n",
       "PRODUCTO_1_saldoMean_ult1meses                       0.004964\n",
       "PRODUCTO_0_saldoUnique_ult1meses                     0.004918\n",
       "RIESGO_DIRECTO_1_saldoMean_ult1meses                 0.004803\n",
       "PRODUCTO_3_saldoMedian_ult12meses                    0.004576\n",
       "PRODUCTO_8_saldoMin_ult12meses                       0.004501\n",
       "COD_CLASIFICACION_DEUDOR_0_saldoUnique_ult12meses    0.004292\n",
       "PRODUCTO_1_saldoSum_ult1meses                        0.004166\n",
       "sexo_0                                               0.004078\n",
       "condicion_1_saldoMin_ult1meses                       0.003793\n",
       "cod_instit_financiera_46_saldoStd_ult1meses          0.003701\n",
       "RIESGO_DIRECTO_2_saldoMax_ult4meses                  0.003634\n",
       "PRODUCTO_1_saldoMax_ult1meses                        0.003550\n",
       "PRODUCTO_3_saldoUnique_ult12meses                    0.003346\n",
       "cod_instit_financiera_32_saldoStd_ult1meses          0.003323\n",
       "tipo_credito_10_saldoStd_ult1meses                   0.003280\n",
       "PRODUCTO_12_saldoMin_ult1meses                       0.003259\n",
       "RIESGO_DIRECTO_1_saldoMedian_ult1meses               0.003037\n",
       "condicion_0_saldoUnique_ult12meses                   0.002898\n",
       "dtype: float64"
      ]
     },
     "execution_count": 20,
     "metadata": {},
     "output_type": "execute_result"
    }
   ],
   "source": [
    "fi.sort_values(ascending=False).head(50)"
   ]
  },
  {
   "cell_type": "code",
   "execution_count": 21,
   "id": "solar-moment",
   "metadata": {},
   "outputs": [],
   "source": [
    "fi.to_pickle('fi_gbc.pkl')"
   ]
  },
  {
   "cell_type": "code",
   "execution_count": 22,
   "id": "nonprofit-aquarium",
   "metadata": {},
   "outputs": [],
   "source": [
    "train_probs_gbc = train_probs\n",
    "test_probs_gbc = test_probs\n",
    "train_probs_gbc.to_pickle('train_probs_gbc.pkl')\n",
    "test_probs_gbc.to_pickle('test_probs_gbc.pkl')"
   ]
  },
  {
   "cell_type": "markdown",
   "id": "adaptive-airplane",
   "metadata": {},
   "source": [
    "## Entrenando LGBM categorical features"
   ]
  },
  {
   "cell_type": "code",
   "execution_count": 4,
   "id": "pleasant-investment",
   "metadata": {
    "scrolled": false
   },
   "outputs": [
    {
     "data": {
      "text/plain": [
       "((358487, 1320), (396666, 1320))"
      ]
     },
     "execution_count": 4,
     "metadata": {},
     "output_type": "execute_result"
    }
   ],
   "source": [
    "train = pd.read_pickle('../data/train_features680_score_0.85558.pkl') \n",
    "test = pd.read_pickle('../data/test_features680_score_0.85558.pkl')\n",
    "train.shape, test.shape"
   ]
  },
  {
   "cell_type": "code",
   "execution_count": 7,
   "id": "received-worth",
   "metadata": {},
   "outputs": [],
   "source": [
    "var_categ = [c for c in train.columns if 'mode' in c]\n",
    "for c in var_categ:\n",
    "    train[c] = train[c].astype('category')\n",
    "    test[c] = test[c].astype('category')"
   ]
  },
  {
   "cell_type": "code",
   "execution_count": 8,
   "id": "perceived-installation",
   "metadata": {
    "scrolled": true
   },
   "outputs": [
    {
     "name": "stdout",
     "output_type": "stream",
     "text": [
      "********** 0 **********\n"
     ]
    },
    {
     "name": "stderr",
     "output_type": "stream",
     "text": [
      "C:\\Users\\usuario\\anaconda3\\envs\\venv_datathon\\lib\\site-packages\\lightgbm\\basic.py:1286: UserWarning: Overriding the parameters from Reference Dataset.\n",
      "  warnings.warn('Overriding the parameters from Reference Dataset.')\n",
      "C:\\Users\\usuario\\anaconda3\\envs\\venv_datathon\\lib\\site-packages\\lightgbm\\basic.py:1098: UserWarning: categorical_column in param dict is overridden.\n",
      "  warnings.warn('{} in param dict is overridden.'.format(cat_alias))\n"
     ]
    },
    {
     "name": "stdout",
     "output_type": "stream",
     "text": [
      "Training until validation scores don't improve for 10 rounds\n",
      "[100]\ttraining's auc: 0.87377\ttraining's binary_logloss: 0.279481\tvalid_1's auc: 0.849385\tvalid_1's binary_logloss: 0.297542\n",
      "[200]\ttraining's auc: 0.891032\ttraining's binary_logloss: 0.264902\tvalid_1's auc: 0.852293\tvalid_1's binary_logloss: 0.295352\n",
      "Early stopping, best iteration is:\n",
      "[220]\ttraining's auc: 0.893876\ttraining's binary_logloss: 0.262551\tvalid_1's auc: 0.852501\tvalid_1's binary_logloss: 0.295185\n",
      "********** 1 **********\n",
      "Training until validation scores don't improve for 10 rounds\n",
      "[100]\ttraining's auc: 0.873679\ttraining's binary_logloss: 0.279659\tvalid_1's auc: 0.848266\tvalid_1's binary_logloss: 0.298328\n",
      "[200]\ttraining's auc: 0.891073\ttraining's binary_logloss: 0.265048\tvalid_1's auc: 0.850959\tvalid_1's binary_logloss: 0.296141\n",
      "Early stopping, best iteration is:\n",
      "[231]\ttraining's auc: 0.895043\ttraining's binary_logloss: 0.261529\tvalid_1's auc: 0.851234\tvalid_1's binary_logloss: 0.295913\n",
      "********** 2 **********\n",
      "Training until validation scores don't improve for 10 rounds\n",
      "[100]\ttraining's auc: 0.873436\ttraining's binary_logloss: 0.280113\tvalid_1's auc: 0.851697\tvalid_1's binary_logloss: 0.295131\n",
      "[200]\ttraining's auc: 0.890881\ttraining's binary_logloss: 0.265486\tvalid_1's auc: 0.853829\tvalid_1's binary_logloss: 0.292932\n",
      "Early stopping, best iteration is:\n",
      "[205]\ttraining's auc: 0.891632\ttraining's binary_logloss: 0.264854\tvalid_1's auc: 0.85388\tvalid_1's binary_logloss: 0.292817\n",
      "********** 3 **********\n",
      "Training until validation scores don't improve for 10 rounds\n",
      "[100]\ttraining's auc: 0.873864\ttraining's binary_logloss: 0.279994\tvalid_1's auc: 0.850325\tvalid_1's binary_logloss: 0.295946\n",
      "[200]\ttraining's auc: 0.891149\ttraining's binary_logloss: 0.26533\tvalid_1's auc: 0.85275\tvalid_1's binary_logloss: 0.293611\n",
      "Early stopping, best iteration is:\n",
      "[191]\ttraining's auc: 0.889979\ttraining's binary_logloss: 0.266389\tvalid_1's auc: 0.852815\tvalid_1's binary_logloss: 0.293624\n",
      "********** 4 **********\n",
      "Training until validation scores don't improve for 10 rounds\n",
      "[100]\ttraining's auc: 0.87642\ttraining's binary_logloss: 0.278481\tvalid_1's auc: 0.842448\tvalid_1's binary_logloss: 0.299398\n",
      "[200]\ttraining's auc: 0.893994\ttraining's binary_logloss: 0.263484\tvalid_1's auc: 0.844912\tvalid_1's binary_logloss: 0.297354\n",
      "Early stopping, best iteration is:\n",
      "[206]\ttraining's auc: 0.894779\ttraining's binary_logloss: 0.262773\tvalid_1's auc: 0.844942\tvalid_1's binary_logloss: 0.297322\n",
      "*********************\n",
      "roc auc estimado:  0.8511052212600636\n",
      "roc auc varianza:  0.0007769596852791391\n"
     ]
    }
   ],
   "source": [
    "from lightgbm import LGBMClassifier\n",
    "from sklearn.metrics import roc_auc_score\n",
    "from sklearn.model_selection import KFold\n",
    "import numpy as np\n",
    "folds = [train.index[t] for t, v in KFold(5).split(train)]\n",
    "test_probs = []\n",
    "train_probs = []\n",
    "fi = []\n",
    "for i, idx in enumerate(folds):\n",
    "    print(\"*\"*10, i, \"*\"*10)\n",
    "    Xt = train.loc[idx]\n",
    "    yt = y_train.loc[Xt.index].target\n",
    "\n",
    "    Xv = train.drop(Xt.index)\n",
    "    yv = y_train.loc[Xv.index].target\n",
    "\n",
    "    learner = LGBMClassifier(n_estimators=1000, boosting_type='gbdt',min_child_samples=1500, colsample_bytree=0.8,\n",
    "                   subsample=0.8, max_bin=200, learning_rate=0.1)\n",
    "    \n",
    "    learner.fit(Xt, yt,  early_stopping_rounds=10, eval_metric=\"auc\",\n",
    "                eval_set=[(Xt, yt), (Xv, yv)], verbose=100)\n",
    "    test_probs.append(pd.Series(learner.predict_proba(test)[:, -1], index=test.index, name=\"fold_\" + str(i)))\n",
    "    train_probs.append(pd.Series(learner.predict_proba(Xv)[:, -1], index=Xv.index, name=\"probs\"))\n",
    "    fi.append(pd.Series(learner.feature_importances_ / learner.feature_importances_.sum(), index=Xt.columns))\n",
    "\n",
    "test_probs = pd.concat(test_probs, axis=1).mean(axis=1)\n",
    "train_probs = pd.concat(train_probs)\n",
    "fi = pd.concat(fi, axis=1).mean(axis=1)\n",
    "print(\"*\" * 21)\n",
    "print(\"roc auc estimado: \", roc_auc_score(y_train, train_probs.loc[y_train.index]))\n",
    "print(\"roc auc varianza: \", np.std([roc_auc_score(y_train.loc[folds[i]], train_probs.iloc[folds[i]]) for i in range(len(folds))]))  "
   ]
  },
  {
   "cell_type": "code",
   "execution_count": 9,
   "id": "indirect-simpson",
   "metadata": {
    "scrolled": true
   },
   "outputs": [
    {
     "data": {
      "text/plain": [
       "ciiu_mode                                            0.112486\n",
       "cod_instit_financiera_mode_ult1mes                   0.039028\n",
       "ubigeo_mode                                          0.037757\n",
       "cod_instit_financiera_mode_ult12mes                  0.024806\n",
       "cod_instit_financiera_mode_ult2mes                   0.022791\n",
       "cod_instit_financiera_mode_ult3mes                   0.016482\n",
       "cod_instit_financiera_mode_ult11mes                  0.016149\n",
       "cod_instit_financiera_mode_ult10mes                  0.014884\n",
       "cod_instit_financiera_mode_ult4mes                   0.013109\n",
       "cod_instit_financiera_mode_ult8mes                   0.012756\n",
       "cod_instit_financiera_mode_ult5mes                   0.012124\n",
       "cod_instit_financiera_mode_ult6mes                   0.011628\n",
       "cod_instit_financiera_mode_ult7mes                   0.011587\n",
       "PRODUCTO_1_saldoMean_ult1meses                       0.008456\n",
       "PRODUCTO_1_saldoMax_ult1meses                        0.007019\n",
       "edad                                                 0.006704\n",
       "codzona_mode                                         0.005508\n",
       "PRODUCTO_3_saldoUnique_ult12meses                    0.005062\n",
       "sexo_0                                               0.005019\n",
       "COD_CLASIFICACION_DEUDOR_0_saldoUnique_ult12meses    0.004483\n",
       "RIESGO_DIRECTO_1_saldoStd_ult1meses                  0.004432\n",
       "PRODUCTO_1_saldoMedian_ult1meses                     0.004283\n",
       "estadocontribuyente_0                                0.004201\n",
       "PRODUCTO_3_saldoMedian_ult1meses                     0.003970\n",
       "PRODUCTO_1_saldoSum_ult1meses                        0.003915\n",
       "PRODUCTO_3_saldoMean_ult1meses                       0.003750\n",
       "PRODUCTO_12_saldoMin_ult1meses                       0.003543\n",
       "condicion_0_saldoUnique_ult12meses                   0.003440\n",
       "PRODUCTO_6_saldoSum_ult12meses                       0.003419\n",
       "PRODUCTO_3_saldoMedian_ult12meses                    0.003325\n",
       "cod_instit_financiera_10_saldoStd_ult1meses          0.003291\n",
       "PRODUCTO_0_saldoStd_ult1meses                        0.003098\n",
       "PRODUCTO_11_saldoMax_ult1meses                       0.003087\n",
       "PRODUCTO_0_saldoMin_ult1meses                        0.003047\n",
       "PRODUCTO_8_saldoSum_ult12meses                       0.003045\n",
       "cod_instit_financiera_34_saldoUnique_ult12meses      0.003032\n",
       "PRODUCTO_6_saldoMax_ult1meses                        0.003011\n",
       "RIESGO_DIRECTO_1_saldoMin_ult1meses                  0.002863\n",
       "RIESGO_DIRECTO_1_saldoSum_ult1meses                  0.002859\n",
       "RIESGO_DIRECTO_-1_saldoMedian_ult1meses              0.002858\n",
       "PRODUCTO_2_saldoUnique_ult12meses                    0.002852\n",
       "ctd_veh                                              0.002847\n",
       "PRODUCTO_8_saldoUnique_ult12meses                    0.002845\n",
       "RIESGO_DIRECTO_1_saldoUnique_ult12meses              0.002844\n",
       "RIESGO_DIRECTO_1_saldoUnique_ult1meses               0.002727\n",
       "PRODUCTO_mode_ult1mes                                0.002693\n",
       "PRODUCTO_7_saldoMax_ult12meses                       0.002618\n",
       "PRODUCTO_3_saldoMin_ult12meses                       0.002581\n",
       "PRODUCTO_0_saldoMax_ult1meses                        0.002573\n",
       "PRODUCTO_1_saldoMin_ult1meses                        0.002474\n",
       "dtype: float64"
      ]
     },
     "execution_count": 9,
     "metadata": {},
     "output_type": "execute_result"
    }
   ],
   "source": [
    "fi.sort_values(ascending=False).head(50)"
   ]
  },
  {
   "cell_type": "code",
   "execution_count": 11,
   "id": "medical-consumer",
   "metadata": {},
   "outputs": [],
   "source": [
    "fi.to_pickle('fi_lightgbm_v2.pkl')"
   ]
  },
  {
   "cell_type": "code",
   "execution_count": 12,
   "id": "separate-handle",
   "metadata": {},
   "outputs": [],
   "source": [
    "train_probs_lightgbm = train_probs\n",
    "test_probs_lightgbm = test_probs\n",
    "train_probs_lightgbm.to_pickle('train_probs_lightgbm_v2.pkl')\n",
    "test_probs_lightgbm.to_pickle('test_probs_lightgbm_v2.pkl')"
   ]
  }
 ],
 "metadata": {
  "kernelspec": {
   "display_name": "Python 3",
   "language": "python",
   "name": "python3"
  },
  "language_info": {
   "codemirror_mode": {
    "name": "ipython",
    "version": 3
   },
   "file_extension": ".py",
   "mimetype": "text/x-python",
   "name": "python",
   "nbconvert_exporter": "python",
   "pygments_lexer": "ipython3",
   "version": "3.8.5"
  }
 },
 "nbformat": 4,
 "nbformat_minor": 5
}
