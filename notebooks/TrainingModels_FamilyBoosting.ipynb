{
 "cells": [
  {
   "cell_type": "code",
   "execution_count": 1,
   "id": "noble-things",
   "metadata": {},
   "outputs": [],
   "source": [
    "import pandas as pd\n",
    "import numpy as np\n",
    "import matplotlib.pyplot as plt"
   ]
  },
  {
   "cell_type": "code",
   "execution_count": 2,
   "id": "defined-houston",
   "metadata": {},
   "outputs": [],
   "source": [
    "path = '../data'\n",
    "y_train = pd.read_csv(f'{path}/y_train.csv', index_col = 'key_value')"
   ]
  },
  {
   "cell_type": "code",
   "execution_count": 3,
   "id": "exempt-moore",
   "metadata": {},
   "outputs": [
    {
     "data": {
      "image/png": "[encoded data removed]",
      "text/plain": [
       "<Figure size 432x288 with 1 Axes>"
      ]
     },
     "metadata": {},
     "output_type": "display_data"
    }
   ],
   "source": [
    "y_train.value_counts().plot(kind='pie', autopct='%1.0f%%');"
   ]
  },
  {
   "cell_type": "code",
   "execution_count": 4,
   "id": "reduced-bloom",
   "metadata": {
    "scrolled": true
   },
   "outputs": [
    {
     "data": {
      "text/plain": [
       "((358487, 1136), (396666, 1136))"
      ]
     },
     "execution_count": 4,
     "metadata": {},
     "output_type": "execute_result"
    }
   ],
   "source": [
    "train = pd.read_pickle('../data/train_score_0.84862.pkl') ### 293 features\n",
    "test = pd.read_pickle('../data/test_score_0.84862.pkl')\n",
    "train.shape, test.shape"
   ]
  },
  {
   "cell_type": "code",
   "execution_count": 5,
   "id": "charged-tuition",
   "metadata": {},
   "outputs": [
    {
     "data": {
      "text/plain": [
       "float64    1048\n",
       "int32        65\n",
       "int64        23\n",
       "dtype: int64"
      ]
     },
     "execution_count": 5,
     "metadata": {},
     "output_type": "execute_result"
    }
   ],
   "source": [
    "train.dtypes.value_counts()"
   ]
  },
  {
   "cell_type": "code",
   "execution_count": 6,
   "id": "alternate-luther",
   "metadata": {
    "scrolled": true
   },
   "outputs": [
    {
     "data": {
      "image/png": "[encoded data removed]",
      "text/plain": [
       "<Figure size 432x288 with 1 Axes>"
      ]
     },
     "metadata": {
      "needs_background": "light"
     },
     "output_type": "display_data"
    }
   ],
   "source": [
    "train.isna().sum().hist();"
   ]
  },
  {
   "cell_type": "markdown",
   "id": "stuck-dispatch",
   "metadata": {},
   "source": [
    "## Entrenando LGBM con hiperparámetros"
   ]
  },
  {
   "cell_type": "code",
   "execution_count": null,
   "id": "accessible-warehouse",
   "metadata": {},
   "outputs": [],
   "source": [
    "train = pd.read_pickle('../data/train_score_0.84862.pkl') ### 293 features\n",
    "test = pd.read_pickle('../data/test_score_0.84862.pkl')\n",
    "train.shape, test.shape"
   ]
  },
  {
   "cell_type": "code",
   "execution_count": 7,
   "id": "stopped-wagner",
   "metadata": {
    "scrolled": true
   },
   "outputs": [
    {
     "name": "stdout",
     "output_type": "stream",
     "text": [
      "********** 0 **********\n",
      "Training until validation scores don't improve for 10 rounds\n",
      "[100]\ttraining's auc: 0.856936\ttraining's binary_logloss: 0.292239\tvalid_1's auc: 0.84233\tvalid_1's binary_logloss: 0.303186\n",
      "[200]\ttraining's auc: 0.872172\ttraining's binary_logloss: 0.280473\tvalid_1's auc: 0.846739\tvalid_1's binary_logloss: 0.299657\n",
      "[300]\ttraining's auc: 0.882948\ttraining's binary_logloss: 0.271993\tvalid_1's auc: 0.847878\tvalid_1's binary_logloss: 0.298809\n",
      "Early stopping, best iteration is:\n",
      "[327]\ttraining's auc: 0.885625\ttraining's binary_logloss: 0.269881\tvalid_1's auc: 0.848044\tvalid_1's binary_logloss: 0.29871\n",
      "********** 1 **********\n",
      "Training until validation scores don't improve for 10 rounds\n",
      "[100]\ttraining's auc: 0.856927\ttraining's binary_logloss: 0.292188\tvalid_1's auc: 0.841971\tvalid_1's binary_logloss: 0.303186\n",
      "[200]\ttraining's auc: 0.871942\ttraining's binary_logloss: 0.280424\tvalid_1's auc: 0.84622\tvalid_1's binary_logloss: 0.2999\n",
      "[300]\ttraining's auc: 0.882858\ttraining's binary_logloss: 0.271844\tvalid_1's auc: 0.84757\tvalid_1's binary_logloss: 0.298947\n",
      "Early stopping, best iteration is:\n",
      "[310]\ttraining's auc: 0.883729\ttraining's binary_logloss: 0.271099\tvalid_1's auc: 0.847702\tvalid_1's binary_logloss: 0.29885\n",
      "********** 2 **********\n",
      "Training until validation scores don't improve for 10 rounds\n",
      "[100]\ttraining's auc: 0.85673\ttraining's binary_logloss: 0.292579\tvalid_1's auc: 0.844846\tvalid_1's binary_logloss: 0.300634\n",
      "[200]\ttraining's auc: 0.872067\ttraining's binary_logloss: 0.280914\tvalid_1's auc: 0.847835\tvalid_1's binary_logloss: 0.297685\n",
      "Early stopping, best iteration is:\n",
      "[218]\ttraining's auc: 0.874296\ttraining's binary_logloss: 0.279211\tvalid_1's auc: 0.848116\tvalid_1's binary_logloss: 0.29745\n",
      "********** 3 **********\n",
      "Training until validation scores don't improve for 10 rounds\n",
      "[100]\ttraining's auc: 0.857096\ttraining's binary_logloss: 0.292583\tvalid_1's auc: 0.843642\tvalid_1's binary_logloss: 0.301419\n",
      "[200]\ttraining's auc: 0.872333\ttraining's binary_logloss: 0.280815\tvalid_1's auc: 0.847071\tvalid_1's binary_logloss: 0.298287\n",
      "Early stopping, best iteration is:\n",
      "[245]\ttraining's auc: 0.877526\ttraining's binary_logloss: 0.276769\tvalid_1's auc: 0.847589\tvalid_1's binary_logloss: 0.297824\n",
      "********** 4 **********\n",
      "Training until validation scores don't improve for 10 rounds\n",
      "[100]\ttraining's auc: 0.85858\ttraining's binary_logloss: 0.291779\tvalid_1's auc: 0.836514\tvalid_1's binary_logloss: 0.303797\n",
      "[200]\ttraining's auc: 0.873879\ttraining's binary_logloss: 0.27987\tvalid_1's auc: 0.84024\tvalid_1's binary_logloss: 0.300924\n",
      "Early stopping, best iteration is:\n",
      "[217]\ttraining's auc: 0.875898\ttraining's binary_logloss: 0.278344\tvalid_1's auc: 0.840485\tvalid_1's binary_logloss: 0.300718\n",
      "*********************\n",
      "roc auc estimado:  0.8464020583544389\n",
      "roc auc varianza:  0.0007231250807578067\n"
     ]
    }
   ],
   "source": [
    "from lightgbm import LGBMClassifier\n",
    "from sklearn.metrics import roc_auc_score\n",
    "from sklearn.model_selection import KFold\n",
    "import numpy as np\n",
    "folds = [train.index[t] for t, v in KFold(5).split(train)]\n",
    "test_probs = []\n",
    "train_probs = []\n",
    "fi = []\n",
    "for i, idx in enumerate(folds):\n",
    "    print(\"*\"*10, i, \"*\"*10)\n",
    "    Xt = train.loc[idx]\n",
    "    yt = y_train.loc[Xt.index].target\n",
    "\n",
    "    Xv = train.drop(Xt.index)\n",
    "    yv = y_train.loc[Xv.index].target\n",
    "\n",
    "    learner = LGBMClassifier(n_estimators=1000, boosting_type='gbdt',min_child_samples=1500, colsample_bytree=0.8,\n",
    "                   subsample=0.8, max_bin=200, learning_rate=0.1)\n",
    "    \n",
    "    learner.fit(Xt, yt,  early_stopping_rounds=10, eval_metric=\"auc\",\n",
    "                eval_set=[(Xt, yt), (Xv, yv)], verbose=100)\n",
    "    test_probs.append(pd.Series(learner.predict_proba(test)[:, -1], index=test.index, name=\"fold_\" + str(i)))\n",
    "    train_probs.append(pd.Series(learner.predict_proba(Xv)[:, -1], index=Xv.index, name=\"probs\"))\n",
    "    fi.append(pd.Series(learner.feature_importances_ / learner.feature_importances_.sum(), index=Xt.columns))\n",
    "\n",
    "test_probs = pd.concat(test_probs, axis=1).mean(axis=1)\n",
    "train_probs = pd.concat(train_probs)\n",
    "fi = pd.concat(fi, axis=1).mean(axis=1)\n",
    "print(\"*\" * 21)\n",
    "print(\"roc auc estimado: \", roc_auc_score(y_train, train_probs.loc[y_train.index]))\n",
    "print(\"roc auc varianza: \", np.std([roc_auc_score(y_train.loc[folds[i]], train_probs.iloc[folds[i]]) for i in range(len(folds))]))  "
   ]
  },
  {
   "cell_type": "code",
   "execution_count": 8,
   "id": "nutritional-rider",
   "metadata": {
    "scrolled": true
   },
   "outputs": [
    {
     "data": {
      "text/plain": [
       "RIESGO_DIRECTO_1_saldoUnique_ult1meses               0.012606\n",
       "cod_instit_financiera_max_ult1mes                    0.011581\n",
       "edad                                                 0.010365\n",
       "RIESGO_DIRECTO_1_saldoStd_ult1meses                  0.008857\n",
       "COD_CLASIFICACION_DEUDOR_0_saldoUnique_ult12meses    0.008844\n",
       "ubigeo_mode                                          0.008489\n",
       "RIESGO_DIRECTO_-1_saldoUnique_ult12meses             0.008307\n",
       "RIESGO_DIRECTO_-1_saldoMedian_ult1meses              0.008029\n",
       "cod_instit_financiera_mode_ult1mes                   0.006738\n",
       "RIESGO_DIRECTO_1_saldoMin_ult1meses                  0.006509\n",
       "cod_instit_financiera_min_ult1mes                    0.006308\n",
       "RIESGO_DIRECTO_-1_saldoMedian_ult2meses              0.006118\n",
       "tipo_credito_11_saldoStd_ult1meses                   0.005895\n",
       "RIESGO_DIRECTO_1_saldoMedian_ult1meses               0.005428\n",
       "sexo_0                                               0.005401\n",
       "condicion_0_saldoUnique_ult12meses                   0.005325\n",
       "ciiu_mode                                            0.005200\n",
       "tipo_credito_11_saldoUnique_ult12meses               0.005105\n",
       "RIESGO_DIRECTO_1_saldoMax_ult12meses                 0.004962\n",
       "estadocontribuyente_0                                0.004902\n",
       "RIESGO_DIRECTO_1_saldoMedian_ult3meses               0.004757\n",
       "RIESGO_DIRECTO_1_saldoMedian_ult2meses               0.004525\n",
       "RIESGO_DIRECTO_1_saldoUnique_ult12meses              0.004488\n",
       "tipo_credito_11_saldoMin_ult1meses                   0.004330\n",
       "RIESGO_DIRECTO_1_saldoSum_ult1meses                  0.004328\n",
       "tipo_credito_12_saldoMin_ult1meses                   0.004244\n",
       "tipo_credito_12_saldoUnique_ult12meses               0.004198\n",
       "RIESGO_DIRECTO_1_saldoMax_ult1meses                  0.004181\n",
       "tipo_credito_12_saldoSum_ult1meses                   0.004103\n",
       "RIESGO_DIRECTO_1_saldoMin_ult2meses                  0.004100\n",
       "fecalta_min                                          0.004082\n",
       "RIESGO_DIRECTO_1_saldoStd_ult12meses                 0.003930\n",
       "RIESGO_DIRECTO_1_saldoMean_ult1meses                 0.003851\n",
       "RIESGO_DIRECTO_-1_saldoMedian_ult3meses              0.003778\n",
       "RIESGO_DIRECTO_-1_saldoSum_ult1meses                 0.003726\n",
       "RIESGO_DIRECTO_1_saldoStd_ult2meses                  0.003717\n",
       "RIESGO_DIRECTO_1_saldoMin_ult12meses                 0.003564\n",
       "fecalta_mean                                         0.003515\n",
       "tipo_credito_11_saldoSum_ult1meses                   0.003468\n",
       "cod_instit_financiera_mode_ult12mes                  0.003386\n",
       "cod_instit_financiera_max_ult12mes                   0.003336\n",
       "codzona_mode                                         0.003275\n",
       "RIESGO_DIRECTO_1_saldoMedian_ult12meses              0.003255\n",
       "RIESGO_DIRECTO_1_saldoUnique_ult2meses               0.003243\n",
       "RIESGO_DIRECTO_-1_saldoSum_ult12meses                0.003188\n",
       "tipo_credito_12_saldoUnique_ult1meses                0.003186\n",
       "RIESGO_DIRECTO_1_saldoMin_ult3meses                  0.003091\n",
       "COD_CLASIFICACION_DEUDOR_5_saldoMin_ult1meses        0.003048\n",
       "RIESGO_DIRECTO_-1_saldoSum_ult2meses                 0.003034\n",
       "tipo_credito_12_saldoMedian_ult1meses                0.002995\n",
       "dtype: float64"
      ]
     },
     "execution_count": 8,
     "metadata": {},
     "output_type": "execute_result"
    }
   ],
   "source": [
    "fi.sort_values(ascending=False).head(50)"
   ]
  },
  {
   "cell_type": "code",
   "execution_count": 9,
   "id": "parallel-fusion",
   "metadata": {},
   "outputs": [],
   "source": [
    "fi.to_pickle('fi_lightgbm.pkl')"
   ]
  },
  {
   "cell_type": "code",
   "execution_count": 10,
   "id": "posted-louisiana",
   "metadata": {},
   "outputs": [],
   "source": [
    "train_probs_lightgbm = train_probs\n",
    "test_probs_lightgbm = test_probs\n",
    "train_probs_lightgbm.to_pickle('train_probs_lightgbm.pkl')\n",
    "test_probs_lightgbm.to_pickle('test_probs_lightgbm.pkl')"
   ]
  },
  {
   "cell_type": "markdown",
   "id": "reduced-communications",
   "metadata": {},
   "source": [
    "## Entrenando CatBoost con hiperparámetros"
   ]
  },
  {
   "cell_type": "code",
   "execution_count": null,
   "id": "broadband-macedonia",
   "metadata": {},
   "outputs": [],
   "source": [
    "train = pd.read_pickle('../data/train_score_0.84862.pkl') ### 293 features\n",
    "test = pd.read_pickle('../data/test_score_0.84862.pkl')\n",
    "train.shape, test.shape"
   ]
  },
  {
   "cell_type": "code",
   "execution_count": 11,
   "id": "charming-protection",
   "metadata": {
    "scrolled": true
   },
   "outputs": [
    {
     "name": "stdout",
     "output_type": "stream",
     "text": [
      "********** 0 **********\n",
      "0:\ttest: 0.7093593\ttest1: 0.7108453\tbest: 0.7108453 (0)\ttotal: 689ms\tremaining: 11m 28s\n",
      "100:\ttest: 0.8504688\ttest1: 0.8395184\tbest: 0.8396107 (98)\ttotal: 1m 10s\tremaining: 10m 24s\n",
      "200:\ttest: 0.8647001\ttest1: 0.8428050\tbest: 0.8428050 (200)\ttotal: 2m 19s\tremaining: 9m 16s\n",
      "Stopped by overfitting detector  (10 iterations wait)\n",
      "\n",
      "bestTest = 0.8431052276\n",
      "bestIteration = 212\n",
      "\n",
      "Shrink model to first 213 iterations.\n",
      "********** 1 **********\n",
      "0:\ttest: 0.7269500\ttest1: 0.7250728\tbest: 0.7250728 (0)\ttotal: 736ms\tremaining: 12m 15s\n",
      "100:\ttest: 0.8508043\ttest1: 0.8398558\tbest: 0.8399836 (97)\ttotal: 1m 18s\tremaining: 11m 43s\n",
      "Stopped by overfitting detector  (10 iterations wait)\n",
      "\n",
      "bestTest = 0.8420045373\n",
      "bestIteration = 146\n",
      "\n",
      "Shrink model to first 147 iterations.\n",
      "********** 2 **********\n",
      "0:\ttest: 0.7064753\ttest1: 0.7146973\tbest: 0.7146973 (0)\ttotal: 620ms\tremaining: 10m 19s\n",
      "100:\ttest: 0.8505039\ttest1: 0.8429398\tbest: 0.8429398 (100)\ttotal: 1m 15s\tremaining: 11m 16s\n",
      "Stopped by overfitting detector  (10 iterations wait)\n",
      "\n",
      "bestTest = 0.8448974512\n",
      "bestIteration = 146\n",
      "\n",
      "Shrink model to first 147 iterations.\n",
      "********** 3 **********\n",
      "0:\ttest: 0.7075185\ttest1: 0.7095663\tbest: 0.7095663 (0)\ttotal: 615ms\tremaining: 10m 14s\n",
      "100:\ttest: 0.8505363\ttest1: 0.8413386\tbest: 0.8414307 (94)\ttotal: 1m 18s\tremaining: 11m 42s\n",
      "Stopped by overfitting detector  (10 iterations wait)\n",
      "\n",
      "bestTest = 0.8433514985\n",
      "bestIteration = 168\n",
      "\n",
      "Shrink model to first 169 iterations.\n",
      "********** 4 **********\n",
      "0:\ttest: 0.7129356\ttest1: 0.6952613\tbest: 0.6952613 (0)\ttotal: 650ms\tremaining: 10m 49s\n",
      "100:\ttest: 0.8523021\ttest1: 0.8329464\tbest: 0.8329464 (100)\ttotal: 1m 18s\tremaining: 11m 34s\n",
      "200:\ttest: 0.8671920\ttest1: 0.8359630\tbest: 0.8360821 (193)\ttotal: 2m 31s\tremaining: 10m 2s\n",
      "Stopped by overfitting detector  (10 iterations wait)\n",
      "\n",
      "bestTest = 0.8360820546\n",
      "bestIteration = 193\n",
      "\n",
      "Shrink model to first 194 iterations.\n",
      "*********************\n",
      "roc auc estimado:  0.841912311266414\n",
      "roc auc varianza:  0.0007394122710751897\n"
     ]
    }
   ],
   "source": [
    "from catboost import CatBoostClassifier\n",
    "from sklearn.metrics import roc_auc_score\n",
    "from sklearn.model_selection import KFold\n",
    "import numpy as np\n",
    "folds = [train.index[t] for t, v in KFold(5).split(train)]\n",
    "test_probs = []\n",
    "train_probs = []\n",
    "fi = []\n",
    "for i, idx in enumerate(folds):\n",
    "    print(\"*\"*10, i, \"*\"*10)\n",
    "    Xt = train.loc[idx]\n",
    "    yt = y_train.loc[Xt.index]\n",
    "\n",
    "    Xv = train.drop(Xt.index)\n",
    "    yv = y_train.loc[Xv.index]\n",
    "\n",
    "    learner = CatBoostClassifier(boosting_type = 'Plain', n_estimators=1000, eval_metric = 'AUC',\n",
    "                   colsample_bylevel=1, subsample=1, learning_rate=0.3)\n",
    "    \n",
    "    learner.fit(Xt, yt,  early_stopping_rounds=10, \n",
    "                eval_set=[(Xt, yt), (Xv, yv)], verbose=100)\n",
    "    test_probs.append(pd.Series(learner.predict_proba(test)[:, -1], index=test.index, name=\"fold_\" + str(i)))\n",
    "    train_probs.append(pd.Series(learner.predict_proba(Xv)[:, -1], index=Xv.index, name=\"probs\"))\n",
    "    fi.append(pd.Series(learner.feature_importances_ / learner.feature_importances_.sum(), index=Xt.columns))\n",
    "\n",
    "test_probs = pd.concat(test_probs, axis=1).mean(axis=1)\n",
    "train_probs = pd.concat(train_probs)\n",
    "fi = pd.concat(fi, axis=1).mean(axis=1)\n",
    "print(\"*\" * 21)\n",
    "print(\"roc auc estimado: \", roc_auc_score(y_train, train_probs.loc[y_train.index]))\n",
    "print(\"roc auc varianza: \", np.std([roc_auc_score(y_train.loc[folds[i]], train_probs.iloc[folds[i]]) for i in range(len(folds))]))  "
   ]
  },
  {
   "cell_type": "code",
   "execution_count": 12,
   "id": "alien-contamination",
   "metadata": {
    "scrolled": true
   },
   "outputs": [
    {
     "data": {
      "text/plain": [
       "COD_CLASIFICACION_DEUDOR_5_saldoMin_ult1meses        0.186305\n",
       "COD_CLASIFICACION_DEUDOR_5_saldoUnique_ult5meses     0.024312\n",
       "RIESGO_DIRECTO_-1_saldoMedian_ult1meses              0.020085\n",
       "RIESGO_DIRECTO_1_saldoUnique_ult1meses               0.017645\n",
       "RIESGO_DIRECTO_1_saldoSum_ult1meses                  0.017080\n",
       "RIESGO_DIRECTO_2_saldoSum_ult1meses                  0.014715\n",
       "COD_CLASIFICACION_DEUDOR_5_saldoUnique_ult1meses     0.013940\n",
       "RIESGO_DIRECTO_-1_saldoMean_ult2meses                0.013577\n",
       "COD_CLASIFICACION_DEUDOR_5_saldoUnique_ult2meses     0.013110\n",
       "edad                                                 0.012706\n",
       "COD_CLASIFICACION_DEUDOR_0_saldoUnique_ult12meses    0.012445\n",
       "COD_CLASIFICACION_DEUDOR_3_saldoMedian_ult4meses     0.011704\n",
       "cod_instit_financiera_mode_ult1mes                   0.009994\n",
       "RIESGO_DIRECTO_-1_saldoMedian_ult2meses              0.009545\n",
       "condicion_0_saldoUnique_ult12meses                   0.009164\n",
       "cod_instit_financiera_max_ult1mes                    0.008974\n",
       "sexo_0                                               0.008892\n",
       "cod_instit_financiera_max_ult4mes                    0.007785\n",
       "RIESGO_DIRECTO_1_saldoMin_ult1meses                  0.006830\n",
       "tipo_credito_11_saldoSum_ult12meses                  0.006678\n",
       "cod_instit_financiera_min_ult1mes                    0.006206\n",
       "RIESGO_DIRECTO_-1_saldoUnique_ult12meses             0.006015\n",
       "COD_CLASIFICACION_DEUDOR_1_saldoMax_ult1meses        0.005825\n",
       "PRODUCTO_max_ult1mes                                 0.005580\n",
       "PRODUCTO_min_ult9mes                                 0.005383\n",
       "COD_CLASIFICACION_DEUDOR_0_saldoSum_ult1meses        0.005251\n",
       "cod_instit_financiera_nunique_ult1mes                0.005199\n",
       "condicion_0_saldoSum_ult1meses                       0.005151\n",
       "PRODUCTO_min_ult8mes                                 0.005135\n",
       "tipo_credito_11_saldoStd_ult1meses                   0.005058\n",
       "tipo_credito_12_saldoUnique_ult1meses                0.005036\n",
       "COD_CLASIFICACION_DEUDOR_0_saldoUnique_ult11meses    0.004976\n",
       "ctd_veh                                              0.004831\n",
       "RIESGO_DIRECTO_1_saldoMax_ult12meses                 0.004790\n",
       "cod_instit_financiera_max_ult3mes                    0.004445\n",
       "RIESGO_DIRECTO_-1_saldoSum_ult1meses                 0.004274\n",
       "RIESGO_DIRECTO_1_saldoMean_ult1meses                 0.004247\n",
       "RIESGO_DIRECTO_2_saldoMax_ult4meses                  0.004184\n",
       "estadocontribuyente_0                                0.004126\n",
       "PRODUCTO_min_ult2mes                                 0.004077\n",
       "RIESGO_DIRECTO_1_saldoUnique_ult12meses              0.004064\n",
       "COD_CLASIFICACION_DEUDOR_1_saldoStd_ult2meses        0.003991\n",
       "RIESGO_DIRECTO_-1_saldoMedian_ult5meses              0.003974\n",
       "tipo_credito_11_saldoMean_ult2meses                  0.003970\n",
       "cod_instit_financiera_max_ult8mes                    0.003911\n",
       "condicion_1_saldoMean_ult1meses                      0.003830\n",
       "COD_CLASIFICACION_DEUDOR_4_saldoMin_ult1meses        0.003714\n",
       "RIESGO_DIRECTO_1_saldoMax_ult1meses                  0.003640\n",
       "COD_CLASIFICACION_DEUDOR_3_saldoStd_ult5meses        0.003637\n",
       "PRODUCTO_min_ult1mes                                 0.003543\n",
       "dtype: float64"
      ]
     },
     "execution_count": 12,
     "metadata": {},
     "output_type": "execute_result"
    }
   ],
   "source": [
    "fi.sort_values(ascending=False).head(50)"
   ]
  },
  {
   "cell_type": "code",
   "execution_count": 13,
   "id": "proud-active",
   "metadata": {},
   "outputs": [],
   "source": [
    "fi.to_pickle('fi_catboost.pkl')"
   ]
  },
  {
   "cell_type": "code",
   "execution_count": 14,
   "id": "packed-commerce",
   "metadata": {},
   "outputs": [],
   "source": [
    "train_probs_catboost = train_probs\n",
    "test_probs_catboost = test_probs\n",
    "train_probs_catboost.to_pickle('train_probs_catboost.pkl')\n",
    "test_probs_catboost.to_pickle('test_probs_catboost.pkl')"
   ]
  },
  {
   "cell_type": "markdown",
   "id": "curious-andrews",
   "metadata": {},
   "source": [
    "## LGBM con Categorical_Feature con hiperparámetros"
   ]
  },
  {
   "cell_type": "code",
   "execution_count": null,
   "id": "elementary-jerusalem",
   "metadata": {},
   "outputs": [],
   "source": [
    "train = pd.read_pickle('../data/train_score_0.84862.pkl') ### 293 features\n",
    "test = pd.read_pickle('../data/test_score_0.84862.pkl')\n",
    "train.shape, test.shape"
   ]
  },
  {
   "cell_type": "code",
   "execution_count": 15,
   "id": "presidential-matrix",
   "metadata": {},
   "outputs": [],
   "source": [
    "var_mode = [ i for i in train.columns if 'mode' in i ]\n",
    "for i in var_mode:\n",
    "    train[i] = train[i].astype('category')\n",
    "    test[i] = test[i].astype('category')"
   ]
  },
  {
   "cell_type": "code",
   "execution_count": 16,
   "id": "physical-astronomy",
   "metadata": {
    "scrolled": true
   },
   "outputs": [
    {
     "name": "stdout",
     "output_type": "stream",
     "text": [
      "********** 0 **********\n"
     ]
    },
    {
     "name": "stderr",
     "output_type": "stream",
     "text": [
      "C:\\Users\\usuario\\anaconda3\\envs\\venv_datathon\\lib\\site-packages\\lightgbm\\basic.py:1286: UserWarning: Overriding the parameters from Reference Dataset.\n",
      "  warnings.warn('Overriding the parameters from Reference Dataset.')\n",
      "C:\\Users\\usuario\\anaconda3\\envs\\venv_datathon\\lib\\site-packages\\lightgbm\\basic.py:1098: UserWarning: categorical_column in param dict is overridden.\n",
      "  warnings.warn('{} in param dict is overridden.'.format(cat_alias))\n"
     ]
    },
    {
     "name": "stdout",
     "output_type": "stream",
     "text": [
      "Training until validation scores don't improve for 10 rounds\n",
      "[50]\ttraining's auc: 0.853018\ttraining's binary_logloss: 0.297856\tvalid_1's auc: 0.83479\tvalid_1's binary_logloss: 0.309108\n",
      "[100]\ttraining's auc: 0.86851\ttraining's binary_logloss: 0.284755\tvalid_1's auc: 0.841822\tvalid_1's binary_logloss: 0.303217\n",
      "[150]\ttraining's auc: 0.878911\ttraining's binary_logloss: 0.276473\tvalid_1's auc: 0.844192\tvalid_1's binary_logloss: 0.301272\n",
      "[200]\ttraining's auc: 0.887114\ttraining's binary_logloss: 0.269921\tvalid_1's auc: 0.84546\tvalid_1's binary_logloss: 0.300323\n",
      "Early stopping, best iteration is:\n",
      "[200]\ttraining's auc: 0.887114\ttraining's binary_logloss: 0.269921\tvalid_1's auc: 0.84546\tvalid_1's binary_logloss: 0.300323\n",
      "********** 1 **********\n",
      "Training until validation scores don't improve for 10 rounds\n",
      "[50]\ttraining's auc: 0.853105\ttraining's binary_logloss: 0.297583\tvalid_1's auc: 0.83342\tvalid_1's binary_logloss: 0.309619\n",
      "[100]\ttraining's auc: 0.868977\ttraining's binary_logloss: 0.284423\tvalid_1's auc: 0.840708\tvalid_1's binary_logloss: 0.303684\n",
      "[150]\ttraining's auc: 0.879226\ttraining's binary_logloss: 0.276143\tvalid_1's auc: 0.842828\tvalid_1's binary_logloss: 0.302094\n",
      "[200]\ttraining's auc: 0.887353\ttraining's binary_logloss: 0.269529\tvalid_1's auc: 0.843784\tvalid_1's binary_logloss: 0.301376\n",
      "Early stopping, best iteration is:\n",
      "[209]\ttraining's auc: 0.888642\ttraining's binary_logloss: 0.268481\tvalid_1's auc: 0.843867\tvalid_1's binary_logloss: 0.301294\n",
      "********** 2 **********\n",
      "Training until validation scores don't improve for 10 rounds\n",
      "[50]\ttraining's auc: 0.852586\ttraining's binary_logloss: 0.298265\tvalid_1's auc: 0.837541\tvalid_1's binary_logloss: 0.306826\n",
      "[100]\ttraining's auc: 0.868712\ttraining's binary_logloss: 0.285091\tvalid_1's auc: 0.844201\tvalid_1's binary_logloss: 0.30097\n",
      "[150]\ttraining's auc: 0.878917\ttraining's binary_logloss: 0.27691\tvalid_1's auc: 0.846163\tvalid_1's binary_logloss: 0.299236\n",
      "[200]\ttraining's auc: 0.886899\ttraining's binary_logloss: 0.270421\tvalid_1's auc: 0.846798\tvalid_1's binary_logloss: 0.298529\n",
      "Early stopping, best iteration is:\n",
      "[206]\ttraining's auc: 0.887798\ttraining's binary_logloss: 0.269726\tvalid_1's auc: 0.846869\tvalid_1's binary_logloss: 0.298466\n",
      "********** 3 **********\n",
      "Training until validation scores don't improve for 10 rounds\n",
      "[50]\ttraining's auc: 0.852695\ttraining's binary_logloss: 0.298272\tvalid_1's auc: 0.834694\tvalid_1's binary_logloss: 0.308175\n",
      "[100]\ttraining's auc: 0.869093\ttraining's binary_logloss: 0.28497\tvalid_1's auc: 0.842292\tvalid_1's binary_logloss: 0.301997\n",
      "[150]\ttraining's auc: 0.879372\ttraining's binary_logloss: 0.276697\tvalid_1's auc: 0.844623\tvalid_1's binary_logloss: 0.300001\n",
      "[200]\ttraining's auc: 0.887344\ttraining's binary_logloss: 0.270172\tvalid_1's auc: 0.845315\tvalid_1's binary_logloss: 0.299225\n",
      "Early stopping, best iteration is:\n",
      "[193]\ttraining's auc: 0.886405\ttraining's binary_logloss: 0.27101\tvalid_1's auc: 0.845389\tvalid_1's binary_logloss: 0.2992\n",
      "********** 4 **********\n",
      "Training until validation scores don't improve for 10 rounds\n",
      "[50]\ttraining's auc: 0.853841\ttraining's binary_logloss: 0.297929\tvalid_1's auc: 0.830913\tvalid_1's binary_logloss: 0.308849\n",
      "[100]\ttraining's auc: 0.869867\ttraining's binary_logloss: 0.284511\tvalid_1's auc: 0.837493\tvalid_1's binary_logloss: 0.303402\n",
      "[150]\ttraining's auc: 0.880271\ttraining's binary_logloss: 0.276167\tvalid_1's auc: 0.839663\tvalid_1's binary_logloss: 0.301673\n",
      "[200]\ttraining's auc: 0.888299\ttraining's binary_logloss: 0.269601\tvalid_1's auc: 0.840531\tvalid_1's binary_logloss: 0.300949\n",
      "Early stopping, best iteration is:\n",
      "[195]\ttraining's auc: 0.887494\ttraining's binary_logloss: 0.27023\tvalid_1's auc: 0.840631\tvalid_1's binary_logloss: 0.300929\n",
      "*********************\n",
      "roc auc estimado:  0.8444576207545462\n",
      "roc auc varianza:  0.0005225965817099837\n"
     ]
    }
   ],
   "source": [
    "from lightgbm import LGBMClassifier\n",
    "from sklearn.metrics import roc_auc_score\n",
    "from sklearn.model_selection import KFold\n",
    "import numpy as np\n",
    "folds = [train.index[t] for t, v in KFold(5).split(train)]\n",
    "test_probs = []\n",
    "train_probs = []\n",
    "fi = []\n",
    "for i, idx in enumerate(folds):\n",
    "    print(\"*\"*10, i, \"*\"*10)\n",
    "    Xt = train.loc[idx]\n",
    "    yt = y_train.loc[Xt.index].target\n",
    "\n",
    "    Xv = train.drop(Xt.index)\n",
    "    yv = y_train.loc[Xv.index].target\n",
    "\n",
    "    learner = LGBMClassifier(n_estimators=1000, boosting_type='gbdt',min_child_samples=1500, \n",
    "                             colsample_bytree=0.8,subsample=0.8, max_bin=200, learning_rate=0.1)\n",
    "    learner.fit(Xt, yt,  early_stopping_rounds=10, eval_metric=\"auc\",\n",
    "                eval_set=[(Xt, yt), (Xv, yv)], verbose=50) \n",
    "    test_probs.append(pd.Series(learner.predict_proba(test)[:, -1], index=test.index, name=\"fold_\" + str(i)))\n",
    "    train_probs.append(pd.Series(learner.predict_proba(Xv)[:, -1], index=Xv.index, name=\"probs\"))\n",
    "    fi.append(pd.Series(learner.feature_importances_ / learner.feature_importances_.sum(), index=Xt.columns))\n",
    "\n",
    "test_probs = pd.concat(test_probs, axis=1).mean(axis=1)\n",
    "train_probs = pd.concat(train_probs)\n",
    "fi = pd.concat(fi, axis=1).mean(axis=1)\n",
    "print(\"*\" * 21)\n",
    "print(\"roc auc estimado: \", roc_auc_score(y_train, train_probs.loc[y_train.index]))\n",
    "print(\"roc auc varianza: \", np.std([roc_auc_score(y_train.loc[folds[i]], train_probs.iloc[folds[i]]) for i in range(len(folds))]))  "
   ]
  },
  {
   "cell_type": "code",
   "execution_count": 17,
   "id": "supreme-sunrise",
   "metadata": {
    "scrolled": true
   },
   "outputs": [
    {
     "data": {
      "text/plain": [
       "ciiu_mode                                            0.113727\n",
       "cod_instit_financiera_mode_ult1mes                   0.048391\n",
       "ubigeo_mode                                          0.047601\n",
       "cod_instit_financiera_mode_ult12mes                  0.028814\n",
       "cod_instit_financiera_mode_ult2mes                   0.026436\n",
       "cod_instit_financiera_mode_ult3mes                   0.019045\n",
       "cod_instit_financiera_mode_ult11mes                  0.018853\n",
       "cod_instit_financiera_mode_ult4mes                   0.016344\n",
       "RIESGO_DIRECTO_1_saldoUnique_ult1meses               0.014236\n",
       "cod_instit_financiera_mode_ult10mes                  0.013086\n",
       "cod_instit_financiera_mode_ult5mes                   0.013068\n",
       "cod_instit_financiera_mode_ult8mes                   0.012467\n",
       "cod_instit_financiera_mode_ult6mes                   0.011805\n",
       "cod_instit_financiera_mode_ult9mes                   0.011791\n",
       "cod_instit_financiera_mode_ult7mes                   0.011316\n",
       "COD_CLASIFICACION_DEUDOR_0_saldoUnique_ult12meses    0.009576\n",
       "edad                                                 0.009022\n",
       "RIESGO_DIRECTO_-1_saldoMedian_ult1meses              0.007951\n",
       "RIESGO_DIRECTO_-1_saldoUnique_ult12meses             0.007287\n",
       "RIESGO_DIRECTO_1_saldoStd_ult1meses                  0.006941\n",
       "codzona_mode                                         0.006904\n",
       "condicion_0_saldoUnique_ult12meses                   0.006230\n",
       "sexo_0                                               0.006089\n",
       "RIESGO_DIRECTO_-1_saldoMedian_ult2meses              0.005087\n",
       "PRODUCTO_mode_ult1mes                                0.004944\n",
       "RIESGO_DIRECTO_1_saldoMin_ult1meses                  0.004633\n",
       "tipo_credito_11_saldoUnique_ult12meses               0.004587\n",
       "RIESGO_DIRECTO_1_saldoUnique_ult12meses              0.004584\n",
       "estadocontribuyente_0                                0.004457\n",
       "RIESGO_DIRECTO_1_saldoMedian_ult2meses               0.004409\n",
       "RIESGO_DIRECTO_1_saldoMax_ult12meses                 0.004382\n",
       "cod_instit_financiera_max_ult1mes                    0.004270\n",
       "RIESGO_DIRECTO_1_saldoMedian_ult3meses               0.003700\n",
       "RIESGO_DIRECTO_1_saldoMax_ult1meses                  0.003584\n",
       "tipo_credito_11_saldoStd_ult1meses                   0.003523\n",
       "ctd_veh                                              0.003358\n",
       "RIESGO_DIRECTO_-1_saldoSum_ult1meses                 0.003331\n",
       "COD_CLASIFICACION_DEUDOR_5_saldoMin_ult1meses        0.003260\n",
       "RIESGO_DIRECTO_1_saldoMedian_ult1meses               0.003184\n",
       "RIESGO_DIRECTO_1_saldoStd_ult12meses                 0.003102\n",
       "PRODUCTO_min_ult1mes                                 0.002994\n",
       "tipo_credito_12_saldoUnique_ult1meses                0.002970\n",
       "PRODUCTO_mode_ult12mes                               0.002957\n",
       "PRODUCTO_mode_ult4mes                                0.002938\n",
       "RIESGO_DIRECTO_1_saldoSum_ult1meses                  0.002824\n",
       "RIESGO_DIRECTO_1_saldoMin_ult2meses                  0.002711\n",
       "COD_CLASIFICACION_DEUDOR_5_saldoMax_ult1meses        0.002688\n",
       "RIESGO_DIRECTO_1_saldoStd_ult2meses                  0.002670\n",
       "RIESGO_DIRECTO_1_saldoMean_ult1meses                 0.002622\n",
       "RIESGO_DIRECTO_1_saldoMin_ult12meses                 0.002619\n",
       "dtype: float64"
      ]
     },
     "execution_count": 17,
     "metadata": {},
     "output_type": "execute_result"
    }
   ],
   "source": [
    "fi.sort_values(ascending=False).head(50)"
   ]
  },
  {
   "cell_type": "code",
   "execution_count": 18,
   "id": "stone-mainstream",
   "metadata": {},
   "outputs": [],
   "source": [
    "fi.to_pickle('fi_lightgbm_cf.pkl')"
   ]
  },
  {
   "cell_type": "code",
   "execution_count": 19,
   "id": "infectious-angle",
   "metadata": {},
   "outputs": [],
   "source": [
    "train_probs_lightgbm_cf = train_probs\n",
    "test_probs_lightgbm_cf= test_probs\n",
    "train_probs_lightgbm_cf.to_pickle('train_probs_lightgbm_cf.pkl')\n",
    "test_probs_lightgbm_cf.to_pickle('test_probs_lightgbm_cf.pkl')"
   ]
  }
 ],
 "metadata": {
  "kernelspec": {
   "display_name": "Python 3",
   "language": "python",
   "name": "python3"
  },
  "language_info": {
   "codemirror_mode": {
    "name": "ipython",
    "version": 3
   },
   "file_extension": ".py",
   "mimetype": "text/x-python",
   "name": "python",
   "nbconvert_exporter": "python",
   "pygments_lexer": "ipython3",
   "version": "3.8.5"
  }
 },
 "nbformat": 4,
 "nbformat_minor": 5
}
