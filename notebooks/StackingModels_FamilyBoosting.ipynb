{
 "cells": [
  {
   "cell_type": "code",
   "execution_count": 1,
   "id": "confused-lending",
   "metadata": {},
   "outputs": [],
   "source": [
    "import os\n",
    "import pandas as pd\n",
    "import numpy as np\n",
    "import matplotlib.pyplot as plt"
   ]
  },
  {
   "cell_type": "code",
   "execution_count": 2,
   "id": "organizational-excerpt",
   "metadata": {},
   "outputs": [],
   "source": [
    "from sklearn.model_selection import cross_validate\n",
    "from sklearn.model_selection import learning_curve\n",
    "def cross_validate_learning_rate(estimator, x_train, y_train, cv = 5, scoring = 'roc_auc', return_train_score = True):\n",
    "    results = cross_validate(estimator,\n",
    "                            x_train,\n",
    "                            y_train,\n",
    "                            cv = cv,\n",
    "                            scoring=scoring,\n",
    "                            return_train_score = return_train_score ) \n",
    "    train_scores = results['train_score']\n",
    "    test_scores = results['test_score']\n",
    "    print(\"train_scores: {}\".format(np.mean(train_scores)))\n",
    "    print(\"test_scores: {}\".format(np.mean(test_scores)))\n",
    "\n",
    "    lc = learning_curve(estimator, \n",
    "                        x_train, \n",
    "                        y_train, \n",
    "                        cv=cv, \n",
    "                        scoring=scoring)\n",
    "    samples, train, test = lc[0],lc[1],lc[2]\n",
    "    plt.plot(samples, np.mean(train, axis=1))\n",
    "    plt.plot(samples, np.mean(test, axis=1))"
   ]
  },
  {
   "cell_type": "code",
   "execution_count": 3,
   "id": "pressing-attention",
   "metadata": {},
   "outputs": [],
   "source": [
    "from sklearn.model_selection import GridSearchCV\n",
    "def grid_search_param(X, y,nfolds, param_grid, model_sklearn, scoring = 'roc_auc'):\n",
    "    grid_search = GridSearchCV(model_sklearn, param_grid, cv=nfolds, return_train_score=True, scoring=scoring)\n",
    "    grid_search.fit(X, y)\n",
    "    return grid_search"
   ]
  },
  {
   "cell_type": "code",
   "execution_count": 4,
   "id": "broadband-major",
   "metadata": {},
   "outputs": [],
   "source": [
    "path = '../data'\n",
    "y_train = pd.read_csv(f'{path}/y_train.csv', index_col = 'key_value')"
   ]
  },
  {
   "cell_type": "code",
   "execution_count": 5,
   "id": "productive-chase",
   "metadata": {},
   "outputs": [
    {
     "data": {
      "text/html": [
       "<div>\n",
       "<style scoped>\n",
       "    .dataframe tbody tr th:only-of-type {\n",
       "        vertical-align: middle;\n",
       "    }\n",
       "\n",
       "    .dataframe tbody tr th {\n",
       "        vertical-align: top;\n",
       "    }\n",
       "\n",
       "    .dataframe thead th {\n",
       "        text-align: right;\n",
       "    }\n",
       "</style>\n",
       "<table border=\"1\" class=\"dataframe\">\n",
       "  <thead>\n",
       "    <tr style=\"text-align: right;\">\n",
       "      <th></th>\n",
       "      <th>probs_lightgbm</th>\n",
       "      <th>probs_lightgbm_cf</th>\n",
       "      <th>probs_rnn</th>\n",
       "      <th>probs_randomforrest</th>\n",
       "      <th>probs_xgb</th>\n",
       "      <th>probs_gbc</th>\n",
       "    </tr>\n",
       "    <tr>\n",
       "      <th>key_value</th>\n",
       "      <th></th>\n",
       "      <th></th>\n",
       "      <th></th>\n",
       "      <th></th>\n",
       "      <th></th>\n",
       "      <th></th>\n",
       "    </tr>\n",
       "  </thead>\n",
       "  <tbody>\n",
       "    <tr>\n",
       "      <th>0</th>\n",
       "      <td>0.075889</td>\n",
       "      <td>0.052167</td>\n",
       "      <td>0.077679</td>\n",
       "      <td>0.054667</td>\n",
       "      <td>0.085660</td>\n",
       "      <td>0.054725</td>\n",
       "    </tr>\n",
       "    <tr>\n",
       "      <th>1</th>\n",
       "      <td>0.180585</td>\n",
       "      <td>0.157569</td>\n",
       "      <td>0.123964</td>\n",
       "      <td>0.181333</td>\n",
       "      <td>0.285724</td>\n",
       "      <td>0.111328</td>\n",
       "    </tr>\n",
       "    <tr>\n",
       "      <th>2</th>\n",
       "      <td>0.028284</td>\n",
       "      <td>0.029362</td>\n",
       "      <td>0.034087</td>\n",
       "      <td>0.114667</td>\n",
       "      <td>0.022070</td>\n",
       "      <td>0.053502</td>\n",
       "    </tr>\n",
       "    <tr>\n",
       "      <th>3</th>\n",
       "      <td>0.006474</td>\n",
       "      <td>0.006416</td>\n",
       "      <td>0.015480</td>\n",
       "      <td>0.005333</td>\n",
       "      <td>0.012798</td>\n",
       "      <td>0.029900</td>\n",
       "    </tr>\n",
       "    <tr>\n",
       "      <th>4</th>\n",
       "      <td>0.914879</td>\n",
       "      <td>0.934945</td>\n",
       "      <td>0.866782</td>\n",
       "      <td>0.765333</td>\n",
       "      <td>0.949458</td>\n",
       "      <td>0.922300</td>\n",
       "    </tr>\n",
       "    <tr>\n",
       "      <th>...</th>\n",
       "      <td>...</td>\n",
       "      <td>...</td>\n",
       "      <td>...</td>\n",
       "      <td>...</td>\n",
       "      <td>...</td>\n",
       "      <td>...</td>\n",
       "    </tr>\n",
       "    <tr>\n",
       "      <th>358482</th>\n",
       "      <td>0.052474</td>\n",
       "      <td>0.030986</td>\n",
       "      <td>0.089263</td>\n",
       "      <td>0.100000</td>\n",
       "      <td>0.038495</td>\n",
       "      <td>0.061685</td>\n",
       "    </tr>\n",
       "    <tr>\n",
       "      <th>358483</th>\n",
       "      <td>0.058666</td>\n",
       "      <td>0.067142</td>\n",
       "      <td>0.134463</td>\n",
       "      <td>0.085333</td>\n",
       "      <td>0.062367</td>\n",
       "      <td>0.089544</td>\n",
       "    </tr>\n",
       "    <tr>\n",
       "      <th>358484</th>\n",
       "      <td>0.340211</td>\n",
       "      <td>0.328420</td>\n",
       "      <td>0.302729</td>\n",
       "      <td>0.246667</td>\n",
       "      <td>0.264007</td>\n",
       "      <td>0.331772</td>\n",
       "    </tr>\n",
       "    <tr>\n",
       "      <th>358485</th>\n",
       "      <td>0.205680</td>\n",
       "      <td>0.296486</td>\n",
       "      <td>0.178284</td>\n",
       "      <td>0.300000</td>\n",
       "      <td>0.231367</td>\n",
       "      <td>0.162348</td>\n",
       "    </tr>\n",
       "    <tr>\n",
       "      <th>358486</th>\n",
       "      <td>0.040402</td>\n",
       "      <td>0.030698</td>\n",
       "      <td>0.043494</td>\n",
       "      <td>0.033333</td>\n",
       "      <td>0.036394</td>\n",
       "      <td>0.044744</td>\n",
       "    </tr>\n",
       "  </tbody>\n",
       "</table>\n",
       "<p>358487 rows × 6 columns</p>\n",
       "</div>"
      ],
      "text/plain": [
       "           probs_lightgbm  probs_lightgbm_cf  probs_rnn  probs_randomforrest  \\\n",
       "key_value                                                                      \n",
       "0                0.075889           0.052167   0.077679             0.054667   \n",
       "1                0.180585           0.157569   0.123964             0.181333   \n",
       "2                0.028284           0.029362   0.034087             0.114667   \n",
       "3                0.006474           0.006416   0.015480             0.005333   \n",
       "4                0.914879           0.934945   0.866782             0.765333   \n",
       "...                   ...                ...        ...                  ...   \n",
       "358482           0.052474           0.030986   0.089263             0.100000   \n",
       "358483           0.058666           0.067142   0.134463             0.085333   \n",
       "358484           0.340211           0.328420   0.302729             0.246667   \n",
       "358485           0.205680           0.296486   0.178284             0.300000   \n",
       "358486           0.040402           0.030698   0.043494             0.033333   \n",
       "\n",
       "           probs_xgb  probs_gbc  \n",
       "key_value                        \n",
       "0           0.085660   0.054725  \n",
       "1           0.285724   0.111328  \n",
       "2           0.022070   0.053502  \n",
       "3           0.012798   0.029900  \n",
       "4           0.949458   0.922300  \n",
       "...              ...        ...  \n",
       "358482      0.038495   0.061685  \n",
       "358483      0.062367   0.089544  \n",
       "358484      0.264007   0.331772  \n",
       "358485      0.231367   0.162348  \n",
       "358486      0.036394   0.044744  \n",
       "\n",
       "[358487 rows x 6 columns]"
      ]
     },
     "execution_count": 5,
     "metadata": {},
     "output_type": "execute_result"
    }
   ],
   "source": [
    "list_train_probs = []\n",
    "list_train_probs.append(pd.read_pickle('train_probs_lightgbm.pkl'))\n",
    "list_train_probs.append(pd.read_pickle('train_probs_lightgbm_cf.pkl'))\n",
    "list_train_probs.append(pd.read_pickle('train_probs_rnn.pkl'))\n",
    "list_train_probs.append(pd.read_pickle('train_probs_randomforrest.pkl'))\n",
    "list_train_probs.append(pd.read_pickle('train_probs_xgb.pkl'))\n",
    "list_train_probs.append(pd.read_pickle('train_probs_gbc.pkl'))\n",
    "train = pd.concat(list_train_probs, axis=1)\n",
    "train.columns = ['probs_lightgbm','probs_lightgbm_cf','probs_rnn','probs_randomforrest','probs_xgb', 'probs_gbc']\n",
    "train"
   ]
  },
  {
   "cell_type": "code",
   "execution_count": 6,
   "id": "better-bristol",
   "metadata": {
    "scrolled": false
   },
   "outputs": [],
   "source": [
    "list_test_probs = []\n",
    "list_test_probs.append(pd.read_pickle('test_probs_lightgbm.pkl'))\n",
    "list_test_probs.append(pd.read_pickle('test_probs_lightgbm_cf.pkl'))\n",
    "list_test_probs.append(pd.read_pickle('test_probs_rnn.pkl'))\n",
    "list_test_probs.append(pd.read_pickle('test_probs_randomforrest.pkl'))\n",
    "list_test_probs.append(pd.read_pickle('test_probs_xgb.pkl'))\n",
    "list_test_probs.append(pd.read_pickle('test_probs_gbc.pkl'))\n",
    "test = pd.concat(list_test_probs, axis=1)\n",
    "test.columns = ['probs_lightgbm','probs_lightgbm_cf','probs_rnn','probs_randomforrest','probs_xgb', 'probs_gbc']"
   ]
  },
  {
   "cell_type": "code",
   "execution_count": 7,
   "id": "willing-dress",
   "metadata": {},
   "outputs": [],
   "source": [
    "keep_columns = ['probs_lightgbm','probs_lightgbm_cf','probs_gbc']\n",
    "train = train[keep_columns]\n",
    "test = test[keep_columns]"
   ]
  },
  {
   "cell_type": "code",
   "execution_count": 8,
   "id": "literary-attack",
   "metadata": {
    "scrolled": true
   },
   "outputs": [
    {
     "data": {
      "text/html": [
       "<div>\n",
       "<style scoped>\n",
       "    .dataframe tbody tr th:only-of-type {\n",
       "        vertical-align: middle;\n",
       "    }\n",
       "\n",
       "    .dataframe tbody tr th {\n",
       "        vertical-align: top;\n",
       "    }\n",
       "\n",
       "    .dataframe thead th {\n",
       "        text-align: right;\n",
       "    }\n",
       "</style>\n",
       "<table border=\"1\" class=\"dataframe\">\n",
       "  <thead>\n",
       "    <tr style=\"text-align: right;\">\n",
       "      <th></th>\n",
       "      <th>probs_lightgbm</th>\n",
       "      <th>probs_lightgbm_cf</th>\n",
       "      <th>probs_gbc</th>\n",
       "    </tr>\n",
       "  </thead>\n",
       "  <tbody>\n",
       "    <tr>\n",
       "      <th>probs_lightgbm</th>\n",
       "      <td>1.000000</td>\n",
       "      <td>0.979399</td>\n",
       "      <td>0.950601</td>\n",
       "    </tr>\n",
       "    <tr>\n",
       "      <th>probs_lightgbm_cf</th>\n",
       "      <td>0.979399</td>\n",
       "      <td>1.000000</td>\n",
       "      <td>0.946376</td>\n",
       "    </tr>\n",
       "    <tr>\n",
       "      <th>probs_gbc</th>\n",
       "      <td>0.950601</td>\n",
       "      <td>0.946376</td>\n",
       "      <td>1.000000</td>\n",
       "    </tr>\n",
       "  </tbody>\n",
       "</table>\n",
       "</div>"
      ],
      "text/plain": [
       "                   probs_lightgbm  probs_lightgbm_cf  probs_gbc\n",
       "probs_lightgbm           1.000000           0.979399   0.950601\n",
       "probs_lightgbm_cf        0.979399           1.000000   0.946376\n",
       "probs_gbc                0.950601           0.946376   1.000000"
      ]
     },
     "execution_count": 8,
     "metadata": {},
     "output_type": "execute_result"
    }
   ],
   "source": [
    "train.corr()"
   ]
  },
  {
   "cell_type": "code",
   "execution_count": 9,
   "id": "stylish-funeral",
   "metadata": {},
   "outputs": [
    {
     "data": {
      "text/html": [
       "<div>\n",
       "<style scoped>\n",
       "    .dataframe tbody tr th:only-of-type {\n",
       "        vertical-align: middle;\n",
       "    }\n",
       "\n",
       "    .dataframe tbody tr th {\n",
       "        vertical-align: top;\n",
       "    }\n",
       "\n",
       "    .dataframe thead th {\n",
       "        text-align: right;\n",
       "    }\n",
       "</style>\n",
       "<table border=\"1\" class=\"dataframe\">\n",
       "  <thead>\n",
       "    <tr style=\"text-align: right;\">\n",
       "      <th></th>\n",
       "      <th>probs_lightgbm</th>\n",
       "      <th>probs_lightgbm_cf</th>\n",
       "      <th>probs_gbc</th>\n",
       "    </tr>\n",
       "  </thead>\n",
       "  <tbody>\n",
       "    <tr>\n",
       "      <th>probs_lightgbm</th>\n",
       "      <td>1.000000</td>\n",
       "      <td>0.989030</td>\n",
       "      <td>0.973431</td>\n",
       "    </tr>\n",
       "    <tr>\n",
       "      <th>probs_lightgbm_cf</th>\n",
       "      <td>0.989030</td>\n",
       "      <td>1.000000</td>\n",
       "      <td>0.970499</td>\n",
       "    </tr>\n",
       "    <tr>\n",
       "      <th>probs_gbc</th>\n",
       "      <td>0.973431</td>\n",
       "      <td>0.970499</td>\n",
       "      <td>1.000000</td>\n",
       "    </tr>\n",
       "  </tbody>\n",
       "</table>\n",
       "</div>"
      ],
      "text/plain": [
       "                   probs_lightgbm  probs_lightgbm_cf  probs_gbc\n",
       "probs_lightgbm           1.000000           0.989030   0.973431\n",
       "probs_lightgbm_cf        0.989030           1.000000   0.970499\n",
       "probs_gbc                0.973431           0.970499   1.000000"
      ]
     },
     "execution_count": 9,
     "metadata": {},
     "output_type": "execute_result"
    }
   ],
   "source": [
    "test.corr()"
   ]
  },
  {
   "cell_type": "code",
   "execution_count": 10,
   "id": "african-barrel",
   "metadata": {
    "scrolled": true
   },
   "outputs": [
    {
     "data": {
      "image/png": "[encoded data removed]",
      "text/plain": [
       "<Figure size 432x288 with 1 Axes>"
      ]
     },
     "metadata": {
      "needs_background": "light"
     },
     "output_type": "display_data"
    }
   ],
   "source": [
    "plt.hist(np.std(train.values, axis=1));"
   ]
  },
  {
   "cell_type": "markdown",
   "id": "saving-composite",
   "metadata": {},
   "source": [
    "### Entrenando el modelo final"
   ]
  },
  {
   "cell_type": "code",
   "execution_count": 11,
   "id": "patient-simulation",
   "metadata": {},
   "outputs": [
    {
     "name": "stdout",
     "output_type": "stream",
     "text": [
      "LogisticRegression(C=1.0, class_weight=None, dual=False, fit_intercept=True,\n",
      "                   intercept_scaling=1, l1_ratio=None, max_iter=100,\n",
      "                   multi_class='auto', n_jobs=None, penalty='l2',\n",
      "                   random_state=42, solver='newton-cg', tol=0.0001, verbose=0,\n",
      "                   warm_start=False)\n"
     ]
    }
   ],
   "source": [
    "from sklearn.linear_model import LogisticRegression\n",
    "### definir los parametros a tunear\n",
    "Cs = [0.1, 0.3, 0.8, 0.9, 1.0]\n",
    "# https://neurtu.readthedocs.io/examples/logistic_regression_scaling.html\n",
    "solvers = ['lbfgs','saga','newton-cg'] # newton-cg, sag, lbfgs, liblinear, saga\n",
    "param_grid = {'C': Cs,'solver':solvers}\n",
    "### encontrando los hiper_parámetros\n",
    "fitting=grid_search_param(train, y_train.target, 5,param_grid, LogisticRegression(penalty=\"l2\", tol=0.0001, random_state=42), scoring='roc_auc')\n",
    "### instanciar el estimador\n",
    "estimator = fitting.best_estimator_\n",
    "print(estimator)\n",
    "### aplicar cross_validate y learning_rate \n",
    "# cross_validate_learning_rate(estimator, train, y_train, scoring='roc_auc')"
   ]
  },
  {
   "cell_type": "code",
   "execution_count": 12,
   "id": "affecting-savings",
   "metadata": {
    "scrolled": true
   },
   "outputs": [
    {
     "name": "stdout",
     "output_type": "stream",
     "text": [
      "train_scores: 0.8480576708784507\n",
      "test_scores: 0.8480511858439422\n"
     ]
    },
    {
     "data": {
      "image/png": "[encoded data removed]",
      "text/plain": [
       "<Figure size 432x288 with 1 Axes>"
      ]
     },
     "metadata": {
      "needs_background": "light"
     },
     "output_type": "display_data"
    }
   ],
   "source": [
    "### aplicar cross_validate y learning_rate \n",
    "cross_validate_learning_rate(estimator, train, y_train.target, scoring='roc_auc')"
   ]
  },
  {
   "cell_type": "code",
   "execution_count": 13,
   "id": "dying-louisiana",
   "metadata": {},
   "outputs": [
    {
     "data": {
      "text/plain": [
       "LogisticRegression(C=1.0, class_weight=None, dual=False, fit_intercept=True,\n",
       "                   intercept_scaling=1, l1_ratio=None, max_iter=100,\n",
       "                   multi_class='auto', n_jobs=None, penalty='l2',\n",
       "                   random_state=42, solver='newton-cg', tol=0.0001, verbose=0,\n",
       "                   warm_start=False)"
      ]
     },
     "execution_count": 13,
     "metadata": {},
     "output_type": "execute_result"
    }
   ],
   "source": [
    "estimator.fit(train, y_train.target)"
   ]
  },
  {
   "cell_type": "code",
   "execution_count": 14,
   "id": "rubber-compression",
   "metadata": {
    "scrolled": true
   },
   "outputs": [
    {
     "data": {
      "text/plain": [
       "key_value\n",
       "0         0.046411\n",
       "1         0.082767\n",
       "2         0.054280\n",
       "3         0.569868\n",
       "4         0.136302\n",
       "            ...   \n",
       "396661    0.070589\n",
       "396662    0.175882\n",
       "396663    0.200699\n",
       "396664    0.058848\n",
       "396665    0.069094\n",
       "Name: target, Length: 396666, dtype: float64"
      ]
     },
     "execution_count": 14,
     "metadata": {},
     "output_type": "execute_result"
    }
   ],
   "source": [
    "test_stacking = pd.Series(estimator.predict_proba(test)[:,-1], index=test.index, name = 'target')\n",
    "test_stacking"
   ]
  },
  {
   "cell_type": "code",
   "execution_count": 15,
   "id": "attended-nylon",
   "metadata": {},
   "outputs": [],
   "source": [
    "test_stacking.to_csv(\"../results/stacking_3models_LGBM2_GBC_0.84805.csv\")  ### score de ***** en la tabla publica"
   ]
  },
  {
   "cell_type": "code",
   "execution_count": null,
   "id": "three-closing",
   "metadata": {},
   "outputs": [],
   "source": [
    "# test_stacking.to_csv(\"../results/stacking_3models_LGBM2_R_0.84729.csv\")  ### score de 0.84927 en la tabla publica\n",
    "# test_stacking.to_csv(\"../results/stacking_6models_0.84767.csv\")  ### score de 0.84910 en la tabla publica\n",
    "# test_stacking.to_csv(\"../results/stacking_3models_LGBM2_RNN_0.84830.csv\")  ### score de 0.84974 en la tabla publica\n",
    "# test_stacking.to_csv(\"../results/stacking_3models_LGBM2_RF_0.84694.csv\")  ### score de 0.84874  en la tabla publica\n",
    "# test_stacking.to_csv(\"../results/stacking_3models_LGBM2_XGB_0.84807.csv\")  ### score de 0.84977  en la tabla publica\n",
    "# test_stacking.to_csv(\"../results/stacking_3models_LGBM2_0.84811.csv\")  ### score de 0.84970  en la tabla publica\n",
    "# test_stacking.to_csv(\"../results/stacking_2models_LGBM2_0.84801.csv\")  ### score de 0.84992 en la tabla publica\n",
    "# test_stacking.to_csv(\"../results/stacking_3models_CB_LGBM2_0.84834.csv\")  ### score de 0.84991 en la tabla publica\n",
    "# test_stacking.to_csv(\"../results/stacking_3models_CB_LGBM2_0.84833.csv\") ### score de 0.84992 en la tabla publica\n",
    "# test_stacking.to_csv(\"../results/stacking_2models_CB_LGBM_0.84721.csv\") ### score de 0.84882 en la tabla publica"
   ]
  },
  {
   "cell_type": "code",
   "execution_count": null,
   "id": "colonial-dance",
   "metadata": {},
   "outputs": [],
   "source": [
    "### Por lo que se puede concluir que los dos modelos de lightGBM (el normal, y el que toma en cuenta las categoricas).\n",
    "### Tienen mejor performance"
   ]
  }
 ],
 "metadata": {
  "kernelspec": {
   "display_name": "Python 3",
   "language": "python",
   "name": "python3"
  },
  "language_info": {
   "codemirror_mode": {
    "name": "ipython",
    "version": 3
   },
   "file_extension": ".py",
   "mimetype": "text/x-python",
   "name": "python",
   "nbconvert_exporter": "python",
   "pygments_lexer": "ipython3",
   "version": "3.8.5"
  }
 },
 "nbformat": 4,
 "nbformat_minor": 5
}
