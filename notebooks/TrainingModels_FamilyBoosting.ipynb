{
 "cells": [
  {
   "cell_type": "code",
   "execution_count": null,
   "id": "banned-parking",
   "metadata": {},
   "outputs": [],
   "source": [
    "# train = pd.read_pickle('../data/train_features1482_score_0.85605.pkl') \n",
    "# test = pd.read_pickle('../data/test_features1482_score_0.85605.pkl')\n",
    "\n",
    "# train = pd.read_pickle('../data/train_features1320_score_0.85577.pkl') \n",
    "# test = pd.read_pickle('../data/test_features1320_score_0.85577.pkl')\n",
    "\n",
    "# train = pd.read_pickle('../data/train_features1320_score_0.85577.pkl') \n",
    "# test = pd.read_pickle('../data/test_features1320_score_0.85577.pkl')\n",
    "\n",
    "# train = pd.read_pickle('../data/train_features680_score_0.85558.pkl') \n",
    "# test = pd.read_pickle('../data/test_features680_score_0.85558.pkl') \n",
    "\n",
    "# train = pd.read_pickle('../data/train_features397_score_0.85487.pkl') \n",
    "# test = pd.read_pickle('../data/test_features397_score_0.85487.pkl') "
   ]
  },
  {
   "cell_type": "code",
   "execution_count": 1,
   "id": "critical-christian",
   "metadata": {},
   "outputs": [],
   "source": [
    "import pandas as pd\n",
    "import numpy as np\n",
    "import matplotlib.pyplot as plt"
   ]
  },
  {
   "cell_type": "code",
   "execution_count": 2,
   "id": "automatic-adult",
   "metadata": {},
   "outputs": [],
   "source": [
    "path = '../data'\n",
    "y_train = pd.read_csv(f'{path}/y_train.csv', index_col = 'key_value')"
   ]
  },
  {
   "cell_type": "code",
   "execution_count": 3,
   "id": "obvious-transaction",
   "metadata": {},
   "outputs": [
    {
     "data": {
      "image/png": "[encoded data removed]",
      "text/plain": [
       "<Figure size 432x288 with 1 Axes>"
      ]
     },
     "metadata": {},
     "output_type": "display_data"
    }
   ],
   "source": [
    "y_train.value_counts().plot(kind='pie', autopct='%1.0f%%');"
   ]
  },
  {
   "cell_type": "markdown",
   "id": "quiet-pantyhose",
   "metadata": {},
   "source": [
    "## Entrenando LGBM"
   ]
  },
  {
   "cell_type": "code",
   "execution_count": 4,
   "id": "international-richardson",
   "metadata": {
    "scrolled": false
   },
   "outputs": [
    {
     "data": {
      "text/plain": [
       "((358487, 1628), (396666, 1628))"
      ]
     },
     "execution_count": 4,
     "metadata": {},
     "output_type": "execute_result"
    }
   ],
   "source": [
    "train = pd.read_pickle('../data/train_features1628_score_0.85642.pkl') \n",
    "test = pd.read_pickle('../data/test_features1628_score_0.85642.pkl')\n",
    "train.shape, test.shape"
   ]
  },
  {
   "cell_type": "code",
   "execution_count": 5,
   "id": "tight-north",
   "metadata": {
    "scrolled": true
   },
   "outputs": [
    {
     "name": "stdout",
     "output_type": "stream",
     "text": [
      "********** 0 **********\n",
      "Training until validation scores don't improve for 10 rounds\n",
      "[100]\ttraining's auc: 0.865934\ttraining's binary_logloss: 0.284444\tvalid_1's auc: 0.851608\tvalid_1's binary_logloss: 0.296298\n",
      "Early stopping, best iteration is:\n",
      "[182]\ttraining's auc: 0.878261\ttraining's binary_logloss: 0.27438\tvalid_1's auc: 0.854401\tvalid_1's binary_logloss: 0.294017\n",
      "********** 1 **********\n",
      "Training until validation scores don't improve for 10 rounds\n",
      "[100]\ttraining's auc: 0.865794\ttraining's binary_logloss: 0.284727\tvalid_1's auc: 0.851538\tvalid_1's binary_logloss: 0.296237\n",
      "[200]\ttraining's auc: 0.880394\ttraining's binary_logloss: 0.27267\tvalid_1's auc: 0.854701\tvalid_1's binary_logloss: 0.293414\n",
      "Early stopping, best iteration is:\n",
      "[260]\ttraining's auc: 0.887218\ttraining's binary_logloss: 0.267118\tvalid_1's auc: 0.855368\tvalid_1's binary_logloss: 0.292908\n",
      "********** 2 **********\n",
      "Training until validation scores don't improve for 10 rounds\n",
      "[100]\ttraining's auc: 0.865825\ttraining's binary_logloss: 0.285029\tvalid_1's auc: 0.853978\tvalid_1's binary_logloss: 0.293482\n",
      "[200]\ttraining's auc: 0.880216\ttraining's binary_logloss: 0.273114\tvalid_1's auc: 0.856705\tvalid_1's binary_logloss: 0.290929\n",
      "Early stopping, best iteration is:\n",
      "[226]\ttraining's auc: 0.883229\ttraining's binary_logloss: 0.270687\tvalid_1's auc: 0.856928\tvalid_1's binary_logloss: 0.290722\n",
      "********** 3 **********\n",
      "Training until validation scores don't improve for 10 rounds\n",
      "[100]\ttraining's auc: 0.866066\ttraining's binary_logloss: 0.284922\tvalid_1's auc: 0.852288\tvalid_1's binary_logloss: 0.29465\n",
      "[200]\ttraining's auc: 0.880759\ttraining's binary_logloss: 0.272811\tvalid_1's auc: 0.855017\tvalid_1's binary_logloss: 0.291883\n",
      "Early stopping, best iteration is:\n",
      "[274]\ttraining's auc: 0.88911\ttraining's binary_logloss: 0.266014\tvalid_1's auc: 0.855552\tvalid_1's binary_logloss: 0.291385\n",
      "********** 4 **********\n",
      "Training until validation scores don't improve for 10 rounds\n",
      "[100]\ttraining's auc: 0.868228\ttraining's binary_logloss: 0.283699\tvalid_1's auc: 0.843208\tvalid_1's binary_logloss: 0.298629\n",
      "[200]\ttraining's auc: 0.882848\ttraining's binary_logloss: 0.27156\tvalid_1's auc: 0.845672\tvalid_1's binary_logloss: 0.296606\n",
      "Early stopping, best iteration is:\n",
      "[241]\ttraining's auc: 0.887585\ttraining's binary_logloss: 0.267656\tvalid_1's auc: 0.846202\tvalid_1's binary_logloss: 0.296187\n",
      "*********************\n",
      "roc auc estimado:  0.853743491016964\n",
      "roc auc varianza:  0.0009315890674282501\n"
     ]
    }
   ],
   "source": [
    "from lightgbm import LGBMClassifier\n",
    "from sklearn.metrics import roc_auc_score\n",
    "from sklearn.model_selection import KFold\n",
    "import numpy as np\n",
    "folds = [train.index[t] for t, v in KFold(5).split(train)]\n",
    "test_probs = []\n",
    "train_probs = []\n",
    "fi = []\n",
    "for i, idx in enumerate(folds):\n",
    "    print(\"*\"*10, i, \"*\"*10)\n",
    "    Xt = train.loc[idx]\n",
    "    yt = y_train.loc[Xt.index].target\n",
    "\n",
    "    Xv = train.drop(Xt.index)\n",
    "    yv = y_train.loc[Xv.index].target\n",
    "\n",
    "    learner = LGBMClassifier(n_estimators=1000, boosting_type='gbdt',min_child_samples=1500, colsample_bytree=0.8,\n",
    "                   subsample=0.8, max_bin=200, learning_rate=0.1, random_state=42)\n",
    "    \n",
    "    learner.fit(Xt, yt,  early_stopping_rounds=10, eval_metric=\"auc\",\n",
    "                eval_set=[(Xt, yt), (Xv, yv)], verbose=100)\n",
    "    test_probs.append(pd.Series(learner.predict_proba(test)[:, -1], index=test.index, name=\"fold_\" + str(i)))\n",
    "    train_probs.append(pd.Series(learner.predict_proba(Xv)[:, -1], index=Xv.index, name=\"probs\"))\n",
    "    fi.append(pd.Series(learner.feature_importances_ / learner.feature_importances_.sum(), index=Xt.columns))\n",
    "\n",
    "test_probs = pd.concat(test_probs, axis=1).mean(axis=1)\n",
    "train_probs = pd.concat(train_probs)\n",
    "fi = pd.concat(fi, axis=1).mean(axis=1)\n",
    "print(\"*\" * 21)\n",
    "print(\"roc auc estimado: \", roc_auc_score(y_train, train_probs.loc[y_train.index]))\n",
    "print(\"roc auc varianza: \", np.std([roc_auc_score(y_train.loc[folds[i]], train_probs.iloc[folds[i]]) for i in range(len(folds))]))  "
   ]
  },
  {
   "cell_type": "code",
   "execution_count": 9,
   "id": "overall-maryland",
   "metadata": {
    "scrolled": true
   },
   "outputs": [
    {
     "data": {
      "text/plain": [
       "edad                                                 0.008045\n",
       "ubigeo_mode                                          0.007883\n",
       "sexo_0                                               0.005815\n",
       "PRODUCTO_1_saldoMax_ult1meses                        0.005545\n",
       "PRODUCTO_1_saldoMean_ult1meses                       0.005412\n",
       "PRODUCTO_3_saldoUnique_ult12meses                    0.004899\n",
       "estadocontribuyente_0                                0.004498\n",
       "COD_CLASIFICACION_DEUDOR_0_saldoUnique_ult12meses    0.004368\n",
       "PRODUCTO_1_saldoSum_ult1meses                        0.004280\n",
       "PRODUCTO_6_saldoSum_ult12meses                       0.004146\n",
       "PRODUCTO_1_saldoSum_ult2meses                        0.003999\n",
       "RIESGO_DIRECTO_1_saldoSum_ult1meses                  0.003904\n",
       "PRODUCTO_8_saldoUnique_ult12meses                    0.003786\n",
       "cod_instit_financiera_34_saldoUnique_ult12meses      0.003680\n",
       "RIESGO_DIRECTO_1_saldoStd_ult1meses                  0.003663\n",
       "RIESGO_DIRECTO_1_saldoUnique_ult12meses              0.003588\n",
       "PRODUCTO_8_saldoSum_ult12meses                       0.003495\n",
       "PRODUCTO_1_saldoMedian_ult1meses                     0.003406\n",
       "PRODUCTO_4_saldoStd_ult12meses                       0.003328\n",
       "ciiu_mode                                            0.003298\n",
       "PRODUCTO_0_saldoStd_ult12meses                       0.003245\n",
       "condicion_0_saldoUnique_ult12meses                   0.003086\n",
       "RIESGO_DIRECTO_-1_saldoMedian_ult1meses              0.003069\n",
       "fecalta_min                                          0.003050\n",
       "RIESGO_DIRECTO_1_saldoMin_ult1meses                  0.003050\n",
       "PRODUCTO_1_saldoSum_ult12meses                       0.003042\n",
       "PRODUCTO_1_saldoMax_ult3meses                        0.003025\n",
       "RIESGO_DIRECTO_1_saldoMax_ult12meses                 0.003016\n",
       "PRODUCTO_0_saldoMin_ult12meses                       0.002986\n",
       "PRODUCTO_0_saldoStd_ult1meses                        0.002976\n",
       "PRODUCTO_1_saldoMedian_ult2meses                     0.002932\n",
       "PRODUCTO_1_saldoMedian_ult3meses                     0.002926\n",
       "fecalta_mean                                         0.002913\n",
       "ctd_veh                                              0.002875\n",
       "PRODUCTO_3_saldoMedian_ult1meses                     0.002867\n",
       "cod_instit_financiera_10_saldoStd_ult1meses          0.002849\n",
       "PRODUCTO_12_saldoMin_ult1meses                       0.002844\n",
       "PRODUCTO_0_saldoMax_ult1meses                        0.002783\n",
       "cod_instit_financiera_max_ult1mes                    0.002751\n",
       "PRODUCTO_3_saldoMean_ult1meses                       0.002724\n",
       "PRODUCTO_7_saldoMax_ult12meses                       0.002625\n",
       "PRODUCTO_1_saldoMax_ult2meses                        0.002613\n",
       "PRODUCTO_1_saldoMean_ult2meses                       0.002590\n",
       "PRODUCTO_1_saldoMean_ult3meses                       0.002581\n",
       "PRODUCTO_1_saldoStd_ult2meses                        0.002571\n",
       "PRODUCTO_2_saldoUnique_ult12meses                    0.002566\n",
       "RIESGO_DIRECTO_1_saldoStd_ult12meses                 0.002551\n",
       "PRODUCTO_6_saldoMin_ult12meses                       0.002522\n",
       "rgn_4                                                0.002455\n",
       "PRODUCTO_8_saldoMin_ult12meses                       0.002389\n",
       "dtype: float64"
      ]
     },
     "execution_count": 9,
     "metadata": {},
     "output_type": "execute_result"
    }
   ],
   "source": [
    "fi.sort_values(ascending=False).head(50)"
   ]
  },
  {
   "cell_type": "code",
   "execution_count": 10,
   "id": "center-blind",
   "metadata": {},
   "outputs": [],
   "source": [
    "fi.to_pickle('fi_lightgbm.pkl')"
   ]
  },
  {
   "cell_type": "code",
   "execution_count": 11,
   "id": "postal-castle",
   "metadata": {},
   "outputs": [],
   "source": [
    "train_probs_lightgbm = train_probs\n",
    "test_probs_lightgbm = test_probs\n",
    "train_probs_lightgbm.to_pickle('train_probs_lightgbm.pkl')\n",
    "test_probs_lightgbm.to_pickle('test_probs_lightgbm.pkl')"
   ]
  },
  {
   "cell_type": "markdown",
   "id": "polished-numbers",
   "metadata": {},
   "source": [
    "## Catboost con parametros casi estandar\n",
    "### CatBoostClassifier(n_estimators=1000, eval_metric = 'AUC', max_depth=6)"
   ]
  },
  {
   "cell_type": "code",
   "execution_count": null,
   "id": "revolutionary-handle",
   "metadata": {
    "scrolled": true
   },
   "outputs": [],
   "source": [
    "train = pd.read_pickle('../data/test_features397_score_0.85487.pkl') \n",
    "test = pd.read_pickle('../data/test_features397_score_0.85487.pkl')\n",
    "train.shape, test.shape"
   ]
  },
  {
   "cell_type": "code",
   "execution_count": null,
   "id": "precise-sunday",
   "metadata": {
    "scrolled": true
   },
   "outputs": [],
   "source": [
    "from catboost import CatBoostClassifier\n",
    "from sklearn.metrics import roc_auc_score\n",
    "from sklearn.model_selection import KFold\n",
    "import numpy as np\n",
    "folds = [train.index[t] for t, v in KFold(5).split(train)]\n",
    "test_probs = []\n",
    "train_probs = []\n",
    "fi = []\n",
    "for i, idx in enumerate(folds):\n",
    "    print(\"*\"*10, i, \"*\"*10)\n",
    "    Xt = train.loc[idx]\n",
    "    yt = y_train.loc[Xt.index]\n",
    "\n",
    "    Xv = train.drop(Xt.index)\n",
    "    yv = y_train.loc[Xv.index]\n",
    "\n",
    "    learner = CatBoostClassifier(n_estimators=1000, eval_metric = 'AUC', max_depth=6, random_state=42)\n",
    "    \n",
    "    learner.fit(Xt, yt,  early_stopping_rounds=10, \n",
    "                eval_set=[(Xt, yt), (Xv, yv)], verbose=100)\n",
    "    test_probs.append(pd.Series(learner.predict_proba(test)[:, -1], index=test.index, name=\"fold_\" + str(i)))\n",
    "    train_probs.append(pd.Series(learner.predict_proba(Xv)[:, -1], index=Xv.index, name=\"probs\"))\n",
    "    fi.append(pd.Series(learner.feature_importances_ / learner.feature_importances_.sum(), index=Xt.columns))\n",
    "\n",
    "test_probs = pd.concat(test_probs, axis=1).mean(axis=1)\n",
    "train_probs = pd.concat(train_probs)\n",
    "fi = pd.concat(fi, axis=1).mean(axis=1)\n",
    "print(\"*\" * 21)\n",
    "print(\"roc auc estimado: \", roc_auc_score(y_train, train_probs.loc[y_train.index]))\n",
    "print(\"roc auc varianza: \", np.std([roc_auc_score(y_train.loc[folds[i]], train_probs.iloc[folds[i]]) for i in range(len(folds))]))  "
   ]
  },
  {
   "cell_type": "code",
   "execution_count": null,
   "id": "pleased-beach",
   "metadata": {},
   "outputs": [],
   "source": [
    "fi.to_pickle('fi_catboost.pkl')"
   ]
  },
  {
   "cell_type": "code",
   "execution_count": null,
   "id": "preceding-headline",
   "metadata": {},
   "outputs": [],
   "source": [
    "train_probs_catboost = train_probs\n",
    "test_probs_catboost = test_probs\n",
    "train_probs_catboost.to_pickle('train_probs_catboost.pkl')\n",
    "test_probs_catboost.to_pickle('test_probs_catboost.pkl')"
   ]
  },
  {
   "cell_type": "markdown",
   "id": "adequate-paper",
   "metadata": {},
   "source": [
    "## Entrenando LGBM categorical features"
   ]
  },
  {
   "cell_type": "code",
   "execution_count": 12,
   "id": "generous-fifteen",
   "metadata": {
    "scrolled": false
   },
   "outputs": [
    {
     "data": {
      "text/plain": [
       "((358487, 1628), (396666, 1628))"
      ]
     },
     "execution_count": 12,
     "metadata": {},
     "output_type": "execute_result"
    }
   ],
   "source": [
    "train = pd.read_pickle('../data/train_features1628_score_0.85642.pkl') \n",
    "test = pd.read_pickle('../data/test_features1628_score_0.85642.pkl')\n",
    "train.shape, test.shape"
   ]
  },
  {
   "cell_type": "code",
   "execution_count": 13,
   "id": "potential-library",
   "metadata": {},
   "outputs": [],
   "source": [
    "var_categ = [c for c in train.columns if 'mode' in c]\n",
    "for c in var_categ:\n",
    "    train[c] = train[c].astype('category')\n",
    "    test[c] = test[c].astype('category')"
   ]
  },
  {
   "cell_type": "code",
   "execution_count": 14,
   "id": "naked-chemical",
   "metadata": {
    "scrolled": true
   },
   "outputs": [
    {
     "name": "stdout",
     "output_type": "stream",
     "text": [
      "********** 0 **********\n"
     ]
    },
    {
     "name": "stderr",
     "output_type": "stream",
     "text": [
      "C:\\Users\\usuario\\anaconda3\\envs\\venv_datathon\\lib\\site-packages\\lightgbm\\basic.py:1286: UserWarning: Overriding the parameters from Reference Dataset.\n",
      "  warnings.warn('Overriding the parameters from Reference Dataset.')\n",
      "C:\\Users\\usuario\\anaconda3\\envs\\venv_datathon\\lib\\site-packages\\lightgbm\\basic.py:1098: UserWarning: categorical_column in param dict is overridden.\n",
      "  warnings.warn('{} in param dict is overridden.'.format(cat_alias))\n"
     ]
    },
    {
     "name": "stdout",
     "output_type": "stream",
     "text": [
      "Training until validation scores don't improve for 10 rounds\n",
      "[100]\ttraining's auc: 0.874774\ttraining's binary_logloss: 0.278841\tvalid_1's auc: 0.849666\tvalid_1's binary_logloss: 0.297436\n",
      "[200]\ttraining's auc: 0.891884\ttraining's binary_logloss: 0.264284\tvalid_1's auc: 0.852786\tvalid_1's binary_logloss: 0.295007\n",
      "Early stopping, best iteration is:\n",
      "[256]\ttraining's auc: 0.899001\ttraining's binary_logloss: 0.258099\tvalid_1's auc: 0.853492\tvalid_1's binary_logloss: 0.294456\n",
      "********** 1 **********\n",
      "Training until validation scores don't improve for 10 rounds\n",
      "[100]\ttraining's auc: 0.875409\ttraining's binary_logloss: 0.278477\tvalid_1's auc: 0.848777\tvalid_1's binary_logloss: 0.297798\n",
      "Early stopping, best iteration is:\n",
      "[153]\ttraining's auc: 0.88526\ttraining's binary_logloss: 0.269949\tvalid_1's auc: 0.85071\tvalid_1's binary_logloss: 0.296028\n",
      "********** 2 **********\n",
      "Training until validation scores don't improve for 10 rounds\n",
      "[100]\ttraining's auc: 0.875302\ttraining's binary_logloss: 0.27891\tvalid_1's auc: 0.852057\tvalid_1's binary_logloss: 0.294879\n",
      "[200]\ttraining's auc: 0.892275\ttraining's binary_logloss: 0.264467\tvalid_1's auc: 0.854459\tvalid_1's binary_logloss: 0.292545\n",
      "Early stopping, best iteration is:\n",
      "[232]\ttraining's auc: 0.896605\ttraining's binary_logloss: 0.260732\tvalid_1's auc: 0.854825\tvalid_1's binary_logloss: 0.292281\n",
      "********** 3 **********\n",
      "Training until validation scores don't improve for 10 rounds\n",
      "[100]\ttraining's auc: 0.875456\ttraining's binary_logloss: 0.27888\tvalid_1's auc: 0.850129\tvalid_1's binary_logloss: 0.296109\n",
      "[200]\ttraining's auc: 0.893014\ttraining's binary_logloss: 0.26394\tvalid_1's auc: 0.852937\tvalid_1's binary_logloss: 0.29353\n",
      "Early stopping, best iteration is:\n",
      "[215]\ttraining's auc: 0.895039\ttraining's binary_logloss: 0.262191\tvalid_1's auc: 0.853082\tvalid_1's binary_logloss: 0.293413\n",
      "********** 4 **********\n",
      "Training until validation scores don't improve for 10 rounds\n",
      "[100]\ttraining's auc: 0.877028\ttraining's binary_logloss: 0.277939\tvalid_1's auc: 0.843189\tvalid_1's binary_logloss: 0.298858\n",
      "[200]\ttraining's auc: 0.894633\ttraining's binary_logloss: 0.262741\tvalid_1's auc: 0.845766\tvalid_1's binary_logloss: 0.296808\n",
      "Early stopping, best iteration is:\n",
      "[262]\ttraining's auc: 0.902959\ttraining's binary_logloss: 0.255493\tvalid_1's auc: 0.846187\tvalid_1's binary_logloss: 0.296468\n",
      "*********************\n",
      "roc auc estimado:  0.8516892172093333\n",
      "roc auc varianza:  0.000747731899888856\n"
     ]
    }
   ],
   "source": [
    "from lightgbm import LGBMClassifier\n",
    "from sklearn.metrics import roc_auc_score\n",
    "from sklearn.model_selection import KFold\n",
    "import numpy as np\n",
    "folds = [train.index[t] for t, v in KFold(5).split(train)]\n",
    "test_probs = []\n",
    "train_probs = []\n",
    "fi = []\n",
    "for i, idx in enumerate(folds):\n",
    "    print(\"*\"*10, i, \"*\"*10)\n",
    "    Xt = train.loc[idx]\n",
    "    yt = y_train.loc[Xt.index].target\n",
    "\n",
    "    Xv = train.drop(Xt.index)\n",
    "    yv = y_train.loc[Xv.index].target\n",
    "\n",
    "    learner = LGBMClassifier(n_estimators=1000, boosting_type='gbdt',min_child_samples=1500, colsample_bytree=0.8,\n",
    "                   subsample=0.8, max_bin=200, learning_rate=0.1)\n",
    "    \n",
    "    learner.fit(Xt, yt,  early_stopping_rounds=10, eval_metric=\"auc\",\n",
    "                eval_set=[(Xt, yt), (Xv, yv)], verbose=100)\n",
    "    test_probs.append(pd.Series(learner.predict_proba(test)[:, -1], index=test.index, name=\"fold_\" + str(i)))\n",
    "    train_probs.append(pd.Series(learner.predict_proba(Xv)[:, -1], index=Xv.index, name=\"probs\"))\n",
    "    fi.append(pd.Series(learner.feature_importances_ / learner.feature_importances_.sum(), index=Xt.columns))\n",
    "\n",
    "test_probs = pd.concat(test_probs, axis=1).mean(axis=1)\n",
    "train_probs = pd.concat(train_probs)\n",
    "fi = pd.concat(fi, axis=1).mean(axis=1)\n",
    "print(\"*\" * 21)\n",
    "print(\"roc auc estimado: \", roc_auc_score(y_train, train_probs.loc[y_train.index]))\n",
    "print(\"roc auc varianza: \", np.std([roc_auc_score(y_train.loc[folds[i]], train_probs.iloc[folds[i]]) for i in range(len(folds))]))  "
   ]
  },
  {
   "cell_type": "code",
   "execution_count": 18,
   "id": "prospective-concentrate",
   "metadata": {
    "scrolled": true
   },
   "outputs": [
    {
     "data": {
      "text/plain": [
       "ciiu_mode                                            0.110613\n",
       "ubigeo_mode                                          0.043196\n",
       "cod_instit_financiera_mode_ult1mes                   0.038008\n",
       "cod_instit_financiera_mode_ult12mes                  0.024070\n",
       "cod_instit_financiera_mode_ult2mes                   0.019504\n",
       "cod_instit_financiera_mode_ult3mes                   0.015388\n",
       "cod_instit_financiera_mode_ult11mes                  0.014324\n",
       "cod_instit_financiera_mode_ult10mes                  0.013508\n",
       "cod_instit_financiera_mode_ult4mes                   0.013092\n",
       "cod_instit_financiera_mode_ult5mes                   0.012874\n",
       "cod_instit_financiera_mode_ult8mes                   0.012436\n",
       "cod_instit_financiera_mode_ult7mes                   0.011420\n",
       "cod_instit_financiera_mode_ult6mes                   0.009407\n",
       "edad                                                 0.007173\n",
       "sexo_0                                               0.005515\n",
       "PRODUCTO_1_saldoMean_ult1meses                       0.004864\n",
       "codzona_mode                                         0.004841\n",
       "PRODUCTO_1_saldoMax_ult1meses                        0.004364\n",
       "PRODUCTO_3_saldoUnique_ult12meses                    0.004240\n",
       "COD_CLASIFICACION_DEUDOR_0_saldoUnique_ult12meses    0.004178\n",
       "estadocontribuyente_0                                0.003991\n",
       "RIESGO_DIRECTO_1_saldoStd_ult1meses                  0.003871\n",
       "RIESGO_DIRECTO_1_saldoUnique_ult12meses              0.003338\n",
       "PRODUCTO_8_saldoUnique_ult12meses                    0.003323\n",
       "cod_instit_financiera_34_saldoUnique_ult12meses      0.003209\n",
       "PRODUCTO_12_saldoMin_ult1meses                       0.003072\n",
       "condicion_0_saldoUnique_ult12meses                   0.003058\n",
       "PRODUCTO_1_saldoSum_ult1meses                        0.002878\n",
       "PRODUCTO_1_saldoMedian_ult1meses                     0.002874\n",
       "PRODUCTO_6_saldoSum_ult12meses                       0.002828\n",
       "RIESGO_DIRECTO_1_saldoMax_ult12meses                 0.002814\n",
       "PRODUCTO_2_saldoUnique_ult12meses                    0.002763\n",
       "ctd_veh                                              0.002738\n",
       "PRODUCTO_3_saldoMean_ult1meses                       0.002639\n",
       "PRODUCTO_mode_ult1mes                                0.002560\n",
       "RIESGO_DIRECTO_1_saldoMin_ult1meses                  0.002551\n",
       "PRODUCTO_1_saldoMedian_ult3meses                     0.002500\n",
       "PRODUCTO_0_saldoStd_ult1meses                        0.002455\n",
       "PRODUCTO_1_saldoSum_ult2meses                        0.002432\n",
       "RIESGO_DIRECTO_1_saldoSum_ult1meses                  0.002395\n",
       "RIESGO_DIRECTO_1_saldoStd_ult12meses                 0.002393\n",
       "PRODUCTO_1_saldoMedian_ult2meses                     0.002363\n",
       "PRODUCTO_8_saldoSum_ult12meses                       0.002310\n",
       "cod_instit_financiera_10_saldoStd_ult1meses          0.002281\n",
       "PRODUCTO_7_saldoMax_ult12meses                       0.002268\n",
       "PRODUCTO_0_saldoMin_ult12meses                       0.002221\n",
       "PRODUCTO_1_saldoMean_ult3meses                       0.002188\n",
       "RIESGO_DIRECTO_-1_saldoMedian_ult1meses              0.002167\n",
       "PRODUCTO_0_saldoMin_ult1meses                        0.002161\n",
       "PRODUCTO_12_saldoMax_ult1meses                       0.002156\n",
       "dtype: float64"
      ]
     },
     "execution_count": 18,
     "metadata": {},
     "output_type": "execute_result"
    }
   ],
   "source": [
    "fi.sort_values(ascending=False).head(50)"
   ]
  },
  {
   "cell_type": "code",
   "execution_count": 19,
   "id": "cordless-sleeping",
   "metadata": {},
   "outputs": [],
   "source": [
    "fi.to_pickle('fi_lightgbm_cf.pkl')"
   ]
  },
  {
   "cell_type": "code",
   "execution_count": 20,
   "id": "alike-nothing",
   "metadata": {},
   "outputs": [],
   "source": [
    "train_probs_lightgbm = train_probs\n",
    "test_probs_lightgbm = test_probs\n",
    "train_probs_lightgbm.to_pickle('train_probs_lightgbm_cf.pkl')\n",
    "test_probs_lightgbm.to_pickle('test_probs_lightgbm_cf.pkl')"
   ]
  },
  {
   "cell_type": "markdown",
   "id": "illegal-bleeding",
   "metadata": {},
   "source": [
    "## Entrenando GradientBosstingClassifier"
   ]
  },
  {
   "cell_type": "code",
   "execution_count": 42,
   "id": "chicken-postage",
   "metadata": {
    "scrolled": false
   },
   "outputs": [
    {
     "data": {
      "text/plain": [
       "((358487, 397), (396666, 397))"
      ]
     },
     "execution_count": 42,
     "metadata": {},
     "output_type": "execute_result"
    }
   ],
   "source": [
    "path = '../data'\n",
    "train = pd.read_pickle(f'{path}/train_features397_score_0.85487.pkl') \n",
    "test = pd.read_pickle(f'{path}/test_features397_score_0.85487.pkl')\n",
    "y_train = pd.read_csv(f'{path}/y_train.csv', index_col = 'key_value')\n",
    "train.shape, test.shape"
   ]
  },
  {
   "cell_type": "code",
   "execution_count": 43,
   "id": "needed-positive",
   "metadata": {},
   "outputs": [],
   "source": [
    "var_categ = [i for i in train.columns if 'mode' in i]\n",
    "var_cuanti = [i for i in train.columns if 'mode' not in i]\n",
    "for i in var_cuanti:\n",
    "    train[i] = train[i].fillna(train[i].median())\n",
    "    test[i] = test[i].fillna(train[i].median())    \n",
    "for i in var_categ:\n",
    "    train[i] = train[i].fillna(train[i].value_counts().index[0])\n",
    "    test[i] = test[i].fillna(train[i].value_counts().index[0]) "
   ]
  },
  {
   "cell_type": "code",
   "execution_count": null,
   "id": "blocked-repair",
   "metadata": {},
   "outputs": [],
   "source": [
    "def get_roc_auc_gbc(idx):\n",
    "    dict_result = {}\n",
    "    estimator = GradientBoostingClassifier(n_estimators=30, learning_rate=0.3, subsample=0.8,\n",
    "                                             max_depth=5, verbose=10, max_features=0.82, random_state=42,\n",
    "                                             n_iter_no_change = 10, tol=0.01)    \n",
    "    Xt = train.loc[idx]\n",
    "    yt = y_train.loc[Xt.index].target\n",
    "\n",
    "    Xv = train.drop(Xt.index)\n",
    "    yv = y_train.loc[Xv.index].target\n",
    "\n",
    "    estimator.fit(Xt, yt)   \n",
    "    train_score = roc_auc_score(yt, estimator.predict_proba(Xt)[:,-1])\n",
    "    val_score = roc_auc_score(yv, estimator.predict_proba(Xv)[:,-1])\n",
    "    train_probs = pd.Series(estimator.predict_proba(Xv)[:,-1], index = Xv.index)\n",
    "    test_probs = pd.Series(estimator.predict_proba(test)[:,-1], index = test.index)\n",
    "\n",
    "    dict_result['train_score'] = train_score\n",
    "    dict_result['val_score'] = val_score\n",
    "    dict_result['train_probs'] = train_probs\n",
    "    dict_result['test_probs'] = test_probs\n",
    "    \n",
    "    return dict_result"
   ]
  },
  {
   "cell_type": "code",
   "execution_count": null,
   "id": "prospective-faculty",
   "metadata": {},
   "outputs": [],
   "source": [
    "from sklearn.ensemble import GradientBoostingClassifier\n",
    "from multiprocessing.dummy import Pool\n",
    "from sklearn.model_selection import KFold\n",
    "from sklearn.metrics import roc_auc_score\n",
    "pool = Pool(10)\n",
    "folds = [train.index[t] for t, v in KFold(5).split(train)]\n",
    "dict_result_list = []\n",
    "for dict_result in pool.map(get_roc_auc_gbc, folds):\n",
    "    print(dict_result)\n",
    "    dict_result_list.append(dict_result)\n",
    "    \n",
    "# np.save('dict_result_list_gbc.npy', dict_result_list) \n",
    "train_probs = [] \n",
    "test_probs = [] \n",
    "train_score = []\n",
    "val_score = []\n",
    "for dict_result in dict_result_list:\n",
    "    train_probs.append(dict_result['train_probs'])\n",
    "    test_probs.append(dict_result['test_probs'])\n",
    "    train_score.append(dict_result['train_score'])\n",
    "    val_score.append(dict_result['val_score'])\n",
    "train_score = np.mean(train_score)\n",
    "val_score = np.mean(val_score)\n",
    "\n",
    "train_probs_gbc = pd.concat(train_probs)\n",
    "test_probs_gbc = pd.concat(test_probs,axis=1).mean(axis=1)\n",
    "train_score, val_score"
   ]
  },
  {
   "cell_type": "code",
   "execution_count": 44,
   "id": "bottom-orleans",
   "metadata": {},
   "outputs": [
    {
     "name": "stdout",
     "output_type": "stream",
     "text": [
      "********** 0 **********\n",
      "      Iter       Train Loss      OOB Improve   Remaining Time \n",
      "         1           0.7709           0.0972          105.06m\n",
      "         2           0.7287           0.0412          101.81m\n",
      "         3           0.6979           0.0271          105.22m\n",
      "         4           0.6868           0.0130          107.73m\n",
      "         5           0.6731           0.0140          108.31m\n",
      "         6           0.6611           0.0096          107.73m\n",
      "         7           0.6527           0.0063          105.82m\n",
      "         8           0.6502           0.0049          104.75m\n",
      "         9           0.6447           0.0057          104.28m\n",
      "        10           0.6371           0.0043          104.27m\n",
      "        20           0.6095           0.0008          102.20m\n",
      "roc_auc_estimado de : 0.834755336881636\n",
      "********** 1 **********\n",
      "      Iter       Train Loss      OOB Improve   Remaining Time \n",
      "         1           0.7700           0.1051          104.37m\n",
      "         2           0.7244           0.0430          104.94m\n",
      "         3           0.6979           0.0253          105.33m\n",
      "         4           0.6847           0.0130          105.79m\n",
      "         5           0.6703           0.0135          105.76m\n"
     ]
    },
    {
     "ename": "KeyboardInterrupt",
     "evalue": "",
     "output_type": "error",
     "traceback": [
      "\u001b[1;31m---------------------------------------------------------------------------\u001b[0m",
      "\u001b[1;31mKeyboardInterrupt\u001b[0m                         Traceback (most recent call last)",
      "\u001b[1;32m<ipython-input-44-f16570ee9835>\u001b[0m in \u001b[0;36m<module>\u001b[1;34m\u001b[0m\n\u001b[0;32m     20\u001b[0m                                          n_iter_no_change = 10, tol=0.01, validation_fraction = 0.2)\n\u001b[0;32m     21\u001b[0m \u001b[1;33m\u001b[0m\u001b[0m\n\u001b[1;32m---> 22\u001b[1;33m     \u001b[0mlearner\u001b[0m\u001b[1;33m.\u001b[0m\u001b[0mfit\u001b[0m\u001b[1;33m(\u001b[0m\u001b[0mXt\u001b[0m\u001b[1;33m,\u001b[0m \u001b[0myt\u001b[0m\u001b[1;33m)\u001b[0m\u001b[1;33m\u001b[0m\u001b[1;33m\u001b[0m\u001b[0m\n\u001b[0m\u001b[0;32m     23\u001b[0m     \u001b[0mtest_probs\u001b[0m\u001b[1;33m.\u001b[0m\u001b[0mappend\u001b[0m\u001b[1;33m(\u001b[0m\u001b[0mpd\u001b[0m\u001b[1;33m.\u001b[0m\u001b[0mSeries\u001b[0m\u001b[1;33m(\u001b[0m\u001b[0mlearner\u001b[0m\u001b[1;33m.\u001b[0m\u001b[0mpredict_proba\u001b[0m\u001b[1;33m(\u001b[0m\u001b[0mtest\u001b[0m\u001b[1;33m)\u001b[0m\u001b[1;33m[\u001b[0m\u001b[1;33m:\u001b[0m\u001b[1;33m,\u001b[0m \u001b[1;33m-\u001b[0m\u001b[1;36m1\u001b[0m\u001b[1;33m]\u001b[0m\u001b[1;33m,\u001b[0m \u001b[0mindex\u001b[0m\u001b[1;33m=\u001b[0m\u001b[0mtest\u001b[0m\u001b[1;33m.\u001b[0m\u001b[0mindex\u001b[0m\u001b[1;33m,\u001b[0m \u001b[0mname\u001b[0m\u001b[1;33m=\u001b[0m\u001b[1;34m\"fold_\"\u001b[0m \u001b[1;33m+\u001b[0m \u001b[0mstr\u001b[0m\u001b[1;33m(\u001b[0m\u001b[0mi\u001b[0m\u001b[1;33m)\u001b[0m\u001b[1;33m)\u001b[0m\u001b[1;33m)\u001b[0m\u001b[1;33m\u001b[0m\u001b[1;33m\u001b[0m\u001b[0m\n\u001b[0;32m     24\u001b[0m     \u001b[0mtrain_probs\u001b[0m\u001b[1;33m.\u001b[0m\u001b[0mappend\u001b[0m\u001b[1;33m(\u001b[0m\u001b[0mpd\u001b[0m\u001b[1;33m.\u001b[0m\u001b[0mSeries\u001b[0m\u001b[1;33m(\u001b[0m\u001b[0mlearner\u001b[0m\u001b[1;33m.\u001b[0m\u001b[0mpredict_proba\u001b[0m\u001b[1;33m(\u001b[0m\u001b[0mXv\u001b[0m\u001b[1;33m)\u001b[0m\u001b[1;33m[\u001b[0m\u001b[1;33m:\u001b[0m\u001b[1;33m,\u001b[0m \u001b[1;33m-\u001b[0m\u001b[1;36m1\u001b[0m\u001b[1;33m]\u001b[0m\u001b[1;33m,\u001b[0m \u001b[0mindex\u001b[0m\u001b[1;33m=\u001b[0m\u001b[0mXv\u001b[0m\u001b[1;33m.\u001b[0m\u001b[0mindex\u001b[0m\u001b[1;33m,\u001b[0m \u001b[0mname\u001b[0m\u001b[1;33m=\u001b[0m\u001b[1;34m\"probs\"\u001b[0m\u001b[1;33m)\u001b[0m\u001b[1;33m)\u001b[0m\u001b[1;33m\u001b[0m\u001b[1;33m\u001b[0m\u001b[0m\n",
      "\u001b[1;32m~\\anaconda3\\envs\\venv_datathon\\lib\\site-packages\\sklearn\\ensemble\\_gb.py\u001b[0m in \u001b[0;36mfit\u001b[1;34m(self, X, y, sample_weight, monitor)\u001b[0m\n\u001b[0;32m   1533\u001b[0m \u001b[1;33m\u001b[0m\u001b[0m\n\u001b[0;32m   1534\u001b[0m         \u001b[1;31m# fit the boosting stages\u001b[0m\u001b[1;33m\u001b[0m\u001b[1;33m\u001b[0m\u001b[1;33m\u001b[0m\u001b[0m\n\u001b[1;32m-> 1535\u001b[1;33m         n_stages = self._fit_stages(\n\u001b[0m\u001b[0;32m   1536\u001b[0m             \u001b[0mX\u001b[0m\u001b[1;33m,\u001b[0m \u001b[0my\u001b[0m\u001b[1;33m,\u001b[0m \u001b[0mraw_predictions\u001b[0m\u001b[1;33m,\u001b[0m \u001b[0msample_weight\u001b[0m\u001b[1;33m,\u001b[0m \u001b[0mself\u001b[0m\u001b[1;33m.\u001b[0m\u001b[0m_rng\u001b[0m\u001b[1;33m,\u001b[0m \u001b[0mX_val\u001b[0m\u001b[1;33m,\u001b[0m \u001b[0my_val\u001b[0m\u001b[1;33m,\u001b[0m\u001b[1;33m\u001b[0m\u001b[1;33m\u001b[0m\u001b[0m\n\u001b[0;32m   1537\u001b[0m             sample_weight_val, begin_at_stage, monitor, X_idx_sorted)\n",
      "\u001b[1;32m~\\anaconda3\\envs\\venv_datathon\\lib\\site-packages\\sklearn\\ensemble\\_gb.py\u001b[0m in \u001b[0;36m_fit_stages\u001b[1;34m(self, X, y, raw_predictions, sample_weight, random_state, X_val, y_val, sample_weight_val, begin_at_stage, monitor, X_idx_sorted)\u001b[0m\n\u001b[0;32m   1590\u001b[0m \u001b[1;33m\u001b[0m\u001b[0m\n\u001b[0;32m   1591\u001b[0m             \u001b[1;31m# fit next stage of trees\u001b[0m\u001b[1;33m\u001b[0m\u001b[1;33m\u001b[0m\u001b[1;33m\u001b[0m\u001b[0m\n\u001b[1;32m-> 1592\u001b[1;33m             raw_predictions = self._fit_stage(\n\u001b[0m\u001b[0;32m   1593\u001b[0m                 \u001b[0mi\u001b[0m\u001b[1;33m,\u001b[0m \u001b[0mX\u001b[0m\u001b[1;33m,\u001b[0m \u001b[0my\u001b[0m\u001b[1;33m,\u001b[0m \u001b[0mraw_predictions\u001b[0m\u001b[1;33m,\u001b[0m \u001b[0msample_weight\u001b[0m\u001b[1;33m,\u001b[0m \u001b[0msample_mask\u001b[0m\u001b[1;33m,\u001b[0m\u001b[1;33m\u001b[0m\u001b[1;33m\u001b[0m\u001b[0m\n\u001b[0;32m   1594\u001b[0m                 random_state, X_idx_sorted, X_csc, X_csr)\n",
      "\u001b[1;32m~\\anaconda3\\envs\\venv_datathon\\lib\\site-packages\\sklearn\\ensemble\\_gb.py\u001b[0m in \u001b[0;36m_fit_stage\u001b[1;34m(self, i, X, y, raw_predictions, sample_weight, sample_mask, random_state, X_idx_sorted, X_csc, X_csr)\u001b[0m\n\u001b[0;32m   1242\u001b[0m \u001b[1;33m\u001b[0m\u001b[0m\n\u001b[0;32m   1243\u001b[0m             \u001b[0mX\u001b[0m \u001b[1;33m=\u001b[0m \u001b[0mX_csr\u001b[0m \u001b[1;32mif\u001b[0m \u001b[0mX_csr\u001b[0m \u001b[1;32mis\u001b[0m \u001b[1;32mnot\u001b[0m \u001b[1;32mNone\u001b[0m \u001b[1;32melse\u001b[0m \u001b[0mX\u001b[0m\u001b[1;33m\u001b[0m\u001b[1;33m\u001b[0m\u001b[0m\n\u001b[1;32m-> 1244\u001b[1;33m             tree.fit(X, residual, sample_weight=sample_weight,\n\u001b[0m\u001b[0;32m   1245\u001b[0m                      check_input=False, X_idx_sorted=X_idx_sorted)\n\u001b[0;32m   1246\u001b[0m \u001b[1;33m\u001b[0m\u001b[0m\n",
      "\u001b[1;32m~\\anaconda3\\envs\\venv_datathon\\lib\\site-packages\\sklearn\\tree\\_classes.py\u001b[0m in \u001b[0;36mfit\u001b[1;34m(self, X, y, sample_weight, check_input, X_idx_sorted)\u001b[0m\n\u001b[0;32m   1219\u001b[0m         \"\"\"\n\u001b[0;32m   1220\u001b[0m \u001b[1;33m\u001b[0m\u001b[0m\n\u001b[1;32m-> 1221\u001b[1;33m         super().fit(\n\u001b[0m\u001b[0;32m   1222\u001b[0m             \u001b[0mX\u001b[0m\u001b[1;33m,\u001b[0m \u001b[0my\u001b[0m\u001b[1;33m,\u001b[0m\u001b[1;33m\u001b[0m\u001b[1;33m\u001b[0m\u001b[0m\n\u001b[0;32m   1223\u001b[0m             \u001b[0msample_weight\u001b[0m\u001b[1;33m=\u001b[0m\u001b[0msample_weight\u001b[0m\u001b[1;33m,\u001b[0m\u001b[1;33m\u001b[0m\u001b[1;33m\u001b[0m\u001b[0m\n",
      "\u001b[1;32m~\\anaconda3\\envs\\venv_datathon\\lib\\site-packages\\sklearn\\tree\\_classes.py\u001b[0m in \u001b[0;36mfit\u001b[1;34m(self, X, y, sample_weight, check_input, X_idx_sorted)\u001b[0m\n\u001b[0;32m    365\u001b[0m                                            min_impurity_split)\n\u001b[0;32m    366\u001b[0m \u001b[1;33m\u001b[0m\u001b[0m\n\u001b[1;32m--> 367\u001b[1;33m         \u001b[0mbuilder\u001b[0m\u001b[1;33m.\u001b[0m\u001b[0mbuild\u001b[0m\u001b[1;33m(\u001b[0m\u001b[0mself\u001b[0m\u001b[1;33m.\u001b[0m\u001b[0mtree_\u001b[0m\u001b[1;33m,\u001b[0m \u001b[0mX\u001b[0m\u001b[1;33m,\u001b[0m \u001b[0my\u001b[0m\u001b[1;33m,\u001b[0m \u001b[0msample_weight\u001b[0m\u001b[1;33m,\u001b[0m \u001b[0mX_idx_sorted\u001b[0m\u001b[1;33m)\u001b[0m\u001b[1;33m\u001b[0m\u001b[1;33m\u001b[0m\u001b[0m\n\u001b[0m\u001b[0;32m    368\u001b[0m \u001b[1;33m\u001b[0m\u001b[0m\n\u001b[0;32m    369\u001b[0m         \u001b[1;32mif\u001b[0m \u001b[0mself\u001b[0m\u001b[1;33m.\u001b[0m\u001b[0mn_outputs_\u001b[0m \u001b[1;33m==\u001b[0m \u001b[1;36m1\u001b[0m \u001b[1;32mand\u001b[0m \u001b[0mis_classifier\u001b[0m\u001b[1;33m(\u001b[0m\u001b[0mself\u001b[0m\u001b[1;33m)\u001b[0m\u001b[1;33m:\u001b[0m\u001b[1;33m\u001b[0m\u001b[1;33m\u001b[0m\u001b[0m\n",
      "\u001b[1;31mKeyboardInterrupt\u001b[0m: "
     ]
    }
   ],
   "source": [
    "# https://scikit-learn.org/stable/modules/generated/sklearn.ensemble.GradientBoostingClassifier.html#sklearn.ensemble.GradientBoostingClassifier.fit\n",
    "from sklearn.ensemble import GradientBoostingClassifier\n",
    "from sklearn.metrics import roc_auc_score\n",
    "from sklearn.model_selection import KFold\n",
    "import numpy as np\n",
    "folds = [train.index[t] for t, v in KFold(5).split(train)]\n",
    "test_probs = []\n",
    "train_probs = []\n",
    "fi = []\n",
    "for i, idx in enumerate(folds):\n",
    "    print(\"*\"*10, i, \"*\"*10)\n",
    "    Xt = train.loc[idx]\n",
    "    yt = y_train.loc[Xt.index].target\n",
    "\n",
    "    Xv = train.drop(Xt.index)\n",
    "    yv = y_train.loc[Xv.index].target\n",
    "\n",
    "    learner = GradientBoostingClassifier(n_estimators=500, learning_rate=0.3, subsample=0.8,\n",
    "                                         max_depth=5, verbose=1, max_features=0.82, random_state=42,\n",
    "                                         n_iter_no_change = 10, tol=0.01, validation_fraction = 0.2)\n",
    "   \n",
    "    learner.fit(Xt, yt)        \n",
    "    test_probs.append(pd.Series(learner.predict_proba(test)[:, -1], index=test.index, name=\"fold_\" + str(i)))\n",
    "    train_probs.append(pd.Series(learner.predict_proba(Xv)[:, -1], index=Xv.index, name=\"probs\"))\n",
    "    fi.append(pd.Series(learner.feature_importances_ / learner.feature_importances_.sum(), index=Xt.columns))\n",
    "    print('roc_auc_estimado de : ' + str(roc_auc_score(yv, pd.Series(learner.predict_proba(Xv)[:, -1]))))    \n",
    "        \n",
    "test_probs = pd.concat(test_probs, axis=1).mean(axis=1)\n",
    "train_probs = pd.concat(train_probs)\n",
    "fi = pd.concat(fi, axis=1).mean(axis=1)\n",
    "print(\"*\" * 21)\n",
    "print(\"roc auc estimado: \", roc_auc_score(y_train, train_probs.loc[y_train.index]))\n",
    "print(\"roc auc varianza: \", np.std([roc_auc_score(y_train.loc[folds[i]], train_probs.iloc[folds[i]]) for i in range(len(folds))]))  "
   ]
  },
  {
   "cell_type": "code",
   "execution_count": 16,
   "id": "polished-toronto",
   "metadata": {},
   "outputs": [],
   "source": [
    "fi.to_pickle('fi_gbc.pkl')"
   ]
  },
  {
   "cell_type": "code",
   "execution_count": 21,
   "id": "metric-companion",
   "metadata": {},
   "outputs": [],
   "source": [
    "train_probs_gbc = train_probs\n",
    "test_probs_gbc = test_probs\n",
    "train_probs_gbc.to_pickle('train_probs_gbc.pkl')\n",
    "test_probs_gbc.to_pickle('test_probs_gbc.pkl')"
   ]
  }
 ],
 "metadata": {
  "kernelspec": {
   "display_name": "Python 3",
   "language": "python",
   "name": "python3"
  },
  "language_info": {
   "codemirror_mode": {
    "name": "ipython",
    "version": 3
   },
   "file_extension": ".py",
   "mimetype": "text/x-python",
   "name": "python",
   "nbconvert_exporter": "python",
   "pygments_lexer": "ipython3",
   "version": "3.8.5"
  }
 },
 "nbformat": 4,
 "nbformat_minor": 5
}
