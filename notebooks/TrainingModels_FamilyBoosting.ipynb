{
 "cells": [
  {
   "cell_type": "code",
   "execution_count": 4,
   "id": "immune-warehouse",
   "metadata": {},
   "outputs": [],
   "source": [
    "import pandas as pd\n",
    "import numpy as np\n",
    "import matplotlib.pyplot as plt"
   ]
  },
  {
   "cell_type": "code",
   "execution_count": 5,
   "id": "supreme-arcade",
   "metadata": {},
   "outputs": [],
   "source": [
    "path = '../data'\n",
    "y_train = pd.read_csv(f'{path}/y_train.csv', index_col = 'key_value')"
   ]
  },
  {
   "cell_type": "code",
   "execution_count": 6,
   "id": "relevant-performer",
   "metadata": {},
   "outputs": [
    {
     "data": {
      "text/plain": [
       "<AxesSubplot:ylabel='None'>"
      ]
     },
     "execution_count": 6,
     "metadata": {},
     "output_type": "execute_result"
    },
    {
     "data": {
      "image/png": "[encoded data removed]",
      "text/plain": [
       "<Figure size 432x288 with 1 Axes>"
      ]
     },
     "metadata": {},
     "output_type": "display_data"
    }
   ],
   "source": [
    "y_train.value_counts().plot(kind='pie', autopct='%1.0f%%')"
   ]
  },
  {
   "cell_type": "code",
   "execution_count": 7,
   "id": "widespread-activity",
   "metadata": {
    "scrolled": true
   },
   "outputs": [],
   "source": [
    "train = pd.read_pickle('train_886features.pkl') ### 293 features\n",
    "test = pd.read_pickle('test_886features.pkl')"
   ]
  },
  {
   "cell_type": "code",
   "execution_count": 8,
   "id": "brazilian-effectiveness",
   "metadata": {},
   "outputs": [
    {
     "data": {
      "text/plain": [
       "float64    793\n",
       "int32       69\n",
       "int64       24\n",
       "dtype: int64"
      ]
     },
     "execution_count": 8,
     "metadata": {},
     "output_type": "execute_result"
    }
   ],
   "source": [
    "train.dtypes.value_counts()"
   ]
  },
  {
   "cell_type": "code",
   "execution_count": 9,
   "id": "tender-ferry",
   "metadata": {
    "scrolled": true
   },
   "outputs": [
    {
     "data": {
      "text/plain": [
       "<AxesSubplot:>"
      ]
     },
     "execution_count": 9,
     "metadata": {},
     "output_type": "execute_result"
    },
    {
     "data": {
      "image/png": "[encoded data removed]",
      "text/plain": [
       "<Figure size 432x288 with 1 Axes>"
      ]
     },
     "metadata": {
      "needs_background": "light"
     },
     "output_type": "display_data"
    }
   ],
   "source": [
    "train.isna().sum().hist()"
   ]
  },
  {
   "cell_type": "markdown",
   "id": "funny-writer",
   "metadata": {},
   "source": [
    "## Entrenando LGBM con hiperparámetros"
   ]
  },
  {
   "cell_type": "code",
   "execution_count": 10,
   "id": "lesbian-attribute",
   "metadata": {
    "scrolled": true
   },
   "outputs": [
    {
     "name": "stdout",
     "output_type": "stream",
     "text": [
      "********** 0 **********\n",
      "Training until validation scores don't improve for 10 rounds\n",
      "[100]\ttraining's auc: 0.858563\ttraining's binary_logloss: 0.291167\tvalid_1's auc: 0.845098\tvalid_1's binary_logloss: 0.301731\n",
      "[200]\ttraining's auc: 0.873269\ttraining's binary_logloss: 0.279527\tvalid_1's auc: 0.849593\tvalid_1's binary_logloss: 0.297966\n",
      "[300]\ttraining's auc: 0.883379\ttraining's binary_logloss: 0.271322\tvalid_1's auc: 0.85079\tvalid_1's binary_logloss: 0.29691\n",
      "Early stopping, best iteration is:\n",
      "[311]\ttraining's auc: 0.884357\ttraining's binary_logloss: 0.270534\tvalid_1's auc: 0.850842\tvalid_1's binary_logloss: 0.296852\n",
      "********** 1 **********\n",
      "Training until validation scores don't improve for 10 rounds\n",
      "[100]\ttraining's auc: 0.858886\ttraining's binary_logloss: 0.291032\tvalid_1's auc: 0.845584\tvalid_1's binary_logloss: 0.301048\n",
      "[200]\ttraining's auc: 0.873324\ttraining's binary_logloss: 0.279382\tvalid_1's auc: 0.850019\tvalid_1's binary_logloss: 0.297261\n",
      "Early stopping, best iteration is:\n",
      "[240]\ttraining's auc: 0.877827\ttraining's binary_logloss: 0.275809\tvalid_1's auc: 0.850513\tvalid_1's binary_logloss: 0.29683\n",
      "********** 2 **********\n",
      "Training until validation scores don't improve for 10 rounds\n",
      "[100]\ttraining's auc: 0.858953\ttraining's binary_logloss: 0.291436\tvalid_1's auc: 0.847958\tvalid_1's binary_logloss: 0.29904\n",
      "[200]\ttraining's auc: 0.873139\ttraining's binary_logloss: 0.279914\tvalid_1's auc: 0.851673\tvalid_1's binary_logloss: 0.295558\n",
      "Early stopping, best iteration is:\n",
      "[280]\ttraining's auc: 0.881612\ttraining's binary_logloss: 0.273162\tvalid_1's auc: 0.852778\tvalid_1's binary_logloss: 0.294615\n",
      "********** 3 **********\n",
      "Training until validation scores don't improve for 10 rounds\n",
      "[100]\ttraining's auc: 0.858612\ttraining's binary_logloss: 0.291695\tvalid_1's auc: 0.847335\tvalid_1's binary_logloss: 0.299194\n",
      "[200]\ttraining's auc: 0.873581\ttraining's binary_logloss: 0.279889\tvalid_1's auc: 0.851805\tvalid_1's binary_logloss: 0.295274\n",
      "Early stopping, best iteration is:\n",
      "[277]\ttraining's auc: 0.881671\ttraining's binary_logloss: 0.273316\tvalid_1's auc: 0.85324\tvalid_1's binary_logloss: 0.294087\n",
      "********** 4 **********\n",
      "Training until validation scores don't improve for 10 rounds\n",
      "[100]\ttraining's auc: 0.86093\ttraining's binary_logloss: 0.290472\tvalid_1's auc: 0.839198\tvalid_1's binary_logloss: 0.302142\n",
      "[200]\ttraining's auc: 0.875514\ttraining's binary_logloss: 0.278521\tvalid_1's auc: 0.843363\tvalid_1's binary_logloss: 0.298798\n",
      "Early stopping, best iteration is:\n",
      "[206]\ttraining's auc: 0.87623\ttraining's binary_logloss: 0.277964\tvalid_1's auc: 0.843559\tvalid_1's binary_logloss: 0.29867\n",
      "*********************\n",
      "roc auc estimado:  0.8502134825474761\n",
      "roc auc varianza:  0.0008526359723787526\n"
     ]
    }
   ],
   "source": [
    "from lightgbm import LGBMClassifier\n",
    "from sklearn.metrics import roc_auc_score\n",
    "from sklearn.model_selection import KFold\n",
    "import numpy as np\n",
    "folds = [train.index[t] for t, v in KFold(5).split(train)]\n",
    "test_probs = []\n",
    "train_probs = []\n",
    "fi = []\n",
    "for i, idx in enumerate(folds):\n",
    "    print(\"*\"*10, i, \"*\"*10)\n",
    "    Xt = train.loc[idx]\n",
    "    yt = y_train.loc[Xt.index].target\n",
    "\n",
    "    Xv = train.drop(Xt.index)\n",
    "    yv = y_train.loc[Xv.index].target\n",
    "\n",
    "    learner = LGBMClassifier(n_estimators=1000, boosting_type='gbdt',min_child_samples=1500, colsample_bytree=0.8,\n",
    "                   subsample=0.8, max_bin=200, learning_rate=0.1)\n",
    "    \n",
    "    learner.fit(Xt, yt,  early_stopping_rounds=10, eval_metric=\"auc\",\n",
    "                eval_set=[(Xt, yt), (Xv, yv)], verbose=100)\n",
    "    test_probs.append(pd.Series(learner.predict_proba(test)[:, -1], index=test.index, name=\"fold_\" + str(i)))\n",
    "    train_probs.append(pd.Series(learner.predict_proba(Xv)[:, -1], index=Xv.index, name=\"probs\"))\n",
    "    fi.append(pd.Series(learner.feature_importances_ / learner.feature_importances_.sum(), index=Xt.columns))\n",
    "\n",
    "test_probs = pd.concat(test_probs, axis=1).mean(axis=1)\n",
    "train_probs = pd.concat(train_probs)\n",
    "fi = pd.concat(fi, axis=1).mean(axis=1)\n",
    "print(\"*\" * 21)\n",
    "print(\"roc auc estimado: \", roc_auc_score(y_train, train_probs.loc[y_train.index]))\n",
    "print(\"roc auc varianza: \", np.std([roc_auc_score(y_train.loc[folds[i]], train_probs.iloc[folds[i]]) for i in range(len(folds))]))  "
   ]
  },
  {
   "cell_type": "code",
   "execution_count": 17,
   "id": "precious-invalid",
   "metadata": {
    "scrolled": true
   },
   "outputs": [
    {
     "data": {
      "text/plain": [
       "RIESGO_DIRECTO_1_saldoUnique_ult1meses               0.013812\n",
       "edad                                                 0.013588\n",
       "cod_instit_financiera_max_ult1mes                    0.011832\n",
       "tip_lvledu                                           0.010493\n",
       "COD_CLASIFICACION_DEUDOR_0_saldoUnique_ult12meses    0.010095\n",
       "RIESGO_DIRECTO_-1_saldoUnique_ult12meses             0.010030\n",
       "RIESGO_DIRECTO_1_saldoMin_ult1meses                  0.009826\n",
       "cod_ubi                                              0.009664\n",
       "RIESGO_DIRECTO_-1_saldoSum_ult1meses                 0.009544\n",
       "RIESGO_DIRECTO_1_saldoStd_ult1meses                  0.009045\n",
       "prv                                                  0.007892\n",
       "sit_lab                                              0.007671\n",
       "cod_instit_financiera_min_ult1mes                    0.007635\n",
       "RIESGO_DIRECTO_1_saldoMax_ult12meses                 0.007565\n",
       "ubigeo_mode                                          0.007520\n",
       "cod_instit_financiera_mode_ult1mes                   0.007411\n",
       "tipo_credito_11_saldoSum_ult1meses                   0.007387\n",
       "RIESGO_DIRECTO_1_saldoMax_ult1meses                  0.007129\n",
       "tipo_credito_11_saldoStd_ult1meses                   0.006433\n",
       "dto                                                  0.006384\n",
       "sexo                                                 0.006288\n",
       "flg_sin_email                                        0.006150\n",
       "condicion_0_saldoUnique_ult12meses                   0.006032\n",
       "ciiu_mode                                            0.006015\n",
       "estadocontribuyente_mode                             0.005701\n",
       "RIESGO_DIRECTO_1_saldoMin_ult2meses                  0.005627\n",
       "tipo_credito_12_saldoMin_ult1meses                   0.005612\n",
       "lgr_vot                                              0.005464\n",
       "RIESGO_DIRECTO_1_saldoSum_ult1meses                  0.005408\n",
       "tipo_credito_12_saldoSum_ult1meses                   0.004895\n",
       "cod_ocu                                              0.004802\n",
       "RIESGO_DIRECTO_-1_saldoSum_ult2meses                 0.004770\n",
       "tipo_credito_11_saldoUnique_ult12meses               0.004754\n",
       "tipo_credito_11_saldoMin_ult1meses                   0.004725\n",
       "RIESGO_DIRECTO_1_saldoUnique_ult2meses               0.004334\n",
       "COD_CLASIFICACION_DEUDOR_0_saldoSum_ult1meses        0.004320\n",
       "tipo_credito_12_saldoUnique_ult12meses               0.004127\n",
       "tipo_credito_12_saldoStd_ult1meses                   0.004111\n",
       "RIESGO_DIRECTO_1_saldoStd_ult2meses                  0.004074\n",
       "tipo_credito_11_saldoSum_ult2meses                   0.004074\n",
       "COD_CLASIFICACION_DEUDOR_5_saldoMax_ult1meses        0.003931\n",
       "RIESGO_DIRECTO_1_saldoUnique_ult12meses              0.003918\n",
       "RIESGO_DIRECTO_1_saldoSum_ult2meses                  0.003907\n",
       "cod_instit_financiera_max_ult12mes                   0.003893\n",
       "RIESGO_DIRECTO_1_saldoStd_ult3meses                  0.003850\n",
       "fecalta_min                                          0.003840\n",
       "tipo_credito_12_saldoUnique_ult1meses                0.003810\n",
       "fecalta_mean                                         0.003806\n",
       "tipo_credito_11_saldoMax_ult1meses                   0.003682\n",
       "RIESGO_DIRECTO_1_saldoMin_ult3meses                  0.003578\n",
       "dtype: float64"
      ]
     },
     "execution_count": 17,
     "metadata": {},
     "output_type": "execute_result"
    }
   ],
   "source": [
    "fi.sort_values(ascending=False).head(50)"
   ]
  },
  {
   "cell_type": "code",
   "execution_count": 16,
   "id": "known-binding",
   "metadata": {},
   "outputs": [],
   "source": [
    "fi.to_pickle('fi_lightgbm.pkl')"
   ]
  },
  {
   "cell_type": "code",
   "execution_count": 11,
   "id": "killing-overall",
   "metadata": {},
   "outputs": [],
   "source": [
    "train_probs_lightgbm = train_probs\n",
    "test_probs_lightgbm = test_probs\n",
    "train_probs_lightgbm.to_pickle('train_probs_lightgbm.pkl')\n",
    "test_probs_lightgbm.to_pickle('test_probs_lightgbm.pkl')"
   ]
  },
  {
   "cell_type": "markdown",
   "id": "heard-division",
   "metadata": {},
   "source": [
    "## Entrenando CatBoost con hiperparámetros"
   ]
  },
  {
   "cell_type": "code",
   "execution_count": 12,
   "id": "adopted-darwin",
   "metadata": {
    "scrolled": true
   },
   "outputs": [
    {
     "name": "stdout",
     "output_type": "stream",
     "text": [
      "********** 0 **********\n",
      "0:\ttest: 0.7396008\ttest1: 0.7462906\tbest: 0.7462906 (0)\ttotal: 1.04s\tremaining: 17m 18s\n",
      "100:\ttest: 0.8525227\ttest1: 0.8426622\tbest: 0.8426622 (100)\ttotal: 1m 24s\tremaining: 12m 29s\n",
      "200:\ttest: 0.8669198\ttest1: 0.8455761\tbest: 0.8456016 (190)\ttotal: 2m 45s\tremaining: 10m 57s\n",
      "Stopped by overfitting detector  (10 iterations wait)\n",
      "\n",
      "bestTest = 0.8456016366\n",
      "bestIteration = 190\n",
      "\n",
      "Shrink model to first 191 iterations.\n",
      "********** 1 **********\n",
      "0:\ttest: 0.7412082\ttest1: 0.7415482\tbest: 0.7415482 (0)\ttotal: 764ms\tremaining: 12m 43s\n",
      "100:\ttest: 0.8527665\ttest1: 0.8432771\tbest: 0.8432771 (100)\ttotal: 1m 25s\tremaining: 12m 38s\n",
      "200:\ttest: 0.8668371\ttest1: 0.8461132\tbest: 0.8462293 (196)\ttotal: 2m 44s\tremaining: 10m 53s\n",
      "Stopped by overfitting detector  (10 iterations wait)\n",
      "\n",
      "bestTest = 0.846229311\n",
      "bestIteration = 196\n",
      "\n",
      "Shrink model to first 197 iterations.\n",
      "********** 2 **********\n",
      "0:\ttest: 0.7398953\ttest1: 0.7478249\tbest: 0.7478249 (0)\ttotal: 758ms\tremaining: 12m 36s\n",
      "100:\ttest: 0.8520900\ttest1: 0.8436706\tbest: 0.8436706 (100)\ttotal: 1m 16s\tremaining: 11m 24s\n",
      "200:\ttest: 0.8661543\ttest1: 0.8470509\tbest: 0.8470509 (200)\ttotal: 2m 28s\tremaining: 9m 50s\n",
      "Stopped by overfitting detector  (10 iterations wait)\n",
      "\n",
      "bestTest = 0.8479020049\n",
      "bestIteration = 227\n",
      "\n",
      "Shrink model to first 228 iterations.\n",
      "********** 3 **********\n",
      "0:\ttest: 0.7413820\ttest1: 0.7417365\tbest: 0.7417365 (0)\ttotal: 828ms\tremaining: 13m 46s\n",
      "100:\ttest: 0.8522081\ttest1: 0.8432733\tbest: 0.8432733 (100)\ttotal: 1m 15s\tremaining: 11m 11s\n",
      "Stopped by overfitting detector  (10 iterations wait)\n",
      "\n",
      "bestTest = 0.8463250373\n",
      "bestIteration = 175\n",
      "\n",
      "Shrink model to first 176 iterations.\n",
      "********** 4 **********\n",
      "0:\ttest: 0.7446715\ttest1: 0.7272247\tbest: 0.7272247 (0)\ttotal: 590ms\tremaining: 9m 48s\n",
      "100:\ttest: 0.8542197\ttest1: 0.8340390\tbest: 0.8340390 (100)\ttotal: 1m\tremaining: 9m 2s\n",
      "Stopped by overfitting detector  (10 iterations wait)\n",
      "\n",
      "bestTest = 0.8372785477\n",
      "bestIteration = 183\n",
      "\n",
      "Shrink model to first 184 iterations.\n",
      "*********************\n",
      "roc auc estimado:  0.8447167536661714\n",
      "roc auc varianza:  0.0009187493020085113\n"
     ]
    }
   ],
   "source": [
    "from catboost import CatBoostClassifier\n",
    "from sklearn.metrics import roc_auc_score\n",
    "from sklearn.model_selection import KFold\n",
    "import numpy as np\n",
    "folds = [train.index[t] for t, v in KFold(5).split(train)]\n",
    "test_probs = []\n",
    "train_probs = []\n",
    "fi = []\n",
    "for i, idx in enumerate(folds):\n",
    "    print(\"*\"*10, i, \"*\"*10)\n",
    "    Xt = train.loc[idx]\n",
    "    yt = y_train.loc[Xt.index]\n",
    "\n",
    "    Xv = train.drop(Xt.index)\n",
    "    yv = y_train.loc[Xv.index]\n",
    "\n",
    "    learner = CatBoostClassifier(boosting_type = 'Plain', n_estimators=1000, eval_metric = 'AUC',\n",
    "                   colsample_bylevel=1, subsample=1, learning_rate=0.3, max_bin=100)\n",
    "    \n",
    "    learner.fit(Xt, yt,  early_stopping_rounds=10, \n",
    "                eval_set=[(Xt, yt), (Xv, yv)], verbose=100)\n",
    "    test_probs.append(pd.Series(learner.predict_proba(test)[:, -1], index=test.index, name=\"fold_\" + str(i)))\n",
    "    train_probs.append(pd.Series(learner.predict_proba(Xv)[:, -1], index=Xv.index, name=\"probs\"))\n",
    "    fi.append(pd.Series(learner.feature_importances_ / learner.feature_importances_.sum(), index=Xt.columns))\n",
    "\n",
    "test_probs = pd.concat(test_probs, axis=1).mean(axis=1)\n",
    "train_probs = pd.concat(train_probs)\n",
    "fi = pd.concat(fi, axis=1).mean(axis=1)\n",
    "print(\"*\" * 21)\n",
    "print(\"roc auc estimado: \", roc_auc_score(y_train, train_probs.loc[y_train.index]))\n",
    "print(\"roc auc varianza: \", np.std([roc_auc_score(y_train.loc[folds[i]], train_probs.iloc[folds[i]]) for i in range(len(folds))]))  "
   ]
  },
  {
   "cell_type": "code",
   "execution_count": 13,
   "id": "improved-polymer",
   "metadata": {
    "scrolled": true
   },
   "outputs": [
    {
     "data": {
      "text/plain": [
       "COD_CLASIFICACION_DEUDOR_5_saldoMax_ult1meses        0.138789\n",
       "COD_CLASIFICACION_DEUDOR_5_saldoUnique_ult1meses     0.044160\n",
       "PRODUCTO_min_ult1mes                                 0.023403\n",
       "cod_instit_financiera_max_ult1mes                    0.022029\n",
       "tip_lvledu                                           0.018801\n",
       "COD_CLASIFICACION_DEUDOR_5_saldoUnique_ult8meses     0.016866\n",
       "RIESGO_DIRECTO_1_saldoUnique_ult1meses               0.016830\n",
       "tipo_credito_11_saldoStd_ult10meses                  0.016747\n",
       "RIESGO_DIRECTO_1_saldoSum_ult1meses                  0.016031\n",
       "RIESGO_DIRECTO_-1_saldoUnique_ult12meses             0.014855\n",
       "edad                                                 0.014110\n",
       "RIESGO_DIRECTO_2_saldoSum_ult2meses                  0.013970\n",
       "COD_CLASIFICACION_DEUDOR_1_saldoStd_ult4meses        0.012192\n",
       "condicion_0_saldoSum_ult2meses                       0.011273\n",
       "sexo                                                 0.011264\n",
       "flg_sin_email                                        0.011114\n",
       "cod_instit_financiera_nunique_ult1mes                0.009632\n",
       "cod_instit_financiera_min_ult3mes                    0.009368\n",
       "cod_instit_financiera_mode_ult1mes                   0.009157\n",
       "RIESGO_DIRECTO_2_saldoMax_ult1meses                  0.008811\n",
       "RIESGO_DIRECTO_1_saldoMin_ult1meses                  0.008306\n",
       "COD_CLASIFICACION_DEUDOR_3_saldoMax_ult4meses        0.007868\n",
       "condicion_0_saldoUnique_ult12meses                   0.007750\n",
       "COD_CLASIFICACION_DEUDOR_0_saldoUnique_ult12meses    0.007415\n",
       "cod_instit_financiera_min_ult1mes                    0.007384\n",
       "sit_lab                                              0.006928\n",
       "RIESGO_DIRECTO_-1_saldoSum_ult1meses                 0.006866\n",
       "tipo_credito_11_saldoStd_ult4meses                   0.006469\n",
       "RIESGO_DIRECTO_1_saldoStd_ult8meses                  0.006350\n",
       "COD_CLASIFICACION_DEUDOR_1_saldoSum_ult2meses        0.006314\n",
       "RIESGO_DIRECTO_1_saldoMax_ult1meses                  0.006301\n",
       "cod_instit_financiera_max_ult12mes                   0.006210\n",
       "COD_CLASIFICACION_DEUDOR_0_saldoUnique_ult10meses    0.005878\n",
       "condicion_1_saldoUnique_ult2meses                    0.005803\n",
       "tipo_credito_11_saldoStd_ult1meses                   0.005661\n",
       "tipo_credito_11_saldoUnique_ult1meses                0.005461\n",
       "RIESGO_DIRECTO_-1_saldoSum_ult2meses                 0.005207\n",
       "COD_CLASIFICACION_DEUDOR_5_saldoSum_ult2meses        0.005114\n",
       "cod_ubi                                              0.005029\n",
       "ctd_veh                                              0.004568\n",
       "RIESGO_DIRECTO_1_saldoMax_ult12meses                 0.004392\n",
       "rgn                                                  0.004295\n",
       "COD_CLASIFICACION_DEUDOR_4_saldoMin_ult1meses        0.003882\n",
       "tipo_credito_12_saldoUnique_ult1meses                0.003870\n",
       "RIESGO_DIRECTO_1_saldoUnique_ult12meses              0.003750\n",
       "tipo_credito_12_saldoMin_ult2meses                   0.003613\n",
       "cod_instit_financiera_max_ult2mes                    0.003595\n",
       "cod_instit_financiera_max_ult3mes                    0.003582\n",
       "PRODUCTO_nunique_ult1mes                             0.003516\n",
       "PRODUCTO_mode_ult1mes                                0.003460\n",
       "dtype: float64"
      ]
     },
     "execution_count": 13,
     "metadata": {},
     "output_type": "execute_result"
    }
   ],
   "source": [
    "fi.sort_values(ascending=False).head(50)"
   ]
  },
  {
   "cell_type": "code",
   "execution_count": 14,
   "id": "configured-forge",
   "metadata": {},
   "outputs": [],
   "source": [
    "fi.to_pickle('fi_catboost.pkl')"
   ]
  },
  {
   "cell_type": "code",
   "execution_count": 18,
   "id": "coupled-withdrawal",
   "metadata": {},
   "outputs": [],
   "source": [
    "train_probs_catboost = train_probs\n",
    "test_probs_catboost = test_probs\n",
    "train_probs_catboost.to_pickle('train_probs_catboost.pkl')\n",
    "test_probs_catboost.to_pickle('test_probs_catboost.pkl')"
   ]
  },
  {
   "cell_type": "markdown",
   "id": "outside-diana",
   "metadata": {},
   "source": [
    "## Entrenando XGB con hiperparámetros"
   ]
  },
  {
   "cell_type": "code",
   "execution_count": 19,
   "id": "incorporated-geography",
   "metadata": {
    "scrolled": true
   },
   "outputs": [
    {
     "name": "stdout",
     "output_type": "stream",
     "text": [
      "********** 0 **********\n"
     ]
    },
    {
     "name": "stderr",
     "output_type": "stream",
     "text": [
      "C:\\Users\\usuario\\anaconda3\\envs\\venv_datathon\\lib\\site-packages\\xgboost\\sklearn.py:888: UserWarning: The use of label encoder in XGBClassifier is deprecated and will be removed in a future release. To remove this warning, do the following: 1) Pass option use_label_encoder=False when constructing XGBClassifier object; and 2) Encode your labels (y) as integers starting with 0, i.e. 0, 1, 2, ..., [num_class - 1].\n",
      "  warnings.warn(label_encoder_deprecation_msg, UserWarning)\n"
     ]
    },
    {
     "name": "stdout",
     "output_type": "stream",
     "text": [
      "[0]\tvalidation_0-auc:0.70910\tvalidation_1-auc:0.71478\n",
      "[100]\tvalidation_0-auc:0.83988\tvalidation_1-auc:0.83333\n",
      "[200]\tvalidation_0-auc:0.85400\tvalidation_1-auc:0.84200\n",
      "[300]\tvalidation_0-auc:0.86247\tvalidation_1-auc:0.84532\n",
      "[400]\tvalidation_0-auc:0.86862\tvalidation_1-auc:0.84703\n",
      "[500]\tvalidation_0-auc:0.87390\tvalidation_1-auc:0.84799\n",
      "[515]\tvalidation_0-auc:0.87467\tvalidation_1-auc:0.84811\n",
      "********** 1 **********\n",
      "[0]\tvalidation_0-auc:0.71056\tvalidation_1-auc:0.70933\n",
      "[100]\tvalidation_0-auc:0.84033\tvalidation_1-auc:0.83451\n",
      "[200]\tvalidation_0-auc:0.85384\tvalidation_1-auc:0.84264\n",
      "[300]\tvalidation_0-auc:0.86250\tvalidation_1-auc:0.84607\n",
      "[400]\tvalidation_0-auc:0.86864\tvalidation_1-auc:0.84744\n",
      "[423]\tvalidation_0-auc:0.86987\tvalidation_1-auc:0.84756\n",
      "********** 2 **********\n",
      "[0]\tvalidation_0-auc:0.70971\tvalidation_1-auc:0.71261\n",
      "[100]\tvalidation_0-auc:0.84015\tvalidation_1-auc:0.83648\n",
      "[200]\tvalidation_0-auc:0.85380\tvalidation_1-auc:0.84496\n",
      "[300]\tvalidation_0-auc:0.86167\tvalidation_1-auc:0.84789\n",
      "[400]\tvalidation_0-auc:0.86829\tvalidation_1-auc:0.84936\n",
      "[500]\tvalidation_0-auc:0.87384\tvalidation_1-auc:0.85025\n",
      "[508]\tvalidation_0-auc:0.87428\tvalidation_1-auc:0.85027\n",
      "********** 3 **********\n",
      "[0]\tvalidation_0-auc:0.70932\tvalidation_1-auc:0.71357\n",
      "[100]\tvalidation_0-auc:0.84001\tvalidation_1-auc:0.83582\n",
      "[200]\tvalidation_0-auc:0.85381\tvalidation_1-auc:0.84447\n",
      "[300]\tvalidation_0-auc:0.86193\tvalidation_1-auc:0.84744\n",
      "[400]\tvalidation_0-auc:0.86804\tvalidation_1-auc:0.84911\n",
      "[500]\tvalidation_0-auc:0.87375\tvalidation_1-auc:0.85030\n",
      "[600]\tvalidation_0-auc:0.87861\tvalidation_1-auc:0.85105\n",
      "[612]\tvalidation_0-auc:0.87913\tvalidation_1-auc:0.85108\n",
      "********** 4 **********\n",
      "[0]\tvalidation_0-auc:0.71298\tvalidation_1-auc:0.69962\n",
      "[100]\tvalidation_0-auc:0.84234\tvalidation_1-auc:0.82759\n",
      "[200]\tvalidation_0-auc:0.85621\tvalidation_1-auc:0.83566\n",
      "[300]\tvalidation_0-auc:0.86438\tvalidation_1-auc:0.83852\n",
      "[400]\tvalidation_0-auc:0.87055\tvalidation_1-auc:0.83997\n",
      "[456]\tvalidation_0-auc:0.87351\tvalidation_1-auc:0.84031\n",
      "*********************\n",
      "roc auc estimado:  0.8475369694719119\n",
      "roc auc varianza:  0.0009339827374461575\n"
     ]
    }
   ],
   "source": [
    "from xgboost  import XGBClassifier\n",
    "from sklearn.metrics import roc_auc_score\n",
    "from sklearn.model_selection import KFold\n",
    "import numpy as np\n",
    "folds = [train.index[t] for t, v in KFold(5).split(train)]\n",
    "test_probs = []\n",
    "train_probs = []\n",
    "fi = []\n",
    "for i, idx in enumerate(folds):\n",
    "    print(\"*\"*10, i, \"*\"*10)\n",
    "    Xt = train.loc[idx]\n",
    "    yt = y_train.loc[Xt.index].target\n",
    "\n",
    "    Xv = train.drop(Xt.index)\n",
    "    yv = y_train.loc[Xv.index].target\n",
    "\n",
    "    learner = XGBClassifier(n_estimators=1000, booster='gbtree', colsample_bytree=0.8, \n",
    "                            max_depth=4,  learning_rate=0.1)\n",
    "    learner.fit(Xt, yt,  early_stopping_rounds=10, eval_metric=\"auc\",\n",
    "                eval_set=[(Xt, yt), (Xv, yv)], verbose=100)\n",
    "    test_probs.append(pd.Series(learner.predict_proba(test)[:, -1], index=test.index, name=\"fold_\" + str(i)))\n",
    "    train_probs.append(pd.Series(learner.predict_proba(Xv)[:, -1], index=Xv.index, name=\"probs\"))\n",
    "    fi.append(pd.Series(learner.feature_importances_ / learner.feature_importances_.sum(), index=Xt.columns))\n",
    "\n",
    "test_probs = pd.concat(test_probs, axis=1).mean(axis=1)\n",
    "train_probs = pd.concat(train_probs)\n",
    "fi = pd.concat(fi, axis=1).mean(axis=1)\n",
    "print(\"*\" * 21)\n",
    "print(\"roc auc estimado: \", roc_auc_score(y_train, train_probs.loc[y_train.index]))\n",
    "print(\"roc auc varianza: \", np.std([roc_auc_score(y_train.loc[folds[i]], train_probs.iloc[folds[i]]) for i in range(len(folds))]))  "
   ]
  },
  {
   "cell_type": "code",
   "execution_count": 20,
   "id": "creative-teaching",
   "metadata": {
    "scrolled": true
   },
   "outputs": [
    {
     "data": {
      "text/plain": [
       "COD_CLASIFICACION_DEUDOR_5_saldoMin_ult1meses        0.130075\n",
       "RIESGO_DIRECTO_2_saldoMin_ult2meses                  0.060300\n",
       "COD_CLASIFICACION_DEUDOR_1_saldoStd_ult2meses        0.030036\n",
       "COD_CLASIFICACION_DEUDOR_3_saldoMax_ult4meses        0.027027\n",
       "COD_CLASIFICACION_DEUDOR_1_saldoStd_ult4meses        0.026209\n",
       "COD_CLASIFICACION_DEUDOR_1_saldoStd_ult1meses        0.026133\n",
       "RIESGO_DIRECTO_2_saldoMax_ult2meses                  0.021452\n",
       "RIESGO_DIRECTO_2_saldoMax_ult1meses                  0.018446\n",
       "COD_CLASIFICACION_DEUDOR_3_saldoStd_ult4meses        0.017593\n",
       "COD_CLASIFICACION_DEUDOR_1_saldoStd_ult5meses        0.014395\n",
       "RIESGO_DIRECTO_2_saldoMax_ult3meses                  0.013723\n",
       "condicion_1_saldoMax_ult2meses                       0.013646\n",
       "RIESGO_DIRECTO_2_saldoMin_ult1meses                  0.013022\n",
       "COD_CLASIFICACION_DEUDOR_1_saldoStd_ult3meses        0.010389\n",
       "PRODUCTO_min_ult1mes                                 0.009009\n",
       "COD_CLASIFICACION_DEUDOR_5_saldoMax_ult1meses        0.007986\n",
       "tipo_credito_11_saldoUnique_ult12meses               0.007479\n",
       "COD_CLASIFICACION_DEUDOR_1_saldoStd_ult7meses        0.005902\n",
       "condicion_1_saldoMax_ult5meses                       0.005757\n",
       "tipo_credito_12_saldoSum_ult1meses                   0.005629\n",
       "COD_CLASIFICACION_DEUDOR_0_saldoSum_ult1meses        0.004818\n",
       "COD_CLASIFICACION_DEUDOR_1_saldoUnique_ult2meses     0.004691\n",
       "COD_CLASIFICACION_DEUDOR_1_saldoUnique_ult4meses     0.004416\n",
       "condicion_1_saldoMax_ult1meses                       0.004226\n",
       "COD_CLASIFICACION_DEUDOR_1_saldoStd_ult6meses        0.004176\n",
       "tipo_credito_11_saldoUnique_ult11meses               0.004126\n",
       "COD_CLASIFICACION_DEUDOR_1_saldoMin_ult1meses        0.004112\n",
       "COD_CLASIFICACION_DEUDOR_0_saldoStd_ult1meses        0.003920\n",
       "cod_instit_financiera_max_ult1mes                    0.003697\n",
       "RIESGO_DIRECTO_1_saldoSum_ult1meses                  0.003637\n",
       "cod_instit_financiera_nunique_ult1mes                0.003583\n",
       "PRODUCTO_min_ult7mes                                 0.003476\n",
       "cod_instit_financiera_max_ult2mes                    0.003412\n",
       "RIESGO_DIRECTO_2_saldoMax_ult5meses                  0.003368\n",
       "cod_instit_financiera_max_ult3mes                    0.003140\n",
       "RIESGO_DIRECTO_-1_saldoUnique_ult2meses              0.003088\n",
       "COD_CLASIFICACION_DEUDOR_0_saldoSum_ult12meses       0.003031\n",
       "condicion_2_saldoMax_ult3meses                       0.003027\n",
       "condicion_0_saldoSum_ult1meses                       0.002987\n",
       "COD_CLASIFICACION_DEUDOR_5_saldoUnique_ult1meses     0.002919\n",
       "COD_CLASIFICACION_DEUDOR_0_saldoUnique_ult12meses    0.002832\n",
       "tipo_credito_11_saldoSum_ult1meses                   0.002796\n",
       "condicion_3_saldoMax_ult11meses                      0.002614\n",
       "tip_lvledu                                           0.002578\n",
       "condicion_1_saldoMax_ult6meses                       0.002555\n",
       "RIESGO_DIRECTO_1_saldoStd_ult1meses                  0.002538\n",
       "cod_instit_financiera_mode_ult1mes                   0.002432\n",
       "flg_sin_email                                        0.002369\n",
       "PRODUCTO_nunique_ult1mes                             0.002330\n",
       "cod_instit_financiera_nunique_ult2mes                0.002284\n",
       "dtype: float32"
      ]
     },
     "execution_count": 20,
     "metadata": {},
     "output_type": "execute_result"
    }
   ],
   "source": [
    "fi.sort_values(ascending=False).head(50)"
   ]
  },
  {
   "cell_type": "code",
   "execution_count": 21,
   "id": "vanilla-islam",
   "metadata": {},
   "outputs": [],
   "source": [
    "fi.to_pickle('fi_xgb.pkl')"
   ]
  },
  {
   "cell_type": "code",
   "execution_count": 22,
   "id": "universal-howard",
   "metadata": {},
   "outputs": [],
   "source": [
    "train_probs_xgb = train_probs\n",
    "test_probs_xgb = test_probs\n",
    "train_probs_xgb.to_pickle('train_probs_xgb.pkl')\n",
    "test_probs_xgb.to_pickle('test_probs_xgb.pkl')"
   ]
  },
  {
   "cell_type": "markdown",
   "id": "union-sister",
   "metadata": {},
   "source": [
    "## LGBM con Categorical_Feature con hiperparámetros"
   ]
  },
  {
   "cell_type": "code",
   "execution_count": 23,
   "id": "radical-covering",
   "metadata": {},
   "outputs": [],
   "source": [
    "# sexo, est_cvl, sit_lab, cod_ocu, flg_sin_email, cod_ubi, lgr_vot, prv, dto, rgn, tip_lvledu\n",
    "var_mode = [(n,i) for n,i in enumerate(train.columns) if 'mode' in i]\n",
    "categorical_feature_index = []\n",
    "for n,i in var_mode:\n",
    "    train[i] = train[i].astype('category')\n",
    "    test[i] = test[i].astype('category')\n",
    "    categorical_feature_index.append(str(n))\n",
    "categorical_feature_values = [ i for n,i in var_mode]"
   ]
  },
  {
   "cell_type": "code",
   "execution_count": 27,
   "id": "executive-necklace",
   "metadata": {},
   "outputs": [],
   "source": [
    "fit_params={'categorical_feature': [12,17,21,22,51,52,81,103,104,110,111,112,114,118,131,138,155,162,177,183,187,190,191,205,206,225,256,259,271,276,322,424,431,556,640,667]}"
   ]
  },
  {
   "cell_type": "code",
   "execution_count": 28,
   "id": "victorian-technical",
   "metadata": {
    "scrolled": true
   },
   "outputs": [
    {
     "name": "stdout",
     "output_type": "stream",
     "text": [
      "********** 0 **********\n"
     ]
    },
    {
     "name": "stderr",
     "output_type": "stream",
     "text": [
      "C:\\Users\\usuario\\anaconda3\\envs\\venv_datathon\\lib\\site-packages\\lightgbm\\basic.py:1551: UserWarning: Using categorical_feature in Dataset.\n",
      "  warnings.warn('Using categorical_feature in Dataset.')\n",
      "C:\\Users\\usuario\\anaconda3\\envs\\venv_datathon\\lib\\site-packages\\lightgbm\\basic.py:1554: UserWarning: categorical_feature in Dataset is overridden.\n",
      "New categorical_feature is [12, 17, 21, 22, 51, 52, 81, 103, 104, 110, 111, 112, 114, 118, 131, 138, 155, 162, 177, 183, 187, 190, 191, 205, 206, 225, 256, 259, 271, 276, 322, 424, 431, 556, 640, 667]\n",
      "  warnings.warn('categorical_feature in Dataset is overridden.\\n'\n",
      "C:\\Users\\usuario\\anaconda3\\envs\\venv_datathon\\lib\\site-packages\\lightgbm\\basic.py:1286: UserWarning: Overriding the parameters from Reference Dataset.\n",
      "  warnings.warn('Overriding the parameters from Reference Dataset.')\n",
      "C:\\Users\\usuario\\anaconda3\\envs\\venv_datathon\\lib\\site-packages\\lightgbm\\basic.py:1098: UserWarning: categorical_column in param dict is overridden.\n",
      "  warnings.warn('{} in param dict is overridden.'.format(cat_alias))\n"
     ]
    },
    {
     "name": "stdout",
     "output_type": "stream",
     "text": [
      "Training until validation scores don't improve for 10 rounds\n",
      "[50]\ttraining's auc: 0.853477\ttraining's binary_logloss: 0.297621\tvalid_1's auc: 0.836725\tvalid_1's binary_logloss: 0.30829\n",
      "[100]\ttraining's auc: 0.869632\ttraining's binary_logloss: 0.284075\tvalid_1's auc: 0.844094\tvalid_1's binary_logloss: 0.302089\n",
      "[150]\ttraining's auc: 0.880325\ttraining's binary_logloss: 0.275463\tvalid_1's auc: 0.846766\tvalid_1's binary_logloss: 0.299963\n",
      "[200]\ttraining's auc: 0.888033\ttraining's binary_logloss: 0.26899\tvalid_1's auc: 0.847938\tvalid_1's binary_logloss: 0.299002\n",
      "Early stopping, best iteration is:\n",
      "[210]\ttraining's auc: 0.889386\ttraining's binary_logloss: 0.267823\tvalid_1's auc: 0.848063\tvalid_1's binary_logloss: 0.298908\n",
      "********** 1 **********\n",
      "Training until validation scores don't improve for 10 rounds\n",
      "[50]\ttraining's auc: 0.853501\ttraining's binary_logloss: 0.297731\tvalid_1's auc: 0.836174\tvalid_1's binary_logloss: 0.308431\n",
      "[100]\ttraining's auc: 0.869463\ttraining's binary_logloss: 0.284265\tvalid_1's auc: 0.844213\tvalid_1's binary_logloss: 0.301941\n",
      "[150]\ttraining's auc: 0.879796\ttraining's binary_logloss: 0.275812\tvalid_1's auc: 0.846893\tvalid_1's binary_logloss: 0.299809\n",
      "[200]\ttraining's auc: 0.887891\ttraining's binary_logloss: 0.26906\tvalid_1's auc: 0.847679\tvalid_1's binary_logloss: 0.299126\n",
      "Early stopping, best iteration is:\n",
      "[236]\ttraining's auc: 0.892599\ttraining's binary_logloss: 0.264972\tvalid_1's auc: 0.848179\tvalid_1's binary_logloss: 0.298721\n",
      "********** 2 **********\n",
      "Training until validation scores don't improve for 10 rounds\n",
      "[50]\ttraining's auc: 0.85249\ttraining's binary_logloss: 0.298366\tvalid_1's auc: 0.839581\tvalid_1's binary_logloss: 0.306082\n",
      "[100]\ttraining's auc: 0.869452\ttraining's binary_logloss: 0.284667\tvalid_1's auc: 0.846826\tvalid_1's binary_logloss: 0.299449\n",
      "[150]\ttraining's auc: 0.879432\ttraining's binary_logloss: 0.276455\tvalid_1's auc: 0.84936\tvalid_1's binary_logloss: 0.297224\n",
      "[200]\ttraining's auc: 0.887005\ttraining's binary_logloss: 0.270091\tvalid_1's auc: 0.850373\tvalid_1's binary_logloss: 0.296177\n",
      "[250]\ttraining's auc: 0.893621\ttraining's binary_logloss: 0.264565\tvalid_1's auc: 0.850734\tvalid_1's binary_logloss: 0.295785\n",
      "Early stopping, best iteration is:\n",
      "[286]\ttraining's auc: 0.897868\ttraining's binary_logloss: 0.260872\tvalid_1's auc: 0.850941\tvalid_1's binary_logloss: 0.29562\n",
      "********** 3 **********\n",
      "Training until validation scores don't improve for 10 rounds\n",
      "[50]\ttraining's auc: 0.853387\ttraining's binary_logloss: 0.298066\tvalid_1's auc: 0.838037\tvalid_1's binary_logloss: 0.306656\n",
      "[100]\ttraining's auc: 0.869853\ttraining's binary_logloss: 0.284422\tvalid_1's auc: 0.846063\tvalid_1's binary_logloss: 0.299902\n",
      "[150]\ttraining's auc: 0.880242\ttraining's binary_logloss: 0.275951\tvalid_1's auc: 0.848595\tvalid_1's binary_logloss: 0.297647\n",
      "[200]\ttraining's auc: 0.887887\ttraining's binary_logloss: 0.269399\tvalid_1's auc: 0.849661\tvalid_1's binary_logloss: 0.296683\n",
      "Early stopping, best iteration is:\n",
      "[201]\ttraining's auc: 0.888041\ttraining's binary_logloss: 0.269281\tvalid_1's auc: 0.849678\tvalid_1's binary_logloss: 0.296676\n",
      "********** 4 **********\n",
      "Training until validation scores don't improve for 10 rounds\n",
      "[50]\ttraining's auc: 0.854515\ttraining's binary_logloss: 0.297679\tvalid_1's auc: 0.831923\tvalid_1's binary_logloss: 0.308202\n",
      "[100]\ttraining's auc: 0.871336\ttraining's binary_logloss: 0.283669\tvalid_1's auc: 0.838599\tvalid_1's binary_logloss: 0.302451\n",
      "[150]\ttraining's auc: 0.881776\ttraining's binary_logloss: 0.275022\tvalid_1's auc: 0.840687\tvalid_1's binary_logloss: 0.300765\n",
      "[200]\ttraining's auc: 0.889678\ttraining's binary_logloss: 0.268353\tvalid_1's auc: 0.841575\tvalid_1's binary_logloss: 0.299905\n",
      "[250]\ttraining's auc: 0.896682\ttraining's binary_logloss: 0.262441\tvalid_1's auc: 0.84203\tvalid_1's binary_logloss: 0.29951\n",
      "Early stopping, best iteration is:\n",
      "[241]\ttraining's auc: 0.895593\ttraining's binary_logloss: 0.263404\tvalid_1's auc: 0.842121\tvalid_1's binary_logloss: 0.299489\n",
      "*********************\n",
      "roc auc estimado:  0.847826143829095\n",
      "roc auc varianza:  0.0007399372032538224\n"
     ]
    }
   ],
   "source": [
    "from lightgbm import LGBMClassifier\n",
    "from sklearn.metrics import roc_auc_score\n",
    "from sklearn.model_selection import KFold\n",
    "import numpy as np\n",
    "folds = [train.index[t] for t, v in KFold(5).split(train)]\n",
    "test_probs = []\n",
    "train_probs = []\n",
    "fi = []\n",
    "for i, idx in enumerate(folds):\n",
    "    print(\"*\"*10, i, \"*\"*10)\n",
    "    Xt = train.loc[idx]\n",
    "    yt = y_train.loc[Xt.index].target\n",
    "\n",
    "    Xv = train.drop(Xt.index)\n",
    "    yv = y_train.loc[Xv.index].target\n",
    "\n",
    "    learner = LGBMClassifier(n_estimators=1000, boosting_type='gbdt',min_child_samples=1500, \n",
    "                             colsample_bytree=0.8,subsample=0.8, max_bin=200, learning_rate=0.1)\n",
    "    learner.fit(Xt, yt,  early_stopping_rounds=10, eval_metric=\"auc\",\n",
    "                eval_set=[(Xt, yt), (Xv, yv)], verbose=50, **fit_params)\n",
    "    test_probs.append(pd.Series(learner.predict_proba(test)[:, -1], index=test.index, name=\"fold_\" + str(i)))\n",
    "    train_probs.append(pd.Series(learner.predict_proba(Xv)[:, -1], index=Xv.index, name=\"probs\"))\n",
    "    fi.append(pd.Series(learner.feature_importances_ / learner.feature_importances_.sum(), index=Xt.columns))\n",
    "\n",
    "test_probs = pd.concat(test_probs, axis=1).mean(axis=1)\n",
    "train_probs = pd.concat(train_probs)\n",
    "fi = pd.concat(fi, axis=1).mean(axis=1)\n",
    "print(\"*\" * 21)\n",
    "print(\"roc auc estimado: \", roc_auc_score(y_train, train_probs.loc[y_train.index]))\n",
    "print(\"roc auc varianza: \", np.std([roc_auc_score(y_train.loc[folds[i]], train_probs.iloc[folds[i]]) for i in range(len(folds))]))  "
   ]
  },
  {
   "cell_type": "code",
   "execution_count": 29,
   "id": "liquid-convergence",
   "metadata": {
    "scrolled": true
   },
   "outputs": [
    {
     "data": {
      "text/plain": [
       "ciiu_mode                                            0.112958\n",
       "cod_instit_financiera_mode_ult1mes                   0.050730\n",
       "ubigeo_mode                                          0.037288\n",
       "cod_instit_financiera_mode_ult12mes                  0.032075\n",
       "cod_instit_financiera_mode_ult2mes                   0.027025\n",
       "cod_instit_financiera_mode_ult3mes                   0.021617\n",
       "cod_instit_financiera_mode_ult11mes                  0.018585\n",
       "cod_instit_financiera_mode_ult4mes                   0.015752\n",
       "cod_instit_financiera_mode_ult10mes                  0.014696\n",
       "cod_instit_financiera_mode_ult5mes                   0.014557\n",
       "RIESGO_DIRECTO_1_saldoUnique_ult1meses               0.013681\n",
       "cod_instit_financiera_mode_ult9mes                   0.013189\n",
       "cod_instit_financiera_mode_ult6mes                   0.013002\n",
       "cod_instit_financiera_mode_ult7mes                   0.012566\n",
       "cod_instit_financiera_mode_ult8mes                   0.012189\n",
       "edad                                                 0.009233\n",
       "COD_CLASIFICACION_DEUDOR_0_saldoUnique_ult12meses    0.008729\n",
       "tip_lvledu                                           0.008606\n",
       "RIESGO_DIRECTO_-1_saldoSum_ult1meses                 0.008387\n",
       "RIESGO_DIRECTO_-1_saldoUnique_ult12meses             0.007778\n",
       "codzona_mode                                         0.007546\n",
       "RIESGO_DIRECTO_1_saldoMin_ult1meses                  0.007349\n",
       "sit_lab                                              0.007213\n",
       "RIESGO_DIRECTO_1_saldoStd_ult1meses                  0.006904\n",
       "PRODUCTO_mode_ult1mes                                0.006321\n",
       "flg_sin_email                                        0.005915\n",
       "condicion_0_saldoUnique_ult12meses                   0.005742\n",
       "RIESGO_DIRECTO_1_saldoMax_ult12meses                 0.005339\n",
       "sexo                                                 0.005323\n",
       "RIESGO_DIRECTO_1_saldoMax_ult1meses                  0.005214\n",
       "tipo_credito_11_saldoSum_ult1meses                   0.004927\n",
       "cod_ubi                                              0.004484\n",
       "estadocontribuyente_mode                             0.004316\n",
       "tipo_credito_11_saldoUnique_ult12meses               0.004199\n",
       "tipo_credito_11_saldoStd_ult1meses                   0.004178\n",
       "RIESGO_DIRECTO_1_saldoUnique_ult12meses              0.004141\n",
       "PRODUCTO_mode_ult4mes                                0.003970\n",
       "prv                                                  0.003961\n",
       "PRODUCTO_mode_ult2mes                                0.003942\n",
       "COD_CLASIFICACION_DEUDOR_5_saldoMax_ult1meses        0.003847\n",
       "cod_instit_financiera_max_ult1mes                    0.003603\n",
       "PRODUCTO_mode_ult12mes                               0.003579\n",
       "PRODUCTO_mode_ult5mes                                0.003533\n",
       "tipo_credito_12_saldoMin_ult1meses                   0.003495\n",
       "tipo_credito_11_saldoMin_ult1meses                   0.003439\n",
       "cod_ocu                                              0.003329\n",
       "RIESGO_DIRECTO_1_saldoMin_ult2meses                  0.003239\n",
       "RIESGO_DIRECTO_1_saldoSum_ult1meses                  0.003226\n",
       "RIESGO_DIRECTO_1_saldoUnique_ult2meses               0.003212\n",
       "RIESGO_DIRECTO_-1_saldoSum_ult2meses                 0.003195\n",
       "dtype: float64"
      ]
     },
     "execution_count": 29,
     "metadata": {},
     "output_type": "execute_result"
    }
   ],
   "source": [
    "fi.sort_values(ascending=False).head(50)"
   ]
  },
  {
   "cell_type": "code",
   "execution_count": 30,
   "id": "artificial-kinase",
   "metadata": {},
   "outputs": [],
   "source": [
    "fi.to_pickle('fi_lightgbm_cf.pkl')"
   ]
  },
  {
   "cell_type": "code",
   "execution_count": 31,
   "id": "sporting-inspection",
   "metadata": {},
   "outputs": [],
   "source": [
    "train_probs_lightgbm_cf = train_probs\n",
    "test_probs_lightgbm_cf= test_probs\n",
    "train_probs_lightgbm_cf.to_pickle('train_probs_lightgbm_cf.pkl')\n",
    "test_probs_lightgbm_cf.to_pickle('test_probs_lightgbm_cf.pkl')"
   ]
  }
 ],
 "metadata": {
  "kernelspec": {
   "display_name": "Python 3",
   "language": "python",
   "name": "python3"
  },
  "language_info": {
   "codemirror_mode": {
    "name": "ipython",
    "version": 3
   },
   "file_extension": ".py",
   "mimetype": "text/x-python",
   "name": "python",
   "nbconvert_exporter": "python",
   "pygments_lexer": "ipython3",
   "version": "3.8.5"
  }
 },
 "nbformat": 4,
 "nbformat_minor": 5
}
