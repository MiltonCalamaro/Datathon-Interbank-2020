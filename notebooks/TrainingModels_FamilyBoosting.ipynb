{
 "cells": [
  {
   "cell_type": "code",
   "execution_count": null,
   "id": "authorized-ivory",
   "metadata": {},
   "outputs": [],
   "source": [
    "# train = pd.read_pickle('../data/train_features1482_score_0.85605.pkl') \n",
    "# test = pd.read_pickle('../data/test_features1482_score_0.85605.pkl')\n",
    "\n",
    "# train = pd.read_pickle('../data/train_features1320_score_0.85577.pkl') \n",
    "# test = pd.read_pickle('../data/test_features1320_score_0.85577.pkl')\n",
    "\n",
    "# train = pd.read_pickle('../data/train_features1320_score_0.85577.pkl') \n",
    "# test = pd.read_pickle('../data/test_features1320_score_0.85577.pkl')\n",
    "\n",
    "# train = pd.read_pickle('../data/train_features680_score_0.85558.pkl') \n",
    "# test = pd.read_pickle('../data/test_features680_score_0.85558.pkl') \n",
    "\n",
    "# train = pd.read_pickle('../data/train_features397_score_0.85487.pkl') \n",
    "# test = pd.read_pickle('../data/test_features397_score_0.85487.pkl') "
   ]
  },
  {
   "cell_type": "code",
   "execution_count": 1,
   "id": "corresponding-diesel",
   "metadata": {},
   "outputs": [],
   "source": [
    "import pandas as pd\n",
    "import numpy as np\n",
    "import matplotlib.pyplot as plt"
   ]
  },
  {
   "cell_type": "code",
   "execution_count": 2,
   "id": "absolute-fitting",
   "metadata": {},
   "outputs": [],
   "source": [
    "path = '../data'\n",
    "y_train = pd.read_csv(f'{path}/y_train.csv', index_col = 'key_value')"
   ]
  },
  {
   "cell_type": "code",
   "execution_count": 3,
   "id": "balanced-shopping",
   "metadata": {},
   "outputs": [
    {
     "data": {
      "image/png": "[encoded data removed]",
      "text/plain": [
       "<Figure size 432x288 with 1 Axes>"
      ]
     },
     "metadata": {},
     "output_type": "display_data"
    }
   ],
   "source": [
    "y_train.value_counts().plot(kind='pie', autopct='%1.0f%%');"
   ]
  },
  {
   "cell_type": "markdown",
   "id": "equipped-subdivision",
   "metadata": {},
   "source": [
    "## Entrenando LGBM"
   ]
  },
  {
   "cell_type": "code",
   "execution_count": 4,
   "id": "portuguese-proposition",
   "metadata": {
    "scrolled": false
   },
   "outputs": [
    {
     "data": {
      "text/plain": [
       "((358487, 1628), (396666, 1628))"
      ]
     },
     "execution_count": 4,
     "metadata": {},
     "output_type": "execute_result"
    }
   ],
   "source": [
    "train = pd.read_pickle('../data/train_features1628_score_0.85642.pkl') \n",
    "test = pd.read_pickle('../data/test_features1628_score_0.85642.pkl')\n",
    "train.shape, test.shape"
   ]
  },
  {
   "cell_type": "code",
   "execution_count": 5,
   "id": "exciting-uncle",
   "metadata": {
    "scrolled": true
   },
   "outputs": [
    {
     "name": "stdout",
     "output_type": "stream",
     "text": [
      "********** 0 **********\n",
      "Training until validation scores don't improve for 10 rounds\n",
      "[100]\ttraining's auc: 0.865934\ttraining's binary_logloss: 0.284444\tvalid_1's auc: 0.851608\tvalid_1's binary_logloss: 0.296298\n",
      "Early stopping, best iteration is:\n",
      "[182]\ttraining's auc: 0.878261\ttraining's binary_logloss: 0.27438\tvalid_1's auc: 0.854401\tvalid_1's binary_logloss: 0.294017\n",
      "********** 1 **********\n",
      "Training until validation scores don't improve for 10 rounds\n",
      "[100]\ttraining's auc: 0.865794\ttraining's binary_logloss: 0.284727\tvalid_1's auc: 0.851538\tvalid_1's binary_logloss: 0.296237\n",
      "[200]\ttraining's auc: 0.880394\ttraining's binary_logloss: 0.27267\tvalid_1's auc: 0.854701\tvalid_1's binary_logloss: 0.293414\n",
      "Early stopping, best iteration is:\n",
      "[260]\ttraining's auc: 0.887218\ttraining's binary_logloss: 0.267118\tvalid_1's auc: 0.855368\tvalid_1's binary_logloss: 0.292908\n",
      "********** 2 **********\n",
      "Training until validation scores don't improve for 10 rounds\n",
      "[100]\ttraining's auc: 0.865825\ttraining's binary_logloss: 0.285029\tvalid_1's auc: 0.853978\tvalid_1's binary_logloss: 0.293482\n",
      "[200]\ttraining's auc: 0.880216\ttraining's binary_logloss: 0.273114\tvalid_1's auc: 0.856705\tvalid_1's binary_logloss: 0.290929\n",
      "Early stopping, best iteration is:\n",
      "[226]\ttraining's auc: 0.883229\ttraining's binary_logloss: 0.270687\tvalid_1's auc: 0.856928\tvalid_1's binary_logloss: 0.290722\n",
      "********** 3 **********\n",
      "Training until validation scores don't improve for 10 rounds\n",
      "[100]\ttraining's auc: 0.866066\ttraining's binary_logloss: 0.284922\tvalid_1's auc: 0.852288\tvalid_1's binary_logloss: 0.29465\n",
      "[200]\ttraining's auc: 0.880759\ttraining's binary_logloss: 0.272811\tvalid_1's auc: 0.855017\tvalid_1's binary_logloss: 0.291883\n",
      "Early stopping, best iteration is:\n",
      "[274]\ttraining's auc: 0.88911\ttraining's binary_logloss: 0.266014\tvalid_1's auc: 0.855552\tvalid_1's binary_logloss: 0.291385\n",
      "********** 4 **********\n",
      "Training until validation scores don't improve for 10 rounds\n",
      "[100]\ttraining's auc: 0.868228\ttraining's binary_logloss: 0.283699\tvalid_1's auc: 0.843208\tvalid_1's binary_logloss: 0.298629\n",
      "[200]\ttraining's auc: 0.882848\ttraining's binary_logloss: 0.27156\tvalid_1's auc: 0.845672\tvalid_1's binary_logloss: 0.296606\n",
      "Early stopping, best iteration is:\n",
      "[241]\ttraining's auc: 0.887585\ttraining's binary_logloss: 0.267656\tvalid_1's auc: 0.846202\tvalid_1's binary_logloss: 0.296187\n",
      "*********************\n",
      "roc auc estimado:  0.853743491016964\n",
      "roc auc varianza:  0.0009315890674282501\n"
     ]
    }
   ],
   "source": [
    "from lightgbm import LGBMClassifier\n",
    "from sklearn.metrics import roc_auc_score\n",
    "from sklearn.model_selection import KFold\n",
    "import numpy as np\n",
    "folds = [train.index[t] for t, v in KFold(5).split(train)]\n",
    "test_probs = []\n",
    "train_probs = []\n",
    "fi = []\n",
    "for i, idx in enumerate(folds):\n",
    "    print(\"*\"*10, i, \"*\"*10)\n",
    "    Xt = train.loc[idx]\n",
    "    yt = y_train.loc[Xt.index].target\n",
    "\n",
    "    Xv = train.drop(Xt.index)\n",
    "    yv = y_train.loc[Xv.index].target\n",
    "\n",
    "    learner = LGBMClassifier(n_estimators=1000, boosting_type='gbdt',min_child_samples=1500, colsample_bytree=0.8,\n",
    "                   subsample=0.8, max_bin=200, learning_rate=0.1, random_state=42)\n",
    "    \n",
    "    learner.fit(Xt, yt,  early_stopping_rounds=10, eval_metric=\"auc\",\n",
    "                eval_set=[(Xt, yt), (Xv, yv)], verbose=100)\n",
    "    test_probs.append(pd.Series(learner.predict_proba(test)[:, -1], index=test.index, name=\"fold_\" + str(i)))\n",
    "    train_probs.append(pd.Series(learner.predict_proba(Xv)[:, -1], index=Xv.index, name=\"probs\"))\n",
    "    fi.append(pd.Series(learner.feature_importances_ / learner.feature_importances_.sum(), index=Xt.columns))\n",
    "\n",
    "test_probs = pd.concat(test_probs, axis=1).mean(axis=1)\n",
    "train_probs = pd.concat(train_probs)\n",
    "fi = pd.concat(fi, axis=1).mean(axis=1)\n",
    "print(\"*\" * 21)\n",
    "print(\"roc auc estimado: \", roc_auc_score(y_train, train_probs.loc[y_train.index]))\n",
    "print(\"roc auc varianza: \", np.std([roc_auc_score(y_train.loc[folds[i]], train_probs.iloc[folds[i]]) for i in range(len(folds))]))  "
   ]
  },
  {
   "cell_type": "code",
   "execution_count": 9,
   "id": "absent-temperature",
   "metadata": {
    "scrolled": true
   },
   "outputs": [
    {
     "data": {
      "text/plain": [
       "edad                                                 0.008045\n",
       "ubigeo_mode                                          0.007883\n",
       "sexo_0                                               0.005815\n",
       "PRODUCTO_1_saldoMax_ult1meses                        0.005545\n",
       "PRODUCTO_1_saldoMean_ult1meses                       0.005412\n",
       "PRODUCTO_3_saldoUnique_ult12meses                    0.004899\n",
       "estadocontribuyente_0                                0.004498\n",
       "COD_CLASIFICACION_DEUDOR_0_saldoUnique_ult12meses    0.004368\n",
       "PRODUCTO_1_saldoSum_ult1meses                        0.004280\n",
       "PRODUCTO_6_saldoSum_ult12meses                       0.004146\n",
       "PRODUCTO_1_saldoSum_ult2meses                        0.003999\n",
       "RIESGO_DIRECTO_1_saldoSum_ult1meses                  0.003904\n",
       "PRODUCTO_8_saldoUnique_ult12meses                    0.003786\n",
       "cod_instit_financiera_34_saldoUnique_ult12meses      0.003680\n",
       "RIESGO_DIRECTO_1_saldoStd_ult1meses                  0.003663\n",
       "RIESGO_DIRECTO_1_saldoUnique_ult12meses              0.003588\n",
       "PRODUCTO_8_saldoSum_ult12meses                       0.003495\n",
       "PRODUCTO_1_saldoMedian_ult1meses                     0.003406\n",
       "PRODUCTO_4_saldoStd_ult12meses                       0.003328\n",
       "ciiu_mode                                            0.003298\n",
       "PRODUCTO_0_saldoStd_ult12meses                       0.003245\n",
       "condicion_0_saldoUnique_ult12meses                   0.003086\n",
       "RIESGO_DIRECTO_-1_saldoMedian_ult1meses              0.003069\n",
       "fecalta_min                                          0.003050\n",
       "RIESGO_DIRECTO_1_saldoMin_ult1meses                  0.003050\n",
       "PRODUCTO_1_saldoSum_ult12meses                       0.003042\n",
       "PRODUCTO_1_saldoMax_ult3meses                        0.003025\n",
       "RIESGO_DIRECTO_1_saldoMax_ult12meses                 0.003016\n",
       "PRODUCTO_0_saldoMin_ult12meses                       0.002986\n",
       "PRODUCTO_0_saldoStd_ult1meses                        0.002976\n",
       "PRODUCTO_1_saldoMedian_ult2meses                     0.002932\n",
       "PRODUCTO_1_saldoMedian_ult3meses                     0.002926\n",
       "fecalta_mean                                         0.002913\n",
       "ctd_veh                                              0.002875\n",
       "PRODUCTO_3_saldoMedian_ult1meses                     0.002867\n",
       "cod_instit_financiera_10_saldoStd_ult1meses          0.002849\n",
       "PRODUCTO_12_saldoMin_ult1meses                       0.002844\n",
       "PRODUCTO_0_saldoMax_ult1meses                        0.002783\n",
       "cod_instit_financiera_max_ult1mes                    0.002751\n",
       "PRODUCTO_3_saldoMean_ult1meses                       0.002724\n",
       "PRODUCTO_7_saldoMax_ult12meses                       0.002625\n",
       "PRODUCTO_1_saldoMax_ult2meses                        0.002613\n",
       "PRODUCTO_1_saldoMean_ult2meses                       0.002590\n",
       "PRODUCTO_1_saldoMean_ult3meses                       0.002581\n",
       "PRODUCTO_1_saldoStd_ult2meses                        0.002571\n",
       "PRODUCTO_2_saldoUnique_ult12meses                    0.002566\n",
       "RIESGO_DIRECTO_1_saldoStd_ult12meses                 0.002551\n",
       "PRODUCTO_6_saldoMin_ult12meses                       0.002522\n",
       "rgn_4                                                0.002455\n",
       "PRODUCTO_8_saldoMin_ult12meses                       0.002389\n",
       "dtype: float64"
      ]
     },
     "execution_count": 9,
     "metadata": {},
     "output_type": "execute_result"
    }
   ],
   "source": [
    "fi.sort_values(ascending=False).head(50)"
   ]
  },
  {
   "cell_type": "code",
   "execution_count": 10,
   "id": "chronic-elimination",
   "metadata": {},
   "outputs": [],
   "source": [
    "fi.to_pickle('fi_lightgbm.pkl')"
   ]
  },
  {
   "cell_type": "code",
   "execution_count": 11,
   "id": "noble-auction",
   "metadata": {},
   "outputs": [],
   "source": [
    "train_probs_lightgbm = train_probs\n",
    "test_probs_lightgbm = test_probs\n",
    "train_probs_lightgbm.to_pickle('train_probs_lightgbm.pkl')\n",
    "test_probs_lightgbm.to_pickle('test_probs_lightgbm.pkl')"
   ]
  },
  {
   "cell_type": "markdown",
   "id": "solar-senior",
   "metadata": {},
   "source": [
    "## Catboost con parametros casi estandar\n",
    "### CatBoostClassifier(n_estimators=1000, eval_metric = 'AUC', max_depth=6)"
   ]
  },
  {
   "cell_type": "code",
   "execution_count": 4,
   "id": "outside-march",
   "metadata": {
    "scrolled": true
   },
   "outputs": [
    {
     "data": {
      "text/plain": [
       "((358487, 1628), (396666, 1628))"
      ]
     },
     "execution_count": 4,
     "metadata": {},
     "output_type": "execute_result"
    }
   ],
   "source": [
    "train = pd.read_pickle('../data/train_features1628_score_0.85642.pkl') \n",
    "test = pd.read_pickle('../data/test_features1628_score_0.85642.pkl')\n",
    "train.shape, test.shape"
   ]
  },
  {
   "cell_type": "code",
   "execution_count": 5,
   "id": "polished-forest",
   "metadata": {
    "scrolled": true
   },
   "outputs": [
    {
     "name": "stdout",
     "output_type": "stream",
     "text": [
      "********** 0 **********\n",
      "Learning rate set to 0.128212\n",
      "0:\ttest: 0.7335807\ttest1: 0.7374686\tbest: 0.7374686 (0)\ttotal: 915ms\tremaining: 15m 14s\n",
      "100:\ttest: 0.8474778\ttest1: 0.8435525\tbest: 0.8435525 (100)\ttotal: 1m 2s\tremaining: 9m 18s\n",
      "200:\ttest: 0.8575412\ttest1: 0.8483713\tbest: 0.8483713 (200)\ttotal: 2m 1s\tremaining: 8m 4s\n",
      "300:\ttest: 0.8648960\ttest1: 0.8506630\tbest: 0.8506630 (300)\ttotal: 3m 1s\tremaining: 7m 1s\n",
      "Stopped by overfitting detector  (10 iterations wait)\n",
      "\n",
      "bestTest = 0.851225249\n",
      "bestIteration = 348\n",
      "\n",
      "Shrink model to first 349 iterations.\n",
      "********** 1 **********\n",
      "Learning rate set to 0.128212\n",
      "0:\ttest: 0.7487230\ttest1: 0.7494100\tbest: 0.7494100 (0)\ttotal: 619ms\tremaining: 10m 18s\n",
      "100:\ttest: 0.8476858\ttest1: 0.8439470\tbest: 0.8439470 (100)\ttotal: 1m 4s\tremaining: 9m 32s\n",
      "200:\ttest: 0.8579993\ttest1: 0.8490744\tbest: 0.8490744 (200)\ttotal: 2m 4s\tremaining: 8m 13s\n",
      "300:\ttest: 0.8651518\ttest1: 0.8513095\tbest: 0.8513095 (300)\ttotal: 3m 2s\tremaining: 7m 4s\n",
      "Stopped by overfitting detector  (10 iterations wait)\n",
      "\n",
      "bestTest = 0.8518987253\n",
      "bestIteration = 347\n",
      "\n",
      "Shrink model to first 348 iterations.\n",
      "********** 2 **********\n",
      "Learning rate set to 0.128212\n",
      "0:\ttest: 0.7326411\ttest1: 0.7392835\tbest: 0.7392835 (0)\ttotal: 594ms\tremaining: 9m 53s\n",
      "100:\ttest: 0.8472460\ttest1: 0.8470926\tbest: 0.8470926 (100)\ttotal: 1m 2s\tremaining: 9m 17s\n",
      "200:\ttest: 0.8575039\ttest1: 0.8519029\tbest: 0.8519029 (200)\ttotal: 2m 18s\tremaining: 9m 9s\n",
      "300:\ttest: 0.8649594\ttest1: 0.8538386\tbest: 0.8538386 (300)\ttotal: 4m 1s\tremaining: 9m 20s\n",
      "400:\ttest: 0.8710464\ttest1: 0.8550417\tbest: 0.8550417 (400)\ttotal: 5m 42s\tremaining: 8m 31s\n",
      "500:\ttest: 0.8761737\ttest1: 0.8556563\tbest: 0.8556975 (490)\ttotal: 7m 23s\tremaining: 7m 21s\n",
      "Stopped by overfitting detector  (10 iterations wait)\n",
      "\n",
      "bestTest = 0.855697469\n",
      "bestIteration = 490\n",
      "\n",
      "Shrink model to first 491 iterations.\n",
      "********** 3 **********\n",
      "Learning rate set to 0.128212\n",
      "0:\ttest: 0.7127427\ttest1: 0.7125691\tbest: 0.7125691 (0)\ttotal: 1.02s\tremaining: 16m 57s\n",
      "100:\ttest: 0.8472697\ttest1: 0.8441580\tbest: 0.8441580 (100)\ttotal: 1m 49s\tremaining: 16m 17s\n",
      "200:\ttest: 0.8577468\ttest1: 0.8494236\tbest: 0.8494236 (200)\ttotal: 3m 31s\tremaining: 14m 2s\n",
      "300:\ttest: 0.8652946\ttest1: 0.8516652\tbest: 0.8516652 (300)\ttotal: 5m 12s\tremaining: 12m 6s\n",
      "400:\ttest: 0.8712379\ttest1: 0.8526272\tbest: 0.8526272 (400)\ttotal: 6m 52s\tremaining: 10m 16s\n",
      "Stopped by overfitting detector  (10 iterations wait)\n",
      "\n",
      "bestTest = 0.8529082856\n",
      "bestIteration = 440\n",
      "\n",
      "Shrink model to first 441 iterations.\n",
      "********** 4 **********\n",
      "Learning rate set to 0.128212\n",
      "0:\ttest: 0.7359397\ttest1: 0.7218459\tbest: 0.7218459 (0)\ttotal: 1.24s\tremaining: 20m 33s\n",
      "100:\ttest: 0.8496444\ttest1: 0.8368588\tbest: 0.8368588 (100)\ttotal: 1m 51s\tremaining: 16m 30s\n",
      "200:\ttest: 0.8596639\ttest1: 0.8412029\tbest: 0.8412029 (200)\ttotal: 3m 33s\tremaining: 14m 8s\n",
      "300:\ttest: 0.8669876\ttest1: 0.8432093\tbest: 0.8432093 (300)\ttotal: 5m 1s\tremaining: 11m 41s\n",
      "400:\ttest: 0.8731900\ttest1: 0.8442101\tbest: 0.8442260 (399)\ttotal: 6m 5s\tremaining: 9m 6s\n",
      "Stopped by overfitting detector  (10 iterations wait)\n",
      "\n",
      "bestTest = 0.844496851\n",
      "bestIteration = 445\n",
      "\n",
      "Shrink model to first 446 iterations.\n",
      "*********************\n",
      "roc auc estimado:  0.8512973857740636\n",
      "roc auc varianza:  0.0009075167503657404\n"
     ]
    }
   ],
   "source": [
    "from catboost import CatBoostClassifier\n",
    "from sklearn.metrics import roc_auc_score\n",
    "from sklearn.model_selection import KFold\n",
    "import numpy as np\n",
    "folds = [train.index[t] for t, v in KFold(5).split(train)]\n",
    "test_probs = []\n",
    "train_probs = []\n",
    "fi = []\n",
    "for i, idx in enumerate(folds):\n",
    "    print(\"*\"*10, i, \"*\"*10)\n",
    "    Xt = train.loc[idx]\n",
    "    yt = y_train.loc[Xt.index]\n",
    "\n",
    "    Xv = train.drop(Xt.index)\n",
    "    yv = y_train.loc[Xv.index]\n",
    "\n",
    "    learner = CatBoostClassifier(n_estimators=1000, eval_metric = 'AUC', max_depth=6, random_state=42)\n",
    "    \n",
    "    learner.fit(Xt, yt,  early_stopping_rounds=10, \n",
    "                eval_set=[(Xt, yt), (Xv, yv)], verbose=100)\n",
    "    test_probs.append(pd.Series(learner.predict_proba(test)[:, -1], index=test.index, name=\"fold_\" + str(i)))\n",
    "    train_probs.append(pd.Series(learner.predict_proba(Xv)[:, -1], index=Xv.index, name=\"probs\"))\n",
    "    fi.append(pd.Series(learner.feature_importances_ / learner.feature_importances_.sum(), index=Xt.columns))\n",
    "\n",
    "test_probs = pd.concat(test_probs, axis=1).mean(axis=1)\n",
    "train_probs = pd.concat(train_probs)\n",
    "fi = pd.concat(fi, axis=1).mean(axis=1)\n",
    "print(\"*\" * 21)\n",
    "print(\"roc auc estimado: \", roc_auc_score(y_train, train_probs.loc[y_train.index]))\n",
    "print(\"roc auc varianza: \", np.std([roc_auc_score(y_train.loc[folds[i]], train_probs.iloc[folds[i]]) for i in range(len(folds))]))  "
   ]
  },
  {
   "cell_type": "code",
   "execution_count": 6,
   "id": "formed-silicon",
   "metadata": {},
   "outputs": [],
   "source": [
    "fi.to_pickle('fi_catboost.pkl')"
   ]
  },
  {
   "cell_type": "code",
   "execution_count": 7,
   "id": "cubic-borough",
   "metadata": {},
   "outputs": [],
   "source": [
    "train_probs_catboost = train_probs\n",
    "test_probs_catboost = test_probs\n",
    "train_probs_catboost.to_pickle('train_probs_catboost.pkl')\n",
    "test_probs_catboost.to_pickle('test_probs_catboost.pkl')"
   ]
  },
  {
   "cell_type": "markdown",
   "id": "blank-healing",
   "metadata": {},
   "source": [
    "## Entrenando LGBM categorical features"
   ]
  },
  {
   "cell_type": "code",
   "execution_count": 12,
   "id": "excited-organization",
   "metadata": {
    "scrolled": false
   },
   "outputs": [
    {
     "data": {
      "text/plain": [
       "((358487, 1628), (396666, 1628))"
      ]
     },
     "execution_count": 12,
     "metadata": {},
     "output_type": "execute_result"
    }
   ],
   "source": [
    "train = pd.read_pickle('../data/train_features1628_score_0.85642.pkl') \n",
    "test = pd.read_pickle('../data/test_features1628_score_0.85642.pkl')\n",
    "train.shape, test.shape"
   ]
  },
  {
   "cell_type": "code",
   "execution_count": 13,
   "id": "agreed-clear",
   "metadata": {},
   "outputs": [],
   "source": [
    "var_categ = [c for c in train.columns if 'mode' in c]\n",
    "for c in var_categ:\n",
    "    train[c] = train[c].astype('category')\n",
    "    test[c] = test[c].astype('category')"
   ]
  },
  {
   "cell_type": "code",
   "execution_count": 14,
   "id": "gentle-installation",
   "metadata": {
    "scrolled": true
   },
   "outputs": [
    {
     "name": "stdout",
     "output_type": "stream",
     "text": [
      "********** 0 **********\n"
     ]
    },
    {
     "name": "stderr",
     "output_type": "stream",
     "text": [
      "C:\\Users\\usuario\\anaconda3\\envs\\venv_datathon\\lib\\site-packages\\lightgbm\\basic.py:1286: UserWarning: Overriding the parameters from Reference Dataset.\n",
      "  warnings.warn('Overriding the parameters from Reference Dataset.')\n",
      "C:\\Users\\usuario\\anaconda3\\envs\\venv_datathon\\lib\\site-packages\\lightgbm\\basic.py:1098: UserWarning: categorical_column in param dict is overridden.\n",
      "  warnings.warn('{} in param dict is overridden.'.format(cat_alias))\n"
     ]
    },
    {
     "name": "stdout",
     "output_type": "stream",
     "text": [
      "Training until validation scores don't improve for 10 rounds\n",
      "[100]\ttraining's auc: 0.874774\ttraining's binary_logloss: 0.278841\tvalid_1's auc: 0.849666\tvalid_1's binary_logloss: 0.297436\n",
      "[200]\ttraining's auc: 0.891884\ttraining's binary_logloss: 0.264284\tvalid_1's auc: 0.852786\tvalid_1's binary_logloss: 0.295007\n",
      "Early stopping, best iteration is:\n",
      "[256]\ttraining's auc: 0.899001\ttraining's binary_logloss: 0.258099\tvalid_1's auc: 0.853492\tvalid_1's binary_logloss: 0.294456\n",
      "********** 1 **********\n",
      "Training until validation scores don't improve for 10 rounds\n",
      "[100]\ttraining's auc: 0.875409\ttraining's binary_logloss: 0.278477\tvalid_1's auc: 0.848777\tvalid_1's binary_logloss: 0.297798\n",
      "Early stopping, best iteration is:\n",
      "[153]\ttraining's auc: 0.88526\ttraining's binary_logloss: 0.269949\tvalid_1's auc: 0.85071\tvalid_1's binary_logloss: 0.296028\n",
      "********** 2 **********\n",
      "Training until validation scores don't improve for 10 rounds\n",
      "[100]\ttraining's auc: 0.875302\ttraining's binary_logloss: 0.27891\tvalid_1's auc: 0.852057\tvalid_1's binary_logloss: 0.294879\n",
      "[200]\ttraining's auc: 0.892275\ttraining's binary_logloss: 0.264467\tvalid_1's auc: 0.854459\tvalid_1's binary_logloss: 0.292545\n",
      "Early stopping, best iteration is:\n",
      "[232]\ttraining's auc: 0.896605\ttraining's binary_logloss: 0.260732\tvalid_1's auc: 0.854825\tvalid_1's binary_logloss: 0.292281\n",
      "********** 3 **********\n",
      "Training until validation scores don't improve for 10 rounds\n",
      "[100]\ttraining's auc: 0.875456\ttraining's binary_logloss: 0.27888\tvalid_1's auc: 0.850129\tvalid_1's binary_logloss: 0.296109\n",
      "[200]\ttraining's auc: 0.893014\ttraining's binary_logloss: 0.26394\tvalid_1's auc: 0.852937\tvalid_1's binary_logloss: 0.29353\n",
      "Early stopping, best iteration is:\n",
      "[215]\ttraining's auc: 0.895039\ttraining's binary_logloss: 0.262191\tvalid_1's auc: 0.853082\tvalid_1's binary_logloss: 0.293413\n",
      "********** 4 **********\n",
      "Training until validation scores don't improve for 10 rounds\n",
      "[100]\ttraining's auc: 0.877028\ttraining's binary_logloss: 0.277939\tvalid_1's auc: 0.843189\tvalid_1's binary_logloss: 0.298858\n",
      "[200]\ttraining's auc: 0.894633\ttraining's binary_logloss: 0.262741\tvalid_1's auc: 0.845766\tvalid_1's binary_logloss: 0.296808\n",
      "Early stopping, best iteration is:\n",
      "[262]\ttraining's auc: 0.902959\ttraining's binary_logloss: 0.255493\tvalid_1's auc: 0.846187\tvalid_1's binary_logloss: 0.296468\n",
      "*********************\n",
      "roc auc estimado:  0.8516892172093333\n",
      "roc auc varianza:  0.000747731899888856\n"
     ]
    }
   ],
   "source": [
    "from lightgbm import LGBMClassifier\n",
    "from sklearn.metrics import roc_auc_score\n",
    "from sklearn.model_selection import KFold\n",
    "import numpy as np\n",
    "folds = [train.index[t] for t, v in KFold(5).split(train)]\n",
    "test_probs = []\n",
    "train_probs = []\n",
    "fi = []\n",
    "for i, idx in enumerate(folds):\n",
    "    print(\"*\"*10, i, \"*\"*10)\n",
    "    Xt = train.loc[idx]\n",
    "    yt = y_train.loc[Xt.index].target\n",
    "\n",
    "    Xv = train.drop(Xt.index)\n",
    "    yv = y_train.loc[Xv.index].target\n",
    "\n",
    "    learner = LGBMClassifier(n_estimators=1000, boosting_type='gbdt',min_child_samples=1500, colsample_bytree=0.8,\n",
    "                   subsample=0.8, max_bin=200, learning_rate=0.1)\n",
    "    \n",
    "    learner.fit(Xt, yt,  early_stopping_rounds=10, eval_metric=\"auc\",\n",
    "                eval_set=[(Xt, yt), (Xv, yv)], verbose=100)\n",
    "    test_probs.append(pd.Series(learner.predict_proba(test)[:, -1], index=test.index, name=\"fold_\" + str(i)))\n",
    "    train_probs.append(pd.Series(learner.predict_proba(Xv)[:, -1], index=Xv.index, name=\"probs\"))\n",
    "    fi.append(pd.Series(learner.feature_importances_ / learner.feature_importances_.sum(), index=Xt.columns))\n",
    "\n",
    "test_probs = pd.concat(test_probs, axis=1).mean(axis=1)\n",
    "train_probs = pd.concat(train_probs)\n",
    "fi = pd.concat(fi, axis=1).mean(axis=1)\n",
    "print(\"*\" * 21)\n",
    "print(\"roc auc estimado: \", roc_auc_score(y_train, train_probs.loc[y_train.index]))\n",
    "print(\"roc auc varianza: \", np.std([roc_auc_score(y_train.loc[folds[i]], train_probs.iloc[folds[i]]) for i in range(len(folds))]))  "
   ]
  },
  {
   "cell_type": "code",
   "execution_count": 18,
   "id": "mental-living",
   "metadata": {
    "scrolled": true
   },
   "outputs": [
    {
     "data": {
      "text/plain": [
       "ciiu_mode                                            0.110613\n",
       "ubigeo_mode                                          0.043196\n",
       "cod_instit_financiera_mode_ult1mes                   0.038008\n",
       "cod_instit_financiera_mode_ult12mes                  0.024070\n",
       "cod_instit_financiera_mode_ult2mes                   0.019504\n",
       "cod_instit_financiera_mode_ult3mes                   0.015388\n",
       "cod_instit_financiera_mode_ult11mes                  0.014324\n",
       "cod_instit_financiera_mode_ult10mes                  0.013508\n",
       "cod_instit_financiera_mode_ult4mes                   0.013092\n",
       "cod_instit_financiera_mode_ult5mes                   0.012874\n",
       "cod_instit_financiera_mode_ult8mes                   0.012436\n",
       "cod_instit_financiera_mode_ult7mes                   0.011420\n",
       "cod_instit_financiera_mode_ult6mes                   0.009407\n",
       "edad                                                 0.007173\n",
       "sexo_0                                               0.005515\n",
       "PRODUCTO_1_saldoMean_ult1meses                       0.004864\n",
       "codzona_mode                                         0.004841\n",
       "PRODUCTO_1_saldoMax_ult1meses                        0.004364\n",
       "PRODUCTO_3_saldoUnique_ult12meses                    0.004240\n",
       "COD_CLASIFICACION_DEUDOR_0_saldoUnique_ult12meses    0.004178\n",
       "estadocontribuyente_0                                0.003991\n",
       "RIESGO_DIRECTO_1_saldoStd_ult1meses                  0.003871\n",
       "RIESGO_DIRECTO_1_saldoUnique_ult12meses              0.003338\n",
       "PRODUCTO_8_saldoUnique_ult12meses                    0.003323\n",
       "cod_instit_financiera_34_saldoUnique_ult12meses      0.003209\n",
       "PRODUCTO_12_saldoMin_ult1meses                       0.003072\n",
       "condicion_0_saldoUnique_ult12meses                   0.003058\n",
       "PRODUCTO_1_saldoSum_ult1meses                        0.002878\n",
       "PRODUCTO_1_saldoMedian_ult1meses                     0.002874\n",
       "PRODUCTO_6_saldoSum_ult12meses                       0.002828\n",
       "RIESGO_DIRECTO_1_saldoMax_ult12meses                 0.002814\n",
       "PRODUCTO_2_saldoUnique_ult12meses                    0.002763\n",
       "ctd_veh                                              0.002738\n",
       "PRODUCTO_3_saldoMean_ult1meses                       0.002639\n",
       "PRODUCTO_mode_ult1mes                                0.002560\n",
       "RIESGO_DIRECTO_1_saldoMin_ult1meses                  0.002551\n",
       "PRODUCTO_1_saldoMedian_ult3meses                     0.002500\n",
       "PRODUCTO_0_saldoStd_ult1meses                        0.002455\n",
       "PRODUCTO_1_saldoSum_ult2meses                        0.002432\n",
       "RIESGO_DIRECTO_1_saldoSum_ult1meses                  0.002395\n",
       "RIESGO_DIRECTO_1_saldoStd_ult12meses                 0.002393\n",
       "PRODUCTO_1_saldoMedian_ult2meses                     0.002363\n",
       "PRODUCTO_8_saldoSum_ult12meses                       0.002310\n",
       "cod_instit_financiera_10_saldoStd_ult1meses          0.002281\n",
       "PRODUCTO_7_saldoMax_ult12meses                       0.002268\n",
       "PRODUCTO_0_saldoMin_ult12meses                       0.002221\n",
       "PRODUCTO_1_saldoMean_ult3meses                       0.002188\n",
       "RIESGO_DIRECTO_-1_saldoMedian_ult1meses              0.002167\n",
       "PRODUCTO_0_saldoMin_ult1meses                        0.002161\n",
       "PRODUCTO_12_saldoMax_ult1meses                       0.002156\n",
       "dtype: float64"
      ]
     },
     "execution_count": 18,
     "metadata": {},
     "output_type": "execute_result"
    }
   ],
   "source": [
    "fi.sort_values(ascending=False).head(50)"
   ]
  },
  {
   "cell_type": "code",
   "execution_count": 19,
   "id": "tired-ladder",
   "metadata": {},
   "outputs": [],
   "source": [
    "fi.to_pickle('fi_lightgbm_cf.pkl')"
   ]
  },
  {
   "cell_type": "code",
   "execution_count": 20,
   "id": "becoming-tobago",
   "metadata": {},
   "outputs": [],
   "source": [
    "train_probs_lightgbm = train_probs\n",
    "test_probs_lightgbm = test_probs\n",
    "train_probs_lightgbm.to_pickle('train_probs_lightgbm_cf.pkl')\n",
    "test_probs_lightgbm.to_pickle('test_probs_lightgbm_cf.pkl')"
   ]
  },
  {
   "cell_type": "markdown",
   "id": "korean-folder",
   "metadata": {},
   "source": [
    "## Entrenando GradientBosstingClassifier"
   ]
  },
  {
   "cell_type": "code",
   "execution_count": 8,
   "id": "signal-project",
   "metadata": {
    "scrolled": false
   },
   "outputs": [
    {
     "data": {
      "text/plain": [
       "((358487, 1628), (396666, 1628))"
      ]
     },
     "execution_count": 8,
     "metadata": {},
     "output_type": "execute_result"
    }
   ],
   "source": [
    "train = pd.read_pickle('../data/train_features1628_score_0.85642.pkl') \n",
    "test = pd.read_pickle('../data/test_features1628_score_0.85642.pkl')\n",
    "train.shape, test.shape"
   ]
  },
  {
   "cell_type": "code",
   "execution_count": 18,
   "id": "affiliated-mercy",
   "metadata": {},
   "outputs": [
    {
     "data": {
      "text/plain": [
       "(1581, 13, 1, 33)"
      ]
     },
     "execution_count": 18,
     "metadata": {},
     "output_type": "execute_result"
    }
   ],
   "source": [
    "var_categ = [i for i in train.columns if 'mode' in i]\n",
    "var_cuanti_std = [i for i in train.columns if 'std'  in i]\n",
    "var_cuanti_unique = [i for i in train.columns if 'unique' in i]\n",
    "var_cuanti_other = set(train.columns).difference(var_categ+var_cuanti_std+var_cuanti_unique)"
   ]
  },
  {
   "cell_type": "code",
   "execution_count": 32,
   "id": "facial-studio",
   "metadata": {},
   "outputs": [],
   "source": [
    "###### imputacion tradicional\n",
    "for i in var_cuanti_std:\n",
    "    train[i] = train[i].fillna(0)\n",
    "    test[i] = test[i].fillna(0)  \n",
    "    \n",
    "for i in var_cuanti_unique:\n",
    "    train[i] = train[i].fillna(0)\n",
    "    test[i] = test[i].fillna(0)\n",
    "    \n",
    "for i in var_cuanti_other:\n",
    "    train[i] = train[i].fillna(train[i].median())\n",
    "    test[i] = test[i].fillna(train[i].median())    \n",
    "for i in var_categ:\n",
    "    train[i] = train[i].fillna(train[i].value_counts().index[0])\n",
    "    test[i] = test[i].fillna(train[i].value_counts().index[0]) "
   ]
  },
  {
   "cell_type": "code",
   "execution_count": 33,
   "id": "expected-membership",
   "metadata": {
    "scrolled": true
   },
   "outputs": [
    {
     "name": "stdout",
     "output_type": "stream",
     "text": [
      "********** 0 **********\n",
      "      Iter       Train Loss      OOB Improve   Remaining Time \n",
      "         1           0.7719           0.0963          933.67m\n",
      "         2           0.7381           0.0309          695.78m\n",
      "         3           0.7041           0.0303          608.36m\n",
      "         4           0.6876           0.0188          565.94m\n",
      "         5           0.6727           0.0141          544.76m\n",
      "         6           0.6614           0.0087          527.93m\n",
      "         7           0.6531           0.0068          517.31m\n",
      "         8           0.6492           0.0058          508.58m\n",
      "         9           0.6448           0.0050          500.34m\n",
      "        10           0.6361           0.0050          492.25m\n",
      "        20           0.6075           0.0010          452.24m\n",
      "roc_auc_estimado de : 0.8339237806341147\n",
      "********** 1 **********\n",
      "      Iter       Train Loss      OOB Improve   Remaining Time \n",
      "         1           0.7725           0.1018         1007.89m\n",
      "         2           0.7347           0.0354         1006.13m\n",
      "         3           0.7087           0.0243          992.13m\n",
      "         4           0.6910           0.0170          980.67m\n",
      "         5           0.6758           0.0144          968.94m\n",
      "         6           0.6661           0.0106          966.62m\n",
      "         7           0.6593           0.0077          966.68m\n",
      "         8           0.6490           0.0057          964.58m\n",
      "         9           0.6451           0.0053          961.72m\n",
      "        10           0.6375           0.0044          957.29m\n",
      "        20           0.6065           0.0006         1804.16m\n",
      "roc_auc_estimado de : 0.8361477091780176\n",
      "********** 2 **********\n",
      "      Iter       Train Loss      OOB Improve   Remaining Time \n",
      "         1           0.7743           0.1019          505.18m\n",
      "         2           0.7317           0.0367          489.53m\n",
      "         3           0.7106           0.0238          478.54m\n",
      "         4           0.6861           0.0213          469.96m\n",
      "         5           0.6756           0.0109          474.26m\n",
      "         6           0.6635           0.0106          482.30m\n",
      "         7           0.6567           0.0064          481.99m\n",
      "         8           0.6470           0.0072          481.07m\n",
      "         9           0.6391           0.0052          481.19m\n",
      "        10           0.6353           0.0035          479.68m\n",
      "        20           0.6056           0.0017          461.30m\n",
      "roc_auc_estimado de : 0.8375482294539291\n",
      "********** 3 **********\n",
      "      Iter       Train Loss      OOB Improve   Remaining Time \n",
      "         1           0.7715           0.1042          532.18m\n",
      "         2           0.7419           0.0302          529.25m\n",
      "         3           0.7079           0.0319          521.87m\n",
      "         4           0.6878           0.0178          518.72m\n",
      "         5           0.6748           0.0140          514.34m\n",
      "         6           0.6624           0.0088          517.88m\n",
      "         7           0.6582           0.0062          520.27m\n",
      "         8           0.6480           0.0068          519.06m\n",
      "         9           0.6409           0.0071          517.96m\n",
      "        10           0.6374           0.0042          518.74m\n",
      "        20           0.6059           0.0015          522.14m\n",
      "roc_auc_estimado de : 0.8367422323193515\n",
      "********** 4 **********\n",
      "      Iter       Train Loss      OOB Improve   Remaining Time \n",
      "         1           0.7728           0.1045          488.44m\n",
      "         2           0.7346           0.0370          488.19m\n",
      "         3           0.7114           0.0252          486.11m\n",
      "         4           0.6920           0.0169          484.03m\n",
      "         5           0.6751           0.0156          478.51m\n",
      "         6           0.6642           0.0087          480.69m\n",
      "         7           0.6550           0.0088          476.02m\n",
      "         8           0.6478           0.0047          480.77m\n",
      "         9           0.6417           0.0049          482.75m\n",
      "        10           0.6347           0.0055          482.15m\n",
      "        20           0.6028           0.0021          462.56m\n",
      "roc_auc_estimado de : 0.8282928580355362\n",
      "*********************\n",
      "roc auc estimado:  0.8345607018010774\n",
      "roc auc varianza:  0.0008189851559046455\n"
     ]
    }
   ],
   "source": [
    "# https://scikit-learn.org/stable/modules/generated/sklearn.ensemble.GradientBoostingClassifier.html#sklearn.ensemble.GradientBoostingClassifier.fit\n",
    "from sklearn.ensemble import GradientBoostingClassifier\n",
    "from sklearn.metrics import roc_auc_score\n",
    "from sklearn.model_selection import KFold\n",
    "import numpy as np\n",
    "folds = [train.index[t] for t, v in KFold(5).split(train)]\n",
    "test_probs = []\n",
    "train_probs = []\n",
    "fi = []\n",
    "for i, idx in enumerate(folds):\n",
    "    print(\"*\"*10, i, \"*\"*10)\n",
    "    Xt = train.loc[idx]\n",
    "    yt = y_train.loc[Xt.index].target\n",
    "\n",
    "    Xv = train.drop(Xt.index)\n",
    "    yv = y_train.loc[Xv.index].target\n",
    "\n",
    "    learner = GradientBoostingClassifier(n_estimators=500, learning_rate=0.3, subsample=0.8,\n",
    "                                         max_depth=5, verbose=1, max_features=0.82, random_state=42,\n",
    "                                         n_iter_no_change = 10, tol=0.01, validation_fraction = 0.2)\n",
    "   \n",
    "    learner.fit(Xt, yt)        \n",
    "    test_probs.append(pd.Series(learner.predict_proba(test)[:, -1], index=test.index, name=\"fold_\" + str(i)))\n",
    "    train_probs.append(pd.Series(learner.predict_proba(Xv)[:, -1], index=Xv.index, name=\"probs\"))\n",
    "    fi.append(pd.Series(learner.feature_importances_ / learner.feature_importances_.sum(), index=Xt.columns))\n",
    "    print('roc_auc_estimado de : ' + str(roc_auc_score(yv, pd.Series(learner.predict_proba(Xv)[:, -1]))))    \n",
    "        \n",
    "test_probs = pd.concat(test_probs, axis=1).mean(axis=1)\n",
    "train_probs = pd.concat(train_probs)\n",
    "fi = pd.concat(fi, axis=1).mean(axis=1)\n",
    "print(\"*\" * 21)\n",
    "print(\"roc auc estimado: \", roc_auc_score(y_train, train_probs.loc[y_train.index]))\n",
    "print(\"roc auc varianza: \", np.std([roc_auc_score(y_train.loc[folds[i]], train_probs.iloc[folds[i]]) for i in range(len(folds))]))  "
   ]
  },
  {
   "cell_type": "code",
   "execution_count": 34,
   "id": "quality-recall",
   "metadata": {},
   "outputs": [],
   "source": [
    "fi.to_pickle('fi_gbc.pkl')"
   ]
  },
  {
   "cell_type": "code",
   "execution_count": 35,
   "id": "killing-virginia",
   "metadata": {},
   "outputs": [],
   "source": [
    "train_probs_gbc = train_probs\n",
    "test_probs_gbc = test_probs\n",
    "train_probs_gbc.to_pickle('train_probs_gbc.pkl')\n",
    "test_probs_gbc.to_pickle('test_probs_gbc.pkl')"
   ]
  }
 ],
 "metadata": {
  "kernelspec": {
   "display_name": "Python 3",
   "language": "python",
   "name": "python3"
  },
  "language_info": {
   "codemirror_mode": {
    "name": "ipython",
    "version": 3
   },
   "file_extension": ".py",
   "mimetype": "text/x-python",
   "name": "python",
   "nbconvert_exporter": "python",
   "pygments_lexer": "ipython3",
   "version": "3.8.5"
  }
 },
 "nbformat": 4,
 "nbformat_minor": 5
}
