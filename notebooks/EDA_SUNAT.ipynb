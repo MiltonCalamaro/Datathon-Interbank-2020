{
 "cells": [
  {
   "cell_type": "code",
   "execution_count": 1,
   "metadata": {},
   "outputs": [],
   "source": [
    "import pandas as pd\n",
    "import gc"
   ]
  },
  {
   "cell_type": "code",
   "execution_count": 2,
   "metadata": {},
   "outputs": [],
   "source": [
    "sunat_train = pd.read_csv('../data/sunat_train.csv')\n",
    "y_train = pd.read_csv('../data/y_train.csv', index_col = 'key_value')\n",
    "sunat_test = pd.read_csv('../data/sunat_test.csv')"
   ]
  },
  {
   "cell_type": "code",
   "execution_count": 3,
   "metadata": {},
   "outputs": [],
   "source": [
    "############################# sunat_train\n",
    "### consta de 1462036 registros con 17 features\n",
    "### fecalta y fecbaja tienen valores nulos de 1.5% y 49.5%\n",
    "### el 34% de key_value no existe en sunat_train\n",
    "\n",
    "### tipcontribuyente Tiene 50 clases ### freq 29 \n",
    "### tippersona Tiene 3 clases ### Freq 1 \n",
    "### ciiu ,codigo de actividad economica, Tiene 285 clases ### Freq 285\n",
    "### ubigeo Tiene 1655 clases ### Freq 442\n",
    "### condiciondomicilio tiene 16 clases ### Freq 4\n",
    "### estadocontribuyente tiene 13 clases ### Freq 3\n",
    "### codvia tiene 29 clases ### Freq 0\n",
    "### codzona tiene 36 clases ### Freq 0\n",
    "### contabilidad tiene 12 clases ### Freq 6\n",
    "### facturacion tiene 21 clases ### Freq 11\n",
    "### domiciliado tiene 3 clases ### Freq 1\n",
    "### comercioexterior tiene 14 clases ### Freq 2\n",
    "### cargorele tiene 656 clases ### Freq 635\n",
    "### codentidadtributo tiene 9 clases ### Freq 6\n",
    "### estadotributo tiene 3 clases ### Freq 1\n"
   ]
  },
  {
   "cell_type": "code",
   "execution_count": 4,
   "metadata": {},
   "outputs": [],
   "source": [
    "### hay algunos clientes que tienen fecha de alta, pero no fecha de baja, siendo estos 723714 registros\n",
    "### los clientes que no tienen fecha de alta, tampoco tienen fecha de baja, por obvias razones. Aunque has un caso donde\n",
    "#un cliente no tiene fecha de alta pero si fecha de baja siendo esto cerca de 20897 registros\n",
    "### clientes que tienen fecha de alta , asi como fecha de baja son cerca de 738321 registros\n",
    "\n",
    "### cuando se trata de un cliente nuevo en el rcc, la proporcion de valores nulos de la fecha de alta se mantiene, \n",
    "# mientras que la fecha de baja aumenta de 49% as 86%\n",
    "### no necesariamente cleintes que tienen un solo registro en la sunat_train, van a tener un solo registro en el rcc_train\n",
    "### El 18% de cliente tiene de fecha alta mayor a la fecha de baja --- Es raro"
   ]
  },
  {
   "cell_type": "code",
   "execution_count": 5,
   "metadata": {},
   "outputs": [],
   "source": [
    "### tippersona Tiene 3 clases ### Freq 1 \n",
    "### domiciliado tiene 3 clases ### Freq 1\n",
    "### codentidadtributo tiene 9 clases ### Freq 6\n",
    "### estadotributo tiene 3 clases ### Freq 1"
   ]
  },
  {
   "cell_type": "code",
   "execution_count": 6,
   "metadata": {},
   "outputs": [],
   "source": [
    "dict_ = dict(zip(list(sunat_train.dtypes[sunat_train.dtypes == int].index), ['int32']*len(sunat_train.dtypes[sunat_train.dtypes == int].index)))\n",
    "sunat_train = sunat_train.astype(dict_)\n",
    "sunat_test = sunat_test.astype(dict_)"
   ]
  },
  {
   "cell_type": "code",
   "execution_count": 7,
   "metadata": {},
   "outputs": [],
   "source": [
    "import statistics as stat\n",
    "import numpy as np\n",
    "def calculate_mode(x):\n",
    "    try:\n",
    "        moda=stat.mode(x)\n",
    "    except:\n",
    "        moda=np.nan\n",
    "    return moda\n",
    "from tqdm.notebook import tqdm \n",
    "moda=lambda x: calculate_mode(x)\n",
    "moda.__name__='mode'\n",
    "agg_sunat = {'tipcontribuyente':['nunique',moda],\n",
    "           'tippersona':['nunique',moda],\n",
    "           'ciiu':['nunique', moda],\n",
    "           'ubigeo':['nunique',moda],\n",
    "           'condiciondomicilio':['nunique',moda],\n",
    "           'estadocontribuyente':['nunique',moda],\n",
    "           'codvia':['nunique',moda],\n",
    "           'codzona':['nunique',moda],\n",
    "           'contabilidad':['nunique',moda],\n",
    "           'facturacion':['nunique',moda],\n",
    "           'domiciliado':['nunique',moda],\n",
    "           'comercioexterior':['nunique',moda],\n",
    "           'cargorele':['nunique',moda],\n",
    "           'codentidadtributo':['nunique',moda],\n",
    "           'estadotributo':['nunique',moda],\n",
    "           'fecalta':['sum', 'nunique'],\n",
    "           'fecbaja':['sum', 'nunique'],\n",
    "          }"
   ]
  },
  {
   "cell_type": "code",
   "execution_count": 8,
   "metadata": {},
   "outputs": [],
   "source": [
    "sunat_train_ = sunat_train.groupby('key_value').agg(agg_sunat)\n",
    "sunat_train_.columns = [i+'_'+j for i,j in sunat_train_.columns]\n",
    "sunat_test_ = sunat_test.groupby('key_value').agg(agg_sunat)\n",
    "sunat_test_.columns = [i+'_'+j for i,j in sunat_test_.columns]\n",
    "del sunat_train, sunat_test"
   ]
  },
  {
   "cell_type": "code",
   "execution_count": 9,
   "metadata": {},
   "outputs": [],
   "source": [
    "# sunat_train_ = pd.concat([sunat_train_, y_train.loc[sunat_train_.index]], axis=1)\n",
    "\n",
    "# tippersona_mode_me = sunat_train_.groupby(['tippersona_mode'])['target'].mean().to_dict() \n",
    "# domiciliado_mode_me = sunat_train_.groupby(['domiciliado_mode'])['target'].mean().to_dict() \n",
    "# codentidadtributo_mode_me = sunat_train_.groupby(['codentidadtributo_mode'])['target'].mean().to_dict() \n",
    "# estadotributo_mode_me = sunat_train_.groupby(['estadotributo_mode'])['target'].mean().to_dict() \n",
    "\n",
    "# sunat_train_['tippersona_mode_me'] =  sunat_train_['domiciliado_mode'].map(tippersona_mode_me) \n",
    "# sunat_train_['domiciliado_mode_me'] =  sunat_train_['tippersona_mode'].map(domiciliado_mode_me) \n",
    "# sunat_train_['codentidadtributo_mode_me'] =  sunat_train_['codentidadtributo_mode'].map(codentidadtributo_mode_me) \n",
    "# sunat_train_['estadotributo_mode_me'] =  sunat_train_['estadotributo_mode'].map(estadotributo_mode_me) \n",
    "\n",
    "# sunat_test_['tippersona_mode_me'] =  sunat_test_['domiciliado_mode'].map(tippersona_mode_me) \n",
    "# sunat_test_['domiciliado_mode_me'] =  sunat_test_['tippersona_mode'].map(domiciliado_mode_me) \n",
    "# sunat_test_['codentidadtributo_mode_me'] =  sunat_test_['codentidadtributo_mode'].map(codentidadtributo_mode_me) \n",
    "# sunat_test_['estadotributo_mode_me'] =  sunat_test_['estadotributo_mode'].map(estadotributo_mode_me) "
   ]
  },
  {
   "cell_type": "code",
   "execution_count": 10,
   "metadata": {},
   "outputs": [],
   "source": [
    "# sunat_train_.drop(['domiciliado_mode','tippersona_mode','codentidadtributo_mode','estadotributo_mode', 'target'], axis=1, inplace=True)\n",
    "# sunat_test_.drop(['domiciliado_mode','tippersona_mode','codentidadtributo_mode','estadotributo_mode'], axis=1, inplace=True)"
   ]
  },
  {
   "cell_type": "code",
   "execution_count": 11,
   "metadata": {},
   "outputs": [],
   "source": [
    "# #Función para obtener variables con alta correlación\n",
    "# def get_correlated(data, cut=0.85):\n",
    "#     correlated_features = set()\n",
    "#     correlation_matrix = data.corr()\n",
    "    \n",
    "#     for i in range(len(correlation_matrix .columns)):\n",
    "#         for j in range(i):\n",
    "#             if abs(correlation_matrix.iloc[i, j]) > cut:\n",
    "#                 colname = correlation_matrix.columns[i]\n",
    "#                 correlated_features.add(colname)\n",
    "            \n",
    "#     return correlated_features\n",
    "# print(sunat_train_.shape)\n",
    "# correlated = get_correlated(sunat_train_,cut=0.9)\n",
    "# sunat_train_ = sunat_train_.drop(columns=correlated)\n",
    "# sunat_test_ = sunat_test_.drop(columns=correlated)\n",
    "# print(sunat_train_.shape)"
   ]
  },
  {
   "cell_type": "code",
   "execution_count": 12,
   "metadata": {},
   "outputs": [],
   "source": [
    "dict_ = dict(zip(list(sunat_train_.dtypes[sunat_train_.dtypes == int].index), ['int32']*len(sunat_train_.dtypes[sunat_train_.dtypes == int].index)))\n",
    "sunat_train_ = sunat_train_.astype(dict_)\n",
    "sunat_test_ = sunat_test_.astype(dict_)"
   ]
  },
  {
   "cell_type": "code",
   "execution_count": 13,
   "metadata": {},
   "outputs": [],
   "source": [
    "sunat_train_.to_csv('../data/intermediate/sunat_train.csv')\n",
    "sunat_test_.to_csv('../data/intermediate/sunat_test.csv')"
   ]
  }
 ],
 "metadata": {
  "kernelspec": {
   "display_name": "Python 3",
   "language": "python",
   "name": "python3"
  },
  "language_info": {
   "codemirror_mode": {
    "name": "ipython",
    "version": 3
   },
   "file_extension": ".py",
   "mimetype": "text/x-python",
   "name": "python",
   "nbconvert_exporter": "python",
   "pygments_lexer": "ipython3",
   "version": "3.7.6"
  }
 },
 "nbformat": 4,
 "nbformat_minor": 4
}
