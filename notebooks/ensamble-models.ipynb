{
 "cells": [
  {
   "cell_type": "code",
   "execution_count": 2,
   "metadata": {
    "execution": {
     "iopub.execute_input": "2021-02-14T23:45:07.467815Z",
     "iopub.status.busy": "2021-02-14T23:45:07.467128Z",
     "iopub.status.idle": "2021-02-14T23:45:08.728392Z",
     "shell.execute_reply": "2021-02-14T23:45:08.727633Z"
    },
    "papermill": {
     "duration": 1.283702,
     "end_time": "2021-02-14T23:45:08.728584",
     "exception": false,
     "start_time": "2021-02-14T23:45:07.444882",
     "status": "completed"
    },
    "tags": []
   },
   "outputs": [],
   "source": [
    "import numpy as np # linear algebra\n",
    "import pandas as pd # data processing, CSV file I/O (e.g. pd.read_csv)\n",
    "from lightgbm import LGBMClassifier\n",
    "from catboost import CatBoostClassifier"
   ]
  },
  {
   "cell_type": "code",
   "execution_count": 10,
   "metadata": {
    "execution": {
     "iopub.execute_input": "2021-02-14T23:45:08.848821Z",
     "iopub.status.busy": "2021-02-14T23:45:08.848062Z",
     "iopub.status.idle": "2021-02-14T23:45:41.163038Z",
     "shell.execute_reply": "2021-02-14T23:45:41.162251Z"
    },
    "papermill": {
     "duration": 32.339622,
     "end_time": "2021-02-14T23:45:41.163213",
     "exception": false,
     "start_time": "2021-02-14T23:45:08.823591",
     "status": "completed"
    },
    "tags": []
   },
   "outputs": [],
   "source": [
    "y_train = pd.read_csv('../data/y_train.csv', index_col = 'key_value')"
   ]
  },
  {
   "cell_type": "markdown",
   "metadata": {
    "papermill": {
     "duration": 0.018248,
     "end_time": "2021-02-14T23:45:08.765822",
     "exception": false,
     "start_time": "2021-02-14T23:45:08.747574",
     "status": "completed"
    },
    "tags": []
   },
   "source": [
    "## Ensamble - Promedio Ponderado"
   ]
  },
  {
   "cell_type": "code",
   "execution_count": 16,
   "metadata": {},
   "outputs": [],
   "source": [
    "train = pd.read_pickle('../data/train_1628features.pkl')\n",
    "test = pd.read_pickle('../data/test_1628features.pkl')"
   ]
  },
  {
   "cell_type": "markdown",
   "metadata": {
    "papermill": {
     "duration": 0.019036,
     "end_time": "2021-02-14T23:45:08.804962",
     "exception": false,
     "start_time": "2021-02-14T23:45:08.785926",
     "status": "completed"
    },
    "tags": []
   },
   "source": [
    "### Considerando todas las variables"
   ]
  },
  {
   "cell_type": "code",
   "execution_count": 17,
   "metadata": {
    "execution": {
     "iopub.execute_input": "2021-02-14T23:45:41.207519Z",
     "iopub.status.busy": "2021-02-14T23:45:41.206818Z",
     "iopub.status.idle": "2021-02-14T23:55:55.001595Z",
     "shell.execute_reply": "2021-02-14T23:55:55.002159Z"
    },
    "papermill": {
     "duration": 613.820243,
     "end_time": "2021-02-14T23:55:55.002558",
     "exception": false,
     "start_time": "2021-02-14T23:45:41.182315",
     "status": "completed"
    },
    "tags": []
   },
   "outputs": [
    {
     "name": "stdout",
     "output_type": "stream",
     "text": [
      "[LightGBM] [Warning] Accuracy may be bad since you didn't explicitly set num_leaves OR 2^max_depth > num_leaves. (num_leaves=31).\n"
     ]
    },
    {
     "data": {
      "text/plain": [
       "LGBMClassifier(boosting_type='gbdt', class_weight=None, colsample_bytree=1.0,\n",
       "               importance_type='split', learning_rate=0.1, max_depth=6,\n",
       "               min_child_samples=1000, min_child_weight=0.001,\n",
       "               min_split_gain=0.0, n_estimators=1000, n_jobs=-1, num_leaves=31,\n",
       "               objective=None, random_state=None, reg_alpha=0.0, reg_lambda=0.0,\n",
       "               silent=True, subsample=1.0, subsample_for_bin=200000,\n",
       "               subsample_freq=0)"
      ]
     },
     "execution_count": 17,
     "metadata": {},
     "output_type": "execute_result"
    }
   ],
   "source": [
    "learner_lightgbm = LGBMClassifier(n_estimators=1000, max_depth=6, boosting_type='gbdt',\n",
    "                                  min_child_samples=1000)\n",
    "learner_lightgbm.fit(train, y_train.target, eval_metric=\"auc\", verbose=True)"
   ]
  },
  {
   "cell_type": "code",
   "execution_count": 18,
   "metadata": {
    "execution": {
     "iopub.execute_input": "2021-02-14T23:55:55.078017Z",
     "iopub.status.busy": "2021-02-14T23:55:55.069209Z",
     "iopub.status.idle": "2021-02-15T00:16:39.490133Z",
     "shell.execute_reply": "2021-02-15T00:16:39.490793Z"
    },
    "papermill": {
     "duration": 1244.467591,
     "end_time": "2021-02-15T00:16:39.491029",
     "exception": false,
     "start_time": "2021-02-14T23:55:55.023438",
     "status": "completed"
    },
    "tags": []
   },
   "outputs": [
    {
     "data": {
      "text/plain": [
       "<catboost.core.CatBoostClassifier at 0x1d680008fa0>"
      ]
     },
     "execution_count": 18,
     "metadata": {},
     "output_type": "execute_result"
    }
   ],
   "source": [
    "learner_catboost = CatBoostClassifier(n_estimators=1000, eval_metric = 'AUC',\n",
    "                                      max_depth = 6)\n",
    "learner_catboost.fit(train, y_train,  early_stopping_rounds=10, verbose=False)"
   ]
  },
  {
   "cell_type": "code",
   "execution_count": 19,
   "metadata": {
    "execution": {
     "iopub.execute_input": "2021-02-15T00:16:39.784373Z",
     "iopub.status.busy": "2021-02-15T00:16:39.783371Z",
     "iopub.status.idle": "2021-02-15T00:20:37.036956Z",
     "shell.execute_reply": "2021-02-15T00:20:37.037563Z"
    },
    "papermill": {
     "duration": 237.526482,
     "end_time": "2021-02-15T00:20:37.037762",
     "exception": false,
     "start_time": "2021-02-15T00:16:39.511280",
     "status": "completed"
    },
    "tags": []
   },
   "outputs": [
    {
     "data": {
      "text/plain": [
       "(396666,)"
      ]
     },
     "execution_count": 19,
     "metadata": {},
     "output_type": "execute_result"
    }
   ],
   "source": [
    "test_probs_catboost = pd.Series(learner_catboost.predict_proba(test)[:, -1], index=test.index, name=\"target\")\n",
    "test_probs_lightgbm = pd.Series(learner_lightgbm.predict_proba(test)[:, -1], index=test.index, name=\"target\")\n",
    "test_probs_mean_all = test_probs_catboost*0.4 + test_probs_lightgbm*0.6\n",
    "test_probs_mean_all.name = 'target'\n",
    "test_probs_mean_all.shape"
   ]
  },
  {
   "cell_type": "code",
   "execution_count": 28,
   "metadata": {},
   "outputs": [],
   "source": [
    "test_probs_mean_all.to_csv('../results/test_probs_mean_all.csv')"
   ]
  },
  {
   "cell_type": "code",
   "execution_count": 20,
   "metadata": {
    "execution": {
     "iopub.execute_input": "2021-02-15T00:20:37.084223Z",
     "iopub.status.busy": "2021-02-15T00:20:37.083612Z",
     "iopub.status.idle": "2021-02-15T00:20:37.086916Z",
     "shell.execute_reply": "2021-02-15T00:20:37.086327Z"
    },
    "papermill": {
     "duration": 0.029158,
     "end_time": "2021-02-15T00:20:37.087066",
     "exception": false,
     "start_time": "2021-02-15T00:20:37.057908",
     "status": "completed"
    },
    "tags": []
   },
   "outputs": [],
   "source": [
    "del learner_lightgbm, learner_catboost, test_probs_lightgbm,  test_probs_catboost"
   ]
  },
  {
   "cell_type": "markdown",
   "metadata": {
    "papermill": {
     "duration": 0.020325,
     "end_time": "2021-02-15T00:20:37.128184",
     "exception": false,
     "start_time": "2021-02-15T00:20:37.107859",
     "status": "completed"
    },
    "tags": []
   },
   "source": [
    "### considerando 500 variables importantes de cada modelo"
   ]
  },
  {
   "cell_type": "code",
   "execution_count": 54,
   "metadata": {
    "execution": {
     "iopub.execute_input": "2021-02-15T00:20:37.175578Z",
     "iopub.status.busy": "2021-02-15T00:20:37.174920Z",
     "iopub.status.idle": "2021-02-15T00:23:48.709927Z",
     "shell.execute_reply": "2021-02-15T00:23:48.710475Z"
    },
    "papermill": {
     "duration": 191.561912,
     "end_time": "2021-02-15T00:23:48.710672",
     "exception": false,
     "start_time": "2021-02-15T00:20:37.148760",
     "status": "completed"
    },
    "tags": []
   },
   "outputs": [
    {
     "name": "stdout",
     "output_type": "stream",
     "text": [
      "[LightGBM] [Warning] Accuracy may be bad since you didn't explicitly set num_leaves OR 2^max_depth > num_leaves. (num_leaves=31).\n"
     ]
    },
    {
     "data": {
      "text/plain": [
       "LGBMClassifier(boosting_type='gbdt', class_weight=None, colsample_bytree=1.0,\n",
       "               importance_type='split', learning_rate=0.1, max_depth=6,\n",
       "               min_child_samples=1000, min_child_weight=0.001,\n",
       "               min_split_gain=0.0, n_estimators=1000, n_jobs=-1, num_leaves=31,\n",
       "               objective=None, random_state=None, reg_alpha=0.0, reg_lambda=0.0,\n",
       "               silent=True, subsample=1.0, subsample_for_bin=200000,\n",
       "               subsample_freq=0)"
      ]
     },
     "execution_count": 54,
     "metadata": {},
     "output_type": "execute_result"
    }
   ],
   "source": [
    "fi = pd.read_pickle('fi_catboost.pkl')\n",
    "features_importances_lightgbm = list(fi.sort_values(ascending=False).head(500).index)\n",
    "learner_lightgbm = LGBMClassifier(n_estimators=1000, max_depth=6, boosting_type='gbdt', \n",
    "                                  min_child_samples=1000)\n",
    "learner_lightgbm.fit(train[features_importances_lightgbm], y_train.target, eval_metric=\"auc\", verbose=True)"
   ]
  },
  {
   "cell_type": "code",
   "execution_count": 55,
   "metadata": {
    "execution": {
     "iopub.execute_input": "2021-02-15T00:23:48.761015Z",
     "iopub.status.busy": "2021-02-15T00:23:48.760153Z",
     "iopub.status.idle": "2021-02-15T00:31:02.403945Z",
     "shell.execute_reply": "2021-02-15T00:31:02.404483Z"
    },
    "papermill": {
     "duration": 433.672745,
     "end_time": "2021-02-15T00:31:02.404673",
     "exception": false,
     "start_time": "2021-02-15T00:23:48.731928",
     "status": "completed"
    },
    "tags": []
   },
   "outputs": [
    {
     "data": {
      "text/plain": [
       "<catboost.core.CatBoostClassifier at 0x1d6e7c187c0>"
      ]
     },
     "execution_count": 55,
     "metadata": {},
     "output_type": "execute_result"
    }
   ],
   "source": [
    "fi = pd.read_pickle('fi_catboost.pkl')\n",
    "features_importances_catboost = list(fi.sort_values(ascending=False).head(500).index)\n",
    "learner_catboost = CatBoostClassifier(n_estimators=1000, eval_metric = 'AUC', \n",
    "                                      max_depth = 6)\n",
    "learner_catboost.fit(train[features_importances_catboost], y_train,  early_stopping_rounds=10, verbose=False)"
   ]
  },
  {
   "cell_type": "code",
   "execution_count": 56,
   "metadata": {
    "execution": {
     "iopub.execute_input": "2021-02-15T00:31:02.457727Z",
     "iopub.status.busy": "2021-02-15T00:31:02.457031Z",
     "iopub.status.idle": "2021-02-15T00:32:23.221972Z",
     "shell.execute_reply": "2021-02-15T00:32:23.222496Z"
    },
    "papermill": {
     "duration": 80.796016,
     "end_time": "2021-02-15T00:32:23.222728",
     "exception": false,
     "start_time": "2021-02-15T00:31:02.426712",
     "status": "completed"
    },
    "tags": []
   },
   "outputs": [
    {
     "data": {
      "text/plain": [
       "(396666,)"
      ]
     },
     "execution_count": 56,
     "metadata": {},
     "output_type": "execute_result"
    }
   ],
   "source": [
    "test_probs_catboost = pd.Series(learner_catboost.predict_proba(test[features_importances_catboost])[:, -1], index=test.index, name=\"target\")\n",
    "test_probs_lightgbm = pd.Series(learner_lightgbm.predict_proba(test[features_importances_lightgbm])[:, -1], index=test.index, name=\"target\")\n",
    "test_probs_mean_500 = test_probs_catboost*0.4 + test_probs_lightgbm*0.6\n",
    "test_probs_mean_500.name = 'target'\n",
    "test_probs_mean_500.shape"
   ]
  },
  {
   "cell_type": "code",
   "execution_count": 57,
   "metadata": {},
   "outputs": [],
   "source": [
    "test_probs_mean_500.to_csv('../results/test_probs_mean_500.csv')"
   ]
  },
  {
   "cell_type": "code",
   "execution_count": 26,
   "metadata": {
    "execution": {
     "iopub.execute_input": "2021-02-15T00:32:23.273752Z",
     "iopub.status.busy": "2021-02-15T00:32:23.272927Z",
     "iopub.status.idle": "2021-02-15T00:32:23.276277Z",
     "shell.execute_reply": "2021-02-15T00:32:23.275519Z"
    },
    "papermill": {
     "duration": 0.030686,
     "end_time": "2021-02-15T00:32:23.276509",
     "exception": false,
     "start_time": "2021-02-15T00:32:23.245823",
     "status": "completed"
    },
    "tags": []
   },
   "outputs": [],
   "source": [
    "del learner_lightgbm, learner_catboost, test_probs_lightgbm,  test_probs_catboost"
   ]
  },
  {
   "cell_type": "markdown",
   "metadata": {
    "papermill": {
     "duration": 0.023646,
     "end_time": "2021-02-15T00:32:23.323400",
     "exception": false,
     "start_time": "2021-02-15T00:32:23.299754",
     "status": "completed"
    },
    "tags": []
   },
   "source": [
    "## Stacking Models"
   ]
  },
  {
   "cell_type": "code",
   "execution_count": 81,
   "metadata": {
    "execution": {
     "iopub.execute_input": "2021-02-15T00:32:23.376121Z",
     "iopub.status.busy": "2021-02-15T00:32:23.375295Z",
     "iopub.status.idle": "2021-02-15T00:32:24.523751Z",
     "shell.execute_reply": "2021-02-15T00:32:24.523017Z"
    },
    "papermill": {
     "duration": 1.177193,
     "end_time": "2021-02-15T00:32:24.523910",
     "exception": false,
     "start_time": "2021-02-15T00:32:23.346717",
     "status": "completed"
    },
    "tags": []
   },
   "outputs": [],
   "source": [
    "train_probs_lightgbm = pd.read_pickle('train_probs_lightgbm.pkl')\n",
    "train_probs_lightgbm_cf = pd.read_pickle('train_probs_lightgbm_cf.pkl')\n",
    "train_probs_catboost = pd.read_pickle('train_probs_catboost.pkl')\n",
    "train_probs_gbc = pd.read_pickle('train_probs_gbc.pkl')\n",
    "\n",
    "test_probs_lightgbm = pd.read_pickle('test_probs_lightgbm.pkl')\n",
    "test_probs_lightgbm_cf = pd.read_pickle('test_probs_lightgbm_cf.pkl')\n",
    "test_probs_catboost = pd.read_pickle('test_probs_catboost.pkl')\n",
    "test_probs_gbc = pd.read_pickle('test_probs_gbc.pkl')"
   ]
  },
  {
   "cell_type": "code",
   "execution_count": 82,
   "metadata": {
    "execution": {
     "iopub.execute_input": "2021-02-15T00:32:24.578711Z",
     "iopub.status.busy": "2021-02-15T00:32:24.578006Z",
     "iopub.status.idle": "2021-02-15T00:32:24.581913Z",
     "shell.execute_reply": "2021-02-15T00:32:24.581365Z"
    },
    "papermill": {
     "duration": 0.035176,
     "end_time": "2021-02-15T00:32:24.582067",
     "exception": false,
     "start_time": "2021-02-15T00:32:24.546891",
     "status": "completed"
    },
    "tags": []
   },
   "outputs": [],
   "source": [
    "from sklearn.model_selection import cross_validate\n",
    "from sklearn.model_selection import learning_curve\n",
    "def cross_validate_learning_rate(estimator, x_train, y_train, cv = 5, scoring = 'roc_auc', return_train_score = True):\n",
    "    results = cross_validate(estimator,\n",
    "                            x_train,\n",
    "                            y_train,\n",
    "                            cv = cv,\n",
    "                            scoring=scoring,\n",
    "                            return_train_score = return_train_score ) \n",
    "    train_scores = results['train_score']\n",
    "    test_scores = results['test_score']\n",
    "    print(\"train_scores: {}\".format(np.mean(train_scores)))\n",
    "    print(\"test_scores: {}\".format(np.mean(test_scores)))\n",
    "\n",
    "    lc = learning_curve(estimator, \n",
    "                        x_train, \n",
    "                        y_train, \n",
    "                        cv=cv, \n",
    "                        scoring=scoring)\n",
    "    samples, train, test = lc[0],lc[1],lc[2]\n",
    "    plt.plot(samples, np.mean(train, axis=1))\n",
    "    plt.plot(samples, np.mean(test, axis=1))"
   ]
  },
  {
   "cell_type": "code",
   "execution_count": 83,
   "metadata": {
    "execution": {
     "iopub.execute_input": "2021-02-15T00:32:24.635246Z",
     "iopub.status.busy": "2021-02-15T00:32:24.634177Z",
     "iopub.status.idle": "2021-02-15T00:32:24.638245Z",
     "shell.execute_reply": "2021-02-15T00:32:24.637664Z"
    },
    "papermill": {
     "duration": 0.033472,
     "end_time": "2021-02-15T00:32:24.638403",
     "exception": false,
     "start_time": "2021-02-15T00:32:24.604931",
     "status": "completed"
    },
    "tags": []
   },
   "outputs": [],
   "source": [
    "from sklearn.model_selection import GridSearchCV\n",
    "def grid_search_param(X, y,nfolds, param_grid, model_sklearn, scoring = 'roc_auc'):\n",
    "    grid_search = GridSearchCV(model_sklearn, param_grid, cv=nfolds, return_train_score=True, scoring=scoring)\n",
    "    grid_search.fit(X, y)\n",
    "    return grid_search"
   ]
  },
  {
   "cell_type": "code",
   "execution_count": 84,
   "metadata": {
    "execution": {
     "iopub.execute_input": "2021-02-15T00:32:24.692564Z",
     "iopub.status.busy": "2021-02-15T00:32:24.691495Z",
     "iopub.status.idle": "2021-02-15T00:32:24.711478Z",
     "shell.execute_reply": "2021-02-15T00:32:24.710916Z"
    },
    "papermill": {
     "duration": 0.049907,
     "end_time": "2021-02-15T00:32:24.711636",
     "exception": false,
     "start_time": "2021-02-15T00:32:24.661729",
     "status": "completed"
    },
    "tags": []
   },
   "outputs": [],
   "source": [
    "train_probs_total = pd.concat([train_probs_lightgbm,train_probs_lightgbm_cf, train_probs_catboost, train_probs_gbc], axis=1)\n",
    "test_probs_total =  pd.concat([test_probs_lightgbm,test_probs_lightgbm_cf, test_probs_catboost, test_probs_gbc], axis=1)\n",
    "train_probs_total.columns = ['probs_lightgbm', 'probs_lightgbm_cf', 'probs_catboost','probs_gbc']\n",
    "test_probs_total.columns = ['probs_lightgbm', 'probs_lightgbm_cf', 'probs_catboost', 'probs_gbc']"
   ]
  },
  {
   "cell_type": "code",
   "execution_count": 85,
   "metadata": {},
   "outputs": [
    {
     "data": {
      "text/html": [
       "<div>\n",
       "<style scoped>\n",
       "    .dataframe tbody tr th:only-of-type {\n",
       "        vertical-align: middle;\n",
       "    }\n",
       "\n",
       "    .dataframe tbody tr th {\n",
       "        vertical-align: top;\n",
       "    }\n",
       "\n",
       "    .dataframe thead th {\n",
       "        text-align: right;\n",
       "    }\n",
       "</style>\n",
       "<table border=\"1\" class=\"dataframe\">\n",
       "  <thead>\n",
       "    <tr style=\"text-align: right;\">\n",
       "      <th></th>\n",
       "      <th>probs_lightgbm</th>\n",
       "      <th>probs_lightgbm_cf</th>\n",
       "      <th>probs_catboost</th>\n",
       "      <th>probs_gbc</th>\n",
       "    </tr>\n",
       "  </thead>\n",
       "  <tbody>\n",
       "    <tr>\n",
       "      <th>probs_lightgbm</th>\n",
       "      <td>1.000000</td>\n",
       "      <td>0.984022</td>\n",
       "      <td>0.980579</td>\n",
       "      <td>0.947272</td>\n",
       "    </tr>\n",
       "    <tr>\n",
       "      <th>probs_lightgbm_cf</th>\n",
       "      <td>0.984022</td>\n",
       "      <td>1.000000</td>\n",
       "      <td>0.976215</td>\n",
       "      <td>0.945748</td>\n",
       "    </tr>\n",
       "    <tr>\n",
       "      <th>probs_catboost</th>\n",
       "      <td>0.980579</td>\n",
       "      <td>0.976215</td>\n",
       "      <td>1.000000</td>\n",
       "      <td>0.953825</td>\n",
       "    </tr>\n",
       "    <tr>\n",
       "      <th>probs_gbc</th>\n",
       "      <td>0.947272</td>\n",
       "      <td>0.945748</td>\n",
       "      <td>0.953825</td>\n",
       "      <td>1.000000</td>\n",
       "    </tr>\n",
       "  </tbody>\n",
       "</table>\n",
       "</div>"
      ],
      "text/plain": [
       "                   probs_lightgbm  probs_lightgbm_cf  probs_catboost  \\\n",
       "probs_lightgbm           1.000000           0.984022        0.980579   \n",
       "probs_lightgbm_cf        0.984022           1.000000        0.976215   \n",
       "probs_catboost           0.980579           0.976215        1.000000   \n",
       "probs_gbc                0.947272           0.945748        0.953825   \n",
       "\n",
       "                   probs_gbc  \n",
       "probs_lightgbm      0.947272  \n",
       "probs_lightgbm_cf   0.945748  \n",
       "probs_catboost      0.953825  \n",
       "probs_gbc           1.000000  "
      ]
     },
     "metadata": {},
     "output_type": "display_data"
    },
    {
     "data": {
      "text/html": [
       "<div>\n",
       "<style scoped>\n",
       "    .dataframe tbody tr th:only-of-type {\n",
       "        vertical-align: middle;\n",
       "    }\n",
       "\n",
       "    .dataframe tbody tr th {\n",
       "        vertical-align: top;\n",
       "    }\n",
       "\n",
       "    .dataframe thead th {\n",
       "        text-align: right;\n",
       "    }\n",
       "</style>\n",
       "<table border=\"1\" class=\"dataframe\">\n",
       "  <thead>\n",
       "    <tr style=\"text-align: right;\">\n",
       "      <th></th>\n",
       "      <th>probs_lightgbm</th>\n",
       "      <th>probs_lightgbm_cf</th>\n",
       "      <th>probs_catboost</th>\n",
       "      <th>probs_gbc</th>\n",
       "    </tr>\n",
       "  </thead>\n",
       "  <tbody>\n",
       "    <tr>\n",
       "      <th>probs_lightgbm</th>\n",
       "      <td>1.000000</td>\n",
       "      <td>0.993128</td>\n",
       "      <td>0.990232</td>\n",
       "      <td>0.971843</td>\n",
       "    </tr>\n",
       "    <tr>\n",
       "      <th>probs_lightgbm_cf</th>\n",
       "      <td>0.993128</td>\n",
       "      <td>1.000000</td>\n",
       "      <td>0.987340</td>\n",
       "      <td>0.971278</td>\n",
       "    </tr>\n",
       "    <tr>\n",
       "      <th>probs_catboost</th>\n",
       "      <td>0.990232</td>\n",
       "      <td>0.987340</td>\n",
       "      <td>1.000000</td>\n",
       "      <td>0.976242</td>\n",
       "    </tr>\n",
       "    <tr>\n",
       "      <th>probs_gbc</th>\n",
       "      <td>0.971843</td>\n",
       "      <td>0.971278</td>\n",
       "      <td>0.976242</td>\n",
       "      <td>1.000000</td>\n",
       "    </tr>\n",
       "  </tbody>\n",
       "</table>\n",
       "</div>"
      ],
      "text/plain": [
       "                   probs_lightgbm  probs_lightgbm_cf  probs_catboost  \\\n",
       "probs_lightgbm           1.000000           0.993128        0.990232   \n",
       "probs_lightgbm_cf        0.993128           1.000000        0.987340   \n",
       "probs_catboost           0.990232           0.987340        1.000000   \n",
       "probs_gbc                0.971843           0.971278        0.976242   \n",
       "\n",
       "                   probs_gbc  \n",
       "probs_lightgbm      0.971843  \n",
       "probs_lightgbm_cf   0.971278  \n",
       "probs_catboost      0.976242  \n",
       "probs_gbc           1.000000  "
      ]
     },
     "metadata": {},
     "output_type": "display_data"
    }
   ],
   "source": [
    "display(train_probs_total.corr(), test_probs_total.corr())"
   ]
  },
  {
   "cell_type": "code",
   "execution_count": 86,
   "metadata": {
    "execution": {
     "iopub.execute_input": "2021-02-15T00:32:24.877785Z",
     "iopub.status.busy": "2021-02-15T00:32:24.876844Z",
     "iopub.status.idle": "2021-02-15T00:32:25.123774Z",
     "shell.execute_reply": "2021-02-15T00:32:25.123079Z"
    },
    "papermill": {
     "duration": 0.275769,
     "end_time": "2021-02-15T00:32:25.123934",
     "exception": false,
     "start_time": "2021-02-15T00:32:24.848165",
     "status": "completed"
    },
    "tags": []
   },
   "outputs": [
    {
     "data": {
      "image/png": "[encoded data removed]",
      "text/plain": [
       "<Figure size 432x288 with 1 Axes>"
      ]
     },
     "metadata": {
      "needs_background": "light"
     },
     "output_type": "display_data"
    }
   ],
   "source": [
    "import matplotlib.pyplot as plt\n",
    "plt.hist(np.std(train_probs_total.values, axis=1));"
   ]
  },
  {
   "cell_type": "code",
   "execution_count": 87,
   "metadata": {},
   "outputs": [
    {
     "name": "stdout",
     "output_type": "stream",
     "text": [
      "train_scores: 0.8550515587785382\n",
      "test_scores: 0.8550275501218397\n"
     ]
    },
    {
     "data": {
      "image/png": "[encoded data removed]",
      "text/plain": [
       "<Figure size 432x288 with 1 Axes>"
      ]
     },
     "metadata": {
      "needs_background": "light"
     },
     "output_type": "display_data"
    }
   ],
   "source": [
    "from sklearn.linear_model import LogisticRegression\n",
    "### definir los parametros a tunear\n",
    "train = train\n",
    "Cs = [0.1, 0.3, 0.8, 0.9, 1.0]\n",
    "# https://neurtu.readthedocs.io/examples/logistic_regression_scaling.html\n",
    "solvers = ['lbfgs','saga','newton-cg','sag'] # newton-cg, sag, lbfgs, liblinear, saga\n",
    "param_grid = {'C': Cs,'solver':solvers}\n",
    "### encontrando los hiper_parámetros\n",
    "fitting=grid_search_param(train_probs_total, y_train.target, 5,param_grid, LogisticRegression(penalty=\"l2\", tol=0.0001, random_state=42), scoring='roc_auc')\n",
    "### instanciar el estimador\n",
    "estimator = fitting.best_estimator_\n",
    "#     print(estimator)\n",
    "### aplicar cross_validate y learning_rate \n",
    "cross_validate_learning_rate(estimator, train_probs_total, y_train.target, scoring='roc_auc')\n",
    "# train_scores: 0.8549805030622771\n",
    "# test_scores: 0.8549643288879635\n",
    "\n",
    "# train_scores: 0.8550187861604925\n",
    "# test_scores: 0.8549880915328358\n",
    "\n",
    "# train_scores: 0.855097093888481\n",
    "# test_scores: 0.8550626524877918"
   ]
  },
  {
   "cell_type": "code",
   "execution_count": 88,
   "metadata": {
    "execution": {
     "iopub.execute_input": "2021-02-15T00:36:59.661345Z",
     "iopub.status.busy": "2021-02-15T00:36:59.660620Z",
     "iopub.status.idle": "2021-02-15T00:36:59.664458Z",
     "shell.execute_reply": "2021-02-15T00:36:59.663816Z"
    },
    "papermill": {
     "duration": 0.035621,
     "end_time": "2021-02-15T00:36:59.664598",
     "exception": false,
     "start_time": "2021-02-15T00:36:59.628977",
     "status": "completed"
    },
    "tags": []
   },
   "outputs": [
    {
     "name": "stdout",
     "output_type": "stream",
     "text": [
      "LogisticRegression(C=0.1, class_weight=None, dual=False, fit_intercept=True,\n",
      "                   intercept_scaling=1, l1_ratio=None, max_iter=100,\n",
      "                   multi_class='auto', n_jobs=None, penalty='l2',\n",
      "                   random_state=42, solver='lbfgs', tol=0.0001, verbose=0,\n",
      "                   warm_start=False)\n"
     ]
    }
   ],
   "source": [
    "print(estimator)"
   ]
  },
  {
   "cell_type": "code",
   "execution_count": 89,
   "metadata": {
    "execution": {
     "iopub.execute_input": "2021-02-15T00:36:59.724951Z",
     "iopub.status.busy": "2021-02-15T00:36:59.724124Z",
     "iopub.status.idle": "2021-02-15T00:36:59.728311Z",
     "shell.execute_reply": "2021-02-15T00:36:59.727801Z"
    },
    "papermill": {
     "duration": 0.037177,
     "end_time": "2021-02-15T00:36:59.728476",
     "exception": false,
     "start_time": "2021-02-15T00:36:59.691299",
     "status": "completed"
    },
    "tags": []
   },
   "outputs": [
    {
     "data": {
      "text/plain": [
       "array([[ 2.72611912,  2.06748151,  2.32247299, -0.48829984]])"
      ]
     },
     "execution_count": 89,
     "metadata": {},
     "output_type": "execute_result"
    }
   ],
   "source": [
    "estimator.coef_"
   ]
  },
  {
   "cell_type": "code",
   "execution_count": 90,
   "metadata": {
    "execution": {
     "iopub.execute_input": "2021-02-15T00:36:59.790804Z",
     "iopub.status.busy": "2021-02-15T00:36:59.789652Z",
     "iopub.status.idle": "2021-02-15T00:36:59.827694Z",
     "shell.execute_reply": "2021-02-15T00:36:59.828610Z"
    },
    "papermill": {
     "duration": 0.073389,
     "end_time": "2021-02-15T00:36:59.828888",
     "exception": false,
     "start_time": "2021-02-15T00:36:59.755499",
     "status": "completed"
    },
    "scrolled": true,
    "tags": []
   },
   "outputs": [
    {
     "data": {
      "text/plain": [
       "key_value\n",
       "0         0.045155\n",
       "1         0.061929\n",
       "2         0.055068\n",
       "3         0.608296\n",
       "4         0.118015\n",
       "            ...   \n",
       "396661    0.069217\n",
       "396662    0.153749\n",
       "396663    0.196956\n",
       "396664    0.057029\n",
       "396665    0.058318\n",
       "Name: target, Length: 396666, dtype: float64"
      ]
     },
     "execution_count": 90,
     "metadata": {},
     "output_type": "execute_result"
    }
   ],
   "source": [
    "test_stacking = pd.Series(estimator.predict_proba(test_probs_total)[:,-1], index=test.index, name = 'target')\n",
    "test_stacking"
   ]
  },
  {
   "cell_type": "code",
   "execution_count": 91,
   "metadata": {},
   "outputs": [],
   "source": [
    "test_stacking.to_csv('../results/test_stacking.csv')"
   ]
  },
  {
   "cell_type": "markdown",
   "metadata": {
    "papermill": {
     "duration": 0.044092,
     "end_time": "2021-02-15T00:36:59.922573",
     "exception": false,
     "start_time": "2021-02-15T00:36:59.878481",
     "status": "completed"
    },
    "tags": []
   },
   "source": [
    "## Promedio final"
   ]
  },
  {
   "cell_type": "code",
   "execution_count": 92,
   "metadata": {
    "execution": {
     "iopub.execute_input": "2021-02-15T00:36:59.983196Z",
     "iopub.status.busy": "2021-02-15T00:36:59.982227Z",
     "iopub.status.idle": "2021-02-15T00:36:59.992200Z",
     "shell.execute_reply": "2021-02-15T00:36:59.992719Z"
    },
    "papermill": {
     "duration": 0.042781,
     "end_time": "2021-02-15T00:36:59.992892",
     "exception": false,
     "start_time": "2021-02-15T00:36:59.950111",
     "status": "completed"
    },
    "tags": []
   },
   "outputs": [
    {
     "data": {
      "text/plain": [
       "key_value\n",
       "0         0.028305\n",
       "1         0.060102\n",
       "2         0.047338\n",
       "3         0.553070\n",
       "4         0.131837\n",
       "            ...   \n",
       "396661    0.074560\n",
       "396662    0.165494\n",
       "396663    0.197027\n",
       "396664    0.049624\n",
       "396665    0.050562\n",
       "Name: target, Length: 396666, dtype: float64"
      ]
     },
     "execution_count": 92,
     "metadata": {},
     "output_type": "execute_result"
    }
   ],
   "source": [
    "test_probs_mean_all_stacking = test_probs_mean_all*0.4 + test_stacking*0.6\n",
    "test_probs_mean_all_stacking"
   ]
  },
  {
   "cell_type": "code",
   "execution_count": 93,
   "metadata": {},
   "outputs": [],
   "source": [
    "test_probs_mean_all_stacking.to_csv('../results/test_probs_mean_all_stacking.csv')"
   ]
  },
  {
   "cell_type": "code",
   "execution_count": 94,
   "metadata": {
    "execution": {
     "iopub.execute_input": "2021-02-15T00:37:00.052542Z",
     "iopub.status.busy": "2021-02-15T00:37:00.051548Z",
     "iopub.status.idle": "2021-02-15T00:37:00.063875Z",
     "shell.execute_reply": "2021-02-15T00:37:00.063331Z"
    },
    "papermill": {
     "duration": 0.043292,
     "end_time": "2021-02-15T00:37:00.064032",
     "exception": false,
     "start_time": "2021-02-15T00:37:00.020740",
     "status": "completed"
    },
    "scrolled": true,
    "tags": []
   },
   "outputs": [
    {
     "data": {
      "text/plain": [
       "key_value\n",
       "0         0.028461\n",
       "1         0.055240\n",
       "2         0.048425\n",
       "3         0.575214\n",
       "4         0.145232\n",
       "            ...   \n",
       "396661    0.079864\n",
       "396662    0.164179\n",
       "396663    0.209078\n",
       "396664    0.052040\n",
       "396665    0.047103\n",
       "Name: target, Length: 396666, dtype: float64"
      ]
     },
     "execution_count": 94,
     "metadata": {},
     "output_type": "execute_result"
    }
   ],
   "source": [
    "test_probs_mean_500_stacking = test_probs_mean_500*0.4 + test_stacking*0.6\n",
    "test_probs_mean_500_stacking"
   ]
  },
  {
   "cell_type": "code",
   "execution_count": 95,
   "metadata": {},
   "outputs": [],
   "source": [
    "test_probs_mean_500_stacking.to_csv('../results/test_probs_mean_500_stacking.csv')"
   ]
  },
  {
   "cell_type": "code",
   "execution_count": 96,
   "metadata": {
    "execution": {
     "iopub.execute_input": "2021-02-15T00:37:00.128637Z",
     "iopub.status.busy": "2021-02-15T00:37:00.127392Z",
     "iopub.status.idle": "2021-02-15T00:37:00.136890Z",
     "shell.execute_reply": "2021-02-15T00:37:00.136368Z"
    },
    "papermill": {
     "duration": 0.044113,
     "end_time": "2021-02-15T00:37:00.137046",
     "exception": false,
     "start_time": "2021-02-15T00:37:00.092933",
     "status": "completed"
    },
    "tags": []
   },
   "outputs": [
    {
     "data": {
      "text/plain": [
       "key_value\n",
       "0         0.028383\n",
       "1         0.057671\n",
       "2         0.047882\n",
       "3         0.564142\n",
       "4         0.138534\n",
       "            ...   \n",
       "396661    0.077212\n",
       "396662    0.164836\n",
       "396663    0.203053\n",
       "396664    0.050832\n",
       "396665    0.048833\n",
       "Name: target, Length: 396666, dtype: float64"
      ]
     },
     "execution_count": 96,
     "metadata": {},
     "output_type": "execute_result"
    }
   ],
   "source": [
    "test_probs_mean_final = test_probs_mean_all_stacking*0.5 + test_probs_mean_500_stacking*0.5\n",
    "test_probs_mean_final"
   ]
  },
  {
   "cell_type": "code",
   "execution_count": 97,
   "metadata": {
    "execution": {
     "iopub.execute_input": "2021-02-15T00:37:00.200557Z",
     "iopub.status.busy": "2021-02-15T00:37:00.199843Z",
     "iopub.status.idle": "2021-02-15T00:37:01.832301Z",
     "shell.execute_reply": "2021-02-15T00:37:01.831712Z"
    },
    "papermill": {
     "duration": 1.666653,
     "end_time": "2021-02-15T00:37:01.832489",
     "exception": false,
     "start_time": "2021-02-15T00:37:00.165836",
     "status": "completed"
    },
    "tags": []
   },
   "outputs": [],
   "source": [
    "test_probs_mean_final.to_csv('../results/test_probs_mean_final.csv')"
   ]
  }
 ],
 "metadata": {
  "kernelspec": {
   "display_name": "Python 3",
   "language": "python",
   "name": "python3"
  },
  "language_info": {
   "codemirror_mode": {
    "name": "ipython",
    "version": 3
   },
   "file_extension": ".py",
   "mimetype": "text/x-python",
   "name": "python",
   "nbconvert_exporter": "python",
   "pygments_lexer": "ipython3",
   "version": "3.8.5"
  },
  "papermill": {
   "default_parameters": {},
   "duration": 3122.767508,
   "end_time": "2021-02-15T00:37:04.119828",
   "environment_variables": {},
   "exception": null,
   "input_path": "__notebook__.ipynb",
   "output_path": "__notebook__.ipynb",
   "parameters": {},
   "start_time": "2021-02-14T23:45:01.352320",
   "version": "2.2.2"
  }
 },
 "nbformat": 4,
 "nbformat_minor": 4
}
