{
 "cells": [
  {
   "cell_type": "code",
   "execution_count": 1,
   "metadata": {},
   "outputs": [],
   "source": [
    "import pandas as pd\n",
    "import gc\n",
    "rcc_train = pd.read_csv(\"../data/rcc_train.csv\")\n",
    "y_train = pd.read_csv(\"../data/y_train.csv\", index_col=\"key_value\")\n",
    "rcc_test = pd.read_csv(\"../data/rcc_test.csv\")"
   ]
  },
  {
   "cell_type": "code",
   "execution_count": 2,
   "metadata": {},
   "outputs": [
    {
     "data": {
      "text/plain": [
       "((30391626, 9), (34351754, 9))"
      ]
     },
     "execution_count": 2,
     "metadata": {},
     "output_type": "execute_result"
    }
   ],
   "source": [
    "rcc_train.shape, rcc_test.shape"
   ]
  },
  {
   "cell_type": "code",
   "execution_count": null,
   "metadata": {},
   "outputs": [],
   "source": [
    "### se puede observar que en el rcc_train aquellos clientes que tienen un solo registro, es porque se refiere al ultimo\n",
    "### periodo de la data de train que es del febrero del 2018, cuyo RIESGO_DIRECTO es 1 y COD_CLASIFICACION_DEUDOR es 0 \n",
    "### su condicion (días de atraso) es 0 siendo estos cerca de 623 clientes. Pero OJO el 9% de los nuevos clientes tienen un target igual a 1\n",
    "\n",
    "### el target de la data train representa el score crediticio al febrero del 2018 \n",
    "### por lo que se sobre-entiende que lo que se quiere predecir es el score crediticio al febrero del 2019\n",
    "\n",
    "### La data train abarca desde 201703 hasta 201802\n",
    "### La data test comprende desde 201803 hasta 201902\n",
    "### Los primeros registros de los clientes tienen un RIESGO DIRECTO de 1 ***\n",
    "\n",
    "### La distribucion del target general es de 16% para 1 y 84% para los 0\n",
    "### A mayor COD_CLASIFICACION_DEUDOR y codmes mes cercano, el target se aproxima a 1. Ejm COD_CLASIFICACION_DEUDOR=5 y codmes=201802\n",
    "### el target esta representado por el 97% de 1 y 3% de cero "
   ]
  },
  {
   "cell_type": "code",
   "execution_count": null,
   "metadata": {},
   "outputs": [],
   "source": [
    "### condicion, saldo   ..... son variables cuantitativas\n",
    "### tipo_credito en train no tiene la clase de 7 como en el test, pero este tiene solo 1 valor (8 clases) ### Frecuencia 11\n",
    "### cod_instit_financiera , 12 clases más se encuentran en el train que en el test (mas de 100 clases) ### Frecuencia 34 ----\n",
    "### PRODUCTO, el train tiene la clase 255 y el test no (42 clases) ### Frecuencia 1  ----\n",
    "### RIESGO_DIRECTO es lo mismo , es lo mismo en el test y en el train (5 clases) ### Frecuencia -1\n",
    "### COD_CLASIFICACION_DEUDOR , es lo mismo en el test y en el train (6 clases) ### Frecuencia 0\n",
    "### en el rcc_test, faltan valores en la columma de cod_instit_financiera y producto"
   ]
  },
  {
   "cell_type": "code",
   "execution_count": 4,
   "metadata": {},
   "outputs": [],
   "source": [
    "bins = [-1, 0, 10, 20, 30, 60, 90, 180, 360, 720, float(\"inf\")]\n",
    "rcc_train[\"condicion\"] = pd.cut(rcc_train.condicion, bins, labels = range(0,10))\n",
    "rcc_test[\"condicion\"] = pd.cut(rcc_test.condicion, bins, labels = range(0,10))\n",
    "rcc_test['cod_instit_financiera'] = rcc_test['cod_instit_financiera'].fillna(34)\n",
    "rcc_test['PRODUCTO'] = rcc_test['PRODUCTO'].fillna(1)"
   ]
  },
  {
   "cell_type": "code",
   "execution_count": 5,
   "metadata": {},
   "outputs": [],
   "source": [
    "rcc_train = rcc_train.astype({'condicion':'int32',\n",
    "                  'tipo_credito':'int32',\n",
    "                  'cod_instit_financiera':'int32',\n",
    "                  'PRODUCTO':'int32',\n",
    "                  'RIESGO_DIRECTO':'int32',\n",
    "                  'COD_CLASIFICACION_DEUDOR':'int32'})\n",
    "rcc_test = rcc_test.astype({'condicion':'int32',\n",
    "                  'tipo_credito':'int32',\n",
    "                  'cod_instit_financiera':'int32',\n",
    "                  'PRODUCTO':'int32',\n",
    "                  'RIESGO_DIRECTO':'int32',\n",
    "                  'COD_CLASIFICACION_DEUDOR':'int32'})"
   ]
  },
  {
   "cell_type": "code",
   "execution_count": 6,
   "metadata": {},
   "outputs": [],
   "source": [
    "import statistics as stat\n",
    "import numpy as np\n",
    "def calculate_mode(x):\n",
    "    try:\n",
    "        moda=stat.mode(x)\n",
    "    except:\n",
    "        moda=np.nan\n",
    "    return moda"
   ]
  },
  {
   "cell_type": "code",
   "execution_count": 7,
   "metadata": {},
   "outputs": [
    {
     "data": {
      "application/vnd.jupyter.widget-view+json": {
       "model_id": "224f2ebbcf0b493f959caa18b3aeaa58",
       "version_major": 2,
       "version_minor": 0
      },
      "text/plain": [
       "HBox(children=(FloatProgress(value=0.0, max=12.0), HTML(value='')))"
      ]
     },
     "metadata": {},
     "output_type": "display_data"
    },
    {
     "name": "stdout",
     "output_type": "stream",
     "text": [
      "haciendo tipo_credito\n",
      "haciendo cod_instit_financiera\n",
      "haciendo PRODUCTO\n",
      "haciendo RIESGO_DIRECTO\n",
      "haciendo COD_CLASIFICACION_DEUDOR\n",
      "haciendo condicion\n",
      "haciendo agg \n",
      "haciendo agg \n",
      "haciendo tipo_credito\n",
      "haciendo cod_instit_financiera\n",
      "haciendo PRODUCTO\n",
      "haciendo RIESGO_DIRECTO\n",
      "haciendo COD_CLASIFICACION_DEUDOR\n",
      "haciendo condicion\n",
      "haciendo agg \n",
      "haciendo agg \n",
      "haciendo agg \n",
      "haciendo tipo_credito\n",
      "haciendo cod_instit_financiera\n",
      "haciendo PRODUCTO\n",
      "haciendo RIESGO_DIRECTO\n",
      "haciendo COD_CLASIFICACION_DEUDOR\n",
      "haciendo condicion\n",
      "haciendo agg \n",
      "haciendo agg \n",
      "haciendo agg \n",
      "haciendo agg \n",
      "haciendo agg \n",
      "haciendo agg \n",
      "haciendo tipo_credito\n",
      "haciendo cod_instit_financiera\n",
      "haciendo PRODUCTO\n",
      "haciendo RIESGO_DIRECTO\n",
      "haciendo COD_CLASIFICACION_DEUDOR\n",
      "haciendo condicion\n",
      "haciendo agg \n",
      "\n"
     ]
    }
   ],
   "source": [
    "from tqdm.notebook import tqdm \n",
    "list_rcc_train_agg = []\n",
    "\n",
    "moda=lambda x: calculate_mode(x)\n",
    "moda.__name__='mode'\n",
    "agg_rcc = {\n",
    "           'cod_instit_financiera':['nunique',moda],\n",
    "            'COD_CLASIFICACION_DEUDOR':['nunique','max',moda]\n",
    "          }\n",
    "for n,i in enumerate(tqdm(sorted(set(rcc_train.codmes),reverse=True))):\n",
    "    if i in [201802,201712,201709,201703]:\n",
    "        for c in ['tipo_credito','cod_instit_financiera','PRODUCTO','RIESGO_DIRECTO','COD_CLASIFICACION_DEUDOR','condicion']:\n",
    "            print(f'haciendo {c}')\n",
    "            rcc_train_agg = rcc_train[rcc_train.codmes>=i].groupby(['key_value', c]).saldo.sum().unstack(level = 1, fill_value=0)\n",
    "            rcc_train_agg.columns = [f'{rcc_train_agg.columns.name}_{c}_ult{n+1}meses' for c in rcc_train_agg.columns]\n",
    "            list_rcc_train_agg.append(rcc_train_agg)\n",
    "            gc.collect()\n",
    "    print(f'haciendo agg ')\n",
    "    rcc_train_agg = rcc_train[rcc_train.codmes>=i].groupby('key_value').agg(agg_rcc)\n",
    "    rcc_train_agg.columns = [i+'_'+j+f'_ult{n+1}mes' for i,j in rcc_train_agg.columns]\n",
    "    list_rcc_train_agg.append(rcc_train_agg)\n",
    "    gc.collect()\n",
    "        \n",
    "rcc_train_ = pd.concat(list_rcc_train_agg, axis=1)\n",
    "del rcc_train, list_rcc_train_agg"
   ]
  },
  {
   "cell_type": "code",
   "execution_count": 8,
   "metadata": {},
   "outputs": [
    {
     "data": {
      "text/plain": [
       "(358487, 757)"
      ]
     },
     "execution_count": 8,
     "metadata": {},
     "output_type": "execute_result"
    }
   ],
   "source": [
    "rcc_train_.shape"
   ]
  },
  {
   "cell_type": "code",
   "execution_count": 9,
   "metadata": {},
   "outputs": [
    {
     "data": {
      "application/vnd.jupyter.widget-view+json": {
       "model_id": "8dce6935c51c441bb6cc09e37fbf2a9f",
       "version_major": 2,
       "version_minor": 0
      },
      "text/plain": [
       "HBox(children=(FloatProgress(value=0.0, max=12.0), HTML(value='')))"
      ]
     },
     "metadata": {},
     "output_type": "display_data"
    },
    {
     "name": "stdout",
     "output_type": "stream",
     "text": [
      "haciendo tipo_credito\n",
      "haciendo cod_instit_financiera\n",
      "haciendo PRODUCTO\n",
      "haciendo RIESGO_DIRECTO\n",
      "haciendo COD_CLASIFICACION_DEUDOR\n",
      "haciendo condicion\n",
      "haciendo agg\n",
      "haciendo agg\n",
      "haciendo tipo_credito\n",
      "haciendo cod_instit_financiera\n",
      "haciendo PRODUCTO\n",
      "haciendo RIESGO_DIRECTO\n",
      "haciendo COD_CLASIFICACION_DEUDOR\n",
      "haciendo condicion\n",
      "haciendo agg\n",
      "haciendo agg\n",
      "haciendo agg\n",
      "haciendo tipo_credito\n",
      "haciendo cod_instit_financiera\n",
      "haciendo PRODUCTO\n",
      "haciendo RIESGO_DIRECTO\n",
      "haciendo COD_CLASIFICACION_DEUDOR\n",
      "haciendo condicion\n",
      "haciendo agg\n",
      "haciendo agg\n",
      "haciendo agg\n",
      "haciendo agg\n",
      "haciendo agg\n",
      "haciendo agg\n",
      "haciendo tipo_credito\n",
      "haciendo cod_instit_financiera\n",
      "haciendo PRODUCTO\n",
      "haciendo RIESGO_DIRECTO\n",
      "haciendo COD_CLASIFICACION_DEUDOR\n",
      "haciendo condicion\n",
      "haciendo agg\n",
      "\n"
     ]
    }
   ],
   "source": [
    "from tqdm.notebook import tqdm \n",
    "list_rcc_test_agg = []\n",
    "for n,i in enumerate(tqdm(sorted(set(rcc_test.codmes),reverse=True))):\n",
    "    if i in [201902,201812,201809,201803]:\n",
    "        for c in ['tipo_credito','cod_instit_financiera','PRODUCTO','RIESGO_DIRECTO','COD_CLASIFICACION_DEUDOR','condicion']:\n",
    "            print(f'haciendo {c}')\n",
    "            rcc_test_agg = rcc_test[rcc_test.codmes>=i].groupby(['key_value', c]).saldo.sum().unstack(level = 1, fill_value=0)\n",
    "            rcc_test_agg.columns = [f'{rcc_test_agg.columns.name}_{c}_ult{n+1}meses' for c in rcc_test_agg.columns]\n",
    "            list_rcc_test_agg.append(rcc_test_agg)\n",
    "            gc.collect()\n",
    "    print(f'haciendo agg')    \n",
    "    rcc_test_agg = rcc_test[rcc_test.codmes>=i].groupby('key_value').agg(agg_rcc)\n",
    "    rcc_test_agg.columns = [i+'_'+j+f'_ult{n+1}mes' for i,j in rcc_test_agg.columns]\n",
    "    list_rcc_test_agg.append(rcc_test_agg)\n",
    "    gc.collect()\n",
    "    \n",
    "rcc_test_ = pd.concat(list_rcc_test_agg, axis=1)\n",
    "del rcc_test, list_rcc_test_agg"
   ]
  },
  {
   "cell_type": "code",
   "execution_count": 10,
   "metadata": {},
   "outputs": [
    {
     "data": {
      "text/plain": [
       "((358487, 757), (396666, 709))"
      ]
     },
     "execution_count": 10,
     "metadata": {},
     "output_type": "execute_result"
    }
   ],
   "source": [
    "rcc_train_.shape, rcc_test_.shape"
   ]
  },
  {
   "cell_type": "code",
   "execution_count": 11,
   "metadata": {},
   "outputs": [
    {
     "name": "stdout",
     "output_type": "stream",
     "text": [
      "(358487, 757)\n",
      "(358487, 702)\n"
     ]
    }
   ],
   "source": [
    "print(rcc_train_.shape)\n",
    "keep_cols = list(set(rcc_train_.columns).intersection(set(rcc_test_.columns)))\n",
    "rcc_train_ = rcc_train_[keep_cols].copy()\n",
    "rcc_test_ = rcc_test_[keep_cols].copy()\n",
    "print(rcc_train_.shape)"
   ]
  },
  {
   "cell_type": "code",
   "execution_count": 12,
   "metadata": {},
   "outputs": [
    {
     "data": {
      "text/plain": [
       "((358487, 702), (396666, 702))"
      ]
     },
     "execution_count": 12,
     "metadata": {},
     "output_type": "execute_result"
    }
   ],
   "source": [
    "rcc_train_.shape, rcc_test_.shape"
   ]
  },
  {
   "cell_type": "code",
   "execution_count": 13,
   "metadata": {},
   "outputs": [
    {
     "data": {
      "text/plain": [
       "cod_instit_financiera_mode_ult1mes        0.175111\n",
       "cod_instit_financiera_mode_ult2mes        0.103094\n",
       "cod_instit_financiera_mode_ult3mes        0.074781\n",
       "cod_instit_financiera_mode_ult4mes        0.057930\n",
       "cod_instit_financiera_mode_ult5mes        0.045483\n",
       "cod_instit_financiera_mode_ult6mes        0.040197\n",
       "cod_instit_financiera_mode_ult7mes        0.033418\n",
       "cod_instit_financiera_mode_ult8mes        0.030160\n",
       "cod_instit_financiera_mode_ult9mes        0.026419\n",
       "cod_instit_financiera_mode_ult10mes       0.023780\n",
       "cod_instit_financiera_mode_ult12mes       0.021616\n",
       "cod_instit_financiera_mode_ult11mes       0.021541\n",
       "COD_CLASIFICACION_DEUDOR_mode_ult1mes     0.007308\n",
       "COD_CLASIFICACION_DEUDOR_mode_ult6mes     0.006357\n",
       "COD_CLASIFICACION_DEUDOR_mode_ult2mes     0.006028\n",
       "COD_CLASIFICACION_DEUDOR_mode_ult9mes     0.004709\n",
       "COD_CLASIFICACION_DEUDOR_mode_ult3mes     0.004293\n",
       "COD_CLASIFICACION_DEUDOR_mode_ult4mes     0.002817\n",
       "COD_CLASIFICACION_DEUDOR_mode_ult12mes    0.002737\n",
       "COD_CLASIFICACION_DEUDOR_mode_ult5mes     0.002550\n",
       "COD_CLASIFICACION_DEUDOR_mode_ult8mes     0.002407\n",
       "COD_CLASIFICACION_DEUDOR_mode_ult7mes     0.002195\n",
       "COD_CLASIFICACION_DEUDOR_mode_ult10mes    0.001824\n",
       "COD_CLASIFICACION_DEUDOR_mode_ult11mes    0.001752\n",
       "PRODUCTO_1_ult12meses                     0.000000\n",
       "dtype: float64"
      ]
     },
     "execution_count": 13,
     "metadata": {},
     "output_type": "execute_result"
    }
   ],
   "source": [
    "(rcc_train_.isna().sum().sort_values(ascending = False)/rcc_train_.shape[0]).head(25)"
   ]
  },
  {
   "cell_type": "code",
   "execution_count": 14,
   "metadata": {},
   "outputs": [
    {
     "name": "stdout",
     "output_type": "stream",
     "text": [
      "(358487, 702) (396666, 702)\n",
      "(358487, 346) (396666, 346)\n"
     ]
    }
   ],
   "source": [
    "#Función para obtener variables con alta correlación\n",
    "def get_correlated(data, cut=0.85):\n",
    "    correlated_features = set()\n",
    "    correlation_matrix = data.corr()\n",
    "    \n",
    "    for i in range(len(correlation_matrix .columns)):\n",
    "        for j in range(i):\n",
    "            if abs(correlation_matrix.iloc[i, j]) > cut:\n",
    "                colname = correlation_matrix.columns[i]\n",
    "                correlated_features.add(colname)\n",
    "            \n",
    "    return correlated_features\n",
    "print(rcc_train_.shape, rcc_test_.shape)\n",
    "correlated = get_correlated(rcc_train_,cut=0.95)\n",
    "rcc_train_ = rcc_train_.drop(columns=correlated)\n",
    "rcc_test_ = rcc_test_.drop(columns=correlated)\n",
    "print(rcc_train_.shape, rcc_test_.shape)"
   ]
  },
  {
   "cell_type": "code",
   "execution_count": 15,
   "metadata": {},
   "outputs": [],
   "source": [
    "rcc_train_.to_csv('../data/intermediate/rcc_train.csv')\n",
    "rcc_test_.to_csv('../data/intermediate/rcc_test.csv')"
   ]
  }
 ],
 "metadata": {
  "kernelspec": {
   "display_name": "Python 3",
   "language": "python",
   "name": "python3"
  },
  "language_info": {
   "codemirror_mode": {
    "name": "ipython",
    "version": 3
   },
   "file_extension": ".py",
   "mimetype": "text/x-python",
   "name": "python",
   "nbconvert_exporter": "python",
   "pygments_lexer": "ipython3",
   "version": "3.7.6"
  }
 },
 "nbformat": 4,
 "nbformat_minor": 4
}
