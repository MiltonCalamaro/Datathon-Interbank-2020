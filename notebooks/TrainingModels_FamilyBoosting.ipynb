{
 "cells": [
  {
   "cell_type": "code",
   "execution_count": 1,
   "id": "contrary-indonesian",
   "metadata": {},
   "outputs": [],
   "source": [
    "import pandas as pd\n",
    "import numpy as np\n",
    "import matplotlib.pyplot as plt"
   ]
  },
  {
   "cell_type": "code",
   "execution_count": 2,
   "id": "declared-family",
   "metadata": {},
   "outputs": [],
   "source": [
    "path = '../data'\n",
    "y_train = pd.read_csv(f'{path}/y_train.csv', index_col = 'key_value')"
   ]
  },
  {
   "cell_type": "code",
   "execution_count": 3,
   "id": "every-egyptian",
   "metadata": {},
   "outputs": [
    {
     "data": {
      "image/png": "[encoded data removed]",
      "text/plain": [
       "<Figure size 432x288 with 1 Axes>"
      ]
     },
     "metadata": {},
     "output_type": "display_data"
    }
   ],
   "source": [
    "y_train.value_counts().plot(kind='pie', autopct='%1.0f%%');"
   ]
  },
  {
   "cell_type": "markdown",
   "id": "innocent-nightlife",
   "metadata": {},
   "source": [
    "## Entrenando LGBM con hiperparámetros"
   ]
  },
  {
   "cell_type": "code",
   "execution_count": 4,
   "id": "signed-share",
   "metadata": {
    "scrolled": true
   },
   "outputs": [
    {
     "data": {
      "text/plain": [
       "((358487, 1320), (396666, 1320))"
      ]
     },
     "execution_count": 4,
     "metadata": {},
     "output_type": "execute_result"
    }
   ],
   "source": [
    "train = pd.read_pickle('../data/train_features1320_score_0.85577.pkl') \n",
    "test = pd.read_pickle('../data/test_features1320_score_0.85577.pkl')\n",
    "train.shape, test.shape"
   ]
  },
  {
   "cell_type": "code",
   "execution_count": 5,
   "id": "accepting-bolivia",
   "metadata": {
    "scrolled": true
   },
   "outputs": [
    {
     "name": "stdout",
     "output_type": "stream",
     "text": [
      "********** 0 **********\n",
      "Training until validation scores don't improve for 10 rounds\n",
      "[100]\ttraining's auc: 0.865319\ttraining's binary_logloss: 0.285035\tvalid_1's auc: 0.85101\tvalid_1's binary_logloss: 0.296508\n",
      "[200]\ttraining's auc: 0.879707\ttraining's binary_logloss: 0.273318\tvalid_1's auc: 0.854022\tvalid_1's binary_logloss: 0.294056\n",
      "Early stopping, best iteration is:\n",
      "[284]\ttraining's auc: 0.88885\ttraining's binary_logloss: 0.265847\tvalid_1's auc: 0.854905\tvalid_1's binary_logloss: 0.293443\n",
      "********** 1 **********\n",
      "Training until validation scores don't improve for 10 rounds\n",
      "[100]\ttraining's auc: 0.864997\ttraining's binary_logloss: 0.28516\tvalid_1's auc: 0.850819\tvalid_1's binary_logloss: 0.296441\n",
      "[200]\ttraining's auc: 0.879319\ttraining's binary_logloss: 0.273464\tvalid_1's auc: 0.85398\tvalid_1's binary_logloss: 0.293806\n",
      "Early stopping, best iteration is:\n",
      "[281]\ttraining's auc: 0.888196\ttraining's binary_logloss: 0.266213\tvalid_1's auc: 0.854742\tvalid_1's binary_logloss: 0.29319\n",
      "********** 2 **********\n",
      "Training until validation scores don't improve for 10 rounds\n",
      "[100]\ttraining's auc: 0.865476\ttraining's binary_logloss: 0.285391\tvalid_1's auc: 0.853014\tvalid_1's binary_logloss: 0.294127\n",
      "[200]\ttraining's auc: 0.879691\ttraining's binary_logloss: 0.273728\tvalid_1's auc: 0.855846\tvalid_1's binary_logloss: 0.291543\n",
      "Early stopping, best iteration is:\n",
      "[217]\ttraining's auc: 0.881718\ttraining's binary_logloss: 0.272108\tvalid_1's auc: 0.856051\tvalid_1's binary_logloss: 0.291387\n",
      "********** 3 **********\n",
      "Training until validation scores don't improve for 10 rounds\n",
      "[100]\ttraining's auc: 0.865436\ttraining's binary_logloss: 0.285419\tvalid_1's auc: 0.851865\tvalid_1's binary_logloss: 0.294844\n",
      "[200]\ttraining's auc: 0.87977\ttraining's binary_logloss: 0.273612\tvalid_1's auc: 0.854416\tvalid_1's binary_logloss: 0.292223\n",
      "Early stopping, best iteration is:\n",
      "[231]\ttraining's auc: 0.88345\ttraining's binary_logloss: 0.270631\tvalid_1's auc: 0.854755\tvalid_1's binary_logloss: 0.291907\n",
      "********** 4 **********\n",
      "Training until validation scores don't improve for 10 rounds\n",
      "[100]\ttraining's auc: 0.867305\ttraining's binary_logloss: 0.284381\tvalid_1's auc: 0.843265\tvalid_1's binary_logloss: 0.298749\n",
      "[200]\ttraining's auc: 0.881898\ttraining's binary_logloss: 0.27236\tvalid_1's auc: 0.84569\tvalid_1's binary_logloss: 0.296586\n",
      "Early stopping, best iteration is:\n",
      "[235]\ttraining's auc: 0.885987\ttraining's binary_logloss: 0.269003\tvalid_1's auc: 0.846008\tvalid_1's binary_logloss: 0.296347\n",
      "*********************\n",
      "roc auc estimado:  0.853330422301886\n",
      "roc auc varianza:  0.000894862383652377\n"
     ]
    }
   ],
   "source": [
    "from lightgbm import LGBMClassifier\n",
    "from sklearn.metrics import roc_auc_score\n",
    "from sklearn.model_selection import KFold\n",
    "import numpy as np\n",
    "folds = [train.index[t] for t, v in KFold(5).split(train)]\n",
    "test_probs = []\n",
    "train_probs = []\n",
    "fi = []\n",
    "for i, idx in enumerate(folds):\n",
    "    print(\"*\"*10, i, \"*\"*10)\n",
    "    Xt = train.loc[idx]\n",
    "    yt = y_train.loc[Xt.index].target\n",
    "\n",
    "    Xv = train.drop(Xt.index)\n",
    "    yv = y_train.loc[Xv.index].target\n",
    "\n",
    "    learner = LGBMClassifier(n_estimators=1000, boosting_type='gbdt',min_child_samples=1500, colsample_bytree=0.8,\n",
    "                   subsample=0.8, max_bin=200, learning_rate=0.1)\n",
    "    \n",
    "    learner.fit(Xt, yt,  early_stopping_rounds=10, eval_metric=\"auc\",\n",
    "                eval_set=[(Xt, yt), (Xv, yv)], verbose=100)\n",
    "    test_probs.append(pd.Series(learner.predict_proba(test)[:, -1], index=test.index, name=\"fold_\" + str(i)))\n",
    "    train_probs.append(pd.Series(learner.predict_proba(Xv)[:, -1], index=Xv.index, name=\"probs\"))\n",
    "    fi.append(pd.Series(learner.feature_importances_ / learner.feature_importances_.sum(), index=Xt.columns))\n",
    "\n",
    "test_probs = pd.concat(test_probs, axis=1).mean(axis=1)\n",
    "train_probs = pd.concat(train_probs)\n",
    "fi = pd.concat(fi, axis=1).mean(axis=1)\n",
    "print(\"*\" * 21)\n",
    "print(\"roc auc estimado: \", roc_auc_score(y_train, train_probs.loc[y_train.index]))\n",
    "print(\"roc auc varianza: \", np.std([roc_auc_score(y_train.loc[folds[i]], train_probs.iloc[folds[i]]) for i in range(len(folds))]))  "
   ]
  },
  {
   "cell_type": "code",
   "execution_count": 7,
   "id": "neural-yemen",
   "metadata": {
    "scrolled": true
   },
   "outputs": [
    {
     "data": {
      "text/plain": [
       "PRODUCTO_1_saldoMean_ult1meses                       0.008535\n",
       "PRODUCTO_1_saldoMax_ult1meses                        0.008169\n",
       "edad                                                 0.008121\n",
       "ubigeo_mode                                          0.007866\n",
       "PRODUCTO_1_saldoSum_ult1meses                        0.005791\n",
       "PRODUCTO_1_saldoMedian_ult1meses                     0.005591\n",
       "sexo_0                                               0.004987\n",
       "PRODUCTO_3_saldoUnique_ult12meses                    0.004789\n",
       "estadocontribuyente_0                                0.004754\n",
       "RIESGO_DIRECTO_1_saldoStd_ult1meses                  0.004300\n",
       "PRODUCTO_0_saldoMin_ult12meses                       0.004208\n",
       "cod_instit_financiera_10_saldoStd_ult1meses          0.004180\n",
       "PRODUCTO_6_saldoSum_ult12meses                       0.004148\n",
       "COD_CLASIFICACION_DEUDOR_0_saldoUnique_ult12meses    0.004094\n",
       "PRODUCTO_4_saldoStd_ult12meses                       0.004014\n",
       "PRODUCTO_3_saldoMean_ult1meses                       0.003921\n",
       "PRODUCTO_1_saldoStd_ult12meses                       0.003868\n",
       "PRODUCTO_1_saldoMin_ult1meses                        0.003810\n",
       "PRODUCTO_0_saldoStd_ult12meses                       0.003758\n",
       "RIESGO_DIRECTO_1_saldoMin_ult1meses                  0.003740\n",
       "PRODUCTO_3_saldoMedian_ult1meses                     0.003723\n",
       "ciiu_mode                                            0.003681\n",
       "PRODUCTO_8_saldoSum_ult12meses                       0.003653\n",
       "RIESGO_DIRECTO_1_saldoSum_ult1meses                  0.003616\n",
       "PRODUCTO_6_saldoMax_ult1meses                        0.003499\n",
       "PRODUCTO_12_saldoMin_ult1meses                       0.003497\n",
       "PRODUCTO_0_saldoStd_ult1meses                        0.003476\n",
       "condicion_0_saldoUnique_ult12meses                   0.003456\n",
       "PRODUCTO_3_saldoMedian_ult12meses                    0.003450\n",
       "cod_instit_financiera_34_saldoUnique_ult12meses      0.003448\n",
       "RIESGO_DIRECTO_1_saldoUnique_ult12meses              0.003408\n",
       "PRODUCTO_0_saldoMax_ult1meses                        0.003345\n",
       "PRODUCTO_6_saldoMean_ult12meses                      0.003316\n",
       "PRODUCTO_0_saldoMin_ult1meses                        0.003315\n",
       "fecalta_mean                                         0.003293\n",
       "PRODUCTO_6_saldoMin_ult12meses                       0.003255\n",
       "RIESGO_DIRECTO_-1_saldoMedian_ult2meses              0.003224\n",
       "PRODUCTO_3_saldoMin_ult1meses                        0.003200\n",
       "RIESGO_DIRECTO_-1_saldoMedian_ult1meses              0.003182\n",
       "PRODUCTO_8_saldoUnique_ult12meses                    0.003165\n",
       "PRODUCTO_1_saldoStd_ult1meses                        0.003143\n",
       "PRODUCTO_11_saldoMax_ult1meses                       0.003094\n",
       "PRODUCTO_8_saldoMin_ult12meses                       0.003082\n",
       "ctd_veh                                              0.002986\n",
       "fecalta_min                                          0.002957\n",
       "PRODUCTO_2_saldoUnique_ult12meses                    0.002945\n",
       "cod_instit_financiera_max_ult1mes                    0.002937\n",
       "PRODUCTO_3_saldoMin_ult12meses                       0.002796\n",
       "PRODUCTO_8_saldoMedian_ult12meses                    0.002793\n",
       "RIESGO_DIRECTO_1_saldoStd_ult12meses                 0.002789\n",
       "dtype: float64"
      ]
     },
     "execution_count": 7,
     "metadata": {},
     "output_type": "execute_result"
    }
   ],
   "source": [
    "fi.sort_values(ascending=False).head(50)"
   ]
  },
  {
   "cell_type": "code",
   "execution_count": 8,
   "id": "incident-discovery",
   "metadata": {},
   "outputs": [],
   "source": [
    "fi.to_pickle('fi_lightgbm.pkl')"
   ]
  },
  {
   "cell_type": "code",
   "execution_count": 9,
   "id": "controlling-chorus",
   "metadata": {},
   "outputs": [],
   "source": [
    "train_probs_lightgbm = train_probs\n",
    "test_probs_lightgbm = test_probs\n",
    "train_probs_lightgbm.to_pickle('train_probs_lightgbm.pkl')\n",
    "test_probs_lightgbm.to_pickle('test_probs_lightgbm.pkl')"
   ]
  },
  {
   "cell_type": "markdown",
   "id": "liable-embassy",
   "metadata": {},
   "source": [
    "## Catboost con parametros casi estandar\n",
    "### CatBoostClassifier(n_estimators=1000, eval_metric = 'AUC', max_depth=6)"
   ]
  },
  {
   "cell_type": "code",
   "execution_count": 10,
   "id": "familiar-dryer",
   "metadata": {
    "scrolled": true
   },
   "outputs": [
    {
     "data": {
      "text/plain": [
       "((358487, 1320), (396666, 1320))"
      ]
     },
     "execution_count": 10,
     "metadata": {},
     "output_type": "execute_result"
    }
   ],
   "source": [
    "train = pd.read_pickle('../data/train_features1320_score_0.85577.pkl') \n",
    "test = pd.read_pickle('../data/test_features1320_score_0.85577.pkl')\n",
    "train.shape, test.shape"
   ]
  },
  {
   "cell_type": "code",
   "execution_count": 11,
   "id": "painted-badge",
   "metadata": {
    "scrolled": true
   },
   "outputs": [
    {
     "name": "stdout",
     "output_type": "stream",
     "text": [
      "********** 0 **********\n",
      "Learning rate set to 0.128212\n",
      "0:\ttest: 0.7424907\ttest1: 0.7439484\tbest: 0.7439484 (0)\ttotal: 871ms\tremaining: 14m 29s\n",
      "100:\ttest: 0.8471984\ttest1: 0.8422880\tbest: 0.8422880 (100)\ttotal: 54.7s\tremaining: 8m 6s\n",
      "200:\ttest: 0.8576204\ttest1: 0.8475353\tbest: 0.8475353 (200)\ttotal: 1m 47s\tremaining: 7m 5s\n",
      "300:\ttest: 0.8651702\ttest1: 0.8496751\tbest: 0.8496775 (299)\ttotal: 2m 39s\tremaining: 6m 11s\n",
      "400:\ttest: 0.8713331\ttest1: 0.8509214\tbest: 0.8509214 (400)\ttotal: 3m 30s\tremaining: 5m 14s\n",
      "500:\ttest: 0.8763042\ttest1: 0.8515765\tbest: 0.8515909 (498)\ttotal: 4m 19s\tremaining: 4m 18s\n",
      "Stopped by overfitting detector  (10 iterations wait)\n",
      "\n",
      "bestTest = 0.851979197\n",
      "bestIteration = 561\n",
      "\n",
      "Shrink model to first 562 iterations.\n",
      "********** 1 **********\n",
      "Learning rate set to 0.128212\n",
      "0:\ttest: 0.7257203\ttest1: 0.7278298\tbest: 0.7278298 (0)\ttotal: 633ms\tremaining: 10m 31s\n",
      "100:\ttest: 0.8471016\ttest1: 0.8432364\tbest: 0.8432364 (100)\ttotal: 58s\tremaining: 8m 36s\n",
      "200:\ttest: 0.8573899\ttest1: 0.8484976\tbest: 0.8484976 (200)\ttotal: 1m 53s\tremaining: 7m 30s\n",
      "300:\ttest: 0.8648135\ttest1: 0.8510036\tbest: 0.8510036 (300)\ttotal: 2m 50s\tremaining: 6m 36s\n",
      "400:\ttest: 0.8705795\ttest1: 0.8521491\tbest: 0.8521491 (400)\ttotal: 3m 53s\tremaining: 5m 48s\n",
      "500:\ttest: 0.8758610\ttest1: 0.8528688\tbest: 0.8528688 (500)\ttotal: 4m 54s\tremaining: 4m 53s\n",
      "Stopped by overfitting detector  (10 iterations wait)\n",
      "\n",
      "bestTest = 0.852892271\n",
      "bestIteration = 504\n",
      "\n",
      "Shrink model to first 505 iterations.\n",
      "********** 2 **********\n",
      "Learning rate set to 0.128212\n",
      "0:\ttest: 0.7280854\ttest1: 0.7329040\tbest: 0.7329040 (0)\ttotal: 641ms\tremaining: 10m 40s\n",
      "100:\ttest: 0.8467483\ttest1: 0.8465781\tbest: 0.8465781 (100)\ttotal: 1m 8s\tremaining: 10m 13s\n",
      "200:\ttest: 0.8570986\ttest1: 0.8514691\tbest: 0.8514691 (200)\ttotal: 2m 15s\tremaining: 8m 59s\n",
      "300:\ttest: 0.8644403\ttest1: 0.8534645\tbest: 0.8534645 (300)\ttotal: 3m 18s\tremaining: 7m 40s\n",
      "400:\ttest: 0.8703062\ttest1: 0.8543948\tbest: 0.8544409 (397)\ttotal: 4m 21s\tremaining: 6m 30s\n",
      "Stopped by overfitting detector  (10 iterations wait)\n",
      "\n",
      "bestTest = 0.8544408733\n",
      "bestIteration = 397\n",
      "\n",
      "Shrink model to first 398 iterations.\n",
      "********** 3 **********\n",
      "Learning rate set to 0.128212\n",
      "0:\ttest: 0.7403539\ttest1: 0.7404733\tbest: 0.7404733 (0)\ttotal: 706ms\tremaining: 11m 45s\n",
      "100:\ttest: 0.8472247\ttest1: 0.8441165\tbest: 0.8441165 (100)\ttotal: 1m 10s\tremaining: 10m 27s\n",
      "200:\ttest: 0.8578175\ttest1: 0.8495305\tbest: 0.8495446 (199)\ttotal: 2m 17s\tremaining: 9m 4s\n",
      "300:\ttest: 0.8653937\ttest1: 0.8516978\tbest: 0.8517073 (299)\ttotal: 3m 20s\tremaining: 7m 45s\n",
      "Stopped by overfitting detector  (10 iterations wait)\n",
      "\n",
      "bestTest = 0.8517073281\n",
      "bestIteration = 299\n",
      "\n",
      "Shrink model to first 300 iterations.\n",
      "********** 4 **********\n",
      "Learning rate set to 0.128212\n",
      "0:\ttest: 0.6908205\ttest1: 0.6774929\tbest: 0.6774929 (0)\ttotal: 828ms\tremaining: 13m 46s\n",
      "100:\ttest: 0.8494862\ttest1: 0.8367014\tbest: 0.8367014 (100)\ttotal: 1m 11s\tremaining: 10m 36s\n",
      "200:\ttest: 0.8598161\ttest1: 0.8416830\tbest: 0.8416830 (200)\ttotal: 2m 14s\tremaining: 8m 53s\n",
      "300:\ttest: 0.8672451\ttest1: 0.8434598\tbest: 0.8434657 (299)\ttotal: 3m 19s\tremaining: 7m 43s\n",
      "Stopped by overfitting detector  (10 iterations wait)\n",
      "\n",
      "bestTest = 0.8438188644\n",
      "bestIteration = 325\n",
      "\n",
      "Shrink model to first 326 iterations.\n",
      "*********************\n",
      "roc auc estimado:  0.8509935538080539\n",
      "roc auc varianza:  0.0009001924581872921\n"
     ]
    }
   ],
   "source": [
    "from catboost import CatBoostClassifier\n",
    "from sklearn.metrics import roc_auc_score\n",
    "from sklearn.model_selection import KFold\n",
    "import numpy as np\n",
    "folds = [train.index[t] for t, v in KFold(5).split(train)]\n",
    "test_probs = []\n",
    "train_probs = []\n",
    "fi = []\n",
    "for i, idx in enumerate(folds):\n",
    "    print(\"*\"*10, i, \"*\"*10)\n",
    "    Xt = train.loc[idx]\n",
    "    yt = y_train.loc[Xt.index]\n",
    "\n",
    "    Xv = train.drop(Xt.index)\n",
    "    yv = y_train.loc[Xv.index]\n",
    "\n",
    "    learner = CatBoostClassifier(n_estimators=1000, eval_metric = 'AUC', max_depth=6)\n",
    "    \n",
    "    learner.fit(Xt, yt,  early_stopping_rounds=10, \n",
    "                eval_set=[(Xt, yt), (Xv, yv)], verbose=100)\n",
    "    test_probs.append(pd.Series(learner.predict_proba(test)[:, -1], index=test.index, name=\"fold_\" + str(i)))\n",
    "    train_probs.append(pd.Series(learner.predict_proba(Xv)[:, -1], index=Xv.index, name=\"probs\"))\n",
    "    fi.append(pd.Series(learner.feature_importances_ / learner.feature_importances_.sum(), index=Xt.columns))\n",
    "\n",
    "test_probs = pd.concat(test_probs, axis=1).mean(axis=1)\n",
    "train_probs = pd.concat(train_probs)\n",
    "fi = pd.concat(fi, axis=1).mean(axis=1)\n",
    "print(\"*\" * 21)\n",
    "print(\"roc auc estimado: \", roc_auc_score(y_train, train_probs.loc[y_train.index]))\n",
    "print(\"roc auc varianza: \", np.std([roc_auc_score(y_train.loc[folds[i]], train_probs.iloc[folds[i]]) for i in range(len(folds))]))  "
   ]
  },
  {
   "cell_type": "code",
   "execution_count": 12,
   "id": "brutal-adventure",
   "metadata": {},
   "outputs": [],
   "source": [
    "fi.to_pickle('fi_catboost.pkl')"
   ]
  },
  {
   "cell_type": "code",
   "execution_count": 13,
   "id": "caroline-segment",
   "metadata": {},
   "outputs": [],
   "source": [
    "train_probs_catboost = train_probs\n",
    "test_probs_catboost = test_probs\n",
    "train_probs_catboost.to_pickle('train_probs_catboost.pkl')\n",
    "test_probs_catboost.to_pickle('test_probs_catboost.pkl')"
   ]
  },
  {
   "cell_type": "markdown",
   "id": "emotional-marks",
   "metadata": {},
   "source": [
    "## Entrenamiento de modelo XgBoost"
   ]
  },
  {
   "cell_type": "code",
   "execution_count": 14,
   "id": "north-elements",
   "metadata": {},
   "outputs": [
    {
     "data": {
      "text/plain": [
       "((358487, 1320), (396666, 1320))"
      ]
     },
     "execution_count": 14,
     "metadata": {},
     "output_type": "execute_result"
    }
   ],
   "source": [
    "train = pd.read_pickle('../data/train_features1320_score_0.85577.pkl') \n",
    "test = pd.read_pickle('../data/test_features1320_score_0.85577.pkl')\n",
    "train.shape, test.shape"
   ]
  },
  {
   "cell_type": "code",
   "execution_count": 15,
   "id": "comparable-textbook",
   "metadata": {
    "scrolled": true
   },
   "outputs": [
    {
     "name": "stdout",
     "output_type": "stream",
     "text": [
      "********** 0 **********\n"
     ]
    },
    {
     "name": "stderr",
     "output_type": "stream",
     "text": [
      "C:\\Users\\usuario\\anaconda3\\envs\\venv_datathon\\lib\\site-packages\\xgboost\\sklearn.py:888: UserWarning: The use of label encoder in XGBClassifier is deprecated and will be removed in a future release. To remove this warning, do the following: 1) Pass option use_label_encoder=False when constructing XGBClassifier object; and 2) Encode your labels (y) as integers starting with 0, i.e. 0, 1, 2, ..., [num_class - 1].\n",
      "  warnings.warn(label_encoder_deprecation_msg, UserWarning)\n"
     ]
    },
    {
     "name": "stdout",
     "output_type": "stream",
     "text": [
      "[0]\tvalidation_0-auc:0.71867\tvalidation_1-auc:0.72320\n",
      "[100]\tvalidation_0-auc:0.86630\tvalidation_1-auc:0.84686\n",
      "[159]\tvalidation_0-auc:0.87726\tvalidation_1-auc:0.84776\n",
      "********** 1 **********\n",
      "[0]\tvalidation_0-auc:0.72019\tvalidation_1-auc:0.71819\n",
      "[100]\tvalidation_0-auc:0.86656\tvalidation_1-auc:0.84752\n",
      "[112]\tvalidation_0-auc:0.86884\tvalidation_1-auc:0.84768\n",
      "********** 2 **********\n",
      "[0]\tvalidation_0-auc:0.71867\tvalidation_1-auc:0.72510\n",
      "[100]\tvalidation_0-auc:0.86763\tvalidation_1-auc:0.85002\n",
      "[175]\tvalidation_0-auc:0.88030\tvalidation_1-auc:0.85072\n",
      "********** 3 **********\n",
      "[0]\tvalidation_0-auc:0.72175\tvalidation_1-auc:0.72340\n",
      "[100]\tvalidation_0-auc:0.86695\tvalidation_1-auc:0.84898\n",
      "[130]\tvalidation_0-auc:0.87246\tvalidation_1-auc:0.84919\n",
      "********** 4 **********\n",
      "[0]\tvalidation_0-auc:0.72201\tvalidation_1-auc:0.70930\n",
      "[100]\tvalidation_0-auc:0.86989\tvalidation_1-auc:0.84073\n",
      "[143]\tvalidation_0-auc:0.87738\tvalidation_1-auc:0.84112\n",
      "*********************\n",
      "roc auc estimado:  0.8475722843014554\n",
      "roc auc varianza:  0.0007953881946119579\n"
     ]
    }
   ],
   "source": [
    "from xgboost  import XGBClassifier\n",
    "from sklearn.metrics import roc_auc_score\n",
    "from sklearn.model_selection import KFold\n",
    "import numpy as np\n",
    "folds = [train.index[t] for t, v in KFold(5).split(train)]\n",
    "test_probs = []\n",
    "train_probs = []\n",
    "fi = []\n",
    "for i, idx in enumerate(folds):\n",
    "    print(\"*\"*10, i, \"*\"*10)\n",
    "    Xt = train.loc[idx]\n",
    "    yt = y_train.loc[Xt.index].target\n",
    "\n",
    "    Xv = train.drop(Xt.index)\n",
    "    yv = y_train.loc[Xv.index].target\n",
    "\n",
    "    learner = XGBClassifier(n_estimators=1000, booster='gbtree', colsample_bytree=0.8, \n",
    "                            subsample = 0.8, max_depth=4,  learning_rate=0.3)\n",
    "    learner.fit(Xt, yt,  early_stopping_rounds=10, eval_metric=\"auc\",\n",
    "                eval_set=[(Xt, yt), (Xv, yv)], verbose=100)\n",
    "    test_probs.append(pd.Series(learner.predict_proba(test)[:, -1], index=test.index, name=\"fold_\" + str(i)))\n",
    "    train_probs.append(pd.Series(learner.predict_proba(Xv)[:, -1], index=Xv.index, name=\"probs\"))\n",
    "    fi.append(pd.Series(learner.feature_importances_ / learner.feature_importances_.sum(), index=Xt.columns))\n",
    "\n",
    "test_probs = pd.concat(test_probs, axis=1).mean(axis=1)\n",
    "train_probs = pd.concat(train_probs)\n",
    "fi = pd.concat(fi, axis=1).mean(axis=1)\n",
    "print(\"*\" * 21)\n",
    "print(\"roc auc estimado: \", roc_auc_score(y_train, train_probs.loc[y_train.index]))\n",
    "print(\"roc auc varianza: \", np.std([roc_auc_score(y_train.loc[folds[i]], train_probs.iloc[folds[i]]) for i in range(len(folds))]))"
   ]
  },
  {
   "cell_type": "code",
   "execution_count": 16,
   "id": "local-story",
   "metadata": {
    "scrolled": true
   },
   "outputs": [
    {
     "data": {
      "text/plain": [
       "PRODUCTO_12_saldoMin_ult1meses                      0.075974\n",
       "RIESGO_DIRECTO_2_saldoMean_ult1meses                0.052980\n",
       "RIESGO_DIRECTO_2_saldoMin_ult2meses                 0.045184\n",
       "COD_CLASIFICACION_DEUDOR_1_saldoMedian_ult1meses    0.042137\n",
       "COD_CLASIFICACION_DEUDOR_5_saldoMin_ult1meses       0.022472\n",
       "COD_CLASIFICACION_DEUDOR_1_saldoStd_ult2meses       0.020933\n",
       "COD_CLASIFICACION_DEUDOR_3_saldoStd_ult4meses       0.020831\n",
       "PRODUCTO_12_saldoMax_ult1meses                      0.017672\n",
       "COD_CLASIFICACION_DEUDOR_1_saldoUnique_ult4meses    0.016055\n",
       "COD_CLASIFICACION_DEUDOR_1_saldoMedian_ult4meses    0.015935\n",
       "tipo_credito_11_saldoMean_ult1meses                 0.015827\n",
       "COD_CLASIFICACION_DEUDOR_1_saldoUnique_ult2meses    0.015041\n",
       "condicion_1_saldoMax_ult2meses                      0.013716\n",
       "RIESGO_DIRECTO_2_saldoMedian_ult1meses              0.012992\n",
       "RIESGO_DIRECTO_2_saldoMean_ult2meses                0.012878\n",
       "PRODUCTO_0_saldoMedian_ult1meses                    0.011044\n",
       "cod_instit_financiera_max_ult1mes                   0.009952\n",
       "cod_instit_financiera_46_saldoStd_ult1meses         0.009233\n",
       "RIESGO_DIRECTO_2_saldoMin_ult3meses                 0.007910\n",
       "cod_instit_financiera_32_saldoMin_ult1meses         0.007830\n",
       "cod_instit_financiera_55_saldoMax_ult12meses        0.007511\n",
       "COD_CLASIFICACION_DEUDOR_1_saldoStd_ult3meses       0.007428\n",
       "PRODUCTO_3_saldoMean_ult1meses                      0.006868\n",
       "RIESGO_DIRECTO_-1_saldoMedian_ult1meses             0.006712\n",
       "cod_instit_financiera_32_saldoUnique_ult12meses     0.006598\n",
       "cod_instit_financiera_32_saldoUnique_ult1meses      0.005916\n",
       "tipo_credito_12_saldoSum_ult1meses                  0.005893\n",
       "PRODUCTO_0_saldoSum_ult1meses                       0.005792\n",
       "PRODUCTO_2_saldoUnique_ult12meses                   0.005712\n",
       "cod_instit_financiera_max_ult3mes                   0.005619\n",
       "COD_CLASIFICACION_DEUDOR_3_saldoStd_ult5meses       0.005449\n",
       "PRODUCTO_0_saldoMin_ult1meses                       0.005286\n",
       "condicion_1_saldoMean_ult5meses                     0.005113\n",
       "COD_CLASIFICACION_DEUDOR_1_saldoMedian_ult6meses    0.004680\n",
       "RIESGO_DIRECTO_1_saldoSum_ult1meses                 0.004363\n",
       "cod_instit_financiera_46_saldoMin_ult1meses         0.004276\n",
       "cod_instit_financiera_32_saldoStd_ult1meses         0.004008\n",
       "condicion_1_saldoMean_ult1meses                     0.004004\n",
       "PRODUCTO_3_saldoMedian_ult1meses                    0.003703\n",
       "PRODUCTO_6_saldoMean_ult1meses                      0.003401\n",
       "COD_CLASIFICACION_DEUDOR_1_saldoMedian_ult7meses    0.003233\n",
       "PRODUCTO_3_saldoUnique_ult12meses                   0.003214\n",
       "PRODUCTO_nunique_ult2mes                            0.002794\n",
       "cod_instit_financiera_61_saldoUnique_ult12meses     0.002718\n",
       "PRODUCTO_6_saldoMin_ult12meses                      0.002563\n",
       "PRODUCTO_8_saldoMin_ult12meses                      0.002486\n",
       "PRODUCTO_6_saldoMax_ult1meses                       0.002484\n",
       "RIESGO_DIRECTO_1_saldoStd_ult1meses                 0.002482\n",
       "PRODUCTO_7_saldoMax_ult12meses                      0.002470\n",
       "condicion_1_saldoMax_ult3meses                      0.002427\n",
       "dtype: float32"
      ]
     },
     "execution_count": 16,
     "metadata": {},
     "output_type": "execute_result"
    }
   ],
   "source": [
    "fi.sort_values(ascending=False).head(50)"
   ]
  },
  {
   "cell_type": "code",
   "execution_count": 17,
   "id": "worst-madness",
   "metadata": {},
   "outputs": [],
   "source": [
    "fi.to_pickle('fi_xgb.pkl')"
   ]
  },
  {
   "cell_type": "code",
   "execution_count": 18,
   "id": "inclusive-region",
   "metadata": {},
   "outputs": [],
   "source": [
    "train_probs_lightgbm_cf = train_probs\n",
    "test_probs_lightgbm_cf= test_probs\n",
    "train_probs_lightgbm_cf.to_pickle('train_probs_xgb.pkl')\n",
    "test_probs_lightgbm_cf.to_pickle('test_probs_xgb.pkl')"
   ]
  },
  {
   "cell_type": "markdown",
   "id": "virtual-heading",
   "metadata": {},
   "source": [
    "## Entrenando GradientBosstingClassifier"
   ]
  },
  {
   "cell_type": "code",
   "execution_count": 4,
   "id": "awful-kitty",
   "metadata": {
    "scrolled": true
   },
   "outputs": [
    {
     "data": {
      "text/plain": [
       "((358487, 1320), (396666, 1320))"
      ]
     },
     "execution_count": 4,
     "metadata": {},
     "output_type": "execute_result"
    }
   ],
   "source": [
    "train = pd.read_pickle('../data/train_features1320_score_0.85577.pkl') \n",
    "test = pd.read_pickle('../data/test_features1320_score_0.85577.pkl')\n",
    "train.shape, test.shape"
   ]
  },
  {
   "cell_type": "code",
   "execution_count": 17,
   "id": "american-evanescence",
   "metadata": {},
   "outputs": [],
   "source": [
    "var_categ = [i for i in train.columns if 'mode' in i]\n",
    "var_cuanti = [i for i in train.columns if 'mode' not in i]"
   ]
  },
  {
   "cell_type": "code",
   "execution_count": 19,
   "id": "competent-entrance",
   "metadata": {},
   "outputs": [],
   "source": [
    "for i in var_cuanti:\n",
    "    train[i] = train[i].fillna(train[i].median())\n",
    "    test[i] = test[i].fillna(train[i].median())    \n",
    "\n",
    "for i in var_categ:\n",
    "    train[i] = train[i].fillna(train[i].value_counts().index[0])\n",
    "    test[i] = test[i].fillna(train[i].value_counts().index[0]) "
   ]
  },
  {
   "cell_type": "code",
   "execution_count": 20,
   "id": "continued-destruction",
   "metadata": {
    "scrolled": true
   },
   "outputs": [
    {
     "name": "stdout",
     "output_type": "stream",
     "text": [
      "********** 0 **********\n",
      "      Iter       Train Loss      OOB Improve   Remaining Time \n",
      "         1           0.7689           0.1013          258.80m\n",
      "         2           0.7349           0.0328          244.49m\n",
      "         3           0.7141           0.0215          252.33m\n",
      "         4           0.6929           0.0183          255.26m\n",
      "         5           0.6840           0.0103          256.40m\n",
      "         6           0.6718           0.0093          257.02m\n",
      "         7           0.6640           0.0048          256.31m\n",
      "         8           0.6571           0.0057          257.16m\n",
      "         9           0.6506           0.0071          258.64m\n",
      "        10           0.6462           0.0030          258.63m\n",
      "        20           0.6178           0.0009          240.91m\n",
      "roc_auc_estimado de : 0.8250056371110446\n",
      "********** 1 **********\n",
      "      Iter       Train Loss      OOB Improve   Remaining Time \n",
      "         1           0.7724           0.1009          273.16m\n",
      "         2           0.7381           0.0334          263.07m\n",
      "         3           0.7132           0.0205          270.18m\n",
      "         4           0.6979           0.0158          270.93m\n",
      "         5           0.6898           0.0116          266.00m\n",
      "         6           0.6775           0.0093          263.07m\n",
      "         7           0.6650           0.0077          260.46m\n",
      "         8           0.6602           0.0053          261.15m\n",
      "         9           0.6536           0.0059          261.78m\n",
      "        10           0.6510           0.0046          260.48m\n",
      "        20           0.6213           0.0010          260.81m\n",
      "roc_auc_estimado de : 0.8254495285309019\n",
      "********** 2 **********\n",
      "      Iter       Train Loss      OOB Improve   Remaining Time \n",
      "         1           0.7690           0.0978          265.33m\n",
      "         2           0.7402           0.0328          259.69m\n",
      "         3           0.7176           0.0218          259.15m\n",
      "         4           0.6953           0.0189          259.00m\n",
      "         5           0.6846           0.0113          257.34m\n",
      "         6           0.6742           0.0083          259.93m\n",
      "         7           0.6647           0.0075          257.37m\n",
      "         8           0.6586           0.0071          255.60m\n",
      "         9           0.6521           0.0062          260.57m\n",
      "        10           0.6494           0.0031          267.97m\n",
      "        20           0.6214           0.0010          262.36m\n",
      "roc_auc_estimado de : 0.8273571472452999\n",
      "********** 3 **********\n",
      "      Iter       Train Loss      OOB Improve   Remaining Time \n",
      "         1           0.7688           0.0997          261.30m\n",
      "         2           0.7382           0.0311          258.50m\n",
      "         3           0.7151           0.0207          257.40m\n",
      "         4           0.6950           0.0184          253.70m\n",
      "         5           0.6851           0.0118          252.06m\n",
      "         6           0.6731           0.0079          251.19m\n",
      "         7           0.6655           0.0075          250.51m\n",
      "         8           0.6587           0.0059          250.21m\n",
      "         9           0.6555           0.0062          249.95m\n",
      "        10           0.6494           0.0049          251.19m\n",
      "        20           0.6217           0.0012          253.12m\n",
      "roc_auc_estimado de : 0.8287056293957789\n",
      "********** 4 **********\n",
      "      Iter       Train Loss      OOB Improve   Remaining Time \n",
      "         1           0.7714           0.1034          266.08m\n",
      "         2           0.7371           0.0348          263.55m\n",
      "         3           0.7163           0.0217          264.05m\n",
      "         4           0.6948           0.0189          268.67m\n",
      "         5           0.6831           0.0124          271.98m\n",
      "         6           0.6748           0.0080          275.81m\n",
      "         7           0.6644           0.0090          278.64m\n",
      "         8           0.6573           0.0061          278.14m\n",
      "         9           0.6515           0.0031          275.69m\n",
      "        10           0.6456           0.0040          273.46m\n",
      "        20           0.6195           0.0005          257.98m\n",
      "roc_auc_estimado de : 0.8220668362820589\n",
      "*********************\n",
      "roc auc estimado:  0.825743108620882\n",
      "roc auc varianza:  0.0005524505196282668\n"
     ]
    }
   ],
   "source": [
    "# https://scikit-learn.org/stable/modules/generated/sklearn.ensemble.GradientBoostingClassifier.html#sklearn.ensemble.GradientBoostingClassifier.fit\n",
    "from sklearn.ensemble import GradientBoostingClassifier\n",
    "from sklearn.metrics import roc_auc_score\n",
    "from sklearn.model_selection import KFold\n",
    "import numpy as np\n",
    "folds = [train.index[t] for t, v in KFold(5).split(train)]\n",
    "test_probs = []\n",
    "train_probs = []\n",
    "fi = []\n",
    "for i, idx in enumerate(folds):\n",
    "    print(\"*\"*10, i, \"*\"*10)\n",
    "    Xt = train.loc[idx]\n",
    "    yt = y_train.loc[Xt.index].target\n",
    "\n",
    "    Xv = train.drop(Xt.index)\n",
    "    yv = y_train.loc[Xv.index].target\n",
    "\n",
    "    learner = GradientBoostingClassifier(n_estimators=500, learning_rate=0.3, subsample=0.8,\n",
    "                                         max_depth=5, verbose=1, max_features=0.82, random_state=407,\n",
    "                                         n_iter_no_change = 10, tol=0.01, validation_fraction = 0.2)\n",
    "   \n",
    "    learner.fit(Xt, yt)        \n",
    "    test_probs.append(pd.Series(learner.predict_proba(test)[:, -1], index=test.index, name=\"fold_\" + str(i)))\n",
    "    train_probs.append(pd.Series(learner.predict_proba(Xv)[:, -1], index=Xv.index, name=\"probs\"))\n",
    "    fi.append(pd.Series(learner.feature_importances_ / learner.feature_importances_.sum(), index=Xt.columns))\n",
    "    print('roc_auc_estimado de : ' + str(roc_auc_score(yv, pd.Series(learner.predict_proba(Xv)[:, -1]))))    \n",
    "        \n",
    "test_probs = pd.concat(test_probs, axis=1).mean(axis=1)\n",
    "train_probs = pd.concat(train_probs)\n",
    "fi = pd.concat(fi, axis=1).mean(axis=1)\n",
    "print(\"*\" * 21)\n",
    "print(\"roc auc estimado: \", roc_auc_score(y_train, train_probs.loc[y_train.index]))\n",
    "print(\"roc auc varianza: \", np.std([roc_auc_score(y_train.loc[folds[i]], train_probs.iloc[folds[i]]) for i in range(len(folds))]))  "
   ]
  },
  {
   "cell_type": "code",
   "execution_count": 21,
   "id": "second-control",
   "metadata": {
    "scrolled": true
   },
   "outputs": [
    {
     "data": {
      "text/plain": [
       "PRODUCTO_6_saldoMax_ult12meses                       0.195602\n",
       "cod_instit_financiera_max_ult1mes                    0.046762\n",
       "PRODUCTO_6_saldoMax_ult1meses                        0.038451\n",
       "RIESGO_DIRECTO_1_saldoMax_ult1meses                  0.035837\n",
       "cod_instit_financiera_nunique_ult1mes                0.034268\n",
       "COD_CLASIFICACION_DEUDOR_0_saldoUnique_ult1meses     0.026103\n",
       "PRODUCTO_6_saldoMean_ult1meses                       0.024341\n",
       "RIESGO_DIRECTO_1_saldoSum_ult1meses                  0.021776\n",
       "tipo_credito_12_saldoStd_ult4meses                   0.019011\n",
       "tipo_credito_11_saldoMean_ult1meses                  0.018882\n",
       "PRODUCTO_6_saldoStd_ult12meses                       0.017253\n",
       "COD_CLASIFICACION_DEUDOR_0_saldoSum_ult1meses        0.016725\n",
       "RIESGO_DIRECTO_1_saldoMax_ult12meses                 0.016548\n",
       "tipo_credito_12_saldoSum_ult1meses                   0.015673\n",
       "cod_instit_financiera_nunique_ult3mes                0.012649\n",
       "cod_instit_financiera_mode_ult1mes                   0.012533\n",
       "RIESGO_DIRECTO_1_saldoMean_ult1meses                 0.012437\n",
       "PRODUCTO_3_saldoMean_ult12meses                      0.012362\n",
       "COD_CLASIFICACION_DEUDOR_0_saldoUnique_ult12meses    0.011875\n",
       "cod_instit_financiera_max_ult2mes                    0.011712\n",
       "PRODUCTO_3_saldoMean_ult1meses                       0.011523\n",
       "RIESGO_DIRECTO_1_saldoMean_ult2meses                 0.010437\n",
       "PRODUCTO_6_saldoMin_ult12meses                       0.010413\n",
       "PRODUCTO_nunique_ult2mes                             0.009536\n",
       "PRODUCTO_3_saldoMedian_ult1meses                     0.008561\n",
       "PRODUCTO_0_saldoSum_ult1meses                        0.008500\n",
       "PRODUCTO_1_saldoMax_ult1meses                        0.007419\n",
       "PRODUCTO_2_saldoUnique_ult12meses                    0.006840\n",
       "PRODUCTO_6_saldoSum_ult12meses                       0.006666\n",
       "PRODUCTO_1_saldoMean_ult1meses                       0.006016\n",
       "PRODUCTO_2_saldoSum_ult12meses                       0.005916\n",
       "cod_instit_financiera_max_ult3mes                    0.005858\n",
       "edad                                                 0.005631\n",
       "PRODUCTO_max_ult1mes                                 0.005389\n",
       "PRODUCTO_1_saldoSum_ult1meses                        0.005257\n",
       "COD_CLASIFICACION_DEUDOR_0_saldoStd_ult1meses        0.005089\n",
       "PRODUCTO_6_saldoUnique_ult1meses                     0.005080\n",
       "PRODUCTO_mode_ult12mes                               0.004643\n",
       "tipo_credito_12_saldoUnique_ult4meses                0.004584\n",
       "PRODUCTO_8_saldoMin_ult12meses                       0.004556\n",
       "PRODUCTO_0_saldoUnique_ult1meses                     0.004429\n",
       "PRODUCTO_8_saldoMedian_ult12meses                    0.004345\n",
       "PRODUCTO_3_saldoSum_ult12meses                       0.004266\n",
       "PRODUCTO_4_saldoSum_ult1meses                        0.004254\n",
       "cod_instit_financiera_min_ult12mes                   0.004254\n",
       "sexo_0                                               0.004233\n",
       "tipo_credito_11_saldoUnique_ult12meses               0.004160\n",
       "RIESGO_DIRECTO_-1_saldoSum_ult1meses                 0.004055\n",
       "RIESGO_DIRECTO_-1_saldoMedian_ult1meses              0.003925\n",
       "PRODUCTO_3_saldoUnique_ult12meses                    0.003781\n",
       "dtype: float64"
      ]
     },
     "execution_count": 21,
     "metadata": {},
     "output_type": "execute_result"
    }
   ],
   "source": [
    "fi.sort_values(ascending=False).head(50)"
   ]
  },
  {
   "cell_type": "code",
   "execution_count": 22,
   "id": "quiet-scenario",
   "metadata": {},
   "outputs": [],
   "source": [
    "fi.to_pickle('fi_gbc.pkl')"
   ]
  },
  {
   "cell_type": "code",
   "execution_count": 23,
   "id": "intermediate-reporter",
   "metadata": {},
   "outputs": [],
   "source": [
    "train_probs_gbc = train_probs\n",
    "test_probs_gbc = test_probs\n",
    "train_probs_gbc.to_pickle('train_probs_gbc.pkl')\n",
    "test_probs_gbc.to_pickle('test_probs_gbc.pkl')"
   ]
  },
  {
   "cell_type": "markdown",
   "id": "urban-honolulu",
   "metadata": {},
   "source": [
    "## Entrenando LGBM categorical features"
   ]
  },
  {
   "cell_type": "code",
   "execution_count": 4,
   "id": "diagnostic-austin",
   "metadata": {
    "scrolled": false
   },
   "outputs": [
    {
     "data": {
      "text/plain": [
       "((358487, 1320), (396666, 1320))"
      ]
     },
     "execution_count": 4,
     "metadata": {},
     "output_type": "execute_result"
    }
   ],
   "source": [
    "train = pd.read_pickle('../data/train_features1320_score_0.85577.pkl') \n",
    "test = pd.read_pickle('../data/test_features1320_score_0.85577.pkl')\n",
    "train.shape, test.shape"
   ]
  },
  {
   "cell_type": "code",
   "execution_count": 7,
   "id": "instant-railway",
   "metadata": {},
   "outputs": [],
   "source": [
    "var_categ = [c for c in train.columns if 'mode' in c]\n",
    "for c in var_categ:\n",
    "    train[c] = train[c].astype('category')\n",
    "    test[c] = test[c].astype('category')"
   ]
  },
  {
   "cell_type": "code",
   "execution_count": 8,
   "id": "cognitive-wireless",
   "metadata": {
    "scrolled": true
   },
   "outputs": [
    {
     "name": "stdout",
     "output_type": "stream",
     "text": [
      "********** 0 **********\n"
     ]
    },
    {
     "name": "stderr",
     "output_type": "stream",
     "text": [
      "C:\\Users\\usuario\\anaconda3\\envs\\venv_datathon\\lib\\site-packages\\lightgbm\\basic.py:1286: UserWarning: Overriding the parameters from Reference Dataset.\n",
      "  warnings.warn('Overriding the parameters from Reference Dataset.')\n",
      "C:\\Users\\usuario\\anaconda3\\envs\\venv_datathon\\lib\\site-packages\\lightgbm\\basic.py:1098: UserWarning: categorical_column in param dict is overridden.\n",
      "  warnings.warn('{} in param dict is overridden.'.format(cat_alias))\n"
     ]
    },
    {
     "name": "stdout",
     "output_type": "stream",
     "text": [
      "Training until validation scores don't improve for 10 rounds\n",
      "[100]\ttraining's auc: 0.87377\ttraining's binary_logloss: 0.279481\tvalid_1's auc: 0.849385\tvalid_1's binary_logloss: 0.297542\n",
      "[200]\ttraining's auc: 0.891032\ttraining's binary_logloss: 0.264902\tvalid_1's auc: 0.852293\tvalid_1's binary_logloss: 0.295352\n",
      "Early stopping, best iteration is:\n",
      "[220]\ttraining's auc: 0.893876\ttraining's binary_logloss: 0.262551\tvalid_1's auc: 0.852501\tvalid_1's binary_logloss: 0.295185\n",
      "********** 1 **********\n",
      "Training until validation scores don't improve for 10 rounds\n",
      "[100]\ttraining's auc: 0.873679\ttraining's binary_logloss: 0.279659\tvalid_1's auc: 0.848266\tvalid_1's binary_logloss: 0.298328\n",
      "[200]\ttraining's auc: 0.891073\ttraining's binary_logloss: 0.265048\tvalid_1's auc: 0.850959\tvalid_1's binary_logloss: 0.296141\n",
      "Early stopping, best iteration is:\n",
      "[231]\ttraining's auc: 0.895043\ttraining's binary_logloss: 0.261529\tvalid_1's auc: 0.851234\tvalid_1's binary_logloss: 0.295913\n",
      "********** 2 **********\n",
      "Training until validation scores don't improve for 10 rounds\n",
      "[100]\ttraining's auc: 0.873436\ttraining's binary_logloss: 0.280113\tvalid_1's auc: 0.851697\tvalid_1's binary_logloss: 0.295131\n",
      "[200]\ttraining's auc: 0.890881\ttraining's binary_logloss: 0.265486\tvalid_1's auc: 0.853829\tvalid_1's binary_logloss: 0.292932\n",
      "Early stopping, best iteration is:\n",
      "[205]\ttraining's auc: 0.891632\ttraining's binary_logloss: 0.264854\tvalid_1's auc: 0.85388\tvalid_1's binary_logloss: 0.292817\n",
      "********** 3 **********\n",
      "Training until validation scores don't improve for 10 rounds\n",
      "[100]\ttraining's auc: 0.873864\ttraining's binary_logloss: 0.279994\tvalid_1's auc: 0.850325\tvalid_1's binary_logloss: 0.295946\n",
      "[200]\ttraining's auc: 0.891149\ttraining's binary_logloss: 0.26533\tvalid_1's auc: 0.85275\tvalid_1's binary_logloss: 0.293611\n",
      "Early stopping, best iteration is:\n",
      "[191]\ttraining's auc: 0.889979\ttraining's binary_logloss: 0.266389\tvalid_1's auc: 0.852815\tvalid_1's binary_logloss: 0.293624\n",
      "********** 4 **********\n",
      "Training until validation scores don't improve for 10 rounds\n",
      "[100]\ttraining's auc: 0.87642\ttraining's binary_logloss: 0.278481\tvalid_1's auc: 0.842448\tvalid_1's binary_logloss: 0.299398\n",
      "[200]\ttraining's auc: 0.893994\ttraining's binary_logloss: 0.263484\tvalid_1's auc: 0.844912\tvalid_1's binary_logloss: 0.297354\n",
      "Early stopping, best iteration is:\n",
      "[206]\ttraining's auc: 0.894779\ttraining's binary_logloss: 0.262773\tvalid_1's auc: 0.844942\tvalid_1's binary_logloss: 0.297322\n",
      "*********************\n",
      "roc auc estimado:  0.8511052212600636\n",
      "roc auc varianza:  0.0007769596852791391\n"
     ]
    }
   ],
   "source": [
    "from lightgbm import LGBMClassifier\n",
    "from sklearn.metrics import roc_auc_score\n",
    "from sklearn.model_selection import KFold\n",
    "import numpy as np\n",
    "folds = [train.index[t] for t, v in KFold(5).split(train)]\n",
    "test_probs = []\n",
    "train_probs = []\n",
    "fi = []\n",
    "for i, idx in enumerate(folds):\n",
    "    print(\"*\"*10, i, \"*\"*10)\n",
    "    Xt = train.loc[idx]\n",
    "    yt = y_train.loc[Xt.index].target\n",
    "\n",
    "    Xv = train.drop(Xt.index)\n",
    "    yv = y_train.loc[Xv.index].target\n",
    "\n",
    "    learner = LGBMClassifier(n_estimators=1000, boosting_type='gbdt',min_child_samples=1500, colsample_bytree=0.8,\n",
    "                   subsample=0.8, max_bin=200, learning_rate=0.1)\n",
    "    \n",
    "    learner.fit(Xt, yt,  early_stopping_rounds=10, eval_metric=\"auc\",\n",
    "                eval_set=[(Xt, yt), (Xv, yv)], verbose=100)\n",
    "    test_probs.append(pd.Series(learner.predict_proba(test)[:, -1], index=test.index, name=\"fold_\" + str(i)))\n",
    "    train_probs.append(pd.Series(learner.predict_proba(Xv)[:, -1], index=Xv.index, name=\"probs\"))\n",
    "    fi.append(pd.Series(learner.feature_importances_ / learner.feature_importances_.sum(), index=Xt.columns))\n",
    "\n",
    "test_probs = pd.concat(test_probs, axis=1).mean(axis=1)\n",
    "train_probs = pd.concat(train_probs)\n",
    "fi = pd.concat(fi, axis=1).mean(axis=1)\n",
    "print(\"*\" * 21)\n",
    "print(\"roc auc estimado: \", roc_auc_score(y_train, train_probs.loc[y_train.index]))\n",
    "print(\"roc auc varianza: \", np.std([roc_auc_score(y_train.loc[folds[i]], train_probs.iloc[folds[i]]) for i in range(len(folds))]))  "
   ]
  },
  {
   "cell_type": "code",
   "execution_count": 9,
   "id": "eleven-airplane",
   "metadata": {
    "scrolled": true
   },
   "outputs": [
    {
     "data": {
      "text/plain": [
       "ciiu_mode                                            0.112486\n",
       "cod_instit_financiera_mode_ult1mes                   0.039028\n",
       "ubigeo_mode                                          0.037757\n",
       "cod_instit_financiera_mode_ult12mes                  0.024806\n",
       "cod_instit_financiera_mode_ult2mes                   0.022791\n",
       "cod_instit_financiera_mode_ult3mes                   0.016482\n",
       "cod_instit_financiera_mode_ult11mes                  0.016149\n",
       "cod_instit_financiera_mode_ult10mes                  0.014884\n",
       "cod_instit_financiera_mode_ult4mes                   0.013109\n",
       "cod_instit_financiera_mode_ult8mes                   0.012756\n",
       "cod_instit_financiera_mode_ult5mes                   0.012124\n",
       "cod_instit_financiera_mode_ult6mes                   0.011628\n",
       "cod_instit_financiera_mode_ult7mes                   0.011587\n",
       "PRODUCTO_1_saldoMean_ult1meses                       0.008456\n",
       "PRODUCTO_1_saldoMax_ult1meses                        0.007019\n",
       "edad                                                 0.006704\n",
       "codzona_mode                                         0.005508\n",
       "PRODUCTO_3_saldoUnique_ult12meses                    0.005062\n",
       "sexo_0                                               0.005019\n",
       "COD_CLASIFICACION_DEUDOR_0_saldoUnique_ult12meses    0.004483\n",
       "RIESGO_DIRECTO_1_saldoStd_ult1meses                  0.004432\n",
       "PRODUCTO_1_saldoMedian_ult1meses                     0.004283\n",
       "estadocontribuyente_0                                0.004201\n",
       "PRODUCTO_3_saldoMedian_ult1meses                     0.003970\n",
       "PRODUCTO_1_saldoSum_ult1meses                        0.003915\n",
       "PRODUCTO_3_saldoMean_ult1meses                       0.003750\n",
       "PRODUCTO_12_saldoMin_ult1meses                       0.003543\n",
       "condicion_0_saldoUnique_ult12meses                   0.003440\n",
       "PRODUCTO_6_saldoSum_ult12meses                       0.003419\n",
       "PRODUCTO_3_saldoMedian_ult12meses                    0.003325\n",
       "cod_instit_financiera_10_saldoStd_ult1meses          0.003291\n",
       "PRODUCTO_0_saldoStd_ult1meses                        0.003098\n",
       "PRODUCTO_11_saldoMax_ult1meses                       0.003087\n",
       "PRODUCTO_0_saldoMin_ult1meses                        0.003047\n",
       "PRODUCTO_8_saldoSum_ult12meses                       0.003045\n",
       "cod_instit_financiera_34_saldoUnique_ult12meses      0.003032\n",
       "PRODUCTO_6_saldoMax_ult1meses                        0.003011\n",
       "RIESGO_DIRECTO_1_saldoMin_ult1meses                  0.002863\n",
       "RIESGO_DIRECTO_1_saldoSum_ult1meses                  0.002859\n",
       "RIESGO_DIRECTO_-1_saldoMedian_ult1meses              0.002858\n",
       "PRODUCTO_2_saldoUnique_ult12meses                    0.002852\n",
       "ctd_veh                                              0.002847\n",
       "PRODUCTO_8_saldoUnique_ult12meses                    0.002845\n",
       "RIESGO_DIRECTO_1_saldoUnique_ult12meses              0.002844\n",
       "RIESGO_DIRECTO_1_saldoUnique_ult1meses               0.002727\n",
       "PRODUCTO_mode_ult1mes                                0.002693\n",
       "PRODUCTO_7_saldoMax_ult12meses                       0.002618\n",
       "PRODUCTO_3_saldoMin_ult12meses                       0.002581\n",
       "PRODUCTO_0_saldoMax_ult1meses                        0.002573\n",
       "PRODUCTO_1_saldoMin_ult1meses                        0.002474\n",
       "dtype: float64"
      ]
     },
     "execution_count": 9,
     "metadata": {},
     "output_type": "execute_result"
    }
   ],
   "source": [
    "fi.sort_values(ascending=False).head(50)"
   ]
  },
  {
   "cell_type": "code",
   "execution_count": 11,
   "id": "excited-management",
   "metadata": {},
   "outputs": [],
   "source": [
    "fi.to_pickle('fi_lightgbm_v2.pkl')"
   ]
  },
  {
   "cell_type": "code",
   "execution_count": 12,
   "id": "beginning-tours",
   "metadata": {},
   "outputs": [],
   "source": [
    "train_probs_lightgbm = train_probs\n",
    "test_probs_lightgbm = test_probs\n",
    "train_probs_lightgbm.to_pickle('train_probs_lightgbm_v2.pkl')\n",
    "test_probs_lightgbm.to_pickle('test_probs_lightgbm_v2.pkl')"
   ]
  },
  {
   "cell_type": "markdown",
   "id": "naughty-encounter",
   "metadata": {},
   "source": []
  }
 ],
 "metadata": {
  "kernelspec": {
   "display_name": "Python 3",
   "language": "python",
   "name": "python3"
  },
  "language_info": {
   "codemirror_mode": {
    "name": "ipython",
    "version": 3
   },
   "file_extension": ".py",
   "mimetype": "text/x-python",
   "name": "python",
   "nbconvert_exporter": "python",
   "pygments_lexer": "ipython3",
   "version": "3.8.5"
  }
 },
 "nbformat": 4,
 "nbformat_minor": 5
}
