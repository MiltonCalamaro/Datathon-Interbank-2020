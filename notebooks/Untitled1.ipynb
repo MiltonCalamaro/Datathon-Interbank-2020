{
 "cells": [
  {
   "cell_type": "code",
   "execution_count": 1,
   "metadata": {},
   "outputs": [],
   "source": [
    "import pandas as pd\n",
    "import gc"
   ]
  },
  {
   "cell_type": "code",
   "execution_count": 2,
   "metadata": {},
   "outputs": [],
   "source": [
    "# sunat_train = pd.read_csv('../data/sunat_train.csv')\n",
    "rcc_train = pd.read_csv('../data/rcc_train.csv')\n",
    "# se_train = pd.read_csv('../data/se_train.csv', index_col = 'key_value')\n",
    "# censo_train = pd.read_csv('../data/censo_train.csv', index_col = 'key_value')\n",
    "y_train = pd.read_csv('../data/y_train.csv', index_col = 'key_value')\n",
    "\n",
    "# sunat_test = pd.read_csv('../data/sunat_test.csv')\n",
    "rcc_test = pd.read_csv('../data/rcc_test.csv')\n",
    "# se_test = pd.read_csv('../data/se_test.csv', index_col = 'key_value')\n",
    "# censo_test = pd.read_csv('../data/censo_test.csv', index_col = 'key_value')\n",
    "sample_submision = pd.read_csv('../data/sample_submission.csv', index_col = 'key_value')"
   ]
  },
  {
   "cell_type": "code",
   "execution_count": 3,
   "metadata": {},
   "outputs": [],
   "source": [
    "bins = [-1, 0, 10, 20, 30, 60, 90, 180, 360, 720, float(\"inf\")]\n",
    "rcc_train[\"condicion\"] = pd.cut(rcc_train.condicion, bins, labels = range(0,10))\n",
    "rcc_test[\"condicion\"] = pd.cut(rcc_test.condicion, bins, labels = range(0,10))"
   ]
  },
  {
   "cell_type": "code",
   "execution_count": 4,
   "metadata": {},
   "outputs": [],
   "source": [
    "rcc_test['cod_instit_financiera'] = rcc_test['cod_instit_financiera'].fillna(34)\n",
    "rcc_test['PRODUCTO'] = rcc_test['PRODUCTO'].fillna(1)"
   ]
  },
  {
   "cell_type": "code",
   "execution_count": 5,
   "metadata": {},
   "outputs": [],
   "source": [
    "rcc_train = rcc_train.astype({'condicion':'int32',\n",
    "                  'tipo_credito':'int32',\n",
    "                  'cod_instit_financiera':'int32',\n",
    "                  'PRODUCTO':'int32',\n",
    "                  'RIESGO_DIRECTO':'int32',\n",
    "                  'COD_CLASIFICACION_DEUDOR':'int32'})\n",
    "rcc_test = rcc_test.astype({'condicion':'int32',\n",
    "                  'tipo_credito':'int32',\n",
    "                  'cod_instit_financiera':'int32',\n",
    "                  'PRODUCTO':'int32',\n",
    "                  'RIESGO_DIRECTO':'int32',\n",
    "                  'COD_CLASIFICACION_DEUDOR':'int32'})"
   ]
  },
  {
   "cell_type": "code",
   "execution_count": 6,
   "metadata": {},
   "outputs": [
    {
     "data": {
      "application/vnd.jupyter.widget-view+json": {
       "model_id": "d6ace9597b2d480784d5065ff9a8cc88",
       "version_major": 2,
       "version_minor": 0
      },
      "text/plain": [
       "HBox(children=(FloatProgress(value=0.0, max=12.0), HTML(value='')))"
      ]
     },
     "metadata": {},
     "output_type": "display_data"
    },
    {
     "name": "stdout",
     "output_type": "stream",
     "text": [
      "\n"
     ]
    }
   ],
   "source": [
    "from tqdm.notebook import tqdm \n",
    "list_rcc_train_agg = []\n",
    "for n,i in enumerate(tqdm(sorted(set(rcc_train.codmes),reverse=True))):\n",
    "    if i in [201802,201712,201709,201703]:\n",
    "        for c in ['tipo_credito','cod_instit_financiera','PRODUCTO','RIESGO_DIRECTO','COD_CLASIFICACION_DEUDOR','condicion']:\n",
    "            rcc_train_agg = rcc_train[rcc_train.codmes>=i].groupby(['key_value', c]).saldo.sum().unstack(level = 1, fill_value=0)\n",
    "            rcc_train_agg.columns = [f'{rcc_train_agg.columns.name}_{c}_ult{n+1}meses' for c in rcc_train_agg.columns]\n",
    "            list_rcc_train_agg.append(rcc_train_agg)\n",
    "        gc.collect()"
   ]
  },
  {
   "cell_type": "code",
   "execution_count": 7,
   "metadata": {},
   "outputs": [],
   "source": [
    "rcc_train_ = pd.concat(list_rcc_train_agg, axis=1)\n",
    "del rcc_train, list_rcc_train_agg"
   ]
  },
  {
   "cell_type": "code",
   "execution_count": 8,
   "metadata": {},
   "outputs": [
    {
     "data": {
      "application/vnd.jupyter.widget-view+json": {
       "model_id": "c88572189cad4438b0b2ed86d52ac17e",
       "version_major": 2,
       "version_minor": 0
      },
      "text/plain": [
       "HBox(children=(FloatProgress(value=0.0, max=12.0), HTML(value='')))"
      ]
     },
     "metadata": {},
     "output_type": "display_data"
    },
    {
     "name": "stdout",
     "output_type": "stream",
     "text": [
      "\n"
     ]
    }
   ],
   "source": [
    "from tqdm.notebook import tqdm \n",
    "list_rcc_test_agg = []\n",
    "for n,i in enumerate(tqdm(sorted(set(rcc_test.codmes),reverse=True))):\n",
    "    if i in [201902,201812,201809,201803]:\n",
    "        for c in ['tipo_credito','cod_instit_financiera','PRODUCTO','RIESGO_DIRECTO','COD_CLASIFICACION_DEUDOR','condicion']:\n",
    "            rcc_test_agg = rcc_test[rcc_test.codmes>=i].groupby(['key_value', c]).saldo.sum().unstack(level = 1, fill_value=0)\n",
    "            rcc_test_agg.columns = [f'{rcc_test_agg.columns.name}_{c}_ult{n+1}meses' for c in rcc_test_agg.columns]\n",
    "            list_rcc_test_agg.append(rcc_test_agg)\n",
    "        gc.collect()"
   ]
  },
  {
   "cell_type": "code",
   "execution_count": 9,
   "metadata": {},
   "outputs": [],
   "source": [
    "rcc_test_ = pd.concat(list_rcc_test_agg, axis=1)\n",
    "del rcc_test, list_rcc_test_agg"
   ]
  },
  {
   "cell_type": "code",
   "execution_count": 10,
   "metadata": {},
   "outputs": [],
   "source": [
    "se_train = pd.read_csv('../data/se_train.csv', index_col = 'key_value')\n",
    "# censo_train = pd.read_csv('../data/censo_train.csv', index_col = 'key_value')\n",
    "se_test = pd.read_csv('../data/se_test.csv', index_col = 'key_value')\n",
    "# censo_test = pd.read_csv('../data/censo_test.csv', index_col = 'key_value')"
   ]
  },
  {
   "cell_type": "code",
   "execution_count": 11,
   "metadata": {},
   "outputs": [
    {
     "data": {
      "text/plain": [
       "70"
      ]
     },
     "execution_count": 11,
     "metadata": {},
     "output_type": "execute_result"
    }
   ],
   "source": [
    "gc.collect()"
   ]
  },
  {
   "cell_type": "code",
   "execution_count": 12,
   "metadata": {},
   "outputs": [],
   "source": [
    "train = rcc_train_.join(se_train)#.join(censo_train).join(se_train)\n",
    "test = rcc_test_.join(se_test)#join(censo_test).join(se_test)"
   ]
  },
  {
   "cell_type": "code",
   "execution_count": 13,
   "metadata": {},
   "outputs": [
    {
     "data": {
      "text/plain": [
       "((358487, 711), (396666, 663))"
      ]
     },
     "execution_count": 13,
     "metadata": {},
     "output_type": "execute_result"
    }
   ],
   "source": [
    "train.shape, test.shape"
   ]
  },
  {
   "cell_type": "code",
   "execution_count": 14,
   "metadata": {},
   "outputs": [
    {
     "data": {
      "text/plain": [
       "44"
      ]
     },
     "execution_count": 14,
     "metadata": {},
     "output_type": "execute_result"
    }
   ],
   "source": [
    "del se_train, se_test\n",
    "gc.collect()"
   ]
  },
  {
   "cell_type": "code",
   "execution_count": 15,
   "metadata": {},
   "outputs": [
    {
     "data": {
      "text/plain": [
       "(0, 0)"
      ]
     },
     "execution_count": 15,
     "metadata": {},
     "output_type": "execute_result"
    }
   ],
   "source": [
    "keep_cols = list(set(train.columns).intersection(set(test.columns)))\n",
    "train = train[keep_cols].copy()\n",
    "test = test[keep_cols].copy()\n",
    "len(set(train.columns) - set(test.columns)) , len(set(test.columns) - set(train.columns))"
   ]
  },
  {
   "cell_type": "code",
   "execution_count": 16,
   "metadata": {},
   "outputs": [],
   "source": [
    "import re\n",
    "test = test.rename(columns = lambda x:re.sub('[^A-Za-z0-9_-]+', '', x))\n",
    "train = train.rename(columns = lambda x:re.sub('[^A-Za-z0-9_-]+', '', x))"
   ]
  },
  {
   "cell_type": "code",
   "execution_count": 17,
   "metadata": {},
   "outputs": [],
   "source": [
    "#Función para obtener variables con alta correlación\n",
    "def get_correlated(data, cut=0.85):\n",
    "    correlated_features = set()\n",
    "    correlation_matrix = data.corr()\n",
    "    \n",
    "    for i in range(len(correlation_matrix .columns)):\n",
    "        for j in range(i):\n",
    "            if abs(correlation_matrix.iloc[i, j]) > cut:\n",
    "                colname = correlation_matrix.columns[i]\n",
    "                correlated_features.add(colname)\n",
    "            \n",
    "    return correlated_features"
   ]
  },
  {
   "cell_type": "code",
   "execution_count": 18,
   "metadata": {},
   "outputs": [
    {
     "data": {
      "text/plain": [
       "(358487, 656)"
      ]
     },
     "execution_count": 18,
     "metadata": {},
     "output_type": "execute_result"
    }
   ],
   "source": [
    "train.shape"
   ]
  },
  {
   "cell_type": "code",
   "execution_count": 19,
   "metadata": {},
   "outputs": [],
   "source": [
    "correlated=get_correlated(train,cut=0.9)\n",
    "train=train.drop(columns=correlated)\n",
    "test= test.drop(columns=correlated)"
   ]
  },
  {
   "cell_type": "code",
   "execution_count": 20,
   "metadata": {},
   "outputs": [
    {
     "data": {
      "text/plain": [
       "(358487, 276)"
      ]
     },
     "execution_count": 20,
     "metadata": {},
     "output_type": "execute_result"
    }
   ],
   "source": [
    "train.shape"
   ]
  },
  {
   "cell_type": "code",
   "execution_count": 21,
   "metadata": {},
   "outputs": [
    {
     "data": {
      "text/html": [
       "<style type='text/css'>\n",
       ".datatable table.frame { margin-bottom: 0; }\n",
       ".datatable table.frame thead { border-bottom: none; }\n",
       ".datatable table.frame tr.coltypes td {  color: #FFFFFF;  line-height: 6px;  padding: 0 0.5em;}\n",
       ".datatable .bool    { background: #DDDD99; }\n",
       ".datatable .object  { background: #565656; }\n",
       ".datatable .int     { background: #5D9E5D; }\n",
       ".datatable .float   { background: #4040CC; }\n",
       ".datatable .str     { background: #CC4040; }\n",
       ".datatable .row_index {  background: var(--jp-border-color3);  border-right: 1px solid var(--jp-border-color0);  color: var(--jp-ui-font-color3);  font-size: 9px;}\n",
       ".datatable .frame tr.coltypes .row_index {  background: var(--jp-border-color0);}\n",
       ".datatable th:nth-child(2) { padding-left: 12px; }\n",
       ".datatable .hellipsis {  color: var(--jp-cell-editor-border-color);}\n",
       ".datatable .vellipsis {  background: var(--jp-layout-color0);  color: var(--jp-cell-editor-border-color);}\n",
       ".datatable .na {  color: var(--jp-cell-editor-border-color);  font-size: 80%;}\n",
       ".datatable .footer { font-size: 9px; }\n",
       ".datatable .frame_dimensions {  background: var(--jp-border-color3);  border-top: 1px solid var(--jp-border-color0);  color: var(--jp-ui-font-color3);  display: inline-block;  opacity: 0.6;  padding: 1px 10px 1px 5px;}\n",
       ".datatable .frame thead tr.colnames {  background-image: url('data:image/png;base64,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');  background-repeat: repeat-x;  background-size: 14px;  height: 28px;}\n",
       "</style>\n"
      ],
      "text/plain": [
       "<IPython.core.display.HTML object>"
      ]
     },
     "metadata": {},
     "output_type": "display_data"
    },
    {
     "name": "stdout",
     "output_type": "stream",
     "text": [
      "********** 0 **********\n"
     ]
    },
    {
     "name": "stderr",
     "output_type": "stream",
     "text": [
      "/opt/conda/lib/python3.7/site-packages/sklearn/utils/validation.py:72: DataConversionWarning: A column-vector y was passed when a 1d array was expected. Please change the shape of y to (n_samples, ), for example using ravel().\n",
      "  return f(**kwargs)\n"
     ]
    },
    {
     "name": "stdout",
     "output_type": "stream",
     "text": [
      "Training until validation scores don't improve for 10 rounds\n",
      "[50]\ttraining's auc: 0.838991\ttraining's binary_logloss: 0.305793\tvalid_1's auc: 0.830297\tvalid_1's binary_logloss: 0.311855\n",
      "[100]\ttraining's auc: 0.853055\ttraining's binary_logloss: 0.294344\tvalid_1's auc: 0.839922\tvalid_1's binary_logloss: 0.304122\n",
      "[150]\ttraining's auc: 0.861475\ttraining's binary_logloss: 0.287972\tvalid_1's auc: 0.84202\tvalid_1's binary_logloss: 0.302423\n",
      "Early stopping, best iteration is:\n",
      "[159]\ttraining's auc: 0.862761\ttraining's binary_logloss: 0.287003\tvalid_1's auc: 0.842197\tvalid_1's binary_logloss: 0.302227\n",
      "********** 1 **********\n",
      "Training until validation scores don't improve for 10 rounds\n",
      "[50]\ttraining's auc: 0.839038\ttraining's binary_logloss: 0.305773\tvalid_1's auc: 0.832348\tvalid_1's binary_logloss: 0.310717\n",
      "[100]\ttraining's auc: 0.853014\ttraining's binary_logloss: 0.294213\tvalid_1's auc: 0.841155\tvalid_1's binary_logloss: 0.303426\n",
      "[150]\ttraining's auc: 0.861305\ttraining's binary_logloss: 0.287968\tvalid_1's auc: 0.843006\tvalid_1's binary_logloss: 0.301865\n",
      "[200]\ttraining's auc: 0.86808\ttraining's binary_logloss: 0.282811\tvalid_1's auc: 0.843825\tvalid_1's binary_logloss: 0.301156\n",
      "Early stopping, best iteration is:\n",
      "[210]\ttraining's auc: 0.869487\ttraining's binary_logloss: 0.28186\tvalid_1's auc: 0.844073\tvalid_1's binary_logloss: 0.301025\n",
      "********** 2 **********\n",
      "Training until validation scores don't improve for 10 rounds\n",
      "[50]\ttraining's auc: 0.837808\ttraining's binary_logloss: 0.306713\tvalid_1's auc: 0.836154\tvalid_1's binary_logloss: 0.307871\n",
      "[100]\ttraining's auc: 0.852206\ttraining's binary_logloss: 0.295181\tvalid_1's auc: 0.845043\tvalid_1's binary_logloss: 0.300032\n",
      "[150]\ttraining's auc: 0.860315\ttraining's binary_logloss: 0.28903\tvalid_1's auc: 0.846951\tvalid_1's binary_logloss: 0.298282\n",
      "[200]\ttraining's auc: 0.867402\ttraining's binary_logloss: 0.283807\tvalid_1's auc: 0.847835\tvalid_1's binary_logloss: 0.29754\n",
      "Early stopping, best iteration is:\n",
      "[192]\ttraining's auc: 0.866333\ttraining's binary_logloss: 0.28458\tvalid_1's auc: 0.847837\tvalid_1's binary_logloss: 0.297534\n",
      "********** 3 **********\n",
      "Training until validation scores don't improve for 10 rounds\n",
      "[50]\ttraining's auc: 0.83811\ttraining's binary_logloss: 0.30651\tvalid_1's auc: 0.834143\tvalid_1's binary_logloss: 0.309279\n",
      "[100]\ttraining's auc: 0.852328\ttraining's binary_logloss: 0.295022\tvalid_1's auc: 0.84329\tvalid_1's binary_logloss: 0.301219\n",
      "[150]\ttraining's auc: 0.860582\ttraining's binary_logloss: 0.288819\tvalid_1's auc: 0.845377\tvalid_1's binary_logloss: 0.299418\n",
      "[200]\ttraining's auc: 0.867713\ttraining's binary_logloss: 0.283719\tvalid_1's auc: 0.846174\tvalid_1's binary_logloss: 0.298776\n",
      "Early stopping, best iteration is:\n",
      "[196]\ttraining's auc: 0.867241\ttraining's binary_logloss: 0.284078\tvalid_1's auc: 0.846214\tvalid_1's binary_logloss: 0.298759\n",
      "********** 4 **********\n",
      "Training until validation scores don't improve for 10 rounds\n",
      "[50]\ttraining's auc: 0.840523\ttraining's binary_logloss: 0.30554\tvalid_1's auc: 0.826079\tvalid_1's binary_logloss: 0.311744\n",
      "[100]\ttraining's auc: 0.854335\ttraining's binary_logloss: 0.293923\tvalid_1's auc: 0.834055\tvalid_1's binary_logloss: 0.30503\n",
      "[150]\ttraining's auc: 0.863102\ttraining's binary_logloss: 0.287474\tvalid_1's auc: 0.836249\tvalid_1's binary_logloss: 0.303365\n",
      "[200]\ttraining's auc: 0.869865\ttraining's binary_logloss: 0.282416\tvalid_1's auc: 0.836685\tvalid_1's binary_logloss: 0.302967\n",
      "Early stopping, best iteration is:\n",
      "[211]\ttraining's auc: 0.871327\ttraining's binary_logloss: 0.281371\tvalid_1's auc: 0.836737\tvalid_1's binary_logloss: 0.302897\n",
      "*********************\n",
      "roc auc estimado:  0.8434446318408043\n"
     ]
    }
   ],
   "source": [
    "from lightgbm import LGBMClassifier\n",
    "from sklearn.metrics import roc_auc_score\n",
    "from sklearn.model_selection import KFold\n",
    "\n",
    "folds = [train.index[t] for t, v in KFold(5).split(train)]\n",
    "test_probs = []\n",
    "train_probs = []\n",
    "fi = []\n",
    "for i, idx in enumerate(folds):\n",
    "    print(\"*\"*10, i, \"*\"*10)\n",
    "    Xt = train.loc[idx]\n",
    "    yt = y_train.loc[Xt.index]\n",
    "\n",
    "    Xv = train.drop(Xt.index)\n",
    "    yv = y_train.loc[Xv.index]\n",
    "    \n",
    "    learner = LGBMClassifier(n_estimators=1000)\n",
    "    learner.fit(Xt, yt,  early_stopping_rounds=10, eval_metric=\"auc\",\n",
    "                eval_set=[(Xt, yt), (Xv, yv)], verbose=50)\n",
    "    test_probs.append(pd.Series(learner.predict_proba(test)[:, -1], index=test.index, name=\"fold_\" + str(i)))\n",
    "    train_probs.append(pd.Series(learner.predict_proba(Xv)[:, -1], index=Xv.index, name=\"probs\"))\n",
    "    fi.append(pd.Series(learner.feature_importances_ / learner.feature_importances_.sum(), index=Xt.columns))\n",
    "          \n",
    "test_probs = pd.concat(test_probs, axis=1).mean(axis=1)\n",
    "train_probs = pd.concat(train_probs)\n",
    "fi = pd.concat(fi, axis=1).mean(axis=1)\n",
    "\n",
    "print(\"*\" * 21)\n",
    "print(\"roc auc estimado: \", roc_auc_score(y_train, train_probs.loc[y_train.index]))"
   ]
  },
  {
   "cell_type": "code",
   "execution_count": 23,
   "metadata": {},
   "outputs": [
    {
     "data": {
      "text/plain": [
       "PRODUCTO_1_ult1meses                     0.045238\n",
       "tipo_credito_11_ult12meses               0.027882\n",
       "PRODUCTO_3_ult3meses                     0.027279\n",
       "edad                                     0.025727\n",
       "tipo_credito_11_ult1meses                0.022727\n",
       "PRODUCTO_0_ult3meses                     0.022691\n",
       "PRODUCTO_6_ult1meses                     0.022666\n",
       "COD_CLASIFICACION_DEUDOR_5_ult1meses     0.022271\n",
       "PRODUCTO_8_ult3meses                     0.019368\n",
       "PRODUCTO_1_ult6meses                     0.018764\n",
       "cod_ubi                                  0.018428\n",
       "PRODUCTO_4_ult1meses                     0.017753\n",
       "PRODUCTO_11_ult1meses                    0.016435\n",
       "RIESGO_DIRECTO_1_ult6meses               0.015871\n",
       "tip_lvledu                               0.014463\n",
       "tipo_credito_12_ult1meses                0.014202\n",
       "PRODUCTO_7_ult12meses                    0.013851\n",
       "dto                                      0.013592\n",
       "cod_instit_financiera_34_ult3meses       0.012068\n",
       "cod_instit_financiera_32_ult12meses      0.011984\n",
       "PRODUCTO_2_ult6meses                     0.011906\n",
       "PRODUCTO_6_ult6meses                     0.011853\n",
       "cod_instit_financiera_8_ult12meses       0.011623\n",
       "PRODUCTO_4_ult12meses                    0.011593\n",
       "condicion_0_ult6meses                    0.011397\n",
       "cod_instit_financiera_10_ult3meses       0.011346\n",
       "sit_lab                                  0.011329\n",
       "cod_instit_financiera_37_ult6meses       0.010953\n",
       "PRODUCTO_15_ult6meses                    0.010911\n",
       "prv                                      0.010452\n",
       "PRODUCTO_13_ult12meses                   0.010232\n",
       "tipo_credito_12_ult6meses                0.010179\n",
       "COD_CLASIFICACION_DEUDOR_1_ult12meses    0.009733\n",
       "cod_instit_financiera_1_ult12meses       0.009698\n",
       "RIESGO_DIRECTO_2_ult1meses               0.008920\n",
       "flg_sin_email                            0.008779\n",
       "tipo_credito_10_ult1meses                0.008768\n",
       "RIESGO_DIRECTO_3_ult6meses               0.008577\n",
       "PRODUCTO_9_ult3meses                     0.008504\n",
       "PRODUCTO_25_ult3meses                    0.007873\n",
       "cod_instit_financiera_0_ult1meses        0.007792\n",
       "PRODUCTO_5_ult3meses                     0.007623\n",
       "condicion_1_ult6meses                    0.007610\n",
       "cod_instit_financiera_33_ult12meses      0.007519\n",
       "PRODUCTO_7_ult1meses                     0.007441\n",
       "cod_instit_financiera_61_ult1meses       0.007285\n",
       "PRODUCTO_4_ult3meses                     0.007181\n",
       "cod_instit_financiera_11_ult1meses       0.007176\n",
       "PRODUCTO_11_ult3meses                    0.007073\n",
       "condicion_1_ult1meses                    0.007064\n",
       "dtype: float64"
      ]
     },
     "execution_count": 23,
     "metadata": {},
     "output_type": "execute_result"
    }
   ],
   "source": [
    "fi.sort_values(ascending=False).head(50)"
   ]
  },
  {
   "cell_type": "code",
   "execution_count": null,
   "metadata": {},
   "outputs": [],
   "source": [
    "# test_probs.name = \"target\"\n",
    "# test_probs.to_csv(\"../results/test4.csv\")"
   ]
  },
  {
   "cell_type": "markdown",
   "metadata": {},
   "source": [
    "## Probando con CatBoost"
   ]
  },
  {
   "cell_type": "code",
   "execution_count": 24,
   "metadata": {},
   "outputs": [
    {
     "name": "stdout",
     "output_type": "stream",
     "text": [
      "********** 0 **********\n",
      "Learning rate set to 0.128212\n",
      "0:\ttest: 0.6949396\ttest1: 0.6991357\tbest: 0.6991357 (0)\ttotal: 257ms\tremaining: 4m 16s\n",
      "50:\ttest: 0.8192151\ttest1: 0.8165845\tbest: 0.8165845 (50)\ttotal: 10.3s\tremaining: 3m 12s\n",
      "100:\ttest: 0.8308329\ttest1: 0.8272455\tbest: 0.8272455 (100)\ttotal: 20.1s\tremaining: 2m 59s\n",
      "150:\ttest: 0.8387963\ttest1: 0.8333692\tbest: 0.8333692 (150)\ttotal: 30.3s\tremaining: 2m 50s\n",
      "200:\ttest: 0.8437851\ttest1: 0.8360357\tbest: 0.8360357 (200)\ttotal: 40.2s\tremaining: 2m 39s\n",
      "250:\ttest: 0.8475939\ttest1: 0.8379175\tbest: 0.8379175 (250)\ttotal: 49.7s\tremaining: 2m 28s\n",
      "300:\ttest: 0.8505720\ttest1: 0.8391934\tbest: 0.8391934 (300)\ttotal: 59s\tremaining: 2m 17s\n",
      "350:\ttest: 0.8537054\ttest1: 0.8402310\tbest: 0.8402310 (350)\ttotal: 1m 8s\tremaining: 2m 6s\n",
      "Stopped by overfitting detector  (10 iterations wait)\n",
      "\n",
      "bestTest = 0.8407104114\n",
      "bestIteration = 372\n",
      "\n",
      "Shrink model to first 373 iterations.\n",
      "********** 1 **********\n",
      "Learning rate set to 0.128212\n",
      "0:\ttest: 0.6927740\ttest1: 0.6957486\tbest: 0.6957486 (0)\ttotal: 182ms\tremaining: 3m 1s\n",
      "50:\ttest: 0.8193783\ttest1: 0.8176912\tbest: 0.8176912 (50)\ttotal: 10.2s\tremaining: 3m 8s\n",
      "100:\ttest: 0.8308834\ttest1: 0.8277509\tbest: 0.8277509 (100)\ttotal: 20.1s\tremaining: 2m 59s\n",
      "150:\ttest: 0.8390014\ttest1: 0.8335026\tbest: 0.8335026 (150)\ttotal: 30.3s\tremaining: 2m 50s\n",
      "200:\ttest: 0.8442447\ttest1: 0.8363452\tbest: 0.8363452 (200)\ttotal: 40.3s\tremaining: 2m 40s\n",
      "250:\ttest: 0.8477416\ttest1: 0.8378481\tbest: 0.8378481 (250)\ttotal: 49.7s\tremaining: 2m 28s\n",
      "300:\ttest: 0.8508848\ttest1: 0.8391910\tbest: 0.8391910 (300)\ttotal: 59.2s\tremaining: 2m 17s\n",
      "350:\ttest: 0.8536644\ttest1: 0.8401068\tbest: 0.8401068 (350)\ttotal: 1m 8s\tremaining: 2m 7s\n",
      "400:\ttest: 0.8562243\ttest1: 0.8409902\tbest: 0.8409910 (399)\ttotal: 1m 18s\tremaining: 1m 56s\n",
      "450:\ttest: 0.8586226\ttest1: 0.8416846\tbest: 0.8416877 (445)\ttotal: 1m 27s\tremaining: 1m 46s\n",
      "500:\ttest: 0.8606962\ttest1: 0.8420943\tbest: 0.8421016 (499)\ttotal: 1m 37s\tremaining: 1m 36s\n",
      "550:\ttest: 0.8628435\ttest1: 0.8425169\tbest: 0.8425169 (550)\ttotal: 1m 46s\tremaining: 1m 26s\n",
      "600:\ttest: 0.8648574\ttest1: 0.8427363\tbest: 0.8427571 (598)\ttotal: 1m 55s\tremaining: 1m 16s\n",
      "Stopped by overfitting detector  (10 iterations wait)\n",
      "\n",
      "bestTest = 0.842876213\n",
      "bestIteration = 634\n",
      "\n",
      "Shrink model to first 635 iterations.\n",
      "********** 2 **********\n",
      "Learning rate set to 0.128212\n",
      "0:\ttest: 0.6997343\ttest1: 0.7006670\tbest: 0.7006670 (0)\ttotal: 183ms\tremaining: 3m 2s\n",
      "50:\ttest: 0.8190120\ttest1: 0.8220613\tbest: 0.8220613 (50)\ttotal: 10.3s\tremaining: 3m 10s\n",
      "100:\ttest: 0.8303531\ttest1: 0.8321775\tbest: 0.8321775 (100)\ttotal: 20.2s\tremaining: 3m\n",
      "150:\ttest: 0.8380064\ttest1: 0.8377586\tbest: 0.8377586 (150)\ttotal: 30.1s\tremaining: 2m 49s\n",
      "200:\ttest: 0.8429241\ttest1: 0.8408213\tbest: 0.8408213 (200)\ttotal: 39.8s\tremaining: 2m 38s\n",
      "250:\ttest: 0.8465714\ttest1: 0.8425795\tbest: 0.8425795 (250)\ttotal: 49.4s\tremaining: 2m 27s\n",
      "300:\ttest: 0.8498998\ttest1: 0.8438387\tbest: 0.8438387 (300)\ttotal: 58.9s\tremaining: 2m 16s\n",
      "350:\ttest: 0.8527012\ttest1: 0.8448326\tbest: 0.8448474 (347)\ttotal: 1m 8s\tremaining: 2m 6s\n",
      "400:\ttest: 0.8550649\ttest1: 0.8455850\tbest: 0.8455850 (400)\ttotal: 1m 17s\tremaining: 1m 56s\n",
      "450:\ttest: 0.8574836\ttest1: 0.8461438\tbest: 0.8461438 (450)\ttotal: 1m 27s\tremaining: 1m 46s\n",
      "500:\ttest: 0.8597553\ttest1: 0.8467050\tbest: 0.8467050 (500)\ttotal: 1m 36s\tremaining: 1m 36s\n",
      "Stopped by overfitting detector  (10 iterations wait)\n",
      "\n",
      "bestTest = 0.8470412744\n",
      "bestIteration = 533\n",
      "\n",
      "Shrink model to first 534 iterations.\n",
      "********** 3 **********\n",
      "Learning rate set to 0.128212\n",
      "0:\ttest: 0.7026203\ttest1: 0.7071193\tbest: 0.7071193 (0)\ttotal: 185ms\tremaining: 3m 5s\n",
      "50:\ttest: 0.8186936\ttest1: 0.8203778\tbest: 0.8203778 (50)\ttotal: 10.2s\tremaining: 3m 10s\n",
      "100:\ttest: 0.8304930\ttest1: 0.8305440\tbest: 0.8305440 (100)\ttotal: 20.1s\tremaining: 2m 58s\n",
      "150:\ttest: 0.8382843\ttest1: 0.8366793\tbest: 0.8366826 (149)\ttotal: 30.1s\tremaining: 2m 49s\n",
      "200:\ttest: 0.8433469\ttest1: 0.8396263\tbest: 0.8396263 (200)\ttotal: 39.9s\tremaining: 2m 38s\n",
      "250:\ttest: 0.8470287\ttest1: 0.8411968\tbest: 0.8411968 (250)\ttotal: 49.5s\tremaining: 2m 27s\n",
      "300:\ttest: 0.8504311\ttest1: 0.8426858\tbest: 0.8426858 (300)\ttotal: 59.1s\tremaining: 2m 17s\n",
      "350:\ttest: 0.8532440\ttest1: 0.8437292\tbest: 0.8437292 (350)\ttotal: 1m 8s\tremaining: 2m 6s\n",
      "400:\ttest: 0.8557239\ttest1: 0.8445514\tbest: 0.8445514 (400)\ttotal: 1m 17s\tremaining: 1m 56s\n",
      "450:\ttest: 0.8579437\ttest1: 0.8450291\tbest: 0.8450491 (447)\ttotal: 1m 27s\tremaining: 1m 46s\n",
      "500:\ttest: 0.8602421\ttest1: 0.8456937\tbest: 0.8456937 (500)\ttotal: 1m 36s\tremaining: 1m 36s\n",
      "550:\ttest: 0.8622361\ttest1: 0.8460148\tbest: 0.8460276 (545)\ttotal: 1m 45s\tremaining: 1m 26s\n",
      "Stopped by overfitting detector  (10 iterations wait)\n",
      "\n",
      "bestTest = 0.8461907789\n",
      "bestIteration = 567\n",
      "\n",
      "Shrink model to first 568 iterations.\n",
      "********** 4 **********\n",
      "Learning rate set to 0.128212\n",
      "0:\ttest: 0.6998198\ttest1: 0.6857738\tbest: 0.6857738 (0)\ttotal: 187ms\tremaining: 3m 7s\n",
      "50:\ttest: 0.8219039\ttest1: 0.8120561\tbest: 0.8120561 (50)\ttotal: 10.3s\tremaining: 3m 11s\n",
      "100:\ttest: 0.8333318\ttest1: 0.8217152\tbest: 0.8217152 (100)\ttotal: 20.1s\tremaining: 2m 58s\n",
      "150:\ttest: 0.8407413\ttest1: 0.8264026\tbest: 0.8264026 (150)\ttotal: 30.3s\tremaining: 2m 50s\n",
      "200:\ttest: 0.8456727\ttest1: 0.8291123\tbest: 0.8291123 (200)\ttotal: 40.1s\tremaining: 2m 39s\n",
      "250:\ttest: 0.8495258\ttest1: 0.8309028\tbest: 0.8309028 (250)\ttotal: 49.8s\tremaining: 2m 28s\n",
      "300:\ttest: 0.8525055\ttest1: 0.8319867\tbest: 0.8319867 (300)\ttotal: 59.3s\tremaining: 2m 17s\n",
      "350:\ttest: 0.8554162\ttest1: 0.8331383\tbest: 0.8331383 (350)\ttotal: 1m 8s\tremaining: 2m 7s\n",
      "400:\ttest: 0.8579314\ttest1: 0.8339063\tbest: 0.8339268 (397)\ttotal: 1m 18s\tremaining: 1m 57s\n",
      "Stopped by overfitting detector  (10 iterations wait)\n",
      "\n",
      "bestTest = 0.8341906371\n",
      "bestIteration = 422\n",
      "\n",
      "Shrink model to first 423 iterations.\n",
      "*********************\n",
      "roc auc estimado:  0.8422518153472811\n"
     ]
    }
   ],
   "source": [
    "\n",
    "# !pip install catboost\n",
    "from catboost import CatBoostClassifier\n",
    "from sklearn.metrics import roc_auc_score\n",
    "from sklearn.model_selection import KFold\n",
    "\n",
    "folds = [train.index[t] for t, v in KFold(5).split(train)]\n",
    "test_probs = []\n",
    "train_probs = []\n",
    "fi = []\n",
    "for i, idx in enumerate(folds):\n",
    "    print(\"*\"*10, i, \"*\"*10)\n",
    "    Xt = train.loc[idx]\n",
    "    yt = y_train.loc[Xt.index]\n",
    "\n",
    "    Xv = train.drop(Xt.index)\n",
    "    yv = y_train.loc[Xv.index]\n",
    "    \n",
    "    learner = CatBoostClassifier(n_estimators=1000, depth = 6, eval_metric = 'AUC' )\n",
    "    learner.fit(Xt, yt,  early_stopping_rounds=10,\n",
    "                eval_set=[(Xt, yt), (Xv, yv)], verbose=50)\n",
    "    test_probs.append(pd.Series(learner.predict_proba(test)[:, -1], index=test.index, name=\"fold_\" + str(i)))\n",
    "    train_probs.append(pd.Series(learner.predict_proba(Xv)[:, -1], index=Xv.index, name=\"probs\"))\n",
    "    fi.append(pd.Series(learner.feature_importances_ / learner.feature_importances_.sum(), index=Xt.columns))\n",
    "          \n",
    "test_probs = pd.concat(test_probs, axis=1).mean(axis=1)\n",
    "train_probs = pd.concat(train_probs)\n",
    "fi = pd.concat(fi, axis=1).mean(axis=1)\n",
    "\n",
    "print(\"*\" * 21)\n",
    "print(\"roc auc estimado: \", roc_auc_score(y_train, train_probs.loc[y_train.index]))"
   ]
  },
  {
   "cell_type": "code",
   "execution_count": 27,
   "metadata": {},
   "outputs": [
    {
     "data": {
      "text/plain": [
       "cod_instit_financiera_79_ult12meses    6.897137e-07\n",
       "PRODUCTO_37_ult12meses                 2.495657e-07\n",
       "cod_instit_financiera_88_ult1meses     2.163555e-07\n",
       "cod_instit_financiera_70_ult1meses     2.125856e-07\n",
       "cod_instit_financiera_78_ult3meses     9.767097e-08\n",
       "PRODUCTO_34_ult12meses                 4.779898e-08\n",
       "tipo_credito_6_ult6meses               1.117143e-08\n",
       "cod_instit_financiera_100_ult6meses    0.000000e+00\n",
       "cod_instit_financiera_26_ult12meses    0.000000e+00\n",
       "cod_instit_financiera_71_ult1meses     0.000000e+00\n",
       "PRODUCTO_41_ult12meses                 0.000000e+00\n",
       "cod_instit_financiera_85_ult12meses    0.000000e+00\n",
       "cod_instit_financiera_14_ult12meses    0.000000e+00\n",
       "cod_instit_financiera_90_ult12meses    0.000000e+00\n",
       "tipo_credito_6_ult12meses              0.000000e+00\n",
       "cod_instit_financiera_76_ult1meses     0.000000e+00\n",
       "cod_instit_financiera_89_ult6meses     0.000000e+00\n",
       "PRODUCTO_27_ult1meses                  0.000000e+00\n",
       "cod_instit_financiera_105_ult1meses    0.000000e+00\n",
       "PRODUCTO_32_ult12meses                 0.000000e+00\n",
       "cod_instit_financiera_104_ult3meses    0.000000e+00\n",
       "PRODUCTO_32_ult3meses                  0.000000e+00\n",
       "cod_instit_financiera_6_ult3meses      0.000000e+00\n",
       "PRODUCTO_39_ult1meses                  0.000000e+00\n",
       "PRODUCTO_40_ult12meses                 0.000000e+00\n",
       "cod_instit_financiera_106_ult6meses    0.000000e+00\n",
       "cod_instit_financiera_91_ult1meses     0.000000e+00\n",
       "PRODUCTO_38_ult6meses                  0.000000e+00\n",
       "cod_instit_financiera_99_ult12meses    0.000000e+00\n",
       "cod_instit_financiera_94_ult12meses    0.000000e+00\n",
       "cod_instit_financiera_39_ult6meses     0.000000e+00\n",
       "PRODUCTO_35_ult12meses                 0.000000e+00\n",
       "PRODUCTO_39_ult12meses                 0.000000e+00\n",
       "PRODUCTO_33_ult6meses                  0.000000e+00\n",
       "PRODUCTO_36_ult1meses                  0.000000e+00\n",
       "cod_instit_financiera_84_ult1meses     0.000000e+00\n",
       "cod_instit_financiera_9_ult12meses     0.000000e+00\n",
       "cod_instit_financiera_93_ult12meses    0.000000e+00\n",
       "cod_instit_financiera_97_ult12meses    0.000000e+00\n",
       "cod_instit_financiera_88_ult6meses     0.000000e+00\n",
       "PRODUCTO_38_ult1meses                  0.000000e+00\n",
       "cod_instit_financiera_86_ult6meses     0.000000e+00\n",
       "cod_instit_financiera_47_ult1meses     0.000000e+00\n",
       "PRODUCTO_31_ult6meses                  0.000000e+00\n",
       "cod_instit_financiera_108_ult3meses    0.000000e+00\n",
       "cod_instit_financiera_107_ult1meses    0.000000e+00\n",
       "PRODUCTO_36_ult12meses                 0.000000e+00\n",
       "cod_instit_financiera_93_ult1meses     0.000000e+00\n",
       "PRODUCTO_35_ult6meses                  0.000000e+00\n",
       "cod_instit_financiera_64_ult6meses     0.000000e+00\n",
       "dtype: float64"
      ]
     },
     "execution_count": 27,
     "metadata": {},
     "output_type": "execute_result"
    }
   ],
   "source": [
    "fi.sort_values(ascending=False).tail(50)#.plot.bar()"
   ]
  },
  {
   "cell_type": "code",
   "execution_count": 26,
   "metadata": {},
   "outputs": [],
   "source": [
    "test_probs.name = \"target\"\n",
    "test_probs.to_csv(\"../results/test4.csv\")"
   ]
  }
 ],
 "metadata": {
  "kernelspec": {
   "display_name": "Python 3",
   "language": "python",
   "name": "python3"
  },
  "language_info": {
   "codemirror_mode": {
    "name": "ipython",
    "version": 3
   },
   "file_extension": ".py",
   "mimetype": "text/x-python",
   "name": "python",
   "nbconvert_exporter": "python",
   "pygments_lexer": "ipython3",
   "version": "3.7.6"
  }
 },
 "nbformat": 4,
 "nbformat_minor": 4
}
