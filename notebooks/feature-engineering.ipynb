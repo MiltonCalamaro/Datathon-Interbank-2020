{
 "cells": [
  {
   "cell_type": "markdown",
   "metadata": {
    "papermill": {
     "duration": 0.031149,
     "end_time": "2021-02-14T03:32:55.708089",
     "exception": false,
     "start_time": "2021-02-14T03:32:55.676940",
     "status": "completed"
    },
    "tags": []
   },
   "source": [
    "## Importar Librerías Estandar"
   ]
  },
  {
   "cell_type": "code",
   "execution_count": 2,
   "metadata": {
    "execution": {
     "iopub.execute_input": "2021-02-14T03:32:55.775565Z",
     "iopub.status.busy": "2021-02-14T03:32:55.774924Z",
     "iopub.status.idle": "2021-02-14T03:32:55.782178Z",
     "shell.execute_reply": "2021-02-14T03:32:55.782690Z"
    },
    "papermill": {
     "duration": 0.041905,
     "end_time": "2021-02-14T03:32:55.782893",
     "exception": false,
     "start_time": "2021-02-14T03:32:55.740988",
     "status": "completed"
    },
    "tags": []
   },
   "outputs": [],
   "source": [
    "import numpy as np # linear algebra\n",
    "import pandas as pd # data processing, CSV file I/O (e.g. pd.read_csv)\n",
    "import pandas as pd\n",
    "import numpy as np\n",
    "import statistics as stat\n",
    "import gc"
   ]
  },
  {
   "cell_type": "markdown",
   "metadata": {
    "papermill": {
     "duration": 0.031826,
     "end_time": "2021-02-14T03:32:55.846656",
     "exception": false,
     "start_time": "2021-02-14T03:32:55.814830",
     "status": "completed"
    },
    "tags": []
   },
   "source": [
    "## Declarar Funciones"
   ]
  },
  {
   "cell_type": "code",
   "execution_count": 3,
   "metadata": {
    "execution": {
     "iopub.execute_input": "2021-02-14T03:32:55.913418Z",
     "iopub.status.busy": "2021-02-14T03:32:55.912769Z",
     "iopub.status.idle": "2021-02-14T03:32:55.919691Z",
     "shell.execute_reply": "2021-02-14T03:32:55.920164Z"
    },
    "papermill": {
     "duration": 0.041966,
     "end_time": "2021-02-14T03:32:55.920369",
     "exception": false,
     "start_time": "2021-02-14T03:32:55.878403",
     "status": "completed"
    },
    "tags": []
   },
   "outputs": [],
   "source": [
    "def get_rcc():\n",
    "    rcc_train = pd.read_csv(f'{path}/rcc_train.csv')\n",
    "    rcc_test = pd.read_csv(f'{path}/rcc_test.csv')\n",
    "    ##### inputar datos faltantes en la base de rcc_test\n",
    "    rcc_test['cod_instit_financiera'].fillna(rcc_test['cod_instit_financiera'].value_counts().index[0], inplace=True)\n",
    "    rcc_test['PRODUCTO'].fillna(rcc_test['PRODUCTO'].value_counts().index[0], inplace=True)\n",
    "\n",
    "    dict_ = {'codmes': 'int32',\n",
    "     'key_value': 'int32',\n",
    "     'condicion': 'int32',\n",
    "     'tipo_credito': 'int32',\n",
    "     'cod_instit_financiera': 'int32',\n",
    "     'PRODUCTO': 'int32',\n",
    "     'RIESGO_DIRECTO': 'int32',\n",
    "     'COD_CLASIFICACION_DEUDOR': 'int32'}\n",
    "    rcc_train = rcc_train.astype(dict_)\n",
    "    rcc_test = rcc_test.astype(dict_)\n",
    "    return rcc_train, rcc_test"
   ]
  },
  {
   "cell_type": "code",
   "execution_count": 4,
   "metadata": {
    "execution": {
     "iopub.execute_input": "2021-02-14T03:32:55.989381Z",
     "iopub.status.busy": "2021-02-14T03:32:55.988586Z",
     "iopub.status.idle": "2021-02-14T03:32:55.995535Z",
     "shell.execute_reply": "2021-02-14T03:32:55.996041Z"
    },
    "papermill": {
     "duration": 0.043434,
     "end_time": "2021-02-14T03:32:55.996252",
     "exception": false,
     "start_time": "2021-02-14T03:32:55.952818",
     "status": "completed"
    },
    "tags": []
   },
   "outputs": [],
   "source": [
    "def get_rcc_list(df, desde, n):\n",
    "    rcc_list=[]\n",
    "    for feature in ['cod_instit_financiera','PRODUCTO']:\n",
    "        rcc_list.append(get_unstack(df, feature, desde, n, 'Sum'))\n",
    "        rcc_list.append(get_unstack(df, feature, desde, n, 'Unique'))\n",
    "        rcc_list.append(get_unstack(df, feature, desde, n, 'Min'))\n",
    "        rcc_list.append(get_unstack(df, feature, desde, n, 'Max'))\n",
    "        rcc_list.append(get_unstack(df, feature, desde, n, 'Std'))\n",
    "        rcc_list.append(get_unstack(df, feature, desde, n, 'Mean'))\n",
    "        rcc_list.append(get_unstack(df, feature, desde, n, 'Median'))\n",
    "    return rcc_list"
   ]
  },
  {
   "cell_type": "code",
   "execution_count": 5,
   "metadata": {
    "execution": {
     "iopub.execute_input": "2021-02-14T03:32:56.064835Z",
     "iopub.status.busy": "2021-02-14T03:32:56.064134Z",
     "iopub.status.idle": "2021-02-14T03:32:56.068711Z",
     "shell.execute_reply": "2021-02-14T03:32:56.068184Z"
    },
    "papermill": {
     "duration": 0.040079,
     "end_time": "2021-02-14T03:32:56.068859",
     "exception": false,
     "start_time": "2021-02-14T03:32:56.028780",
     "status": "completed"
    },
    "tags": []
   },
   "outputs": [],
   "source": [
    "def calculate_mode(x):\n",
    "    try:\n",
    "        moda=stat.mode(x)\n",
    "    except:\n",
    "        moda=np.nan\n",
    "    return moda"
   ]
  },
  {
   "cell_type": "code",
   "execution_count": 6,
   "metadata": {
    "execution": {
     "iopub.execute_input": "2021-02-14T03:32:56.137538Z",
     "iopub.status.busy": "2021-02-14T03:32:56.136776Z",
     "iopub.status.idle": "2021-02-14T03:32:56.141420Z",
     "shell.execute_reply": "2021-02-14T03:32:56.141888Z"
    },
    "papermill": {
     "duration": 0.040517,
     "end_time": "2021-02-14T03:32:56.142065",
     "exception": false,
     "start_time": "2021-02-14T03:32:56.101548",
     "status": "completed"
    },
    "tags": []
   },
   "outputs": [],
   "source": [
    "def get_keep_columns(train, test):\n",
    "    print(train.shape, test.shape)\n",
    "    keep_columns = list(set(train.columns).intersection(test.columns))\n",
    "    train = train[keep_columns]\n",
    "    test = test[keep_columns]\n",
    "    print(train.shape, test.shape)\n",
    "    return  train, test"
   ]
  },
  {
   "cell_type": "code",
   "execution_count": 7,
   "metadata": {
    "execution": {
     "iopub.execute_input": "2021-02-14T03:32:56.210405Z",
     "iopub.status.busy": "2021-02-14T03:32:56.209768Z",
     "iopub.status.idle": "2021-02-14T03:32:57.264956Z",
     "shell.execute_reply": "2021-02-14T03:32:57.265485Z"
    },
    "papermill": {
     "duration": 1.090752,
     "end_time": "2021-02-14T03:32:57.265689",
     "exception": false,
     "start_time": "2021-02-14T03:32:56.174937",
     "status": "completed"
    },
    "tags": []
   },
   "outputs": [
    {
     "data": {
      "text/html": [
       "<style type='text/css'>\n",
       ".datatable table.frame { margin-bottom: 0; }\n",
       ".datatable table.frame thead { border-bottom: none; }\n",
       ".datatable table.frame tr.coltypes td {  color: #FFFFFF;  line-height: 6px;  padding: 0 0.5em;}\n",
       ".datatable .bool    { background: #DDDD99; }\n",
       ".datatable .object  { background: #565656; }\n",
       ".datatable .int     { background: #5D9E5D; }\n",
       ".datatable .float   { background: #4040CC; }\n",
       ".datatable .str     { background: #CC4040; }\n",
       ".datatable .row_index {  background: var(--jp-border-color3);  border-right: 1px solid var(--jp-border-color0);  color: var(--jp-ui-font-color3);  font-size: 9px;}\n",
       ".datatable .frame tr.coltypes .row_index {  background: var(--jp-border-color0);}\n",
       ".datatable th:nth-child(2) { padding-left: 12px; }\n",
       ".datatable .hellipsis {  color: var(--jp-cell-editor-border-color);}\n",
       ".datatable .vellipsis {  background: var(--jp-layout-color0);  color: var(--jp-cell-editor-border-color);}\n",
       ".datatable .na {  color: var(--jp-cell-editor-border-color);  font-size: 80%;}\n",
       ".datatable .footer { font-size: 9px; }\n",
       ".datatable .frame_dimensions {  background: var(--jp-border-color3);  border-top: 1px solid var(--jp-border-color0);  color: var(--jp-ui-font-color3);  display: inline-block;  opacity: 0.6;  padding: 1px 10px 1px 5px;}\n",
       "</style>\n"
      ],
      "text/plain": [
       "<IPython.core.display.HTML object>"
      ]
     },
     "metadata": {},
     "output_type": "display_data"
    }
   ],
   "source": [
    "from lightgbm import LGBMClassifier\n",
    "from sklearn.metrics import roc_auc_score\n",
    "from sklearn.model_selection import KFold\n",
    "\n",
    "def cross_validation_lightgbm(train, y_train, test):\n",
    "    folds = [train.index[t] for t, v in KFold(5).split(train)]\n",
    "    test_probs = []\n",
    "    train_probs = []\n",
    "    fi = []\n",
    "    for i, idx in enumerate(folds):\n",
    "        print(\"*\"*10, i, \"*\"*10)\n",
    "        Xt = train.loc[idx]\n",
    "        yt = y_train.loc[Xt.index].target\n",
    "\n",
    "        Xv = train.drop(Xt.index)\n",
    "        yv = y_train.loc[Xv.index].target\n",
    "\n",
    "        learner = LGBMClassifier(n_estimators=1000, boosting_type='gbdt',min_child_samples=1500, \n",
    "                       colsample_bytree=0.8,subsample=0.8, max_bin=200, learning_rate=0.1, random_state=42)\n",
    "        learner.fit(Xt, yt,  early_stopping_rounds=10, eval_metric=\"auc\",\n",
    "                    eval_set=[(Xt, yt), (Xv, yv)], verbose=50)\n",
    "        test_probs.append(pd.Series(learner.predict_proba(test)[:, -1], index=test.index, name=\"fold_\" + str(i)))\n",
    "        train_probs.append(pd.Series(learner.predict_proba(Xv)[:, -1], index=Xv.index, name=\"probs\"))\n",
    "        fi.append(pd.Series(learner.feature_importances_ / learner.feature_importances_.sum(), index=Xt.columns))\n",
    "        gc.collect()\n",
    "        \n",
    "    test_probs = pd.concat(test_probs, axis=1).mean(axis=1)\n",
    "    train_probs = pd.concat(train_probs)\n",
    "    fi = pd.concat(fi, axis=1).mean(axis=1)\n",
    "    print(\"*\" * 21)\n",
    "    print(\"roc auc estimado: \", roc_auc_score(y_train, train_probs.loc[y_train.index]))\n",
    "    print(\"roc auc varianza: \", np.std([roc_auc_score(y_train.loc[folds[i]], train_probs.iloc[folds[i]]) for i in range(len(folds))])) \n",
    "    return test_probs, fi"
   ]
  },
  {
   "cell_type": "code",
   "execution_count": 8,
   "metadata": {
    "execution": {
     "iopub.execute_input": "2021-02-14T03:32:57.335536Z",
     "iopub.status.busy": "2021-02-14T03:32:57.334779Z",
     "iopub.status.idle": "2021-02-14T03:32:57.340606Z",
     "shell.execute_reply": "2021-02-14T03:32:57.341100Z"
    },
    "papermill": {
     "duration": 0.042117,
     "end_time": "2021-02-14T03:32:57.341263",
     "exception": false,
     "start_time": "2021-02-14T03:32:57.299146",
     "status": "completed"
    },
    "tags": []
   },
   "outputs": [],
   "source": [
    "def get_feature_selection(fi):\n",
    "    zero_importance = fi[fi==0]\n",
    "    aux = fi[fi>0].sort_values(ascending=False)\n",
    "    keep_columns = []\n",
    "    count = 0\n",
    "    for feature,values in zip(aux.index, aux.values):\n",
    "        count+=values\n",
    "        if count<=0.99:\n",
    "            keep_columns.append(feature)\n",
    "            \n",
    "    print(f'total de variables : {len(fi)}')\n",
    "    print(f'variables con importancia acumulada al 99% : {len(keep_columns)}')\n",
    "    print(f'variables con zero importancia : {len(zero_importance)}')\n",
    "    return keep_columns, zero_importance"
   ]
  },
  {
   "cell_type": "code",
   "execution_count": 9,
   "metadata": {
    "execution": {
     "iopub.execute_input": "2021-02-14T03:32:57.412669Z",
     "iopub.status.busy": "2021-02-14T03:32:57.412023Z",
     "iopub.status.idle": "2021-02-14T03:32:57.414936Z",
     "shell.execute_reply": "2021-02-14T03:32:57.414331Z"
    },
    "papermill": {
     "duration": 0.041011,
     "end_time": "2021-02-14T03:32:57.415078",
     "exception": false,
     "start_time": "2021-02-14T03:32:57.374067",
     "status": "completed"
    },
    "tags": []
   },
   "outputs": [],
   "source": [
    "def get_one_hot(df, feature):\n",
    "    one_hot = pd.get_dummies(df[feature])\n",
    "    one_hot.columns = [feature+'_'+str(i) for i in one_hot.columns]\n",
    "    return one_hot"
   ]
  },
  {
   "cell_type": "code",
   "execution_count": 10,
   "metadata": {
    "execution": {
     "iopub.execute_input": "2021-02-14T03:32:57.490104Z",
     "iopub.status.busy": "2021-02-14T03:32:57.489461Z",
     "iopub.status.idle": "2021-02-14T03:32:57.492511Z",
     "shell.execute_reply": "2021-02-14T03:32:57.491966Z"
    },
    "papermill": {
     "duration": 0.043398,
     "end_time": "2021-02-14T03:32:57.492660",
     "exception": false,
     "start_time": "2021-02-14T03:32:57.449262",
     "status": "completed"
    },
    "tags": []
   },
   "outputs": [],
   "source": [
    "def get_crosstab(df, index, feature):\n",
    "    df = pd.crosstab(df[index], df[feature])\n",
    "    df.columns = [f'{df.columns.name}_{i}' for i in df.columns]\n",
    "    return df"
   ]
  },
  {
   "cell_type": "code",
   "execution_count": 11,
   "metadata": {
    "execution": {
     "iopub.execute_input": "2021-02-14T03:32:57.562616Z",
     "iopub.status.busy": "2021-02-14T03:32:57.561917Z",
     "iopub.status.idle": "2021-02-14T03:32:57.569203Z",
     "shell.execute_reply": "2021-02-14T03:32:57.569697Z"
    },
    "papermill": {
     "duration": 0.043836,
     "end_time": "2021-02-14T03:32:57.569872",
     "exception": false,
     "start_time": "2021-02-14T03:32:57.526036",
     "status": "completed"
    },
    "tags": []
   },
   "outputs": [],
   "source": [
    "def optimize_dtypes(train, test):\n",
    "    var_int = list(train.dtypes[(train.dtypes=='int64') | (train.dtypes=='int32')].index)\n",
    "    var_float = list(train.dtypes[(train.dtypes=='float64') | (train.dtypes=='float32')].index)\n",
    "    if var_int:\n",
    "        train[var_int] = train[var_int].astype('int8')\n",
    "        test[var_int] = test[var_int].astype('int8')\n",
    "    if var_float:\n",
    "        train[var_float] = train[var_float].astype('float16')\n",
    "        test[var_float] = test[var_float].astype('float16')\n",
    "    return train, test"
   ]
  },
  {
   "cell_type": "code",
   "execution_count": 12,
   "metadata": {
    "execution": {
     "iopub.execute_input": "2021-02-14T03:32:57.771954Z",
     "iopub.status.busy": "2021-02-14T03:32:57.648138Z",
     "iopub.status.idle": "2021-02-14T03:32:57.814249Z",
     "shell.execute_reply": "2021-02-14T03:32:57.813717Z"
    },
    "papermill": {
     "duration": 0.209767,
     "end_time": "2021-02-14T03:32:57.814417",
     "exception": false,
     "start_time": "2021-02-14T03:32:57.604650",
     "status": "completed"
    },
    "tags": []
   },
   "outputs": [],
   "source": [
    "keep_columns_final = ['edad', 'ubigeo_mode', 'sexo_0', 'PRODUCTO_1_saldoMean_ult1meses', 'PRODUCTO_1_saldoMax_ult1meses', 'PRODUCTO_3_saldoUnique_ult12meses', 'estadocontribuyente_0', 'PRODUCTO_1_saldoSum_ult1meses', 'RIESGO_DIRECTO_1_saldoStd_ult1meses', 'COD_CLASIFICACION_DEUDOR_0_saldoUnique_ult12meses', 'PRODUCTO_8_saldoUnique_ult12meses', 'RIESGO_DIRECTO_1_saldoSum_ult1meses', 'cod_instit_financiera_34_saldoUnique_ult12meses', 'PRODUCTO_0_saldoMin_ult12meses', 'ciiu_mode', 'PRODUCTO_6_saldoSum_ult12meses', 'PRODUCTO_4_saldoStd_ult12meses', 'RIESGO_DIRECTO_1_saldoUnique_ult12meses', 'PRODUCTO_1_saldoMedian_ult1meses', 'RIESGO_DIRECTO_1_saldoMax_ult12meses', 'condicion_0_saldoUnique_ult12meses', 'PRODUCTO_8_saldoSum_ult12meses', 'PRODUCTO_1_saldoMedian_ult2meses', 'PRODUCTO_1_saldoMax_ult3meses', 'PRODUCTO_0_saldoStd_ult1meses', 'PRODUCTO_1_saldoMedian_ult3meses', 'RIESGO_DIRECTO_-1_saldoMedian_ult1meses', 'RIESGO_DIRECTO_1_saldoMin_ult1meses', 'PRODUCTO_0_saldoStd_ult12meses', 'PRODUCTO_8_saldoMedian_ult12meses', 'PRODUCTO_0_saldoMax_ult1meses', 'ctd_veh', 'PRODUCTO_3_saldoMean_ult1meses', 'PRODUCTO_1_saldoSum_ult2meses', 'fecalta_mean', 'PRODUCTO_12_saldoMin_ult1meses', 'RIESGO_DIRECTO_-1_saldoMedian_ult2meses', 'PRODUCTO_1_saldoStd_ult2meses', 'PRODUCTO_6_saldoMax_ult1meses', 'PRODUCTO_2_saldoUnique_ult12meses', 'fecalta_min', 'PRODUCTO_8_saldoMin_ult12meses', 'cod_instit_financiera_10_saldoStd_ult1meses', 'PRODUCTO_1_saldoStd_ult1meses', 'PRODUCTO_6_saldoMin_ult12meses', 'PRODUCTO_1_saldoSum_ult12meses', 'PRODUCTO_1_saldoMin_ult1meses', 'PRODUCTO_0_saldoMin_ult1meses', 'RIESGO_DIRECTO_1_saldoStd_ult12meses', 'RIESGO_DIRECTO_-1_saldoUnique_ult12meses', 'cod_instit_financiera_max_ult1mes', 'PRODUCTO_3_saldoMedian_ult1meses', 'PRODUCTO_1_saldoMean_ult3meses', 'rgn_4', 'cod_instit_financiera_28_saldoMax_ult12meses', 'RIESGO_DIRECTO_1_saldoMedian_ult1meses', 'PRODUCTO_1_saldoStd_ult3meses', 'PRODUCTO_7_saldoMax_ult12meses', 'PRODUCTO_3_saldoMin_ult1meses', 'PRODUCTO_1_saldoMax_ult2meses', 'PRODUCTO_1_saldoSum_ult3meses', 'PRODUCTO_1_saldoMean_ult2meses', 'RIESGO_DIRECTO_1_saldoMedian_ult12meses', 'PRODUCTO_4_saldoStd_ult1meses', 'PRODUCTO_6_saldoMean_ult12meses', 'PRODUCTO_6_saldoMedian_ult12meses', 'PRODUCTO_7_saldoMin_ult12meses', 'PRODUCTO_8_saldoMax_ult12meses', 'estadocontribuyente_3', 'tipo_credito_12_saldoUnique_ult12meses', 'RIESGO_DIRECTO_1_saldoStd_ult2meses', 'rgn_3', 'PRODUCTO_12_saldoMax_ult1meses', 'PRODUCTO_3_saldoMedian_ult12meses', 'PRODUCTO_11_saldoMax_ult1meses', 'PRODUCTO_3_saldoMin_ult12meses', 'RIESGO_DIRECTO_1_saldoUnique_ult1meses', 'estadotributo_mode', 'PRODUCTO_6_saldoStd_ult12meses', 'PRODUCTO_6_saldoStd_ult1meses', 'PRODUCTO_0_saldoStd_ult2meses', 'PRODUCTO_1_saldoStd_ult12meses', 'cod_instit_financiera_55_saldoSum_ult12meses', 'PRODUCTO_3_saldoMax_ult1meses', 'cod_instit_financiera_33_saldoStd_ult12meses', 'cod_instit_financiera_10_saldoMin_ult1meses', 'cod_instit_financiera_61_saldoSum_ult12meses', 'cod_instit_financiera_32_saldoStd_ult1meses', 'PRODUCTO_4_saldoSum_ult1meses', 'PRODUCTO_3_saldoMedian_ult3meses', 'cod_instit_financiera_34_saldoSum_ult12meses', 'PRODUCTO_3_saldoMedian_ult2meses', 'PRODUCTO_15_saldoMin_ult12meses', 'PRODUCTO_15_saldoStd_ult12meses', 'PRODUCTO_7_saldoMean_ult12meses', 'PRODUCTO_11_saldoMin_ult12meses', 'cod_instit_financiera_mode_ult1mes', 'cod_instit_financiera_37_saldoMin_ult1meses', 'PRODUCTO_13_saldoMax_ult1meses', 'PRODUCTO_6_saldoMax_ult12meses', 'PRODUCTO_1_saldoMedian_ult12meses', 'cod_instit_financiera_32_saldoSum_ult12meses', 'RIESGO_DIRECTO_1_saldoMedian_ult2meses', 'cod_instit_financiera_8_saldoUnique_ult12meses', 'cod_instit_financiera_32_saldoUnique_ult12meses', 'PRODUCTO_2_saldoSum_ult12meses', 'PRODUCTO_15_saldoStd_ult2meses', 'PRODUCTO_3_saldoMin_ult2meses', 'cod_instit_financiera_61_saldoStd_ult1meses', 'PRODUCTO_3_saldoSum_ult1meses', 'PRODUCTO_11_saldoStd_ult1meses', 'RIESGO_DIRECTO_1_saldoMean_ult1meses', 'cod_instit_financiera_46_saldoUnique_ult12meses', 'rgn_2', 'cod_instit_financiera_15_saldoUnique_ult12meses', 'cod_instit_financiera_1_saldoUnique_ult12meses', 'cod_instit_financiera_10_saldoMedian_ult1meses', 'PRODUCTO_4_saldoStd_ult2meses', 'cod_instit_financiera_10_saldoStd_ult12meses', 'RIESGO_DIRECTO_1_saldoMin_ult12meses', 'fecalta_max', 'condicion_0_saldoMedian_ult1meses', 'est_cvl_0', 'rgn_6', 'PRODUCTO_6_saldoMean_ult1meses', 'PRODUCTO_6_saldoMean_ult3meses', 'codzona_mode', 'PRODUCTO_4_saldoMedian_ult12meses', 'PRODUCTO_4_saldoMax_ult12meses', 'PRODUCTO_0_saldoSum_ult1meses', 'RIESGO_DIRECTO_1_saldoMin_ult2meses', 'COD_CLASIFICACION_DEUDOR_0_saldoMedian_ult1meses', 'cod_instit_financiera_33_saldoSum_ult12meses', 'RIESGO_DIRECTO_-1_saldoSum_ult12meses', 'cod_instit_financiera_10_saldoUnique_ult12meses', 'codvia_mode', 'PRODUCTO_7_saldoUnique_ult12meses', 'PRODUCTO_0_saldoMedian_ult2meses', 'tipo_credito_11_saldoStd_ult1meses', 'PRODUCTO_11_saldoUnique_ult12meses', 'PRODUCTO_6_saldoMedian_ult3meses', 'cod_instit_financiera_min_ult1mes', 'PRODUCTO_3_saldoSum_ult12meses', 'PRODUCTO_8_saldoMean_ult12meses', 'cod_instit_financiera_10_saldoStd_ult2meses', 'RIESGO_DIRECTO_-1_saldoSum_ult1meses', 'PRODUCTO_0_saldoMean_ult1meses', 'PRODUCTO_6_saldoSum_ult1meses', 'PRODUCTO_13_saldoStd_ult12meses', 'PRODUCTO_6_saldoSum_ult2meses', 'PRODUCTO_6_saldoMean_ult2meses', 'RIESGO_DIRECTO_1_saldoMedian_ult4meses', 'PRODUCTO_3_saldoSum_ult3meses', 'tipo_credito_11_saldoMedian_ult12meses', 'RIESGO_DIRECTO_1_saldoMedian_ult11meses', 'PRODUCTO_11_saldoStd_ult3meses', 'cod_instit_financiera_37_saldoUnique_ult12meses', 'PRODUCTO_7_saldoMedian_ult12meses', 'PRODUCTO_9_saldoMax_ult12meses', 'RIESGO_DIRECTO_1_saldoMax_ult1meses', 'cod_instit_financiera_max_ult12mes', 'cod_instit_financiera_11_saldoUnique_ult12meses', 'PRODUCTO_1_saldoMax_ult12meses', 'PRODUCTO_1_saldoUnique_ult12meses', 'RIESGO_DIRECTO_1_saldoMean_ult12meses', 'cod_instit_financiera_13_saldoUnique_ult12meses', 'PRODUCTO_1_saldoMean_ult12meses', 'PRODUCTO_4_saldoMin_ult12meses', 'PRODUCTO_11_saldoStd_ult12meses', 'RIESGO_DIRECTO_1_saldoMedian_ult3meses', 'PRODUCTO_2_saldoStd_ult2meses', 'tipo_credito_11_saldoMedian_ult1meses', 'PRODUCTO_8_saldoMax_ult1meses', 'PRODUCTO_15_saldoSum_ult12meses', 'PRODUCTO_1_saldoMin_ult2meses', 'PRODUCTO_11_saldoStd_ult2meses', 'COD_CLASIFICACION_DEUDOR_0_saldoMin_ult1meses', 'cod_instit_financiera_46_saldoStd_ult1meses', 'PRODUCTO_8_saldoMedian_ult1meses', 'cod_instit_financiera_13_saldoMedian_ult12meses', 'PRODUCTO_20_saldoStd_ult3meses', 'PRODUCTO_3_saldoMean_ult2meses', 'RIESGO_DIRECTO_1_saldoMin_ult10meses', 'sexo_1', 'RIESGO_DIRECTO_1_saldoMin_ult11meses', 'PRODUCTO_4_saldoStd_ult3meses', 'PRODUCTO_8_saldoMin_ult2meses', 'cod_instit_financiera_32_saldoMin_ult12meses', 'tipo_credito_12_saldoMin_ult1meses', 'cod_instit_financiera_37_saldoMin_ult2meses', 'PRODUCTO_8_saldoSum_ult3meses', 'PRODUCTO_1_saldoUnique_ult1meses', 'RIESGO_DIRECTO_-1_saldoMedian_ult3meses', 'COD_CLASIFICACION_DEUDOR_4_saldoMin_ult1meses', 'tipo_credito_12_saldoSum_ult12meses', 'PRODUCTO_1_saldoMin_ult3meses', 'cod_instit_financiera_55_saldoMax_ult12meses', 'cod_instit_financiera_1_saldoMin_ult1meses', 'tipo_credito_10_saldoUnique_ult2meses', 'tipo_credito_12_saldoMedian_ult3meses', 'PRODUCTO_9_saldoUnique_ult12meses', 'PRODUCTO_8_saldoMin_ult3meses', 'PRODUCTO_0_saldoSum_ult12meses', 'tipo_credito_12_saldoMedian_ult12meses', 'COD_CLASIFICACION_DEUDOR_1_saldoUnique_ult12meses', 'condicion_0_saldoSum_ult12meses', 'condicion_1_saldoStd_ult7meses', 'COD_CLASIFICACION_DEUDOR_0_saldoSum_ult12meses', 'PRODUCTO_0_saldoMedian_ult12meses', 'PRODUCTO_0_saldoSum_ult3meses', 'tipo_credito_12_saldoSum_ult1meses', 'RIESGO_DIRECTO_1_saldoMin_ult3meses', 'PRODUCTO_11_saldoMedian_ult12meses', 'PRODUCTO_3_saldoSum_ult2meses', 'tipo_credito_12_saldoMin_ult12meses', 'PRODUCTO_3_saldoStd_ult1meses', 'PRODUCTO_4_saldoMean_ult12meses', 'condiciondomicilio_mode', 'PRODUCTO_8_saldoStd_ult3meses', 'cod_instit_financiera_34_saldoMin_ult12meses', 'RIESGO_DIRECTO_2_saldoSum_ult2meses', 'RIESGO_DIRECTO_1_saldoMax_ult11meses', 'PRODUCTO_0_saldoStd_ult3meses', 'PRODUCTO_0_saldoMedian_ult3meses', 'PRODUCTO_4_saldoMin_ult2meses', 'PRODUCTO_6_saldoStd_ult2meses', 'cod_instit_financiera_37_saldoMedian_ult1meses', 'PRODUCTO_0_saldoMin_ult2meses', 'tipo_credito_11_saldoUnique_ult12meses', 'tipo_credito_12_saldoMedian_ult1meses', 'PRODUCTO_3_saldoMean_ult12meses', 'RIESGO_DIRECTO_3_saldoMin_ult10meses', 'PRODUCTO_6_saldoMin_ult2meses', 'tipo_credito_12_saldoMedian_ult4meses', 'PRODUCTO_12_saldoUnique_ult3meses', 'COD_CLASIFICACION_DEUDOR_0_saldoSum_ult1meses', 'RIESGO_DIRECTO_1_saldoSum_ult2meses', 'PRODUCTO_4_saldoMin_ult1meses', 'tipo_credito_10_saldoSum_ult2meses', 'PRODUCTO_11_saldoSum_ult12meses', 'tipo_credito_11_saldoSum_ult1meses', 'codentidadtributo_mode', 'cod_instit_financiera_28_saldoMedian_ult12meses', 'RIESGO_DIRECTO_-1_saldoSum_ult2meses', 'tipo_credito_12_saldoMean_ult11meses', 'PRODUCTO_2_saldoMin_ult1meses', 'cod_instit_financiera_55_saldoMedian_ult12meses', 'cod_instit_financiera_32_saldoUnique_ult1meses', 'cod_instit_financiera_28_saldoStd_ult12meses', 'PRODUCTO_6_saldoMedian_ult1meses', 'PRODUCTO_2_saldoStd_ult12meses', 'PRODUCTO_6_saldoUnique_ult12meses', 'PRODUCTO_6_saldoMax_ult2meses', 'fecalta_std', 'COD_CLASIFICACION_DEUDOR_0_saldoMax_ult1meses', 'PRODUCTO_4_saldoUnique_ult1meses', 'tipo_credito_12_saldoMin_ult11meses', 'PRODUCTO_1_saldoMin_ult12meses', 'cod_instit_financiera_61_saldoUnique_ult12meses', 'condicion_1_saldoMax_ult3meses', 'RIESGO_DIRECTO_1_saldoMin_ult6meses', 'PRODUCTO_15_saldoMin_ult2meses', 'PRODUCTO_3_saldoStd_ult12meses', 'cod_instit_financiera_28_saldoMedian_ult2meses', 'cod_instit_financiera_28_saldoMean_ult12meses', 'tipo_credito_10_saldoSum_ult12meses', 'PRODUCTO_0_saldoMean_ult12meses', 'PRODUCTO_3_saldoStd_ult3meses', 'RIESGO_DIRECTO_-1_saldoMedian_ult12meses', 'cod_instit_financiera_55_saldoMedian_ult2meses', 'PRODUCTO_0_saldoMedian_ult1meses', 'cod_instit_financiera_46_saldoMedian_ult12meses',\n",
    " 'PRODUCTO_8_saldoMin_ult1meses', 'PRODUCTO_6_saldoMin_ult1meses', 'cod_instit_financiera_1_saldoUnique_ult1meses', 'cod_instit_financiera_33_saldoUnique_ult12meses', 'cod_instit_financiera_10_saldoMean_ult12meses', 'condicion_0_saldoMean_ult12meses', 'PRODUCTO_15_saldoUnique_ult12meses', 'PRODUCTO_6_saldoSum_ult3meses', 'tipo_credito_12_saldoMean_ult1meses', 'condicion_8_saldoMedian_ult12meses', 'PRODUCTO_0_saldoMax_ult12meses', 'cod_instit_financiera_13_saldoStd_ult1meses', 'cod_instit_financiera_34_saldoMin_ult1meses', 'PRODUCTO_5_saldoSum_ult12meses', 'condicion_1_saldoStd_ult12meses', 'RIESGO_DIRECTO_1_saldoStd_ult3meses', 'cod_instit_financiera_34_saldoUnique_ult1meses', 'tipo_credito_10_saldoMin_ult12meses', 'cod_instit_financiera_55_saldoStd_ult12meses', 'PRODUCTO_4_saldoSum_ult12meses', 'tipo_credito_12_saldoMedian_ult2meses', 'RIESGO_DIRECTO_-1_saldoMean_ult1meses', 'PRODUCTO_2_saldoMin_ult12meses', 'tipo_credito_11_saldoMin_ult1meses', 'COD_CLASIFICACION_DEUDOR_5_saldoMin_ult1meses', 'PRODUCTO_5_saldoUnique_ult12meses', 'cod_instit_financiera_45_saldoStd_ult12meses', 'condicion_1_saldoMax_ult8meses', 'cod_instit_financiera_mode_ult4mes', 'condicion_1_saldoMin_ult12meses', 'tipo_credito_12_saldoMax_ult1meses', 'cod_instit_financiera_28_saldoStd_ult1meses', 'tipo_credito_12_saldoMin_ult3meses', 'PRODUCTO_11_saldoMin_ult1meses', 'tipo_credito_12_saldoSum_ult3meses', 'RIESGO_DIRECTO_1_saldoStd_ult5meses', 'RIESGO_DIRECTO_1_saldoSum_ult12meses', 'condicion_1_saldoMax_ult2meses', 'PRODUCTO_0_saldoSum_ult2meses', 'PRODUCTO_15_saldoMedian_ult12meses', 'cod_instit_financiera_1_saldoMean_ult12meses', 'PRODUCTO_11_saldoMedian_ult1meses', 'cod_instit_financiera_19_saldoUnique_ult12meses', 'PRODUCTO_0_saldoUnique_ult2meses', 'PRODUCTO_6_saldoMin_ult3meses', 'PRODUCTO_1_saldoUnique_ult2meses', 'cod_instit_financiera_mode_ult2mes', 'RIESGO_DIRECTO_1_saldoMin_ult4meses', 'condicion_2_saldoMin_ult12meses', 'PRODUCTO_11_saldoSum_ult3meses', 'cod_instit_financiera_10_saldoSum_ult1meses', 'PRODUCTO_3_saldoMean_ult3meses', 'PRODUCTO_8_saldoStd_ult12meses', 'COD_CLASIFICACION_DEUDOR_0_saldoUnique_ult11meses', 'RIESGO_DIRECTO_1_saldoStd_ult11meses', 'PRODUCTO_3_saldoMin_ult3meses', 'cod_instit_financiera_20_saldoMax_ult12meses', 'COD_CLASIFICACION_DEUDOR_0_saldoMedian_ult2meses', 'condicion_1_saldoMax_ult12meses', 'cod_instit_financiera_0_saldoMin_ult1meses', 'condicion_5_saldoMin_ult12meses', 'PRODUCTO_9_saldoSum_ult2meses', 'PRODUCTO_9_saldoStd_ult12meses', 'cod_instit_financiera_61_saldoStd_ult3meses', 'cod_instit_financiera_33_saldoStd_ult1meses', 'cod_instit_financiera_37_saldoSum_ult1meses', 'cod_instit_financiera_15_saldoMax_ult12meses', 'condicion_1_saldoStd_ult9meses', 'contabilidad_mode', 'cod_instit_financiera_33_saldoMin_ult12meses', 'tipo_credito_11_saldoMean_ult1meses', 'cod_instit_financiera_21_saldoStd_ult12meses', 'cod_instit_financiera_32_saldoSum_ult1meses', 'tipo_credito_12_saldoSum_ult8meses', 'condicion_0_saldoStd_ult12meses', 'COD_CLASIFICACION_DEUDOR_0_saldoSum_ult2meses', 'cod_instit_financiera_10_saldoMedian_ult12meses', 'RIESGO_DIRECTO_-1_saldoMedian_ult4meses', 'PRODUCTO_3_saldoMax_ult12meses', 'cod_instit_financiera_33_saldoMax_ult12meses', 'PRODUCTO_10_saldoUnique_ult12meses', 'tipo_credito_10_saldoMedian_ult1meses', 'cod_instit_financiera_37_saldoSum_ult2meses', 'cod_instit_financiera_mode_ult12mes', 'tipo_credito_12_saldoUnique_ult11meses', 'condicion_2_saldoMin_ult8meses', 'tipo_credito_12_saldoMin_ult2meses', 'PRODUCTO_15_saldoMax_ult12meses', 'cod_instit_financiera_min_ult2mes', 'cod_instit_financiera_2_saldoMedian_ult1meses', 'PRODUCTO_13_saldoStd_ult2meses', 'cod_instit_financiera_33_saldoSum_ult1meses', 'RIESGO_DIRECTO_-1_saldoMedian_ult5meses', 'cod_instit_financiera_max_ult2mes', 'cod_instit_financiera_46_saldoMin_ult12meses', 'tipo_credito_12_saldoMean_ult10meses', 'RIESGO_DIRECTO_1_saldoMin_ult5meses', 'cod_instit_financiera_10_saldoStd_ult3meses', 'tipo_credito_12_saldoMedian_ult8meses', 'RIESGO_DIRECTO_1_saldoMin_ult9meses', 'PRODUCTO_0_saldoMin_ult3meses', 'RIESGO_DIRECTO_-1_saldoMin_ult3meses', 'PRODUCTO_6_saldoStd_ult3meses', 'PRODUCTO_11_saldoSum_ult1meses', 'tipo_credito_12_saldoUnique_ult1meses', 'tipo_credito_12_saldoMean_ult12meses', 'condicion_0_saldoStd_ult1meses', 'tipo_credito_11_saldoMean_ult12meses', 'PRODUCTO_11_saldoMin_ult3meses', 'RIESGO_DIRECTO_1_saldoStd_ult4meses', 'rgn_5', 'cod_instit_financiera_11_saldoMean_ult12meses', 'PRODUCTO_9_saldoMin_ult12meses', 'tipcontribuyente_mode', 'RIESGO_DIRECTO_2_saldoSum_ult1meses', 'PRODUCTO_11_saldoUnique_ult1meses', 'PRODUCTO_0_saldoUnique_ult12meses', 'PRODUCTO_7_saldoSum_ult12meses', 'tipo_credito_11_saldoUnique_ult11meses', 'PRODUCTO_8_saldoStd_ult2meses', 'condicion_0_saldoSum_ult1meses', 'RIESGO_DIRECTO_2_saldoSum_ult10meses', 'cod_instit_financiera_54_saldoStd_ult12meses', 'cod_instit_financiera_32_saldoMin_ult1meses', 'COD_CLASIFICACION_DEUDOR_0_saldoMean_ult2meses', 'PRODUCTO_15_saldoStd_ult3meses', 'PRODUCTO_8_saldoMedian_ult3meses', 'diff_fech_mean', 'PRODUCTO_3_saldoMax_ult3meses', 'RIESGO_DIRECTO_2_saldoStd_ult11meses', 'rgn_1', 'cod_instit_financiera_min_ult11mes', 'tipo_credito_10_saldoMedian_ult4meses', 'cod_instit_financiera_10_saldoMedian_ult3meses', 'COD_CLASIFICACION_DEUDOR_1_saldoSum_ult1meses', 'cod_instit_financiera_0_saldoMedian_ult12meses', 'PRODUCTO_2_saldoStd_ult3meses', 'RIESGO_DIRECTO_-1_saldoStd_ult12meses', 'RIESGO_DIRECTO_1_saldoMedian_ult9meses', 'cod_instit_financiera_32_saldoStd_ult12meses', 'PRODUCTO_2_saldoStd_ult1meses', 'cod_instit_financiera_22_saldoSum_ult12meses', 'tipo_credito_11_saldoUnique_ult1meses', 'cod_instit_financiera_2_saldoUnique_ult12meses', 'COD_CLASIFICACION_DEUDOR_0_saldoUnique_ult2meses', 'COD_CLASIFICACION_DEUDOR_0_saldoMin_ult2meses', 'PRODUCTO_8_saldoSum_ult2meses', 'cod_instit_financiera_1_saldoMedian_ult12meses', 'cod_instit_financiera_61_saldoMin_ult3meses', 'tipo_credito_12_saldoMin_ult4meses', 'condicion_3_saldoStd_ult8meses', 'tipo_credito_12_saldoStd_ult2meses', 'cod_instit_financiera_1_saldoSum_ult12meses', 'tipo_credito_10_saldoUnique_ult1meses', 'RIESGO_DIRECTO_1_saldoSum_ult4meses', 'condicion_0_saldoMedian_ult2meses', 'cod_instit_financiera_37_saldoSum_ult12meses', 'cod_instit_financiera_38_saldoMedian_ult12meses', 'cod_instit_financiera_57_saldoMedian_ult2meses', 'COD_CLASIFICACION_DEUDOR_1_saldoMedian_ult12meses', 'cod_instit_financiera_65_saldoUnique_ult12meses', 'cod_instit_financiera_11_saldoUnique_ult3meses', 'cod_instit_financiera_mode_ult5mes', 'cod_instit_financiera_33_saldoMax_ult1meses', 'COD_CLASIFICACION_DEUDOR_0_saldoStd_ult1meses', 'tipo_credito_12_saldoMedian_ult5meses', 'cod_instit_financiera_34_saldoMin_ult3meses', 'condicion_1_saldoSum_ult8meses', 'condicion_9_saldoSum_ult1meses', 'COD_CLASIFICACION_DEUDOR_1_saldoMin_ult10meses', 'tipo_credito_12_saldoSum_ult11meses', 'tipo_credito_11_saldoMin_ult12meses', 'cod_instit_financiera_28_saldoMedian_ult1meses', 'tipo_credito_12_saldoStd_ult1meses', 'cod_instit_financiera_46_saldoStd_ult12meses', 'COD_CLASIFICACION_DEUDOR_0_saldoUnique_ult1meses', 'PRODUCTO_2_saldoMin_ult2meses', 'PRODUCTO_2_saldoMin_ult3meses', 'PRODUCTO_11_saldoMean_ult1meses', 'tipo_credito_10_saldoMedian_ult2meses', 'PRODUCTO_6_saldoMax_ult3meses', 'tipo_credito_12_saldoMin_ult10meses', 'PRODUCTO_11_saldoMax_ult12meses', 'RIESGO_DIRECTO_-1_saldoMin_ult1meses', 'cod_instit_financiera_11_saldoMedian_ult3meses', 'PRODUCTO_6_saldoMedian_ult2meses', 'cod_instit_financiera_11_saldoMin_ult3meses', 'cod_instit_financiera_0_saldoSum_ult1meses', 'COD_CLASIFICACION_DEUDOR_1_saldoUnique_ult2meses', 'condicion_3_saldoMedian_ult6meses', 'condicion_1_saldoMin_ult1meses', 'RIESGO_DIRECTO_-1_saldoMax_ult12meses', 'PRODUCTO_5_saldoStd_ult2meses', 'condicion_2_saldoMin_ult1meses', 'cod_instit_financiera_0_saldoStd_ult1meses', 'RIESGO_DIRECTO_-1_saldoUnique_ult11meses', 'tipo_credito_10_saldoSum_ult3meses', 'cod_instit_financiera_10_saldoSum_ult3meses', 'PRODUCTO_3_saldoStd_ult2meses', 'PRODUCTO_8_saldoMax_ult2meses', 'condicion_1_saldoMedian_ult2meses', 'cod_instit_financiera_max_ult3mes', 'condicion_0_saldoMean_ult2meses', 'RIESGO_DIRECTO_-1_saldoStd_ult1meses', 'PRODUCTO_5_saldoSum_ult3meses', 'condicion_1_saldoUnique_ult4meses', 'cod_instit_financiera_33_saldoMedian_ult12meses', 'cod_instit_financiera_34_saldoUnique_ult3meses', 'condicion_9_saldoStd_ult12meses', 'PRODUCTO_2_saldoMedian_ult12meses', 'PRODUCTO_0_saldoUnique_ult1meses', 'tipo_credito_12_saldoMax_ult12meses', 'PRODUCTO_5_saldoMin_ult12meses', 'COD_CLASIFICACION_DEUDOR_0_saldoMedian_ult5meses', 'tipo_credito_12_saldoMedian_ult11meses', 'PRODUCTO_15_saldoMedian_ult2meses', 'cod_instit_financiera_1_saldoSum_ult1meses', 'cod_instit_financiera_34_saldoMean_ult12meses', 'RIESGO_DIRECTO_-1_saldoMedian_ult10meses', 'tipo_credito_12_saldoUnique_ult9meses', 'tipo_credito_11_saldoSum_ult12meses', 'condicion_0_saldoSum_ult2meses', 'tipo_credito_12_saldoStd_ult12meses', 'cod_instit_financiera_33_saldoSum_ult2meses', 'COD_CLASIFICACION_DEUDOR_1_saldoUnique_ult4meses', 'PRODUCTO_11_saldoMedian_ult2meses', 'RIESGO_DIRECTO_-1_saldoMedian_ult11meses', 'tipo_credito_10_saldoMedian_ult5meses', 'condicion_3_saldoUnique_ult12meses', 'PRODUCTO_8_saldoMax_ult3meses', 'RIESGO_DIRECTO_1_saldoMedian_ult8meses', 'cod_instit_financiera_34_saldoSum_ult1meses', 'cod_instit_financiera_17_saldoStd_ult12meses', 'PRODUCTO_21_saldoStd_ult3meses', 'PRODUCTO_29_saldoSum_ult3meses', 'diff_fech_min', 'tipo_credito_10_saldoMedian_ult10meses', 'cod_instit_financiera_57_saldoMin_ult1meses', 'condicion_3_saldoMax_ult11meses', 'PRODUCTO_13_saldoMean_ult12meses', 'tipo_credito_12_saldoSum_ult2meses', 'RIESGO_DIRECTO_1_saldoMedian_ult7meses', 'cod_instit_financiera_1_saldoMin_ult3meses', 'RIESGO_DIRECTO_1_saldoStd_ult10meses', 'cod_instit_financiera_min_ult12mes', 'COD_CLASIFICACION_DEUDOR_1_saldoMedian_ult11meses', 'PRODUCTO_4_saldoUnique_ult12meses', 'RIESGO_DIRECTO_1_saldoMean_ult3meses', 'COD_CLASIFICACION_DEUDOR_1_saldoMedian_ult2meses',\n",
    "'COD_CLASIFICACION_DEUDOR_0_saldoMean_ult12meses', 'cod_instit_financiera_0_saldoMin_ult3meses', 'cod_instit_financiera_61_saldoSum_ult3meses', 'condicion_1_saldoMax_ult1meses', 'tipo_credito_10_saldoUnique_ult4meses', 'cod_instit_financiera_8_saldoMedian_ult2meses', 'COD_CLASIFICACION_DEUDOR_1_saldoSum_ult10meses', 'PRODUCTO_8_saldoMedian_ult2meses', 'PRODUCTO_8_saldoSum_ult1meses', 'cod_instit_financiera_10_saldoSum_ult12meses', 'PRODUCTO_mode_ult9mes', 'tipo_credito_12_saldoMedian_ult10meses', 'PRODUCTO_7_saldoStd_ult12meses', 'condicion_3_saldoMin_ult12meses', 'tipo_credito_10_saldoUnique_ult9meses', 'cod_instit_financiera_62_saldoMax_ult12meses', 'cod_instit_financiera_19_saldoSum_ult3meses', 'condicion_1_saldoSum_ult12meses', 'COD_CLASIFICACION_DEUDOR_5_saldoUnique_ult9meses', 'tipo_credito_10_saldoSum_ult1meses', 'PRODUCTO_0_saldoMax_ult2meses', 'PRODUCTO_11_saldoMax_ult3meses', 'cod_instit_financiera_28_saldoMax_ult1meses', 'cod_instit_financiera_57_saldoMin_ult3meses', 'cod_instit_financiera_34_saldoStd_ult12meses', 'PRODUCTO_5_saldoStd_ult12meses', 'PRODUCTO_15_saldoMean_ult12meses', 'condicion_3_saldoMax_ult12meses', 'RIESGO_DIRECTO_1_saldoSum_ult3meses', 'COD_CLASIFICACION_DEUDOR_1_saldoSum_ult12meses', 'PRODUCTO_11_saldoSum_ult2meses', 'cod_instit_financiera_37_saldoStd_ult12meses', 'cod_instit_financiera_11_saldoMedian_ult12meses', 'tipo_credito_10_saldoUnique_ult12meses', 'cod_instit_financiera_nunique_ult1mes', 'COD_CLASIFICACION_DEUDOR_3_saldoStd_ult1meses', 'cod_instit_financiera_34_saldoMedian_ult1meses', 'RIESGO_DIRECTO_1_saldoUnique_ult11meses', 'COD_CLASIFICACION_DEUDOR_3_saldoSum_ult9meses', 'tipo_credito_12_saldoMean_ult7meses', 'tipo_credito_12_saldoUnique_ult2meses', 'COD_CLASIFICACION_DEUDOR_4_saldoMin_ult11meses', 'cod_instit_financiera_37_saldoMin_ult3meses', 'PRODUCTO_max_ult1mes', 'RIESGO_DIRECTO_3_saldoMin_ult12meses', 'COD_CLASIFICACION_DEUDOR_1_saldoMax_ult12meses', 'tipo_credito_12_saldoMean_ult2meses', 'PRODUCTO_4_saldoSum_ult2meses', 'RIESGO_DIRECTO_2_saldoStd_ult12meses', 'RIESGO_DIRECTO_1_saldoStd_ult6meses', 'COD_CLASIFICACION_DEUDOR_0_saldoMedian_ult7meses', 'condicion_1_saldoStd_ult8meses', 'cod_instit_financiera_62_saldoMin_ult3meses', 'tipo_credito_12_saldoSum_ult7meses', 'condicion_0_saldoMedian_ult12meses', 'PRODUCTO_13_saldoMean_ult1meses', 'PRODUCTO_11_saldoMean_ult12meses', 'cod_instit_financiera_10_saldoMin_ult12meses', 'PRODUCTO_8_saldoStd_ult1meses', 'COD_CLASIFICACION_DEUDOR_1_saldoMedian_ult7meses', 'cod_instit_financiera_1_saldoMin_ult2meses', 'PRODUCTO_mode_ult1mes', 'PRODUCTO_2_saldoMedian_ult2meses', 'RIESGO_DIRECTO_1_saldoMedian_ult10meses', 'RIESGO_DIRECTO_3_saldoMin_ult11meses', 'cod_instit_financiera_10_saldoSum_ult2meses', 'cod_instit_financiera_20_saldoStd_ult12meses', 'PRODUCTO_2_saldoSum_ult1meses', 'cod_instit_financiera_55_saldoMax_ult3meses', 'condicion_9_saldoMedian_ult12meses', 'COD_CLASIFICACION_DEUDOR_0_saldoMedian_ult6meses', 'tipo_credito_10_saldoSum_ult8meses', 'PRODUCTO_20_saldoSum_ult12meses', 'COD_CLASIFICACION_DEUDOR_5_saldoMean_ult9meses', 'tipo_credito_12_saldoMin_ult8meses', 'PRODUCTO_15_saldoMin_ult3meses', 'condicion_0_saldoMax_ult12meses', 'tipo_credito_10_saldoSum_ult5meses', 'tipo_credito_12_saldoSum_ult4meses', 'cod_instit_financiera_1_saldoMax_ult12meses', 'COD_CLASIFICACION_DEUDOR_1_saldoSum_ult2meses', 'PRODUCTO_11_saldoMedian_ult3meses', 'tipo_credito_11_saldoUnique_ult2meses', 'RIESGO_DIRECTO_-1_saldoUnique_ult1meses', 'COD_CLASIFICACION_DEUDOR_1_saldoMean_ult12meses', 'RIESGO_DIRECTO_1_saldoMean_ult4meses', 'COD_CLASIFICACION_DEUDOR_4_saldoMin_ult12meses', 'condicion_9_saldoMedian_ult10meses', 'tipo_credito_12_saldoStd_ult10meses', 'tipo_credito_12_saldoMin_ult7meses', 'estadotributo_nunique', 'condicion_8_saldoMin_ult11meses', 'cod_instit_financiera_38_saldoMedian_ult1meses', 'RIESGO_DIRECTO_-1_saldoUnique_ult2meses', 'cod_instit_financiera_37_saldoStd_ult1meses', 'cod_instit_financiera_8_saldoSum_ult12meses', 'condicion_3_saldoStd_ult7meses', 'PRODUCTO_5_saldoSum_ult2meses', 'cod_instit_financiera_57_saldoSum_ult2meses', 'PRODUCTO_13_saldoStd_ult3meses', 'cod_instit_financiera_46_saldoStd_ult3meses', 'RIESGO_DIRECTO_-1_saldoMin_ult2meses', 'tipo_credito_12_saldoMean_ult9meses', 'RIESGO_DIRECTO_1_saldoMin_ult7meses', 'condicion_1_saldoStd_ult10meses', 'cod_instit_financiera_nunique_ult3mes', 'PRODUCTO_4_saldoMedian_ult2meses', 'PRODUCTO_8_saldoMean_ult1meses', 'RIESGO_DIRECTO_-1_saldoMedian_ult8meses', 'PRODUCTO_13_saldoMax_ult12meses', 'condicion_1_saldoMedian_ult12meses', 'cod_instit_financiera_11_saldoSum_ult3meses', 'condicion_1_saldoStd_ult11meses', 'tipo_credito_11_saldoMin_ult5meses', 'COD_CLASIFICACION_DEUDOR_3_saldoMedian_ult9meses', 'COD_CLASIFICACION_DEUDOR_0_saldoMedian_ult12meses', 'PRODUCTO_4_saldoMedian_ult3meses', 'condicion_3_saldoMedian_ult12meses', 'cod_instit_financiera_13_saldoMax_ult12meses', 'condicion_2_saldoMax_ult12meses', 'condicion_5_saldoMean_ult12meses', 'condicion_0_saldoMax_ult1meses', 'condicion_0_saldoMedian_ult5meses', 'cod_instit_financiera_61_saldoMedian_ult1meses', 'PRODUCTO_2_saldoUnique_ult3meses', 'cod_instit_financiera_45_saldoMax_ult12meses', 'cod_instit_financiera_27_saldoSum_ult12meses', 'cod_instit_financiera_18_saldoUnique_ult12meses', 'PRODUCTO_11_saldoMean_ult3meses', 'cod_instit_financiera_nunique_ult5mes', 'cod_instit_financiera_11_saldoMedian_ult2meses', 'tipo_credito_12_saldoUnique_ult3meses', 'PRODUCTO_max_ult3mes', 'RIESGO_DIRECTO_1_saldoMean_ult2meses', 'tipo_credito_10_saldoMedian_ult3meses', 'cod_instit_financiera_28_saldoUnique_ult12meses', 'PRODUCTO_13_saldoSum_ult12meses', 'RIESGO_DIRECTO_-1_saldoMedian_ult6meses', 'RIESGO_DIRECTO_1_saldoSum_ult11meses', 'cod_instit_financiera_max_ult11mes', 'PRODUCTO_4_saldoMax_ult1meses', 'PRODUCTO_3_saldoMax_ult2meses', 'RIESGO_DIRECTO_1_saldoMax_ult10meses', 'RIESGO_DIRECTO_-1_saldoMean_ult12meses', 'tipo_credito_11_saldoSum_ult9meses', 'cod_instit_financiera_61_saldoMin_ult2meses', 'PRODUCTO_0_saldoMean_ult2meses', 'tipo_credito_11_saldoMedian_ult11meses', 'RIESGO_DIRECTO_-1_saldoStd_ult10meses', 'cod_instit_financiera_65_saldoMedian_ult12meses', 'COD_CLASIFICACION_DEUDOR_3_saldoStd_ult4meses', 'cod_instit_financiera_18_saldoMedian_ult12meses', 'tipo_credito_12_saldoSum_ult5meses', 'COD_CLASIFICACION_DEUDOR_0_saldoMean_ult1meses', 'tipo_credito_11_saldoMean_ult9meses', 'RIESGO_DIRECTO_1_saldoMean_ult7meses', 'COD_CLASIFICACION_DEUDOR_0_saldoMedian_ult3meses', 'PRODUCTO_11_saldoMax_ult2meses', 'cod_instit_financiera_55_saldoMean_ult3meses', 'cod_instit_financiera_max_ult9mes', 'RIESGO_DIRECTO_-1_saldoMedian_ult7meses', 'condicion_2_saldoMax_ult5meses', 'COD_CLASIFICACION_DEUDOR_1_saldoMedian_ult1meses', 'tipo_credito_12_saldoMedian_ult7meses', 'cod_instit_financiera_1_saldoMax_ult1meses', 'cod_instit_financiera_21_saldoStd_ult3meses', 'tipo_credito_10_saldoMin_ult1meses', 'COD_CLASIFICACION_DEUDOR_1_saldoMax_ult10meses', 'condicion_3_saldoSum_ult9meses', 'RIESGO_DIRECTO_2_saldoMean_ult1meses', 'condicion_1_saldoSum_ult11meses', 'condicion_0_saldoMin_ult1meses', 'cod_instit_financiera_15_saldoMedian_ult12meses', 'RIESGO_DIRECTO_-1_saldoMax_ult1meses', 'cod_instit_financiera_19_saldoMax_ult12meses', 'condicion_1_saldoMean_ult2meses', 'tipo_credito_12_saldoMin_ult5meses', 'condicion_0_saldoMin_ult2meses', 'PRODUCTO_12_saldoUnique_ult2meses', 'condicion_4_saldoMean_ult12meses', 'tipo_credito_10_saldoStd_ult6meses', 'tipo_credito_12_saldoMin_ult6meses', 'cod_instit_financiera_33_saldoMin_ult3meses', 'condicion_4_saldoMax_ult8meses', 'PRODUCTO_16_saldoMedian_ult12meses', 'RIESGO_DIRECTO_2_saldoMax_ult4meses', 'PRODUCTO_2_saldoSum_ult2meses', 'cod_instit_financiera_33_saldoMax_ult3meses', 'cod_instit_financiera_13_saldoMin_ult12meses', 'tipo_credito_12_saldoMax_ult10meses', 'cod_instit_financiera_34_saldoMax_ult12meses', 'RIESGO_DIRECTO_1_saldoMax_ult2meses', 'COD_CLASIFICACION_DEUDOR_0_saldoMean_ult3meses', 'cod_instit_financiera_32_saldoStd_ult2meses', 'tipo_credito_11_saldoMedian_ult4meses', 'condicion_2_saldoMean_ult5meses', 'PRODUCTO_2_saldoSum_ult3meses', 'RIESGO_DIRECTO_-1_saldoUnique_ult3meses', 'cod_instit_financiera_34_saldoStd_ult1meses', 'COD_CLASIFICACION_DEUDOR_4_saldoSum_ult1meses', 'condicion_1_saldoMean_ult1meses', 'condicion_1_saldoMax_ult4meses', 'condicion_1_saldoMax_ult11meses', 'cod_instit_financiera_37_saldoMedian_ult2meses', 'cod_instit_financiera_38_saldoMax_ult12meses', 'tipo_credito_12_saldoUnique_ult10meses', 'tipo_credito_11_saldoMin_ult2meses', 'RIESGO_DIRECTO_-1_saldoSum_ult3meses', 'RIESGO_DIRECTO_1_saldoStd_ult8meses', 'cod_instit_financiera_13_saldoMin_ult1meses', 'PRODUCTO_max_ult9mes', 'PRODUCTO_8_saldoMean_ult3meses', 'RIESGO_DIRECTO_1_saldoMedian_ult6meses', 'condicion_2_saldoMax_ult8meses', 'COD_CLASIFICACION_DEUDOR_0_saldoMedian_ult11meses', 'cod_instit_financiera_32_saldoSum_ult2meses', 'RIESGO_DIRECTO_1_saldoStd_ult9meses', 'PRODUCTO_9_saldoSum_ult12meses', 'tipo_credito_12_saldoUnique_ult8meses', 'tipo_credito_12_saldoSum_ult6meses', 'cod_instit_financiera_34_saldoMin_ult2meses', 'PRODUCTO_4_saldoMean_ult3meses', 'RIESGO_DIRECTO_-1_saldoMean_ult10meses', 'cod_instit_financiera_10_saldoMean_ult1meses', 'condicion_3_saldoMin_ult3meses', 'condicion_0_saldoMedian_ult3meses', 'tipo_credito_11_saldoMax_ult1meses', 'cod_instit_financiera_25_saldoSum_ult12meses', 'tipo_credito_9_saldoMedian_ult2meses', 'cod_instit_financiera_41_saldoUnique_ult12meses', 'cod_instit_financiera_37_saldoMean_ult1meses', 'condicion_0_saldoUnique_ult11meses', 'tipo_credito_9_saldoMedian_ult7meses', 'cod_instit_financiera_2_saldoMedian_ult12meses', 'cod_instit_financiera_46_saldoMin_ult1meses', 'cod_instit_financiera_61_saldoStd_ult12meses', 'cargorele_nunique', 'RIESGO_DIRECTO_2_saldoMin_ult1meses', 'tipo_credito_11_saldoStd_ult4meses', 'cod_instit_financiera_mode_ult7mes', 'COD_CLASIFICACION_DEUDOR_1_saldoStd_ult2meses', 'tipo_credito_12_saldoMax_ult9meses', 'cod_instit_financiera_13_saldoSum_ult1meses', 'RIESGO_DIRECTO_1_saldoMean_ult5meses',\n",
    "'cod_instit_financiera_nunique_ult6mes', 'condicion_1_saldoMedian_ult11meses', 'condicion_4_saldoMedian_ult9meses', 'condicion_1_saldoMax_ult7meses', 'condicion_6_saldoMin_ult11meses', 'cod_instit_financiera_37_saldoMax_ult1meses', 'cod_instit_financiera_min_ult10mes', 'tipo_credito_12_saldoMax_ult7meses', 'COD_CLASIFICACION_DEUDOR_0_saldoUnique_ult4meses', 'tipo_credito_12_saldoMean_ult6meses', 'cod_instit_financiera_38_saldoMedian_ult2meses', 'RIESGO_DIRECTO_1_saldoMedian_ult5meses', 'COD_CLASIFICACION_DEUDOR_0_saldoUnique_ult8meses', 'PRODUCTO_4_saldoSum_ult3meses', 'cod_instit_financiera_55_saldoMean_ult12meses', 'cod_instit_financiera_54_saldoMin_ult1meses', 'tipo_credito_99_saldoMin_ult1meses', 'COD_CLASIFICACION_DEUDOR_1_saldoUnique_ult5meses', 'COD_CLASIFICACION_DEUDOR_0_saldoMax_ult12meses', 'COD_CLASIFICACION_DEUDOR_0_saldoSum_ult11meses', 'tipo_credito_10_saldoStd_ult1meses', 'cod_instit_financiera_10_saldoMedian_ult2meses', 'tipo_credito_10_saldoMean_ult11meses', 'PRODUCTO_16_saldoMax_ult12meses', 'cod_instit_financiera_0_saldoSum_ult2meses', 'PRODUCTO_15_saldoSum_ult3meses', 'tipo_credito_12_saldoMin_ult9meses', 'cod_instit_financiera_8_saldoMedian_ult12meses', 'COD_CLASIFICACION_DEUDOR_0_saldoMax_ult11meses', 'condicion_1_saldoSum_ult5meses', 'cod_instit_financiera_10_saldoMax_ult2meses', 'cod_instit_financiera_13_saldoStd_ult12meses', 'cod_instit_financiera_nunique_ult9mes', 'condicion_0_saldoMin_ult12meses', 'cod_instit_financiera_15_saldoMin_ult12meses', 'cod_instit_financiera_20_saldoMin_ult12meses', 'facturacion_mode', 'PRODUCTO_mode_ult8mes', 'COD_CLASIFICACION_DEUDOR_1_saldoSum_ult4meses', 'condicion_1_saldoMean_ult12meses', 'PRODUCTO_13_saldoSum_ult2meses', 'cod_instit_financiera_45_saldoMin_ult12meses', 'COD_CLASIFICACION_DEUDOR_0_saldoUnique_ult7meses', 'cod_instit_financiera_32_saldoMax_ult1meses', 'PRODUCTO_4_saldoMin_ult3meses', 'tipo_credito_11_saldoMean_ult6meses', 'cod_instit_financiera_32_saldoUnique_ult2meses', 'tipo_credito_10_saldoUnique_ult7meses', 'PRODUCTO_mode_ult12mes', 'cod_instit_financiera_7_saldoUnique_ult12meses', 'cod_instit_financiera_15_saldoMedian_ult2meses', 'cod_instit_financiera_37_saldoMedian_ult12meses', 'PRODUCTO_7_saldoMin_ult3meses', 'RIESGO_DIRECTO_-1_saldoUnique_ult6meses', 'tipo_credito_11_saldoMedian_ult2meses', 'condicion_0_saldoSum_ult3meses', 'COD_CLASIFICACION_DEUDOR_0_saldoMedian_ult8meses', 'PRODUCTO_14_saldoStd_ult12meses', 'condicion_0_saldoSum_ult9meses', 'cod_instit_financiera_2_saldoSum_ult1meses', 'COD_CLASIFICACION_DEUDOR_5_saldoSum_ult11meses', 'RIESGO_DIRECTO_-1_saldoStd_ult3meses', 'PRODUCTO_13_saldoMedian_ult3meses', 'COD_CLASIFICACION_DEUDOR_1_saldoMedian_ult6meses', 'tipo_credito_11_saldoMedian_ult3meses', 'COD_CLASIFICACION_DEUDOR_1_saldoStd_ult4meses', 'PRODUCTO_11_saldoMin_ult2meses', 'PRODUCTO_6_saldoUnique_ult1meses', 'cod_instit_financiera_37_saldoMean_ult2meses', 'cod_instit_financiera_34_saldoSum_ult2meses', 'RIESGO_DIRECTO_1_saldoMean_ult11meses', 'condicion_1_saldoMin_ult8meses', 'condicion_4_saldoMedian_ult8meses', 'cod_instit_financiera_1_saldoMedian_ult3meses', 'condicion_2_saldoStd_ult4meses', 'cod_instit_financiera_32_saldoMedian_ult2meses', 'tipo_credito_11_saldoUnique_ult7meses', 'tipo_credito_10_saldoSum_ult7meses', 'condicion_1_saldoSum_ult4meses', 'RIESGO_DIRECTO_2_saldoStd_ult5meses', 'tipo_credito_12_saldoStd_ult7meses', 'COD_CLASIFICACION_DEUDOR_1_saldoMean_ult2meses', 'RIESGO_DIRECTO_1_saldoMin_ult8meses', 'COD_CLASIFICACION_DEUDOR_0_saldoStd_ult2meses', 'condicion_2_saldoSum_ult7meses', 'condicion_3_saldoMin_ult11meses', 'COD_CLASIFICACION_DEUDOR_1_saldoMedian_ult8meses', 'RIESGO_DIRECTO_1_saldoMean_ult9meses', 'RIESGO_DIRECTO_1_saldoSum_ult5meses', 'condicion_2_saldoMedian_ult11meses', 'RIESGO_DIRECTO_-1_saldoSum_ult11meses', 'COD_CLASIFICACION_DEUDOR_0_saldoSum_ult3meses', 'PRODUCTO_0_saldoMax_ult3meses', 'condicion_0_saldoMedian_ult10meses', 'PRODUCTO_13_saldoMin_ult12meses', 'condicion_3_saldoMax_ult8meses', 'COD_CLASIFICACION_DEUDOR_3_saldoStd_ult12meses', 'cod_instit_financiera_0_saldoMin_ult2meses', 'condicion_0_saldoSum_ult11meses', 'tipo_credito_10_saldoMean_ult12meses', 'PRODUCTO_15_saldoMin_ult1meses', 'cod_instit_financiera_55_saldoStd_ult1meses', 'tipo_credito_9_saldoUnique_ult1meses', 'condicion_2_saldoMean_ult11meses', 'condicion_1_saldoMean_ult5meses', 'tipo_credito_11_saldoStd_ult2meses', 'COD_CLASIFICACION_DEUDOR_1_saldoSum_ult5meses', 'cod_instit_financiera_33_saldoMean_ult2meses', 'tipo_credito_12_saldoMax_ult2meses', 'tipo_credito_11_saldoStd_ult8meses', 'cod_instit_financiera_25_saldoMin_ult12meses', 'cod_instit_financiera_max_ult4mes', 'cod_instit_financiera_20_saldoSum_ult1meses', 'tipo_credito_9_saldoMax_ult12meses', 'tipo_credito_10_saldoUnique_ult8meses', 'tipo_credito_11_saldoMax_ult12meses', 'cod_instit_financiera_41_saldoUnique_ult1meses', 'cod_instit_financiera_46_saldoMax_ult1meses', 'cod_instit_financiera_min_ult3mes', 'condicion_4_saldoMax_ult10meses', 'RIESGO_DIRECTO_-1_saldoStd_ult8meses', 'tipo_credito_11_saldoSum_ult4meses', 'PRODUCTO_mode_ult4mes', 'cod_instit_financiera_10_saldoMax_ult1meses', 'condicion_1_saldoMax_ult6meses', 'PRODUCTO_11_saldoUnique_ult2meses', 'cod_instit_financiera_3_saldoMean_ult1meses', 'RIESGO_DIRECTO_2_saldoSum_ult4meses', 'tipo_credito_9_saldoMax_ult11meses', 'cod_instit_financiera_21_saldoMean_ult12meses', 'tipo_credito_10_saldoUnique_ult6meses', 'tipo_credito_9_saldoSum_ult2meses', 'COD_CLASIFICACION_DEUDOR_1_saldoStd_ult10meses', 'PRODUCTO_10_saldoMin_ult2meses', 'condicion_3_saldoStd_ult12meses', 'tipo_credito_11_saldoMean_ult4meses', 'condicion_3_saldoMedian_ult1meses', 'RIESGO_DIRECTO_-1_saldoStd_ult6meses', 'cod_instit_financiera_28_saldoStd_ult3meses', 'condicion_9_saldoSum_ult12meses', 'RIESGO_DIRECTO_-1_saldoUnique_ult4meses', 'tipo_credito_12_saldoStd_ult6meses', 'COD_CLASIFICACION_DEUDOR_0_saldoUnique_ult6meses', 'cod_instit_financiera_3_saldoStd_ult12meses', 'RIESGO_DIRECTO_2_saldoMax_ult12meses', 'COD_CLASIFICACION_DEUDOR_0_saldoSum_ult6meses', 'PRODUCTO_21_saldoStd_ult12meses', 'PRODUCTO_13_saldoMedian_ult12meses', 'COD_CLASIFICACION_DEUDOR_1_saldoStd_ult7meses', 'condicion_3_saldoSum_ult12meses', 'diff_fech_max', 'PRODUCTO_21_saldoStd_ult2meses', 'COD_CLASIFICACION_DEUDOR_0_saldoStd_ult12meses', 'RIESGO_DIRECTO_-1_saldoMean_ult5meses', 'cod_instit_financiera_28_saldoSum_ult12meses', 'cod_instit_financiera_34_saldoStd_ult2meses', 'COD_CLASIFICACION_DEUDOR_0_saldoUnique_ult3meses', 'condicion_3_saldoMedian_ult7meses', 'condicion_0_saldoMean_ult6meses', 'tipo_credito_12_saldoMedian_ult9meses', 'cod_instit_financiera_nunique_ult12mes', 'RIESGO_DIRECTO_2_saldoMedian_ult12meses', 'tipo_credito_12_saldoSum_ult9meses', 'RIESGO_DIRECTO_1_saldoStd_ult7meses', 'condicion_0_saldoSum_ult4meses', 'tipo_credito_9_saldoStd_ult2meses', 'COD_CLASIFICACION_DEUDOR_2_saldoMedian_ult10meses', 'PRODUCTO_4_saldoMean_ult2meses', 'PRODUCTO_2_saldoMax_ult3meses', 'COD_CLASIFICACION_DEUDOR_3_saldoMean_ult1meses', 'cod_instit_financiera_mode_ult6mes', 'cod_instit_financiera_3_saldoStd_ult1meses', 'tipo_credito_12_saldoMean_ult4meses', 'PRODUCTO_5_saldoMean_ult12meses', 'condicion_1_saldoSum_ult9meses', 'cod_instit_financiera_min_ult6mes', 'condicion_0_saldoMedian_ult7meses', 'tipo_credito_12_saldoMax_ult11meses', 'RIESGO_DIRECTO_1_saldoUnique_ult2meses', 'cod_instit_financiera_34_saldoMax_ult1meses', 'cod_instit_financiera_37_saldoMin_ult12meses', 'cod_instit_financiera_0_saldoMin_ult12meses', 'PRODUCTO_nunique_ult2mes', 'cod_instit_financiera_34_saldoMedian_ult3meses', 'RIESGO_DIRECTO_1_saldoSum_ult6meses', 'cod_instit_financiera_65_saldoMax_ult12meses', 'tipo_credito_10_saldoUnique_ult5meses', 'RIESGO_DIRECTO_-1_saldoMean_ult2meses', 'PRODUCTO_13_saldoMin_ult1meses', 'PRODUCTO_12_saldoSum_ult12meses', 'condicion_2_saldoSum_ult11meses', 'RIESGO_DIRECTO_2_saldoMin_ult3meses', 'COD_CLASIFICACION_DEUDOR_5_saldoSum_ult6meses', 'PRODUCTO_15_saldoMean_ult3meses', 'condicion_0_saldoUnique_ult3meses', 'RIESGO_DIRECTO_1_saldoSum_ult9meses', 'tipo_credito_12_saldoStd_ult4meses', 'cod_instit_financiera_32_saldoMedian_ult1meses', 'PRODUCTO_2_saldoMax_ult1meses', 'cod_instit_financiera_11_saldoMean_ult1meses', 'PRODUCTO_mode_ult5mes', 'tipo_credito_12_saldoMax_ult4meses', 'condicion_2_saldoUnique_ult3meses', 'cod_instit_financiera_63_saldoSum_ult12meses', 'COD_CLASIFICACION_DEUDOR_0_saldoMin_ult3meses', 'condicion_2_saldoStd_ult8meses', 'condicion_0_saldoStd_ult3meses', 'cod_instit_financiera_11_saldoSum_ult2meses', 'cod_instit_financiera_mode_ult3mes', 'PRODUCTO_2_saldoMedian_ult3meses', 'RIESGO_DIRECTO_2_saldoMin_ult12meses', 'tipo_credito_12_saldoMean_ult8meses', 'tipo_credito_12_saldoStd_ult11meses', 'condicion_2_saldoMean_ult12meses', 'condicion_1_saldoMedian_ult5meses', 'cod_instit_financiera_10_saldoMin_ult2meses', 'tipo_credito_10_saldoStd_ult12meses', 'tipo_credito_12_saldoMedian_ult6meses', 'RIESGO_DIRECTO_-1_saldoSum_ult9meses', 'tipo_credito_10_saldoMean_ult10meses', 'condicion_2_saldoSum_ult6meses', 'COD_CLASIFICACION_DEUDOR_0_saldoMean_ult4meses', 'cod_instit_financiera_57_saldoMin_ult2meses', 'cod_instit_financiera_63_saldoMedian_ult12meses', 'cod_instit_financiera_20_saldoStd_ult1meses', 'cod_instit_financiera_13_saldoMedian_ult1meses', 'condicion_2_saldoSum_ult9meses', 'cod_instit_financiera_0_saldoUnique_ult2meses', 'tipo_credito_12_saldoMax_ult3meses', 'cod_instit_financiera_55_saldoMedian_ult1meses', 'fecbaja_mean', 'cod_instit_financiera_3_saldoSum_ult1meses', 'cod_instit_financiera_46_saldoUnique_ult3meses', 'PRODUCTO_15_saldoMax_ult1meses', 'RIESGO_DIRECTO_2_saldoMin_ult9meses', 'condicion_3_saldoStd_ult9meses', 'RIESGO_DIRECTO_2_saldoMedian_ult1meses', 'cod_instit_financiera_0_saldoSum_ult12meses', 'COD_CLASIFICACION_DEUDOR_5_saldoSum_ult8meses', 'COD_CLASIFICACION_DEUDOR_1_saldoUnique_ult3meses', 'condicion_4_saldoStd_ult10meses', 'condicion_2_saldoUnique_ult12meses', 'condicion_9_saldoUnique_ult9meses', 'cod_instit_financiera_1_saldoStd_ult2meses', \n",
    "'cod_instit_financiera_37_saldoStd_ult3meses', 'cod_instit_financiera_1_saldoSum_ult2meses', 'cod_instit_financiera_18_saldoMean_ult12meses', 'COD_CLASIFICACION_DEUDOR_0_saldoMedian_ult4meses', 'tipo_credito_10_saldoMean_ult1meses', 'PRODUCTO_mode_ult10mes', 'tipo_credito_10_saldoMax_ult1meses', 'condicion_1_saldoMedian_ult6meses', 'COD_CLASIFICACION_DEUDOR_3_saldoUnique_ult11meses', 'condicion_0_saldoMean_ult1meses', 'tipo_credito_10_saldoUnique_ult10meses', 'RIESGO_DIRECTO_-1_saldoMean_ult11meses', 'tipo_credito_10_saldoSum_ult4meses', 'tipo_credito_11_saldoMax_ult7meses', 'cod_instit_financiera_46_saldoMax_ult12meses', 'cod_instit_financiera_28_saldoSum_ult2meses', 'tipo_credito_10_saldoStd_ult11meses', 'cod_instit_financiera_57_saldoMin_ult12meses', 'cod_instit_financiera_33_saldoMin_ult2meses', 'COD_CLASIFICACION_DEUDOR_3_saldoMedian_ult1meses', 'tipo_credito_11_saldoMin_ult8meses', 'PRODUCTO_7_saldoMax_ult2meses', 'PRODUCTO_2_saldoMean_ult12meses', 'COD_CLASIFICACION_DEUDOR_2_saldoUnique_ult1meses', 'PRODUCTO_5_saldoMin_ult3meses', 'PRODUCTO_13_saldoMean_ult3meses', 'tipo_credito_11_saldoUnique_ult10meses', 'RIESGO_DIRECTO_-1_saldoMedian_ult9meses', 'tipo_credito_11_saldoMax_ult4meses', 'cod_instit_financiera_61_saldoMin_ult1meses', 'condicion_1_saldoStd_ult5meses', 'tipo_credito_10_saldoMedian_ult12meses', 'cod_instit_financiera_32_saldoMin_ult2meses', 'cod_instit_financiera_41_saldoMean_ult12meses', 'PRODUCTO_29_saldoSum_ult2meses', 'condicion_0_saldoUnique_ult10meses', 'cod_instit_financiera_3_saldoMin_ult3meses', 'cod_instit_financiera_max_ult6mes', 'RIESGO_DIRECTO_3_saldoMin_ult9meses', 'condicion_3_saldoMedian_ult11meses', 'COD_CLASIFICACION_DEUDOR_1_saldoUnique_ult1meses', 'cod_instit_financiera_10_saldoUnique_ult3meses', 'tipo_credito_10_saldoMedian_ult6meses', 'PRODUCTO_5_saldoSum_ult1meses', 'tipo_credito_11_saldoSum_ult2meses', 'COD_CLASIFICACION_DEUDOR_1_saldoMin_ult2meses', 'RIESGO_DIRECTO_-1_saldoUnique_ult8meses', 'RIESGO_DIRECTO_-1_saldoMax_ult9meses', 'condicion_1_saldoMin_ult7meses', 'tipo_credito_11_saldoMin_ult11meses', 'tipo_credito_10_saldoMedian_ult8meses', 'cod_instit_financiera_nunique_ult4mes', 'cod_instit_financiera_33_saldoSum_ult3meses', 'COD_CLASIFICACION_DEUDOR_2_saldoMean_ult12meses', 'cod_instit_financiera_0_saldoMax_ult2meses', 'cod_instit_financiera_2_saldoSum_ult2meses', 'cod_instit_financiera_8_saldoMin_ult12meses', 'tipo_credito_10_saldoStd_ult9meses', 'cod_instit_financiera_max_ult5mes', 'cod_instit_financiera_13_saldoMean_ult12meses', 'COD_CLASIFICACION_DEUDOR_1_saldoMedian_ult5meses', 'tipo_credito_11_saldoSum_ult11meses', 'COD_CLASIFICACION_DEUDOR_1_saldoMedian_ult4meses', 'cod_instit_financiera_32_saldoMedian_ult3meses', 'PRODUCTO_5_saldoMedian_ult12meses', 'cod_instit_financiera_34_saldoSum_ult3meses', 'cod_instit_financiera_34_saldoMedian_ult12meses', 'cod_instit_financiera_1_saldoMean_ult2meses', 'tipo_credito_11_saldoStd_ult12meses', 'cod_instit_financiera_mode_ult8mes', 'PRODUCTO_max_ult5mes', 'cod_instit_financiera_13_saldoSum_ult12meses', 'cod_instit_financiera_56_saldoMedian_ult3meses', 'RIESGO_DIRECTO_-1_saldoSum_ult4meses', 'condicion_0_saldoMax_ult8meses', 'RIESGO_DIRECTO_-1_saldoStd_ult9meses', 'condicion_2_saldoMedian_ult7meses', 'tipo_credito_12_saldoStd_ult9meses', 'condicion_0_saldoMedian_ult6meses', 'tipo_credito_11_saldoMedian_ult5meses', 'PRODUCTO_15_saldoMax_ult2meses', 'condicion_0_saldoMean_ult11meses', 'tipo_credito_10_saldoSum_ult11meses', 'COD_CLASIFICACION_DEUDOR_1_saldoStd_ult12meses', 'PRODUCTO_5_saldoMax_ult1meses', 'cod_instit_financiera_34_saldoUnique_ult2meses', 'cod_instit_financiera_61_saldoStd_ult2meses', 'cod_instit_financiera_7_saldoMin_ult2meses', 'COD_CLASIFICACION_DEUDOR_1_saldoMean_ult6meses', 'COD_CLASIFICACION_DEUDOR_2_saldoMin_ult3meses', 'RIESGO_DIRECTO_2_saldoMin_ult2meses', 'tipo_credito_11_saldoSum_ult3meses', 'tipo_credito_10_saldoMedian_ult11meses', 'PRODUCTO_5_saldoStd_ult3meses', 'tipo_credito_11_saldoMin_ult3meses', 'cod_instit_financiera_65_saldoSum_ult12meses', 'COD_CLASIFICACION_DEUDOR_0_saldoSum_ult9meses', 'COD_CLASIFICACION_DEUDOR_1_saldoMin_ult3meses', 'cod_instit_financiera_55_saldoMin_ult12meses', 'PRODUCTO_4_saldoMedian_ult1meses', 'cod_instit_financiera_61_saldoSum_ult1meses', 'cod_instit_financiera_13_saldoStd_ult2meses', 'PRODUCTO_15_saldoSum_ult1meses', 'tipo_credito_11_saldoSum_ult6meses', 'COD_CLASIFICACION_DEUDOR_1_saldoSum_ult6meses', 'cod_instit_financiera_0_saldoSum_ult3meses', 'cod_instit_financiera_28_saldoMedian_ult3meses', 'cod_instit_financiera_13_saldoSum_ult3meses', 'tipo_credito_9_saldoMean_ult12meses', 'PRODUCTO_max_ult2mes', 'tipo_credito_10_saldoUnique_ult3meses', 'tipo_credito_9_saldoMean_ult6meses', 'cod_instit_financiera_mode_ult11mes', 'PRODUCTO_11_saldoMean_ult2meses', 'tipo_credito_11_saldoMin_ult10meses', 'COD_CLASIFICACION_DEUDOR_3_saldoMax_ult1meses', 'RIESGO_DIRECTO_2_saldoMean_ult2meses', 'cod_instit_financiera_11_saldoStd_ult12meses', 'condicion_0_saldoMean_ult8meses', 'PRODUCTO_2_saldoMedian_ult1meses', 'cod_instit_financiera_0_saldoMax_ult12meses', 'RIESGO_DIRECTO_1_saldoMax_ult9meses', 'tipo_credito_12_saldoStd_ult3meses', 'PRODUCTO_0_saldoMean_ult3meses', 'tipo_credito_11_saldoMin_ult4meses', 'cod_instit_financiera_36_saldoSum_ult2meses', 'tipo_credito_11_saldoMean_ult11meses', 'condicion_2_saldoMin_ult9meses', 'PRODUCTO_mode_ult2mes', 'COD_CLASIFICACION_DEUDOR_0_saldoUnique_ult5meses', 'tipo_credito_11_saldoStd_ult7meses', 'cod_instit_financiera_17_saldoMedian_ult12meses', 'COD_CLASIFICACION_DEUDOR_4_saldoStd_ult11meses', 'COD_CLASIFICACION_DEUDOR_1_saldoMedian_ult3meses', 'cod_instit_financiera_25_saldoMedian_ult12meses', 'cod_instit_financiera_19_saldoStd_ult12meses', 'cod_instit_financiera_34_saldoMean_ult1meses', 'PRODUCTO_15_saldoMedian_ult3meses', 'tipo_credito_10_saldoMax_ult10meses', 'RIESGO_DIRECTO_2_saldoSum_ult8meses', 'rgn_0', 'PRODUCTO_7_saldoMin_ult2meses', 'PRODUCTO_9_saldoSum_ult3meses', 'cod_instit_financiera_13_saldoStd_ult3meses', 'cod_instit_financiera_65_saldoMedian_ult3meses', 'RIESGO_DIRECTO_2_saldoMax_ult5meses', 'PRODUCTO_15_saldoSum_ult2meses', 'condicion_3_saldoSum_ult4meses', 'PRODUCTO_7_saldoMin_ult1meses', 'condicion_0_saldoStd_ult10meses', 'cod_instit_financiera_8_saldoUnique_ult1meses', 'COD_CLASIFICACION_DEUDOR_0_saldoMedian_ult9meses', 'COD_CLASIFICACION_DEUDOR_0_saldoSum_ult4meses', 'cod_instit_financiera_45_saldoSum_ult12meses', 'cod_instit_financiera_37_saldoSum_ult3meses', 'cod_instit_financiera_32_saldoMean_ult12meses', 'cod_instit_financiera_28_saldoMean_ult3meses', 'PRODUCTO_15_saldoMax_ult3meses', 'condicion_0_saldoMedian_ult4meses', 'RIESGO_DIRECTO_-1_saldoMean_ult3meses', 'tipo_credito_11_saldoMedian_ult8meses', 'cod_instit_financiera_1_saldoUnique_ult3meses', 'cod_instit_financiera_32_saldoSum_ult3meses', 'tipo_credito_10_saldoSum_ult6meses', 'RIESGO_DIRECTO_-1_saldoStd_ult4meses', 'PRODUCTO_7_saldoMax_ult1meses', 'RIESGO_DIRECTO_-1_saldoSum_ult6meses', 'COD_CLASIFICACION_DEUDOR_1_saldoSum_ult11meses', 'cod_instit_financiera_36_saldoMin_ult12meses', 'RIESGO_DIRECTO_1_saldoMean_ult6meses', 'cod_instit_financiera_0_saldoStd_ult12meses', 'PRODUCTO_12_saldoUnique_ult1meses', 'cod_instit_financiera_max_ult7mes', 'RIESGO_DIRECTO_1_saldoSum_ult8meses', 'PRODUCTO_8_saldoMean_ult2meses', 'condicion_1_saldoUnique_ult12meses', 'PRODUCTO_13_saldoSum_ult3meses', 'tipo_credito_12_saldoStd_ult8meses', 'cod_instit_financiera_11_saldoMin_ult1meses', 'RIESGO_DIRECTO_-1_saldoMin_ult4meses', 'COD_CLASIFICACION_DEUDOR_2_saldoUnique_ult9meses', 'tipo_credito_11_saldoMedian_ult7meses', 'COD_CLASIFICACION_DEUDOR_2_saldoMean_ult10meses', 'tipo_credito_12_saldoStd_ult5meses', 'cod_instit_financiera_10_saldoMax_ult12meses', 'condicion_0_saldoStd_ult11meses', 'cod_instit_financiera_18_saldoSum_ult12meses', 'PRODUCTO_2_saldoMean_ult2meses', 'condicion_0_saldoUnique_ult1meses', 'condicion_2_saldoStd_ult12meses', 'cod_instit_financiera_20_saldoMin_ult1meses', 'tipo_credito_11_saldoStd_ult3meses', 'PRODUCTO_9_saldoMedian_ult1meses', 'PRODUCTO_1_saldoUnique_ult3meses', 'COD_CLASIFICACION_DEUDOR_1_saldoSum_ult3meses', 'condicion_2_saldoStd_ult10meses', 'PRODUCTO_2_saldoMean_ult3meses', 'cod_instit_financiera_33_saldoMean_ult12meses', 'condicion_1_saldoStd_ult6meses', 'PRODUCTO_21_saldoMedian_ult12meses', 'PRODUCTO_21_saldoMean_ult12meses', 'COD_CLASIFICACION_DEUDOR_2_saldoMedian_ult9meses', 'PRODUCTO_7_saldoSum_ult2meses', 'PRODUCTO_9_saldoSum_ult1meses', 'COD_CLASIFICACION_DEUDOR_0_saldoMean_ult5meses', 'cod_instit_financiera_8_saldoMedian_ult1meses', 'RIESGO_DIRECTO_-1_saldoUnique_ult5meses', 'condicion_3_saldoMedian_ult8meses', 'PRODUCTO_4_saldoMax_ult2meses', 'tipo_credito_12_saldoUnique_ult4meses', 'condicion_2_saldoSum_ult5meses', 'cod_instit_financiera_11_saldoSum_ult12meses', 'cod_instit_financiera_57_saldoStd_ult3meses', 'RIESGO_DIRECTO_-1_saldoMin_ult11meses', 'PRODUCTO_4_saldoUnique_ult2meses', 'tipo_credito_10_saldoStd_ult3meses', 'cod_instit_financiera_63_saldoMean_ult3meses', 'tipo_credito_11_saldoMax_ult11meses', 'tipo_credito_12_saldoSum_ult10meses', 'tipo_credito_10_saldoMax_ult5meses', 'PRODUCTO_4_saldoMax_ult3meses', 'COD_CLASIFICACION_DEUDOR_1_saldoStd_ult1meses', 'RIESGO_DIRECTO_-1_saldoSum_ult7meses', 'PRODUCTO_13_saldoMax_ult3meses', 'condicion_0_saldoUnique_ult4meses', 'COD_CLASIFICACION_DEUDOR_1_saldoMin_ult11meses', 'COD_CLASIFICACION_DEUDOR_1_saldoMin_ult12meses', 'cod_instit_financiera_13_saldoMax_ult3meses', 'cod_instit_financiera_10_saldoMean_ult3meses', 'tipo_credito_11_saldoMean_ult7meses', 'condicion_0_saldoMedian_ult9meses', 'cod_instit_financiera_55_saldoMin_ult1meses', 'tipo_credito_10_saldoMax_ult3meses', 'tipo_credito_11_saldoMedian_ult10meses', 'tipo_credito_10_saldoMax_ult11meses', 'COD_CLASIFICACION_DEUDOR_1_saldoUnique_ult6meses', 'cod_instit_financiera_2_saldoMedian_ult3meses', 'cod_instit_financiera_17_saldoMean_ult12meses', 'PRODUCTO_5_saldoMin_ult1meses', 'PRODUCTO_7_saldoMean_ult3meses', 'PRODUCTO_7_saldoMax_ult3meses',\n",
    "'PRODUCTO_9_saldoMin_ult3meses', 'cod_instit_financiera_18_saldoMean_ult1meses', 'COD_CLASIFICACION_DEUDOR_5_saldoUnique_ult7meses', 'cod_instit_financiera_20_saldoMin_ult2meses', 'RIESGO_DIRECTO_2_saldoMean_ult10meses', 'PRODUCTO_5_saldoMax_ult12meses', 'PRODUCTO_13_saldoStd_ult1meses', 'cod_instit_financiera_18_saldoSum_ult1meses', 'cod_instit_financiera_61_saldoMax_ult3meses', 'condicion_6_saldoMedian_ult1meses', 'cod_instit_financiera_55_saldoUnique_ult12meses', 'RIESGO_DIRECTO_-1_saldoMean_ult7meses', 'condicion_1_saldoUnique_ult5meses', 'cod_instit_financiera_34_saldoMean_ult2meses', 'condicion_1_saldoSum_ult6meses', 'condicion_2_saldoSum_ult10meses', 'condicion_0_saldoStd_ult2meses', 'PRODUCTO_7_saldoSum_ult3meses', 'cod_instit_financiera_55_saldoStd_ult2meses', 'cod_instit_financiera_20_saldoMean_ult12meses', 'tipo_credito_10_saldoMean_ult4meses', 'tipo_credito_10_saldoSum_ult10meses', 'cod_instit_financiera_33_saldoMedian_ult1meses', 'RIESGO_DIRECTO_-1_saldoMean_ult6meses', 'cod_instit_financiera_1_saldoStd_ult12meses', 'cod_instit_financiera_19_saldoMin_ult1meses', 'cod_instit_financiera_11_saldoSum_ult1meses', 'PRODUCTO_2_saldoMean_ult1meses', 'cod_instit_financiera_28_saldoMax_ult2meses', 'RIESGO_DIRECTO_1_saldoSum_ult10meses', 'cod_instit_financiera_1_saldoMax_ult2meses', 'cod_instit_financiera_16_saldoMax_ult12meses', 'COD_CLASIFICACION_DEUDOR_0_saldoMax_ult6meses', 'PRODUCTO_29_saldoMin_ult3meses', 'RIESGO_DIRECTO_2_saldoMax_ult6meses', 'cod_instit_financiera_8_saldoMedian_ult3meses', 'RIESGO_DIRECTO_-1_saldoSum_ult5meses', 'cod_instit_financiera_55_saldoMedian_ult3meses', 'PRODUCTO_29_saldoMin_ult12meses', 'COD_CLASIFICACION_DEUDOR_0_saldoStd_ult10meses', 'comercioexterior_mode', 'tipo_credito_11_saldoMax_ult6meses', 'cod_instit_financiera_1_saldoSum_ult3meses', 'COD_CLASIFICACION_DEUDOR_5_saldoSum_ult2meses', 'PRODUCTO_mode_ult6mes', 'COD_CLASIFICACION_DEUDOR_3_saldoMin_ult12meses', 'cod_instit_financiera_61_saldoMean_ult1meses', 'cod_instit_financiera_37_saldoUnique_ult2meses', 'tipo_credito_10_saldoMean_ult2meses', 'cod_instit_financiera_28_saldoUnique_ult2meses', 'cod_instit_financiera_15_saldoMin_ult3meses', 'PRODUCTO_12_saldoStd_ult2meses', 'COD_CLASIFICACION_DEUDOR_4_saldoSum_ult11meses', 'condicion_1_saldoSum_ult7meses', 'condicion_1_saldoMin_ult6meses', 'cod_instit_financiera_25_saldoMax_ult2meses', 'PRODUCTO_2_saldoMax_ult12meses', 'cod_instit_financiera_2_saldoStd_ult1meses', 'cod_instit_financiera_11_saldoMin_ult12meses', 'cod_instit_financiera_33_saldoMean_ult1meses', 'tipo_credito_9_saldoStd_ult3meses', 'PRODUCTO_9_saldoMean_ult1meses', 'cod_instit_financiera_33_saldoUnique_ult3meses', 'PRODUCTO_9_saldoStd_ult3meses', 'condicion_1_saldoMedian_ult1meses', 'tipo_credito_10_saldoStd_ult4meses', 'cod_instit_financiera_15_saldoMean_ult1meses', 'tipo_credito_9_saldoMin_ult1meses', 'cod_instit_financiera_11_saldoMedian_ult1meses', 'PRODUCTO_9_saldoMax_ult1meses', 'COD_CLASIFICACION_DEUDOR_3_saldoStd_ult5meses', 'tipo_credito_11_saldoSum_ult8meses', 'condicion_0_saldoStd_ult9meses', 'cod_instit_financiera_32_saldoMean_ult1meses', 'cod_instit_financiera_13_saldoMin_ult3meses', 'cod_instit_financiera_57_saldoMax_ult2meses', 'cod_instit_financiera_20_saldoStd_ult2meses', 'cod_instit_financiera_3_saldoStd_ult2meses', 'cod_instit_financiera_nunique_ult7mes', 'PRODUCTO_29_saldoSum_ult12meses', 'cod_instit_financiera_36_saldoMax_ult3meses', 'COD_CLASIFICACION_DEUDOR_1_saldoMean_ult8meses', 'PRODUCTO_nunique_ult12mes', 'condicion_1_saldoMin_ult5meses', 'tipo_credito_11_saldoMin_ult7meses', 'PRODUCTO_7_saldoMedian_ult2meses', 'cod_instit_financiera_11_saldoMax_ult3meses', 'condicion_1_saldoSum_ult10meses', 'cod_instit_financiera_18_saldoSum_ult2meses', 'condicion_1_saldoMin_ult2meses', 'cod_instit_financiera_28_saldoMean_ult1meses', 'condicion_1_saldoUnique_ult3meses', 'cod_instit_financiera_54_saldoMin_ult3meses', 'tipo_credito_11_saldoMedian_ult9meses', 'RIESGO_DIRECTO_-1_saldoMax_ult2meses', 'condicion_1_saldoStd_ult2meses', 'tipo_credito_10_saldoSum_ult9meses', 'tipo_credito_9_saldoMin_ult3meses', 'tipo_credito_12_saldoMean_ult5meses', 'COD_CLASIFICACION_DEUDOR_0_saldoUnique_ult10meses', 'PRODUCTO_7_saldoSum_ult1meses', 'cod_instit_financiera_32_saldoMin_ult3meses', 'cod_instit_financiera_28_saldoSum_ult1meses', 'COD_CLASIFICACION_DEUDOR_1_saldoMin_ult9meses', 'cod_instit_financiera_2_saldoUnique_ult1meses', 'RIESGO_DIRECTO_1_saldoUnique_ult5meses', 'cod_instit_financiera_28_saldoSum_ult3meses', 'cod_instit_financiera_19_saldoMax_ult2meses', 'RIESGO_DIRECTO_3_saldoMean_ult9meses', 'condicion_1_saldoSum_ult2meses', 'RIESGO_DIRECTO_-1_saldoStd_ult2meses', 'cod_instit_financiera_11_saldoMax_ult1meses', 'cod_instit_financiera_17_saldoMax_ult12meses', 'cod_instit_financiera_36_saldoSum_ult3meses', 'COD_CLASIFICACION_DEUDOR_3_saldoMedian_ult12meses', 'condicion_1_saldoMedian_ult4meses', 'cod_instit_financiera_11_saldoMean_ult2meses', 'cod_instit_financiera_32_saldoStd_ult3meses', 'cod_instit_financiera_16_saldoUnique_ult12meses', 'cod_instit_financiera_36_saldoStd_ult3meses', 'tipo_credito_11_saldoSum_ult7meses', 'cod_instit_financiera_2_saldoMax_ult12meses', 'tipo_credito_11_saldoSum_ult5meses', 'PRODUCTO_12_saldoUnique_ult12meses', 'condicion_0_saldoMean_ult4meses', 'RIESGO_DIRECTO_-1_saldoMax_ult7meses', 'PRODUCTO_13_saldoSum_ult1meses', 'RIESGO_DIRECTO_1_saldoMean_ult8meses', 'cod_instit_financiera_36_saldoMedian_ult1meses', 'PRODUCTO_7_saldoMedian_ult1meses', 'tipo_credito_9_saldoMedian_ult12meses', 'cod_instit_financiera_13_saldoMin_ult2meses', 'cod_instit_financiera_28_saldoMean_ult2meses', 'tipo_credito_12_saldoUnique_ult6meses', 'RIESGO_DIRECTO_2_saldoMax_ult2meses', 'cod_instit_financiera_34_saldoMax_ult3meses', 'tipo_credito_9_saldoStd_ult1meses', 'cod_instit_financiera_33_saldoMedian_ult3meses', 'RIESGO_DIRECTO_1_saldoUnique_ult4meses', 'RIESGO_DIRECTO_1_saldoMax_ult5meses', 'PRODUCTO_7_saldoStd_ult3meses', 'cod_instit_financiera_36_saldoMean_ult2meses', 'PRODUCTO_15_saldoStd_ult1meses', 'cod_instit_financiera_55_saldoMean_ult2meses', 'cod_instit_financiera_1_saldoUnique_ult2meses', 'tipo_credito_11_saldoUnique_ult5meses', 'cod_instit_financiera_1_saldoMean_ult1meses', 'cod_instit_financiera_1_saldoStd_ult1meses', 'cod_instit_financiera_37_saldoMedian_ult3meses', 'cod_instit_financiera_17_saldoMin_ult12meses', 'condicion_3_saldoMean_ult12meses', 'cod_instit_financiera_41_saldoSum_ult1meses', 'RIESGO_DIRECTO_-1_saldoSum_ult10meses', 'cod_instit_financiera_2_saldoMedian_ult2meses', 'COD_CLASIFICACION_DEUDOR_0_saldoUnique_ult9meses', 'tipo_credito_11_saldoUnique_ult4meses', 'COD_CLASIFICACION_DEUDOR_0_saldoSum_ult5meses', 'cod_instit_financiera_55_saldoUnique_ult3meses', 'condicion_0_saldoSum_ult8meses', 'PRODUCTO_mode_ult3mes', 'condicion_5_saldoStd_ult12meses', 'condicion_2_saldoMin_ult3meses', 'RIESGO_DIRECTO_1_saldoMax_ult6meses', 'RIESGO_DIRECTO_-1_saldoStd_ult7meses', 'cod_instit_financiera_3_saldoMax_ult2meses', 'condicion_1_saldoUnique_ult2meses', 'condicion_9_saldoUnique_ult12meses', 'cod_instit_financiera_33_saldoStd_ult3meses', 'condicion_1_saldoMean_ult10meses', 'tipo_credito_10_saldoMean_ult5meses', 'tipo_credito_10_saldoStd_ult2meses', 'PRODUCTO_9_saldoMean_ult12meses', 'condicion_1_saldoMax_ult10meses', 'PRODUCTO_20_saldoSum_ult3meses', 'cod_instit_financiera_17_saldoMedian_ult1meses', 'condicion_0_saldoUnique_ult6meses', 'cod_instit_financiera_11_saldoMax_ult12meses', 'cod_instit_financiera_46_saldoMean_ult3meses', 'COD_CLASIFICACION_DEUDOR_1_saldoStd_ult3meses', 'condicion_3_saldoSum_ult11meses', 'condicion_4_saldoStd_ult9meses', 'PRODUCTO_15_saldoMean_ult2meses', 'cod_instit_financiera_28_saldoUnique_ult3meses', 'cod_instit_financiera_61_saldoMean_ult12meses', 'COD_CLASIFICACION_DEUDOR_1_saldoMax_ult1meses', 'cod_instit_financiera_11_saldoStd_ult1meses', 'PRODUCTO_13_saldoMin_ult3meses', 'PRODUCTO_9_saldoUnique_ult3meses', 'PRODUCTO_29_saldoMax_ult3meses', 'cod_instit_financiera_8_saldoMin_ult3meses', 'PRODUCTO_0_saldoUnique_ult3meses', 'tipo_credito_11_saldoMean_ult3meses', 'cod_instit_financiera_36_saldoSum_ult12meses', 'tipo_credito_11_saldoStd_ult10meses', 'cod_instit_financiera_18_saldoMin_ult2meses', 'tipo_credito_11_saldoMean_ult2meses', 'cod_instit_financiera_8_saldoUnique_ult3meses', 'PRODUCTO_21_saldoMin_ult12meses', 'PRODUCTO_mode_ult7mes', 'cod_instit_financiera_20_saldoMean_ult3meses', 'cod_instit_financiera_46_saldoSum_ult3meses', 'tipo_credito_11_saldoMean_ult10meses', 'PRODUCTO_4_saldoMean_ult1meses', 'cod_instit_financiera_63_saldoSum_ult1meses', 'tipo_credito_11_saldoMedian_ult6meses', 'cod_instit_financiera_21_saldoMean_ult3meses', 'ciiu_nunique', 'PRODUCTO_5_saldoMedian_ult2meses', 'tipo_credito_10_saldoMedian_ult7meses', 'cod_instit_financiera_57_saldoMedian_ult1meses', 'condicion_0_saldoSum_ult5meses', 'cod_instit_financiera_37_saldoMax_ult3meses', 'condicion_2_saldoStd_ult3meses', 'COD_CLASIFICACION_DEUDOR_0_saldoMax_ult2meses', 'tipo_credito_13_saldoMedian_ult2meses', 'cod_instit_financiera_8_saldoMean_ult3meses', 'cod_instit_financiera_37_saldoStd_ult2meses', 'RIESGO_DIRECTO_2_saldoMedian_ult11meses', 'cod_instit_financiera_37_saldoUnique_ult3meses', 'cod_instit_financiera_18_saldoStd_ult3meses', 'cod_instit_financiera_0_saldoMedian_ult1meses', 'cod_instit_financiera_36_saldoMax_ult12meses', 'COD_CLASIFICACION_DEUDOR_3_saldoMedian_ult4meses', 'condicion_2_saldoMin_ult10meses', 'cod_instit_financiera_36_saldoMedian_ult12meses', 'PRODUCTO_11_saldoUnique_ult3meses', 'COD_CLASIFICACION_DEUDOR_0_saldoMean_ult7meses', 'condicion_7_saldoMin_ult12meses', 'tipo_credito_10_saldoMin_ult6meses', 'COD_CLASIFICACION_DEUDOR_2_saldoMax_ult12meses', 'tipo_credito_11_saldoMin_ult9meses', 'cod_instit_financiera_36_saldoMedian_ult3meses', 'cod_instit_financiera_36_saldoMax_ult2meses', 'PRODUCTO_12_saldoSum_ult1meses', 'condicion_1_saldoMin_ult11meses', 'COD_CLASIFICACION_DEUDOR_2_saldoStd_ult5meses', 'COD_CLASIFICACION_DEUDOR_0_saldoMean_ult11meses', 'condicion_4_saldoStd_ult11meses',\n",
    "'cod_instit_financiera_54_saldoMin_ult12meses', 'condicion_4_saldoMin_ult7meses', 'cod_instit_financiera_min_ult7mes', 'cod_instit_financiera_57_saldoMean_ult12meses', 'cod_instit_financiera_57_saldoMean_ult3meses', 'cod_instit_financiera_61_saldoMax_ult2meses', 'cod_instit_financiera_1_saldoStd_ult3meses', 'cod_instit_financiera_20_saldoUnique_ult3meses', 'condicion_3_saldoMedian_ult10meses', 'PRODUCTO_5_saldoMedian_ult3meses', 'cod_instit_financiera_10_saldoMean_ult2meses', 'cod_instit_financiera_46_saldoMin_ult3meses', 'cod_instit_financiera_mode_ult10mes', 'condicion_1_saldoUnique_ult8meses', 'tipo_credito_11_saldoUnique_ult3meses', 'tipo_credito_10_saldoMax_ult12meses', 'cod_instit_financiera_28_saldoMax_ult3meses', 'condicion_3_saldoMin_ult4meses', 'condicion_4_saldoMedian_ult12meses', 'COD_CLASIFICACION_DEUDOR_0_saldoStd_ult8meses', 'COD_CLASIFICACION_DEUDOR_0_saldoMax_ult4meses', 'tipo_credito_10_saldoMin_ult9meses', 'PRODUCTO_10_saldoMin_ult1meses', 'PRODUCTO_13_saldoMin_ult2meses', 'cod_instit_financiera_18_saldoMedian_ult1meses', 'tipo_credito_13_saldoMin_ult2meses', 'cod_instit_financiera_15_saldoMedian_ult3meses', 'cod_instit_financiera_19_saldoMean_ult3meses', 'cod_instit_financiera_61_saldoMax_ult1meses', 'PRODUCTO_9_saldoMax_ult3meses', 'cod_instit_financiera_55_saldoMin_ult2meses', 'cod_instit_financiera_63_saldoMax_ult3meses', 'cod_instit_financiera_41_saldoMax_ult3meses', 'cod_instit_financiera_22_saldoSum_ult3meses', 'cod_instit_financiera_62_saldoMin_ult2meses', 'cod_instit_financiera_7_saldoMedian_ult2meses', 'PRODUCTO_8_saldoUnique_ult3meses', 'cod_instit_financiera_29_saldoMin_ult3meses', 'cod_instit_financiera_61_saldoMin_ult12meses', 'cod_instit_financiera_3_saldoMin_ult1meses', 'cod_instit_financiera_13_saldoMean_ult2meses', 'cod_instit_financiera_2_saldoMax_ult1meses', 'condicion_0_saldoUnique_ult2meses', 'cod_instit_financiera_max_ult10mes', 'tipo_credito_9_saldoMedian_ult8meses', 'RIESGO_DIRECTO_-1_saldoStd_ult11meses', 'cod_instit_financiera_0_saldoMedian_ult2meses', 'PRODUCTO_10_saldoMean_ult2meses', 'cod_instit_financiera_3_saldoStd_ult3meses', 'COD_CLASIFICACION_DEUDOR_0_saldoSum_ult10meses', 'cod_instit_financiera_28_saldoStd_ult2meses', 'cod_instit_financiera_34_saldoStd_ult3meses', 'PRODUCTO_3_saldoUnique_ult3meses', 'cod_instit_financiera_11_saldoMax_ult2meses', 'cod_instit_financiera_57_saldoMax_ult1meses', 'PRODUCTO_16_saldoStd_ult3meses', 'tipo_credito_10_saldoStd_ult7meses', 'cod_instit_financiera_3_saldoMin_ult2meses', 'cod_instit_financiera_2_saldoMean_ult3meses', 'cod_instit_financiera_38_saldoStd_ult1meses', 'cod_instit_financiera_8_saldoMax_ult3meses', 'cod_instit_financiera_20_saldoMedian_ult1meses', 'cod_instit_financiera_55_saldoMean_ult1meses', 'PRODUCTO_7_saldoMean_ult2meses', 'cod_instit_financiera_55_saldoStd_ult3meses', 'PRODUCTO_5_saldoMax_ult2meses', 'PRODUCTO_9_saldoMin_ult1meses', 'PRODUCTO_12_saldoMin_ult3meses', 'cod_instit_financiera_0_saldoMedian_ult3meses', 'cod_instit_financiera_10_saldoMax_ult3meses', 'condicion_0_saldoSum_ult6meses', 'PRODUCTO_12_saldoMin_ult2meses', 'cod_instit_financiera_1_saldoMedian_ult1meses', 'RIESGO_DIRECTO_1_saldoMax_ult3meses', 'cod_instit_financiera_8_saldoMin_ult2meses', 'cod_instit_financiera_1_saldoMedian_ult2meses', 'condicion_0_saldoMean_ult7meses', 'RIESGO_DIRECTO_1_saldoMax_ult4meses', 'RIESGO_DIRECTO_2_saldoUnique_ult11meses', 'condicion_0_saldoUnique_ult9meses', 'cod_instit_financiera_15_saldoMin_ult2meses', 'cod_instit_financiera_10_saldoMin_ult3meses', 'cod_instit_financiera_0_saldoUnique_ult3meses', 'cod_instit_financiera_2_saldoStd_ult12meses', 'COD_CLASIFICACION_DEUDOR_1_saldoMax_ult5meses', 'cod_instit_financiera_20_saldoSum_ult2meses', 'cod_instit_financiera_0_saldoStd_ult3meses', 'cod_instit_financiera_20_saldoStd_ult3meses', 'cod_instit_financiera_38_saldoStd_ult12meses', 'PRODUCTO_9_saldoMean_ult2meses', 'cod_instit_financiera_34_saldoMean_ult3meses', 'cod_instit_financiera_29_saldoMedian_ult3meses', 'cod_instit_financiera_33_saldoStd_ult2meses', 'cod_instit_financiera_19_saldoSum_ult2meses', 'cod_instit_financiera_18_saldoMin_ult3meses', 'tipo_credito_11_saldoUnique_ult6meses', 'tipo_credito_10_saldoMax_ult4meses', 'condicion_5_saldoStd_ult10meses', 'cod_instit_financiera_33_saldoMax_ult2meses', 'cod_instit_financiera_21_saldoMax_ult12meses', 'cod_instit_financiera_0_saldoMean_ult2meses', 'cod_instit_financiera_36_saldoMin_ult3meses', 'condicion_2_saldoSum_ult12meses', 'cod_instit_financiera_41_saldoStd_ult2meses', 'COD_CLASIFICACION_DEUDOR_0_saldoMax_ult3meses', 'tipo_credito_9_saldoMedian_ult3meses', 'PRODUCTO_13_saldoUnique_ult3meses', 'cod_instit_financiera_17_saldoMean_ult3meses', 'PRODUCTO_7_saldoMean_ult1meses', 'cod_instit_financiera_10_saldoUnique_ult2meses', 'PRODUCTO_5_saldoUnique_ult3meses', 'PRODUCTO_16_saldoSum_ult3meses', 'cod_instit_financiera_15_saldoMean_ult3meses', 'cod_instit_financiera_19_saldoSum_ult1meses', 'COD_CLASIFICACION_DEUDOR_5_saldoUnique_ult2meses', 'COD_CLASIFICACION_DEUDOR_3_saldoMin_ult9meses', 'cod_instit_financiera_62_saldoMean_ult3meses', 'cod_instit_financiera_3_saldoMedian_ult3meses', 'cod_instit_financiera_55_saldoMin_ult3meses', 'condicion_1_saldoMean_ult7meses', 'cod_instit_financiera_61_saldoMedian_ult2meses', 'cod_instit_financiera_7_saldoMin_ult3meses', 'PRODUCTO_13_saldoMedian_ult2meses', 'cod_instit_financiera_20_saldoSum_ult3meses', 'cod_instit_financiera_37_saldoMean_ult12meses', 'COD_CLASIFICACION_DEUDOR_0_saldoMedian_ult10meses', 'PRODUCTO_13_saldoMax_ult2meses', 'cod_instit_financiera_19_saldoMax_ult3meses', 'cod_instit_financiera_37_saldoMax_ult2meses', 'cod_instit_financiera_2_saldoMin_ult3meses', 'cod_instit_financiera_55_saldoSum_ult3meses', 'PRODUCTO_13_saldoMedian_ult1meses', 'cod_instit_financiera_34_saldoMax_ult2meses', 'cod_instit_financiera_57_saldoUnique_ult3meses', 'cod_instit_financiera_55_saldoUnique_ult2meses', 'PRODUCTO_5_saldoMax_ult3meses', 'cod_instit_financiera_56_saldoMean_ult3meses', 'cod_instit_financiera_18_saldoMin_ult1meses', 'cod_instit_financiera_11_saldoStd_ult3meses', 'cod_instit_financiera_25_saldoMean_ult3meses']"
   ]
  },
  {
   "cell_type": "markdown",
   "metadata": {
    "papermill": {
     "duration": 0.033709,
     "end_time": "2021-02-14T03:32:57.882172",
     "exception": false,
     "start_time": "2021-02-14T03:32:57.848463",
     "status": "completed"
    },
    "tags": []
   },
   "source": [
    "## Cargar la variable Target"
   ]
  },
  {
   "cell_type": "code",
   "execution_count": 13,
   "metadata": {
    "execution": {
     "iopub.execute_input": "2021-02-14T03:32:57.956793Z",
     "iopub.status.busy": "2021-02-14T03:32:57.956000Z",
     "iopub.status.idle": "2021-02-14T03:32:58.130784Z",
     "shell.execute_reply": "2021-02-14T03:32:58.131241Z"
    },
    "papermill": {
     "duration": 0.215018,
     "end_time": "2021-02-14T03:32:58.131521",
     "exception": false,
     "start_time": "2021-02-14T03:32:57.916503",
     "status": "completed"
    },
    "tags": []
   },
   "outputs": [],
   "source": [
    "path = '../data'\n",
    "y_train = pd.read_csv(f'{path}/y_train.csv', index_col = 'key_value')"
   ]
  },
  {
   "cell_type": "code",
   "execution_count": 14,
   "metadata": {
    "execution": {
     "iopub.execute_input": "2021-02-14T03:32:58.205232Z",
     "iopub.status.busy": "2021-02-14T03:32:58.204327Z",
     "iopub.status.idle": "2021-02-14T03:32:58.375911Z",
     "shell.execute_reply": "2021-02-14T03:32:58.374951Z"
    },
    "papermill": {
     "duration": 0.210785,
     "end_time": "2021-02-14T03:32:58.376071",
     "exception": false,
     "start_time": "2021-02-14T03:32:58.165286",
     "status": "completed"
    },
    "tags": []
   },
   "outputs": [
    {
     "data": {
      "image/png": "[encoded data removed]",
      "text/plain": [
       "<Figure size 432x288 with 1 Axes>"
      ]
     },
     "metadata": {},
     "output_type": "display_data"
    }
   ],
   "source": [
    "y_train.value_counts().plot(kind='pie', autopct='%1.0f%%');"
   ]
  },
  {
   "cell_type": "markdown",
   "metadata": {
    "papermill": {
     "duration": 0.034252,
     "end_time": "2021-02-14T03:32:58.445024",
     "exception": false,
     "start_time": "2021-02-14T03:32:58.410772",
     "status": "completed"
    },
    "tags": []
   },
   "source": [
    "## Procesar RCC"
   ]
  },
  {
   "cell_type": "code",
   "execution_count": 15,
   "metadata": {
    "execution": {
     "iopub.execute_input": "2021-02-14T03:32:58.520267Z",
     "iopub.status.busy": "2021-02-14T03:32:58.519622Z",
     "iopub.status.idle": "2021-02-14T03:34:20.841784Z",
     "shell.execute_reply": "2021-02-14T03:34:20.841086Z"
    },
    "papermill": {
     "duration": 82.361083,
     "end_time": "2021-02-14T03:34:20.841951",
     "exception": false,
     "start_time": "2021-02-14T03:32:58.480868",
     "status": "completed"
    },
    "tags": []
   },
   "outputs": [],
   "source": [
    "rcc_train = pd.read_csv(f'{path}/rcc_train.csv')\n",
    "rcc_test = pd.read_csv(f'{path}/rcc_test.csv')"
   ]
  },
  {
   "cell_type": "code",
   "execution_count": 16,
   "metadata": {
    "execution": {
     "iopub.execute_input": "2021-02-14T03:34:20.919721Z",
     "iopub.status.busy": "2021-02-14T03:34:20.918696Z",
     "iopub.status.idle": "2021-02-14T03:34:22.162142Z",
     "shell.execute_reply": "2021-02-14T03:34:22.161468Z"
    },
    "papermill": {
     "duration": 1.285512,
     "end_time": "2021-02-14T03:34:22.162283",
     "exception": false,
     "start_time": "2021-02-14T03:34:20.876771",
     "status": "completed"
    },
    "tags": []
   },
   "outputs": [],
   "source": [
    "##### inputar datos faltantes en la base de rcc_test\n",
    "rcc_test['cod_instit_financiera'].fillna(rcc_test['cod_instit_financiera'].value_counts().index[0], inplace=True)\n",
    "rcc_test['PRODUCTO'].fillna(rcc_test['PRODUCTO'].value_counts().index[0], inplace=True)"
   ]
  },
  {
   "cell_type": "code",
   "execution_count": 17,
   "metadata": {
    "execution": {
     "iopub.execute_input": "2021-02-14T03:34:22.238620Z",
     "iopub.status.busy": "2021-02-14T03:34:22.237396Z",
     "iopub.status.idle": "2021-02-14T03:34:24.327522Z",
     "shell.execute_reply": "2021-02-14T03:34:24.326876Z"
    },
    "papermill": {
     "duration": 2.130769,
     "end_time": "2021-02-14T03:34:24.327672",
     "exception": false,
     "start_time": "2021-02-14T03:34:22.196903",
     "status": "completed"
    },
    "tags": []
   },
   "outputs": [],
   "source": [
    "dict_ = {'codmes': 'int32',\n",
    " 'key_value': 'int32',\n",
    " 'condicion': 'int32',\n",
    " 'tipo_credito': 'int32',\n",
    " 'cod_instit_financiera': 'int32',\n",
    " 'PRODUCTO': 'int32',\n",
    " 'RIESGO_DIRECTO': 'int32',\n",
    " 'COD_CLASIFICACION_DEUDOR': 'int32'}\n",
    "rcc_train = rcc_train.astype(dict_)\n",
    "rcc_test = rcc_test.astype(dict_)"
   ]
  },
  {
   "cell_type": "code",
   "execution_count": 18,
   "metadata": {
    "execution": {
     "iopub.execute_input": "2021-02-14T03:34:24.407458Z",
     "iopub.status.busy": "2021-02-14T03:34:24.406086Z",
     "iopub.status.idle": "2021-02-14T03:34:26.551806Z",
     "shell.execute_reply": "2021-02-14T03:34:26.551200Z"
    },
    "papermill": {
     "duration": 2.18961,
     "end_time": "2021-02-14T03:34:26.551948",
     "exception": false,
     "start_time": "2021-02-14T03:34:24.362338",
     "status": "completed"
    },
    "tags": []
   },
   "outputs": [],
   "source": [
    "##### categorizar la variable condicion\n",
    "bins = [-1, 0, 10, 20, 30, 60, 90, 180, 360, 720, float(\"inf\")]\n",
    "rcc_train[\"condicion\"] = pd.cut(rcc_train.condicion, bins)\n",
    "rcc_train[\"condicion\"] = rcc_train[\"condicion\"].cat.codes\n",
    "rcc_test[\"condicion\"] = pd.cut(rcc_test.condicion, bins)\n",
    "rcc_test[\"condicion\"] = rcc_test[\"condicion\"].cat.codes"
   ]
  },
  {
   "cell_type": "code",
   "execution_count": 19,
   "metadata": {
    "execution": {
     "iopub.execute_input": "2021-02-14T03:34:26.627682Z",
     "iopub.status.busy": "2021-02-14T03:34:26.626761Z",
     "iopub.status.idle": "2021-02-14T03:34:26.630424Z",
     "shell.execute_reply": "2021-02-14T03:34:26.629871Z"
    },
    "papermill": {
     "duration": 0.043884,
     "end_time": "2021-02-14T03:34:26.630578",
     "exception": false,
     "start_time": "2021-02-14T03:34:26.586694",
     "status": "completed"
    },
    "tags": []
   },
   "outputs": [],
   "source": [
    "def get_filter_columns(df):\n",
    "    keep_columns = set(keep_columns_final).intersection(set(df.columns))\n",
    "    return df[keep_columns]"
   ]
  },
  {
   "cell_type": "code",
   "execution_count": 20,
   "metadata": {
    "execution": {
     "iopub.execute_input": "2021-02-14T03:34:26.708949Z",
     "iopub.status.busy": "2021-02-14T03:34:26.708069Z",
     "iopub.status.idle": "2021-02-14T03:34:26.711429Z",
     "shell.execute_reply": "2021-02-14T03:34:26.711949Z"
    },
    "papermill": {
     "duration": 0.046377,
     "end_time": "2021-02-14T03:34:26.712124",
     "exception": false,
     "start_time": "2021-02-14T03:34:26.665747",
     "status": "completed"
    },
    "tags": []
   },
   "outputs": [],
   "source": [
    "### definir las variables que seran agregadas\n",
    "moda=lambda x: calculate_mode(x)\n",
    "moda.__name__='mode'\n",
    "agg_rcc = {'cod_instit_financiera':['nunique','min','max',moda],\n",
    "           'PRODUCTO':['nunique','min','max',moda],\n",
    "          }\n",
    "def get_aggregate(df, desde,n):\n",
    "    print(f'haciendo aggregate de cod_instit_financiera y Producto desde {desde}')\n",
    "    df_result = df[df.codmes>=desde].groupby('key_value').agg(agg_rcc)\n",
    "    df_result.columns = [feature+'_'+agg+f'_ult{n+1}mes' for feature, agg in df_result.columns]   \n",
    "    df_result = get_filter_columns(df_result)\n",
    "    gc.collect()  \n",
    "    return df_result"
   ]
  },
  {
   "cell_type": "code",
   "execution_count": 21,
   "metadata": {
    "execution": {
     "iopub.execute_input": "2021-02-14T03:34:26.795576Z",
     "iopub.status.busy": "2021-02-14T03:34:26.794498Z",
     "iopub.status.idle": "2021-02-14T03:34:26.797847Z",
     "shell.execute_reply": "2021-02-14T03:34:26.797276Z"
    },
    "papermill": {
     "duration": 0.05084,
     "end_time": "2021-02-14T03:34:26.797987",
     "exception": false,
     "start_time": "2021-02-14T03:34:26.747147",
     "status": "completed"
    },
    "tags": []
   },
   "outputs": [],
   "source": [
    "def get_unstack(df, feature, desde, n, func):\n",
    "    print(f'haciendo unstack de {feature} desde {desde} con la funcion de agregacion {func}')\n",
    "    if func =='Sum':\n",
    "        df_result = df[df.codmes>=desde].groupby(['key_value', feature]).saldo.sum().unstack(level = 1, fill_value=np.nan)\n",
    "    if func == 'Unique':\n",
    "        df_result = df[df.codmes>=desde].groupby(['key_value', feature]).saldo.size().unstack(level = 1, fill_value=np.nan)\n",
    "    if func == 'Min':\n",
    "        df_result = df[df.codmes>=desde].groupby(['key_value', feature]).saldo.min().unstack(level = 1, fill_value=np.nan)\n",
    "    if func == 'Max':\n",
    "        df_result = df[df.codmes>=desde].groupby(['key_value', feature]).saldo.max().unstack(level = 1, fill_value=np.nan)\n",
    "    if func == 'Std':\n",
    "        df_result = df[df.codmes>=desde].groupby(['key_value', feature]).saldo.std().unstack(level = 1, fill_value=np.nan)\n",
    "    if func == 'Mean':\n",
    "        df_result = df[df.codmes>=desde].groupby(['key_value', feature]).saldo.mean().unstack(level = 1, fill_value=np.nan)\n",
    "    if func == 'Median':\n",
    "        df_result = df[df.codmes>=desde].groupby(['key_value', feature]).saldo.median().unstack(level = 1, fill_value=np.nan)\n",
    "    df_result.columns = [f'{df_result.columns.name}_{value}_saldo{func}_ult{n+1}meses' for value in df_result.columns]\n",
    "\n",
    "    df_result = get_filter_columns(df_result)    \n",
    "    gc.collect()      \n",
    "    return df_result"
   ]
  },
  {
   "cell_type": "code",
   "execution_count": 22,
   "metadata": {
    "execution": {
     "iopub.execute_input": "2021-02-14T03:34:31.573435Z",
     "iopub.status.busy": "2021-02-14T03:34:31.572001Z",
     "iopub.status.idle": "2021-02-14T03:56:53.154417Z",
     "shell.execute_reply": "2021-02-14T03:56:53.154921Z"
    },
    "papermill": {
     "duration": 1346.321913,
     "end_time": "2021-02-14T03:56:53.155112",
     "exception": false,
     "start_time": "2021-02-14T03:34:26.833199",
     "status": "completed"
    },
    "tags": []
   },
   "outputs": [
    {
     "name": "stdout",
     "output_type": "stream",
     "text": [
      "haciendo unstack de tipo_credito desde 201802 con la funcion de agregacion Sum\n",
      "haciendo unstack de tipo_credito desde 201802 con la funcion de agregacion Unique\n",
      "haciendo unstack de tipo_credito desde 201802 con la funcion de agregacion Min\n",
      "haciendo unstack de tipo_credito desde 201802 con la funcion de agregacion Max\n",
      "haciendo unstack de tipo_credito desde 201802 con la funcion de agregacion Std\n",
      "haciendo unstack de tipo_credito desde 201802 con la funcion de agregacion Mean\n",
      "haciendo unstack de tipo_credito desde 201802 con la funcion de agregacion Median\n",
      "haciendo unstack de RIESGO_DIRECTO desde 201802 con la funcion de agregacion Sum\n",
      "haciendo unstack de RIESGO_DIRECTO desde 201802 con la funcion de agregacion Unique\n",
      "haciendo unstack de RIESGO_DIRECTO desde 201802 con la funcion de agregacion Min\n",
      "haciendo unstack de RIESGO_DIRECTO desde 201802 con la funcion de agregacion Max\n",
      "haciendo unstack de RIESGO_DIRECTO desde 201802 con la funcion de agregacion Std\n",
      "haciendo unstack de RIESGO_DIRECTO desde 201802 con la funcion de agregacion Mean\n",
      "haciendo unstack de RIESGO_DIRECTO desde 201802 con la funcion de agregacion Median\n",
      "haciendo unstack de COD_CLASIFICACION_DEUDOR desde 201802 con la funcion de agregacion Sum\n",
      "haciendo unstack de COD_CLASIFICACION_DEUDOR desde 201802 con la funcion de agregacion Unique\n",
      "haciendo unstack de COD_CLASIFICACION_DEUDOR desde 201802 con la funcion de agregacion Min\n",
      "haciendo unstack de COD_CLASIFICACION_DEUDOR desde 201802 con la funcion de agregacion Max\n",
      "haciendo unstack de COD_CLASIFICACION_DEUDOR desde 201802 con la funcion de agregacion Std\n",
      "haciendo unstack de COD_CLASIFICACION_DEUDOR desde 201802 con la funcion de agregacion Mean\n",
      "haciendo unstack de COD_CLASIFICACION_DEUDOR desde 201802 con la funcion de agregacion Median\n",
      "haciendo unstack de condicion desde 201802 con la funcion de agregacion Sum\n",
      "haciendo unstack de condicion desde 201802 con la funcion de agregacion Unique\n",
      "haciendo unstack de condicion desde 201802 con la funcion de agregacion Min\n",
      "haciendo unstack de condicion desde 201802 con la funcion de agregacion Max\n",
      "haciendo unstack de condicion desde 201802 con la funcion de agregacion Std\n",
      "haciendo unstack de condicion desde 201802 con la funcion de agregacion Mean\n",
      "haciendo unstack de condicion desde 201802 con la funcion de agregacion Median\n",
      "haciendo aggregate de cod_instit_financiera y Producto desde 201802\n",
      "haciendo unstack de tipo_credito desde 201801 con la funcion de agregacion Sum\n",
      "haciendo unstack de tipo_credito desde 201801 con la funcion de agregacion Unique\n",
      "haciendo unstack de tipo_credito desde 201801 con la funcion de agregacion Min\n",
      "haciendo unstack de tipo_credito desde 201801 con la funcion de agregacion Max\n",
      "haciendo unstack de tipo_credito desde 201801 con la funcion de agregacion Std\n",
      "haciendo unstack de tipo_credito desde 201801 con la funcion de agregacion Mean\n",
      "haciendo unstack de tipo_credito desde 201801 con la funcion de agregacion Median\n",
      "haciendo unstack de RIESGO_DIRECTO desde 201801 con la funcion de agregacion Sum\n",
      "haciendo unstack de RIESGO_DIRECTO desde 201801 con la funcion de agregacion Unique\n",
      "haciendo unstack de RIESGO_DIRECTO desde 201801 con la funcion de agregacion Min\n",
      "haciendo unstack de RIESGO_DIRECTO desde 201801 con la funcion de agregacion Max\n",
      "haciendo unstack de RIESGO_DIRECTO desde 201801 con la funcion de agregacion Std\n",
      "haciendo unstack de RIESGO_DIRECTO desde 201801 con la funcion de agregacion Mean\n",
      "haciendo unstack de RIESGO_DIRECTO desde 201801 con la funcion de agregacion Median\n",
      "haciendo unstack de COD_CLASIFICACION_DEUDOR desde 201801 con la funcion de agregacion Sum\n",
      "haciendo unstack de COD_CLASIFICACION_DEUDOR desde 201801 con la funcion de agregacion Unique\n",
      "haciendo unstack de COD_CLASIFICACION_DEUDOR desde 201801 con la funcion de agregacion Min\n",
      "haciendo unstack de COD_CLASIFICACION_DEUDOR desde 201801 con la funcion de agregacion Max\n",
      "haciendo unstack de COD_CLASIFICACION_DEUDOR desde 201801 con la funcion de agregacion Std\n",
      "haciendo unstack de COD_CLASIFICACION_DEUDOR desde 201801 con la funcion de agregacion Mean\n",
      "haciendo unstack de COD_CLASIFICACION_DEUDOR desde 201801 con la funcion de agregacion Median\n",
      "haciendo unstack de condicion desde 201801 con la funcion de agregacion Sum\n",
      "haciendo unstack de condicion desde 201801 con la funcion de agregacion Unique\n",
      "haciendo unstack de condicion desde 201801 con la funcion de agregacion Min\n",
      "haciendo unstack de condicion desde 201801 con la funcion de agregacion Max\n",
      "haciendo unstack de condicion desde 201801 con la funcion de agregacion Std\n",
      "haciendo unstack de condicion desde 201801 con la funcion de agregacion Mean\n",
      "haciendo unstack de condicion desde 201801 con la funcion de agregacion Median\n",
      "haciendo aggregate de cod_instit_financiera y Producto desde 201801\n",
      "haciendo unstack de tipo_credito desde 201712 con la funcion de agregacion Sum\n",
      "haciendo unstack de tipo_credito desde 201712 con la funcion de agregacion Unique\n",
      "haciendo unstack de tipo_credito desde 201712 con la funcion de agregacion Min\n",
      "haciendo unstack de tipo_credito desde 201712 con la funcion de agregacion Max\n",
      "haciendo unstack de tipo_credito desde 201712 con la funcion de agregacion Std\n",
      "haciendo unstack de tipo_credito desde 201712 con la funcion de agregacion Mean\n",
      "haciendo unstack de tipo_credito desde 201712 con la funcion de agregacion Median\n",
      "haciendo unstack de RIESGO_DIRECTO desde 201712 con la funcion de agregacion Sum\n",
      "haciendo unstack de RIESGO_DIRECTO desde 201712 con la funcion de agregacion Unique\n",
      "haciendo unstack de RIESGO_DIRECTO desde 201712 con la funcion de agregacion Min\n",
      "haciendo unstack de RIESGO_DIRECTO desde 201712 con la funcion de agregacion Max\n",
      "haciendo unstack de RIESGO_DIRECTO desde 201712 con la funcion de agregacion Std\n",
      "haciendo unstack de RIESGO_DIRECTO desde 201712 con la funcion de agregacion Mean\n",
      "haciendo unstack de RIESGO_DIRECTO desde 201712 con la funcion de agregacion Median\n",
      "haciendo unstack de COD_CLASIFICACION_DEUDOR desde 201712 con la funcion de agregacion Sum\n",
      "haciendo unstack de COD_CLASIFICACION_DEUDOR desde 201712 con la funcion de agregacion Unique\n",
      "haciendo unstack de COD_CLASIFICACION_DEUDOR desde 201712 con la funcion de agregacion Min\n",
      "haciendo unstack de COD_CLASIFICACION_DEUDOR desde 201712 con la funcion de agregacion Max\n",
      "haciendo unstack de COD_CLASIFICACION_DEUDOR desde 201712 con la funcion de agregacion Std\n",
      "haciendo unstack de COD_CLASIFICACION_DEUDOR desde 201712 con la funcion de agregacion Mean\n",
      "haciendo unstack de COD_CLASIFICACION_DEUDOR desde 201712 con la funcion de agregacion Median\n",
      "haciendo unstack de condicion desde 201712 con la funcion de agregacion Sum\n",
      "haciendo unstack de condicion desde 201712 con la funcion de agregacion Unique\n",
      "haciendo unstack de condicion desde 201712 con la funcion de agregacion Min\n",
      "haciendo unstack de condicion desde 201712 con la funcion de agregacion Max\n",
      "haciendo unstack de condicion desde 201712 con la funcion de agregacion Std\n",
      "haciendo unstack de condicion desde 201712 con la funcion de agregacion Mean\n",
      "haciendo unstack de condicion desde 201712 con la funcion de agregacion Median\n",
      "haciendo aggregate de cod_instit_financiera y Producto desde 201712\n",
      "haciendo unstack de tipo_credito desde 201711 con la funcion de agregacion Sum\n",
      "haciendo unstack de tipo_credito desde 201711 con la funcion de agregacion Unique\n",
      "haciendo unstack de tipo_credito desde 201711 con la funcion de agregacion Min\n",
      "haciendo unstack de tipo_credito desde 201711 con la funcion de agregacion Max\n",
      "haciendo unstack de tipo_credito desde 201711 con la funcion de agregacion Std\n",
      "haciendo unstack de tipo_credito desde 201711 con la funcion de agregacion Mean\n",
      "haciendo unstack de tipo_credito desde 201711 con la funcion de agregacion Median\n",
      "haciendo unstack de RIESGO_DIRECTO desde 201711 con la funcion de agregacion Sum\n",
      "haciendo unstack de RIESGO_DIRECTO desde 201711 con la funcion de agregacion Unique\n",
      "haciendo unstack de RIESGO_DIRECTO desde 201711 con la funcion de agregacion Min\n",
      "haciendo unstack de RIESGO_DIRECTO desde 201711 con la funcion de agregacion Max\n",
      "haciendo unstack de RIESGO_DIRECTO desde 201711 con la funcion de agregacion Std\n",
      "haciendo unstack de RIESGO_DIRECTO desde 201711 con la funcion de agregacion Mean\n",
      "haciendo unstack de RIESGO_DIRECTO desde 201711 con la funcion de agregacion Median\n",
      "haciendo unstack de COD_CLASIFICACION_DEUDOR desde 201711 con la funcion de agregacion Sum\n",
      "haciendo unstack de COD_CLASIFICACION_DEUDOR desde 201711 con la funcion de agregacion Unique\n",
      "haciendo unstack de COD_CLASIFICACION_DEUDOR desde 201711 con la funcion de agregacion Min\n",
      "haciendo unstack de COD_CLASIFICACION_DEUDOR desde 201711 con la funcion de agregacion Max\n",
      "haciendo unstack de COD_CLASIFICACION_DEUDOR desde 201711 con la funcion de agregacion Std\n",
      "haciendo unstack de COD_CLASIFICACION_DEUDOR desde 201711 con la funcion de agregacion Mean\n",
      "haciendo unstack de COD_CLASIFICACION_DEUDOR desde 201711 con la funcion de agregacion Median\n",
      "haciendo unstack de condicion desde 201711 con la funcion de agregacion Sum\n",
      "haciendo unstack de condicion desde 201711 con la funcion de agregacion Unique\n",
      "haciendo unstack de condicion desde 201711 con la funcion de agregacion Min\n",
      "haciendo unstack de condicion desde 201711 con la funcion de agregacion Max\n",
      "haciendo unstack de condicion desde 201711 con la funcion de agregacion Std\n",
      "haciendo unstack de condicion desde 201711 con la funcion de agregacion Mean\n",
      "haciendo unstack de condicion desde 201711 con la funcion de agregacion Median\n",
      "haciendo aggregate de cod_instit_financiera y Producto desde 201711\n",
      "haciendo unstack de tipo_credito desde 201710 con la funcion de agregacion Sum\n",
      "haciendo unstack de tipo_credito desde 201710 con la funcion de agregacion Unique\n",
      "haciendo unstack de tipo_credito desde 201710 con la funcion de agregacion Min\n",
      "haciendo unstack de tipo_credito desde 201710 con la funcion de agregacion Max\n",
      "haciendo unstack de tipo_credito desde 201710 con la funcion de agregacion Std\n",
      "haciendo unstack de tipo_credito desde 201710 con la funcion de agregacion Mean\n",
      "haciendo unstack de tipo_credito desde 201710 con la funcion de agregacion Median\n",
      "haciendo unstack de RIESGO_DIRECTO desde 201710 con la funcion de agregacion Sum\n",
      "haciendo unstack de RIESGO_DIRECTO desde 201710 con la funcion de agregacion Unique\n",
      "haciendo unstack de RIESGO_DIRECTO desde 201710 con la funcion de agregacion Min\n",
      "haciendo unstack de RIESGO_DIRECTO desde 201710 con la funcion de agregacion Max\n",
      "haciendo unstack de RIESGO_DIRECTO desde 201710 con la funcion de agregacion Std\n",
      "haciendo unstack de RIESGO_DIRECTO desde 201710 con la funcion de agregacion Mean\n",
      "haciendo unstack de RIESGO_DIRECTO desde 201710 con la funcion de agregacion Median\n",
      "haciendo unstack de COD_CLASIFICACION_DEUDOR desde 201710 con la funcion de agregacion Sum\n",
      "haciendo unstack de COD_CLASIFICACION_DEUDOR desde 201710 con la funcion de agregacion Unique\n",
      "haciendo unstack de COD_CLASIFICACION_DEUDOR desde 201710 con la funcion de agregacion Min\n",
      "haciendo unstack de COD_CLASIFICACION_DEUDOR desde 201710 con la funcion de agregacion Max\n",
      "haciendo unstack de COD_CLASIFICACION_DEUDOR desde 201710 con la funcion de agregacion Std\n",
      "haciendo unstack de COD_CLASIFICACION_DEUDOR desde 201710 con la funcion de agregacion Mean\n",
      "haciendo unstack de COD_CLASIFICACION_DEUDOR desde 201710 con la funcion de agregacion Median\n",
      "haciendo unstack de condicion desde 201710 con la funcion de agregacion Sum\n",
      "haciendo unstack de condicion desde 201710 con la funcion de agregacion Unique\n",
      "haciendo unstack de condicion desde 201710 con la funcion de agregacion Min\n",
      "haciendo unstack de condicion desde 201710 con la funcion de agregacion Max\n",
      "haciendo unstack de condicion desde 201710 con la funcion de agregacion Std\n",
      "haciendo unstack de condicion desde 201710 con la funcion de agregacion Mean\n",
      "haciendo unstack de condicion desde 201710 con la funcion de agregacion Median\n",
      "haciendo aggregate de cod_instit_financiera y Producto desde 201710\n",
      "haciendo unstack de tipo_credito desde 201709 con la funcion de agregacion Sum\n",
      "haciendo unstack de tipo_credito desde 201709 con la funcion de agregacion Unique\n",
      "haciendo unstack de tipo_credito desde 201709 con la funcion de agregacion Min\n",
      "haciendo unstack de tipo_credito desde 201709 con la funcion de agregacion Max\n",
      "haciendo unstack de tipo_credito desde 201709 con la funcion de agregacion Std\n",
      "haciendo unstack de tipo_credito desde 201709 con la funcion de agregacion Mean\n",
      "haciendo unstack de tipo_credito desde 201709 con la funcion de agregacion Median\n",
      "haciendo unstack de RIESGO_DIRECTO desde 201709 con la funcion de agregacion Sum\n",
      "haciendo unstack de RIESGO_DIRECTO desde 201709 con la funcion de agregacion Unique\n",
      "haciendo unstack de RIESGO_DIRECTO desde 201709 con la funcion de agregacion Min\n",
      "haciendo unstack de RIESGO_DIRECTO desde 201709 con la funcion de agregacion Max\n",
      "haciendo unstack de RIESGO_DIRECTO desde 201709 con la funcion de agregacion Std\n",
      "haciendo unstack de RIESGO_DIRECTO desde 201709 con la funcion de agregacion Mean\n",
      "haciendo unstack de RIESGO_DIRECTO desde 201709 con la funcion de agregacion Median\n",
      "haciendo unstack de COD_CLASIFICACION_DEUDOR desde 201709 con la funcion de agregacion Sum\n",
      "haciendo unstack de COD_CLASIFICACION_DEUDOR desde 201709 con la funcion de agregacion Unique\n",
      "haciendo unstack de COD_CLASIFICACION_DEUDOR desde 201709 con la funcion de agregacion Min\n",
      "haciendo unstack de COD_CLASIFICACION_DEUDOR desde 201709 con la funcion de agregacion Max\n",
      "haciendo unstack de COD_CLASIFICACION_DEUDOR desde 201709 con la funcion de agregacion Std\n",
      "haciendo unstack de COD_CLASIFICACION_DEUDOR desde 201709 con la funcion de agregacion Mean\n",
      "haciendo unstack de COD_CLASIFICACION_DEUDOR desde 201709 con la funcion de agregacion Median\n",
      "haciendo unstack de condicion desde 201709 con la funcion de agregacion Sum\n",
      "haciendo unstack de condicion desde 201709 con la funcion de agregacion Unique\n",
      "haciendo unstack de condicion desde 201709 con la funcion de agregacion Min\n",
      "haciendo unstack de condicion desde 201709 con la funcion de agregacion Max\n",
      "haciendo unstack de condicion desde 201709 con la funcion de agregacion Std\n",
      "haciendo unstack de condicion desde 201709 con la funcion de agregacion Mean\n",
      "haciendo unstack de condicion desde 201709 con la funcion de agregacion Median\n",
      "haciendo aggregate de cod_instit_financiera y Producto desde 201709\n",
      "haciendo unstack de tipo_credito desde 201708 con la funcion de agregacion Sum\n",
      "haciendo unstack de tipo_credito desde 201708 con la funcion de agregacion Unique\n",
      "haciendo unstack de tipo_credito desde 201708 con la funcion de agregacion Min\n",
      "haciendo unstack de tipo_credito desde 201708 con la funcion de agregacion Max\n",
      "haciendo unstack de tipo_credito desde 201708 con la funcion de agregacion Std\n",
      "haciendo unstack de tipo_credito desde 201708 con la funcion de agregacion Mean\n",
      "haciendo unstack de tipo_credito desde 201708 con la funcion de agregacion Median\n",
      "haciendo unstack de RIESGO_DIRECTO desde 201708 con la funcion de agregacion Sum\n",
      "haciendo unstack de RIESGO_DIRECTO desde 201708 con la funcion de agregacion Unique\n",
      "haciendo unstack de RIESGO_DIRECTO desde 201708 con la funcion de agregacion Min\n",
      "haciendo unstack de RIESGO_DIRECTO desde 201708 con la funcion de agregacion Max\n",
      "haciendo unstack de RIESGO_DIRECTO desde 201708 con la funcion de agregacion Std\n",
      "haciendo unstack de RIESGO_DIRECTO desde 201708 con la funcion de agregacion Mean\n",
      "haciendo unstack de RIESGO_DIRECTO desde 201708 con la funcion de agregacion Median\n",
      "haciendo unstack de COD_CLASIFICACION_DEUDOR desde 201708 con la funcion de agregacion Sum\n",
      "haciendo unstack de COD_CLASIFICACION_DEUDOR desde 201708 con la funcion de agregacion Unique\n",
      "haciendo unstack de COD_CLASIFICACION_DEUDOR desde 201708 con la funcion de agregacion Min\n",
      "haciendo unstack de COD_CLASIFICACION_DEUDOR desde 201708 con la funcion de agregacion Max\n",
      "haciendo unstack de COD_CLASIFICACION_DEUDOR desde 201708 con la funcion de agregacion Std\n",
      "haciendo unstack de COD_CLASIFICACION_DEUDOR desde 201708 con la funcion de agregacion Mean\n",
      "haciendo unstack de COD_CLASIFICACION_DEUDOR desde 201708 con la funcion de agregacion Median\n",
      "haciendo unstack de condicion desde 201708 con la funcion de agregacion Sum\n",
      "haciendo unstack de condicion desde 201708 con la funcion de agregacion Unique\n",
      "haciendo unstack de condicion desde 201708 con la funcion de agregacion Min\n",
      "haciendo unstack de condicion desde 201708 con la funcion de agregacion Max\n",
      "haciendo unstack de condicion desde 201708 con la funcion de agregacion Std\n",
      "haciendo unstack de condicion desde 201708 con la funcion de agregacion Mean\n",
      "haciendo unstack de condicion desde 201708 con la funcion de agregacion Median\n",
      "haciendo aggregate de cod_instit_financiera y Producto desde 201708\n",
      "haciendo unstack de tipo_credito desde 201707 con la funcion de agregacion Sum\n",
      "haciendo unstack de tipo_credito desde 201707 con la funcion de agregacion Unique\n",
      "haciendo unstack de tipo_credito desde 201707 con la funcion de agregacion Min\n",
      "haciendo unstack de tipo_credito desde 201707 con la funcion de agregacion Max\n",
      "haciendo unstack de tipo_credito desde 201707 con la funcion de agregacion Std\n",
      "haciendo unstack de tipo_credito desde 201707 con la funcion de agregacion Mean\n",
      "haciendo unstack de tipo_credito desde 201707 con la funcion de agregacion Median\n",
      "haciendo unstack de RIESGO_DIRECTO desde 201707 con la funcion de agregacion Sum\n",
      "haciendo unstack de RIESGO_DIRECTO desde 201707 con la funcion de agregacion Unique\n",
      "haciendo unstack de RIESGO_DIRECTO desde 201707 con la funcion de agregacion Min\n",
      "haciendo unstack de RIESGO_DIRECTO desde 201707 con la funcion de agregacion Max\n",
      "haciendo unstack de RIESGO_DIRECTO desde 201707 con la funcion de agregacion Std\n",
      "haciendo unstack de RIESGO_DIRECTO desde 201707 con la funcion de agregacion Mean\n",
      "haciendo unstack de RIESGO_DIRECTO desde 201707 con la funcion de agregacion Median\n",
      "haciendo unstack de COD_CLASIFICACION_DEUDOR desde 201707 con la funcion de agregacion Sum\n",
      "haciendo unstack de COD_CLASIFICACION_DEUDOR desde 201707 con la funcion de agregacion Unique\n",
      "haciendo unstack de COD_CLASIFICACION_DEUDOR desde 201707 con la funcion de agregacion Min\n",
      "haciendo unstack de COD_CLASIFICACION_DEUDOR desde 201707 con la funcion de agregacion Max\n",
      "haciendo unstack de COD_CLASIFICACION_DEUDOR desde 201707 con la funcion de agregacion Std\n",
      "haciendo unstack de COD_CLASIFICACION_DEUDOR desde 201707 con la funcion de agregacion Mean\n",
      "haciendo unstack de COD_CLASIFICACION_DEUDOR desde 201707 con la funcion de agregacion Median\n",
      "haciendo unstack de condicion desde 201707 con la funcion de agregacion Sum\n",
      "haciendo unstack de condicion desde 201707 con la funcion de agregacion Unique\n",
      "haciendo unstack de condicion desde 201707 con la funcion de agregacion Min\n",
      "haciendo unstack de condicion desde 201707 con la funcion de agregacion Max\n",
      "haciendo unstack de condicion desde 201707 con la funcion de agregacion Std\n",
      "haciendo unstack de condicion desde 201707 con la funcion de agregacion Mean\n",
      "haciendo unstack de condicion desde 201707 con la funcion de agregacion Median\n",
      "haciendo aggregate de cod_instit_financiera y Producto desde 201707\n",
      "haciendo unstack de tipo_credito desde 201706 con la funcion de agregacion Sum\n",
      "haciendo unstack de tipo_credito desde 201706 con la funcion de agregacion Unique\n",
      "haciendo unstack de tipo_credito desde 201706 con la funcion de agregacion Min\n",
      "haciendo unstack de tipo_credito desde 201706 con la funcion de agregacion Max\n",
      "haciendo unstack de tipo_credito desde 201706 con la funcion de agregacion Std\n",
      "haciendo unstack de tipo_credito desde 201706 con la funcion de agregacion Mean\n",
      "haciendo unstack de tipo_credito desde 201706 con la funcion de agregacion Median\n",
      "haciendo unstack de RIESGO_DIRECTO desde 201706 con la funcion de agregacion Sum\n",
      "haciendo unstack de RIESGO_DIRECTO desde 201706 con la funcion de agregacion Unique\n",
      "haciendo unstack de RIESGO_DIRECTO desde 201706 con la funcion de agregacion Min\n",
      "haciendo unstack de RIESGO_DIRECTO desde 201706 con la funcion de agregacion Max\n",
      "haciendo unstack de RIESGO_DIRECTO desde 201706 con la funcion de agregacion Std\n",
      "haciendo unstack de RIESGO_DIRECTO desde 201706 con la funcion de agregacion Mean\n",
      "haciendo unstack de RIESGO_DIRECTO desde 201706 con la funcion de agregacion Median\n",
      "haciendo unstack de COD_CLASIFICACION_DEUDOR desde 201706 con la funcion de agregacion Sum\n",
      "haciendo unstack de COD_CLASIFICACION_DEUDOR desde 201706 con la funcion de agregacion Unique\n",
      "haciendo unstack de COD_CLASIFICACION_DEUDOR desde 201706 con la funcion de agregacion Min\n",
      "haciendo unstack de COD_CLASIFICACION_DEUDOR desde 201706 con la funcion de agregacion Max\n",
      "haciendo unstack de COD_CLASIFICACION_DEUDOR desde 201706 con la funcion de agregacion Std\n",
      "haciendo unstack de COD_CLASIFICACION_DEUDOR desde 201706 con la funcion de agregacion Mean\n",
      "haciendo unstack de COD_CLASIFICACION_DEUDOR desde 201706 con la funcion de agregacion Median\n",
      "haciendo unstack de condicion desde 201706 con la funcion de agregacion Sum\n",
      "haciendo unstack de condicion desde 201706 con la funcion de agregacion Unique\n",
      "haciendo unstack de condicion desde 201706 con la funcion de agregacion Min\n",
      "haciendo unstack de condicion desde 201706 con la funcion de agregacion Max\n",
      "haciendo unstack de condicion desde 201706 con la funcion de agregacion Std\n",
      "haciendo unstack de condicion desde 201706 con la funcion de agregacion Mean\n",
      "haciendo unstack de condicion desde 201706 con la funcion de agregacion Median\n",
      "haciendo aggregate de cod_instit_financiera y Producto desde 201706\n",
      "haciendo unstack de tipo_credito desde 201705 con la funcion de agregacion Sum\n",
      "haciendo unstack de tipo_credito desde 201705 con la funcion de agregacion Unique\n",
      "haciendo unstack de tipo_credito desde 201705 con la funcion de agregacion Min\n",
      "haciendo unstack de tipo_credito desde 201705 con la funcion de agregacion Max\n",
      "haciendo unstack de tipo_credito desde 201705 con la funcion de agregacion Std\n",
      "haciendo unstack de tipo_credito desde 201705 con la funcion de agregacion Mean\n",
      "haciendo unstack de tipo_credito desde 201705 con la funcion de agregacion Median\n",
      "haciendo unstack de RIESGO_DIRECTO desde 201705 con la funcion de agregacion Sum\n",
      "haciendo unstack de RIESGO_DIRECTO desde 201705 con la funcion de agregacion Unique\n",
      "haciendo unstack de RIESGO_DIRECTO desde 201705 con la funcion de agregacion Min\n",
      "haciendo unstack de RIESGO_DIRECTO desde 201705 con la funcion de agregacion Max\n",
      "haciendo unstack de RIESGO_DIRECTO desde 201705 con la funcion de agregacion Std\n",
      "haciendo unstack de RIESGO_DIRECTO desde 201705 con la funcion de agregacion Mean\n",
      "haciendo unstack de RIESGO_DIRECTO desde 201705 con la funcion de agregacion Median\n",
      "haciendo unstack de COD_CLASIFICACION_DEUDOR desde 201705 con la funcion de agregacion Sum\n",
      "haciendo unstack de COD_CLASIFICACION_DEUDOR desde 201705 con la funcion de agregacion Unique\n",
      "haciendo unstack de COD_CLASIFICACION_DEUDOR desde 201705 con la funcion de agregacion Min\n",
      "haciendo unstack de COD_CLASIFICACION_DEUDOR desde 201705 con la funcion de agregacion Max\n",
      "haciendo unstack de COD_CLASIFICACION_DEUDOR desde 201705 con la funcion de agregacion Std\n",
      "haciendo unstack de COD_CLASIFICACION_DEUDOR desde 201705 con la funcion de agregacion Mean\n",
      "haciendo unstack de COD_CLASIFICACION_DEUDOR desde 201705 con la funcion de agregacion Median\n",
      "haciendo unstack de condicion desde 201705 con la funcion de agregacion Sum\n",
      "haciendo unstack de condicion desde 201705 con la funcion de agregacion Unique\n",
      "haciendo unstack de condicion desde 201705 con la funcion de agregacion Min\n",
      "haciendo unstack de condicion desde 201705 con la funcion de agregacion Max\n",
      "haciendo unstack de condicion desde 201705 con la funcion de agregacion Std\n",
      "haciendo unstack de condicion desde 201705 con la funcion de agregacion Mean\n",
      "haciendo unstack de condicion desde 201705 con la funcion de agregacion Median\n",
      "haciendo aggregate de cod_instit_financiera y Producto desde 201705\n",
      "haciendo unstack de tipo_credito desde 201704 con la funcion de agregacion Sum\n",
      "haciendo unstack de tipo_credito desde 201704 con la funcion de agregacion Unique\n",
      "haciendo unstack de tipo_credito desde 201704 con la funcion de agregacion Min\n",
      "haciendo unstack de tipo_credito desde 201704 con la funcion de agregacion Max\n",
      "haciendo unstack de tipo_credito desde 201704 con la funcion de agregacion Std\n",
      "haciendo unstack de tipo_credito desde 201704 con la funcion de agregacion Mean\n",
      "haciendo unstack de tipo_credito desde 201704 con la funcion de agregacion Median\n",
      "haciendo unstack de RIESGO_DIRECTO desde 201704 con la funcion de agregacion Sum\n",
      "haciendo unstack de RIESGO_DIRECTO desde 201704 con la funcion de agregacion Unique\n",
      "haciendo unstack de RIESGO_DIRECTO desde 201704 con la funcion de agregacion Min\n",
      "haciendo unstack de RIESGO_DIRECTO desde 201704 con la funcion de agregacion Max\n",
      "haciendo unstack de RIESGO_DIRECTO desde 201704 con la funcion de agregacion Std\n",
      "haciendo unstack de RIESGO_DIRECTO desde 201704 con la funcion de agregacion Mean\n",
      "haciendo unstack de RIESGO_DIRECTO desde 201704 con la funcion de agregacion Median\n",
      "haciendo unstack de COD_CLASIFICACION_DEUDOR desde 201704 con la funcion de agregacion Sum\n",
      "haciendo unstack de COD_CLASIFICACION_DEUDOR desde 201704 con la funcion de agregacion Unique\n",
      "haciendo unstack de COD_CLASIFICACION_DEUDOR desde 201704 con la funcion de agregacion Min\n",
      "haciendo unstack de COD_CLASIFICACION_DEUDOR desde 201704 con la funcion de agregacion Max\n",
      "haciendo unstack de COD_CLASIFICACION_DEUDOR desde 201704 con la funcion de agregacion Std\n",
      "haciendo unstack de COD_CLASIFICACION_DEUDOR desde 201704 con la funcion de agregacion Mean\n",
      "haciendo unstack de COD_CLASIFICACION_DEUDOR desde 201704 con la funcion de agregacion Median\n",
      "haciendo unstack de condicion desde 201704 con la funcion de agregacion Sum\n",
      "haciendo unstack de condicion desde 201704 con la funcion de agregacion Unique\n",
      "haciendo unstack de condicion desde 201704 con la funcion de agregacion Min\n",
      "haciendo unstack de condicion desde 201704 con la funcion de agregacion Max\n",
      "haciendo unstack de condicion desde 201704 con la funcion de agregacion Std\n",
      "haciendo unstack de condicion desde 201704 con la funcion de agregacion Mean\n",
      "haciendo unstack de condicion desde 201704 con la funcion de agregacion Median\n",
      "haciendo aggregate de cod_instit_financiera y Producto desde 201704\n",
      "haciendo unstack de tipo_credito desde 201703 con la funcion de agregacion Sum\n",
      "haciendo unstack de tipo_credito desde 201703 con la funcion de agregacion Unique\n",
      "haciendo unstack de tipo_credito desde 201703 con la funcion de agregacion Min\n",
      "haciendo unstack de tipo_credito desde 201703 con la funcion de agregacion Max\n",
      "haciendo unstack de tipo_credito desde 201703 con la funcion de agregacion Std\n",
      "haciendo unstack de tipo_credito desde 201703 con la funcion de agregacion Mean\n",
      "haciendo unstack de tipo_credito desde 201703 con la funcion de agregacion Median\n",
      "haciendo unstack de RIESGO_DIRECTO desde 201703 con la funcion de agregacion Sum\n",
      "haciendo unstack de RIESGO_DIRECTO desde 201703 con la funcion de agregacion Unique\n",
      "haciendo unstack de RIESGO_DIRECTO desde 201703 con la funcion de agregacion Min\n",
      "haciendo unstack de RIESGO_DIRECTO desde 201703 con la funcion de agregacion Max\n",
      "haciendo unstack de RIESGO_DIRECTO desde 201703 con la funcion de agregacion Std\n",
      "haciendo unstack de RIESGO_DIRECTO desde 201703 con la funcion de agregacion Mean\n",
      "haciendo unstack de RIESGO_DIRECTO desde 201703 con la funcion de agregacion Median\n",
      "haciendo unstack de COD_CLASIFICACION_DEUDOR desde 201703 con la funcion de agregacion Sum\n",
      "haciendo unstack de COD_CLASIFICACION_DEUDOR desde 201703 con la funcion de agregacion Unique\n",
      "haciendo unstack de COD_CLASIFICACION_DEUDOR desde 201703 con la funcion de agregacion Min\n",
      "haciendo unstack de COD_CLASIFICACION_DEUDOR desde 201703 con la funcion de agregacion Max\n",
      "haciendo unstack de COD_CLASIFICACION_DEUDOR desde 201703 con la funcion de agregacion Std\n",
      "haciendo unstack de COD_CLASIFICACION_DEUDOR desde 201703 con la funcion de agregacion Mean\n",
      "haciendo unstack de COD_CLASIFICACION_DEUDOR desde 201703 con la funcion de agregacion Median\n",
      "haciendo unstack de condicion desde 201703 con la funcion de agregacion Sum\n",
      "haciendo unstack de condicion desde 201703 con la funcion de agregacion Unique\n",
      "haciendo unstack de condicion desde 201703 con la funcion de agregacion Min\n",
      "haciendo unstack de condicion desde 201703 con la funcion de agregacion Max\n",
      "haciendo unstack de condicion desde 201703 con la funcion de agregacion Std\n",
      "haciendo unstack de condicion desde 201703 con la funcion de agregacion Mean\n",
      "haciendo unstack de condicion desde 201703 con la funcion de agregacion Median\n",
      "haciendo aggregate de cod_instit_financiera y Producto desde 201703\n"
     ]
    }
   ],
   "source": [
    "rcc_train_list=[]\n",
    "for n,desde in enumerate(sorted(set(rcc_train.codmes),reverse=True)):\n",
    "    for feature in ['tipo_credito','RIESGO_DIRECTO','COD_CLASIFICACION_DEUDOR','condicion']:\n",
    "        rcc_train_list.append(get_unstack(rcc_train, feature, desde, n, 'Sum'))\n",
    "        rcc_train_list.append(get_unstack(rcc_train, feature, desde, n, 'Unique'))\n",
    "        rcc_train_list.append(get_unstack(rcc_train, feature, desde, n, 'Min'))\n",
    "        rcc_train_list.append(get_unstack(rcc_train, feature, desde, n, 'Max'))\n",
    "        rcc_train_list.append(get_unstack(rcc_train, feature, desde, n, 'Std'))\n",
    "        rcc_train_list.append(get_unstack(rcc_train, feature, desde, n, 'Mean'))\n",
    "        rcc_train_list.append(get_unstack(rcc_train, feature, desde, n, 'Median'))\n",
    "    rcc_train_list.append(get_aggregate(rcc_train, desde,n))"
   ]
  },
  {
   "cell_type": "code",
   "execution_count": 23,
   "metadata": {
    "execution": {
     "iopub.execute_input": "2021-02-14T03:56:53.443874Z",
     "iopub.status.busy": "2021-02-14T03:56:53.442798Z",
     "iopub.status.idle": "2021-02-14T03:56:55.025741Z",
     "shell.execute_reply": "2021-02-14T03:56:55.025157Z"
    },
    "papermill": {
     "duration": 1.732777,
     "end_time": "2021-02-14T03:56:55.025884",
     "exception": false,
     "start_time": "2021-02-14T03:56:53.293107",
     "status": "completed"
    },
    "tags": []
   },
   "outputs": [],
   "source": [
    "rcc_train = pd.concat(rcc_train_list, axis=1)\n",
    "del rcc_train_list"
   ]
  },
  {
   "cell_type": "code",
   "execution_count": 24,
   "metadata": {
    "execution": {
     "iopub.execute_input": "2021-02-14T03:57:00.520110Z",
     "iopub.status.busy": "2021-02-14T03:57:00.500626Z",
     "iopub.status.idle": "2021-02-14T04:20:58.944149Z",
     "shell.execute_reply": "2021-02-14T04:20:58.943000Z"
    },
    "papermill": {
     "duration": 1443.778006,
     "end_time": "2021-02-14T04:20:58.944334",
     "exception": false,
     "start_time": "2021-02-14T03:56:55.166328",
     "status": "completed"
    },
    "tags": []
   },
   "outputs": [
    {
     "name": "stdout",
     "output_type": "stream",
     "text": [
      "haciendo unstack de tipo_credito desde 201902 con la funcion de agregacion Sum\n",
      "haciendo unstack de tipo_credito desde 201902 con la funcion de agregacion Unique\n",
      "haciendo unstack de tipo_credito desde 201902 con la funcion de agregacion Min\n",
      "haciendo unstack de tipo_credito desde 201902 con la funcion de agregacion Max\n",
      "haciendo unstack de tipo_credito desde 201902 con la funcion de agregacion Std\n",
      "haciendo unstack de tipo_credito desde 201902 con la funcion de agregacion Mean\n",
      "haciendo unstack de tipo_credito desde 201902 con la funcion de agregacion Median\n",
      "haciendo unstack de RIESGO_DIRECTO desde 201902 con la funcion de agregacion Sum\n",
      "haciendo unstack de RIESGO_DIRECTO desde 201902 con la funcion de agregacion Unique\n",
      "haciendo unstack de RIESGO_DIRECTO desde 201902 con la funcion de agregacion Min\n",
      "haciendo unstack de RIESGO_DIRECTO desde 201902 con la funcion de agregacion Max\n",
      "haciendo unstack de RIESGO_DIRECTO desde 201902 con la funcion de agregacion Std\n",
      "haciendo unstack de RIESGO_DIRECTO desde 201902 con la funcion de agregacion Mean\n",
      "haciendo unstack de RIESGO_DIRECTO desde 201902 con la funcion de agregacion Median\n",
      "haciendo unstack de COD_CLASIFICACION_DEUDOR desde 201902 con la funcion de agregacion Sum\n",
      "haciendo unstack de COD_CLASIFICACION_DEUDOR desde 201902 con la funcion de agregacion Unique\n",
      "haciendo unstack de COD_CLASIFICACION_DEUDOR desde 201902 con la funcion de agregacion Min\n",
      "haciendo unstack de COD_CLASIFICACION_DEUDOR desde 201902 con la funcion de agregacion Max\n",
      "haciendo unstack de COD_CLASIFICACION_DEUDOR desde 201902 con la funcion de agregacion Std\n",
      "haciendo unstack de COD_CLASIFICACION_DEUDOR desde 201902 con la funcion de agregacion Mean\n",
      "haciendo unstack de COD_CLASIFICACION_DEUDOR desde 201902 con la funcion de agregacion Median\n",
      "haciendo unstack de condicion desde 201902 con la funcion de agregacion Sum\n",
      "haciendo unstack de condicion desde 201902 con la funcion de agregacion Unique\n",
      "haciendo unstack de condicion desde 201902 con la funcion de agregacion Min\n",
      "haciendo unstack de condicion desde 201902 con la funcion de agregacion Max\n",
      "haciendo unstack de condicion desde 201902 con la funcion de agregacion Std\n",
      "haciendo unstack de condicion desde 201902 con la funcion de agregacion Mean\n",
      "haciendo unstack de condicion desde 201902 con la funcion de agregacion Median\n",
      "haciendo aggregate de cod_instit_financiera y Producto desde 201902\n",
      "haciendo unstack de tipo_credito desde 201901 con la funcion de agregacion Sum\n",
      "haciendo unstack de tipo_credito desde 201901 con la funcion de agregacion Unique\n",
      "haciendo unstack de tipo_credito desde 201901 con la funcion de agregacion Min\n",
      "haciendo unstack de tipo_credito desde 201901 con la funcion de agregacion Max\n",
      "haciendo unstack de tipo_credito desde 201901 con la funcion de agregacion Std\n",
      "haciendo unstack de tipo_credito desde 201901 con la funcion de agregacion Mean\n",
      "haciendo unstack de tipo_credito desde 201901 con la funcion de agregacion Median\n",
      "haciendo unstack de RIESGO_DIRECTO desde 201901 con la funcion de agregacion Sum\n",
      "haciendo unstack de RIESGO_DIRECTO desde 201901 con la funcion de agregacion Unique\n",
      "haciendo unstack de RIESGO_DIRECTO desde 201901 con la funcion de agregacion Min\n",
      "haciendo unstack de RIESGO_DIRECTO desde 201901 con la funcion de agregacion Max\n",
      "haciendo unstack de RIESGO_DIRECTO desde 201901 con la funcion de agregacion Std\n",
      "haciendo unstack de RIESGO_DIRECTO desde 201901 con la funcion de agregacion Mean\n",
      "haciendo unstack de RIESGO_DIRECTO desde 201901 con la funcion de agregacion Median\n",
      "haciendo unstack de COD_CLASIFICACION_DEUDOR desde 201901 con la funcion de agregacion Sum\n",
      "haciendo unstack de COD_CLASIFICACION_DEUDOR desde 201901 con la funcion de agregacion Unique\n",
      "haciendo unstack de COD_CLASIFICACION_DEUDOR desde 201901 con la funcion de agregacion Min\n",
      "haciendo unstack de COD_CLASIFICACION_DEUDOR desde 201901 con la funcion de agregacion Max\n",
      "haciendo unstack de COD_CLASIFICACION_DEUDOR desde 201901 con la funcion de agregacion Std\n",
      "haciendo unstack de COD_CLASIFICACION_DEUDOR desde 201901 con la funcion de agregacion Mean\n",
      "haciendo unstack de COD_CLASIFICACION_DEUDOR desde 201901 con la funcion de agregacion Median\n",
      "haciendo unstack de condicion desde 201901 con la funcion de agregacion Sum\n",
      "haciendo unstack de condicion desde 201901 con la funcion de agregacion Unique\n",
      "haciendo unstack de condicion desde 201901 con la funcion de agregacion Min\n",
      "haciendo unstack de condicion desde 201901 con la funcion de agregacion Max\n",
      "haciendo unstack de condicion desde 201901 con la funcion de agregacion Std\n",
      "haciendo unstack de condicion desde 201901 con la funcion de agregacion Mean\n",
      "haciendo unstack de condicion desde 201901 con la funcion de agregacion Median\n",
      "haciendo aggregate de cod_instit_financiera y Producto desde 201901\n",
      "haciendo unstack de tipo_credito desde 201812 con la funcion de agregacion Sum\n",
      "haciendo unstack de tipo_credito desde 201812 con la funcion de agregacion Unique\n",
      "haciendo unstack de tipo_credito desde 201812 con la funcion de agregacion Min\n",
      "haciendo unstack de tipo_credito desde 201812 con la funcion de agregacion Max\n",
      "haciendo unstack de tipo_credito desde 201812 con la funcion de agregacion Std\n",
      "haciendo unstack de tipo_credito desde 201812 con la funcion de agregacion Mean\n",
      "haciendo unstack de tipo_credito desde 201812 con la funcion de agregacion Median\n",
      "haciendo unstack de RIESGO_DIRECTO desde 201812 con la funcion de agregacion Sum\n",
      "haciendo unstack de RIESGO_DIRECTO desde 201812 con la funcion de agregacion Unique\n",
      "haciendo unstack de RIESGO_DIRECTO desde 201812 con la funcion de agregacion Min\n",
      "haciendo unstack de RIESGO_DIRECTO desde 201812 con la funcion de agregacion Max\n",
      "haciendo unstack de RIESGO_DIRECTO desde 201812 con la funcion de agregacion Std\n",
      "haciendo unstack de RIESGO_DIRECTO desde 201812 con la funcion de agregacion Mean\n",
      "haciendo unstack de RIESGO_DIRECTO desde 201812 con la funcion de agregacion Median\n",
      "haciendo unstack de COD_CLASIFICACION_DEUDOR desde 201812 con la funcion de agregacion Sum\n",
      "haciendo unstack de COD_CLASIFICACION_DEUDOR desde 201812 con la funcion de agregacion Unique\n",
      "haciendo unstack de COD_CLASIFICACION_DEUDOR desde 201812 con la funcion de agregacion Min\n",
      "haciendo unstack de COD_CLASIFICACION_DEUDOR desde 201812 con la funcion de agregacion Max\n",
      "haciendo unstack de COD_CLASIFICACION_DEUDOR desde 201812 con la funcion de agregacion Std\n",
      "haciendo unstack de COD_CLASIFICACION_DEUDOR desde 201812 con la funcion de agregacion Mean\n",
      "haciendo unstack de COD_CLASIFICACION_DEUDOR desde 201812 con la funcion de agregacion Median\n",
      "haciendo unstack de condicion desde 201812 con la funcion de agregacion Sum\n",
      "haciendo unstack de condicion desde 201812 con la funcion de agregacion Unique\n",
      "haciendo unstack de condicion desde 201812 con la funcion de agregacion Min\n",
      "haciendo unstack de condicion desde 201812 con la funcion de agregacion Max\n",
      "haciendo unstack de condicion desde 201812 con la funcion de agregacion Std\n",
      "haciendo unstack de condicion desde 201812 con la funcion de agregacion Mean\n",
      "haciendo unstack de condicion desde 201812 con la funcion de agregacion Median\n",
      "haciendo aggregate de cod_instit_financiera y Producto desde 201812\n",
      "haciendo unstack de tipo_credito desde 201811 con la funcion de agregacion Sum\n",
      "haciendo unstack de tipo_credito desde 201811 con la funcion de agregacion Unique\n",
      "haciendo unstack de tipo_credito desde 201811 con la funcion de agregacion Min\n",
      "haciendo unstack de tipo_credito desde 201811 con la funcion de agregacion Max\n",
      "haciendo unstack de tipo_credito desde 201811 con la funcion de agregacion Std\n",
      "haciendo unstack de tipo_credito desde 201811 con la funcion de agregacion Mean\n",
      "haciendo unstack de tipo_credito desde 201811 con la funcion de agregacion Median\n",
      "haciendo unstack de RIESGO_DIRECTO desde 201811 con la funcion de agregacion Sum\n",
      "haciendo unstack de RIESGO_DIRECTO desde 201811 con la funcion de agregacion Unique\n",
      "haciendo unstack de RIESGO_DIRECTO desde 201811 con la funcion de agregacion Min\n",
      "haciendo unstack de RIESGO_DIRECTO desde 201811 con la funcion de agregacion Max\n",
      "haciendo unstack de RIESGO_DIRECTO desde 201811 con la funcion de agregacion Std\n",
      "haciendo unstack de RIESGO_DIRECTO desde 201811 con la funcion de agregacion Mean\n",
      "haciendo unstack de RIESGO_DIRECTO desde 201811 con la funcion de agregacion Median\n",
      "haciendo unstack de COD_CLASIFICACION_DEUDOR desde 201811 con la funcion de agregacion Sum\n",
      "haciendo unstack de COD_CLASIFICACION_DEUDOR desde 201811 con la funcion de agregacion Unique\n",
      "haciendo unstack de COD_CLASIFICACION_DEUDOR desde 201811 con la funcion de agregacion Min\n",
      "haciendo unstack de COD_CLASIFICACION_DEUDOR desde 201811 con la funcion de agregacion Max\n",
      "haciendo unstack de COD_CLASIFICACION_DEUDOR desde 201811 con la funcion de agregacion Std\n",
      "haciendo unstack de COD_CLASIFICACION_DEUDOR desde 201811 con la funcion de agregacion Mean\n",
      "haciendo unstack de COD_CLASIFICACION_DEUDOR desde 201811 con la funcion de agregacion Median\n",
      "haciendo unstack de condicion desde 201811 con la funcion de agregacion Sum\n",
      "haciendo unstack de condicion desde 201811 con la funcion de agregacion Unique\n",
      "haciendo unstack de condicion desde 201811 con la funcion de agregacion Min\n",
      "haciendo unstack de condicion desde 201811 con la funcion de agregacion Max\n",
      "haciendo unstack de condicion desde 201811 con la funcion de agregacion Std\n",
      "haciendo unstack de condicion desde 201811 con la funcion de agregacion Mean\n",
      "haciendo unstack de condicion desde 201811 con la funcion de agregacion Median\n",
      "haciendo aggregate de cod_instit_financiera y Producto desde 201811\n",
      "haciendo unstack de tipo_credito desde 201810 con la funcion de agregacion Sum\n",
      "haciendo unstack de tipo_credito desde 201810 con la funcion de agregacion Unique\n",
      "haciendo unstack de tipo_credito desde 201810 con la funcion de agregacion Min\n",
      "haciendo unstack de tipo_credito desde 201810 con la funcion de agregacion Max\n",
      "haciendo unstack de tipo_credito desde 201810 con la funcion de agregacion Std\n",
      "haciendo unstack de tipo_credito desde 201810 con la funcion de agregacion Mean\n",
      "haciendo unstack de tipo_credito desde 201810 con la funcion de agregacion Median\n",
      "haciendo unstack de RIESGO_DIRECTO desde 201810 con la funcion de agregacion Sum\n",
      "haciendo unstack de RIESGO_DIRECTO desde 201810 con la funcion de agregacion Unique\n",
      "haciendo unstack de RIESGO_DIRECTO desde 201810 con la funcion de agregacion Min\n",
      "haciendo unstack de RIESGO_DIRECTO desde 201810 con la funcion de agregacion Max\n",
      "haciendo unstack de RIESGO_DIRECTO desde 201810 con la funcion de agregacion Std\n",
      "haciendo unstack de RIESGO_DIRECTO desde 201810 con la funcion de agregacion Mean\n",
      "haciendo unstack de RIESGO_DIRECTO desde 201810 con la funcion de agregacion Median\n",
      "haciendo unstack de COD_CLASIFICACION_DEUDOR desde 201810 con la funcion de agregacion Sum\n",
      "haciendo unstack de COD_CLASIFICACION_DEUDOR desde 201810 con la funcion de agregacion Unique\n",
      "haciendo unstack de COD_CLASIFICACION_DEUDOR desde 201810 con la funcion de agregacion Min\n",
      "haciendo unstack de COD_CLASIFICACION_DEUDOR desde 201810 con la funcion de agregacion Max\n",
      "haciendo unstack de COD_CLASIFICACION_DEUDOR desde 201810 con la funcion de agregacion Std\n",
      "haciendo unstack de COD_CLASIFICACION_DEUDOR desde 201810 con la funcion de agregacion Mean\n",
      "haciendo unstack de COD_CLASIFICACION_DEUDOR desde 201810 con la funcion de agregacion Median\n",
      "haciendo unstack de condicion desde 201810 con la funcion de agregacion Sum\n",
      "haciendo unstack de condicion desde 201810 con la funcion de agregacion Unique\n",
      "haciendo unstack de condicion desde 201810 con la funcion de agregacion Min\n",
      "haciendo unstack de condicion desde 201810 con la funcion de agregacion Max\n",
      "haciendo unstack de condicion desde 201810 con la funcion de agregacion Std\n",
      "haciendo unstack de condicion desde 201810 con la funcion de agregacion Mean\n",
      "haciendo unstack de condicion desde 201810 con la funcion de agregacion Median\n",
      "haciendo aggregate de cod_instit_financiera y Producto desde 201810\n",
      "haciendo unstack de tipo_credito desde 201809 con la funcion de agregacion Sum\n",
      "haciendo unstack de tipo_credito desde 201809 con la funcion de agregacion Unique\n",
      "haciendo unstack de tipo_credito desde 201809 con la funcion de agregacion Min\n",
      "haciendo unstack de tipo_credito desde 201809 con la funcion de agregacion Max\n",
      "haciendo unstack de tipo_credito desde 201809 con la funcion de agregacion Std\n",
      "haciendo unstack de tipo_credito desde 201809 con la funcion de agregacion Mean\n",
      "haciendo unstack de tipo_credito desde 201809 con la funcion de agregacion Median\n",
      "haciendo unstack de RIESGO_DIRECTO desde 201809 con la funcion de agregacion Sum\n",
      "haciendo unstack de RIESGO_DIRECTO desde 201809 con la funcion de agregacion Unique\n",
      "haciendo unstack de RIESGO_DIRECTO desde 201809 con la funcion de agregacion Min\n",
      "haciendo unstack de RIESGO_DIRECTO desde 201809 con la funcion de agregacion Max\n",
      "haciendo unstack de RIESGO_DIRECTO desde 201809 con la funcion de agregacion Std\n",
      "haciendo unstack de RIESGO_DIRECTO desde 201809 con la funcion de agregacion Mean\n",
      "haciendo unstack de RIESGO_DIRECTO desde 201809 con la funcion de agregacion Median\n",
      "haciendo unstack de COD_CLASIFICACION_DEUDOR desde 201809 con la funcion de agregacion Sum\n",
      "haciendo unstack de COD_CLASIFICACION_DEUDOR desde 201809 con la funcion de agregacion Unique\n",
      "haciendo unstack de COD_CLASIFICACION_DEUDOR desde 201809 con la funcion de agregacion Min\n",
      "haciendo unstack de COD_CLASIFICACION_DEUDOR desde 201809 con la funcion de agregacion Max\n",
      "haciendo unstack de COD_CLASIFICACION_DEUDOR desde 201809 con la funcion de agregacion Std\n",
      "haciendo unstack de COD_CLASIFICACION_DEUDOR desde 201809 con la funcion de agregacion Mean\n",
      "haciendo unstack de COD_CLASIFICACION_DEUDOR desde 201809 con la funcion de agregacion Median\n",
      "haciendo unstack de condicion desde 201809 con la funcion de agregacion Sum\n",
      "haciendo unstack de condicion desde 201809 con la funcion de agregacion Unique\n",
      "haciendo unstack de condicion desde 201809 con la funcion de agregacion Min\n",
      "haciendo unstack de condicion desde 201809 con la funcion de agregacion Max\n",
      "haciendo unstack de condicion desde 201809 con la funcion de agregacion Std\n",
      "haciendo unstack de condicion desde 201809 con la funcion de agregacion Mean\n",
      "haciendo unstack de condicion desde 201809 con la funcion de agregacion Median\n",
      "haciendo aggregate de cod_instit_financiera y Producto desde 201809\n",
      "haciendo unstack de tipo_credito desde 201808 con la funcion de agregacion Sum\n",
      "haciendo unstack de tipo_credito desde 201808 con la funcion de agregacion Unique\n",
      "haciendo unstack de tipo_credito desde 201808 con la funcion de agregacion Min\n",
      "haciendo unstack de tipo_credito desde 201808 con la funcion de agregacion Max\n",
      "haciendo unstack de tipo_credito desde 201808 con la funcion de agregacion Std\n",
      "haciendo unstack de tipo_credito desde 201808 con la funcion de agregacion Mean\n",
      "haciendo unstack de tipo_credito desde 201808 con la funcion de agregacion Median\n",
      "haciendo unstack de RIESGO_DIRECTO desde 201808 con la funcion de agregacion Sum\n",
      "haciendo unstack de RIESGO_DIRECTO desde 201808 con la funcion de agregacion Unique\n",
      "haciendo unstack de RIESGO_DIRECTO desde 201808 con la funcion de agregacion Min\n",
      "haciendo unstack de RIESGO_DIRECTO desde 201808 con la funcion de agregacion Max\n",
      "haciendo unstack de RIESGO_DIRECTO desde 201808 con la funcion de agregacion Std\n",
      "haciendo unstack de RIESGO_DIRECTO desde 201808 con la funcion de agregacion Mean\n",
      "haciendo unstack de RIESGO_DIRECTO desde 201808 con la funcion de agregacion Median\n",
      "haciendo unstack de COD_CLASIFICACION_DEUDOR desde 201808 con la funcion de agregacion Sum\n",
      "haciendo unstack de COD_CLASIFICACION_DEUDOR desde 201808 con la funcion de agregacion Unique\n",
      "haciendo unstack de COD_CLASIFICACION_DEUDOR desde 201808 con la funcion de agregacion Min\n",
      "haciendo unstack de COD_CLASIFICACION_DEUDOR desde 201808 con la funcion de agregacion Max\n",
      "haciendo unstack de COD_CLASIFICACION_DEUDOR desde 201808 con la funcion de agregacion Std\n",
      "haciendo unstack de COD_CLASIFICACION_DEUDOR desde 201808 con la funcion de agregacion Mean\n",
      "haciendo unstack de COD_CLASIFICACION_DEUDOR desde 201808 con la funcion de agregacion Median\n",
      "haciendo unstack de condicion desde 201808 con la funcion de agregacion Sum\n",
      "haciendo unstack de condicion desde 201808 con la funcion de agregacion Unique\n",
      "haciendo unstack de condicion desde 201808 con la funcion de agregacion Min\n",
      "haciendo unstack de condicion desde 201808 con la funcion de agregacion Max\n",
      "haciendo unstack de condicion desde 201808 con la funcion de agregacion Std\n",
      "haciendo unstack de condicion desde 201808 con la funcion de agregacion Mean\n",
      "haciendo unstack de condicion desde 201808 con la funcion de agregacion Median\n",
      "haciendo aggregate de cod_instit_financiera y Producto desde 201808\n",
      "haciendo unstack de tipo_credito desde 201807 con la funcion de agregacion Sum\n",
      "haciendo unstack de tipo_credito desde 201807 con la funcion de agregacion Unique\n",
      "haciendo unstack de tipo_credito desde 201807 con la funcion de agregacion Min\n",
      "haciendo unstack de tipo_credito desde 201807 con la funcion de agregacion Max\n",
      "haciendo unstack de tipo_credito desde 201807 con la funcion de agregacion Std\n",
      "haciendo unstack de tipo_credito desde 201807 con la funcion de agregacion Mean\n",
      "haciendo unstack de tipo_credito desde 201807 con la funcion de agregacion Median\n",
      "haciendo unstack de RIESGO_DIRECTO desde 201807 con la funcion de agregacion Sum\n",
      "haciendo unstack de RIESGO_DIRECTO desde 201807 con la funcion de agregacion Unique\n",
      "haciendo unstack de RIESGO_DIRECTO desde 201807 con la funcion de agregacion Min\n",
      "haciendo unstack de RIESGO_DIRECTO desde 201807 con la funcion de agregacion Max\n",
      "haciendo unstack de RIESGO_DIRECTO desde 201807 con la funcion de agregacion Std\n",
      "haciendo unstack de RIESGO_DIRECTO desde 201807 con la funcion de agregacion Mean\n",
      "haciendo unstack de RIESGO_DIRECTO desde 201807 con la funcion de agregacion Median\n",
      "haciendo unstack de COD_CLASIFICACION_DEUDOR desde 201807 con la funcion de agregacion Sum\n",
      "haciendo unstack de COD_CLASIFICACION_DEUDOR desde 201807 con la funcion de agregacion Unique\n",
      "haciendo unstack de COD_CLASIFICACION_DEUDOR desde 201807 con la funcion de agregacion Min\n",
      "haciendo unstack de COD_CLASIFICACION_DEUDOR desde 201807 con la funcion de agregacion Max\n",
      "haciendo unstack de COD_CLASIFICACION_DEUDOR desde 201807 con la funcion de agregacion Std\n",
      "haciendo unstack de COD_CLASIFICACION_DEUDOR desde 201807 con la funcion de agregacion Mean\n",
      "haciendo unstack de COD_CLASIFICACION_DEUDOR desde 201807 con la funcion de agregacion Median\n",
      "haciendo unstack de condicion desde 201807 con la funcion de agregacion Sum\n",
      "haciendo unstack de condicion desde 201807 con la funcion de agregacion Unique\n",
      "haciendo unstack de condicion desde 201807 con la funcion de agregacion Min\n",
      "haciendo unstack de condicion desde 201807 con la funcion de agregacion Max\n",
      "haciendo unstack de condicion desde 201807 con la funcion de agregacion Std\n",
      "haciendo unstack de condicion desde 201807 con la funcion de agregacion Mean\n",
      "haciendo unstack de condicion desde 201807 con la funcion de agregacion Median\n",
      "haciendo aggregate de cod_instit_financiera y Producto desde 201807\n",
      "haciendo unstack de tipo_credito desde 201806 con la funcion de agregacion Sum\n",
      "haciendo unstack de tipo_credito desde 201806 con la funcion de agregacion Unique\n",
      "haciendo unstack de tipo_credito desde 201806 con la funcion de agregacion Min\n",
      "haciendo unstack de tipo_credito desde 201806 con la funcion de agregacion Max\n",
      "haciendo unstack de tipo_credito desde 201806 con la funcion de agregacion Std\n",
      "haciendo unstack de tipo_credito desde 201806 con la funcion de agregacion Mean\n",
      "haciendo unstack de tipo_credito desde 201806 con la funcion de agregacion Median\n",
      "haciendo unstack de RIESGO_DIRECTO desde 201806 con la funcion de agregacion Sum\n",
      "haciendo unstack de RIESGO_DIRECTO desde 201806 con la funcion de agregacion Unique\n",
      "haciendo unstack de RIESGO_DIRECTO desde 201806 con la funcion de agregacion Min\n",
      "haciendo unstack de RIESGO_DIRECTO desde 201806 con la funcion de agregacion Max\n",
      "haciendo unstack de RIESGO_DIRECTO desde 201806 con la funcion de agregacion Std\n",
      "haciendo unstack de RIESGO_DIRECTO desde 201806 con la funcion de agregacion Mean\n",
      "haciendo unstack de RIESGO_DIRECTO desde 201806 con la funcion de agregacion Median\n",
      "haciendo unstack de COD_CLASIFICACION_DEUDOR desde 201806 con la funcion de agregacion Sum\n",
      "haciendo unstack de COD_CLASIFICACION_DEUDOR desde 201806 con la funcion de agregacion Unique\n",
      "haciendo unstack de COD_CLASIFICACION_DEUDOR desde 201806 con la funcion de agregacion Min\n",
      "haciendo unstack de COD_CLASIFICACION_DEUDOR desde 201806 con la funcion de agregacion Max\n",
      "haciendo unstack de COD_CLASIFICACION_DEUDOR desde 201806 con la funcion de agregacion Std\n",
      "haciendo unstack de COD_CLASIFICACION_DEUDOR desde 201806 con la funcion de agregacion Mean\n",
      "haciendo unstack de COD_CLASIFICACION_DEUDOR desde 201806 con la funcion de agregacion Median\n",
      "haciendo unstack de condicion desde 201806 con la funcion de agregacion Sum\n",
      "haciendo unstack de condicion desde 201806 con la funcion de agregacion Unique\n",
      "haciendo unstack de condicion desde 201806 con la funcion de agregacion Min\n",
      "haciendo unstack de condicion desde 201806 con la funcion de agregacion Max\n",
      "haciendo unstack de condicion desde 201806 con la funcion de agregacion Std\n",
      "haciendo unstack de condicion desde 201806 con la funcion de agregacion Mean\n",
      "haciendo unstack de condicion desde 201806 con la funcion de agregacion Median\n",
      "haciendo aggregate de cod_instit_financiera y Producto desde 201806\n",
      "haciendo unstack de tipo_credito desde 201805 con la funcion de agregacion Sum\n",
      "haciendo unstack de tipo_credito desde 201805 con la funcion de agregacion Unique\n",
      "haciendo unstack de tipo_credito desde 201805 con la funcion de agregacion Min\n",
      "haciendo unstack de tipo_credito desde 201805 con la funcion de agregacion Max\n",
      "haciendo unstack de tipo_credito desde 201805 con la funcion de agregacion Std\n",
      "haciendo unstack de tipo_credito desde 201805 con la funcion de agregacion Mean\n",
      "haciendo unstack de tipo_credito desde 201805 con la funcion de agregacion Median\n",
      "haciendo unstack de RIESGO_DIRECTO desde 201805 con la funcion de agregacion Sum\n",
      "haciendo unstack de RIESGO_DIRECTO desde 201805 con la funcion de agregacion Unique\n",
      "haciendo unstack de RIESGO_DIRECTO desde 201805 con la funcion de agregacion Min\n",
      "haciendo unstack de RIESGO_DIRECTO desde 201805 con la funcion de agregacion Max\n",
      "haciendo unstack de RIESGO_DIRECTO desde 201805 con la funcion de agregacion Std\n",
      "haciendo unstack de RIESGO_DIRECTO desde 201805 con la funcion de agregacion Mean\n",
      "haciendo unstack de RIESGO_DIRECTO desde 201805 con la funcion de agregacion Median\n",
      "haciendo unstack de COD_CLASIFICACION_DEUDOR desde 201805 con la funcion de agregacion Sum\n",
      "haciendo unstack de COD_CLASIFICACION_DEUDOR desde 201805 con la funcion de agregacion Unique\n",
      "haciendo unstack de COD_CLASIFICACION_DEUDOR desde 201805 con la funcion de agregacion Min\n",
      "haciendo unstack de COD_CLASIFICACION_DEUDOR desde 201805 con la funcion de agregacion Max\n",
      "haciendo unstack de COD_CLASIFICACION_DEUDOR desde 201805 con la funcion de agregacion Std\n",
      "haciendo unstack de COD_CLASIFICACION_DEUDOR desde 201805 con la funcion de agregacion Mean\n",
      "haciendo unstack de COD_CLASIFICACION_DEUDOR desde 201805 con la funcion de agregacion Median\n",
      "haciendo unstack de condicion desde 201805 con la funcion de agregacion Sum\n",
      "haciendo unstack de condicion desde 201805 con la funcion de agregacion Unique\n",
      "haciendo unstack de condicion desde 201805 con la funcion de agregacion Min\n",
      "haciendo unstack de condicion desde 201805 con la funcion de agregacion Max\n",
      "haciendo unstack de condicion desde 201805 con la funcion de agregacion Std\n",
      "haciendo unstack de condicion desde 201805 con la funcion de agregacion Mean\n",
      "haciendo unstack de condicion desde 201805 con la funcion de agregacion Median\n",
      "haciendo aggregate de cod_instit_financiera y Producto desde 201805\n",
      "haciendo unstack de tipo_credito desde 201804 con la funcion de agregacion Sum\n",
      "haciendo unstack de tipo_credito desde 201804 con la funcion de agregacion Unique\n",
      "haciendo unstack de tipo_credito desde 201804 con la funcion de agregacion Min\n",
      "haciendo unstack de tipo_credito desde 201804 con la funcion de agregacion Max\n",
      "haciendo unstack de tipo_credito desde 201804 con la funcion de agregacion Std\n",
      "haciendo unstack de tipo_credito desde 201804 con la funcion de agregacion Mean\n",
      "haciendo unstack de tipo_credito desde 201804 con la funcion de agregacion Median\n",
      "haciendo unstack de RIESGO_DIRECTO desde 201804 con la funcion de agregacion Sum\n",
      "haciendo unstack de RIESGO_DIRECTO desde 201804 con la funcion de agregacion Unique\n",
      "haciendo unstack de RIESGO_DIRECTO desde 201804 con la funcion de agregacion Min\n",
      "haciendo unstack de RIESGO_DIRECTO desde 201804 con la funcion de agregacion Max\n",
      "haciendo unstack de RIESGO_DIRECTO desde 201804 con la funcion de agregacion Std\n",
      "haciendo unstack de RIESGO_DIRECTO desde 201804 con la funcion de agregacion Mean\n",
      "haciendo unstack de RIESGO_DIRECTO desde 201804 con la funcion de agregacion Median\n",
      "haciendo unstack de COD_CLASIFICACION_DEUDOR desde 201804 con la funcion de agregacion Sum\n",
      "haciendo unstack de COD_CLASIFICACION_DEUDOR desde 201804 con la funcion de agregacion Unique\n",
      "haciendo unstack de COD_CLASIFICACION_DEUDOR desde 201804 con la funcion de agregacion Min\n",
      "haciendo unstack de COD_CLASIFICACION_DEUDOR desde 201804 con la funcion de agregacion Max\n",
      "haciendo unstack de COD_CLASIFICACION_DEUDOR desde 201804 con la funcion de agregacion Std\n",
      "haciendo unstack de COD_CLASIFICACION_DEUDOR desde 201804 con la funcion de agregacion Mean\n",
      "haciendo unstack de COD_CLASIFICACION_DEUDOR desde 201804 con la funcion de agregacion Median\n",
      "haciendo unstack de condicion desde 201804 con la funcion de agregacion Sum\n",
      "haciendo unstack de condicion desde 201804 con la funcion de agregacion Unique\n",
      "haciendo unstack de condicion desde 201804 con la funcion de agregacion Min\n",
      "haciendo unstack de condicion desde 201804 con la funcion de agregacion Max\n",
      "haciendo unstack de condicion desde 201804 con la funcion de agregacion Std\n",
      "haciendo unstack de condicion desde 201804 con la funcion de agregacion Mean\n",
      "haciendo unstack de condicion desde 201804 con la funcion de agregacion Median\n",
      "haciendo aggregate de cod_instit_financiera y Producto desde 201804\n",
      "haciendo unstack de tipo_credito desde 201803 con la funcion de agregacion Sum\n",
      "haciendo unstack de tipo_credito desde 201803 con la funcion de agregacion Unique\n",
      "haciendo unstack de tipo_credito desde 201803 con la funcion de agregacion Min\n",
      "haciendo unstack de tipo_credito desde 201803 con la funcion de agregacion Max\n",
      "haciendo unstack de tipo_credito desde 201803 con la funcion de agregacion Std\n",
      "haciendo unstack de tipo_credito desde 201803 con la funcion de agregacion Mean\n",
      "haciendo unstack de tipo_credito desde 201803 con la funcion de agregacion Median\n",
      "haciendo unstack de RIESGO_DIRECTO desde 201803 con la funcion de agregacion Sum\n",
      "haciendo unstack de RIESGO_DIRECTO desde 201803 con la funcion de agregacion Unique\n",
      "haciendo unstack de RIESGO_DIRECTO desde 201803 con la funcion de agregacion Min\n",
      "haciendo unstack de RIESGO_DIRECTO desde 201803 con la funcion de agregacion Max\n",
      "haciendo unstack de RIESGO_DIRECTO desde 201803 con la funcion de agregacion Std\n",
      "haciendo unstack de RIESGO_DIRECTO desde 201803 con la funcion de agregacion Mean\n",
      "haciendo unstack de RIESGO_DIRECTO desde 201803 con la funcion de agregacion Median\n",
      "haciendo unstack de COD_CLASIFICACION_DEUDOR desde 201803 con la funcion de agregacion Sum\n",
      "haciendo unstack de COD_CLASIFICACION_DEUDOR desde 201803 con la funcion de agregacion Unique\n",
      "haciendo unstack de COD_CLASIFICACION_DEUDOR desde 201803 con la funcion de agregacion Min\n",
      "haciendo unstack de COD_CLASIFICACION_DEUDOR desde 201803 con la funcion de agregacion Max\n",
      "haciendo unstack de COD_CLASIFICACION_DEUDOR desde 201803 con la funcion de agregacion Std\n",
      "haciendo unstack de COD_CLASIFICACION_DEUDOR desde 201803 con la funcion de agregacion Mean\n",
      "haciendo unstack de COD_CLASIFICACION_DEUDOR desde 201803 con la funcion de agregacion Median\n",
      "haciendo unstack de condicion desde 201803 con la funcion de agregacion Sum\n",
      "haciendo unstack de condicion desde 201803 con la funcion de agregacion Unique\n",
      "haciendo unstack de condicion desde 201803 con la funcion de agregacion Min\n",
      "haciendo unstack de condicion desde 201803 con la funcion de agregacion Max\n",
      "haciendo unstack de condicion desde 201803 con la funcion de agregacion Std\n",
      "haciendo unstack de condicion desde 201803 con la funcion de agregacion Mean\n",
      "haciendo unstack de condicion desde 201803 con la funcion de agregacion Median\n",
      "haciendo aggregate de cod_instit_financiera y Producto desde 201803\n"
     ]
    }
   ],
   "source": [
    "rcc_test_list=[]\n",
    "for n,desde in enumerate(sorted(set(rcc_test.codmes),reverse=True)):\n",
    "    for feature in ['tipo_credito','RIESGO_DIRECTO','COD_CLASIFICACION_DEUDOR','condicion']:\n",
    "        rcc_test_list.append(get_unstack(rcc_test, feature, desde, n, 'Sum'))\n",
    "        rcc_test_list.append(get_unstack(rcc_test, feature, desde, n, 'Unique'))\n",
    "        rcc_test_list.append(get_unstack(rcc_test, feature, desde, n, 'Min'))\n",
    "        rcc_test_list.append(get_unstack(rcc_test, feature, desde, n, 'Max'))\n",
    "        rcc_test_list.append(get_unstack(rcc_test, feature, desde, n, 'Std'))\n",
    "        rcc_test_list.append(get_unstack(rcc_test, feature, desde, n, 'Mean'))\n",
    "        rcc_test_list.append(get_unstack(rcc_test, feature, desde, n, 'Median'))\n",
    "    rcc_test_list.append(get_aggregate(rcc_test, desde,n))"
   ]
  },
  {
   "cell_type": "code",
   "execution_count": 25,
   "metadata": {
    "execution": {
     "iopub.execute_input": "2021-02-14T04:20:59.438436Z",
     "iopub.status.busy": "2021-02-14T04:20:59.437767Z",
     "iopub.status.idle": "2021-02-14T04:21:01.255603Z",
     "shell.execute_reply": "2021-02-14T04:21:01.254980Z"
    },
    "papermill": {
     "duration": 2.070844,
     "end_time": "2021-02-14T04:21:01.255748",
     "exception": false,
     "start_time": "2021-02-14T04:20:59.184904",
     "status": "completed"
    },
    "tags": []
   },
   "outputs": [],
   "source": [
    "rcc_test = pd.concat(rcc_test_list, axis=1)\n",
    "del rcc_test_list"
   ]
  },
  {
   "cell_type": "code",
   "execution_count": 26,
   "metadata": {
    "execution": {
     "iopub.execute_input": "2021-02-14T04:21:01.773873Z",
     "iopub.status.busy": "2021-02-14T04:21:01.773131Z",
     "iopub.status.idle": "2021-02-14T04:21:01.776773Z",
     "shell.execute_reply": "2021-02-14T04:21:01.776203Z"
    },
    "papermill": {
     "duration": 0.276449,
     "end_time": "2021-02-14T04:21:01.776917",
     "exception": false,
     "start_time": "2021-02-14T04:21:01.500468",
     "status": "completed"
    },
    "tags": []
   },
   "outputs": [],
   "source": [
    "### unir RCC en la base final\n",
    "train = rcc_train\n",
    "test = rcc_test\n",
    "del rcc_train, rcc_test"
   ]
  },
  {
   "cell_type": "markdown",
   "metadata": {
    "papermill": {
     "duration": 0.242589,
     "end_time": "2021-02-14T04:21:02.263628",
     "exception": false,
     "start_time": "2021-02-14T04:21:02.021039",
     "status": "completed"
    },
    "tags": []
   },
   "source": [
    "## Procesar SE"
   ]
  },
  {
   "cell_type": "code",
   "execution_count": 27,
   "metadata": {
    "execution": {
     "iopub.execute_input": "2021-02-14T04:21:02.755811Z",
     "iopub.status.busy": "2021-02-14T04:21:02.755102Z",
     "iopub.status.idle": "2021-02-14T04:21:04.415384Z",
     "shell.execute_reply": "2021-02-14T04:21:04.414548Z"
    },
    "papermill": {
     "duration": 1.908228,
     "end_time": "2021-02-14T04:21:04.415541",
     "exception": false,
     "start_time": "2021-02-14T04:21:02.507313",
     "status": "completed"
    },
    "tags": []
   },
   "outputs": [],
   "source": [
    "se_train = pd.read_csv(f'{path}/se_train.csv', index_col = 'key_value')\n",
    "se_test = pd.read_csv(f'{path}/se_test.csv', index_col = 'key_value')"
   ]
  },
  {
   "cell_type": "code",
   "execution_count": 28,
   "metadata": {
    "execution": {
     "iopub.execute_input": "2021-02-14T04:21:04.913081Z",
     "iopub.status.busy": "2021-02-14T04:21:04.911995Z",
     "iopub.status.idle": "2021-02-14T04:21:04.951123Z",
     "shell.execute_reply": "2021-02-14T04:21:04.950518Z"
    },
    "papermill": {
     "duration": 0.289463,
     "end_time": "2021-02-14T04:21:04.951277",
     "exception": false,
     "start_time": "2021-02-14T04:21:04.661814",
     "status": "completed"
    },
    "tags": []
   },
   "outputs": [],
   "source": [
    "dict_ = {'sexo':'int32',\n",
    "         'est_cvl':'int32',\n",
    "         'sit_lab':'int32',\n",
    "         'cod_ocu':'int32',\n",
    "         'ctd_hijos':'int32',\n",
    "         'flg_sin_email':'int32',\n",
    "         'ctd_veh':'int32',\n",
    "         'lgr_vot':'int32',\n",
    "         'prv':'int32',\n",
    "         'dto':'int32',\n",
    "         'rgn':'int32',\n",
    "         'tip_lvledu':'int32'}\n",
    "se_train = se_train.astype(dict_)\n",
    "se_test = se_test.astype(dict_)"
   ]
  },
  {
   "cell_type": "code",
   "execution_count": 29,
   "metadata": {
    "execution": {
     "iopub.execute_input": "2021-02-14T04:21:05.445258Z",
     "iopub.status.busy": "2021-02-14T04:21:05.444301Z",
     "iopub.status.idle": "2021-02-14T04:21:05.492861Z",
     "shell.execute_reply": "2021-02-14T04:21:05.493368Z"
    },
    "papermill": {
     "duration": 0.299854,
     "end_time": "2021-02-14T04:21:05.493556",
     "exception": false,
     "start_time": "2021-02-14T04:21:05.193702",
     "status": "completed"
    },
    "tags": []
   },
   "outputs": [],
   "source": [
    "def get_one_hot(df, feature):\n",
    "    one_hot = pd.get_dummies(df[feature])\n",
    "    one_hot.columns = [feature+'_'+str(i) for i in one_hot.columns]\n",
    "    return one_hot\n",
    "one_hot_sexo_train = get_one_hot(se_train, 'sexo')\n",
    "one_hot_sexo_test = get_one_hot(se_test, 'sexo')\n",
    "one_hot_est_cvl_train = get_one_hot(se_train, 'est_cvl')\n",
    "one_hot_est_cvl_test = get_one_hot(se_test, 'est_cvl')\n",
    "one_hot_rgn_train = get_one_hot(se_train, 'rgn')\n",
    "one_hot_rgn_test = get_one_hot(se_test, 'rgn')"
   ]
  },
  {
   "cell_type": "code",
   "execution_count": 30,
   "metadata": {
    "execution": {
     "iopub.execute_input": "2021-02-14T04:21:05.984366Z",
     "iopub.status.busy": "2021-02-14T04:21:05.983490Z",
     "iopub.status.idle": "2021-02-14T04:21:10.556706Z",
     "shell.execute_reply": "2021-02-14T04:21:10.556001Z"
    },
    "papermill": {
     "duration": 4.819507,
     "end_time": "2021-02-14T04:21:10.556847",
     "exception": false,
     "start_time": "2021-02-14T04:21:05.737340",
     "status": "completed"
    },
    "tags": []
   },
   "outputs": [],
   "source": [
    "train = train.join(one_hot_sexo_train).join(one_hot_est_cvl_train).join(one_hot_rgn_train).join(se_train[['edad','ctd_veh']])\n",
    "test = test.join(one_hot_sexo_test).join(one_hot_est_cvl_test).join(one_hot_rgn_test).join(se_test[['edad','ctd_veh']])\n",
    "del se_train, se_test"
   ]
  },
  {
   "cell_type": "markdown",
   "metadata": {
    "papermill": {
     "duration": 0.243892,
     "end_time": "2021-02-14T04:21:11.045142",
     "exception": false,
     "start_time": "2021-02-14T04:21:10.801250",
     "status": "completed"
    },
    "tags": []
   },
   "source": [
    "## Procesar SUNAT"
   ]
  },
  {
   "cell_type": "code",
   "execution_count": 31,
   "metadata": {
    "execution": {
     "iopub.execute_input": "2021-02-14T04:21:11.538095Z",
     "iopub.status.busy": "2021-02-14T04:21:11.537377Z",
     "iopub.status.idle": "2021-02-14T04:21:17.334623Z",
     "shell.execute_reply": "2021-02-14T04:21:17.335280Z"
    },
    "papermill": {
     "duration": 6.047551,
     "end_time": "2021-02-14T04:21:17.335479",
     "exception": false,
     "start_time": "2021-02-14T04:21:11.287928",
     "status": "completed"
    },
    "tags": []
   },
   "outputs": [],
   "source": [
    "sunat_train = pd.read_csv(f'{path}/sunat_train.csv')\n",
    "sunat_test = pd.read_csv(f'{path}/sunat_test.csv')"
   ]
  },
  {
   "cell_type": "code",
   "execution_count": 32,
   "metadata": {
    "execution": {
     "iopub.execute_input": "2021-02-14T04:21:17.832781Z",
     "iopub.status.busy": "2021-02-14T04:21:17.831861Z",
     "iopub.status.idle": "2021-02-14T04:21:18.683049Z",
     "shell.execute_reply": "2021-02-14T04:21:18.682514Z"
    },
    "papermill": {
     "duration": 1.101713,
     "end_time": "2021-02-14T04:21:18.683187",
     "exception": false,
     "start_time": "2021-02-14T04:21:17.581474",
     "status": "completed"
    },
    "tags": []
   },
   "outputs": [
    {
     "data": {
      "text/plain": [
       "((292479, 18), (318821, 18))"
      ]
     },
     "execution_count": 32,
     "metadata": {},
     "output_type": "execute_result"
    }
   ],
   "source": [
    "### eliminar registros duplicados\n",
    "sunat_train.drop_duplicates(inplace=True)\n",
    "sunat_test.drop_duplicates(inplace=True)\n",
    "sunat_train.shape, sunat_test.shape"
   ]
  },
  {
   "cell_type": "code",
   "execution_count": 33,
   "metadata": {
    "execution": {
     "iopub.execute_input": "2021-02-14T04:21:19.176767Z",
     "iopub.status.busy": "2021-02-14T04:21:19.175639Z",
     "iopub.status.idle": "2021-02-14T04:21:19.215648Z",
     "shell.execute_reply": "2021-02-14T04:21:19.215100Z"
    },
    "papermill": {
     "duration": 0.288636,
     "end_time": "2021-02-14T04:21:19.215808",
     "exception": false,
     "start_time": "2021-02-14T04:21:18.927172",
     "status": "completed"
    },
    "tags": []
   },
   "outputs": [],
   "source": [
    "dict_ = {'tipcontribuyente': 'int32',\n",
    "         'tippersona': 'int32',\n",
    "         'ciiu': 'int32',\n",
    "         'ubigeo': 'int32',\n",
    "         'condiciondomicilio': 'int32',\n",
    "         'estadocontribuyente': 'int32',\n",
    "         'codvia': 'int32',\n",
    "         'codzona': 'int32',\n",
    "         'contabilidad': 'int32',\n",
    "         'facturacion': 'int32',\n",
    "         'domiciliado': 'int32',\n",
    "         'comercioexterior': 'int32',\n",
    "         'cargorele': 'int32',\n",
    "         'codentidadtributo': 'int32',\n",
    "         'estadotributo': 'int32'}\n",
    "sunat_train = sunat_train.astype(dict_)\n",
    "sunat_test = sunat_test.astype(dict_)"
   ]
  },
  {
   "cell_type": "code",
   "execution_count": 34,
   "metadata": {
    "execution": {
     "iopub.execute_input": "2021-02-14T04:21:19.710228Z",
     "iopub.status.busy": "2021-02-14T04:21:19.708827Z",
     "iopub.status.idle": "2021-02-14T04:21:19.716701Z",
     "shell.execute_reply": "2021-02-14T04:21:19.716110Z"
    },
    "papermill": {
     "duration": 0.258405,
     "end_time": "2021-02-14T04:21:19.716866",
     "exception": false,
     "start_time": "2021-02-14T04:21:19.458461",
     "status": "completed"
    },
    "tags": []
   },
   "outputs": [],
   "source": [
    "sunat_train['diff_fech'] = sunat_train['fecbaja'] - sunat_train['fecalta']\n",
    "sunat_test['diff_fech'] = sunat_test['fecbaja'] - sunat_test['fecalta']"
   ]
  },
  {
   "cell_type": "code",
   "execution_count": 35,
   "metadata": {
    "execution": {
     "iopub.execute_input": "2021-02-14T04:21:20.218197Z",
     "iopub.status.busy": "2021-02-14T04:21:20.217434Z",
     "iopub.status.idle": "2021-02-14T04:23:55.702623Z",
     "shell.execute_reply": "2021-02-14T04:23:55.702039Z"
    },
    "papermill": {
     "duration": 155.739321,
     "end_time": "2021-02-14T04:23:55.702778",
     "exception": false,
     "start_time": "2021-02-14T04:21:19.963457",
     "status": "completed"
    },
    "tags": []
   },
   "outputs": [],
   "source": [
    "moda=lambda x: calculate_mode(x)\n",
    "moda.__name__='mode'\n",
    "agg_sunat = {\n",
    "            'tipcontribuyente':['nunique',moda],\n",
    "            'tippersona':['nunique',moda],\n",
    "            'ciiu':['nunique', moda],\n",
    "            'ubigeo':['nunique',moda],\n",
    "           'condiciondomicilio':['nunique',moda],  ####\n",
    "#            'estadocontribuyente':['nunique',moda],\n",
    "           'codvia':['nunique',moda],\n",
    "           'codzona':['nunique',moda],\n",
    "           'contabilidad':['nunique',moda],\n",
    "           'facturacion':['nunique',moda],\n",
    "           'domiciliado':['nunique',moda],\n",
    "           'comercioexterior':['nunique',moda],\n",
    "           'cargorele':['nunique',moda],\n",
    "           'codentidadtributo':['nunique',moda], ####\n",
    "           'estadotributo':['nunique',moda], ####\n",
    "           'fecalta':['mean','max', 'nunique','min','std'],\n",
    "           'fecbaja':['mean','max', 'nunique','min'], \n",
    "           'diff_fech':['mean','max', 'nunique','min'], \n",
    "            }\n",
    "sunat_train_agg = sunat_train.groupby('key_value').agg(agg_sunat)\n",
    "sunat_train_agg.columns = [i+'_'+j for i,j in sunat_train_agg.columns]\n",
    "sunat_test_agg = sunat_test.groupby('key_value').agg(agg_sunat)\n",
    "sunat_test_agg.columns = [i+'_'+j for i,j in sunat_test_agg.columns]\n",
    "# del sunat_train, sunat_test"
   ]
  },
  {
   "cell_type": "code",
   "execution_count": 36,
   "metadata": {
    "execution": {
     "iopub.execute_input": "2021-02-14T04:23:56.195959Z",
     "iopub.status.busy": "2021-02-14T04:23:56.195286Z",
     "iopub.status.idle": "2021-02-14T04:24:03.762261Z",
     "shell.execute_reply": "2021-02-14T04:24:03.761681Z"
    },
    "papermill": {
     "duration": 7.814378,
     "end_time": "2021-02-14T04:24:03.762427",
     "exception": false,
     "start_time": "2021-02-14T04:23:55.948049",
     "status": "completed"
    },
    "tags": []
   },
   "outputs": [],
   "source": [
    "crosstab_estadocontribuyente_train = get_crosstab(sunat_train, 'key_value', 'estadocontribuyente')\n",
    "crosstab_estadocontribuyente_test = get_crosstab(sunat_test, 'key_value', 'estadocontribuyente')"
   ]
  },
  {
   "cell_type": "code",
   "execution_count": 37,
   "metadata": {
    "execution": {
     "iopub.execute_input": "2021-02-14T04:24:04.337319Z",
     "iopub.status.busy": "2021-02-14T04:24:04.336364Z",
     "iopub.status.idle": "2021-02-14T04:24:04.341655Z",
     "shell.execute_reply": "2021-02-14T04:24:04.341148Z"
    },
    "papermill": {
     "duration": 0.334712,
     "end_time": "2021-02-14T04:24:04.341800",
     "exception": false,
     "start_time": "2021-02-14T04:24:04.007088",
     "status": "completed"
    },
    "tags": []
   },
   "outputs": [
    {
     "data": {
      "text/plain": [
       "20"
      ]
     },
     "execution_count": 37,
     "metadata": {},
     "output_type": "execute_result"
    }
   ],
   "source": [
    "gc.collect()"
   ]
  },
  {
   "cell_type": "code",
   "execution_count": 38,
   "metadata": {
    "execution": {
     "iopub.execute_input": "2021-02-14T04:24:04.836622Z",
     "iopub.status.busy": "2021-02-14T04:24:04.835711Z",
     "iopub.status.idle": "2021-02-14T04:30:49.623052Z",
     "shell.execute_reply": "2021-02-14T04:30:49.622333Z"
    },
    "papermill": {
     "duration": 405.038437,
     "end_time": "2021-02-14T04:30:49.623198",
     "exception": false,
     "start_time": "2021-02-14T04:24:04.584761",
     "status": "completed"
    },
    "tags": []
   },
   "outputs": [],
   "source": [
    "train, test = optimize_dtypes(train, test)"
   ]
  },
  {
   "cell_type": "code",
   "execution_count": 39,
   "metadata": {
    "execution": {
     "iopub.execute_input": "2021-02-14T04:30:50.122496Z",
     "iopub.status.busy": "2021-02-14T04:30:50.121661Z",
     "iopub.status.idle": "2021-02-14T04:30:52.627908Z",
     "shell.execute_reply": "2021-02-14T04:30:52.628460Z"
    },
    "papermill": {
     "duration": 2.75926,
     "end_time": "2021-02-14T04:30:52.628633",
     "exception": false,
     "start_time": "2021-02-14T04:30:49.869373",
     "status": "completed"
    },
    "tags": []
   },
   "outputs": [
    {
     "name": "stdout",
     "output_type": "stream",
     "text": [
      "(358487, 847) (396666, 846)\n",
      "(358487, 846) (396666, 846)\n"
     ]
    }
   ],
   "source": [
    "train = train.join(crosstab_estadocontribuyente_train).join(sunat_train_agg)\n",
    "test = test.join(crosstab_estadocontribuyente_test).join(sunat_test_agg)\n",
    "train, test = get_keep_columns(train, test)\n",
    "del sunat_train_agg, sunat_test_agg, sunat_train, sunat_test"
   ]
  },
  {
   "cell_type": "code",
   "execution_count": 40,
   "metadata": {
    "execution": {
     "iopub.execute_input": "2021-02-14T04:30:53.165445Z",
     "iopub.status.busy": "2021-02-14T04:30:53.164799Z",
     "iopub.status.idle": "2021-02-14T04:30:55.421242Z",
     "shell.execute_reply": "2021-02-14T04:30:55.420241Z"
    },
    "papermill": {
     "duration": 2.546341,
     "end_time": "2021-02-14T04:30:55.421419",
     "exception": false,
     "start_time": "2021-02-14T04:30:52.875078",
     "status": "completed"
    },
    "tags": []
   },
   "outputs": [],
   "source": [
    "train, test = optimize_dtypes(train, test)"
   ]
  },
  {
   "cell_type": "code",
   "execution_count": 41,
   "metadata": {
    "execution": {
     "iopub.execute_input": "2021-02-14T04:30:56.002716Z",
     "iopub.status.busy": "2021-02-14T04:30:56.002003Z",
     "iopub.status.idle": "2021-02-14T04:30:57.274187Z",
     "shell.execute_reply": "2021-02-14T04:30:57.273338Z"
    },
    "papermill": {
     "duration": 1.526701,
     "end_time": "2021-02-14T04:30:57.274371",
     "exception": false,
     "start_time": "2021-02-14T04:30:55.747670",
     "status": "completed"
    },
    "tags": []
   },
   "outputs": [
    {
     "data": {
      "text/plain": [
       "((358487, 810), (396666, 810))"
      ]
     },
     "execution_count": 41,
     "metadata": {},
     "output_type": "execute_result"
    }
   ],
   "source": [
    "train = get_filter_columns(train)\n",
    "test = get_filter_columns(test)\n",
    "train.shape, test.shape"
   ]
  },
  {
   "cell_type": "markdown",
   "metadata": {
    "papermill": {
     "duration": 0.245821,
     "end_time": "2021-02-14T04:30:57.772451",
     "exception": false,
     "start_time": "2021-02-14T04:30:57.526630",
     "status": "completed"
    },
    "tags": []
   },
   "source": [
    "## Aggregate Unstack de cod_instit_financiera and PRODUCTO del ultimo primer, segundo, tercero y doceavo mes"
   ]
  },
  {
   "cell_type": "code",
   "execution_count": 42,
   "metadata": {
    "execution": {
     "iopub.execute_input": "2021-02-14T04:30:58.274438Z",
     "iopub.status.busy": "2021-02-14T04:30:58.273786Z",
     "iopub.status.idle": "2021-02-14T04:41:40.389842Z",
     "shell.execute_reply": "2021-02-14T04:41:40.390363Z"
    },
    "papermill": {
     "duration": 642.37214,
     "end_time": "2021-02-14T04:41:40.390545",
     "exception": false,
     "start_time": "2021-02-14T04:30:58.018405",
     "status": "completed"
    },
    "tags": []
   },
   "outputs": [
    {
     "name": "stdout",
     "output_type": "stream",
     "text": [
      "haciendo unstack de cod_instit_financiera desde 201802 con la funcion de agregacion Sum\n",
      "haciendo unstack de cod_instit_financiera desde 201802 con la funcion de agregacion Unique\n",
      "haciendo unstack de cod_instit_financiera desde 201802 con la funcion de agregacion Min\n",
      "haciendo unstack de cod_instit_financiera desde 201802 con la funcion de agregacion Max\n",
      "haciendo unstack de cod_instit_financiera desde 201802 con la funcion de agregacion Std\n",
      "haciendo unstack de cod_instit_financiera desde 201802 con la funcion de agregacion Mean\n",
      "haciendo unstack de cod_instit_financiera desde 201802 con la funcion de agregacion Median\n",
      "haciendo unstack de PRODUCTO desde 201802 con la funcion de agregacion Sum\n",
      "haciendo unstack de PRODUCTO desde 201802 con la funcion de agregacion Unique\n",
      "haciendo unstack de PRODUCTO desde 201802 con la funcion de agregacion Min\n",
      "haciendo unstack de PRODUCTO desde 201802 con la funcion de agregacion Max\n",
      "haciendo unstack de PRODUCTO desde 201802 con la funcion de agregacion Std\n",
      "haciendo unstack de PRODUCTO desde 201802 con la funcion de agregacion Mean\n",
      "haciendo unstack de PRODUCTO desde 201802 con la funcion de agregacion Median\n",
      "haciendo unstack de cod_instit_financiera desde 201902 con la funcion de agregacion Sum\n",
      "haciendo unstack de cod_instit_financiera desde 201902 con la funcion de agregacion Unique\n",
      "haciendo unstack de cod_instit_financiera desde 201902 con la funcion de agregacion Min\n",
      "haciendo unstack de cod_instit_financiera desde 201902 con la funcion de agregacion Max\n",
      "haciendo unstack de cod_instit_financiera desde 201902 con la funcion de agregacion Std\n",
      "haciendo unstack de cod_instit_financiera desde 201902 con la funcion de agregacion Mean\n",
      "haciendo unstack de cod_instit_financiera desde 201902 con la funcion de agregacion Median\n",
      "haciendo unstack de PRODUCTO desde 201902 con la funcion de agregacion Sum\n",
      "haciendo unstack de PRODUCTO desde 201902 con la funcion de agregacion Unique\n",
      "haciendo unstack de PRODUCTO desde 201902 con la funcion de agregacion Min\n",
      "haciendo unstack de PRODUCTO desde 201902 con la funcion de agregacion Max\n",
      "haciendo unstack de PRODUCTO desde 201902 con la funcion de agregacion Std\n",
      "haciendo unstack de PRODUCTO desde 201902 con la funcion de agregacion Mean\n",
      "haciendo unstack de PRODUCTO desde 201902 con la funcion de agregacion Median\n",
      "(358487, 184) (396666, 184)\n",
      "haciendo unstack de cod_instit_financiera desde 201801 con la funcion de agregacion Sum\n",
      "haciendo unstack de cod_instit_financiera desde 201801 con la funcion de agregacion Unique\n",
      "haciendo unstack de cod_instit_financiera desde 201801 con la funcion de agregacion Min\n",
      "haciendo unstack de cod_instit_financiera desde 201801 con la funcion de agregacion Max\n",
      "haciendo unstack de cod_instit_financiera desde 201801 con la funcion de agregacion Std\n",
      "haciendo unstack de cod_instit_financiera desde 201801 con la funcion de agregacion Mean\n",
      "haciendo unstack de cod_instit_financiera desde 201801 con la funcion de agregacion Median\n",
      "haciendo unstack de PRODUCTO desde 201801 con la funcion de agregacion Sum\n",
      "haciendo unstack de PRODUCTO desde 201801 con la funcion de agregacion Unique\n",
      "haciendo unstack de PRODUCTO desde 201801 con la funcion de agregacion Min\n",
      "haciendo unstack de PRODUCTO desde 201801 con la funcion de agregacion Max\n",
      "haciendo unstack de PRODUCTO desde 201801 con la funcion de agregacion Std\n",
      "haciendo unstack de PRODUCTO desde 201801 con la funcion de agregacion Mean\n",
      "haciendo unstack de PRODUCTO desde 201801 con la funcion de agregacion Median\n",
      "haciendo unstack de cod_instit_financiera desde 201901 con la funcion de agregacion Sum\n",
      "haciendo unstack de cod_instit_financiera desde 201901 con la funcion de agregacion Unique\n",
      "haciendo unstack de cod_instit_financiera desde 201901 con la funcion de agregacion Min\n",
      "haciendo unstack de cod_instit_financiera desde 201901 con la funcion de agregacion Max\n",
      "haciendo unstack de cod_instit_financiera desde 201901 con la funcion de agregacion Std\n",
      "haciendo unstack de cod_instit_financiera desde 201901 con la funcion de agregacion Mean\n",
      "haciendo unstack de cod_instit_financiera desde 201901 con la funcion de agregacion Median\n",
      "haciendo unstack de PRODUCTO desde 201901 con la funcion de agregacion Sum\n",
      "haciendo unstack de PRODUCTO desde 201901 con la funcion de agregacion Unique\n",
      "haciendo unstack de PRODUCTO desde 201901 con la funcion de agregacion Min\n",
      "haciendo unstack de PRODUCTO desde 201901 con la funcion de agregacion Max\n",
      "haciendo unstack de PRODUCTO desde 201901 con la funcion de agregacion Std\n",
      "haciendo unstack de PRODUCTO desde 201901 con la funcion de agregacion Mean\n",
      "haciendo unstack de PRODUCTO desde 201901 con la funcion de agregacion Median\n",
      "(358487, 174) (396666, 174)\n",
      "haciendo unstack de cod_instit_financiera desde 201712 con la funcion de agregacion Sum\n",
      "haciendo unstack de cod_instit_financiera desde 201712 con la funcion de agregacion Unique\n",
      "haciendo unstack de cod_instit_financiera desde 201712 con la funcion de agregacion Min\n",
      "haciendo unstack de cod_instit_financiera desde 201712 con la funcion de agregacion Max\n",
      "haciendo unstack de cod_instit_financiera desde 201712 con la funcion de agregacion Std\n",
      "haciendo unstack de cod_instit_financiera desde 201712 con la funcion de agregacion Mean\n",
      "haciendo unstack de cod_instit_financiera desde 201712 con la funcion de agregacion Median\n",
      "haciendo unstack de PRODUCTO desde 201712 con la funcion de agregacion Sum\n",
      "haciendo unstack de PRODUCTO desde 201712 con la funcion de agregacion Unique\n",
      "haciendo unstack de PRODUCTO desde 201712 con la funcion de agregacion Min\n",
      "haciendo unstack de PRODUCTO desde 201712 con la funcion de agregacion Max\n",
      "haciendo unstack de PRODUCTO desde 201712 con la funcion de agregacion Std\n",
      "haciendo unstack de PRODUCTO desde 201712 con la funcion de agregacion Mean\n",
      "haciendo unstack de PRODUCTO desde 201712 con la funcion de agregacion Median\n",
      "haciendo unstack de cod_instit_financiera desde 201812 con la funcion de agregacion Sum\n",
      "haciendo unstack de cod_instit_financiera desde 201812 con la funcion de agregacion Unique\n",
      "haciendo unstack de cod_instit_financiera desde 201812 con la funcion de agregacion Min\n",
      "haciendo unstack de cod_instit_financiera desde 201812 con la funcion de agregacion Max\n",
      "haciendo unstack de cod_instit_financiera desde 201812 con la funcion de agregacion Std\n",
      "haciendo unstack de cod_instit_financiera desde 201812 con la funcion de agregacion Mean\n",
      "haciendo unstack de cod_instit_financiera desde 201812 con la funcion de agregacion Median\n",
      "haciendo unstack de PRODUCTO desde 201812 con la funcion de agregacion Sum\n",
      "haciendo unstack de PRODUCTO desde 201812 con la funcion de agregacion Unique\n",
      "haciendo unstack de PRODUCTO desde 201812 con la funcion de agregacion Min\n",
      "haciendo unstack de PRODUCTO desde 201812 con la funcion de agregacion Max\n",
      "haciendo unstack de PRODUCTO desde 201812 con la funcion de agregacion Std\n",
      "haciendo unstack de PRODUCTO desde 201812 con la funcion de agregacion Mean\n",
      "haciendo unstack de PRODUCTO desde 201812 con la funcion de agregacion Median\n",
      "(358487, 214) (396666, 214)\n",
      "haciendo unstack de cod_instit_financiera desde 201703 con la funcion de agregacion Sum\n",
      "haciendo unstack de cod_instit_financiera desde 201703 con la funcion de agregacion Unique\n",
      "haciendo unstack de cod_instit_financiera desde 201703 con la funcion de agregacion Min\n",
      "haciendo unstack de cod_instit_financiera desde 201703 con la funcion de agregacion Max\n",
      "haciendo unstack de cod_instit_financiera desde 201703 con la funcion de agregacion Std\n",
      "haciendo unstack de cod_instit_financiera desde 201703 con la funcion de agregacion Mean\n",
      "haciendo unstack de cod_instit_financiera desde 201703 con la funcion de agregacion Median\n",
      "haciendo unstack de PRODUCTO desde 201703 con la funcion de agregacion Sum\n",
      "haciendo unstack de PRODUCTO desde 201703 con la funcion de agregacion Unique\n",
      "haciendo unstack de PRODUCTO desde 201703 con la funcion de agregacion Min\n",
      "haciendo unstack de PRODUCTO desde 201703 con la funcion de agregacion Max\n",
      "haciendo unstack de PRODUCTO desde 201703 con la funcion de agregacion Std\n",
      "haciendo unstack de PRODUCTO desde 201703 con la funcion de agregacion Mean\n",
      "haciendo unstack de PRODUCTO desde 201703 con la funcion de agregacion Median\n",
      "haciendo unstack de cod_instit_financiera desde 201803 con la funcion de agregacion Sum\n",
      "haciendo unstack de cod_instit_financiera desde 201803 con la funcion de agregacion Unique\n",
      "haciendo unstack de cod_instit_financiera desde 201803 con la funcion de agregacion Min\n",
      "haciendo unstack de cod_instit_financiera desde 201803 con la funcion de agregacion Max\n",
      "haciendo unstack de cod_instit_financiera desde 201803 con la funcion de agregacion Std\n",
      "haciendo unstack de cod_instit_financiera desde 201803 con la funcion de agregacion Mean\n",
      "haciendo unstack de cod_instit_financiera desde 201803 con la funcion de agregacion Median\n",
      "haciendo unstack de PRODUCTO desde 201803 con la funcion de agregacion Sum\n",
      "haciendo unstack de PRODUCTO desde 201803 con la funcion de agregacion Unique\n",
      "haciendo unstack de PRODUCTO desde 201803 con la funcion de agregacion Min\n",
      "haciendo unstack de PRODUCTO desde 201803 con la funcion de agregacion Max\n",
      "haciendo unstack de PRODUCTO desde 201803 con la funcion de agregacion Std\n",
      "haciendo unstack de PRODUCTO desde 201803 con la funcion de agregacion Mean\n",
      "haciendo unstack de PRODUCTO desde 201803 con la funcion de agregacion Median\n",
      "(358487, 246) (396666, 246)\n"
     ]
    }
   ],
   "source": [
    "aux_meses =  [(0, 201802, 201902), (1, 201801, 201901), (2, 201712, 201812), (11, 201703, 201803)]\n",
    "list_rcc_train = []\n",
    "list_rcc_test = []\n",
    "for n,desde_train, desde_test in aux_meses:\n",
    "    rcc_train, rcc_test = get_rcc()\n",
    "\n",
    "    rcc_train_list = get_rcc_list(rcc_train,desde_train, n)\n",
    "    rcc_test_list = get_rcc_list(rcc_test,desde_test, n)\n",
    "\n",
    "    rcc_train = pd.concat(rcc_train_list, axis=1)\n",
    "    rcc_test = pd.concat(rcc_test_list, axis=1)\n",
    "    del rcc_train_list, rcc_test_list\n",
    "    \n",
    "    \n",
    "    rcc_train, rcc_test = optimize_dtypes(rcc_train, rcc_test)\n",
    "    \n",
    "    rcc_train = get_filter_columns(rcc_train)\n",
    "    rcc_test = get_filter_columns(rcc_test)\n",
    "    \n",
    "    print(rcc_train.shape, rcc_test.shape)\n",
    "    \n",
    "    list_rcc_train.append(rcc_train)\n",
    "    list_rcc_test.append(rcc_test)\n",
    "    \n",
    "    gc.collect()\n",
    "    \n",
    "    del rcc_train, rcc_test"
   ]
  },
  {
   "cell_type": "code",
   "execution_count": 43,
   "metadata": {
    "execution": {
     "iopub.execute_input": "2021-02-14T04:41:40.957729Z",
     "iopub.status.busy": "2021-02-14T04:41:40.956640Z",
     "iopub.status.idle": "2021-02-14T04:41:41.237519Z",
     "shell.execute_reply": "2021-02-14T04:41:41.237002Z"
    },
    "papermill": {
     "duration": 0.567497,
     "end_time": "2021-02-14T04:41:41.237665",
     "exception": false,
     "start_time": "2021-02-14T04:41:40.670168",
     "status": "completed"
    },
    "tags": []
   },
   "outputs": [
    {
     "data": {
      "text/plain": [
       "((358487, 818), (396666, 818))"
      ]
     },
     "execution_count": 43,
     "metadata": {},
     "output_type": "execute_result"
    }
   ],
   "source": [
    "rcc_train = pd.concat(list_rcc_train, axis=1)\n",
    "rcc_test = pd.concat(list_rcc_test, axis=1)\n",
    "del list_rcc_train, list_rcc_test\n",
    "rcc_train.shape, rcc_test.shape"
   ]
  },
  {
   "cell_type": "code",
   "execution_count": 44,
   "metadata": {
    "execution": {
     "iopub.execute_input": "2021-02-14T04:41:41.802014Z",
     "iopub.status.busy": "2021-02-14T04:41:41.801140Z",
     "iopub.status.idle": "2021-02-14T04:41:48.704986Z",
     "shell.execute_reply": "2021-02-14T04:41:48.705523Z"
    },
    "papermill": {
     "duration": 7.188503,
     "end_time": "2021-02-14T04:41:48.705708",
     "exception": false,
     "start_time": "2021-02-14T04:41:41.517205",
     "status": "completed"
    },
    "tags": []
   },
   "outputs": [
    {
     "data": {
      "text/plain": [
       "((358487, 1628), (396666, 1628))"
      ]
     },
     "execution_count": 44,
     "metadata": {},
     "output_type": "execute_result"
    }
   ],
   "source": [
    "train = train.join(rcc_train)\n",
    "train = train[keep_columns_final]\n",
    "test = test.join(rcc_test)\n",
    "test = test[keep_columns_final]\n",
    "del rcc_train, rcc_test \n",
    "train.shape, test.shape"
   ]
  },
  {
   "cell_type": "code",
   "execution_count": 45,
   "metadata": {
    "execution": {
     "iopub.execute_input": "2021-02-14T04:41:49.267150Z",
     "iopub.status.busy": "2021-02-14T04:41:49.266436Z",
     "iopub.status.idle": "2021-02-14T04:41:49.352786Z",
     "shell.execute_reply": "2021-02-14T04:41:49.353226Z"
    },
    "papermill": {
     "duration": 0.367327,
     "end_time": "2021-02-14T04:41:49.353429",
     "exception": false,
     "start_time": "2021-02-14T04:41:48.986102",
     "status": "completed"
    },
    "tags": []
   },
   "outputs": [
    {
     "data": {
      "text/plain": [
       "20"
      ]
     },
     "execution_count": 45,
     "metadata": {},
     "output_type": "execute_result"
    }
   ],
   "source": [
    "gc.collect()"
   ]
  },
  {
   "cell_type": "code",
   "execution_count": 46,
   "metadata": {
    "execution": {
     "iopub.execute_input": "2021-02-14T04:41:49.922212Z",
     "iopub.status.busy": "2021-02-14T04:41:49.921530Z",
     "iopub.status.idle": "2021-02-14T04:41:56.783952Z",
     "shell.execute_reply": "2021-02-14T04:41:56.784513Z"
    },
    "papermill": {
     "duration": 7.147594,
     "end_time": "2021-02-14T04:41:56.784707",
     "exception": false,
     "start_time": "2021-02-14T04:41:49.637113",
     "status": "completed"
    },
    "tags": []
   },
   "outputs": [],
   "source": [
    "train.to_pickle('../data/train_1628features.pkl')\n",
    "test.to_pickle('../data/test_1628features.pkl')"
   ]
  }
 ],
 "metadata": {
  "kernelspec": {
   "display_name": "Python 3",
   "language": "python",
   "name": "python3"
  },
  "language_info": {
   "codemirror_mode": {
    "name": "ipython",
    "version": 3
   },
   "file_extension": ".py",
   "mimetype": "text/x-python",
   "name": "python",
   "nbconvert_exporter": "python",
   "pygments_lexer": "ipython3",
   "version": "3.8.5"
  },
  "papermill": {
   "default_parameters": {},
   "duration": 4150.540427,
   "end_time": "2021-02-14T04:42:00.297328",
   "environment_variables": {},
   "exception": null,
   "input_path": "__notebook__.ipynb",
   "output_path": "__notebook__.ipynb",
   "parameters": {},
   "start_time": "2021-02-14T03:32:49.756901",
   "version": "2.2.2"
  }
 },
 "nbformat": 4,
 "nbformat_minor": 4
}
