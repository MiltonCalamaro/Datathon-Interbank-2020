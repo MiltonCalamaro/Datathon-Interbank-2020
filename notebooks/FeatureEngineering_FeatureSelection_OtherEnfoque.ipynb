{
 "cells": [
  {
   "cell_type": "code",
   "execution_count": 1,
   "id": "applicable-chorus",
   "metadata": {},
   "outputs": [],
   "source": [
    "import pandas as pd\n",
    "from tqdm.notebook import tqdm \n",
    "import gc\n",
    "import numpy as np"
   ]
  },
  {
   "cell_type": "code",
   "execution_count": 2,
   "id": "daily-montgomery",
   "metadata": {},
   "outputs": [],
   "source": [
    "import statistics as stat\n",
    "def calculate_mode(x):\n",
    "    try:\n",
    "        moda=stat.mode(x)\n",
    "    except:\n",
    "        moda=np.nan\n",
    "    return moda"
   ]
  },
  {
   "cell_type": "code",
   "execution_count": 3,
   "id": "personalized-batman",
   "metadata": {},
   "outputs": [],
   "source": [
    "path = '../data'\n",
    "y_train = pd.read_csv(f'{path}/y_train.csv', index_col = 'key_value')"
   ]
  },
  {
   "cell_type": "markdown",
   "id": "cordless-reader",
   "metadata": {},
   "source": [
    "## Procesar RCC"
   ]
  },
  {
   "cell_type": "code",
   "execution_count": 4,
   "id": "timely-street",
   "metadata": {},
   "outputs": [],
   "source": [
    "rcc_train = pd.read_csv(f'{path}/rcc_train.csv')\n",
    "rcc_test = pd.read_csv(f'{path}/rcc_test.csv')"
   ]
  },
  {
   "cell_type": "code",
   "execution_count": 5,
   "id": "junior-average",
   "metadata": {},
   "outputs": [],
   "source": [
    "rcc_test['cod_instit_financiera'].fillna(rcc_test['cod_instit_financiera'].value_counts().index[0], inplace=True)\n",
    "rcc_test['PRODUCTO'].fillna(rcc_test['PRODUCTO'].value_counts().index[0], inplace=True)"
   ]
  },
  {
   "cell_type": "code",
   "execution_count": 6,
   "id": "direct-logging",
   "metadata": {},
   "outputs": [],
   "source": [
    "dict_ = {'codmes': 'int32',\n",
    " 'key_value': 'int32',\n",
    " 'condicion': 'int32',\n",
    " 'tipo_credito': 'int32',\n",
    " 'cod_instit_financiera': 'int32',\n",
    " 'PRODUCTO': 'int32',\n",
    " 'RIESGO_DIRECTO': 'int32',\n",
    " 'COD_CLASIFICACION_DEUDOR': 'int32'}\n",
    "rcc_train = rcc_train.astype(dict_)\n",
    "rcc_test = rcc_test.astype(dict_)"
   ]
  },
  {
   "cell_type": "code",
   "execution_count": 7,
   "id": "isolated-portsmouth",
   "metadata": {},
   "outputs": [],
   "source": [
    "bins = [-1, 0, 10, 20, 30, 60, 90, 180, 360, 720, float(\"inf\")]\n",
    "rcc_train[\"condicion\"] = pd.cut(rcc_train.condicion, bins)\n",
    "rcc_train[\"condicion\"] = rcc_train[\"condicion\"].cat.codes\n",
    "rcc_test[\"condicion\"] = pd.cut(rcc_test.condicion, bins)\n",
    "rcc_test[\"condicion\"] = rcc_test[\"condicion\"].cat.codes"
   ]
  },
  {
   "cell_type": "code",
   "execution_count": 8,
   "id": "formed-friendly",
   "metadata": {},
   "outputs": [],
   "source": [
    "# moda=lambda x: calculate_mode(x)\n",
    "# moda.__name__='mode'\n",
    "# agg_rcc = {'cod_instit_financiera':['nunique','min','max',moda],\n",
    "#            'PRODUCTO':['nunique','min','max',moda],}"
   ]
  },
  {
   "cell_type": "code",
   "execution_count": 9,
   "id": "scheduled-disease",
   "metadata": {},
   "outputs": [
    {
     "name": "stdout",
     "output_type": "stream",
     "text": [
      "haciendo tipo_credito desde 201703\n",
      "haciendo RIESGO_DIRECTO desde 201703\n",
      "haciendo COD_CLASIFICACION_DEUDOR desde 201703\n",
      "haciendo condicion desde 201703\n",
      "haciendo cod_instit_financiera desde 201703\n",
      "haciendo PRODUCTO desde 201703\n"
     ]
    }
   ],
   "source": [
    "list_rcc_train_agg = []\n",
    "for n,i in enumerate([sorted(set(rcc_train.codmes),reverse=True)[-1]]):\n",
    "    for c in ['tipo_credito','RIESGO_DIRECTO','COD_CLASIFICACION_DEUDOR','condicion','cod_instit_financiera','PRODUCTO']:\n",
    "        print(f'haciendo {c} desde {i}')\n",
    "        rcc_train_agg = rcc_train[rcc_train.codmes>=i].groupby(['key_value', c]).saldo.sum().unstack(level = 1, fill_value=np.nan)\n",
    "        rcc_train_agg.columns = [f'{rcc_train_agg.columns.name}_{c}_saldoSum_ult{n+1}meses' for c in rcc_train_agg.columns]\n",
    "        list_rcc_train_agg.append(rcc_train_agg)\n",
    "        gc.collect()\n",
    "\n",
    "        rcc_train_agg = rcc_train[rcc_train.codmes>=i].groupby(['key_value', c]).saldo.size().unstack(level = 1, fill_value=np.nan)\n",
    "        rcc_train_agg.columns = [f'{rcc_train_agg.columns.name}_{c}_saldoUnique_ult{n+1}meses' for c in rcc_train_agg.columns]\n",
    "        list_rcc_train_agg.append(rcc_train_agg)\n",
    "        gc.collect()\n",
    "\n",
    "        rcc_train_agg = rcc_train[rcc_train.codmes>=i].groupby(['key_value', c]).saldo.min().unstack(level = 1, fill_value=np.nan)\n",
    "        rcc_train_agg.columns = [f'{rcc_train_agg.columns.name}_{c}_saldoMin_ult{n+1}meses' for c in rcc_train_agg.columns]\n",
    "        list_rcc_train_agg.append(rcc_train_agg)\n",
    "        gc.collect()\n",
    "\n",
    "        rcc_train_agg = rcc_train[rcc_train.codmes>=i].groupby(['key_value', c]).saldo.max().unstack(level = 1, fill_value=np.nan)\n",
    "        rcc_train_agg.columns = [f'{rcc_train_agg.columns.name}_{c}_saldoMax_ult{n+1}meses' for c in rcc_train_agg.columns]\n",
    "        list_rcc_train_agg.append(rcc_train_agg)\n",
    "        gc.collect()\n",
    "\n",
    "        rcc_train_agg = rcc_train[rcc_train.codmes>=i].groupby(['key_value', c]).saldo.std().unstack(level = 1, fill_value=np.nan)\n",
    "        rcc_train_agg.columns = [f'{rcc_train_agg.columns.name}_{c}_saldoStd_ult{n+1}meses' for c in rcc_train_agg.columns]\n",
    "        list_rcc_train_agg.append(rcc_train_agg)\n",
    "        gc.collect()\n",
    "\n",
    "        rcc_train_agg = rcc_train[rcc_train.codmes>=i].groupby(['key_value', c]).saldo.mean().unstack(level = 1, fill_value=np.nan)\n",
    "        rcc_train_agg.columns = [f'{rcc_train_agg.columns.name}_{c}_saldoMean_ult{n+1}meses' for c in rcc_train_agg.columns]\n",
    "        list_rcc_train_agg.append(rcc_train_agg)\n",
    "        gc.collect()\n",
    "        \n",
    "        rcc_train_agg = rcc_train[rcc_train.codmes>=i].groupby(['key_value', c]).saldo.median().unstack(level = 1, fill_value=np.nan)\n",
    "        rcc_train_agg.columns = [f'{rcc_train_agg.columns.name}_{c}_saldoMedian_ult{n+1}meses' for c in rcc_train_agg.columns]\n",
    "        list_rcc_train_agg.append(rcc_train_agg)\n",
    "        gc.collect()\n",
    "        \n",
    "#     print(f'haciendo aggregate de {i}')\n",
    "#     rcc_train_agg = rcc_train[rcc_train.codmes>=i].groupby('key_value').agg(agg_rcc)\n",
    "#     rcc_train_agg.columns = [i+'_'+j+f'_ult{n+1}mes' for i,j in rcc_train_agg.columns]\n",
    "#     list_rcc_train_agg.append(rcc_train_agg)\n",
    "#     gc.collect()\n",
    "        \n",
    "rcc_train_ = pd.concat(list_rcc_train_agg, axis=1)\n",
    "del rcc_train, list_rcc_train_agg"
   ]
  },
  {
   "cell_type": "code",
   "execution_count": 10,
   "id": "honey-template",
   "metadata": {},
   "outputs": [
    {
     "name": "stdout",
     "output_type": "stream",
     "text": [
      "haciendo tipo_credito desde 201803\n",
      "haciendo RIESGO_DIRECTO desde 201803\n",
      "haciendo COD_CLASIFICACION_DEUDOR desde 201803\n",
      "haciendo condicion desde 201803\n",
      "haciendo cod_instit_financiera desde 201803\n",
      "haciendo PRODUCTO desde 201803\n"
     ]
    }
   ],
   "source": [
    "list_rcc_test_agg = []\n",
    "for n,i in enumerate([sorted(set(rcc_test.codmes),reverse=True)[-1]]):\n",
    "    for c in ['tipo_credito','RIESGO_DIRECTO','COD_CLASIFICACION_DEUDOR','condicion','cod_instit_financiera','PRODUCTO']:\n",
    "        print(f'haciendo {c} desde {i}')\n",
    "        rcc_test_agg = rcc_test[rcc_test.codmes>=i].groupby(['key_value', c]).saldo.sum().unstack(level = 1, fill_value=np.nan)\n",
    "        rcc_test_agg.columns = [f'{rcc_test_agg.columns.name}_{c}_saldoSum_ult{n+1}meses' for c in rcc_test_agg.columns]\n",
    "        list_rcc_test_agg.append(rcc_test_agg)\n",
    "        gc.collect()\n",
    "\n",
    "        rcc_test_agg = rcc_test[rcc_test.codmes>=i].groupby(['key_value', c]).saldo.size().unstack(level = 1, fill_value=np.nan)\n",
    "        rcc_test_agg.columns = [f'{rcc_test_agg.columns.name}_{c}_saldoUnique_ult{n+1}meses' for c in rcc_test_agg.columns]\n",
    "        list_rcc_test_agg.append(rcc_test_agg)\n",
    "        gc.collect()\n",
    "\n",
    "        rcc_test_agg = rcc_test[rcc_test.codmes>=i].groupby(['key_value', c]).saldo.min().unstack(level = 1, fill_value=np.nan)\n",
    "        rcc_test_agg.columns = [f'{rcc_test_agg.columns.name}_{c}_saldoMin_ult{n+1}meses' for c in rcc_test_agg.columns]\n",
    "        list_rcc_test_agg.append(rcc_test_agg)\n",
    "        gc.collect()\n",
    "\n",
    "        rcc_test_agg = rcc_test[rcc_test.codmes>=i].groupby(['key_value', c]).saldo.max().unstack(level = 1, fill_value=np.nan)\n",
    "        rcc_test_agg.columns = [f'{rcc_test_agg.columns.name}_{c}_saldoMax_ult{n+1}meses' for c in rcc_test_agg.columns]\n",
    "        list_rcc_test_agg.append(rcc_test_agg)\n",
    "        gc.collect()\n",
    "\n",
    "        rcc_test_agg = rcc_test[rcc_test.codmes>=i].groupby(['key_value', c]).saldo.std().unstack(level = 1, fill_value=np.nan)\n",
    "        rcc_test_agg.columns = [f'{rcc_test_agg.columns.name}_{c}_saldoStd_ult{n+1}meses' for c in rcc_test_agg.columns]\n",
    "        list_rcc_test_agg.append(rcc_test_agg)\n",
    "        gc.collect()\n",
    "\n",
    "        rcc_test_agg = rcc_test[rcc_test.codmes>=i].groupby(['key_value', c]).saldo.mean().unstack(level = 1, fill_value=np.nan)\n",
    "        rcc_test_agg.columns = [f'{rcc_test_agg.columns.name}_{c}_saldoMean_ult{n+1}meses' for c in rcc_test_agg.columns]\n",
    "        list_rcc_test_agg.append(rcc_test_agg)\n",
    "        gc.collect()\n",
    "\n",
    "        rcc_test_agg = rcc_test[rcc_test.codmes>=i].groupby(['key_value', c]).saldo.median().unstack(level = 1, fill_value=np.nan)\n",
    "        rcc_test_agg.columns = [f'{rcc_test_agg.columns.name}_{c}_saldoMedian_ult{n+1}meses' for c in rcc_test_agg.columns]\n",
    "        list_rcc_test_agg.append(rcc_test_agg)\n",
    "        gc.collect()\n",
    "\n",
    "        \n",
    "#     print(f'haciendo aggregate de {i}')\n",
    "#     rcc_test_agg = rcc_test[rcc_test.codmes>=i].groupby('key_value').agg(agg_rcc)\n",
    "#     rcc_test_agg.columns = [i+'_'+j+f'_ult{n+1}mes' for i,j in rcc_test_agg.columns]\n",
    "#     list_rcc_test_agg.append(rcc_test_agg)\n",
    "#     gc.collect()\n",
    "\n",
    "rcc_test_ = pd.concat(list_rcc_test_agg, axis=1)\n",
    "del rcc_test, list_rcc_test_agg"
   ]
  },
  {
   "cell_type": "code",
   "execution_count": 11,
   "id": "recognized-timber",
   "metadata": {},
   "outputs": [
    {
     "name": "stdout",
     "output_type": "stream",
     "text": [
      "(358487, 1260) (396666, 1169)\n",
      "(358487, 1162) (396666, 1162)\n"
     ]
    }
   ],
   "source": [
    "### asegurar que las columnas esten en ambas bases (train/test)\n",
    "print(rcc_train_.shape, rcc_test_.shape)\n",
    "keep_columns = list(set(rcc_train_.columns).intersection(rcc_test_.columns))\n",
    "rcc_train_ = rcc_train_[keep_columns].copy()\n",
    "rcc_test_ = rcc_test_[keep_columns].copy()\n",
    "print(rcc_train_.shape, rcc_test_.shape)"
   ]
  },
  {
   "cell_type": "code",
   "execution_count": 12,
   "id": "grateful-currency",
   "metadata": {},
   "outputs": [],
   "source": [
    "### unir RCC en la base final\n",
    "train = rcc_train_.copy()\n",
    "test = rcc_test_.copy()\n",
    "del rcc_train_, rcc_test_"
   ]
  },
  {
   "cell_type": "code",
   "execution_count": 13,
   "id": "conservative-bradford",
   "metadata": {},
   "outputs": [],
   "source": [
    "# train.to_pickle('train_2532features.pkl')\n",
    "# test.to_pickle('test_2532features.pkl')"
   ]
  },
  {
   "cell_type": "code",
   "execution_count": 14,
   "id": "peaceful-louisville",
   "metadata": {},
   "outputs": [],
   "source": [
    "from lightgbm import LGBMClassifier\n",
    "from sklearn.metrics import roc_auc_score\n",
    "from sklearn.model_selection import KFold\n",
    "\n",
    "def cross_validation_lightgbm_fi(train, y_train, test):\n",
    "    folds = [train.index[t] for t, v in KFold(5).split(train)]\n",
    "    test_probs = []\n",
    "    train_probs = []\n",
    "    fi = []\n",
    "    for i, idx in enumerate(folds):\n",
    "        print(\"*\"*10, i, \"*\"*10)\n",
    "        Xt = train.loc[idx]\n",
    "        yt = y_train.loc[Xt.index].target\n",
    "\n",
    "        Xv = train.drop(Xt.index)\n",
    "        yv = y_train.loc[Xv.index].target\n",
    "\n",
    "        learner = LGBMClassifier(n_estimators=1000, boosting_type='gbdt',min_child_samples=1500, \n",
    "                       colsample_bytree=0.8,subsample=0.8, max_bin=200, learning_rate=0.1)\n",
    "        learner.fit(Xt, yt,  early_stopping_rounds=10, eval_metric=\"auc\",\n",
    "                    eval_set=[(Xt, yt), (Xv, yv)], verbose=50)\n",
    "        test_probs.append(pd.Series(learner.predict_proba(test)[:, -1], index=test.index, name=\"fold_\" + str(i)))\n",
    "        train_probs.append(pd.Series(learner.predict_proba(Xv)[:, -1], index=Xv.index, name=\"probs\"))\n",
    "        fi.append(pd.Series(learner.feature_importances_ / learner.feature_importances_.sum(), index=Xt.columns))\n",
    "\n",
    "    test_probs = pd.concat(test_probs, axis=1).mean(axis=1)\n",
    "    train_probs = pd.concat(train_probs)\n",
    "    fi = pd.concat(fi, axis=1).mean(axis=1)\n",
    "    print(\"*\" * 21)\n",
    "    print(\"roc auc estimado: \", roc_auc_score(y_train, train_probs.loc[y_train.index]))\n",
    "    print(\"roc auc varianza: \", np.std([roc_auc_score(y_train.loc[folds[i]], train_probs.iloc[folds[i]]) for i in range(len(folds))])) \n",
    "    return fi"
   ]
  },
  {
   "cell_type": "code",
   "execution_count": 15,
   "id": "bacterial-adjustment",
   "metadata": {},
   "outputs": [
    {
     "name": "stdout",
     "output_type": "stream",
     "text": [
      "********** 0 **********\n",
      "Training until validation scores don't improve for 10 rounds\n",
      "[50]\ttraining's auc: 0.829378\ttraining's binary_logloss: 0.316517\tvalid_1's auc: 0.82109\tvalid_1's binary_logloss: 0.323158\n",
      "[100]\ttraining's auc: 0.841328\ttraining's binary_logloss: 0.306597\tvalid_1's auc: 0.828142\tvalid_1's binary_logloss: 0.317272\n",
      "[150]\ttraining's auc: 0.848351\ttraining's binary_logloss: 0.301041\tvalid_1's auc: 0.830172\tvalid_1's binary_logloss: 0.315431\n",
      "[200]\ttraining's auc: 0.854194\ttraining's binary_logloss: 0.296586\tvalid_1's auc: 0.83133\tvalid_1's binary_logloss: 0.3146\n",
      "[250]\ttraining's auc: 0.859372\ttraining's binary_logloss: 0.29266\tvalid_1's auc: 0.831925\tvalid_1's binary_logloss: 0.314009\n",
      "Early stopping, best iteration is:\n",
      "[252]\ttraining's auc: 0.8596\ttraining's binary_logloss: 0.292498\tvalid_1's auc: 0.831959\tvalid_1's binary_logloss: 0.313973\n",
      "********** 1 **********\n",
      "Training until validation scores don't improve for 10 rounds\n",
      "[50]\ttraining's auc: 0.829147\ttraining's binary_logloss: 0.316727\tvalid_1's auc: 0.820892\tvalid_1's binary_logloss: 0.32217\n",
      "[100]\ttraining's auc: 0.84127\ttraining's binary_logloss: 0.306789\tvalid_1's auc: 0.827133\tvalid_1's binary_logloss: 0.316619\n",
      "[150]\ttraining's auc: 0.848592\ttraining's binary_logloss: 0.301042\tvalid_1's auc: 0.829576\tvalid_1's binary_logloss: 0.314641\n",
      "[200]\ttraining's auc: 0.854496\ttraining's binary_logloss: 0.296602\tvalid_1's auc: 0.830935\tvalid_1's binary_logloss: 0.313586\n",
      "[250]\ttraining's auc: 0.859511\ttraining's binary_logloss: 0.292768\tvalid_1's auc: 0.831686\tvalid_1's binary_logloss: 0.312998\n",
      "[300]\ttraining's auc: 0.864048\ttraining's binary_logloss: 0.289272\tvalid_1's auc: 0.832104\tvalid_1's binary_logloss: 0.312634\n",
      "Early stopping, best iteration is:\n",
      "[305]\ttraining's auc: 0.86451\ttraining's binary_logloss: 0.288923\tvalid_1's auc: 0.832129\tvalid_1's binary_logloss: 0.31261\n",
      "********** 2 **********\n",
      "Training until validation scores don't improve for 10 rounds\n",
      "[50]\ttraining's auc: 0.829338\ttraining's binary_logloss: 0.316976\tvalid_1's auc: 0.825155\tvalid_1's binary_logloss: 0.320328\n",
      "[100]\ttraining's auc: 0.840864\ttraining's binary_logloss: 0.307168\tvalid_1's auc: 0.830724\tvalid_1's binary_logloss: 0.314727\n",
      "[150]\ttraining's auc: 0.847933\ttraining's binary_logloss: 0.301505\tvalid_1's auc: 0.832566\tvalid_1's binary_logloss: 0.312797\n",
      "[200]\ttraining's auc: 0.853769\ttraining's binary_logloss: 0.297027\tvalid_1's auc: 0.833112\tvalid_1's binary_logloss: 0.312114\n",
      "Early stopping, best iteration is:\n",
      "[198]\ttraining's auc: 0.853562\ttraining's binary_logloss: 0.297182\tvalid_1's auc: 0.833128\tvalid_1's binary_logloss: 0.312096\n",
      "********** 3 **********\n",
      "Training until validation scores don't improve for 10 rounds\n",
      "[50]\ttraining's auc: 0.829113\ttraining's binary_logloss: 0.317112\tvalid_1's auc: 0.822553\tvalid_1's binary_logloss: 0.320851\n",
      "[100]\ttraining's auc: 0.841024\ttraining's binary_logloss: 0.30731\tvalid_1's auc: 0.829476\tvalid_1's binary_logloss: 0.314834\n",
      "[150]\ttraining's auc: 0.848163\ttraining's binary_logloss: 0.301571\tvalid_1's auc: 0.831556\tvalid_1's binary_logloss: 0.31278\n",
      "[200]\ttraining's auc: 0.854065\ttraining's binary_logloss: 0.297093\tvalid_1's auc: 0.832455\tvalid_1's binary_logloss: 0.311824\n",
      "[250]\ttraining's auc: 0.85918\ttraining's binary_logloss: 0.293183\tvalid_1's auc: 0.832831\tvalid_1's binary_logloss: 0.311332\n",
      "Early stopping, best iteration is:\n",
      "[252]\ttraining's auc: 0.859351\ttraining's binary_logloss: 0.29304\tvalid_1's auc: 0.832861\tvalid_1's binary_logloss: 0.311312\n",
      "********** 4 **********\n",
      "Training until validation scores don't improve for 10 rounds\n",
      "[50]\ttraining's auc: 0.831442\ttraining's binary_logloss: 0.316248\tvalid_1's auc: 0.814171\tvalid_1's binary_logloss: 0.32288\n",
      "[100]\ttraining's auc: 0.843166\ttraining's binary_logloss: 0.30628\tvalid_1's auc: 0.819944\tvalid_1's binary_logloss: 0.317762\n",
      "[150]\ttraining's auc: 0.850384\ttraining's binary_logloss: 0.300579\tvalid_1's auc: 0.821845\tvalid_1's binary_logloss: 0.316092\n",
      "[200]\ttraining's auc: 0.856276\ttraining's binary_logloss: 0.296064\tvalid_1's auc: 0.822547\tvalid_1's binary_logloss: 0.315342\n",
      "[250]\ttraining's auc: 0.861436\ttraining's binary_logloss: 0.292094\tvalid_1's auc: 0.823076\tvalid_1's binary_logloss: 0.314869\n",
      "Early stopping, best iteration is:\n",
      "[270]\ttraining's auc: 0.863353\ttraining's binary_logloss: 0.290648\tvalid_1's auc: 0.8233\tvalid_1's binary_logloss: 0.314692\n",
      "*********************\n",
      "roc auc estimado:  0.8307075248646782\n",
      "roc auc varianza:  0.0008990914414555884\n",
      "total de variables : 1162\n",
      "variables con importancia acumulada al 99% : 480\n",
      "variables con zero importancia : 587\n",
      "********** 0 **********\n",
      "Training until validation scores don't improve for 10 rounds\n",
      "[50]\ttraining's auc: 0.829141\ttraining's binary_logloss: 0.316407\tvalid_1's auc: 0.821264\tvalid_1's binary_logloss: 0.323034\n",
      "[100]\ttraining's auc: 0.841174\ttraining's binary_logloss: 0.306596\tvalid_1's auc: 0.828009\tvalid_1's binary_logloss: 0.317397\n",
      "[150]\ttraining's auc: 0.848125\ttraining's binary_logloss: 0.301056\tvalid_1's auc: 0.830288\tvalid_1's binary_logloss: 0.315407\n",
      "[200]\ttraining's auc: 0.853876\ttraining's binary_logloss: 0.296685\tvalid_1's auc: 0.831381\tvalid_1's binary_logloss: 0.314424\n",
      "[250]\ttraining's auc: 0.859036\ttraining's binary_logloss: 0.292795\tvalid_1's auc: 0.831882\tvalid_1's binary_logloss: 0.313996\n",
      "[300]\ttraining's auc: 0.86381\ttraining's binary_logloss: 0.289275\tvalid_1's auc: 0.832205\tvalid_1's binary_logloss: 0.313741\n",
      "Early stopping, best iteration is:\n",
      "[331]\ttraining's auc: 0.866477\ttraining's binary_logloss: 0.28725\tvalid_1's auc: 0.832435\tvalid_1's binary_logloss: 0.313571\n",
      "********** 1 **********\n",
      "Training until validation scores don't improve for 10 rounds\n",
      "[50]\ttraining's auc: 0.829484\ttraining's binary_logloss: 0.316539\tvalid_1's auc: 0.821114\tvalid_1's binary_logloss: 0.322233\n",
      "[100]\ttraining's auc: 0.841534\ttraining's binary_logloss: 0.306525\tvalid_1's auc: 0.827849\tvalid_1's binary_logloss: 0.316427\n",
      "[150]\ttraining's auc: 0.848754\ttraining's binary_logloss: 0.300849\tvalid_1's auc: 0.829818\tvalid_1's binary_logloss: 0.3147\n",
      "[200]\ttraining's auc: 0.854556\ttraining's binary_logloss: 0.296439\tvalid_1's auc: 0.831026\tvalid_1's binary_logloss: 0.313741\n",
      "[250]\ttraining's auc: 0.859665\ttraining's binary_logloss: 0.29248\tvalid_1's auc: 0.831789\tvalid_1's binary_logloss: 0.31304\n",
      "[300]\ttraining's auc: 0.864238\ttraining's binary_logloss: 0.288977\tvalid_1's auc: 0.832041\tvalid_1's binary_logloss: 0.312818\n",
      "Early stopping, best iteration is:\n",
      "[315]\ttraining's auc: 0.865559\ttraining's binary_logloss: 0.287965\tvalid_1's auc: 0.832208\tvalid_1's binary_logloss: 0.312689\n",
      "********** 2 **********\n",
      "Training until validation scores don't improve for 10 rounds\n",
      "[50]\ttraining's auc: 0.828994\ttraining's binary_logloss: 0.316938\tvalid_1's auc: 0.825072\tvalid_1's binary_logloss: 0.32015\n",
      "[100]\ttraining's auc: 0.84081\ttraining's binary_logloss: 0.307054\tvalid_1's auc: 0.830726\tvalid_1's binary_logloss: 0.314502\n",
      "[150]\ttraining's auc: 0.848151\ttraining's binary_logloss: 0.301489\tvalid_1's auc: 0.832585\tvalid_1's binary_logloss: 0.312776\n",
      "[200]\ttraining's auc: 0.853956\ttraining's binary_logloss: 0.297038\tvalid_1's auc: 0.833407\tvalid_1's binary_logloss: 0.311869\n",
      "[250]\ttraining's auc: 0.859081\ttraining's binary_logloss: 0.29309\tvalid_1's auc: 0.834225\tvalid_1's binary_logloss: 0.311074\n",
      "[300]\ttraining's auc: 0.86371\ttraining's binary_logloss: 0.2896\tvalid_1's auc: 0.834612\tvalid_1's binary_logloss: 0.310807\n",
      "Early stopping, best iteration is:\n",
      "[335]\ttraining's auc: 0.866771\ttraining's binary_logloss: 0.287215\tvalid_1's auc: 0.834849\tvalid_1's binary_logloss: 0.310607\n",
      "********** 3 **********\n",
      "Training until validation scores don't improve for 10 rounds\n",
      "[50]\ttraining's auc: 0.82958\ttraining's binary_logloss: 0.316938\tvalid_1's auc: 0.822983\tvalid_1's binary_logloss: 0.320634\n",
      "[100]\ttraining's auc: 0.84145\ttraining's binary_logloss: 0.307069\tvalid_1's auc: 0.829199\tvalid_1's binary_logloss: 0.314801\n",
      "[150]\ttraining's auc: 0.848637\ttraining's binary_logloss: 0.301373\tvalid_1's auc: 0.831176\tvalid_1's binary_logloss: 0.312854\n",
      "Early stopping, best iteration is:\n",
      "[187]\ttraining's auc: 0.853007\ttraining's binary_logloss: 0.297979\tvalid_1's auc: 0.83189\tvalid_1's binary_logloss: 0.312088\n",
      "********** 4 **********\n"
     ]
    },
    {
     "name": "stdout",
     "output_type": "stream",
     "text": [
      "Training until validation scores don't improve for 10 rounds\n",
      "[50]\ttraining's auc: 0.8313\ttraining's binary_logloss: 0.316413\tvalid_1's auc: 0.814154\tvalid_1's binary_logloss: 0.322875\n",
      "[100]\ttraining's auc: 0.843139\ttraining's binary_logloss: 0.306303\tvalid_1's auc: 0.820059\tvalid_1's binary_logloss: 0.31772\n",
      "[150]\ttraining's auc: 0.850405\ttraining's binary_logloss: 0.30051\tvalid_1's auc: 0.821994\tvalid_1's binary_logloss: 0.315949\n",
      "[200]\ttraining's auc: 0.856253\ttraining's binary_logloss: 0.295976\tvalid_1's auc: 0.822703\tvalid_1's binary_logloss: 0.315184\n",
      "Early stopping, best iteration is:\n",
      "[200]\ttraining's auc: 0.856253\ttraining's binary_logloss: 0.295976\tvalid_1's auc: 0.822703\tvalid_1's binary_logloss: 0.315184\n",
      "*********************\n",
      "roc auc estimado:  0.8308611236296664\n",
      "roc auc varianza:  0.0010187308154542688\n",
      "total de variables : 480\n",
      "variables con importancia acumulada al 99% : 442\n",
      "variables con zero importancia : 0\n"
     ]
    }
   ],
   "source": [
    "# eliminar variables con zero_importance\n",
    "while True:\n",
    "    fi = cross_validation_lightgbm_fi(train, y_train, test)\n",
    "    zero_importance = fi[fi==0]\n",
    "    aux = fi[fi>0].sort_values(ascending=False)\n",
    "    keep_columns = []\n",
    "    count = 0\n",
    "    for feature,values in zip(aux.index, aux.values):\n",
    "        count+=values\n",
    "        if count<=0.99:\n",
    "            keep_columns.append(feature)\n",
    "            \n",
    "    print(f'total de variables : {len(train.columns)}')\n",
    "    print(f'variables con importancia acumulada al 99% : {len(keep_columns)}')\n",
    "    print(f'variables con zero importancia : {len(zero_importance)}')\n",
    "    train = train[keep_columns]\n",
    "    test = test[keep_columns]\n",
    "    if len(zero_importance)==0:\n",
    "        break"
   ]
  },
  {
   "cell_type": "code",
   "execution_count": 16,
   "id": "taken-hypothesis",
   "metadata": {
    "scrolled": true
   },
   "outputs": [
    {
     "name": "stdout",
     "output_type": "stream",
     "text": [
      "********** 0 **********\n",
      "Training until validation scores don't improve for 10 rounds\n",
      "[50]\ttraining's auc: 0.829383\ttraining's binary_logloss: 0.316445\tvalid_1's auc: 0.820721\tvalid_1's binary_logloss: 0.323438\n",
      "[100]\ttraining's auc: 0.841156\ttraining's binary_logloss: 0.306642\tvalid_1's auc: 0.827559\tvalid_1's binary_logloss: 0.317697\n",
      "[150]\ttraining's auc: 0.848379\ttraining's binary_logloss: 0.300885\tvalid_1's auc: 0.829874\tvalid_1's binary_logloss: 0.315627\n",
      "[200]\ttraining's auc: 0.854155\ttraining's binary_logloss: 0.296491\tvalid_1's auc: 0.830872\tvalid_1's binary_logloss: 0.314815\n",
      "[250]\ttraining's auc: 0.859248\ttraining's binary_logloss: 0.292603\tvalid_1's auc: 0.831842\tvalid_1's binary_logloss: 0.314099\n",
      "Early stopping, best iteration is:\n",
      "[271]\ttraining's auc: 0.861317\ttraining's binary_logloss: 0.291075\tvalid_1's auc: 0.831944\tvalid_1's binary_logloss: 0.313999\n",
      "********** 1 **********\n",
      "Training until validation scores don't improve for 10 rounds\n",
      "[50]\ttraining's auc: 0.82923\ttraining's binary_logloss: 0.316577\tvalid_1's auc: 0.820743\tvalid_1's binary_logloss: 0.322242\n",
      "[100]\ttraining's auc: 0.84133\ttraining's binary_logloss: 0.306625\tvalid_1's auc: 0.827507\tvalid_1's binary_logloss: 0.316476\n",
      "[150]\ttraining's auc: 0.848459\ttraining's binary_logloss: 0.300991\tvalid_1's auc: 0.829361\tvalid_1's binary_logloss: 0.314814\n",
      "[200]\ttraining's auc: 0.854514\ttraining's binary_logloss: 0.296519\tvalid_1's auc: 0.830547\tvalid_1's binary_logloss: 0.313955\n",
      "[250]\ttraining's auc: 0.859505\ttraining's binary_logloss: 0.29264\tvalid_1's auc: 0.831164\tvalid_1's binary_logloss: 0.313415\n",
      "[300]\ttraining's auc: 0.863904\ttraining's binary_logloss: 0.28913\tvalid_1's auc: 0.831588\tvalid_1's binary_logloss: 0.3131\n",
      "Early stopping, best iteration is:\n",
      "[327]\ttraining's auc: 0.866327\ttraining's binary_logloss: 0.28729\tvalid_1's auc: 0.832004\tvalid_1's binary_logloss: 0.312851\n",
      "********** 2 **********\n",
      "Training until validation scores don't improve for 10 rounds\n",
      "[50]\ttraining's auc: 0.828866\ttraining's binary_logloss: 0.317043\tvalid_1's auc: 0.824645\tvalid_1's binary_logloss: 0.32055\n",
      "[100]\ttraining's auc: 0.840731\ttraining's binary_logloss: 0.307061\tvalid_1's auc: 0.830456\tvalid_1's binary_logloss: 0.31469\n",
      "[150]\ttraining's auc: 0.848088\ttraining's binary_logloss: 0.301374\tvalid_1's auc: 0.832531\tvalid_1's binary_logloss: 0.312716\n",
      "[200]\ttraining's auc: 0.853766\ttraining's binary_logloss: 0.296989\tvalid_1's auc: 0.833364\tvalid_1's binary_logloss: 0.311859\n",
      "[250]\ttraining's auc: 0.859034\ttraining's binary_logloss: 0.292998\tvalid_1's auc: 0.833701\tvalid_1's binary_logloss: 0.311481\n",
      "Early stopping, best iteration is:\n",
      "[273]\ttraining's auc: 0.861167\ttraining's binary_logloss: 0.291373\tvalid_1's auc: 0.833851\tvalid_1's binary_logloss: 0.311352\n",
      "********** 3 **********\n",
      "Training until validation scores don't improve for 10 rounds\n",
      "[50]\ttraining's auc: 0.829386\ttraining's binary_logloss: 0.316931\tvalid_1's auc: 0.822865\tvalid_1's binary_logloss: 0.320654\n",
      "[100]\ttraining's auc: 0.841369\ttraining's binary_logloss: 0.307034\tvalid_1's auc: 0.829564\tvalid_1's binary_logloss: 0.314579\n",
      "[150]\ttraining's auc: 0.848636\ttraining's binary_logloss: 0.301355\tvalid_1's auc: 0.831684\tvalid_1's binary_logloss: 0.312661\n",
      "[200]\ttraining's auc: 0.854499\ttraining's binary_logloss: 0.296868\tvalid_1's auc: 0.832754\tvalid_1's binary_logloss: 0.311697\n",
      "Early stopping, best iteration is:\n",
      "[229]\ttraining's auc: 0.857688\ttraining's binary_logloss: 0.294532\tvalid_1's auc: 0.833129\tvalid_1's binary_logloss: 0.311352\n",
      "********** 4 **********\n",
      "Training until validation scores don't improve for 10 rounds\n",
      "[50]\ttraining's auc: 0.831584\ttraining's binary_logloss: 0.31629\tvalid_1's auc: 0.814099\tvalid_1's binary_logloss: 0.322937\n",
      "[100]\ttraining's auc: 0.843335\ttraining's binary_logloss: 0.306233\tvalid_1's auc: 0.820088\tvalid_1's binary_logloss: 0.31767\n",
      "[150]\ttraining's auc: 0.850696\ttraining's binary_logloss: 0.300425\tvalid_1's auc: 0.822024\tvalid_1's binary_logloss: 0.315944\n",
      "Early stopping, best iteration is:\n",
      "[173]\ttraining's auc: 0.853408\ttraining's binary_logloss: 0.29829\tvalid_1's auc: 0.822314\tvalid_1's binary_logloss: 0.315594\n",
      "*********************\n",
      "roc auc estimado:  0.83069195641057\n",
      "roc auc varianza:  0.0010245024894143433\n"
     ]
    }
   ],
   "source": [
    "from lightgbm import LGBMClassifier\n",
    "from sklearn.metrics import roc_auc_score\n",
    "from sklearn.model_selection import KFold\n",
    "\n",
    "folds = [train.index[t] for t, v in KFold(5).split(train)]\n",
    "test_probs = []\n",
    "train_probs = []\n",
    "fi = []\n",
    "for i, idx in enumerate(folds):\n",
    "    print(\"*\"*10, i, \"*\"*10)\n",
    "    Xt = train.loc[idx]\n",
    "    yt = y_train.loc[Xt.index].target\n",
    "\n",
    "    Xv = train.drop(Xt.index)\n",
    "    yv = y_train.loc[Xv.index].target\n",
    "\n",
    "    learner = LGBMClassifier(n_estimators=1000, boosting_type='gbdt',min_child_samples=1500, \n",
    "                   colsample_bytree=0.8,subsample=0.8, max_bin=200, learning_rate=0.1)\n",
    "    learner.fit(Xt, yt,  early_stopping_rounds=10, eval_metric=\"auc\",\n",
    "                eval_set=[(Xt, yt), (Xv, yv)], verbose=50)\n",
    "    test_probs.append(pd.Series(learner.predict_proba(test)[:, -1], index=test.index, name=\"fold_\" + str(i)))\n",
    "    train_probs.append(pd.Series(learner.predict_proba(Xv)[:, -1], index=Xv.index, name=\"probs\"))\n",
    "    fi.append(pd.Series(learner.feature_importances_ / learner.feature_importances_.sum(), index=Xt.columns))\n",
    "\n",
    "test_probs = pd.concat(test_probs, axis=1).mean(axis=1)\n",
    "train_probs = pd.concat(train_probs)\n",
    "fi = pd.concat(fi, axis=1).mean(axis=1)\n",
    "print(\"*\" * 21)\n",
    "print(\"roc auc estimado: \", roc_auc_score(y_train, train_probs.loc[y_train.index]))\n",
    "print(\"roc auc varianza: \", np.std([roc_auc_score(y_train.loc[folds[i]], train_probs.iloc[folds[i]]) for i in range(len(folds))])) "
   ]
  },
  {
   "cell_type": "code",
   "execution_count": 17,
   "id": "precious-madrid",
   "metadata": {},
   "outputs": [],
   "source": [
    "# test_probs.name = 'target'\n",
    "# test_probs.to_csv('../results/lightgbm_with_1064features_0.83955.csv') ### score de 0.84242 en la tabla publica"
   ]
  },
  {
   "cell_type": "code",
   "execution_count": 18,
   "id": "biblical-anatomy",
   "metadata": {},
   "outputs": [],
   "source": [
    "# train.to_pickle('train_1064features.pkl')\n",
    "# test.to_pickle('test_1064features.pkl')"
   ]
  },
  {
   "cell_type": "markdown",
   "id": "muslim-battery",
   "metadata": {},
   "source": [
    "## Procesar SE"
   ]
  },
  {
   "cell_type": "code",
   "execution_count": 19,
   "id": "spectacular-wright",
   "metadata": {},
   "outputs": [],
   "source": [
    "se_train = pd.read_csv(f'{path}/se_train.csv', index_col = 'key_value')\n",
    "se_test = pd.read_csv(f'{path}/se_test.csv', index_col = 'key_value')"
   ]
  },
  {
   "cell_type": "code",
   "execution_count": 20,
   "id": "portuguese-share",
   "metadata": {},
   "outputs": [],
   "source": [
    "dict_ = {'sexo':'int32',\n",
    "         'est_cvl':'int32',\n",
    "         'sit_lab':'int32',\n",
    "         'cod_ocu':'int32',\n",
    "         'ctd_hijos':'int32',\n",
    "         'flg_sin_email':'int32',\n",
    "         'ctd_veh':'int32',\n",
    "         'lgr_vot':'int32',\n",
    "         'prv':'int32',\n",
    "         'dto':'int32',\n",
    "         'rgn':'int32',\n",
    "         'tip_lvledu':'int32'}\n",
    "se_train = se_train.astype(dict_)\n",
    "se_test = se_test.astype(dict_)"
   ]
  },
  {
   "cell_type": "code",
   "execution_count": 21,
   "id": "remarkable-yacht",
   "metadata": {
    "scrolled": false
   },
   "outputs": [],
   "source": [
    "from lightgbm import LGBMClassifier\n",
    "from sklearn.metrics import roc_auc_score\n",
    "from sklearn.model_selection import KFold\n",
    "\n",
    "def cross_validation_lightgbm(train, test, y_train):\n",
    "    folds = [train.index[t] for t, v in KFold(5).split(train)]\n",
    "    test_probs = []\n",
    "    train_probs = []\n",
    "    fi = []\n",
    "    for i, idx in enumerate(folds):\n",
    "        print(\"*\"*10, i, \"*\"*10)\n",
    "        Xt = train.loc[idx]\n",
    "        yt = y_train.loc[Xt.index].target\n",
    "\n",
    "        Xv = train.drop(Xt.index)\n",
    "        yv = y_train.loc[Xv.index].target\n",
    "\n",
    "        learner = LGBMClassifier(n_estimators=1000, boosting_type='gbdt',min_child_samples=1500, \n",
    "                       colsample_bytree=0.8,subsample=0.8, max_bin=200, learning_rate=0.1)\n",
    "        learner.fit(Xt, yt,  early_stopping_rounds=10, eval_metric=\"auc\",\n",
    "                    eval_set=[(Xt, yt), (Xv, yv)], verbose=50)\n",
    "        test_probs.append(pd.Series(learner.predict_proba(test)[:, -1], index=test.index, name=\"fold_\" + str(i)))\n",
    "        train_probs.append(pd.Series(learner.predict_proba(Xv)[:, -1], index=Xv.index, name=\"probs\"))\n",
    "        fi.append(pd.Series(learner.feature_importances_ / learner.feature_importances_.sum(), index=Xt.columns))\n",
    "        gc.collect()\n",
    "    test_probs = pd.concat(test_probs, axis=1).mean(axis=1)\n",
    "    train_probs = pd.concat(train_probs)\n",
    "    fi = pd.concat(fi, axis=1).mean(axis=1)\n",
    "    print(\"*\" * 21)\n",
    "    print(\"roc auc estimado: \", roc_auc_score(y_train, train_probs.loc[y_train.index]))\n",
    "    print(\"roc auc varianza: \", np.std([roc_auc_score(y_train.loc[folds[i]], train_probs.iloc[folds[i]]) for i in range(len(folds))]))\n",
    "    return [test_probs, fi]"
   ]
  },
  {
   "cell_type": "code",
   "execution_count": 22,
   "id": "challenging-clause",
   "metadata": {},
   "outputs": [],
   "source": [
    "def get_one_hot(df, feature):\n",
    "    one_hot = pd.get_dummies(df[feature])\n",
    "    one_hot.columns = [feature+'_'+str(i) for i in one_hot.columns]\n",
    "    return one_hot\n",
    "one_hot_sexo_train = get_one_hot(se_train, 'sexo')\n",
    "one_hot_sexo_test = get_one_hot(se_test, 'sexo')\n",
    "one_hot_est_cvl_train = get_one_hot(se_train, 'est_cvl')\n",
    "one_hot_est_cvl_test = get_one_hot(se_test, 'est_cvl')\n",
    "one_hot_rgn_train = get_one_hot(se_train, 'rgn')\n",
    "one_hot_rgn_test = get_one_hot(se_test, 'rgn')"
   ]
  },
  {
   "cell_type": "code",
   "execution_count": 23,
   "id": "paperback-sunrise",
   "metadata": {},
   "outputs": [],
   "source": [
    "train = train.join(one_hot_sexo_train).join(one_hot_est_cvl_train).join(one_hot_rgn_train).join(se_train[['edad','ctd_veh']])\n",
    "test = test.join(one_hot_sexo_test).join(one_hot_est_cvl_test).join(one_hot_rgn_test).join(se_test[['edad','ctd_veh']])"
   ]
  },
  {
   "cell_type": "code",
   "execution_count": 24,
   "id": "pediatric-response",
   "metadata": {
    "scrolled": true
   },
   "outputs": [
    {
     "name": "stdout",
     "output_type": "stream",
     "text": [
      "********** 0 **********\n",
      "Training until validation scores don't improve for 10 rounds\n",
      "[50]\ttraining's auc: 0.832648\ttraining's binary_logloss: 0.315131\tvalid_1's auc: 0.824697\tvalid_1's binary_logloss: 0.321771\n",
      "[100]\ttraining's auc: 0.845558\ttraining's binary_logloss: 0.304235\tvalid_1's auc: 0.832802\tvalid_1's binary_logloss: 0.314954\n",
      "[150]\ttraining's auc: 0.85316\ttraining's binary_logloss: 0.298127\tvalid_1's auc: 0.835316\tvalid_1's binary_logloss: 0.312791\n",
      "[200]\ttraining's auc: 0.859088\ttraining's binary_logloss: 0.29347\tvalid_1's auc: 0.836466\tvalid_1's binary_logloss: 0.311792\n",
      "[250]\ttraining's auc: 0.864298\ttraining's binary_logloss: 0.289463\tvalid_1's auc: 0.837017\tvalid_1's binary_logloss: 0.311331\n",
      "[300]\ttraining's auc: 0.86894\ttraining's binary_logloss: 0.285817\tvalid_1's auc: 0.837455\tvalid_1's binary_logloss: 0.310912\n",
      "Early stopping, best iteration is:\n",
      "[311]\ttraining's auc: 0.869891\ttraining's binary_logloss: 0.285058\tvalid_1's auc: 0.837511\tvalid_1's binary_logloss: 0.31087\n",
      "********** 1 **********\n",
      "Training until validation scores don't improve for 10 rounds\n",
      "[50]\ttraining's auc: 0.833034\ttraining's binary_logloss: 0.315211\tvalid_1's auc: 0.824215\tvalid_1's binary_logloss: 0.32081\n",
      "[100]\ttraining's auc: 0.84595\ttraining's binary_logloss: 0.304277\tvalid_1's auc: 0.831353\tvalid_1's binary_logloss: 0.314444\n",
      "[150]\ttraining's auc: 0.853292\ttraining's binary_logloss: 0.29804\tvalid_1's auc: 0.833788\tvalid_1's binary_logloss: 0.312173\n",
      "[200]\ttraining's auc: 0.859118\ttraining's binary_logloss: 0.293453\tvalid_1's auc: 0.83491\tvalid_1's binary_logloss: 0.311191\n",
      "[250]\ttraining's auc: 0.864123\ttraining's binary_logloss: 0.289445\tvalid_1's auc: 0.835724\tvalid_1's binary_logloss: 0.3105\n",
      "Early stopping, best iteration is:\n",
      "[259]\ttraining's auc: 0.864989\ttraining's binary_logloss: 0.288786\tvalid_1's auc: 0.835806\tvalid_1's binary_logloss: 0.310448\n",
      "********** 2 **********\n",
      "Training until validation scores don't improve for 10 rounds\n",
      "[50]\ttraining's auc: 0.833202\ttraining's binary_logloss: 0.315397\tvalid_1's auc: 0.828517\tvalid_1's binary_logloss: 0.319039\n",
      "[100]\ttraining's auc: 0.845816\ttraining's binary_logloss: 0.304473\tvalid_1's auc: 0.834964\tvalid_1's binary_logloss: 0.312544\n",
      "[150]\ttraining's auc: 0.853276\ttraining's binary_logloss: 0.298387\tvalid_1's auc: 0.837287\tvalid_1's binary_logloss: 0.310275\n",
      "[200]\ttraining's auc: 0.859081\ttraining's binary_logloss: 0.293792\tvalid_1's auc: 0.838197\tvalid_1's binary_logloss: 0.309334\n",
      "Early stopping, best iteration is:\n",
      "[220]\ttraining's auc: 0.861102\ttraining's binary_logloss: 0.292146\tvalid_1's auc: 0.838522\tvalid_1's binary_logloss: 0.309004\n",
      "********** 3 **********\n",
      "Training until validation scores don't improve for 10 rounds\n",
      "[50]\ttraining's auc: 0.832743\ttraining's binary_logloss: 0.315691\tvalid_1's auc: 0.826263\tvalid_1's binary_logloss: 0.319481\n",
      "[100]\ttraining's auc: 0.845454\ttraining's binary_logloss: 0.304936\tvalid_1's auc: 0.834157\tvalid_1's binary_logloss: 0.312463\n",
      "[150]\ttraining's auc: 0.853083\ttraining's binary_logloss: 0.298774\tvalid_1's auc: 0.836489\tvalid_1's binary_logloss: 0.310191\n",
      "[200]\ttraining's auc: 0.859036\ttraining's binary_logloss: 0.294069\tvalid_1's auc: 0.837742\tvalid_1's binary_logloss: 0.308929\n",
      "Early stopping, best iteration is:\n",
      "[232]\ttraining's auc: 0.862287\ttraining's binary_logloss: 0.291453\tvalid_1's auc: 0.838248\tvalid_1's binary_logloss: 0.308413\n",
      "********** 4 **********\n",
      "Training until validation scores don't improve for 10 rounds\n",
      "[50]\ttraining's auc: 0.834978\ttraining's binary_logloss: 0.314877\tvalid_1's auc: 0.817055\tvalid_1's binary_logloss: 0.321907\n",
      "[100]\ttraining's auc: 0.847819\ttraining's binary_logloss: 0.303791\tvalid_1's auc: 0.824136\tvalid_1's binary_logloss: 0.315937\n",
      "[150]\ttraining's auc: 0.855218\ttraining's binary_logloss: 0.29761\tvalid_1's auc: 0.826189\tvalid_1's binary_logloss: 0.31402\n",
      "[200]\ttraining's auc: 0.8611\ttraining's binary_logloss: 0.292891\tvalid_1's auc: 0.82705\tvalid_1's binary_logloss: 0.313227\n",
      "Early stopping, best iteration is:\n",
      "[208]\ttraining's auc: 0.861922\ttraining's binary_logloss: 0.292262\tvalid_1's auc: 0.827104\tvalid_1's binary_logloss: 0.313158\n",
      "*********************\n",
      "roc auc estimado:  0.8354765476748296\n",
      "roc auc varianza:  0.0010397254387714827\n"
     ]
    }
   ],
   "source": [
    "[test_probs,fi] = cross_validation_lightgbm(train, test, y_train)"
   ]
  },
  {
   "cell_type": "code",
   "execution_count": 25,
   "id": "contained-religion",
   "metadata": {},
   "outputs": [],
   "source": [
    "# test_probs.name = 'target'\n",
    "# test_probs.to_csv('../results/test_withRccSe_0.84422.csv') #### score de 0.84738 en la tabla publica"
   ]
  },
  {
   "cell_type": "markdown",
   "id": "proof-compilation",
   "metadata": {},
   "source": [
    "## Procesar SUNAT"
   ]
  },
  {
   "cell_type": "code",
   "execution_count": 26,
   "id": "wooden-sugar",
   "metadata": {},
   "outputs": [],
   "source": [
    "sunat_train = pd.read_csv(f'{path}/sunat_train.csv')\n",
    "sunat_test = pd.read_csv(f'{path}/sunat_test.csv')"
   ]
  },
  {
   "cell_type": "code",
   "execution_count": 27,
   "id": "suspected-punch",
   "metadata": {},
   "outputs": [
    {
     "data": {
      "text/plain": [
       "((292479, 18), (318821, 18))"
      ]
     },
     "execution_count": 27,
     "metadata": {},
     "output_type": "execute_result"
    }
   ],
   "source": [
    "### eliminar registros duplicados\n",
    "sunat_train.drop_duplicates(inplace=True)\n",
    "sunat_test.drop_duplicates(inplace=True)\n",
    "sunat_train.shape, sunat_test.shape"
   ]
  },
  {
   "cell_type": "code",
   "execution_count": 28,
   "id": "protective-european",
   "metadata": {},
   "outputs": [],
   "source": [
    "dict_ = {'tipcontribuyente': 'int32',\n",
    "         'tippersona': 'int32',\n",
    "         'ciiu': 'int32',\n",
    "         'ubigeo': 'int32',\n",
    "         'condiciondomicilio': 'int32',\n",
    "         'estadocontribuyente': 'int32',\n",
    "         'codvia': 'int32',\n",
    "         'codzona': 'int32',\n",
    "         'contabilidad': 'int32',\n",
    "         'facturacion': 'int32',\n",
    "         'domiciliado': 'int32',\n",
    "         'comercioexterior': 'int32',\n",
    "         'cargorele': 'int32',\n",
    "         'codentidadtributo': 'int32',\n",
    "         'estadotributo': 'int32'}\n",
    "sunat_train = sunat_train.astype(dict_)\n",
    "sunat_test = sunat_test.astype(dict_)"
   ]
  },
  {
   "cell_type": "code",
   "execution_count": 29,
   "id": "approved-scientist",
   "metadata": {},
   "outputs": [],
   "source": [
    "sunat_train['diff_fech'] = sunat_train['fecbaja'] - sunat_train['fecalta']\n",
    "sunat_test['diff_fech'] = sunat_test['fecbaja'] - sunat_test['fecalta']"
   ]
  },
  {
   "cell_type": "code",
   "execution_count": 30,
   "id": "early-madonna",
   "metadata": {},
   "outputs": [],
   "source": [
    "moda=lambda x: calculate_mode(x)\n",
    "moda.__name__='mode'\n",
    "agg_sunat = {\n",
    "            'tipcontribuyente':['nunique',moda],\n",
    "           'tippersona':['nunique',moda],\n",
    "           'ciiu':['nunique', moda],\n",
    "           'ubigeo':['nunique',moda],\n",
    "           'condiciondomicilio':['nunique',moda],\n",
    "#            'estadocontribuyente':['nunique',moda],\n",
    "           'codvia':['nunique',moda],\n",
    "           'codzona':['nunique',moda],\n",
    "           'contabilidad':['nunique',moda],\n",
    "           'facturacion':['nunique',moda],\n",
    "           'domiciliado':['nunique',moda],\n",
    "           'comercioexterior':['nunique',moda],\n",
    "           'cargorele':['nunique',moda],\n",
    "           'codentidadtributo':['nunique',moda],\n",
    "           'estadotributo':['nunique',moda],\n",
    "           'fecalta':['mean','max', 'nunique','min','std'],\n",
    "           'fecbaja':['mean','max', 'nunique','min'], \n",
    "           'diff_fech':['mean','max', 'nunique','min'], \n",
    "            }\n",
    "sunat_train_ = sunat_train.groupby('key_value').agg(agg_sunat)\n",
    "sunat_train_.columns = [i+'_'+j for i,j in sunat_train_.columns]\n",
    "sunat_test_ = sunat_test.groupby('key_value').agg(agg_sunat)\n",
    "sunat_test_.columns = [i+'_'+j for i,j in sunat_test_.columns]\n",
    "# del sunat_train, sunat_test"
   ]
  },
  {
   "cell_type": "code",
   "execution_count": 31,
   "id": "growing-intelligence",
   "metadata": {},
   "outputs": [],
   "source": [
    "def get_keep_columns(train, test):\n",
    "    print(train.shape, test.shape)\n",
    "    keep_columns = list(set(train.columns).intersection(test.columns))\n",
    "    train = train[keep_columns]\n",
    "    test = test[keep_columns]\n",
    "    print(train.shape, test.shape)\n",
    "    return  train, test\n",
    "def get_crosstab(df, index, feature):\n",
    "    df = pd.crosstab(df[index], df[feature])\n",
    "    df.columns = [f'{df.columns.name}_{i}' for i in df.columns]\n",
    "    return df\n",
    "\n",
    "import category_encoders as ce\n",
    "def get_binec(df, feature):\n",
    "    X_binenc = df[feature]\n",
    "    encoder = ce.BinaryEncoder(cols=feature)\n",
    "    X_binenc = encoder.fit_transform(X_binenc)\n",
    "    return X_binenc\n",
    "\n",
    "def get_one_hot(df, feature):\n",
    "    one_hot = pd.get_dummies(df[feature])\n",
    "    one_hot.columns = [feature+'_'+str(i) for i in one_hot.columns]\n",
    "    return one_hot"
   ]
  },
  {
   "cell_type": "code",
   "execution_count": 32,
   "id": "active-blank",
   "metadata": {},
   "outputs": [],
   "source": [
    "crosstab_estadocontribuyente_train = get_crosstab(sunat_train, 'key_value', 'estadocontribuyente')\n",
    "crosstab_estadocontribuyente_test = get_crosstab(sunat_test, 'key_value', 'estadocontribuyente')"
   ]
  },
  {
   "cell_type": "code",
   "execution_count": 33,
   "id": "sudden-mother",
   "metadata": {},
   "outputs": [
    {
     "name": "stdout",
     "output_type": "stream",
     "text": [
      "(358487, 515) (396666, 514)\n",
      "(358487, 514) (396666, 514)\n"
     ]
    }
   ],
   "source": [
    "train = train.join(crosstab_estadocontribuyente_train).join(sunat_train_)\n",
    "test = test.join(crosstab_estadocontribuyente_test).join(sunat_test_)\n",
    "train, test = get_keep_columns(train, test)"
   ]
  },
  {
   "cell_type": "code",
   "execution_count": 34,
   "id": "seasonal-deviation",
   "metadata": {
    "scrolled": true
   },
   "outputs": [
    {
     "name": "stdout",
     "output_type": "stream",
     "text": [
      "********** 0 **********\n",
      "Training until validation scores don't improve for 10 rounds\n",
      "[50]\ttraining's auc: 0.833097\ttraining's binary_logloss: 0.315019\tvalid_1's auc: 0.825629\tvalid_1's binary_logloss: 0.321546\n",
      "[100]\ttraining's auc: 0.846698\ttraining's binary_logloss: 0.303599\tvalid_1's auc: 0.833882\tvalid_1's binary_logloss: 0.314335\n",
      "[150]\ttraining's auc: 0.854437\ttraining's binary_logloss: 0.29721\tvalid_1's auc: 0.836969\tvalid_1's binary_logloss: 0.311711\n",
      "[200]\ttraining's auc: 0.860714\ttraining's binary_logloss: 0.292419\tvalid_1's auc: 0.838159\tvalid_1's binary_logloss: 0.310612\n",
      "[250]\ttraining's auc: 0.865888\ttraining's binary_logloss: 0.288216\tvalid_1's auc: 0.838945\tvalid_1's binary_logloss: 0.309878\n",
      "Early stopping, best iteration is:\n",
      "[273]\ttraining's auc: 0.868066\ttraining's binary_logloss: 0.286486\tvalid_1's auc: 0.839145\tvalid_1's binary_logloss: 0.309699\n",
      "********** 1 **********\n",
      "Training until validation scores don't improve for 10 rounds\n",
      "[50]\ttraining's auc: 0.833304\ttraining's binary_logloss: 0.315157\tvalid_1's auc: 0.824453\tvalid_1's binary_logloss: 0.320702\n",
      "[100]\ttraining's auc: 0.846898\ttraining's binary_logloss: 0.303763\tvalid_1's auc: 0.832595\tvalid_1's binary_logloss: 0.313783\n",
      "[150]\ttraining's auc: 0.854661\ttraining's binary_logloss: 0.297296\tvalid_1's auc: 0.835313\tvalid_1's binary_logloss: 0.31139\n",
      "[200]\ttraining's auc: 0.860872\ttraining's binary_logloss: 0.292402\tvalid_1's auc: 0.836506\tvalid_1's binary_logloss: 0.310272\n",
      "[250]\ttraining's auc: 0.866232\ttraining's binary_logloss: 0.288163\tvalid_1's auc: 0.837274\tvalid_1's binary_logloss: 0.309585\n",
      "Early stopping, best iteration is:\n",
      "[285]\ttraining's auc: 0.869631\ttraining's binary_logloss: 0.2855\tvalid_1's auc: 0.837685\tvalid_1's binary_logloss: 0.30928\n",
      "********** 2 **********\n",
      "Training until validation scores don't improve for 10 rounds\n",
      "[50]\ttraining's auc: 0.832882\ttraining's binary_logloss: 0.315635\tvalid_1's auc: 0.828119\tvalid_1's binary_logloss: 0.319078\n",
      "[100]\ttraining's auc: 0.846353\ttraining's binary_logloss: 0.304222\tvalid_1's auc: 0.83555\tvalid_1's binary_logloss: 0.3121\n",
      "[150]\ttraining's auc: 0.854217\ttraining's binary_logloss: 0.297884\tvalid_1's auc: 0.838237\tvalid_1's binary_logloss: 0.309604\n",
      "[200]\ttraining's auc: 0.860419\ttraining's binary_logloss: 0.292963\tvalid_1's auc: 0.839545\tvalid_1's binary_logloss: 0.308343\n",
      "[250]\ttraining's auc: 0.865821\ttraining's binary_logloss: 0.288757\tvalid_1's auc: 0.840256\tvalid_1's binary_logloss: 0.307695\n",
      "[300]\ttraining's auc: 0.870642\ttraining's binary_logloss: 0.284896\tvalid_1's auc: 0.840613\tvalid_1's binary_logloss: 0.30731\n",
      "Early stopping, best iteration is:\n",
      "[304]\ttraining's auc: 0.870997\ttraining's binary_logloss: 0.284602\tvalid_1's auc: 0.840633\tvalid_1's binary_logloss: 0.307284\n",
      "********** 3 **********\n",
      "Training until validation scores don't improve for 10 rounds\n",
      "[50]\ttraining's auc: 0.832749\ttraining's binary_logloss: 0.315751\tvalid_1's auc: 0.82573\tvalid_1's binary_logloss: 0.319821\n",
      "[100]\ttraining's auc: 0.846487\ttraining's binary_logloss: 0.304289\tvalid_1's auc: 0.834118\tvalid_1's binary_logloss: 0.312505\n",
      "[150]\ttraining's auc: 0.854317\ttraining's binary_logloss: 0.297834\tvalid_1's auc: 0.837008\tvalid_1's binary_logloss: 0.309775\n",
      "[200]\ttraining's auc: 0.860455\ttraining's binary_logloss: 0.292926\tvalid_1's auc: 0.838254\tvalid_1's binary_logloss: 0.308514\n",
      "[250]\ttraining's auc: 0.865757\ttraining's binary_logloss: 0.288725\tvalid_1's auc: 0.838912\tvalid_1's binary_logloss: 0.307857\n",
      "Early stopping, best iteration is:\n",
      "[286]\ttraining's auc: 0.869334\ttraining's binary_logloss: 0.285945\tvalid_1's auc: 0.839173\tvalid_1's binary_logloss: 0.30751\n",
      "********** 4 **********\n",
      "Training until validation scores don't improve for 10 rounds\n",
      "[50]\ttraining's auc: 0.835392\ttraining's binary_logloss: 0.314832\tvalid_1's auc: 0.817706\tvalid_1's binary_logloss: 0.321901\n",
      "[100]\ttraining's auc: 0.848834\ttraining's binary_logloss: 0.303184\tvalid_1's auc: 0.825246\tvalid_1's binary_logloss: 0.315373\n",
      "[150]\ttraining's auc: 0.856712\ttraining's binary_logloss: 0.296674\tvalid_1's auc: 0.827708\tvalid_1's binary_logloss: 0.313157\n",
      "[200]\ttraining's auc: 0.862881\ttraining's binary_logloss: 0.291737\tvalid_1's auc: 0.828638\tvalid_1's binary_logloss: 0.312152\n",
      "[250]\ttraining's auc: 0.868309\ttraining's binary_logloss: 0.287486\tvalid_1's auc: 0.829181\tvalid_1's binary_logloss: 0.311534\n",
      "[300]\ttraining's auc: 0.873161\ttraining's binary_logloss: 0.283608\tvalid_1's auc: 0.829705\tvalid_1's binary_logloss: 0.311026\n",
      "Early stopping, best iteration is:\n",
      "[300]\ttraining's auc: 0.873161\ttraining's binary_logloss: 0.283608\tvalid_1's auc: 0.829705\tvalid_1's binary_logloss: 0.311026\n",
      "*********************\n",
      "roc auc estimado:  0.8373174270219269\n",
      "roc auc varianza:  0.0009486193516125062\n"
     ]
    }
   ],
   "source": [
    "[test_probs, fi] = cross_validation_lightgbm(train, test, y_train)"
   ]
  },
  {
   "cell_type": "code",
   "execution_count": 35,
   "id": "pleasant-wichita",
   "metadata": {
    "scrolled": true
   },
   "outputs": [
    {
     "data": {
      "text/plain": [
       "PRODUCTO_1_saldoMax_ult1meses                       0.012896\n",
       "edad                                                0.011619\n",
       "PRODUCTO_1_saldoStd_ult1meses                       0.010994\n",
       "PRODUCTO_0_saldoMin_ult1meses                       0.010849\n",
       "ubigeo_mode                                         0.009853\n",
       "PRODUCTO_1_saldoMean_ult1meses                      0.008889\n",
       "RIESGO_DIRECTO_1_saldoMax_ult1meses                 0.008555\n",
       "RIESGO_DIRECTO_-1_saldoMedian_ult1meses             0.008353\n",
       "PRODUCTO_6_saldoStd_ult1meses                       0.008007\n",
       "RIESGO_DIRECTO_1_saldoMin_ult1meses                 0.007845\n",
       "PRODUCTO_12_saldoUnique_ult1meses                   0.007129\n",
       "PRODUCTO_6_saldoMean_ult1meses                      0.007069\n",
       "tipo_credito_12_saldoMin_ult1meses                  0.006959\n",
       "PRODUCTO_3_saldoMin_ult1meses                       0.006913\n",
       "PRODUCTO_0_saldoStd_ult1meses                       0.006895\n",
       "PRODUCTO_0_saldoMax_ult1meses                       0.006892\n",
       "PRODUCTO_1_saldoMedian_ult1meses                    0.006744\n",
       "cod_instit_financiera_10_saldoStd_ult1meses         0.006702\n",
       "PRODUCTO_3_saldoMedian_ult1meses                    0.006589\n",
       "PRODUCTO_3_saldoUnique_ult1meses                    0.006522\n",
       "PRODUCTO_0_saldoUnique_ult1meses                    0.006317\n",
       "PRODUCTO_6_saldoMin_ult1meses                       0.006166\n",
       "PRODUCTO_1_saldoSum_ult1meses                       0.006140\n",
       "PRODUCTO_8_saldoSum_ult1meses                       0.006104\n",
       "PRODUCTO_6_saldoMedian_ult1meses                    0.005874\n",
       "ciiu_mode                                           0.005834\n",
       "RIESGO_DIRECTO_1_saldoStd_ult1meses                 0.005821\n",
       "RIESGO_DIRECTO_1_saldoMedian_ult1meses              0.005749\n",
       "PRODUCTO_4_saldoStd_ult1meses                       0.005703\n",
       "PRODUCTO_3_saldoMean_ult1meses                      0.005684\n",
       "PRODUCTO_6_saldoMax_ult1meses                       0.005587\n",
       "tipo_credito_12_saldoMedian_ult1meses               0.005558\n",
       "PRODUCTO_8_saldoMedian_ult1meses                    0.005468\n",
       "PRODUCTO_11_saldoStd_ult1meses                      0.005426\n",
       "PRODUCTO_6_saldoSum_ult1meses                       0.005321\n",
       "cod_instit_financiera_28_saldoMax_ult1meses         0.005315\n",
       "PRODUCTO_4_saldoMin_ult1meses                       0.005179\n",
       "tipo_credito_12_saldoUnique_ult1meses               0.005113\n",
       "PRODUCTO_8_saldoMin_ult1meses                       0.005083\n",
       "COD_CLASIFICACION_DEUDOR_0_saldoUnique_ult1meses    0.005028\n",
       "PRODUCTO_0_saldoMean_ult1meses                      0.004976\n",
       "PRODUCTO_11_saldoMin_ult1meses                      0.004939\n",
       "PRODUCTO_0_saldoSum_ult1meses                       0.004809\n",
       "PRODUCTO_11_saldoUnique_ult1meses                   0.004733\n",
       "RIESGO_DIRECTO_-1_saldoUnique_ult1meses             0.004687\n",
       "sexo_0                                              0.004673\n",
       "PRODUCTO_2_saldoUnique_ult1meses                    0.004605\n",
       "PRODUCTO_15_saldoMin_ult1meses                      0.004527\n",
       "COD_CLASIFICACION_DEUDOR_5_saldoUnique_ult1meses    0.004505\n",
       "cod_instit_financiera_34_saldoUnique_ult1meses      0.004442\n",
       "dtype: float64"
      ]
     },
     "execution_count": 35,
     "metadata": {},
     "output_type": "execute_result"
    }
   ],
   "source": [
    "fi.sort_values(ascending=False).head(50)\n",
    "# cod_instit_financiera_max_ult1mes        \n",
    "# ubigeo_mode  \n",
    "# ciiu_mode"
   ]
  },
  {
   "cell_type": "code",
   "execution_count": 38,
   "id": "architectural-mortality",
   "metadata": {},
   "outputs": [
    {
     "name": "stdout",
     "output_type": "stream",
     "text": [
      "total de variables : 514\n",
      "variables con importancia acumulada al 99% : 453\n",
      "variables con zero importancia : 18\n"
     ]
    }
   ],
   "source": [
    "zero_importance = fi[fi==0]\n",
    "aux = fi[fi>0].sort_values(ascending=False)\n",
    "keep_columns = []\n",
    "count = 0\n",
    "for feature,values in zip(aux.index, aux.values):\n",
    "    count+=values\n",
    "    if count<=0.99:\n",
    "        keep_columns.append(feature)\n",
    "\n",
    "print(f'total de variables : {len(train.columns)}')\n",
    "print(f'variables con importancia acumulada al 99% : {len(keep_columns)}')\n",
    "print(f'variables con zero importancia : {len(zero_importance)}')"
   ]
  },
  {
   "cell_type": "code",
   "execution_count": 36,
   "id": "working-brooklyn",
   "metadata": {},
   "outputs": [],
   "source": [
    "test_probs.name = 'target'\n",
    "test_probs.to_csv('../results/lightgbm_with_514features_0.83731.csv') ### score de  0.83875 en la tabla publica"
   ]
  },
  {
   "cell_type": "code",
   "execution_count": 45,
   "id": "finnish-digest",
   "metadata": {},
   "outputs": [],
   "source": [
    "# train.to_pickle('../data/train_score_0.84862.pkl')\n",
    "# test.to_pickle('../data/test_score_0.84862.pkl')"
   ]
  },
  {
   "cell_type": "markdown",
   "id": "demonstrated-anatomy",
   "metadata": {},
   "source": [
    "## Uniendo ambas bases"
   ]
  },
  {
   "cell_type": "code",
   "execution_count": 40,
   "id": "selective-marijuana",
   "metadata": {},
   "outputs": [
    {
     "data": {
      "text/plain": [
       "((358487, 514), (396666, 514))"
      ]
     },
     "execution_count": 40,
     "metadata": {},
     "output_type": "execute_result"
    }
   ],
   "source": [
    "train.shape, test.shape"
   ]
  },
  {
   "cell_type": "code",
   "execution_count": 60,
   "id": "packed-clothing",
   "metadata": {},
   "outputs": [
    {
     "data": {
      "text/plain": [
       "(185, 115)"
      ]
     },
     "execution_count": 60,
     "metadata": {},
     "output_type": "execute_result"
    }
   ],
   "source": [
    "import re\n",
    "str_ = \" \".join(list(train.columns))\n",
    "cod_instit_financiera_features = re.findall(r'cod_instit_financiera\\w+',str_)    \n",
    "PRODUCTO_features = re.findall(r'PRODUCTO\\w+',str_)    \n",
    "len(cod_instit_financiera_features), len(PRODUCTO_features)"
   ]
  },
  {
   "cell_type": "code",
   "execution_count": 63,
   "id": "rough-fitting",
   "metadata": {},
   "outputs": [],
   "source": [
    "train = train[cod_instit_financiera_features+PRODUCTO_features]\n",
    "test = test[cod_instit_financiera_features+PRODUCTO_features]"
   ]
  },
  {
   "cell_type": "code",
   "execution_count": 64,
   "id": "injured-framing",
   "metadata": {},
   "outputs": [],
   "source": [
    "train_ = pd.read_pickle('../data/train_score_0.84862.pkl')\n",
    "test_ = pd.read_pickle('../data/test_score_0.84862.pkl')"
   ]
  },
  {
   "cell_type": "code",
   "execution_count": 65,
   "id": "right-russell",
   "metadata": {},
   "outputs": [
    {
     "data": {
      "text/plain": [
       "(47, 41)"
      ]
     },
     "execution_count": 65,
     "metadata": {},
     "output_type": "execute_result"
    }
   ],
   "source": [
    "import re\n",
    "str_ = \" \".join(list(train_.columns))\n",
    "cod_instit_financiera_features_ = re.findall(r'cod_instit_financiera\\w+',str_)    \n",
    "PRODUCTO_features_ = re.findall(r'PRODUCTO\\w+',str_)    \n",
    "len(cod_instit_financiera_features_), len(PRODUCTO_features_)"
   ]
  },
  {
   "cell_type": "code",
   "execution_count": 68,
   "id": "faced-sharing",
   "metadata": {},
   "outputs": [],
   "source": [
    "train_ = train_.drop(cod_instit_financiera_features_+PRODUCTO_features_, axis=1)\n",
    "test_ = test_.drop(cod_instit_financiera_features_+PRODUCTO_features_, axis=1)"
   ]
  },
  {
   "cell_type": "code",
   "execution_count": 71,
   "id": "bridal-berkeley",
   "metadata": {},
   "outputs": [
    {
     "data": {
      "text/plain": [
       "((358487, 1348), (396666, 1348))"
      ]
     },
     "execution_count": 71,
     "metadata": {},
     "output_type": "execute_result"
    }
   ],
   "source": [
    "train = train.join(train_)\n",
    "test = test.join(test_)\n",
    "del train_, test_\n",
    "train.shape, test.shape"
   ]
  },
  {
   "cell_type": "code",
   "execution_count": 72,
   "id": "absolute-princess",
   "metadata": {
    "scrolled": true
   },
   "outputs": [
    {
     "name": "stdout",
     "output_type": "stream",
     "text": [
      "********** 0 **********\n",
      "Training until validation scores don't improve for 10 rounds\n",
      "[50]\ttraining's auc: 0.849107\ttraining's binary_logloss: 0.298862\tvalid_1's auc: 0.839495\tvalid_1's binary_logloss: 0.306045\n",
      "[100]\ttraining's auc: 0.862473\ttraining's binary_logloss: 0.287593\tvalid_1's auc: 0.847583\tvalid_1's binary_logloss: 0.299486\n",
      "[150]\ttraining's auc: 0.870586\ttraining's binary_logloss: 0.280966\tvalid_1's auc: 0.850054\tvalid_1's binary_logloss: 0.297472\n",
      "[200]\ttraining's auc: 0.877046\ttraining's binary_logloss: 0.275789\tvalid_1's auc: 0.851135\tvalid_1's binary_logloss: 0.29661\n",
      "[250]\ttraining's auc: 0.882699\ttraining's binary_logloss: 0.271229\tvalid_1's auc: 0.851433\tvalid_1's binary_logloss: 0.296276\n",
      "Early stopping, best iteration is:\n",
      "[281]\ttraining's auc: 0.885817\ttraining's binary_logloss: 0.268606\tvalid_1's auc: 0.851718\tvalid_1's binary_logloss: 0.296058\n",
      "********** 1 **********\n",
      "Training until validation scores don't improve for 10 rounds\n",
      "[50]\ttraining's auc: 0.849306\ttraining's binary_logloss: 0.298851\tvalid_1's auc: 0.840583\tvalid_1's binary_logloss: 0.305223\n",
      "[100]\ttraining's auc: 0.862737\ttraining's binary_logloss: 0.287561\tvalid_1's auc: 0.847915\tvalid_1's binary_logloss: 0.298865\n",
      "[150]\ttraining's auc: 0.870826\ttraining's binary_logloss: 0.280932\tvalid_1's auc: 0.850374\tvalid_1's binary_logloss: 0.296823\n",
      "[200]\ttraining's auc: 0.877356\ttraining's binary_logloss: 0.275686\tvalid_1's auc: 0.851263\tvalid_1's binary_logloss: 0.295965\n",
      "[250]\ttraining's auc: 0.882889\ttraining's binary_logloss: 0.271141\tvalid_1's auc: 0.851898\tvalid_1's binary_logloss: 0.295489\n",
      "Early stopping, best iteration is:\n",
      "[271]\ttraining's auc: 0.885016\ttraining's binary_logloss: 0.269346\tvalid_1's auc: 0.852302\tvalid_1's binary_logloss: 0.295188\n",
      "********** 2 **********\n",
      "Training until validation scores don't improve for 10 rounds\n",
      "[50]\ttraining's auc: 0.848948\ttraining's binary_logloss: 0.299667\tvalid_1's auc: 0.843895\tvalid_1's binary_logloss: 0.302693\n",
      "[100]\ttraining's auc: 0.862506\ttraining's binary_logloss: 0.288199\tvalid_1's auc: 0.850829\tvalid_1's binary_logloss: 0.29604\n",
      "[150]\ttraining's auc: 0.870639\ttraining's binary_logloss: 0.28154\tvalid_1's auc: 0.853077\tvalid_1's binary_logloss: 0.293988\n",
      "[200]\ttraining's auc: 0.877033\ttraining's binary_logloss: 0.276395\tvalid_1's auc: 0.853707\tvalid_1's binary_logloss: 0.293285\n",
      "Early stopping, best iteration is:\n",
      "[223]\ttraining's auc: 0.879802\ttraining's binary_logloss: 0.274234\tvalid_1's auc: 0.853898\tvalid_1's binary_logloss: 0.293102\n",
      "********** 3 **********\n",
      "Training until validation scores don't improve for 10 rounds\n",
      "[50]\ttraining's auc: 0.848923\ttraining's binary_logloss: 0.29941\tvalid_1's auc: 0.842305\tvalid_1's binary_logloss: 0.303365\n",
      "[100]\ttraining's auc: 0.862657\ttraining's binary_logloss: 0.288195\tvalid_1's auc: 0.849779\tvalid_1's binary_logloss: 0.296904\n",
      "[150]\ttraining's auc: 0.87077\ttraining's binary_logloss: 0.281454\tvalid_1's auc: 0.852009\tvalid_1's binary_logloss: 0.29463\n",
      "[200]\ttraining's auc: 0.877306\ttraining's binary_logloss: 0.276295\tvalid_1's auc: 0.852865\tvalid_1's binary_logloss: 0.293867\n",
      "Early stopping, best iteration is:\n",
      "[226]\ttraining's auc: 0.880387\ttraining's binary_logloss: 0.273827\tvalid_1's auc: 0.853206\tvalid_1's binary_logloss: 0.293558\n",
      "********** 4 **********\n",
      "Training until validation scores don't improve for 10 rounds\n",
      "[50]\ttraining's auc: 0.850973\ttraining's binary_logloss: 0.298677\tvalid_1's auc: 0.834385\tvalid_1's binary_logloss: 0.306478\n",
      "[100]\ttraining's auc: 0.864538\ttraining's binary_logloss: 0.286985\tvalid_1's auc: 0.841055\tvalid_1's binary_logloss: 0.300699\n",
      "[150]\ttraining's auc: 0.872863\ttraining's binary_logloss: 0.280172\tvalid_1's auc: 0.843022\tvalid_1's binary_logloss: 0.298949\n",
      "[200]\ttraining's auc: 0.879328\ttraining's binary_logloss: 0.274867\tvalid_1's auc: 0.843908\tvalid_1's binary_logloss: 0.298099\n",
      "Early stopping, best iteration is:\n",
      "[215]\ttraining's auc: 0.881037\ttraining's binary_logloss: 0.273476\tvalid_1's auc: 0.844199\tvalid_1's binary_logloss: 0.297877\n",
      "*********************\n",
      "roc auc estimado:  0.8510939200120904\n",
      "roc auc varianza:  0.0008539317699788589\n"
     ]
    }
   ],
   "source": [
    "[test_probs, fi] = cross_validation_lightgbm(train, test, y_train)"
   ]
  },
  {
   "cell_type": "code",
   "execution_count": 85,
   "id": "advanced-shakespeare",
   "metadata": {
    "scrolled": true
   },
   "outputs": [
    {
     "data": {
      "text/plain": [
       "RIESGO_DIRECTO_1_saldoUnique_ult1meses               0.010687\n",
       "edad                                                 0.009224\n",
       "PRODUCTO_1_saldoStd_ult1meses                        0.008240\n",
       "PRODUCTO_1_saldoMax_ult1meses                        0.008136\n",
       "ubigeo_mode                                          0.007619\n",
       "PRODUCTO_3_saldoUnique_ult1meses                     0.006920\n",
       "RIESGO_DIRECTO_1_saldoStd_ult1meses                  0.006619\n",
       "PRODUCTO_1_saldoMean_ult1meses                       0.005491\n",
       "RIESGO_DIRECTO_-1_saldoMedian_ult1meses              0.005416\n",
       "PRODUCTO_8_saldoSum_ult1meses                        0.005237\n",
       "PRODUCTO_0_saldoMin_ult1meses                        0.004985\n",
       "RIESGO_DIRECTO_1_saldoMin_ult1meses                  0.004925\n",
       "RIESGO_DIRECTO_1_saldoUnique_ult12meses              0.004895\n",
       "PRODUCTO_3_saldoMean_ult1meses                       0.004889\n",
       "cod_instit_financiera_10_saldoStd_ult1meses          0.004738\n",
       "RIESGO_DIRECTO_1_saldoMedian_ult2meses               0.004733\n",
       "PRODUCTO_8_saldoUnique_ult1meses                     0.004731\n",
       "sexo_0                                               0.004704\n",
       "PRODUCTO_6_saldoSum_ult1meses                        0.004664\n",
       "PRODUCTO_3_saldoMin_ult1meses                        0.004565\n",
       "PRODUCTO_3_saldoMedian_ult1meses                     0.004540\n",
       "COD_CLASIFICACION_DEUDOR_0_saldoUnique_ult12meses    0.004471\n",
       "RIESGO_DIRECTO_-1_saldoMedian_ult2meses              0.004429\n",
       "PRODUCTO_6_saldoMean_ult1meses                       0.004425\n",
       "RIESGO_DIRECTO_1_saldoMedian_ult1meses               0.004413\n",
       "estadocontribuyente_0                                0.004277\n",
       "cod_instit_financiera_32_saldoStd_ult1meses          0.004227\n",
       "ciiu_mode                                            0.004097\n",
       "cod_instit_financiera_34_saldoUnique_ult1meses       0.004015\n",
       "RIESGO_DIRECTO_1_saldoSum_ult1meses                  0.004009\n",
       "condicion_0_saldoUnique_ult12meses                   0.003824\n",
       "PRODUCTO_12_saldoUnique_ult1meses                    0.003751\n",
       "PRODUCTO_8_saldoMin_ult1meses                        0.003704\n",
       "fecalta_mean                                         0.003629\n",
       "PRODUCTO_4_saldoStd_ult1meses                        0.003609\n",
       "PRODUCTO_6_saldoMin_ult1meses                        0.003580\n",
       "fecalta_min                                          0.003563\n",
       "RIESGO_DIRECTO_1_saldoMin_ult2meses                  0.003472\n",
       "PRODUCTO_0_saldoStd_ult1meses                        0.003466\n",
       "RIESGO_DIRECTO_1_saldoMedian_ult12meses              0.003451\n",
       "PRODUCTO_11_saldoStd_ult1meses                       0.003414\n",
       "RIESGO_DIRECTO_1_saldoUnique_ult2meses               0.003380\n",
       "PRODUCTO_1_saldoMedian_ult1meses                     0.003320\n",
       "RIESGO_DIRECTO_-1_saldoSum_ult1meses                 0.003317\n",
       "tipo_credito_12_saldoUnique_ult1meses                0.003288\n",
       "RIESGO_DIRECTO_1_saldoMax_ult12meses                 0.003285\n",
       "RIESGO_DIRECTO_1_saldoMax_ult1meses                  0.003276\n",
       "PRODUCTO_8_saldoMedian_ult1meses                     0.003250\n",
       "RIESGO_DIRECTO_1_saldoStd_ult2meses                  0.003235\n",
       "PRODUCTO_0_saldoMax_ult1meses                        0.003200\n",
       "dtype: float64"
      ]
     },
     "execution_count": 85,
     "metadata": {},
     "output_type": "execute_result"
    }
   ],
   "source": [
    "fi.sort_values(ascending=False).head(50)"
   ]
  },
  {
   "cell_type": "markdown",
   "id": "chief-climate",
   "metadata": {},
   "source": [
    "## Reduciendo Variables"
   ]
  },
  {
   "cell_type": "code",
   "execution_count": 86,
   "id": "identified-little",
   "metadata": {
    "scrolled": true
   },
   "outputs": [
    {
     "name": "stdout",
     "output_type": "stream",
     "text": [
      "total de variables : 1348\n",
      "variables con importancia acumulada al 99% : 1212\n",
      "variables con zero importancia : 29\n"
     ]
    }
   ],
   "source": [
    "zero_importance = fi[fi==0]\n",
    "aux = fi[fi>0].sort_values(ascending=False)\n",
    "keep_columns = []\n",
    "count = 0\n",
    "for feature,values in zip(aux.index, aux.values):\n",
    "    count+=values\n",
    "    if count<=0.99:\n",
    "        keep_columns.append(feature)\n",
    "\n",
    "print(f'total de variables : {len(fi)}')\n",
    "print(f'variables con importancia acumulada al 99% : {len(keep_columns)}')\n",
    "print(f'variables con zero importancia : {len(zero_importance)}')"
   ]
  },
  {
   "cell_type": "code",
   "execution_count": 75,
   "id": "documentary-revelation",
   "metadata": {},
   "outputs": [],
   "source": [
    "test_probs.name = 'target'\n",
    "test_probs.to_csv('../results/lightgbm_with_1348features_0.85109.csv') ### score de  0.85375 en la tabla publica"
   ]
  },
  {
   "cell_type": "code",
   "execution_count": null,
   "id": "homeless-grave",
   "metadata": {},
   "outputs": [],
   "source": []
  },
  {
   "cell_type": "code",
   "execution_count": 87,
   "id": "radio-translator",
   "metadata": {
    "scrolled": true
   },
   "outputs": [
    {
     "name": "stdout",
     "output_type": "stream",
     "text": [
      "********** 0 **********\n",
      "Training until validation scores don't improve for 10 rounds\n",
      "[50]\ttraining's auc: 0.849111\ttraining's binary_logloss: 0.298938\tvalid_1's auc: 0.83967\tvalid_1's binary_logloss: 0.306061\n",
      "[100]\ttraining's auc: 0.862629\ttraining's binary_logloss: 0.287595\tvalid_1's auc: 0.848015\tvalid_1's binary_logloss: 0.299491\n",
      "[150]\ttraining's auc: 0.870694\ttraining's binary_logloss: 0.281029\tvalid_1's auc: 0.850591\tvalid_1's binary_logloss: 0.297392\n",
      "Early stopping, best iteration is:\n",
      "[170]\ttraining's auc: 0.873462\ttraining's binary_logloss: 0.278826\tvalid_1's auc: 0.851116\tvalid_1's binary_logloss: 0.296981\n",
      "********** 1 **********\n",
      "Training until validation scores don't improve for 10 rounds\n",
      "[50]\ttraining's auc: 0.848988\ttraining's binary_logloss: 0.299077\tvalid_1's auc: 0.840879\tvalid_1's binary_logloss: 0.305056\n",
      "[100]\ttraining's auc: 0.862524\ttraining's binary_logloss: 0.287676\tvalid_1's auc: 0.848632\tvalid_1's binary_logloss: 0.298487\n",
      "[150]\ttraining's auc: 0.870531\ttraining's binary_logloss: 0.281114\tvalid_1's auc: 0.850949\tvalid_1's binary_logloss: 0.296419\n",
      "[200]\ttraining's auc: 0.876905\ttraining's binary_logloss: 0.275913\tvalid_1's auc: 0.851932\tvalid_1's binary_logloss: 0.295604\n",
      "[250]\ttraining's auc: 0.882424\ttraining's binary_logloss: 0.271364\tvalid_1's auc: 0.852497\tvalid_1's binary_logloss: 0.295073\n",
      "Early stopping, best iteration is:\n",
      "[266]\ttraining's auc: 0.884129\ttraining's binary_logloss: 0.269979\tvalid_1's auc: 0.852703\tvalid_1's binary_logloss: 0.294947\n",
      "********** 2 **********\n",
      "Training until validation scores don't improve for 10 rounds\n",
      "[50]\ttraining's auc: 0.849142\ttraining's binary_logloss: 0.29943\tvalid_1's auc: 0.843984\tvalid_1's binary_logloss: 0.302645\n",
      "[100]\ttraining's auc: 0.862503\ttraining's binary_logloss: 0.288076\tvalid_1's auc: 0.850372\tvalid_1's binary_logloss: 0.29648\n",
      "[150]\ttraining's auc: 0.870722\ttraining's binary_logloss: 0.281486\tvalid_1's auc: 0.852389\tvalid_1's binary_logloss: 0.2946\n",
      "[200]\ttraining's auc: 0.877314\ttraining's binary_logloss: 0.276216\tvalid_1's auc: 0.853364\tvalid_1's binary_logloss: 0.293786\n",
      "Early stopping, best iteration is:\n",
      "[219]\ttraining's auc: 0.879464\ttraining's binary_logloss: 0.274452\tvalid_1's auc: 0.853699\tvalid_1's binary_logloss: 0.293513\n",
      "********** 3 **********\n",
      "Training until validation scores don't improve for 10 rounds\n",
      "[50]\ttraining's auc: 0.848457\ttraining's binary_logloss: 0.299649\tvalid_1's auc: 0.84126\tvalid_1's binary_logloss: 0.304\n",
      "[100]\ttraining's auc: 0.86226\ttraining's binary_logloss: 0.288325\tvalid_1's auc: 0.848884\tvalid_1's binary_logloss: 0.297297\n",
      "[150]\ttraining's auc: 0.870841\ttraining's binary_logloss: 0.281506\tvalid_1's auc: 0.851234\tvalid_1's binary_logloss: 0.295234\n",
      "[200]\ttraining's auc: 0.877257\ttraining's binary_logloss: 0.276332\tvalid_1's auc: 0.852189\tvalid_1's binary_logloss: 0.294298\n",
      "[250]\ttraining's auc: 0.882866\ttraining's binary_logloss: 0.271801\tvalid_1's auc: 0.852676\tvalid_1's binary_logloss: 0.29384\n",
      "Early stopping, best iteration is:\n",
      "[243]\ttraining's auc: 0.882167\ttraining's binary_logloss: 0.272376\tvalid_1's auc: 0.852691\tvalid_1's binary_logloss: 0.293844\n",
      "********** 4 **********\n",
      "Training until validation scores don't improve for 10 rounds\n",
      "[50]\ttraining's auc: 0.85083\ttraining's binary_logloss: 0.298761\tvalid_1's auc: 0.834243\tvalid_1's binary_logloss: 0.306622\n",
      "[100]\ttraining's auc: 0.864369\ttraining's binary_logloss: 0.287196\tvalid_1's auc: 0.840878\tvalid_1's binary_logloss: 0.300915\n",
      "[150]\ttraining's auc: 0.872633\ttraining's binary_logloss: 0.280387\tvalid_1's auc: 0.842917\tvalid_1's binary_logloss: 0.29903\n",
      "[200]\ttraining's auc: 0.878994\ttraining's binary_logloss: 0.275128\tvalid_1's auc: 0.843764\tvalid_1's binary_logloss: 0.298345\n",
      "[250]\ttraining's auc: 0.884619\ttraining's binary_logloss: 0.270508\tvalid_1's auc: 0.844259\tvalid_1's binary_logloss: 0.297976\n",
      "Early stopping, best iteration is:\n",
      "[260]\ttraining's auc: 0.885688\ttraining's binary_logloss: 0.269638\tvalid_1's auc: 0.844369\tvalid_1's binary_logloss: 0.297872\n",
      "*********************\n",
      "roc auc estimado:  0.8509547334687872\n",
      "roc auc varianza:  0.0008236519062799063\n"
     ]
    }
   ],
   "source": [
    "[test_probs_, fi_] = cross_validation_lightgbm(train[keep_columns], test[keep_columns], y_train)"
   ]
  },
  {
   "cell_type": "code",
   "execution_count": 88,
   "id": "upper-average",
   "metadata": {},
   "outputs": [
    {
     "name": "stdout",
     "output_type": "stream",
     "text": [
      "total de variables : 1212\n",
      "variables con importancia acumulada al 99% : 1134\n",
      "variables con zero importancia : 1\n"
     ]
    }
   ],
   "source": [
    "zero_importance = fi_[fi_==0]\n",
    "aux = fi_[fi_>0].sort_values(ascending=False)\n",
    "keep_columns = []\n",
    "count = 0\n",
    "for feature,values in zip(aux.index, aux.values):\n",
    "    count+=values\n",
    "    if count<=0.99:\n",
    "        keep_columns.append(feature)\n",
    "\n",
    "print(f'total de variables : {len(fi_)}')\n",
    "print(f'variables con importancia acumulada al 99% : {len(keep_columns)}')\n",
    "print(f'variables con zero importancia : {len(zero_importance)}')"
   ]
  },
  {
   "cell_type": "code",
   "execution_count": 89,
   "id": "adequate-wedding",
   "metadata": {},
   "outputs": [],
   "source": [
    "test_probs_.name = 'target'\n",
    "test_probs_.to_csv('../results/lightgbm_with_1212features_0.85095.csv') ### score de  0.85367 en la tabla publica"
   ]
  },
  {
   "cell_type": "code",
   "execution_count": null,
   "id": "subjective-oakland",
   "metadata": {},
   "outputs": [],
   "source": []
  },
  {
   "cell_type": "code",
   "execution_count": 90,
   "id": "unable-trigger",
   "metadata": {
    "scrolled": true
   },
   "outputs": [
    {
     "name": "stdout",
     "output_type": "stream",
     "text": [
      "********** 0 **********\n",
      "Training until validation scores don't improve for 10 rounds\n",
      "[50]\ttraining's auc: 0.849287\ttraining's binary_logloss: 0.298893\tvalid_1's auc: 0.840366\tvalid_1's binary_logloss: 0.305615\n",
      "[100]\ttraining's auc: 0.862652\ttraining's binary_logloss: 0.287612\tvalid_1's auc: 0.848206\tvalid_1's binary_logloss: 0.299179\n",
      "[150]\ttraining's auc: 0.87067\ttraining's binary_logloss: 0.281108\tvalid_1's auc: 0.85059\tvalid_1's binary_logloss: 0.297144\n",
      "[200]\ttraining's auc: 0.877032\ttraining's binary_logloss: 0.275889\tvalid_1's auc: 0.851831\tvalid_1's binary_logloss: 0.296178\n",
      "[250]\ttraining's auc: 0.882567\ttraining's binary_logloss: 0.271339\tvalid_1's auc: 0.852541\tvalid_1's binary_logloss: 0.295648\n",
      "Early stopping, best iteration is:\n",
      "[252]\ttraining's auc: 0.882778\ttraining's binary_logloss: 0.271161\tvalid_1's auc: 0.852541\tvalid_1's binary_logloss: 0.295638\n",
      "********** 1 **********\n",
      "Training until validation scores don't improve for 10 rounds\n",
      "[50]\ttraining's auc: 0.848896\ttraining's binary_logloss: 0.299126\tvalid_1's auc: 0.84067\tvalid_1's binary_logloss: 0.305066\n",
      "[100]\ttraining's auc: 0.86252\ttraining's binary_logloss: 0.287755\tvalid_1's auc: 0.848098\tvalid_1's binary_logloss: 0.298674\n",
      "[150]\ttraining's auc: 0.870621\ttraining's binary_logloss: 0.281082\tvalid_1's auc: 0.850784\tvalid_1's binary_logloss: 0.296484\n",
      "[200]\ttraining's auc: 0.877049\ttraining's binary_logloss: 0.275867\tvalid_1's auc: 0.852018\tvalid_1's binary_logloss: 0.295482\n",
      "[250]\ttraining's auc: 0.8827\ttraining's binary_logloss: 0.271318\tvalid_1's auc: 0.852539\tvalid_1's binary_logloss: 0.295088\n",
      "Early stopping, best iteration is:\n",
      "[262]\ttraining's auc: 0.883892\ttraining's binary_logloss: 0.270308\tvalid_1's auc: 0.852728\tvalid_1's binary_logloss: 0.294949\n",
      "********** 2 **********\n",
      "Training until validation scores don't improve for 10 rounds\n",
      "[50]\ttraining's auc: 0.848985\ttraining's binary_logloss: 0.299615\tvalid_1's auc: 0.843806\tvalid_1's binary_logloss: 0.302825\n",
      "[100]\ttraining's auc: 0.862418\ttraining's binary_logloss: 0.288231\tvalid_1's auc: 0.850571\tvalid_1's binary_logloss: 0.296459\n",
      "[150]\ttraining's auc: 0.870612\ttraining's binary_logloss: 0.281599\tvalid_1's auc: 0.852526\tvalid_1's binary_logloss: 0.294443\n",
      "[200]\ttraining's auc: 0.877044\ttraining's binary_logloss: 0.276416\tvalid_1's auc: 0.853173\tvalid_1's binary_logloss: 0.29375\n",
      "[250]\ttraining's auc: 0.882611\ttraining's binary_logloss: 0.271828\tvalid_1's auc: 0.853631\tvalid_1's binary_logloss: 0.293352\n",
      "Early stopping, best iteration is:\n",
      "[245]\ttraining's auc: 0.882039\ttraining's binary_logloss: 0.272275\tvalid_1's auc: 0.853655\tvalid_1's binary_logloss: 0.293339\n",
      "********** 3 **********\n",
      "Training until validation scores don't improve for 10 rounds\n",
      "[50]\ttraining's auc: 0.848775\ttraining's binary_logloss: 0.299577\tvalid_1's auc: 0.842098\tvalid_1's binary_logloss: 0.303686\n",
      "[100]\ttraining's auc: 0.862723\ttraining's binary_logloss: 0.28808\tvalid_1's auc: 0.849801\tvalid_1's binary_logloss: 0.296836\n",
      "[150]\ttraining's auc: 0.870884\ttraining's binary_logloss: 0.281443\tvalid_1's auc: 0.851788\tvalid_1's binary_logloss: 0.294898\n",
      "[200]\ttraining's auc: 0.877299\ttraining's binary_logloss: 0.276227\tvalid_1's auc: 0.852841\tvalid_1's binary_logloss: 0.293875\n",
      "Early stopping, best iteration is:\n",
      "[228]\ttraining's auc: 0.880628\ttraining's binary_logloss: 0.273588\tvalid_1's auc: 0.853128\tvalid_1's binary_logloss: 0.293597\n",
      "********** 4 **********\n",
      "Training until validation scores don't improve for 10 rounds\n",
      "[50]\ttraining's auc: 0.85116\ttraining's binary_logloss: 0.298613\tvalid_1's auc: 0.834299\tvalid_1's binary_logloss: 0.306541\n",
      "[100]\ttraining's auc: 0.864482\ttraining's binary_logloss: 0.287073\tvalid_1's auc: 0.841064\tvalid_1's binary_logloss: 0.300783\n",
      "[150]\ttraining's auc: 0.872675\ttraining's binary_logloss: 0.280365\tvalid_1's auc: 0.843072\tvalid_1's binary_logloss: 0.298937\n",
      "[200]\ttraining's auc: 0.87923\ttraining's binary_logloss: 0.275023\tvalid_1's auc: 0.843907\tvalid_1's binary_logloss: 0.298143\n",
      "[250]\ttraining's auc: 0.884699\ttraining's binary_logloss: 0.270503\tvalid_1's auc: 0.844391\tvalid_1's binary_logloss: 0.297728\n",
      "Early stopping, best iteration is:\n",
      "[254]\ttraining's auc: 0.885134\ttraining's binary_logloss: 0.270154\tvalid_1's auc: 0.84445\tvalid_1's binary_logloss: 0.297687\n",
      "*********************\n",
      "roc auc estimado:  0.8513359912279359\n",
      "roc auc varianza:  0.0008390498598027709\n"
     ]
    }
   ],
   "source": [
    "[test_probs_, fi_] = cross_validation_lightgbm(train[keep_columns], test[keep_columns], y_train)"
   ]
  },
  {
   "cell_type": "code",
   "execution_count": 92,
   "id": "computational-perspective",
   "metadata": {
    "scrolled": true
   },
   "outputs": [
    {
     "data": {
      "text/plain": [
       "RIESGO_DIRECTO_1_saldoUnique_ult1meses               0.011269\n",
       "edad                                                 0.008779\n",
       "PRODUCTO_1_saldoStd_ult1meses                        0.007905\n",
       "PRODUCTO_1_saldoMax_ult1meses                        0.007871\n",
       "ubigeo_mode                                          0.007420\n",
       "PRODUCTO_3_saldoUnique_ult1meses                     0.006676\n",
       "RIESGO_DIRECTO_1_saldoStd_ult1meses                  0.006310\n",
       "PRODUCTO_0_saldoMin_ult1meses                        0.005592\n",
       "RIESGO_DIRECTO_-1_saldoMedian_ult1meses              0.005316\n",
       "sexo_0                                               0.005121\n",
       "PRODUCTO_1_saldoMean_ult1meses                       0.005081\n",
       "cod_instit_financiera_10_saldoStd_ult1meses          0.005060\n",
       "PRODUCTO_8_saldoUnique_ult1meses                     0.004964\n",
       "RIESGO_DIRECTO_1_saldoMin_ult1meses                  0.004935\n",
       "RIESGO_DIRECTO_1_saldoMedian_ult1meses               0.004826\n",
       "PRODUCTO_8_saldoSum_ult1meses                        0.004726\n",
       "RIESGO_DIRECTO_-1_saldoMedian_ult2meses              0.004710\n",
       "COD_CLASIFICACION_DEUDOR_0_saldoUnique_ult12meses    0.004637\n",
       "RIESGO_DIRECTO_1_saldoUnique_ult12meses              0.004531\n",
       "PRODUCTO_6_saldoMean_ult1meses                       0.004477\n",
       "PRODUCTO_3_saldoMedian_ult1meses                     0.004450\n",
       "estadocontribuyente_0                                0.004384\n",
       "PRODUCTO_12_saldoUnique_ult1meses                    0.004353\n",
       "PRODUCTO_3_saldoMean_ult1meses                       0.004232\n",
       "PRODUCTO_6_saldoSum_ult1meses                        0.004191\n",
       "PRODUCTO_3_saldoMin_ult1meses                        0.004168\n",
       "PRODUCTO_4_saldoStd_ult1meses                        0.004159\n",
       "ciiu_mode                                            0.004080\n",
       "RIESGO_DIRECTO_1_saldoMedian_ult2meses               0.004026\n",
       "PRODUCTO_0_saldoStd_ult1meses                        0.003955\n",
       "cod_instit_financiera_32_saldoStd_ult1meses          0.003769\n",
       "cod_instit_financiera_34_saldoUnique_ult1meses       0.003717\n",
       "PRODUCTO_1_saldoMedian_ult1meses                     0.003648\n",
       "PRODUCTO_8_saldoMin_ult1meses                        0.003573\n",
       "RIESGO_DIRECTO_1_saldoMin_ult2meses                  0.003515\n",
       "fecalta_mean                                         0.003506\n",
       "RIESGO_DIRECTO_1_saldoMedian_ult12meses              0.003497\n",
       "RIESGO_DIRECTO_1_saldoStd_ult2meses                  0.003491\n",
       "PRODUCTO_6_saldoMin_ult1meses                        0.003477\n",
       "condicion_0_saldoUnique_ult12meses                   0.003476\n",
       "RIESGO_DIRECTO_1_saldoSum_ult1meses                  0.003326\n",
       "PRODUCTO_6_saldoMedian_ult1meses                     0.003299\n",
       "RIESGO_DIRECTO_-1_saldoSum_ult1meses                 0.003242\n",
       "PRODUCTO_11_saldoStd_ult1meses                       0.003210\n",
       "RIESGO_DIRECTO_1_saldoMax_ult12meses                 0.003178\n",
       "RIESGO_DIRECTO_1_saldoMedian_ult3meses               0.003153\n",
       "tipo_credito_11_saldoStd_ult1meses                   0.003114\n",
       "COD_CLASIFICACION_DEUDOR_5_saldoMin_ult1meses        0.003109\n",
       "fecalta_min                                          0.003087\n",
       "tipo_credito_12_saldoMin_ult1meses                   0.003001\n",
       "dtype: float64"
      ]
     },
     "execution_count": 92,
     "metadata": {},
     "output_type": "execute_result"
    }
   ],
   "source": [
    "fi_.sort_values(ascending=False).head(50)"
   ]
  },
  {
   "cell_type": "code",
   "execution_count": 91,
   "id": "contained-radar",
   "metadata": {
    "scrolled": true
   },
   "outputs": [
    {
     "name": "stdout",
     "output_type": "stream",
     "text": [
      "total de variables : 1134\n",
      "variables con importancia acumulada al 99% : 1072\n",
      "variables con zero importancia : 0\n"
     ]
    }
   ],
   "source": [
    "zero_importance = fi_[fi_==0]\n",
    "aux = fi_[fi_>0].sort_values(ascending=False)\n",
    "keep_columns = []\n",
    "count = 0\n",
    "for feature,values in zip(aux.index, aux.values):\n",
    "    count+=values\n",
    "    if count<=0.99:\n",
    "        keep_columns.append(feature)\n",
    "\n",
    "print(f'total de variables : {len(fi_)}')\n",
    "print(f'variables con importancia acumulada al 99% : {len(keep_columns)}')\n",
    "print(f'variables con zero importancia : {len(zero_importance)}')"
   ]
  },
  {
   "cell_type": "code",
   "execution_count": 94,
   "id": "qualified-manor",
   "metadata": {},
   "outputs": [],
   "source": [
    "test_probs_.name = 'target'\n",
    "test_probs_.to_csv('../results/lightgbm_with_1134features_0.85133.csv') ### score de  0.85379 en la tabla publica"
   ]
  },
  {
   "cell_type": "code",
   "execution_count": null,
   "id": "supreme-estate",
   "metadata": {},
   "outputs": [],
   "source": []
  },
  {
   "cell_type": "code",
   "execution_count": 97,
   "id": "worthy-snowboard",
   "metadata": {
    "scrolled": true
   },
   "outputs": [
    {
     "name": "stdout",
     "output_type": "stream",
     "text": [
      "********** 0 **********\n",
      "Training until validation scores don't improve for 10 rounds\n",
      "[50]\ttraining's auc: 0.849192\ttraining's binary_logloss: 0.298944\tvalid_1's auc: 0.840273\tvalid_1's binary_logloss: 0.305633\n",
      "[100]\ttraining's auc: 0.862318\ttraining's binary_logloss: 0.287691\tvalid_1's auc: 0.847924\tvalid_1's binary_logloss: 0.299277\n",
      "[150]\ttraining's auc: 0.870461\ttraining's binary_logloss: 0.281069\tvalid_1's auc: 0.850561\tvalid_1's binary_logloss: 0.297056\n",
      "[200]\ttraining's auc: 0.876888\ttraining's binary_logloss: 0.275894\tvalid_1's auc: 0.851653\tvalid_1's binary_logloss: 0.296246\n",
      "[250]\ttraining's auc: 0.882611\ttraining's binary_logloss: 0.271388\tvalid_1's auc: 0.852212\tvalid_1's binary_logloss: 0.295765\n",
      "Early stopping, best iteration is:\n",
      "[283]\ttraining's auc: 0.886039\ttraining's binary_logloss: 0.268603\tvalid_1's auc: 0.852394\tvalid_1's binary_logloss: 0.295624\n",
      "********** 1 **********\n",
      "Training until validation scores don't improve for 10 rounds\n",
      "[50]\ttraining's auc: 0.849263\ttraining's binary_logloss: 0.2989\tvalid_1's auc: 0.84093\tvalid_1's binary_logloss: 0.305046\n",
      "[100]\ttraining's auc: 0.862646\ttraining's binary_logloss: 0.28765\tvalid_1's auc: 0.848429\tvalid_1's binary_logloss: 0.298593\n",
      "[150]\ttraining's auc: 0.870861\ttraining's binary_logloss: 0.28103\tvalid_1's auc: 0.851159\tvalid_1's binary_logloss: 0.29642\n",
      "[200]\ttraining's auc: 0.877118\ttraining's binary_logloss: 0.275912\tvalid_1's auc: 0.85211\tvalid_1's binary_logloss: 0.295506\n",
      "[250]\ttraining's auc: 0.882841\ttraining's binary_logloss: 0.271277\tvalid_1's auc: 0.852639\tvalid_1's binary_logloss: 0.294982\n",
      "Early stopping, best iteration is:\n",
      "[244]\ttraining's auc: 0.88219\ttraining's binary_logloss: 0.271814\tvalid_1's auc: 0.85268\tvalid_1's binary_logloss: 0.294979\n",
      "********** 2 **********\n",
      "Training until validation scores don't improve for 10 rounds\n",
      "[50]\ttraining's auc: 0.849056\ttraining's binary_logloss: 0.299625\tvalid_1's auc: 0.844021\tvalid_1's binary_logloss: 0.302649\n",
      "[100]\ttraining's auc: 0.8625\ttraining's binary_logloss: 0.288163\tvalid_1's auc: 0.850998\tvalid_1's binary_logloss: 0.295982\n",
      "[150]\ttraining's auc: 0.870637\ttraining's binary_logloss: 0.281537\tvalid_1's auc: 0.853159\tvalid_1's binary_logloss: 0.294098\n",
      "[200]\ttraining's auc: 0.877007\ttraining's binary_logloss: 0.27638\tvalid_1's auc: 0.853993\tvalid_1's binary_logloss: 0.293226\n",
      "[250]\ttraining's auc: 0.882601\ttraining's binary_logloss: 0.271826\tvalid_1's auc: 0.854465\tvalid_1's binary_logloss: 0.292754\n",
      "Early stopping, best iteration is:\n",
      "[244]\ttraining's auc: 0.882012\ttraining's binary_logloss: 0.272333\tvalid_1's auc: 0.854484\tvalid_1's binary_logloss: 0.292769\n",
      "********** 3 **********\n",
      "Training until validation scores don't improve for 10 rounds\n",
      "[50]\ttraining's auc: 0.848838\ttraining's binary_logloss: 0.299505\tvalid_1's auc: 0.842144\tvalid_1's binary_logloss: 0.303714\n",
      "[100]\ttraining's auc: 0.862533\ttraining's binary_logloss: 0.288175\tvalid_1's auc: 0.849435\tvalid_1's binary_logloss: 0.297175\n",
      "[150]\ttraining's auc: 0.870805\ttraining's binary_logloss: 0.281418\tvalid_1's auc: 0.851567\tvalid_1's binary_logloss: 0.295069\n",
      "[200]\ttraining's auc: 0.877208\ttraining's binary_logloss: 0.276261\tvalid_1's auc: 0.852495\tvalid_1's binary_logloss: 0.294196\n",
      "[250]\ttraining's auc: 0.882974\ttraining's binary_logloss: 0.271661\tvalid_1's auc: 0.85296\tvalid_1's binary_logloss: 0.29377\n",
      "Early stopping, best iteration is:\n",
      "[243]\ttraining's auc: 0.882254\ttraining's binary_logloss: 0.272248\tvalid_1's auc: 0.852969\tvalid_1's binary_logloss: 0.29376\n",
      "********** 4 **********\n",
      "Training until validation scores don't improve for 10 rounds\n",
      "[50]\ttraining's auc: 0.850733\ttraining's binary_logloss: 0.298671\tvalid_1's auc: 0.834172\tvalid_1's binary_logloss: 0.306544\n",
      "[100]\ttraining's auc: 0.864404\ttraining's binary_logloss: 0.287087\tvalid_1's auc: 0.841023\tvalid_1's binary_logloss: 0.300662\n",
      "[150]\ttraining's auc: 0.872552\ttraining's binary_logloss: 0.280372\tvalid_1's auc: 0.842824\tvalid_1's binary_logloss: 0.298961\n",
      "[200]\ttraining's auc: 0.878712\ttraining's binary_logloss: 0.275205\tvalid_1's auc: 0.843628\tvalid_1's binary_logloss: 0.298223\n",
      "Early stopping, best iteration is:\n",
      "[193]\ttraining's auc: 0.87798\ttraining's binary_logloss: 0.275866\tvalid_1's auc: 0.843631\tvalid_1's binary_logloss: 0.298281\n",
      "*********************\n",
      "roc auc estimado:  0.8512703714516285\n",
      "roc auc varianza:  0.0009414845348655905\n"
     ]
    }
   ],
   "source": [
    "[test_probs_, fi_] = cross_validation_lightgbm(train[keep_columns], test[keep_columns], y_train)"
   ]
  },
  {
   "cell_type": "code",
   "execution_count": 98,
   "id": "african-aircraft",
   "metadata": {},
   "outputs": [],
   "source": [
    "test_probs_.name = 'target'\n",
    "test_probs_.to_csv('../results/lightgbm_with_1072features_0.85127.csv') ### score de  0.85381  en la tabla publica"
   ]
  },
  {
   "cell_type": "code",
   "execution_count": 102,
   "id": "nearby-portugal",
   "metadata": {},
   "outputs": [
    {
     "data": {
      "text/plain": [
       "((358487, 1072), (396666, 1072))"
      ]
     },
     "execution_count": 102,
     "metadata": {},
     "output_type": "execute_result"
    }
   ],
   "source": [
    "train = train[keep_columns]\n",
    "test = test[keep_columns]\n",
    "train.shape, test.shape"
   ]
  },
  {
   "cell_type": "code",
   "execution_count": 103,
   "id": "compact-leadership",
   "metadata": {},
   "outputs": [],
   "source": [
    "train.to_pickle('../data/train_1072features_score_0.84862.pkl')\n",
    "test.to_pickle('../data/test_1072features_score_0.84862.pkl')"
   ]
  }
 ],
 "metadata": {
  "kernelspec": {
   "display_name": "Python 3",
   "language": "python",
   "name": "python3"
  },
  "language_info": {
   "codemirror_mode": {
    "name": "ipython",
    "version": 3
   },
   "file_extension": ".py",
   "mimetype": "text/x-python",
   "name": "python",
   "nbconvert_exporter": "python",
   "pygments_lexer": "ipython3",
   "version": "3.8.5"
  }
 },
 "nbformat": 4,
 "nbformat_minor": 5
}
