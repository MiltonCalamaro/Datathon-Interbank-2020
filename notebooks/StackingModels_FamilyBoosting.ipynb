{
 "cells": [
  {
   "cell_type": "code",
   "execution_count": 1,
   "id": "removable-burden",
   "metadata": {},
   "outputs": [],
   "source": [
    "import os\n",
    "import pandas as pd\n",
    "import numpy as np\n",
    "import matplotlib.pyplot as plt"
   ]
  },
  {
   "cell_type": "code",
   "execution_count": 2,
   "id": "diagnostic-purple",
   "metadata": {},
   "outputs": [],
   "source": [
    "from sklearn.model_selection import cross_validate\n",
    "from sklearn.model_selection import learning_curve\n",
    "def cross_validate_learning_rate(estimator, x_train, y_train, cv = 5, scoring = 'roc_auc', return_train_score = True):\n",
    "    results = cross_validate(estimator,\n",
    "                            x_train,\n",
    "                            y_train,\n",
    "                            cv = cv,\n",
    "                            scoring=scoring,\n",
    "                            return_train_score = return_train_score ) \n",
    "    train_scores = results['train_score']\n",
    "    test_scores = results['test_score']\n",
    "    print(\"train_scores: {}\".format(np.mean(train_scores)))\n",
    "    print(\"test_scores: {}\".format(np.mean(test_scores)))\n",
    "\n",
    "    lc = learning_curve(estimator, \n",
    "                        x_train, \n",
    "                        y_train, \n",
    "                        cv=cv, \n",
    "                        scoring=scoring)\n",
    "    samples, train, test = lc[0],lc[1],lc[2]\n",
    "    plt.plot(samples, np.mean(train, axis=1))\n",
    "    plt.plot(samples, np.mean(test, axis=1))"
   ]
  },
  {
   "cell_type": "code",
   "execution_count": 3,
   "id": "false-lyric",
   "metadata": {},
   "outputs": [],
   "source": [
    "from sklearn.model_selection import GridSearchCV\n",
    "def grid_search_param(X, y,nfolds, param_grid, model_sklearn, scoring = 'roc_auc'):\n",
    "    grid_search = GridSearchCV(model_sklearn, param_grid, cv=nfolds, return_train_score=True, scoring=scoring)\n",
    "    grid_search.fit(X, y)\n",
    "    return grid_search"
   ]
  },
  {
   "cell_type": "code",
   "execution_count": 4,
   "id": "dynamic-fundamental",
   "metadata": {},
   "outputs": [],
   "source": [
    "path = '../data'\n",
    "y_train = pd.read_csv(f'{path}/y_train.csv', index_col = 'key_value')"
   ]
  },
  {
   "cell_type": "code",
   "execution_count": 5,
   "id": "several-happening",
   "metadata": {},
   "outputs": [],
   "source": [
    "list_train_probs = []\n",
    "list_train_probs.append(pd.read_pickle('train_probs_lightgbm.pkl'))\n",
    "list_train_probs.append(pd.read_pickle('train_probs_catboost.pkl'))\n",
    "list_train_probs.append(pd.read_pickle('train_probs_xgb.pkl'))\n",
    "list_train_probs.append(pd.read_pickle('train_probs_gbc.pkl'))\n",
    "list_train_probs.append(pd.read_pickle('train_probs_lightgbm_v2.pkl'))\n",
    "train = pd.concat(list_train_probs, axis=1)\n",
    "train.columns = ['probs_lightgbm', 'probs_catboost','probs_xgb', 'probs_gbc', 'probs_lightgbm_v2']"
   ]
  },
  {
   "cell_type": "code",
   "execution_count": 6,
   "id": "afraid-balloon",
   "metadata": {
    "scrolled": false
   },
   "outputs": [],
   "source": [
    "list_test_probs = []\n",
    "list_test_probs.append(pd.read_pickle('test_probs_lightgbm.pkl'))\n",
    "list_test_probs.append(pd.read_pickle('test_probs_catboost.pkl'))\n",
    "list_test_probs.append(pd.read_pickle('test_probs_xgb.pkl'))\n",
    "list_test_probs.append(pd.read_pickle('test_probs_gbc.pkl'))\n",
    "list_test_probs.append(pd.read_pickle('test_probs_lightgbm_v2.pkl'))\n",
    "test = pd.concat(list_test_probs, axis=1)\n",
    "test.columns  = ['probs_lightgbm', 'probs_catboost', 'probs_xgb', 'probs_gbc', 'probs_lightgbm_v2']"
   ]
  },
  {
   "cell_type": "code",
   "execution_count": 7,
   "id": "hollywood-commerce",
   "metadata": {},
   "outputs": [],
   "source": [
    "keep_columns = ['probs_lightgbm', 'probs_lightgbm_v2','probs_catboost','probs_xgb'] \n",
    "train = train[keep_columns]\n",
    "test = test[keep_columns]"
   ]
  },
  {
   "cell_type": "code",
   "execution_count": 8,
   "id": "dominican-solution",
   "metadata": {
    "scrolled": true
   },
   "outputs": [
    {
     "data": {
      "text/html": [
       "<div>\n",
       "<style scoped>\n",
       "    .dataframe tbody tr th:only-of-type {\n",
       "        vertical-align: middle;\n",
       "    }\n",
       "\n",
       "    .dataframe tbody tr th {\n",
       "        vertical-align: top;\n",
       "    }\n",
       "\n",
       "    .dataframe thead th {\n",
       "        text-align: right;\n",
       "    }\n",
       "</style>\n",
       "<table border=\"1\" class=\"dataframe\">\n",
       "  <thead>\n",
       "    <tr style=\"text-align: right;\">\n",
       "      <th></th>\n",
       "      <th>probs_lightgbm</th>\n",
       "      <th>probs_lightgbm_v2</th>\n",
       "      <th>probs_catboost</th>\n",
       "      <th>probs_xgb</th>\n",
       "    </tr>\n",
       "  </thead>\n",
       "  <tbody>\n",
       "    <tr>\n",
       "      <th>probs_lightgbm</th>\n",
       "      <td>1.000000</td>\n",
       "      <td>0.983628</td>\n",
       "      <td>0.981097</td>\n",
       "      <td>0.975524</td>\n",
       "    </tr>\n",
       "    <tr>\n",
       "      <th>probs_lightgbm_v2</th>\n",
       "      <td>0.983628</td>\n",
       "      <td>1.000000</td>\n",
       "      <td>0.976367</td>\n",
       "      <td>0.969840</td>\n",
       "    </tr>\n",
       "    <tr>\n",
       "      <th>probs_catboost</th>\n",
       "      <td>0.981097</td>\n",
       "      <td>0.976367</td>\n",
       "      <td>1.000000</td>\n",
       "      <td>0.974262</td>\n",
       "    </tr>\n",
       "    <tr>\n",
       "      <th>probs_xgb</th>\n",
       "      <td>0.975524</td>\n",
       "      <td>0.969840</td>\n",
       "      <td>0.974262</td>\n",
       "      <td>1.000000</td>\n",
       "    </tr>\n",
       "  </tbody>\n",
       "</table>\n",
       "</div>"
      ],
      "text/plain": [
       "                   probs_lightgbm  probs_lightgbm_v2  probs_catboost  \\\n",
       "probs_lightgbm           1.000000           0.983628        0.981097   \n",
       "probs_lightgbm_v2        0.983628           1.000000        0.976367   \n",
       "probs_catboost           0.981097           0.976367        1.000000   \n",
       "probs_xgb                0.975524           0.969840        0.974262   \n",
       "\n",
       "                   probs_xgb  \n",
       "probs_lightgbm      0.975524  \n",
       "probs_lightgbm_v2   0.969840  \n",
       "probs_catboost      0.974262  \n",
       "probs_xgb           1.000000  "
      ]
     },
     "execution_count": 8,
     "metadata": {},
     "output_type": "execute_result"
    }
   ],
   "source": [
    "train.corr()"
   ]
  },
  {
   "cell_type": "code",
   "execution_count": 9,
   "id": "worse-california",
   "metadata": {},
   "outputs": [
    {
     "data": {
      "text/html": [
       "<div>\n",
       "<style scoped>\n",
       "    .dataframe tbody tr th:only-of-type {\n",
       "        vertical-align: middle;\n",
       "    }\n",
       "\n",
       "    .dataframe tbody tr th {\n",
       "        vertical-align: top;\n",
       "    }\n",
       "\n",
       "    .dataframe thead th {\n",
       "        text-align: right;\n",
       "    }\n",
       "</style>\n",
       "<table border=\"1\" class=\"dataframe\">\n",
       "  <thead>\n",
       "    <tr style=\"text-align: right;\">\n",
       "      <th></th>\n",
       "      <th>probs_lightgbm</th>\n",
       "      <th>probs_lightgbm_v2</th>\n",
       "      <th>probs_catboost</th>\n",
       "      <th>probs_xgb</th>\n",
       "    </tr>\n",
       "  </thead>\n",
       "  <tbody>\n",
       "    <tr>\n",
       "      <th>probs_lightgbm</th>\n",
       "      <td>1.000000</td>\n",
       "      <td>0.992589</td>\n",
       "      <td>0.990563</td>\n",
       "      <td>0.992066</td>\n",
       "    </tr>\n",
       "    <tr>\n",
       "      <th>probs_lightgbm_v2</th>\n",
       "      <td>0.992589</td>\n",
       "      <td>1.000000</td>\n",
       "      <td>0.987350</td>\n",
       "      <td>0.987958</td>\n",
       "    </tr>\n",
       "    <tr>\n",
       "      <th>probs_catboost</th>\n",
       "      <td>0.990563</td>\n",
       "      <td>0.987350</td>\n",
       "      <td>1.000000</td>\n",
       "      <td>0.991087</td>\n",
       "    </tr>\n",
       "    <tr>\n",
       "      <th>probs_xgb</th>\n",
       "      <td>0.992066</td>\n",
       "      <td>0.987958</td>\n",
       "      <td>0.991087</td>\n",
       "      <td>1.000000</td>\n",
       "    </tr>\n",
       "  </tbody>\n",
       "</table>\n",
       "</div>"
      ],
      "text/plain": [
       "                   probs_lightgbm  probs_lightgbm_v2  probs_catboost  \\\n",
       "probs_lightgbm           1.000000           0.992589        0.990563   \n",
       "probs_lightgbm_v2        0.992589           1.000000        0.987350   \n",
       "probs_catboost           0.990563           0.987350        1.000000   \n",
       "probs_xgb                0.992066           0.987958        0.991087   \n",
       "\n",
       "                   probs_xgb  \n",
       "probs_lightgbm      0.992066  \n",
       "probs_lightgbm_v2   0.987958  \n",
       "probs_catboost      0.991087  \n",
       "probs_xgb           1.000000  "
      ]
     },
     "execution_count": 9,
     "metadata": {},
     "output_type": "execute_result"
    }
   ],
   "source": [
    "test.corr()"
   ]
  },
  {
   "cell_type": "code",
   "execution_count": 10,
   "id": "challenging-marking",
   "metadata": {
    "scrolled": true
   },
   "outputs": [
    {
     "data": {
      "image/png": "[encoded data removed]",
      "text/plain": [
       "<Figure size 432x288 with 1 Axes>"
      ]
     },
     "metadata": {
      "needs_background": "light"
     },
     "output_type": "display_data"
    }
   ],
   "source": [
    "plt.hist(np.std(train.values, axis=1));"
   ]
  },
  {
   "cell_type": "markdown",
   "id": "purple-radar",
   "metadata": {},
   "source": [
    "### Entrenando el modelo final"
   ]
  },
  {
   "cell_type": "code",
   "execution_count": 20,
   "id": "bright-cache",
   "metadata": {},
   "outputs": [
    {
     "name": "stdout",
     "output_type": "stream",
     "text": [
      "LogisticRegression(C=1.0, class_weight=None, dual=False, fit_intercept=True,\n",
      "                   intercept_scaling=1, l1_ratio=None, max_iter=100,\n",
      "                   multi_class='auto', n_jobs=None, penalty='l2',\n",
      "                   random_state=42, solver='lbfgs', tol=0.0001, verbose=0,\n",
      "                   warm_start=False)\n"
     ]
    }
   ],
   "source": [
    "from sklearn.linear_model import LogisticRegression\n",
    "### definir los parametros a tunear\n",
    "Cs = [0.1, 0.3, 0.8, 0.9, 1.0]\n",
    "# https://neurtu.readthedocs.io/examples/logistic_regression_scaling.html\n",
    "solvers = ['lbfgs','saga','newton-cg'] # newton-cg, sag, lbfgs, liblinear, saga\n",
    "param_grid = {'C': Cs,'solver':solvers}\n",
    "### encontrando los hiper_parámetros\n",
    "fitting=grid_search_param(train, y_train.target, 5,param_grid, LogisticRegression(penalty=\"l2\", tol=0.0001, random_state=42), scoring='roc_auc')\n",
    "### instanciar el estimador\n",
    "estimator = fitting.best_estimator_\n",
    "print(estimator)\n",
    "### aplicar cross_validate y learning_rate \n",
    "# cross_validate_learning_rate(estimator, train, y_train, scoring='roc_auc')"
   ]
  },
  {
   "cell_type": "code",
   "execution_count": 21,
   "id": "polyphonic-convergence",
   "metadata": {
    "scrolled": true
   },
   "outputs": [
    {
     "name": "stdout",
     "output_type": "stream",
     "text": [
      "train_scores: 0.8546741550431814\n",
      "test_scores: 0.8546459877274858\n"
     ]
    },
    {
     "data": {
      "image/png": "[encoded data removed]",
      "text/plain": [
       "<Figure size 432x288 with 1 Axes>"
      ]
     },
     "metadata": {
      "needs_background": "light"
     },
     "output_type": "display_data"
    }
   ],
   "source": [
    "### aplicar cross_validate y learning_rate \n",
    "cross_validate_learning_rate(estimator, train, y_train.target, scoring='roc_auc')"
   ]
  },
  {
   "cell_type": "code",
   "execution_count": 25,
   "id": "matched-astrology",
   "metadata": {
    "scrolled": true
   },
   "outputs": [
    {
     "data": {
      "text/plain": [
       "key_value\n",
       "0         0.044932\n",
       "1         0.066908\n",
       "2         0.053932\n",
       "3         0.605238\n",
       "4         0.117123\n",
       "            ...   \n",
       "396661    0.066878\n",
       "396662    0.146606\n",
       "396663    0.195737\n",
       "396664    0.056225\n",
       "396665    0.059478\n",
       "Name: target, Length: 396666, dtype: float64"
      ]
     },
     "execution_count": 25,
     "metadata": {},
     "output_type": "execute_result"
    }
   ],
   "source": [
    "test_stacking = pd.Series(estimator.predict_proba(test)[:,-1], index=test.index, name = 'target')\n",
    "test_stacking"
   ]
  },
  {
   "cell_type": "code",
   "execution_count": 15,
   "id": "through-abuse",
   "metadata": {},
   "outputs": [],
   "source": [
    "######################\n",
    "# ['probs_lightgbm', 'probs_catboost']\n",
    "# train_scores: 0.8542015438696666\n",
    "# test_scores: 0.8541920536095156\n",
    "######################\n",
    "# ['probs_lightgbm', 'probs_xgb']\n",
    "# train_scores: 0.8537336303022318\n",
    "# test_scores: 0.8537153296347725\n",
    "######################\n",
    "# ['probs_lightgbm', 'probs_gbc']\n",
    "# train_scores: 0.8533152324085977\n",
    "# test_scores: 0.8532880990430135\n",
    "######################\n",
    "# ['probs_lightgbm', 'probs_lightgbm_v2']  ******\n",
    "# train_scores: 0.8542166969058126\n",
    "# test_scores: 0.8542013048045209\n",
    "######################\n",
    "# ['probs_lightgbm', 'probs_catboost', 'probs_xgb']\n",
    "# train_scores: 0.8542750396538642\n",
    "# test_scores: 0.8542564156239385\n",
    "######################\n",
    "# ['probs_lightgbm', 'probs_catboost', 'probs_gbc']\n",
    "# train_scores: 0.8541521971557591\n",
    "# test_scores: 0.854124194608111\n",
    "######################\n",
    "# ['probs_lightgbm', 'probs_lightgbm_v2','probs_catboost']  ****** Probar con esto para mañana\n",
    "# train_scores: 0.8546467151913222\n",
    "# test_scores: 0.8546258916989796\n",
    "######################\n",
    "# ['probs_lightgbm', 'probs_lightgbm_v2','probs_xgb']\n",
    "# train_scores: 0.8543761504099889\n",
    "# test_scores: 0.8543531308511978\n",
    "######################\n",
    "# ['probs_lightgbm', 'probs_lightgbm_v2','probs_gbc]\n",
    "# train_scores: 0.8541762829377056\n",
    "# test_scores: 0.8541427401970043\n",
    "######################\n",
    "# ['probs_lightgbm', 'probs_lightgbm_v2','probs_catboost','probs_xgb'] *****\n",
    "# train_scores: 0.8546741550431814\n",
    "# test_scores: 0.8546459877274858\n",
    "######################\n",
    "# ['probs_lightgbm', 'probs_catboost', 'probs_xgb', 'probs_gbc']\n",
    "# train_scores: 0.8542370056429046\n",
    "# test_scores: 0.8542013506721494\n",
    "######################\n",
    "# ['probs_lightgbm', 'probs_lightgbm', 'probs_catboost', 'probs_xgb', 'probs_gbc']\n",
    "# train_scores: 0.8546605073604997\n",
    "# test_scores: 0.8546139114491276"
   ]
  },
  {
   "cell_type": "code",
   "execution_count": 26,
   "id": "significant-fifty",
   "metadata": {},
   "outputs": [
    {
     "data": {
      "text/plain": [
       "array([[2.67176899, 1.48894309, 1.84195922, 0.70294935]])"
      ]
     },
     "execution_count": 26,
     "metadata": {},
     "output_type": "execute_result"
    }
   ],
   "source": [
    "estimator.coef_"
   ]
  },
  {
   "cell_type": "code",
   "execution_count": 28,
   "id": "extended-forward",
   "metadata": {},
   "outputs": [],
   "source": [
    "test_stacking.to_csv(\"../results/stacking_4models_LGBM2_CB_XGB_0.85464.csv\")  ### score de 0.85596 en la tabla publica\n",
    "# test_stacking.to_csv(\"../results/stacking_2models_LGBM_CB_0.85419.csv\")  ### score de 0.85567 en la tabla publica"
   ]
  },
  {
   "cell_type": "code",
   "execution_count": 18,
   "id": "subjective-dancing",
   "metadata": {},
   "outputs": [],
   "source": [
    "# test_stacking.to_csv(\"../results/stacking_3models_LGBM2_GBC_0.84805.csv\")  ### score de 0.84996 en la tabla publica\n",
    "# test_stacking.to_csv(\"../results/stacking_3models_LGBM2_R_0.84729.csv\")  ### score de 0.84927 en la tabla publica\n",
    "# test_stacking.to_csv(\"../results/stacking_6models_0.84767.csv\")  ### score de 0.84910 en la tabla publica\n",
    "# test_stacking.to_csv(\"../results/stacking_3models_LGBM2_RNN_0.84830.csv\")  ### score de 0.84974 en la tabla publica\n",
    "# test_stacking.to_csv(\"../results/stacking_3models_LGBM2_RF_0.84694.csv\")  ### score de 0.84874  en la tabla publica\n",
    "# test_stacking.to_csv(\"../results/stacking_3models_LGBM2_XGB_0.84807.csv\")  ### score de 0.84977  en la tabla publica\n",
    "# test_stacking.to_csv(\"../results/stacking_3models_LGBM2_0.84811.csv\")  ### score de 0.84970  en la tabla publica\n",
    "# test_stacking.to_csv(\"../results/stacking_2models_LGBM2_0.84801.csv\")  ### score de 0.84992 en la tabla publica\n",
    "# test_stacking.to_csv(\"../results/stacking_3models_CB_LGBM2_0.84834.csv\")  ### score de 0.84991 en la tabla publica\n",
    "# test_stacking.to_csv(\"../results/stacking_3models_CB_LGBM2_0.84833.csv\") ### score de 0.84992 en la tabla publica\n",
    "# test_stacking.to_csv(\"../results/stacking_2models_CB_LGBM_0.84721.csv\") ### score de 0.84882 en la tabla publica"
   ]
  },
  {
   "cell_type": "code",
   "execution_count": 19,
   "id": "efficient-medicare",
   "metadata": {},
   "outputs": [],
   "source": [
    "### Por lo que se puede concluir que los dos modelos de lightGBM (el normal, y el que toma en cuenta las categoricas).\n",
    "### Tienen mejor performance"
   ]
  }
 ],
 "metadata": {
  "kernelspec": {
   "display_name": "Python 3",
   "language": "python",
   "name": "python3"
  },
  "language_info": {
   "codemirror_mode": {
    "name": "ipython",
    "version": 3
   },
   "file_extension": ".py",
   "mimetype": "text/x-python",
   "name": "python",
   "nbconvert_exporter": "python",
   "pygments_lexer": "ipython3",
   "version": "3.8.5"
  }
 },
 "nbformat": 4,
 "nbformat_minor": 5
}
