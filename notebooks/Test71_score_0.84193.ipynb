{
 "cells": [
  {
   "cell_type": "code",
   "execution_count": 1,
   "metadata": {
    "_cell_guid": "79c7e3d0-c299-4dcb-8224-4455121ee9b0",
    "_uuid": "d629ff2d2480ee46fbb7e2d37f6b5fab8052498a"
   },
   "outputs": [],
   "source": [
    "import pandas as pd\n",
    "from tqdm.notebook import tqdm \n",
    "import gc\n",
    "import numpy as np"
   ]
  },
  {
   "cell_type": "code",
   "execution_count": 2,
   "metadata": {},
   "outputs": [],
   "source": [
    "import statistics as stat\n",
    "def calculate_mode(x):\n",
    "    try:\n",
    "        moda=stat.mode(x)\n",
    "    except:\n",
    "        moda=np.nan\n",
    "    return moda"
   ]
  },
  {
   "cell_type": "markdown",
   "metadata": {},
   "source": [
    "## Load Bases"
   ]
  },
  {
   "cell_type": "code",
   "execution_count": 3,
   "metadata": {},
   "outputs": [],
   "source": [
    "path = '../data'\n",
    "y_train = pd.read_csv(f'{path}/y_train.csv', index_col = 'key_value')\n",
    "# sunat_train = pd.read_csv(f'{path}/sunat_train.csv')\n",
    "# rcc_train = pd.read_csv(f'{path}/rcc_train.csv')\n",
    "# se_train = pd.read_csv(f'{path}/se_train.csv', index_col = 'key_value')\n",
    "# sunat_test = pd.read_csv(f'{path}/sunat_test.csv')\n",
    "# rcc_test = pd.read_csv(f'{path}/rcc_test.csv')\n",
    "# se_test = pd.read_csv(f'{path}/se_test.csv', index_col = 'key_value')"
   ]
  },
  {
   "cell_type": "markdown",
   "metadata": {},
   "source": [
    "## Procesar RCC"
   ]
  },
  {
   "cell_type": "code",
   "execution_count": 4,
   "metadata": {},
   "outputs": [],
   "source": [
    "rcc_train = pd.read_csv(f'{path}/rcc_train.csv')\n",
    "rcc_test = pd.read_csv(f'{path}/rcc_test.csv')"
   ]
  },
  {
   "cell_type": "code",
   "execution_count": 5,
   "metadata": {},
   "outputs": [
    {
     "data": {
      "text/plain": [
       "<matplotlib.axes._subplots.AxesSubplot at 0x7f17ca31bf50>"
      ]
     },
     "execution_count": 5,
     "metadata": {},
     "output_type": "execute_result"
    },
    {
     "data": {
      "image/png": "[encoded data removed]",
      "text/plain": [
       "<Figure size 1080x360 with 1 Axes>"
      ]
     },
     "metadata": {
      "needs_background": "light"
     },
     "output_type": "display_data"
    }
   ],
   "source": [
    "import pandas as pd\n",
    "import numpy as np\n",
    "import matplotlib.pyplot as plt\n",
    "from sklearn.model_selection import train_test_split\n",
    "from sklearn.metrics import confusion_matrix, classification_report, roc_curve, roc_auc_score, accuracy_score\n",
    "import seaborn as sns\n",
    "%matplotlib inline\n",
    "\n",
    "plt.rcParams[\"figure.figsize\"] = [15, 5]\n",
    "sns.countplot(rcc_train.cod_instit_financiera)"
   ]
  },
  {
   "cell_type": "code",
   "execution_count": 6,
   "metadata": {},
   "outputs": [
    {
     "data": {
      "text/plain": [
       "<matplotlib.axes._subplots.AxesSubplot at 0x7f17ca31b1d0>"
      ]
     },
     "execution_count": 6,
     "metadata": {},
     "output_type": "execute_result"
    },
    {
     "data": {
      "image/png": "[encoded data removed]",
      "text/plain": [
       "<Figure size 1080x360 with 1 Axes>"
      ]
     },
     "metadata": {
      "needs_background": "light"
     },
     "output_type": "display_data"
    }
   ],
   "source": [
    "sns.countplot(rcc_train.PRODUCTO)"
   ]
  },
  {
   "cell_type": "code",
   "execution_count": 7,
   "metadata": {},
   "outputs": [],
   "source": [
    "rcc_test['cod_instit_financiera'].fillna(rcc_test['cod_instit_financiera'].value_counts().index[0], inplace=True)\n",
    "rcc_test['PRODUCTO'].fillna(rcc_test['PRODUCTO'].value_counts().index[0], inplace=True)"
   ]
  },
  {
   "cell_type": "code",
   "execution_count": 8,
   "metadata": {},
   "outputs": [],
   "source": [
    "dict_ = {'codmes': 'int32',\n",
    " 'key_value': 'int32',\n",
    " 'condicion': 'int32',\n",
    " 'tipo_credito': 'int32',\n",
    " 'cod_instit_financiera': 'int32',\n",
    " 'PRODUCTO': 'int32',\n",
    " 'RIESGO_DIRECTO': 'int32',\n",
    " 'COD_CLASIFICACION_DEUDOR': 'int32'}\n",
    "rcc_train = rcc_train.astype(dict_)\n",
    "rcc_test = rcc_test.astype(dict_)"
   ]
  },
  {
   "cell_type": "code",
   "execution_count": 12,
   "metadata": {},
   "outputs": [
    {
     "data": {
      "text/plain": [
       "-0.07289224159199438"
      ]
     },
     "execution_count": 12,
     "metadata": {},
     "output_type": "execute_result"
    }
   ],
   "source": [
    "rcc_train.saldo.min()"
   ]
  },
  {
   "cell_type": "code",
   "execution_count": 13,
   "metadata": {},
   "outputs": [],
   "source": [
    "moda=lambda x: calculate_mode(x)\n",
    "moda.__name__='mode'\n",
    "agg_rcc = {'condicion':['max','min','mean','std','sum'],\n",
    "           'saldo':['max','min','mean','std','sum'],\n",
    "           'cod_instit_financiera':['nunique','min','max',moda],\n",
    "           'PRODUCTO':['nunique','min','max',moda],\n",
    "           'COD_CLASIFICACION_DEUDOR':['nunique','max','min','sum','mean','std',moda],\n",
    "           'RIESGO_DIRECTO':['nunique','max','min','sum','mean','std',moda],\n",
    "           'tipo_credito':['nunique','max','min','sum','mean','std',moda]\n",
    "          }"
   ]
  },
  {
   "cell_type": "code",
   "execution_count": 14,
   "metadata": {},
   "outputs": [
    {
     "data": {
      "application/vnd.jupyter.widget-view+json": {
       "model_id": "5e26535a9d4d4447a000d57297217fd2",
       "version_major": 2,
       "version_minor": 0
      },
      "text/plain": [
       "HBox(children=(FloatProgress(value=0.0, max=12.0), HTML(value='')))"
      ]
     },
     "metadata": {},
     "output_type": "display_data"
    },
    {
     "name": "stdout",
     "output_type": "stream",
     "text": [
      "haciendo tipo_credito\n",
      "haciendo RIESGO_DIRECTO\n",
      "haciendo COD_CLASIFICACION_DEUDOR\n",
      "haciendo tipo_credito\n",
      "haciendo RIESGO_DIRECTO\n",
      "haciendo COD_CLASIFICACION_DEUDOR\n",
      "haciendo aggregate de 201802\n",
      "haciendo tipo_credito\n",
      "haciendo RIESGO_DIRECTO\n",
      "haciendo COD_CLASIFICACION_DEUDOR\n",
      "haciendo tipo_credito\n",
      "haciendo RIESGO_DIRECTO\n",
      "haciendo COD_CLASIFICACION_DEUDOR\n",
      "haciendo aggregate de 201801\n",
      "haciendo tipo_credito\n",
      "haciendo RIESGO_DIRECTO\n",
      "haciendo COD_CLASIFICACION_DEUDOR\n",
      "haciendo tipo_credito\n",
      "haciendo RIESGO_DIRECTO\n",
      "haciendo COD_CLASIFICACION_DEUDOR\n",
      "haciendo aggregate de 201712\n",
      "haciendo tipo_credito\n",
      "haciendo RIESGO_DIRECTO\n",
      "haciendo COD_CLASIFICACION_DEUDOR\n",
      "haciendo tipo_credito\n",
      "haciendo RIESGO_DIRECTO\n",
      "haciendo COD_CLASIFICACION_DEUDOR\n",
      "haciendo aggregate de 201711\n",
      "haciendo tipo_credito\n",
      "haciendo RIESGO_DIRECTO\n",
      "haciendo COD_CLASIFICACION_DEUDOR\n",
      "haciendo tipo_credito\n",
      "haciendo RIESGO_DIRECTO\n",
      "haciendo COD_CLASIFICACION_DEUDOR\n",
      "haciendo aggregate de 201710\n",
      "haciendo tipo_credito\n",
      "haciendo RIESGO_DIRECTO\n",
      "haciendo COD_CLASIFICACION_DEUDOR\n",
      "haciendo tipo_credito\n",
      "haciendo RIESGO_DIRECTO\n",
      "haciendo COD_CLASIFICACION_DEUDOR\n",
      "haciendo aggregate de 201709\n",
      "haciendo tipo_credito\n",
      "haciendo RIESGO_DIRECTO\n",
      "haciendo COD_CLASIFICACION_DEUDOR\n",
      "haciendo tipo_credito\n",
      "haciendo RIESGO_DIRECTO\n",
      "haciendo COD_CLASIFICACION_DEUDOR\n",
      "haciendo aggregate de 201703\n",
      "\n"
     ]
    }
   ],
   "source": [
    "list_rcc_train_agg = []\n",
    "for n,i in enumerate(tqdm(sorted(set(rcc_train.codmes),reverse=True))):\n",
    "    if n in [0,1,2,3,4,5,11]:\n",
    "        for c in ['tipo_credito','RIESGO_DIRECTO','COD_CLASIFICACION_DEUDOR']:\n",
    "            print(f'haciendo {c}')\n",
    "            rcc_train_agg = rcc_train[rcc_train.codmes>=i].groupby(['key_value', c]).saldo.sum().unstack(level = 1, fill_value=-0.07289224159199438)\n",
    "            rcc_train_agg.columns = [f'{rcc_train_agg.columns.name}_{c}_saldo_ult{n+1}meses' for c in rcc_train_agg.columns]\n",
    "            list_rcc_train_agg.append(rcc_train_agg)\n",
    "            gc.collect()\n",
    "        for c in ['tipo_credito','RIESGO_DIRECTO','COD_CLASIFICACION_DEUDOR']:\n",
    "            print(f'haciendo {c}')\n",
    "            rcc_train_agg = rcc_train[rcc_train.codmes>=i].groupby(['key_value', c]).condicion.sum().unstack(level = 1, fill_value=0)\n",
    "            rcc_train_agg.columns = [f'{rcc_train_agg.columns.name}_{c}_condicion_ult{n+1}meses' for c in rcc_train_agg.columns]\n",
    "            list_rcc_train_agg.append(rcc_train_agg)\n",
    "            gc.collect()\n",
    "\n",
    "        print(f'haciendo aggregate de {i}')\n",
    "        rcc_train_agg = rcc_train[rcc_train.codmes>=i].groupby('key_value').agg(agg_rcc)\n",
    "        rcc_train_agg.columns = [i+'_'+j+f'_ult{n+1}mes' for i,j in rcc_train_agg.columns]\n",
    "        list_rcc_train_agg.append(rcc_train_agg)\n",
    "        gc.collect()\n",
    "\n",
    "rcc_train_ = pd.concat(list_rcc_train_agg, axis=1)\n",
    "del rcc_train, list_rcc_train_agg"
   ]
  },
  {
   "cell_type": "code",
   "execution_count": 15,
   "metadata": {},
   "outputs": [
    {
     "data": {
      "application/vnd.jupyter.widget-view+json": {
       "model_id": "41f5a8acff7b4a51be58da58a2679fcd",
       "version_major": 2,
       "version_minor": 0
      },
      "text/plain": [
       "HBox(children=(FloatProgress(value=0.0, max=12.0), HTML(value='')))"
      ]
     },
     "metadata": {},
     "output_type": "display_data"
    },
    {
     "name": "stdout",
     "output_type": "stream",
     "text": [
      "haciendo tipo_credito\n",
      "haciendo RIESGO_DIRECTO\n",
      "haciendo COD_CLASIFICACION_DEUDOR\n",
      "haciendo tipo_credito\n",
      "haciendo RIESGO_DIRECTO\n",
      "haciendo COD_CLASIFICACION_DEUDOR\n",
      "haciendo aggregate de 201902\n",
      "haciendo tipo_credito\n",
      "haciendo RIESGO_DIRECTO\n",
      "haciendo COD_CLASIFICACION_DEUDOR\n",
      "haciendo tipo_credito\n",
      "haciendo RIESGO_DIRECTO\n",
      "haciendo COD_CLASIFICACION_DEUDOR\n",
      "haciendo aggregate de 201901\n",
      "haciendo tipo_credito\n",
      "haciendo RIESGO_DIRECTO\n",
      "haciendo COD_CLASIFICACION_DEUDOR\n",
      "haciendo tipo_credito\n",
      "haciendo RIESGO_DIRECTO\n",
      "haciendo COD_CLASIFICACION_DEUDOR\n",
      "haciendo aggregate de 201812\n",
      "haciendo tipo_credito\n",
      "haciendo RIESGO_DIRECTO\n",
      "haciendo COD_CLASIFICACION_DEUDOR\n",
      "haciendo tipo_credito\n",
      "haciendo RIESGO_DIRECTO\n",
      "haciendo COD_CLASIFICACION_DEUDOR\n",
      "haciendo aggregate de 201811\n",
      "haciendo tipo_credito\n",
      "haciendo RIESGO_DIRECTO\n",
      "haciendo COD_CLASIFICACION_DEUDOR\n",
      "haciendo tipo_credito\n",
      "haciendo RIESGO_DIRECTO\n",
      "haciendo COD_CLASIFICACION_DEUDOR\n",
      "haciendo aggregate de 201810\n",
      "haciendo tipo_credito\n",
      "haciendo RIESGO_DIRECTO\n",
      "haciendo COD_CLASIFICACION_DEUDOR\n",
      "haciendo tipo_credito\n",
      "haciendo RIESGO_DIRECTO\n",
      "haciendo COD_CLASIFICACION_DEUDOR\n",
      "haciendo aggregate de 201809\n",
      "haciendo tipo_credito\n",
      "haciendo RIESGO_DIRECTO\n",
      "haciendo COD_CLASIFICACION_DEUDOR\n",
      "haciendo tipo_credito\n",
      "haciendo RIESGO_DIRECTO\n",
      "haciendo COD_CLASIFICACION_DEUDOR\n",
      "haciendo aggregate de 201803\n",
      "\n"
     ]
    }
   ],
   "source": [
    "list_rcc_test_agg = []\n",
    "for n,i in enumerate(tqdm(sorted(set(rcc_test.codmes),reverse=True))):\n",
    "    if n in [0,1,2,3,4,5,11]:\n",
    "        for c in ['tipo_credito','RIESGO_DIRECTO','COD_CLASIFICACION_DEUDOR']:\n",
    "            print(f'haciendo {c}')\n",
    "            rcc_test_agg = rcc_test[rcc_test.codmes>=i].groupby(['key_value', c]).saldo.sum().unstack(level = 1, fill_value=-0.07289224159199438)\n",
    "            rcc_test_agg.columns = [f'{rcc_test_agg.columns.name}_{c}_saldo_ult{n+1}meses' for c in rcc_test_agg.columns]\n",
    "            list_rcc_test_agg.append(rcc_test_agg)\n",
    "            gc.collect()\n",
    "        for c in ['tipo_credito','RIESGO_DIRECTO','COD_CLASIFICACION_DEUDOR']:\n",
    "            print(f'haciendo {c}')\n",
    "            rcc_test_agg = rcc_test[rcc_test.codmes>=i].groupby(['key_value', c]).condicion.sum().unstack(level = 1, fill_value=0)\n",
    "            rcc_test_agg.columns = [f'{rcc_test_agg.columns.name}_{c}_condicion_ult{n+1}meses' for c in rcc_test_agg.columns]\n",
    "            list_rcc_test_agg.append(rcc_test_agg)\n",
    "            gc.collect()\n",
    "        print(f'haciendo aggregate de {i}')\n",
    "        rcc_test_agg = rcc_test[rcc_test.codmes>=i].groupby('key_value').agg(agg_rcc)\n",
    "        rcc_test_agg.columns = [i+'_'+j+f'_ult{n+1}mes' for i,j in rcc_test_agg.columns]\n",
    "        list_rcc_test_agg.append(rcc_test_agg)\n",
    "        gc.collect()\n",
    "\n",
    "rcc_test_ = pd.concat(list_rcc_test_agg, axis=1)\n",
    "del rcc_test, list_rcc_test_agg"
   ]
  },
  {
   "cell_type": "code",
   "execution_count": 16,
   "metadata": {},
   "outputs": [
    {
     "data": {
      "text/plain": [
       "COD_CLASIFICACION_DEUDOR_std_ult2mes     0.002876\n",
       "RIESGO_DIRECTO_std_ult2mes               0.002876\n",
       "saldo_std_ult2mes                        0.002876\n",
       "tipo_credito_std_ult1mes                 0.003674\n",
       "condicion_std_ult1mes                    0.003674\n",
       "COD_CLASIFICACION_DEUDOR_std_ult1mes     0.003674\n",
       "saldo_std_ult1mes                        0.003674\n",
       "RIESGO_DIRECTO_std_ult1mes               0.003674\n",
       "COD_CLASIFICACION_DEUDOR_mode_ult3mes    0.004293\n",
       "COD_CLASIFICACION_DEUDOR_mode_ult2mes    0.006028\n",
       "COD_CLASIFICACION_DEUDOR_mode_ult6mes    0.006357\n",
       "COD_CLASIFICACION_DEUDOR_mode_ult1mes    0.007308\n",
       "tipo_credito_mode_ult12mes               0.007836\n",
       "tipo_credito_mode_ult6mes                0.011766\n",
       "tipo_credito_mode_ult5mes                0.012918\n",
       "tipo_credito_mode_ult4mes                0.016829\n",
       "tipo_credito_mode_ult3mes                0.021485\n",
       "cod_instit_financiera_mode_ult12mes      0.021616\n",
       "tipo_credito_mode_ult2mes                0.030936\n",
       "RIESGO_DIRECTO_mode_ult12mes             0.038749\n",
       "cod_instit_financiera_mode_ult6mes       0.040197\n",
       "RIESGO_DIRECTO_mode_ult6mes              0.045140\n",
       "cod_instit_financiera_mode_ult5mes       0.045483\n",
       "RIESGO_DIRECTO_mode_ult5mes              0.046995\n",
       "RIESGO_DIRECTO_mode_ult4mes              0.049048\n",
       "RIESGO_DIRECTO_mode_ult3mes              0.052153\n",
       "tipo_credito_mode_ult1mes                0.052487\n",
       "RIESGO_DIRECTO_mode_ult2mes              0.056621\n",
       "cod_instit_financiera_mode_ult4mes       0.057930\n",
       "RIESGO_DIRECTO_mode_ult1mes              0.069004\n",
       "cod_instit_financiera_mode_ult3mes       0.074781\n",
       "cod_instit_financiera_mode_ult2mes       0.103094\n",
       "cod_instit_financiera_mode_ult1mes       0.175111\n",
       "PRODUCTO_mode_ult12mes                   0.483649\n",
       "PRODUCTO_mode_ult6mes                    0.553030\n",
       "PRODUCTO_mode_ult5mes                    0.569348\n",
       "PRODUCTO_mode_ult4mes                    0.586816\n",
       "PRODUCTO_mode_ult3mes                    0.606496\n",
       "PRODUCTO_mode_ult2mes                    0.629331\n",
       "PRODUCTO_mode_ult1mes                    0.682597\n",
       "dtype: float64"
      ]
     },
     "execution_count": 16,
     "metadata": {},
     "output_type": "execute_result"
    }
   ],
   "source": [
    "rcc_train_.isna().sum().sort_values().tail(40)/len(rcc_train_)"
   ]
  },
  {
   "cell_type": "code",
   "execution_count": 17,
   "metadata": {},
   "outputs": [
    {
     "name": "stdout",
     "output_type": "stream",
     "text": [
      "(358487, 539) (396666, 553)\n",
      "(358487, 539) (396666, 539)\n"
     ]
    }
   ],
   "source": [
    "### asegurar que las columnas esten en ambas bases (train/test)\n",
    "print(rcc_train_.shape, rcc_test_.shape)\n",
    "keep_columns = list(set(rcc_train_.columns).intersection(rcc_test_.columns))\n",
    "rcc_train_ = rcc_train_[keep_columns].copy()\n",
    "rcc_test_ = rcc_test_[keep_columns].copy()\n",
    "print(rcc_train_.shape, rcc_test_.shape)"
   ]
  },
  {
   "cell_type": "markdown",
   "metadata": {},
   "source": [
    "#### guardando archivo procesado de RCC"
   ]
  },
  {
   "cell_type": "code",
   "execution_count": 4,
   "metadata": {},
   "outputs": [],
   "source": [
    "## guardando archivo procesado de rcc\n",
    "# rcc_train_.to_csv('../data/intermediate/rcc_train_v2.csv')\n",
    "# rcc_test_.to_csv('../data/intermediate/rcc_test_v2.csv')\n",
    "# ### cargando archivo procesado de rcc\n",
    "rcc_train_ = pd.read_csv('../data/intermediate/rcc_train_v2.csv', index_col='key_value')\n",
    "rcc_test_ = pd.read_csv('../data/intermediate/rcc_test_v2.csv',index_col='key_value')"
   ]
  },
  {
   "cell_type": "code",
   "execution_count": 5,
   "metadata": {},
   "outputs": [],
   "source": [
    "### imputar datos categoricos\n",
    "var_categ = [i for i in rcc_train_.columns if 'mode' in i]\n",
    "for i in var_categ:\n",
    "    rcc_train_[i] = rcc_train_[i].fillna(rcc_train_[i].value_counts().index[0])\n",
    "    rcc_test_[i] = rcc_test_[i].fillna(rcc_train_[i].value_counts().index[0])"
   ]
  },
  {
   "cell_type": "code",
   "execution_count": 6,
   "metadata": {},
   "outputs": [],
   "source": [
    "### mean encoding\n",
    "rcc_train_ = pd.concat([rcc_train_, y_train], axis=1)\n",
    "for i in var_categ:\n",
    "    me = rcc_train_.groupby([i])['target'].mean().to_dict() \n",
    "    rcc_train_[f'{i}_me'] =  rcc_train_[i].map(me) \n",
    "    rcc_test_[f'{i}_me'] =  rcc_test_[i].map(me)\n",
    "    ### imputar datos faltantes\n",
    "    rcc_test_[f'{i}_me'] =  rcc_test_[f'{i}_me'].fillna(rcc_train_[f'{i}_me'].median())\n",
    "    \n",
    "    \n",
    "rcc_train_.drop('target', axis=1, inplace=True)\n",
    "rcc_train_.drop(var_categ, axis=1, inplace=True)\n",
    "rcc_test_.drop(var_categ, axis=1, inplace=True)"
   ]
  },
  {
   "cell_type": "code",
   "execution_count": 7,
   "metadata": {},
   "outputs": [],
   "source": [
    "### unir RCC en la base final\n",
    "train = rcc_train_.copy()\n",
    "test = rcc_test_.copy()\n",
    "del rcc_train_, rcc_test_"
   ]
  },
  {
   "cell_type": "markdown",
   "metadata": {},
   "source": [
    "## Procesar SE"
   ]
  },
  {
   "cell_type": "code",
   "execution_count": null,
   "metadata": {},
   "outputs": [],
   "source": [
    "se_train = pd.read_csv(f'{path}/se_train.csv', index_col = 'key_value')\n",
    "se_test = pd.read_csv(f'{path}/se_test.csv', index_col = 'key_value')"
   ]
  },
  {
   "cell_type": "code",
   "execution_count": 43,
   "metadata": {},
   "outputs": [],
   "source": [
    "dict_ = {'sexo':'int32',\n",
    "         'est_cvl':'int32',\n",
    "         'sit_lab':'int32',\n",
    "         'cod_ocu':'int32',\n",
    "         'ctd_hijos':'int32',\n",
    "         'flg_sin_email':'int32',\n",
    "         'ctd_veh':'int32',\n",
    "         'lgr_vot':'int32',\n",
    "         'prv':'int32',\n",
    "         'dto':'int32',\n",
    "         'rgn':'int32',\n",
    "         'tip_lvledu':'int32'}\n",
    "se_train = se_train.astype(dict_)\n",
    "se_test = se_test.astype(dict_)"
   ]
  },
  {
   "cell_type": "code",
   "execution_count": 44,
   "metadata": {},
   "outputs": [],
   "source": [
    "### imputar datos faltantes en la base se_[train/test]\n",
    "se_train['edad'].fillna(se_train['edad'].median(), inplace=True)\n",
    "se_test['edad'].fillna(se_train['edad'].median(), inplace=True)\n",
    "se_train['cod_ubi'].fillna(se_train['cod_ubi'].median(), inplace=True)\n",
    "se_test['cod_ubi'].fillna(se_train['cod_ubi'].median(), inplace=True)"
   ]
  },
  {
   "cell_type": "code",
   "execution_count": 45,
   "metadata": {},
   "outputs": [],
   "source": [
    "### mean encoding\n",
    "var_categ=['sit_lab','lgr_vot','sexo','rgn','tip_lvledu','flg_sin_email','prv','est_cvl','cod_ocu','dto']\n",
    "# var_caunti=['edad','ctd_hijos','ctd_veh','cod_ubi']\n",
    "se_train['target'] = y_train.loc[se_train.index]\n",
    "for i in var_categ:\n",
    "    me = se_train.groupby([i])['target'].mean().to_dict() \n",
    "    se_train[f'{i}_me'] =  se_train[i].map(me) \n",
    "    se_test[f'{i}_me'] =  se_test[i].map(me)\n",
    "    ### imputar datos faltantes\n",
    "    se_test[f'{i}_me'] =  se_test[f'{i}_me'].fillna(se_train[f'{i}_me'].median())\n",
    "se_train.drop('target', axis=1, inplace=True)\n",
    "se_train.drop(var_categ, axis=1, inplace=True)\n",
    "se_test.drop(var_categ, axis=1, inplace=True)"
   ]
  },
  {
   "cell_type": "markdown",
   "metadata": {},
   "source": [
    "#### guardando archivo procesado de SE"
   ]
  },
  {
   "cell_type": "code",
   "execution_count": 8,
   "metadata": {},
   "outputs": [],
   "source": [
    "### guardando archivo procesado de se\n",
    "# se_train.to_csv('../data/intermediate/se_train.csv')\n",
    "# se_test.to_csv('../data/intermediate/se_test.csv')\n",
    "### cargando archivo procesado de se\n",
    "se_train = pd.read_csv('../data/intermediate/se_train.csv', index_col='key_value')\n",
    "se_test = pd.read_csv('../data/intermediate/se_test.csv',index_col='key_value')"
   ]
  },
  {
   "cell_type": "code",
   "execution_count": 9,
   "metadata": {},
   "outputs": [],
   "source": [
    "### unir SE en la base final\n",
    "train = train.join(se_train) \n",
    "test = test.join(se_test)\n",
    "del se_train, se_test"
   ]
  },
  {
   "cell_type": "code",
   "execution_count": 10,
   "metadata": {},
   "outputs": [],
   "source": [
    "## imputar valores faltantes\n",
    "var_caunti = ['lgr_vot_me','sit_lab_me','cod_ubi','tip_lvledu_me','prv_me','rgn_me',\n",
    " 'ctd_hijos','edad','cod_ocu_me','ctd_veh','est_cvl_me','dto_me','flg_sin_email_me','sexo_me']\n",
    "for i in var_caunti:\n",
    "    train[i] = train[i].fillna(train[i].median())\n",
    "    test[i] = test[i].fillna(train[i].median())"
   ]
  },
  {
   "cell_type": "markdown",
   "metadata": {},
   "source": [
    "## Procesar SUNAT"
   ]
  },
  {
   "cell_type": "code",
   "execution_count": null,
   "metadata": {},
   "outputs": [],
   "source": [
    "sunat_train = pd.read_csv(f'{path}/sunat_train.csv')\n",
    "sunat_test = pd.read_csv(f'{path}/sunat_test.csv')"
   ]
  },
  {
   "cell_type": "code",
   "execution_count": 22,
   "metadata": {},
   "outputs": [
    {
     "data": {
      "text/plain": [
       "((292479, 18), (318821, 18))"
      ]
     },
     "execution_count": 22,
     "metadata": {},
     "output_type": "execute_result"
    }
   ],
   "source": [
    "### eliminar registros duplicados\n",
    "sunat_train.drop_duplicates(inplace=True)\n",
    "sunat_test.drop_duplicates(inplace=True)\n",
    "sunat_train.shape, sunat_test.shape"
   ]
  },
  {
   "cell_type": "code",
   "execution_count": 23,
   "metadata": {},
   "outputs": [
    {
     "data": {
      "text/plain": [
       "((272028, 18), (293080, 18))"
      ]
     },
     "execution_count": 23,
     "metadata": {},
     "output_type": "execute_result"
    }
   ],
   "source": [
    "#### eliminando registros con fecalta y fecbaja con valores nulos\n",
    "mask = ~((sunat_train['fecalta'].astype('str')=='nan') & (sunat_train['fecbaja'].astype('str')=='nan'))\n",
    "sunat_train = sunat_train[mask].copy()\n",
    "mask = ~((sunat_test['fecalta'].astype('str')=='nan') & (sunat_test['fecbaja'].astype('str')=='nan'))\n",
    "sunat_test = sunat_test[mask].copy()\n",
    "sunat_train.shape, sunat_test.shape"
   ]
  },
  {
   "cell_type": "code",
   "execution_count": 24,
   "metadata": {},
   "outputs": [],
   "source": [
    "dict_ = {'tipcontribuyente': 'int32',\n",
    "         'tippersona': 'int32',\n",
    "         'ciiu': 'int32',\n",
    "         'ubigeo': 'int32',\n",
    "         'condiciondomicilio': 'int32',\n",
    "         'estadocontribuyente': 'int32',\n",
    "         'codvia': 'int32',\n",
    "         'codzona': 'int32',\n",
    "         'contabilidad': 'int32',\n",
    "         'facturacion': 'int32',\n",
    "         'domiciliado': 'int32',\n",
    "         'comercioexterior': 'int32',\n",
    "         'cargorele': 'int32',\n",
    "         'codentidadtributo': 'int32',\n",
    "         'estadotributo': 'int32'}\n",
    "sunat_train = sunat_train.astype(dict_)\n",
    "sunat_test = sunat_test.astype(dict_)"
   ]
  },
  {
   "cell_type": "code",
   "execution_count": 25,
   "metadata": {},
   "outputs": [],
   "source": [
    "sunat_train['diff_fech'] = sunat_train['fecbaja'] - sunat_train['fecalta']\n",
    "sunat_test['diff_fech'] = sunat_test['fecbaja'] - sunat_test['fecalta']"
   ]
  },
  {
   "cell_type": "code",
   "execution_count": 26,
   "metadata": {},
   "outputs": [],
   "source": [
    "moda=lambda x: calculate_mode(x)\n",
    "moda.__name__='mode'\n",
    "agg_sunat = {'tipcontribuyente':['nunique',moda],\n",
    "           'tippersona':['nunique',moda],\n",
    "           'ciiu':['nunique', moda],\n",
    "           'ubigeo':['nunique',moda],\n",
    "           'condiciondomicilio':['nunique',moda],\n",
    "           'estadocontribuyente':['nunique',moda],\n",
    "           'codvia':['nunique',moda],\n",
    "           'codzona':['nunique',moda],\n",
    "           'contabilidad':['nunique',moda],\n",
    "           'facturacion':['nunique',moda],\n",
    "           'domiciliado':['nunique',moda],\n",
    "           'comercioexterior':['nunique',moda],\n",
    "           'cargorele':['nunique',moda],\n",
    "           'codentidadtributo':['nunique',moda],\n",
    "           'estadotributo':['nunique',moda],\n",
    "           'fecalta':['mean','max', 'nunique'],\n",
    "           'fecbaja':['mean','max', 'nunique'], \n",
    "           'diff_fech':['mean','max', 'nunique'], \n",
    "            }\n",
    "\n",
    "sunat_train_ = sunat_train.groupby('key_value').agg(agg_sunat)\n",
    "sunat_train_.columns = [i+'_'+j for i,j in sunat_train_.columns]\n",
    "sunat_test_ = sunat_test.groupby('key_value').agg(agg_sunat)\n",
    "sunat_test_.columns = [i+'_'+j for i,j in sunat_test_.columns]\n",
    "del sunat_train, sunat_test"
   ]
  },
  {
   "cell_type": "markdown",
   "metadata": {},
   "source": [
    "#### guardando archivo procesado de SUNAT"
   ]
  },
  {
   "cell_type": "code",
   "execution_count": 11,
   "metadata": {},
   "outputs": [],
   "source": [
    "### guardando archivo procesado de sunat\n",
    "# sunat_train_.to_csv('../data/intermediate/sunat_train.csv')\n",
    "# sunat_test_.to_csv('../data/intermediate/sunat_test.csv')\n",
    "### cargando archivo procesado de sunat\n",
    "sunat_train_ = pd.read_csv('../data/intermediate/sunat_train.csv', index_col='key_value')\n",
    "sunat_test_ = pd.read_csv('../data/intermediate/sunat_test.csv',index_col='key_value')"
   ]
  },
  {
   "cell_type": "code",
   "execution_count": 25,
   "metadata": {},
   "outputs": [],
   "source": [
    "# var_categ = [i for i in sunat_train_.columns if 'mode' in i]\n",
    "# for i in var_categ:\n",
    "#     sunat_train_[i] = sunat_train_[i].fillna(sunat_train_[i].value_counts().index[0])\n",
    "#     sunat_test_[i] = sunat_test_[i].fillna(sunat_train_[i].value_counts().index[0])"
   ]
  },
  {
   "cell_type": "code",
   "execution_count": 26,
   "metadata": {},
   "outputs": [],
   "source": [
    "# sunat_train_['target'] = y_train.loc[sunat_train_.index]\n",
    "# for i in var_categ:\n",
    "#     me = sunat_train_.groupby([i])['target'].mean().to_dict() \n",
    "#     sunat_train_[f'{i}_me'] =  sunat_train_[i].map(me) \n",
    "#     sunat_test_[f'{i}_me'] =  sunat_test_[i].map(me)\n",
    "#     ### imputar datos faltantes\n",
    "#     sunat_test_[f'{i}_me'] =  sunat_test_[f'{i}_me'].fillna(sunat_train_[f'{i}_me'].median())\n",
    "# sunat_train_.drop('target', axis=1, inplace=True)\n",
    "# sunat_train_.drop(var_categ, axis=1, inplace=True)\n",
    "# sunat_test_.drop(var_categ, axis=1, inplace=True)"
   ]
  },
  {
   "cell_type": "code",
   "execution_count": 16,
   "metadata": {},
   "outputs": [],
   "source": [
    "### unir SUNAT en la base final\n",
    "train = train.join(sunat_train_)\n",
    "test = test.join(sunat_test_)\n",
    "del sunat_train_, sunat_test_"
   ]
  },
  {
   "cell_type": "code",
   "execution_count": 17,
   "metadata": {},
   "outputs": [
    {
     "data": {
      "text/plain": [
       "COD_CLASIFICACION_DEUDOR_std_ult1mes    0.003855\n",
       "fecbaja_nunique                         0.422910\n",
       "fecalta_nunique                         0.422910\n",
       "fecalta_max                             0.422910\n",
       "fecalta_mean                            0.422910\n",
       "estadotributo_nunique                   0.422910\n",
       "codentidadtributo_nunique               0.422910\n",
       "cargorele_nunique                       0.422910\n",
       "comercioexterior_nunique                0.422910\n",
       "domiciliado_nunique                     0.422910\n",
       "facturacion_nunique                     0.422910\n",
       "contabilidad_nunique                    0.422910\n",
       "codzona_nunique                         0.422910\n",
       "diff_fech_nunique                       0.422910\n",
       "tipcontribuyente_nunique                0.422910\n",
       "estadocontribuyente_nunique             0.422910\n",
       "tippersona_nunique                      0.422910\n",
       "condiciondomicilio_nunique              0.422910\n",
       "ubigeo_nunique                          0.422910\n",
       "codvia_nunique                          0.422910\n",
       "ciiu_nunique                            0.422910\n",
       "condiciondomicilio_mode                 0.431998\n",
       "estadotributo_mode                      0.441535\n",
       "codentidadtributo_mode                  0.444432\n",
       "facturacion_mode                        0.444452\n",
       "ubigeo_mode                             0.446764\n",
       "estadocontribuyente_mode                0.451597\n",
       "contabilidad_mode                       0.452673\n",
       "comercioexterior_mode                   0.454407\n",
       "codvia_mode                             0.455512\n",
       "codzona_mode                            0.457995\n",
       "tippersona_mode                         0.467928\n",
       "domiciliado_mode                        0.468092\n",
       "ciiu_mode                               0.472448\n",
       "cargorele_mode                          0.473015\n",
       "tipcontribuyente_mode                   0.475798\n",
       "diff_fech_max                           0.900377\n",
       "fecbaja_mean                            0.900377\n",
       "fecbaja_max                             0.900377\n",
       "diff_fech_mean                          0.900377\n",
       "dtype: float64"
      ]
     },
     "execution_count": 17,
     "metadata": {},
     "output_type": "execute_result"
    }
   ],
   "source": [
    "test.isna().sum().sort_values().tail(40)/len(test)"
   ]
  },
  {
   "cell_type": "markdown",
   "metadata": {},
   "source": [
    "## Training"
   ]
  },
  {
   "cell_type": "code",
   "execution_count": 18,
   "metadata": {},
   "outputs": [
    {
     "data": {
      "text/plain": [
       "((74,), (74,))"
      ]
     },
     "execution_count": 18,
     "metadata": {},
     "output_type": "execute_result"
    }
   ],
   "source": [
    "train.isna().sum()[train.isna().sum()>0].shape, test.isna().sum()[test.isna().sum()>0].shape"
   ]
  },
  {
   "cell_type": "code",
   "execution_count": 19,
   "metadata": {},
   "outputs": [
    {
     "data": {
      "text/plain": [
       "((358487, 592), (396666, 592))"
      ]
     },
     "execution_count": 19,
     "metadata": {},
     "output_type": "execute_result"
    }
   ],
   "source": [
    "train.shape, test.shape"
   ]
  },
  {
   "cell_type": "code",
   "execution_count": null,
   "metadata": {},
   "outputs": [],
   "source": [
    "### sin imputar nada con 132 variables con valores faltantes\n",
    "# bestTest = 0.846083257\n",
    "# bestIteration = 389\n",
    "\n",
    "### imputando solo las variables con sufijo \"mode\" de la base del rcc con 88 variables con valores faltante\n",
    "# bestTest = 0.8450199372\n",
    "# bestIteration = 372\n",
    "\n",
    "### imputando solo las variables con edad, cod_ubi de la base del SE con 123 variables con valores faltante\n",
    "# bestTest = 0.8455150989\n",
    "# bestIteration = 444\n",
    "\n",
    "### imputando solo las variables con edad, cod_ubi de la base del SE con 123 variables con valores faltante. Aplicando mean_encoding en se\n",
    "# bestTest = 0.8504518067\n",
    "# bestIteration = 590\n",
    "# roc auc estimado:  0.8480459539406775\n",
    "# roc auc varianza:  0.0009620235635683943\n",
    "\n",
    "### imputando solo las variables con edad, cod_ubi de la base del SE con 109 variables con valores faltante. Aplicando mean_encoding en se y imputando los valores faltantes de SE en la base final\n",
    "# bestTest = 0.8491056841\n",
    "# bestIteration = 379\n",
    "# roc auc estimado:  0.8480979032078084 con catboost\n",
    "# roc auc varianza:  0.0009058083887458872 con catboost\n",
    "# roc auc estimado:  0.8501708741190802 con lightgbm\n",
    "# roc auc varianza:  0.0007416701421262065 con lightgbm\n",
    "\n",
    "### imputando solo las variables con edad, cod_ubi de la base del SE con 109 variables con valores faltante. Aplicando mean_encoding en se y imputando los valores faltantes de se en la base final\n",
    "### tambien imputando variable de sufijo \"mode\" de la SUNAT\n",
    "# bestTest = 0.8498253857\n",
    "# bestIteration = 467\n",
    "# roc auc estimado:  0.8479018148660604\n",
    "# roc auc varianza:  0.0009496662950653975\n",
    "\n",
    "### imputando solo las variables con edad, cod_ubi de la base del SE con 109 variables con valores faltante. Aplicando mean_encoding en se y imputando los valores faltantes de se en la base final\n",
    "### tambien imputando variable de sufijo \"mode\" de la SUNAT. Aplicando mean_encoding en Sunat\n",
    "# bestTest = 0.8517744228\n",
    "# bestIteration = 490\n",
    "# roc auc estimado:  0.8498754297537698 con catboost\n",
    "# roc auc varianza:  0.0008430024442457468 con catboost\n",
    "# roc auc estimado:  0.8523046841544446 con lightgbm\n",
    "# roc auc varianza:  0.0007705102440034088 con lightgbm\n",
    "############## pero en la tabla publica sale 0.83994. Se sobreajusta en 0.2 comparado al sin usar el mean_encoding en SUNAT"
   ]
  },
  {
   "cell_type": "code",
   "execution_count": 20,
   "metadata": {},
   "outputs": [
    {
     "name": "stdout",
     "output_type": "stream",
     "text": [
      "********** 0 **********\n",
      "Learning rate set to 0.128212\n",
      "0:\ttest: 0.7534596\ttest1: 0.7544221\tbest: 0.7544221 (0)\ttotal: 367ms\tremaining: 6m 6s\n",
      "50:\ttest: 0.8311541\ttest1: 0.8295446\tbest: 0.8295446 (50)\ttotal: 19.8s\tremaining: 6m 7s\n",
      "100:\ttest: 0.8406618\ttest1: 0.8380354\tbest: 0.8380354 (100)\ttotal: 38.5s\tremaining: 5m 42s\n",
      "150:\ttest: 0.8472149\ttest1: 0.8428172\tbest: 0.8428172 (150)\ttotal: 56.2s\tremaining: 5m 16s\n",
      "200:\ttest: 0.8518900\ttest1: 0.8456344\tbest: 0.8456428 (198)\ttotal: 1m 13s\tremaining: 4m 53s\n",
      "250:\ttest: 0.8557475\ttest1: 0.8471491\tbest: 0.8471491 (250)\ttotal: 1m 31s\tremaining: 4m 32s\n",
      "300:\ttest: 0.8590166\ttest1: 0.8482151\tbest: 0.8482151 (300)\ttotal: 1m 48s\tremaining: 4m 12s\n",
      "350:\ttest: 0.8624134\ttest1: 0.8491943\tbest: 0.8492037 (348)\ttotal: 2m 6s\tremaining: 3m 53s\n",
      "400:\ttest: 0.8652837\ttest1: 0.8498316\tbest: 0.8498397 (399)\ttotal: 2m 23s\tremaining: 3m 34s\n",
      "450:\ttest: 0.8678249\ttest1: 0.8501603\tbest: 0.8501603 (450)\ttotal: 2m 40s\tremaining: 3m 15s\n",
      "Stopped by overfitting detector  (10 iterations wait)\n",
      "\n",
      "bestTest = 0.8503823583\n",
      "bestIteration = 475\n",
      "\n",
      "Shrink model to first 476 iterations.\n",
      "********** 1 **********\n",
      "Learning rate set to 0.128212\n",
      "0:\ttest: 0.7466103\ttest1: 0.7428966\tbest: 0.7428966 (0)\ttotal: 327ms\tremaining: 5m 26s\n",
      "50:\ttest: 0.8316732\ttest1: 0.8287586\tbest: 0.8287586 (50)\ttotal: 19.8s\tremaining: 6m 7s\n",
      "100:\ttest: 0.8412206\ttest1: 0.8365383\tbest: 0.8365383 (100)\ttotal: 38.6s\tremaining: 5m 43s\n",
      "150:\ttest: 0.8483500\ttest1: 0.8411799\tbest: 0.8411799 (150)\ttotal: 56.5s\tremaining: 5m 17s\n",
      "200:\ttest: 0.8528643\ttest1: 0.8434172\tbest: 0.8434172 (200)\ttotal: 1m 14s\tremaining: 4m 55s\n",
      "250:\ttest: 0.8567976\ttest1: 0.8450543\tbest: 0.8450543 (250)\ttotal: 1m 31s\tremaining: 4m 32s\n",
      "300:\ttest: 0.8599008\ttest1: 0.8460318\tbest: 0.8460355 (299)\ttotal: 1m 48s\tremaining: 4m 12s\n",
      "350:\ttest: 0.8629938\ttest1: 0.8466305\tbest: 0.8466407 (345)\ttotal: 2m 6s\tremaining: 3m 53s\n",
      "400:\ttest: 0.8655816\ttest1: 0.8472132\tbest: 0.8472310 (398)\ttotal: 2m 23s\tremaining: 3m 33s\n",
      "450:\ttest: 0.8680509\ttest1: 0.8476445\tbest: 0.8476699 (440)\ttotal: 2m 40s\tremaining: 3m 14s\n",
      "Stopped by overfitting detector  (10 iterations wait)\n",
      "\n",
      "bestTest = 0.847669928\n",
      "bestIteration = 440\n",
      "\n",
      "Shrink model to first 441 iterations.\n",
      "********** 2 **********\n",
      "Learning rate set to 0.128212\n",
      "0:\ttest: 0.7599209\ttest1: 0.7620046\tbest: 0.7620046 (0)\ttotal: 357ms\tremaining: 5m 57s\n",
      "50:\ttest: 0.8315737\ttest1: 0.8321750\tbest: 0.8321750 (50)\ttotal: 19.7s\tremaining: 6m 7s\n",
      "100:\ttest: 0.8406963\ttest1: 0.8395676\tbest: 0.8395676 (100)\ttotal: 38s\tremaining: 5m 37s\n",
      "150:\ttest: 0.8477853\ttest1: 0.8442561\tbest: 0.8442561 (150)\ttotal: 56.2s\tremaining: 5m 15s\n",
      "200:\ttest: 0.8524292\ttest1: 0.8466048\tbest: 0.8466048 (200)\ttotal: 1m 13s\tremaining: 4m 51s\n",
      "250:\ttest: 0.8565695\ttest1: 0.8484373\tbest: 0.8484373 (250)\ttotal: 1m 31s\tremaining: 4m 32s\n",
      "300:\ttest: 0.8596378\ttest1: 0.8491427\tbest: 0.8491427 (300)\ttotal: 1m 48s\tremaining: 4m 11s\n",
      "350:\ttest: 0.8624078\ttest1: 0.8498802\tbest: 0.8499047 (347)\ttotal: 2m 4s\tremaining: 3m 51s\n",
      "400:\ttest: 0.8649255\ttest1: 0.8504422\tbest: 0.8504422 (400)\ttotal: 2m 21s\tremaining: 3m 32s\n",
      "450:\ttest: 0.8676866\ttest1: 0.8510349\tbest: 0.8510500 (443)\ttotal: 2m 39s\tremaining: 3m 14s\n",
      "Stopped by overfitting detector  (10 iterations wait)\n",
      "\n",
      "bestTest = 0.8510500058\n",
      "bestIteration = 443\n",
      "\n",
      "Shrink model to first 444 iterations.\n",
      "********** 3 **********\n",
      "Learning rate set to 0.128212\n",
      "0:\ttest: 0.7160255\ttest1: 0.7173244\tbest: 0.7173244 (0)\ttotal: 303ms\tremaining: 5m 2s\n",
      "50:\ttest: 0.8318760\ttest1: 0.8318527\tbest: 0.8318527 (50)\ttotal: 19.5s\tremaining: 6m 2s\n",
      "100:\ttest: 0.8413586\ttest1: 0.8389162\tbest: 0.8389162 (100)\ttotal: 37.6s\tremaining: 5m 34s\n",
      "150:\ttest: 0.8478421\ttest1: 0.8432879\tbest: 0.8432879 (150)\ttotal: 55.8s\tremaining: 5m 13s\n",
      "200:\ttest: 0.8524048\ttest1: 0.8457425\tbest: 0.8457425 (200)\ttotal: 1m 13s\tremaining: 4m 50s\n",
      "250:\ttest: 0.8560292\ttest1: 0.8472659\tbest: 0.8472659 (250)\ttotal: 1m 30s\tremaining: 4m 30s\n",
      "300:\ttest: 0.8593317\ttest1: 0.8481055\tbest: 0.8481055 (300)\ttotal: 1m 47s\tremaining: 4m 10s\n",
      "350:\ttest: 0.8623497\ttest1: 0.8489906\tbest: 0.8489906 (350)\ttotal: 2m 5s\tremaining: 3m 51s\n",
      "400:\ttest: 0.8651358\ttest1: 0.8497240\tbest: 0.8497258 (399)\ttotal: 2m 22s\tremaining: 3m 33s\n",
      "450:\ttest: 0.8676631\ttest1: 0.8502817\tbest: 0.8502817 (450)\ttotal: 2m 39s\tremaining: 3m 14s\n",
      "500:\ttest: 0.8702554\ttest1: 0.8507654\tbest: 0.8507654 (500)\ttotal: 2m 57s\tremaining: 2m 56s\n",
      "550:\ttest: 0.8725575\ttest1: 0.8512247\tbest: 0.8512289 (549)\ttotal: 3m 14s\tremaining: 2m 38s\n",
      "Stopped by overfitting detector  (10 iterations wait)\n",
      "\n",
      "bestTest = 0.8512635127\n",
      "bestIteration = 568\n",
      "\n",
      "Shrink model to first 569 iterations.\n",
      "********** 4 **********\n",
      "Learning rate set to 0.128212\n",
      "0:\ttest: 0.7436241\ttest1: 0.7331808\tbest: 0.7331808 (0)\ttotal: 346ms\tremaining: 5m 45s\n",
      "50:\ttest: 0.8339499\ttest1: 0.8243706\tbest: 0.8243706 (50)\ttotal: 19.6s\tremaining: 6m 5s\n",
      "100:\ttest: 0.8436740\ttest1: 0.8318197\tbest: 0.8318197 (100)\ttotal: 38.9s\tremaining: 5m 46s\n",
      "150:\ttest: 0.8500214\ttest1: 0.8354438\tbest: 0.8354438 (150)\ttotal: 56.5s\tremaining: 5m 17s\n",
      "200:\ttest: 0.8549926\ttest1: 0.8377218\tbest: 0.8377344 (199)\ttotal: 1m 14s\tremaining: 4m 54s\n",
      "250:\ttest: 0.8587757\ttest1: 0.8390404\tbest: 0.8390404 (250)\ttotal: 1m 31s\tremaining: 4m 32s\n",
      "300:\ttest: 0.8618632\ttest1: 0.8398441\tbest: 0.8398441 (300)\ttotal: 1m 48s\tremaining: 4m 11s\n",
      "350:\ttest: 0.8648483\ttest1: 0.8405268\tbest: 0.8405268 (350)\ttotal: 2m 5s\tremaining: 3m 52s\n",
      "400:\ttest: 0.8678037\ttest1: 0.8412021\tbest: 0.8412021 (400)\ttotal: 2m 23s\tremaining: 3m 34s\n",
      "450:\ttest: 0.8702628\ttest1: 0.8416086\tbest: 0.8416726 (443)\ttotal: 2m 40s\tremaining: 3m 15s\n",
      "Stopped by overfitting detector  (10 iterations wait)\n",
      "\n",
      "bestTest = 0.8416725658\n",
      "bestIteration = 443\n",
      "\n",
      "Shrink model to first 444 iterations.\n",
      "*********************\n",
      "roc auc estimado:  0.8484510553305686\n",
      "roc auc varianza:  0.0008857528127817363\n"
     ]
    }
   ],
   "source": [
    "from catboost import CatBoostClassifier\n",
    "from sklearn.metrics import roc_auc_score\n",
    "from sklearn.model_selection import KFold\n",
    "import numpy as np\n",
    "folds = [train.index[t] for t, v in KFold(5).split(train)]\n",
    "test_probs = []\n",
    "train_probs = []\n",
    "fi = []\n",
    "for i, idx in enumerate(folds):\n",
    "    print(\"*\"*10, i, \"*\"*10)\n",
    "    Xt = train.loc[idx]\n",
    "    yt = y_train.loc[Xt.index]\n",
    "\n",
    "    Xv = train.drop(Xt.index)\n",
    "    yv = y_train.loc[Xv.index]\n",
    "\n",
    "    learner = CatBoostClassifier(n_estimators=1000,  eval_metric = 'AUC', max_depth = 6)\n",
    "    learner.fit(Xt, yt,  early_stopping_rounds=10, \n",
    "                eval_set=[(Xt, yt), (Xv, yv)], verbose=50)\n",
    "    test_probs.append(pd.Series(learner.predict_proba(test)[:, -1], index=test.index, name=\"fold_\" + str(i)))\n",
    "    train_probs.append(pd.Series(learner.predict_proba(Xv)[:, -1], index=Xv.index, name=\"probs\"))\n",
    "    fi.append(pd.Series(learner.feature_importances_ / learner.feature_importances_.sum(), index=Xt.columns))\n",
    "    gc.collect()\n",
    "test_probs = pd.concat(test_probs, axis=1).mean(axis=1)\n",
    "train_probs = pd.concat(train_probs)\n",
    "fi = pd.concat(fi, axis=1).mean(axis=1)\n",
    "print(\"*\" * 21)\n",
    "print(\"roc auc estimado: \", roc_auc_score(y_train, train_probs.loc[y_train.index]))\n",
    "print(\"roc auc varianza: \", np.std([roc_auc_score(y_train.loc[folds[i]], train_probs.iloc[folds[i]]) for i in range(len(folds))]))"
   ]
  },
  {
   "cell_type": "code",
   "execution_count": 21,
   "metadata": {},
   "outputs": [
    {
     "data": {
      "text/plain": [
       "350"
      ]
     },
     "execution_count": 21,
     "metadata": {},
     "output_type": "execute_result"
    }
   ],
   "source": [
    "fi.to_pickle('fi_catboost_v2.pkl')\n",
    "fi = pd.read_pickle('fi_catboost_v2.pkl')\n",
    "features_importances_350 = list(fi.sort_values(ascending=False).head(350).index)\n",
    "len(features_importances_350)"
   ]
  },
  {
   "cell_type": "code",
   "execution_count": 22,
   "metadata": {},
   "outputs": [
    {
     "data": {
      "text/plain": [
       "dto_me                                        0.052611\n",
       "COD_CLASIFICACION_DEUDOR_mean_ult1mes         0.036274\n",
       "tipo_credito_sum_ult12mes                     0.027382\n",
       "tip_lvledu_me                                 0.023674\n",
       "cod_instit_financiera_mode_ult1mes_me         0.023567\n",
       "tipo_credito_11_saldo_ult1meses               0.017357\n",
       "RIESGO_DIRECTO_sum_ult12mes                   0.016835\n",
       "edad                                          0.016553\n",
       "COD_CLASIFICACION_DEUDOR_max_ult1mes          0.016468\n",
       "RIESGO_DIRECTO_1_saldo_ult1meses              0.015517\n",
       "COD_CLASIFICACION_DEUDOR_sum_ult1mes          0.014476\n",
       "COD_CLASIFICACION_DEUDOR_0_saldo_ult1meses    0.012836\n",
       "sexo_me                                       0.012745\n",
       "COD_CLASIFICACION_DEUDOR_nunique_ult1mes      0.012686\n",
       "flg_sin_email_me                              0.011990\n",
       "cod_instit_financiera_mode_ult2mes_me         0.011952\n",
       "RIESGO_DIRECTO_mean_ult1mes                   0.011782\n",
       "sit_lab_me                                    0.011006\n",
       "saldo_sum_ult1mes                             0.010357\n",
       "cod_instit_financiera_max_ult1mes             0.009791\n",
       "cod_instit_financiera_mode_ult12mes_me        0.009455\n",
       "RIESGO_DIRECTO_-1_saldo_ult1meses             0.009126\n",
       "PRODUCTO_min_ult1mes                          0.008992\n",
       "tipo_credito_sum_ult1mes                      0.008832\n",
       "cod_instit_financiera_max_ult2mes             0.008240\n",
       "cod_instit_financiera_mode_ult6mes_me         0.008217\n",
       "saldo_sum_ult2mes                             0.008137\n",
       "saldo_mean_ult1mes                            0.008089\n",
       "cod_instit_financiera_nunique_ult1mes         0.008068\n",
       "cod_instit_financiera_min_ult1mes             0.007177\n",
       "COD_CLASIFICACION_DEUDOR_std_ult1mes          0.007024\n",
       "RIESGO_DIRECTO_1_condicion_ult12meses         0.006864\n",
       "cod_ubi                                       0.006846\n",
       "RIESGO_DIRECTO_1_saldo_ult12meses             0.006826\n",
       "RIESGO_DIRECTO_std_ult12mes                   0.006301\n",
       "COD_CLASIFICACION_DEUDOR_sum_ult2mes          0.006234\n",
       "tipo_credito_12_saldo_ult1meses               0.006141\n",
       "condicion_max_ult1mes                         0.006055\n",
       "tipo_credito_sum_ult2mes                      0.005847\n",
       "cod_instit_financiera_mode_ult5mes_me         0.005783\n",
       "ctd_veh                                       0.005629\n",
       "saldo_mean_ult12mes                           0.005555\n",
       "RIESGO_DIRECTO_-1_saldo_ult12meses            0.005542\n",
       "saldo_min_ult1mes                             0.005523\n",
       "RIESGO_DIRECTO_-1_saldo_ult2meses             0.005308\n",
       "prv_me                                        0.005192\n",
       "tipo_credito_11_saldo_ult12meses              0.005155\n",
       "RIESGO_DIRECTO_std_ult2mes                    0.005087\n",
       "lgr_vot_me                                    0.004897\n",
       "RIESGO_DIRECTO_std_ult5mes                    0.004740\n",
       "dtype: float64"
      ]
     },
     "execution_count": 22,
     "metadata": {},
     "output_type": "execute_result"
    }
   ],
   "source": [
    "fi.sort_values(ascending=False).head(50)"
   ]
  },
  {
   "cell_type": "code",
   "execution_count": 23,
   "metadata": {},
   "outputs": [
    {
     "data": {
      "text/html": [
       "<style type='text/css'>\n",
       ".datatable table.frame { margin-bottom: 0; }\n",
       ".datatable table.frame thead { border-bottom: none; }\n",
       ".datatable table.frame tr.coltypes td {  color: #FFFFFF;  line-height: 6px;  padding: 0 0.5em;}\n",
       ".datatable .bool    { background: #DDDD99; }\n",
       ".datatable .object  { background: #565656; }\n",
       ".datatable .int     { background: #5D9E5D; }\n",
       ".datatable .float   { background: #4040CC; }\n",
       ".datatable .str     { background: #CC4040; }\n",
       ".datatable .row_index {  background: var(--jp-border-color3);  border-right: 1px solid var(--jp-border-color0);  color: var(--jp-ui-font-color3);  font-size: 9px;}\n",
       ".datatable .frame tr.coltypes .row_index {  background: var(--jp-border-color0);}\n",
       ".datatable th:nth-child(2) { padding-left: 12px; }\n",
       ".datatable .hellipsis {  color: var(--jp-cell-editor-border-color);}\n",
       ".datatable .vellipsis {  background: var(--jp-layout-color0);  color: var(--jp-cell-editor-border-color);}\n",
       ".datatable .na {  color: var(--jp-cell-editor-border-color);  font-size: 80%;}\n",
       ".datatable .footer { font-size: 9px; }\n",
       ".datatable .frame_dimensions {  background: var(--jp-border-color3);  border-top: 1px solid var(--jp-border-color0);  color: var(--jp-ui-font-color3);  display: inline-block;  opacity: 0.6;  padding: 1px 10px 1px 5px;}\n",
       "</style>\n"
      ],
      "text/plain": [
       "<IPython.core.display.HTML object>"
      ]
     },
     "metadata": {},
     "output_type": "display_data"
    },
    {
     "name": "stdout",
     "output_type": "stream",
     "text": [
      "********** 0 **********\n"
     ]
    },
    {
     "name": "stderr",
     "output_type": "stream",
     "text": [
      "/opt/conda/lib/python3.7/site-packages/sklearn/utils/validation.py:72: DataConversionWarning: A column-vector y was passed when a 1d array was expected. Please change the shape of y to (n_samples, ), for example using ravel().\n",
      "  return f(**kwargs)\n"
     ]
    },
    {
     "name": "stdout",
     "output_type": "stream",
     "text": [
      "Training until validation scores don't improve for 10 rounds\n",
      "[50]\ttraining's auc: 0.841655\ttraining's binary_logloss: 0.304141\tvalid_1's auc: 0.835215\tvalid_1's binary_logloss: 0.309104\n",
      "[100]\ttraining's auc: 0.854053\ttraining's binary_logloss: 0.294389\tvalid_1's auc: 0.844209\tvalid_1's binary_logloss: 0.302268\n",
      "[150]\ttraining's auc: 0.86064\ttraining's binary_logloss: 0.289102\tvalid_1's auc: 0.847558\tvalid_1's binary_logloss: 0.299514\n",
      "[200]\ttraining's auc: 0.865472\ttraining's binary_logloss: 0.285274\tvalid_1's auc: 0.849356\tvalid_1's binary_logloss: 0.298063\n",
      "[250]\ttraining's auc: 0.869507\ttraining's binary_logloss: 0.282073\tvalid_1's auc: 0.850361\tvalid_1's binary_logloss: 0.297219\n",
      "[300]\ttraining's auc: 0.873002\ttraining's binary_logloss: 0.279262\tvalid_1's auc: 0.851193\tvalid_1's binary_logloss: 0.296579\n",
      "[350]\ttraining's auc: 0.87578\ttraining's binary_logloss: 0.27696\tvalid_1's auc: 0.851708\tvalid_1's binary_logloss: 0.296163\n",
      "[400]\ttraining's auc: 0.879162\ttraining's binary_logloss: 0.274219\tvalid_1's auc: 0.852165\tvalid_1's binary_logloss: 0.295772\n",
      "[450]\ttraining's auc: 0.882215\ttraining's binary_logloss: 0.271822\tvalid_1's auc: 0.852452\tvalid_1's binary_logloss: 0.295529\n",
      "Early stopping, best iteration is:\n",
      "[441]\ttraining's auc: 0.881588\ttraining's binary_logloss: 0.272308\tvalid_1's auc: 0.852488\tvalid_1's binary_logloss: 0.29554\n",
      "********** 1 **********\n",
      "Training until validation scores don't improve for 10 rounds\n",
      "[50]\ttraining's auc: 0.842524\ttraining's binary_logloss: 0.303699\tvalid_1's auc: 0.83466\tvalid_1's binary_logloss: 0.309545\n",
      "[100]\ttraining's auc: 0.85409\ttraining's binary_logloss: 0.294383\tvalid_1's auc: 0.842029\tvalid_1's binary_logloss: 0.303391\n",
      "[150]\ttraining's auc: 0.860485\ttraining's binary_logloss: 0.289353\tvalid_1's auc: 0.845426\tvalid_1's binary_logloss: 0.30072\n",
      "[200]\ttraining's auc: 0.865562\ttraining's binary_logloss: 0.285353\tvalid_1's auc: 0.847527\tvalid_1's binary_logloss: 0.299128\n",
      "[250]\ttraining's auc: 0.869837\ttraining's binary_logloss: 0.281939\tvalid_1's auc: 0.848799\tvalid_1's binary_logloss: 0.298153\n",
      "[300]\ttraining's auc: 0.873197\ttraining's binary_logloss: 0.279206\tvalid_1's auc: 0.849623\tvalid_1's binary_logloss: 0.297473\n",
      "[350]\ttraining's auc: 0.876078\ttraining's binary_logloss: 0.276841\tvalid_1's auc: 0.850078\tvalid_1's binary_logloss: 0.297037\n",
      "[400]\ttraining's auc: 0.878562\ttraining's binary_logloss: 0.274682\tvalid_1's auc: 0.850425\tvalid_1's binary_logloss: 0.296703\n",
      "[450]\ttraining's auc: 0.881409\ttraining's binary_logloss: 0.272413\tvalid_1's auc: 0.850704\tvalid_1's binary_logloss: 0.296452\n",
      "Early stopping, best iteration is:\n",
      "[463]\ttraining's auc: 0.882057\ttraining's binary_logloss: 0.271874\tvalid_1's auc: 0.850764\tvalid_1's binary_logloss: 0.29641\n",
      "********** 2 **********\n",
      "Training until validation scores don't improve for 10 rounds\n",
      "[50]\ttraining's auc: 0.841802\ttraining's binary_logloss: 0.304219\tvalid_1's auc: 0.837814\tvalid_1's binary_logloss: 0.307057\n",
      "[100]\ttraining's auc: 0.853889\ttraining's binary_logloss: 0.29489\tvalid_1's auc: 0.845696\tvalid_1's binary_logloss: 0.300579\n",
      "[150]\ttraining's auc: 0.860311\ttraining's binary_logloss: 0.289829\tvalid_1's auc: 0.848803\tvalid_1's binary_logloss: 0.297892\n",
      "[200]\ttraining's auc: 0.865461\ttraining's binary_logloss: 0.285791\tvalid_1's auc: 0.850679\tvalid_1's binary_logloss: 0.296265\n",
      "[250]\ttraining's auc: 0.869624\ttraining's binary_logloss: 0.282528\tvalid_1's auc: 0.851543\tvalid_1's binary_logloss: 0.295366\n",
      "[300]\ttraining's auc: 0.872926\ttraining's binary_logloss: 0.279749\tvalid_1's auc: 0.852195\tvalid_1's binary_logloss: 0.294745\n",
      "[350]\ttraining's auc: 0.876202\ttraining's binary_logloss: 0.277215\tvalid_1's auc: 0.852605\tvalid_1's binary_logloss: 0.294335\n",
      "[400]\ttraining's auc: 0.878754\ttraining's binary_logloss: 0.275138\tvalid_1's auc: 0.852979\tvalid_1's binary_logloss: 0.293985\n",
      "Early stopping, best iteration is:\n",
      "[419]\ttraining's auc: 0.87991\ttraining's binary_logloss: 0.274178\tvalid_1's auc: 0.85307\tvalid_1's binary_logloss: 0.29386\n",
      "********** 3 **********\n",
      "Training until validation scores don't improve for 10 rounds\n",
      "[50]\ttraining's auc: 0.841664\ttraining's binary_logloss: 0.304543\tvalid_1's auc: 0.835924\tvalid_1's binary_logloss: 0.30762\n",
      "[100]\ttraining's auc: 0.853495\ttraining's binary_logloss: 0.29506\tvalid_1's auc: 0.844146\tvalid_1's binary_logloss: 0.300885\n",
      "[150]\ttraining's auc: 0.860108\ttraining's binary_logloss: 0.289847\tvalid_1's auc: 0.847509\tvalid_1's binary_logloss: 0.298149\n",
      "[200]\ttraining's auc: 0.86492\ttraining's binary_logloss: 0.286048\tvalid_1's auc: 0.849524\tvalid_1's binary_logloss: 0.29653\n",
      "[250]\ttraining's auc: 0.86903\ttraining's binary_logloss: 0.282791\tvalid_1's auc: 0.850772\tvalid_1's binary_logloss: 0.295521\n",
      "[300]\ttraining's auc: 0.872386\ttraining's binary_logloss: 0.280074\tvalid_1's auc: 0.851546\tvalid_1's binary_logloss: 0.294847\n",
      "[350]\ttraining's auc: 0.87551\ttraining's binary_logloss: 0.277535\tvalid_1's auc: 0.851982\tvalid_1's binary_logloss: 0.294462\n",
      "Early stopping, best iteration is:\n",
      "[385]\ttraining's auc: 0.877786\ttraining's binary_logloss: 0.275751\tvalid_1's auc: 0.852232\tvalid_1's binary_logloss: 0.294235\n",
      "********** 4 **********\n",
      "Training until validation scores don't improve for 10 rounds\n",
      "[50]\ttraining's auc: 0.843823\ttraining's binary_logloss: 0.303568\tvalid_1's auc: 0.829746\tvalid_1's binary_logloss: 0.309333\n",
      "[100]\ttraining's auc: 0.856149\ttraining's binary_logloss: 0.293699\tvalid_1's auc: 0.836836\tvalid_1's binary_logloss: 0.303532\n",
      "[150]\ttraining's auc: 0.863028\ttraining's binary_logloss: 0.28814\tvalid_1's auc: 0.83968\tvalid_1's binary_logloss: 0.301131\n",
      "[200]\ttraining's auc: 0.868186\ttraining's binary_logloss: 0.283967\tvalid_1's auc: 0.841503\tvalid_1's binary_logloss: 0.299807\n",
      "[250]\ttraining's auc: 0.871929\ttraining's binary_logloss: 0.280974\tvalid_1's auc: 0.842634\tvalid_1's binary_logloss: 0.299032\n",
      "[300]\ttraining's auc: 0.875415\ttraining's binary_logloss: 0.278166\tvalid_1's auc: 0.843234\tvalid_1's binary_logloss: 0.298587\n",
      "[350]\ttraining's auc: 0.878607\ttraining's binary_logloss: 0.275527\tvalid_1's auc: 0.843834\tvalid_1's binary_logloss: 0.298107\n",
      "[400]\ttraining's auc: 0.881575\ttraining's binary_logloss: 0.273101\tvalid_1's auc: 0.844271\tvalid_1's binary_logloss: 0.297793\n",
      "Early stopping, best iteration is:\n",
      "[421]\ttraining's auc: 0.882661\ttraining's binary_logloss: 0.272208\tvalid_1's auc: 0.844324\tvalid_1's binary_logloss: 0.297776\n",
      "*********************\n",
      "roc auc estimado:  0.850611702813293\n",
      "roc auc varianza:  0.0007854670011943732\n"
     ]
    }
   ],
   "source": [
    "from lightgbm import LGBMClassifier\n",
    "from sklearn.metrics import roc_auc_score\n",
    "from sklearn.model_selection import KFold\n",
    "import numpy as np\n",
    "folds = [train.index[t] for t, v in KFold(5).split(train)]\n",
    "test_probs = []\n",
    "train_probs = []\n",
    "fi = []\n",
    "for i, idx in enumerate(folds):\n",
    "    print(\"*\"*10, i, \"*\"*10)\n",
    "    Xt = train.loc[idx]\n",
    "    yt = y_train.loc[Xt.index]\n",
    "\n",
    "    Xv = train.drop(Xt.index)\n",
    "    yv = y_train.loc[Xv.index]\n",
    "\n",
    "    learner = LGBMClassifier(n_estimators=1000, max_depth = 6, boosting_type='gbdt', min_child_samples=1000)\n",
    "    learner.fit(Xt, yt,  early_stopping_rounds=10, eval_metric=\"auc\",\n",
    "                eval_set=[(Xt, yt), (Xv, yv)], verbose=50)\n",
    "    test_probs.append(pd.Series(learner.predict_proba(test)[:, -1], index=test.index, name=\"fold_\" + str(i)))\n",
    "    train_probs.append(pd.Series(learner.predict_proba(Xv)[:, -1], index=Xv.index, name=\"probs\"))\n",
    "    fi.append(pd.Series(learner.feature_importances_ / learner.feature_importances_.sum(), index=Xt.columns))\n",
    "\n",
    "test_probs = pd.concat(test_probs, axis=1).mean(axis=1)\n",
    "train_probs = pd.concat(train_probs)\n",
    "fi = pd.concat(fi, axis=1).mean(axis=1)\n",
    "print(\"*\" * 21)\n",
    "print(\"roc auc estimado: \", roc_auc_score(y_train, train_probs.loc[y_train.index]))\n",
    "print(\"roc auc varianza: \", np.std([roc_auc_score(y_train.loc[folds[i]], train_probs.iloc[folds[i]]) for i in range(len(folds))]))  "
   ]
  },
  {
   "cell_type": "code",
   "execution_count": 24,
   "metadata": {},
   "outputs": [
    {
     "data": {
      "text/plain": [
       "350"
      ]
     },
     "execution_count": 24,
     "metadata": {},
     "output_type": "execute_result"
    }
   ],
   "source": [
    "fi.to_pickle('fi_lightgbm_v2.pkl')\n",
    "fi = pd.read_pickle('fi_lightgbm_v2.pkl')\n",
    "features_importances_350 = list(fi.sort_values(ascending=False).head(350).index)\n",
    "len(features_importances_350)"
   ]
  },
  {
   "cell_type": "code",
   "execution_count": 25,
   "metadata": {},
   "outputs": [
    {
     "data": {
      "text/plain": [
       "dto_me                                         0.024319\n",
       "tipo_credito_sum_ult12mes                      0.020010\n",
       "edad                                           0.018427\n",
       "RIESGO_DIRECTO_1_saldo_ult1meses               0.015837\n",
       "cod_ubi                                        0.014734\n",
       "tipo_credito_sum_ult1mes                       0.013510\n",
       "RIESGO_DIRECTO_sum_ult12mes                    0.013222\n",
       "RIESGO_DIRECTO_1_saldo_ult12meses              0.013037\n",
       "RIESGO_DIRECTO_-1_saldo_ult1meses              0.012439\n",
       "cod_instit_financiera_max_ult1mes              0.012075\n",
       "saldo_mean_ult12mes                            0.012040\n",
       "cod_instit_financiera_mode_ult12mes_me         0.011555\n",
       "cod_instit_financiera_mode_ult1mes_me          0.011234\n",
       "RIESGO_DIRECTO_mean_ult1mes                    0.011092\n",
       "saldo_min_ult1mes                              0.010581\n",
       "ubigeo_mode                                    0.010542\n",
       "tipo_credito_11_saldo_ult1meses                0.010423\n",
       "tip_lvledu_me                                  0.009682\n",
       "tipo_credito_sum_ult2mes                       0.009183\n",
       "ciiu_mode                                      0.008953\n",
       "fecalta_mean                                   0.008807\n",
       "cod_instit_financiera_min_ult1mes              0.008779\n",
       "RIESGO_DIRECTO_1_saldo_ult3meses               0.008685\n",
       "RIESGO_DIRECTO_std_ult12mes                    0.008684\n",
       "saldo_mean_ult1mes                             0.008394\n",
       "RIESGO_DIRECTO_1_saldo_ult2meses               0.008079\n",
       "RIESGO_DIRECTO_-1_saldo_ult2meses              0.007991\n",
       "RIESGO_DIRECTO_-1_saldo_ult12meses             0.007960\n",
       "prv_me                                         0.007744\n",
       "tipo_credito_12_saldo_ult12meses               0.007273\n",
       "tipo_credito_12_saldo_ult1meses                0.007220\n",
       "sexo_me                                        0.007117\n",
       "estadocontribuyente_mode                       0.007112\n",
       "saldo_max_ult12mes                             0.007070\n",
       "flg_sin_email_me                               0.006793\n",
       "cod_ocu_me                                     0.006595\n",
       "tipo_credito_11_saldo_ult12meses               0.006590\n",
       "RIESGO_DIRECTO_mean_ult2mes                    0.006511\n",
       "RIESGO_DIRECTO_mean_ult12mes                   0.006486\n",
       "lgr_vot_me                                     0.006371\n",
       "COD_CLASIFICACION_DEUDOR_0_saldo_ult12meses    0.006369\n",
       "tipo_credito_std_ult12mes                      0.006283\n",
       "RIESGO_DIRECTO_1_condicion_ult12meses          0.006013\n",
       "sit_lab_me                                     0.005908\n",
       "RIESGO_DIRECTO_std_ult1mes                     0.005901\n",
       "saldo_std_ult1mes                              0.005821\n",
       "cod_instit_financiera_max_ult12mes             0.005805\n",
       "tipo_credito_std_ult1mes                       0.005709\n",
       "cod_instit_financiera_min_ult12mes             0.005689\n",
       "tipo_credito_mean_ult12mes                     0.005683\n",
       "dtype: float64"
      ]
     },
     "execution_count": 25,
     "metadata": {},
     "output_type": "execute_result"
    }
   ],
   "source": [
    "fi.sort_values(ascending=False).head(50)"
   ]
  },
  {
   "cell_type": "code",
   "execution_count": 26,
   "metadata": {},
   "outputs": [
    {
     "data": {
      "text/plain": [
       "<catboost.core.CatBoostClassifier at 0x7f6561353d90>"
      ]
     },
     "execution_count": 26,
     "metadata": {},
     "output_type": "execute_result"
    }
   ],
   "source": [
    "from catboost import CatBoostClassifier\n",
    "learner_catboost = CatBoostClassifier(n_estimators=1000, eval_metric = 'AUC', max_depth = 6)\n",
    "learner_catboost.fit(train, y_train,  early_stopping_rounds=10, verbose=False)"
   ]
  },
  {
   "cell_type": "code",
   "execution_count": 27,
   "metadata": {},
   "outputs": [
    {
     "name": "stderr",
     "output_type": "stream",
     "text": [
      "/opt/conda/lib/python3.7/site-packages/sklearn/utils/validation.py:72: DataConversionWarning: A column-vector y was passed when a 1d array was expected. Please change the shape of y to (n_samples, ), for example using ravel().\n",
      "  return f(**kwargs)\n"
     ]
    },
    {
     "data": {
      "text/plain": [
       "LGBMClassifier(max_depth=6, min_child_samples=1000, n_estimators=1000)"
      ]
     },
     "execution_count": 27,
     "metadata": {},
     "output_type": "execute_result"
    }
   ],
   "source": [
    "from lightgbm import LGBMClassifier\n",
    "learner_lightgbm = LGBMClassifier(n_estimators=1000, max_depth=6, boosting_type='gbdt', min_child_samples=1000)\n",
    "learner_lightgbm.fit(train, y_train, eval_metric=\"auc\", verbose=False)"
   ]
  },
  {
   "cell_type": "code",
   "execution_count": 28,
   "metadata": {},
   "outputs": [
    {
     "data": {
      "text/plain": [
       "(396666,)"
      ]
     },
     "execution_count": 28,
     "metadata": {},
     "output_type": "execute_result"
    }
   ],
   "source": [
    "test_probs_catboost = pd.Series(learner_catboost.predict_proba(test)[:, -1], index=test.index, name=\"target\")\n",
    "test_probs_lightgbm = pd.Series(learner_lightgbm.predict_proba(test)[:, -1], index=test.index, name=\"target\")\n",
    "test_probs_mean = test_probs_catboost*0.4 + test_probs_lightgbm*0.6\n",
    "test_probs_mean.name = 'target'\n",
    "test_probs_mean.shape"
   ]
  },
  {
   "cell_type": "code",
   "execution_count": 29,
   "metadata": {},
   "outputs": [],
   "source": [
    "test_probs_mean.to_csv(\"../results/test70.csv\")"
   ]
  },
  {
   "cell_type": "code",
   "execution_count": 30,
   "metadata": {},
   "outputs": [],
   "source": [
    "mkdir /root/.kaggle/"
   ]
  },
  {
   "cell_type": "code",
   "execution_count": 31,
   "metadata": {},
   "outputs": [],
   "source": [
    "cp ../kaggle.json /root/.kaggle/"
   ]
  },
  {
   "cell_type": "code",
   "execution_count": 32,
   "metadata": {},
   "outputs": [
    {
     "name": "stdout",
     "output_type": "stream",
     "text": [
      "Warning: Your Kaggle API key is readable by other users on this system! To fix this, you can run 'chmod 600 /root/.kaggle/kaggle.json'\n",
      "100%|██████████████████████████████████████| 10.1M/10.1M [00:04<00:00, 2.16MB/s]\n",
      "Successfully submitted to Datathon Internacional Interbank 2020"
     ]
    }
   ],
   "source": [
    "!kaggle competitions submit -c interbank20 -f ../results/test70.csv -m \"test 70\""
   ]
  },
  {
   "cell_type": "code",
   "execution_count": null,
   "metadata": {},
   "outputs": [],
   "source": []
  },
  {
   "cell_type": "code",
   "execution_count": null,
   "metadata": {},
   "outputs": [],
   "source": []
  },
  {
   "cell_type": "code",
   "execution_count": null,
   "metadata": {},
   "outputs": [],
   "source": []
  },
  {
   "cell_type": "code",
   "execution_count": 33,
   "metadata": {},
   "outputs": [
    {
     "data": {
      "text/plain": [
       "<catboost.core.CatBoostClassifier at 0x7f64ee20b850>"
      ]
     },
     "execution_count": 33,
     "metadata": {},
     "output_type": "execute_result"
    }
   ],
   "source": [
    "from catboost import CatBoostClassifier\n",
    "fi = pd.read_pickle('fi_catboost_v2.pkl')\n",
    "features_importances_350_catboost = list(fi.sort_values(ascending=False).head(350).index)\n",
    "learner_catboost = CatBoostClassifier(n_estimators=1000, eval_metric = 'AUC', max_depth = 6)\n",
    "learner_catboost.fit(train[features_importances_350_catboost], y_train,  early_stopping_rounds=10, verbose=False)"
   ]
  },
  {
   "cell_type": "code",
   "execution_count": 34,
   "metadata": {},
   "outputs": [
    {
     "name": "stderr",
     "output_type": "stream",
     "text": [
      "/opt/conda/lib/python3.7/site-packages/sklearn/utils/validation.py:72: DataConversionWarning: A column-vector y was passed when a 1d array was expected. Please change the shape of y to (n_samples, ), for example using ravel().\n",
      "  return f(**kwargs)\n"
     ]
    },
    {
     "data": {
      "text/plain": [
       "LGBMClassifier(max_depth=6, min_child_samples=1000, n_estimators=1000)"
      ]
     },
     "execution_count": 34,
     "metadata": {},
     "output_type": "execute_result"
    }
   ],
   "source": [
    "from lightgbm import LGBMClassifier\n",
    "fi = pd.read_pickle('fi_lightgbm_v2.pkl')\n",
    "features_importances_350_lightgbm = list(fi.sort_values(ascending=False).head(350).index)\n",
    "learner_lightgbm = LGBMClassifier(n_estimators=1000, max_depth=6, boosting_type='gbdt', min_child_samples=1000)\n",
    "learner_lightgbm.fit(train[features_importances_350_lightgbm], y_train, eval_metric=\"auc\", verbose=True)"
   ]
  },
  {
   "cell_type": "code",
   "execution_count": 35,
   "metadata": {},
   "outputs": [
    {
     "data": {
      "text/plain": [
       "(396666,)"
      ]
     },
     "execution_count": 35,
     "metadata": {},
     "output_type": "execute_result"
    }
   ],
   "source": [
    "test_probs_catboost = pd.Series(learner_catboost.predict_proba(test[features_importances_350_catboost])[:, -1], index=test.index, name=\"target\")\n",
    "test_probs_lightgbm = pd.Series(learner_lightgbm.predict_proba(test[features_importances_350_lightgbm])[:, -1], index=test.index, name=\"target\")\n",
    "test_probs_mean = test_probs_catboost*0.4 + test_probs_lightgbm*0.6\n",
    "test_probs_mean.name = 'target'\n",
    "test_probs_mean.shape"
   ]
  },
  {
   "cell_type": "code",
   "execution_count": 36,
   "metadata": {},
   "outputs": [],
   "source": [
    "test_probs_mean.to_csv(\"../results/test71.csv\")"
   ]
  },
  {
   "cell_type": "code",
   "execution_count": 37,
   "metadata": {},
   "outputs": [],
   "source": [
    "mkdir /root/.kaggle/"
   ]
  },
  {
   "cell_type": "code",
   "execution_count": 38,
   "metadata": {},
   "outputs": [],
   "source": [
    "cp ../kaggle.json /root/.kaggle/"
   ]
  },
  {
   "cell_type": "code",
   "execution_count": 39,
   "metadata": {},
   "outputs": [
    {
     "name": "stdout",
     "output_type": "stream",
     "text": [
      "Warning: Your Kaggle API key is readable by other users on this system! To fix this, you can run 'chmod 600 /root/.kaggle/kaggle.json'\n",
      "100%|██████████████████████████████████████| 10.1M/10.1M [00:03<00:00, 3.53MB/s]\n",
      "Successfully submitted to Datathon Internacional Interbank 2020"
     ]
    }
   ],
   "source": [
    "!kaggle competitions submit -c interbank20 -f ../results/test71.csv -m \"test 71\""
   ]
  }
 ],
 "metadata": {
  "kernelspec": {
   "display_name": "Python 3",
   "language": "python",
   "name": "python3"
  },
  "language_info": {
   "codemirror_mode": {
    "name": "ipython",
    "version": 3
   },
   "file_extension": ".py",
   "mimetype": "text/x-python",
   "name": "python",
   "nbconvert_exporter": "python",
   "pygments_lexer": "ipython3",
   "version": "3.7.6"
  }
 },
 "nbformat": 4,
 "nbformat_minor": 4
}
