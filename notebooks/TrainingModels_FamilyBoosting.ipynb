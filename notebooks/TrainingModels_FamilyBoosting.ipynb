{
 "cells": [
  {
   "cell_type": "code",
   "execution_count": 1,
   "id": "consistent-magazine",
   "metadata": {},
   "outputs": [],
   "source": [
    "import pandas as pd\n",
    "import numpy as np\n",
    "import matplotlib.pyplot as plt"
   ]
  },
  {
   "cell_type": "code",
   "execution_count": 2,
   "id": "driven-salmon",
   "metadata": {},
   "outputs": [],
   "source": [
    "path = '../data'\n",
    "y_train = pd.read_csv(f'{path}/y_train.csv', index_col = 'key_value')"
   ]
  },
  {
   "cell_type": "code",
   "execution_count": 3,
   "id": "identical-paradise",
   "metadata": {},
   "outputs": [
    {
     "data": {
      "image/png": "[encoded data removed]",
      "text/plain": [
       "<Figure size 432x288 with 1 Axes>"
      ]
     },
     "metadata": {},
     "output_type": "display_data"
    }
   ],
   "source": [
    "y_train.value_counts().plot(kind='pie', autopct='%1.0f%%');"
   ]
  },
  {
   "cell_type": "code",
   "execution_count": 4,
   "id": "increasing-arrow",
   "metadata": {
    "scrolled": true
   },
   "outputs": [],
   "source": [
    "train = pd.read_pickle('train_1123features.pkl') ### 293 features\n",
    "test = pd.read_pickle('test_1123features.pkl')"
   ]
  },
  {
   "cell_type": "code",
   "execution_count": 5,
   "id": "variable-limitation",
   "metadata": {},
   "outputs": [
    {
     "data": {
      "text/plain": [
       "float64    1035\n",
       "int32        65\n",
       "int64        23\n",
       "dtype: int64"
      ]
     },
     "execution_count": 5,
     "metadata": {},
     "output_type": "execute_result"
    }
   ],
   "source": [
    "train.dtypes.value_counts()"
   ]
  },
  {
   "cell_type": "code",
   "execution_count": 6,
   "id": "thermal-cinema",
   "metadata": {
    "scrolled": true
   },
   "outputs": [
    {
     "data": {
      "image/png": "[encoded data removed]",
      "text/plain": [
       "<Figure size 432x288 with 1 Axes>"
      ]
     },
     "metadata": {
      "needs_background": "light"
     },
     "output_type": "display_data"
    }
   ],
   "source": [
    "train.isna().sum().hist();"
   ]
  },
  {
   "cell_type": "markdown",
   "id": "deadly-smart",
   "metadata": {},
   "source": [
    "## Entrenando LGBM con hiperparámetros"
   ]
  },
  {
   "cell_type": "code",
   "execution_count": 8,
   "id": "hearing-bronze",
   "metadata": {
    "scrolled": true
   },
   "outputs": [
    {
     "name": "stdout",
     "output_type": "stream",
     "text": [
      "********** 0 **********\n",
      "Training until validation scores don't improve for 10 rounds\n",
      "[100]\ttraining's auc: 0.860437\ttraining's binary_logloss: 0.289712\tvalid_1's auc: 0.846237\tvalid_1's binary_logloss: 0.300648\n",
      "[200]\ttraining's auc: 0.875982\ttraining's binary_logloss: 0.277379\tvalid_1's auc: 0.851073\tvalid_1's binary_logloss: 0.296692\n",
      "[300]\ttraining's auc: 0.88701\ttraining's binary_logloss: 0.268602\tvalid_1's auc: 0.852077\tvalid_1's binary_logloss: 0.295892\n",
      "Early stopping, best iteration is:\n",
      "[316]\ttraining's auc: 0.888411\ttraining's binary_logloss: 0.2674\tvalid_1's auc: 0.852183\tvalid_1's binary_logloss: 0.295783\n",
      "********** 1 **********\n",
      "Training until validation scores don't improve for 10 rounds\n",
      "[100]\ttraining's auc: 0.860119\ttraining's binary_logloss: 0.290054\tvalid_1's auc: 0.845933\tvalid_1's binary_logloss: 0.300787\n",
      "[200]\ttraining's auc: 0.875718\ttraining's binary_logloss: 0.277459\tvalid_1's auc: 0.850936\tvalid_1's binary_logloss: 0.29665\n",
      "Early stopping, best iteration is:\n",
      "[215]\ttraining's auc: 0.877399\ttraining's binary_logloss: 0.276063\tvalid_1's auc: 0.851062\tvalid_1's binary_logloss: 0.296484\n",
      "********** 2 **********\n",
      "Training until validation scores don't improve for 10 rounds\n",
      "[100]\ttraining's auc: 0.860076\ttraining's binary_logloss: 0.290407\tvalid_1's auc: 0.849576\tvalid_1's binary_logloss: 0.29795\n",
      "[200]\ttraining's auc: 0.8758\ttraining's binary_logloss: 0.277974\tvalid_1's auc: 0.853335\tvalid_1's binary_logloss: 0.294251\n",
      "[300]\ttraining's auc: 0.886658\ttraining's binary_logloss: 0.269145\tvalid_1's auc: 0.854203\tvalid_1's binary_logloss: 0.293344\n",
      "Early stopping, best iteration is:\n",
      "[290]\ttraining's auc: 0.885639\ttraining's binary_logloss: 0.26996\tvalid_1's auc: 0.854228\tvalid_1's binary_logloss: 0.293327\n",
      "********** 3 **********\n",
      "Training until validation scores don't improve for 10 rounds\n",
      "[100]\ttraining's auc: 0.860239\ttraining's binary_logloss: 0.290344\tvalid_1's auc: 0.847997\tvalid_1's binary_logloss: 0.298599\n",
      "[200]\ttraining's auc: 0.875646\ttraining's binary_logloss: 0.27813\tvalid_1's auc: 0.852385\tvalid_1's binary_logloss: 0.294778\n",
      "Early stopping, best iteration is:\n",
      "[273]\ttraining's auc: 0.883726\ttraining's binary_logloss: 0.27162\tvalid_1's auc: 0.853143\tvalid_1's binary_logloss: 0.293963\n",
      "********** 4 **********\n",
      "Training until validation scores don't improve for 10 rounds\n",
      "[100]\ttraining's auc: 0.861901\ttraining's binary_logloss: 0.289487\tvalid_1's auc: 0.839655\tvalid_1's binary_logloss: 0.301651\n",
      "[200]\ttraining's auc: 0.877552\ttraining's binary_logloss: 0.276819\tvalid_1's auc: 0.843786\tvalid_1's binary_logloss: 0.298238\n",
      "Early stopping, best iteration is:\n",
      "[266]\ttraining's auc: 0.884932\ttraining's binary_logloss: 0.27086\tvalid_1's auc: 0.844677\tvalid_1's binary_logloss: 0.297543\n",
      "*********************\n",
      "roc auc estimado:  0.8510847686114105\n",
      "roc auc varianza:  0.0008213315003251726\n"
     ]
    }
   ],
   "source": [
    "from lightgbm import LGBMClassifier\n",
    "from sklearn.metrics import roc_auc_score\n",
    "from sklearn.model_selection import KFold\n",
    "import numpy as np\n",
    "folds = [train.index[t] for t, v in KFold(5).split(train)]\n",
    "test_probs = []\n",
    "train_probs = []\n",
    "fi = []\n",
    "for i, idx in enumerate(folds):\n",
    "    print(\"*\"*10, i, \"*\"*10)\n",
    "    Xt = train.loc[idx]\n",
    "    yt = y_train.loc[Xt.index].target\n",
    "\n",
    "    Xv = train.drop(Xt.index)\n",
    "    yv = y_train.loc[Xv.index].target\n",
    "\n",
    "    learner = LGBMClassifier(n_estimators=1000, boosting_type='gbdt',min_child_samples=1500, colsample_bytree=0.8,\n",
    "                   subsample=0.8, max_bin=200, learning_rate=0.1)\n",
    "    \n",
    "    learner.fit(Xt, yt,  early_stopping_rounds=10, eval_metric=\"auc\",\n",
    "                eval_set=[(Xt, yt), (Xv, yv)], verbose=100)\n",
    "    test_probs.append(pd.Series(learner.predict_proba(test)[:, -1], index=test.index, name=\"fold_\" + str(i)))\n",
    "    train_probs.append(pd.Series(learner.predict_proba(Xv)[:, -1], index=Xv.index, name=\"probs\"))\n",
    "    fi.append(pd.Series(learner.feature_importances_ / learner.feature_importances_.sum(), index=Xt.columns))\n",
    "\n",
    "test_probs = pd.concat(test_probs, axis=1).mean(axis=1)\n",
    "train_probs = pd.concat(train_probs)\n",
    "fi = pd.concat(fi, axis=1).mean(axis=1)\n",
    "print(\"*\" * 21)\n",
    "print(\"roc auc estimado: \", roc_auc_score(y_train, train_probs.loc[y_train.index]))\n",
    "print(\"roc auc varianza: \", np.std([roc_auc_score(y_train.loc[folds[i]], train_probs.iloc[folds[i]]) for i in range(len(folds))]))  "
   ]
  },
  {
   "cell_type": "code",
   "execution_count": 9,
   "id": "statistical-arizona",
   "metadata": {
    "scrolled": true
   },
   "outputs": [
    {
     "data": {
      "text/plain": [
       "RIESGO_DIRECTO_1_saldoUnique_ult1meses               0.012536\n",
       "edad                                                 0.011815\n",
       "cod_instit_financiera_max_ult1mes                    0.010938\n",
       "cod_ubi                                              0.009025\n",
       "tip_lvledu                                           0.009009\n",
       "RIESGO_DIRECTO_-1_saldoUnique_ult12meses             0.008270\n",
       "RIESGO_DIRECTO_1_saldoStd_ult1meses                  0.007822\n",
       "COD_CLASIFICACION_DEUDOR_0_saldoUnique_ult12meses    0.007621\n",
       "RIESGO_DIRECTO_-1_saldoMedian_ult1meses              0.007401\n",
       "sit_lab                                              0.007359\n",
       "cod_instit_financiera_min_ult1mes                    0.007296\n",
       "ubigeo_mode                                          0.006599\n",
       "prv                                                  0.006474\n",
       "RIESGO_DIRECTO_-1_saldoMedian_ult2meses              0.006309\n",
       "sexo                                                 0.006177\n",
       "RIESGO_DIRECTO_1_saldoMin_ult1meses                  0.005966\n",
       "flg_sin_email                                        0.005862\n",
       "cod_instit_financiera_mode_ult1mes                   0.005848\n",
       "condicion_0_saldoUnique_ult12meses                   0.005736\n",
       "RIESGO_DIRECTO_1_saldoMax_ult12meses                 0.005694\n",
       "tipo_credito_11_saldoStd_ult1meses                   0.005608\n",
       "RIESGO_DIRECTO_1_saldoMedian_ult1meses               0.005400\n",
       "estadocontribuyente_mode                             0.005365\n",
       "ciiu_mode                                            0.005101\n",
       "tipo_credito_11_saldoUnique_ult12meses               0.005025\n",
       "dto                                                  0.004974\n",
       "RIESGO_DIRECTO_1_saldoMedian_ult2meses               0.004910\n",
       "tipo_credito_11_saldoSum_ult1meses                   0.004807\n",
       "cod_ocu                                              0.004579\n",
       "lgr_vot                                              0.004441\n",
       "RIESGO_DIRECTO_1_saldoSum_ult1meses                  0.004397\n",
       "RIESGO_DIRECTO_1_saldoMax_ult1meses                  0.004117\n",
       "COD_CLASIFICACION_DEUDOR_5_saldoMax_ult1meses        0.004080\n",
       "tipo_credito_12_saldoMin_ult1meses                   0.004054\n",
       "RIESGO_DIRECTO_1_saldoUnique_ult12meses              0.004023\n",
       "RIESGO_DIRECTO_1_saldoMin_ult2meses                  0.003790\n",
       "RIESGO_DIRECTO_1_saldoMedian_ult3meses               0.003742\n",
       "RIESGO_DIRECTO_-1_saldoSum_ult1meses                 0.003740\n",
       "RIESGO_DIRECTO_1_saldoUnique_ult2meses               0.003553\n",
       "RIESGO_DIRECTO_1_saldoMean_ult1meses                 0.003510\n",
       "RIESGO_DIRECTO_1_saldoMedian_ult12meses              0.003480\n",
       "tipo_credito_12_saldoUnique_ult12meses               0.003480\n",
       "fecalta_mean                                         0.003459\n",
       "RIESGO_DIRECTO_1_saldoStd_ult2meses                  0.003441\n",
       "tipo_credito_12_saldoUnique_ult1meses                0.003408\n",
       "fecalta_min                                          0.003403\n",
       "tipo_credito_11_saldoMin_ult1meses                   0.003401\n",
       "tipo_credito_12_saldoSum_ult1meses                   0.003397\n",
       "cod_instit_financiera_max_ult12mes                   0.003266\n",
       "codzona_mode                                         0.003201\n",
       "dtype: float64"
      ]
     },
     "execution_count": 9,
     "metadata": {},
     "output_type": "execute_result"
    }
   ],
   "source": [
    "fi.sort_values(ascending=False).head(50)"
   ]
  },
  {
   "cell_type": "code",
   "execution_count": 10,
   "id": "recent-factory",
   "metadata": {},
   "outputs": [],
   "source": [
    "fi.to_pickle('fi_lightgbm.pkl')"
   ]
  },
  {
   "cell_type": "code",
   "execution_count": 11,
   "id": "patient-idaho",
   "metadata": {},
   "outputs": [],
   "source": [
    "train_probs_lightgbm = train_probs\n",
    "test_probs_lightgbm = test_probs\n",
    "train_probs_lightgbm.to_pickle('train_probs_lightgbm.pkl')\n",
    "test_probs_lightgbm.to_pickle('test_probs_lightgbm.pkl')"
   ]
  },
  {
   "cell_type": "markdown",
   "id": "hawaiian-shopper",
   "metadata": {},
   "source": [
    "## Entrenando CatBoost con hiperparámetros"
   ]
  },
  {
   "cell_type": "code",
   "execution_count": 12,
   "id": "tight-hormone",
   "metadata": {
    "scrolled": true
   },
   "outputs": [
    {
     "name": "stdout",
     "output_type": "stream",
     "text": [
      "********** 0 **********\n",
      "0:\ttest: 0.7314209\ttest1: 0.7380100\tbest: 0.7380100 (0)\ttotal: 493ms\tremaining: 8m 12s\n",
      "100:\ttest: 0.8537781\ttest1: 0.8434292\tbest: 0.8434292 (100)\ttotal: 59.8s\tremaining: 8m 52s\n",
      "Stopped by overfitting detector  (10 iterations wait)\n",
      "\n",
      "bestTest = 0.8466630881\n",
      "bestIteration = 186\n",
      "\n",
      "Shrink model to first 187 iterations.\n",
      "********** 1 **********\n",
      "0:\ttest: 0.7335167\ttest1: 0.7317035\tbest: 0.7317035 (0)\ttotal: 508ms\tremaining: 8m 27s\n",
      "100:\ttest: 0.8542764\ttest1: 0.8442949\tbest: 0.8442949 (100)\ttotal: 1m 1s\tremaining: 9m 9s\n",
      "Stopped by overfitting detector  (10 iterations wait)\n",
      "\n",
      "bestTest = 0.8462962326\n",
      "bestIteration = 157\n",
      "\n",
      "Shrink model to first 158 iterations.\n",
      "********** 2 **********\n",
      "0:\ttest: 0.7318044\ttest1: 0.7382914\tbest: 0.7382914 (0)\ttotal: 506ms\tremaining: 8m 25s\n",
      "100:\ttest: 0.8530233\ttest1: 0.8460448\tbest: 0.8460608 (99)\ttotal: 1m 4s\tremaining: 9m 35s\n",
      "Stopped by overfitting detector  (10 iterations wait)\n",
      "\n",
      "bestTest = 0.8480239794\n",
      "bestIteration = 152\n",
      "\n",
      "Shrink model to first 153 iterations.\n",
      "********** 3 **********\n",
      "0:\ttest: 0.7326854\ttest1: 0.7337404\tbest: 0.7337404 (0)\ttotal: 558ms\tremaining: 9m 17s\n",
      "100:\ttest: 0.8532437\ttest1: 0.8447455\tbest: 0.8447455 (100)\ttotal: 1m 5s\tremaining: 9m 41s\n",
      "Stopped by overfitting detector  (10 iterations wait)\n",
      "\n",
      "bestTest = 0.8479373827\n",
      "bestIteration = 183\n",
      "\n",
      "Shrink model to first 184 iterations.\n",
      "********** 4 **********\n",
      "0:\ttest: 0.7353736\ttest1: 0.7222811\tbest: 0.7222811 (0)\ttotal: 572ms\tremaining: 9m 31s\n",
      "100:\ttest: 0.8560882\ttest1: 0.8367697\tbest: 0.8367697 (100)\ttotal: 1m 3s\tremaining: 9m 21s\n",
      "Stopped by overfitting detector  (10 iterations wait)\n",
      "\n",
      "bestTest = 0.8385816531\n",
      "bestIteration = 148\n",
      "\n",
      "Shrink model to first 149 iterations.\n",
      "*********************\n",
      "roc auc estimado:  0.8455298855486151\n",
      "roc auc varianza:  0.0008571744172990569\n"
     ]
    }
   ],
   "source": [
    "from catboost import CatBoostClassifier\n",
    "from sklearn.metrics import roc_auc_score\n",
    "from sklearn.model_selection import KFold\n",
    "import numpy as np\n",
    "folds = [train.index[t] for t, v in KFold(5).split(train)]\n",
    "test_probs = []\n",
    "train_probs = []\n",
    "fi = []\n",
    "for i, idx in enumerate(folds):\n",
    "    print(\"*\"*10, i, \"*\"*10)\n",
    "    Xt = train.loc[idx]\n",
    "    yt = y_train.loc[Xt.index]\n",
    "\n",
    "    Xv = train.drop(Xt.index)\n",
    "    yv = y_train.loc[Xv.index]\n",
    "\n",
    "    learner = CatBoostClassifier(boosting_type = 'Plain', n_estimators=1000, eval_metric = 'AUC',\n",
    "                   colsample_bylevel=1, subsample=1, learning_rate=0.3, max_bin=100)\n",
    "    \n",
    "    learner.fit(Xt, yt,  early_stopping_rounds=10, \n",
    "                eval_set=[(Xt, yt), (Xv, yv)], verbose=100)\n",
    "    test_probs.append(pd.Series(learner.predict_proba(test)[:, -1], index=test.index, name=\"fold_\" + str(i)))\n",
    "    train_probs.append(pd.Series(learner.predict_proba(Xv)[:, -1], index=Xv.index, name=\"probs\"))\n",
    "    fi.append(pd.Series(learner.feature_importances_ / learner.feature_importances_.sum(), index=Xt.columns))\n",
    "\n",
    "test_probs = pd.concat(test_probs, axis=1).mean(axis=1)\n",
    "train_probs = pd.concat(train_probs)\n",
    "fi = pd.concat(fi, axis=1).mean(axis=1)\n",
    "print(\"*\" * 21)\n",
    "print(\"roc auc estimado: \", roc_auc_score(y_train, train_probs.loc[y_train.index]))\n",
    "print(\"roc auc varianza: \", np.std([roc_auc_score(y_train.loc[folds[i]], train_probs.iloc[folds[i]]) for i in range(len(folds))]))  "
   ]
  },
  {
   "cell_type": "code",
   "execution_count": 13,
   "id": "individual-above",
   "metadata": {
    "scrolled": true
   },
   "outputs": [
    {
     "data": {
      "text/plain": [
       "COD_CLASIFICACION_DEUDOR_5_saldoMean_ult1meses       0.106500\n",
       "COD_CLASIFICACION_DEUDOR_5_saldoUnique_ult1meses     0.077204\n",
       "tip_lvledu                                           0.018709\n",
       "COD_CLASIFICACION_DEUDOR_5_saldoMedian_ult1meses     0.017563\n",
       "RIESGO_DIRECTO_1_saldoUnique_ult1meses               0.017468\n",
       "cod_instit_financiera_max_ult8mes                    0.017128\n",
       "COD_CLASIFICACION_DEUDOR_0_saldoStd_ult1meses        0.014686\n",
       "edad                                                 0.013720\n",
       "RIESGO_DIRECTO_-1_saldoMedian_ult1meses              0.013260\n",
       "COD_CLASIFICACION_DEUDOR_3_saldoStd_ult5meses        0.013040\n",
       "RIESGO_DIRECTO_2_saldoUnique_ult2meses               0.012917\n",
       "COD_CLASIFICACION_DEUDOR_5_saldoStd_ult2meses        0.012086\n",
       "sexo                                                 0.011310\n",
       "COD_CLASIFICACION_DEUDOR_0_saldoUnique_ult12meses    0.011248\n",
       "flg_sin_email                                        0.010906\n",
       "RIESGO_DIRECTO_-1_saldoMedian_ult5meses              0.010613\n",
       "PRODUCTO_min_ult5mes                                 0.010221\n",
       "RIESGO_DIRECTO_1_saldoSum_ult1meses                  0.010106\n",
       "RIESGO_DIRECTO_-1_saldoUnique_ult12meses             0.009904\n",
       "condicion_0_saldoSum_ult1meses                       0.009611\n",
       "condicion_0_saldoUnique_ult12meses                   0.008334\n",
       "cod_instit_financiera_max_ult1mes                    0.008183\n",
       "condicion_0_saldoSum_ult2meses                       0.008180\n",
       "sit_lab                                              0.007507\n",
       "cod_instit_financiera_mode_ult1mes                   0.007155\n",
       "cod_instit_financiera_nunique_ult1mes                0.006519\n",
       "cod_instit_financiera_mode_ult2mes                   0.005993\n",
       "RIESGO_DIRECTO_-1_saldoMedian_ult2meses              0.005857\n",
       "tipo_credito_11_saldoSum_ult11meses                  0.005752\n",
       "RIESGO_DIRECTO_2_saldoSum_ult4meses                  0.005310\n",
       "tipo_credito_12_saldoUnique_ult1meses                0.005245\n",
       "COD_CLASIFICACION_DEUDOR_1_saldoMax_ult1meses        0.005154\n",
       "condicion_0_saldoUnique_ult11meses                   0.005074\n",
       "cod_instit_financiera_min_ult1mes                    0.005001\n",
       "tipo_credito_11_saldoUnique_ult12meses               0.004850\n",
       "cod_ubi                                              0.004741\n",
       "tipo_credito_11_saldoUnique_ult1meses                0.004699\n",
       "cod_instit_financiera_min_ult12mes                   0.004656\n",
       "cod_instit_financiera_max_ult3mes                    0.004508\n",
       "COD_CLASIFICACION_DEUDOR_5_saldoUnique_ult7meses     0.004445\n",
       "COD_CLASIFICACION_DEUDOR_4_saldoMin_ult1meses        0.004443\n",
       "ctd_veh                                              0.004331\n",
       "rgn                                                  0.004320\n",
       "COD_CLASIFICACION_DEUDOR_0_saldoUnique_ult5meses     0.004286\n",
       "tipo_credito_11_saldoStd_ult1meses                   0.004172\n",
       "RIESGO_DIRECTO_1_saldoMax_ult1meses                  0.004092\n",
       "RIESGO_DIRECTO_1_saldoStd_ult1meses                  0.004086\n",
       "tipo_credito_12_saldoMin_ult1meses                   0.004016\n",
       "condicion_9_saldoUnique_ult12meses                   0.004013\n",
       "RIESGO_DIRECTO_1_saldoMax_ult12meses                 0.003993\n",
       "dtype: float64"
      ]
     },
     "execution_count": 13,
     "metadata": {},
     "output_type": "execute_result"
    }
   ],
   "source": [
    "fi.sort_values(ascending=False).head(50)"
   ]
  },
  {
   "cell_type": "code",
   "execution_count": 14,
   "id": "human-people",
   "metadata": {},
   "outputs": [],
   "source": [
    "fi.to_pickle('fi_catboost.pkl')"
   ]
  },
  {
   "cell_type": "code",
   "execution_count": 15,
   "id": "cubic-voice",
   "metadata": {},
   "outputs": [],
   "source": [
    "train_probs_catboost = train_probs\n",
    "test_probs_catboost = test_probs\n",
    "train_probs_catboost.to_pickle('train_probs_catboost.pkl')\n",
    "test_probs_catboost.to_pickle('test_probs_catboost.pkl')"
   ]
  },
  {
   "cell_type": "markdown",
   "id": "pending-strength",
   "metadata": {},
   "source": [
    "## LGBM con Categorical_Feature con hiperparámetros"
   ]
  },
  {
   "cell_type": "code",
   "execution_count": 21,
   "id": "native-relationship",
   "metadata": {},
   "outputs": [],
   "source": [
    "# aux = ['sexo', 'est_cvl', 'sit_lab', 'cod_ocu', 'flg_sin_email', 'cod_ubi', 'lgr_vot', 'prv', 'dto', 'rgn', 'tip_lvledu']\n",
    "# var_mode = [(n,i) for n,i in enumerate(train.columns) if 'mode' in i or i in aux]\n",
    "# categorical_feature_index = []\n",
    "# for n,i in var_mode:\n",
    "#     train[i] = train[i].astype('category')\n",
    "#     test[i] = test[i].astype('category')\n",
    "#     categorical_feature_index.append(str(n))\n",
    "# categorical_feature_values = [ i for n,i in var_mode]\n",
    "# fit_params={'categorical_feature': categorical_feature_values}"
   ]
  },
  {
   "cell_type": "code",
   "execution_count": 38,
   "id": "associate-titanium",
   "metadata": {},
   "outputs": [],
   "source": [
    "var_mode = [ i for i in train.columns if 'mode' in i ]\n",
    "for i in var_mode:\n",
    "    train[i] = train[i].astype('category')\n",
    "    test[i] = test[i].astype('category')"
   ]
  },
  {
   "cell_type": "code",
   "execution_count": 40,
   "id": "important-graphics",
   "metadata": {
    "scrolled": true
   },
   "outputs": [
    {
     "name": "stdout",
     "output_type": "stream",
     "text": [
      "********** 0 **********\n"
     ]
    },
    {
     "name": "stderr",
     "output_type": "stream",
     "text": [
      "C:\\Users\\usuario\\anaconda3\\envs\\venv_datathon\\lib\\site-packages\\lightgbm\\basic.py:1286: UserWarning: Overriding the parameters from Reference Dataset.\n",
      "  warnings.warn('Overriding the parameters from Reference Dataset.')\n",
      "C:\\Users\\usuario\\anaconda3\\envs\\venv_datathon\\lib\\site-packages\\lightgbm\\basic.py:1098: UserWarning: categorical_column in param dict is overridden.\n",
      "  warnings.warn('{} in param dict is overridden.'.format(cat_alias))\n"
     ]
    },
    {
     "name": "stdout",
     "output_type": "stream",
     "text": [
      "Training until validation scores don't improve for 10 rounds\n",
      "[50]\ttraining's auc: 0.854701\ttraining's binary_logloss: 0.296407\tvalid_1's auc: 0.83685\tvalid_1's binary_logloss: 0.307919\n",
      "[100]\ttraining's auc: 0.871102\ttraining's binary_logloss: 0.282818\tvalid_1's auc: 0.844701\tvalid_1's binary_logloss: 0.301686\n",
      "[150]\ttraining's auc: 0.881778\ttraining's binary_logloss: 0.274074\tvalid_1's auc: 0.84755\tvalid_1's binary_logloss: 0.299355\n",
      "[200]\ttraining's auc: 0.890038\ttraining's binary_logloss: 0.267316\tvalid_1's auc: 0.848697\tvalid_1's binary_logloss: 0.298322\n",
      "[250]\ttraining's auc: 0.89705\ttraining's binary_logloss: 0.261404\tvalid_1's auc: 0.849508\tvalid_1's binary_logloss: 0.297782\n",
      "Early stopping, best iteration is:\n",
      "[252]\ttraining's auc: 0.897273\ttraining's binary_logloss: 0.261191\tvalid_1's auc: 0.849549\tvalid_1's binary_logloss: 0.297721\n",
      "********** 1 **********\n",
      "Training until validation scores don't improve for 10 rounds\n",
      "[50]\ttraining's auc: 0.855058\ttraining's binary_logloss: 0.296518\tvalid_1's auc: 0.837125\tvalid_1's binary_logloss: 0.307514\n",
      "[100]\ttraining's auc: 0.871625\ttraining's binary_logloss: 0.282551\tvalid_1's auc: 0.845144\tvalid_1's binary_logloss: 0.301048\n",
      "[150]\ttraining's auc: 0.881904\ttraining's binary_logloss: 0.273998\tvalid_1's auc: 0.847485\tvalid_1's binary_logloss: 0.299107\n",
      "[200]\ttraining's auc: 0.890359\ttraining's binary_logloss: 0.266984\tvalid_1's auc: 0.848525\tvalid_1's binary_logloss: 0.298212\n",
      "[250]\ttraining's auc: 0.896941\ttraining's binary_logloss: 0.261283\tvalid_1's auc: 0.848934\tvalid_1's binary_logloss: 0.297799\n",
      "[300]\ttraining's auc: 0.903031\ttraining's binary_logloss: 0.25592\tvalid_1's auc: 0.849337\tvalid_1's binary_logloss: 0.297497\n",
      "Early stopping, best iteration is:\n",
      "[325]\ttraining's auc: 0.905749\ttraining's binary_logloss: 0.253523\tvalid_1's auc: 0.849633\tvalid_1's binary_logloss: 0.297308\n",
      "********** 2 **********\n",
      "Training until validation scores don't improve for 10 rounds\n",
      "[50]\ttraining's auc: 0.854637\ttraining's binary_logloss: 0.2971\tvalid_1's auc: 0.840454\tvalid_1's binary_logloss: 0.305401\n",
      "[100]\ttraining's auc: 0.87143\ttraining's binary_logloss: 0.283065\tvalid_1's auc: 0.847466\tvalid_1's binary_logloss: 0.298908\n",
      "[150]\ttraining's auc: 0.881997\ttraining's binary_logloss: 0.274333\tvalid_1's auc: 0.850122\tvalid_1's binary_logloss: 0.296583\n",
      "[200]\ttraining's auc: 0.889971\ttraining's binary_logloss: 0.267654\tvalid_1's auc: 0.851293\tvalid_1's binary_logloss: 0.295505\n",
      "Early stopping, best iteration is:\n",
      "[208]\ttraining's auc: 0.891173\ttraining's binary_logloss: 0.266655\tvalid_1's auc: 0.85147\tvalid_1's binary_logloss: 0.295334\n",
      "********** 3 **********\n",
      "Training until validation scores don't improve for 10 rounds\n",
      "[50]\ttraining's auc: 0.855143\ttraining's binary_logloss: 0.296811\tvalid_1's auc: 0.838111\tvalid_1's binary_logloss: 0.306367\n",
      "[100]\ttraining's auc: 0.871722\ttraining's binary_logloss: 0.282893\tvalid_1's auc: 0.846159\tvalid_1's binary_logloss: 0.29953\n",
      "[150]\ttraining's auc: 0.882311\ttraining's binary_logloss: 0.274248\tvalid_1's auc: 0.849186\tvalid_1's binary_logloss: 0.297109\n",
      "[200]\ttraining's auc: 0.890424\ttraining's binary_logloss: 0.267385\tvalid_1's auc: 0.850173\tvalid_1's binary_logloss: 0.29621\n",
      "[250]\ttraining's auc: 0.897217\ttraining's binary_logloss: 0.261512\tvalid_1's auc: 0.850815\tvalid_1's binary_logloss: 0.295628\n",
      "Early stopping, best iteration is:\n",
      "[253]\ttraining's auc: 0.897553\ttraining's binary_logloss: 0.261208\tvalid_1's auc: 0.850851\tvalid_1's binary_logloss: 0.295604\n",
      "********** 4 **********\n",
      "Training until validation scores don't improve for 10 rounds\n",
      "[50]\ttraining's auc: 0.856389\ttraining's binary_logloss: 0.296523\tvalid_1's auc: 0.832596\tvalid_1's binary_logloss: 0.307688\n",
      "[100]\ttraining's auc: 0.873088\ttraining's binary_logloss: 0.282186\tvalid_1's auc: 0.839388\tvalid_1's binary_logloss: 0.301779\n",
      "[150]\ttraining's auc: 0.883769\ttraining's binary_logloss: 0.273199\tvalid_1's auc: 0.841762\tvalid_1's binary_logloss: 0.299771\n",
      "[200]\ttraining's auc: 0.891929\ttraining's binary_logloss: 0.266377\tvalid_1's auc: 0.842697\tvalid_1's binary_logloss: 0.298955\n",
      "Early stopping, best iteration is:\n",
      "[212]\ttraining's auc: 0.89368\ttraining's binary_logloss: 0.26491\tvalid_1's auc: 0.842914\tvalid_1's binary_logloss: 0.298785\n",
      "*********************\n",
      "roc auc estimado:  0.8489036395267462\n",
      "roc auc varianza:  0.000746613727071525\n"
     ]
    }
   ],
   "source": [
    "from lightgbm import LGBMClassifier\n",
    "from sklearn.metrics import roc_auc_score\n",
    "from sklearn.model_selection import KFold\n",
    "import numpy as np\n",
    "folds = [train.index[t] for t, v in KFold(5).split(train)]\n",
    "test_probs = []\n",
    "train_probs = []\n",
    "fi = []\n",
    "for i, idx in enumerate(folds):\n",
    "    print(\"*\"*10, i, \"*\"*10)\n",
    "    Xt = train.loc[idx]\n",
    "    yt = y_train.loc[Xt.index].target\n",
    "\n",
    "    Xv = train.drop(Xt.index)\n",
    "    yv = y_train.loc[Xv.index].target\n",
    "\n",
    "    learner = LGBMClassifier(n_estimators=1000, boosting_type='gbdt',min_child_samples=1500, \n",
    "                             colsample_bytree=0.8,subsample=0.8, max_bin=200, learning_rate=0.1)\n",
    "    learner.fit(Xt, yt,  early_stopping_rounds=10, eval_metric=\"auc\",\n",
    "                eval_set=[(Xt, yt), (Xv, yv)], verbose=50) # **fit_params\n",
    "    test_probs.append(pd.Series(learner.predict_proba(test)[:, -1], index=test.index, name=\"fold_\" + str(i)))\n",
    "    train_probs.append(pd.Series(learner.predict_proba(Xv)[:, -1], index=Xv.index, name=\"probs\"))\n",
    "    fi.append(pd.Series(learner.feature_importances_ / learner.feature_importances_.sum(), index=Xt.columns))\n",
    "\n",
    "test_probs = pd.concat(test_probs, axis=1).mean(axis=1)\n",
    "train_probs = pd.concat(train_probs)\n",
    "fi = pd.concat(fi, axis=1).mean(axis=1)\n",
    "print(\"*\" * 21)\n",
    "print(\"roc auc estimado: \", roc_auc_score(y_train, train_probs.loc[y_train.index]))\n",
    "print(\"roc auc varianza: \", np.std([roc_auc_score(y_train.loc[folds[i]], train_probs.iloc[folds[i]]) for i in range(len(folds))]))  "
   ]
  },
  {
   "cell_type": "code",
   "execution_count": 41,
   "id": "activated-sampling",
   "metadata": {
    "scrolled": true
   },
   "outputs": [
    {
     "data": {
      "text/plain": [
       "ciiu_mode                                            0.114273\n",
       "cod_instit_financiera_mode_ult1mes                   0.047966\n",
       "ubigeo_mode                                          0.038774\n",
       "cod_instit_financiera_mode_ult12mes                  0.031577\n",
       "cod_instit_financiera_mode_ult2mes                   0.027748\n",
       "cod_instit_financiera_mode_ult3mes                   0.020124\n",
       "cod_instit_financiera_mode_ult4mes                   0.016227\n",
       "cod_instit_financiera_mode_ult11mes                  0.015911\n",
       "cod_instit_financiera_mode_ult10mes                  0.015338\n",
       "cod_instit_financiera_mode_ult5mes                   0.013591\n",
       "cod_instit_financiera_mode_ult7mes                   0.013182\n",
       "cod_instit_financiera_mode_ult6mes                   0.012411\n",
       "cod_instit_financiera_mode_ult8mes                   0.012292\n",
       "RIESGO_DIRECTO_1_saldoUnique_ult1meses               0.012208\n",
       "cod_instit_financiera_mode_ult9mes                   0.012001\n",
       "edad                                                 0.009273\n",
       "tip_lvledu                                           0.008154\n",
       "COD_CLASIFICACION_DEUDOR_0_saldoUnique_ult12meses    0.007150\n",
       "codzona_mode                                         0.006832\n",
       "RIESGO_DIRECTO_-1_saldoMedian_ult1meses              0.006758\n",
       "sit_lab                                              0.006439\n",
       "RIESGO_DIRECTO_1_saldoStd_ult1meses                  0.006069\n",
       "RIESGO_DIRECTO_-1_saldoUnique_ult12meses             0.006056\n",
       "condicion_0_saldoUnique_ult12meses                   0.005830\n",
       "flg_sin_email                                        0.005437\n",
       "sexo                                                 0.005424\n",
       "PRODUCTO_mode_ult1mes                                0.005305\n",
       "RIESGO_DIRECTO_-1_saldoMedian_ult2meses              0.005088\n",
       "cod_ubi                                              0.004671\n",
       "RIESGO_DIRECTO_1_saldoMin_ult1meses                  0.004309\n",
       "tipo_credito_11_saldoUnique_ult12meses               0.004261\n",
       "RIESGO_DIRECTO_1_saldoUnique_ult12meses              0.003978\n",
       "estadocontribuyente_mode                             0.003913\n",
       "RIESGO_DIRECTO_1_saldoMax_ult12meses                 0.003830\n",
       "COD_CLASIFICACION_DEUDOR_5_saldoMax_ult1meses        0.003758\n",
       "cod_instit_financiera_max_ult1mes                    0.003573\n",
       "RIESGO_DIRECTO_1_saldoMedian_ult1meses               0.003443\n",
       "RIESGO_DIRECTO_1_saldoMedian_ult2meses               0.003381\n",
       "tipo_credito_11_saldoStd_ult1meses                   0.003242\n",
       "tipo_credito_12_saldoUnique_ult1meses                0.003178\n",
       "RIESGO_DIRECTO_1_saldoMedian_ult3meses               0.003121\n",
       "tipo_credito_11_saldoSum_ult1meses                   0.002986\n",
       "cod_ocu                                              0.002949\n",
       "cod_instit_financiera_min_ult1mes                    0.002928\n",
       "RIESGO_DIRECTO_1_saldoMax_ult1meses                  0.002914\n",
       "prv                                                  0.002891\n",
       "RIESGO_DIRECTO_1_saldoSum_ult1meses                  0.002885\n",
       "RIESGO_DIRECTO_1_saldoMean_ult1meses                 0.002847\n",
       "RIESGO_DIRECTO_-1_saldoSum_ult1meses                 0.002824\n",
       "RIESGO_DIRECTO_1_saldoUnique_ult2meses               0.002762\n",
       "dtype: float64"
      ]
     },
     "execution_count": 41,
     "metadata": {},
     "output_type": "execute_result"
    }
   ],
   "source": [
    "fi.sort_values(ascending=False).head(50)"
   ]
  },
  {
   "cell_type": "code",
   "execution_count": 42,
   "id": "standard-testing",
   "metadata": {},
   "outputs": [],
   "source": [
    "fi.to_pickle('fi_lightgbm_cf.pkl')"
   ]
  },
  {
   "cell_type": "code",
   "execution_count": 43,
   "id": "south-lafayette",
   "metadata": {},
   "outputs": [],
   "source": [
    "train_probs_lightgbm_cf = train_probs\n",
    "test_probs_lightgbm_cf= test_probs\n",
    "train_probs_lightgbm_cf.to_pickle('train_probs_lightgbm_cf.pkl')\n",
    "test_probs_lightgbm_cf.to_pickle('test_probs_lightgbm_cf.pkl')"
   ]
  },
  {
   "cell_type": "markdown",
   "id": "million-bread",
   "metadata": {},
   "source": [
    "## Manejo de Missing Values y Standarizacion"
   ]
  },
  {
   "cell_type": "code",
   "execution_count": 14,
   "id": "proper-wrestling",
   "metadata": {},
   "outputs": [],
   "source": [
    "var_categ = [i for i in train.columns if 'mode' in i]\n",
    "var_categ.extend(['sexo', 'est_cvl', 'sit_lab', 'cod_ocu', 'flg_sin_email', 'cod_ubi', 'lgr_vot', 'prv', 'dto', 'rgn', 'tip_lvledu'])\n",
    "for i in var_categ:\n",
    "    train[i] = train[i].fillna(train[i].value_counts().index[0])\n",
    "    test[i] = test[i].fillna(train[i].value_counts().index[0])"
   ]
  },
  {
   "cell_type": "code",
   "execution_count": 15,
   "id": "emerging-footwear",
   "metadata": {},
   "outputs": [],
   "source": [
    "var_cuanti = list(set(train.columns).difference(var_categ))\n",
    "for i in var_cuanti:\n",
    "    train[i] = train[i].fillna(train[i].median())\n",
    "    test[i] = test[i].fillna(train[i].median())"
   ]
  },
  {
   "cell_type": "code",
   "execution_count": 16,
   "id": "straight-shepherd",
   "metadata": {},
   "outputs": [],
   "source": [
    "from sklearn.preprocessing import StandardScaler\n",
    "scaler = StandardScaler()\n",
    "scaler.fit(train)\n",
    "train_scaled = scaler.transform(train)\n",
    "test_scaled = scaler.transform(test)"
   ]
  },
  {
   "cell_type": "code",
   "execution_count": 17,
   "id": "geographic-concert",
   "metadata": {},
   "outputs": [],
   "source": [
    "train = pd.DataFrame(train_scaled, index=train.index, columns=train.columns)\n",
    "test = pd.DataFrame(test_scaled, index=test.index, columns=test.columns)"
   ]
  },
  {
   "cell_type": "markdown",
   "id": "moving-chaos",
   "metadata": {},
   "source": [
    "## Entrenando RandomForestClassifier"
   ]
  },
  {
   "cell_type": "code",
   "execution_count": 20,
   "id": "primary-identity",
   "metadata": {
    "scrolled": true
   },
   "outputs": [
    {
     "name": "stdout",
     "output_type": "stream",
     "text": [
      "********** 0 **********\n"
     ]
    },
    {
     "name": "stderr",
     "output_type": "stream",
     "text": [
      "[Parallel(n_jobs=8)]: Using backend ThreadingBackend with 8 concurrent workers.\n",
      "[Parallel(n_jobs=8)]: Done  34 tasks      | elapsed:  1.5min\n",
      "[Parallel(n_jobs=8)]: Done 184 tasks      | elapsed:  8.0min\n",
      "[Parallel(n_jobs=8)]: Done 434 tasks      | elapsed: 18.4min\n",
      "[Parallel(n_jobs=8)]: Done 500 out of 500 | elapsed: 20.9min finished\n",
      "[Parallel(n_jobs=8)]: Using backend ThreadingBackend with 8 concurrent workers.\n",
      "[Parallel(n_jobs=8)]: Done  34 tasks      | elapsed:    4.0s\n",
      "[Parallel(n_jobs=8)]: Done 184 tasks      | elapsed:   21.4s\n",
      "[Parallel(n_jobs=8)]: Done 434 tasks      | elapsed:   50.3s\n",
      "[Parallel(n_jobs=8)]: Done 500 out of 500 | elapsed:   58.1s finished\n",
      "[Parallel(n_jobs=8)]: Using backend ThreadingBackend with 8 concurrent workers.\n",
      "[Parallel(n_jobs=8)]: Done  34 tasks      | elapsed:    0.6s\n",
      "[Parallel(n_jobs=8)]: Done 184 tasks      | elapsed:    3.8s\n",
      "[Parallel(n_jobs=8)]: Done 434 tasks      | elapsed:    9.0s\n",
      "[Parallel(n_jobs=8)]: Done 500 out of 500 | elapsed:   10.4s finished\n"
     ]
    },
    {
     "name": "stdout",
     "output_type": "stream",
     "text": [
      "********** 1 **********\n"
     ]
    },
    {
     "name": "stderr",
     "output_type": "stream",
     "text": [
      "[Parallel(n_jobs=8)]: Using backend ThreadingBackend with 8 concurrent workers.\n",
      "[Parallel(n_jobs=8)]: Done  34 tasks      | elapsed:  1.5min\n",
      "[Parallel(n_jobs=8)]: Done 184 tasks      | elapsed:  7.5min\n",
      "[Parallel(n_jobs=8)]: Done 434 tasks      | elapsed: 18.1min\n",
      "[Parallel(n_jobs=8)]: Done 500 out of 500 | elapsed: 20.6min finished\n",
      "[Parallel(n_jobs=8)]: Using backend ThreadingBackend with 8 concurrent workers.\n",
      "[Parallel(n_jobs=8)]: Done  34 tasks      | elapsed:    4.8s\n",
      "[Parallel(n_jobs=8)]: Done 184 tasks      | elapsed:   22.9s\n",
      "[Parallel(n_jobs=8)]: Done 434 tasks      | elapsed:   52.8s\n",
      "[Parallel(n_jobs=8)]: Done 500 out of 500 | elapsed:  1.0min finished\n",
      "[Parallel(n_jobs=8)]: Using backend ThreadingBackend with 8 concurrent workers.\n",
      "[Parallel(n_jobs=8)]: Done  34 tasks      | elapsed:    0.7s\n",
      "[Parallel(n_jobs=8)]: Done 184 tasks      | elapsed:    4.0s\n",
      "[Parallel(n_jobs=8)]: Done 434 tasks      | elapsed:    9.6s\n",
      "[Parallel(n_jobs=8)]: Done 500 out of 500 | elapsed:   11.0s finished\n"
     ]
    },
    {
     "name": "stdout",
     "output_type": "stream",
     "text": [
      "********** 2 **********\n"
     ]
    },
    {
     "name": "stderr",
     "output_type": "stream",
     "text": [
      "[Parallel(n_jobs=8)]: Using backend ThreadingBackend with 8 concurrent workers.\n",
      "[Parallel(n_jobs=8)]: Done  34 tasks      | elapsed:  1.7min\n",
      "[Parallel(n_jobs=8)]: Done 184 tasks      | elapsed:  8.2min\n",
      "[Parallel(n_jobs=8)]: Done 434 tasks      | elapsed: 18.0min\n",
      "[Parallel(n_jobs=8)]: Done 500 out of 500 | elapsed: 20.5min finished\n",
      "[Parallel(n_jobs=8)]: Using backend ThreadingBackend with 8 concurrent workers.\n",
      "[Parallel(n_jobs=8)]: Done  34 tasks      | elapsed:    4.8s\n",
      "[Parallel(n_jobs=8)]: Done 184 tasks      | elapsed:   23.6s\n",
      "[Parallel(n_jobs=8)]: Done 434 tasks      | elapsed:   55.0s\n",
      "[Parallel(n_jobs=8)]: Done 500 out of 500 | elapsed:  1.0min finished\n",
      "[Parallel(n_jobs=8)]: Using backend ThreadingBackend with 8 concurrent workers.\n",
      "[Parallel(n_jobs=8)]: Done  34 tasks      | elapsed:    0.7s\n",
      "[Parallel(n_jobs=8)]: Done 184 tasks      | elapsed:    4.1s\n",
      "[Parallel(n_jobs=8)]: Done 434 tasks      | elapsed:    9.7s\n",
      "[Parallel(n_jobs=8)]: Done 500 out of 500 | elapsed:   11.2s finished\n"
     ]
    },
    {
     "name": "stdout",
     "output_type": "stream",
     "text": [
      "********** 3 **********\n"
     ]
    },
    {
     "name": "stderr",
     "output_type": "stream",
     "text": [
      "[Parallel(n_jobs=8)]: Using backend ThreadingBackend with 8 concurrent workers.\n",
      "[Parallel(n_jobs=8)]: Done  34 tasks      | elapsed:  1.5min\n",
      "[Parallel(n_jobs=8)]: Done 184 tasks      | elapsed:  7.1min\n",
      "[Parallel(n_jobs=8)]: Done 434 tasks      | elapsed: 16.7min\n",
      "[Parallel(n_jobs=8)]: Done 500 out of 500 | elapsed: 19.3min finished\n",
      "[Parallel(n_jobs=8)]: Using backend ThreadingBackend with 8 concurrent workers.\n",
      "[Parallel(n_jobs=8)]: Done  34 tasks      | elapsed:    5.0s\n",
      "[Parallel(n_jobs=8)]: Done 184 tasks      | elapsed:   23.8s\n",
      "[Parallel(n_jobs=8)]: Done 434 tasks      | elapsed:   55.7s\n",
      "[Parallel(n_jobs=8)]: Done 500 out of 500 | elapsed:  1.1min finished\n",
      "[Parallel(n_jobs=8)]: Using backend ThreadingBackend with 8 concurrent workers.\n",
      "[Parallel(n_jobs=8)]: Done  34 tasks      | elapsed:    0.8s\n",
      "[Parallel(n_jobs=8)]: Done 184 tasks      | elapsed:    4.3s\n",
      "[Parallel(n_jobs=8)]: Done 434 tasks      | elapsed:   10.0s\n",
      "[Parallel(n_jobs=8)]: Done 500 out of 500 | elapsed:   11.5s finished\n"
     ]
    },
    {
     "name": "stdout",
     "output_type": "stream",
     "text": [
      "********** 4 **********\n"
     ]
    },
    {
     "name": "stderr",
     "output_type": "stream",
     "text": [
      "[Parallel(n_jobs=8)]: Using backend ThreadingBackend with 8 concurrent workers.\n",
      "[Parallel(n_jobs=8)]: Done  34 tasks      | elapsed:  1.7min\n",
      "[Parallel(n_jobs=8)]: Done 184 tasks      | elapsed:  7.8min\n",
      "[Parallel(n_jobs=8)]: Done 434 tasks      | elapsed: 18.3min\n",
      "[Parallel(n_jobs=8)]: Done 500 out of 500 | elapsed: 21.0min finished\n",
      "[Parallel(n_jobs=8)]: Using backend ThreadingBackend with 8 concurrent workers.\n",
      "[Parallel(n_jobs=8)]: Done  34 tasks      | elapsed:    4.8s\n",
      "[Parallel(n_jobs=8)]: Done 184 tasks      | elapsed:   23.0s\n",
      "[Parallel(n_jobs=8)]: Done 434 tasks      | elapsed:   53.8s\n",
      "[Parallel(n_jobs=8)]: Done 500 out of 500 | elapsed:  1.0min finished\n",
      "[Parallel(n_jobs=8)]: Using backend ThreadingBackend with 8 concurrent workers.\n",
      "[Parallel(n_jobs=8)]: Done  34 tasks      | elapsed:    0.7s\n",
      "[Parallel(n_jobs=8)]: Done 184 tasks      | elapsed:    3.9s\n",
      "[Parallel(n_jobs=8)]: Done 434 tasks      | elapsed:    9.2s\n",
      "[Parallel(n_jobs=8)]: Done 500 out of 500 | elapsed:   10.7s finished\n"
     ]
    },
    {
     "name": "stdout",
     "output_type": "stream",
     "text": [
      "*********************\n",
      "roc auc estimado:  0.8146696429928888\n",
      "roc auc varianza:  0.0009122445623507551\n"
     ]
    }
   ],
   "source": [
    "from sklearn.ensemble import RandomForestClassifier\n",
    "from sklearn.metrics import roc_auc_score\n",
    "from sklearn.model_selection import KFold\n",
    "import numpy as np\n",
    "folds = [train.index[t] for t, v in KFold(5).split(train)]\n",
    "test_probs = []\n",
    "train_probs = []\n",
    "fi = []\n",
    "for i, idx in enumerate(folds):\n",
    "    print(\"*\"*10, i, \"*\"*10)\n",
    "    Xt = train.loc[idx]\n",
    "    yt = y_train.loc[Xt.index].target\n",
    "\n",
    "    Xv = train.drop(Xt.index)\n",
    "    yv = y_train.loc[Xv.index].target\n",
    "\n",
    "    learner = RandomForestClassifier(n_estimators=500, criterion='gini', n_jobs=8, verbose=True,\n",
    "             random_state=407, oob_score=True)\n",
    "    \n",
    "    learner.fit(Xt, yt)\n",
    "    test_probs.append(pd.Series(learner.predict_proba(test)[:, -1], index=test.index, name=\"fold_\" + str(i)))\n",
    "    train_probs.append(pd.Series(learner.predict_proba(Xv)[:, -1], index=Xv.index, name=\"probs\"))\n",
    "    fi.append(pd.Series(learner.feature_importances_ / learner.feature_importances_.sum(), index=Xt.columns))\n",
    "\n",
    "test_probs = pd.concat(test_probs, axis=1).mean(axis=1)\n",
    "train_probs = pd.concat(train_probs)\n",
    "fi = pd.concat(fi, axis=1).mean(axis=1)\n",
    "print(\"*\" * 21)\n",
    "print(\"roc auc estimado: \", roc_auc_score(y_train, train_probs.loc[y_train.index]))\n",
    "print(\"roc auc varianza: \", np.std([roc_auc_score(y_train.loc[folds[i]], train_probs.iloc[folds[i]]) for i in range(len(folds))]))  "
   ]
  },
  {
   "cell_type": "code",
   "execution_count": 29,
   "id": "fluid-prairie",
   "metadata": {
    "scrolled": true
   },
   "outputs": [
    {
     "data": {
      "text/plain": [
       "COD_CLASIFICACION_DEUDOR_5_saldoMedian_ult1meses     0.007087\n",
       "COD_CLASIFICACION_DEUDOR_5_saldoSum_ult6meses        0.006830\n",
       "COD_CLASIFICACION_DEUDOR_5_saldoMin_ult1meses        0.006723\n",
       "COD_CLASIFICACION_DEUDOR_5_saldoSum_ult2meses        0.006568\n",
       "COD_CLASIFICACION_DEUDOR_5_saldoMean_ult1meses       0.006536\n",
       "COD_CLASIFICACION_DEUDOR_5_saldoMax_ult1meses        0.006252\n",
       "condicion_9_saldoSum_ult1meses                       0.005845\n",
       "COD_CLASIFICACION_DEUDOR_5_saldoSum_ult7meses        0.005770\n",
       "COD_CLASIFICACION_DEUDOR_5_saldoSum_ult8meses        0.004847\n",
       "condicion_9_saldoSum_ult12meses                      0.004768\n",
       "COD_CLASIFICACION_DEUDOR_3_saldoStd_ult5meses        0.003779\n",
       "COD_CLASIFICACION_DEUDOR_3_saldoUnique_ult11meses    0.003766\n",
       "COD_CLASIFICACION_DEUDOR_3_saldoUnique_ult10meses    0.003720\n",
       "COD_CLASIFICACION_DEUDOR_3_saldoMin_ult4meses        0.003478\n",
       "COD_CLASIFICACION_DEUDOR_5_saldoMean_ult9meses       0.003377\n",
       "edad                                                 0.003247\n",
       "cod_ubi                                              0.003208\n",
       "COD_CLASIFICACION_DEUDOR_3_saldoStd_ult4meses        0.003148\n",
       "RIESGO_DIRECTO_1_saldoSum_ult1meses                  0.002968\n",
       "dto                                                  0.002912\n",
       "COD_CLASIFICACION_DEUDOR_3_saldoStd_ult12meses       0.002759\n",
       "COD_CLASIFICACION_DEUDOR_3_saldoMean_ult9meses       0.002747\n",
       "condicion_9_saldoMin_ult9meses                       0.002735\n",
       "COD_CLASIFICACION_DEUDOR_0_saldoSum_ult1meses        0.002598\n",
       "RIESGO_DIRECTO_-1_saldoMedian_ult1meses              0.002553\n",
       "tipo_credito_12_saldoSum_ult1meses                   0.002553\n",
       "COD_CLASIFICACION_DEUDOR_3_saldoSum_ult9meses        0.002525\n",
       "cod_instit_financiera_max_ult1mes                    0.002433\n",
       "condicion_0_saldoSum_ult1meses                       0.002392\n",
       "RIESGO_DIRECTO_-1_saldoMedian_ult2meses              0.002346\n",
       "RIESGO_DIRECTO_-1_saldoSum_ult1meses                 0.002333\n",
       "prv                                                  0.002228\n",
       "condicion_9_saldoMedian_ult12meses                   0.002220\n",
       "RIESGO_DIRECTO_1_saldoSum_ult2meses                  0.002139\n",
       "RIESGO_DIRECTO_-1_saldoMedian_ult3meses              0.002137\n",
       "COD_CLASIFICACION_DEUDOR_1_saldoMin_ult2meses        0.002114\n",
       "cod_instit_financiera_max_ult2mes                    0.002100\n",
       "COD_CLASIFICACION_DEUDOR_3_saldoStd_ult9meses        0.002056\n",
       "COD_CLASIFICACION_DEUDOR_3_saldoMedian_ult4meses     0.002048\n",
       "lgr_vot                                              0.001996\n",
       "RIESGO_DIRECTO_2_saldoMax_ult6meses                  0.001961\n",
       "RIESGO_DIRECTO_-1_saldoMedian_ult4meses              0.001949\n",
       "COD_CLASIFICACION_DEUDOR_0_saldoSum_ult2meses        0.001938\n",
       "RIESGO_DIRECTO_-1_saldoSum_ult2meses                 0.001927\n",
       "RIESGO_DIRECTO_-1_saldoSum_ult12meses                0.001865\n",
       "condicion_9_saldoMedian_ult10meses                   0.001863\n",
       "condicion_0_saldoSum_ult2meses                       0.001853\n",
       "RIESGO_DIRECTO_-1_saldoMedian_ult5meses              0.001832\n",
       "RIESGO_DIRECTO_2_saldoMax_ult4meses                  0.001803\n",
       "condicion_0_saldoMedian_ult1meses                    0.001803\n",
       "dtype: float64"
      ]
     },
     "execution_count": 29,
     "metadata": {},
     "output_type": "execute_result"
    }
   ],
   "source": [
    "fi.sort_values(ascending=False).head(50)"
   ]
  },
  {
   "cell_type": "code",
   "execution_count": 23,
   "id": "elegant-retrieval",
   "metadata": {},
   "outputs": [],
   "source": [
    "fi.to_pickle('fi_randomforrest.pkl')"
   ]
  },
  {
   "cell_type": "code",
   "execution_count": 21,
   "id": "bearing-nurse",
   "metadata": {},
   "outputs": [],
   "source": [
    "train_probs_randomforrest = train_probs\n",
    "test_probs_randomforrest = test_probs\n",
    "train_probs_randomforrest.to_pickle('train_probs_randomforrest.pkl')\n",
    "test_probs_randomforrest.to_pickle('test_probs_randomforrest.pkl')"
   ]
  },
  {
   "cell_type": "markdown",
   "id": "detailed-groove",
   "metadata": {},
   "source": [
    "## Entrenando GradientBosstingClassifier"
   ]
  },
  {
   "cell_type": "code",
   "execution_count": 24,
   "id": "opposed-moment",
   "metadata": {
    "scrolled": true
   },
   "outputs": [
    {
     "name": "stdout",
     "output_type": "stream",
     "text": [
      "********** 0 **********\n",
      "      Iter       Train Loss      OOB Improve   Remaining Time \n",
      "         1           0.8321           0.0388          378.59m\n",
      "         2           0.8091           0.0233          373.85m\n",
      "         3           0.7922           0.0172          369.09m\n",
      "         4           0.7763           0.0143          364.49m\n",
      "         5           0.7660           0.0131          360.65m\n",
      "         6           0.7542           0.0101          361.26m\n",
      "         7           0.7452           0.0084          359.68m\n",
      "         8           0.7344           0.0095          357.16m\n",
      "         9           0.7283           0.0066          358.04m\n",
      "        10           0.7215           0.0062          359.43m\n",
      "        20           0.6699           0.0028          354.02m\n",
      "        30           0.6478           0.0012          347.56m\n",
      "        40           0.6287           0.0008          335.42m\n",
      "********** 1 **********\n",
      "      Iter       Train Loss      OOB Improve   Remaining Time \n",
      "         1           0.8330           0.0388          377.72m\n",
      "         2           0.8114           0.0228          375.97m\n",
      "         3           0.7903           0.0177          370.54m\n",
      "         4           0.7764           0.0142          365.10m\n",
      "         5           0.7688           0.0121          364.99m\n",
      "         6           0.7562           0.0109          362.49m\n",
      "         7           0.7440           0.0080          362.06m\n",
      "         8           0.7362           0.0094          361.27m\n",
      "         9           0.7279           0.0077          360.43m\n",
      "        10           0.7231           0.0072          359.83m\n",
      "        20           0.6715           0.0029          347.95m\n",
      "        30           0.6510           0.0011          341.05m\n",
      "        40           0.6321           0.0015          331.63m\n",
      "        50           0.6222           0.0006          319.92m\n",
      "********** 2 **********\n",
      "      Iter       Train Loss      OOB Improve   Remaining Time \n",
      "         1           0.8313           0.0387          350.93m\n",
      "         2           0.8124           0.0223          349.38m\n",
      "         3           0.7921           0.0189          348.98m\n",
      "         4           0.7763           0.0133          349.57m\n",
      "         5           0.7664           0.0112          346.94m\n",
      "         6           0.7563           0.0093          344.98m\n",
      "         7           0.7451           0.0095          342.63m\n",
      "         8           0.7359           0.0098          342.21m\n",
      "         9           0.7294           0.0075          341.64m\n",
      "        10           0.7243           0.0070          340.83m\n",
      "        20           0.6732           0.0023          328.13m\n",
      "        30           0.6511           0.0019          319.31m\n",
      "        40           0.6368           0.0006          313.19m\n",
      "********** 3 **********\n",
      "      Iter       Train Loss      OOB Improve   Remaining Time \n",
      "         1           0.8346           0.0364          328.17m\n",
      "         2           0.8131           0.0232          327.14m\n",
      "         3           0.7936           0.0184          334.39m\n",
      "         4           0.7778           0.0145          341.82m\n",
      "         5           0.7669           0.0130          344.70m\n",
      "         6           0.7543           0.0102          346.70m\n",
      "         7           0.7432           0.0109          345.63m\n",
      "         8           0.7353           0.0075          344.57m\n",
      "         9           0.7310           0.0073          346.23m\n",
      "        10           0.7241           0.0071          346.55m\n",
      "        20           0.6698           0.0028          330.11m\n",
      "        30           0.6494           0.0015          322.14m\n",
      "        40           0.6345           0.0013          313.60m\n",
      "********** 4 **********\n",
      "      Iter       Train Loss      OOB Improve   Remaining Time \n",
      "         1           0.8348           0.0400          343.36m\n",
      "         2           0.8115           0.0238          350.79m\n",
      "         3           0.7945           0.0178          356.22m\n",
      "         4           0.7788           0.0148          349.91m\n",
      "         5           0.7659           0.0136          347.32m\n",
      "         6           0.7567           0.0102          345.53m\n",
      "         7           0.7442           0.0114          344.23m\n",
      "         8           0.7347           0.0087          342.71m\n",
      "         9           0.7268           0.0057          341.85m\n",
      "        10           0.7196           0.0071          343.22m\n",
      "        20           0.6724           0.0025          330.31m\n",
      "        30           0.6481           0.0017          336.97m\n",
      "        40           0.6312           0.0012          338.87m\n",
      "*********************\n",
      "roc auc estimado:  0.8217984552789753\n",
      "roc auc varianza:  0.0007867979955547076\n"
     ]
    }
   ],
   "source": [
    "# https://scikit-learn.org/stable/modules/generated/sklearn.ensemble.GradientBoostingClassifier.html#sklearn.ensemble.GradientBoostingClassifier.fit\n",
    "from sklearn.ensemble import GradientBoostingClassifier\n",
    "from sklearn.metrics import roc_auc_score\n",
    "from sklearn.model_selection import KFold\n",
    "import numpy as np\n",
    "folds = [train.index[t] for t, v in KFold(5).split(train)]\n",
    "test_probs = []\n",
    "train_probs = []\n",
    "fi = []\n",
    "for i, idx in enumerate(folds):\n",
    "    print(\"*\"*10, i, \"*\"*10)\n",
    "    Xt = train.loc[idx]\n",
    "    yt = y_train.loc[Xt.index].target\n",
    "\n",
    "    Xv = train.drop(Xt.index)\n",
    "    yv = y_train.loc[Xv.index].target\n",
    "\n",
    "    learner = GradientBoostingClassifier(n_estimators=500, learning_rate=0.1, subsample=0.8,\n",
    "                                         max_depth=5, verbose=1, max_features=0.82, random_state=407,\n",
    "                                         n_iter_no_change = 10, tol=0.01, validation_fraction = 0.2)\n",
    "   \n",
    "    learner.fit(Xt, yt)        \n",
    "    test_probs.append(pd.Series(learner.predict_proba(test)[:, -1], index=test.index, name=\"fold_\" + str(i)))\n",
    "    train_probs.append(pd.Series(learner.predict_proba(Xv)[:, -1], index=Xv.index, name=\"probs\"))\n",
    "    fi.append(pd.Series(learner.feature_importances_ / learner.feature_importances_.sum(), index=Xt.columns))\n",
    "\n",
    "test_probs = pd.concat(test_probs, axis=1).mean(axis=1)\n",
    "train_probs = pd.concat(train_probs)\n",
    "fi = pd.concat(fi, axis=1).mean(axis=1)\n",
    "print(\"*\" * 21)\n",
    "print(\"roc auc estimado: \", roc_auc_score(y_train, train_probs.loc[y_train.index]))\n",
    "print(\"roc auc varianza: \", np.std([roc_auc_score(y_train.loc[folds[i]], train_probs.iloc[folds[i]]) for i in range(len(folds))]))  "
   ]
  },
  {
   "cell_type": "code",
   "execution_count": 25,
   "id": "departmental-launch",
   "metadata": {
    "scrolled": true
   },
   "outputs": [
    {
     "data": {
      "text/plain": [
       "COD_CLASIFICACION_DEUDOR_5_saldoSum_ult2meses        0.087982\n",
       "COD_CLASIFICACION_DEUDOR_5_saldoSum_ult8meses        0.075562\n",
       "COD_CLASIFICACION_DEUDOR_5_saldoSum_ult7meses        0.051145\n",
       "COD_CLASIFICACION_DEUDOR_3_saldoUnique_ult11meses    0.050670\n",
       "condicion_9_saldoSum_ult1meses                       0.036233\n",
       "cod_instit_financiera_max_ult1mes                    0.032778\n",
       "COD_CLASIFICACION_DEUDOR_3_saldoUnique_ult10meses    0.031949\n",
       "RIESGO_DIRECTO_2_saldoSum_ult2meses                  0.028899\n",
       "COD_CLASIFICACION_DEUDOR_1_saldoMin_ult2meses        0.021091\n",
       "tipo_credito_12_saldoSum_ult1meses                   0.019191\n",
       "tipo_credito_11_saldoUnique_ult12meses               0.018177\n",
       "COD_CLASIFICACION_DEUDOR_5_saldoMedian_ult1meses     0.016533\n",
       "tipo_credito_11_saldoMean_ult1meses                  0.016202\n",
       "COD_CLASIFICACION_DEUDOR_5_saldoMax_ult1meses        0.016034\n",
       "RIESGO_DIRECTO_1_saldoSum_ult1meses                  0.015525\n",
       "COD_CLASIFICACION_DEUDOR_3_saldoStd_ult12meses       0.014678\n",
       "cod_instit_financiera_nunique_ult1mes                0.014588\n",
       "RIESGO_DIRECTO_2_saldoMax_ult5meses                  0.013383\n",
       "COD_CLASIFICACION_DEUDOR_1_saldoMin_ult4meses        0.012436\n",
       "COD_CLASIFICACION_DEUDOR_5_saldoSum_ult6meses        0.012416\n",
       "cod_instit_financiera_mode_ult1mes                   0.011476\n",
       "RIESGO_DIRECTO_-1_saldoMedian_ult1meses              0.011466\n",
       "COD_CLASIFICACION_DEUDOR_5_saldoMean_ult1meses       0.009904\n",
       "RIESGO_DIRECTO_2_saldoMax_ult4meses                  0.009382\n",
       "COD_CLASIFICACION_DEUDOR_1_saldoSum_ult3meses        0.009287\n",
       "COD_CLASIFICACION_DEUDOR_3_saldoStd_ult5meses        0.008396\n",
       "RIESGO_DIRECTO_2_saldoMax_ult1meses                  0.007358\n",
       "COD_CLASIFICACION_DEUDOR_1_saldoUnique_ult4meses     0.007265\n",
       "RIESGO_DIRECTO_2_saldoSum_ult4meses                  0.007249\n",
       "RIESGO_DIRECTO_-1_saldoMedian_ult2meses              0.006961\n",
       "COD_CLASIFICACION_DEUDOR_1_saldoUnique_ult2meses     0.006369\n",
       "RIESGO_DIRECTO_2_saldoMax_ult2meses                  0.006364\n",
       "tip_lvledu                                           0.006327\n",
       "PRODUCTO_min_ult1mes                                 0.006266\n",
       "COD_CLASIFICACION_DEUDOR_0_saldoUnique_ult1meses     0.006247\n",
       "condicion_9_saldoSum_ult12meses                      0.006098\n",
       "COD_CLASIFICACION_DEUDOR_0_saldoUnique_ult12meses    0.006001\n",
       "COD_CLASIFICACION_DEUDOR_1_saldoMean_ult2meses       0.005941\n",
       "RIESGO_DIRECTO_1_saldoUnique_ult1meses               0.005804\n",
       "COD_CLASIFICACION_DEUDOR_0_saldoSum_ult1meses        0.005499\n",
       "RIESGO_DIRECTO_2_saldoMax_ult6meses                  0.005406\n",
       "sit_lab                                              0.005402\n",
       "RIESGO_DIRECTO_-1_saldoUnique_ult12meses             0.004869\n",
       "edad                                                 0.004803\n",
       "COD_CLASIFICACION_DEUDOR_1_saldoSum_ult2meses        0.004784\n",
       "COD_CLASIFICACION_DEUDOR_1_saldoMin_ult1meses        0.004701\n",
       "COD_CLASIFICACION_DEUDOR_1_saldoMin_ult3meses        0.004627\n",
       "flg_sin_email                                        0.004061\n",
       "tipo_credito_11_saldoSum_ult1meses                   0.003869\n",
       "condicion_0_saldoUnique_ult12meses                   0.003797\n",
       "dtype: float64"
      ]
     },
     "execution_count": 25,
     "metadata": {},
     "output_type": "execute_result"
    }
   ],
   "source": [
    "fi.sort_values(ascending=False).head(50)"
   ]
  },
  {
   "cell_type": "code",
   "execution_count": 26,
   "id": "limiting-canberra",
   "metadata": {},
   "outputs": [],
   "source": [
    "fi.to_pickle('fi_gbc.pkl')"
   ]
  },
  {
   "cell_type": "code",
   "execution_count": 27,
   "id": "dedicated-advertising",
   "metadata": {},
   "outputs": [],
   "source": [
    "train_probs_gbc = train_probs\n",
    "test_probs_gbc = test_probs\n",
    "train_probs_gbc.to_pickle('train_probs_gbc.pkl')\n",
    "test_probs_gbc.to_pickle('test_probs_gbc.pkl')"
   ]
  },
  {
   "cell_type": "code",
   "execution_count": 33,
   "id": "advisory-gravity",
   "metadata": {},
   "outputs": [
    {
     "data": {
      "text/plain": [
       "float64    1123\n",
       "dtype: int64"
      ]
     },
     "execution_count": 33,
     "metadata": {},
     "output_type": "execute_result"
    }
   ],
   "source": [
    "train.dtypes.value_counts()"
   ]
  }
 ],
 "metadata": {
  "kernelspec": {
   "display_name": "Python 3",
   "language": "python",
   "name": "python3"
  },
  "language_info": {
   "codemirror_mode": {
    "name": "ipython",
    "version": 3
   },
   "file_extension": ".py",
   "mimetype": "text/x-python",
   "name": "python",
   "nbconvert_exporter": "python",
   "pygments_lexer": "ipython3",
   "version": "3.8.5"
  }
 },
 "nbformat": 4,
 "nbformat_minor": 5
}
