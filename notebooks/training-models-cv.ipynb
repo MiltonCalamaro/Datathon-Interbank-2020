{
 "cells": [
  {
   "cell_type": "code",
   "execution_count": 12,
   "metadata": {
    "execution": {
     "iopub.execute_input": "2021-02-14T10:36:23.032866Z",
     "iopub.status.busy": "2021-02-14T10:36:23.032100Z",
     "iopub.status.idle": "2021-02-14T10:36:24.216056Z",
     "shell.execute_reply": "2021-02-14T10:36:24.215445Z"
    },
    "papermill": {
     "duration": 1.199245,
     "end_time": "2021-02-14T10:36:24.216244",
     "exception": false,
     "start_time": "2021-02-14T10:36:23.016999",
     "status": "completed"
    },
    "tags": []
   },
   "outputs": [],
   "source": [
    "import numpy as np # linear algebra\n",
    "import pandas as pd # data processing, CSV file I/O (e.g. pd.read_csv)\n",
    "import gc\n",
    "from lightgbm import LGBMClassifier\n",
    "from sklearn.ensemble import GradientBoostingClassifier\n",
    "from catboost import CatBoostClassifier\n",
    "from sklearn.metrics import roc_auc_score\n",
    "from sklearn.model_selection import KFold"
   ]
  },
  {
   "cell_type": "code",
   "execution_count": 3,
   "metadata": {
    "execution": {
     "iopub.execute_input": "2021-02-14T10:36:24.247473Z",
     "iopub.status.busy": "2021-02-14T10:36:24.246785Z",
     "iopub.status.idle": "2021-02-14T10:36:50.783955Z",
     "shell.execute_reply": "2021-02-14T10:36:50.783336Z"
    },
    "papermill": {
     "duration": 26.554965,
     "end_time": "2021-02-14T10:36:50.784129",
     "exception": false,
     "start_time": "2021-02-14T10:36:24.229164",
     "status": "completed"
    },
    "tags": []
   },
   "outputs": [],
   "source": [
    "train = pd.read_pickle('../data/train_1628features.pkl')\n",
    "test = pd.read_pickle('../data/test_1628features.pkl')\n",
    "y_train = pd.read_csv('../data/y_train.csv', index_col = 'key_value')"
   ]
  },
  {
   "cell_type": "code",
   "execution_count": 4,
   "metadata": {
    "execution": {
     "iopub.execute_input": "2021-02-14T10:36:50.827105Z",
     "iopub.status.busy": "2021-02-14T10:36:50.825182Z",
     "iopub.status.idle": "2021-02-14T10:36:50.827830Z",
     "shell.execute_reply": "2021-02-14T10:36:50.828327Z"
    },
    "papermill": {
     "duration": 0.03134,
     "end_time": "2021-02-14T10:36:50.828526",
     "exception": false,
     "start_time": "2021-02-14T10:36:50.797186",
     "status": "completed"
    },
    "tags": []
   },
   "outputs": [],
   "source": [
    "def cross_validation_lightgbm(train, y_train, test):\n",
    "    folds = [train.index[t] for t, v in KFold(5).split(train)]\n",
    "    test_probs = []\n",
    "    train_probs = []\n",
    "    fi = []\n",
    "    for i, idx in enumerate(folds):\n",
    "        print(\"*\"*10, i, \"*\"*10)\n",
    "        Xt = train.loc[idx]\n",
    "        yt = y_train.loc[Xt.index].target\n",
    "\n",
    "        Xv = train.drop(Xt.index)\n",
    "        yv = y_train.loc[Xv.index].target\n",
    "\n",
    "        learner = LGBMClassifier(n_estimators=1000, boosting_type='gbdt',min_child_samples=1500, colsample_bytree=0.8,\n",
    "                       subsample=0.8, max_bin=200, learning_rate=0.1, random_state=42)\n",
    "\n",
    "        learner.fit(Xt, yt,  early_stopping_rounds=10, eval_metric=\"auc\",\n",
    "                    eval_set=[(Xt, yt), (Xv, yv)], verbose=100)\n",
    "        test_probs.append(pd.Series(learner.predict_proba(test)[:, -1], index=test.index, name=\"fold_\" + str(i)))\n",
    "        train_probs.append(pd.Series(learner.predict_proba(Xv)[:, -1], index=Xv.index, name=\"probs\"))\n",
    "        fi.append(pd.Series(learner.feature_importances_ / learner.feature_importances_.sum(), index=Xt.columns))\n",
    "        gc.collect()\n",
    "    test_probs = pd.concat(test_probs, axis=1).mean(axis=1)\n",
    "    train_probs = pd.concat(train_probs)\n",
    "    fi = pd.concat(fi, axis=1).mean(axis=1)\n",
    "    print(\"*\" * 21)\n",
    "    print(\"roc auc estimado: \", roc_auc_score(y_train, train_probs.loc[y_train.index]))\n",
    "    print(\"roc auc varianza: \", np.std([roc_auc_score(y_train.loc[folds[i]], train_probs.iloc[folds[i]]) for i in range(len(folds))]))\n",
    "    return fi, train_probs, test_probs"
   ]
  },
  {
   "cell_type": "code",
   "execution_count": 10,
   "metadata": {
    "execution": {
     "iopub.execute_input": "2021-02-14T12:00:26.760951Z",
     "iopub.status.busy": "2021-02-14T12:00:26.760286Z",
     "iopub.status.idle": "2021-02-14T12:24:21.150445Z",
     "shell.execute_reply": "2021-02-14T12:24:21.149812Z"
    },
    "papermill": {
     "duration": 1434.421961,
     "end_time": "2021-02-14T12:24:21.150631",
     "exception": false,
     "start_time": "2021-02-14T12:00:26.728670",
     "status": "completed"
    },
    "scrolled": true,
    "tags": []
   },
   "outputs": [
    {
     "name": "stdout",
     "output_type": "stream",
     "text": [
      "********** 0 **********\n",
      "Training until validation scores don't improve for 10 rounds\n",
      "[100]\ttraining's auc: 0.865738\ttraining's binary_logloss: 0.284699\tvalid_1's auc: 0.851391\tvalid_1's binary_logloss: 0.296529\n",
      "[200]\ttraining's auc: 0.880347\ttraining's binary_logloss: 0.272856\tvalid_1's auc: 0.854319\tvalid_1's binary_logloss: 0.29402\n",
      "Early stopping, best iteration is:\n",
      "[244]\ttraining's auc: 0.885404\ttraining's binary_logloss: 0.268735\tvalid_1's auc: 0.854716\tvalid_1's binary_logloss: 0.293637\n",
      "********** 1 **********\n",
      "Training until validation scores don't improve for 10 rounds\n",
      "[100]\ttraining's auc: 0.865794\ttraining's binary_logloss: 0.284651\tvalid_1's auc: 0.850808\tvalid_1's binary_logloss: 0.296588\n",
      "[200]\ttraining's auc: 0.880467\ttraining's binary_logloss: 0.272648\tvalid_1's auc: 0.854028\tvalid_1's binary_logloss: 0.293849\n",
      "Early stopping, best iteration is:\n",
      "[265]\ttraining's auc: 0.887901\ttraining's binary_logloss: 0.266562\tvalid_1's auc: 0.854848\tvalid_1's binary_logloss: 0.293288\n",
      "********** 2 **********\n",
      "Training until validation scores don't improve for 10 rounds\n",
      "[100]\ttraining's auc: 0.865887\ttraining's binary_logloss: 0.285039\tvalid_1's auc: 0.853159\tvalid_1's binary_logloss: 0.293918\n",
      "[200]\ttraining's auc: 0.880171\ttraining's binary_logloss: 0.273201\tvalid_1's auc: 0.855751\tvalid_1's binary_logloss: 0.291379\n",
      "Early stopping, best iteration is:\n",
      "[279]\ttraining's auc: 0.888909\ttraining's binary_logloss: 0.265984\tvalid_1's auc: 0.85635\tvalid_1's binary_logloss: 0.290949\n",
      "********** 3 **********\n",
      "Training until validation scores don't improve for 10 rounds\n",
      "[100]\ttraining's auc: 0.865651\ttraining's binary_logloss: 0.285137\tvalid_1's auc: 0.852097\tvalid_1's binary_logloss: 0.294743\n",
      "[200]\ttraining's auc: 0.880212\ttraining's binary_logloss: 0.27327\tvalid_1's auc: 0.855034\tvalid_1's binary_logloss: 0.292045\n",
      "Early stopping, best iteration is:\n",
      "[249]\ttraining's auc: 0.885851\ttraining's binary_logloss: 0.268653\tvalid_1's auc: 0.855311\tvalid_1's binary_logloss: 0.291696\n",
      "********** 4 **********\n",
      "Training until validation scores don't improve for 10 rounds\n",
      "[100]\ttraining's auc: 0.867849\ttraining's binary_logloss: 0.283948\tvalid_1's auc: 0.843762\tvalid_1's binary_logloss: 0.298417\n",
      "[200]\ttraining's auc: 0.882413\ttraining's binary_logloss: 0.271778\tvalid_1's auc: 0.846233\tvalid_1's binary_logloss: 0.296189\n",
      "Early stopping, best iteration is:\n",
      "[220]\ttraining's auc: 0.884711\ttraining's binary_logloss: 0.269782\tvalid_1's auc: 0.846557\tvalid_1's binary_logloss: 0.29597\n",
      "*********************\n",
      "roc auc estimado:  0.8536013223435366\n",
      "roc auc varianza:  0.0008645519670124977\n"
     ]
    }
   ],
   "source": [
    "fi_lightgbm, train_probs_lightgbm, test_probs_lightgbm = cross_validation_lightgbm(train,\n",
    "                                                                                   y_train,\n",
    "                                                                                   test)"
   ]
  },
  {
   "cell_type": "code",
   "execution_count": 15,
   "metadata": {
    "execution": {
     "iopub.execute_input": "2021-02-14T12:36:45.615155Z",
     "iopub.status.busy": "2021-02-14T12:36:45.614060Z",
     "iopub.status.idle": "2021-02-14T12:36:45.651120Z",
     "shell.execute_reply": "2021-02-14T12:36:45.650474Z"
    },
    "papermill": {
     "duration": 0.089597,
     "end_time": "2021-02-14T12:36:45.651329",
     "exception": false,
     "start_time": "2021-02-14T12:36:45.561732",
     "status": "completed"
    },
    "tags": []
   },
   "outputs": [],
   "source": [
    "fi_lightgbm.to_pickle('fi_lightgbm.pkl')\n",
    "train_probs_lightgbm.to_pickle('train_probs_lightgbm.pkl')\n",
    "test_probs_lightgbm.to_pickle('test_probs_lightgbm.pkl')"
   ]
  },
  {
   "cell_type": "code",
   "execution_count": 6,
   "metadata": {
    "execution": {
     "iopub.execute_input": "2021-02-14T10:36:50.916905Z",
     "iopub.status.busy": "2021-02-14T10:36:50.916186Z",
     "iopub.status.idle": "2021-02-14T10:36:50.919695Z",
     "shell.execute_reply": "2021-02-14T10:36:50.919172Z"
    },
    "papermill": {
     "duration": 0.031277,
     "end_time": "2021-02-14T10:36:50.919868",
     "exception": false,
     "start_time": "2021-02-14T10:36:50.888591",
     "status": "completed"
    },
    "tags": []
   },
   "outputs": [],
   "source": [
    "def cross_validation_catboost(train, y_train, test):\n",
    "    folds = [train.index[t] for t, v in KFold(5).split(train)]\n",
    "    test_probs = []\n",
    "    train_probs = []\n",
    "    fi = []\n",
    "    for i, idx in enumerate(folds):\n",
    "        print(\"*\"*10, i, \"*\"*10)\n",
    "        Xt = train.loc[idx]\n",
    "        yt = y_train.loc[Xt.index]\n",
    "\n",
    "        Xv = train.drop(Xt.index)\n",
    "        yv = y_train.loc[Xv.index]\n",
    "\n",
    "        learner = CatBoostClassifier(n_estimators=1000, eval_metric = 'AUC', max_depth=6, random_state=42)\n",
    "\n",
    "        learner.fit(Xt, yt,  early_stopping_rounds=10, \n",
    "                    eval_set=[(Xt, yt), (Xv, yv)], verbose=100)\n",
    "        test_probs.append(pd.Series(learner.predict_proba(test)[:, -1], index=test.index, name=\"fold_\" + str(i)))\n",
    "        train_probs.append(pd.Series(learner.predict_proba(Xv)[:, -1], index=Xv.index, name=\"probs\"))\n",
    "        fi.append(pd.Series(learner.feature_importances_ / learner.feature_importances_.sum(), index=Xt.columns))\n",
    "        gc.collect()\n",
    "    test_probs = pd.concat(test_probs, axis=1).mean(axis=1)\n",
    "    train_probs = pd.concat(train_probs)\n",
    "    fi = pd.concat(fi, axis=1).mean(axis=1)\n",
    "    print(\"*\" * 21)\n",
    "    print(\"roc auc estimado: \", roc_auc_score(y_train, train_probs.loc[y_train.index]))\n",
    "    print(\"roc auc varianza: \", np.std([roc_auc_score(y_train.loc[folds[i]], train_probs.iloc[folds[i]]) for i in range(len(folds))]))\n",
    "    return fi, train_probs, test_probs"
   ]
  },
  {
   "cell_type": "code",
   "execution_count": 8,
   "metadata": {
    "execution": {
     "iopub.execute_input": "2021-02-14T10:36:51.076081Z",
     "iopub.status.busy": "2021-02-14T10:36:51.075454Z",
     "iopub.status.idle": "2021-02-14T12:00:26.501515Z",
     "shell.execute_reply": "2021-02-14T12:00:26.502366Z"
    },
    "papermill": {
     "duration": 5015.443766,
     "end_time": "2021-02-14T12:00:26.502840",
     "exception": false,
     "start_time": "2021-02-14T10:36:51.059074",
     "status": "completed"
    },
    "scrolled": true,
    "tags": []
   },
   "outputs": [
    {
     "name": "stdout",
     "output_type": "stream",
     "text": [
      "********** 0 **********\n",
      "Learning rate set to 0.128212\n",
      "0:\ttest: 0.7126292\ttest1: 0.7167120\tbest: 0.7167120 (0)\ttotal: 1.08s\tremaining: 17m 59s\n",
      "100:\ttest: 0.8472001\ttest1: 0.8430424\tbest: 0.8430424 (100)\ttotal: 1m 43s\tremaining: 15m 17s\n",
      "200:\ttest: 0.8579057\ttest1: 0.8487810\tbest: 0.8487810 (200)\ttotal: 3m 19s\tremaining: 13m 13s\n",
      "300:\ttest: 0.8647767\ttest1: 0.8505776\tbest: 0.8506045 (298)\ttotal: 4m 52s\tremaining: 11m 18s\n",
      "400:\ttest: 0.8703525\ttest1: 0.8516663\tbest: 0.8516825 (399)\ttotal: 6m 23s\tremaining: 9m 32s\n",
      "Stopped by overfitting detector  (10 iterations wait)\n",
      "\n",
      "bestTest = 0.8519151207\n",
      "bestIteration = 439\n",
      "\n",
      "Shrink model to first 440 iterations.\n",
      "********** 1 **********\n",
      "Learning rate set to 0.128212\n",
      "0:\ttest: 0.7252973\ttest1: 0.7240042\tbest: 0.7240042 (0)\ttotal: 901ms\tremaining: 15m\n",
      "100:\ttest: 0.8475386\ttest1: 0.8432957\tbest: 0.8432957 (100)\ttotal: 1m 42s\tremaining: 15m 15s\n",
      "200:\ttest: 0.8577914\ttest1: 0.8485744\tbest: 0.8485744 (200)\ttotal: 3m 18s\tremaining: 13m 8s\n",
      "300:\ttest: 0.8647701\ttest1: 0.8506396\tbest: 0.8506442 (299)\ttotal: 4m 52s\tremaining: 11m 19s\n",
      "400:\ttest: 0.8708970\ttest1: 0.8518433\tbest: 0.8518433 (400)\ttotal: 6m 29s\tremaining: 9m 41s\n",
      "Stopped by overfitting detector  (10 iterations wait)\n",
      "\n",
      "bestTest = 0.8524296122\n",
      "bestIteration = 477\n",
      "\n",
      "Shrink model to first 478 iterations.\n",
      "********** 2 **********\n",
      "Learning rate set to 0.128212\n",
      "0:\ttest: 0.7067441\ttest1: 0.7154488\tbest: 0.7154488 (0)\ttotal: 822ms\tremaining: 13m 40s\n",
      "100:\ttest: 0.8471179\ttest1: 0.8470211\tbest: 0.8470211 (100)\ttotal: 1m 42s\tremaining: 15m 11s\n",
      "200:\ttest: 0.8576826\ttest1: 0.8518828\tbest: 0.8518910 (197)\ttotal: 3m 20s\tremaining: 13m 16s\n",
      "300:\ttest: 0.8649036\ttest1: 0.8538108\tbest: 0.8538233 (299)\ttotal: 4m 59s\tremaining: 11m 35s\n",
      "Stopped by overfitting detector  (10 iterations wait)\n",
      "\n",
      "bestTest = 0.8544592132\n",
      "bestIteration = 383\n",
      "\n",
      "Shrink model to first 384 iterations.\n",
      "********** 3 **********\n",
      "Learning rate set to 0.128212\n",
      "0:\ttest: 0.7488236\ttest1: 0.7524302\tbest: 0.7524302 (0)\ttotal: 1.1s\tremaining: 18m 23s\n",
      "100:\ttest: 0.8472252\ttest1: 0.8445234\tbest: 0.8445234 (100)\ttotal: 1m 48s\tremaining: 16m 8s\n",
      "200:\ttest: 0.8576584\ttest1: 0.8496700\tbest: 0.8496700 (200)\ttotal: 3m 25s\tremaining: 13m 37s\n",
      "300:\ttest: 0.8644989\ttest1: 0.8515370\tbest: 0.8515370 (300)\ttotal: 5m\tremaining: 11m 37s\n",
      "400:\ttest: 0.8705087\ttest1: 0.8525232\tbest: 0.8525299 (395)\ttotal: 6m 32s\tremaining: 9m 46s\n",
      "Stopped by overfitting detector  (10 iterations wait)\n",
      "\n",
      "bestTest = 0.8525915076\n",
      "bestIteration = 409\n",
      "\n",
      "Shrink model to first 410 iterations.\n",
      "********** 4 **********\n",
      "Learning rate set to 0.128212\n",
      "0:\ttest: 0.7317269\ttest1: 0.7153483\tbest: 0.7153483 (0)\ttotal: 836ms\tremaining: 13m 54s\n",
      "100:\ttest: 0.8496235\ttest1: 0.8368401\tbest: 0.8368401 (100)\ttotal: 1m 43s\tremaining: 15m 25s\n",
      "200:\ttest: 0.8593715\ttest1: 0.8411546\tbest: 0.8411546 (200)\ttotal: 3m 21s\tremaining: 13m 20s\n",
      "300:\ttest: 0.8663255\ttest1: 0.8430043\tbest: 0.8430043 (300)\ttotal: 5m\tremaining: 11m 37s\n",
      "Stopped by overfitting detector  (10 iterations wait)\n",
      "\n",
      "bestTest = 0.8437317984\n",
      "bestIteration = 356\n",
      "\n",
      "Shrink model to first 357 iterations.\n",
      "*********************\n",
      "roc auc estimado:  0.851071537368298\n",
      "roc auc varianza:  0.0009108810476912029\n"
     ]
    }
   ],
   "source": [
    "fi_catboost, train_probs_catboost, test_probs_catboost = cross_validation_catboost(train,\n",
    "                                                                                   y_train,\n",
    "                                                                                   test)"
   ]
  },
  {
   "cell_type": "code",
   "execution_count": 16,
   "metadata": {
    "execution": {
     "iopub.execute_input": "2021-02-14T12:36:45.750431Z",
     "iopub.status.busy": "2021-02-14T12:36:45.749447Z",
     "iopub.status.idle": "2021-02-14T12:36:45.785932Z",
     "shell.execute_reply": "2021-02-14T12:36:45.785053Z"
    },
    "papermill": {
     "duration": 0.088774,
     "end_time": "2021-02-14T12:36:45.786168",
     "exception": false,
     "start_time": "2021-02-14T12:36:45.697394",
     "status": "completed"
    },
    "tags": []
   },
   "outputs": [],
   "source": [
    "fi_catboost.to_pickle('fi_catboost.pkl')\n",
    "train_probs_catboost.to_pickle('train_probs_catboost.pkl')\n",
    "test_probs_catboost.to_pickle('test_probs_catboost.pkl')"
   ]
  },
  {
   "cell_type": "code",
   "execution_count": 5,
   "metadata": {
    "execution": {
     "iopub.execute_input": "2021-02-14T10:36:50.868983Z",
     "iopub.status.busy": "2021-02-14T10:36:50.863809Z",
     "iopub.status.idle": "2021-02-14T10:36:50.875080Z",
     "shell.execute_reply": "2021-02-14T10:36:50.874353Z"
    },
    "papermill": {
     "duration": 0.033727,
     "end_time": "2021-02-14T10:36:50.875245",
     "exception": false,
     "start_time": "2021-02-14T10:36:50.841518",
     "status": "completed"
    },
    "tags": []
   },
   "outputs": [],
   "source": [
    "def cross_validation_lightgbm_cf(train, y_train, test):\n",
    "    var_categ = [c for c in train.columns if 'mode' in c]\n",
    "    for c in var_categ:\n",
    "        train[c] = train[c].astype('category')\n",
    "        test[c] = test[c].astype('category')\n",
    "\n",
    "    folds = [train.index[t] for t, v in KFold(5).split(train)]\n",
    "    test_probs = []\n",
    "    train_probs = []\n",
    "    fi = []\n",
    "    for i, idx in enumerate(folds):\n",
    "        print(\"*\"*10, i, \"*\"*10)\n",
    "        Xt = train.loc[idx]\n",
    "        yt = y_train.loc[Xt.index].target\n",
    "\n",
    "        Xv = train.drop(Xt.index)\n",
    "        yv = y_train.loc[Xv.index].target\n",
    "\n",
    "        learner = LGBMClassifier(n_estimators=1000, boosting_type='gbdt',min_child_samples=1500, colsample_bytree=0.8,\n",
    "                       subsample=0.8, max_bin=200, learning_rate=0.1, random_state = 42)\n",
    "\n",
    "        learner.fit(Xt, yt,  early_stopping_rounds=10, eval_metric=\"auc\",\n",
    "                    eval_set=[(Xt, yt), (Xv, yv)], verbose=100)\n",
    "        test_probs.append(pd.Series(learner.predict_proba(test)[:, -1], index=test.index, name=\"fold_\" + str(i)))\n",
    "        train_probs.append(pd.Series(learner.predict_proba(Xv)[:, -1], index=Xv.index, name=\"probs\"))\n",
    "        fi.append(pd.Series(learner.feature_importances_ / learner.feature_importances_.sum(), index=Xt.columns))\n",
    "        gc.collect()\n",
    "    test_probs = pd.concat(test_probs, axis=1).mean(axis=1)\n",
    "    train_probs = pd.concat(train_probs)\n",
    "    fi = pd.concat(fi, axis=1).mean(axis=1)\n",
    "    print(\"*\" * 21)\n",
    "    print(\"roc auc estimado: \", roc_auc_score(y_train, train_probs.loc[y_train.index]))\n",
    "    print(\"roc auc varianza: \", np.std([roc_auc_score(y_train.loc[folds[i]], train_probs.iloc[folds[i]]) for i in range(len(folds))]))\n",
    "    return fi, train_probs, test_probs"
   ]
  },
  {
   "cell_type": "code",
   "execution_count": null,
   "metadata": {},
   "outputs": [],
   "source": [
    "def get_feature_selection(fi):\n",
    "    zero_importance = fi[fi==0]\n",
    "    aux = fi[fi>0].sort_values(ascending=False)\n",
    "    keep_columns = []\n",
    "    count = 0\n",
    "    for feature,values in zip(aux.index, aux.values):\n",
    "        count+=values\n",
    "        if count<=0.80:\n",
    "            keep_columns.append(feature)\n",
    "            \n",
    "    print(f'total de variables : {len(fi)}')\n",
    "    print(f'variables con importancia acumulada al 80% : {len(keep_columns)}')\n",
    "    print(f'variables con zero importancia : {len(zero_importance)}')\n",
    "    return keep_columns, zero_importance\n",
    "keep_columns, zero_importance = get_feature_selection(fi_lightgbm)"
   ]
  },
  {
   "cell_type": "code",
   "execution_count": 7,
   "metadata": {
    "execution": {
     "iopub.execute_input": "2021-02-14T12:24:21.545464Z",
     "iopub.status.busy": "2021-02-14T12:24:21.544711Z",
     "iopub.status.idle": "2021-02-14T12:36:45.273935Z",
     "shell.execute_reply": "2021-02-14T12:36:45.274711Z"
    },
    "papermill": {
     "duration": 743.772918,
     "end_time": "2021-02-14T12:36:45.275036",
     "exception": false,
     "start_time": "2021-02-14T12:24:21.502118",
     "status": "completed"
    },
    "scrolled": true,
    "tags": []
   },
   "outputs": [
    {
     "name": "stdout",
     "output_type": "stream",
     "text": [
      "********** 0 **********\n"
     ]
    },
    {
     "name": "stderr",
     "output_type": "stream",
     "text": [
      "C:\\Users\\usuario\\anaconda3\\envs\\venv_datathon\\lib\\site-packages\\lightgbm\\basic.py:1286: UserWarning: Overriding the parameters from Reference Dataset.\n",
      "  warnings.warn('Overriding the parameters from Reference Dataset.')\n",
      "C:\\Users\\usuario\\anaconda3\\envs\\venv_datathon\\lib\\site-packages\\lightgbm\\basic.py:1098: UserWarning: categorical_column in param dict is overridden.\n",
      "  warnings.warn('{} in param dict is overridden.'.format(cat_alias))\n"
     ]
    },
    {
     "name": "stdout",
     "output_type": "stream",
     "text": [
      "Training until validation scores don't improve for 10 rounds\n",
      "[100]\ttraining's auc: 0.874593\ttraining's binary_logloss: 0.279071\tvalid_1's auc: 0.850158\tvalid_1's binary_logloss: 0.297041\n",
      "[200]\ttraining's auc: 0.891306\ttraining's binary_logloss: 0.264697\tvalid_1's auc: 0.852824\tvalid_1's binary_logloss: 0.294651\n",
      "Early stopping, best iteration is:\n",
      "[211]\ttraining's auc: 0.892724\ttraining's binary_logloss: 0.263451\tvalid_1's auc: 0.852935\tvalid_1's binary_logloss: 0.294541\n",
      "********** 1 **********\n",
      "Training until validation scores don't improve for 10 rounds\n",
      "[100]\ttraining's auc: 0.874742\ttraining's binary_logloss: 0.278899\tvalid_1's auc: 0.848628\tvalid_1's binary_logloss: 0.297857\n",
      "[200]\ttraining's auc: 0.891744\ttraining's binary_logloss: 0.264378\tvalid_1's auc: 0.851151\tvalid_1's binary_logloss: 0.29568\n",
      "Early stopping, best iteration is:\n",
      "[257]\ttraining's auc: 0.898835\ttraining's binary_logloss: 0.25813\tvalid_1's auc: 0.851631\tvalid_1's binary_logloss: 0.295309\n",
      "********** 2 **********\n",
      "Training until validation scores don't improve for 10 rounds\n",
      "[100]\ttraining's auc: 0.875108\ttraining's binary_logloss: 0.279063\tvalid_1's auc: 0.851812\tvalid_1's binary_logloss: 0.294715\n",
      "Early stopping, best iteration is:\n",
      "[169]\ttraining's auc: 0.887433\ttraining's binary_logloss: 0.268409\tvalid_1's auc: 0.854184\tvalid_1's binary_logloss: 0.292559\n",
      "********** 3 **********\n",
      "Training until validation scores don't improve for 10 rounds\n",
      "[100]\ttraining's auc: 0.874692\ttraining's binary_logloss: 0.279277\tvalid_1's auc: 0.850671\tvalid_1's binary_logloss: 0.295683\n",
      "[200]\ttraining's auc: 0.891979\ttraining's binary_logloss: 0.264683\tvalid_1's auc: 0.853164\tvalid_1's binary_logloss: 0.293324\n",
      "Early stopping, best iteration is:\n",
      "[199]\ttraining's auc: 0.891828\ttraining's binary_logloss: 0.264792\tvalid_1's auc: 0.853199\tvalid_1's binary_logloss: 0.293305\n",
      "********** 4 **********\n",
      "Training until validation scores don't improve for 10 rounds\n",
      "[100]\ttraining's auc: 0.87647\ttraining's binary_logloss: 0.278273\tvalid_1's auc: 0.84326\tvalid_1's binary_logloss: 0.29882\n",
      "[200]\ttraining's auc: 0.893512\ttraining's binary_logloss: 0.263623\tvalid_1's auc: 0.845544\tvalid_1's binary_logloss: 0.297037\n",
      "Early stopping, best iteration is:\n",
      "[217]\ttraining's auc: 0.895779\ttraining's binary_logloss: 0.261679\tvalid_1's auc: 0.845724\tvalid_1's binary_logloss: 0.296877\n",
      "*********************\n",
      "roc auc estimado:  0.8515484342618398\n",
      "roc auc varianza:  0.0007370394139586756\n"
     ]
    }
   ],
   "source": [
    "fi_lightgbm_cf, train_probs_lightgbm_cf, test_probs_lightgbm_cf = cross_validation_lightgbm_cf(train[keep_columns],\n",
    "                                                                                               y_train, \n",
    "                                                                                               test[keep_columns])"
   ]
  },
  {
   "cell_type": "code",
   "execution_count": 18,
   "metadata": {
    "execution": {
     "iopub.execute_input": "2021-02-14T12:36:45.884705Z",
     "iopub.status.busy": "2021-02-14T12:36:45.883331Z",
     "iopub.status.idle": "2021-02-14T12:36:45.917284Z",
     "shell.execute_reply": "2021-02-14T12:36:45.916531Z"
    },
    "papermill": {
     "duration": 0.085606,
     "end_time": "2021-02-14T12:36:45.917484",
     "exception": false,
     "start_time": "2021-02-14T12:36:45.831878",
     "status": "completed"
    },
    "tags": []
   },
   "outputs": [],
   "source": [
    "fi_lightgbm_cf.to_pickle('fi_lightgbm_cf.pkl')\n",
    "train_probs_lightgbm_cf.to_pickle('train_probs_lightgbm_cf.pkl')\n",
    "test_probs_lightgbm_cf.to_pickle('test_probs_lightgbm_cf.pkl')"
   ]
  },
  {
   "cell_type": "code",
   "execution_count": 9,
   "metadata": {},
   "outputs": [],
   "source": [
    "def cross_validation_gbc(train, y_train, test):        \n",
    "    folds = [train.index[t] for t, v in KFold(5).split(train)]\n",
    "    test_probs = []\n",
    "    train_probs = []\n",
    "    fi = []\n",
    "    for i, idx in enumerate(folds):\n",
    "        print(\"*\"*10, i, \"*\"*10)\n",
    "        Xt = train.loc[idx]\n",
    "        yt = y_train.loc[Xt.index].target\n",
    "\n",
    "        Xv = train.drop(Xt.index)\n",
    "        yv = y_train.loc[Xv.index].target\n",
    "\n",
    "        learner = GradientBoostingClassifier(n_estimators=500, learning_rate=0.3, subsample=0.8,\n",
    "                                             max_depth=5, verbose=1, max_features=0.82, random_state=42,\n",
    "                                             n_iter_no_change = 10, tol=0.01, validation_fraction = 0.2)\n",
    "\n",
    "        learner.fit(Xt, yt)        \n",
    "        test_probs.append(pd.Series(learner.predict_proba(test)[:, -1], index=test.index, name=\"fold_\" + str(i)))\n",
    "        train_probs.append(pd.Series(learner.predict_proba(Xv)[:, -1], index=Xv.index, name=\"probs\"))\n",
    "        fi.append(pd.Series(learner.feature_importances_ / learner.feature_importances_.sum(), index=Xt.columns))\n",
    "        print('roc_auc_estimado de : ' + str(roc_auc_score(yv, pd.Series(learner.predict_proba(Xv)[:, -1]))))    \n",
    "\n",
    "    test_probs = pd.concat(test_probs, axis=1).mean(axis=1)\n",
    "    train_probs = pd.concat(train_probs)\n",
    "    fi = pd.concat(fi, axis=1).mean(axis=1)\n",
    "    print(\"*\" * 21)\n",
    "    print(\"roc auc estimado: \", roc_auc_score(y_train, train_probs.loc[y_train.index]))\n",
    "    print(\"roc auc varianza: \", np.std([roc_auc_score(y_train.loc[folds[i]], train_probs.iloc[folds[i]]) for i in range(len(folds))])) \n",
    "    return fi, train_probs, test_probs    "
   ]
  },
  {
   "cell_type": "code",
   "execution_count": 10,
   "metadata": {},
   "outputs": [],
   "source": [
    "var_categ = [c for c in train.columns if 'mode' in c]\n",
    "for c in var_categ:\n",
    "    train[c] = train[c].astype('float16')\n",
    "    test[c] = test[c].astype('float16')\n",
    "\n",
    "var_categ = [i for i in train.columns if 'mode' in i]\n",
    "var_cuanti_std = [i for i in train.columns if 'std'  in i]\n",
    "var_cuanti_unique = [i for i in train.columns if 'unique' in i]\n",
    "var_cuanti_other = set(train.columns).difference(var_categ+var_cuanti_std+var_cuanti_unique)\n",
    "\n",
    "###### imputacion tradicional\n",
    "for i in var_cuanti_std:\n",
    "    train[i] = train[i].fillna(0)\n",
    "    test[i] = test[i].fillna(0)  \n",
    "    \n",
    "for i in var_cuanti_unique:\n",
    "    train[i] = train[i].fillna(0)\n",
    "    test[i] = test[i].fillna(0)\n",
    "    \n",
    "for i in var_cuanti_other:\n",
    "    train[i] = train[i].fillna(train[i].median())\n",
    "    test[i] = test[i].fillna(train[i].median())    \n",
    "for i in var_categ:\n",
    "    train[i] = train[i].fillna(train[i].value_counts().index[0])\n",
    "    test[i] = test[i].fillna(train[i].value_counts().index[0]) "
   ]
  },
  {
   "cell_type": "code",
   "execution_count": 13,
   "metadata": {
    "scrolled": true
   },
   "outputs": [
    {
     "name": "stdout",
     "output_type": "stream",
     "text": [
      "********** 0 **********\n",
      "      Iter       Train Loss      OOB Improve   Remaining Time \n",
      "         1           0.7721           0.0961         1031.20m\n",
      "         2           0.7354           0.0343         1031.47m\n",
      "         3           0.7019           0.0298         1049.06m\n",
      "         4           0.6876           0.0161         1054.33m\n",
      "         5           0.6732           0.0137         1054.32m\n",
      "         6           0.6604           0.0111         1052.79m\n",
      "         7           0.6533           0.0048         1047.32m\n",
      "         8           0.6483           0.0070         1076.93m\n",
      "         9           0.6439           0.0040         1149.38m\n",
      "        10           0.6362           0.0037         1209.06m\n",
      "        20           0.6065           0.0010         1122.85m\n",
      "roc_auc_estimado de : 0.8342619884903911\n",
      "********** 1 **********\n",
      "      Iter       Train Loss      OOB Improve   Remaining Time \n",
      "         1           0.7733           0.1018          512.17m\n",
      "         2           0.7318           0.0381          527.97m\n",
      "         3           0.7051           0.0256          525.44m\n",
      "         4           0.6861           0.0190          516.11m\n",
      "         5           0.6713           0.0140          507.97m\n",
      "         6           0.6620           0.0092          503.93m\n",
      "         7           0.6549           0.0081          504.16m\n",
      "         8           0.6460           0.0047          504.35m\n",
      "         9           0.6443           0.0038          498.36m\n",
      "        10           0.6372           0.0026          492.07m\n",
      "        20           0.6066           0.0011          466.68m\n",
      "roc_auc_estimado de : 0.8345722433643535\n",
      "********** 2 **********\n",
      "      Iter       Train Loss      OOB Improve   Remaining Time \n",
      "         1           0.7739           0.1025          472.18m\n",
      "         2           0.7350           0.0338          454.91m\n",
      "         3           0.7087           0.0290          442.82m\n",
      "         4           0.6924           0.0136          440.74m\n",
      "         5           0.6756           0.0157          436.51m\n",
      "         6           0.6655           0.0095          435.14m\n",
      "         7           0.6570           0.0083          432.87m\n",
      "         8           0.6488           0.0058          429.86m\n",
      "         9           0.6416           0.0044          429.36m\n",
      "        10           0.6375           0.0028          427.01m\n",
      "        20           0.6059           0.0014          801.37m\n",
      "roc_auc_estimado de : 0.8379677747600915\n",
      "********** 3 **********\n",
      "      Iter       Train Loss      OOB Improve   Remaining Time \n",
      "         1           0.7721           0.1041         1059.84m\n",
      "         2           0.7382           0.0337         1033.42m\n",
      "         3           0.7052           0.0313         1019.77m\n",
      "         4           0.6873           0.0159         1012.98m\n",
      "         5           0.6733           0.0137         1006.04m\n",
      "         6           0.6610           0.0081         1004.02m\n",
      "         7           0.6551           0.0079         1000.23m\n",
      "         8           0.6455           0.0059         1004.69m\n",
      "         9           0.6413           0.0043         1010.41m\n",
      "        10           0.6372           0.0049         1004.29m\n",
      "        20           0.6056           0.0007          748.01m\n",
      "roc_auc_estimado de : 0.836307846058672\n",
      "********** 4 **********\n",
      "      Iter       Train Loss      OOB Improve   Remaining Time \n",
      "         1           0.7732           0.1039          436.61m\n",
      "         2           0.7346           0.0370          446.66m\n",
      "         3           0.7115           0.0252          440.36m\n",
      "         4           0.6877           0.0210          445.70m\n",
      "         5           0.6755           0.0108          444.71m\n",
      "         6           0.6645           0.0089          447.79m\n",
      "         7           0.6549           0.0096          451.36m\n",
      "         8           0.6484           0.0050          456.20m\n",
      "         9           0.6413           0.0051          460.61m\n",
      "        10           0.6356           0.0033          465.22m\n",
      "        20           0.6023           0.0013          470.39m\n",
      "roc_auc_estimado de : 0.8289452574719539\n",
      "*********************\n",
      "roc auc estimado:  0.834420277278331\n",
      "roc auc varianza:  0.0007465671385375411\n"
     ]
    }
   ],
   "source": [
    "fi_gbc, train_probs_gbc, test_probs_gbc = cross_validation_gbc(train,\n",
    "                                                               y_train,\n",
    "                                                               test)"
   ]
  },
  {
   "cell_type": "code",
   "execution_count": 14,
   "metadata": {},
   "outputs": [],
   "source": [
    "fi_gbc.to_pickle('fi_gbc.pkl')\n",
    "train_probs_gbc.to_pickle('train_probs_gbc.pkl')\n",
    "test_probs_gbc.to_pickle('test_probs_gbc.pkl')"
   ]
  },
  {
   "cell_type": "markdown",
   "metadata": {},
   "source": [
    "## Plot - Features Importances"
   ]
  },
  {
   "cell_type": "code",
   "execution_count": 45,
   "metadata": {
    "scrolled": true
   },
   "outputs": [
    {
     "data": {
      "text/html": [
       "<div>\n",
       "<style scoped>\n",
       "    .dataframe tbody tr th:only-of-type {\n",
       "        vertical-align: middle;\n",
       "    }\n",
       "\n",
       "    .dataframe tbody tr th {\n",
       "        vertical-align: top;\n",
       "    }\n",
       "\n",
       "    .dataframe thead th {\n",
       "        text-align: right;\n",
       "    }\n",
       "</style>\n",
       "<table border=\"1\" class=\"dataframe\">\n",
       "  <thead>\n",
       "    <tr style=\"text-align: right;\">\n",
       "      <th></th>\n",
       "      <th>fi_lightgbm</th>\n",
       "      <th>fi_lightgbm_cf</th>\n",
       "      <th>fi_catboost</th>\n",
       "      <th>fi_gbc</th>\n",
       "      <th>mean_fi</th>\n",
       "      <th>std_fi</th>\n",
       "    </tr>\n",
       "  </thead>\n",
       "  <tbody>\n",
       "    <tr>\n",
       "      <th>edad</th>\n",
       "      <td>0.008190</td>\n",
       "      <td>0.007589</td>\n",
       "      <td>0.011209</td>\n",
       "      <td>0.005143</td>\n",
       "      <td>0.008033</td>\n",
       "      <td>0.002160</td>\n",
       "    </tr>\n",
       "    <tr>\n",
       "      <th>ubigeo_mode</th>\n",
       "      <td>0.006485</td>\n",
       "      <td>0.046752</td>\n",
       "      <td>0.001590</td>\n",
       "      <td>0.000179</td>\n",
       "      <td>0.013752</td>\n",
       "      <td>0.019196</td>\n",
       "    </tr>\n",
       "    <tr>\n",
       "      <th>sexo_0</th>\n",
       "      <td>0.005105</td>\n",
       "      <td>0.005298</td>\n",
       "      <td>0.009658</td>\n",
       "      <td>0.003937</td>\n",
       "      <td>0.006000</td>\n",
       "      <td>0.002176</td>\n",
       "    </tr>\n",
       "    <tr>\n",
       "      <th>PRODUCTO_1_saldoMean_ult1meses</th>\n",
       "      <td>0.004811</td>\n",
       "      <td>0.005070</td>\n",
       "      <td>0.004724</td>\n",
       "      <td>0.002714</td>\n",
       "      <td>0.004330</td>\n",
       "      <td>0.000941</td>\n",
       "    </tr>\n",
       "    <tr>\n",
       "      <th>PRODUCTO_1_saldoMax_ult1meses</th>\n",
       "      <td>0.004633</td>\n",
       "      <td>0.004386</td>\n",
       "      <td>0.003062</td>\n",
       "      <td>0.002115</td>\n",
       "      <td>0.003549</td>\n",
       "      <td>0.001021</td>\n",
       "    </tr>\n",
       "    <tr>\n",
       "      <th>...</th>\n",
       "      <td>...</td>\n",
       "      <td>...</td>\n",
       "      <td>...</td>\n",
       "      <td>...</td>\n",
       "      <td>...</td>\n",
       "      <td>...</td>\n",
       "    </tr>\n",
       "    <tr>\n",
       "      <th>PRODUCTO_5_saldoMax_ult3meses</th>\n",
       "      <td>0.000180</td>\n",
       "      <td>0.000057</td>\n",
       "      <td>0.000000</td>\n",
       "      <td>0.000000</td>\n",
       "      <td>0.000059</td>\n",
       "      <td>0.000073</td>\n",
       "    </tr>\n",
       "    <tr>\n",
       "      <th>cod_instit_financiera_56_saldoMean_ult3meses</th>\n",
       "      <td>0.000252</td>\n",
       "      <td>0.000061</td>\n",
       "      <td>0.000058</td>\n",
       "      <td>0.000000</td>\n",
       "      <td>0.000093</td>\n",
       "      <td>0.000095</td>\n",
       "    </tr>\n",
       "    <tr>\n",
       "      <th>cod_instit_financiera_18_saldoMin_ult1meses</th>\n",
       "      <td>0.000110</td>\n",
       "      <td>0.000000</td>\n",
       "      <td>0.000015</td>\n",
       "      <td>0.000000</td>\n",
       "      <td>0.000031</td>\n",
       "      <td>0.000046</td>\n",
       "    </tr>\n",
       "    <tr>\n",
       "      <th>cod_instit_financiera_11_saldoStd_ult3meses</th>\n",
       "      <td>0.000254</td>\n",
       "      <td>0.000000</td>\n",
       "      <td>0.000199</td>\n",
       "      <td>0.000000</td>\n",
       "      <td>0.000113</td>\n",
       "      <td>0.000115</td>\n",
       "    </tr>\n",
       "    <tr>\n",
       "      <th>cod_instit_financiera_25_saldoMean_ult3meses</th>\n",
       "      <td>0.000184</td>\n",
       "      <td>0.000113</td>\n",
       "      <td>0.000064</td>\n",
       "      <td>0.000000</td>\n",
       "      <td>0.000090</td>\n",
       "      <td>0.000067</td>\n",
       "    </tr>\n",
       "  </tbody>\n",
       "</table>\n",
       "<p>1628 rows × 6 columns</p>\n",
       "</div>"
      ],
      "text/plain": [
       "                                              fi_lightgbm  fi_lightgbm_cf  \\\n",
       "edad                                             0.008190        0.007589   \n",
       "ubigeo_mode                                      0.006485        0.046752   \n",
       "sexo_0                                           0.005105        0.005298   \n",
       "PRODUCTO_1_saldoMean_ult1meses                   0.004811        0.005070   \n",
       "PRODUCTO_1_saldoMax_ult1meses                    0.004633        0.004386   \n",
       "...                                                   ...             ...   \n",
       "PRODUCTO_5_saldoMax_ult3meses                    0.000180        0.000057   \n",
       "cod_instit_financiera_56_saldoMean_ult3meses     0.000252        0.000061   \n",
       "cod_instit_financiera_18_saldoMin_ult1meses      0.000110        0.000000   \n",
       "cod_instit_financiera_11_saldoStd_ult3meses      0.000254        0.000000   \n",
       "cod_instit_financiera_25_saldoMean_ult3meses     0.000184        0.000113   \n",
       "\n",
       "                                              fi_catboost    fi_gbc   mean_fi  \\\n",
       "edad                                             0.011209  0.005143  0.008033   \n",
       "ubigeo_mode                                      0.001590  0.000179  0.013752   \n",
       "sexo_0                                           0.009658  0.003937  0.006000   \n",
       "PRODUCTO_1_saldoMean_ult1meses                   0.004724  0.002714  0.004330   \n",
       "PRODUCTO_1_saldoMax_ult1meses                    0.003062  0.002115  0.003549   \n",
       "...                                                   ...       ...       ...   \n",
       "PRODUCTO_5_saldoMax_ult3meses                    0.000000  0.000000  0.000059   \n",
       "cod_instit_financiera_56_saldoMean_ult3meses     0.000058  0.000000  0.000093   \n",
       "cod_instit_financiera_18_saldoMin_ult1meses      0.000015  0.000000  0.000031   \n",
       "cod_instit_financiera_11_saldoStd_ult3meses      0.000199  0.000000  0.000113   \n",
       "cod_instit_financiera_25_saldoMean_ult3meses     0.000064  0.000000  0.000090   \n",
       "\n",
       "                                                std_fi  \n",
       "edad                                          0.002160  \n",
       "ubigeo_mode                                   0.019196  \n",
       "sexo_0                                        0.002176  \n",
       "PRODUCTO_1_saldoMean_ult1meses                0.000941  \n",
       "PRODUCTO_1_saldoMax_ult1meses                 0.001021  \n",
       "...                                                ...  \n",
       "PRODUCTO_5_saldoMax_ult3meses                 0.000073  \n",
       "cod_instit_financiera_56_saldoMean_ult3meses  0.000095  \n",
       "cod_instit_financiera_18_saldoMin_ult1meses   0.000046  \n",
       "cod_instit_financiera_11_saldoStd_ult3meses   0.000115  \n",
       "cod_instit_financiera_25_saldoMean_ult3meses  0.000067  \n",
       "\n",
       "[1628 rows x 6 columns]"
      ]
     },
     "execution_count": 45,
     "metadata": {},
     "output_type": "execute_result"
    }
   ],
   "source": [
    "fi_lightgbm = pd.read_pickle('fi_lightgbm.pkl')\n",
    "fi_lightgbm_cf = pd.read_pickle('fi_lightgbm_cf.pkl')\n",
    "fi_catboost = pd.read_pickle('fi_catboost.pkl')\n",
    "fi_gbc = pd.read_pickle('fi_gbc.pkl')\n",
    "features_importances = pd.concat([fi_lightgbm, fi_lightgbm_cf, fi_catboost, fi_gbc], axis=1)\n",
    "features_importances.columns = ['fi_lightgbm', 'fi_lightgbm_cf', 'fi_catboost', 'fi_gbc']\n",
    "features_importances['mean_fi'] = features_importances.mean(axis=1)\n",
    "features_importances['std_fi'] = features_importances.std(axis=1)\n",
    "features_importances"
   ]
  },
  {
   "cell_type": "code",
   "execution_count": 48,
   "metadata": {},
   "outputs": [
    {
     "data": {
      "image/png": "[encoded data removed]",
      "text/plain": [
       "<Figure size 2520x1800 with 1 Axes>"
      ]
     },
     "metadata": {
      "needs_background": "light"
     },
     "output_type": "display_data"
    }
   ],
   "source": [
    "feat_importances_ = features_importances.mean_fi\n",
    "feat_importances_.nlargest(20).plot(kind='barh', figsize=(35, 25));"
   ]
  }
 ],
 "metadata": {
  "kernelspec": {
   "display_name": "Python 3",
   "language": "python",
   "name": "python3"
  },
  "language_info": {
   "codemirror_mode": {
    "name": "ipython",
    "version": 3
   },
   "file_extension": ".py",
   "mimetype": "text/x-python",
   "name": "python",
   "nbconvert_exporter": "python",
   "pygments_lexer": "ipython3",
   "version": "3.8.5"
  },
  "papermill": {
   "default_parameters": {},
   "duration": 7231.573759,
   "end_time": "2021-02-14T12:36:48.460041",
   "environment_variables": {},
   "exception": null,
   "input_path": "__notebook__.ipynb",
   "output_path": "__notebook__.ipynb",
   "parameters": {},
   "start_time": "2021-02-14T10:36:16.886282",
   "version": "2.2.2"
  }
 },
 "nbformat": 4,
 "nbformat_minor": 4
}
