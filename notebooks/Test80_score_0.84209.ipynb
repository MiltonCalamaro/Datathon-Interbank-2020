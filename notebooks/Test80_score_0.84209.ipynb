{
 "cells": [
  {
   "cell_type": "code",
   "execution_count": 1,
   "metadata": {
    "_cell_guid": "79c7e3d0-c299-4dcb-8224-4455121ee9b0",
    "_uuid": "d629ff2d2480ee46fbb7e2d37f6b5fab8052498a"
   },
   "outputs": [],
   "source": [
    "import pandas as pd\n",
    "from tqdm.notebook import tqdm \n",
    "import gc\n",
    "import numpy as np"
   ]
  },
  {
   "cell_type": "code",
   "execution_count": 2,
   "metadata": {},
   "outputs": [],
   "source": [
    "import statistics as stat\n",
    "def calculate_mode(x):\n",
    "    try:\n",
    "        moda=stat.mode(x)\n",
    "    except:\n",
    "        moda=np.nan\n",
    "    return moda"
   ]
  },
  {
   "cell_type": "code",
   "execution_count": 3,
   "metadata": {},
   "outputs": [],
   "source": [
    "path = '../data'\n",
    "y_train = pd.read_csv(f'{path}/y_train.csv', index_col = 'key_value')"
   ]
  },
  {
   "cell_type": "markdown",
   "metadata": {},
   "source": [
    "## Procesar RCC"
   ]
  },
  {
   "cell_type": "code",
   "execution_count": 4,
   "metadata": {},
   "outputs": [],
   "source": [
    "rcc_train = pd.read_csv(f'{path}/rcc_train.csv')\n",
    "rcc_test = pd.read_csv(f'{path}/rcc_test.csv')"
   ]
  },
  {
   "cell_type": "code",
   "execution_count": 5,
   "metadata": {},
   "outputs": [],
   "source": [
    "rcc_test['cod_instit_financiera'].fillna(rcc_test['cod_instit_financiera'].value_counts().index[0], inplace=True)\n",
    "rcc_test['PRODUCTO'].fillna(rcc_test['PRODUCTO'].value_counts().index[0], inplace=True)"
   ]
  },
  {
   "cell_type": "code",
   "execution_count": 6,
   "metadata": {},
   "outputs": [],
   "source": [
    "dict_ = {'codmes': 'int32',\n",
    " 'key_value': 'int32',\n",
    " 'condicion': 'int32',\n",
    " 'tipo_credito': 'int32',\n",
    " 'cod_instit_financiera': 'int32',\n",
    " 'PRODUCTO': 'int32',\n",
    " 'RIESGO_DIRECTO': 'int32',\n",
    " 'COD_CLASIFICACION_DEUDOR': 'int32'}\n",
    "rcc_train = rcc_train.astype(dict_)\n",
    "rcc_test = rcc_test.astype(dict_)"
   ]
  },
  {
   "cell_type": "code",
   "execution_count": 7,
   "metadata": {},
   "outputs": [],
   "source": [
    "bins = [-1, 0, 10, 20, 30, 60, 90, 180, 360, 720, float(\"inf\")]\n",
    "rcc_train[\"condicion\"] = pd.cut(rcc_train.condicion, bins)\n",
    "rcc_train[\"condicion\"] = rcc_train[\"condicion\"].cat.codes\n",
    "rcc_test[\"condicion\"] = pd.cut(rcc_test.condicion, bins)\n",
    "rcc_test[\"condicion\"] = rcc_test[\"condicion\"].cat.codes"
   ]
  },
  {
   "cell_type": "code",
   "execution_count": 11,
   "metadata": {},
   "outputs": [
    {
     "data": {
      "text/plain": [
       "codmes                      0\n",
       "key_value                   0\n",
       "condicion                   0\n",
       "tipo_credito                0\n",
       "cod_instit_financiera       0\n",
       "saldo                       0\n",
       "PRODUCTO                    0\n",
       "RIESGO_DIRECTO              0\n",
       "COD_CLASIFICACION_DEUDOR    0\n",
       "dtype: int64"
      ]
     },
     "execution_count": 11,
     "metadata": {},
     "output_type": "execute_result"
    }
   ],
   "source": [
    "rcc_train.isna().sum()"
   ]
  },
  {
   "cell_type": "code",
   "execution_count": 14,
   "metadata": {},
   "outputs": [],
   "source": [
    "moda=lambda x: calculate_mode(x)\n",
    "moda.__name__='mode'\n",
    "agg_rcc = {'condicion':['max','min','mean','std','sum'],\n",
    "           'saldo':['max','min','mean','std','sum'],\n",
    "           'cod_instit_financiera':['nunique','min','max',moda],\n",
    "           'PRODUCTO':['nunique','min','max',moda],\n",
    "           'COD_CLASIFICACION_DEUDOR':['nunique','max','min','sum','mean','std',moda],\n",
    "           'RIESGO_DIRECTO':['nunique','max','min','sum','mean','std',moda],\n",
    "           'tipo_credito':['nunique','max','min','sum','mean','std',moda]\n",
    "          }"
   ]
  },
  {
   "cell_type": "code",
   "execution_count": 15,
   "metadata": {
    "collapsed": true
   },
   "outputs": [
    {
     "name": "stdout",
     "output_type": "stream",
     "text": [
      "haciendo tipo_credito\n"
     ]
    },
    {
     "name": "stderr",
     "output_type": "stream",
     "text": [
      "Exception ignored in: <function tqdm.__del__ at 0x000001E1FF24CD30>\n",
      "Traceback (most recent call last):\n",
      "  File \"C:\\Users\\usuario\\anaconda3\\envs\\venv_datathon\\lib\\site-packages\\tqdm\\std.py\", line 1134, in __del__\n",
      "    self.close()\n",
      "  File \"C:\\Users\\usuario\\anaconda3\\envs\\venv_datathon\\lib\\site-packages\\tqdm\\notebook.py\", line 280, in close\n",
      "    self.disp(bar_style='danger')\n",
      "AttributeError: 'tqdm_notebook' object has no attribute 'disp'\n"
     ]
    },
    {
     "name": "stdout",
     "output_type": "stream",
     "text": [
      "haciendo RIESGO_DIRECTO\n",
      "haciendo COD_CLASIFICACION_DEUDOR\n",
      "haciendo condicion\n",
      "haciendo aggregate de 201802\n",
      "haciendo tipo_credito\n",
      "haciendo RIESGO_DIRECTO\n",
      "haciendo COD_CLASIFICACION_DEUDOR\n",
      "haciendo condicion\n",
      "haciendo aggregate de 201801\n",
      "haciendo tipo_credito\n",
      "haciendo RIESGO_DIRECTO\n",
      "haciendo COD_CLASIFICACION_DEUDOR\n",
      "haciendo condicion\n",
      "haciendo aggregate de 201712\n",
      "haciendo tipo_credito\n",
      "haciendo RIESGO_DIRECTO\n",
      "haciendo COD_CLASIFICACION_DEUDOR\n",
      "haciendo condicion\n",
      "haciendo aggregate de 201711\n",
      "haciendo tipo_credito\n",
      "haciendo RIESGO_DIRECTO\n",
      "haciendo COD_CLASIFICACION_DEUDOR\n",
      "haciendo condicion\n",
      "haciendo aggregate de 201710\n",
      "haciendo tipo_credito\n",
      "haciendo RIESGO_DIRECTO\n",
      "haciendo COD_CLASIFICACION_DEUDOR\n",
      "haciendo condicion\n",
      "haciendo aggregate de 201709\n",
      "haciendo tipo_credito\n",
      "haciendo RIESGO_DIRECTO\n",
      "haciendo COD_CLASIFICACION_DEUDOR\n",
      "haciendo condicion\n",
      "haciendo aggregate de 201703\n"
     ]
    }
   ],
   "source": [
    "list_rcc_train_agg = []\n",
    "for n,i in enumerate(sorted(set(rcc_train.codmes),reverse=True)):\n",
    "    if n in [0,1,2,3,4,5,11]:\n",
    "        for c in ['tipo_credito','RIESGO_DIRECTO','COD_CLASIFICACION_DEUDOR','condicion']:\n",
    "            print(f'haciendo {c}')\n",
    "            rcc_train_agg = rcc_train[rcc_train.codmes>=i].groupby(['key_value', c]).saldo.sum().unstack(level = 1, fill_value=-0.07289224159199438)\n",
    "            rcc_train_agg.columns = [f'{rcc_train_agg.columns.name}_{c}_saldo_ult{n+1}meses' for c in rcc_train_agg.columns]\n",
    "            list_rcc_train_agg.append(rcc_train_agg)\n",
    "            gc.collect()\n",
    "            \n",
    "        print(f'haciendo aggregate de {i}')\n",
    "        rcc_train_agg = rcc_train[rcc_train.codmes>=i].groupby('key_value').agg(agg_rcc)\n",
    "        rcc_train_agg.columns = [i+'_'+j+f'_ult{n+1}mes' for i,j in rcc_train_agg.columns]\n",
    "        list_rcc_train_agg.append(rcc_train_agg)\n",
    "        gc.collect()\n",
    "\n",
    "rcc_train_ = pd.concat(list_rcc_train_agg, axis=1)\n",
    "del rcc_train, list_rcc_train_agg"
   ]
  },
  {
   "cell_type": "code",
   "execution_count": 19,
   "metadata": {
    "collapsed": true
   },
   "outputs": [
    {
     "name": "stdout",
     "output_type": "stream",
     "text": [
      "haciendo tipo_credito\n"
     ]
    },
    {
     "name": "stderr",
     "output_type": "stream",
     "text": [
      "Exception ignored in: <function tqdm.__del__ at 0x000001E1FF24CD30>\n",
      "Traceback (most recent call last):\n",
      "  File \"C:\\Users\\usuario\\anaconda3\\envs\\venv_datathon\\lib\\site-packages\\tqdm\\std.py\", line 1134, in __del__\n",
      "    self.close()\n",
      "  File \"C:\\Users\\usuario\\anaconda3\\envs\\venv_datathon\\lib\\site-packages\\tqdm\\notebook.py\", line 280, in close\n",
      "    self.disp(bar_style='danger')\n",
      "AttributeError: 'tqdm_notebook' object has no attribute 'disp'\n",
      "Exception ignored in: <function tqdm.__del__ at 0x000001E1FF24CD30>\n",
      "Traceback (most recent call last):\n",
      "  File \"C:\\Users\\usuario\\anaconda3\\envs\\venv_datathon\\lib\\site-packages\\tqdm\\std.py\", line 1134, in __del__\n",
      "    self.close()\n",
      "  File \"C:\\Users\\usuario\\anaconda3\\envs\\venv_datathon\\lib\\site-packages\\tqdm\\notebook.py\", line 280, in close\n",
      "    self.disp(bar_style='danger')\n",
      "AttributeError: 'tqdm_notebook' object has no attribute 'disp'\n"
     ]
    },
    {
     "name": "stdout",
     "output_type": "stream",
     "text": [
      "haciendo RIESGO_DIRECTO\n",
      "haciendo COD_CLASIFICACION_DEUDOR\n",
      "haciendo condicion\n",
      "haciendo aggregate de 201902\n",
      "haciendo tipo_credito\n",
      "haciendo RIESGO_DIRECTO\n",
      "haciendo COD_CLASIFICACION_DEUDOR\n",
      "haciendo condicion\n",
      "haciendo aggregate de 201901\n",
      "haciendo tipo_credito\n",
      "haciendo RIESGO_DIRECTO\n",
      "haciendo COD_CLASIFICACION_DEUDOR\n",
      "haciendo condicion\n",
      "haciendo aggregate de 201812\n",
      "haciendo tipo_credito\n",
      "haciendo RIESGO_DIRECTO\n",
      "haciendo COD_CLASIFICACION_DEUDOR\n",
      "haciendo condicion\n",
      "haciendo aggregate de 201811\n",
      "haciendo tipo_credito\n",
      "haciendo RIESGO_DIRECTO\n",
      "haciendo COD_CLASIFICACION_DEUDOR\n",
      "haciendo condicion\n",
      "haciendo aggregate de 201810\n",
      "haciendo tipo_credito\n",
      "haciendo RIESGO_DIRECTO\n",
      "haciendo COD_CLASIFICACION_DEUDOR\n",
      "haciendo condicion\n",
      "haciendo aggregate de 201809\n",
      "haciendo tipo_credito\n",
      "haciendo RIESGO_DIRECTO\n",
      "haciendo COD_CLASIFICACION_DEUDOR\n",
      "haciendo condicion\n",
      "haciendo aggregate de 201803\n"
     ]
    }
   ],
   "source": [
    "list_rcc_test_agg = []\n",
    "for n,i in enumerate(sorted(set(rcc_test.codmes),reverse=True)):\n",
    "    if n in [0,1,2,3,4,5,11]:\n",
    "        for c in ['tipo_credito','RIESGO_DIRECTO','COD_CLASIFICACION_DEUDOR','condicion']:\n",
    "            print(f'haciendo {c}')\n",
    "            rcc_test_agg = rcc_test[rcc_test.codmes>=i].groupby(['key_value', c]).saldo.sum().unstack(level = 1, fill_value=-0.07289224159199438)\n",
    "            rcc_test_agg.columns = [f'{rcc_test_agg.columns.name}_{c}_saldo_ult{n+1}meses' for c in rcc_test_agg.columns]\n",
    "            list_rcc_test_agg.append(rcc_test_agg)\n",
    "            gc.collect()\n",
    "        print(f'haciendo aggregate de {i}')\n",
    "        rcc_test_agg = rcc_test[rcc_test.codmes>=i].groupby('key_value').agg(agg_rcc)\n",
    "        rcc_test_agg.columns = [i+'_'+j+f'_ult{n+1}mes' for i,j in rcc_test_agg.columns]\n",
    "        list_rcc_test_agg.append(rcc_test_agg)\n",
    "        gc.collect()\n",
    "\n",
    "rcc_test_ = pd.concat(list_rcc_test_agg, axis=1)\n",
    "del rcc_test, list_rcc_test_agg"
   ]
  },
  {
   "cell_type": "code",
   "execution_count": 36,
   "metadata": {},
   "outputs": [
    {
     "data": {
      "image/png": "[encoded data removed]",
      "text/plain": [
       "<Figure size 432x288 with 2 Axes>"
      ]
     },
     "metadata": {
      "needs_background": "light"
     },
     "output_type": "display_data"
    }
   ],
   "source": [
    "plt.subplot(121).hist(rcc_train_.isna().sum());\n",
    "plt.subplot(122).hist(rcc_test_.isna().sum());"
   ]
  },
  {
   "cell_type": "code",
   "execution_count": 37,
   "metadata": {},
   "outputs": [
    {
     "name": "stdout",
     "output_type": "stream",
     "text": [
      "(358487, 476) (396666, 483)\n",
      "(358487, 476) (396666, 476)\n"
     ]
    }
   ],
   "source": [
    "### asegurar que las columnas esten en ambas bases (train/test)\n",
    "print(rcc_train_.shape, rcc_test_.shape)\n",
    "keep_columns = list(set(rcc_train_.columns).intersection(rcc_test_.columns))\n",
    "rcc_train_ = rcc_train_[keep_columns].copy()\n",
    "rcc_test_ = rcc_test_[keep_columns].copy()\n",
    "print(rcc_train_.shape, rcc_test_.shape)"
   ]
  },
  {
   "cell_type": "code",
   "execution_count": 39,
   "metadata": {},
   "outputs": [],
   "source": [
    "### imputar datos categoricos\n",
    "var_categ = [i for i in rcc_train_.columns if 'mode' in i]\n",
    "for i in var_categ:\n",
    "    rcc_train_[i] = rcc_train_[i].fillna(rcc_train_[i].value_counts().index[0])\n",
    "    rcc_test_[i] = rcc_test_[i].fillna(rcc_train_[i].value_counts().index[0])"
   ]
  },
  {
   "cell_type": "code",
   "execution_count": 40,
   "metadata": {},
   "outputs": [],
   "source": [
    "### mean encoding\n",
    "rcc_train_ = pd.concat([rcc_train_, y_train], axis=1)\n",
    "for i in var_categ:\n",
    "    me = rcc_train_.groupby([i])['target'].mean().to_dict() \n",
    "    rcc_train_[f'{i}_me'] =  rcc_train_[i].map(me) \n",
    "    rcc_test_[f'{i}_me'] =  rcc_test_[i].map(me)\n",
    "    ### imputar datos faltantes\n",
    "    rcc_test_[f'{i}_me'] =  rcc_test_[f'{i}_me'].fillna(rcc_train_[f'{i}_me'].median())\n",
    "    \n",
    "    \n",
    "rcc_train_.drop('target', axis=1, inplace=True)\n",
    "rcc_train_.drop(var_categ, axis=1, inplace=True)\n",
    "rcc_test_.drop(var_categ, axis=1, inplace=True)"
   ]
  },
  {
   "cell_type": "markdown",
   "metadata": {},
   "source": [
    "#### guardando archivo procesado de RCC"
   ]
  },
  {
   "cell_type": "code",
   "execution_count": 46,
   "metadata": {},
   "outputs": [],
   "source": [
    "# guardando archivo procesado de rcc\n",
    "rcc_train_.to_csv('../data/intermediate/rcc_train.csv')\n",
    "rcc_test_.to_csv('../data/intermediate/rcc_test.csv')\n",
    "# ### cargando archivo procesado de rcc\n",
    "# rcc_train_ = pd.read_csv('../data/intermediate/rcc_train_v2.csv', index_col='key_value')\n",
    "# rcc_test_ = pd.read_csv('../data/intermediate/rcc_test_v2.csv',index_col='key_value')"
   ]
  },
  {
   "cell_type": "code",
   "execution_count": 41,
   "metadata": {},
   "outputs": [],
   "source": [
    "### unir RCC en la base final\n",
    "train = rcc_train_.copy()\n",
    "test = rcc_test_.copy()\n",
    "del rcc_train_, rcc_test_"
   ]
  },
  {
   "cell_type": "markdown",
   "metadata": {},
   "source": [
    "## Procesar SE"
   ]
  },
  {
   "cell_type": "code",
   "execution_count": 57,
   "metadata": {},
   "outputs": [],
   "source": [
    "se_train = pd.read_csv(f'{path}/se_train.csv', index_col = 'key_value')\n",
    "se_test = pd.read_csv(f'{path}/se_test.csv', index_col = 'key_value')"
   ]
  },
  {
   "cell_type": "code",
   "execution_count": 58,
   "metadata": {},
   "outputs": [],
   "source": [
    "dict_ = {'sexo':'int32',\n",
    "         'est_cvl':'int32',\n",
    "         'sit_lab':'int32',\n",
    "         'cod_ocu':'int32',\n",
    "         'ctd_hijos':'int32',\n",
    "         'flg_sin_email':'int32',\n",
    "         'ctd_veh':'int32',\n",
    "         'lgr_vot':'int32',\n",
    "         'prv':'int32',\n",
    "         'dto':'int32',\n",
    "         'rgn':'int32',\n",
    "         'tip_lvledu':'int32'}\n",
    "se_train = se_train.astype(dict_)\n",
    "se_test = se_test.astype(dict_)"
   ]
  },
  {
   "cell_type": "code",
   "execution_count": 59,
   "metadata": {},
   "outputs": [],
   "source": [
    "### imputar datos faltantes en la base se_[train/test]\n",
    "se_train['edad'].fillna(se_train['edad'].median(), inplace=True)\n",
    "se_test['edad'].fillna(se_train['edad'].median(), inplace=True)\n",
    "se_train['cod_ubi'].fillna(se_train['cod_ubi'].median(), inplace=True)\n",
    "se_test['cod_ubi'].fillna(se_train['cod_ubi'].median(), inplace=True)"
   ]
  },
  {
   "cell_type": "code",
   "execution_count": 60,
   "metadata": {},
   "outputs": [],
   "source": [
    "### mean encoding\n",
    "var_categ=['sit_lab','lgr_vot','sexo','rgn','tip_lvledu','flg_sin_email','prv','est_cvl','cod_ocu','dto']\n",
    "# var_caunti=['edad','ctd_hijos','ctd_veh','cod_ubi']\n",
    "se_train['target'] = y_train.loc[se_train.index]\n",
    "for i in var_categ:\n",
    "    me = se_train.groupby([i])['target'].mean().to_dict() \n",
    "    se_train[f'{i}_me'] =  se_train[i].map(me) \n",
    "    se_test[f'{i}_me'] =  se_test[i].map(me)\n",
    "    ### imputar datos faltantes\n",
    "    se_test[f'{i}_me'] =  se_test[f'{i}_me'].fillna(se_train[f'{i}_me'].median())\n",
    "se_train.drop('target', axis=1, inplace=True)\n",
    "se_train.drop(var_categ, axis=1, inplace=True)\n",
    "se_test.drop(var_categ, axis=1, inplace=True)"
   ]
  },
  {
   "cell_type": "markdown",
   "metadata": {},
   "source": [
    "#### guardando archivo procesado de SE"
   ]
  },
  {
   "cell_type": "code",
   "execution_count": 61,
   "metadata": {},
   "outputs": [],
   "source": [
    "## guardando archivo procesado de se\n",
    "se_train.to_csv('../data/intermediate/se_train.csv')\n",
    "se_test.to_csv('../data/intermediate/se_test.csv')\n",
    "## cargando archivo procesado de se\n",
    "se_train = pd.read_csv('../data/intermediate/se_train.csv', index_col='key_value')\n",
    "se_test = pd.read_csv('../data/intermediate/se_test.csv',index_col='key_value')"
   ]
  },
  {
   "cell_type": "code",
   "execution_count": 62,
   "metadata": {},
   "outputs": [],
   "source": [
    "### unir SE en la base final\n",
    "train = train.join(se_train) \n",
    "test = test.join(se_test)\n",
    "del se_train, se_test"
   ]
  },
  {
   "cell_type": "code",
   "execution_count": 49,
   "metadata": {},
   "outputs": [],
   "source": [
    "## imputar valores faltantes\n",
    "var_caunti = ['lgr_vot_me','sit_lab_me','cod_ubi','tip_lvledu_me','prv_me','rgn_me',\n",
    " 'ctd_hijos','edad','cod_ocu_me','ctd_veh','est_cvl_me','dto_me','flg_sin_email_me','sexo_me']\n",
    "for i in var_caunti:\n",
    "    train[i] = train[i].fillna(train[i].median())\n",
    "    test[i] = test[i].fillna(train[i].median())"
   ]
  },
  {
   "cell_type": "markdown",
   "metadata": {},
   "source": [
    "## Procesar SUNAT"
   ]
  },
  {
   "cell_type": "code",
   "execution_count": 50,
   "metadata": {},
   "outputs": [],
   "source": [
    "sunat_train = pd.read_csv(f'{path}/sunat_train.csv')\n",
    "sunat_test = pd.read_csv(f'{path}/sunat_test.csv')"
   ]
  },
  {
   "cell_type": "code",
   "execution_count": 51,
   "metadata": {},
   "outputs": [
    {
     "data": {
      "text/plain": [
       "((292479, 18), (318821, 18))"
      ]
     },
     "execution_count": 51,
     "metadata": {},
     "output_type": "execute_result"
    }
   ],
   "source": [
    "### eliminar registros duplicados\n",
    "sunat_train.drop_duplicates(inplace=True)\n",
    "sunat_test.drop_duplicates(inplace=True)\n",
    "sunat_train.shape, sunat_test.shape"
   ]
  },
  {
   "cell_type": "code",
   "execution_count": 52,
   "metadata": {},
   "outputs": [
    {
     "data": {
      "text/plain": [
       "((272028, 18), (293080, 18))"
      ]
     },
     "execution_count": 52,
     "metadata": {},
     "output_type": "execute_result"
    }
   ],
   "source": [
    "#### eliminando registros con fecalta y fecbaja con valores nulos\n",
    "mask = ~((sunat_train['fecalta'].astype('str')=='nan') & (sunat_train['fecbaja'].astype('str')=='nan'))\n",
    "sunat_train = sunat_train[mask].copy()\n",
    "mask = ~((sunat_test['fecalta'].astype('str')=='nan') & (sunat_test['fecbaja'].astype('str')=='nan'))\n",
    "sunat_test = sunat_test[mask].copy()\n",
    "sunat_train.shape, sunat_test.shape"
   ]
  },
  {
   "cell_type": "code",
   "execution_count": 53,
   "metadata": {},
   "outputs": [],
   "source": [
    "dict_ = {'tipcontribuyente': 'int32',\n",
    "         'tippersona': 'int32',\n",
    "         'ciiu': 'int32',\n",
    "         'ubigeo': 'int32',\n",
    "         'condiciondomicilio': 'int32',\n",
    "         'estadocontribuyente': 'int32',\n",
    "         'codvia': 'int32',\n",
    "         'codzona': 'int32',\n",
    "         'contabilidad': 'int32',\n",
    "         'facturacion': 'int32',\n",
    "         'domiciliado': 'int32',\n",
    "         'comercioexterior': 'int32',\n",
    "         'cargorele': 'int32',\n",
    "         'codentidadtributo': 'int32',\n",
    "         'estadotributo': 'int32'}\n",
    "sunat_train = sunat_train.astype(dict_)\n",
    "sunat_test = sunat_test.astype(dict_)"
   ]
  },
  {
   "cell_type": "code",
   "execution_count": 54,
   "metadata": {},
   "outputs": [],
   "source": [
    "sunat_train['diff_fech'] = sunat_train['fecbaja'] - sunat_train['fecalta']\n",
    "sunat_test['diff_fech'] = sunat_test['fecbaja'] - sunat_test['fecalta']"
   ]
  },
  {
   "cell_type": "code",
   "execution_count": 55,
   "metadata": {},
   "outputs": [],
   "source": [
    "moda=lambda x: calculate_mode(x)\n",
    "moda.__name__='mode'\n",
    "agg_sunat = {'tipcontribuyente':['nunique',moda],\n",
    "           'tippersona':['nunique',moda],\n",
    "           'ciiu':['nunique', moda],\n",
    "           'ubigeo':['nunique',moda],\n",
    "           'condiciondomicilio':['nunique',moda],\n",
    "           'estadocontribuyente':['nunique',moda],\n",
    "           'codvia':['nunique',moda],\n",
    "           'codzona':['nunique',moda],\n",
    "           'contabilidad':['nunique',moda],\n",
    "           'facturacion':['nunique',moda],\n",
    "           'domiciliado':['nunique',moda],\n",
    "           'comercioexterior':['nunique',moda],\n",
    "           'cargorele':['nunique',moda],\n",
    "           'codentidadtributo':['nunique',moda],\n",
    "           'estadotributo':['nunique',moda],\n",
    "           'fecalta':['mean','max', 'nunique'],\n",
    "           'fecbaja':['mean','max', 'nunique'], \n",
    "           'diff_fech':['mean','max', 'nunique'], \n",
    "            }\n",
    "\n",
    "sunat_train_ = sunat_train.groupby('key_value').agg(agg_sunat)\n",
    "sunat_train_.columns = [i+'_'+j for i,j in sunat_train_.columns]\n",
    "sunat_test_ = sunat_test.groupby('key_value').agg(agg_sunat)\n",
    "sunat_test_.columns = [i+'_'+j for i,j in sunat_test_.columns]\n",
    "del sunat_train, sunat_test"
   ]
  },
  {
   "cell_type": "markdown",
   "metadata": {},
   "source": [
    "#### guardando archivo procesado de SUNAT"
   ]
  },
  {
   "cell_type": "code",
   "execution_count": 56,
   "metadata": {},
   "outputs": [],
   "source": [
    "### guardando archivo procesado de sunat\n",
    "sunat_train_.to_csv('../data/intermediate/sunat_train.csv')\n",
    "sunat_test_.to_csv('../data/intermediate/sunat_test.csv')\n",
    "### cargando archivo procesado de sunat\n",
    "sunat_train_ = pd.read_csv('../data/intermediate/sunat_train.csv', index_col='key_value')\n",
    "sunat_test_ = pd.read_csv('../data/intermediate/sunat_test.csv',index_col='key_value')"
   ]
  },
  {
   "cell_type": "code",
   "execution_count": 63,
   "metadata": {},
   "outputs": [],
   "source": [
    "### unir SUNAT en la base final\n",
    "train = train.join(sunat_train_)\n",
    "test = test.join(sunat_test_)\n",
    "del sunat_train_, sunat_test_"
   ]
  },
  {
   "cell_type": "code",
   "execution_count": 64,
   "metadata": {},
   "outputs": [
    {
     "data": {
      "text/plain": [
       "tipo_credito_std_ult1mes       0.003855\n",
       "facturacion_mode               0.422910\n",
       "domiciliado_nunique            0.422910\n",
       "domiciliado_mode               0.422910\n",
       "comercioexterior_nunique       0.422910\n",
       "comercioexterior_mode          0.422910\n",
       "cargorele_nunique              0.422910\n",
       "cargorele_mode                 0.422910\n",
       "fecalta_max                    0.422910\n",
       "codentidadtributo_mode         0.422910\n",
       "estadotributo_nunique          0.422910\n",
       "estadotributo_mode             0.422910\n",
       "fecalta_mean                   0.422910\n",
       "facturacion_nunique            0.422910\n",
       "fecalta_nunique                0.422910\n",
       "fecbaja_nunique                0.422910\n",
       "codentidadtributo_nunique      0.422910\n",
       "contabilidad_mode              0.422910\n",
       "codvia_nunique                 0.422910\n",
       "codzona_mode                   0.422910\n",
       "tipcontribuyente_nunique       0.422910\n",
       "tipcontribuyente_mode          0.422910\n",
       "tippersona_nunique             0.422910\n",
       "tippersona_mode                0.422910\n",
       "contabilidad_nunique           0.422910\n",
       "ciiu_mode                      0.422910\n",
       "ubigeo_nunique                 0.422910\n",
       "ciiu_nunique                   0.422910\n",
       "condiciondomicilio_nunique     0.422910\n",
       "condiciondomicilio_mode        0.422910\n",
       "estadocontribuyente_nunique    0.422910\n",
       "estadocontribuyente_mode       0.422910\n",
       "codvia_mode                    0.422910\n",
       "codzona_nunique                0.422910\n",
       "ubigeo_mode                    0.422910\n",
       "diff_fech_nunique              0.422910\n",
       "fecbaja_mean                   0.900377\n",
       "fecbaja_max                    0.900377\n",
       "diff_fech_max                  0.900377\n",
       "diff_fech_mean                 0.900377\n",
       "dtype: float64"
      ]
     },
     "execution_count": 64,
     "metadata": {},
     "output_type": "execute_result"
    }
   ],
   "source": [
    "test.isna().sum().sort_values().tail(40)/len(test)"
   ]
  },
  {
   "cell_type": "markdown",
   "metadata": {},
   "source": [
    "## Training"
   ]
  },
  {
   "cell_type": "code",
   "execution_count": 66,
   "metadata": {},
   "outputs": [
    {
     "data": {
      "text/plain": [
       "((358487, 529), (396666, 529))"
      ]
     },
     "execution_count": 66,
     "metadata": {},
     "output_type": "execute_result"
    }
   ],
   "source": [
    "train.shape, test.shape"
   ]
  },
  {
   "cell_type": "code",
   "execution_count": 69,
   "metadata": {},
   "outputs": [
    {
     "name": "stdout",
     "output_type": "stream",
     "text": [
      "********** 0 **********\n",
      "Learning rate set to 0.128212\n",
      "0:\ttest: 0.7596428\ttest1: 0.7595157\tbest: 0.7595157 (0)\ttotal: 390ms\tremaining: 6m 29s\n",
      "50:\ttest: 0.8314743\ttest1: 0.8299549\tbest: 0.8299549 (50)\ttotal: 13.4s\tremaining: 4m 10s\n",
      "100:\ttest: 0.8403751\ttest1: 0.8372475\tbest: 0.8372475 (100)\ttotal: 27.8s\tremaining: 4m 7s\n",
      "150:\ttest: 0.8472075\ttest1: 0.8421988\tbest: 0.8421988 (150)\ttotal: 40.4s\tremaining: 3m 47s\n",
      "200:\ttest: 0.8518218\ttest1: 0.8447107\tbest: 0.8447107 (200)\ttotal: 53.6s\tremaining: 3m 32s\n",
      "250:\ttest: 0.8554655\ttest1: 0.8462349\tbest: 0.8462349 (250)\ttotal: 1m 7s\tremaining: 3m 21s\n",
      "300:\ttest: 0.8585992\ttest1: 0.8471408\tbest: 0.8471623 (296)\ttotal: 1m 19s\tremaining: 3m 4s\n",
      "350:\ttest: 0.8616006\ttest1: 0.8477409\tbest: 0.8477409 (350)\ttotal: 1m 32s\tremaining: 2m 51s\n",
      "Stopped by overfitting detector  (10 iterations wait)\n",
      "\n",
      "bestTest = 0.8478725916\n",
      "bestIteration = 359\n",
      "\n",
      "Shrink model to first 360 iterations.\n",
      "********** 1 **********\n",
      "Learning rate set to 0.128212\n",
      "0:\ttest: 0.7570365\ttest1: 0.7557954\tbest: 0.7557954 (0)\ttotal: 308ms\tremaining: 5m 7s\n",
      "50:\ttest: 0.8327025\ttest1: 0.8301041\tbest: 0.8301041 (50)\ttotal: 16.9s\tremaining: 5m 14s\n",
      "100:\ttest: 0.8416026\ttest1: 0.8372748\tbest: 0.8372748 (100)\ttotal: 30.9s\tremaining: 4m 35s\n",
      "150:\ttest: 0.8485921\ttest1: 0.8419343\tbest: 0.8419343 (150)\ttotal: 45.2s\tremaining: 4m 14s\n",
      "200:\ttest: 0.8527661\ttest1: 0.8438261\tbest: 0.8438261 (200)\ttotal: 59.4s\tremaining: 3m 56s\n",
      "250:\ttest: 0.8565188\ttest1: 0.8453252\tbest: 0.8453252 (250)\ttotal: 1m 13s\tremaining: 3m 39s\n",
      "300:\ttest: 0.8596937\ttest1: 0.8461713\tbest: 0.8461713 (300)\ttotal: 1m 27s\tremaining: 3m 23s\n",
      "350:\ttest: 0.8625492\ttest1: 0.8469219\tbest: 0.8469219 (350)\ttotal: 1m 42s\tremaining: 3m 8s\n",
      "400:\ttest: 0.8652433\ttest1: 0.8474964\tbest: 0.8474964 (400)\ttotal: 1m 56s\tremaining: 2m 53s\n",
      "450:\ttest: 0.8676793\ttest1: 0.8480275\tbest: 0.8480275 (450)\ttotal: 2m 10s\tremaining: 2m 39s\n",
      "500:\ttest: 0.8699801\ttest1: 0.8483389\tbest: 0.8483455 (497)\ttotal: 2m 25s\tremaining: 2m 24s\n",
      "Stopped by overfitting detector  (10 iterations wait)\n",
      "\n",
      "bestTest = 0.8484159689\n",
      "bestIteration = 532\n",
      "\n",
      "Shrink model to first 533 iterations.\n",
      "********** 2 **********\n",
      "Learning rate set to 0.128212\n",
      "0:\ttest: 0.7469703\ttest1: 0.7483988\tbest: 0.7483988 (0)\ttotal: 287ms\tremaining: 4m 46s\n",
      "50:\ttest: 0.8314118\ttest1: 0.8322850\tbest: 0.8322850 (50)\ttotal: 15.7s\tremaining: 4m 52s\n",
      "100:\ttest: 0.8403106\ttest1: 0.8390016\tbest: 0.8390016 (100)\ttotal: 30.6s\tremaining: 4m 32s\n",
      "150:\ttest: 0.8469727\ttest1: 0.8431454\tbest: 0.8431454 (150)\ttotal: 44.8s\tremaining: 4m 12s\n",
      "200:\ttest: 0.8517024\ttest1: 0.8458131\tbest: 0.8458131 (200)\ttotal: 58.5s\tremaining: 3m 52s\n",
      "250:\ttest: 0.8555817\ttest1: 0.8472551\tbest: 0.8472735 (247)\ttotal: 1m 11s\tremaining: 3m 33s\n",
      "300:\ttest: 0.8586024\ttest1: 0.8482723\tbest: 0.8482865 (299)\ttotal: 1m 23s\tremaining: 3m 14s\n",
      "350:\ttest: 0.8616052\ttest1: 0.8491291\tbest: 0.8491291 (350)\ttotal: 1m 36s\tremaining: 2m 58s\n",
      "400:\ttest: 0.8642875\ttest1: 0.8499241\tbest: 0.8499251 (399)\ttotal: 1m 49s\tremaining: 2m 42s\n",
      "450:\ttest: 0.8668617\ttest1: 0.8504082\tbest: 0.8504082 (450)\ttotal: 2m 1s\tremaining: 2m 27s\n",
      "Stopped by overfitting detector  (10 iterations wait)\n",
      "\n",
      "bestTest = 0.8506597011\n",
      "bestIteration = 485\n",
      "\n",
      "Shrink model to first 486 iterations.\n",
      "********** 3 **********\n",
      "Learning rate set to 0.128212\n",
      "0:\ttest: 0.7528648\ttest1: 0.7559933\tbest: 0.7559933 (0)\ttotal: 269ms\tremaining: 4m 29s\n",
      "50:\ttest: 0.8301759\ttest1: 0.8303580\tbest: 0.8303580 (50)\ttotal: 14.7s\tremaining: 4m 33s\n",
      "100:\ttest: 0.8397969\ttest1: 0.8377911\tbest: 0.8377911 (100)\ttotal: 29.8s\tremaining: 4m 25s\n",
      "150:\ttest: 0.8467549\ttest1: 0.8422389\tbest: 0.8422389 (150)\ttotal: 44.3s\tremaining: 4m 8s\n",
      "200:\ttest: 0.8516890\ttest1: 0.8449365\tbest: 0.8449365 (200)\ttotal: 57.7s\tremaining: 3m 49s\n",
      "250:\ttest: 0.8554681\ttest1: 0.8465123\tbest: 0.8465150 (249)\ttotal: 1m 11s\tremaining: 3m 32s\n",
      "300:\ttest: 0.8587541\ttest1: 0.8478525\tbest: 0.8478525 (300)\ttotal: 1m 24s\tremaining: 3m 15s\n",
      "350:\ttest: 0.8617047\ttest1: 0.8488072\tbest: 0.8488072 (350)\ttotal: 1m 38s\tremaining: 3m 1s\n",
      "400:\ttest: 0.8642902\ttest1: 0.8493483\tbest: 0.8493554 (399)\ttotal: 1m 51s\tremaining: 2m 46s\n",
      "450:\ttest: 0.8668642\ttest1: 0.8497835\tbest: 0.8497835 (450)\ttotal: 2m 5s\tremaining: 2m 32s\n",
      "500:\ttest: 0.8693187\ttest1: 0.8504235\tbest: 0.8504235 (500)\ttotal: 2m 18s\tremaining: 2m 18s\n",
      "550:\ttest: 0.8716197\ttest1: 0.8508955\tbest: 0.8508955 (550)\ttotal: 2m 32s\tremaining: 2m 4s\n",
      "600:\ttest: 0.8738064\ttest1: 0.8512177\tbest: 0.8512285 (597)\ttotal: 2m 46s\tremaining: 1m 50s\n",
      "650:\ttest: 0.8759669\ttest1: 0.8515927\tbest: 0.8515927 (650)\ttotal: 3m 1s\tremaining: 1m 37s\n",
      "700:\ttest: 0.8779491\ttest1: 0.8519540\tbest: 0.8519773 (695)\ttotal: 3m 14s\tremaining: 1m 23s\n",
      "Stopped by overfitting detector  (10 iterations wait)\n",
      "\n",
      "bestTest = 0.8519772523\n",
      "bestIteration = 695\n",
      "\n",
      "Shrink model to first 696 iterations.\n",
      "********** 4 **********\n",
      "Learning rate set to 0.128212\n",
      "0:\ttest: 0.7551318\ttest1: 0.7432104\tbest: 0.7432104 (0)\ttotal: 328ms\tremaining: 5m 27s\n",
      "50:\ttest: 0.8334674\ttest1: 0.8240398\tbest: 0.8240398 (50)\ttotal: 16.2s\tremaining: 5m\n",
      "100:\ttest: 0.8429891\ttest1: 0.8313063\tbest: 0.8313063 (100)\ttotal: 31.1s\tremaining: 4m 36s\n",
      "150:\ttest: 0.8494559\ttest1: 0.8350415\tbest: 0.8350415 (150)\ttotal: 45.1s\tremaining: 4m 13s\n",
      "200:\ttest: 0.8538823\ttest1: 0.8368258\tbest: 0.8368355 (199)\ttotal: 59.1s\tremaining: 3m 55s\n",
      "250:\ttest: 0.8577280\ttest1: 0.8380641\tbest: 0.8380641 (250)\ttotal: 1m 13s\tremaining: 3m 38s\n",
      "300:\ttest: 0.8609057\ttest1: 0.8390190\tbest: 0.8390190 (300)\ttotal: 1m 26s\tremaining: 3m 21s\n",
      "350:\ttest: 0.8642781\ttest1: 0.8400368\tbest: 0.8400368 (350)\ttotal: 1m 41s\tremaining: 3m 6s\n",
      "400:\ttest: 0.8669809\ttest1: 0.8404574\tbest: 0.8404649 (397)\ttotal: 1m 55s\tremaining: 2m 52s\n",
      "Stopped by overfitting detector  (10 iterations wait)\n",
      "\n",
      "bestTest = 0.8407584339\n",
      "bestIteration = 428\n",
      "\n",
      "Shrink model to first 429 iterations.\n",
      "*********************\n",
      "roc auc estimado:  0.8479889861427623\n",
      "roc auc varianza:  0.0009525403199195268\n"
     ]
    }
   ],
   "source": [
    "from catboost import CatBoostClassifier\n",
    "from sklearn.metrics import roc_auc_score\n",
    "from sklearn.model_selection import KFold\n",
    "import numpy as np\n",
    "folds = [train.index[t] for t, v in KFold(5).split(train)]\n",
    "test_probs = []\n",
    "train_probs = []\n",
    "fi = []\n",
    "for i, idx in enumerate(folds):\n",
    "    print(\"*\"*10, i, \"*\"*10)\n",
    "    Xt = train.loc[idx]\n",
    "    yt = y_train.loc[Xt.index]\n",
    "\n",
    "    Xv = train.drop(Xt.index)\n",
    "    yv = y_train.loc[Xv.index]\n",
    "\n",
    "    learner = CatBoostClassifier(n_estimators=1000,  eval_metric = 'AUC', max_depth = 6)\n",
    "    learner.fit(Xt, yt,  early_stopping_rounds=10, \n",
    "                eval_set=[(Xt, yt), (Xv, yv)], verbose=50)\n",
    "    test_probs.append(pd.Series(learner.predict_proba(test)[:, -1], index=test.index, name=\"fold_\" + str(i)))\n",
    "    train_probs.append(pd.Series(learner.predict_proba(Xv)[:, -1], index=Xv.index, name=\"probs\"))\n",
    "    fi.append(pd.Series(learner.feature_importances_ / learner.feature_importances_.sum(), index=Xt.columns))\n",
    "    gc.collect()\n",
    "test_probs = pd.concat(test_probs, axis=1).mean(axis=1)\n",
    "train_probs = pd.concat(train_probs)\n",
    "fi = pd.concat(fi, axis=1).mean(axis=1)\n",
    "print(\"*\" * 21)\n",
    "print(\"roc auc estimado: \", roc_auc_score(y_train, train_probs.loc[y_train.index]))\n",
    "print(\"roc auc varianza: \", np.std([roc_auc_score(y_train.loc[folds[i]], train_probs.iloc[folds[i]]) for i in range(len(folds))]))"
   ]
  },
  {
   "cell_type": "code",
   "execution_count": 70,
   "metadata": {},
   "outputs": [
    {
     "data": {
      "text/plain": [
       "350"
      ]
     },
     "execution_count": 70,
     "metadata": {},
     "output_type": "execute_result"
    }
   ],
   "source": [
    "fi.to_pickle('fi_catboost.pkl')\n",
    "fi = pd.read_pickle('fi_catboost.pkl')\n",
    "features_importances_350 = list(fi.sort_values(ascending=False).head(350).index)\n",
    "len(features_importances_350)"
   ]
  },
  {
   "cell_type": "code",
   "execution_count": 71,
   "metadata": {},
   "outputs": [
    {
     "data": {
      "text/plain": [
       "dto_me                                        0.052041\n",
       "cod_instit_financiera_mode_ult1mes_me         0.030246\n",
       "tipo_credito_sum_ult12mes                     0.029668\n",
       "COD_CLASIFICACION_DEUDOR_mean_ult1mes         0.026830\n",
       "tip_lvledu_me                                 0.023739\n",
       "RIESGO_DIRECTO_1_saldo_ult1meses              0.019971\n",
       "tipo_credito_11_saldo_ult1meses               0.019324\n",
       "edad                                          0.017581\n",
       "RIESGO_DIRECTO_sum_ult12mes                   0.017406\n",
       "COD_CLASIFICACION_DEUDOR_max_ult1mes          0.016810\n",
       "COD_CLASIFICACION_DEUDOR_sum_ult1mes          0.015080\n",
       "sexo_me                                       0.013601\n",
       "saldo_sum_ult1mes                             0.013471\n",
       "PRODUCTO_min_ult1mes                          0.012943\n",
       "RIESGO_DIRECTO_mean_ult1mes                   0.012649\n",
       "flg_sin_email_me                              0.012361\n",
       "cod_instit_financiera_nunique_ult1mes         0.012164\n",
       "RIESGO_DIRECTO_-1_saldo_ult1meses             0.011622\n",
       "cod_instit_financiera_mode_ult12mes_me        0.011177\n",
       "sit_lab_me                                    0.010577\n",
       "cod_instit_financiera_max_ult1mes             0.009436\n",
       "cod_instit_financiera_min_ult1mes             0.009214\n",
       "cod_instit_financiera_mode_ult2mes_me         0.008228\n",
       "condicion_sum_ult1mes                         0.008048\n",
       "cod_instit_financiera_mode_ult6mes_me         0.008017\n",
       "COD_CLASIFICACION_DEUDOR_0_saldo_ult1meses    0.007944\n",
       "RIESGO_DIRECTO_1_saldo_ult12meses             0.007441\n",
       "tipo_credito_sum_ult1mes                      0.007009\n",
       "cod_ubi                                       0.006946\n",
       "RIESGO_DIRECTO_-1_saldo_ult12meses            0.006617\n",
       "tipo_credito_sum_ult2mes                      0.006410\n",
       "cod_instit_financiera_mode_ult4mes_me         0.006391\n",
       "condicion_mean_ult1mes                        0.006172\n",
       "cod_instit_financiera_max_ult2mes             0.006000\n",
       "tipo_credito_12_saldo_ult1meses               0.005925\n",
       "condicion_max_ult1mes                         0.005918\n",
       "saldo_mean_ult1mes                            0.005803\n",
       "saldo_mean_ult12mes                           0.005712\n",
       "RIESGO_DIRECTO_-1_saldo_ult2meses             0.005645\n",
       "saldo_min_ult1mes                             0.005525\n",
       "cod_instit_financiera_mode_ult5mes_me         0.005499\n",
       "PRODUCTO_mode_ult5mes_me                      0.005440\n",
       "RIESGO_DIRECTO_1_saldo_ult2meses              0.005244\n",
       "lgr_vot_me                                    0.005234\n",
       "prv_me                                        0.005233\n",
       "tipo_credito_11_saldo_ult12meses              0.005129\n",
       "ctd_veh                                       0.005110\n",
       "RIESGO_DIRECTO_std_ult12mes                   0.004683\n",
       "cod_ocu_me                                    0.004640\n",
       "RIESGO_DIRECTO_std_ult6mes                    0.004504\n",
       "dtype: float64"
      ]
     },
     "execution_count": 71,
     "metadata": {},
     "output_type": "execute_result"
    }
   ],
   "source": [
    "fi.sort_values(ascending=False).head(50)"
   ]
  },
  {
   "cell_type": "code",
   "execution_count": 73,
   "metadata": {},
   "outputs": [
    {
     "name": "stdout",
     "output_type": "stream",
     "text": [
      "********** 0 **********\n"
     ]
    },
    {
     "name": "stderr",
     "output_type": "stream",
     "text": [
      "C:\\Users\\usuario\\anaconda3\\envs\\venv_datathon\\lib\\site-packages\\sklearn\\preprocessing\\_label.py:235: DataConversionWarning: A column-vector y was passed when a 1d array was expected. Please change the shape of y to (n_samples, ), for example using ravel().\n",
      "  y = column_or_1d(y, warn=True)\n",
      "C:\\Users\\usuario\\anaconda3\\envs\\venv_datathon\\lib\\site-packages\\sklearn\\preprocessing\\_label.py:268: DataConversionWarning: A column-vector y was passed when a 1d array was expected. Please change the shape of y to (n_samples, ), for example using ravel().\n",
      "  y = column_or_1d(y, warn=True)\n"
     ]
    },
    {
     "name": "stdout",
     "output_type": "stream",
     "text": [
      "[LightGBM] [Warning] Accuracy may be bad since you didn't explicitly set num_leaves OR 2^max_depth > num_leaves. (num_leaves=31).\n",
      "Training until validation scores don't improve for 10 rounds\n",
      "[50]\ttraining's auc: 0.842068\ttraining's binary_logloss: 0.30435\tvalid_1's auc: 0.835082\tvalid_1's binary_logloss: 0.309371\n",
      "[100]\ttraining's auc: 0.853688\ttraining's binary_logloss: 0.295025\tvalid_1's auc: 0.843605\tvalid_1's binary_logloss: 0.302973\n",
      "[150]\ttraining's auc: 0.860432\ttraining's binary_logloss: 0.289738\tvalid_1's auc: 0.846865\tvalid_1's binary_logloss: 0.300426\n",
      "[200]\ttraining's auc: 0.865919\ttraining's binary_logloss: 0.285502\tvalid_1's auc: 0.848669\tvalid_1's binary_logloss: 0.299006\n",
      "[250]\ttraining's auc: 0.869869\ttraining's binary_logloss: 0.282306\tvalid_1's auc: 0.849899\tvalid_1's binary_logloss: 0.298014\n",
      "[300]\ttraining's auc: 0.873093\ttraining's binary_logloss: 0.279555\tvalid_1's auc: 0.85055\tvalid_1's binary_logloss: 0.29746\n",
      "Early stopping, best iteration is:\n",
      "[332]\ttraining's auc: 0.875376\ttraining's binary_logloss: 0.277629\tvalid_1's auc: 0.850991\tvalid_1's binary_logloss: 0.297073\n",
      "********** 1 **********\n",
      "[LightGBM] [Warning] Accuracy may be bad since you didn't explicitly set num_leaves OR 2^max_depth > num_leaves. (num_leaves=31).\n",
      "Training until validation scores don't improve for 10 rounds\n",
      "[50]\ttraining's auc: 0.842077\ttraining's binary_logloss: 0.304448\tvalid_1's auc: 0.834488\tvalid_1's binary_logloss: 0.309971\n",
      "[100]\ttraining's auc: 0.854294\ttraining's binary_logloss: 0.294741\tvalid_1's auc: 0.842396\tvalid_1's binary_logloss: 0.303633\n",
      "[150]\ttraining's auc: 0.860794\ttraining's binary_logloss: 0.289538\tvalid_1's auc: 0.845654\tvalid_1's binary_logloss: 0.30103\n",
      "[200]\ttraining's auc: 0.865812\ttraining's binary_logloss: 0.285541\tvalid_1's auc: 0.847457\tvalid_1's binary_logloss: 0.299554\n",
      "[250]\ttraining's auc: 0.869698\ttraining's binary_logloss: 0.282343\tvalid_1's auc: 0.848684\tvalid_1's binary_logloss: 0.298523\n",
      "[300]\ttraining's auc: 0.873721\ttraining's binary_logloss: 0.279109\tvalid_1's auc: 0.849668\tvalid_1's binary_logloss: 0.297757\n",
      "[350]\ttraining's auc: 0.876706\ttraining's binary_logloss: 0.276629\tvalid_1's auc: 0.850117\tvalid_1's binary_logloss: 0.297335\n",
      "[400]\ttraining's auc: 0.879247\ttraining's binary_logloss: 0.274441\tvalid_1's auc: 0.850516\tvalid_1's binary_logloss: 0.297029\n",
      "Early stopping, best iteration is:\n",
      "[439]\ttraining's auc: 0.881826\ttraining's binary_logloss: 0.272403\tvalid_1's auc: 0.850816\tvalid_1's binary_logloss: 0.296761\n",
      "********** 2 **********\n",
      "[LightGBM] [Warning] Accuracy may be bad since you didn't explicitly set num_leaves OR 2^max_depth > num_leaves. (num_leaves=31).\n",
      "Training until validation scores don't improve for 10 rounds\n",
      "[50]\ttraining's auc: 0.842195\ttraining's binary_logloss: 0.304525\tvalid_1's auc: 0.837332\tvalid_1's binary_logloss: 0.307683\n",
      "[100]\ttraining's auc: 0.854035\ttraining's binary_logloss: 0.295228\tvalid_1's auc: 0.844798\tvalid_1's binary_logloss: 0.301566\n",
      "[150]\ttraining's auc: 0.860737\ttraining's binary_logloss: 0.289878\tvalid_1's auc: 0.848106\tvalid_1's binary_logloss: 0.298821\n",
      "[200]\ttraining's auc: 0.865768\ttraining's binary_logloss: 0.285868\tvalid_1's auc: 0.849848\tvalid_1's binary_logloss: 0.29724\n",
      "[250]\ttraining's auc: 0.869415\ttraining's binary_logloss: 0.282764\tvalid_1's auc: 0.850895\tvalid_1's binary_logloss: 0.296173\n",
      "[300]\ttraining's auc: 0.872868\ttraining's binary_logloss: 0.279913\tvalid_1's auc: 0.851578\tvalid_1's binary_logloss: 0.295434\n",
      "[350]\ttraining's auc: 0.876294\ttraining's binary_logloss: 0.277085\tvalid_1's auc: 0.852257\tvalid_1's binary_logloss: 0.29484\n",
      "Early stopping, best iteration is:\n",
      "[379]\ttraining's auc: 0.878359\ttraining's binary_logloss: 0.27551\tvalid_1's auc: 0.852499\tvalid_1's binary_logloss: 0.294587\n",
      "********** 3 **********\n",
      "[LightGBM] [Warning] Accuracy may be bad since you didn't explicitly set num_leaves OR 2^max_depth > num_leaves. (num_leaves=31).\n",
      "Training until validation scores don't improve for 10 rounds\n",
      "[50]\ttraining's auc: 0.841642\ttraining's binary_logloss: 0.304923\tvalid_1's auc: 0.836292\tvalid_1's binary_logloss: 0.307846\n",
      "[100]\ttraining's auc: 0.854122\ttraining's binary_logloss: 0.295073\tvalid_1's auc: 0.844714\tvalid_1's binary_logloss: 0.30097\n",
      "[150]\ttraining's auc: 0.860439\ttraining's binary_logloss: 0.290015\tvalid_1's auc: 0.848023\tvalid_1's binary_logloss: 0.298291\n",
      "[200]\ttraining's auc: 0.865955\ttraining's binary_logloss: 0.285693\tvalid_1's auc: 0.85009\tvalid_1's binary_logloss: 0.296585\n",
      "[250]\ttraining's auc: 0.869987\ttraining's binary_logloss: 0.282396\tvalid_1's auc: 0.851297\tvalid_1's binary_logloss: 0.295555\n",
      "[300]\ttraining's auc: 0.873491\ttraining's binary_logloss: 0.279599\tvalid_1's auc: 0.851748\tvalid_1's binary_logloss: 0.295068\n",
      "[350]\ttraining's auc: 0.876925\ttraining's binary_logloss: 0.276803\tvalid_1's auc: 0.852435\tvalid_1's binary_logloss: 0.294453\n",
      "Early stopping, best iteration is:\n",
      "[354]\ttraining's auc: 0.877219\ttraining's binary_logloss: 0.276554\tvalid_1's auc: 0.852449\tvalid_1's binary_logloss: 0.294427\n",
      "********** 4 **********\n",
      "[LightGBM] [Warning] Accuracy may be bad since you didn't explicitly set num_leaves OR 2^max_depth > num_leaves. (num_leaves=31).\n",
      "Training until validation scores don't improve for 10 rounds\n",
      "[50]\ttraining's auc: 0.843453\ttraining's binary_logloss: 0.304254\tvalid_1's auc: 0.829256\tvalid_1's binary_logloss: 0.309846\n",
      "[100]\ttraining's auc: 0.855746\ttraining's binary_logloss: 0.294464\tvalid_1's auc: 0.836439\tvalid_1's binary_logloss: 0.304072\n",
      "[150]\ttraining's auc: 0.862126\ttraining's binary_logloss: 0.289262\tvalid_1's auc: 0.839255\tvalid_1's binary_logloss: 0.301845\n",
      "[200]\ttraining's auc: 0.867452\ttraining's binary_logloss: 0.284991\tvalid_1's auc: 0.840899\tvalid_1's binary_logloss: 0.300538\n",
      "[250]\ttraining's auc: 0.871832\ttraining's binary_logloss: 0.28148\tvalid_1's auc: 0.842047\tvalid_1's binary_logloss: 0.299695\n",
      "[300]\ttraining's auc: 0.874968\ttraining's binary_logloss: 0.278839\tvalid_1's auc: 0.84271\tvalid_1's binary_logloss: 0.299179\n",
      "[350]\ttraining's auc: 0.87827\ttraining's binary_logloss: 0.276048\tvalid_1's auc: 0.843232\tvalid_1's binary_logloss: 0.298764\n",
      "[400]\ttraining's auc: 0.881749\ttraining's binary_logloss: 0.273269\tvalid_1's auc: 0.843699\tvalid_1's binary_logloss: 0.298485\n",
      "[450]\ttraining's auc: 0.884438\ttraining's binary_logloss: 0.270966\tvalid_1's auc: 0.844125\tvalid_1's binary_logloss: 0.298196\n",
      "[500]\ttraining's auc: 0.88702\ttraining's binary_logloss: 0.268744\tvalid_1's auc: 0.8444\tvalid_1's binary_logloss: 0.297969\n",
      "Early stopping, best iteration is:\n",
      "[506]\ttraining's auc: 0.887438\ttraining's binary_logloss: 0.268399\tvalid_1's auc: 0.844478\tvalid_1's binary_logloss: 0.297907\n",
      "*********************\n",
      "roc auc estimado:  0.8502738596168428\n",
      "roc auc varianza:  0.0007284440283061722\n"
     ]
    }
   ],
   "source": [
    "from lightgbm import LGBMClassifier\n",
    "from sklearn.metrics import roc_auc_score\n",
    "from sklearn.model_selection import KFold\n",
    "import numpy as np\n",
    "folds = [train.index[t] for t, v in KFold(5).split(train)]\n",
    "test_probs = []\n",
    "train_probs = []\n",
    "fi = []\n",
    "for i, idx in enumerate(folds):\n",
    "    print(\"*\"*10, i, \"*\"*10)\n",
    "    Xt = train.loc[idx]\n",
    "    yt = y_train.loc[Xt.index]\n",
    "\n",
    "    Xv = train.drop(Xt.index)\n",
    "    yv = y_train.loc[Xv.index]\n",
    "\n",
    "    learner = LGBMClassifier(n_estimators=1000, max_depth = 6, boosting_type='gbdt', min_child_samples=1000)\n",
    "    learner.fit(Xt, yt,  early_stopping_rounds=10, eval_metric=\"auc\",\n",
    "                eval_set=[(Xt, yt), (Xv, yv)], verbose=50)\n",
    "    test_probs.append(pd.Series(learner.predict_proba(test)[:, -1], index=test.index, name=\"fold_\" + str(i)))\n",
    "    train_probs.append(pd.Series(learner.predict_proba(Xv)[:, -1], index=Xv.index, name=\"probs\"))\n",
    "    fi.append(pd.Series(learner.feature_importances_ / learner.feature_importances_.sum(), index=Xt.columns))\n",
    "\n",
    "test_probs = pd.concat(test_probs, axis=1).mean(axis=1)\n",
    "train_probs = pd.concat(train_probs)\n",
    "fi = pd.concat(fi, axis=1).mean(axis=1)\n",
    "print(\"*\" * 21)\n",
    "print(\"roc auc estimado: \", roc_auc_score(y_train, train_probs.loc[y_train.index]))\n",
    "print(\"roc auc varianza: \", np.std([roc_auc_score(y_train.loc[folds[i]], train_probs.iloc[folds[i]]) for i in range(len(folds))]))  "
   ]
  },
  {
   "cell_type": "code",
   "execution_count": 74,
   "metadata": {},
   "outputs": [
    {
     "data": {
      "text/plain": [
       "350"
      ]
     },
     "execution_count": 74,
     "metadata": {},
     "output_type": "execute_result"
    }
   ],
   "source": [
    "fi.to_pickle('fi_lightgbm.pkl')\n",
    "fi = pd.read_pickle('fi_lightgbm.pkl')\n",
    "features_importances_350 = list(fi.sort_values(ascending=False).head(350).index)\n",
    "len(features_importances_350)"
   ]
  },
  {
   "cell_type": "code",
   "execution_count": 75,
   "metadata": {},
   "outputs": [
    {
     "data": {
      "text/plain": [
       "dto_me                                    0.024878\n",
       "tipo_credito_sum_ult12mes                 0.020595\n",
       "edad                                      0.017899\n",
       "RIESGO_DIRECTO_1_saldo_ult1meses          0.015063\n",
       "cod_ubi                                   0.014775\n",
       "cod_instit_financiera_mode_ult1mes_me     0.014701\n",
       "tipo_credito_11_saldo_ult1meses           0.013200\n",
       "tipo_credito_sum_ult1mes                  0.012868\n",
       "RIESGO_DIRECTO_sum_ult12mes               0.012771\n",
       "RIESGO_DIRECTO_1_saldo_ult12meses         0.012482\n",
       "RIESGO_DIRECTO_mean_ult1mes               0.012077\n",
       "saldo_mean_ult12mes                       0.012016\n",
       "RIESGO_DIRECTO_-1_saldo_ult1meses         0.011753\n",
       "ubigeo_mode                               0.011692\n",
       "cod_instit_financiera_max_ult1mes         0.011375\n",
       "tip_lvledu_me                             0.010254\n",
       "cod_instit_financiera_mode_ult12mes_me    0.010062\n",
       "saldo_min_ult1mes                         0.009493\n",
       "cod_instit_financiera_min_ult1mes         0.009483\n",
       "tipo_credito_sum_ult2mes                  0.009074\n",
       "ciiu_mode                                 0.008824\n",
       "RIESGO_DIRECTO_std_ult12mes               0.008675\n",
       "saldo_mean_ult1mes                        0.008240\n",
       "fecalta_mean                              0.008168\n",
       "RIESGO_DIRECTO_-1_saldo_ult2meses         0.007985\n",
       "prv_me                                    0.007922\n",
       "saldo_max_ult12mes                        0.007842\n",
       "tipo_credito_12_saldo_ult12meses          0.007633\n",
       "RIESGO_DIRECTO_-1_saldo_ult12meses        0.007615\n",
       "flg_sin_email_me                          0.007539\n",
       "RIESGO_DIRECTO_1_saldo_ult3meses          0.007525\n",
       "RIESGO_DIRECTO_1_saldo_ult2meses          0.007474\n",
       "sexo_me                                   0.007387\n",
       "RIESGO_DIRECTO_mean_ult12mes              0.007002\n",
       "tipo_credito_12_saldo_ult1meses           0.006843\n",
       "cod_instit_financiera_min_ult12mes        0.006662\n",
       "cod_ocu_me                                0.006415\n",
       "lgr_vot_me                                0.006352\n",
       "tipo_credito_11_saldo_ult12meses          0.006194\n",
       "estadocontribuyente_mode                  0.006165\n",
       "saldo_std_ult1mes                         0.006141\n",
       "cod_instit_financiera_max_ult12mes        0.006134\n",
       "RIESGO_DIRECTO_mean_ult2mes               0.005994\n",
       "tipo_credito_mean_ult1mes                 0.005916\n",
       "cod_instit_financiera_mode_ult2mes_me     0.005885\n",
       "tipo_credito_std_ult12mes                 0.005869\n",
       "saldo_std_ult12mes                        0.005755\n",
       "tipo_credito_std_ult1mes                  0.005592\n",
       "sit_lab_me                                0.005378\n",
       "condicion_mean_ult12mes                   0.005310\n",
       "dtype: float64"
      ]
     },
     "execution_count": 75,
     "metadata": {},
     "output_type": "execute_result"
    }
   ],
   "source": [
    "fi.sort_values(ascending=False).head(50)"
   ]
  },
  {
   "cell_type": "code",
   "execution_count": 76,
   "metadata": {},
   "outputs": [
    {
     "data": {
      "text/plain": [
       "<catboost.core.CatBoostClassifier at 0x1e26e38d8b0>"
      ]
     },
     "execution_count": 76,
     "metadata": {},
     "output_type": "execute_result"
    }
   ],
   "source": [
    "from catboost import CatBoostClassifier\n",
    "fi = pd.read_pickle('fi_catboost.pkl')\n",
    "features_importances_250_catboost = list(fi.sort_values(ascending=False).head(250).index)\n",
    "learner_catboost = CatBoostClassifier(n_estimators=1000, eval_metric = 'AUC', max_depth = 6)\n",
    "learner_catboost.fit(train[features_importances_250_catboost], y_train,  early_stopping_rounds=10, verbose=False)"
   ]
  },
  {
   "cell_type": "code",
   "execution_count": 77,
   "metadata": {},
   "outputs": [
    {
     "name": "stderr",
     "output_type": "stream",
     "text": [
      "C:\\Users\\usuario\\anaconda3\\envs\\venv_datathon\\lib\\site-packages\\sklearn\\preprocessing\\_label.py:235: DataConversionWarning: A column-vector y was passed when a 1d array was expected. Please change the shape of y to (n_samples, ), for example using ravel().\n",
      "  y = column_or_1d(y, warn=True)\n",
      "C:\\Users\\usuario\\anaconda3\\envs\\venv_datathon\\lib\\site-packages\\sklearn\\preprocessing\\_label.py:268: DataConversionWarning: A column-vector y was passed when a 1d array was expected. Please change the shape of y to (n_samples, ), for example using ravel().\n",
      "  y = column_or_1d(y, warn=True)\n"
     ]
    },
    {
     "name": "stdout",
     "output_type": "stream",
     "text": [
      "[LightGBM] [Warning] Accuracy may be bad since you didn't explicitly set num_leaves OR 2^max_depth > num_leaves. (num_leaves=31).\n"
     ]
    },
    {
     "data": {
      "text/plain": [
       "LGBMClassifier(boosting_type='gbdt', class_weight=None, colsample_bytree=1.0,\n",
       "               importance_type='split', learning_rate=0.1, max_depth=6,\n",
       "               min_child_samples=1000, min_child_weight=0.001,\n",
       "               min_split_gain=0.0, n_estimators=1000, n_jobs=-1, num_leaves=31,\n",
       "               objective=None, random_state=None, reg_alpha=0.0, reg_lambda=0.0,\n",
       "               silent=True, subsample=1.0, subsample_for_bin=200000,\n",
       "               subsample_freq=0)"
      ]
     },
     "execution_count": 77,
     "metadata": {},
     "output_type": "execute_result"
    }
   ],
   "source": [
    "from lightgbm import LGBMClassifier\n",
    "fi = pd.read_pickle('fi_lightgbm.pkl')\n",
    "features_importances_250_lightgbm = list(fi.sort_values(ascending=False).head(250).index)\n",
    "learner_lightgbm = LGBMClassifier(n_estimators=1000, max_depth=6, boosting_type='gbdt', min_child_samples=1000)\n",
    "learner_lightgbm.fit(train[features_importances_250_lightgbm], y_train, eval_metric=\"auc\", verbose=True)"
   ]
  },
  {
   "cell_type": "code",
   "execution_count": 78,
   "metadata": {},
   "outputs": [
    {
     "data": {
      "text/plain": [
       "(396666,)"
      ]
     },
     "execution_count": 78,
     "metadata": {},
     "output_type": "execute_result"
    }
   ],
   "source": [
    "test_probs_catboost = pd.Series(learner_catboost.predict_proba(test[features_importances_250_catboost])[:, -1], index=test.index, name=\"target\")\n",
    "test_probs_lightgbm = pd.Series(learner_lightgbm.predict_proba(test[features_importances_250_lightgbm])[:, -1], index=test.index, name=\"target\")\n",
    "test_probs_mean = test_probs_catboost*0.4 + test_probs_lightgbm*0.6\n",
    "test_probs_mean.name = 'target'\n",
    "test_probs_mean.shape"
   ]
  },
  {
   "cell_type": "code",
   "execution_count": 79,
   "metadata": {},
   "outputs": [],
   "source": [
    "test_probs_mean.to_csv(\"../results/test80.csv\")"
   ]
  },
  {
   "cell_type": "code",
   "execution_count": 80,
   "metadata": {},
   "outputs": [
    {
     "name": "stdout",
     "output_type": "stream",
     "text": [
      "Successfully submitted to Datathon Internacional Interbank 2020"
     ]
    },
    {
     "name": "stderr",
     "output_type": "stream",
     "text": [
      "\n",
      "  0%|          | 0.00/10.5M [00:00<?, ?B/s]\n",
      "  0%|          | 8.00k/10.5M [00:02<52:38, 3.48kB/s]\n",
      "  2%|1         | 208k/10.5M [00:03<02:11, 82.1kB/s] \n",
      "  2%|2         | 224k/10.5M [00:03<02:05, 85.5kB/s]\n",
      "  2%|2         | 264k/10.5M [00:03<01:44, 103kB/s] \n",
      "  3%|2         | 312k/10.5M [00:03<01:21, 130kB/s]\n",
      "  3%|3         | 368k/10.5M [00:03<01:03, 168kB/s]\n",
      "  4%|4         | 432k/10.5M [00:04<00:49, 212kB/s]\n",
      "  5%|4         | 496k/10.5M [00:04<00:41, 253kB/s]\n",
      "  5%|5         | 568k/10.5M [00:04<00:34, 304kB/s]\n",
      "  7%|6         | 704k/10.5M [00:04<00:23, 441kB/s]\n",
      "  7%|7         | 784k/10.5M [00:04<00:21, 468kB/s]\n",
      "  8%|8         | 872k/10.5M [00:04<00:20, 503kB/s]\n",
      "  9%|8         | 928k/10.5M [00:04<00:20, 490kB/s]\n",
      "  9%|9         | 984k/10.5M [00:05<00:20, 487kB/s]\n",
      " 10%|9         | 1.03M/10.5M [00:05<00:18, 534kB/s]\n",
      " 10%|#         | 1.09M/10.5M [00:05<00:21, 469kB/s]\n",
      " 11%|#         | 1.14M/10.5M [00:05<00:21, 446kB/s]\n",
      " 11%|#1        | 1.19M/10.5M [00:05<00:22, 426kB/s]\n",
      " 12%|#1        | 1.23M/10.5M [00:05<00:22, 435kB/s]\n",
      " 12%|#2        | 1.28M/10.5M [00:05<00:26, 362kB/s]\n",
      " 13%|#2        | 1.33M/10.5M [00:06<00:25, 373kB/s]\n",
      " 13%|#3        | 1.38M/10.5M [00:06<00:23, 398kB/s]\n",
      " 14%|#3        | 1.42M/10.5M [00:06<00:23, 401kB/s]\n",
      " 14%|#4        | 1.47M/10.5M [00:06<00:24, 394kB/s]\n",
      " 14%|#4        | 1.51M/10.5M [00:06<00:28, 335kB/s]\n",
      " 15%|#4        | 1.56M/10.5M [00:06<00:25, 372kB/s]\n",
      " 15%|#5        | 1.60M/10.5M [00:06<00:25, 367kB/s]\n",
      " 16%|#5        | 1.64M/10.5M [00:06<00:24, 375kB/s]\n",
      " 16%|#6        | 1.68M/10.5M [00:07<00:24, 381kB/s]\n",
      " 16%|#6        | 1.72M/10.5M [00:07<00:26, 350kB/s]\n",
      " 17%|#6        | 1.76M/10.5M [00:07<00:25, 358kB/s]\n",
      " 17%|#7        | 1.80M/10.5M [00:07<00:24, 368kB/s]\n",
      " 18%|#7        | 1.84M/10.5M [00:07<00:24, 370kB/s]\n",
      " 18%|#7        | 1.88M/10.5M [00:07<00:25, 361kB/s]\n",
      " 18%|#8        | 1.92M/10.5M [00:07<00:24, 366kB/s]\n",
      " 19%|#8        | 1.96M/10.5M [00:07<00:24, 368kB/s]\n",
      " 19%|#9        | 2.01M/10.5M [00:07<00:24, 358kB/s]\n",
      " 20%|#9        | 2.05M/10.5M [00:08<00:24, 356kB/s]\n",
      " 20%|#9        | 2.09M/10.5M [00:08<00:25, 346kB/s]\n",
      " 20%|##        | 2.12M/10.5M [00:08<00:24, 360kB/s]\n",
      " 21%|##        | 2.16M/10.5M [00:08<00:23, 370kB/s]\n",
      " 21%|##1       | 2.20M/10.5M [00:08<00:22, 379kB/s]\n",
      " 21%|##1       | 2.24M/10.5M [00:08<00:26, 330kB/s]\n",
      " 22%|##1       | 2.28M/10.5M [00:08<00:26, 324kB/s]\n",
      " 24%|##3       | 2.47M/10.5M [00:08<00:11, 732kB/s]\n",
      " 24%|##4       | 2.55M/10.5M [00:09<00:15, 545kB/s]\n",
      " 25%|##4       | 2.62M/10.5M [00:09<00:16, 488kB/s]\n",
      " 26%|##5       | 2.68M/10.5M [00:09<00:18, 448kB/s]\n",
      " 26%|##6       | 2.73M/10.5M [00:09<00:19, 409kB/s]\n",
      " 27%|##6       | 2.78M/10.5M [00:09<00:20, 386kB/s]\n",
      " 27%|##6       | 2.83M/10.5M [00:10<00:21, 378kB/s]\n",
      " 27%|##7       | 2.87M/10.5M [00:10<00:20, 381kB/s]\n",
      " 28%|##7       | 2.91M/10.5M [00:10<00:22, 355kB/s]\n",
      " 28%|##8       | 2.95M/10.5M [00:10<00:20, 385kB/s]\n",
      " 29%|##8       | 2.99M/10.5M [00:10<00:21, 366kB/s]\n",
      " 29%|##8       | 3.03M/10.5M [00:10<00:21, 366kB/s]\n",
      " 29%|##9       | 3.07M/10.5M [00:10<00:23, 324kB/s]\n",
      " 30%|##9       | 3.14M/10.5M [00:10<00:19, 398kB/s]\n",
      " 30%|###       | 3.19M/10.5M [00:11<00:26, 294kB/s]\n",
      " 31%|###1      | 3.27M/10.5M [00:11<00:19, 393kB/s]\n",
      " 32%|###1      | 3.31M/10.5M [00:11<00:18, 409kB/s]\n",
      " 32%|###2      | 3.36M/10.5M [00:11<00:20, 364kB/s]\n",
      " 32%|###2      | 3.41M/10.5M [00:11<00:28, 259kB/s]\n",
      " 34%|###3      | 3.52M/10.5M [00:12<00:18, 397kB/s]\n",
      " 34%|###4      | 3.58M/10.5M [00:12<00:17, 406kB/s]\n",
      " 35%|###4      | 3.62M/10.5M [00:12<00:18, 393kB/s]\n",
      " 35%|###5      | 3.67M/10.5M [00:12<00:18, 388kB/s]\n",
      " 35%|###5      | 3.72M/10.5M [00:12<00:19, 372kB/s]\n",
      " 36%|###5      | 3.76M/10.5M [00:12<00:19, 371kB/s]\n",
      " 36%|###6      | 3.80M/10.5M [00:12<00:19, 362kB/s]\n",
      " 37%|###6      | 3.84M/10.5M [00:12<00:17, 388kB/s]\n",
      " 37%|###7      | 3.88M/10.5M [00:13<00:18, 375kB/s]\n",
      " 37%|###7      | 3.92M/10.5M [00:13<00:20, 336kB/s]\n",
      " 38%|###7      | 3.97M/10.5M [00:13<00:19, 349kB/s]\n",
      " 38%|###8      | 4.01M/10.5M [00:13<00:18, 363kB/s]\n",
      " 39%|###8      | 4.05M/10.5M [00:13<00:18, 364kB/s]\n",
      " 39%|###9      | 4.09M/10.5M [00:13<00:18, 372kB/s]\n",
      " 39%|###9      | 4.13M/10.5M [00:13<00:18, 364kB/s]\n",
      " 40%|###9      | 4.18M/10.5M [00:13<00:18, 358kB/s]\n",
      " 43%|####2     | 4.47M/10.5M [00:14<00:06, 997kB/s]\n",
      " 44%|####3     | 4.57M/10.5M [00:14<00:08, 693kB/s]\n",
      " 44%|####4     | 4.66M/10.5M [00:14<00:10, 556kB/s]\n",
      " 45%|####5     | 4.73M/10.5M [00:14<00:12, 490kB/s]\n",
      " 46%|####5     | 4.79M/10.5M [00:14<00:12, 476kB/s]\n",
      " 46%|####6     | 4.84M/10.5M [00:15<00:13, 440kB/s]\n",
      " 47%|####6     | 4.89M/10.5M [00:15<00:14, 401kB/s]\n",
      " 47%|####7     | 4.94M/10.5M [00:15<00:14, 397kB/s]\n",
      " 48%|####7     | 4.98M/10.5M [00:15<00:15, 376kB/s]\n",
      " 48%|####7     | 5.02M/10.5M [00:15<00:15, 376kB/s]\n",
      " 48%|####8     | 5.06M/10.5M [00:15<00:16, 354kB/s]\n",
      " 49%|####8     | 5.10M/10.5M [00:15<00:15, 362kB/s]\n",
      " 49%|####9     | 5.14M/10.5M [00:16<00:15, 366kB/s]\n",
      " 49%|####9     | 5.19M/10.5M [00:16<00:16, 344kB/s]\n",
      " 50%|####9     | 5.23M/10.5M [00:16<00:15, 349kB/s]\n",
      " 50%|#####     | 5.28M/10.5M [00:16<00:17, 316kB/s]\n",
      " 51%|#####     | 5.34M/10.5M [00:16<00:16, 325kB/s]\n",
      " 52%|#####1    | 5.41M/10.5M [00:16<00:13, 383kB/s]\n",
      " 57%|#####6    | 5.93M/10.5M [00:16<00:03, 1.47MB/s]\n",
      " 58%|#####8    | 6.09M/10.5M [00:17<00:05, 906kB/s] \n",
      " 59%|#####9    | 6.23M/10.5M [00:17<00:06, 650kB/s]\n",
      " 60%|######    | 6.33M/10.5M [00:18<00:07, 552kB/s]\n",
      " 61%|######1   | 6.41M/10.5M [00:18<00:08, 477kB/s]\n",
      " 62%|######1   | 6.48M/10.5M [00:18<00:08, 487kB/s]\n",
      " 62%|######2   | 6.55M/10.5M [00:18<00:09, 442kB/s]\n",
      " 63%|######2   | 6.60M/10.5M [00:18<00:09, 424kB/s]\n",
      " 63%|######3   | 6.65M/10.5M [00:18<00:09, 424kB/s]\n",
      " 64%|######3   | 6.70M/10.5M [00:19<00:09, 402kB/s]\n",
      " 64%|######4   | 6.74M/10.5M [00:19<00:10, 377kB/s]\n",
      " 65%|######4   | 6.78M/10.5M [00:19<00:10, 362kB/s]\n",
      " 65%|######5   | 6.83M/10.5M [00:19<00:10, 381kB/s]\n",
      " 65%|######5   | 6.87M/10.5M [00:19<00:10, 379kB/s]\n",
      " 66%|######5   | 6.91M/10.5M [00:19<00:10, 365kB/s]\n",
      " 66%|######6   | 6.95M/10.5M [00:19<00:10, 368kB/s]\n",
      " 67%|######6   | 6.99M/10.5M [00:19<00:10, 357kB/s]\n",
      " 67%|######7   | 7.03M/10.5M [00:20<00:10, 354kB/s]\n",
      " 67%|######7   | 7.07M/10.5M [00:20<00:09, 364kB/s]\n",
      " 68%|######7   | 7.11M/10.5M [00:20<00:10, 342kB/s]\n",
      " 68%|######8   | 7.15M/10.5M [00:20<00:09, 358kB/s]\n",
      " 69%|######8   | 7.20M/10.5M [00:20<00:09, 358kB/s]\n",
      " 79%|#######8  | 8.23M/10.5M [00:20<00:00, 2.91MB/s]\n",
      " 81%|########1 | 8.52M/10.5M [00:21<00:01, 1.04MB/s]\n",
      " 83%|########3 | 8.73M/10.5M [00:22<00:02, 725kB/s] \n",
      " 85%|########4 | 8.88M/10.5M [00:22<00:02, 616kB/s]\n",
      " 86%|########5 | 9.01M/10.5M [00:22<00:02, 540kB/s]\n",
      " 87%|########6 | 9.10M/10.5M [00:23<00:02, 509kB/s]\n",
      " 88%|########7 | 9.18M/10.5M [00:23<00:03, 453kB/s]\n",
      " 88%|########8 | 9.24M/10.5M [00:23<00:02, 450kB/s]\n",
      " 89%|########8 | 9.30M/10.5M [00:23<00:02, 444kB/s]\n",
      " 89%|########9 | 9.36M/10.5M [00:23<00:02, 411kB/s]\n",
      " 90%|########9 | 9.41M/10.5M [00:24<00:02, 410kB/s]\n",
      " 90%|######### | 9.45M/10.5M [00:24<00:02, 406kB/s]\n",
      " 91%|######### | 9.50M/10.5M [00:24<00:02, 373kB/s]\n",
      " 91%|######### | 9.54M/10.5M [00:28<00:21, 46.6kB/s]\n",
      "100%|##########| 10.5M/10.5M [00:33<00:00, 329kB/s] \n"
     ]
    },
    {
     "name": "stdout",
     "output_type": "stream",
     "text": [
      "\n"
     ]
    }
   ],
   "source": [
    "!kaggle competitions submit -c interbank20 -f ../results/test80.csv -m \"test 80\""
   ]
  },
  {
   "cell_type": "code",
   "execution_count": 88,
   "metadata": {
    "scrolled": true
   },
   "outputs": [
    {
     "data": {
      "text/plain": [
       "PRODUCTO_min_ult4mes                     0.000000\n",
       "RIESGO_DIRECTO_std_ult12mes              0.001738\n",
       "saldo_std_ult12mes                       0.001738\n",
       "condicion_std_ult12mes                   0.001738\n",
       "COD_CLASIFICACION_DEUDOR_std_ult12mes    0.001738\n",
       "tipo_credito_std_ult12mes                0.001738\n",
       "saldo_std_ult6mes                        0.002120\n",
       "RIESGO_DIRECTO_std_ult6mes               0.002120\n",
       "RIESGO_DIRECTO_std_ult5mes               0.002212\n",
       "condicion_std_ult5mes                    0.002212\n",
       "saldo_std_ult5mes                        0.002212\n",
       "tipo_credito_std_ult4mes                 0.002357\n",
       "RIESGO_DIRECTO_std_ult4mes               0.002357\n",
       "saldo_std_ult4mes                        0.002357\n",
       "COD_CLASIFICACION_DEUDOR_std_ult3mes     0.002600\n",
       "RIESGO_DIRECTO_std_ult3mes               0.002600\n",
       "saldo_std_ult3mes                        0.002600\n",
       "condicion_std_ult2mes                    0.002876\n",
       "COD_CLASIFICACION_DEUDOR_std_ult2mes     0.002876\n",
       "saldo_std_ult2mes                        0.002876\n",
       "RIESGO_DIRECTO_std_ult2mes               0.002876\n",
       "tipo_credito_std_ult2mes                 0.002876\n",
       "condicion_std_ult1mes                    0.003674\n",
       "tipo_credito_std_ult1mes                 0.003674\n",
       "COD_CLASIFICACION_DEUDOR_std_ult1mes     0.003674\n",
       "RIESGO_DIRECTO_std_ult1mes               0.003674\n",
       "saldo_std_ult1mes                        0.003674\n",
       "ciiu_mode                                0.402963\n",
       "codvia_mode                              0.402963\n",
       "estadocontribuyente_mode                 0.402963\n",
       "estadotributo_mode                       0.402963\n",
       "codentidadtributo_mode                   0.402963\n",
       "ubigeo_mode                              0.402963\n",
       "tipcontribuyente_mode                    0.402963\n",
       "fecalta_mean                             0.402963\n",
       "condiciondomicilio_mode                  0.402963\n",
       "dtype: float64"
      ]
     },
     "metadata": {},
     "output_type": "display_data"
    },
    {
     "data": {
      "text/plain": [
       "PRODUCTO_min_ult4mes                     0.000000\n",
       "RIESGO_DIRECTO_std_ult12mes              0.001775\n",
       "saldo_std_ult12mes                       0.001775\n",
       "condicion_std_ult12mes                   0.001775\n",
       "COD_CLASIFICACION_DEUDOR_std_ult12mes    0.001775\n",
       "tipo_credito_std_ult12mes                0.001775\n",
       "saldo_std_ult6mes                        0.002271\n",
       "RIESGO_DIRECTO_std_ult6mes               0.002271\n",
       "RIESGO_DIRECTO_std_ult5mes               0.002418\n",
       "condicion_std_ult5mes                    0.002418\n",
       "saldo_std_ult5mes                        0.002418\n",
       "tipo_credito_std_ult4mes                 0.002551\n",
       "RIESGO_DIRECTO_std_ult4mes               0.002551\n",
       "saldo_std_ult4mes                        0.002551\n",
       "COD_CLASIFICACION_DEUDOR_std_ult3mes     0.002748\n",
       "RIESGO_DIRECTO_std_ult3mes               0.002748\n",
       "saldo_std_ult3mes                        0.002748\n",
       "condicion_std_ult2mes                    0.003040\n",
       "COD_CLASIFICACION_DEUDOR_std_ult2mes     0.003040\n",
       "saldo_std_ult2mes                        0.003040\n",
       "RIESGO_DIRECTO_std_ult2mes               0.003040\n",
       "tipo_credito_std_ult2mes                 0.003040\n",
       "condicion_std_ult1mes                    0.003855\n",
       "tipo_credito_std_ult1mes                 0.003855\n",
       "COD_CLASIFICACION_DEUDOR_std_ult1mes     0.003855\n",
       "RIESGO_DIRECTO_std_ult1mes               0.003855\n",
       "saldo_std_ult1mes                        0.003855\n",
       "ciiu_mode                                0.422910\n",
       "codvia_mode                              0.422910\n",
       "estadocontribuyente_mode                 0.422910\n",
       "estadotributo_mode                       0.422910\n",
       "codentidadtributo_mode                   0.422910\n",
       "ubigeo_mode                              0.422910\n",
       "tipcontribuyente_mode                    0.422910\n",
       "fecalta_mean                             0.422910\n",
       "condiciondomicilio_mode                  0.422910\n",
       "dtype: float64"
      ]
     },
     "metadata": {},
     "output_type": "display_data"
    }
   ],
   "source": [
    "display(\n",
    "train[features_importances_250_catboost].isna().sum().sort_values().tail(36)/len(train),\n",
    "test[features_importances_250_catboost].isna().sum().sort_values().tail(36)/len(test)\n",
    ")"
   ]
  },
  {
   "cell_type": "code",
   "execution_count": 93,
   "metadata": {
    "scrolled": true
   },
   "outputs": [
    {
     "data": {
      "text/plain": [
       "PRODUCTO_mode_ult1mes_me                 0.000000\n",
       "COD_CLASIFICACION_DEUDOR_std_ult12mes    0.001738\n",
       "condicion_std_ult12mes                   0.001738\n",
       "RIESGO_DIRECTO_std_ult12mes              0.001738\n",
       "saldo_std_ult12mes                       0.001738\n",
       "tipo_credito_std_ult12mes                0.001738\n",
       "tipo_credito_std_ult6mes                 0.002120\n",
       "COD_CLASIFICACION_DEUDOR_std_ult6mes     0.002120\n",
       "saldo_std_ult6mes                        0.002120\n",
       "condicion_std_ult6mes                    0.002120\n",
       "RIESGO_DIRECTO_std_ult6mes               0.002120\n",
       "tipo_credito_std_ult5mes                 0.002212\n",
       "saldo_std_ult5mes                        0.002212\n",
       "COD_CLASIFICACION_DEUDOR_std_ult5mes     0.002212\n",
       "RIESGO_DIRECTO_std_ult5mes               0.002212\n",
       "tipo_credito_std_ult4mes                 0.002357\n",
       "saldo_std_ult4mes                        0.002357\n",
       "RIESGO_DIRECTO_std_ult4mes               0.002357\n",
       "RIESGO_DIRECTO_std_ult3mes               0.002600\n",
       "tipo_credito_std_ult3mes                 0.002600\n",
       "saldo_std_ult3mes                        0.002600\n",
       "COD_CLASIFICACION_DEUDOR_std_ult2mes     0.002876\n",
       "RIESGO_DIRECTO_std_ult2mes               0.002876\n",
       "tipo_credito_std_ult2mes                 0.002876\n",
       "condicion_std_ult2mes                    0.002876\n",
       "saldo_std_ult2mes                        0.002876\n",
       "tipo_credito_std_ult1mes                 0.003674\n",
       "COD_CLASIFICACION_DEUDOR_std_ult1mes     0.003674\n",
       "saldo_std_ult1mes                        0.003674\n",
       "RIESGO_DIRECTO_std_ult1mes               0.003674\n",
       "condicion_std_ult1mes                    0.003674\n",
       "tipcontribuyente_mode                    0.402963\n",
       "contabilidad_mode                        0.402963\n",
       "fecalta_max                              0.402963\n",
       "estadotributo_mode                       0.402963\n",
       "ciiu_mode                                0.402963\n",
       "codentidadtributo_mode                   0.402963\n",
       "codvia_mode                              0.402963\n",
       "fecalta_mean                             0.402963\n",
       "estadocontribuyente_mode                 0.402963\n",
       "ubigeo_mode                              0.402963\n",
       "codzona_mode                             0.402963\n",
       "condiciondomicilio_mode                  0.402963\n",
       "diff_fech_max                            0.895617\n",
       "diff_fech_mean                           0.895617\n",
       "dtype: float64"
      ]
     },
     "metadata": {},
     "output_type": "display_data"
    },
    {
     "data": {
      "text/plain": [
       "PRODUCTO_mode_ult1mes_me                 0.000000\n",
       "COD_CLASIFICACION_DEUDOR_std_ult12mes    0.001775\n",
       "condicion_std_ult12mes                   0.001775\n",
       "RIESGO_DIRECTO_std_ult12mes              0.001775\n",
       "saldo_std_ult12mes                       0.001775\n",
       "tipo_credito_std_ult12mes                0.001775\n",
       "tipo_credito_std_ult6mes                 0.002271\n",
       "COD_CLASIFICACION_DEUDOR_std_ult6mes     0.002271\n",
       "saldo_std_ult6mes                        0.002271\n",
       "condicion_std_ult6mes                    0.002271\n",
       "RIESGO_DIRECTO_std_ult6mes               0.002271\n",
       "tipo_credito_std_ult5mes                 0.002418\n",
       "saldo_std_ult5mes                        0.002418\n",
       "COD_CLASIFICACION_DEUDOR_std_ult5mes     0.002418\n",
       "RIESGO_DIRECTO_std_ult5mes               0.002418\n",
       "tipo_credito_std_ult4mes                 0.002551\n",
       "saldo_std_ult4mes                        0.002551\n",
       "RIESGO_DIRECTO_std_ult4mes               0.002551\n",
       "RIESGO_DIRECTO_std_ult3mes               0.002748\n",
       "tipo_credito_std_ult3mes                 0.002748\n",
       "saldo_std_ult3mes                        0.002748\n",
       "COD_CLASIFICACION_DEUDOR_std_ult2mes     0.003040\n",
       "RIESGO_DIRECTO_std_ult2mes               0.003040\n",
       "tipo_credito_std_ult2mes                 0.003040\n",
       "condicion_std_ult2mes                    0.003040\n",
       "saldo_std_ult2mes                        0.003040\n",
       "tipo_credito_std_ult1mes                 0.003855\n",
       "COD_CLASIFICACION_DEUDOR_std_ult1mes     0.003855\n",
       "saldo_std_ult1mes                        0.003855\n",
       "RIESGO_DIRECTO_std_ult1mes               0.003855\n",
       "condicion_std_ult1mes                    0.003855\n",
       "tipcontribuyente_mode                    0.422910\n",
       "contabilidad_mode                        0.422910\n",
       "fecalta_max                              0.422910\n",
       "estadotributo_mode                       0.422910\n",
       "ciiu_mode                                0.422910\n",
       "codentidadtributo_mode                   0.422910\n",
       "codvia_mode                              0.422910\n",
       "fecalta_mean                             0.422910\n",
       "estadocontribuyente_mode                 0.422910\n",
       "ubigeo_mode                              0.422910\n",
       "codzona_mode                             0.422910\n",
       "condiciondomicilio_mode                  0.422910\n",
       "diff_fech_max                            0.900377\n",
       "diff_fech_mean                           0.900377\n",
       "dtype: float64"
      ]
     },
     "metadata": {},
     "output_type": "display_data"
    }
   ],
   "source": [
    "display(\n",
    "train[features_importances_250_lightgbm].isna().sum().sort_values().tail(45)/len(train),\n",
    "test[features_importances_250_lightgbm].isna().sum().sort_values().tail(45)/len(test)\n",
    ")"
   ]
  },
  {
   "cell_type": "code",
   "execution_count": 116,
   "metadata": {
    "scrolled": true
   },
   "outputs": [
    {
     "data": {
      "text/html": [
       "<div>\n",
       "<style scoped>\n",
       "    .dataframe tbody tr th:only-of-type {\n",
       "        vertical-align: middle;\n",
       "    }\n",
       "\n",
       "    .dataframe tbody tr th {\n",
       "        vertical-align: top;\n",
       "    }\n",
       "\n",
       "    .dataframe thead th {\n",
       "        text-align: right;\n",
       "    }\n",
       "</style>\n",
       "<table border=\"1\" class=\"dataframe\">\n",
       "  <thead>\n",
       "    <tr style=\"text-align: right;\">\n",
       "      <th></th>\n",
       "      <th>index</th>\n",
       "      <th>0</th>\n",
       "    </tr>\n",
       "  </thead>\n",
       "  <tbody>\n",
       "    <tr>\n",
       "      <th>13</th>\n",
       "      <td>COD_CLASIFICACION_DEUDOR_std_ult5mes</td>\n",
       "      <td>0.001076</td>\n",
       "    </tr>\n",
       "    <tr>\n",
       "      <th>36</th>\n",
       "      <td>codentidadtributo_mode</td>\n",
       "      <td>0.001249</td>\n",
       "    </tr>\n",
       "    <tr>\n",
       "      <th>21</th>\n",
       "      <td>COD_CLASIFICACION_DEUDOR_std_ult2mes</td>\n",
       "      <td>0.001283</td>\n",
       "    </tr>\n",
       "    <tr>\n",
       "      <th>7</th>\n",
       "      <td>COD_CLASIFICACION_DEUDOR_std_ult6mes</td>\n",
       "      <td>0.001346</td>\n",
       "    </tr>\n",
       "    <tr>\n",
       "      <th>27</th>\n",
       "      <td>COD_CLASIFICACION_DEUDOR_std_ult1mes</td>\n",
       "      <td>0.001385</td>\n",
       "    </tr>\n",
       "    <tr>\n",
       "      <th>43</th>\n",
       "      <td>diff_fech_max</td>\n",
       "      <td>0.001393</td>\n",
       "    </tr>\n",
       "    <tr>\n",
       "      <th>31</th>\n",
       "      <td>tipcontribuyente_mode</td>\n",
       "      <td>0.001607</td>\n",
       "    </tr>\n",
       "    <tr>\n",
       "      <th>24</th>\n",
       "      <td>condicion_std_ult2mes</td>\n",
       "      <td>0.001607</td>\n",
       "    </tr>\n",
       "    <tr>\n",
       "      <th>11</th>\n",
       "      <td>tipo_credito_std_ult5mes</td>\n",
       "      <td>0.001613</td>\n",
       "    </tr>\n",
       "    <tr>\n",
       "      <th>34</th>\n",
       "      <td>estadotributo_mode</td>\n",
       "      <td>0.001650</td>\n",
       "    </tr>\n",
       "    <tr>\n",
       "      <th>12</th>\n",
       "      <td>saldo_std_ult5mes</td>\n",
       "      <td>0.001682</td>\n",
       "    </tr>\n",
       "    <tr>\n",
       "      <th>16</th>\n",
       "      <td>saldo_std_ult4mes</td>\n",
       "      <td>0.001767</td>\n",
       "    </tr>\n",
       "    <tr>\n",
       "      <th>9</th>\n",
       "      <td>condicion_std_ult6mes</td>\n",
       "      <td>0.001769</td>\n",
       "    </tr>\n",
       "    <tr>\n",
       "      <th>15</th>\n",
       "      <td>tipo_credito_std_ult4mes</td>\n",
       "      <td>0.001771</td>\n",
       "    </tr>\n",
       "    <tr>\n",
       "      <th>44</th>\n",
       "      <td>diff_fech_mean</td>\n",
       "      <td>0.001816</td>\n",
       "    </tr>\n",
       "    <tr>\n",
       "      <th>32</th>\n",
       "      <td>contabilidad_mode</td>\n",
       "      <td>0.001871</td>\n",
       "    </tr>\n",
       "    <tr>\n",
       "      <th>8</th>\n",
       "      <td>saldo_std_ult6mes</td>\n",
       "      <td>0.001958</td>\n",
       "    </tr>\n",
       "    <tr>\n",
       "      <th>19</th>\n",
       "      <td>tipo_credito_std_ult3mes</td>\n",
       "      <td>0.002037</td>\n",
       "    </tr>\n",
       "    <tr>\n",
       "      <th>42</th>\n",
       "      <td>condiciondomicilio_mode</td>\n",
       "      <td>0.002176</td>\n",
       "    </tr>\n",
       "    <tr>\n",
       "      <th>25</th>\n",
       "      <td>saldo_std_ult2mes</td>\n",
       "      <td>0.002242</td>\n",
       "    </tr>\n",
       "    <tr>\n",
       "      <th>20</th>\n",
       "      <td>saldo_std_ult3mes</td>\n",
       "      <td>0.002247</td>\n",
       "    </tr>\n",
       "    <tr>\n",
       "      <th>1</th>\n",
       "      <td>COD_CLASIFICACION_DEUDOR_std_ult12mes</td>\n",
       "      <td>0.002556</td>\n",
       "    </tr>\n",
       "    <tr>\n",
       "      <th>6</th>\n",
       "      <td>tipo_credito_std_ult6mes</td>\n",
       "      <td>0.002605</td>\n",
       "    </tr>\n",
       "    <tr>\n",
       "      <th>17</th>\n",
       "      <td>RIESGO_DIRECTO_std_ult4mes</td>\n",
       "      <td>0.002701</td>\n",
       "    </tr>\n",
       "    <tr>\n",
       "      <th>23</th>\n",
       "      <td>tipo_credito_std_ult2mes</td>\n",
       "      <td>0.002852</td>\n",
       "    </tr>\n",
       "    <tr>\n",
       "      <th>18</th>\n",
       "      <td>RIESGO_DIRECTO_std_ult3mes</td>\n",
       "      <td>0.003029</td>\n",
       "    </tr>\n",
       "    <tr>\n",
       "      <th>37</th>\n",
       "      <td>codvia_mode</td>\n",
       "      <td>0.003037</td>\n",
       "    </tr>\n",
       "    <tr>\n",
       "      <th>30</th>\n",
       "      <td>condicion_std_ult1mes</td>\n",
       "      <td>0.003073</td>\n",
       "    </tr>\n",
       "    <tr>\n",
       "      <th>14</th>\n",
       "      <td>RIESGO_DIRECTO_std_ult5mes</td>\n",
       "      <td>0.003129</td>\n",
       "    </tr>\n",
       "    <tr>\n",
       "      <th>10</th>\n",
       "      <td>RIESGO_DIRECTO_std_ult6mes</td>\n",
       "      <td>0.003336</td>\n",
       "    </tr>\n",
       "    <tr>\n",
       "      <th>0</th>\n",
       "      <td>PRODUCTO_mode_ult1mes_me</td>\n",
       "      <td>0.003467</td>\n",
       "    </tr>\n",
       "    <tr>\n",
       "      <th>2</th>\n",
       "      <td>condicion_std_ult12mes</td>\n",
       "      <td>0.003871</td>\n",
       "    </tr>\n",
       "    <tr>\n",
       "      <th>41</th>\n",
       "      <td>codzona_mode</td>\n",
       "      <td>0.003891</td>\n",
       "    </tr>\n",
       "    <tr>\n",
       "      <th>22</th>\n",
       "      <td>RIESGO_DIRECTO_std_ult2mes</td>\n",
       "      <td>0.004069</td>\n",
       "    </tr>\n",
       "    <tr>\n",
       "      <th>33</th>\n",
       "      <td>fecalta_max</td>\n",
       "      <td>0.004366</td>\n",
       "    </tr>\n",
       "    <tr>\n",
       "      <th>29</th>\n",
       "      <td>RIESGO_DIRECTO_std_ult1mes</td>\n",
       "      <td>0.004786</td>\n",
       "    </tr>\n",
       "    <tr>\n",
       "      <th>26</th>\n",
       "      <td>tipo_credito_std_ult1mes</td>\n",
       "      <td>0.005592</td>\n",
       "    </tr>\n",
       "    <tr>\n",
       "      <th>4</th>\n",
       "      <td>saldo_std_ult12mes</td>\n",
       "      <td>0.005755</td>\n",
       "    </tr>\n",
       "    <tr>\n",
       "      <th>5</th>\n",
       "      <td>tipo_credito_std_ult12mes</td>\n",
       "      <td>0.005869</td>\n",
       "    </tr>\n",
       "    <tr>\n",
       "      <th>28</th>\n",
       "      <td>saldo_std_ult1mes</td>\n",
       "      <td>0.006141</td>\n",
       "    </tr>\n",
       "    <tr>\n",
       "      <th>39</th>\n",
       "      <td>estadocontribuyente_mode</td>\n",
       "      <td>0.006165</td>\n",
       "    </tr>\n",
       "    <tr>\n",
       "      <th>38</th>\n",
       "      <td>fecalta_mean</td>\n",
       "      <td>0.008168</td>\n",
       "    </tr>\n",
       "    <tr>\n",
       "      <th>3</th>\n",
       "      <td>RIESGO_DIRECTO_std_ult12mes</td>\n",
       "      <td>0.008675</td>\n",
       "    </tr>\n",
       "    <tr>\n",
       "      <th>35</th>\n",
       "      <td>ciiu_mode</td>\n",
       "      <td>0.008824</td>\n",
       "    </tr>\n",
       "    <tr>\n",
       "      <th>40</th>\n",
       "      <td>ubigeo_mode</td>\n",
       "      <td>0.011692</td>\n",
       "    </tr>\n",
       "  </tbody>\n",
       "</table>\n",
       "</div>"
      ],
      "text/plain": [
       "                                    index         0\n",
       "13   COD_CLASIFICACION_DEUDOR_std_ult5mes  0.001076\n",
       "36                 codentidadtributo_mode  0.001249\n",
       "21   COD_CLASIFICACION_DEUDOR_std_ult2mes  0.001283\n",
       "7    COD_CLASIFICACION_DEUDOR_std_ult6mes  0.001346\n",
       "27   COD_CLASIFICACION_DEUDOR_std_ult1mes  0.001385\n",
       "43                          diff_fech_max  0.001393\n",
       "31                  tipcontribuyente_mode  0.001607\n",
       "24                  condicion_std_ult2mes  0.001607\n",
       "11               tipo_credito_std_ult5mes  0.001613\n",
       "34                     estadotributo_mode  0.001650\n",
       "12                      saldo_std_ult5mes  0.001682\n",
       "16                      saldo_std_ult4mes  0.001767\n",
       "9                   condicion_std_ult6mes  0.001769\n",
       "15               tipo_credito_std_ult4mes  0.001771\n",
       "44                         diff_fech_mean  0.001816\n",
       "32                      contabilidad_mode  0.001871\n",
       "8                       saldo_std_ult6mes  0.001958\n",
       "19               tipo_credito_std_ult3mes  0.002037\n",
       "42                condiciondomicilio_mode  0.002176\n",
       "25                      saldo_std_ult2mes  0.002242\n",
       "20                      saldo_std_ult3mes  0.002247\n",
       "1   COD_CLASIFICACION_DEUDOR_std_ult12mes  0.002556\n",
       "6                tipo_credito_std_ult6mes  0.002605\n",
       "17             RIESGO_DIRECTO_std_ult4mes  0.002701\n",
       "23               tipo_credito_std_ult2mes  0.002852\n",
       "18             RIESGO_DIRECTO_std_ult3mes  0.003029\n",
       "37                            codvia_mode  0.003037\n",
       "30                  condicion_std_ult1mes  0.003073\n",
       "14             RIESGO_DIRECTO_std_ult5mes  0.003129\n",
       "10             RIESGO_DIRECTO_std_ult6mes  0.003336\n",
       "0                PRODUCTO_mode_ult1mes_me  0.003467\n",
       "2                  condicion_std_ult12mes  0.003871\n",
       "41                           codzona_mode  0.003891\n",
       "22             RIESGO_DIRECTO_std_ult2mes  0.004069\n",
       "33                            fecalta_max  0.004366\n",
       "29             RIESGO_DIRECTO_std_ult1mes  0.004786\n",
       "26               tipo_credito_std_ult1mes  0.005592\n",
       "4                      saldo_std_ult12mes  0.005755\n",
       "5               tipo_credito_std_ult12mes  0.005869\n",
       "28                      saldo_std_ult1mes  0.006141\n",
       "39               estadocontribuyente_mode  0.006165\n",
       "38                           fecalta_mean  0.008168\n",
       "3             RIESGO_DIRECTO_std_ult12mes  0.008675\n",
       "35                              ciiu_mode  0.008824\n",
       "40                            ubigeo_mode  0.011692"
      ]
     },
     "execution_count": 116,
     "metadata": {},
     "output_type": "execute_result"
    }
   ],
   "source": [
    "fi = pd.read_pickle('fi_lightgbm.pkl')\n",
    "fi.loc[train[features_importances_250_lightgbm].isna().sum().sort_values().tail(45).index].reset_index().sort_values(0)"
   ]
  },
  {
   "cell_type": "code",
   "execution_count": 117,
   "metadata": {},
   "outputs": [
    {
     "data": {
      "text/plain": [
       "saldo_sum_ult6mes                             0.001379\n",
       "saldo_max_ult4mes                             0.001359\n",
       "PRODUCTO_min_ult2mes                          0.001352\n",
       "saldo_max_ult5mes                             0.001348\n",
       "COD_CLASIFICACION_DEUDOR_std_ult6mes          0.001346\n",
       "condicion_mean_ult5mes                        0.001345\n",
       "saldo_min_ult5mes                             0.001335\n",
       "condicion_sum_ult6mes                         0.001296\n",
       "COD_CLASIFICACION_DEUDOR_std_ult2mes          0.001283\n",
       "tipo_credito_10_saldo_ult5meses               0.001283\n",
       "condicion_1_saldo_ult5meses                   0.001272\n",
       "codentidadtributo_mode                        0.001249\n",
       "tipo_credito_mean_ult5mes                     0.001241\n",
       "PRODUCTO_min_ult12mes                         0.001238\n",
       "saldo_sum_ult3mes                             0.001235\n",
       "saldo_min_ult6mes                             0.001234\n",
       "condicion_0_saldo_ult6meses                   0.001215\n",
       "condicion_1_saldo_ult2meses                   0.001199\n",
       "PRODUCTO_nunique_ult3mes                      0.001158\n",
       "condicion_2_saldo_ult6meses                   0.001149\n",
       "condicion_5_saldo_ult12meses                  0.001139\n",
       "COD_CLASIFICACION_DEUDOR_0_saldo_ult5meses    0.001127\n",
       "RIESGO_DIRECTO_sum_ult5mes                    0.001118\n",
       "condicion_sum_ult2mes                         0.001116\n",
       "PRODUCTO_nunique_ult5mes                      0.001107\n",
       "cod_instit_financiera_min_ult3mes             0.001094\n",
       "RIESGO_DIRECTO_2_saldo_ult5meses              0.001089\n",
       "condicion_9_saldo_ult12meses                  0.001087\n",
       "condicion_sum_ult3mes                         0.001086\n",
       "condicion_0_saldo_ult4meses                   0.001078\n",
       "COD_CLASIFICACION_DEUDOR_std_ult5mes          0.001076\n",
       "RIESGO_DIRECTO_2_saldo_ult1meses              0.001064\n",
       "RIESGO_DIRECTO_sum_ult1mes                    0.001063\n",
       "condicion_1_saldo_ult4meses                   0.001057\n",
       "PRODUCTO_min_ult5mes                          0.001042\n",
       "RIESGO_DIRECTO_sum_ult4mes                    0.001031\n",
       "tipo_credito_nunique_ult1mes                  0.001022\n",
       "condicion_mean_ult2mes                        0.001021\n",
       "condicion_4_saldo_ult12meses                  0.001004\n",
       "COD_CLASIFICACION_DEUDOR_0_saldo_ult4meses    0.001002\n",
       "COD_CLASIFICACION_DEUDOR_mean_ult2mes         0.001002\n",
       "tipo_credito_9_saldo_ult12meses               0.000998\n",
       "dtype: float64"
      ]
     },
     "execution_count": 117,
     "metadata": {},
     "output_type": "execute_result"
    }
   ],
   "source": [
    "fi[features_importances_250_lightgbm].sort_values(ascending = False).tail(42)"
   ]
  },
  {
   "cell_type": "code",
   "execution_count": 114,
   "metadata": {
    "scrolled": true
   },
   "outputs": [
    {
     "data": {
      "text/html": [
       "<div>\n",
       "<style scoped>\n",
       "    .dataframe tbody tr th:only-of-type {\n",
       "        vertical-align: middle;\n",
       "    }\n",
       "\n",
       "    .dataframe tbody tr th {\n",
       "        vertical-align: top;\n",
       "    }\n",
       "\n",
       "    .dataframe thead th {\n",
       "        text-align: right;\n",
       "    }\n",
       "</style>\n",
       "<table border=\"1\" class=\"dataframe\">\n",
       "  <thead>\n",
       "    <tr style=\"text-align: right;\">\n",
       "      <th></th>\n",
       "      <th>index</th>\n",
       "      <th>0</th>\n",
       "    </tr>\n",
       "  </thead>\n",
       "  <tbody>\n",
       "    <tr>\n",
       "      <th>28</th>\n",
       "      <td>codvia_mode</td>\n",
       "      <td>0.000700</td>\n",
       "    </tr>\n",
       "    <tr>\n",
       "      <th>13</th>\n",
       "      <td>saldo_std_ult4mes</td>\n",
       "      <td>0.000720</td>\n",
       "    </tr>\n",
       "    <tr>\n",
       "      <th>11</th>\n",
       "      <td>tipo_credito_std_ult4mes</td>\n",
       "      <td>0.000734</td>\n",
       "    </tr>\n",
       "    <tr>\n",
       "      <th>33</th>\n",
       "      <td>tipcontribuyente_mode</td>\n",
       "      <td>0.000897</td>\n",
       "    </tr>\n",
       "    <tr>\n",
       "      <th>6</th>\n",
       "      <td>saldo_std_ult6mes</td>\n",
       "      <td>0.000904</td>\n",
       "    </tr>\n",
       "    <tr>\n",
       "      <th>14</th>\n",
       "      <td>COD_CLASIFICACION_DEUDOR_std_ult3mes</td>\n",
       "      <td>0.000912</td>\n",
       "    </tr>\n",
       "    <tr>\n",
       "      <th>16</th>\n",
       "      <td>saldo_std_ult3mes</td>\n",
       "      <td>0.000992</td>\n",
       "    </tr>\n",
       "    <tr>\n",
       "      <th>35</th>\n",
       "      <td>condiciondomicilio_mode</td>\n",
       "      <td>0.001082</td>\n",
       "    </tr>\n",
       "    <tr>\n",
       "      <th>12</th>\n",
       "      <td>RIESGO_DIRECTO_std_ult4mes</td>\n",
       "      <td>0.001093</td>\n",
       "    </tr>\n",
       "    <tr>\n",
       "      <th>21</th>\n",
       "      <td>tipo_credito_std_ult2mes</td>\n",
       "      <td>0.001117</td>\n",
       "    </tr>\n",
       "    <tr>\n",
       "      <th>4</th>\n",
       "      <td>COD_CLASIFICACION_DEUDOR_std_ult12mes</td>\n",
       "      <td>0.001147</td>\n",
       "    </tr>\n",
       "    <tr>\n",
       "      <th>9</th>\n",
       "      <td>condicion_std_ult5mes</td>\n",
       "      <td>0.001222</td>\n",
       "    </tr>\n",
       "    <tr>\n",
       "      <th>25</th>\n",
       "      <td>RIESGO_DIRECTO_std_ult1mes</td>\n",
       "      <td>0.001457</td>\n",
       "    </tr>\n",
       "    <tr>\n",
       "      <th>31</th>\n",
       "      <td>codentidadtributo_mode</td>\n",
       "      <td>0.001810</td>\n",
       "    </tr>\n",
       "    <tr>\n",
       "      <th>15</th>\n",
       "      <td>RIESGO_DIRECTO_std_ult3mes</td>\n",
       "      <td>0.001941</td>\n",
       "    </tr>\n",
       "    <tr>\n",
       "      <th>2</th>\n",
       "      <td>saldo_std_ult12mes</td>\n",
       "      <td>0.001957</td>\n",
       "    </tr>\n",
       "    <tr>\n",
       "      <th>30</th>\n",
       "      <td>estadotributo_mode</td>\n",
       "      <td>0.001977</td>\n",
       "    </tr>\n",
       "    <tr>\n",
       "      <th>34</th>\n",
       "      <td>fecalta_mean</td>\n",
       "      <td>0.002027</td>\n",
       "    </tr>\n",
       "    <tr>\n",
       "      <th>8</th>\n",
       "      <td>RIESGO_DIRECTO_std_ult5mes</td>\n",
       "      <td>0.002178</td>\n",
       "    </tr>\n",
       "    <tr>\n",
       "      <th>23</th>\n",
       "      <td>tipo_credito_std_ult1mes</td>\n",
       "      <td>0.002209</td>\n",
       "    </tr>\n",
       "    <tr>\n",
       "      <th>18</th>\n",
       "      <td>COD_CLASIFICACION_DEUDOR_std_ult2mes</td>\n",
       "      <td>0.002227</td>\n",
       "    </tr>\n",
       "    <tr>\n",
       "      <th>0</th>\n",
       "      <td>PRODUCTO_min_ult4mes</td>\n",
       "      <td>0.002345</td>\n",
       "    </tr>\n",
       "    <tr>\n",
       "      <th>5</th>\n",
       "      <td>tipo_credito_std_ult12mes</td>\n",
       "      <td>0.002364</td>\n",
       "    </tr>\n",
       "    <tr>\n",
       "      <th>17</th>\n",
       "      <td>condicion_std_ult2mes</td>\n",
       "      <td>0.002451</td>\n",
       "    </tr>\n",
       "    <tr>\n",
       "      <th>3</th>\n",
       "      <td>condicion_std_ult12mes</td>\n",
       "      <td>0.002478</td>\n",
       "    </tr>\n",
       "    <tr>\n",
       "      <th>19</th>\n",
       "      <td>saldo_std_ult2mes</td>\n",
       "      <td>0.002590</td>\n",
       "    </tr>\n",
       "    <tr>\n",
       "      <th>32</th>\n",
       "      <td>ubigeo_mode</td>\n",
       "      <td>0.002791</td>\n",
       "    </tr>\n",
       "    <tr>\n",
       "      <th>24</th>\n",
       "      <td>COD_CLASIFICACION_DEUDOR_std_ult1mes</td>\n",
       "      <td>0.003032</td>\n",
       "    </tr>\n",
       "    <tr>\n",
       "      <th>26</th>\n",
       "      <td>saldo_std_ult1mes</td>\n",
       "      <td>0.003114</td>\n",
       "    </tr>\n",
       "    <tr>\n",
       "      <th>10</th>\n",
       "      <td>saldo_std_ult5mes</td>\n",
       "      <td>0.003564</td>\n",
       "    </tr>\n",
       "    <tr>\n",
       "      <th>27</th>\n",
       "      <td>ciiu_mode</td>\n",
       "      <td>0.003711</td>\n",
       "    </tr>\n",
       "    <tr>\n",
       "      <th>20</th>\n",
       "      <td>RIESGO_DIRECTO_std_ult2mes</td>\n",
       "      <td>0.003814</td>\n",
       "    </tr>\n",
       "    <tr>\n",
       "      <th>22</th>\n",
       "      <td>condicion_std_ult1mes</td>\n",
       "      <td>0.003844</td>\n",
       "    </tr>\n",
       "    <tr>\n",
       "      <th>29</th>\n",
       "      <td>estadocontribuyente_mode</td>\n",
       "      <td>0.004231</td>\n",
       "    </tr>\n",
       "    <tr>\n",
       "      <th>7</th>\n",
       "      <td>RIESGO_DIRECTO_std_ult6mes</td>\n",
       "      <td>0.004504</td>\n",
       "    </tr>\n",
       "    <tr>\n",
       "      <th>1</th>\n",
       "      <td>RIESGO_DIRECTO_std_ult12mes</td>\n",
       "      <td>0.004683</td>\n",
       "    </tr>\n",
       "  </tbody>\n",
       "</table>\n",
       "</div>"
      ],
      "text/plain": [
       "                                    index         0\n",
       "28                            codvia_mode  0.000700\n",
       "13                      saldo_std_ult4mes  0.000720\n",
       "11               tipo_credito_std_ult4mes  0.000734\n",
       "33                  tipcontribuyente_mode  0.000897\n",
       "6                       saldo_std_ult6mes  0.000904\n",
       "14   COD_CLASIFICACION_DEUDOR_std_ult3mes  0.000912\n",
       "16                      saldo_std_ult3mes  0.000992\n",
       "35                condiciondomicilio_mode  0.001082\n",
       "12             RIESGO_DIRECTO_std_ult4mes  0.001093\n",
       "21               tipo_credito_std_ult2mes  0.001117\n",
       "4   COD_CLASIFICACION_DEUDOR_std_ult12mes  0.001147\n",
       "9                   condicion_std_ult5mes  0.001222\n",
       "25             RIESGO_DIRECTO_std_ult1mes  0.001457\n",
       "31                 codentidadtributo_mode  0.001810\n",
       "15             RIESGO_DIRECTO_std_ult3mes  0.001941\n",
       "2                      saldo_std_ult12mes  0.001957\n",
       "30                     estadotributo_mode  0.001977\n",
       "34                           fecalta_mean  0.002027\n",
       "8              RIESGO_DIRECTO_std_ult5mes  0.002178\n",
       "23               tipo_credito_std_ult1mes  0.002209\n",
       "18   COD_CLASIFICACION_DEUDOR_std_ult2mes  0.002227\n",
       "0                    PRODUCTO_min_ult4mes  0.002345\n",
       "5               tipo_credito_std_ult12mes  0.002364\n",
       "17                  condicion_std_ult2mes  0.002451\n",
       "3                  condicion_std_ult12mes  0.002478\n",
       "19                      saldo_std_ult2mes  0.002590\n",
       "32                            ubigeo_mode  0.002791\n",
       "24   COD_CLASIFICACION_DEUDOR_std_ult1mes  0.003032\n",
       "26                      saldo_std_ult1mes  0.003114\n",
       "10                      saldo_std_ult5mes  0.003564\n",
       "27                              ciiu_mode  0.003711\n",
       "20             RIESGO_DIRECTO_std_ult2mes  0.003814\n",
       "22                  condicion_std_ult1mes  0.003844\n",
       "29               estadocontribuyente_mode  0.004231\n",
       "7              RIESGO_DIRECTO_std_ult6mes  0.004504\n",
       "1             RIESGO_DIRECTO_std_ult12mes  0.004683"
      ]
     },
     "execution_count": 114,
     "metadata": {},
     "output_type": "execute_result"
    }
   ],
   "source": [
    "fi = pd.read_pickle('fi_catboost.pkl')\n",
    "fi.loc[train[features_importances_250_catboost].isna().sum().sort_values().tail(36).index].reset_index().sort_values(0)"
   ]
  },
  {
   "cell_type": "code",
   "execution_count": 115,
   "metadata": {
    "scrolled": true
   },
   "outputs": [
    {
     "data": {
      "text/plain": [
       "saldo_mean_ult5mes                            0.000969\n",
       "tipo_credito_10_saldo_ult6meses               0.000963\n",
       "saldo_max_ult3mes                             0.000960\n",
       "condicion_3_saldo_ult3meses                   0.000933\n",
       "tipo_credito_12_saldo_ult5meses               0.000919\n",
       "COD_CLASIFICACION_DEUDOR_std_ult3mes          0.000912\n",
       "tipo_credito_mode_ult5mes_me                  0.000908\n",
       "saldo_std_ult6mes                             0.000904\n",
       "tipo_credito_10_saldo_ult3meses               0.000899\n",
       "tipcontribuyente_mode                         0.000897\n",
       "tipo_credito_12_saldo_ult4meses               0.000884\n",
       "saldo_max_ult5mes                             0.000873\n",
       "saldo_sum_ult4mes                             0.000871\n",
       "tipo_credito_10_saldo_ult4meses               0.000861\n",
       "condicion_0_saldo_ult4meses                   0.000855\n",
       "COD_CLASIFICACION_DEUDOR_max_ult4mes          0.000850\n",
       "tipo_credito_mode_ult12mes_me                 0.000832\n",
       "PRODUCTO_nunique_ult6mes                      0.000824\n",
       "RIESGO_DIRECTO_2_saldo_ult12meses             0.000817\n",
       "COD_CLASIFICACION_DEUDOR_sum_ult6mes          0.000806\n",
       "RIESGO_DIRECTO_mean_ult3mes                   0.000806\n",
       "COD_CLASIFICACION_DEUDOR_1_saldo_ult2meses    0.000800\n",
       "tipo_credito_sum_ult5mes                      0.000797\n",
       "RIESGO_DIRECTO_2_saldo_ult5meses              0.000797\n",
       "COD_CLASIFICACION_DEUDOR_1_saldo_ult4meses    0.000792\n",
       "condicion_2_saldo_ult3meses                   0.000790\n",
       "tipo_credito_mode_ult1mes_me                  0.000787\n",
       "RIESGO_DIRECTO_2_saldo_ult1meses              0.000783\n",
       "RIESGO_DIRECTO_-1_saldo_ult6meses             0.000770\n",
       "COD_CLASIFICACION_DEUDOR_mean_ult6mes         0.000761\n",
       "condicion_2_saldo_ult12meses                  0.000750\n",
       "tipo_credito_std_ult4mes                      0.000734\n",
       "saldo_std_ult4mes                             0.000720\n",
       "condicion_sum_ult5mes                         0.000715\n",
       "condicion_9_saldo_ult1meses                   0.000710\n",
       "condicion_3_saldo_ult1meses                   0.000709\n",
       "RIESGO_DIRECTO_sum_ult2mes                    0.000702\n",
       "codvia_mode                                   0.000700\n",
       "PRODUCTO_max_ult6mes                          0.000688\n",
       "COD_CLASIFICACION_DEUDOR_5_saldo_ult5meses    0.000679\n",
       "COD_CLASIFICACION_DEUDOR_1_saldo_ult5meses    0.000676\n",
       "tipo_credito_mean_ult5mes                     0.000674\n",
       "dtype: float64"
      ]
     },
     "execution_count": 115,
     "metadata": {},
     "output_type": "execute_result"
    }
   ],
   "source": [
    "fi[features_importances_250_catboost].sort_values(ascending = False).tail(42)"
   ]
  },
  {
   "cell_type": "code",
   "execution_count": 125,
   "metadata": {},
   "outputs": [
    {
     "data": {
      "text/plain": [
       "207"
      ]
     },
     "execution_count": 125,
     "metadata": {},
     "output_type": "execute_result"
    }
   ],
   "source": [
    "len(set(features_importances_250_catboost).intersection(features_importances_250_lightgbm))"
   ]
  },
  {
   "cell_type": "code",
   "execution_count": null,
   "metadata": {},
   "outputs": [],
   "source": []
  }
 ],
 "metadata": {
  "kernelspec": {
   "display_name": "Python 3",
   "language": "python",
   "name": "python3"
  },
  "language_info": {
   "codemirror_mode": {
    "name": "ipython",
    "version": 3
   },
   "file_extension": ".py",
   "mimetype": "text/x-python",
   "name": "python",
   "nbconvert_exporter": "python",
   "pygments_lexer": "ipython3",
   "version": "3.8.5"
  }
 },
 "nbformat": 4,
 "nbformat_minor": 4
}
