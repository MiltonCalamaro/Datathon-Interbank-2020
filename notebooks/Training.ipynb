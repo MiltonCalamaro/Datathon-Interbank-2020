{
 "cells": [
  {
   "cell_type": "code",
   "execution_count": 1,
   "metadata": {},
   "outputs": [],
   "source": [
    "import pandas as pd\n",
    "import gc\n",
    "sunat_train=pd.read_csv('../data/intermediate/sunat_train.csv', index_col = 'key_value')\n",
    "sunat_test=pd.read_csv('../data/intermediate/sunat_test.csv', index_col = 'key_value')\n",
    "censo_train=pd.read_csv('../data/intermediate/censo_train.csv', index_col = 'key_value')\n",
    "censo_test=pd.read_csv('../data/intermediate/censo_test.csv', index_col = 'key_value')\n",
    "se_train=pd.read_csv('../data/intermediate/se_train.csv', index_col = 'key_value')\n",
    "se_test=pd.read_csv('../data/intermediate/se_test.csv', index_col = 'key_value')\n",
    "rcc_train=pd.read_csv('../data/intermediate/rcc_train.csv', index_col = 'key_value')\n",
    "rcc_test=pd.read_csv('../data/intermediate/rcc_test.csv', index_col = 'key_value')\n",
    "y_train = pd.read_csv('../data/y_train.csv', index_col = 'key_value')"
   ]
  },
  {
   "cell_type": "code",
   "execution_count": 5,
   "metadata": {},
   "outputs": [],
   "source": [
    "train = rcc_train.join(sunat_train).join(censo_train).join(se_train)\n",
    "test = rcc_test.join(sunat_test).join(censo_test).join(se_test)\n",
    "del rcc_train, sunat_train, censo_train, se_train, rcc_test, sunat_test, censo_test, se_test"
   ]
  },
  {
   "cell_type": "code",
   "execution_count": 7,
   "metadata": {},
   "outputs": [
    {
     "data": {
      "text/plain": [
       "(0, 0)"
      ]
     },
     "execution_count": 7,
     "metadata": {},
     "output_type": "execute_result"
    }
   ],
   "source": [
    "keep_cols = list(set(train.columns).intersection(set(test.columns)))\n",
    "train = train[keep_cols].copy()\n",
    "test = test[keep_cols].copy()\n",
    "len(set(train.columns) - set(test.columns)) , len(set(test.columns) - set(train.columns))"
   ]
  },
  {
   "cell_type": "code",
   "execution_count": 8,
   "metadata": {},
   "outputs": [],
   "source": [
    "import re\n",
    "test = test.rename(columns = lambda x:re.sub('[^A-Za-z0-9_-]+', '', x))\n",
    "train = train.rename(columns = lambda x:re.sub('[^A-Za-z0-9_-]+', '', x))"
   ]
  },
  {
   "cell_type": "code",
   "execution_count": 9,
   "metadata": {},
   "outputs": [
    {
     "data": {
      "text/plain": [
       "((358487, 423), (396666, 423))"
      ]
     },
     "execution_count": 9,
     "metadata": {},
     "output_type": "execute_result"
    }
   ],
   "source": [
    "train.shape, test.shape"
   ]
  },
  {
   "cell_type": "code",
   "execution_count": 13,
   "metadata": {},
   "outputs": [],
   "source": [
    "#Función para obtener variables con alta correlación\n",
    "def get_correlated(data, cut=0.85):\n",
    "    correlated_features = set()\n",
    "    correlation_matrix = data.corr()\n",
    "    \n",
    "    for i in range(len(correlation_matrix .columns)):\n",
    "        for j in range(i):\n",
    "            if abs(correlation_matrix.iloc[i, j]) > cut:\n",
    "                colname = correlation_matrix.columns[i]\n",
    "                correlated_features.add(colname)\n",
    "            \n",
    "    return correlated_features\n",
    "\n",
    "correlated=get_correlated(train,cut=0.9)\n",
    "train=train.drop(columns=correlated)\n",
    "test= test.drop(columns=correlated)"
   ]
  },
  {
   "cell_type": "code",
   "execution_count": 10,
   "metadata": {},
   "outputs": [
    {
     "name": "stdout",
     "output_type": "stream",
     "text": [
      "********** 0 **********\n",
      "Learning rate set to 0.128212\n",
      "0:\ttest: 0.7719351\ttest1: 0.7776888\tbest: 0.7776888 (0)\ttotal: 328ms\tremaining: 5m 27s\n",
      "50:\ttest: 0.8441649\ttest1: 0.8436466\tbest: 0.8436466 (50)\ttotal: 13.8s\tremaining: 4m 16s\n",
      "100:\ttest: 0.8551711\ttest1: 0.8533679\tbest: 0.8533679 (100)\ttotal: 27s\tremaining: 4m\n",
      "150:\ttest: 0.8621038\ttest1: 0.8584098\tbest: 0.8584098 (150)\ttotal: 39.9s\tremaining: 3m 44s\n",
      "200:\ttest: 0.8668263\ttest1: 0.8609768\tbest: 0.8609768 (200)\ttotal: 52.5s\tremaining: 3m 28s\n",
      "250:\ttest: 0.8701976\ttest1: 0.8624172\tbest: 0.8624172 (250)\ttotal: 1m 4s\tremaining: 3m 12s\n",
      "300:\ttest: 0.8730020\ttest1: 0.8633368\tbest: 0.8633368 (300)\ttotal: 1m 16s\tremaining: 2m 57s\n",
      "350:\ttest: 0.8757292\ttest1: 0.8641373\tbest: 0.8641373 (350)\ttotal: 1m 28s\tremaining: 2m 44s\n",
      "400:\ttest: 0.8780151\ttest1: 0.8646271\tbest: 0.8646327 (399)\ttotal: 1m 40s\tremaining: 2m 30s\n",
      "450:\ttest: 0.8800055\ttest1: 0.8650634\tbest: 0.8650634 (450)\ttotal: 1m 52s\tremaining: 2m 16s\n",
      "500:\ttest: 0.8820701\ttest1: 0.8655033\tbest: 0.8655033 (500)\ttotal: 2m 3s\tremaining: 2m 3s\n",
      "550:\ttest: 0.8840725\ttest1: 0.8660355\tbest: 0.8660355 (550)\ttotal: 2m 15s\tremaining: 1m 50s\n",
      "600:\ttest: 0.8858423\ttest1: 0.8663628\tbest: 0.8663728 (597)\ttotal: 2m 27s\tremaining: 1m 38s\n",
      "650:\ttest: 0.8877330\ttest1: 0.8667880\tbest: 0.8668001 (646)\ttotal: 2m 39s\tremaining: 1m 25s\n",
      "Stopped by overfitting detector  (10 iterations wait)\n",
      "\n",
      "bestTest = 0.8669224631\n",
      "bestIteration = 682\n",
      "\n",
      "Shrink model to first 683 iterations.\n",
      "********** 1 **********\n",
      "Learning rate set to 0.128212\n",
      "0:\ttest: 0.7730550\ttest1: 0.7740554\tbest: 0.7740554 (0)\ttotal: 278ms\tremaining: 4m 37s\n",
      "50:\ttest: 0.8438964\ttest1: 0.8417696\tbest: 0.8417696 (50)\ttotal: 13.8s\tremaining: 4m 17s\n",
      "100:\ttest: 0.8551509\ttest1: 0.8524437\tbest: 0.8524437 (100)\ttotal: 27s\tremaining: 4m\n",
      "150:\ttest: 0.8619441\ttest1: 0.8579820\tbest: 0.8579820 (150)\ttotal: 40.2s\tremaining: 3m 46s\n",
      "200:\ttest: 0.8666993\ttest1: 0.8609124\tbest: 0.8609124 (200)\ttotal: 52.9s\tremaining: 3m 30s\n",
      "250:\ttest: 0.8699398\ttest1: 0.8622402\tbest: 0.8622402 (250)\ttotal: 1m 4s\tremaining: 3m 13s\n",
      "300:\ttest: 0.8726033\ttest1: 0.8631935\tbest: 0.8632082 (298)\ttotal: 1m 16s\tremaining: 2m 57s\n",
      "Stopped by overfitting detector  (10 iterations wait)\n",
      "\n",
      "bestTest = 0.8632082383\n",
      "bestIteration = 298\n",
      "\n",
      "Shrink model to first 299 iterations.\n",
      "********** 2 **********\n",
      "Learning rate set to 0.128212\n",
      "0:\ttest: 0.7624700\ttest1: 0.7701098\tbest: 0.7701098 (0)\ttotal: 247ms\tremaining: 4m 6s\n",
      "50:\ttest: 0.8428140\ttest1: 0.8468377\tbest: 0.8468377 (50)\ttotal: 13.8s\tremaining: 4m 17s\n",
      "100:\ttest: 0.8536926\ttest1: 0.8557877\tbest: 0.8557877 (100)\ttotal: 27s\tremaining: 4m\n",
      "150:\ttest: 0.8614186\ttest1: 0.8615118\tbest: 0.8615118 (150)\ttotal: 40s\tremaining: 3m 44s\n",
      "200:\ttest: 0.8660680\ttest1: 0.8641265\tbest: 0.8641265 (200)\ttotal: 52.4s\tremaining: 3m 28s\n",
      "250:\ttest: 0.8696474\ttest1: 0.8658113\tbest: 0.8658113 (250)\ttotal: 1m 4s\tremaining: 3m 13s\n",
      "300:\ttest: 0.8721857\ttest1: 0.8666290\tbest: 0.8666290 (300)\ttotal: 1m 16s\tremaining: 2m 57s\n",
      "350:\ttest: 0.8746702\ttest1: 0.8673998\tbest: 0.8673998 (350)\ttotal: 1m 28s\tremaining: 2m 43s\n",
      "400:\ttest: 0.8771039\ttest1: 0.8681173\tbest: 0.8681216 (399)\ttotal: 1m 40s\tremaining: 2m 29s\n",
      "450:\ttest: 0.8794227\ttest1: 0.8686788\tbest: 0.8686788 (450)\ttotal: 1m 52s\tremaining: 2m 16s\n",
      "500:\ttest: 0.8815355\ttest1: 0.8690282\tbest: 0.8690282 (500)\ttotal: 2m 4s\tremaining: 2m 3s\n",
      "Stopped by overfitting detector  (10 iterations wait)\n",
      "\n",
      "bestTest = 0.8692394514\n",
      "bestIteration = 539\n",
      "\n",
      "Shrink model to first 540 iterations.\n",
      "********** 3 **********\n",
      "Learning rate set to 0.128212\n",
      "0:\ttest: 0.7810481\ttest1: 0.7804658\tbest: 0.7804658 (0)\ttotal: 271ms\tremaining: 4m 30s\n",
      "50:\ttest: 0.8434533\ttest1: 0.8428243\tbest: 0.8428243 (50)\ttotal: 13.5s\tremaining: 4m 11s\n",
      "100:\ttest: 0.8540743\ttest1: 0.8525567\tbest: 0.8525567 (100)\ttotal: 26.7s\tremaining: 3m 57s\n",
      "150:\ttest: 0.8619241\ttest1: 0.8588959\tbest: 0.8588959 (150)\ttotal: 40.1s\tremaining: 3m 45s\n",
      "200:\ttest: 0.8664226\ttest1: 0.8614218\tbest: 0.8614229 (199)\ttotal: 52.7s\tremaining: 3m 29s\n",
      "250:\ttest: 0.8699849\ttest1: 0.8633023\tbest: 0.8633023 (250)\ttotal: 1m 4s\tremaining: 3m 13s\n",
      "300:\ttest: 0.8730039\ttest1: 0.8644010\tbest: 0.8644010 (300)\ttotal: 1m 16s\tremaining: 2m 58s\n",
      "350:\ttest: 0.8755383\ttest1: 0.8651962\tbest: 0.8651962 (350)\ttotal: 1m 28s\tremaining: 2m 44s\n",
      "400:\ttest: 0.8779225\ttest1: 0.8657764\tbest: 0.8657899 (396)\ttotal: 1m 40s\tremaining: 2m 30s\n",
      "450:\ttest: 0.8800211\ttest1: 0.8661684\tbest: 0.8662051 (441)\ttotal: 1m 51s\tremaining: 2m 16s\n",
      "Stopped by overfitting detector  (10 iterations wait)\n",
      "\n",
      "bestTest = 0.866205068\n",
      "bestIteration = 441\n",
      "\n",
      "Shrink model to first 442 iterations.\n",
      "********** 4 **********\n",
      "Learning rate set to 0.128212\n",
      "0:\ttest: 0.7757389\ttest1: 0.7629962\tbest: 0.7629962 (0)\ttotal: 278ms\tremaining: 4m 37s\n",
      "50:\ttest: 0.8457071\ttest1: 0.8360361\tbest: 0.8360361 (50)\ttotal: 13.9s\tremaining: 4m 18s\n",
      "100:\ttest: 0.8573319\ttest1: 0.8459339\tbest: 0.8459339 (100)\ttotal: 27.4s\tremaining: 4m 4s\n",
      "150:\ttest: 0.8642540\ttest1: 0.8505707\tbest: 0.8505707 (150)\ttotal: 40.4s\tremaining: 3m 47s\n",
      "200:\ttest: 0.8688691\ttest1: 0.8531725\tbest: 0.8531725 (200)\ttotal: 53.1s\tremaining: 3m 31s\n",
      "250:\ttest: 0.8724189\ttest1: 0.8546199\tbest: 0.8546199 (250)\ttotal: 1m 5s\tremaining: 3m 15s\n",
      "300:\ttest: 0.8751074\ttest1: 0.8554887\tbest: 0.8554887 (300)\ttotal: 1m 17s\tremaining: 2m 59s\n",
      "350:\ttest: 0.8772986\ttest1: 0.8561321\tbest: 0.8561370 (349)\ttotal: 1m 29s\tremaining: 2m 45s\n",
      "400:\ttest: 0.8795206\ttest1: 0.8565276\tbest: 0.8565276 (400)\ttotal: 1m 41s\tremaining: 2m 31s\n",
      "Stopped by overfitting detector  (10 iterations wait)\n",
      "\n",
      "bestTest = 0.8567937379\n",
      "bestIteration = 421\n",
      "\n",
      "Shrink model to first 422 iterations.\n",
      "*********************\n",
      "roc auc estimado:  0.8644976997641922\n"
     ]
    }
   ],
   "source": [
    "\n",
    "# !pip install catboost\n",
    "from catboost import CatBoostClassifier\n",
    "from sklearn.metrics import roc_auc_score\n",
    "from sklearn.model_selection import KFold\n",
    "\n",
    "folds = [train.index[t] for t, v in KFold(5).split(train)]\n",
    "test_probs = []\n",
    "train_probs = []\n",
    "fi = []\n",
    "for i, idx in enumerate(folds):\n",
    "    print(\"*\"*10, i, \"*\"*10)\n",
    "    Xt = train.loc[idx]\n",
    "    yt = y_train.loc[Xt.index]\n",
    "\n",
    "    Xv = train.drop(Xt.index)\n",
    "    yv = y_train.loc[Xv.index]\n",
    "    \n",
    "    learner = CatBoostClassifier(n_estimators=1000, depth = 6, eval_metric = 'AUC' )\n",
    "    learner.fit(Xt, yt,  early_stopping_rounds=10,\n",
    "                eval_set=[(Xt, yt), (Xv, yv)], verbose=50)\n",
    "    test_probs.append(pd.Series(learner.predict_proba(test)[:, -1], index=test.index, name=\"fold_\" + str(i)))\n",
    "    train_probs.append(pd.Series(learner.predict_proba(Xv)[:, -1], index=Xv.index, name=\"probs\"))\n",
    "    fi.append(pd.Series(learner.feature_importances_ / learner.feature_importances_.sum(), index=Xt.columns))\n",
    "          \n",
    "test_probs = pd.concat(test_probs, axis=1).mean(axis=1)\n",
    "train_probs = pd.concat(train_probs)\n",
    "fi = pd.concat(fi, axis=1).mean(axis=1)\n",
    "\n",
    "print(\"*\" * 21)\n",
    "print(\"roc auc estimado: \", roc_auc_score(y_train, train_probs.loc[y_train.index]))"
   ]
  },
  {
   "cell_type": "code",
   "execution_count": 11,
   "metadata": {},
   "outputs": [
    {
     "data": {
      "text/plain": [
       "COD_CLASIFICACION_DEUDOR_5_ult1meses     0.242175\n",
       "PRODUCTO_1_ult1meses                     0.046863\n",
       "RIESGO_DIRECTO_2_ult1meses               0.024061\n",
       "tipo_credito_11_ult1meses                0.023594\n",
       "RIESGO_DIRECTO_-1_ult12meses             0.020768\n",
       "COD_CLASIFICACION_DEUDOR_1_ult3meses     0.020171\n",
       "PRODUCTO_8_ult12meses                    0.016683\n",
       "matpar4                                  0.015890\n",
       "cod_instit_financiera_32_ult6meses       0.015483\n",
       "hig6                                     0.014597\n",
       "COD_CLASIFICACION_DEUDOR_0_ult1meses     0.014344\n",
       "PRODUCTO_0_ult6meses                     0.013857\n",
       "PRODUCTO_3_ult6meses                     0.013134\n",
       "tipo_credito_12_ult1meses                0.011626\n",
       "edad                                     0.011025\n",
       "tip_lvledu                               0.010455\n",
       "tipo_credito_12_ult3meses                0.010264\n",
       "cod_instit_financiera_61_ult1meses       0.009679\n",
       "cod_instit_financiera_55_ult12meses      0.009525\n",
       "PRODUCTO_6_ult12meses                    0.009067\n",
       "hig7                                     0.008849\n",
       "RIESGO_DIRECTO_1_ult12meses              0.008728\n",
       "cod_instit_financiera_33_ult1meses       0.008457\n",
       "sexo                                     0.008235\n",
       "tipo_credito_11_ult12meses               0.008154\n",
       "condicion_1_ult1meses                    0.008090\n",
       "refteno                                  0.007869\n",
       "zon_sis                                  0.007687\n",
       "PRODUCTO_4_ult1meses                     0.007681\n",
       "cod_ubi                                  0.007501\n",
       "agundia5                                 0.007418\n",
       "PRODUCTO_11_ult1meses                    0.007213\n",
       "COD_CLASIFICACION_DEUDOR_3_ult12meses    0.006997\n",
       "cod_instit_financiera_8_ult1meses        0.006698\n",
       "PRODUCTO_29_ult1meses                    0.006670\n",
       "COD_CLASIFICACION_DEUDOR_3_ult3meses     0.006361\n",
       "flg_sin_email                            0.006081\n",
       "mattec6                                  0.005616\n",
       "PRODUCTO_6_ult3meses                     0.005475\n",
       "cod_instit_financiera_33_ult3meses       0.005316\n",
       "lee_no                                   0.005312\n",
       "cod_instit_financiera_37_ult1meses       0.005304\n",
       "cod_instit_financiera_1_ult1meses        0.005203\n",
       "condicion_1_ult3meses                    0.005142\n",
       "cod_instit_financiera_10_ult1meses       0.005142\n",
       "RIESGO_DIRECTO_3_ult1meses               0.005098\n",
       "PRODUCTO_15_ult3meses                    0.005018\n",
       "PRODUCTO_2_ult1meses                     0.005012\n",
       "COD_CLASIFICACION_DEUDOR_4_ult1meses     0.004982\n",
       "dehogar8                                 0.004838\n",
       "dtype: float64"
      ]
     },
     "execution_count": 11,
     "metadata": {},
     "output_type": "execute_result"
    }
   ],
   "source": [
    "fi.sort_values(ascending=False).head(50)#.plot.bar(figsize=(15,10))"
   ]
  },
  {
   "cell_type": "code",
   "execution_count": 12,
   "metadata": {},
   "outputs": [],
   "source": [
    "test_probs.name = \"target\"\n",
    "test_probs.to_csv(\"../results/test5.csv\")"
   ]
  },
  {
   "cell_type": "code",
   "execution_count": null,
   "metadata": {},
   "outputs": [],
   "source": []
  },
  {
   "cell_type": "code",
   "execution_count": 16,
   "metadata": {},
   "outputs": [
    {
     "name": "stdout",
     "output_type": "stream",
     "text": [
      "Learning rate set to 0.126968\n",
      "0:\ttotal: 311ms\tremaining: 5m 10s\n",
      "50:\ttotal: 15.1s\tremaining: 4m 41s\n",
      "100:\ttotal: 29.5s\tremaining: 4m 22s\n",
      "150:\ttotal: 43.7s\tremaining: 4m 5s\n",
      "200:\ttotal: 58s\tremaining: 3m 50s\n",
      "250:\ttotal: 1m 11s\tremaining: 3m 32s\n",
      "300:\ttotal: 1m 24s\tremaining: 3m 15s\n",
      "350:\ttotal: 1m 36s\tremaining: 2m 57s\n",
      "400:\ttotal: 1m 49s\tremaining: 2m 43s\n",
      "450:\ttotal: 2m 1s\tremaining: 2m 28s\n",
      "500:\ttotal: 2m 14s\tremaining: 2m 13s\n",
      "550:\ttotal: 2m 27s\tremaining: 1m 59s\n",
      "600:\ttotal: 2m 40s\tremaining: 1m 46s\n",
      "650:\ttotal: 2m 53s\tremaining: 1m 32s\n",
      "700:\ttotal: 3m 5s\tremaining: 1m 19s\n",
      "750:\ttotal: 3m 18s\tremaining: 1m 5s\n",
      "800:\ttotal: 3m 30s\tremaining: 52.3s\n",
      "850:\ttotal: 3m 42s\tremaining: 39s\n",
      "900:\ttotal: 3m 55s\tremaining: 25.8s\n",
      "950:\ttotal: 4m 7s\tremaining: 12.8s\n",
      "999:\ttotal: 4m 19s\tremaining: 0us\n"
     ]
    },
    {
     "data": {
      "text/plain": [
       "<catboost.core.CatBoostClassifier at 0x7f5c22201710>"
      ]
     },
     "execution_count": 16,
     "metadata": {},
     "output_type": "execute_result"
    }
   ],
   "source": [
    "learner_ = CatBoostClassifier(n_estimators=1000, eval_metric = 'AUC' )\n",
    "learner_.fit(train, y_train,  early_stopping_rounds=10, verbose = 50)"
   ]
  },
  {
   "cell_type": "code",
   "execution_count": 17,
   "metadata": {},
   "outputs": [
    {
     "data": {
      "text/plain": [
       "COD_CLASIFICACION_DEUDOR_5_ult1meses    0.218058\n",
       "PRODUCTO_1_ult1meses                    0.048196\n",
       "agudia2                                 0.029495\n",
       "tipo_credito_11_ult1meses               0.024733\n",
       "matpar6                                 0.024339\n",
       "RIESGO_DIRECTO_-1_ult12meses            0.020225\n",
       "PRODUCTO_0_ult6meses                    0.017559\n",
       "profe_9                                 0.017491\n",
       "RIESGO_DIRECTO_2_ult1meses              0.017163\n",
       "COD_CLASIFICACION_DEUDOR_1_ult3meses    0.016437\n",
       "PRODUCTO_8_ult12meses                   0.016366\n",
       "cod_instit_financiera_32_ult6meses      0.015005\n",
       "PRODUCTO_3_ult6meses                    0.013838\n",
       "COD_CLASIFICACION_DEUDOR_0_ult1meses    0.013645\n",
       "tipo_credito_12_ult1meses               0.013333\n",
       "edad                                    0.012803\n",
       "acteco4                                 0.012589\n",
       "tip_lvledu                              0.010941\n",
       "cod_instit_financiera_55_ult12meses     0.010147\n",
       "cod_instit_financiera_61_ult1meses      0.009993\n",
       "cod_instit_financiera_33_ult1meses      0.009747\n",
       "RIESGO_DIRECTO_1_ult12meses             0.009234\n",
       "PRODUCTO_4_ult1meses                    0.009047\n",
       "matpis6                                 0.008901\n",
       "PRODUCTO_6_ult12meses                   0.008483\n",
       "tipo_credito_12_ult3meses               0.008106\n",
       "PRODUCTO_1_ult6meses                    0.007598\n",
       "sexo                                    0.007379\n",
       "cod_ubi                                 0.007315\n",
       "PRODUCTO_11_ult1meses                   0.007022\n",
       "condicion_1_ult1meses                   0.006908\n",
       "PRODUCTO_2_ult1meses                    0.006854\n",
       "PRODUCTO_6_ult3meses                    0.006843\n",
       "cod_instit_financiera_8_ult1meses       0.006755\n",
       "cod_instit_financiera_10_ult1meses      0.006653\n",
       "PRODUCTO_7_ult1meses                    0.006453\n",
       "flg_sin_email                           0.006016\n",
       "tipo_credito_11_ult12meses              0.005956\n",
       "RIESGO_DIRECTO_2_ult6meses              0.005866\n",
       "matpis3                                 0.005835\n",
       "PRODUCTO_15_ult3meses                   0.005812\n",
       "cod_instit_financiera_1_ult1meses       0.005772\n",
       "COD_CLASIFICACION_DEUDOR_3_ult3meses    0.005707\n",
       "PRODUCTO_29_ult1meses                   0.005695\n",
       "prv                                     0.005681\n",
       "sit_lab                                 0.005535\n",
       "cod_instit_financiera_37_ult1meses      0.005489\n",
       "cod_instit_financiera_34_ult1meses      0.005002\n",
       "dehogar2                                0.004909\n",
       "PRODUCTO_13_ult3meses                   0.004862\n",
       "dtype: float64"
      ]
     },
     "execution_count": 17,
     "metadata": {},
     "output_type": "execute_result"
    }
   ],
   "source": [
    "fi_ = pd.Series(learner_.feature_importances_ / learner_.feature_importances_.sum(), index=train.columns)\n",
    "fi_.sort_values(ascending=False).head(50)"
   ]
  },
  {
   "cell_type": "code",
   "execution_count": 18,
   "metadata": {},
   "outputs": [],
   "source": [
    "test_probs_ = pd.Series(learner_.predict_proba(test)[:, -1], index=test.index, name=\"target\")"
   ]
  },
  {
   "cell_type": "code",
   "execution_count": 19,
   "metadata": {},
   "outputs": [
    {
     "data": {
      "text/plain": [
       "<matplotlib.axes._subplots.AxesSubplot at 0x7f5caf79d050>"
      ]
     },
     "execution_count": 19,
     "metadata": {},
     "output_type": "execute_result"
    },
    {
     "data": {
      "image/png": "[encoded data removed]",
      "text/plain": [
       "<Figure size 432x288 with 1 Axes>"
      ]
     },
     "metadata": {
      "needs_background": "light"
     },
     "output_type": "display_data"
    }
   ],
   "source": [
    "test_probs_.hist(bins = 200)\n",
    "test_probs.hist(bins = 200)"
   ]
  },
  {
   "cell_type": "code",
   "execution_count": 21,
   "metadata": {},
   "outputs": [],
   "source": [
    "test_probs_.name = \"target\"\n",
    "test_probs_.to_csv(\"../results/test5_v2.csv\")"
   ]
  }
 ],
 "metadata": {
  "kernelspec": {
   "display_name": "Python 3",
   "language": "python",
   "name": "python3"
  },
  "language_info": {
   "codemirror_mode": {
    "name": "ipython",
    "version": 3
   },
   "file_extension": ".py",
   "mimetype": "text/x-python",
   "name": "python",
   "nbconvert_exporter": "python",
   "pygments_lexer": "ipython3",
   "version": "3.7.6"
  }
 },
 "nbformat": 4,
 "nbformat_minor": 4
}
